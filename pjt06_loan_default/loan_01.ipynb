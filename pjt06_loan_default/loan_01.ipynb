{
 "cells": [
  {
   "cell_type": "markdown",
   "id": "d5e1466d-e764-4a35-837e-c8b21cbf30e7",
   "metadata": {},
   "source": [
    "## kaggle : All Lending Club loan data\n",
    "- 세계 최대 P2P 대출 플랫폼인 LendingClub의 대출 신청자 정보\n",
    "- 목표: 과거 대출 기록(채무 불이행 여부 포함)을 기반으로 채무 불이행 가능성이 있는 고객을 식별하여 회사의 신용 손실을 최소화\n",
    "- 데이터셋: 대출 금액, 이자율, 소득, 주택 소유 상태 등 신청자의 다양한 재무 및 개인 정보가 포함\n",
    "- 컬럼 151개, 데이터(행) 2,260,701개\n",
    "- https://www.kaggle.com/datasets/wordsforthewise/lending-club/data"
   ]
  },
  {
   "cell_type": "code",
   "execution_count": null,
   "id": "38fed355-738f-4ee8-9990-938c278e8b61",
   "metadata": {},
   "outputs": [],
   "source": []
  },
  {
   "cell_type": "markdown",
   "id": "60c711b3-122a-4f8a-91ed-6f0766c388e8",
   "metadata": {},
   "source": [
    "LendingClub: 도시 고객들에게 다양한 유형의 대출을 전문적으로 제공하는 회사\n",
    "- 은행 및 금융 서비스 분야의 위험 분석(Risk Analytics)\n",
    "- 고객에게 대출금을 빌려주는 동안 손실 위험을 최소화하는 데 데이터를 어떻게 사용할지가 중점\n",
    "\n",
    "\n",
    "회사가 대출 신청을 받으면, 신청자의 프로필을 기반으로 대출 승인 여부를 결정\n",
    "- 만약 신청자가 대출금을 상환할 가능성이 높다면, 대출을 승인하지 않는 것은 회사에 사업 기회 손실을 가져옴\n",
    "- 만약 신청자가 대출금을 상환할 가능성이 낮다면(즉, 채무 불이행(부도) 가능성이 높다면), 대출을 승인하는 것은 회사에 재정적 손실을 초래 가능\n",
    "<br>\n",
    "\n",
    "데이터\n",
    "- 과거 대출 신청자들에 대한 정보와 그들이 '채무 불이행(부도)'을 했는지 여부\n",
    "- 목표: 어떤 사람이 채무 불이행할 가능성이 있는지를 나타내는 패턴을 식별하는 것\n",
    "- -> 패턴을 활용: 대출 거부, 대출 금액 축소, (위험한 신청자에게) 더 높은 이자율로 대출해 주는 등의 조치 취함 등\n",
    "<br>\n",
    "\n",
    "개인이 대출을 신청할 때, 회사가 취할 수 있는 결정\n",
    "1. 대출 승인 (Loan accepted) : 아래 3가지 시나리오 가능\n",
    "- 완전히 상환됨 (Fully Paid): 신청자가 대출금(원금 및 이자)을 전액 상환\n",
    "- 현재 상환 중 (Current): 신청자가 현재 할부금을 납부하고 있는 중이며, 대출 기간이 아직 끝나지 않음. 이들은 '채무 불이행자'로 분류되지 않음.\n",
    "- 대손 처리됨 (Charged-off): 신청자가 장기간 제때 할부금을 납부하지 않아 채무 불이행(부도) 상태가 됨\n",
    "2. 대출 거부 (Loan rejected)\n",
    "- 회사가 대출을 거부한 경우(예: 신청자가 요구 사항을 충족하지 못함 등)\n",
    "- 대출이 거부되었기 때문에 해당 신청자들과의 거래 내역이 회사에는 없으므로, 이 데이터는 회사에(그리고 이 데이터셋에도) 포함되어 있지 않음"
   ]
  },
  {
   "cell_type": "markdown",
   "id": "bd893a05-e1a3-4800-aa82-c91ba97ca81f",
   "metadata": {},
   "source": [
    "🎯 비즈니스 목표 (Business Objectives)\n",
    "- LendingClub은 개인 대출, 사업 대출, 의료 시술 자금 조달 등을 용이하게 하는 가장 큰 온라인 대출 시장입니다. 대출자들은 빠르고 간편한 온라인 인터페이스를 통해 더 낮은 이자율의 대출에 쉽게 접근할 수 있습니다.\n",
    "- 대부분의 다른 대출 회사들과 마찬가지로, '위험한' 신청자들에게 대출을 제공하는 것이 가장 큰 재정적 손실(신용 손실)의 원인입니다. 신용 손실은 대출자가 빚진 돈을 갚기를 거부하거나 돈을 들고 도주했을 때 대출 기관이 잃는 돈의 양을 의미합니다. 다시 말해, 채무 불이행을 하는 대출자들이 대출 기관에게 가장 큰 손실을 입힙니다. 이 사례에서는 '대손 처리됨(charged-off)'으로 분류된 고객들이 '채무 불이행자(defaulters)'입니다.\n",
    "- 만약 이러한 위험한 대출 신청자들을 식별할 수 있다면, 그러한 대출을 줄여 신용 손실액을 줄일 수 있습니다. EDA와 머신러닝을 사용하여 이러한 신청자들을 식별하는 것이 이 사례 연구의 목표입니다.\n",
    "- 즉, 회사는 대출 채무 불이행의 주요 원인(또는 주요 변수)을 이해하고자 합니다. 이는 채무 불이행의 강력한 지표가 되는 변수들을 파악하는 것입니다. 회사는 이 지식을 대출 포트폴리오 및 위험 평가에 활용할 수 있습니다."
   ]
  },
  {
   "cell_type": "code",
   "execution_count": null,
   "id": "f89d3b04-0e39-46f2-9a96-25c8ed1194b9",
   "metadata": {},
   "outputs": [],
   "source": []
  },
  {
   "cell_type": "code",
   "execution_count": 1,
   "id": "de79b3eb-27a4-4607-b0f0-f825556a20c5",
   "metadata": {},
   "outputs": [
    {
     "data": {
      "text/html": [
       "<div>\n",
       "<style scoped>\n",
       "    .dataframe tbody tr th:only-of-type {\n",
       "        vertical-align: middle;\n",
       "    }\n",
       "\n",
       "    .dataframe tbody tr th {\n",
       "        vertical-align: top;\n",
       "    }\n",
       "\n",
       "    .dataframe thead th {\n",
       "        text-align: right;\n",
       "    }\n",
       "</style>\n",
       "<table border=\"1\" class=\"dataframe\">\n",
       "  <thead>\n",
       "    <tr style=\"text-align: right;\">\n",
       "      <th></th>\n",
       "      <th>id</th>\n",
       "      <th>member_id</th>\n",
       "      <th>loan_amnt</th>\n",
       "      <th>funded_amnt</th>\n",
       "      <th>funded_amnt_inv</th>\n",
       "      <th>term</th>\n",
       "      <th>int_rate</th>\n",
       "      <th>installment</th>\n",
       "      <th>grade</th>\n",
       "      <th>sub_grade</th>\n",
       "      <th>...</th>\n",
       "      <th>hardship_payoff_balance_amount</th>\n",
       "      <th>hardship_last_payment_amount</th>\n",
       "      <th>disbursement_method</th>\n",
       "      <th>debt_settlement_flag</th>\n",
       "      <th>debt_settlement_flag_date</th>\n",
       "      <th>settlement_status</th>\n",
       "      <th>settlement_date</th>\n",
       "      <th>settlement_amount</th>\n",
       "      <th>settlement_percentage</th>\n",
       "      <th>settlement_term</th>\n",
       "    </tr>\n",
       "  </thead>\n",
       "  <tbody>\n",
       "    <tr>\n",
       "      <th>0</th>\n",
       "      <td>68407277</td>\n",
       "      <td>NaN</td>\n",
       "      <td>3600.0</td>\n",
       "      <td>3600.0</td>\n",
       "      <td>3600.0</td>\n",
       "      <td>36 months</td>\n",
       "      <td>13.99</td>\n",
       "      <td>123.03</td>\n",
       "      <td>C</td>\n",
       "      <td>C4</td>\n",
       "      <td>...</td>\n",
       "      <td>NaN</td>\n",
       "      <td>NaN</td>\n",
       "      <td>Cash</td>\n",
       "      <td>N</td>\n",
       "      <td>NaN</td>\n",
       "      <td>NaN</td>\n",
       "      <td>NaN</td>\n",
       "      <td>NaN</td>\n",
       "      <td>NaN</td>\n",
       "      <td>NaN</td>\n",
       "    </tr>\n",
       "    <tr>\n",
       "      <th>1</th>\n",
       "      <td>68355089</td>\n",
       "      <td>NaN</td>\n",
       "      <td>24700.0</td>\n",
       "      <td>24700.0</td>\n",
       "      <td>24700.0</td>\n",
       "      <td>36 months</td>\n",
       "      <td>11.99</td>\n",
       "      <td>820.28</td>\n",
       "      <td>C</td>\n",
       "      <td>C1</td>\n",
       "      <td>...</td>\n",
       "      <td>NaN</td>\n",
       "      <td>NaN</td>\n",
       "      <td>Cash</td>\n",
       "      <td>N</td>\n",
       "      <td>NaN</td>\n",
       "      <td>NaN</td>\n",
       "      <td>NaN</td>\n",
       "      <td>NaN</td>\n",
       "      <td>NaN</td>\n",
       "      <td>NaN</td>\n",
       "    </tr>\n",
       "    <tr>\n",
       "      <th>2</th>\n",
       "      <td>68341763</td>\n",
       "      <td>NaN</td>\n",
       "      <td>20000.0</td>\n",
       "      <td>20000.0</td>\n",
       "      <td>20000.0</td>\n",
       "      <td>60 months</td>\n",
       "      <td>10.78</td>\n",
       "      <td>432.66</td>\n",
       "      <td>B</td>\n",
       "      <td>B4</td>\n",
       "      <td>...</td>\n",
       "      <td>NaN</td>\n",
       "      <td>NaN</td>\n",
       "      <td>Cash</td>\n",
       "      <td>N</td>\n",
       "      <td>NaN</td>\n",
       "      <td>NaN</td>\n",
       "      <td>NaN</td>\n",
       "      <td>NaN</td>\n",
       "      <td>NaN</td>\n",
       "      <td>NaN</td>\n",
       "    </tr>\n",
       "    <tr>\n",
       "      <th>3</th>\n",
       "      <td>66310712</td>\n",
       "      <td>NaN</td>\n",
       "      <td>35000.0</td>\n",
       "      <td>35000.0</td>\n",
       "      <td>35000.0</td>\n",
       "      <td>60 months</td>\n",
       "      <td>14.85</td>\n",
       "      <td>829.90</td>\n",
       "      <td>C</td>\n",
       "      <td>C5</td>\n",
       "      <td>...</td>\n",
       "      <td>NaN</td>\n",
       "      <td>NaN</td>\n",
       "      <td>Cash</td>\n",
       "      <td>N</td>\n",
       "      <td>NaN</td>\n",
       "      <td>NaN</td>\n",
       "      <td>NaN</td>\n",
       "      <td>NaN</td>\n",
       "      <td>NaN</td>\n",
       "      <td>NaN</td>\n",
       "    </tr>\n",
       "    <tr>\n",
       "      <th>4</th>\n",
       "      <td>68476807</td>\n",
       "      <td>NaN</td>\n",
       "      <td>10400.0</td>\n",
       "      <td>10400.0</td>\n",
       "      <td>10400.0</td>\n",
       "      <td>60 months</td>\n",
       "      <td>22.45</td>\n",
       "      <td>289.91</td>\n",
       "      <td>F</td>\n",
       "      <td>F1</td>\n",
       "      <td>...</td>\n",
       "      <td>NaN</td>\n",
       "      <td>NaN</td>\n",
       "      <td>Cash</td>\n",
       "      <td>N</td>\n",
       "      <td>NaN</td>\n",
       "      <td>NaN</td>\n",
       "      <td>NaN</td>\n",
       "      <td>NaN</td>\n",
       "      <td>NaN</td>\n",
       "      <td>NaN</td>\n",
       "    </tr>\n",
       "  </tbody>\n",
       "</table>\n",
       "<p>5 rows × 151 columns</p>\n",
       "</div>"
      ],
      "text/plain": [
       "         id  member_id  loan_amnt  funded_amnt  funded_amnt_inv        term  \\\n",
       "0  68407277        NaN     3600.0       3600.0           3600.0   36 months   \n",
       "1  68355089        NaN    24700.0      24700.0          24700.0   36 months   \n",
       "2  68341763        NaN    20000.0      20000.0          20000.0   60 months   \n",
       "3  66310712        NaN    35000.0      35000.0          35000.0   60 months   \n",
       "4  68476807        NaN    10400.0      10400.0          10400.0   60 months   \n",
       "\n",
       "   int_rate  installment grade sub_grade  ... hardship_payoff_balance_amount  \\\n",
       "0     13.99       123.03     C        C4  ...                            NaN   \n",
       "1     11.99       820.28     C        C1  ...                            NaN   \n",
       "2     10.78       432.66     B        B4  ...                            NaN   \n",
       "3     14.85       829.90     C        C5  ...                            NaN   \n",
       "4     22.45       289.91     F        F1  ...                            NaN   \n",
       "\n",
       "  hardship_last_payment_amount disbursement_method  debt_settlement_flag  \\\n",
       "0                          NaN                Cash                     N   \n",
       "1                          NaN                Cash                     N   \n",
       "2                          NaN                Cash                     N   \n",
       "3                          NaN                Cash                     N   \n",
       "4                          NaN                Cash                     N   \n",
       "\n",
       "  debt_settlement_flag_date settlement_status settlement_date  \\\n",
       "0                       NaN               NaN             NaN   \n",
       "1                       NaN               NaN             NaN   \n",
       "2                       NaN               NaN             NaN   \n",
       "3                       NaN               NaN             NaN   \n",
       "4                       NaN               NaN             NaN   \n",
       "\n",
       "  settlement_amount settlement_percentage settlement_term  \n",
       "0               NaN                   NaN             NaN  \n",
       "1               NaN                   NaN             NaN  \n",
       "2               NaN                   NaN             NaN  \n",
       "3               NaN                   NaN             NaN  \n",
       "4               NaN                   NaN             NaN  \n",
       "\n",
       "[5 rows x 151 columns]"
      ]
     },
     "execution_count": 1,
     "metadata": {},
     "output_type": "execute_result"
    }
   ],
   "source": [
    "import pandas as pd\n",
    "\n",
    "data = pd.read_csv('accepted_2007_to_2018Q4.csv', parse_dates=['issue_d'], date_format='%b-%y', low_memory=False)\n",
    "df_c = data.copy()\n",
    "\n",
    "data.head()"
   ]
  },
  {
   "cell_type": "code",
   "execution_count": 2,
   "id": "ac5f13b2-c136-4333-a4d6-83a7e48b08e5",
   "metadata": {},
   "outputs": [
    {
     "name": "stdout",
     "output_type": "stream",
     "text": [
      "<class 'pandas.core.frame.DataFrame'>\n",
      "RangeIndex: 2260701 entries, 0 to 2260700\n",
      "Columns: 151 entries, id to settlement_term\n",
      "dtypes: float64(113), object(38)\n",
      "memory usage: 2.5+ GB\n"
     ]
    }
   ],
   "source": [
    "data.info()"
   ]
  },
  {
   "cell_type": "code",
   "execution_count": 3,
   "id": "ff5582dd-226c-46c4-8fb6-dc4ccc7d0ffe",
   "metadata": {},
   "outputs": [
    {
     "name": "stdout",
     "output_type": "stream",
     "text": [
      "컬럼 정보가 'column_information.csv' 파일로 저장되었습니다.\n"
     ]
    }
   ],
   "source": [
    "# 각 컬럼의 정보 추출\n",
    "column_names = data.columns.tolist()  # 컬럼명 리스트\n",
    "non_null_counts = data.count()        # 각 컬럼의 비결측 데이터 개수 (Series 형태)\n",
    "data_types = data.dtypes              # 각 컬럼의 데이터 타입 (Series 형태)\n",
    "\n",
    "# 정보를 DataFrame으로 결합하여 보기 좋게 출력\n",
    "column_info = pd.DataFrame({\n",
    "    '컬럼명': column_names,\n",
    "    '데이터 개수 (결측치 제외)': [non_null_counts[col] for col in column_names], # Series에서 값을 가져옴\n",
    "    '데이터 타입': [data_types[col] for col in column_names] # Series에서 값을 가져옴\n",
    "})\n",
    "\n",
    "# 이 정보를 CSV 파일로 저장\n",
    "# index=False는 DataFrame의 인덱스를 CSV 파일에 저장하지 않도록 합니다.\n",
    "column_info.to_csv('column_information.csv', index=False, encoding='utf-8-sig')\n",
    "\n",
    "print(\"컬럼 정보가 'column_information.csv' 파일로 저장되었습니다.\")"
   ]
  },
  {
   "cell_type": "code",
   "execution_count": 4,
   "id": "3264de93-ede6-45d6-8a67-5412820597b1",
   "metadata": {},
   "outputs": [
    {
     "name": "stdout",
     "output_type": "stream",
     "text": [
      "각 컬럼의 결측치 개수가 'missing_values.csv' 파일로 저장되었습니다.\n"
     ]
    }
   ],
   "source": [
    "import pandas as pd\n",
    "\n",
    "missing_values = data.isna().sum()\n",
    "\n",
    "missing_values_df = missing_values.reset_index()\n",
    "missing_values_df.columns = ['컬럼명', '결측치 개수']\n",
    "\n",
    "missing_values_df.to_csv('missing_values.csv', index=False, encoding='utf-8-sig')\n",
    "\n",
    "print(\"각 컬럼의 결측치 개수가 'missing_values.csv' 파일로 저장되었습니다.\")"
   ]
  },
  {
   "cell_type": "code",
   "execution_count": null,
   "id": "bf70fca9-95b8-4e28-a58d-1538a4205104",
   "metadata": {},
   "outputs": [],
   "source": []
  },
  {
   "cell_type": "markdown",
   "id": "08765382-0c0c-46ca-863e-b500212017a4",
   "metadata": {},
   "source": [
    "## target : loan_status (대출 상태)"
   ]
  },
  {
   "cell_type": "code",
   "execution_count": 5,
   "id": "de902bcc-2a6d-4eea-a832-74f4f2d1bc0f",
   "metadata": {},
   "outputs": [
    {
     "data": {
      "text/plain": [
       "loan_status\n",
       "Fully Paid                                             1076751\n",
       "Current                                                 878317\n",
       "Charged Off                                             268559\n",
       "Late (31-120 days)                                       21467\n",
       "In Grace Period                                           8436\n",
       "Late (16-30 days)                                         4349\n",
       "Does not meet the credit policy. Status:Fully Paid        1988\n",
       "Does not meet the credit policy. Status:Charged Off        761\n",
       "Default                                                     40\n",
       "NaN                                                         33\n",
       "Name: count, dtype: int64"
      ]
     },
     "execution_count": 5,
     "metadata": {},
     "output_type": "execute_result"
    }
   ],
   "source": [
    "data['loan_status'].value_counts(dropna=False)"
   ]
  },
  {
   "cell_type": "markdown",
   "id": "ea78266c-24ae-4e72-9c8f-decde26785b1",
   "metadata": {},
   "source": [
    "## 2. `loan_status` 값 분포 확인\n",
    "\n",
    "`loans['loan_status'].value_counts(dropna=False)`를 실행하면 `loan_status` 변수에 어떤 값들이 얼마나 존재하는지 확인할 수 있습니다.\n",
    "\n",
    "| 상태값 | 설명 |\n",
    "|--------|------|\n",
    "| Current | 현재 정상적으로 상환 중인 대출 |\n",
    "| Fully Paid | 전액 상환 완료 |\n",
    "| Charged Off | 상각 처리(사실상 부도) |\n",
    "| Late (31-120 days) | 31~120일 연체 |\n",
    "| In Grace Period | 유예 기간 |\n",
    "| Late (16-30 days) | 16~30일 연체 |\n",
    "| Does not meet the credit policy. Status:Fully Paid | 신용 정책 미충족이지만 상환 완료 |\n",
    "| Does not meet the credit policy. Status:Charged Off | 신용 정책 미충족 및 상각 처리 |\n",
    "| Default | 부도 상태 |\n",
    "| NaN | 상태 정보 누락 |\n",
    "\n",
    "---\n",
    "\n",
    "## 3. 분석 대상 데이터 선정\n",
    "\n",
    "이 분석에서는 다음 두 가지 상태의 대출만 사용합니다:\n",
    "\n",
    "- `Fully Paid` (완전 상환)\n",
    "- `Charged Off` (상각 처리)\n",
    "\n",
    "**선택 이유:**\n",
    "- 분석 목적은 대출이 \"성공적으로 상환되었는지\" 또는 \"부실화되었는지\" 구분하는 모델을 만드는 것.\n",
    "- `Current` 등 아직 결과가 정해지지 않았거나, 불확실한 상태는 모델 학습에 부적절함.\n",
    "- 기타 상태 (`Late`, `Default`, `In Grace Period`, `Does not meet credit policy`, `NaN`)는 분석 목적과 부합하지 않거나 예측을 복잡하게 만듦.\n",
    "\n",
    "→ 따라서 이진 분류 문제(`Fully Paid` vs. `Charged Off`)로 정제하여 진행합니다."
   ]
  },
  {
   "cell_type": "code",
   "execution_count": 6,
   "id": "77ffda5a-27ff-4b15-b6ad-6e8395ef52e1",
   "metadata": {},
   "outputs": [],
   "source": [
    "data = data.loc[data['loan_status'].isin(['Fully Paid', 'Charged Off'])]"
   ]
  },
  {
   "cell_type": "code",
   "execution_count": 7,
   "id": "d1ef0bae-5d8c-4d8e-bec8-738d721f82a2",
   "metadata": {},
   "outputs": [
    {
     "data": {
      "text/plain": [
       "(1345310, 151)"
      ]
     },
     "execution_count": 7,
     "metadata": {},
     "output_type": "execute_result"
    }
   ],
   "source": [
    "data.shape"
   ]
  },
  {
   "cell_type": "code",
   "execution_count": 8,
   "id": "7da68ccf-5bc3-44ea-a598-c4b5eace2583",
   "metadata": {},
   "outputs": [
    {
     "data": {
      "text/plain": [
       "loan_status\n",
       "Fully Paid     1076751\n",
       "Charged Off     268559\n",
       "Name: count, dtype: int64"
      ]
     },
     "execution_count": 8,
     "metadata": {},
     "output_type": "execute_result"
    }
   ],
   "source": [
    "data['loan_status'].value_counts(dropna=False)"
   ]
  },
  {
   "cell_type": "code",
   "execution_count": 9,
   "id": "a3652eb6-e592-4401-ad70-01f15a412d7c",
   "metadata": {},
   "outputs": [
    {
     "data": {
      "text/plain": [
       "loan_status\n",
       "Fully Paid     0.800374\n",
       "Charged Off    0.199626\n",
       "Name: proportion, dtype: float64"
      ]
     },
     "execution_count": 9,
     "metadata": {},
     "output_type": "execute_result"
    }
   ],
   "source": [
    "data['loan_status'].value_counts(normalize=True, dropna=False) # 합계 1"
   ]
  },
  {
   "cell_type": "code",
   "execution_count": null,
   "id": "e7b5b5cd-28d7-4c2d-8749-8ca9f6d0fa37",
   "metadata": {},
   "outputs": [],
   "source": []
  },
  {
   "cell_type": "markdown",
   "id": "09290b95-ae6b-44de-a694-a84f57053b4a",
   "metadata": {},
   "source": [
    "## 데이터의 30% 이상이 누락된(결측치인) 특성(피처)들을 제거"
   ]
  },
  {
   "cell_type": "code",
   "execution_count": 10,
   "id": "7a925ebd-71cd-4d1d-aab3-c6f2a0cd653c",
   "metadata": {},
   "outputs": [],
   "source": [
    "missing_fractions = data.isnull().mean().sort_values(ascending=False)"
   ]
  },
  {
   "cell_type": "code",
   "execution_count": 11,
   "id": "c3bf8e99-03b2-4b80-ab50-776648523663",
   "metadata": {},
   "outputs": [
    {
     "data": {
      "text/plain": [
       "next_pymnt_d                                  1.000000\n",
       "member_id                                     1.000000\n",
       "orig_projected_additional_accrued_interest    0.997206\n",
       "hardship_start_date                           0.995723\n",
       "hardship_length                               0.995723\n",
       "hardship_type                                 0.995723\n",
       "hardship_reason                               0.995723\n",
       "hardship_status                               0.995723\n",
       "deferral_term                                 0.995723\n",
       "hardship_amount                               0.995723\n",
       "dtype: float64"
      ]
     },
     "execution_count": 11,
     "metadata": {},
     "output_type": "execute_result"
    }
   ],
   "source": [
    "missing_fractions.head(10)"
   ]
  },
  {
   "cell_type": "code",
   "execution_count": 12,
   "id": "51f34370-a615-4ee6-be6d-7a605d7cfab4",
   "metadata": {},
   "outputs": [
    {
     "data": {
      "text/plain": [
       "Text(0, 0.5, 'Feature count')"
      ]
     },
     "execution_count": 12,
     "metadata": {},
     "output_type": "execute_result"
    },
    {
     "data": {
      "image/png": "[encoded data removed]",
      "text/plain": [
       "<Figure size 540x270 with 1 Axes>"
      ]
     },
     "metadata": {},
     "output_type": "display_data"
    }
   ],
   "source": [
    "import matplotlib.pyplot as plt\n",
    "\n",
    "# 데이터의 결측치 비율에 대한 히스토그램을 시각화\n",
    "\n",
    "plt.figure(figsize=(6,3), dpi=90)\n",
    "missing_fractions.plot.hist(bins=20)\n",
    "plt.title('Histogram of Feature Incompleteness')\n",
    "plt.xlabel('Fraction of data missing')\n",
    "plt.ylabel('Feature count')"
   ]
  },
  {
   "cell_type": "markdown",
   "id": "fa8ca6f0-0e97-4978-b1f7-c4d2752aa35e",
   "metadata": {},
   "source": [
    "히스토그램 분석\n",
    "- 데이터의 결측치(누락된 값) 비율이 20% 미만인 특성(변수, 컬럼)들과 40%를 초과하는 특성들 사이에 큰 간격이 있음\n",
    "- = 대부분의 특성은 결측치가 거의 없거나 아주 적은 반면, 일부 특성들은 결측치가 매우 많음\n",
    "\n",
    "데이터 처리 전략\n",
    "- 데이터의 30% 이상이 누락된(결측치인) 경우에는 해당 결측치들을 정확하게 채워 넣는 것이 매우 어려움\n",
    "- -> 결측치가 30%를 초과하는 모든 열(컬럼/특성)들을 데이터셋에서 제거\n",
    "\n",
    "수행할 작업\n",
    "1) 데이터셋에서 각 특성별 결측치 비율을 계산\n",
    "2) 이 중에서 결측치 비율이 30%를 초과하는 모든 특성들의 이름을 식별\n",
    "3) 식별된 특성들의 이름을 알파벳 순서로 정렬하여 리스트로 저장"
   ]
  },
  {
   "cell_type": "code",
   "execution_count": 13,
   "id": "a18636f5-7885-4b87-a13b-ff5ab6f330e5",
   "metadata": {},
   "outputs": [
    {
     "name": "stdout",
     "output_type": "stream",
     "text": [
      "58\n",
      "['all_util', 'annual_inc_joint', 'debt_settlement_flag_date', 'deferral_term', 'desc', 'dti_joint', 'hardship_amount', 'hardship_dpd', 'hardship_end_date', 'hardship_last_payment_amount', 'hardship_length', 'hardship_loan_status', 'hardship_payoff_balance_amount', 'hardship_reason', 'hardship_start_date', 'hardship_status', 'hardship_type', 'il_util', 'inq_fi', 'inq_last_12m', 'max_bal_bc', 'member_id', 'mths_since_last_delinq', 'mths_since_last_major_derog', 'mths_since_last_record', 'mths_since_rcnt_il', 'mths_since_recent_bc_dlq', 'mths_since_recent_revol_delinq', 'next_pymnt_d', 'open_acc_6m', 'open_act_il', 'open_il_12m', 'open_il_24m', 'open_rv_12m', 'open_rv_24m', 'orig_projected_additional_accrued_interest', 'payment_plan_start_date', 'revol_bal_joint', 'sec_app_chargeoff_within_12_mths', 'sec_app_collections_12_mths_ex_med', 'sec_app_earliest_cr_line', 'sec_app_fico_range_high', 'sec_app_fico_range_low', 'sec_app_inq_last_6mths', 'sec_app_mort_acc', 'sec_app_mths_since_last_major_derog', 'sec_app_num_rev_accts', 'sec_app_open_acc', 'sec_app_open_act_il', 'sec_app_revol_util', 'settlement_amount', 'settlement_date', 'settlement_percentage', 'settlement_status', 'settlement_term', 'total_bal_il', 'total_cu_tl', 'verification_status_joint']\n"
     ]
    }
   ],
   "source": [
    "drop_list = sorted(list(missing_fractions[missing_fractions > 0.3].index))\n",
    "print(len(drop_list)) # 58\n",
    "print(drop_list)"
   ]
  },
  {
   "cell_type": "code",
   "execution_count": 14,
   "id": "1cc494bf-0b73-4e6b-b200-3e0d32dfee54",
   "metadata": {},
   "outputs": [],
   "source": [
    "data.drop(labels=drop_list, axis=1, inplace=True)"
   ]
  },
  {
   "cell_type": "code",
   "execution_count": 15,
   "id": "f9b701d2-7172-4221-82bc-f138b117ec37",
   "metadata": {},
   "outputs": [
    {
     "data": {
      "text/plain": [
       "(1345310, 93)"
      ]
     },
     "execution_count": 15,
     "metadata": {},
     "output_type": "execute_result"
    }
   ],
   "source": [
    "data.shape # 151 -> 93"
   ]
  },
  {
   "cell_type": "code",
   "execution_count": null,
   "id": "554be3bd-be9b-42d5-8b91-063561d5f958",
   "metadata": {},
   "outputs": [],
   "source": []
  },
  {
   "cell_type": "code",
   "execution_count": null,
   "id": "a4b016f8-96cd-4e3e-b2ea-6b46fce9219a",
   "metadata": {},
   "outputs": [],
   "source": []
  },
  {
   "cell_type": "markdown",
   "id": "c2b31a35-29eb-465b-b95f-db3c7c4dc688",
   "metadata": {},
   "source": [
    "### LendingClub 대출 데이터에서 투자자가 대출에 투자하기 전에 알 수 있었던 정보만을 남기고, 나머지는 제거하기 위한 전처리 과정\n",
    "- 투자자가 대출 신청 당시 확인할 수 있었던 정보만으로 모델을 만들기 위함\n",
    "- LendingClub 데이터를 보면 대출 실행 이후에만 알 수 있는 정보도 포함되어 있습니다 (예: 마지막 결제일, 상환 여부, 총 수익 등).\n",
    "이런 정보는 미래 데이터에 해당하므로 훈련에 사용하면 안 됨 — 즉, 데이터 누수(Data Leakage) 발생 가능."
   ]
  },
  {
   "cell_type": "code",
   "execution_count": 16,
   "id": "409842bc-9386-4162-9e3b-e859997c88e0",
   "metadata": {},
   "outputs": [
    {
     "name": "stdout",
     "output_type": "stream",
     "text": [
      "['acc_now_delinq', 'acc_open_past_24mths', 'addr_state', 'annual_inc', 'application_type', 'avg_cur_bal', 'bc_open_to_buy', 'bc_util', 'chargeoff_within_12_mths', 'collection_recovery_fee', 'collections_12_mths_ex_med', 'debt_settlement_flag', 'delinq_2yrs', 'delinq_amnt', 'disbursement_method', 'dti', 'earliest_cr_line', 'emp_length', 'emp_title', 'fico_range_high', 'fico_range_low', 'funded_amnt', 'funded_amnt_inv', 'grade', 'hardship_flag', 'home_ownership', 'id', 'initial_list_status', 'inq_last_6mths', 'installment', 'int_rate', 'issue_d', 'last_credit_pull_d', 'last_fico_range_high', 'last_fico_range_low', 'last_pymnt_amnt', 'last_pymnt_d', 'loan_amnt', 'loan_status', 'mo_sin_old_il_acct', 'mo_sin_old_rev_tl_op', 'mo_sin_rcnt_rev_tl_op', 'mo_sin_rcnt_tl', 'mort_acc', 'mths_since_recent_bc', 'mths_since_recent_inq', 'num_accts_ever_120_pd', 'num_actv_bc_tl', 'num_actv_rev_tl', 'num_bc_sats', 'num_bc_tl', 'num_il_tl', 'num_op_rev_tl', 'num_rev_accts', 'num_rev_tl_bal_gt_0', 'num_sats', 'num_tl_120dpd_2m', 'num_tl_30dpd', 'num_tl_90g_dpd_24m', 'num_tl_op_past_12m', 'open_acc', 'out_prncp', 'out_prncp_inv', 'pct_tl_nvr_dlq', 'percent_bc_gt_75', 'policy_code', 'pub_rec', 'pub_rec_bankruptcies', 'purpose', 'pymnt_plan', 'recoveries', 'revol_bal', 'revol_util', 'sub_grade', 'tax_liens', 'term', 'title', 'tot_coll_amt', 'tot_cur_bal', 'tot_hi_cred_lim', 'total_acc', 'total_bal_ex_mort', 'total_bc_limit', 'total_il_high_credit_limit', 'total_pymnt', 'total_pymnt_inv', 'total_rec_int', 'total_rec_late_fee', 'total_rec_prncp', 'total_rev_hi_lim', 'url', 'verification_status', 'zip_code']\n"
     ]
    }
   ],
   "source": [
    "print(sorted(data.columns))"
   ]
  },
  {
   "cell_type": "markdown",
   "id": "d126b3e1-ef11-41a8-af45-f05f0986e45c",
   "metadata": {},
   "source": [
    "- 각 기능에 대해 데이터 사전의 설명을 확인하고 대출 투자를 고려하는 투자자가 이용할 수 있는 기능만 유지"
   ]
  },
  {
   "cell_type": "code",
   "execution_count": 17,
   "id": "1a179844-9c69-4a66-a35c-82982d6a4db9",
   "metadata": {},
   "outputs": [],
   "source": [
    "keep_list = ['addr_state', 'annual_inc', 'application_type', 'dti', 'earliest_cr_line', 'emp_length', 'emp_title', 'fico_range_high', 'fico_range_low', 'grade', 'home_ownership', 'id', 'initial_list_status', 'installment', 'int_rate', 'issue_d', 'loan_amnt', 'loan_status', 'mort_acc', 'open_acc', 'pub_rec', 'pub_rec_bankruptcies', 'purpose', 'revol_bal', 'revol_util', 'sub_grade', 'term', 'title', 'total_acc', 'verification_status', 'zip_code']"
   ]
  },
  {
   "cell_type": "code",
   "execution_count": 18,
   "id": "0bb32ed0-296c-4ed8-a75a-565f5dc04a56",
   "metadata": {},
   "outputs": [
    {
     "data": {
      "text/plain": [
       "31"
      ]
     },
     "execution_count": 18,
     "metadata": {},
     "output_type": "execute_result"
    }
   ],
   "source": [
    "len(keep_list)"
   ]
  },
  {
   "cell_type": "code",
   "execution_count": 19,
   "id": "2f1fb86b-dcd5-4483-8f9a-6910fd153e5c",
   "metadata": {},
   "outputs": [
    {
     "name": "stdout",
     "output_type": "stream",
     "text": [
      "['funded_amnt', 'funded_amnt_inv', 'pymnt_plan', 'url', 'delinq_2yrs', 'inq_last_6mths', 'out_prncp', 'out_prncp_inv', 'total_pymnt', 'total_pymnt_inv', 'total_rec_prncp', 'total_rec_int', 'total_rec_late_fee', 'recoveries', 'collection_recovery_fee', 'last_pymnt_d', 'last_pymnt_amnt', 'last_credit_pull_d', 'last_fico_range_high', 'last_fico_range_low', 'collections_12_mths_ex_med', 'policy_code', 'acc_now_delinq', 'tot_coll_amt', 'tot_cur_bal', 'total_rev_hi_lim', 'acc_open_past_24mths', 'avg_cur_bal', 'bc_open_to_buy', 'bc_util', 'chargeoff_within_12_mths', 'delinq_amnt', 'mo_sin_old_il_acct', 'mo_sin_old_rev_tl_op', 'mo_sin_rcnt_rev_tl_op', 'mo_sin_rcnt_tl', 'mths_since_recent_bc', 'mths_since_recent_inq', 'num_accts_ever_120_pd', 'num_actv_bc_tl', 'num_actv_rev_tl', 'num_bc_sats', 'num_bc_tl', 'num_il_tl', 'num_op_rev_tl', 'num_rev_accts', 'num_rev_tl_bal_gt_0', 'num_sats', 'num_tl_120dpd_2m', 'num_tl_30dpd', 'num_tl_90g_dpd_24m', 'num_tl_op_past_12m', 'pct_tl_nvr_dlq', 'percent_bc_gt_75', 'tax_liens', 'tot_hi_cred_lim', 'total_bal_ex_mort', 'total_bc_limit', 'total_il_high_credit_limit', 'hardship_flag', 'disbursement_method', 'debt_settlement_flag']\n"
     ]
    }
   ],
   "source": [
    "drop_list = [col for col in data.columns if col not in keep_list]\n",
    "print(drop_list)"
   ]
  },
  {
   "cell_type": "code",
   "execution_count": 20,
   "id": "e3a0048b-570e-474f-a519-cfedfbf41b32",
   "metadata": {},
   "outputs": [
    {
     "data": {
      "text/plain": [
       "62"
      ]
     },
     "execution_count": 20,
     "metadata": {},
     "output_type": "execute_result"
    }
   ],
   "source": [
    "len(drop_list)"
   ]
  },
  {
   "cell_type": "code",
   "execution_count": 21,
   "id": "d283ff5c-2849-4122-b751-cc5938d47e68",
   "metadata": {},
   "outputs": [],
   "source": [
    "data.drop(labels=drop_list, axis=1, inplace=True)"
   ]
  },
  {
   "cell_type": "code",
   "execution_count": 22,
   "id": "726d811e-b601-496f-a2bd-d74dd95f8ffb",
   "metadata": {},
   "outputs": [
    {
     "data": {
      "text/plain": [
       "(1345310, 31)"
      ]
     },
     "execution_count": 22,
     "metadata": {},
     "output_type": "execute_result"
    }
   ],
   "source": [
    "data.shape"
   ]
  },
  {
   "cell_type": "code",
   "execution_count": null,
   "id": "810a61a6-0d6d-412a-b03d-1c59d7606384",
   "metadata": {},
   "outputs": [],
   "source": []
  },
  {
   "cell_type": "markdown",
   "id": "06af5879-31e5-4332-86a0-5cecd586ee2b",
   "metadata": {},
   "source": [
    "### 전처리 및 탐색적 분석\n",
    "각 특성(피처)들을 개별적으로 검토하며 다음 작업들을 수행\n",
    "- 대출 상태를 예측하는 데 유용하지 않다면 해당 특성을 제거\n",
    "- 요약 통계를 확인하고 데이터를 시각화하며, 대출 상태와 비교하여 그래프를 그림\n",
    "- 필요하다면, 모델링에 유용하도록 해당 특성을 수정"
   ]
  },
  {
   "cell_type": "code",
   "execution_count": 23,
   "id": "3287e36d-c419-4cac-b966-0374e955cfa4",
   "metadata": {},
   "outputs": [],
   "source": [
    "# 데이터셋의 각 특성이 어떻게 생겼는지(분포), 그리고 우리가 예측하고자 하는 대출 상태와 어떤 연관성이 있는지 탐색하고 시각화\n",
    "\n",
    "import seaborn as sns\n",
    "\n",
    "def plot_var(col_name, full_name, continuous):\n",
    "    \"\"\"\n",
    "    Visualize a variable with and without faceting on the loan status.\n",
    "    - col_name is the variable name in the dataframe\n",
    "    - full_name is the full variable name\n",
    "    - continuous is True if the variable is continuous, False otherwise\n",
    "    \"\"\"\n",
    "    f, (ax1, ax2) = plt.subplots(nrows=1, ncols=2, figsize=(12,3), dpi=90)\n",
    "    \n",
    "    # Plot without loan status\n",
    "    if continuous:\n",
    "        sns.histplot(data.loc[data[col_name].notnull(), col_name], kde=False, ax=ax1)\n",
    "    else:\n",
    "        sns.countplot(data[col_name], order=sorted(data[col_name].unique()), color='#5975A4', saturation=1, ax=ax1)\n",
    "    ax1.set_xlabel(full_name)\n",
    "    ax1.set_ylabel('Count')\n",
    "    ax1.set_title(full_name)\n",
    "\n",
    "    # Plot with loan status\n",
    "    if continuous:\n",
    "        sns.boxplot(x=col_name, y='loan_status', data=data, ax=ax2)\n",
    "        ax2.set_ylabel('')\n",
    "        ax2.set_title(full_name + ' by Loan Status')\n",
    "    else:\n",
    "        charge_off_rates = data.groupby(col_name)['loan_status'].value_counts(normalize=True).loc[:,'Charged Off']\n",
    "        sns.barplot(x=charge_off_rates.index, y=charge_off_rates.values, color='#5975A4', saturation=1, ax=ax2)\n",
    "        ax2.set_ylabel('Fraction of Loans Charged-off')\n",
    "        ax2.set_title('Charge-off Rate by ' + full_name)\n",
    "    ax2.set_xlabel(full_name)\n",
    "    \n",
    "    plt.tight_layout()"
   ]
  },
  {
   "cell_type": "code",
   "execution_count": null,
   "id": "32bfb59f-7fd8-4c16-a4e5-aa091cfb7231",
   "metadata": {},
   "outputs": [],
   "source": []
  },
  {
   "cell_type": "markdown",
   "id": "e431bfce-2cd4-4ea9-8505-18ee991108b3",
   "metadata": {},
   "source": [
    "### (1) id\n",
    "- Data Dictionary: \"A unique [LendingClub] assigned ID for the loan listing.\""
   ]
  },
  {
   "cell_type": "code",
   "execution_count": 24,
   "id": "d9bee2b3-94e5-44e7-a785-8d88b16a8895",
   "metadata": {},
   "outputs": [
    {
     "data": {
      "text/plain": [
       "1281495    15710808\n",
       "72876      63899355\n",
       "1887707     2372586\n",
       "1313584    12786309\n",
       "232526     54027949\n",
       "Name: id, dtype: object"
      ]
     },
     "execution_count": 24,
     "metadata": {},
     "output_type": "execute_result"
    }
   ],
   "source": [
    "data['id'].sample(5)"
   ]
  },
  {
   "cell_type": "code",
   "execution_count": 25,
   "id": "50ba28ae-d7cb-4927-be26-d4fa4156e227",
   "metadata": {},
   "outputs": [
    {
     "data": {
      "text/plain": [
       "count      1345310\n",
       "unique     1345310\n",
       "top       68407277\n",
       "freq             1\n",
       "Name: id, dtype: object"
      ]
     },
     "execution_count": 25,
     "metadata": {},
     "output_type": "execute_result"
    }
   ],
   "source": [
    "data['id'].describe()"
   ]
  },
  {
   "cell_type": "markdown",
   "id": "656b6f33-cee0-436f-87d4-7e202d341994",
   "metadata": {},
   "source": [
    "- 모든 값이 고유함\n",
    "- (고유한 값이 너무 많아 범주형 변수로 사용하기 어렵고, 값의 크기가 매우 다양하여 수치형 변수로서의 유의미성이 없음)\n",
    "- -> ID는 모델링에 유용하지 않아 변수 제거"
   ]
  },
  {
   "cell_type": "code",
   "execution_count": 26,
   "id": "c712ec76-8b4b-4bee-97e3-f3b0c40d0aee",
   "metadata": {},
   "outputs": [],
   "source": [
    "data.drop('id', axis=1, inplace=True)"
   ]
  },
  {
   "cell_type": "code",
   "execution_count": null,
   "id": "64208c92-5c9e-43e9-874e-44d2964afb0c",
   "metadata": {},
   "outputs": [],
   "source": []
  },
  {
   "cell_type": "markdown",
   "id": "a5618fb8-d809-4334-82af-c7e6412fa549",
   "metadata": {},
   "source": [
    "### (2) loan_amnt\n",
    "- Data Dictionary: \"The listed amount of the loan applied for by the borrower. If at some point in time, the credit department reduces the loan amount, then it will be reflected in this value.\"\n",
    "- 대출 신청 금액은 대출자가 신청한 대출 금액을 나타냅니다. 만약 신용 부서에서 대출 금액을 감액할 경우, 이 값에 반영됨"
   ]
  },
  {
   "cell_type": "code",
   "execution_count": 27,
   "id": "e38dd4a3-96d2-4399-9392-1b0545b07df2",
   "metadata": {},
   "outputs": [
    {
     "data": {
      "text/plain": [
       "count    1.345310e+06\n",
       "mean     1.441997e+04\n",
       "std      8.717051e+03\n",
       "min      5.000000e+02\n",
       "25%      8.000000e+03\n",
       "50%      1.200000e+04\n",
       "75%      2.000000e+04\n",
       "max      4.000000e+04\n",
       "Name: loan_amnt, dtype: float64"
      ]
     },
     "execution_count": 27,
     "metadata": {},
     "output_type": "execute_result"
    }
   ],
   "source": [
    "data['loan_amnt'].describe()"
   ]
  },
  {
   "cell_type": "code",
   "execution_count": 28,
   "id": "baf986de-f1d0-41ac-bc78-b88c98c246ce",
   "metadata": {},
   "outputs": [
    {
     "data": {
      "text/plain": [
       "500.0"
      ]
     },
     "execution_count": 28,
     "metadata": {},
     "output_type": "execute_result"
    }
   ],
   "source": [
    "data['loan_amnt'].min()"
   ]
  },
  {
   "cell_type": "code",
   "execution_count": 29,
   "id": "898684cf-eaea-4db3-9f14-dac47b9e2e1d",
   "metadata": {},
   "outputs": [
    {
     "data": {
      "text/plain": [
       "12000.0"
      ]
     },
     "execution_count": 29,
     "metadata": {},
     "output_type": "execute_result"
    }
   ],
   "source": [
    "data['loan_amnt'].median()"
   ]
  },
  {
   "cell_type": "code",
   "execution_count": 30,
   "id": "72bd7126-5b61-44f9-ade5-d16e7f9aa3fa",
   "metadata": {},
   "outputs": [
    {
     "data": {
      "text/plain": [
       "40000.0"
      ]
     },
     "execution_count": 30,
     "metadata": {},
     "output_type": "execute_result"
    }
   ],
   "source": [
    "data['loan_amnt'].max()"
   ]
  },
  {
   "cell_type": "code",
   "execution_count": 31,
   "id": "f54baab8-28ff-4092-8219-4e850daedff4",
   "metadata": {},
   "outputs": [
    {
     "data": {
      "image/png": "[encoded data removed]",
      "text/plain": [
       "<Figure size 1080x270 with 2 Axes>"
      ]
     },
     "metadata": {},
     "output_type": "display_data"
    }
   ],
   "source": [
    "plot_var('loan_amnt', 'Loan Amount', continuous=True)"
   ]
  },
  {
   "cell_type": "markdown",
   "id": "1b25167b-b50f-4b30-8453-8328dc0e6828",
   "metadata": {},
   "source": [
    "- 대출 금액은 500달러에서 40,000달러까지 다양하며, 중앙값은 12,000달러\n",
    "- 상각된 대출일수록 대출 금액이 높은 경향이 있음"
   ]
  },
  {
   "cell_type": "code",
   "execution_count": 32,
   "id": "b686810b-84b4-4be5-9166-d1a2905b228e",
   "metadata": {},
   "outputs": [
    {
     "data": {
      "text/html": [
       "<div>\n",
       "<style scoped>\n",
       "    .dataframe tbody tr th:only-of-type {\n",
       "        vertical-align: middle;\n",
       "    }\n",
       "\n",
       "    .dataframe tbody tr th {\n",
       "        vertical-align: top;\n",
       "    }\n",
       "\n",
       "    .dataframe thead th {\n",
       "        text-align: right;\n",
       "    }\n",
       "</style>\n",
       "<table border=\"1\" class=\"dataframe\">\n",
       "  <thead>\n",
       "    <tr style=\"text-align: right;\">\n",
       "      <th></th>\n",
       "      <th>count</th>\n",
       "      <th>mean</th>\n",
       "      <th>std</th>\n",
       "      <th>min</th>\n",
       "      <th>25%</th>\n",
       "      <th>50%</th>\n",
       "      <th>75%</th>\n",
       "      <th>max</th>\n",
       "    </tr>\n",
       "    <tr>\n",
       "      <th>loan_status</th>\n",
       "      <th></th>\n",
       "      <th></th>\n",
       "      <th></th>\n",
       "      <th></th>\n",
       "      <th></th>\n",
       "      <th></th>\n",
       "      <th></th>\n",
       "      <th></th>\n",
       "    </tr>\n",
       "  </thead>\n",
       "  <tbody>\n",
       "    <tr>\n",
       "      <th>Charged Off</th>\n",
       "      <td>268559.0</td>\n",
       "      <td>15565.055444</td>\n",
       "      <td>8814.560077</td>\n",
       "      <td>900.0</td>\n",
       "      <td>9000.0</td>\n",
       "      <td>14350.0</td>\n",
       "      <td>20400.0</td>\n",
       "      <td>40000.0</td>\n",
       "    </tr>\n",
       "    <tr>\n",
       "      <th>Fully Paid</th>\n",
       "      <td>1076751.0</td>\n",
       "      <td>14134.369808</td>\n",
       "      <td>8669.028973</td>\n",
       "      <td>500.0</td>\n",
       "      <td>7500.0</td>\n",
       "      <td>12000.0</td>\n",
       "      <td>20000.0</td>\n",
       "      <td>40000.0</td>\n",
       "    </tr>\n",
       "  </tbody>\n",
       "</table>\n",
       "</div>"
      ],
      "text/plain": [
       "                 count          mean          std    min     25%      50%  \\\n",
       "loan_status                                                                 \n",
       "Charged Off   268559.0  15565.055444  8814.560077  900.0  9000.0  14350.0   \n",
       "Fully Paid   1076751.0  14134.369808  8669.028973  500.0  7500.0  12000.0   \n",
       "\n",
       "                 75%      max  \n",
       "loan_status                    \n",
       "Charged Off  20400.0  40000.0  \n",
       "Fully Paid   20000.0  40000.0  "
      ]
     },
     "execution_count": 32,
     "metadata": {},
     "output_type": "execute_result"
    }
   ],
   "source": [
    "data.groupby('loan_status')['loan_amnt'].describe()"
   ]
  },
  {
   "cell_type": "code",
   "execution_count": null,
   "id": "ca1b91fc-f30e-497d-87f0-c68b68c7c7cc",
   "metadata": {},
   "outputs": [],
   "source": []
  },
  {
   "cell_type": "markdown",
   "id": "2c800da6-c421-45b1-ad3e-4f5f70612381",
   "metadata": {},
   "source": [
    "### (3) term\n",
    "- Data Dictionary: \"The number of payments on the loan. Values are in months and can be either 36 or 60.\"\n",
    "- 데이터 사전: “대출에 대한 지불 횟수입니다. 값은 개월 단위이며 36개월 또는 60개월이 될 수 있습니다.”"
   ]
  },
  {
   "cell_type": "code",
   "execution_count": 33,
   "id": "3cfd63f4-df3c-4e2d-9140-25d345034495",
   "metadata": {},
   "outputs": [
    {
     "data": {
      "text/plain": [
       "term\n",
       "36 months    1020743\n",
       "60 months     324567\n",
       "Name: count, dtype: int64"
      ]
     },
     "execution_count": 33,
     "metadata": {},
     "output_type": "execute_result"
    }
   ],
   "source": [
    "data['term'].value_counts(dropna=False)"
   ]
  },
  {
   "cell_type": "code",
   "execution_count": 34,
   "id": "e9691d28-ff28-47a8-87cc-c2be61931585",
   "metadata": {},
   "outputs": [],
   "source": [
    "import numpy as np\n",
    "\n",
    "# 문자열(string)로 된 대출 상환 기간 정보 (36 months, 60 months)\n",
    "# -> (머신러닝이나 분석에 쓰기 쉽도록) 숫자형(integer) 으로 변환\n",
    "data['term'] = data['term'].apply(lambda s: np.int8(s.split()[0]))"
   ]
  },
  {
   "cell_type": "code",
   "execution_count": 35,
   "id": "4e992bc1-76f1-4467-bf6b-7e3fae5361f1",
   "metadata": {
    "scrolled": true
   },
   "outputs": [
    {
     "data": {
      "text/plain": [
       "term\n",
       "36    0.758742\n",
       "60    0.241258\n",
       "Name: proportion, dtype: float64"
      ]
     },
     "execution_count": 35,
     "metadata": {},
     "output_type": "execute_result"
    }
   ],
   "source": [
    "data['term'].value_counts(normalize=True)"
   ]
  },
  {
   "cell_type": "markdown",
   "id": "dae860f7-b076-44f7-b0fc-7aa39f10b706",
   "metadata": {},
   "source": [
    "- 전체 상환이 완료된 대출 중 약 76%는 3년 상환 기간을 갖고 있으며, 나머지는 5년 상환 기간"
   ]
  },
  {
   "cell_type": "markdown",
   "id": "becb9974-54e0-4cf7-a879-1d47dd60c4bc",
   "metadata": {},
   "source": [
    "대출 기간에 따라 부도율(charge-off rate) 이 얼마나 차이가 나는지"
   ]
  },
  {
   "cell_type": "code",
   "execution_count": 36,
   "id": "13e7487a-8cf3-47d0-88a4-b76d85cbf6b5",
   "metadata": {},
   "outputs": [
    {
     "data": {
      "text/plain": [
       "term\n",
       "36    0.159934\n",
       "60    0.324454\n",
       "Name: proportion, dtype: float64"
      ]
     },
     "execution_count": 36,
     "metadata": {},
     "output_type": "execute_result"
    }
   ],
   "source": [
    "data.groupby('term')['loan_status'].value_counts(normalize=True).loc[:,'Charged Off']"
   ]
  },
  {
   "cell_type": "markdown",
   "id": "86e09069-af47-4ae1-b2bb-2f3a2131db96",
   "metadata": {},
   "source": [
    "- 5년 대출은 3년 대출보다 부도 처리될 가능성이 2배 정도 높음"
   ]
  },
  {
   "cell_type": "code",
   "execution_count": null,
   "id": "ac0b14ca-e755-4fa1-8c93-df3957728f71",
   "metadata": {},
   "outputs": [],
   "source": []
  },
  {
   "cell_type": "markdown",
   "id": "f04321f6-fb67-44d4-b8ac-6e72501c47f3",
   "metadata": {},
   "source": [
    "### (4) int_rate\n",
    "- Data Dictionary: \"Interest Rate on the loan.\""
   ]
  },
  {
   "cell_type": "code",
   "execution_count": 37,
   "id": "8eefa2eb-cc17-4ed0-870a-48beb704d754",
   "metadata": {
    "scrolled": true
   },
   "outputs": [
    {
     "data": {
      "text/plain": [
       "count    1.345310e+06\n",
       "mean     1.323962e+01\n",
       "std      4.768716e+00\n",
       "min      5.310000e+00\n",
       "25%      9.750000e+00\n",
       "50%      1.274000e+01\n",
       "75%      1.599000e+01\n",
       "max      3.099000e+01\n",
       "Name: int_rate, dtype: float64"
      ]
     },
     "execution_count": 37,
     "metadata": {},
     "output_type": "execute_result"
    }
   ],
   "source": [
    "data['int_rate'].describe()"
   ]
  },
  {
   "cell_type": "code",
   "execution_count": 38,
   "id": "47666fc9-e786-4653-882e-141678c5fa85",
   "metadata": {},
   "outputs": [
    {
     "data": {
      "text/plain": [
       "5.31"
      ]
     },
     "execution_count": 38,
     "metadata": {},
     "output_type": "execute_result"
    }
   ],
   "source": [
    "data['int_rate'].min()"
   ]
  },
  {
   "cell_type": "code",
   "execution_count": 39,
   "id": "b584e529-5f5f-456a-b297-87df8cac570f",
   "metadata": {},
   "outputs": [
    {
     "data": {
      "text/plain": [
       "12.74"
      ]
     },
     "execution_count": 39,
     "metadata": {},
     "output_type": "execute_result"
    }
   ],
   "source": [
    "data['int_rate'].median()"
   ]
  },
  {
   "cell_type": "code",
   "execution_count": 40,
   "id": "781205d0-a369-4609-8d74-88cc3c633cbf",
   "metadata": {},
   "outputs": [
    {
     "data": {
      "text/plain": [
       "30.99"
      ]
     },
     "execution_count": 40,
     "metadata": {},
     "output_type": "execute_result"
    }
   ],
   "source": [
    "data['int_rate'].max()"
   ]
  },
  {
   "cell_type": "markdown",
   "id": "41ca7d7e-c6f0-451c-81ef-987cef449e65",
   "metadata": {},
   "source": [
    "- 이자율은 최저 5.31%에서 최고 30.99%까지 다양하며, 중앙값은 12.74%"
   ]
  },
  {
   "cell_type": "code",
   "execution_count": 41,
   "id": "ca499e18-0cc6-4140-a6a2-c4a6e28860f8",
   "metadata": {},
   "outputs": [
    {
     "data": {
      "image/png": "[encoded data removed]",
      "text/plain": [
       "<Figure size 1080x270 with 2 Axes>"
      ]
     },
     "metadata": {},
     "output_type": "display_data"
    }
   ],
   "source": [
    "plot_var('int_rate', 'Interest Rate', continuous=True)"
   ]
  },
  {
   "cell_type": "markdown",
   "id": "a89fdd04-8906-4033-b22c-47d49ab964c7",
   "metadata": {},
   "source": [
    "- 부도 처리된 대출은 상대적으로 훨씬 높은 이자율을 갖는 경향이 있음\n",
    "- 대출 상태별로 요약 통계량 비교:"
   ]
  },
  {
   "cell_type": "code",
   "execution_count": 42,
   "id": "c46f37a9-4b35-4a0e-864b-954f92aca6bb",
   "metadata": {},
   "outputs": [
    {
     "data": {
      "text/html": [
       "<div>\n",
       "<style scoped>\n",
       "    .dataframe tbody tr th:only-of-type {\n",
       "        vertical-align: middle;\n",
       "    }\n",
       "\n",
       "    .dataframe tbody tr th {\n",
       "        vertical-align: top;\n",
       "    }\n",
       "\n",
       "    .dataframe thead th {\n",
       "        text-align: right;\n",
       "    }\n",
       "</style>\n",
       "<table border=\"1\" class=\"dataframe\">\n",
       "  <thead>\n",
       "    <tr style=\"text-align: right;\">\n",
       "      <th></th>\n",
       "      <th>count</th>\n",
       "      <th>mean</th>\n",
       "      <th>std</th>\n",
       "      <th>min</th>\n",
       "      <th>25%</th>\n",
       "      <th>50%</th>\n",
       "      <th>75%</th>\n",
       "      <th>max</th>\n",
       "    </tr>\n",
       "    <tr>\n",
       "      <th>loan_status</th>\n",
       "      <th></th>\n",
       "      <th></th>\n",
       "      <th></th>\n",
       "      <th></th>\n",
       "      <th></th>\n",
       "      <th></th>\n",
       "      <th></th>\n",
       "      <th></th>\n",
       "    </tr>\n",
       "  </thead>\n",
       "  <tbody>\n",
       "    <tr>\n",
       "      <th>Charged Off</th>\n",
       "      <td>268559.0</td>\n",
       "      <td>15.710714</td>\n",
       "      <td>4.910387</td>\n",
       "      <td>5.31</td>\n",
       "      <td>12.29</td>\n",
       "      <td>15.05</td>\n",
       "      <td>18.55</td>\n",
       "      <td>30.99</td>\n",
       "    </tr>\n",
       "    <tr>\n",
       "      <th>Fully Paid</th>\n",
       "      <td>1076751.0</td>\n",
       "      <td>12.623288</td>\n",
       "      <td>4.527227</td>\n",
       "      <td>5.31</td>\n",
       "      <td>9.17</td>\n",
       "      <td>12.23</td>\n",
       "      <td>15.31</td>\n",
       "      <td>30.99</td>\n",
       "    </tr>\n",
       "  </tbody>\n",
       "</table>\n",
       "</div>"
      ],
      "text/plain": [
       "                 count       mean       std   min    25%    50%    75%    max\n",
       "loan_status                                                                  \n",
       "Charged Off   268559.0  15.710714  4.910387  5.31  12.29  15.05  18.55  30.99\n",
       "Fully Paid   1076751.0  12.623288  4.527227  5.31   9.17  12.23  15.31  30.99"
      ]
     },
     "execution_count": 42,
     "metadata": {},
     "output_type": "execute_result"
    }
   ],
   "source": [
    "data.groupby('loan_status')['int_rate'].describe()"
   ]
  },
  {
   "cell_type": "code",
   "execution_count": null,
   "id": "b2fb4674-e674-426f-99c5-0a29017b25f2",
   "metadata": {},
   "outputs": [],
   "source": []
  },
  {
   "cell_type": "markdown",
   "id": "6290d1e5-238b-4540-84b6-eeabb379a670",
   "metadata": {},
   "source": [
    "### (5) installment"
   ]
  },
  {
   "cell_type": "code",
   "execution_count": 43,
   "id": "fbb4efee-544a-45ac-97cd-7620cb191fc5",
   "metadata": {},
   "outputs": [
    {
     "data": {
      "text/plain": [
       "count    1.345310e+06\n",
       "mean     4.380755e+02\n",
       "std      2.615126e+02\n",
       "min      4.930000e+00\n",
       "25%      2.484800e+02\n",
       "50%      3.754300e+02\n",
       "75%      5.807300e+02\n",
       "max      1.719830e+03\n",
       "Name: installment, dtype: float64"
      ]
     },
     "execution_count": 43,
     "metadata": {},
     "output_type": "execute_result"
    }
   ],
   "source": [
    "data['installment'].describe()"
   ]
  },
  {
   "cell_type": "code",
   "execution_count": 44,
   "id": "1d1cadbc-8a69-4ec4-ba44-992fdc57319e",
   "metadata": {},
   "outputs": [
    {
     "data": {
      "image/png": "[encoded data removed]",
      "text/plain": [
       "<Figure size 1080x270 with 2 Axes>"
      ]
     },
     "metadata": {},
     "output_type": "display_data"
    }
   ],
   "source": [
    "plot_var('installment', 'Installment', continuous=True)"
   ]
  },
  {
   "cell_type": "code",
   "execution_count": 45,
   "id": "f8f62763-917e-4dec-ba42-97dfbcc436ae",
   "metadata": {},
   "outputs": [
    {
     "data": {
      "text/html": [
       "<div>\n",
       "<style scoped>\n",
       "    .dataframe tbody tr th:only-of-type {\n",
       "        vertical-align: middle;\n",
       "    }\n",
       "\n",
       "    .dataframe tbody tr th {\n",
       "        vertical-align: top;\n",
       "    }\n",
       "\n",
       "    .dataframe thead th {\n",
       "        text-align: right;\n",
       "    }\n",
       "</style>\n",
       "<table border=\"1\" class=\"dataframe\">\n",
       "  <thead>\n",
       "    <tr style=\"text-align: right;\">\n",
       "      <th></th>\n",
       "      <th>count</th>\n",
       "      <th>mean</th>\n",
       "      <th>std</th>\n",
       "      <th>min</th>\n",
       "      <th>25%</th>\n",
       "      <th>50%</th>\n",
       "      <th>75%</th>\n",
       "      <th>max</th>\n",
       "    </tr>\n",
       "    <tr>\n",
       "      <th>loan_status</th>\n",
       "      <th></th>\n",
       "      <th></th>\n",
       "      <th></th>\n",
       "      <th></th>\n",
       "      <th></th>\n",
       "      <th></th>\n",
       "      <th></th>\n",
       "      <th></th>\n",
       "    </tr>\n",
       "  </thead>\n",
       "  <tbody>\n",
       "    <tr>\n",
       "      <th>Charged Off</th>\n",
       "      <td>268559.0</td>\n",
       "      <td>465.147994</td>\n",
       "      <td>262.774106</td>\n",
       "      <td>21.62</td>\n",
       "      <td>275.29</td>\n",
       "      <td>402.83</td>\n",
       "      <td>605.31</td>\n",
       "      <td>1717.63</td>\n",
       "    </tr>\n",
       "    <tr>\n",
       "      <th>Fully Paid</th>\n",
       "      <td>1076751.0</td>\n",
       "      <td>431.323226</td>\n",
       "      <td>260.759563</td>\n",
       "      <td>4.93</td>\n",
       "      <td>240.92</td>\n",
       "      <td>368.26</td>\n",
       "      <td>573.06</td>\n",
       "      <td>1719.83</td>\n",
       "    </tr>\n",
       "  </tbody>\n",
       "</table>\n",
       "</div>"
      ],
      "text/plain": [
       "                 count        mean         std    min     25%     50%     75%  \\\n",
       "loan_status                                                                     \n",
       "Charged Off   268559.0  465.147994  262.774106  21.62  275.29  402.83  605.31   \n",
       "Fully Paid   1076751.0  431.323226  260.759563   4.93  240.92  368.26  573.06   \n",
       "\n",
       "                 max  \n",
       "loan_status           \n",
       "Charged Off  1717.63  \n",
       "Fully Paid   1719.83  "
      ]
     },
     "execution_count": 45,
     "metadata": {},
     "output_type": "execute_result"
    }
   ],
   "source": [
    "data.groupby('loan_status')['installment'].describe()"
   ]
  },
  {
   "cell_type": "code",
   "execution_count": null,
   "id": "26a5d460-c734-49c6-b24b-6caf11c910ee",
   "metadata": {},
   "outputs": [],
   "source": []
  },
  {
   "cell_type": "markdown",
   "id": "ca028460-874d-4f98-9196-3db07e09f5d9",
   "metadata": {},
   "source": [
    "### (6) grade, sub_grade"
   ]
  },
  {
   "cell_type": "code",
   "execution_count": 46,
   "id": "4a85c5ca-d84c-407d-adb2-c5e0cd33363b",
   "metadata": {},
   "outputs": [
    {
     "name": "stdout",
     "output_type": "stream",
     "text": [
      "['A', 'B', 'C', 'D', 'E', 'F', 'G']\n"
     ]
    }
   ],
   "source": [
    "print(sorted(data['grade'].unique()))"
   ]
  },
  {
   "cell_type": "code",
   "execution_count": 47,
   "id": "ce0b7b87-8919-4336-a81b-93d780af3c81",
   "metadata": {},
   "outputs": [
    {
     "name": "stdout",
     "output_type": "stream",
     "text": [
      "['A1', 'A2', 'A3', 'A4', 'A5', 'B1', 'B2', 'B3', 'B4', 'B5', 'C1', 'C2', 'C3', 'C4', 'C5', 'D1', 'D2', 'D3', 'D4', 'D5', 'E1', 'E2', 'E3', 'E4', 'E5', 'F1', 'F2', 'F3', 'F4', 'F5', 'G1', 'G2', 'G3', 'G4', 'G5']\n"
     ]
    }
   ],
   "source": [
    "print(sorted(data['sub_grade'].unique()))"
   ]
  },
  {
   "cell_type": "markdown",
   "id": "4f7b836a-98a9-44d8-8f62-61d443cb9407",
   "metadata": {},
   "source": [
    "- subgrade에 grade 정보 포함 -> grade 컬럼 삭제"
   ]
  },
  {
   "cell_type": "code",
   "execution_count": 48,
   "id": "0554d440-5327-4977-ad49-577df5a8305c",
   "metadata": {},
   "outputs": [],
   "source": [
    "data.drop('grade', axis=1, inplace=True)"
   ]
  },
  {
   "cell_type": "code",
   "execution_count": 49,
   "id": "0c3a43e4-a178-40dd-9f4e-fc8b9d52484d",
   "metadata": {},
   "outputs": [
    {
     "data": {
      "image/png": "[encoded data removed]",
      "text/plain": [
       "<Figure size 1080x270 with 2 Axes>"
      ]
     },
     "metadata": {},
     "output_type": "display_data"
    }
   ],
   "source": [
    "plot_var('sub_grade', 'Subgrade', continuous=False)"
   ]
  },
  {
   "cell_type": "code",
   "execution_count": null,
   "id": "3f9c0063-a898-4c1d-bd51-8ed1532cecfa",
   "metadata": {},
   "outputs": [],
   "source": []
  },
  {
   "cell_type": "markdown",
   "id": "cc7be542-4a08-4db3-a2df-73f9caa1da73",
   "metadata": {},
   "source": [
    "### (7) emp_title"
   ]
  },
  {
   "cell_type": "code",
   "execution_count": 50,
   "id": "e8d5a677-562b-4a07-9938-d0a4f4d10145",
   "metadata": {},
   "outputs": [
    {
     "data": {
      "text/plain": [
       "count     1259525\n",
       "unique     378353\n",
       "top       Teacher\n",
       "freq        21268\n",
       "Name: emp_title, dtype: object"
      ]
     },
     "execution_count": 50,
     "metadata": {},
     "output_type": "execute_result"
    }
   ],
   "source": [
    "data['emp_title'].describe()"
   ]
  },
  {
   "cell_type": "markdown",
   "id": "05d0c7e7-9abb-473f-87dd-f509ebe6cbc2",
   "metadata": {},
   "source": [
    "- 직업(job_title) 항목에는 너무 다양한 값이 존재해서 분석에 유용하지 않으므로 해당 컬럼을 삭제"
   ]
  },
  {
   "cell_type": "code",
   "execution_count": 51,
   "id": "2efa745e-6e3a-4024-93b6-264d9387ef94",
   "metadata": {},
   "outputs": [],
   "source": [
    "data.drop(labels='emp_title', axis=1, inplace=True)"
   ]
  },
  {
   "cell_type": "markdown",
   "id": "4749c6c3-3297-440f-8b5c-2cdcf64bafca",
   "metadata": {},
   "source": [
    "### (8) emp_length"
   ]
  },
  {
   "cell_type": "code",
   "execution_count": 52,
   "id": "7d575dd7-b350-4cff-91d2-a2c137d4f8af",
   "metadata": {},
   "outputs": [
    {
     "data": {
      "text/plain": [
       "emp_length\n",
       "1 year        88494\n",
       "10+ years    442199\n",
       "2 years      121743\n",
       "3 years      107597\n",
       "4 years       80556\n",
       "5 years       84154\n",
       "6 years       62733\n",
       "7 years       59624\n",
       "8 years       60701\n",
       "9 years       50937\n",
       "< 1 year     108061\n",
       "NaN           78511\n",
       "Name: count, dtype: int64"
      ]
     },
     "execution_count": 52,
     "metadata": {},
     "output_type": "execute_result"
    }
   ],
   "source": [
    "data['emp_length'].value_counts(dropna=False).sort_index()"
   ]
  },
  {
   "cell_type": "markdown",
   "id": "703341e5-9124-4f2e-9212-b93a15376218",
   "metadata": {},
   "source": [
    "- 누락 데이터 78511개"
   ]
  },
  {
   "cell_type": "markdown",
   "id": "e472fdea-e136-42f1-b89d-e9387b6486a3",
   "metadata": {},
   "source": [
    "- emp_length 컬럼의 값을 정수형(integer) 으로 변환"
   ]
  },
  {
   "cell_type": "code",
   "execution_count": 53,
   "id": "ae5d1dff-47b3-4b2f-b922-8c15d745097a",
   "metadata": {
    "scrolled": true
   },
   "outputs": [
    {
     "name": "stderr",
     "output_type": "stream",
     "text": [
      "C:\\Users\\KDT6\\AppData\\Local\\Temp\\ipykernel_43864\\2379937944.py:7: FutureWarning: A value is trying to be set on a copy of a DataFrame or Series through chained assignment using an inplace method.\n",
      "The behavior will change in pandas 3.0. This inplace method will never work because the intermediate object on which we are setting values always behaves as a copy.\n",
      "\n",
      "For example, when doing 'df[col].method(value, inplace=True)', try using 'df.method({col: value}, inplace=True)' or df[col] = df[col].method(value) instead, to perform the operation inplace on the original object.\n",
      "\n",
      "\n",
      "  data['emp_length'].replace(to_replace='10+ years', value='10 years', inplace=True)\n",
      "C:\\Users\\KDT6\\AppData\\Local\\Temp\\ipykernel_43864\\2379937944.py:10: FutureWarning: A value is trying to be set on a copy of a DataFrame or Series through chained assignment using an inplace method.\n",
      "The behavior will change in pandas 3.0. This inplace method will never work because the intermediate object on which we are setting values always behaves as a copy.\n",
      "\n",
      "For example, when doing 'df[col].method(value, inplace=True)', try using 'df.method({col: value}, inplace=True)' or df[col] = df[col].method(value) instead, to perform the operation inplace on the original object.\n",
      "\n",
      "\n",
      "  data['emp_length'].replace('< 1 year', '0 years', inplace=True)\n",
      "C:\\Users\\KDT6\\AppData\\Local\\Temp\\ipykernel_43864\\2379937944.py:34: FutureWarning: \n",
      "\n",
      "Passing `palette` without assigning `hue` is deprecated and will be removed in v0.14.0. Assign the `x` variable to `hue` and set `legend=False` for the same effect.\n",
      "\n",
      "  sns.countplot(data=data, x='emp_length', palette='viridis', order=transformed_counts.index)\n"
     ]
    },
    {
     "data": {
      "image/png": "[encoded data removed]",
      "text/plain": [
       "<Figure size 1000x600 with 1 Axes>"
      ]
     },
     "metadata": {},
     "output_type": "display_data"
    }
   ],
   "source": [
    "import pandas as pd\n",
    "import numpy as np\n",
    "import matplotlib.pyplot as plt\n",
    "import seaborn as sns\n",
    "\n",
    "# 1. '10+ years'를 '10 years'로 변경합니다.\n",
    "data['emp_length'].replace(to_replace='10+ years', value='10 years', inplace=True)\n",
    "\n",
    "# 2. '< 1 year'를 '0 years'로 변경합니다.\n",
    "data['emp_length'].replace('< 1 year', '0 years', inplace=True)\n",
    "\n",
    "# 3. emp_length 문자열을 정수형으로 변환하는 함수를 정의합니다.\n",
    "def emp_length_to_int(s):\n",
    "    if pd.isnull(s):\n",
    "        return s  # NaN 값은 그대로 반환\n",
    "    else:\n",
    "        try:\n",
    "            # 문자열에서 숫자 부분만 추출하여 정수형으로 변환\n",
    "            return np.int8(s.split()[0])\n",
    "        except (AttributeError, ValueError):\n",
    "            return s # 변환 실패 시 원래 값 반환\n",
    "\n",
    "# 4. 정의한 함수를 emp_length 컬럼에 적용합니다.\n",
    "data['emp_length'] = data['emp_length'].apply(emp_length_to_int)\n",
    "\n",
    "# 5. 변환된 emp_length의 분포를 확인하고 정렬합니다.\n",
    "transformed_counts = data['emp_length'].value_counts(dropna=False).sort_index()\n",
    "\n",
    "# 6. 'emp_length' 컬럼의 분포를 시각화합니다.\n",
    "# 플로팅을 위해 숫자로 변환된 emp_length를 범주형으로 변환하여 정렬을 올바르게 합니다.\n",
    "data['emp_length'] = pd.Categorical(data['emp_length'], categories=sorted(data['emp_length'].dropna().unique()))\n",
    "\n",
    "plt.figure(figsize=(10, 6))\n",
    "sns.countplot(data=data, x='emp_length', palette='viridis', order=transformed_counts.index)\n",
    "plt.title('Employment Length Distribution')\n",
    "plt.xlabel('Employment Length (Years)')\n",
    "plt.ylabel('Count')\n",
    "plt.grid(axis='y', linestyle='--', alpha=0.7)\n",
    "plt.show()"
   ]
  },
  {
   "cell_type": "code",
   "execution_count": 54,
   "id": "8f7e002f-8937-435d-9c70-16220787534c",
   "metadata": {},
   "outputs": [
    {
     "name": "stderr",
     "output_type": "stream",
     "text": [
      "C:\\Users\\KDT6\\AppData\\Local\\Temp\\ipykernel_43864\\437318301.py:29: FutureWarning: The default of observed=False is deprecated and will be changed to True in a future version of pandas. Pass observed=False to retain current behavior or observed=True to adopt the future default and silence this warning.\n",
      "  charge_off_rates = data.groupby(col_name)['loan_status'].value_counts(normalize=True).loc[:,'Charged Off']\n"
     ]
    },
    {
     "data": {
      "image/png": "[encoded data removed]",
      "text/plain": [
       "<Figure size 1080x270 with 2 Axes>"
      ]
     },
     "metadata": {},
     "output_type": "display_data"
    }
   ],
   "source": [
    "plot_var('emp_length', 'Employment Length', continuous=False)"
   ]
  },
  {
   "cell_type": "code",
   "execution_count": null,
   "id": "c5c6230f-62d9-4669-b908-513025875579",
   "metadata": {},
   "outputs": [],
   "source": []
  },
  {
   "cell_type": "markdown",
   "id": "9b109860-442e-48f5-a76d-81704818ee64",
   "metadata": {},
   "source": [
    "### (9) home_ownership"
   ]
  },
  {
   "cell_type": "code",
   "execution_count": 55,
   "id": "03c13695-24eb-4de3-8206-8720f6d9538e",
   "metadata": {},
   "outputs": [
    {
     "data": {
      "text/plain": [
       "home_ownership\n",
       "MORTGAGE    665579\n",
       "RENT        534421\n",
       "OWN         144832\n",
       "ANY            286\n",
       "OTHER          144\n",
       "NONE            48\n",
       "Name: count, dtype: int64"
      ]
     },
     "execution_count": 55,
     "metadata": {},
     "output_type": "execute_result"
    }
   ],
   "source": [
    "data['home_ownership'].value_counts(dropna=False)"
   ]
  },
  {
   "cell_type": "code",
   "execution_count": 56,
   "id": "691aa9b4-5fda-4b03-b50f-b0caecf236b1",
   "metadata": {},
   "outputs": [
    {
     "name": "stderr",
     "output_type": "stream",
     "text": [
      "C:\\Users\\KDT6\\AppData\\Local\\Temp\\ipykernel_43864\\3992848594.py:1: FutureWarning: A value is trying to be set on a copy of a DataFrame or Series through chained assignment using an inplace method.\n",
      "The behavior will change in pandas 3.0. This inplace method will never work because the intermediate object on which we are setting values always behaves as a copy.\n",
      "\n",
      "For example, when doing 'df[col].method(value, inplace=True)', try using 'df.method({col: value}, inplace=True)' or df[col] = df[col].method(value) instead, to perform the operation inplace on the original object.\n",
      "\n",
      "\n",
      "  data['home_ownership'].replace(['NONE', 'ANY'], 'OTHER', inplace=True)\n"
     ]
    }
   ],
   "source": [
    "data['home_ownership'].replace(['NONE', 'ANY'], 'OTHER', inplace=True)"
   ]
  },
  {
   "cell_type": "code",
   "execution_count": 57,
   "id": "e15ccbe4-8528-445c-9555-f551c37338f2",
   "metadata": {},
   "outputs": [
    {
     "data": {
      "text/plain": [
       "home_ownership\n",
       "MORTGAGE    665579\n",
       "RENT        534421\n",
       "OWN         144832\n",
       "OTHER          478\n",
       "Name: count, dtype: int64"
      ]
     },
     "execution_count": 57,
     "metadata": {},
     "output_type": "execute_result"
    }
   ],
   "source": [
    "data['home_ownership'].value_counts(dropna=False)"
   ]
  },
  {
   "cell_type": "code",
   "execution_count": 58,
   "id": "3669ee94-3bab-4a63-95af-e446f51952b8",
   "metadata": {},
   "outputs": [
    {
     "data": {
      "image/png": "[encoded data removed]",
      "text/plain": [
       "<Figure size 1080x270 with 2 Axes>"
      ]
     },
     "metadata": {},
     "output_type": "display_data"
    }
   ],
   "source": [
    "plot_var('home_ownership', 'Home Ownership', continuous=False)"
   ]
  },
  {
   "cell_type": "code",
   "execution_count": 59,
   "id": "36e5f9c1-38f5-4fb5-972c-c50c1761ad64",
   "metadata": {},
   "outputs": [
    {
     "data": {
      "text/plain": [
       "home_ownership\n",
       "MORTGAGE    0.172077\n",
       "OTHER       0.188285\n",
       "OWN         0.206198\n",
       "RENT        0.232165\n",
       "Name: proportion, dtype: float64"
      ]
     },
     "execution_count": 59,
     "metadata": {},
     "output_type": "execute_result"
    }
   ],
   "source": [
    "data.groupby('home_ownership')['loan_status'].value_counts(normalize=True).loc[:,'Charged Off']"
   ]
  },
  {
   "cell_type": "code",
   "execution_count": null,
   "id": "6e0ee4f3-92d7-4dbc-82da-9b42c0f6b182",
   "metadata": {},
   "outputs": [],
   "source": []
  },
  {
   "cell_type": "markdown",
   "id": "45b9ff0e-92ee-4844-9ae1-3bc9d823eccb",
   "metadata": {},
   "source": [
    "### (10) annual_inc"
   ]
  },
  {
   "cell_type": "code",
   "execution_count": 60,
   "id": "9a4e6eda-09a4-45f9-8ba9-5deb8dacd040",
   "metadata": {},
   "outputs": [
    {
     "data": {
      "text/plain": [
       "count    1.345310e+06\n",
       "mean     7.624764e+04\n",
       "std      6.992510e+04\n",
       "min      0.000000e+00\n",
       "25%      4.578000e+04\n",
       "50%      6.500000e+04\n",
       "75%      9.000000e+04\n",
       "max      1.099920e+07\n",
       "Name: annual_inc, dtype: float64"
      ]
     },
     "execution_count": 60,
     "metadata": {},
     "output_type": "execute_result"
    }
   ],
   "source": [
    "data['annual_inc'].describe()"
   ]
  },
  {
   "cell_type": "code",
   "execution_count": 61,
   "id": "2af3fa60-1f59-463f-9c15-f3dcf0ca9d00",
   "metadata": {},
   "outputs": [],
   "source": [
    "data['log_annual_inc'] = data['annual_inc'].apply(lambda x: np.log10(x+1))"
   ]
  },
  {
   "cell_type": "code",
   "execution_count": 62,
   "id": "1ecc12de-fd8c-4436-8811-cc85ca107ca5",
   "metadata": {},
   "outputs": [],
   "source": [
    "data.drop('annual_inc', axis=1, inplace=True)"
   ]
  },
  {
   "cell_type": "code",
   "execution_count": 63,
   "id": "0925fea0-3057-4ef9-94ff-fece1690ce6e",
   "metadata": {},
   "outputs": [
    {
     "data": {
      "text/plain": [
       "count    1.345310e+06\n",
       "mean     4.812814e+00\n",
       "std      2.477200e-01\n",
       "min      0.000000e+00\n",
       "25%      4.660685e+00\n",
       "50%      4.812920e+00\n",
       "75%      4.954247e+00\n",
       "max      7.041361e+00\n",
       "Name: log_annual_inc, dtype: float64"
      ]
     },
     "execution_count": 63,
     "metadata": {},
     "output_type": "execute_result"
    }
   ],
   "source": [
    "data['log_annual_inc'].describe()"
   ]
  },
  {
   "cell_type": "code",
   "execution_count": 64,
   "id": "d95396c1-720c-4180-b2d1-8510937c607c",
   "metadata": {},
   "outputs": [
    {
     "data": {
      "image/png": "[encoded data removed]",
      "text/plain": [
       "<Figure size 1080x270 with 2 Axes>"
      ]
     },
     "metadata": {},
     "output_type": "display_data"
    }
   ],
   "source": [
    "plot_var('log_annual_inc', 'Log Annual Income', continuous=True)"
   ]
  },
  {
   "cell_type": "code",
   "execution_count": 65,
   "id": "0e318ca9-0513-435f-a9b1-bfdf8ea10bba",
   "metadata": {},
   "outputs": [
    {
     "data": {
      "text/html": [
       "<div>\n",
       "<style scoped>\n",
       "    .dataframe tbody tr th:only-of-type {\n",
       "        vertical-align: middle;\n",
       "    }\n",
       "\n",
       "    .dataframe tbody tr th {\n",
       "        vertical-align: top;\n",
       "    }\n",
       "\n",
       "    .dataframe thead th {\n",
       "        text-align: right;\n",
       "    }\n",
       "</style>\n",
       "<table border=\"1\" class=\"dataframe\">\n",
       "  <thead>\n",
       "    <tr style=\"text-align: right;\">\n",
       "      <th></th>\n",
       "      <th>count</th>\n",
       "      <th>mean</th>\n",
       "      <th>std</th>\n",
       "      <th>min</th>\n",
       "      <th>25%</th>\n",
       "      <th>50%</th>\n",
       "      <th>75%</th>\n",
       "      <th>max</th>\n",
       "    </tr>\n",
       "    <tr>\n",
       "      <th>loan_status</th>\n",
       "      <th></th>\n",
       "      <th></th>\n",
       "      <th></th>\n",
       "      <th></th>\n",
       "      <th></th>\n",
       "      <th></th>\n",
       "      <th></th>\n",
       "      <th></th>\n",
       "    </tr>\n",
       "  </thead>\n",
       "  <tbody>\n",
       "    <tr>\n",
       "      <th>Charged Off</th>\n",
       "      <td>268559.0</td>\n",
       "      <td>4.781756</td>\n",
       "      <td>0.241984</td>\n",
       "      <td>0.0</td>\n",
       "      <td>4.633479</td>\n",
       "      <td>4.778158</td>\n",
       "      <td>4.929424</td>\n",
       "      <td>6.977724</td>\n",
       "    </tr>\n",
       "    <tr>\n",
       "      <th>Fully Paid</th>\n",
       "      <td>1076751.0</td>\n",
       "      <td>4.820560</td>\n",
       "      <td>0.248526</td>\n",
       "      <td>0.0</td>\n",
       "      <td>4.672107</td>\n",
       "      <td>4.812920</td>\n",
       "      <td>4.968488</td>\n",
       "      <td>7.041361</td>\n",
       "    </tr>\n",
       "  </tbody>\n",
       "</table>\n",
       "</div>"
      ],
      "text/plain": [
       "                 count      mean       std  min       25%       50%       75%  \\\n",
       "loan_status                                                                     \n",
       "Charged Off   268559.0  4.781756  0.241984  0.0  4.633479  4.778158  4.929424   \n",
       "Fully Paid   1076751.0  4.820560  0.248526  0.0  4.672107  4.812920  4.968488   \n",
       "\n",
       "                  max  \n",
       "loan_status            \n",
       "Charged Off  6.977724  \n",
       "Fully Paid   7.041361  "
      ]
     },
     "execution_count": 65,
     "metadata": {},
     "output_type": "execute_result"
    }
   ],
   "source": [
    "data.groupby('loan_status')['log_annual_inc'].describe()"
   ]
  },
  {
   "cell_type": "code",
   "execution_count": null,
   "id": "eeb85d3b-9ac4-4452-b139-cb7a72589406",
   "metadata": {},
   "outputs": [],
   "source": []
  },
  {
   "cell_type": "markdown",
   "id": "e1d80919-0998-46dd-b5fd-40beb8f620fd",
   "metadata": {},
   "source": [
    "### (11) verification_status"
   ]
  },
  {
   "cell_type": "code",
   "execution_count": 66,
   "id": "cb3abdac-32a8-463b-8ac6-dee67b4c4c27",
   "metadata": {},
   "outputs": [
    {
     "data": {
      "image/png": "[encoded data removed]",
      "text/plain": [
       "<Figure size 1080x270 with 2 Axes>"
      ]
     },
     "metadata": {},
     "output_type": "display_data"
    }
   ],
   "source": [
    "plot_var('verification_status', 'Verification Status', continuous=False)"
   ]
  },
  {
   "cell_type": "code",
   "execution_count": null,
   "id": "66f32a3d-bced-43ec-be3a-bb599d10ee2d",
   "metadata": {},
   "outputs": [],
   "source": []
  },
  {
   "cell_type": "markdown",
   "id": "624b5f53-512d-41a9-a204-e6882bd219fb",
   "metadata": {},
   "source": [
    "### (12) issue_d"
   ]
  },
  {
   "cell_type": "code",
   "execution_count": null,
   "id": "d78e6347-7109-4fde-8339-45c276ae20b8",
   "metadata": {},
   "outputs": [],
   "source": []
  },
  {
   "cell_type": "markdown",
   "id": "77e91c0d-190c-4e8e-8f51-6884928237df",
   "metadata": {},
   "source": [
    "### (13) purpose"
   ]
  },
  {
   "cell_type": "code",
   "execution_count": 67,
   "id": "a2520638-7649-4352-90ce-fab0683d4453",
   "metadata": {},
   "outputs": [
    {
     "data": {
      "text/plain": [
       "purpose\n",
       "debt_consolidation    780321\n",
       "credit_card           295279\n",
       "home_improvement       87504\n",
       "other                  77875\n",
       "major_purchase         29425\n",
       "medical                15554\n",
       "small_business         15416\n",
       "car                    14585\n",
       "moving                  9480\n",
       "vacation                9065\n",
       "house                   7253\n",
       "wedding                 2294\n",
       "renewable_energy         933\n",
       "educational              326\n",
       "Name: count, dtype: int64"
      ]
     },
     "execution_count": 67,
     "metadata": {},
     "output_type": "execute_result"
    }
   ],
   "source": [
    "data['purpose'].value_counts()"
   ]
  },
  {
   "cell_type": "code",
   "execution_count": 68,
   "id": "d3e85678-0bd9-4191-98bd-14073907a626",
   "metadata": {},
   "outputs": [
    {
     "data": {
      "text/plain": [
       "purpose\n",
       "wedding               0.121622\n",
       "car                   0.146795\n",
       "credit_card           0.169270\n",
       "educational           0.171779\n",
       "home_improvement      0.177158\n",
       "major_purchase        0.185998\n",
       "vacation              0.191726\n",
       "other                 0.210401\n",
       "debt_consolidation    0.211469\n",
       "medical               0.217757\n",
       "house                 0.218806\n",
       "moving                0.233544\n",
       "renewable_energy      0.236870\n",
       "small_business        0.297094\n",
       "Name: proportion, dtype: float64"
      ]
     },
     "execution_count": 68,
     "metadata": {},
     "output_type": "execute_result"
    }
   ],
   "source": [
    "data.groupby('purpose')['loan_status'].value_counts(normalize=True).loc[:,'Charged Off'].sort_values()"
   ]
  },
  {
   "cell_type": "code",
   "execution_count": null,
   "id": "c2f8dc50-f296-4a3a-bbdf-ef5fa091f6e4",
   "metadata": {},
   "outputs": [],
   "source": []
  },
  {
   "cell_type": "markdown",
   "id": "e12c2a48-4476-4cbf-a4b8-990d3a161048",
   "metadata": {},
   "source": [
    "### (14) title"
   ]
  },
  {
   "cell_type": "code",
   "execution_count": 69,
   "id": "38954ff4-2d3f-453e-94f5-e298ae732e37",
   "metadata": {},
   "outputs": [
    {
     "data": {
      "text/plain": [
       "count                1328650\n",
       "unique                 61681\n",
       "top       Debt consolidation\n",
       "freq                  660960\n",
       "Name: title, dtype: object"
      ]
     },
     "execution_count": 69,
     "metadata": {},
     "output_type": "execute_result"
    }
   ],
   "source": [
    "data['title'].describe()"
   ]
  },
  {
   "cell_type": "code",
   "execution_count": 70,
   "id": "66a1c119-b04c-4cb1-9615-b7c64977963c",
   "metadata": {},
   "outputs": [
    {
     "data": {
      "text/plain": [
       "title\n",
       "Debt consolidation         660960\n",
       "Credit card refinancing    249910\n",
       "Home improvement            75073\n",
       "Other                       66778\n",
       "Major purchase              24045\n",
       "Debt Consolidation          15695\n",
       "Medical expenses            13576\n",
       "Business                    11750\n",
       "Car financing               11220\n",
       "Vacation                     8046\n",
       "Name: count, dtype: int64"
      ]
     },
     "execution_count": 70,
     "metadata": {},
     "output_type": "execute_result"
    }
   ],
   "source": [
    "data['title'].value_counts().head(10)"
   ]
  },
  {
   "cell_type": "code",
   "execution_count": 71,
   "id": "1bdf42f6-ae34-4f6e-98e8-1e687bc53587",
   "metadata": {},
   "outputs": [],
   "source": [
    "data.drop('title', axis=1, inplace=True)"
   ]
  },
  {
   "cell_type": "code",
   "execution_count": null,
   "id": "e980c069-ec1a-45da-bb2a-652097568740",
   "metadata": {},
   "outputs": [],
   "source": []
  },
  {
   "cell_type": "markdown",
   "id": "ef53c386-0586-45a4-9800-48cf29fdfbf8",
   "metadata": {},
   "source": [
    "### (15) zip_code, addr_state"
   ]
  },
  {
   "cell_type": "code",
   "execution_count": 72,
   "id": "dafb57c9-e334-4e78-9a69-01e0de7f6632",
   "metadata": {},
   "outputs": [
    {
     "data": {
      "text/plain": [
       "397651     080xx\n",
       "1281974    193xx\n",
       "1745337    200xx\n",
       "34762      300xx\n",
       "2080863    762xx\n",
       "Name: zip_code, dtype: object"
      ]
     },
     "execution_count": 72,
     "metadata": {},
     "output_type": "execute_result"
    }
   ],
   "source": [
    "data['zip_code'].sample(5)"
   ]
  },
  {
   "cell_type": "code",
   "execution_count": 73,
   "id": "eb605deb-6a9e-4fbc-b3af-3b3314fefbe2",
   "metadata": {},
   "outputs": [
    {
     "data": {
      "text/plain": [
       "943"
      ]
     },
     "execution_count": 73,
     "metadata": {},
     "output_type": "execute_result"
    }
   ],
   "source": [
    "data['zip_code'].nunique()"
   ]
  },
  {
   "cell_type": "code",
   "execution_count": 74,
   "id": "e4223f1b-9843-4064-bbee-6c8397c5da50",
   "metadata": {},
   "outputs": [
    {
     "data": {
      "text/plain": [
       "951930     CA\n",
       "2002180    OH\n",
       "212142     PA\n",
       "2136716    IN\n",
       "1764366    TX\n",
       "Name: addr_state, dtype: object"
      ]
     },
     "execution_count": 74,
     "metadata": {},
     "output_type": "execute_result"
    }
   ],
   "source": [
    "data['addr_state'].sample(5)"
   ]
  },
  {
   "cell_type": "code",
   "execution_count": 75,
   "id": "20c4c5a9-a336-4e38-8c7b-8703c28b1da0",
   "metadata": {},
   "outputs": [
    {
     "data": {
      "text/plain": [
       "51"
      ]
     },
     "execution_count": 75,
     "metadata": {},
     "output_type": "execute_result"
    }
   ],
   "source": [
    "data['addr_state'].nunique()"
   ]
  },
  {
   "cell_type": "code",
   "execution_count": 76,
   "id": "47ac1335-1111-45c5-a792-de8bbeea91ee",
   "metadata": {},
   "outputs": [],
   "source": [
    "data.drop(labels='zip_code', axis=1, inplace=True)"
   ]
  },
  {
   "cell_type": "code",
   "execution_count": 77,
   "id": "3388a99f-1a7f-4d8f-92a0-e2cd23441950",
   "metadata": {},
   "outputs": [
    {
     "data": {
      "text/plain": [
       "addr_state\n",
       "DC    0.132086\n",
       "ME    0.138424\n",
       "VT    0.139517\n",
       "IA    0.142857\n",
       "OR    0.143850\n",
       "NH    0.145759\n",
       "WV    0.155187\n",
       "CO    0.155269\n",
       "WA    0.157565\n",
       "SC    0.162769\n",
       "KS    0.167438\n",
       "WY    0.167693\n",
       "MT    0.168716\n",
       "UT    0.170586\n",
       "CT    0.173763\n",
       "RI    0.178675\n",
       "IL    0.180974\n",
       "WI    0.183510\n",
       "GA    0.183927\n",
       "ID    0.188277\n",
       "MA    0.190528\n",
       "CA    0.196104\n",
       "AZ    0.196299\n",
       "AK    0.196552\n",
       "MN    0.197430\n",
       "DE    0.197462\n",
       "TX    0.198223\n",
       "VA    0.199422\n",
       "HI    0.202013\n",
       "MI    0.202957\n",
       "ND    0.204744\n",
       "OH    0.205283\n",
       "NC    0.207839\n",
       "PA    0.207921\n",
       "KY    0.209829\n",
       "NJ    0.211212\n",
       "MO    0.212935\n",
       "MD    0.213085\n",
       "SD    0.213227\n",
       "NM    0.213665\n",
       "TN    0.214079\n",
       "IN    0.214082\n",
       "FL    0.214746\n",
       "NV    0.219223\n",
       "NY    0.220435\n",
       "LA    0.231821\n",
       "OK    0.234753\n",
       "AL    0.236321\n",
       "AR    0.240868\n",
       "NE    0.251813\n",
       "MS    0.260777\n",
       "Name: proportion, dtype: float64"
      ]
     },
     "execution_count": 77,
     "metadata": {},
     "output_type": "execute_result"
    }
   ],
   "source": [
    "data.groupby('addr_state')['loan_status'].value_counts(normalize=True).loc[:,'Charged Off'].sort_values()"
   ]
  },
  {
   "cell_type": "code",
   "execution_count": null,
   "id": "ed741527-5c47-4346-b9cc-80ae48785f41",
   "metadata": {},
   "outputs": [],
   "source": []
  },
  {
   "cell_type": "markdown",
   "id": "97b4df77-fc55-481b-980d-becce5ca5e62",
   "metadata": {},
   "source": [
    "### (16) dti"
   ]
  },
  {
   "cell_type": "code",
   "execution_count": 78,
   "id": "575230dd-000b-435c-bff4-17c5e21e0e59",
   "metadata": {},
   "outputs": [
    {
     "data": {
      "text/plain": [
       "count    1.344936e+06\n",
       "mean     1.828267e+01\n",
       "std      1.116045e+01\n",
       "min     -1.000000e+00\n",
       "25%      1.179000e+01\n",
       "50%      1.761000e+01\n",
       "75%      2.406000e+01\n",
       "max      9.990000e+02\n",
       "Name: dti, dtype: float64"
      ]
     },
     "execution_count": 78,
     "metadata": {},
     "output_type": "execute_result"
    }
   ],
   "source": [
    "data['dti'].describe()"
   ]
  },
  {
   "cell_type": "code",
   "execution_count": 79,
   "id": "6e7eff38-ea1f-4fe5-b800-8e944b735145",
   "metadata": {},
   "outputs": [
    {
     "name": "stderr",
     "output_type": "stream",
     "text": [
      "C:\\Users\\KDT6\\AppData\\Local\\Temp\\ipykernel_43864\\104706828.py:2: UserWarning: \n",
      "\n",
      "`distplot` is a deprecated function and will be removed in seaborn v0.14.0.\n",
      "\n",
      "Please adapt your code to use either `displot` (a figure-level function with\n",
      "similar flexibility) or `histplot` (an axes-level function for histograms).\n",
      "\n",
      "For a guide to updating your code to use the new functions, please see\n",
      "https://gist.github.com/mwaskom/de44147ed2974457ad6372750bbe5751\n",
      "\n",
      "  sns.distplot(data.loc[data['dti'].notnull() & (data['dti']<60), 'dti'], kde=False)\n"
     ]
    },
    {
     "data": {
      "text/plain": [
       "Text(0.5, 1.0, 'Debt-to-income Ratio')"
      ]
     },
     "execution_count": 79,
     "metadata": {},
     "output_type": "execute_result"
    },
    {
     "data": {
      "image/png": "[encoded data removed]",
      "text/plain": [
       "<Figure size 720x270 with 1 Axes>"
      ]
     },
     "metadata": {},
     "output_type": "display_data"
    }
   ],
   "source": [
    "plt.figure(figsize=(8,3), dpi=90)\n",
    "sns.distplot(data.loc[data['dti'].notnull() & (data['dti']<60), 'dti'], kde=False)\n",
    "plt.xlabel('Debt-to-income Ratio')\n",
    "plt.ylabel('Count')\n",
    "plt.title('Debt-to-income Ratio')"
   ]
  },
  {
   "cell_type": "code",
   "execution_count": 80,
   "id": "7d338dc7-6050-45f1-9729-8c00b33433b0",
   "metadata": {},
   "outputs": [
    {
     "data": {
      "text/plain": [
       "1715"
      ]
     },
     "execution_count": 80,
     "metadata": {},
     "output_type": "execute_result"
    }
   ],
   "source": [
    "(data['dti']>=60).sum()"
   ]
  },
  {
   "cell_type": "code",
   "execution_count": 81,
   "id": "52c8f9ac-0653-47f5-bc8c-f08f106a483a",
   "metadata": {},
   "outputs": [
    {
     "data": {
      "text/html": [
       "<div>\n",
       "<style scoped>\n",
       "    .dataframe tbody tr th:only-of-type {\n",
       "        vertical-align: middle;\n",
       "    }\n",
       "\n",
       "    .dataframe tbody tr th {\n",
       "        vertical-align: top;\n",
       "    }\n",
       "\n",
       "    .dataframe thead th {\n",
       "        text-align: right;\n",
       "    }\n",
       "</style>\n",
       "<table border=\"1\" class=\"dataframe\">\n",
       "  <thead>\n",
       "    <tr style=\"text-align: right;\">\n",
       "      <th></th>\n",
       "      <th>count</th>\n",
       "      <th>mean</th>\n",
       "      <th>std</th>\n",
       "      <th>min</th>\n",
       "      <th>25%</th>\n",
       "      <th>50%</th>\n",
       "      <th>75%</th>\n",
       "      <th>max</th>\n",
       "    </tr>\n",
       "    <tr>\n",
       "      <th>loan_status</th>\n",
       "      <th></th>\n",
       "      <th></th>\n",
       "      <th></th>\n",
       "      <th></th>\n",
       "      <th></th>\n",
       "      <th></th>\n",
       "      <th></th>\n",
       "      <th></th>\n",
       "    </tr>\n",
       "  </thead>\n",
       "  <tbody>\n",
       "    <tr>\n",
       "      <th>Charged Off</th>\n",
       "      <td>268488.0</td>\n",
       "      <td>20.171196</td>\n",
       "      <td>11.831747</td>\n",
       "      <td>0.0</td>\n",
       "      <td>13.55</td>\n",
       "      <td>19.76</td>\n",
       "      <td>26.31</td>\n",
       "      <td>999.0</td>\n",
       "    </tr>\n",
       "    <tr>\n",
       "      <th>Fully Paid</th>\n",
       "      <td>1076448.0</td>\n",
       "      <td>17.811629</td>\n",
       "      <td>10.935927</td>\n",
       "      <td>-1.0</td>\n",
       "      <td>11.43</td>\n",
       "      <td>17.11</td>\n",
       "      <td>23.44</td>\n",
       "      <td>999.0</td>\n",
       "    </tr>\n",
       "  </tbody>\n",
       "</table>\n",
       "</div>"
      ],
      "text/plain": [
       "                 count       mean        std  min    25%    50%    75%    max\n",
       "loan_status                                                                  \n",
       "Charged Off   268488.0  20.171196  11.831747  0.0  13.55  19.76  26.31  999.0\n",
       "Fully Paid   1076448.0  17.811629  10.935927 -1.0  11.43  17.11  23.44  999.0"
      ]
     },
     "execution_count": 81,
     "metadata": {},
     "output_type": "execute_result"
    }
   ],
   "source": [
    "data.groupby('loan_status')['dti'].describe()"
   ]
  },
  {
   "cell_type": "code",
   "execution_count": null,
   "id": "db276c6d-a3b6-4127-a023-f56b580a22ff",
   "metadata": {},
   "outputs": [],
   "source": []
  },
  {
   "cell_type": "markdown",
   "id": "d2cf70fb-dc3f-4131-ab50-5df89ef20fcb",
   "metadata": {},
   "source": [
    "### (17) earliest_cr_line"
   ]
  },
  {
   "cell_type": "code",
   "execution_count": 82,
   "id": "c85adada-a95b-43a3-89a9-b1080152268f",
   "metadata": {},
   "outputs": [
    {
     "data": {
      "text/plain": [
       "1807765    Oct-1994\n",
       "1636511    Jun-1982\n",
       "1143237    Feb-1995\n",
       "500825     Oct-1995\n",
       "1615609    Jun-2000\n",
       "Name: earliest_cr_line, dtype: object"
      ]
     },
     "execution_count": 82,
     "metadata": {},
     "output_type": "execute_result"
    }
   ],
   "source": [
    "data['earliest_cr_line'].sample(5)"
   ]
  },
  {
   "cell_type": "code",
   "execution_count": 83,
   "id": "0504b83b-ca92-4c0f-843f-153128f97aab",
   "metadata": {},
   "outputs": [
    {
     "data": {
      "text/plain": [
       "False"
      ]
     },
     "execution_count": 83,
     "metadata": {},
     "output_type": "execute_result"
    }
   ],
   "source": [
    "data['earliest_cr_line'].isnull().any()"
   ]
  },
  {
   "cell_type": "code",
   "execution_count": 84,
   "id": "a7f628fd-1a1b-46a8-8859-c1f6b1d45d56",
   "metadata": {},
   "outputs": [],
   "source": [
    "data['earliest_cr_line'] = data['earliest_cr_line'].apply(lambda s: int(s[-4:]))"
   ]
  },
  {
   "cell_type": "code",
   "execution_count": 85,
   "id": "494fec98-4e51-4cd6-9b13-241cd6683e47",
   "metadata": {},
   "outputs": [
    {
     "data": {
      "text/plain": [
       "count    1.345310e+06\n",
       "mean     1.998693e+03\n",
       "std      7.608258e+00\n",
       "min      1.934000e+03\n",
       "25%      1.995000e+03\n",
       "50%      2.000000e+03\n",
       "75%      2.004000e+03\n",
       "max      2.015000e+03\n",
       "Name: earliest_cr_line, dtype: float64"
      ]
     },
     "execution_count": 85,
     "metadata": {},
     "output_type": "execute_result"
    }
   ],
   "source": [
    "data['earliest_cr_line'].describe()"
   ]
  },
  {
   "cell_type": "code",
   "execution_count": 86,
   "id": "c3399e4f-800b-466c-8ee9-e2b5072fa071",
   "metadata": {},
   "outputs": [
    {
     "data": {
      "image/png": "[encoded data removed]",
      "text/plain": [
       "<Figure size 1080x270 with 2 Axes>"
      ]
     },
     "metadata": {},
     "output_type": "display_data"
    }
   ],
   "source": [
    "plot_var('earliest_cr_line', 'Year of Earliest Credit Line', continuous=True)"
   ]
  },
  {
   "cell_type": "code",
   "execution_count": null,
   "id": "7bb63845-02fc-4d03-b0a7-5fb9ed3e037c",
   "metadata": {},
   "outputs": [],
   "source": []
  },
  {
   "cell_type": "markdown",
   "id": "4bdad324-49a1-4d96-9f6b-e8daef074676",
   "metadata": {},
   "source": [
    "### (18) fico_range_low, fico_range_high"
   ]
  },
  {
   "cell_type": "code",
   "execution_count": 87,
   "id": "44cc03cb-e32e-4fa3-84c4-e5b1af70606d",
   "metadata": {},
   "outputs": [
    {
     "data": {
      "text/html": [
       "<div>\n",
       "<style scoped>\n",
       "    .dataframe tbody tr th:only-of-type {\n",
       "        vertical-align: middle;\n",
       "    }\n",
       "\n",
       "    .dataframe tbody tr th {\n",
       "        vertical-align: top;\n",
       "    }\n",
       "\n",
       "    .dataframe thead th {\n",
       "        text-align: right;\n",
       "    }\n",
       "</style>\n",
       "<table border=\"1\" class=\"dataframe\">\n",
       "  <thead>\n",
       "    <tr style=\"text-align: right;\">\n",
       "      <th></th>\n",
       "      <th>fico_range_low</th>\n",
       "      <th>fico_range_high</th>\n",
       "    </tr>\n",
       "  </thead>\n",
       "  <tbody>\n",
       "    <tr>\n",
       "      <th>count</th>\n",
       "      <td>1.345310e+06</td>\n",
       "      <td>1.345310e+06</td>\n",
       "    </tr>\n",
       "    <tr>\n",
       "      <th>mean</th>\n",
       "      <td>6.961850e+02</td>\n",
       "      <td>7.001852e+02</td>\n",
       "    </tr>\n",
       "    <tr>\n",
       "      <th>std</th>\n",
       "      <td>3.185251e+01</td>\n",
       "      <td>3.185316e+01</td>\n",
       "    </tr>\n",
       "    <tr>\n",
       "      <th>min</th>\n",
       "      <td>6.250000e+02</td>\n",
       "      <td>6.290000e+02</td>\n",
       "    </tr>\n",
       "    <tr>\n",
       "      <th>25%</th>\n",
       "      <td>6.700000e+02</td>\n",
       "      <td>6.740000e+02</td>\n",
       "    </tr>\n",
       "    <tr>\n",
       "      <th>50%</th>\n",
       "      <td>6.900000e+02</td>\n",
       "      <td>6.940000e+02</td>\n",
       "    </tr>\n",
       "    <tr>\n",
       "      <th>75%</th>\n",
       "      <td>7.100000e+02</td>\n",
       "      <td>7.140000e+02</td>\n",
       "    </tr>\n",
       "    <tr>\n",
       "      <th>max</th>\n",
       "      <td>8.450000e+02</td>\n",
       "      <td>8.500000e+02</td>\n",
       "    </tr>\n",
       "  </tbody>\n",
       "</table>\n",
       "</div>"
      ],
      "text/plain": [
       "       fico_range_low  fico_range_high\n",
       "count    1.345310e+06     1.345310e+06\n",
       "mean     6.961850e+02     7.001852e+02\n",
       "std      3.185251e+01     3.185316e+01\n",
       "min      6.250000e+02     6.290000e+02\n",
       "25%      6.700000e+02     6.740000e+02\n",
       "50%      6.900000e+02     6.940000e+02\n",
       "75%      7.100000e+02     7.140000e+02\n",
       "max      8.450000e+02     8.500000e+02"
      ]
     },
     "execution_count": 87,
     "metadata": {},
     "output_type": "execute_result"
    }
   ],
   "source": [
    "data[['fico_range_low', 'fico_range_high']].describe()"
   ]
  },
  {
   "cell_type": "code",
   "execution_count": 88,
   "id": "3aec5dc7-165d-4c53-bb0a-1339f89e5594",
   "metadata": {},
   "outputs": [
    {
     "data": {
      "text/html": [
       "<div>\n",
       "<style scoped>\n",
       "    .dataframe tbody tr th:only-of-type {\n",
       "        vertical-align: middle;\n",
       "    }\n",
       "\n",
       "    .dataframe tbody tr th {\n",
       "        vertical-align: top;\n",
       "    }\n",
       "\n",
       "    .dataframe thead th {\n",
       "        text-align: right;\n",
       "    }\n",
       "</style>\n",
       "<table border=\"1\" class=\"dataframe\">\n",
       "  <thead>\n",
       "    <tr style=\"text-align: right;\">\n",
       "      <th></th>\n",
       "      <th>fico_range_low</th>\n",
       "      <th>fico_range_high</th>\n",
       "    </tr>\n",
       "  </thead>\n",
       "  <tbody>\n",
       "    <tr>\n",
       "      <th>fico_range_low</th>\n",
       "      <td>1.0</td>\n",
       "      <td>1.0</td>\n",
       "    </tr>\n",
       "    <tr>\n",
       "      <th>fico_range_high</th>\n",
       "      <td>1.0</td>\n",
       "      <td>1.0</td>\n",
       "    </tr>\n",
       "  </tbody>\n",
       "</table>\n",
       "</div>"
      ],
      "text/plain": [
       "                 fico_range_low  fico_range_high\n",
       "fico_range_low              1.0              1.0\n",
       "fico_range_high             1.0              1.0"
      ]
     },
     "execution_count": 88,
     "metadata": {},
     "output_type": "execute_result"
    }
   ],
   "source": [
    "data[['fico_range_low','fico_range_high']].corr()"
   ]
  },
  {
   "cell_type": "code",
   "execution_count": 89,
   "id": "7a3ebbe8-d52d-4b9d-87df-88f860366913",
   "metadata": {},
   "outputs": [],
   "source": [
    "data['fico_score'] = 0.5*data['fico_range_low'] + 0.5*data['fico_range_high']"
   ]
  },
  {
   "cell_type": "code",
   "execution_count": 90,
   "id": "0f66680a-c5cf-4311-828e-e58811fd65c8",
   "metadata": {},
   "outputs": [],
   "source": [
    "data.drop(['fico_range_high', 'fico_range_low'], axis=1, inplace=True)"
   ]
  },
  {
   "cell_type": "code",
   "execution_count": 91,
   "id": "12e90f5c-c07b-4d39-adaa-e700ae4f2b4a",
   "metadata": {},
   "outputs": [
    {
     "data": {
      "image/png": "[encoded data removed]",
      "text/plain": [
       "<Figure size 1080x270 with 2 Axes>"
      ]
     },
     "metadata": {},
     "output_type": "display_data"
    }
   ],
   "source": [
    "plot_var('fico_score', 'FICO Score', continuous=True)"
   ]
  },
  {
   "cell_type": "code",
   "execution_count": 92,
   "id": "2410b308-92c2-4eec-b47c-587f3e4223fb",
   "metadata": {},
   "outputs": [
    {
     "data": {
      "text/html": [
       "<div>\n",
       "<style scoped>\n",
       "    .dataframe tbody tr th:only-of-type {\n",
       "        vertical-align: middle;\n",
       "    }\n",
       "\n",
       "    .dataframe tbody tr th {\n",
       "        vertical-align: top;\n",
       "    }\n",
       "\n",
       "    .dataframe thead th {\n",
       "        text-align: right;\n",
       "    }\n",
       "</style>\n",
       "<table border=\"1\" class=\"dataframe\">\n",
       "  <thead>\n",
       "    <tr style=\"text-align: right;\">\n",
       "      <th></th>\n",
       "      <th>count</th>\n",
       "      <th>mean</th>\n",
       "      <th>std</th>\n",
       "      <th>min</th>\n",
       "      <th>25%</th>\n",
       "      <th>50%</th>\n",
       "      <th>75%</th>\n",
       "      <th>max</th>\n",
       "    </tr>\n",
       "    <tr>\n",
       "      <th>loan_status</th>\n",
       "      <th></th>\n",
       "      <th></th>\n",
       "      <th></th>\n",
       "      <th></th>\n",
       "      <th></th>\n",
       "      <th></th>\n",
       "      <th></th>\n",
       "      <th></th>\n",
       "    </tr>\n",
       "  </thead>\n",
       "  <tbody>\n",
       "    <tr>\n",
       "      <th>Charged Off</th>\n",
       "      <td>268559.0</td>\n",
       "      <td>689.850145</td>\n",
       "      <td>25.948737</td>\n",
       "      <td>662.0</td>\n",
       "      <td>672.0</td>\n",
       "      <td>682.0</td>\n",
       "      <td>702.0</td>\n",
       "      <td>847.5</td>\n",
       "    </tr>\n",
       "    <tr>\n",
       "      <th>Fully Paid</th>\n",
       "      <td>1076751.0</td>\n",
       "      <td>700.263982</td>\n",
       "      <td>32.834008</td>\n",
       "      <td>627.0</td>\n",
       "      <td>677.0</td>\n",
       "      <td>692.0</td>\n",
       "      <td>717.0</td>\n",
       "      <td>847.5</td>\n",
       "    </tr>\n",
       "  </tbody>\n",
       "</table>\n",
       "</div>"
      ],
      "text/plain": [
       "                 count        mean        std    min    25%    50%    75%  \\\n",
       "loan_status                                                                 \n",
       "Charged Off   268559.0  689.850145  25.948737  662.0  672.0  682.0  702.0   \n",
       "Fully Paid   1076751.0  700.263982  32.834008  627.0  677.0  692.0  717.0   \n",
       "\n",
       "               max  \n",
       "loan_status         \n",
       "Charged Off  847.5  \n",
       "Fully Paid   847.5  "
      ]
     },
     "execution_count": 92,
     "metadata": {},
     "output_type": "execute_result"
    }
   ],
   "source": [
    "data.groupby('loan_status')['fico_score'].describe()"
   ]
  },
  {
   "cell_type": "code",
   "execution_count": null,
   "id": "154d0270-f621-43df-8ba9-fb2078ea4e9a",
   "metadata": {},
   "outputs": [],
   "source": []
  },
  {
   "cell_type": "markdown",
   "id": "9b9872c3-3a0d-481a-9e30-130c6c22f63f",
   "metadata": {},
   "source": [
    "### (19) open_acc"
   ]
  },
  {
   "cell_type": "code",
   "execution_count": 93,
   "id": "efe8d329-15ae-4916-b8cf-a8fad0e0b0c2",
   "metadata": {},
   "outputs": [
    {
     "data": {
      "image/png": "[encoded data removed]",
      "text/plain": [
       "<Figure size 1260x360 with 1 Axes>"
      ]
     },
     "metadata": {},
     "output_type": "display_data"
    }
   ],
   "source": [
    "import numpy as np\n",
    "import matplotlib.pyplot as plt\n",
    "import seaborn as sns\n",
    "\n",
    "# 정수형 변환\n",
    "data['open_acc'] = data['open_acc'].astype(int)\n",
    "\n",
    "# 그래프 그리기\n",
    "plt.figure(figsize=(14, 4), dpi=90)\n",
    "sns.countplot(x='open_acc', data=data, order=sorted(data['open_acc'].unique()), color='#5975A4', saturation=1)\n",
    "\n",
    "# x축 눈금을 5 단위로 설정\n",
    "max_val = data['open_acc'].max()\n",
    "plt.xticks(np.arange(0, max_val + 1, 5))\n",
    "plt.title('Number of Open Credit Lines')\n",
    "plt.xlabel('Open Credit Lines')\n",
    "plt.ylabel('Count')\n",
    "plt.show()"
   ]
  },
  {
   "cell_type": "code",
   "execution_count": 94,
   "id": "0a826764-ff78-4f90-8570-8fff56d8c7cf",
   "metadata": {},
   "outputs": [
    {
     "data": {
      "text/html": [
       "<div>\n",
       "<style scoped>\n",
       "    .dataframe tbody tr th:only-of-type {\n",
       "        vertical-align: middle;\n",
       "    }\n",
       "\n",
       "    .dataframe tbody tr th {\n",
       "        vertical-align: top;\n",
       "    }\n",
       "\n",
       "    .dataframe thead th {\n",
       "        text-align: right;\n",
       "    }\n",
       "</style>\n",
       "<table border=\"1\" class=\"dataframe\">\n",
       "  <thead>\n",
       "    <tr style=\"text-align: right;\">\n",
       "      <th></th>\n",
       "      <th>count</th>\n",
       "      <th>mean</th>\n",
       "      <th>std</th>\n",
       "      <th>min</th>\n",
       "      <th>25%</th>\n",
       "      <th>50%</th>\n",
       "      <th>75%</th>\n",
       "      <th>max</th>\n",
       "    </tr>\n",
       "    <tr>\n",
       "      <th>loan_status</th>\n",
       "      <th></th>\n",
       "      <th></th>\n",
       "      <th></th>\n",
       "      <th></th>\n",
       "      <th></th>\n",
       "      <th></th>\n",
       "      <th></th>\n",
       "      <th></th>\n",
       "    </tr>\n",
       "  </thead>\n",
       "  <tbody>\n",
       "    <tr>\n",
       "      <th>Charged Off</th>\n",
       "      <td>268559.0</td>\n",
       "      <td>11.901269</td>\n",
       "      <td>5.637964</td>\n",
       "      <td>0.0</td>\n",
       "      <td>8.0</td>\n",
       "      <td>11.0</td>\n",
       "      <td>15.0</td>\n",
       "      <td>76.0</td>\n",
       "    </tr>\n",
       "    <tr>\n",
       "      <th>Fully Paid</th>\n",
       "      <td>1076751.0</td>\n",
       "      <td>11.516763</td>\n",
       "      <td>5.429354</td>\n",
       "      <td>0.0</td>\n",
       "      <td>8.0</td>\n",
       "      <td>11.0</td>\n",
       "      <td>14.0</td>\n",
       "      <td>90.0</td>\n",
       "    </tr>\n",
       "  </tbody>\n",
       "</table>\n",
       "</div>"
      ],
      "text/plain": [
       "                 count       mean       std  min  25%   50%   75%   max\n",
       "loan_status                                                            \n",
       "Charged Off   268559.0  11.901269  5.637964  0.0  8.0  11.0  15.0  76.0\n",
       "Fully Paid   1076751.0  11.516763  5.429354  0.0  8.0  11.0  14.0  90.0"
      ]
     },
     "execution_count": 94,
     "metadata": {},
     "output_type": "execute_result"
    }
   ],
   "source": [
    "data.groupby('loan_status')['open_acc'].describe()"
   ]
  },
  {
   "cell_type": "code",
   "execution_count": null,
   "id": "af458211-e63d-4764-a968-1cb18e07f937",
   "metadata": {},
   "outputs": [],
   "source": []
  },
  {
   "cell_type": "markdown",
   "id": "6f2a9477-48e3-49e5-b608-20bc48b10215",
   "metadata": {},
   "source": [
    "### (20) pub_rec"
   ]
  },
  {
   "cell_type": "code",
   "execution_count": 95,
   "id": "00271d25-b917-462b-84a0-a11f2f401221",
   "metadata": {},
   "outputs": [
    {
     "data": {
      "text/plain": [
       "pub_rec\n",
       "0.0     1117425\n",
       "1.0      190789\n",
       "2.0       24435\n",
       "3.0        7399\n",
       "4.0        2630\n",
       "5.0        1266\n",
       "6.0         636\n",
       "7.0         283\n",
       "8.0         160\n",
       "9.0          83\n",
       "10.0         57\n",
       "11.0         40\n",
       "12.0         27\n",
       "13.0         18\n",
       "14.0          5\n",
       "15.0          9\n",
       "16.0          5\n",
       "17.0          3\n",
       "18.0          6\n",
       "19.0          5\n",
       "20.0          3\n",
       "21.0          6\n",
       "22.0          2\n",
       "23.0          1\n",
       "24.0          2\n",
       "25.0          1\n",
       "28.0          3\n",
       "34.0          1\n",
       "37.0          1\n",
       "40.0          1\n",
       "46.0          1\n",
       "47.0          1\n",
       "49.0          2\n",
       "54.0          1\n",
       "61.0          1\n",
       "63.0          1\n",
       "86.0          1\n",
       "Name: count, dtype: int64"
      ]
     },
     "execution_count": 95,
     "metadata": {},
     "output_type": "execute_result"
    }
   ],
   "source": [
    "data['pub_rec'].value_counts().sort_index()"
   ]
  },
  {
   "cell_type": "code",
   "execution_count": 96,
   "id": "d49f12f1-429d-491b-b171-51a714005fb1",
   "metadata": {},
   "outputs": [
    {
     "data": {
      "text/html": [
       "<div>\n",
       "<style scoped>\n",
       "    .dataframe tbody tr th:only-of-type {\n",
       "        vertical-align: middle;\n",
       "    }\n",
       "\n",
       "    .dataframe tbody tr th {\n",
       "        vertical-align: top;\n",
       "    }\n",
       "\n",
       "    .dataframe thead th {\n",
       "        text-align: right;\n",
       "    }\n",
       "</style>\n",
       "<table border=\"1\" class=\"dataframe\">\n",
       "  <thead>\n",
       "    <tr style=\"text-align: right;\">\n",
       "      <th></th>\n",
       "      <th>count</th>\n",
       "      <th>mean</th>\n",
       "      <th>std</th>\n",
       "      <th>min</th>\n",
       "      <th>25%</th>\n",
       "      <th>50%</th>\n",
       "      <th>75%</th>\n",
       "      <th>max</th>\n",
       "    </tr>\n",
       "    <tr>\n",
       "      <th>loan_status</th>\n",
       "      <th></th>\n",
       "      <th></th>\n",
       "      <th></th>\n",
       "      <th></th>\n",
       "      <th></th>\n",
       "      <th></th>\n",
       "      <th></th>\n",
       "      <th></th>\n",
       "    </tr>\n",
       "  </thead>\n",
       "  <tbody>\n",
       "    <tr>\n",
       "      <th>Charged Off</th>\n",
       "      <td>268559.0</td>\n",
       "      <td>0.246843</td>\n",
       "      <td>0.656732</td>\n",
       "      <td>0.0</td>\n",
       "      <td>0.0</td>\n",
       "      <td>0.0</td>\n",
       "      <td>0.0</td>\n",
       "      <td>86.0</td>\n",
       "    </tr>\n",
       "    <tr>\n",
       "      <th>Fully Paid</th>\n",
       "      <td>1076751.0</td>\n",
       "      <td>0.207403</td>\n",
       "      <td>0.587118</td>\n",
       "      <td>0.0</td>\n",
       "      <td>0.0</td>\n",
       "      <td>0.0</td>\n",
       "      <td>0.0</td>\n",
       "      <td>63.0</td>\n",
       "    </tr>\n",
       "  </tbody>\n",
       "</table>\n",
       "</div>"
      ],
      "text/plain": [
       "                 count      mean       std  min  25%  50%  75%   max\n",
       "loan_status                                                         \n",
       "Charged Off   268559.0  0.246843  0.656732  0.0  0.0  0.0  0.0  86.0\n",
       "Fully Paid   1076751.0  0.207403  0.587118  0.0  0.0  0.0  0.0  63.0"
      ]
     },
     "execution_count": 96,
     "metadata": {},
     "output_type": "execute_result"
    }
   ],
   "source": [
    "data.groupby('loan_status')['pub_rec'].describe()"
   ]
  },
  {
   "cell_type": "code",
   "execution_count": null,
   "id": "663700c2-e13f-4822-a155-2e70e46f7fa0",
   "metadata": {},
   "outputs": [],
   "source": []
  },
  {
   "cell_type": "markdown",
   "id": "d868e8fb-f3fc-4d4c-be52-2f945f2fbb9f",
   "metadata": {},
   "source": [
    "### (21) revol_bal"
   ]
  },
  {
   "cell_type": "code",
   "execution_count": 97,
   "id": "e0caa33f-6945-4302-a486-8219c7f9f20d",
   "metadata": {},
   "outputs": [
    {
     "data": {
      "text/plain": [
       "count    1.345310e+06\n",
       "mean     1.624811e+04\n",
       "std      2.232817e+04\n",
       "min      0.000000e+00\n",
       "25%      5.943000e+03\n",
       "50%      1.113400e+04\n",
       "75%      1.975575e+04\n",
       "max      2.904836e+06\n",
       "Name: revol_bal, dtype: float64"
      ]
     },
     "execution_count": 97,
     "metadata": {},
     "output_type": "execute_result"
    }
   ],
   "source": [
    "data['revol_bal'].describe()"
   ]
  },
  {
   "cell_type": "code",
   "execution_count": 98,
   "id": "67e16241-687b-4784-8d62-c63901a8472e",
   "metadata": {},
   "outputs": [],
   "source": [
    "data['log_revol_bal'] = data['revol_bal'].apply(lambda x: np.log10(x+1))"
   ]
  },
  {
   "cell_type": "code",
   "execution_count": 99,
   "id": "8b8d05ff-776e-4e7f-92d5-f1737911de9d",
   "metadata": {},
   "outputs": [],
   "source": [
    "data.drop('revol_bal', axis=1, inplace=True)"
   ]
  },
  {
   "cell_type": "code",
   "execution_count": 100,
   "id": "62878c06-3d25-4bdf-9574-82292af984c5",
   "metadata": {},
   "outputs": [
    {
     "data": {
      "image/png": "[encoded data removed]",
      "text/plain": [
       "<Figure size 1080x270 with 2 Axes>"
      ]
     },
     "metadata": {},
     "output_type": "display_data"
    }
   ],
   "source": [
    "plot_var('log_revol_bal', 'Log Revolving Credit Balance', continuous=True)"
   ]
  },
  {
   "cell_type": "code",
   "execution_count": 101,
   "id": "1c9f9f87-85ec-407c-ba46-8d88cd1fd6ea",
   "metadata": {},
   "outputs": [
    {
     "data": {
      "text/html": [
       "<div>\n",
       "<style scoped>\n",
       "    .dataframe tbody tr th:only-of-type {\n",
       "        vertical-align: middle;\n",
       "    }\n",
       "\n",
       "    .dataframe tbody tr th {\n",
       "        vertical-align: top;\n",
       "    }\n",
       "\n",
       "    .dataframe thead th {\n",
       "        text-align: right;\n",
       "    }\n",
       "</style>\n",
       "<table border=\"1\" class=\"dataframe\">\n",
       "  <thead>\n",
       "    <tr style=\"text-align: right;\">\n",
       "      <th></th>\n",
       "      <th>count</th>\n",
       "      <th>mean</th>\n",
       "      <th>std</th>\n",
       "      <th>min</th>\n",
       "      <th>25%</th>\n",
       "      <th>50%</th>\n",
       "      <th>75%</th>\n",
       "      <th>max</th>\n",
       "    </tr>\n",
       "    <tr>\n",
       "      <th>loan_status</th>\n",
       "      <th></th>\n",
       "      <th></th>\n",
       "      <th></th>\n",
       "      <th></th>\n",
       "      <th></th>\n",
       "      <th></th>\n",
       "      <th></th>\n",
       "      <th></th>\n",
       "    </tr>\n",
       "  </thead>\n",
       "  <tbody>\n",
       "    <tr>\n",
       "      <th>Charged Off</th>\n",
       "      <td>268559.0</td>\n",
       "      <td>3.985882</td>\n",
       "      <td>0.515100</td>\n",
       "      <td>0.0</td>\n",
       "      <td>3.777499</td>\n",
       "      <td>4.044265</td>\n",
       "      <td>4.281079</td>\n",
       "      <td>6.242223</td>\n",
       "    </tr>\n",
       "    <tr>\n",
       "      <th>Fully Paid</th>\n",
       "      <td>1076751.0</td>\n",
       "      <td>3.993775</td>\n",
       "      <td>0.536333</td>\n",
       "      <td>0.0</td>\n",
       "      <td>3.773201</td>\n",
       "      <td>4.047314</td>\n",
       "      <td>4.299420</td>\n",
       "      <td>6.463122</td>\n",
       "    </tr>\n",
       "  </tbody>\n",
       "</table>\n",
       "</div>"
      ],
      "text/plain": [
       "                 count      mean       std  min       25%       50%       75%  \\\n",
       "loan_status                                                                     \n",
       "Charged Off   268559.0  3.985882  0.515100  0.0  3.777499  4.044265  4.281079   \n",
       "Fully Paid   1076751.0  3.993775  0.536333  0.0  3.773201  4.047314  4.299420   \n",
       "\n",
       "                  max  \n",
       "loan_status            \n",
       "Charged Off  6.242223  \n",
       "Fully Paid   6.463122  "
      ]
     },
     "execution_count": 101,
     "metadata": {},
     "output_type": "execute_result"
    }
   ],
   "source": [
    "data.groupby('loan_status')['log_revol_bal'].describe()"
   ]
  },
  {
   "cell_type": "code",
   "execution_count": null,
   "id": "139c1ec2-5d5c-42f6-894b-4cd9c17a318e",
   "metadata": {},
   "outputs": [],
   "source": []
  },
  {
   "cell_type": "markdown",
   "id": "e83a0b3c-ce52-4267-a93e-630c6ec4899d",
   "metadata": {},
   "source": [
    "### (22) revol_util"
   ]
  },
  {
   "cell_type": "code",
   "execution_count": 102,
   "id": "84da2889-6703-4c5e-a1bd-10ffffa86350",
   "metadata": {},
   "outputs": [
    {
     "data": {
      "text/plain": [
       "count    1.344453e+06\n",
       "mean     5.181002e+01\n",
       "std      2.452107e+01\n",
       "min      0.000000e+00\n",
       "25%      3.340000e+01\n",
       "50%      5.220000e+01\n",
       "75%      7.070000e+01\n",
       "max      8.923000e+02\n",
       "Name: revol_util, dtype: float64"
      ]
     },
     "execution_count": 102,
     "metadata": {},
     "output_type": "execute_result"
    }
   ],
   "source": [
    "data['revol_util'].describe()"
   ]
  },
  {
   "cell_type": "code",
   "execution_count": 103,
   "id": "8f02aff3-fa47-44a1-ad87-e9b7cc8de270",
   "metadata": {},
   "outputs": [
    {
     "data": {
      "image/png": "[encoded data removed]",
      "text/plain": [
       "<Figure size 1080x270 with 2 Axes>"
      ]
     },
     "metadata": {},
     "output_type": "display_data"
    }
   ],
   "source": [
    "plot_var('revol_util', 'Revolving Line Utilization', continuous=True)"
   ]
  },
  {
   "cell_type": "code",
   "execution_count": 104,
   "id": "a9621e16-310a-44f7-ab70-2457f84f816b",
   "metadata": {},
   "outputs": [
    {
     "data": {
      "text/html": [
       "<div>\n",
       "<style scoped>\n",
       "    .dataframe tbody tr th:only-of-type {\n",
       "        vertical-align: middle;\n",
       "    }\n",
       "\n",
       "    .dataframe tbody tr th {\n",
       "        vertical-align: top;\n",
       "    }\n",
       "\n",
       "    .dataframe thead th {\n",
       "        text-align: right;\n",
       "    }\n",
       "</style>\n",
       "<table border=\"1\" class=\"dataframe\">\n",
       "  <thead>\n",
       "    <tr style=\"text-align: right;\">\n",
       "      <th></th>\n",
       "      <th>count</th>\n",
       "      <th>mean</th>\n",
       "      <th>std</th>\n",
       "      <th>min</th>\n",
       "      <th>25%</th>\n",
       "      <th>50%</th>\n",
       "      <th>75%</th>\n",
       "      <th>max</th>\n",
       "    </tr>\n",
       "    <tr>\n",
       "      <th>loan_status</th>\n",
       "      <th></th>\n",
       "      <th></th>\n",
       "      <th></th>\n",
       "      <th></th>\n",
       "      <th></th>\n",
       "      <th></th>\n",
       "      <th></th>\n",
       "      <th></th>\n",
       "    </tr>\n",
       "  </thead>\n",
       "  <tbody>\n",
       "    <tr>\n",
       "      <th>Charged Off</th>\n",
       "      <td>268379.0</td>\n",
       "      <td>54.758433</td>\n",
       "      <td>23.865982</td>\n",
       "      <td>0.0</td>\n",
       "      <td>37.4</td>\n",
       "      <td>55.5</td>\n",
       "      <td>73.1</td>\n",
       "      <td>366.6</td>\n",
       "    </tr>\n",
       "    <tr>\n",
       "      <th>Fully Paid</th>\n",
       "      <td>1076074.0</td>\n",
       "      <td>51.074671</td>\n",
       "      <td>24.626821</td>\n",
       "      <td>0.0</td>\n",
       "      <td>32.5</td>\n",
       "      <td>51.3</td>\n",
       "      <td>70.1</td>\n",
       "      <td>892.3</td>\n",
       "    </tr>\n",
       "  </tbody>\n",
       "</table>\n",
       "</div>"
      ],
      "text/plain": [
       "                 count       mean        std  min   25%   50%   75%    max\n",
       "loan_status                                                               \n",
       "Charged Off   268379.0  54.758433  23.865982  0.0  37.4  55.5  73.1  366.6\n",
       "Fully Paid   1076074.0  51.074671  24.626821  0.0  32.5  51.3  70.1  892.3"
      ]
     },
     "execution_count": 104,
     "metadata": {},
     "output_type": "execute_result"
    }
   ],
   "source": [
    "data.groupby('loan_status')['revol_util'].describe()"
   ]
  },
  {
   "cell_type": "code",
   "execution_count": null,
   "id": "28910055-12bf-4f36-9c74-2a3de98c89c5",
   "metadata": {},
   "outputs": [],
   "source": []
  },
  {
   "cell_type": "markdown",
   "id": "d2935b02-25b2-4fa6-90f4-f48fa7d909a6",
   "metadata": {},
   "source": [
    "### (23) total_acc"
   ]
  },
  {
   "cell_type": "code",
   "execution_count": 105,
   "id": "5d462806-5da9-4600-b2d1-770fe42c26c6",
   "metadata": {},
   "outputs": [
    {
     "data": {
      "image/png": "[encoded data removed]",
      "text/plain": [
       "<Figure size 1260x270 with 1 Axes>"
      ]
     },
     "metadata": {},
     "output_type": "display_data"
    }
   ],
   "source": [
    "import pandas as pd\n",
    "import numpy as np\n",
    "import matplotlib.pyplot as plt\n",
    "import seaborn as sns\n",
    "\n",
    "# 0~175까지 10 단위로 모든 값을 포함한 범위 생성\n",
    "tick_range = np.arange(0, 176, 1)  # 1 단위로 전체 범위 확보\n",
    "tick_labels = np.arange(0, 176, 10)  # 10 단위로 눈금 표시\n",
    "\n",
    "# total_acc 빈도 계산 (없는 값은 0으로 채움)\n",
    "total_acc_counts = data['total_acc'].value_counts().sort_index()\n",
    "full_range = pd.Series(0, index=tick_range)\n",
    "full_range.update(total_acc_counts)\n",
    "\n",
    "# 시각화\n",
    "plt.figure(figsize=(14, 3), dpi=90)\n",
    "sns.barplot(x=full_range.index, y=full_range.values, color='#5975A4')\n",
    "\n",
    "# x축 눈금 설정: 10 단위 라벨만 표시\n",
    "plt.xticks(tick_labels)\n",
    "plt.title('Total Number of Credit Lines')\n",
    "plt.xlabel('Total Credit Lines')\n",
    "plt.ylabel('Count')\n",
    "plt.show()"
   ]
  },
  {
   "cell_type": "code",
   "execution_count": 106,
   "id": "711670a7-6d63-48a0-871b-eb80ffefe5f2",
   "metadata": {},
   "outputs": [
    {
     "data": {
      "text/html": [
       "<div>\n",
       "<style scoped>\n",
       "    .dataframe tbody tr th:only-of-type {\n",
       "        vertical-align: middle;\n",
       "    }\n",
       "\n",
       "    .dataframe tbody tr th {\n",
       "        vertical-align: top;\n",
       "    }\n",
       "\n",
       "    .dataframe thead th {\n",
       "        text-align: right;\n",
       "    }\n",
       "</style>\n",
       "<table border=\"1\" class=\"dataframe\">\n",
       "  <thead>\n",
       "    <tr style=\"text-align: right;\">\n",
       "      <th></th>\n",
       "      <th>count</th>\n",
       "      <th>mean</th>\n",
       "      <th>std</th>\n",
       "      <th>min</th>\n",
       "      <th>25%</th>\n",
       "      <th>50%</th>\n",
       "      <th>75%</th>\n",
       "      <th>max</th>\n",
       "    </tr>\n",
       "    <tr>\n",
       "      <th>loan_status</th>\n",
       "      <th></th>\n",
       "      <th></th>\n",
       "      <th></th>\n",
       "      <th></th>\n",
       "      <th></th>\n",
       "      <th></th>\n",
       "      <th></th>\n",
       "      <th></th>\n",
       "    </tr>\n",
       "  </thead>\n",
       "  <tbody>\n",
       "    <tr>\n",
       "      <th>Charged Off</th>\n",
       "      <td>268559.0</td>\n",
       "      <td>24.709356</td>\n",
       "      <td>12.117364</td>\n",
       "      <td>2.0</td>\n",
       "      <td>16.0</td>\n",
       "      <td>23.0</td>\n",
       "      <td>31.0</td>\n",
       "      <td>176.0</td>\n",
       "    </tr>\n",
       "    <tr>\n",
       "      <th>Fully Paid</th>\n",
       "      <td>1076751.0</td>\n",
       "      <td>25.048551</td>\n",
       "      <td>11.967683</td>\n",
       "      <td>2.0</td>\n",
       "      <td>16.0</td>\n",
       "      <td>23.0</td>\n",
       "      <td>32.0</td>\n",
       "      <td>162.0</td>\n",
       "    </tr>\n",
       "  </tbody>\n",
       "</table>\n",
       "</div>"
      ],
      "text/plain": [
       "                 count       mean        std  min   25%   50%   75%    max\n",
       "loan_status                                                               \n",
       "Charged Off   268559.0  24.709356  12.117364  2.0  16.0  23.0  31.0  176.0\n",
       "Fully Paid   1076751.0  25.048551  11.967683  2.0  16.0  23.0  32.0  162.0"
      ]
     },
     "execution_count": 106,
     "metadata": {},
     "output_type": "execute_result"
    }
   ],
   "source": [
    "data.groupby('loan_status')['total_acc'].describe()"
   ]
  },
  {
   "cell_type": "code",
   "execution_count": null,
   "id": "25ca1154-8f12-4bfd-98d9-57ec8c4a1e4c",
   "metadata": {},
   "outputs": [],
   "source": []
  },
  {
   "cell_type": "markdown",
   "id": "5113debd-b4d8-430c-8d20-cc2a2b99ef48",
   "metadata": {},
   "source": [
    "### (24) initial_list_status"
   ]
  },
  {
   "cell_type": "code",
   "execution_count": 107,
   "id": "38df8a1b-7589-4f5a-aab9-6024f7ccd38d",
   "metadata": {},
   "outputs": [
    {
     "data": {
      "image/png": "[encoded data removed]",
      "text/plain": [
       "<Figure size 1080x270 with 2 Axes>"
      ]
     },
     "metadata": {},
     "output_type": "display_data"
    }
   ],
   "source": [
    "plot_var('initial_list_status', 'Initial List Status', continuous=False)"
   ]
  },
  {
   "cell_type": "code",
   "execution_count": null,
   "id": "50dfee7a-3bea-43ac-b1b5-acf1df31dd66",
   "metadata": {},
   "outputs": [],
   "source": []
  },
  {
   "cell_type": "markdown",
   "id": "dbbdbc9a-79bc-418c-8207-3354649eef89",
   "metadata": {},
   "source": [
    "### (25) application_type"
   ]
  },
  {
   "cell_type": "code",
   "execution_count": 108,
   "id": "bd502349-cc7a-4124-9f6a-54cee0c871fc",
   "metadata": {},
   "outputs": [
    {
     "data": {
      "text/plain": [
       "application_type\n",
       "Individual    1319510\n",
       "Joint App       25800\n",
       "Name: count, dtype: int64"
      ]
     },
     "execution_count": 108,
     "metadata": {},
     "output_type": "execute_result"
    }
   ],
   "source": [
    "data['application_type'].value_counts()"
   ]
  },
  {
   "cell_type": "code",
   "execution_count": 109,
   "id": "c4bb8ad9-aa9b-4a1e-9591-c8faee359b1d",
   "metadata": {},
   "outputs": [
    {
     "data": {
      "text/plain": [
       "application_type\n",
       "Individual    0.198721\n",
       "Joint App     0.245891\n",
       "Name: proportion, dtype: float64"
      ]
     },
     "execution_count": 109,
     "metadata": {},
     "output_type": "execute_result"
    }
   ],
   "source": [
    "data.groupby('application_type')['loan_status'].value_counts(normalize=True).loc[:,'Charged Off']"
   ]
  },
  {
   "cell_type": "code",
   "execution_count": null,
   "id": "3d442e91-d24c-42a2-8ca8-b117e42d54f2",
   "metadata": {},
   "outputs": [],
   "source": []
  },
  {
   "cell_type": "markdown",
   "id": "489f9ddf-10ee-4bf9-88ad-7af114525df2",
   "metadata": {},
   "source": [
    "### (26) mort_acc"
   ]
  },
  {
   "cell_type": "code",
   "execution_count": 110,
   "id": "9b060a09-9b23-41f1-a966-415501690c6d",
   "metadata": {},
   "outputs": [
    {
     "data": {
      "text/plain": [
       "count    1.298029e+06\n",
       "mean     1.670783e+00\n",
       "std      2.000444e+00\n",
       "min      0.000000e+00\n",
       "25%      0.000000e+00\n",
       "50%      1.000000e+00\n",
       "75%      3.000000e+00\n",
       "max      5.100000e+01\n",
       "Name: mort_acc, dtype: float64"
      ]
     },
     "execution_count": 110,
     "metadata": {},
     "output_type": "execute_result"
    }
   ],
   "source": [
    "data['mort_acc'].describe()"
   ]
  },
  {
   "cell_type": "code",
   "execution_count": 111,
   "id": "f3476461-5502-4035-9532-97170522807a",
   "metadata": {},
   "outputs": [
    {
     "data": {
      "text/plain": [
       "mort_acc\n",
       "0.0    523837\n",
       "1.0    226135\n",
       "2.0    188941\n",
       "3.0    139381\n",
       "4.0     94920\n",
       "5.0     57632\n",
       "6.0     32539\n",
       "7.0     16850\n",
       "8.0      8378\n",
       "9.0      4285\n",
       "Name: count, dtype: int64"
      ]
     },
     "execution_count": 111,
     "metadata": {},
     "output_type": "execute_result"
    }
   ],
   "source": [
    "data['mort_acc'].value_counts().head(10)"
   ]
  },
  {
   "cell_type": "code",
   "execution_count": 112,
   "id": "90a103e6-1338-4e04-800c-44ccdb9259a3",
   "metadata": {},
   "outputs": [
    {
     "data": {
      "text/html": [
       "<div>\n",
       "<style scoped>\n",
       "    .dataframe tbody tr th:only-of-type {\n",
       "        vertical-align: middle;\n",
       "    }\n",
       "\n",
       "    .dataframe tbody tr th {\n",
       "        vertical-align: top;\n",
       "    }\n",
       "\n",
       "    .dataframe thead th {\n",
       "        text-align: right;\n",
       "    }\n",
       "</style>\n",
       "<table border=\"1\" class=\"dataframe\">\n",
       "  <thead>\n",
       "    <tr style=\"text-align: right;\">\n",
       "      <th></th>\n",
       "      <th>count</th>\n",
       "      <th>mean</th>\n",
       "      <th>std</th>\n",
       "      <th>min</th>\n",
       "      <th>25%</th>\n",
       "      <th>50%</th>\n",
       "      <th>75%</th>\n",
       "      <th>max</th>\n",
       "    </tr>\n",
       "    <tr>\n",
       "      <th>loan_status</th>\n",
       "      <th></th>\n",
       "      <th></th>\n",
       "      <th></th>\n",
       "      <th></th>\n",
       "      <th></th>\n",
       "      <th></th>\n",
       "      <th></th>\n",
       "      <th></th>\n",
       "    </tr>\n",
       "  </thead>\n",
       "  <tbody>\n",
       "    <tr>\n",
       "      <th>Charged Off</th>\n",
       "      <td>261673.0</td>\n",
       "      <td>1.371032</td>\n",
       "      <td>1.825505</td>\n",
       "      <td>0.0</td>\n",
       "      <td>0.0</td>\n",
       "      <td>1.0</td>\n",
       "      <td>2.0</td>\n",
       "      <td>29.0</td>\n",
       "    </tr>\n",
       "    <tr>\n",
       "      <th>Fully Paid</th>\n",
       "      <td>1036356.0</td>\n",
       "      <td>1.746468</td>\n",
       "      <td>2.035279</td>\n",
       "      <td>0.0</td>\n",
       "      <td>0.0</td>\n",
       "      <td>1.0</td>\n",
       "      <td>3.0</td>\n",
       "      <td>51.0</td>\n",
       "    </tr>\n",
       "  </tbody>\n",
       "</table>\n",
       "</div>"
      ],
      "text/plain": [
       "                 count      mean       std  min  25%  50%  75%   max\n",
       "loan_status                                                         \n",
       "Charged Off   261673.0  1.371032  1.825505  0.0  0.0  1.0  2.0  29.0\n",
       "Fully Paid   1036356.0  1.746468  2.035279  0.0  0.0  1.0  3.0  51.0"
      ]
     },
     "execution_count": 112,
     "metadata": {},
     "output_type": "execute_result"
    }
   ],
   "source": [
    "data.groupby('loan_status')['mort_acc'].describe()"
   ]
  },
  {
   "cell_type": "code",
   "execution_count": null,
   "id": "d902ec58-57d6-4401-9715-63250891fa6c",
   "metadata": {},
   "outputs": [],
   "source": []
  },
  {
   "cell_type": "markdown",
   "id": "63aa5828-89f6-4d70-9120-b90c5e20bb80",
   "metadata": {},
   "source": [
    "### (27) pub_rec_bankruptcies"
   ]
  },
  {
   "cell_type": "code",
   "execution_count": 113,
   "id": "75eda0e8-5eb4-4bcc-89af-43b98998ef2c",
   "metadata": {
    "scrolled": true
   },
   "outputs": [
    {
     "data": {
      "text/plain": [
       "pub_rec_bankruptcies\n",
       "0.0     1176953\n",
       "1.0      157696\n",
       "2.0        7769\n",
       "3.0        1583\n",
       "4.0         396\n",
       "5.0         141\n",
       "6.0          46\n",
       "7.0          15\n",
       "8.0           9\n",
       "9.0           3\n",
       "11.0          1\n",
       "12.0          1\n",
       "Name: count, dtype: int64"
      ]
     },
     "execution_count": 113,
     "metadata": {},
     "output_type": "execute_result"
    }
   ],
   "source": [
    "data['pub_rec_bankruptcies'].value_counts().sort_index()"
   ]
  },
  {
   "cell_type": "code",
   "execution_count": 114,
   "id": "33b424f2-6116-4807-be58-1d2f85d33474",
   "metadata": {},
   "outputs": [],
   "source": [
    "def plot_var(col_name, full_name, continuous):\n",
    "    f, (ax1, ax2) = plt.subplots(nrows=1, ncols=2, figsize=(14, 4), dpi=90)\n",
    "\n",
    "    if continuous:\n",
    "        sns.histplot(data.loc[data[col_name].notnull(), col_name], kde=False, ax=ax1)\n",
    "    else:\n",
    "        # 값 정수형 변환 후 countplot\n",
    "        data[col_name] = data[col_name].astype('Int64')  # Nullable int\n",
    "        val_counts = data[col_name].value_counts().sort_index()\n",
    "        sns.barplot(x=val_counts.index.astype(int), y=val_counts.values, color='#5975A4', ax=ax1)\n",
    "    \n",
    "    ax1.set_xlabel(full_name)\n",
    "    ax1.set_ylabel('Count')\n",
    "    ax1.set_title(full_name)\n",
    "\n",
    "    if continuous:\n",
    "        sns.boxplot(x=col_name, y='loan_status', data=data, ax=ax2)\n",
    "        ax2.set_ylabel('')\n",
    "        ax2.set_title(full_name + ' by Loan Status')\n",
    "    else:\n",
    "        # Charged Off 비율 계산\n",
    "        temp = data[[col_name, 'loan_status']].dropna()\n",
    "        temp[col_name] = temp[col_name].astype(int)\n",
    "\n",
    "        # Charged Off 비율만 추출\n",
    "        grouped = temp.groupby(col_name)['loan_status'].value_counts(normalize=True).unstack()\n",
    "        if 'Charged Off' in grouped.columns:\n",
    "            charge_off = grouped['Charged Off']\n",
    "        else:\n",
    "            charge_off = pd.Series(0, index=grouped.index)\n",
    "\n",
    "        sns.barplot(x=charge_off.index, y=charge_off.values, color='#5975A4', ax=ax2)\n",
    "        ax2.set_ylabel('Fraction of Loans Charged-off')\n",
    "        ax2.set_title('Charge-off Rate by ' + full_name)\n",
    "\n",
    "    ax2.set_xlabel(full_name)\n",
    "    plt.tight_layout()"
   ]
  },
  {
   "cell_type": "code",
   "execution_count": 115,
   "id": "1a7a1c5b-effe-45df-9e10-7eaeb5edf77d",
   "metadata": {},
   "outputs": [
    {
     "data": {
      "image/png": "[encoded data removed]",
      "text/plain": [
       "<Figure size 1260x360 with 2 Axes>"
      ]
     },
     "metadata": {},
     "output_type": "display_data"
    }
   ],
   "source": [
    "plot_var('pub_rec_bankruptcies', 'Public Record Bankruptcies', continuous=False)"
   ]
  },
  {
   "cell_type": "code",
   "execution_count": null,
   "id": "7ec515b8-5d68-49ae-a340-2a470d553dd8",
   "metadata": {},
   "outputs": [],
   "source": []
  },
  {
   "cell_type": "code",
   "execution_count": null,
   "id": "ad63a3de-b03d-4f1f-8edc-45c143f1f4c6",
   "metadata": {},
   "outputs": [],
   "source": []
  },
  {
   "cell_type": "markdown",
   "id": "e3f7789a-982f-404f-9245-87d95b816623",
   "metadata": {},
   "source": [
    "## 추가적 데이터 전처리"
   ]
  },
  {
   "cell_type": "markdown",
   "id": "609edc0a-d323-46f9-91d9-1e9cbc1ac814",
   "metadata": {},
   "source": [
    "### (1) target인 loan_status 변수를 이진 변수로 변경 -> 새 컬럼 charged_off 생성\n",
    "- 0 : 대출이 완전히 상환된 경우\n",
    "- 1 : 연체되어 부실 채권이 된 경우"
   ]
  },
  {
   "cell_type": "code",
   "execution_count": 116,
   "id": "3feab5d5-115f-4d41-a895-e452d79fe4c4",
   "metadata": {},
   "outputs": [],
   "source": [
    "data['charged_off'] = (data['loan_status'] == 'Charged Off').apply(np.uint8)\n",
    "data.drop('loan_status', axis=1, inplace=True)"
   ]
  },
  {
   "cell_type": "code",
   "execution_count": null,
   "id": "b5a308db-969e-4b85-908b-08d73672be1d",
   "metadata": {},
   "outputs": [],
   "source": []
  },
  {
   "cell_type": "markdown",
   "id": "6937f671-aa9c-4c81-9cbe-4640871fe257",
   "metadata": {},
   "source": [
    "### (2) 범주형 변수들 -> 더미 변수 생성"
   ]
  },
  {
   "cell_type": "code",
   "execution_count": 117,
   "id": "a0bf254f-bd74-4333-88a4-89a036aaaae2",
   "metadata": {},
   "outputs": [
    {
     "data": {
      "text/plain": [
       "(1345310, 25)"
      ]
     },
     "execution_count": 117,
     "metadata": {},
     "output_type": "execute_result"
    }
   ],
   "source": [
    "data.shape"
   ]
  },
  {
   "cell_type": "code",
   "execution_count": 118,
   "id": "52b74526-34ba-48eb-b017-b6d368296505",
   "metadata": {},
   "outputs": [],
   "source": [
    "missing_fractions = data.isnull().mean().sort_values(ascending=False) # Fraction of data missing for each variable"
   ]
  },
  {
   "cell_type": "code",
   "execution_count": 119,
   "id": "d969d296-26d2-4781-9c2f-f569fee8c968",
   "metadata": {},
   "outputs": [
    {
     "name": "stdout",
     "output_type": "stream",
     "text": [
      "emp_length              0.058359\n",
      "mort_acc                0.035145\n",
      "revol_util              0.000637\n",
      "pub_rec_bankruptcies    0.000518\n",
      "dti                     0.000278\n",
      "dtype: float64\n"
     ]
    }
   ],
   "source": [
    "print(missing_fractions[missing_fractions > 0])"
   ]
  },
  {
   "cell_type": "code",
   "execution_count": 120,
   "id": "117424b4-10c0-45dc-bf63-1d3f4e723555",
   "metadata": {},
   "outputs": [
    {
     "name": "stdout",
     "output_type": "stream",
     "text": [
      "Index(['loan_amnt', 'term', 'int_rate', 'installment', 'sub_grade',\n",
      "       'emp_length', 'home_ownership', 'verification_status', 'issue_d',\n",
      "       'purpose', 'addr_state', 'dti', 'earliest_cr_line', 'open_acc',\n",
      "       'pub_rec', 'revol_util', 'total_acc', 'initial_list_status',\n",
      "       'application_type', 'mort_acc', 'pub_rec_bankruptcies',\n",
      "       'log_annual_inc', 'fico_score', 'log_revol_bal', 'charged_off'],\n",
      "      dtype='object')\n"
     ]
    }
   ],
   "source": [
    "print(data.columns)"
   ]
  },
  {
   "cell_type": "code",
   "execution_count": 121,
   "id": "a1254cc6-56c1-46cf-a103-e8776e432dd6",
   "metadata": {},
   "outputs": [
    {
     "name": "stdout",
     "output_type": "stream",
     "text": [
      "<class 'pandas.core.frame.DataFrame'>\n",
      "Index: 1345310 entries, 0 to 2260697\n",
      "Data columns (total 25 columns):\n",
      " #   Column                Non-Null Count    Dtype   \n",
      "---  ------                --------------    -----   \n",
      " 0   loan_amnt             1345310 non-null  float64 \n",
      " 1   term                  1345310 non-null  int8    \n",
      " 2   int_rate              1345310 non-null  float64 \n",
      " 3   installment           1345310 non-null  float64 \n",
      " 4   sub_grade             1345310 non-null  object  \n",
      " 5   emp_length            1266799 non-null  category\n",
      " 6   home_ownership        1345310 non-null  object  \n",
      " 7   verification_status   1345310 non-null  object  \n",
      " 8   issue_d               1345310 non-null  object  \n",
      " 9   purpose               1345310 non-null  object  \n",
      " 10  addr_state            1345310 non-null  object  \n",
      " 11  dti                   1344936 non-null  float64 \n",
      " 12  earliest_cr_line      1345310 non-null  int64   \n",
      " 13  open_acc              1345310 non-null  int32   \n",
      " 14  pub_rec               1345310 non-null  float64 \n",
      " 15  revol_util            1344453 non-null  float64 \n",
      " 16  total_acc             1345310 non-null  float64 \n",
      " 17  initial_list_status   1345310 non-null  object  \n",
      " 18  application_type      1345310 non-null  object  \n",
      " 19  mort_acc              1298029 non-null  float64 \n",
      " 20  pub_rec_bankruptcies  1344613 non-null  Int64   \n",
      " 21  log_annual_inc        1345310 non-null  float64 \n",
      " 22  fico_score            1345310 non-null  float64 \n",
      " 23  log_revol_bal         1345310 non-null  float64 \n",
      " 24  charged_off           1345310 non-null  uint8   \n",
      "dtypes: Int64(1), category(1), float64(11), int32(1), int64(1), int8(1), object(8), uint8(1)\n",
      "memory usage: 236.1+ MB\n"
     ]
    }
   ],
   "source": [
    "data.info()"
   ]
  },
  {
   "cell_type": "code",
   "execution_count": 122,
   "id": "5744dd86-b568-481d-a415-359a1bfc405d",
   "metadata": {},
   "outputs": [
    {
     "data": {
      "text/plain": [
       "0    Dec-2015\n",
       "1    Dec-2015\n",
       "2    Dec-2015\n",
       "4    Dec-2015\n",
       "5    Dec-2015\n",
       "Name: issue_d, dtype: object"
      ]
     },
     "execution_count": 122,
     "metadata": {},
     "output_type": "execute_result"
    }
   ],
   "source": [
    "data['issue_d'].head()"
   ]
  },
  {
   "cell_type": "code",
   "execution_count": 123,
   "id": "958c17f1-4219-42c0-8a84-c27458c9d85b",
   "metadata": {},
   "outputs": [],
   "source": [
    "data = pd.get_dummies(data, \n",
    "                      columns=['sub_grade', 'home_ownership', 'verification_status', 'purpose', 'addr_state', \n",
    "                               'initial_list_status', 'application_type'], \n",
    "                      drop_first=True)"
   ]
  },
  {
   "cell_type": "code",
   "execution_count": 124,
   "id": "fcddcd01-a06b-4160-8c71-041287bfe833",
   "metadata": {},
   "outputs": [
    {
     "data": {
      "text/plain": [
       "(1345310, 122)"
      ]
     },
     "execution_count": 124,
     "metadata": {},
     "output_type": "execute_result"
    }
   ],
   "source": [
    "data.shape"
   ]
  },
  {
   "cell_type": "code",
   "execution_count": 125,
   "id": "d8790264-f969-4f5c-b36f-8d5f4776f37b",
   "metadata": {},
   "outputs": [
    {
     "data": {
      "text/html": [
       "<div>\n",
       "<style scoped>\n",
       "    .dataframe tbody tr th:only-of-type {\n",
       "        vertical-align: middle;\n",
       "    }\n",
       "\n",
       "    .dataframe tbody tr th {\n",
       "        vertical-align: top;\n",
       "    }\n",
       "\n",
       "    .dataframe thead th {\n",
       "        text-align: right;\n",
       "    }\n",
       "</style>\n",
       "<table border=\"1\" class=\"dataframe\">\n",
       "  <thead>\n",
       "    <tr style=\"text-align: right;\">\n",
       "      <th></th>\n",
       "      <th>loan_amnt</th>\n",
       "      <th>term</th>\n",
       "      <th>int_rate</th>\n",
       "      <th>installment</th>\n",
       "      <th>emp_length</th>\n",
       "      <th>issue_d</th>\n",
       "      <th>dti</th>\n",
       "      <th>earliest_cr_line</th>\n",
       "      <th>open_acc</th>\n",
       "      <th>pub_rec</th>\n",
       "      <th>...</th>\n",
       "      <th>addr_state_TX</th>\n",
       "      <th>addr_state_UT</th>\n",
       "      <th>addr_state_VA</th>\n",
       "      <th>addr_state_VT</th>\n",
       "      <th>addr_state_WA</th>\n",
       "      <th>addr_state_WI</th>\n",
       "      <th>addr_state_WV</th>\n",
       "      <th>addr_state_WY</th>\n",
       "      <th>initial_list_status_w</th>\n",
       "      <th>application_type_Joint App</th>\n",
       "    </tr>\n",
       "  </thead>\n",
       "  <tbody>\n",
       "    <tr>\n",
       "      <th>385526</th>\n",
       "      <td>7000.0</td>\n",
       "      <td>36</td>\n",
       "      <td>11.44</td>\n",
       "      <td>230.64</td>\n",
       "      <td>3.0</td>\n",
       "      <td>Jan-2015</td>\n",
       "      <td>15.59</td>\n",
       "      <td>2006</td>\n",
       "      <td>20</td>\n",
       "      <td>0.0</td>\n",
       "      <td>...</td>\n",
       "      <td>False</td>\n",
       "      <td>False</td>\n",
       "      <td>False</td>\n",
       "      <td>False</td>\n",
       "      <td>False</td>\n",
       "      <td>False</td>\n",
       "      <td>False</td>\n",
       "      <td>False</td>\n",
       "      <td>True</td>\n",
       "      <td>False</td>\n",
       "    </tr>\n",
       "    <tr>\n",
       "      <th>346932</th>\n",
       "      <td>9000.0</td>\n",
       "      <td>36</td>\n",
       "      <td>12.69</td>\n",
       "      <td>301.91</td>\n",
       "      <td>4.0</td>\n",
       "      <td>Mar-2015</td>\n",
       "      <td>18.94</td>\n",
       "      <td>2005</td>\n",
       "      <td>13</td>\n",
       "      <td>0.0</td>\n",
       "      <td>...</td>\n",
       "      <td>False</td>\n",
       "      <td>False</td>\n",
       "      <td>False</td>\n",
       "      <td>False</td>\n",
       "      <td>False</td>\n",
       "      <td>False</td>\n",
       "      <td>False</td>\n",
       "      <td>False</td>\n",
       "      <td>True</td>\n",
       "      <td>False</td>\n",
       "    </tr>\n",
       "    <tr>\n",
       "      <th>1709068</th>\n",
       "      <td>15000.0</td>\n",
       "      <td>36</td>\n",
       "      <td>7.24</td>\n",
       "      <td>464.81</td>\n",
       "      <td>0.0</td>\n",
       "      <td>Feb-2017</td>\n",
       "      <td>28.86</td>\n",
       "      <td>2001</td>\n",
       "      <td>24</td>\n",
       "      <td>1.0</td>\n",
       "      <td>...</td>\n",
       "      <td>False</td>\n",
       "      <td>False</td>\n",
       "      <td>False</td>\n",
       "      <td>False</td>\n",
       "      <td>False</td>\n",
       "      <td>False</td>\n",
       "      <td>False</td>\n",
       "      <td>False</td>\n",
       "      <td>True</td>\n",
       "      <td>False</td>\n",
       "    </tr>\n",
       "    <tr>\n",
       "      <th>412202</th>\n",
       "      <td>10000.0</td>\n",
       "      <td>36</td>\n",
       "      <td>8.67</td>\n",
       "      <td>316.47</td>\n",
       "      <td>9.0</td>\n",
       "      <td>Jan-2015</td>\n",
       "      <td>15.31</td>\n",
       "      <td>1997</td>\n",
       "      <td>20</td>\n",
       "      <td>0.0</td>\n",
       "      <td>...</td>\n",
       "      <td>False</td>\n",
       "      <td>False</td>\n",
       "      <td>False</td>\n",
       "      <td>False</td>\n",
       "      <td>False</td>\n",
       "      <td>False</td>\n",
       "      <td>False</td>\n",
       "      <td>False</td>\n",
       "      <td>False</td>\n",
       "      <td>False</td>\n",
       "    </tr>\n",
       "    <tr>\n",
       "      <th>2116313</th>\n",
       "      <td>16000.0</td>\n",
       "      <td>36</td>\n",
       "      <td>17.09</td>\n",
       "      <td>571.17</td>\n",
       "      <td>3.0</td>\n",
       "      <td>Nov-2017</td>\n",
       "      <td>14.56</td>\n",
       "      <td>2006</td>\n",
       "      <td>10</td>\n",
       "      <td>0.0</td>\n",
       "      <td>...</td>\n",
       "      <td>False</td>\n",
       "      <td>False</td>\n",
       "      <td>False</td>\n",
       "      <td>False</td>\n",
       "      <td>False</td>\n",
       "      <td>False</td>\n",
       "      <td>False</td>\n",
       "      <td>False</td>\n",
       "      <td>True</td>\n",
       "      <td>False</td>\n",
       "    </tr>\n",
       "  </tbody>\n",
       "</table>\n",
       "<p>5 rows × 122 columns</p>\n",
       "</div>"
      ],
      "text/plain": [
       "         loan_amnt  term  int_rate  installment emp_length   issue_d    dti  \\\n",
       "385526      7000.0    36     11.44       230.64        3.0  Jan-2015  15.59   \n",
       "346932      9000.0    36     12.69       301.91        4.0  Mar-2015  18.94   \n",
       "1709068    15000.0    36      7.24       464.81        0.0  Feb-2017  28.86   \n",
       "412202     10000.0    36      8.67       316.47        9.0  Jan-2015  15.31   \n",
       "2116313    16000.0    36     17.09       571.17        3.0  Nov-2017  14.56   \n",
       "\n",
       "         earliest_cr_line  open_acc  pub_rec  ...  addr_state_TX  \\\n",
       "385526               2006        20      0.0  ...          False   \n",
       "346932               2005        13      0.0  ...          False   \n",
       "1709068              2001        24      1.0  ...          False   \n",
       "412202               1997        20      0.0  ...          False   \n",
       "2116313              2006        10      0.0  ...          False   \n",
       "\n",
       "         addr_state_UT  addr_state_VA  addr_state_VT  addr_state_WA  \\\n",
       "385526           False          False          False          False   \n",
       "346932           False          False          False          False   \n",
       "1709068          False          False          False          False   \n",
       "412202           False          False          False          False   \n",
       "2116313          False          False          False          False   \n",
       "\n",
       "         addr_state_WI  addr_state_WV  addr_state_WY  initial_list_status_w  \\\n",
       "385526           False          False          False                   True   \n",
       "346932           False          False          False                   True   \n",
       "1709068          False          False          False                   True   \n",
       "412202           False          False          False                  False   \n",
       "2116313          False          False          False                   True   \n",
       "\n",
       "         application_type_Joint App  \n",
       "385526                        False  \n",
       "346932                        False  \n",
       "1709068                       False  \n",
       "412202                        False  \n",
       "2116313                       False  \n",
       "\n",
       "[5 rows x 122 columns]"
      ]
     },
     "execution_count": 125,
     "metadata": {},
     "output_type": "execute_result"
    }
   ],
   "source": [
    "data.sample(5)"
   ]
  },
  {
   "cell_type": "code",
   "execution_count": null,
   "id": "d535285c-96e3-4ed6-903c-8d49da72f344",
   "metadata": {},
   "outputs": [],
   "source": []
  },
  {
   "cell_type": "code",
   "execution_count": null,
   "id": "17b73ce0-4131-4dd7-9547-3bc05a3fd853",
   "metadata": {},
   "outputs": [],
   "source": []
  },
  {
   "cell_type": "code",
   "execution_count": null,
   "id": "13387c6b-6870-4945-9f6c-c39dee9761a6",
   "metadata": {},
   "outputs": [],
   "source": []
  },
  {
   "cell_type": "code",
   "execution_count": null,
   "id": "72ff432a-a82f-4b84-a864-0f87d0bd7ee0",
   "metadata": {},
   "outputs": [],
   "source": []
  },
  {
   "cell_type": "code",
   "execution_count": null,
   "id": "73b4cace-68ec-4219-ad99-7f9a18c5cc32",
   "metadata": {},
   "outputs": [],
   "source": []
  },
  {
   "cell_type": "markdown",
   "id": "79ad171b-9747-4ef8-8592-61b91486676e",
   "metadata": {},
   "source": [
    "### (3) 훈련/테스트 데이터 나누기"
   ]
  },
  {
   "cell_type": "code",
   "execution_count": 126,
   "id": "59fcab25-a62f-4b58-9f25-c9b47c3b32f8",
   "metadata": {},
   "outputs": [
    {
     "data": {
      "text/plain": [
       "937067     May-2017\n",
       "2188314    Dec-2016\n",
       "1060899    Feb-2016\n",
       "651999     Jun-2016\n",
       "692720     May-2016\n",
       "Name: issue_d, dtype: object"
      ]
     },
     "execution_count": 126,
     "metadata": {},
     "output_type": "execute_result"
    }
   ],
   "source": [
    "data['issue_d'].sample(5)"
   ]
  },
  {
   "cell_type": "code",
   "execution_count": 127,
   "id": "894a8786-3d75-40b6-80be-db7b28922f7d",
   "metadata": {},
   "outputs": [
    {
     "data": {
      "text/plain": [
       "False"
      ]
     },
     "execution_count": 127,
     "metadata": {},
     "output_type": "execute_result"
    }
   ],
   "source": [
    "data['issue_d'].isnull().any()"
   ]
  },
  {
   "cell_type": "code",
   "execution_count": 128,
   "id": "b34eb8c9-0292-4d91-9d8b-957b43a3cf37",
   "metadata": {},
   "outputs": [
    {
     "name": "stderr",
     "output_type": "stream",
     "text": [
      "C:\\Users\\KDT6\\AppData\\Local\\Temp\\ipykernel_43864\\2469893809.py:1: UserWarning: Could not infer format, so each element will be parsed individually, falling back to `dateutil`. To ensure parsing is consistent and as-expected, please specify a format.\n",
      "  data['issue_d'] = pd.to_datetime(data['issue_d'])\n"
     ]
    }
   ],
   "source": [
    "data['issue_d'] = pd.to_datetime(data['issue_d'])"
   ]
  },
  {
   "cell_type": "code",
   "execution_count": 129,
   "id": "95ea2b54-35a7-463b-9b5a-296bc1459e69",
   "metadata": {},
   "outputs": [
    {
     "data": {
      "text/plain": [
       "341272    2015-04-01\n",
       "937796    2017-05-01\n",
       "2117525   2017-11-01\n",
       "401110    2015-01-01\n",
       "2231074   2016-10-01\n",
       "Name: issue_d, dtype: datetime64[ns]"
      ]
     },
     "execution_count": 129,
     "metadata": {},
     "output_type": "execute_result"
    }
   ],
   "source": [
    "data['issue_d'].sample(5)"
   ]
  },
  {
   "cell_type": "code",
   "execution_count": 130,
   "id": "f873b1cb-91a1-457f-bb60-aec4e782f9fc",
   "metadata": {},
   "outputs": [
    {
     "data": {
      "text/plain": [
       "count                          1345310\n",
       "mean     2015-06-06 17:48:20.835048960\n",
       "min                2007-06-01 00:00:00\n",
       "25%                2014-07-01 00:00:00\n",
       "50%                2015-08-01 00:00:00\n",
       "75%                2016-07-01 00:00:00\n",
       "max                2018-12-01 00:00:00\n",
       "Name: issue_d, dtype: object"
      ]
     },
     "execution_count": 130,
     "metadata": {},
     "output_type": "execute_result"
    }
   ],
   "source": [
    "data['issue_d'].describe()"
   ]
  },
  {
   "cell_type": "code",
   "execution_count": 131,
   "id": "ec809771-33af-407c-8c4f-f96c51580907",
   "metadata": {},
   "outputs": [
    {
     "data": {
      "text/plain": [
       "Text(0.5, 1.0, 'Loans Funded per Year')"
      ]
     },
     "execution_count": 131,
     "metadata": {},
     "output_type": "execute_result"
    },
    {
     "data": {
      "image/png": "[encoded data removed]",
      "text/plain": [
       "<Figure size 540x270 with 1 Axes>"
      ]
     },
     "metadata": {},
     "output_type": "display_data"
    }
   ],
   "source": [
    "plt.figure(figsize=(6,3), dpi=90)\n",
    "data['issue_d'].dt.year.value_counts().sort_index().plot.bar(color='darkblue')\n",
    "plt.xlabel('Year')\n",
    "plt.ylabel('Number of Loans Funded')\n",
    "plt.title('Loans Funded per Year')"
   ]
  },
  {
   "cell_type": "code",
   "execution_count": 132,
   "id": "a3570a38-3d8e-4349-9cad-c8b326cc48b5",
   "metadata": {},
   "outputs": [],
   "source": [
    "loans_train = data.loc[data['issue_d'] <  data['issue_d'].quantile(0.9)]\n",
    "loans_test =  data.loc[data['issue_d'] >= data['issue_d'].quantile(0.9)]"
   ]
  },
  {
   "cell_type": "code",
   "execution_count": 133,
   "id": "004a3a7e-45cb-4712-9105-ae9fe6d17120",
   "metadata": {},
   "outputs": [
    {
     "name": "stdout",
     "output_type": "stream",
     "text": [
      "Number of loans in the partition:    1345310\n",
      "Number of loans in the full dataset: 1345310\n"
     ]
    }
   ],
   "source": [
    "print('Number of loans in the partition:   ', loans_train.shape[0] + loans_test.shape[0])\n",
    "print('Number of loans in the full dataset:', data.shape[0])"
   ]
  },
  {
   "cell_type": "code",
   "execution_count": 134,
   "id": "e32cc668-c329-41f4-912d-129aae8a9b73",
   "metadata": {},
   "outputs": [
    {
     "data": {
      "text/plain": [
       "0.11111639696426846"
      ]
     },
     "execution_count": 134,
     "metadata": {},
     "output_type": "execute_result"
    }
   ],
   "source": [
    "loans_test.shape[0] / data.shape[0]"
   ]
  },
  {
   "cell_type": "code",
   "execution_count": 135,
   "id": "df6ab6b8-be88-48e1-af19-f8157c94001e",
   "metadata": {},
   "outputs": [],
   "source": [
    "del data"
   ]
  },
  {
   "cell_type": "code",
   "execution_count": 136,
   "id": "60d4c983-78d4-4a5a-8398-098f0bc22433",
   "metadata": {},
   "outputs": [
    {
     "data": {
      "text/plain": [
       "count                          1195824\n",
       "mean     2015-02-14 03:13:47.495684864\n",
       "min                2007-06-01 00:00:00\n",
       "25%                2014-05-01 00:00:00\n",
       "50%                2015-06-01 00:00:00\n",
       "75%                2016-03-01 00:00:00\n",
       "max                2017-05-01 00:00:00\n",
       "Name: issue_d, dtype: object"
      ]
     },
     "execution_count": 136,
     "metadata": {},
     "output_type": "execute_result"
    }
   ],
   "source": [
    "loans_train['issue_d'].describe()"
   ]
  },
  {
   "cell_type": "code",
   "execution_count": 137,
   "id": "8aedbd4e-cbd1-4a01-b737-75cf1402da23",
   "metadata": {},
   "outputs": [
    {
     "data": {
      "text/plain": [
       "count                           149486\n",
       "mean     2017-11-23 13:15:22.119796992\n",
       "min                2017-06-01 00:00:00\n",
       "25%                2017-08-01 00:00:00\n",
       "50%                2017-11-01 00:00:00\n",
       "75%                2018-03-01 00:00:00\n",
       "max                2018-12-01 00:00:00\n",
       "Name: issue_d, dtype: object"
      ]
     },
     "execution_count": 137,
     "metadata": {},
     "output_type": "execute_result"
    }
   ],
   "source": [
    "loans_test['issue_d'].describe()"
   ]
  },
  {
   "cell_type": "code",
   "execution_count": 138,
   "id": "036de098-a180-4d39-b6d3-e30d08818dfa",
   "metadata": {},
   "outputs": [],
   "source": [
    "loans_train.drop('issue_d', axis=1, inplace=True)\n",
    "loans_test.drop('issue_d', axis=1, inplace=True)"
   ]
  },
  {
   "cell_type": "code",
   "execution_count": 139,
   "id": "af3756d8-6777-4528-b3e7-91bcd7ad5450",
   "metadata": {},
   "outputs": [],
   "source": [
    "y_train = loans_train['charged_off']\n",
    "y_test = loans_test['charged_off']"
   ]
  },
  {
   "cell_type": "code",
   "execution_count": 140,
   "id": "6f361cf8-5493-4da4-8724-8e28bd0b8393",
   "metadata": {},
   "outputs": [],
   "source": [
    "X_train = loans_train.drop('charged_off', axis=1)\n",
    "X_test = loans_test.drop('charged_off', axis=1)"
   ]
  },
  {
   "cell_type": "code",
   "execution_count": 141,
   "id": "7ab0cfcc-0631-4a97-a412-7956e603aa61",
   "metadata": {},
   "outputs": [],
   "source": [
    "del loans_train, loans_test"
   ]
  },
  {
   "cell_type": "code",
   "execution_count": null,
   "id": "710e0ab7-5ee9-484a-9a86-105293c37e7f",
   "metadata": {},
   "outputs": [],
   "source": []
  },
  {
   "cell_type": "markdown",
   "id": "8e1330ef-9b14-4df0-95b2-e49ad406bd3d",
   "metadata": {},
   "source": [
    "## target(charged_off)과 피쳐 간의 선형 상관관계 분석"
   ]
  },
  {
   "cell_type": "code",
   "execution_count": 142,
   "id": "89cd7f80-ebb9-44cd-b1df-9fa7b32d0ee0",
   "metadata": {},
   "outputs": [],
   "source": [
    "linear_dep = pd.DataFrame()"
   ]
  },
  {
   "cell_type": "markdown",
   "id": "11d88774-0f81-4e87-a2c0-e7d43b2f8004",
   "metadata": {},
   "source": [
    "피어슨 상관계수\n",
    "- -1 ~ 1 사이 값으로, 절댓값이 클수록 강한 선형 관계"
   ]
  },
  {
   "cell_type": "code",
   "execution_count": 143,
   "id": "5c4b9ebe-c41a-4c3c-92a9-8b2524aa9c22",
   "metadata": {},
   "outputs": [],
   "source": [
    "for col in X_train.columns:\n",
    "    linear_dep.loc[col, 'pearson_corr'] = X_train[col].corr(y_train)\n",
    "linear_dep['abs_pearson_corr'] = abs(linear_dep['pearson_corr'])"
   ]
  },
  {
   "cell_type": "markdown",
   "id": "2e161062-dc2a-4199-af85-1f8e9f6dcff0",
   "metadata": {},
   "source": [
    "F-통계량\n",
    "- (각 변수와 charged_off 간 분산분석(ANOVA)을 수행)\n",
    "- F 값은 그룹 간 차이가 유의미한지를 나타냄\n",
    "- p_value는 그 유의성의 확률값(작을수록 유의미함)\n",
    "- (결측치가 없는 부분만 사용해 계산)"
   ]
  },
  {
   "cell_type": "code",
   "execution_count": 144,
   "id": "0090c4c6-b713-42a2-8679-8347a1d6b9d0",
   "metadata": {},
   "outputs": [],
   "source": [
    "from sklearn.feature_selection import f_classif\n",
    "for col in X_train.columns:\n",
    "    mask = X_train[col].notnull()\n",
    "    (linear_dep.loc[col, 'F'], linear_dep.loc[col, 'p_value']) = f_classif(pd.DataFrame(X_train.loc[mask, col]), y_train.loc[mask])"
   ]
  },
  {
   "cell_type": "markdown",
   "id": "90e0ab04-54c5-4348-8b37-1fddee51e7bd",
   "metadata": {},
   "source": [
    "- 피어슨 상관계수의 절대값에 따라 정렬"
   ]
  },
  {
   "cell_type": "code",
   "execution_count": 145,
   "id": "03ab417a-b856-4622-87d8-b8061e8efcc9",
   "metadata": {},
   "outputs": [],
   "source": [
    "linear_dep.sort_values('abs_pearson_corr', ascending=False, inplace=True)\n",
    "linear_dep.drop('abs_pearson_corr', axis=1, inplace=True)"
   ]
  },
  {
   "cell_type": "code",
   "execution_count": 146,
   "id": "91667437-d5fe-4ffe-87aa-b6f7e755bfcb",
   "metadata": {},
   "outputs": [],
   "source": [
    "# index 리셋\n",
    "linear_dep.reset_index(inplace=True)\n",
    "linear_dep.rename(columns={'index':'variable'}, inplace=True)"
   ]
  },
  {
   "cell_type": "markdown",
   "id": "b6535e49-51c9-4e0a-98c2-e4c0eff4b40d",
   "metadata": {},
   "source": [
    "- target과 상관관계 강한 상위 20개 변수"
   ]
  },
  {
   "cell_type": "code",
   "execution_count": 147,
   "id": "635ae7dc-d472-4f2f-8979-37f8f4fe4353",
   "metadata": {},
   "outputs": [
    {
     "data": {
      "text/html": [
       "<div>\n",
       "<style scoped>\n",
       "    .dataframe tbody tr th:only-of-type {\n",
       "        vertical-align: middle;\n",
       "    }\n",
       "\n",
       "    .dataframe tbody tr th {\n",
       "        vertical-align: top;\n",
       "    }\n",
       "\n",
       "    .dataframe thead th {\n",
       "        text-align: right;\n",
       "    }\n",
       "</style>\n",
       "<table border=\"1\" class=\"dataframe\">\n",
       "  <thead>\n",
       "    <tr style=\"text-align: right;\">\n",
       "      <th></th>\n",
       "      <th>variable</th>\n",
       "      <th>pearson_corr</th>\n",
       "      <th>F</th>\n",
       "      <th>p_value</th>\n",
       "    </tr>\n",
       "  </thead>\n",
       "  <tbody>\n",
       "    <tr>\n",
       "      <th>0</th>\n",
       "      <td>int_rate</td>\n",
       "      <td>0.260727</td>\n",
       "      <td>87219.488733</td>\n",
       "      <td>0.0</td>\n",
       "    </tr>\n",
       "    <tr>\n",
       "      <th>1</th>\n",
       "      <td>term</td>\n",
       "      <td>0.182364</td>\n",
       "      <td>41138.501332</td>\n",
       "      <td>0.0</td>\n",
       "    </tr>\n",
       "    <tr>\n",
       "      <th>2</th>\n",
       "      <td>fico_score</td>\n",
       "      <td>-0.131392</td>\n",
       "      <td>21007.091229</td>\n",
       "      <td>0.0</td>\n",
       "    </tr>\n",
       "    <tr>\n",
       "      <th>3</th>\n",
       "      <td>dti</td>\n",
       "      <td>0.100747</td>\n",
       "      <td>12261.190248</td>\n",
       "      <td>0.0</td>\n",
       "    </tr>\n",
       "    <tr>\n",
       "      <th>4</th>\n",
       "      <td>mort_acc</td>\n",
       "      <td>-0.072414</td>\n",
       "      <td>6054.501347</td>\n",
       "      <td>0.0</td>\n",
       "    </tr>\n",
       "    <tr>\n",
       "      <th>5</th>\n",
       "      <td>sub_grade_A4</td>\n",
       "      <td>-0.065653</td>\n",
       "      <td>5176.669917</td>\n",
       "      <td>0.0</td>\n",
       "    </tr>\n",
       "    <tr>\n",
       "      <th>6</th>\n",
       "      <td>log_annual_inc</td>\n",
       "      <td>-0.065324</td>\n",
       "      <td>5124.653113</td>\n",
       "      <td>0.0</td>\n",
       "    </tr>\n",
       "    <tr>\n",
       "      <th>7</th>\n",
       "      <td>sub_grade_A5</td>\n",
       "      <td>-0.065204</td>\n",
       "      <td>5105.863849</td>\n",
       "      <td>0.0</td>\n",
       "    </tr>\n",
       "    <tr>\n",
       "      <th>8</th>\n",
       "      <td>sub_grade_A2</td>\n",
       "      <td>-0.063053</td>\n",
       "      <td>4773.117611</td>\n",
       "      <td>0.0</td>\n",
       "    </tr>\n",
       "    <tr>\n",
       "      <th>9</th>\n",
       "      <td>home_ownership_RENT</td>\n",
       "      <td>0.062418</td>\n",
       "      <td>4677.205362</td>\n",
       "      <td>0.0</td>\n",
       "    </tr>\n",
       "    <tr>\n",
       "      <th>10</th>\n",
       "      <td>loan_amnt</td>\n",
       "      <td>0.061936</td>\n",
       "      <td>4604.922425</td>\n",
       "      <td>0.0</td>\n",
       "    </tr>\n",
       "    <tr>\n",
       "      <th>11</th>\n",
       "      <td>verification_status_Verified</td>\n",
       "      <td>0.061596</td>\n",
       "      <td>4554.216117</td>\n",
       "      <td>0.0</td>\n",
       "    </tr>\n",
       "    <tr>\n",
       "      <th>12</th>\n",
       "      <td>sub_grade_A3</td>\n",
       "      <td>-0.060058</td>\n",
       "      <td>4328.943580</td>\n",
       "      <td>0.0</td>\n",
       "    </tr>\n",
       "    <tr>\n",
       "      <th>13</th>\n",
       "      <td>sub_grade_E2</td>\n",
       "      <td>0.057561</td>\n",
       "      <td>3975.306806</td>\n",
       "      <td>0.0</td>\n",
       "    </tr>\n",
       "    <tr>\n",
       "      <th>14</th>\n",
       "      <td>sub_grade_E4</td>\n",
       "      <td>0.056855</td>\n",
       "      <td>3878.029274</td>\n",
       "      <td>0.0</td>\n",
       "    </tr>\n",
       "    <tr>\n",
       "      <th>15</th>\n",
       "      <td>sub_grade_E1</td>\n",
       "      <td>0.056649</td>\n",
       "      <td>3849.945035</td>\n",
       "      <td>0.0</td>\n",
       "    </tr>\n",
       "    <tr>\n",
       "      <th>16</th>\n",
       "      <td>sub_grade_B1</td>\n",
       "      <td>-0.056570</td>\n",
       "      <td>3839.059745</td>\n",
       "      <td>0.0</td>\n",
       "    </tr>\n",
       "    <tr>\n",
       "      <th>17</th>\n",
       "      <td>revol_util</td>\n",
       "      <td>0.056371</td>\n",
       "      <td>3809.925130</td>\n",
       "      <td>0.0</td>\n",
       "    </tr>\n",
       "    <tr>\n",
       "      <th>18</th>\n",
       "      <td>sub_grade_E3</td>\n",
       "      <td>0.056314</td>\n",
       "      <td>3804.304221</td>\n",
       "      <td>0.0</td>\n",
       "    </tr>\n",
       "    <tr>\n",
       "      <th>19</th>\n",
       "      <td>sub_grade_E5</td>\n",
       "      <td>0.055649</td>\n",
       "      <td>3714.784458</td>\n",
       "      <td>0.0</td>\n",
       "    </tr>\n",
       "  </tbody>\n",
       "</table>\n",
       "</div>"
      ],
      "text/plain": [
       "                        variable  pearson_corr             F  p_value\n",
       "0                       int_rate      0.260727  87219.488733      0.0\n",
       "1                           term      0.182364  41138.501332      0.0\n",
       "2                     fico_score     -0.131392  21007.091229      0.0\n",
       "3                            dti      0.100747  12261.190248      0.0\n",
       "4                       mort_acc     -0.072414   6054.501347      0.0\n",
       "5                   sub_grade_A4     -0.065653   5176.669917      0.0\n",
       "6                 log_annual_inc     -0.065324   5124.653113      0.0\n",
       "7                   sub_grade_A5     -0.065204   5105.863849      0.0\n",
       "8                   sub_grade_A2     -0.063053   4773.117611      0.0\n",
       "9            home_ownership_RENT      0.062418   4677.205362      0.0\n",
       "10                     loan_amnt      0.061936   4604.922425      0.0\n",
       "11  verification_status_Verified      0.061596   4554.216117      0.0\n",
       "12                  sub_grade_A3     -0.060058   4328.943580      0.0\n",
       "13                  sub_grade_E2      0.057561   3975.306806      0.0\n",
       "14                  sub_grade_E4      0.056855   3878.029274      0.0\n",
       "15                  sub_grade_E1      0.056649   3849.945035      0.0\n",
       "16                  sub_grade_B1     -0.056570   3839.059745      0.0\n",
       "17                    revol_util      0.056371   3809.925130      0.0\n",
       "18                  sub_grade_E3      0.056314   3804.304221      0.0\n",
       "19                  sub_grade_E5      0.055649   3714.784458      0.0"
      ]
     },
     "execution_count": 147,
     "metadata": {},
     "output_type": "execute_result"
    }
   ],
   "source": [
    "linear_dep.head(20)"
   ]
  },
  {
   "cell_type": "markdown",
   "id": "756c7ccb-e1a0-4577-ab49-51df2a80cf27",
   "metadata": {},
   "source": [
    "- target과 상관관계 약한 하위 20개 변수"
   ]
  },
  {
   "cell_type": "code",
   "execution_count": 148,
   "id": "33248373-b4f2-4600-b666-8cea8aa51910",
   "metadata": {},
   "outputs": [
    {
     "data": {
      "text/html": [
       "<div>\n",
       "<style scoped>\n",
       "    .dataframe tbody tr th:only-of-type {\n",
       "        vertical-align: middle;\n",
       "    }\n",
       "\n",
       "    .dataframe tbody tr th {\n",
       "        vertical-align: top;\n",
       "    }\n",
       "\n",
       "    .dataframe thead th {\n",
       "        text-align: right;\n",
       "    }\n",
       "</style>\n",
       "<table border=\"1\" class=\"dataframe\">\n",
       "  <thead>\n",
       "    <tr style=\"text-align: right;\">\n",
       "      <th></th>\n",
       "      <th>variable</th>\n",
       "      <th>pearson_corr</th>\n",
       "      <th>F</th>\n",
       "      <th>p_value</th>\n",
       "    </tr>\n",
       "  </thead>\n",
       "  <tbody>\n",
       "    <tr>\n",
       "      <th>100</th>\n",
       "      <td>addr_state_WY</td>\n",
       "      <td>-0.003484</td>\n",
       "      <td>14.512058</td>\n",
       "      <td>0.000139</td>\n",
       "    </tr>\n",
       "    <tr>\n",
       "      <th>101</th>\n",
       "      <td>addr_state_KY</td>\n",
       "      <td>0.003284</td>\n",
       "      <td>12.899558</td>\n",
       "      <td>0.000329</td>\n",
       "    </tr>\n",
       "    <tr>\n",
       "      <th>102</th>\n",
       "      <td>addr_state_RI</td>\n",
       "      <td>-0.003236</td>\n",
       "      <td>12.524695</td>\n",
       "      <td>0.000402</td>\n",
       "    </tr>\n",
       "    <tr>\n",
       "      <th>103</th>\n",
       "      <td>addr_state_NC</td>\n",
       "      <td>0.003228</td>\n",
       "      <td>12.462234</td>\n",
       "      <td>0.000415</td>\n",
       "    </tr>\n",
       "    <tr>\n",
       "      <th>104</th>\n",
       "      <td>addr_state_NM</td>\n",
       "      <td>0.002456</td>\n",
       "      <td>7.211381</td>\n",
       "      <td>0.007244</td>\n",
       "    </tr>\n",
       "    <tr>\n",
       "      <th>105</th>\n",
       "      <td>purpose_renewable_energy</td>\n",
       "      <td>0.002105</td>\n",
       "      <td>5.297637</td>\n",
       "      <td>0.021355</td>\n",
       "    </tr>\n",
       "    <tr>\n",
       "      <th>106</th>\n",
       "      <td>addr_state_TX</td>\n",
       "      <td>-0.001797</td>\n",
       "      <td>3.853799</td>\n",
       "      <td>0.049634</td>\n",
       "    </tr>\n",
       "    <tr>\n",
       "      <th>107</th>\n",
       "      <td>addr_state_SD</td>\n",
       "      <td>0.001611</td>\n",
       "      <td>3.102581</td>\n",
       "      <td>0.078169</td>\n",
       "    </tr>\n",
       "    <tr>\n",
       "      <th>108</th>\n",
       "      <td>addr_state_MI</td>\n",
       "      <td>0.001250</td>\n",
       "      <td>1.865744</td>\n",
       "      <td>0.171964</td>\n",
       "    </tr>\n",
       "    <tr>\n",
       "      <th>109</th>\n",
       "      <td>purpose_vacation</td>\n",
       "      <td>-0.001205</td>\n",
       "      <td>1.737135</td>\n",
       "      <td>0.187502</td>\n",
       "    </tr>\n",
       "    <tr>\n",
       "      <th>110</th>\n",
       "      <td>purpose_educational</td>\n",
       "      <td>-0.001136</td>\n",
       "      <td>1.543070</td>\n",
       "      <td>0.214162</td>\n",
       "    </tr>\n",
       "    <tr>\n",
       "      <th>111</th>\n",
       "      <td>addr_state_ND</td>\n",
       "      <td>0.000954</td>\n",
       "      <td>1.088344</td>\n",
       "      <td>0.296839</td>\n",
       "    </tr>\n",
       "    <tr>\n",
       "      <th>112</th>\n",
       "      <td>addr_state_AZ</td>\n",
       "      <td>-0.000837</td>\n",
       "      <td>0.837571</td>\n",
       "      <td>0.360092</td>\n",
       "    </tr>\n",
       "    <tr>\n",
       "      <th>113</th>\n",
       "      <td>addr_state_HI</td>\n",
       "      <td>0.000746</td>\n",
       "      <td>0.666534</td>\n",
       "      <td>0.414263</td>\n",
       "    </tr>\n",
       "    <tr>\n",
       "      <th>114</th>\n",
       "      <td>addr_state_VA</td>\n",
       "      <td>0.000568</td>\n",
       "      <td>0.384073</td>\n",
       "      <td>0.535431</td>\n",
       "    </tr>\n",
       "    <tr>\n",
       "      <th>115</th>\n",
       "      <td>addr_state_MN</td>\n",
       "      <td>-0.000494</td>\n",
       "      <td>0.292784</td>\n",
       "      <td>0.588442</td>\n",
       "    </tr>\n",
       "    <tr>\n",
       "      <th>116</th>\n",
       "      <td>home_ownership_OTHER</td>\n",
       "      <td>-0.000375</td>\n",
       "      <td>0.167771</td>\n",
       "      <td>0.682100</td>\n",
       "    </tr>\n",
       "    <tr>\n",
       "      <th>117</th>\n",
       "      <td>addr_state_IA</td>\n",
       "      <td>-0.000342</td>\n",
       "      <td>0.139555</td>\n",
       "      <td>0.708724</td>\n",
       "    </tr>\n",
       "    <tr>\n",
       "      <th>118</th>\n",
       "      <td>addr_state_DE</td>\n",
       "      <td>0.000162</td>\n",
       "      <td>0.031243</td>\n",
       "      <td>0.859699</td>\n",
       "    </tr>\n",
       "    <tr>\n",
       "      <th>119</th>\n",
       "      <td>addr_state_ID</td>\n",
       "      <td>0.000015</td>\n",
       "      <td>0.000284</td>\n",
       "      <td>0.986557</td>\n",
       "    </tr>\n",
       "  </tbody>\n",
       "</table>\n",
       "</div>"
      ],
      "text/plain": [
       "                     variable  pearson_corr          F   p_value\n",
       "100             addr_state_WY     -0.003484  14.512058  0.000139\n",
       "101             addr_state_KY      0.003284  12.899558  0.000329\n",
       "102             addr_state_RI     -0.003236  12.524695  0.000402\n",
       "103             addr_state_NC      0.003228  12.462234  0.000415\n",
       "104             addr_state_NM      0.002456   7.211381  0.007244\n",
       "105  purpose_renewable_energy      0.002105   5.297637  0.021355\n",
       "106             addr_state_TX     -0.001797   3.853799  0.049634\n",
       "107             addr_state_SD      0.001611   3.102581  0.078169\n",
       "108             addr_state_MI      0.001250   1.865744  0.171964\n",
       "109          purpose_vacation     -0.001205   1.737135  0.187502\n",
       "110       purpose_educational     -0.001136   1.543070  0.214162\n",
       "111             addr_state_ND      0.000954   1.088344  0.296839\n",
       "112             addr_state_AZ     -0.000837   0.837571  0.360092\n",
       "113             addr_state_HI      0.000746   0.666534  0.414263\n",
       "114             addr_state_VA      0.000568   0.384073  0.535431\n",
       "115             addr_state_MN     -0.000494   0.292784  0.588442\n",
       "116      home_ownership_OTHER     -0.000375   0.167771  0.682100\n",
       "117             addr_state_IA     -0.000342   0.139555  0.708724\n",
       "118             addr_state_DE      0.000162   0.031243  0.859699\n",
       "119             addr_state_ID      0.000015   0.000284  0.986557"
      ]
     },
     "execution_count": 148,
     "metadata": {},
     "output_type": "execute_result"
    }
   ],
   "source": [
    "linear_dep.tail(20)"
   ]
  },
  {
   "cell_type": "markdown",
   "id": "c88bb4bc-54ad-4ddc-8728-f04d87b8d71c",
   "metadata": {},
   "source": [
    "- 상관관계가 높 변수: 이자율, 대출 기간(만기), FICO 점수, 소득 대비 부채 비율, 모기지 건수, 소득, 대출 등급, 대출 금액\n",
    "- 상관관계 낮은 변수: 대출자의 거주 상태, 회전 잔액 및 대출 목적"
   ]
  },
  {
   "cell_type": "code",
   "execution_count": null,
   "id": "e6fd3c85-4a0a-4a03-ad59-ae2a468c23f2",
   "metadata": {},
   "outputs": [],
   "source": []
  },
  {
   "cell_type": "markdown",
   "id": "2b79bc06-9b9a-4446-9d8b-cc102e80571d",
   "metadata": {},
   "source": [
    "## 모델 훈련 및 테스트\n",
    "- 모델: Logistic Regression, Random Forest, k-Nearest Neighbors\n",
    "- 성능 지표: AUROC (Area Under Receiver Operating Characteristic curve) 점수"
   ]
  },
  {
   "cell_type": "code",
   "execution_count": 149,
   "id": "f26a8e98-1b0f-4f1b-918b-c2f4144db896",
   "metadata": {},
   "outputs": [],
   "source": [
    "from sklearn.pipeline import Pipeline\n",
    "from sklearn.preprocessing import StandardScaler\n",
    "from sklearn.impute import SimpleImputer\n",
    "from sklearn.discriminant_analysis import LinearDiscriminantAnalysis\n",
    "from sklearn.model_selection import GridSearchCV"
   ]
  },
  {
   "cell_type": "markdown",
   "id": "29bd1acb-e85c-48ec-bf9e-4aa4e5ed2a7f",
   "metadata": {},
   "source": [
    "### (1) 로지스틱 회귀 (+ SGD 학습)\n",
    "- SGDClassifier : 확률적 경사 하강법(SGD)을 이용해 선형 분류기를 훈련"
   ]
  },
  {
   "cell_type": "code",
   "execution_count": null,
   "id": "2a005d5c-6430-4040-ab20-44a4acee7bca",
   "metadata": {},
   "outputs": [],
   "source": []
  },
  {
   "cell_type": "code",
   "execution_count": 150,
   "id": "0edb66e9-2c53-4732-9fa4-9b6fd101fcdb",
   "metadata": {
    "scrolled": true
   },
   "outputs": [
    {
     "name": "stderr",
     "output_type": "stream",
     "text": [
      "[I 2025-06-11 12:11:37,006] A new study created in memory with name: no-name-cc7b43a8-d066-4d94-acca-14b083046d55\n"
     ]
    },
    {
     "data": {
      "application/vnd.jupyter.widget-view+json": {
       "model_id": "38260420b9fe452885223ae5535ffc71",
       "version_major": 2,
       "version_minor": 0
      },
      "text/plain": [
       "  0%|          | 0/30 [00:00<?, ?it/s]"
      ]
     },
     "metadata": {},
     "output_type": "display_data"
    },
    {
     "name": "stderr",
     "output_type": "stream",
     "text": [
      "C:\\Users\\KDT6\\AppData\\Local\\Temp\\ipykernel_43864\\886712062.py:26: FutureWarning: suggest_loguniform has been deprecated in v3.0.0. This feature will be removed in v6.0.0. See https://github.com/optuna/optuna/releases/tag/v3.0.0. Use suggest_float(..., log=True) instead.\n",
      "  alpha = trial.suggest_loguniform('alpha', 1e-5, 1e1)\n"
     ]
    },
    {
     "name": "stdout",
     "output_type": "stream",
     "text": [
      "[I 2025-06-11 12:12:01,627] Trial 0 finished with value: 0.5 and parameters: {'alpha': 3.6556948924092683, 'penalty': 'l1'}. Best is trial 0 with value: 0.5.\n"
     ]
    },
    {
     "name": "stderr",
     "output_type": "stream",
     "text": [
      "C:\\Users\\KDT6\\AppData\\Local\\Temp\\ipykernel_43864\\886712062.py:26: FutureWarning: suggest_loguniform has been deprecated in v3.0.0. This feature will be removed in v6.0.0. See https://github.com/optuna/optuna/releases/tag/v3.0.0. Use suggest_float(..., log=True) instead.\n",
      "  alpha = trial.suggest_loguniform('alpha', 1e-5, 1e1)\n"
     ]
    },
    {
     "name": "stdout",
     "output_type": "stream",
     "text": [
      "[I 2025-06-11 12:12:28,514] Trial 1 finished with value: 0.5 and parameters: {'alpha': 2.377537921416734, 'penalty': 'l1'}. Best is trial 0 with value: 0.5.\n"
     ]
    },
    {
     "name": "stderr",
     "output_type": "stream",
     "text": [
      "C:\\Users\\KDT6\\AppData\\Local\\Temp\\ipykernel_43864\\886712062.py:26: FutureWarning: suggest_loguniform has been deprecated in v3.0.0. This feature will be removed in v6.0.0. See https://github.com/optuna/optuna/releases/tag/v3.0.0. Use suggest_float(..., log=True) instead.\n",
      "  alpha = trial.suggest_loguniform('alpha', 1e-5, 1e1)\n"
     ]
    },
    {
     "name": "stdout",
     "output_type": "stream",
     "text": [
      "[I 2025-06-11 12:12:55,212] Trial 2 finished with value: 0.5 and parameters: {'alpha': 2.201464454710467, 'penalty': 'l1'}. Best is trial 0 with value: 0.5.\n"
     ]
    },
    {
     "name": "stderr",
     "output_type": "stream",
     "text": [
      "C:\\Users\\KDT6\\AppData\\Local\\Temp\\ipykernel_43864\\886712062.py:26: FutureWarning: suggest_loguniform has been deprecated in v3.0.0. This feature will be removed in v6.0.0. See https://github.com/optuna/optuna/releases/tag/v3.0.0. Use suggest_float(..., log=True) instead.\n",
      "  alpha = trial.suggest_loguniform('alpha', 1e-5, 1e1)\n"
     ]
    },
    {
     "name": "stdout",
     "output_type": "stream",
     "text": [
      "[I 2025-06-11 12:13:18,514] Trial 3 finished with value: 0.5 and parameters: {'alpha': 0.9033295840061406, 'penalty': 'l1'}. Best is trial 0 with value: 0.5.\n"
     ]
    },
    {
     "name": "stderr",
     "output_type": "stream",
     "text": [
      "C:\\Users\\KDT6\\AppData\\Local\\Temp\\ipykernel_43864\\886712062.py:26: FutureWarning: suggest_loguniform has been deprecated in v3.0.0. This feature will be removed in v6.0.0. See https://github.com/optuna/optuna/releases/tag/v3.0.0. Use suggest_float(..., log=True) instead.\n",
      "  alpha = trial.suggest_loguniform('alpha', 1e-5, 1e1)\n"
     ]
    },
    {
     "name": "stdout",
     "output_type": "stream",
     "text": [
      "[I 2025-06-11 12:13:41,272] Trial 4 finished with value: 0.5 and parameters: {'alpha': 0.46288362792579607, 'penalty': 'l1'}. Best is trial 0 with value: 0.5.\n"
     ]
    },
    {
     "name": "stderr",
     "output_type": "stream",
     "text": [
      "C:\\Users\\KDT6\\AppData\\Local\\Temp\\ipykernel_43864\\886712062.py:26: FutureWarning: suggest_loguniform has been deprecated in v3.0.0. This feature will be removed in v6.0.0. See https://github.com/optuna/optuna/releases/tag/v3.0.0. Use suggest_float(..., log=True) instead.\n",
      "  alpha = trial.suggest_loguniform('alpha', 1e-5, 1e1)\n"
     ]
    },
    {
     "name": "stdout",
     "output_type": "stream",
     "text": [
      "[I 2025-06-11 12:14:02,506] Trial 5 finished with value: 0.6426738712138451 and parameters: {'alpha': 0.09097168876530401, 'penalty': 'l1'}. Best is trial 5 with value: 0.6426738712138451.\n"
     ]
    },
    {
     "name": "stderr",
     "output_type": "stream",
     "text": [
      "C:\\Users\\KDT6\\AppData\\Local\\Temp\\ipykernel_43864\\886712062.py:26: FutureWarning: suggest_loguniform has been deprecated in v3.0.0. This feature will be removed in v6.0.0. See https://github.com/optuna/optuna/releases/tag/v3.0.0. Use suggest_float(..., log=True) instead.\n",
      "  alpha = trial.suggest_loguniform('alpha', 1e-5, 1e1)\n"
     ]
    },
    {
     "name": "stdout",
     "output_type": "stream",
     "text": [
      "[I 2025-06-11 12:14:21,026] Trial 6 finished with value: 0.7052249886210058 and parameters: {'alpha': 8.610719379365733, 'penalty': 'l2'}. Best is trial 6 with value: 0.7052249886210058.\n"
     ]
    },
    {
     "name": "stderr",
     "output_type": "stream",
     "text": [
      "C:\\Users\\KDT6\\AppData\\Local\\Temp\\ipykernel_43864\\886712062.py:26: FutureWarning: suggest_loguniform has been deprecated in v3.0.0. This feature will be removed in v6.0.0. See https://github.com/optuna/optuna/releases/tag/v3.0.0. Use suggest_float(..., log=True) instead.\n",
      "  alpha = trial.suggest_loguniform('alpha', 1e-5, 1e1)\n"
     ]
    },
    {
     "name": "stdout",
     "output_type": "stream",
     "text": [
      "[I 2025-06-11 12:14:43,312] Trial 7 finished with value: 0.7062568362530434 and parameters: {'alpha': 9.921366110257541e-05, 'penalty': 'l2'}. Best is trial 7 with value: 0.7062568362530434.\n"
     ]
    },
    {
     "name": "stderr",
     "output_type": "stream",
     "text": [
      "C:\\Users\\KDT6\\AppData\\Local\\Temp\\ipykernel_43864\\886712062.py:26: FutureWarning: suggest_loguniform has been deprecated in v3.0.0. This feature will be removed in v6.0.0. See https://github.com/optuna/optuna/releases/tag/v3.0.0. Use suggest_float(..., log=True) instead.\n",
      "  alpha = trial.suggest_loguniform('alpha', 1e-5, 1e1)\n"
     ]
    },
    {
     "name": "stdout",
     "output_type": "stream",
     "text": [
      "[I 2025-06-11 12:15:40,867] Trial 8 finished with value: 0.693083340834737 and parameters: {'alpha': 0.022456239531861353, 'penalty': 'l1'}. Best is trial 7 with value: 0.7062568362530434.\n"
     ]
    },
    {
     "name": "stderr",
     "output_type": "stream",
     "text": [
      "C:\\Users\\KDT6\\AppData\\Local\\Temp\\ipykernel_43864\\886712062.py:26: FutureWarning: suggest_loguniform has been deprecated in v3.0.0. This feature will be removed in v6.0.0. See https://github.com/optuna/optuna/releases/tag/v3.0.0. Use suggest_float(..., log=True) instead.\n",
      "  alpha = trial.suggest_loguniform('alpha', 1e-5, 1e1)\n"
     ]
    },
    {
     "name": "stdout",
     "output_type": "stream",
     "text": [
      "[I 2025-06-11 12:16:05,717] Trial 9 finished with value: 0.5 and parameters: {'alpha': 9.092501192572332, 'penalty': 'l1'}. Best is trial 7 with value: 0.7062568362530434.\n"
     ]
    },
    {
     "name": "stderr",
     "output_type": "stream",
     "text": [
      "C:\\Users\\KDT6\\AppData\\Local\\Temp\\ipykernel_43864\\886712062.py:26: FutureWarning: suggest_loguniform has been deprecated in v3.0.0. This feature will be removed in v6.0.0. See https://github.com/optuna/optuna/releases/tag/v3.0.0. Use suggest_float(..., log=True) instead.\n",
      "  alpha = trial.suggest_loguniform('alpha', 1e-5, 1e1)\n"
     ]
    },
    {
     "name": "stdout",
     "output_type": "stream",
     "text": [
      "[I 2025-06-11 12:16:34,289] Trial 10 finished with value: 0.7019799352024678 and parameters: {'alpha': 4.0288471238654616e-05, 'penalty': 'l2'}. Best is trial 7 with value: 0.7062568362530434.\n"
     ]
    },
    {
     "name": "stderr",
     "output_type": "stream",
     "text": [
      "C:\\Users\\KDT6\\AppData\\Local\\Temp\\ipykernel_43864\\886712062.py:26: FutureWarning: suggest_loguniform has been deprecated in v3.0.0. This feature will be removed in v6.0.0. See https://github.com/optuna/optuna/releases/tag/v3.0.0. Use suggest_float(..., log=True) instead.\n",
      "  alpha = trial.suggest_loguniform('alpha', 1e-5, 1e1)\n"
     ]
    },
    {
     "name": "stdout",
     "output_type": "stream",
     "text": [
      "[I 2025-06-11 12:16:53,747] Trial 11 finished with value: 0.7099407927209744 and parameters: {'alpha': 0.00033282794102285887, 'penalty': 'l2'}. Best is trial 11 with value: 0.7099407927209744.\n"
     ]
    },
    {
     "name": "stderr",
     "output_type": "stream",
     "text": [
      "C:\\Users\\KDT6\\AppData\\Local\\Temp\\ipykernel_43864\\886712062.py:26: FutureWarning: suggest_loguniform has been deprecated in v3.0.0. This feature will be removed in v6.0.0. See https://github.com/optuna/optuna/releases/tag/v3.0.0. Use suggest_float(..., log=True) instead.\n",
      "  alpha = trial.suggest_loguniform('alpha', 1e-5, 1e1)\n"
     ]
    },
    {
     "name": "stdout",
     "output_type": "stream",
     "text": [
      "[I 2025-06-11 12:17:14,353] Trial 12 finished with value: 0.707467130520558 and parameters: {'alpha': 0.0001945810977537339, 'penalty': 'l2'}. Best is trial 11 with value: 0.7099407927209744.\n"
     ]
    },
    {
     "name": "stderr",
     "output_type": "stream",
     "text": [
      "C:\\Users\\KDT6\\AppData\\Local\\Temp\\ipykernel_43864\\886712062.py:26: FutureWarning: suggest_loguniform has been deprecated in v3.0.0. This feature will be removed in v6.0.0. See https://github.com/optuna/optuna/releases/tag/v3.0.0. Use suggest_float(..., log=True) instead.\n",
      "  alpha = trial.suggest_loguniform('alpha', 1e-5, 1e1)\n"
     ]
    },
    {
     "name": "stdout",
     "output_type": "stream",
     "text": [
      "[I 2025-06-11 12:17:33,141] Trial 13 finished with value: 0.7105417108274897 and parameters: {'alpha': 0.0006142205748503551, 'penalty': 'l2'}. Best is trial 13 with value: 0.7105417108274897.\n"
     ]
    },
    {
     "name": "stderr",
     "output_type": "stream",
     "text": [
      "C:\\Users\\KDT6\\AppData\\Local\\Temp\\ipykernel_43864\\886712062.py:26: FutureWarning: suggest_loguniform has been deprecated in v3.0.0. This feature will be removed in v6.0.0. See https://github.com/optuna/optuna/releases/tag/v3.0.0. Use suggest_float(..., log=True) instead.\n",
      "  alpha = trial.suggest_loguniform('alpha', 1e-5, 1e1)\n"
     ]
    },
    {
     "name": "stdout",
     "output_type": "stream",
     "text": [
      "[I 2025-06-11 12:17:50,874] Trial 14 finished with value: 0.7112124019384087 and parameters: {'alpha': 0.0010865385153742322, 'penalty': 'l2'}. Best is trial 14 with value: 0.7112124019384087.\n"
     ]
    },
    {
     "name": "stderr",
     "output_type": "stream",
     "text": [
      "C:\\Users\\KDT6\\AppData\\Local\\Temp\\ipykernel_43864\\886712062.py:26: FutureWarning: suggest_loguniform has been deprecated in v3.0.0. This feature will be removed in v6.0.0. See https://github.com/optuna/optuna/releases/tag/v3.0.0. Use suggest_float(..., log=True) instead.\n",
      "  alpha = trial.suggest_loguniform('alpha', 1e-5, 1e1)\n"
     ]
    },
    {
     "name": "stdout",
     "output_type": "stream",
     "text": [
      "[I 2025-06-11 12:18:07,629] Trial 15 finished with value: 0.7112226585801416 and parameters: {'alpha': 0.0017330377881228122, 'penalty': 'l2'}. Best is trial 15 with value: 0.7112226585801416.\n"
     ]
    },
    {
     "name": "stderr",
     "output_type": "stream",
     "text": [
      "C:\\Users\\KDT6\\AppData\\Local\\Temp\\ipykernel_43864\\886712062.py:26: FutureWarning: suggest_loguniform has been deprecated in v3.0.0. This feature will be removed in v6.0.0. See https://github.com/optuna/optuna/releases/tag/v3.0.0. Use suggest_float(..., log=True) instead.\n",
      "  alpha = trial.suggest_loguniform('alpha', 1e-5, 1e1)\n"
     ]
    },
    {
     "name": "stdout",
     "output_type": "stream",
     "text": [
      "[I 2025-06-11 12:18:24,421] Trial 16 finished with value: 0.711348534205323 and parameters: {'alpha': 0.0027155570075979834, 'penalty': 'l2'}. Best is trial 16 with value: 0.711348534205323.\n"
     ]
    },
    {
     "name": "stderr",
     "output_type": "stream",
     "text": [
      "C:\\Users\\KDT6\\AppData\\Local\\Temp\\ipykernel_43864\\886712062.py:26: FutureWarning: suggest_loguniform has been deprecated in v3.0.0. This feature will be removed in v6.0.0. See https://github.com/optuna/optuna/releases/tag/v3.0.0. Use suggest_float(..., log=True) instead.\n",
      "  alpha = trial.suggest_loguniform('alpha', 1e-5, 1e1)\n"
     ]
    },
    {
     "name": "stdout",
     "output_type": "stream",
     "text": [
      "[I 2025-06-11 12:18:41,291] Trial 17 finished with value: 0.7114041383916837 and parameters: {'alpha': 0.004640335461012205, 'penalty': 'l2'}. Best is trial 17 with value: 0.7114041383916837.\n"
     ]
    },
    {
     "name": "stderr",
     "output_type": "stream",
     "text": [
      "C:\\Users\\KDT6\\AppData\\Local\\Temp\\ipykernel_43864\\886712062.py:26: FutureWarning: suggest_loguniform has been deprecated in v3.0.0. This feature will be removed in v6.0.0. See https://github.com/optuna/optuna/releases/tag/v3.0.0. Use suggest_float(..., log=True) instead.\n",
      "  alpha = trial.suggest_loguniform('alpha', 1e-5, 1e1)\n"
     ]
    },
    {
     "name": "stdout",
     "output_type": "stream",
     "text": [
      "[I 2025-06-11 12:18:58,143] Trial 18 finished with value: 0.7114125616879706 and parameters: {'alpha': 0.0056333876929571735, 'penalty': 'l2'}. Best is trial 18 with value: 0.7114125616879706.\n"
     ]
    },
    {
     "name": "stderr",
     "output_type": "stream",
     "text": [
      "C:\\Users\\KDT6\\AppData\\Local\\Temp\\ipykernel_43864\\886712062.py:26: FutureWarning: suggest_loguniform has been deprecated in v3.0.0. This feature will be removed in v6.0.0. See https://github.com/optuna/optuna/releases/tag/v3.0.0. Use suggest_float(..., log=True) instead.\n",
      "  alpha = trial.suggest_loguniform('alpha', 1e-5, 1e1)\n"
     ]
    },
    {
     "name": "stdout",
     "output_type": "stream",
     "text": [
      "[I 2025-06-11 12:19:14,957] Trial 19 finished with value: 0.7113400806661203 and parameters: {'alpha': 0.01998555687718694, 'penalty': 'l2'}. Best is trial 18 with value: 0.7114125616879706.\n"
     ]
    },
    {
     "name": "stderr",
     "output_type": "stream",
     "text": [
      "C:\\Users\\KDT6\\AppData\\Local\\Temp\\ipykernel_43864\\886712062.py:26: FutureWarning: suggest_loguniform has been deprecated in v3.0.0. This feature will be removed in v6.0.0. See https://github.com/optuna/optuna/releases/tag/v3.0.0. Use suggest_float(..., log=True) instead.\n",
      "  alpha = trial.suggest_loguniform('alpha', 1e-5, 1e1)\n"
     ]
    },
    {
     "name": "stdout",
     "output_type": "stream",
     "text": [
      "[I 2025-06-11 12:19:59,285] Trial 20 finished with value: 0.6900606891336512 and parameters: {'alpha': 1.0331404670149623e-05, 'penalty': 'l2'}. Best is trial 18 with value: 0.7114125616879706.\n"
     ]
    },
    {
     "name": "stderr",
     "output_type": "stream",
     "text": [
      "C:\\Users\\KDT6\\AppData\\Local\\Temp\\ipykernel_43864\\886712062.py:26: FutureWarning: suggest_loguniform has been deprecated in v3.0.0. This feature will be removed in v6.0.0. See https://github.com/optuna/optuna/releases/tag/v3.0.0. Use suggest_float(..., log=True) instead.\n",
      "  alpha = trial.suggest_loguniform('alpha', 1e-5, 1e1)\n"
     ]
    },
    {
     "name": "stdout",
     "output_type": "stream",
     "text": [
      "[I 2025-06-11 12:20:15,833] Trial 21 finished with value: 0.7114035201308138 and parameters: {'alpha': 0.0045891999575676835, 'penalty': 'l2'}. Best is trial 18 with value: 0.7114125616879706.\n"
     ]
    },
    {
     "name": "stderr",
     "output_type": "stream",
     "text": [
      "C:\\Users\\KDT6\\AppData\\Local\\Temp\\ipykernel_43864\\886712062.py:26: FutureWarning: suggest_loguniform has been deprecated in v3.0.0. This feature will be removed in v6.0.0. See https://github.com/optuna/optuna/releases/tag/v3.0.0. Use suggest_float(..., log=True) instead.\n",
      "  alpha = trial.suggest_loguniform('alpha', 1e-5, 1e1)\n"
     ]
    },
    {
     "name": "stdout",
     "output_type": "stream",
     "text": [
      "[I 2025-06-11 12:20:32,554] Trial 22 finished with value: 0.7114165406181295 and parameters: {'alpha': 0.006786309313139905, 'penalty': 'l2'}. Best is trial 22 with value: 0.7114165406181295.\n"
     ]
    },
    {
     "name": "stderr",
     "output_type": "stream",
     "text": [
      "C:\\Users\\KDT6\\AppData\\Local\\Temp\\ipykernel_43864\\886712062.py:26: FutureWarning: suggest_loguniform has been deprecated in v3.0.0. This feature will be removed in v6.0.0. See https://github.com/optuna/optuna/releases/tag/v3.0.0. Use suggest_float(..., log=True) instead.\n",
      "  alpha = trial.suggest_loguniform('alpha', 1e-5, 1e1)\n"
     ]
    },
    {
     "name": "stdout",
     "output_type": "stream",
     "text": [
      "[I 2025-06-11 12:20:48,502] Trial 23 finished with value: 0.7104238179270768 and parameters: {'alpha': 0.09146802471136808, 'penalty': 'l2'}. Best is trial 22 with value: 0.7114165406181295.\n"
     ]
    },
    {
     "name": "stderr",
     "output_type": "stream",
     "text": [
      "C:\\Users\\KDT6\\AppData\\Local\\Temp\\ipykernel_43864\\886712062.py:26: FutureWarning: suggest_loguniform has been deprecated in v3.0.0. This feature will be removed in v6.0.0. See https://github.com/optuna/optuna/releases/tag/v3.0.0. Use suggest_float(..., log=True) instead.\n",
      "  alpha = trial.suggest_loguniform('alpha', 1e-5, 1e1)\n"
     ]
    },
    {
     "name": "stdout",
     "output_type": "stream",
     "text": [
      "[I 2025-06-11 12:21:05,370] Trial 24 finished with value: 0.7114149334868886 and parameters: {'alpha': 0.009086631434318765, 'penalty': 'l2'}. Best is trial 22 with value: 0.7114165406181295.\n"
     ]
    },
    {
     "name": "stderr",
     "output_type": "stream",
     "text": [
      "C:\\Users\\KDT6\\AppData\\Local\\Temp\\ipykernel_43864\\886712062.py:26: FutureWarning: suggest_loguniform has been deprecated in v3.0.0. This feature will be removed in v6.0.0. See https://github.com/optuna/optuna/releases/tag/v3.0.0. Use suggest_float(..., log=True) instead.\n",
      "  alpha = trial.suggest_loguniform('alpha', 1e-5, 1e1)\n"
     ]
    },
    {
     "name": "stdout",
     "output_type": "stream",
     "text": [
      "[I 2025-06-11 12:21:22,057] Trial 25 finished with value: 0.7109395570782242 and parameters: {'alpha': 0.05233781425592829, 'penalty': 'l2'}. Best is trial 22 with value: 0.7114165406181295.\n"
     ]
    },
    {
     "name": "stderr",
     "output_type": "stream",
     "text": [
      "C:\\Users\\KDT6\\AppData\\Local\\Temp\\ipykernel_43864\\886712062.py:26: FutureWarning: suggest_loguniform has been deprecated in v3.0.0. This feature will be removed in v6.0.0. See https://github.com/optuna/optuna/releases/tag/v3.0.0. Use suggest_float(..., log=True) instead.\n",
      "  alpha = trial.suggest_loguniform('alpha', 1e-5, 1e1)\n"
     ]
    },
    {
     "name": "stdout",
     "output_type": "stream",
     "text": [
      "[I 2025-06-11 12:21:39,009] Trial 26 finished with value: 0.7114133415096692 and parameters: {'alpha': 0.009585181941540108, 'penalty': 'l2'}. Best is trial 22 with value: 0.7114165406181295.\n"
     ]
    },
    {
     "name": "stderr",
     "output_type": "stream",
     "text": [
      "C:\\Users\\KDT6\\AppData\\Local\\Temp\\ipykernel_43864\\886712062.py:26: FutureWarning: suggest_loguniform has been deprecated in v3.0.0. This feature will be removed in v6.0.0. See https://github.com/optuna/optuna/releases/tag/v3.0.0. Use suggest_float(..., log=True) instead.\n",
      "  alpha = trial.suggest_loguniform('alpha', 1e-5, 1e1)\n"
     ]
    },
    {
     "name": "stdout",
     "output_type": "stream",
     "text": [
      "[I 2025-06-11 12:21:55,844] Trial 27 finished with value: 0.7113525999910015 and parameters: {'alpha': 0.018661580372019412, 'penalty': 'l2'}. Best is trial 22 with value: 0.7114165406181295.\n"
     ]
    },
    {
     "name": "stderr",
     "output_type": "stream",
     "text": [
      "C:\\Users\\KDT6\\AppData\\Local\\Temp\\ipykernel_43864\\886712062.py:26: FutureWarning: suggest_loguniform has been deprecated in v3.0.0. This feature will be removed in v6.0.0. See https://github.com/optuna/optuna/releases/tag/v3.0.0. Use suggest_float(..., log=True) instead.\n",
      "  alpha = trial.suggest_loguniform('alpha', 1e-5, 1e1)\n"
     ]
    },
    {
     "name": "stdout",
     "output_type": "stream",
     "text": [
      "[I 2025-06-11 12:22:11,678] Trial 28 finished with value: 0.7098951630398693 and parameters: {'alpha': 0.13776517211947173, 'penalty': 'l2'}. Best is trial 22 with value: 0.7114165406181295.\n"
     ]
    },
    {
     "name": "stderr",
     "output_type": "stream",
     "text": [
      "C:\\Users\\KDT6\\AppData\\Local\\Temp\\ipykernel_43864\\886712062.py:26: FutureWarning: suggest_loguniform has been deprecated in v3.0.0. This feature will be removed in v6.0.0. See https://github.com/optuna/optuna/releases/tag/v3.0.0. Use suggest_float(..., log=True) instead.\n",
      "  alpha = trial.suggest_loguniform('alpha', 1e-5, 1e1)\n"
     ]
    },
    {
     "name": "stdout",
     "output_type": "stream",
     "text": [
      "[I 2025-06-11 12:22:27,627] Trial 29 finished with value: 0.7087496983207542 and parameters: {'alpha': 0.27662341054342354, 'penalty': 'l2'}. Best is trial 22 with value: 0.7114165406181295.\n",
      "Best Score: 0.7114165406181295\n",
      "Best Params: {'alpha': 0.006786309313139905, 'penalty': 'l2'}\n"
     ]
    }
   ],
   "source": [
    "import optuna\n",
    "from sklearn.linear_model import SGDClassifier\n",
    "from sklearn.pipeline import Pipeline\n",
    "from sklearn.impute import SimpleImputer\n",
    "from sklearn.preprocessing import StandardScaler\n",
    "from sklearn.model_selection import cross_val_score\n",
    "from sklearn.base import clone\n",
    "import numpy as np\n",
    "\n",
    "# 고정 파이프라인 구조 (모델 제외)\n",
    "base_pipeline = Pipeline([\n",
    "    ('imputer', SimpleImputer(copy=False)),\n",
    "    ('scaler', StandardScaler(copy=False)),\n",
    "    ('model', SGDClassifier(\n",
    "        loss='log_loss',\n",
    "        max_iter=1000,\n",
    "        tol=1e-3,\n",
    "        random_state=1,\n",
    "        warm_start=True\n",
    "    ))\n",
    "])\n",
    "\n",
    "# Optuna 목적 함수 정의\n",
    "def objective(trial):\n",
    "    # 하이퍼파라미터 샘플링\n",
    "    alpha = trial.suggest_float('alpha', 1e-5, 1e1, log=True)\n",
    "    penalty = trial.suggest_categorical('penalty', ['l1', 'l2'])\n",
    "\n",
    "    # 파이프라인 복제 및 파라미터 설정\n",
    "    pipeline = clone(base_pipeline)\n",
    "    pipeline.set_params(model__alpha=alpha, model__penalty=penalty)\n",
    "\n",
    "    # 교차 검증으로 평가\n",
    "    score = cross_val_score(\n",
    "        pipeline, X_train, y_train,\n",
    "        scoring='roc_auc',\n",
    "        cv=5,\n",
    "        n_jobs=-1\n",
    "    ).mean()\n",
    "\n",
    "    return score\n",
    "\n",
    "# 최적화 실행\n",
    "study = optuna.create_study(direction='maximize')\n",
    "study.optimize(objective, n_trials=30, show_progress_bar=True)\n",
    "\n",
    "# 최적 결과 출력\n",
    "print(\"Best Score:\", study.best_value)\n",
    "print(\"Best Params:\", study.best_params)"
   ]
  },
  {
   "cell_type": "code",
   "execution_count": null,
   "id": "c79e3b38-d7e2-450b-b806-b26619541d8b",
   "metadata": {},
   "outputs": [],
   "source": []
  },
  {
   "cell_type": "code",
   "execution_count": 152,
   "id": "594beca4-7646-434d-9738-3f8d5d4b3996",
   "metadata": {},
   "outputs": [],
   "source": [
    "# from sklearn.linear_model import SGDClassifier\n",
    "# from sklearn.pipeline import Pipeline\n",
    "# from sklearn.impute import SimpleImputer\n",
    "# from sklearn.preprocessing import StandardScaler\n",
    "# from sklearn.model_selection import ParameterGrid, cross_val_score\n",
    "# from tqdm.auto import tqdm\n",
    "# import numpy as np\n",
    "# import pandas as pd\n",
    "\n",
    "# # 1. 파이프라인 정의\n",
    "# pipeline_sgdlogreg = Pipeline([\n",
    "#     ('imputer', SimpleImputer(copy=False)),  \n",
    "#     ('scaler', StandardScaler(copy=False)),  \n",
    "#     ('model', SGDClassifier(\n",
    "#         loss='log_loss',\n",
    "#         max_iter=1000,\n",
    "#         tol=1e-3,\n",
    "#         random_state=1,\n",
    "#         warm_start=True\n",
    "#     ))\n",
    "# ])\n",
    "\n",
    "# # 2. 파라미터 그리드 정의\n",
    "# param_grid = {\n",
    "#     'model__alpha': [1e-5, 1e-2, 10],\n",
    "#     'model__penalty': ['l1', 'l2']\n",
    "# }\n",
    "# params_list = list(ParameterGrid(param_grid))\n",
    "\n",
    "# # 3. tqdm으로 감싸서 진행률 표시\n",
    "# results1 = []\n",
    "\n",
    "# for params in tqdm(params_list, desc=\"GridSearch\", unit=\"combination\"):\n",
    "#     pipeline_sgdlogreg.set_params(**params)\n",
    "#     scores = cross_val_score(\n",
    "#         pipeline_sgdlogreg, \n",
    "#         X_train, y_train, \n",
    "#         cv=5, scoring='roc_auc', n_jobs=-1\n",
    "#     )\n",
    "#     results1.append({\n",
    "#         'params': params,\n",
    "#         'mean_score': np.mean(scores)\n",
    "#     })\n",
    "\n",
    "# # 4. 결과를 정리\n",
    "# results_df1 = pd.DataFrame(results1)\n",
    "# best_result1 = results_df1.loc[results_df1['mean_score'].idxmax()]\n",
    "\n",
    "# # 출력\n",
    "# print(\"Best hyperparameters:\")\n",
    "# print(best_result1['params'])\n",
    "# print(\"Best AUROC score:\")\n",
    "# print(best_result1['mean_score'])"
   ]
  },
  {
   "cell_type": "code",
   "execution_count": null,
   "id": "f1286f9b-c10e-4c5a-9ae1-b8e3c00c2b0e",
   "metadata": {},
   "outputs": [],
   "source": []
  },
  {
   "cell_type": "markdown",
   "id": "4fe92844-e11a-4ec9-810f-97f812f513f6",
   "metadata": {},
   "source": [
    "### (2) Random forest classifier"
   ]
  },
  {
   "cell_type": "code",
   "execution_count": null,
   "id": "3d3a3190-dca5-44ad-a8d5-a1676441c142",
   "metadata": {},
   "outputs": [],
   "source": [
    "# from sklearn.ensemble import RandomForestClassifier\n",
    "# from sklearn.pipeline import Pipeline\n",
    "# from sklearn.impute import SimpleImputer\n",
    "# from sklearn.model_selection import ParameterGrid, cross_val_score\n",
    "# from tqdm.auto import tqdm\n",
    "# import numpy as np\n",
    "# import pandas as pd\n",
    "\n",
    "# # 1. 파이프라인 정의\n",
    "# pipeline_rfc = Pipeline([\n",
    "#     ('imputer', SimpleImputer(copy=False)),\n",
    "#     ('model', RandomForestClassifier(n_jobs=-1, random_state=1))\n",
    "# ])\n",
    "\n",
    "# # 2. 파라미터 그리드 정의\n",
    "# param_grid_rfc = {\n",
    "#     'model__n_estimators': [50, 100, 200],\n",
    "#     'model__max_depth': [None, 10, 20],\n",
    "#     'model__max_features': ['sqrt', 'log2']\n",
    "# }\n",
    "# params_list = list(ParameterGrid(param_grid_rfc))\n",
    "\n",
    "# # 3. tqdm으로 감싸서 진행률 표시\n",
    "# results2 = []\n",
    "\n",
    "# for params in tqdm(params_list, desc=\"RandomForest GridSearch\", unit=\"combination\"):\n",
    "#     pipeline_rfc.set_params(**params)\n",
    "#     scores = cross_val_score(\n",
    "#         pipeline_rfc, \n",
    "#         X_train, y_train, \n",
    "#         cv=5, scoring='roc_auc', n_jobs=-1\n",
    "#     )\n",
    "#     results2.append({\n",
    "#         'params': params,\n",
    "#         'mean_score': np.mean(scores)\n",
    "#     })\n",
    "\n",
    "# # 4. 결과를 정리\n",
    "# results_df2 = pd.DataFrame(results2)\n",
    "# best_result2 = results_df2.loc[results_df2['mean_score'].idxmax()]\n",
    "\n",
    "# # 출력\n",
    "# print(\"Best hyperparameters:\")\n",
    "# print(best_result2['params'])\n",
    "# print(\"Best AUROC score:\")\n",
    "# print(best_result2['mean_score'])"
   ]
  },
  {
   "cell_type": "code",
   "execution_count": 157,
   "id": "16adead8-521f-4f2e-bca5-f8d2795b449f",
   "metadata": {},
   "outputs": [
    {
     "name": "stderr",
     "output_type": "stream",
     "text": [
      "[I 2025-06-11 12:24:11,863] A new study created in memory with name: no-name-7ab99088-9f3b-4170-827a-558f63dc8076\n"
     ]
    },
    {
     "data": {
      "application/vnd.jupyter.widget-view+json": {
       "model_id": "c6a4bbbaf7644968b389f435d0a0cf34",
       "version_major": 2,
       "version_minor": 0
      },
      "text/plain": [
       "  0%|          | 0/30 [00:00<?, ?it/s]"
      ]
     },
     "metadata": {},
     "output_type": "display_data"
    },
    {
     "name": "stdout",
     "output_type": "stream",
     "text": [
      "[I 2025-06-11 12:25:54,486] Trial 0 finished with value: 0.706794358594122 and parameters: {'n_estimators': 50, 'max_depth': 10, 'max_features': 'sqrt'}. Best is trial 0 with value: 0.706794358594122.\n",
      "[I 2025-06-11 12:30:36,409] Trial 1 finished with value: 0.694592576255183 and parameters: {'n_estimators': 50, 'max_depth': None, 'max_features': 'log2'}. Best is trial 0 with value: 0.706794358594122.\n",
      "[I 2025-06-11 12:35:03,371] Trial 2 finished with value: 0.7063987290379338 and parameters: {'n_estimators': 200, 'max_depth': 10, 'max_features': 'log2'}. Best is trial 0 with value: 0.706794358594122.\n",
      "[I 2025-06-11 12:36:46,122] Trial 3 finished with value: 0.706794358594122 and parameters: {'n_estimators': 50, 'max_depth': 10, 'max_features': 'sqrt'}. Best is trial 0 with value: 0.706794358594122.\n",
      "[I 2025-06-11 12:38:28,745] Trial 4 finished with value: 0.706794358594122 and parameters: {'n_estimators': 50, 'max_depth': 10, 'max_features': 'sqrt'}. Best is trial 0 with value: 0.706794358594122.\n",
      "[I 2025-06-11 12:44:59,236] Trial 5 finished with value: 0.7071845836827454 and parameters: {'n_estimators': 200, 'max_depth': 10, 'max_features': 'sqrt'}. Best is trial 5 with value: 0.7071845836827454.\n",
      "[I 2025-06-11 12:49:24,038] Trial 6 finished with value: 0.7063987290379338 and parameters: {'n_estimators': 200, 'max_depth': 10, 'max_features': 'log2'}. Best is trial 5 with value: 0.7071845836827454.\n",
      "[I 2025-06-11 12:53:53,300] Trial 7 finished with value: 0.7063987290379338 and parameters: {'n_estimators': 200, 'max_depth': 10, 'max_features': 'log2'}. Best is trial 5 with value: 0.7071845836827454.\n",
      "[I 2025-06-11 12:56:10,354] Trial 8 finished with value: 0.7061174816935534 and parameters: {'n_estimators': 100, 'max_depth': 10, 'max_features': 'log2'}. Best is trial 5 with value: 0.7071845836827454.\n",
      "[I 2025-06-11 12:59:34,957] Trial 9 finished with value: 0.7104150491481885 and parameters: {'n_estimators': 50, 'max_depth': 20, 'max_features': 'sqrt'}. Best is trial 9 with value: 0.7104150491481885.\n",
      "[I 2025-06-11 13:06:16,394] Trial 10 finished with value: 0.712088853554808 and parameters: {'n_estimators': 100, 'max_depth': 20, 'max_features': 'sqrt'}. Best is trial 10 with value: 0.712088853554808.\n",
      "[I 2025-06-11 13:12:58,125] Trial 11 finished with value: 0.712088853554808 and parameters: {'n_estimators': 100, 'max_depth': 20, 'max_features': 'sqrt'}. Best is trial 10 with value: 0.712088853554808.\n",
      "[I 2025-06-11 13:19:36,898] Trial 12 finished with value: 0.712088853554808 and parameters: {'n_estimators': 100, 'max_depth': 20, 'max_features': 'sqrt'}. Best is trial 10 with value: 0.712088853554808.\n",
      "[I 2025-06-11 13:26:14,356] Trial 13 finished with value: 0.712088853554808 and parameters: {'n_estimators': 100, 'max_depth': 20, 'max_features': 'sqrt'}. Best is trial 10 with value: 0.712088853554808.\n",
      "[I 2025-06-11 13:32:56,725] Trial 14 finished with value: 0.712088853554808 and parameters: {'n_estimators': 100, 'max_depth': 20, 'max_features': 'sqrt'}. Best is trial 10 with value: 0.712088853554808.\n",
      "[I 2025-06-11 13:39:36,816] Trial 15 finished with value: 0.712088853554808 and parameters: {'n_estimators': 100, 'max_depth': 20, 'max_features': 'sqrt'}. Best is trial 10 with value: 0.712088853554808.\n",
      "[I 2025-06-11 13:51:21,800] Trial 16 finished with value: 0.7032678515996468 and parameters: {'n_estimators': 100, 'max_depth': None, 'max_features': 'sqrt'}. Best is trial 10 with value: 0.712088853554808.\n",
      "[I 2025-06-11 13:58:03,634] Trial 17 finished with value: 0.712088853554808 and parameters: {'n_estimators': 100, 'max_depth': 20, 'max_features': 'sqrt'}. Best is trial 10 with value: 0.712088853554808.\n",
      "[I 2025-06-11 14:04:50,924] Trial 18 finished with value: 0.712088853554808 and parameters: {'n_estimators': 100, 'max_depth': 20, 'max_features': 'sqrt'}. Best is trial 10 with value: 0.712088853554808.\n",
      "[I 2025-06-11 14:11:37,322] Trial 19 finished with value: 0.712088853554808 and parameters: {'n_estimators': 100, 'max_depth': 20, 'max_features': 'sqrt'}. Best is trial 10 with value: 0.712088853554808.\n",
      "[I 2025-06-11 14:23:29,726] Trial 20 finished with value: 0.7032678515996468 and parameters: {'n_estimators': 100, 'max_depth': None, 'max_features': 'sqrt'}. Best is trial 10 with value: 0.712088853554808.\n",
      "[I 2025-06-11 14:30:14,702] Trial 21 finished with value: 0.712088853554808 and parameters: {'n_estimators': 100, 'max_depth': 20, 'max_features': 'sqrt'}. Best is trial 10 with value: 0.712088853554808.\n",
      "[I 2025-06-11 14:37:04,920] Trial 22 finished with value: 0.712088853554808 and parameters: {'n_estimators': 100, 'max_depth': 20, 'max_features': 'sqrt'}. Best is trial 10 with value: 0.712088853554808.\n",
      "[I 2025-06-11 14:43:54,236] Trial 23 finished with value: 0.712088853554808 and parameters: {'n_estimators': 100, 'max_depth': 20, 'max_features': 'sqrt'}. Best is trial 10 with value: 0.712088853554808.\n",
      "[I 2025-06-11 14:50:43,463] Trial 24 finished with value: 0.712088853554808 and parameters: {'n_estimators': 100, 'max_depth': 20, 'max_features': 'sqrt'}. Best is trial 10 with value: 0.712088853554808.\n",
      "[I 2025-06-11 14:57:27,469] Trial 25 finished with value: 0.712088853554808 and parameters: {'n_estimators': 100, 'max_depth': 20, 'max_features': 'sqrt'}. Best is trial 10 with value: 0.712088853554808.\n",
      "[I 2025-06-11 15:01:59,545] Trial 26 finished with value: 0.7113257933797886 and parameters: {'n_estimators': 100, 'max_depth': 20, 'max_features': 'log2'}. Best is trial 10 with value: 0.712088853554808.\n",
      "[I 2025-06-11 15:13:48,825] Trial 27 finished with value: 0.7032678515996468 and parameters: {'n_estimators': 100, 'max_depth': None, 'max_features': 'sqrt'}. Best is trial 10 with value: 0.712088853554808.\n",
      "[I 2025-06-11 15:27:11,766] Trial 28 finished with value: 0.7129556428936373 and parameters: {'n_estimators': 200, 'max_depth': 20, 'max_features': 'sqrt'}. Best is trial 28 with value: 0.7129556428936373.\n",
      "[I 2025-06-11 15:40:25,201] Trial 29 finished with value: 0.7129556428936373 and parameters: {'n_estimators': 200, 'max_depth': 20, 'max_features': 'sqrt'}. Best is trial 28 with value: 0.7129556428936373.\n",
      "Best AUROC Score: 0.7129556428936373\n",
      "Best Hyperparameters: {'n_estimators': 200, 'max_depth': 20, 'max_features': 'sqrt'}\n"
     ]
    }
   ],
   "source": [
    "import optuna\n",
    "from sklearn.ensemble import RandomForestClassifier\n",
    "from sklearn.pipeline import Pipeline\n",
    "from sklearn.impute import SimpleImputer\n",
    "from sklearn.model_selection import cross_val_score\n",
    "from sklearn.base import clone\n",
    "import numpy as np\n",
    "\n",
    "# 고정 파이프라인 구조 (모델 제외)\n",
    "base_pipeline_rfc = Pipeline([\n",
    "    ('imputer', SimpleImputer(copy=False)),\n",
    "    ('model', RandomForestClassifier(n_jobs=-1, random_state=1))\n",
    "])\n",
    "\n",
    "# Optuna 목적 함수 정의\n",
    "def objective(trial):\n",
    "    # 하이퍼파라미터 샘플링\n",
    "    n_estimators = trial.suggest_categorical('n_estimators', [50, 100, 200])\n",
    "    max_depth = trial.suggest_categorical('max_depth', [None, 10, 20])\n",
    "    max_features = trial.suggest_categorical('max_features', ['sqrt', 'log2'])\n",
    "\n",
    "    # 파이프라인 복제 및 파라미터 설정\n",
    "    pipeline = clone(base_pipeline_rfc)\n",
    "    pipeline.set_params(\n",
    "        model__n_estimators=n_estimators,\n",
    "        model__max_depth=max_depth,\n",
    "        model__max_features=max_features\n",
    "    )\n",
    "\n",
    "    # 교차 검증으로 평가\n",
    "    score = cross_val_score(\n",
    "        pipeline, X_train, y_train,\n",
    "        scoring='roc_auc',\n",
    "        cv=5,\n",
    "        n_jobs=-1\n",
    "    ).mean()\n",
    "\n",
    "    return score\n",
    "\n",
    "# 최적화 실행\n",
    "study_rfc = optuna.create_study(direction='maximize')\n",
    "study_rfc.optimize(objective, n_trials=30, show_progress_bar=True)\n",
    "\n",
    "# 최적 결과 출력\n",
    "print(\"Best AUROC Score:\", study_rfc.best_value)\n",
    "print(\"Best Hyperparameters:\", study_rfc.best_params)"
   ]
  },
  {
   "cell_type": "code",
   "execution_count": null,
   "id": "23385f1b-9d62-4c59-8e16-a03997fd6a68",
   "metadata": {},
   "outputs": [],
   "source": []
  },
  {
   "cell_type": "code",
   "execution_count": null,
   "id": "abfeccad-3d3e-4da3-85a6-260f7f51d175",
   "metadata": {},
   "outputs": [],
   "source": []
  },
  {
   "cell_type": "markdown",
   "id": "1a2d837b-852d-4fc1-9699-191d22837fec",
   "metadata": {},
   "source": [
    "### (3) k-nearest neighbors"
   ]
  },
  {
   "cell_type": "code",
   "execution_count": 159,
   "id": "e8ec6448-83cb-4437-ad2e-a8bdf7bbc9a5",
   "metadata": {},
   "outputs": [
    {
     "name": "stderr",
     "output_type": "stream",
     "text": [
      "[I 2025-06-11 16:09:09,503] A new study created in memory with name: no-name-7e30b186-a74a-47bb-8c72-48a34d892687\n"
     ]
    },
    {
     "data": {
      "application/vnd.jupyter.widget-view+json": {
       "model_id": "bf614c7206c349afa83775ce411c0eca",
       "version_major": 2,
       "version_minor": 0
      },
      "text/plain": [
       "  0%|          | 0/20 [00:00<?, ?it/s]"
      ]
     },
     "metadata": {},
     "output_type": "display_data"
    },
    {
     "name": "stdout",
     "output_type": "stream",
     "text": [
      "[I 2025-06-11 16:10:54,395] Trial 0 finished with value: 0.7029806543196433 and parameters: {'lda__n_components': 1, 'model__n_neighbors': 125}. Best is trial 0 with value: 0.7029806543196433.\n",
      "[I 2025-06-11 16:12:32,928] Trial 1 finished with value: 0.617390087265759 and parameters: {'lda__n_components': 1, 'model__n_neighbors': 5}. Best is trial 0 with value: 0.7029806543196433.\n",
      "[I 2025-06-11 16:14:09,890] Trial 2 finished with value: 0.617390087265759 and parameters: {'lda__n_components': 1, 'model__n_neighbors': 5}. Best is trial 0 with value: 0.7029806543196433.\n",
      "[I 2025-06-11 16:16:00,050] Trial 3 finished with value: 0.7029806543196433 and parameters: {'lda__n_components': 1, 'model__n_neighbors': 125}. Best is trial 0 with value: 0.7029806543196433.\n",
      "[I 2025-06-11 16:17:43,599] Trial 4 finished with value: 0.7029806543196433 and parameters: {'lda__n_components': 1, 'model__n_neighbors': 125}. Best is trial 0 with value: 0.7029806543196433.\n",
      "[I 2025-06-11 16:19:14,882] Trial 5 finished with value: 0.6780014608215776 and parameters: {'lda__n_components': 1, 'model__n_neighbors': 25}. Best is trial 0 with value: 0.7029806543196433.\n",
      "[I 2025-06-11 16:20:56,213] Trial 6 finished with value: 0.7029806543196433 and parameters: {'lda__n_components': 1, 'model__n_neighbors': 125}. Best is trial 0 with value: 0.7029806543196433.\n",
      "[I 2025-06-11 16:22:35,294] Trial 7 finished with value: 0.617390087265759 and parameters: {'lda__n_components': 1, 'model__n_neighbors': 5}. Best is trial 0 with value: 0.7029806543196433.\n",
      "[I 2025-06-11 16:24:08,947] Trial 8 finished with value: 0.617390087265759 and parameters: {'lda__n_components': 1, 'model__n_neighbors': 5}. Best is trial 0 with value: 0.7029806543196433.\n",
      "[I 2025-06-11 16:25:42,835] Trial 9 finished with value: 0.617390087265759 and parameters: {'lda__n_components': 1, 'model__n_neighbors': 5}. Best is trial 0 with value: 0.7029806543196433.\n",
      "[I 2025-06-11 16:27:15,837] Trial 10 finished with value: 0.6780014608215776 and parameters: {'lda__n_components': 1, 'model__n_neighbors': 25}. Best is trial 0 with value: 0.7029806543196433.\n",
      "[I 2025-06-11 16:28:55,522] Trial 11 finished with value: 0.7029806543196433 and parameters: {'lda__n_components': 1, 'model__n_neighbors': 125}. Best is trial 0 with value: 0.7029806543196433.\n",
      "[I 2025-06-11 16:30:36,052] Trial 12 finished with value: 0.7029806543196433 and parameters: {'lda__n_components': 1, 'model__n_neighbors': 125}. Best is trial 0 with value: 0.7029806543196433.\n",
      "[I 2025-06-11 16:32:18,705] Trial 13 finished with value: 0.7029806543196433 and parameters: {'lda__n_components': 1, 'model__n_neighbors': 125}. Best is trial 0 with value: 0.7029806543196433.\n",
      "[I 2025-06-11 16:33:58,153] Trial 14 finished with value: 0.7029806543196433 and parameters: {'lda__n_components': 1, 'model__n_neighbors': 125}. Best is trial 0 with value: 0.7029806543196433.\n",
      "[I 2025-06-11 16:35:37,495] Trial 15 finished with value: 0.7029806543196433 and parameters: {'lda__n_components': 1, 'model__n_neighbors': 125}. Best is trial 0 with value: 0.7029806543196433.\n",
      "[I 2025-06-11 16:37:15,953] Trial 16 finished with value: 0.7029806543196433 and parameters: {'lda__n_components': 1, 'model__n_neighbors': 125}. Best is trial 0 with value: 0.7029806543196433.\n",
      "[I 2025-06-11 16:38:54,028] Trial 17 finished with value: 0.6780014608215776 and parameters: {'lda__n_components': 1, 'model__n_neighbors': 25}. Best is trial 0 with value: 0.7029806543196433.\n",
      "[I 2025-06-11 16:40:35,931] Trial 18 finished with value: 0.7029806543196433 and parameters: {'lda__n_components': 1, 'model__n_neighbors': 125}. Best is trial 0 with value: 0.7029806543196433.\n",
      "[I 2025-06-11 16:42:18,227] Trial 19 finished with value: 0.7029806543196433 and parameters: {'lda__n_components': 1, 'model__n_neighbors': 125}. Best is trial 0 with value: 0.7029806543196433.\n",
      "Best AUROC score: 0.7029806543196433\n",
      "Best hyperparameters: {'lda__n_components': 1, 'model__n_neighbors': 125}\n"
     ]
    }
   ],
   "source": [
    "import optuna\n",
    "from sklearn.neighbors import KNeighborsClassifier\n",
    "from sklearn.pipeline import Pipeline\n",
    "from sklearn.impute import SimpleImputer\n",
    "from sklearn.preprocessing import StandardScaler\n",
    "from sklearn.discriminant_analysis import LinearDiscriminantAnalysis\n",
    "from sklearn.model_selection import cross_val_score\n",
    "from sklearn.base import clone\n",
    "import numpy as np\n",
    "\n",
    "# 고정된 기본 파이프라인 구조 (하이퍼파라미터 제외)\n",
    "base_pipeline = Pipeline([\n",
    "    ('imputer', SimpleImputer(copy=False)),\n",
    "    ('scaler', StandardScaler(copy=False)),\n",
    "    ('lda', LinearDiscriminantAnalysis()),\n",
    "    ('model', KNeighborsClassifier(n_jobs=-1))\n",
    "])\n",
    "\n",
    "# Optuna 목적 함수 정의\n",
    "def objective(trial):\n",
    "    n_features = X_train.shape[1]\n",
    "    n_classes = len(np.unique(y_train))\n",
    "    max_lda_components = min(n_features, n_classes - 1)\n",
    "\n",
    "    # 가능한 n_components 후보 리스트\n",
    "    possible_components = [3, 9]\n",
    "    # 조건에 맞는 값만 필터링\n",
    "    valid_components = [c for c in possible_components if c <= max_lda_components]\n",
    "\n",
    "    # 만약 조건에 맞는 값이 없으면 1로 고정 (예외처리)\n",
    "    if not valid_components:\n",
    "        valid_components = [1]\n",
    "\n",
    "    lda_n_components = trial.suggest_categorical('lda__n_components', valid_components)\n",
    "    n_neighbors = trial.suggest_categorical('model__n_neighbors', [5, 25, 125])\n",
    "\n",
    "    pipeline = clone(base_pipeline)\n",
    "    pipeline.set_params(\n",
    "        lda__n_components=lda_n_components,\n",
    "        model__n_neighbors=n_neighbors\n",
    "    )\n",
    "\n",
    "    score = cross_val_score(\n",
    "        pipeline, X_train, y_train,\n",
    "        scoring='roc_auc',\n",
    "        cv=5,\n",
    "        n_jobs=-1\n",
    "    ).mean()\n",
    "\n",
    "    return score\n",
    "\n",
    "# Optuna 최적화 실행\n",
    "study = optuna.create_study(direction='maximize')\n",
    "study.optimize(objective, n_trials=20, show_progress_bar=True)\n",
    "\n",
    "# 결과 출력\n",
    "print(\"Best AUROC score:\", study.best_value)\n",
    "print(\"Best hyperparameters:\", study.best_params)"
   ]
  },
  {
   "cell_type": "code",
   "execution_count": null,
   "id": "7f34032e-e18e-4573-90cd-42c404bc7041",
   "metadata": {},
   "outputs": [],
   "source": [
    "# from sklearn.neighbors import KNeighborsClassifier\n",
    "# from sklearn.pipeline import Pipeline\n",
    "# from sklearn.impute import SimpleImputer\n",
    "# from sklearn.preprocessing import StandardScaler\n",
    "# from sklearn.discriminant_analysis import LinearDiscriminantAnalysis\n",
    "# from sklearn.model_selection import ParameterGrid, cross_val_score\n",
    "# from tqdm.auto import tqdm\n",
    "# import numpy as np\n",
    "# import pandas as pd\n",
    "\n",
    "# # 1. 파이프라인 정의\n",
    "# pipeline_knn = Pipeline([\n",
    "#     ('imputer', SimpleImputer(copy=False)),\n",
    "#     ('scaler', StandardScaler(copy=False)),\n",
    "#     ('lda', LinearDiscriminantAnalysis()),\n",
    "#     ('model', KNeighborsClassifier(n_jobs=-1))\n",
    "# ])\n",
    "\n",
    "# # 2. 파라미터 그리드 정의\n",
    "# param_grid_knn = {\n",
    "#     'lda__n_components': [3, 9],         # LDA 차원 수\n",
    "#     'model__n_neighbors': [5, 25, 125]   # k 값\n",
    "# }\n",
    "# params_list = list(ParameterGrid(param_grid_knn))\n",
    "\n",
    "# # 3. tqdm 진행률 표시와 평가\n",
    "# results3 = []\n",
    "\n",
    "# for params in tqdm(params_list, desc=\"KNN GridSearch\", unit=\"combination\"):\n",
    "#     pipeline_knn.set_params(**params)\n",
    "#     scores = cross_val_score(\n",
    "#         pipeline_knn,\n",
    "#         X_train, y_train,\n",
    "#         cv=5, scoring='roc_auc', n_jobs=-1\n",
    "#     )\n",
    "#     results3.append({\n",
    "#         'params': params,\n",
    "#         'mean_score': np.mean(scores)\n",
    "#     })\n",
    "\n",
    "# # 4. 결과 정리 및 출력\n",
    "# results_df3 = pd.DataFrame(results3)\n",
    "# best_result3 = results_df3.loc[results_df3['mean_score'].idxmax()]\n",
    "\n",
    "# print(\"Best hyperparameters:\")\n",
    "# print(best_result3['params'])\n",
    "# print(\"Best AUROC score:\")\n",
    "# print(best_result3['mean_score'])"
   ]
  },
  {
   "cell_type": "code",
   "execution_count": null,
   "id": "f33040f3-dab1-4f1e-bc6e-4f263bb1072c",
   "metadata": {},
   "outputs": [],
   "source": []
  },
  {
   "cell_type": "code",
   "execution_count": null,
   "id": "a2065336-291d-4fbf-8516-aff8486c2290",
   "metadata": {},
   "outputs": [],
   "source": []
  },
  {
   "cell_type": "code",
   "execution_count": null,
   "id": "eb4bfc63-58ee-44e1-b079-88baeb3fb004",
   "metadata": {},
   "outputs": [],
   "source": []
  },
  {
   "cell_type": "markdown",
   "id": "915ec64f-5834-4a25-98b6-460d254ff1a0",
   "metadata": {},
   "source": [
    "## ✅ 모델별 Optuna 튜닝 요약 및 추천\n",
    "\n",
    "### 🔍 목적: AUROC 0.80 이상 달성\n",
    "\n",
    "---\n",
    "\n",
    "### 📌 현재 모델별 최고 AUROC 성능\n",
    "- **RandomForestClassifier**: 0.713\n",
    "- **SGDClassifier**: 0.711\n",
    "- **KNeighborsClassifier + LDA**: 0.703\n",
    "\n",
    "---\n",
    "\n",
    "### ✅ 추천 모델: **RandomForestClassifier**\n",
    "- 성능 가장 우수하고, 추가 튜닝 여지 큼\n",
    "- 현재 튜닝 파라미터:\n",
    "  - `n_estimators`, `max_depth`, `max_features`\n",
    "- 추가 추천 파라미터:\n",
    "  - `min_samples_split`, `min_samples_leaf`\n",
    "  - `max_features` → float 범위 (`0.1 ~ 1.0`)\n",
    "  - `bootstrap`, `class_weight`, `criterion`\n",
    "\n",
    "---\n",
    "\n",
    "### ⚠️ 보조 후보: **SGDClassifier**\n",
    "- 빠르고 효율적이나 선형 한계 존재\n",
    "- 추가 튜닝 추천:\n",
    "  - `loss`, `learning_rate`, `early_stopping`, `validation_fraction`\n",
    "- 개선 여지는 있으나 큰 점프는 어려움\n",
    "\n",
    "---\n",
    "\n",
    "### ⛔ 제외 권장: **KNN + LDA**\n",
    "- AUROC 향상 거의 없음\n",
    "- Trial 0과 15 동일 성능 (튜닝 무의미)\n",
    "- 구조적 한계 (저차원, 선형 경계 제한)\n",
    "\n",
    "---\n",
    "\n",
    "### ✅ 다음 스텝\n",
    "- RFC 모델에 추가 파라미터 넣어 재튜닝\n",
    "- 시간 제한 있다면 SGDClassifier 간단 튜닝 시도"
   ]
  },
  {
   "cell_type": "code",
   "execution_count": null,
   "id": "55976bb4-9d24-438c-ab7e-0c05430d9dbf",
   "metadata": {},
   "outputs": [],
   "source": []
  },
  {
   "cell_type": "markdown",
   "id": "b37d9ac6-1820-4a1f-b058-224a5a07307e",
   "metadata": {},
   "source": [
    "### (4) 하이퍼파라미터 조정 or 다른 모델 선택"
   ]
  },
  {
   "cell_type": "code",
   "execution_count": null,
   "id": "3c589b2a-29fd-4ae7-8c8f-8e3ca8960d7b",
   "metadata": {},
   "outputs": [],
   "source": []
  },
  {
   "cell_type": "markdown",
   "id": "63cebc26-35b2-4929-b9e7-2b6fde02c063",
   "metadata": {},
   "source": [
    "LightGBM (추천도 ★★★★★)\n",
    "- ✅ 대용량 데이터에 최적화 (GPU 사용 가능)\n",
    "- ✅ 범주형 변수 자동 처리\n",
    "- ✅ 결측값 내재 처리\n",
    "- ✅ 학습 속도 빠르고 성능 우수\n",
    "- 🎯 AUROC 0.75~0.85 이상 기대 가능\n",
    "- optuna.integration.lightgbm으로 자동 튜닝도 간편"
   ]
  },
  {
   "cell_type": "code",
   "execution_count": null,
   "id": "4f91d761-909e-43c3-96ae-990c560a2eb3",
   "metadata": {},
   "outputs": [],
   "source": []
  },
  {
   "cell_type": "code",
   "execution_count": 165,
   "id": "3091e4df-6e2d-465c-8b60-88ab3039c510",
   "metadata": {},
   "outputs": [
    {
     "name": "stderr",
     "output_type": "stream",
     "text": [
      "[I 2025-06-11 17:20:40,375] A new study created in memory with name: no-name-e58236b2-1c8d-4fdf-ada0-d405f29e3e04\n",
      "\n",
      "  0%|                                                     | 0/7 [00:00<?, ?it/s]\u001b[A\n",
      "feature_fraction, val_score: -inf:   0%|                  | 0/7 [00:00<?, ?it/s]\u001b[AD:\\Project\\Python_Source\\Test01\\.venv\\Lib\\site-packages\\sklearn\\model_selection\\_split.py:86: UserWarning: The groups parameter is ignored by KFold\n",
      "  warnings.warn(\n"
     ]
    },
    {
     "name": "stdout",
     "output_type": "stream",
     "text": [
      "Training until validation scores don't improve for 50 rounds\n",
      "[100]\tvalid's auc: 0.72279 + 0.000926411\n",
      "[200]\tvalid's auc: 0.724163 + 0.000971979\n",
      "[300]\tvalid's auc: 0.724543 + 0.000925076\n",
      "[400]\tvalid's auc: 0.724904 + 0.000988126\n",
      "[500]\tvalid's auc: 0.725101 + 0.00100655\n",
      "[600]\tvalid's auc: 0.725246 + 0.000942584\n"
     ]
    },
    {
     "name": "stderr",
     "output_type": "stream",
     "text": [
      "\n",
      "feature_fraction, val_score: 0.725285:   0%|              | 0/7 [01:05<?, ?it/s]\u001b[A\n",
      "feature_fraction, val_score: 0.725285:  14%|8     | 1/7 [01:05<06:32, 65.37s/it]\u001b[A[I 2025-06-11 17:21:45,755] Trial 0 finished with value: 0.725285196828913 and parameters: {'feature_fraction': 1.0}. Best is trial 0 with value: 0.725285196828913.\n",
      "\n",
      "feature_fraction, val_score: 0.725285:  14%|8     | 1/7 [01:05<06:32, 65.37s/it]\u001b[A"
     ]
    },
    {
     "name": "stdout",
     "output_type": "stream",
     "text": [
      "Early stopping, best iteration is:\n",
      "[643]\tvalid's auc: 0.725285 + 0.00093896\n"
     ]
    },
    {
     "name": "stderr",
     "output_type": "stream",
     "text": [
      "D:\\Project\\Python_Source\\Test01\\.venv\\Lib\\site-packages\\sklearn\\model_selection\\_split.py:86: UserWarning: The groups parameter is ignored by KFold\n",
      "  warnings.warn(\n"
     ]
    },
    {
     "name": "stdout",
     "output_type": "stream",
     "text": [
      "Training until validation scores don't improve for 50 rounds\n",
      "[100]\tvalid's auc: 0.722681 + 0.000975909\n",
      "[200]\tvalid's auc: 0.724431 + 0.000960189\n",
      "[300]\tvalid's auc: 0.725021 + 0.000856499\n",
      "[400]\tvalid's auc: 0.725375 + 0.000812395\n",
      "[500]\tvalid's auc: 0.725597 + 0.000865466\n",
      "[600]\tvalid's auc: 0.725816 + 0.000826896\n"
     ]
    },
    {
     "name": "stderr",
     "output_type": "stream",
     "text": [
      "\n",
      "feature_fraction, val_score: 0.725835:  14%|8     | 1/7 [02:16<06:32, 65.37s/it]\u001b[A\n",
      "feature_fraction, val_score: 0.725835:  29%|#7    | 2/7 [02:16<05:42, 68.47s/it]\u001b[A[I 2025-06-11 17:22:56,398] Trial 1 finished with value: 0.7258353603402894 and parameters: {'feature_fraction': 0.6}. Best is trial 1 with value: 0.7258353603402894.\n",
      "\n",
      "feature_fraction, val_score: 0.725835:  29%|#7    | 2/7 [02:16<05:42, 68.47s/it]\u001b[A"
     ]
    },
    {
     "name": "stdout",
     "output_type": "stream",
     "text": [
      "Early stopping, best iteration is:\n",
      "[619]\tvalid's auc: 0.725835 + 0.00082252\n"
     ]
    },
    {
     "name": "stderr",
     "output_type": "stream",
     "text": [
      "D:\\Project\\Python_Source\\Test01\\.venv\\Lib\\site-packages\\sklearn\\model_selection\\_split.py:86: UserWarning: The groups parameter is ignored by KFold\n",
      "  warnings.warn(\n"
     ]
    },
    {
     "name": "stdout",
     "output_type": "stream",
     "text": [
      "Training until validation scores don't improve for 50 rounds\n",
      "[100]\tvalid's auc: 0.722481 + 0.00080659\n",
      "[200]\tvalid's auc: 0.724413 + 0.000836836\n",
      "[300]\tvalid's auc: 0.724987 + 0.000905878\n",
      "[400]\tvalid's auc: 0.725405 + 0.000917205\n",
      "[500]\tvalid's auc: 0.725499 + 0.000875624\n",
      "[600]\tvalid's auc: 0.725642 + 0.000868436\n",
      "[700]\tvalid's auc: 0.725742 + 0.000874528\n"
     ]
    },
    {
     "name": "stderr",
     "output_type": "stream",
     "text": [
      "\n",
      "feature_fraction, val_score: 0.725835:  29%|#7    | 2/7 [03:37<05:42, 68.47s/it]\u001b[A\n",
      "feature_fraction, val_score: 0.725835:  43%|##5   | 3/7 [03:37<04:57, 74.46s/it]\u001b[A[I 2025-06-11 17:24:17,991] Trial 2 finished with value: 0.7257612881514042 and parameters: {'feature_fraction': 0.5}. Best is trial 1 with value: 0.7258353603402894.\n",
      "\n",
      "feature_fraction, val_score: 0.725835:  43%|##5   | 3/7 [03:37<04:57, 74.46s/it]\u001b[A"
     ]
    },
    {
     "name": "stdout",
     "output_type": "stream",
     "text": [
      "Early stopping, best iteration is:\n",
      "[721]\tvalid's auc: 0.725761 + 0.000879472\n"
     ]
    },
    {
     "name": "stderr",
     "output_type": "stream",
     "text": [
      "D:\\Project\\Python_Source\\Test01\\.venv\\Lib\\site-packages\\sklearn\\model_selection\\_split.py:86: UserWarning: The groups parameter is ignored by KFold\n",
      "  warnings.warn(\n"
     ]
    },
    {
     "name": "stdout",
     "output_type": "stream",
     "text": [
      "Training until validation scores don't improve for 50 rounds\n",
      "[100]\tvalid's auc: 0.722674 + 0.000928094\n",
      "[200]\tvalid's auc: 0.724443 + 0.000935639\n",
      "[300]\tvalid's auc: 0.724939 + 0.00102442\n",
      "[400]\tvalid's auc: 0.725203 + 0.00107804\n",
      "[500]\tvalid's auc: 0.725343 + 0.000952864\n",
      "[600]\tvalid's auc: 0.725544 + 0.000931936\n"
     ]
    },
    {
     "name": "stderr",
     "output_type": "stream",
     "text": [
      "\n",
      "feature_fraction, val_score: 0.725835:  43%|##5   | 3/7 [04:40<04:57, 74.46s/it]\u001b[A\n",
      "feature_fraction, val_score: 0.725835:  57%|###4  | 4/7 [04:40<03:29, 69.91s/it]\u001b[A[I 2025-06-11 17:25:20,922] Trial 3 finished with value: 0.7255754335923765 and parameters: {'feature_fraction': 0.7}. Best is trial 1 with value: 0.7258353603402894.\n",
      "\n",
      "feature_fraction, val_score: 0.725835:  57%|###4  | 4/7 [04:40<03:29, 69.91s/it]\u001b[A"
     ]
    },
    {
     "name": "stdout",
     "output_type": "stream",
     "text": [
      "Early stopping, best iteration is:\n",
      "[631]\tvalid's auc: 0.725575 + 0.000951896\n"
     ]
    },
    {
     "name": "stderr",
     "output_type": "stream",
     "text": [
      "D:\\Project\\Python_Source\\Test01\\.venv\\Lib\\site-packages\\sklearn\\model_selection\\_split.py:86: UserWarning: The groups parameter is ignored by KFold\n",
      "  warnings.warn(\n"
     ]
    },
    {
     "name": "stdout",
     "output_type": "stream",
     "text": [
      "Training until validation scores don't improve for 50 rounds\n",
      "[100]\tvalid's auc: 0.722328 + 0.000931591\n",
      "[200]\tvalid's auc: 0.724422 + 0.000845748\n",
      "[300]\tvalid's auc: 0.725171 + 0.000795984\n",
      "[400]\tvalid's auc: 0.725498 + 0.000811814\n",
      "[500]\tvalid's auc: 0.725733 + 0.000857093\n",
      "[600]\tvalid's auc: 0.725877 + 0.000826164\n",
      "[700]\tvalid's auc: 0.725987 + 0.000797927\n"
     ]
    },
    {
     "name": "stderr",
     "output_type": "stream",
     "text": [
      "\n",
      "feature_fraction, val_score: 0.725998:  57%|###4  | 4/7 [06:05<03:29, 69.91s/it]\u001b[A\n",
      "feature_fraction, val_score: 0.725998:  71%|####2 | 5/7 [06:05<02:30, 75.31s/it]\u001b[A[I 2025-06-11 17:26:45,805] Trial 4 finished with value: 0.725998237796092 and parameters: {'feature_fraction': 0.4}. Best is trial 4 with value: 0.725998237796092.\n",
      "\n",
      "feature_fraction, val_score: 0.725998:  71%|####2 | 5/7 [06:05<02:30, 75.31s/it]\u001b[A"
     ]
    },
    {
     "name": "stdout",
     "output_type": "stream",
     "text": [
      "Early stopping, best iteration is:\n",
      "[709]\tvalid's auc: 0.725998 + 0.000783882\n"
     ]
    },
    {
     "name": "stderr",
     "output_type": "stream",
     "text": [
      "D:\\Project\\Python_Source\\Test01\\.venv\\Lib\\site-packages\\sklearn\\model_selection\\_split.py:86: UserWarning: The groups parameter is ignored by KFold\n",
      "  warnings.warn(\n"
     ]
    },
    {
     "name": "stdout",
     "output_type": "stream",
     "text": [
      "Training until validation scores don't improve for 50 rounds\n",
      "[100]\tvalid's auc: 0.722604 + 0.000964434\n",
      "[200]\tvalid's auc: 0.72422 + 0.000979852\n",
      "[300]\tvalid's auc: 0.724673 + 0.0010739\n",
      "[400]\tvalid's auc: 0.724952 + 0.00105733\n",
      "[500]\tvalid's auc: 0.725079 + 0.00105854\n",
      "[600]\tvalid's auc: 0.725237 + 0.00101665\n",
      "[700]\tvalid's auc: 0.725287 + 0.000950554\n"
     ]
    },
    {
     "name": "stderr",
     "output_type": "stream",
     "text": [
      "\n",
      "feature_fraction, val_score: 0.725998:  71%|####2 | 5/7 [07:10<02:30, 75.31s/it]\u001b[A\n",
      "feature_fraction, val_score: 0.725998:  86%|#####1| 6/7 [07:10<01:11, 71.68s/it]\u001b[A[I 2025-06-11 17:27:50,431] Trial 5 finished with value: 0.7253034036821414 and parameters: {'feature_fraction': 0.8999999999999999}. Best is trial 4 with value: 0.725998237796092.\n",
      "\n",
      "feature_fraction, val_score: 0.725998:  86%|#####1| 6/7 [07:10<01:11, 71.68s/it]\u001b[A"
     ]
    },
    {
     "name": "stdout",
     "output_type": "stream",
     "text": [
      "Early stopping, best iteration is:\n",
      "[664]\tvalid's auc: 0.725303 + 0.000980108\n"
     ]
    },
    {
     "name": "stderr",
     "output_type": "stream",
     "text": [
      "D:\\Project\\Python_Source\\Test01\\.venv\\Lib\\site-packages\\sklearn\\model_selection\\_split.py:86: UserWarning: The groups parameter is ignored by KFold\n",
      "  warnings.warn(\n"
     ]
    },
    {
     "name": "stdout",
     "output_type": "stream",
     "text": [
      "Training until validation scores don't improve for 50 rounds\n",
      "[100]\tvalid's auc: 0.72282 + 0.000828165\n",
      "[200]\tvalid's auc: 0.72441 + 0.000909216\n",
      "[300]\tvalid's auc: 0.724837 + 0.000817687\n",
      "[400]\tvalid's auc: 0.725102 + 0.000836248\n",
      "[500]\tvalid's auc: 0.725311 + 0.000917769\n"
     ]
    },
    {
     "name": "stderr",
     "output_type": "stream",
     "text": [
      "\n",
      "feature_fraction, val_score: 0.725998:  86%|#####1| 6/7 [08:04<01:11, 71.68s/it]\u001b[A\n",
      "feature_fraction, val_score: 0.725998: 100%|######| 7/7 [08:04<00:00, 65.89s/it]\u001b[A[I 2025-06-11 17:28:44,414] Trial 6 finished with value: 0.7253558681789211 and parameters: {'feature_fraction': 0.8}. Best is trial 4 with value: 0.725998237796092.\n",
      "feature_fraction, val_score: 0.725998: 100%|######| 7/7 [08:04<00:00, 69.15s/it]\n"
     ]
    },
    {
     "name": "stdout",
     "output_type": "stream",
     "text": [
      "Early stopping, best iteration is:\n",
      "[537]\tvalid's auc: 0.725356 + 0.000934328\n"
     ]
    },
    {
     "name": "stderr",
     "output_type": "stream",
     "text": [
      "\n",
      "  0%|                                                    | 0/20 [00:00<?, ?it/s]\u001b[A\n",
      "num_leaves, val_score: 0.725998:   0%|                   | 0/20 [00:00<?, ?it/s]\u001b[AD:\\Project\\Python_Source\\Test01\\.venv\\Lib\\site-packages\\sklearn\\model_selection\\_split.py:86: UserWarning: The groups parameter is ignored by KFold\n",
      "  warnings.warn(\n"
     ]
    },
    {
     "name": "stdout",
     "output_type": "stream",
     "text": [
      "Training until validation scores don't improve for 50 rounds\n",
      "[100]\tvalid's auc: 0.724327 + 0.000886446\n",
      "[200]\tvalid's auc: 0.72545 + 0.000755893\n",
      "[300]\tvalid's auc: 0.725656 + 0.000831037\n"
     ]
    },
    {
     "name": "stderr",
     "output_type": "stream",
     "text": [
      "\n",
      "num_leaves, val_score: 0.725998:   0%|                   | 0/20 [00:46<?, ?it/s]\u001b[A\n",
      "num_leaves, val_score: 0.725998:   5%|5          | 1/20 [00:46<14:44, 46.57s/it]\u001b[A[I 2025-06-11 17:29:30,997] Trial 7 finished with value: 0.7256790404911706 and parameters: {'num_leaves': 86}. Best is trial 7 with value: 0.7256790404911706.\n",
      "\n",
      "num_leaves, val_score: 0.725998:   5%|5          | 1/20 [00:46<14:44, 46.57s/it]\u001b[A"
     ]
    },
    {
     "name": "stdout",
     "output_type": "stream",
     "text": [
      "Early stopping, best iteration is:\n",
      "[283]\tvalid's auc: 0.725679 + 0.000829978\n"
     ]
    },
    {
     "name": "stderr",
     "output_type": "stream",
     "text": [
      "D:\\Project\\Python_Source\\Test01\\.venv\\Lib\\site-packages\\sklearn\\model_selection\\_split.py:86: UserWarning: The groups parameter is ignored by KFold\n",
      "  warnings.warn(\n"
     ]
    },
    {
     "name": "stdout",
     "output_type": "stream",
     "text": [
      "Training until validation scores don't improve for 50 rounds\n",
      "[100]\tvalid's auc: 0.724598 + 0.000934517\n",
      "[200]\tvalid's auc: 0.725332 + 0.000832159\n",
      "[300]\tvalid's auc: 0.725374 + 0.000867801\n"
     ]
    },
    {
     "name": "stderr",
     "output_type": "stream",
     "text": [
      "\n",
      "num_leaves, val_score: 0.725998:   5%|5          | 1/20 [01:36<14:44, 46.57s/it]\u001b[A\n",
      "num_leaves, val_score: 0.725998:  10%|#1         | 2/20 [01:36<14:37, 48.76s/it]\u001b[A[I 2025-06-11 17:30:21,285] Trial 8 finished with value: 0.7254545043667051 and parameters: {'num_leaves': 134}. Best is trial 7 with value: 0.7256790404911706.\n",
      "\n",
      "num_leaves, val_score: 0.725998:  10%|#1         | 2/20 [01:36<14:37, 48.76s/it]\u001b[A"
     ]
    },
    {
     "name": "stdout",
     "output_type": "stream",
     "text": [
      "Early stopping, best iteration is:\n",
      "[283]\tvalid's auc: 0.725455 + 0.000844224\n"
     ]
    },
    {
     "name": "stderr",
     "output_type": "stream",
     "text": [
      "D:\\Project\\Python_Source\\Test01\\.venv\\Lib\\site-packages\\sklearn\\model_selection\\_split.py:86: UserWarning: The groups parameter is ignored by KFold\n",
      "  warnings.warn(\n"
     ]
    },
    {
     "name": "stdout",
     "output_type": "stream",
     "text": [
      "Training until validation scores don't improve for 50 rounds\n",
      "[100]\tvalid's auc: 0.724506 + 0.000907159\n"
     ]
    },
    {
     "name": "stderr",
     "output_type": "stream",
     "text": [
      "\n",
      "num_leaves, val_score: 0.725998:  10%|#1         | 2/20 [02:13<14:37, 48.76s/it]\u001b[A\n",
      "num_leaves, val_score: 0.725998:  15%|#6         | 3/20 [02:13<12:18, 43.43s/it]\u001b[A[I 2025-06-11 17:30:58,373] Trial 9 finished with value: 0.7247625291175848 and parameters: {'num_leaves': 245}. Best is trial 7 with value: 0.7256790404911706.\n",
      "\n",
      "num_leaves, val_score: 0.725998:  15%|#6         | 3/20 [02:13<12:18, 43.43s/it]\u001b[A"
     ]
    },
    {
     "name": "stdout",
     "output_type": "stream",
     "text": [
      "Early stopping, best iteration is:\n",
      "[136]\tvalid's auc: 0.724763 + 0.0008725\n"
     ]
    },
    {
     "name": "stderr",
     "output_type": "stream",
     "text": [
      "D:\\Project\\Python_Source\\Test01\\.venv\\Lib\\site-packages\\sklearn\\model_selection\\_split.py:86: UserWarning: The groups parameter is ignored by KFold\n",
      "  warnings.warn(\n"
     ]
    },
    {
     "name": "stdout",
     "output_type": "stream",
     "text": [
      "Training until validation scores don't improve for 50 rounds\n",
      "[100]\tvalid's auc: 0.720088 + 0.000828969\n",
      "[200]\tvalid's auc: 0.722802 + 0.000854365\n",
      "[300]\tvalid's auc: 0.723883 + 0.000736789\n",
      "[400]\tvalid's auc: 0.724421 + 0.000763722\n",
      "[500]\tvalid's auc: 0.724821 + 0.000743411\n",
      "[600]\tvalid's auc: 0.725184 + 0.000808694\n",
      "[700]\tvalid's auc: 0.725483 + 0.000776244\n",
      "[800]\tvalid's auc: 0.72566 + 0.00081236\n",
      "[900]\tvalid's auc: 0.725816 + 0.000811997\n"
     ]
    },
    {
     "name": "stderr",
     "output_type": "stream",
     "text": [
      "\n",
      "num_leaves, val_score: 0.725998:  15%|#6         | 3/20 [04:01<12:18, 43.43s/it]\u001b[A\n",
      "num_leaves, val_score: 0.725998:  20%|##2        | 4/20 [04:01<18:17, 68.58s/it]\u001b[A[I 2025-06-11 17:32:45,502] Trial 10 finished with value: 0.725898392401574 and parameters: {'num_leaves': 16}. Best is trial 10 with value: 0.725898392401574.\n",
      "\n",
      "num_leaves, val_score: 0.725998:  20%|##2        | 4/20 [04:01<18:17, 68.58s/it]\u001b[A"
     ]
    },
    {
     "name": "stdout",
     "output_type": "stream",
     "text": [
      "[1000]\tvalid's auc: 0.725898 + 0.000776342\n",
      "Did not meet early stopping. Best iteration is:\n",
      "[1000]\tvalid's auc: 0.725898 + 0.000776342\n"
     ]
    },
    {
     "name": "stderr",
     "output_type": "stream",
     "text": [
      "D:\\Project\\Python_Source\\Test01\\.venv\\Lib\\site-packages\\sklearn\\model_selection\\_split.py:86: UserWarning: The groups parameter is ignored by KFold\n",
      "  warnings.warn(\n"
     ]
    },
    {
     "name": "stdout",
     "output_type": "stream",
     "text": [
      "Training until validation scores don't improve for 50 rounds\n",
      "[100]\tvalid's auc: 0.719316 + 0.000903091\n",
      "[200]\tvalid's auc: 0.72215 + 0.00075869\n",
      "[300]\tvalid's auc: 0.723177 + 0.000830364\n",
      "[400]\tvalid's auc: 0.723939 + 0.000869615\n",
      "[500]\tvalid's auc: 0.724472 + 0.000889699\n",
      "[600]\tvalid's auc: 0.724914 + 0.000872397\n",
      "[700]\tvalid's auc: 0.725289 + 0.000857465\n",
      "[800]\tvalid's auc: 0.725504 + 0.000859042\n",
      "[900]\tvalid's auc: 0.725716 + 0.000855674\n"
     ]
    },
    {
     "name": "stderr",
     "output_type": "stream",
     "text": [
      "\n",
      "num_leaves, val_score: 0.725998:  20%|##2        | 4/20 [05:45<18:17, 68.58s/it]\u001b[A\n",
      "num_leaves, val_score: 0.725998:  25%|##7        | 5/20 [05:45<20:23, 81.54s/it]\u001b[A[I 2025-06-11 17:34:30,033] Trial 11 finished with value: 0.7258512817944964 and parameters: {'num_leaves': 13}. Best is trial 10 with value: 0.725898392401574.\n",
      "\n",
      "num_leaves, val_score: 0.725998:  25%|##7        | 5/20 [05:45<20:23, 81.54s/it]\u001b[A"
     ]
    },
    {
     "name": "stdout",
     "output_type": "stream",
     "text": [
      "[1000]\tvalid's auc: 0.725851 + 0.000839804\n",
      "Did not meet early stopping. Best iteration is:\n",
      "[1000]\tvalid's auc: 0.725851 + 0.000839804\n"
     ]
    },
    {
     "name": "stderr",
     "output_type": "stream",
     "text": [
      "D:\\Project\\Python_Source\\Test01\\.venv\\Lib\\site-packages\\sklearn\\model_selection\\_split.py:86: UserWarning: The groups parameter is ignored by KFold\n",
      "  warnings.warn(\n"
     ]
    },
    {
     "name": "stdout",
     "output_type": "stream",
     "text": [
      "Training until validation scores don't improve for 50 rounds\n",
      "[100]\tvalid's auc: 0.715247 + 0.000897482\n",
      "[200]\tvalid's auc: 0.718438 + 0.000725221\n",
      "[300]\tvalid's auc: 0.720177 + 0.000707399\n",
      "[400]\tvalid's auc: 0.721219 + 0.000795025\n",
      "[500]\tvalid's auc: 0.721928 + 0.000808062\n",
      "[600]\tvalid's auc: 0.722481 + 0.000764005\n",
      "[700]\tvalid's auc: 0.722967 + 0.000773243\n",
      "[800]\tvalid's auc: 0.723371 + 0.000803285\n",
      "[900]\tvalid's auc: 0.723712 + 0.000788308\n"
     ]
    },
    {
     "name": "stderr",
     "output_type": "stream",
     "text": [
      "\n",
      "num_leaves, val_score: 0.725998:  25%|##7        | 5/20 [07:27<20:23, 81.54s/it]\u001b[A\n",
      "num_leaves, val_score: 0.725998:  30%|###3       | 6/20 [07:27<20:36, 88.32s/it]\u001b[A[I 2025-06-11 17:36:11,503] Trial 12 finished with value: 0.7240231942794684 and parameters: {'num_leaves': 6}. Best is trial 10 with value: 0.725898392401574.\n",
      "\n",
      "num_leaves, val_score: 0.725998:  30%|###3       | 6/20 [07:27<20:36, 88.32s/it]\u001b[A"
     ]
    },
    {
     "name": "stdout",
     "output_type": "stream",
     "text": [
      "[1000]\tvalid's auc: 0.724023 + 0.000783151\n",
      "Did not meet early stopping. Best iteration is:\n",
      "[1000]\tvalid's auc: 0.724023 + 0.000783151\n"
     ]
    },
    {
     "name": "stderr",
     "output_type": "stream",
     "text": [
      "D:\\Project\\Python_Source\\Test01\\.venv\\Lib\\site-packages\\sklearn\\model_selection\\_split.py:86: UserWarning: The groups parameter is ignored by KFold\n",
      "  warnings.warn(\n"
     ]
    },
    {
     "name": "stdout",
     "output_type": "stream",
     "text": [
      "Training until validation scores don't improve for 50 rounds\n",
      "[100]\tvalid's auc: 0.724514 + 0.000868025\n",
      "[200]\tvalid's auc: 0.725445 + 0.000731628\n",
      "[300]\tvalid's auc: 0.72546 + 0.00073906\n"
     ]
    },
    {
     "name": "stderr",
     "output_type": "stream",
     "text": [
      "\n",
      "num_leaves, val_score: 0.725998:  30%|###3       | 6/20 [08:13<20:36, 88.32s/it]\u001b[A\n",
      "num_leaves, val_score: 0.725998:  35%|###8       | 7/20 [08:13<16:09, 74.57s/it]\u001b[A[I 2025-06-11 17:36:57,761] Trial 13 finished with value: 0.7255221143684171 and parameters: {'num_leaves': 114}. Best is trial 10 with value: 0.725898392401574.\n",
      "\n",
      "num_leaves, val_score: 0.725998:  35%|###8       | 7/20 [08:13<16:09, 74.57s/it]\u001b[A"
     ]
    },
    {
     "name": "stdout",
     "output_type": "stream",
     "text": [
      "Early stopping, best iteration is:\n",
      "[261]\tvalid's auc: 0.725522 + 0.000747384\n"
     ]
    },
    {
     "name": "stderr",
     "output_type": "stream",
     "text": [
      "D:\\Project\\Python_Source\\Test01\\.venv\\Lib\\site-packages\\sklearn\\model_selection\\_split.py:86: UserWarning: The groups parameter is ignored by KFold\n",
      "  warnings.warn(\n"
     ]
    },
    {
     "name": "stdout",
     "output_type": "stream",
     "text": [
      "Training until validation scores don't improve for 50 rounds\n",
      "[100]\tvalid's auc: 0.724835 + 0.000900273\n",
      "[200]\tvalid's auc: 0.725261 + 0.000846456\n"
     ]
    },
    {
     "name": "stderr",
     "output_type": "stream",
     "text": [
      "\n",
      "num_leaves, val_score: 0.725998:  35%|###8       | 7/20 [08:58<16:09, 74.57s/it]\u001b[A\n",
      "num_leaves, val_score: 0.725998:  40%|####4      | 8/20 [08:58<13:02, 65.24s/it]\u001b[A[I 2025-06-11 17:37:43,026] Trial 14 finished with value: 0.7252799701092025 and parameters: {'num_leaves': 188}. Best is trial 10 with value: 0.725898392401574.\n",
      "\n",
      "num_leaves, val_score: 0.725998:  40%|####4      | 8/20 [08:58<13:02, 65.24s/it]\u001b[A"
     ]
    },
    {
     "name": "stdout",
     "output_type": "stream",
     "text": [
      "Early stopping, best iteration is:\n",
      "[211]\tvalid's auc: 0.72528 + 0.000905169\n"
     ]
    },
    {
     "name": "stderr",
     "output_type": "stream",
     "text": [
      "D:\\Project\\Python_Source\\Test01\\.venv\\Lib\\site-packages\\sklearn\\model_selection\\_split.py:86: UserWarning: The groups parameter is ignored by KFold\n",
      "  warnings.warn(\n"
     ]
    },
    {
     "name": "stdout",
     "output_type": "stream",
     "text": [
      "Training until validation scores don't improve for 50 rounds\n",
      "[100]\tvalid's auc: 0.72354 + 0.000877002\n",
      "[200]\tvalid's auc: 0.725234 + 0.000836765\n",
      "[300]\tvalid's auc: 0.725694 + 0.000768331\n",
      "[400]\tvalid's auc: 0.72588 + 0.000733883\n"
     ]
    },
    {
     "name": "stderr",
     "output_type": "stream",
     "text": [
      "\n",
      "num_leaves, val_score: 0.725998:  40%|####4      | 8/20 [09:59<13:02, 65.24s/it]\u001b[A\n",
      "num_leaves, val_score: 0.725998:  45%|####9      | 9/20 [09:59<11:43, 63.99s/it]\u001b[A[I 2025-06-11 17:38:44,256] Trial 15 finished with value: 0.7259379213278427 and parameters: {'num_leaves': 53}. Best is trial 15 with value: 0.7259379213278427.\n",
      "\n",
      "num_leaves, val_score: 0.725998:  45%|####9      | 9/20 [09:59<11:43, 63.99s/it]\u001b[A"
     ]
    },
    {
     "name": "stdout",
     "output_type": "stream",
     "text": [
      "Early stopping, best iteration is:\n",
      "[447]\tvalid's auc: 0.725938 + 0.00074283\n"
     ]
    },
    {
     "name": "stderr",
     "output_type": "stream",
     "text": [
      "D:\\Project\\Python_Source\\Test01\\.venv\\Lib\\site-packages\\sklearn\\model_selection\\_split.py:86: UserWarning: The groups parameter is ignored by KFold\n",
      "  warnings.warn(\n"
     ]
    },
    {
     "name": "stdout",
     "output_type": "stream",
     "text": [
      "Training until validation scores don't improve for 50 rounds\n",
      "[100]\tvalid's auc: 0.724127 + 0.0008471\n",
      "[200]\tvalid's auc: 0.725484 + 0.000728995\n",
      "[300]\tvalid's auc: 0.725736 + 0.000733843\n"
     ]
    },
    {
     "name": "stderr",
     "output_type": "stream",
     "text": [
      "\n",
      "num_leaves, val_score: 0.725998:  45%|####9      | 9/20 [10:49<11:43, 63.99s/it]\u001b[A\n",
      "num_leaves, val_score: 0.725998:  50%|#####     | 10/20 [10:49<09:55, 59.59s/it]\u001b[A[I 2025-06-11 17:39:34,012] Trial 16 finished with value: 0.7257569964352439 and parameters: {'num_leaves': 77}. Best is trial 15 with value: 0.7259379213278427.\n",
      "\n",
      "num_leaves, val_score: 0.725998:  50%|#####     | 10/20 [10:49<09:55, 59.59s/it]\u001b[A"
     ]
    },
    {
     "name": "stdout",
     "output_type": "stream",
     "text": [
      "Early stopping, best iteration is:\n",
      "[320]\tvalid's auc: 0.725757 + 0.000809181\n"
     ]
    },
    {
     "name": "stderr",
     "output_type": "stream",
     "text": [
      "D:\\Project\\Python_Source\\Test01\\.venv\\Lib\\site-packages\\sklearn\\model_selection\\_split.py:86: UserWarning: The groups parameter is ignored by KFold\n",
      "  warnings.warn(\n"
     ]
    },
    {
     "name": "stdout",
     "output_type": "stream",
     "text": [
      "Training until validation scores don't improve for 50 rounds\n",
      "[100]\tvalid's auc: 0.723738 + 0.000905369\n",
      "[200]\tvalid's auc: 0.725287 + 0.000874221\n",
      "[300]\tvalid's auc: 0.725728 + 0.000820321\n",
      "[400]\tvalid's auc: 0.725935 + 0.000765813\n"
     ]
    },
    {
     "name": "stderr",
     "output_type": "stream",
     "text": [
      "\n",
      "num_leaves, val_score: 0.725998:  50%|#####     | 10/20 [11:49<09:55, 59.59s/it]\u001b[A\n",
      "num_leaves, val_score: 0.725998:  55%|#####5    | 11/20 [11:49<08:57, 59.76s/it]\u001b[A[I 2025-06-11 17:40:34,147] Trial 17 finished with value: 0.7259728282102987 and parameters: {'num_leaves': 59}. Best is trial 17 with value: 0.7259728282102987.\n",
      "\n",
      "num_leaves, val_score: 0.725998:  55%|#####5    | 11/20 [11:49<08:57, 59.76s/it]\u001b[A"
     ]
    },
    {
     "name": "stdout",
     "output_type": "stream",
     "text": [
      "Early stopping, best iteration is:\n",
      "[427]\tvalid's auc: 0.725973 + 0.000764176\n"
     ]
    },
    {
     "name": "stderr",
     "output_type": "stream",
     "text": [
      "D:\\Project\\Python_Source\\Test01\\.venv\\Lib\\site-packages\\sklearn\\model_selection\\_split.py:86: UserWarning: The groups parameter is ignored by KFold\n",
      "  warnings.warn(\n"
     ]
    },
    {
     "name": "stdout",
     "output_type": "stream",
     "text": [
      "Training until validation scores don't improve for 50 rounds\n",
      "[100]\tvalid's auc: 0.724762 + 0.000978941\n",
      "[200]\tvalid's auc: 0.725204 + 0.00088604\n"
     ]
    },
    {
     "name": "stderr",
     "output_type": "stream",
     "text": [
      "\n",
      "num_leaves, val_score: 0.725998:  55%|#####5    | 11/20 [12:27<08:57, 59.76s/it]\u001b[A\n",
      "num_leaves, val_score: 0.725998:  60%|######    | 12/20 [12:27<07:03, 52.98s/it]\u001b[A[I 2025-06-11 17:41:11,624] Trial 18 finished with value: 0.7252475398243956 and parameters: {'num_leaves': 170}. Best is trial 17 with value: 0.7259728282102987.\n",
      "\n",
      "num_leaves, val_score: 0.725998:  60%|######    | 12/20 [12:27<07:03, 52.98s/it]\u001b[A"
     ]
    },
    {
     "name": "stdout",
     "output_type": "stream",
     "text": [
      "Early stopping, best iteration is:\n",
      "[167]\tvalid's auc: 0.725248 + 0.000943735\n"
     ]
    },
    {
     "name": "stderr",
     "output_type": "stream",
     "text": [
      "D:\\Project\\Python_Source\\Test01\\.venv\\Lib\\site-packages\\sklearn\\model_selection\\_split.py:86: UserWarning: The groups parameter is ignored by KFold\n",
      "  warnings.warn(\n"
     ]
    },
    {
     "name": "stdout",
     "output_type": "stream",
     "text": [
      "Training until validation scores don't improve for 50 rounds\n",
      "[100]\tvalid's auc: 0.723582 + 0.000990453\n",
      "[200]\tvalid's auc: 0.725305 + 0.00092478\n",
      "[300]\tvalid's auc: 0.725679 + 0.00091587\n",
      "[400]\tvalid's auc: 0.725805 + 0.000901754\n"
     ]
    },
    {
     "name": "stderr",
     "output_type": "stream",
     "text": [
      "\n",
      "num_leaves, val_score: 0.725998:  60%|######    | 12/20 [13:24<07:03, 52.98s/it]\u001b[A\n",
      "num_leaves, val_score: 0.725998:  65%|######5   | 13/20 [13:24<06:20, 54.32s/it]\u001b[A[I 2025-06-11 17:42:09,027] Trial 19 finished with value: 0.7258225679319235 and parameters: {'num_leaves': 55}. Best is trial 17 with value: 0.7259728282102987.\n",
      "\n",
      "num_leaves, val_score: 0.725998:  65%|######5   | 13/20 [13:24<06:20, 54.32s/it]\u001b[A"
     ]
    },
    {
     "name": "stdout",
     "output_type": "stream",
     "text": [
      "Early stopping, best iteration is:\n",
      "[408]\tvalid's auc: 0.725823 + 0.000910126\n"
     ]
    },
    {
     "name": "stderr",
     "output_type": "stream",
     "text": [
      "D:\\Project\\Python_Source\\Test01\\.venv\\Lib\\site-packages\\sklearn\\model_selection\\_split.py:86: UserWarning: The groups parameter is ignored by KFold\n",
      "  warnings.warn(\n"
     ]
    },
    {
     "name": "stdout",
     "output_type": "stream",
     "text": [
      "Training until validation scores don't improve for 50 rounds\n",
      "[100]\tvalid's auc: 0.72463 + 0.000839084\n"
     ]
    },
    {
     "name": "stderr",
     "output_type": "stream",
     "text": [
      "\n",
      "num_leaves, val_score: 0.725998:  65%|######5   | 13/20 [14:01<06:20, 54.32s/it]\u001b[A\n",
      "num_leaves, val_score: 0.725998:  70%|#######   | 14/20 [14:01<04:54, 49.04s/it]\u001b[A[I 2025-06-11 17:42:45,866] Trial 20 finished with value: 0.7248648497667743 and parameters: {'num_leaves': 238}. Best is trial 17 with value: 0.7259728282102987.\n",
      "\n",
      "num_leaves, val_score: 0.725998:  70%|#######   | 14/20 [14:01<04:54, 49.04s/it]\u001b[A"
     ]
    },
    {
     "name": "stdout",
     "output_type": "stream",
     "text": [
      "Early stopping, best iteration is:\n",
      "[138]\tvalid's auc: 0.724865 + 0.000775553\n"
     ]
    },
    {
     "name": "stderr",
     "output_type": "stream",
     "text": [
      "D:\\Project\\Python_Source\\Test01\\.venv\\Lib\\site-packages\\sklearn\\model_selection\\_split.py:86: UserWarning: The groups parameter is ignored by KFold\n",
      "  warnings.warn(\n"
     ]
    },
    {
     "name": "stdout",
     "output_type": "stream",
     "text": [
      "Training until validation scores don't improve for 50 rounds\n",
      "[100]\tvalid's auc: 0.723524 + 0.000873842\n",
      "[200]\tvalid's auc: 0.725181 + 0.000801131\n",
      "[300]\tvalid's auc: 0.725677 + 0.000777493\n",
      "[400]\tvalid's auc: 0.725829 + 0.000783394\n",
      "[500]\tvalid's auc: 0.725821 + 0.000773964\n"
     ]
    },
    {
     "name": "stderr",
     "output_type": "stream",
     "text": [
      "\n",
      "num_leaves, val_score: 0.725998:  70%|#######   | 14/20 [15:10<04:54, 49.04s/it]\u001b[A\n",
      "num_leaves, val_score: 0.725998:  75%|#######5  | 15/20 [15:10<04:34, 54.96s/it]\u001b[A[I 2025-06-11 17:43:54,543] Trial 21 finished with value: 0.7258769867531244 and parameters: {'num_leaves': 50}. Best is trial 17 with value: 0.7259728282102987.\n",
      "\n",
      "num_leaves, val_score: 0.725998:  75%|#######5  | 15/20 [15:10<04:34, 54.96s/it]\u001b[A"
     ]
    },
    {
     "name": "stdout",
     "output_type": "stream",
     "text": [
      "Early stopping, best iteration is:\n",
      "[474]\tvalid's auc: 0.725877 + 0.000775616\n"
     ]
    },
    {
     "name": "stderr",
     "output_type": "stream",
     "text": [
      "D:\\Project\\Python_Source\\Test01\\.venv\\Lib\\site-packages\\sklearn\\model_selection\\_split.py:86: UserWarning: The groups parameter is ignored by KFold\n",
      "  warnings.warn(\n"
     ]
    },
    {
     "name": "stdout",
     "output_type": "stream",
     "text": [
      "Training until validation scores don't improve for 50 rounds\n",
      "[100]\tvalid's auc: 0.723401 + 0.000938709\n",
      "[200]\tvalid's auc: 0.725158 + 0.000802348\n",
      "[300]\tvalid's auc: 0.725623 + 0.000858264\n",
      "[400]\tvalid's auc: 0.725816 + 0.00090206\n",
      "[500]\tvalid's auc: 0.725889 + 0.000886053\n"
     ]
    },
    {
     "name": "stderr",
     "output_type": "stream",
     "text": [
      "\n",
      "num_leaves, val_score: 0.725998:  75%|#######5  | 15/20 [16:18<04:34, 54.96s/it]\u001b[A\n",
      "num_leaves, val_score: 0.725998:  80%|########  | 16/20 [16:18<03:56, 59.06s/it]\u001b[A[I 2025-06-11 17:45:03,137] Trial 22 finished with value: 0.7259053796808944 and parameters: {'num_leaves': 49}. Best is trial 17 with value: 0.7259728282102987.\n",
      "\n",
      "num_leaves, val_score: 0.725998:  80%|########  | 16/20 [16:18<03:56, 59.06s/it]\u001b[A"
     ]
    },
    {
     "name": "stdout",
     "output_type": "stream",
     "text": [
      "Early stopping, best iteration is:\n",
      "[493]\tvalid's auc: 0.725905 + 0.000880544\n"
     ]
    },
    {
     "name": "stderr",
     "output_type": "stream",
     "text": [
      "D:\\Project\\Python_Source\\Test01\\.venv\\Lib\\site-packages\\sklearn\\model_selection\\_split.py:86: UserWarning: The groups parameter is ignored by KFold\n",
      "  warnings.warn(\n"
     ]
    },
    {
     "name": "stdout",
     "output_type": "stream",
     "text": [
      "Training until validation scores don't improve for 50 rounds\n",
      "[100]\tvalid's auc: 0.72448 + 0.000932332\n",
      "[200]\tvalid's auc: 0.725372 + 0.000763549\n"
     ]
    },
    {
     "name": "stderr",
     "output_type": "stream",
     "text": [
      "\n",
      "num_leaves, val_score: 0.725998:  80%|########  | 16/20 [16:59<03:56, 59.06s/it]\u001b[A\n",
      "num_leaves, val_score: 0.725998:  85%|########5 | 17/20 [16:59<02:40, 53.47s/it]\u001b[A[I 2025-06-11 17:45:43,598] Trial 23 finished with value: 0.7254127325503994 and parameters: {'num_leaves': 113}. Best is trial 17 with value: 0.7259728282102987.\n",
      "\n",
      "num_leaves, val_score: 0.725998:  85%|########5 | 17/20 [16:59<02:40, 53.47s/it]\u001b[A"
     ]
    },
    {
     "name": "stdout",
     "output_type": "stream",
     "text": [
      "Early stopping, best iteration is:\n",
      "[215]\tvalid's auc: 0.725413 + 0.000773631\n"
     ]
    },
    {
     "name": "stderr",
     "output_type": "stream",
     "text": [
      "D:\\Project\\Python_Source\\Test01\\.venv\\Lib\\site-packages\\sklearn\\model_selection\\_split.py:86: UserWarning: The groups parameter is ignored by KFold\n",
      "  warnings.warn(\n"
     ]
    },
    {
     "name": "stdout",
     "output_type": "stream",
     "text": [
      "Training until validation scores don't improve for 50 rounds\n",
      "[100]\tvalid's auc: 0.724221 + 0.000892406\n",
      "[200]\tvalid's auc: 0.725441 + 0.000797017\n",
      "[300]\tvalid's auc: 0.725646 + 0.000725274\n"
     ]
    },
    {
     "name": "stderr",
     "output_type": "stream",
     "text": [
      "\n",
      "num_leaves, val_score: 0.725998:  85%|########5 | 17/20 [17:47<02:40, 53.47s/it]\u001b[A\n",
      "num_leaves, val_score: 0.725998:  90%|######### | 18/20 [17:47<01:43, 51.97s/it]\u001b[A[I 2025-06-11 17:46:32,074] Trial 24 finished with value: 0.7256703432291444 and parameters: {'num_leaves': 83}. Best is trial 17 with value: 0.7259728282102987.\n",
      "\n",
      "num_leaves, val_score: 0.725998:  90%|######### | 18/20 [17:47<01:43, 51.97s/it]\u001b[A"
     ]
    },
    {
     "name": "stdout",
     "output_type": "stream",
     "text": [
      "Early stopping, best iteration is:\n",
      "[302]\tvalid's auc: 0.72567 + 0.000735794\n"
     ]
    },
    {
     "name": "stderr",
     "output_type": "stream",
     "text": [
      "D:\\Project\\Python_Source\\Test01\\.venv\\Lib\\site-packages\\sklearn\\model_selection\\_split.py:86: UserWarning: The groups parameter is ignored by KFold\n",
      "  warnings.warn(\n"
     ]
    },
    {
     "name": "stdout",
     "output_type": "stream",
     "text": [
      "Training until validation scores don't improve for 50 rounds\n",
      "[100]\tvalid's auc: 0.722821 + 0.00100014\n",
      "[200]\tvalid's auc: 0.724657 + 0.00089298\n",
      "[300]\tvalid's auc: 0.725263 + 0.000849467\n",
      "[400]\tvalid's auc: 0.725665 + 0.000802478\n",
      "[500]\tvalid's auc: 0.725734 + 0.000807431\n",
      "[600]\tvalid's auc: 0.725817 + 0.000808705\n"
     ]
    },
    {
     "name": "stderr",
     "output_type": "stream",
     "text": [
      "\n",
      "num_leaves, val_score: 0.725998:  90%|######### | 18/20 [19:04<01:43, 51.97s/it]\u001b[A\n",
      "num_leaves, val_score: 0.725998:  95%|#########5| 19/20 [19:04<00:59, 59.58s/it]\u001b[A[I 2025-06-11 17:47:49,385] Trial 25 finished with value: 0.7258250801376932 and parameters: {'num_leaves': 37}. Best is trial 17 with value: 0.7259728282102987.\n",
      "\n",
      "num_leaves, val_score: 0.725998:  95%|#########5| 19/20 [19:04<00:59, 59.58s/it]\u001b[A"
     ]
    },
    {
     "name": "stdout",
     "output_type": "stream",
     "text": [
      "Early stopping, best iteration is:\n",
      "[618]\tvalid's auc: 0.725825 + 0.00082223\n"
     ]
    },
    {
     "name": "stderr",
     "output_type": "stream",
     "text": [
      "D:\\Project\\Python_Source\\Test01\\.venv\\Lib\\site-packages\\sklearn\\model_selection\\_split.py:86: UserWarning: The groups parameter is ignored by KFold\n",
      "  warnings.warn(\n"
     ]
    },
    {
     "name": "stdout",
     "output_type": "stream",
     "text": [
      "Training until validation scores don't improve for 50 rounds\n",
      "[100]\tvalid's auc: 0.724612 + 0.0010692\n",
      "[200]\tvalid's auc: 0.72536 + 0.000971752\n"
     ]
    },
    {
     "name": "stderr",
     "output_type": "stream",
     "text": [
      "\n",
      "num_leaves, val_score: 0.725998:  95%|#########5| 19/20 [19:51<00:59, 59.58s/it]\u001b[A\n",
      "num_leaves, val_score: 0.725998: 100%|##########| 20/20 [19:51<00:00, 55.61s/it]\u001b[A[I 2025-06-11 17:48:35,732] Trial 26 finished with value: 0.7253954317194122 and parameters: {'num_leaves': 127}. Best is trial 17 with value: 0.7259728282102987.\n",
      "num_leaves, val_score: 0.725998: 100%|##########| 20/20 [19:51<00:00, 59.57s/it]\n"
     ]
    },
    {
     "name": "stdout",
     "output_type": "stream",
     "text": [
      "Early stopping, best iteration is:\n",
      "[236]\tvalid's auc: 0.725395 + 0.000972468\n"
     ]
    },
    {
     "name": "stderr",
     "output_type": "stream",
     "text": [
      "\n",
      "  0%|                                                    | 0/10 [00:00<?, ?it/s]\u001b[A\n",
      "bagging, val_score: 0.725998:   0%|                      | 0/10 [00:00<?, ?it/s]\u001b[AD:\\Project\\Python_Source\\Test01\\.venv\\Lib\\site-packages\\sklearn\\model_selection\\_split.py:86: UserWarning: The groups parameter is ignored by KFold\n",
      "  warnings.warn(\n"
     ]
    },
    {
     "name": "stdout",
     "output_type": "stream",
     "text": [
      "Training until validation scores don't improve for 50 rounds\n",
      "[100]\tvalid's auc: 0.722208 + 0.000860647\n",
      "[200]\tvalid's auc: 0.724385 + 0.000836984\n",
      "[300]\tvalid's auc: 0.725203 + 0.000798819\n",
      "[400]\tvalid's auc: 0.725476 + 0.00074067\n",
      "[500]\tvalid's auc: 0.725634 + 0.000728437\n",
      "[600]\tvalid's auc: 0.725739 + 0.000723606\n",
      "[700]\tvalid's auc: 0.725818 + 0.000682238\n"
     ]
    },
    {
     "name": "stderr",
     "output_type": "stream",
     "text": [
      "\n",
      "bagging, val_score: 0.725998:   0%|                      | 0/10 [01:45<?, ?it/s]\u001b[A\n",
      "bagging, val_score: 0.725998:  10%|#3           | 1/10 [01:45<15:48, 105.39s/it]\u001b[A[I 2025-06-11 17:50:21,131] Trial 27 finished with value: 0.7258191630323916 and parameters: {'bagging_fraction': 0.8197820684019246, 'bagging_freq': 2}. Best is trial 27 with value: 0.7258191630323916.\n",
      "\n",
      "bagging, val_score: 0.725998:  10%|#3           | 1/10 [01:45<15:48, 105.39s/it]\u001b[A"
     ]
    },
    {
     "name": "stdout",
     "output_type": "stream",
     "text": [
      "Early stopping, best iteration is:\n",
      "[701]\tvalid's auc: 0.725819 + 0.000683568\n"
     ]
    },
    {
     "name": "stderr",
     "output_type": "stream",
     "text": [
      "D:\\Project\\Python_Source\\Test01\\.venv\\Lib\\site-packages\\sklearn\\model_selection\\_split.py:86: UserWarning: The groups parameter is ignored by KFold\n",
      "  warnings.warn(\n"
     ]
    },
    {
     "name": "stdout",
     "output_type": "stream",
     "text": [
      "Training until validation scores don't improve for 50 rounds\n",
      "[100]\tvalid's auc: 0.72172 + 0.00103004\n",
      "[200]\tvalid's auc: 0.723643 + 0.000851013\n",
      "[300]\tvalid's auc: 0.724253 + 0.000896003\n",
      "[400]\tvalid's auc: 0.724352 + 0.000878465\n"
     ]
    },
    {
     "name": "stderr",
     "output_type": "stream",
     "text": [
      "\n",
      "bagging, val_score: 0.725998:  10%|#3           | 1/10 [03:05<15:48, 105.39s/it]\u001b[A\n",
      "bagging, val_score: 0.725998:  20%|##8           | 2/10 [03:05<12:04, 90.61s/it]\u001b[A[I 2025-06-11 17:51:41,393] Trial 28 finished with value: 0.7243898567806403 and parameters: {'bagging_fraction': 0.407370720326096, 'bagging_freq': 7}. Best is trial 27 with value: 0.7258191630323916.\n",
      "bagging, val_score: 0.725998:  20%|##8           | 2/10 [03:05<12:22, 92.83s/it]\n"
     ]
    },
    {
     "name": "stdout",
     "output_type": "stream",
     "text": [
      "Early stopping, best iteration is:\n",
      "[427]\tvalid's auc: 0.72439 + 0.000809899\n"
     ]
    },
    {
     "name": "stderr",
     "output_type": "stream",
     "text": [
      "\n",
      "  0%|                                                     | 0/3 [00:00<?, ?it/s]\u001b[A\n",
      "\n",
      "  0%|                                                    | 0/20 [00:00<?, ?it/s]\u001b[A\n",
      "\n",
      "  0%|                                                     | 0/5 [00:00<?, ?it/s]\u001b[A\n"
     ]
    },
    {
     "name": "stdout",
     "output_type": "stream",
     "text": [
      "Training until validation scores don't improve for 50 rounds\n",
      "[100]\tvalid_0's auc: 0.716876\n",
      "[200]\tvalid_0's auc: 0.720413\n",
      "[300]\tvalid_0's auc: 0.721637\n",
      "[400]\tvalid_0's auc: 0.722115\n",
      "[500]\tvalid_0's auc: 0.7225\n",
      "[600]\tvalid_0's auc: 0.722726\n",
      "[700]\tvalid_0's auc: 0.722815\n",
      "Early stopping, best iteration is:\n",
      "[690]\tvalid_0's auc: 0.722892\n",
      "✅ Final AUROC: 0.7229\n"
     ]
    }
   ],
   "source": [
    "# 📌 1. 라이브러리 로드\n",
    "import pandas as pd\n",
    "import numpy as np\n",
    "import lightgbm as lgb\n",
    "import optuna.integration.lightgbm as lgb_optuna\n",
    "from sklearn.metrics import roc_auc_score\n",
    "from sklearn.preprocessing import LabelEncoder\n",
    "from sklearn.model_selection import KFold\n",
    "\n",
    "# 📌 3. LightGBM Dataset 생성\n",
    "dtrain = lgb.Dataset(X_train, label=y_train)\n",
    "dvalid = lgb.Dataset(X_test, label=y_test)\n",
    "\n",
    "# 기본 파라미터 설정\n",
    "params = {\n",
    "    \"objective\": \"binary\",\n",
    "    \"metric\": \"auc\",\n",
    "    \"verbosity\": -1,\n",
    "    \"boosting_type\": \"gbdt\",\n",
    "    \"n_jobs\": -1,\n",
    "}\n",
    "\n",
    "folds = KFold(n_splits=5, shuffle=True, random_state=42)\n",
    "\n",
    "tuner = lgb_optuna.LightGBMTunerCV(\n",
    "    params,\n",
    "    train_set=dtrain,\n",
    "    folds=folds,  # 정수가 아닌 KFold 객체를 넘김\n",
    "    num_boost_round=1000,\n",
    "    time_budget=1800,\n",
    "    seed=42,\n",
    "    callbacks=[\n",
    "        lgb.early_stopping(stopping_rounds=50),\n",
    "        lgb.log_evaluation(period=100)\n",
    "    ]\n",
    ")\n",
    "\n",
    "tuner.run()\n",
    "\n",
    "best_params = tuner.best_params\n",
    "best_params.update({\n",
    "    \"objective\": \"binary\",\n",
    "    \"metric\": \"auc\",\n",
    "    \"verbosity\": -1,\n",
    "})\n",
    "\n",
    "final_model = lgb.train(\n",
    "    best_params,\n",
    "    train_set=dtrain,\n",
    "    valid_sets=[dvalid],\n",
    "    num_boost_round=1000,\n",
    "    callbacks=[\n",
    "        lgb.early_stopping(stopping_rounds=50),\n",
    "        lgb.log_evaluation(period=100)\n",
    "    ]\n",
    ")\n",
    "\n",
    "y_pred = final_model.predict(X_test)\n",
    "auc = roc_auc_score(y_test, y_pred)\n",
    "print(f\"✅ Final AUROC: {auc:.4f}\")"
   ]
  },
  {
   "cell_type": "code",
   "execution_count": null,
   "id": "9d08febb-7104-4d66-b038-347c20491d61",
   "metadata": {},
   "outputs": [],
   "source": []
  },
  {
   "cell_type": "code",
   "execution_count": null,
   "id": "319ecaca-7013-4994-9cf0-5ad047a81ecc",
   "metadata": {},
   "outputs": [],
   "source": []
  },
  {
   "cell_type": "code",
   "execution_count": null,
   "id": "f5bcd687-0ccd-4de3-a14d-22b9e2d3d067",
   "metadata": {},
   "outputs": [],
   "source": []
  },
  {
   "cell_type": "code",
   "execution_count": 175,
   "id": "574395ab-3f68-4d51-ad63-7d7acb40a636",
   "metadata": {},
   "outputs": [
    {
     "name": "stderr",
     "output_type": "stream",
     "text": [
      "[I 2025-06-12 00:00:58,529] A new study created in memory with name: no-name-8eb3fbef-c27d-4a99-ba64-c2c1f38ea072\n",
      "\n",
      "\n",
      "  0%|                                                     | 0/7 [00:00<?, ?it/s]\u001b[A\u001b[A\n",
      "\n",
      "feature_fraction, val_score: -inf:   0%|                  | 0/7 [00:00<?, ?it/s]\u001b[A\u001b[AD:\\Project\\Python_Source\\Test01\\.venv\\Lib\\site-packages\\sklearn\\model_selection\\_split.py:86: UserWarning: The groups parameter is ignored by KFold\n",
      "  warnings.warn(\n"
     ]
    },
    {
     "name": "stdout",
     "output_type": "stream",
     "text": [
      "Training until validation scores don't improve for 50 rounds\n",
      "[100]\tvalid's auc: 0.72279 + 0.000926411\n",
      "[200]\tvalid's auc: 0.724163 + 0.000971979\n",
      "[300]\tvalid's auc: 0.724543 + 0.000925076\n",
      "[400]\tvalid's auc: 0.724904 + 0.000988126\n",
      "[500]\tvalid's auc: 0.725101 + 0.00100655\n",
      "[600]\tvalid's auc: 0.725246 + 0.000942584\n"
     ]
    },
    {
     "name": "stderr",
     "output_type": "stream",
     "text": [
      "\n",
      "\n",
      "feature_fraction, val_score: 0.725285:   0%|              | 0/7 [01:02<?, ?it/s]\u001b[A\u001b[A\n",
      "\n",
      "feature_fraction, val_score: 0.725285:  14%|8     | 1/7 [01:02<06:15, 62.55s/it]\u001b[A\u001b[A[I 2025-06-12 00:02:01,092] Trial 0 finished with value: 0.725285196828913 and parameters: {'feature_fraction': 1.0}. Best is trial 0 with value: 0.725285196828913.\n",
      "\n",
      "\n",
      "feature_fraction, val_score: 0.725285:  14%|8     | 1/7 [01:02<06:15, 62.55s/it]\u001b[A\u001b[A"
     ]
    },
    {
     "name": "stdout",
     "output_type": "stream",
     "text": [
      "Early stopping, best iteration is:\n",
      "[643]\tvalid's auc: 0.725285 + 0.00093896\n"
     ]
    },
    {
     "name": "stderr",
     "output_type": "stream",
     "text": [
      "D:\\Project\\Python_Source\\Test01\\.venv\\Lib\\site-packages\\sklearn\\model_selection\\_split.py:86: UserWarning: The groups parameter is ignored by KFold\n",
      "  warnings.warn(\n"
     ]
    },
    {
     "name": "stdout",
     "output_type": "stream",
     "text": [
      "Training until validation scores don't improve for 50 rounds\n",
      "[100]\tvalid's auc: 0.722681 + 0.000975909\n",
      "[200]\tvalid's auc: 0.724431 + 0.000960189\n",
      "[300]\tvalid's auc: 0.725021 + 0.000856499\n",
      "[400]\tvalid's auc: 0.725375 + 0.000812395\n",
      "[500]\tvalid's auc: 0.725597 + 0.000865466\n",
      "[600]\tvalid's auc: 0.725816 + 0.000826896\n"
     ]
    },
    {
     "name": "stderr",
     "output_type": "stream",
     "text": [
      "\n",
      "\n",
      "feature_fraction, val_score: 0.725835:  14%|8     | 1/7 [02:05<06:15, 62.55s/it]\u001b[A\u001b[A\n",
      "\n",
      "feature_fraction, val_score: 0.725835:  29%|#7    | 2/7 [02:05<05:13, 62.66s/it]\u001b[A\u001b[A[I 2025-06-12 00:03:03,823] Trial 1 finished with value: 0.7258353603402894 and parameters: {'feature_fraction': 0.6}. Best is trial 1 with value: 0.7258353603402894.\n",
      "\n",
      "\n",
      "feature_fraction, val_score: 0.725835:  29%|#7    | 2/7 [02:05<05:13, 62.66s/it]\u001b[A\u001b[A"
     ]
    },
    {
     "name": "stdout",
     "output_type": "stream",
     "text": [
      "Early stopping, best iteration is:\n",
      "[619]\tvalid's auc: 0.725835 + 0.00082252\n"
     ]
    },
    {
     "name": "stderr",
     "output_type": "stream",
     "text": [
      "D:\\Project\\Python_Source\\Test01\\.venv\\Lib\\site-packages\\sklearn\\model_selection\\_split.py:86: UserWarning: The groups parameter is ignored by KFold\n",
      "  warnings.warn(\n"
     ]
    },
    {
     "name": "stdout",
     "output_type": "stream",
     "text": [
      "Training until validation scores don't improve for 50 rounds\n",
      "[100]\tvalid's auc: 0.722481 + 0.00080659\n",
      "[200]\tvalid's auc: 0.724413 + 0.000836836\n",
      "[300]\tvalid's auc: 0.724987 + 0.000905878\n",
      "[400]\tvalid's auc: 0.725405 + 0.000917205\n",
      "[500]\tvalid's auc: 0.725499 + 0.000875624\n",
      "[600]\tvalid's auc: 0.725642 + 0.000868436\n",
      "[700]\tvalid's auc: 0.725742 + 0.000874528\n"
     ]
    },
    {
     "name": "stderr",
     "output_type": "stream",
     "text": [
      "\n",
      "\n",
      "feature_fraction, val_score: 0.725835:  29%|#7    | 2/7 [03:26<05:13, 62.66s/it]\u001b[A\u001b[A\n",
      "\n",
      "feature_fraction, val_score: 0.725835:  43%|##5   | 3/7 [03:26<04:44, 71.24s/it]\u001b[A\u001b[A[I 2025-06-12 00:04:25,273] Trial 2 finished with value: 0.7257612881514042 and parameters: {'feature_fraction': 0.5}. Best is trial 1 with value: 0.7258353603402894.\n",
      "\n",
      "\n",
      "feature_fraction, val_score: 0.725835:  43%|##5   | 3/7 [03:26<04:44, 71.24s/it]\u001b[A\u001b[A"
     ]
    },
    {
     "name": "stdout",
     "output_type": "stream",
     "text": [
      "Early stopping, best iteration is:\n",
      "[721]\tvalid's auc: 0.725761 + 0.000879472\n"
     ]
    },
    {
     "name": "stderr",
     "output_type": "stream",
     "text": [
      "D:\\Project\\Python_Source\\Test01\\.venv\\Lib\\site-packages\\sklearn\\model_selection\\_split.py:86: UserWarning: The groups parameter is ignored by KFold\n",
      "  warnings.warn(\n"
     ]
    },
    {
     "name": "stdout",
     "output_type": "stream",
     "text": [
      "Training until validation scores don't improve for 50 rounds\n",
      "[100]\tvalid's auc: 0.722674 + 0.000928094\n",
      "[200]\tvalid's auc: 0.724443 + 0.000935639\n",
      "[300]\tvalid's auc: 0.724939 + 0.00102442\n",
      "[400]\tvalid's auc: 0.725203 + 0.00107804\n",
      "[500]\tvalid's auc: 0.725343 + 0.000952864\n",
      "[600]\tvalid's auc: 0.725544 + 0.000931936\n"
     ]
    },
    {
     "name": "stderr",
     "output_type": "stream",
     "text": [
      "\n",
      "\n",
      "feature_fraction, val_score: 0.725835:  43%|##5   | 3/7 [04:38<04:44, 71.24s/it]\u001b[A\u001b[A\n",
      "\n",
      "feature_fraction, val_score: 0.725835:  57%|###4  | 4/7 [04:38<03:34, 71.53s/it]\u001b[A\u001b[A[I 2025-06-12 00:05:37,243] Trial 3 finished with value: 0.7255754335923765 and parameters: {'feature_fraction': 0.7}. Best is trial 1 with value: 0.7258353603402894.\n",
      "\n",
      "\n",
      "feature_fraction, val_score: 0.725835:  57%|###4  | 4/7 [04:38<03:34, 71.53s/it]\u001b[A\u001b[A"
     ]
    },
    {
     "name": "stdout",
     "output_type": "stream",
     "text": [
      "Early stopping, best iteration is:\n",
      "[631]\tvalid's auc: 0.725575 + 0.000951896\n"
     ]
    },
    {
     "name": "stderr",
     "output_type": "stream",
     "text": [
      "D:\\Project\\Python_Source\\Test01\\.venv\\Lib\\site-packages\\sklearn\\model_selection\\_split.py:86: UserWarning: The groups parameter is ignored by KFold\n",
      "  warnings.warn(\n"
     ]
    },
    {
     "name": "stdout",
     "output_type": "stream",
     "text": [
      "Training until validation scores don't improve for 50 rounds\n",
      "[100]\tvalid's auc: 0.722328 + 0.000931591\n",
      "[200]\tvalid's auc: 0.724422 + 0.000845748\n",
      "[300]\tvalid's auc: 0.725171 + 0.000795984\n",
      "[400]\tvalid's auc: 0.725498 + 0.000811814\n",
      "[500]\tvalid's auc: 0.725733 + 0.000857093\n",
      "[600]\tvalid's auc: 0.725877 + 0.000826164\n",
      "[700]\tvalid's auc: 0.725987 + 0.000797927\n"
     ]
    },
    {
     "name": "stderr",
     "output_type": "stream",
     "text": [
      "\n",
      "\n",
      "feature_fraction, val_score: 0.725998:  57%|###4  | 4/7 [06:07<03:34, 71.53s/it]\u001b[A\u001b[A\n",
      "\n",
      "feature_fraction, val_score: 0.725998:  71%|####2 | 5/7 [06:07<02:35, 77.63s/it]\u001b[A\u001b[A[I 2025-06-12 00:07:05,688] Trial 4 finished with value: 0.725998237796092 and parameters: {'feature_fraction': 0.4}. Best is trial 4 with value: 0.725998237796092.\n",
      "\n",
      "\n",
      "feature_fraction, val_score: 0.725998:  71%|####2 | 5/7 [06:07<02:35, 77.63s/it]\u001b[A\u001b[A"
     ]
    },
    {
     "name": "stdout",
     "output_type": "stream",
     "text": [
      "Early stopping, best iteration is:\n",
      "[709]\tvalid's auc: 0.725998 + 0.000783882\n"
     ]
    },
    {
     "name": "stderr",
     "output_type": "stream",
     "text": [
      "D:\\Project\\Python_Source\\Test01\\.venv\\Lib\\site-packages\\sklearn\\model_selection\\_split.py:86: UserWarning: The groups parameter is ignored by KFold\n",
      "  warnings.warn(\n"
     ]
    },
    {
     "name": "stdout",
     "output_type": "stream",
     "text": [
      "Training until validation scores don't improve for 50 rounds\n",
      "[100]\tvalid's auc: 0.722604 + 0.000964434\n",
      "[200]\tvalid's auc: 0.72422 + 0.000979852\n",
      "[300]\tvalid's auc: 0.724673 + 0.0010739\n",
      "[400]\tvalid's auc: 0.724952 + 0.00105733\n",
      "[500]\tvalid's auc: 0.725079 + 0.00105854\n",
      "[600]\tvalid's auc: 0.725237 + 0.00101665\n",
      "[700]\tvalid's auc: 0.725287 + 0.000950554\n"
     ]
    },
    {
     "name": "stderr",
     "output_type": "stream",
     "text": [
      "\n",
      "\n",
      "feature_fraction, val_score: 0.725998:  71%|####2 | 5/7 [07:11<02:35, 77.63s/it]\u001b[A\u001b[A\n",
      "\n",
      "feature_fraction, val_score: 0.725998:  86%|#####1| 6/7 [07:11<01:13, 73.18s/it]\u001b[A\u001b[A[I 2025-06-12 00:08:10,245] Trial 5 finished with value: 0.7253034036821414 and parameters: {'feature_fraction': 0.8999999999999999}. Best is trial 4 with value: 0.725998237796092.\n",
      "\n",
      "\n",
      "feature_fraction, val_score: 0.725998:  86%|#####1| 6/7 [07:11<01:13, 73.18s/it]\u001b[A\u001b[A"
     ]
    },
    {
     "name": "stdout",
     "output_type": "stream",
     "text": [
      "Early stopping, best iteration is:\n",
      "[664]\tvalid's auc: 0.725303 + 0.000980108\n"
     ]
    },
    {
     "name": "stderr",
     "output_type": "stream",
     "text": [
      "D:\\Project\\Python_Source\\Test01\\.venv\\Lib\\site-packages\\sklearn\\model_selection\\_split.py:86: UserWarning: The groups parameter is ignored by KFold\n",
      "  warnings.warn(\n"
     ]
    },
    {
     "name": "stdout",
     "output_type": "stream",
     "text": [
      "Training until validation scores don't improve for 50 rounds\n",
      "[100]\tvalid's auc: 0.72282 + 0.000828165\n",
      "[200]\tvalid's auc: 0.72441 + 0.000909216\n",
      "[300]\tvalid's auc: 0.724837 + 0.000817687\n",
      "[400]\tvalid's auc: 0.725102 + 0.000836248\n",
      "[500]\tvalid's auc: 0.725311 + 0.000917769\n"
     ]
    },
    {
     "name": "stderr",
     "output_type": "stream",
     "text": [
      "\n",
      "\n",
      "feature_fraction, val_score: 0.725998:  86%|#####1| 6/7 [08:08<01:13, 73.18s/it]\u001b[A\u001b[A\n",
      "\n",
      "feature_fraction, val_score: 0.725998: 100%|######| 7/7 [08:08<00:00, 67.69s/it]\u001b[A\u001b[A[I 2025-06-12 00:09:06,628] Trial 6 finished with value: 0.7253558681789211 and parameters: {'feature_fraction': 0.8}. Best is trial 4 with value: 0.725998237796092.\n",
      "feature_fraction, val_score: 0.725998: 100%|######| 7/7 [08:08<00:00, 69.73s/it]\n"
     ]
    },
    {
     "name": "stdout",
     "output_type": "stream",
     "text": [
      "Early stopping, best iteration is:\n",
      "[537]\tvalid's auc: 0.725356 + 0.000934328\n"
     ]
    },
    {
     "name": "stderr",
     "output_type": "stream",
     "text": [
      "\n",
      "\n",
      "  0%|                                                    | 0/20 [00:00<?, ?it/s]\u001b[A\u001b[A\n",
      "\n",
      "num_leaves, val_score: 0.725998:   0%|                   | 0/20 [00:00<?, ?it/s]\u001b[A\u001b[AD:\\Project\\Python_Source\\Test01\\.venv\\Lib\\site-packages\\sklearn\\model_selection\\_split.py:86: UserWarning: The groups parameter is ignored by KFold\n",
      "  warnings.warn(\n"
     ]
    },
    {
     "name": "stdout",
     "output_type": "stream",
     "text": [
      "Training until validation scores don't improve for 50 rounds\n",
      "[100]\tvalid's auc: 0.724007 + 0.00088109\n",
      "[200]\tvalid's auc: 0.725381 + 0.000832978\n",
      "[300]\tvalid's auc: 0.725652 + 0.00075587\n",
      "[400]\tvalid's auc: 0.725708 + 0.000628491\n"
     ]
    },
    {
     "name": "stderr",
     "output_type": "stream",
     "text": [
      "\n",
      "\n",
      "num_leaves, val_score: 0.725998:   0%|                   | 0/20 [01:00<?, ?it/s]\u001b[A\u001b[A\n",
      "\n",
      "num_leaves, val_score: 0.725998:   5%|5          | 1/20 [01:00<19:08, 60.46s/it]\u001b[A\u001b[A[I 2025-06-12 00:10:07,094] Trial 7 finished with value: 0.7257290627459765 and parameters: {'num_leaves': 73}. Best is trial 7 with value: 0.7257290627459765.\n",
      "\n",
      "\n",
      "num_leaves, val_score: 0.725998:   5%|5          | 1/20 [01:00<19:08, 60.46s/it]\u001b[A\u001b[A"
     ]
    },
    {
     "name": "stdout",
     "output_type": "stream",
     "text": [
      "Early stopping, best iteration is:\n",
      "[407]\tvalid's auc: 0.725729 + 0.000646353\n"
     ]
    },
    {
     "name": "stderr",
     "output_type": "stream",
     "text": [
      "D:\\Project\\Python_Source\\Test01\\.venv\\Lib\\site-packages\\sklearn\\model_selection\\_split.py:86: UserWarning: The groups parameter is ignored by KFold\n",
      "  warnings.warn(\n"
     ]
    },
    {
     "name": "stdout",
     "output_type": "stream",
     "text": [
      "Training until validation scores don't improve for 50 rounds\n",
      "[100]\tvalid's auc: 0.724506 + 0.000907159\n"
     ]
    },
    {
     "name": "stderr",
     "output_type": "stream",
     "text": [
      "\n",
      "\n",
      "num_leaves, val_score: 0.725998:   5%|5          | 1/20 [01:36<19:08, 60.46s/it]\u001b[A\u001b[A\n",
      "\n",
      "num_leaves, val_score: 0.725998:  10%|#1         | 2/20 [01:36<13:52, 46.24s/it]\u001b[A\u001b[A[I 2025-06-12 00:10:43,387] Trial 8 finished with value: 0.7247625291175848 and parameters: {'num_leaves': 245}. Best is trial 7 with value: 0.7257290627459765.\n",
      "\n",
      "\n",
      "num_leaves, val_score: 0.725998:  10%|#1         | 2/20 [01:36<13:52, 46.24s/it]\u001b[A\u001b[A"
     ]
    },
    {
     "name": "stdout",
     "output_type": "stream",
     "text": [
      "Early stopping, best iteration is:\n",
      "[136]\tvalid's auc: 0.724763 + 0.0008725\n"
     ]
    },
    {
     "name": "stderr",
     "output_type": "stream",
     "text": [
      "D:\\Project\\Python_Source\\Test01\\.venv\\Lib\\site-packages\\sklearn\\model_selection\\_split.py:86: UserWarning: The groups parameter is ignored by KFold\n",
      "  warnings.warn(\n"
     ]
    },
    {
     "name": "stdout",
     "output_type": "stream",
     "text": [
      "Training until validation scores don't improve for 50 rounds\n",
      "[100]\tvalid's auc: 0.724671 + 0.000796126\n",
      "[200]\tvalid's auc: 0.724965 + 0.000790185\n"
     ]
    },
    {
     "name": "stderr",
     "output_type": "stream",
     "text": [
      "\n",
      "\n",
      "num_leaves, val_score: 0.725998:  10%|#1         | 2/20 [02:16<13:52, 46.24s/it]\u001b[A\u001b[A\n",
      "\n",
      "num_leaves, val_score: 0.725998:  15%|#6         | 3/20 [02:16<12:14, 43.19s/it]\u001b[A\u001b[A[I 2025-06-12 00:11:22,937] Trial 9 finished with value: 0.7250289268169551 and parameters: {'num_leaves': 226}. Best is trial 7 with value: 0.7257290627459765.\n",
      "\n",
      "\n",
      "num_leaves, val_score: 0.725998:  15%|#6         | 3/20 [02:16<12:14, 43.19s/it]\u001b[A\u001b[A"
     ]
    },
    {
     "name": "stdout",
     "output_type": "stream",
     "text": [
      "Early stopping, best iteration is:\n",
      "[158]\tvalid's auc: 0.725029 + 0.000713929\n"
     ]
    },
    {
     "name": "stderr",
     "output_type": "stream",
     "text": [
      "D:\\Project\\Python_Source\\Test01\\.venv\\Lib\\site-packages\\sklearn\\model_selection\\_split.py:86: UserWarning: The groups parameter is ignored by KFold\n",
      "  warnings.warn(\n"
     ]
    },
    {
     "name": "stdout",
     "output_type": "stream",
     "text": [
      "Training until validation scores don't improve for 50 rounds\n",
      "[100]\tvalid's auc: 0.717765 + 0.000926496\n",
      "[200]\tvalid's auc: 0.720757 + 0.000790346\n",
      "[300]\tvalid's auc: 0.7221 + 0.000781627\n",
      "[400]\tvalid's auc: 0.722934 + 0.000795345\n",
      "[500]\tvalid's auc: 0.723472 + 0.000785065\n",
      "[600]\tvalid's auc: 0.723944 + 0.000780545\n",
      "[700]\tvalid's auc: 0.724301 + 0.000717272\n",
      "[800]\tvalid's auc: 0.72469 + 0.000714247\n",
      "[900]\tvalid's auc: 0.72495 + 0.000666015\n"
     ]
    },
    {
     "name": "stderr",
     "output_type": "stream",
     "text": [
      "\n",
      "\n",
      "num_leaves, val_score: 0.725998:  15%|#6         | 3/20 [04:04<12:14, 43.19s/it]\u001b[A\u001b[A\n",
      "\n",
      "num_leaves, val_score: 0.725998:  20%|##2        | 4/20 [04:04<18:22, 68.91s/it]\u001b[A\u001b[A[I 2025-06-12 00:13:11,295] Trial 10 finished with value: 0.7251567200373576 and parameters: {'num_leaves': 9}. Best is trial 7 with value: 0.7257290627459765.\n",
      "\n",
      "\n",
      "num_leaves, val_score: 0.725998:  20%|##2        | 4/20 [04:04<18:22, 68.91s/it]\u001b[A\u001b[A"
     ]
    },
    {
     "name": "stdout",
     "output_type": "stream",
     "text": [
      "[1000]\tvalid's auc: 0.725157 + 0.000647708\n",
      "Did not meet early stopping. Best iteration is:\n",
      "[1000]\tvalid's auc: 0.725157 + 0.000647708\n"
     ]
    },
    {
     "name": "stderr",
     "output_type": "stream",
     "text": [
      "D:\\Project\\Python_Source\\Test01\\.venv\\Lib\\site-packages\\sklearn\\model_selection\\_split.py:86: UserWarning: The groups parameter is ignored by KFold\n",
      "  warnings.warn(\n"
     ]
    },
    {
     "name": "stdout",
     "output_type": "stream",
     "text": [
      "Training until validation scores don't improve for 50 rounds\n",
      "[100]\tvalid's auc: 0.724661 + 0.00084431\n",
      "[200]\tvalid's auc: 0.725292 + 0.000652926\n"
     ]
    },
    {
     "name": "stderr",
     "output_type": "stream",
     "text": [
      "\n",
      "\n",
      "num_leaves, val_score: 0.725998:  20%|##2        | 4/20 [04:50<18:22, 68.91s/it]\u001b[A\u001b[A\n",
      "\n",
      "num_leaves, val_score: 0.725998:  25%|##7        | 5/20 [04:50<15:09, 60.66s/it]\u001b[A\u001b[A[I 2025-06-12 00:13:57,317] Trial 11 finished with value: 0.7253134985261982 and parameters: {'num_leaves': 138}. Best is trial 7 with value: 0.7257290627459765.\n",
      "\n",
      "\n",
      "num_leaves, val_score: 0.725998:  25%|##7        | 5/20 [04:50<15:09, 60.66s/it]\u001b[A\u001b[A"
     ]
    },
    {
     "name": "stdout",
     "output_type": "stream",
     "text": [
      "Early stopping, best iteration is:\n",
      "[194]\tvalid's auc: 0.725313 + 0.000638438\n"
     ]
    },
    {
     "name": "stderr",
     "output_type": "stream",
     "text": [
      "D:\\Project\\Python_Source\\Test01\\.venv\\Lib\\site-packages\\sklearn\\model_selection\\_split.py:86: UserWarning: The groups parameter is ignored by KFold\n",
      "  warnings.warn(\n"
     ]
    },
    {
     "name": "stdout",
     "output_type": "stream",
     "text": [
      "Training until validation scores don't improve for 50 rounds\n",
      "[100]\tvalid's auc: 0.724679 + 0.000895089\n",
      "[200]\tvalid's auc: 0.725359 + 0.000780084\n"
     ]
    },
    {
     "name": "stderr",
     "output_type": "stream",
     "text": [
      "\n",
      "\n",
      "num_leaves, val_score: 0.725998:  25%|##7        | 5/20 [05:37<15:09, 60.66s/it]\u001b[A\u001b[A\n",
      "\n",
      "num_leaves, val_score: 0.725998:  30%|###3       | 6/20 [05:37<13:05, 56.07s/it]\u001b[A\u001b[A[I 2025-06-12 00:14:44,482] Trial 12 finished with value: 0.7253949511504498 and parameters: {'num_leaves': 156}. Best is trial 7 with value: 0.7257290627459765.\n",
      "\n",
      "\n",
      "num_leaves, val_score: 0.725998:  30%|###3       | 6/20 [05:37<13:05, 56.07s/it]\u001b[A\u001b[A"
     ]
    },
    {
     "name": "stdout",
     "output_type": "stream",
     "text": [
      "Early stopping, best iteration is:\n",
      "[189]\tvalid's auc: 0.725395 + 0.000756269\n"
     ]
    },
    {
     "name": "stderr",
     "output_type": "stream",
     "text": [
      "D:\\Project\\Python_Source\\Test01\\.venv\\Lib\\site-packages\\sklearn\\model_selection\\_split.py:86: UserWarning: The groups parameter is ignored by KFold\n",
      "  warnings.warn(\n"
     ]
    },
    {
     "name": "stdout",
     "output_type": "stream",
     "text": [
      "Training until validation scores don't improve for 50 rounds\n",
      "[100]\tvalid's auc: 0.712241 + 0.000895821\n",
      "[200]\tvalid's auc: 0.715982 + 0.000890503\n",
      "[300]\tvalid's auc: 0.71761 + 0.000888935\n",
      "[400]\tvalid's auc: 0.718811 + 0.000862879\n",
      "[500]\tvalid's auc: 0.719702 + 0.000841036\n",
      "[600]\tvalid's auc: 0.720459 + 0.00082668\n",
      "[700]\tvalid's auc: 0.721009 + 0.000743525\n",
      "[800]\tvalid's auc: 0.721515 + 0.000765859\n",
      "[900]\tvalid's auc: 0.721977 + 0.00077272\n"
     ]
    },
    {
     "name": "stderr",
     "output_type": "stream",
     "text": [
      "\n",
      "\n",
      "num_leaves, val_score: 0.725998:  30%|###3       | 6/20 [07:29<13:05, 56.07s/it]\u001b[A\u001b[A\n",
      "\n",
      "num_leaves, val_score: 0.725998:  35%|###8       | 7/20 [07:29<16:03, 74.14s/it]\u001b[A\u001b[A[I 2025-06-12 00:16:35,836] Trial 13 finished with value: 0.722318973894534 and parameters: {'num_leaves': 4}. Best is trial 7 with value: 0.7257290627459765.\n",
      "num_leaves, val_score: 0.725998:  35%|###8       | 7/20 [07:29<13:54, 64.17s/it]\n"
     ]
    },
    {
     "name": "stdout",
     "output_type": "stream",
     "text": [
      "[1000]\tvalid's auc: 0.722319 + 0.000799249\n",
      "Did not meet early stopping. Best iteration is:\n",
      "[1000]\tvalid's auc: 0.722319 + 0.000799249\n"
     ]
    },
    {
     "name": "stderr",
     "output_type": "stream",
     "text": [
      "\n",
      "\n",
      "  0%|                                                    | 0/10 [00:00<?, ?it/s]\u001b[A\u001b[A\n",
      "\n",
      "\n",
      "  0%|                                                     | 0/3 [00:00<?, ?it/s]\u001b[A\u001b[A\n",
      "\n",
      "\n",
      "  0%|                                                    | 0/20 [00:00<?, ?it/s]\u001b[A\u001b[A\n",
      "\n",
      "\n",
      "  0%|                                                     | 0/5 [00:00<?, ?it/s]\u001b[A\u001b[A"
     ]
    },
    {
     "name": "stdout",
     "output_type": "stream",
     "text": [
      "🔍 Best hyperparameters:\n",
      "  objective: binary\n",
      "  metric: auc\n",
      "  verbosity: -1\n",
      "  boosting_type: gbdt\n",
      "  n_jobs: -1\n",
      "  feature_pre_filter: False\n",
      "  lambda_l1: 0.0\n",
      "  lambda_l2: 0.0\n",
      "  num_leaves: 31\n",
      "  feature_fraction: 0.4\n",
      "  bagging_fraction: 1.0\n",
      "  bagging_freq: 0\n",
      "  min_child_samples: 20\n",
      "🏆 Best CV AUROC: 0.7260\n"
     ]
    },
    {
     "name": "stderr",
     "output_type": "stream",
     "text": [
      "\n"
     ]
    },
    {
     "name": "stdout",
     "output_type": "stream",
     "text": [
      "Training until validation scores don't improve for 50 rounds\n",
      "[100]\tvalid_0's auc: 0.716876\n",
      "[200]\tvalid_0's auc: 0.720413\n",
      "[300]\tvalid_0's auc: 0.721637\n",
      "[400]\tvalid_0's auc: 0.722115\n",
      "[500]\tvalid_0's auc: 0.7225\n",
      "[600]\tvalid_0's auc: 0.722726\n",
      "[700]\tvalid_0's auc: 0.722815\n",
      "Early stopping, best iteration is:\n",
      "[690]\tvalid_0's auc: 0.722892\n",
      "✅ Final AUROC: 0.7229\n"
     ]
    }
   ],
   "source": [
    "# 📌 1. 라이브러리 로드\n",
    "import pandas as pd\n",
    "import numpy as np\n",
    "import lightgbm as lgb\n",
    "import optuna.integration.lightgbm as lgb_optuna\n",
    "from sklearn.metrics import roc_auc_score\n",
    "from sklearn.preprocessing import LabelEncoder\n",
    "from sklearn.model_selection import KFold\n",
    "\n",
    "# 📌 2. LightGBM Dataset 생성\n",
    "dtrain = lgb.Dataset(X_train, label=y_train)\n",
    "dvalid = lgb.Dataset(X_test, label=y_test)\n",
    "\n",
    "# 📌 3. 기본 파라미터 설정\n",
    "params = {\n",
    "    \"objective\": \"binary\",\n",
    "    \"metric\": \"auc\",\n",
    "    \"verbosity\": -1,\n",
    "    \"boosting_type\": \"gbdt\",\n",
    "    \"n_jobs\": -1,\n",
    "}\n",
    "\n",
    "folds = KFold(n_splits=5, shuffle=True, random_state=42)\n",
    "\n",
    "# 📌 4. 튜너 생성 및 실행\n",
    "tuner = lgb_optuna.LightGBMTunerCV(\n",
    "    params,\n",
    "    train_set=dtrain,\n",
    "    folds=folds,\n",
    "    num_boost_round=1000,\n",
    "    time_budget=900,  # ⏱️ 15분 제한\n",
    "    seed=42,\n",
    "    callbacks=[\n",
    "        lgb.early_stopping(stopping_rounds=50),\n",
    "        lgb.log_evaluation(period=100)\n",
    "    ]\n",
    ")\n",
    "\n",
    "try:\n",
    "    tuner.run()\n",
    "except KeyboardInterrupt:\n",
    "    print(\"⏹️ 하이퍼파라미터 튜닝이 중간에 중단되었습니다.\")\n",
    "\n",
    "# 📌 5. 최고 성능 파라미터 및 점수 출력 (중단 시에도 보장됨)\n",
    "best_params = tuner.best_params\n",
    "best_params.update({\n",
    "    \"objective\": \"binary\",\n",
    "    \"metric\": \"auc\",\n",
    "    \"verbosity\": -1,\n",
    "})\n",
    "\n",
    "print(\"🔍 Best hyperparameters:\")\n",
    "for k, v in best_params.items():\n",
    "    print(f\"  {k}: {v}\")\n",
    "print(f\"🏆 Best CV AUROC: {tuner.best_score:.4f}\")\n",
    "\n",
    "# 📌 6. 최종 모델 학습 및 평가\n",
    "final_model = lgb.train(\n",
    "    best_params,\n",
    "    train_set=dtrain,\n",
    "    valid_sets=[dvalid],\n",
    "    num_boost_round=1000,\n",
    "    callbacks=[\n",
    "        lgb.early_stopping(stopping_rounds=50),\n",
    "        lgb.log_evaluation(period=100)\n",
    "    ]\n",
    ")\n",
    "\n",
    "y_pred = final_model.predict(X_test)\n",
    "auc = roc_auc_score(y_test, y_pred)\n",
    "\n",
    "print(f\"✅ Final AUROC: {auc:.4f}\")"
   ]
  },
  {
   "cell_type": "code",
   "execution_count": null,
   "id": "e3386c70-683a-47bf-a303-fbd3569765cb",
   "metadata": {},
   "outputs": [],
   "source": []
  },
  {
   "cell_type": "code",
   "execution_count": null,
   "id": "bb88b774-e4e3-4276-b905-7189f77ecff8",
   "metadata": {},
   "outputs": [],
   "source": []
  },
  {
   "cell_type": "code",
   "execution_count": null,
   "id": "c4e8e1da-190f-4ec1-9aed-a276664a6981",
   "metadata": {},
   "outputs": [],
   "source": []
  },
  {
   "cell_type": "code",
   "execution_count": null,
   "id": "1eb2f736-af69-473c-ac84-c5d285bdc6e5",
   "metadata": {},
   "outputs": [],
   "source": []
  },
  {
   "cell_type": "code",
   "execution_count": null,
   "id": "a59cfc80-fb04-4813-81d6-bdd2fbb511f6",
   "metadata": {},
   "outputs": [],
   "source": []
  }
 ],
 "metadata": {
  "kernelspec": {
   "display_name": "Python 3 (ipykernel)",
   "language": "python",
   "name": "python3"
  },
  "language_info": {
   "codemirror_mode": {
    "name": "ipython",
    "version": 3
   },
   "file_extension": ".py",
   "mimetype": "text/x-python",
   "name": "python",
   "nbconvert_exporter": "python",
   "pygments_lexer": "ipython3",
   "version": "3.11.9"
  }
 },
 "nbformat": 4,
 "nbformat_minor": 5
}
