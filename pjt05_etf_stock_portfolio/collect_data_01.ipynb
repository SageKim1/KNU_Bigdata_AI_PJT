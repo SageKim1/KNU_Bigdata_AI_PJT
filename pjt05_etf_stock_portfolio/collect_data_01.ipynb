{
 "cells": [
  {
   "cell_type": "markdown",
   "id": "cefc5d92-4d83-4829-b611-1720fae67198",
   "metadata": {},
   "source": [
    "# 데이터 가져오기"
   ]
  },
  {
   "cell_type": "code",
   "execution_count": null,
   "id": "8fdf1f6b-35f4-4db2-a281-dae4c4ff38e1",
   "metadata": {},
   "outputs": [],
   "source": []
  },
  {
   "cell_type": "code",
   "execution_count": 3,
   "id": "c3e29dc8-86cf-48f7-ab4f-b84fc20fab19",
   "metadata": {},
   "outputs": [
    {
     "name": "stderr",
     "output_type": "stream",
     "text": [
      "[*********************100%***********************]  1 of 1 completed\n"
     ]
    },
    {
     "name": "stdout",
     "output_type": "stream",
     "text": [
      "✅ SPY 저장 완료: SPY_OHLCV.csv\n"
     ]
    },
    {
     "name": "stderr",
     "output_type": "stream",
     "text": [
      "[*********************100%***********************]  1 of 1 completed\n"
     ]
    },
    {
     "name": "stdout",
     "output_type": "stream",
     "text": [
      "✅ SCHD 저장 완료: SCHD_OHLCV.csv\n"
     ]
    },
    {
     "name": "stderr",
     "output_type": "stream",
     "text": [
      "[*********************100%***********************]  1 of 1 completed\n"
     ]
    },
    {
     "name": "stdout",
     "output_type": "stream",
     "text": [
      "✅ QQQ 저장 완료: QQQ_OHLCV.csv\n"
     ]
    },
    {
     "name": "stderr",
     "output_type": "stream",
     "text": [
      "[*********************100%***********************]  1 of 1 completed\n"
     ]
    },
    {
     "name": "stdout",
     "output_type": "stream",
     "text": [
      "✅ TLT 저장 완료: TLT_OHLCV.csv\n"
     ]
    },
    {
     "name": "stderr",
     "output_type": "stream",
     "text": [
      "[*********************100%***********************]  1 of 1 completed"
     ]
    },
    {
     "name": "stdout",
     "output_type": "stream",
     "text": [
      "✅ GLD 저장 완료: GLD_OHLCV.csv\n"
     ]
    },
    {
     "name": "stderr",
     "output_type": "stream",
     "text": [
      "\n"
     ]
    }
   ],
   "source": [
    "import yfinance as yf\n",
    "import pandas as pd\n",
    "import os\n",
    "\n",
    "# 다운로드할 종목명 (Yahoo Finance 티커 기준)\n",
    "TICKERS = {\n",
    "    'SPY': 'SPY',       # 시장 평균주\n",
    "    'SCHD': 'SCHD',     # 배당주\n",
    "    'QQQ': 'QQQ',       # 성장주\n",
    "    'TLT': 'TLT',       # 장기 국채\n",
    "    'GLD': 'GLD'        # 금\n",
    "}\n",
    "\n",
    "START_DATE = '1998-01-01'\n",
    "END_DATE = '2025-05-16'\n",
    "DATA_DIR = './data_raw'\n",
    "os.makedirs(DATA_DIR, exist_ok=True)\n",
    "\n",
    "def download_save_ohlcv(ticker_dict, start, end, save_dir):\n",
    "    for name, yf_ticker in ticker_dict.items():\n",
    "        df = yf.download(yf_ticker, start=start, end=end)\n",
    "        if df.empty:\n",
    "            print(f\"❌ {name} 데이터 없음\")\n",
    "            continue\n",
    "\n",
    "        df.reset_index(inplace=True)\n",
    "        df['Ticker'] = name\n",
    "        df.to_csv(os.path.join(save_dir, f'{name}_OHLCV.csv'), index=False)\n",
    "        print(f\"✅ {name} 저장 완료: {name}_OHLCV.csv\")\n",
    "\n",
    "download_save_ohlcv(TICKERS, START_DATE, END_DATE, DATA_DIR)"
   ]
  },
  {
   "cell_type": "code",
   "execution_count": 4,
   "id": "adf2c9f6-5975-497f-a9e8-2ce0e5a31a35",
   "metadata": {},
   "outputs": [
    {
     "name": "stderr",
     "output_type": "stream",
     "text": [
      "[*********************100%***********************]  1 of 1 completed"
     ]
    },
    {
     "name": "stdout",
     "output_type": "stream",
     "text": [
      "✅ JEPI 저장 완료: ./data_raw\\JEPI_OHLCV.csv\n"
     ]
    },
    {
     "name": "stderr",
     "output_type": "stream",
     "text": [
      "\n"
     ]
    }
   ],
   "source": [
    "import yfinance as yf\n",
    "import pandas as pd\n",
    "import os\n",
    "\n",
    "# JEPI 티커만 지정\n",
    "TICKERS = {'JEPI': 'JEPI'}\n",
    "\n",
    "START_DATE = '1998-01-01'\n",
    "END_DATE = '2025-05-16'\n",
    "DATA_DIR = './data_raw'\n",
    "os.makedirs(DATA_DIR, exist_ok=True)\n",
    "\n",
    "def download_save_ohlcv(ticker_dict, start, end, save_dir):\n",
    "    for name, yf_ticker in ticker_dict.items():\n",
    "        df = yf.download(yf_ticker, start=start, end=end)\n",
    "        if df.empty:\n",
    "            print(f\"❌ {name} 데이터 없음\")\n",
    "            continue\n",
    "\n",
    "        df.reset_index(inplace=True)\n",
    "        df['Ticker'] = name\n",
    "        filepath = os.path.join(save_dir, f'{name}_OHLCV.csv')\n",
    "        df.to_csv(filepath, index=False)\n",
    "        print(f\"✅ {name} 저장 완료: {filepath}\")\n",
    "\n",
    "download_save_ohlcv(TICKERS, START_DATE, END_DATE, DATA_DIR)"
   ]
  },
  {
   "cell_type": "code",
   "execution_count": null,
   "id": "cd65cce6-7c9b-4024-a915-a7df660d9713",
   "metadata": {},
   "outputs": [],
   "source": []
  },
  {
   "cell_type": "code",
   "execution_count": null,
   "id": "26bec227-0631-46bc-9844-f28476648c4a",
   "metadata": {},
   "outputs": [],
   "source": []
  },
  {
   "cell_type": "markdown",
   "id": "9a11c7d6-8cbd-469b-929d-878f71906eb6",
   "metadata": {},
   "source": [
    "# 월별 리턴 (월간 수익률) 계산해 csv 저장"
   ]
  },
  {
   "cell_type": "code",
   "execution_count": 8,
   "id": "f97f4cfc-2dc9-42d4-8efa-c478890da895",
   "metadata": {},
   "outputs": [
    {
     "name": "stdout",
     "output_type": "stream",
     "text": [
      "✅ GLD 월간 수익률 저장 완료: ./data_monthly\\GLD_monthly.csv\n",
      "✅ JEPI 월간 수익률 저장 완료: ./data_monthly\\JEPI_monthly.csv\n",
      "✅ QQQ 월간 수익률 저장 완료: ./data_monthly\\QQQ_monthly.csv\n",
      "✅ SCHD 월간 수익률 저장 완료: ./data_monthly\\SCHD_monthly.csv\n",
      "✅ SPY 월간 수익률 저장 완료: ./data_monthly\\SPY_monthly.csv\n",
      "✅ TLT 월간 수익률 저장 완료: ./data_monthly\\TLT_monthly.csv\n"
     ]
    }
   ],
   "source": [
    "import pandas as pd\n",
    "import os\n",
    "from glob import glob\n",
    "\n",
    "DATA_DIR = './data_raw'\n",
    "OUTPUT_DIR = './data_monthly'\n",
    "os.makedirs(OUTPUT_DIR, exist_ok=True)\n",
    "\n",
    "file_paths = glob(os.path.join(DATA_DIR, '*_OHLCV.csv'))\n",
    "\n",
    "for file_path in file_paths:\n",
    "    name = os.path.basename(file_path).replace('_OHLCV.csv', '')\n",
    "    df = pd.read_csv(file_path, parse_dates=['Date'])\n",
    "    df['Close'] = pd.to_numeric(df['Close'], errors='coerce')\n",
    "    df.set_index('Date', inplace=True)\n",
    "    \n",
    "    price_col = 'Close'\n",
    "    monthly_price = df[price_col].resample('ME').last()  # 여기 'ME' 사용\n",
    "    \n",
    "    monthly_return = monthly_price.pct_change().dropna()\n",
    "    \n",
    "    monthly_return_df = monthly_return.to_frame(name='Monthly Return')\n",
    "    monthly_return_df.index.name = 'Date'\n",
    "    \n",
    "    save_path = os.path.join(OUTPUT_DIR, f'{name}_monthly.csv')\n",
    "    monthly_return_df.to_csv(save_path)\n",
    "    print(f'✅ {name} 월간 수익률 저장 완료: {save_path}')"
   ]
  },
  {
   "cell_type": "code",
   "execution_count": null,
   "id": "170909f9-abff-46a3-b8e9-33116765b36c",
   "metadata": {},
   "outputs": [],
   "source": []
  },
  {
   "cell_type": "markdown",
   "id": "503ccdb3-2f47-435c-b4a3-de388cbfcdf3",
   "metadata": {},
   "source": [
    "# 월별 가격 (월간 종가) 계산해 csv 저장"
   ]
  },
  {
   "cell_type": "code",
   "execution_count": 9,
   "id": "1f2773cb-75ed-4775-abc3-aee1156ac3e5",
   "metadata": {},
   "outputs": [
    {
     "name": "stdout",
     "output_type": "stream",
     "text": [
      "✅ GLD 월간 종가 저장 완료: ./data_monthly\\GLD_monthly.csv\n",
      "✅ JEPI 월간 종가 저장 완료: ./data_monthly\\JEPI_monthly.csv\n",
      "✅ QQQ 월간 종가 저장 완료: ./data_monthly\\QQQ_monthly.csv\n",
      "✅ SCHD 월간 종가 저장 완료: ./data_monthly\\SCHD_monthly.csv\n",
      "✅ SPY 월간 종가 저장 완료: ./data_monthly\\SPY_monthly.csv\n",
      "✅ TLT 월간 종가 저장 완료: ./data_monthly\\TLT_monthly.csv\n"
     ]
    }
   ],
   "source": [
    "import pandas as pd\n",
    "import os\n",
    "from glob import glob\n",
    "\n",
    "DATA_DIR = './data_raw'\n",
    "OUTPUT_DIR = './data_monthly'\n",
    "os.makedirs(OUTPUT_DIR, exist_ok=True)\n",
    "\n",
    "file_paths = glob(os.path.join(DATA_DIR, '*_OHLCV.csv'))\n",
    "\n",
    "for file_path in file_paths:\n",
    "    name = os.path.basename(file_path).replace('_OHLCV.csv', '')\n",
    "    df = pd.read_csv(file_path, parse_dates=['Date'])\n",
    "    df['Close'] = pd.to_numeric(df['Close'], errors='coerce')\n",
    "    df.set_index('Date', inplace=True)\n",
    "    \n",
    "    # 월말 종가 추출 ('ME'는 월말 End, 미래 버전 호환용)\n",
    "    monthly_price = df['Close'].resample('ME').last()\n",
    "    monthly_price = monthly_price.dropna()\n",
    "    \n",
    "    # DataFrame으로 만들고 이름 설정\n",
    "    monthly_price_df = monthly_price.to_frame(name='Monthly Close')\n",
    "    monthly_price_df.index.name = 'Date'\n",
    "    \n",
    "    save_path = os.path.join(OUTPUT_DIR, f'{name}_monthly.csv')\n",
    "    monthly_price_df.to_csv(save_path, float_format='%.4f')\n",
    "    \n",
    "    print(f'✅ {name} 월간 종가 저장 완료: {save_path}')"
   ]
  },
  {
   "cell_type": "code",
   "execution_count": null,
   "id": "01292715-6833-41fd-a770-164192d2c946",
   "metadata": {},
   "outputs": [],
   "source": []
  },
  {
   "cell_type": "markdown",
   "id": "81d75d34-714b-40fd-adf1-918fcc810101",
   "metadata": {},
   "source": [
    "# 배당 데이터 -> csv 저장"
   ]
  },
  {
   "cell_type": "code",
   "execution_count": 5,
   "id": "48970db1-cb75-4511-a64c-fe806f2cd2aa",
   "metadata": {},
   "outputs": [
    {
     "name": "stdout",
     "output_type": "stream",
     "text": [
      "SPY 배당 데이터 저장 완료.\n",
      "QQQ 배당 데이터 저장 완료.\n",
      "TLT 배당 데이터 저장 완료.\n",
      "GLD 배당 데이터 없음.\n",
      "JEPI 배당 데이터 저장 완료.\n"
     ]
    }
   ],
   "source": [
    "import yfinance as yf\n",
    "import os\n",
    "\n",
    "# 저장할 폴더명\n",
    "DIVIDEND_FOLDER = 'dividend_data'\n",
    "os.makedirs(DIVIDEND_FOLDER, exist_ok=True)\n",
    "\n",
    "# 관심 종목 리스트\n",
    "#etfs = ['SPY', 'QQQ', 'TLT', 'GLD', 'SCHD', 'JEPI']\n",
    "etfs = ['SPY', 'QQQ', 'TLT', 'GLD', 'JEPI']\n",
    "\n",
    "for symbol in etfs:\n",
    "    ticker = yf.Ticker(symbol)\n",
    "    dividends = ticker.dividends  # Series: index = date, value = dividend\n",
    "    if not dividends.empty:\n",
    "        df = dividends.reset_index()\n",
    "        df.columns = ['Date', 'Dividend']\n",
    "        df.to_csv(f'{DIVIDEND_FOLDER}/{symbol}_dividends.csv', index=False)\n",
    "        print(f'{symbol} 배당 데이터 저장 완료.')\n",
    "    else:\n",
    "        print(f'{symbol} 배당 데이터 없음.')"
   ]
  },
  {
   "cell_type": "markdown",
   "id": "58edebc9-7a87-4d79-b7a6-3b50248e7e01",
   "metadata": {},
   "source": [
    "- SPY 배당 데이터 저장 완료.\n",
    "- QQQ 배당 데이터 저장 완료.\n",
    "- TLT 배당 데이터 저장 완료.\n",
    "- SCHD 배당 데이터 저장 완료.\n",
    "- JEPI 배당 데이터 저장 완료.\n",
    "<br>\n",
    "\n",
    "- GLD 배당 데이터 없음."
   ]
  },
  {
   "cell_type": "code",
   "execution_count": null,
   "id": "08741cfb-2d16-48eb-865f-32105dd6a167",
   "metadata": {},
   "outputs": [],
   "source": []
  },
  {
   "cell_type": "markdown",
   "id": "b5293410-1dc9-4c21-8eca-0061aa611b0a",
   "metadata": {},
   "source": [
    "## SCHD -> 연 4회 배당 아님. 잘못된 데이터.\n",
    "\n",
    "### 아래 사이트에서 SCHD Historical Dividends 확인해 txt로 저장\n",
    "- -> CSV로 변환하기 전에, 날짜 형식 변경 필요\n",
    "- https://www.dividendchannel.com/history/?symbol=schd\n",
    "\n",
    "### 아래 공식 사이트의 정보와 비교해 확인\n",
    "- https://www.schwabassetmanagement.com/products/schd\n",
    "- (distributions)"
   ]
  },
  {
   "cell_type": "code",
   "execution_count": 4,
   "id": "97319976-8185-4f7b-a78d-4763b1322d4e",
   "metadata": {},
   "outputs": [
    {
     "name": "stdout",
     "output_type": "stream",
     "text": [
      "완료: schd_dividends_cleaned.csv\n"
     ]
    }
   ],
   "source": [
    "import pandas as pd\n",
    "\n",
    "# 헤더가 있는 파일을 정상적으로 읽기\n",
    "df = pd.read_csv('schd_div_txt.txt', sep='\\t', header=0)\n",
    "\n",
    "# 날짜 형식을 명시적으로 변환\n",
    "df['Date'] = pd.to_datetime(df['Date'], format=\"%m/%d/%y\")\n",
    "\n",
    "# 보기 좋은 포맷으로 변경\n",
    "df['Date'] = df['Date'].dt.strftime('%Y-%m-%d')\n",
    "\n",
    "# 저장\n",
    "df.to_csv(\"schd_dividends_cleaned.csv\", index=False)\n",
    "\n",
    "print(\"완료: schd_dividends_cleaned.csv\")"
   ]
  },
  {
   "cell_type": "code",
   "execution_count": null,
   "id": "cad3a7e3-fabc-4e8e-be62-e414aa888a84",
   "metadata": {},
   "outputs": [],
   "source": []
  },
  {
   "cell_type": "markdown",
   "id": "95fe6df7-06cb-48fe-89e6-6c30f17b00a7",
   "metadata": {},
   "source": [
    "#  배당 재투자 반영 누적 수익률 계산해 csv 저장"
   ]
  },
  {
   "cell_type": "code",
   "execution_count": 15,
   "id": "9c059178-dd67-4097-b051-ed3a2f439f83",
   "metadata": {},
   "outputs": [],
   "source": [
    "import os\n",
    "import pandas as pd\n",
    "\n",
    "# 폴더 경로\n",
    "data_raw_path = 'data_raw'\n",
    "monthly_return_path = 'monthly_return'\n",
    "monthly_price_path = 'data_monthly'\n",
    "dividend_path_base = 'dividend_data'\n",
    "\n",
    "# 처리할 티커 목록에 GLD 추가\n",
    "tickers = ['SPY', 'QQQ', 'SCHD', 'JEPI', 'TLT', 'GLD']\n",
    "\n",
    "def calculate_total_return(ticker):\n",
    "    # 파일 경로 설정\n",
    "    return_file = os.path.join(monthly_return_path, f'{ticker}_monthly_return.csv')\n",
    "    price_file = os.path.join(monthly_price_path, f'{ticker}_monthly.csv')\n",
    "    dividend_file = os.path.join(dividend_path_base, f'{ticker}_dividends.csv')\n",
    "\n",
    "    # 월간 수익률 데이터 불러오기\n",
    "    returns = pd.read_csv(return_file)\n",
    "    returns['Date'] = pd.to_datetime(returns['Date'])\n",
    "    returns['Date'] = returns['Date'].dt.to_period('M')\n",
    "\n",
    "    # 월간 종가 데이터 불러오기\n",
    "    prices = pd.read_csv(price_file)\n",
    "    prices['Date'] = pd.to_datetime(prices['Date'])\n",
    "    prices['Date'] = prices['Date'].dt.to_period('M')\n",
    "\n",
    "    # merge\n",
    "    df = pd.merge(returns, prices, on='Date', how='inner')\n",
    "\n",
    "    # 배당 데이터 처리 - GLD는 배당 데이터가 없음\n",
    "    if os.path.exists(dividend_file):\n",
    "        dividends = pd.read_csv(dividend_file)\n",
    "\n",
    "        dividends['Date'] = pd.to_datetime(dividends['Date'], errors='coerce', utc=True)\n",
    "        dividends = dividends.dropna(subset=['Date'])\n",
    "        dividends['Date'] = dividends['Date'].dt.tz_localize(None)\n",
    "        dividends['YearMonth'] = dividends['Date'].dt.to_period('M')\n",
    "\n",
    "        monthly_div = dividends.groupby('YearMonth')['Dividend'].sum().reset_index()\n",
    "        monthly_div.rename(columns={'YearMonth': 'Date'}, inplace=True)\n",
    "\n",
    "        df = pd.merge(df, monthly_div, on='Date', how='left')\n",
    "        df['Dividend'] = df['Dividend'].fillna(0)\n",
    "\n",
    "        df['Dividend Yield'] = df['Dividend'] / df['Monthly Close']\n",
    "    else:\n",
    "        # 배당 데이터가 없으면 배당 수익률은 0으로 처리\n",
    "        df['Dividend Yield'] = 0.0\n",
    "\n",
    "    # 총 수익률 = 월간 수익률 + 배당 수익률\n",
    "    df['Total Return'] = df['Monthly Return'] + df['Dividend Yield']\n",
    "\n",
    "    # 누적 수익률 계산\n",
    "    df['Cumulative Return'] = (1 + df['Total Return']).cumprod()\n",
    "\n",
    "    # 결과 저장\n",
    "    save_path = f'total_return/{ticker}_total_return.csv'\n",
    "    os.makedirs('total_return', exist_ok=True)\n",
    "    df.to_csv(save_path, index=False)\n",
    "\n",
    "# 전체 실행\n",
    "for ticker in tickers:\n",
    "    calculate_total_return(ticker)"
   ]
  },
  {
   "cell_type": "code",
   "execution_count": null,
   "id": "1ba18f95-61f2-46dd-bef5-7bad57fe242a",
   "metadata": {},
   "outputs": [],
   "source": []
  },
  {
   "cell_type": "code",
   "execution_count": null,
   "id": "4c9358be-488d-4556-bbb0-2f82cdabae00",
   "metadata": {},
   "outputs": [],
   "source": []
  },
  {
   "cell_type": "code",
   "execution_count": null,
   "id": "18243333-121d-4007-9cf9-24de2cb1b852",
   "metadata": {},
   "outputs": [],
   "source": []
  }
 ],
 "metadata": {
  "kernelspec": {
   "display_name": "Python 3 (ipykernel)",
   "language": "python",
   "name": "python3"
  },
  "language_info": {
   "codemirror_mode": {
    "name": "ipython",
    "version": 3
   },
   "file_extension": ".py",
   "mimetype": "text/x-python",
   "name": "python",
   "nbconvert_exporter": "python",
   "pygments_lexer": "ipython3",
   "version": "3.11.9"
  }
 },
 "nbformat": 4,
 "nbformat_minor": 5
}
