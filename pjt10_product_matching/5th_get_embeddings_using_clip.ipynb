{
 "cells": [
  {
   "cell_type": "code",
   "execution_count": null,
   "id": "cb8b12bf-4659-44ff-ae97-ecc6ed41ee15",
   "metadata": {},
   "outputs": [],
   "source": []
  },
  {
   "cell_type": "markdown",
   "id": "4964a311-b6e9-452b-a5da-d178dea526f1",
   "metadata": {},
   "source": [
    "# 임베딩을 NPY, CSV로 저장 -> 잘 됨"
   ]
  },
  {
   "cell_type": "code",
   "execution_count": 7,
   "id": "7fe0aa16-8dd5-4de0-9df4-2c7fa6b05456",
   "metadata": {},
   "outputs": [],
   "source": [
    "# 0. 라이브러리 임포트\n",
    "import os, random, datetime\n",
    "import pandas as pd\n",
    "import numpy as np\n",
    "from PIL import Image\n",
    "from itertools import combinations\n",
    "from tqdm import tqdm\n",
    "\n",
    "import torch\n",
    "from torch import nn\n",
    "from torch.utils.data import Dataset, DataLoader\n",
    "\n",
    "from transformers import CLIPProcessor, CLIPModel\n",
    "\n",
    "# 1. 설정\n",
    "DATA_DIR = r\"D:\\Project\\PJT_10\\shopee-product-matching\"\n",
    "CSV_PATH = os.path.join(DATA_DIR, \"train.csv\")\n",
    "IMG_DIR = os.path.join(DATA_DIR, \"train_images\")\n",
    "\n",
    "SAVE_DIR = \"./saved_models\"\n",
    "os.makedirs(SAVE_DIR, exist_ok=True)\n",
    "\n",
    "BATCH_SIZE = 32\n",
    "EPOCHS = 10\n",
    "SEED = 42\n",
    "DEVICE = torch.device(\"cuda\" if torch.cuda.is_available() else \"cpu\")\n",
    "\n",
    "def set_seed(seed):\n",
    "    random.seed(seed)\n",
    "    np.random.seed(seed)\n",
    "    torch.manual_seed(seed)\n",
    "    if DEVICE.type == \"cuda\":\n",
    "        torch.cuda.manual_seed_all(seed)\n",
    "set_seed(SEED)\n",
    "\n",
    "# 2. 데이터 로딩 및 라벨 인코딩\n",
    "df = pd.read_csv(CSV_PATH).reset_index(drop=True)\n",
    "from sklearn.preprocessing import LabelEncoder\n",
    "label_encoder = LabelEncoder()\n",
    "df[\"label_encoded\"] = label_encoder.fit_transform(df[\"label_group\"])\n",
    "\n",
    "# 3. 그룹 단위로 train/val/test split\n",
    "from sklearn.model_selection import GroupShuffleSplit\n",
    "\n",
    "gss = GroupShuffleSplit(n_splits=1, test_size=0.4, random_state=SEED)\n",
    "train_idx, temp_idx = next(gss.split(df, groups=df[\"label_encoded\"]))\n",
    "\n",
    "train_df = df.iloc[train_idx].reset_index(drop=True)\n",
    "temp_df = df.iloc[temp_idx].reset_index(drop=True)\n",
    "\n",
    "gss2 = GroupShuffleSplit(n_splits=1, test_size=0.5, random_state=SEED)\n",
    "val_idx, test_idx = next(gss2.split(temp_df, groups=temp_df[\"label_encoded\"]))\n",
    "\n",
    "val_df = temp_df.iloc[val_idx].reset_index(drop=True)\n",
    "test_df = temp_df.iloc[test_idx].reset_index(drop=True)"
   ]
  },
  {
   "cell_type": "code",
   "execution_count": 14,
   "id": "ad33063e-182e-4689-a43a-7bcb848707fe",
   "metadata": {},
   "outputs": [
    {
     "name": "stdout",
     "output_type": "stream",
     "text": [
      "20392 6820 7038\n"
     ]
    }
   ],
   "source": [
    "print(len(train_df), len(val_df), len(test_df))"
   ]
  },
  {
   "cell_type": "code",
   "execution_count": 8,
   "id": "e2bf5813-583a-45cb-b0d2-590bff0b8576",
   "metadata": {},
   "outputs": [],
   "source": [
    "import torch\n",
    "import torch.nn as nn\n",
    "from transformers import CLIPModel\n",
    "\n",
    "DEVICE = torch.device(\"cuda\" if torch.cuda.is_available() else \"cpu\")\n",
    "\n",
    "# 7. 모델 정의 (Siamese)\n",
    "class CLIPSiameseModel(nn.Module):\n",
    "    def __init__(self, model_name):\n",
    "        super().__init__()\n",
    "        self.clip = CLIPModel.from_pretrained(model_name)\n",
    "        self.classifier = nn.Sequential(\n",
    "            nn.Linear(self.clip.config.projection_dim * 4, 512),\n",
    "            nn.ReLU(),\n",
    "            nn.Linear(512, 1)\n",
    "        )\n",
    "\n",
    "    def forward(self, input_ids1, attention_mask1, pixel_values1,\n",
    "                      input_ids2, attention_mask2, pixel_values2):\n",
    "        text_features1 = self.clip.get_text_features(input_ids=input_ids1, attention_mask=attention_mask1)\n",
    "        image_features1 = self.clip.get_image_features(pixel_values=pixel_values1)\n",
    "        feat1 = torch.cat([image_features1, text_features1], dim=1)\n",
    "\n",
    "        text_features2 = self.clip.get_text_features(input_ids=input_ids2, attention_mask=attention_mask2)\n",
    "        image_features2 = self.clip.get_image_features(pixel_values=pixel_values2)\n",
    "        feat2 = torch.cat([image_features2, text_features2], dim=1)\n",
    "\n",
    "        combined = torch.cat([feat1, feat2], dim=1)\n",
    "        output = self.classifier(combined).squeeze(1)\n",
    "        return output"
   ]
  },
  {
   "cell_type": "code",
   "execution_count": 9,
   "id": "6438f637-beef-4a8a-afd1-ef2846045ea3",
   "metadata": {},
   "outputs": [
    {
     "name": "stdout",
     "output_type": "stream",
     "text": [
      "✅ Loaded model from ./saved_models\\clip_pair_best_epoch2_20250716_025548.pth\n"
     ]
    },
    {
     "name": "stderr",
     "output_type": "stream",
     "text": [
      "Generating embeddings: 100%|█████████████████████████████| 7038/7038 [03:09<00:00, 37.15it/s]"
     ]
    },
    {
     "name": "stdout",
     "output_type": "stream",
     "text": [
      "💾 Saved test embeddings to ./saved_models\\test_embeddings.npy\n",
      "🆔 Saved posting IDs to ./saved_models\\test_posting_ids.npy\n"
     ]
    },
    {
     "name": "stderr",
     "output_type": "stream",
     "text": [
      "\n"
     ]
    }
   ],
   "source": [
    "import torch\n",
    "import os\n",
    "import numpy as np\n",
    "from PIL import Image\n",
    "from tqdm import tqdm\n",
    "from transformers import CLIPProcessor\n",
    "\n",
    "SAVE_DIR = \"./saved_models\"\n",
    "# 저장할 위치\n",
    "EMBED_SAVE_PATH = os.path.join(SAVE_DIR, \"test_embeddings.npy\")\n",
    "ID_SAVE_PATH = os.path.join(SAVE_DIR, \"test_posting_ids.npy\")\n",
    "\n",
    "# 1. 모델 초기화 및 가중치 불러오기\n",
    "model = CLIPSiameseModel(\"openai/clip-vit-base-patch32\").to(DEVICE)\n",
    "best_model_path = os.path.join(SAVE_DIR, \"clip_pair_best_epoch2_20250716_025548.pth\")\n",
    "model.load_state_dict(torch.load(best_model_path, map_location=DEVICE))\n",
    "model.eval()\n",
    "print(f\"✅ Loaded model from {best_model_path}\")\n",
    "\n",
    "# 2. processor 로드\n",
    "processor = CLIPProcessor.from_pretrained(\"openai/clip-vit-base-patch32\")\n",
    "\n",
    "# 3. 테스트셋 단일 입력 기반 임베딩 생성\n",
    "embeddings = []\n",
    "posting_ids = []\n",
    "\n",
    "with torch.no_grad():\n",
    "    for idx, row in tqdm(test_df.iterrows(), total=len(test_df), desc=\"Generating embeddings\"):\n",
    "        image_path = os.path.join(IMG_DIR, row[\"image\"])\n",
    "        image = Image.open(image_path).convert(\"RGB\")\n",
    "        text = row[\"title\"]\n",
    "\n",
    "        inputs = processor(text=[text], images=[image], return_tensors=\"pt\", padding=True, truncation=True).to(DEVICE)\n",
    "\n",
    "        text_feat = model.clip.get_text_features(input_ids=inputs[\"input_ids\"], attention_mask=inputs[\"attention_mask\"])\n",
    "        image_feat = model.clip.get_image_features(pixel_values=inputs[\"pixel_values\"])\n",
    "\n",
    "        combined_feat = torch.cat([image_feat, text_feat], dim=1)  # shape: [1, 1024]\n",
    "        embeddings.append(combined_feat.squeeze(0).cpu().numpy())\n",
    "        posting_ids.append(row[\"posting_id\"])\n",
    "\n",
    "# 4. numpy로 저장\n",
    "embeddings = np.stack(embeddings)  # shape: [N, 1024]\n",
    "np.save(EMBED_SAVE_PATH, embeddings)\n",
    "np.save(ID_SAVE_PATH, np.array(posting_ids))\n",
    "\n",
    "print(f\"💾 Saved test embeddings to {EMBED_SAVE_PATH}\")\n",
    "print(f\"🆔 Saved posting IDs to {ID_SAVE_PATH}\")"
   ]
  },
  {
   "cell_type": "code",
   "execution_count": null,
   "id": "cd9a8a51-a163-4abd-ae6b-151e83e0f4fc",
   "metadata": {},
   "outputs": [],
   "source": []
  },
  {
   "cell_type": "code",
   "execution_count": 11,
   "id": "27f682c2-f6f6-4f7d-96d5-e4c4c12b7346",
   "metadata": {},
   "outputs": [
    {
     "name": "stdout",
     "output_type": "stream",
     "text": [
      "🧾 Saved embeddings to CSV at ./saved_models\\test_embeddings.csv\n"
     ]
    }
   ],
   "source": [
    "# csv로 저장\n",
    "\n",
    "import pandas as pd\n",
    "\n",
    "df_embed = pd.DataFrame(embeddings)\n",
    "df_embed[\"posting_id\"] = posting_ids\n",
    "csv_path = os.path.join(SAVE_DIR, \"test_embeddings.csv\")\n",
    "df_embed.to_csv(csv_path, index=False)\n",
    "print(f\"🧾 Saved embeddings to CSV at {csv_path}\")"
   ]
  },
  {
   "cell_type": "code",
   "execution_count": null,
   "id": "c076059b-556d-4796-892b-9706e4d62ab0",
   "metadata": {},
   "outputs": [],
   "source": []
  },
  {
   "cell_type": "code",
   "execution_count": null,
   "id": "00d59e8c-d8cd-4eef-9470-11a6ce226d00",
   "metadata": {},
   "outputs": [],
   "source": []
  },
  {
   "cell_type": "code",
   "execution_count": null,
   "id": "f9bfe7e5-7c80-4248-84b2-7daea8dd283e",
   "metadata": {},
   "outputs": [],
   "source": []
  },
  {
   "cell_type": "code",
   "execution_count": null,
   "id": "128ea24c-831a-4376-9008-3d34cc6115c0",
   "metadata": {},
   "outputs": [],
   "source": []
  },
  {
   "cell_type": "markdown",
   "id": "36002f1c-e5bf-413d-aa01-33fd9f207327",
   "metadata": {},
   "source": [
    "# faiss, ANN -> 현재 오류 나있는 상태"
   ]
  },
  {
   "cell_type": "code",
   "execution_count": 1,
   "id": "5d567ab1-0a5f-4718-b309-88add79138c5",
   "metadata": {},
   "outputs": [
    {
     "ename": "ModuleNotFoundError",
     "evalue": "No module named 'faiss'",
     "output_type": "error",
     "traceback": [
      "\u001b[31m---------------------------------------------------------------------------\u001b[39m",
      "\u001b[31mModuleNotFoundError\u001b[39m                       Traceback (most recent call last)",
      "\u001b[36mCell\u001b[39m\u001b[36m \u001b[39m\u001b[32mIn[1]\u001b[39m\u001b[32m, line 5\u001b[39m\n\u001b[32m      1\u001b[39m \u001b[38;5;66;03m# ✅ 1. Faiss 기반 최근접 검색 코드\u001b[39;00m\n\u001b[32m      2\u001b[39m \u001b[38;5;66;03m# 🔧 설정: 라이브러리 및 파일 로딩\u001b[39;00m\n\u001b[32m      4\u001b[39m \u001b[38;5;28;01mimport\u001b[39;00m\u001b[38;5;250m \u001b[39m\u001b[34;01mnumpy\u001b[39;00m\u001b[38;5;250m \u001b[39m\u001b[38;5;28;01mas\u001b[39;00m\u001b[38;5;250m \u001b[39m\u001b[34;01mnp\u001b[39;00m\n\u001b[32m----> \u001b[39m\u001b[32m5\u001b[39m \u001b[38;5;28;01mimport\u001b[39;00m\u001b[38;5;250m \u001b[39m\u001b[34;01mfaiss\u001b[39;00m\n\u001b[32m      7\u001b[39m \u001b[38;5;66;03m# 임베딩 및 ID 로딩\u001b[39;00m\n\u001b[32m      8\u001b[39m embedding_path = \u001b[33m\"\u001b[39m\u001b[33m./saved_models/test_embeddings.npy\u001b[39m\u001b[33m\"\u001b[39m\n",
      "\u001b[31mModuleNotFoundError\u001b[39m: No module named 'faiss'"
     ]
    }
   ],
   "source": [
    "# ✅ 1. Faiss 기반 최근접 검색 코드\n",
    "# 🔧 설정: 라이브러리 및 파일 로딩\n",
    "\n",
    "import numpy as np\n",
    "import faiss\n",
    "\n",
    "# 임베딩 및 ID 로딩\n",
    "embedding_path = \"./saved_models/test_embeddings.npy\"\n",
    "id_path = \"./saved_models/test_posting_ids.npy\"\n",
    "\n",
    "embeddings = np.load(embedding_path).astype(\"float32\")  # (N, 1024)\n",
    "posting_ids = np.load(id_path)  # (N,)\n",
    "\n",
    "print(f\"✅ Embedding shape: {embeddings.shape}, IDs: {len(posting_ids)}\")"
   ]
  },
  {
   "cell_type": "code",
   "execution_count": null,
   "id": "daf013dc-e532-485a-ae7b-ccebadf5bdf0",
   "metadata": {},
   "outputs": [],
   "source": [
    "# ✅ 2. Faiss 인덱스 구축\n",
    "\n",
    "# L2 거리 기반 인덱스 생성\n",
    "dim = embeddings.shape[1]  # 보통 1024\n",
    "index = faiss.IndexFlatL2(dim)\n",
    "\n",
    "# 임베딩 추가\n",
    "index.add(embeddings)\n",
    "print(f\"✅ Index populated with {index.ntotal} items.\")"
   ]
  },
  {
   "cell_type": "code",
   "execution_count": null,
   "id": "3c91e65f-6ae0-4ca0-860b-46a12644d28f",
   "metadata": {},
   "outputs": [],
   "source": [
    "# ✅ 3. 최근접 이웃 검색 (Top-K)\n",
    "\n",
    "# 쿼리: 테스트셋의 첫 번째 임베딩\n",
    "query_vec = embeddings[0].reshape(1, -1)  # (1, 1024)\n",
    "\n",
    "# K개 최근접 이웃 검색 (자기 자신 포함됨)\n",
    "k = 5\n",
    "distances, indices = index.search(query_vec, k)\n",
    "\n",
    "# 결과 출력\n",
    "print(\"\\n🔍 Top-K Nearest Neighbors:\")\n",
    "for rank, (idx, dist) in enumerate(zip(indices[0], distances[0])):\n",
    "    print(f\"{rank+1}. ID: {posting_ids[idx]}, Distance: {dist:.4f}\")"
   ]
  },
  {
   "cell_type": "code",
   "execution_count": 2,
   "id": "e1ee6201-4696-4cfb-b481-94b766c25794",
   "metadata": {},
   "outputs": [
    {
     "ename": "NameError",
     "evalue": "name 'index' is not defined",
     "output_type": "error",
     "traceback": [
      "\u001b[31m---------------------------------------------------------------------------\u001b[39m",
      "\u001b[31mNameError\u001b[39m                                 Traceback (most recent call last)",
      "\u001b[36mCell\u001b[39m\u001b[36m \u001b[39m\u001b[32mIn[2]\u001b[39m\u001b[32m, line 5\u001b[39m\n\u001b[32m      1\u001b[39m \u001b[38;5;66;03m# ✅ 4. (선택) 전체 상품에 대해 Top-K 최근접 이웃 저장\u001b[39;00m\n\u001b[32m      2\u001b[39m \n\u001b[32m      3\u001b[39m \u001b[38;5;66;03m# 전체 test_df 기준으로 top-K 유사 posting_id 뽑기\u001b[39;00m\n\u001b[32m      4\u001b[39m k = \u001b[32m5\u001b[39m\n\u001b[32m----> \u001b[39m\u001b[32m5\u001b[39m all_distances, all_indices = \u001b[43mindex\u001b[49m.search(embeddings, k)\n\u001b[32m      7\u001b[39m \u001b[38;5;66;03m# 결과 저장 (리스트 형태)\u001b[39;00m\n\u001b[32m      8\u001b[39m results = []\n",
      "\u001b[31mNameError\u001b[39m: name 'index' is not defined"
     ]
    }
   ],
   "source": [
    "# ✅ 4. (선택) 전체 상품에 대해 Top-K 최근접 이웃 저장\n",
    "\n",
    "# 전체 test_df 기준으로 top-K 유사 posting_id 뽑기\n",
    "k = 5\n",
    "all_distances, all_indices = index.search(embeddings, k)\n",
    "\n",
    "# 결과 저장 (리스트 형태)\n",
    "results = []\n",
    "for i, neighbors in enumerate(all_indices):\n",
    "    anchor_id = posting_ids[i]\n",
    "    neighbor_ids = [posting_ids[n] for n in neighbors if posting_ids[n] != anchor_id]\n",
    "    results.append({\"posting_id\": anchor_id, \"matches\": \" \".join(neighbor_ids)})\n",
    "\n",
    "# pandas로 저장\n",
    "import pandas as pd\n",
    "result_df = pd.DataFrame(results)\n",
    "result_df.to_csv(\"./saved_models/faiss_topk_result.csv\", index=False)\n",
    "print(\"💾 Saved top-K retrieval result to ./saved_models/faiss_topk_result.csv\")"
   ]
  },
  {
   "cell_type": "code",
   "execution_count": null,
   "id": "0a9672f7-cf79-4e5b-81c8-0c2fec6aa831",
   "metadata": {},
   "outputs": [],
   "source": []
  },
  {
   "cell_type": "code",
   "execution_count": null,
   "id": "7023f238-6438-4368-a4f2-2fbecbfa5ee1",
   "metadata": {},
   "outputs": [],
   "source": []
  },
  {
   "cell_type": "code",
   "execution_count": null,
   "id": "5a83ae94-964f-45f5-8c34-2fda554009d6",
   "metadata": {},
   "outputs": [],
   "source": []
  },
  {
   "cell_type": "code",
   "execution_count": null,
   "id": "aded01ce-69b4-47db-809c-9dcac53f7e48",
   "metadata": {},
   "outputs": [],
   "source": []
  }
 ],
 "metadata": {
  "kernelspec": {
   "display_name": "Python 3 (ipykernel)",
   "language": "python",
   "name": "python3"
  },
  "language_info": {
   "codemirror_mode": {
    "name": "ipython",
    "version": 3
   },
   "file_extension": ".py",
   "mimetype": "text/x-python",
   "name": "python",
   "nbconvert_exporter": "python",
   "pygments_lexer": "ipython3",
   "version": "3.11.9"
  }
 },
 "nbformat": 4,
 "nbformat_minor": 5
}
