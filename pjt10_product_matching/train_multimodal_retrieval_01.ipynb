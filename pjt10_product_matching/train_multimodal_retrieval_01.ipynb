{
 "cells": [
  {
   "cell_type": "code",
   "execution_count": null,
   "id": "9ce45bad-8ad2-4817-8c88-c0f22cc13eb4",
   "metadata": {},
   "outputs": [],
   "source": []
  },
  {
   "cell_type": "code",
   "execution_count": 3,
   "id": "d114ff86-63b2-4c76-a852-aab1210dbf26",
   "metadata": {},
   "outputs": [
    {
     "name": "stdout",
     "output_type": "stream",
     "text": [
      "🔹 텍스트 임베딩 중...\n"
     ]
    },
    {
     "data": {
      "application/vnd.jupyter.widget-view+json": {
       "model_id": "8abd6bca50eb45498cee600c012dfd17",
       "version_major": 2,
       "version_minor": 0
      },
      "text/plain": [
       "Batches:   0%|          | 0/110 [00:00<?, ?it/s]"
      ]
     },
     "metadata": {},
     "output_type": "display_data"
    },
    {
     "name": "stdout",
     "output_type": "stream",
     "text": [
      "🔹 이미지 임베딩 중...\n"
     ]
    },
    {
     "name": "stderr",
     "output_type": "stream",
     "text": [
      "Image Embedding: 100%|████████████████████████████████████████████████████████| 220/220 [01:31<00:00,  2.40it/s]\n"
     ]
    },
    {
     "name": "stdout",
     "output_type": "stream",
     "text": [
      "\n",
      "📊 Mean Row-wise F1 (no fine-tuning): 0.6940\n"
     ]
    }
   ],
   "source": [
    "# 라이브러리\n",
    "import os, torch\n",
    "import pandas as pd\n",
    "import numpy as np\n",
    "from PIL import Image\n",
    "from tqdm import tqdm\n",
    "\n",
    "from sklearn.metrics.pairwise import cosine_similarity\n",
    "from sklearn.metrics import f1_score\n",
    "from transformers import CLIPModel, CLIPProcessor\n",
    "from sentence_transformers import SentenceTransformer\n",
    "\n",
    "from torch.utils.data import Dataset, DataLoader\n",
    "\n",
    "# 설정\n",
    "DATA_DIR = r\"D:\\Project\\PJT_10\\shopee-product-matching\"\n",
    "CSV_PATH = os.path.join(DATA_DIR, \"train.csv\")\n",
    "IMG_DIR = os.path.join(DATA_DIR, \"train_images\")\n",
    "\n",
    "BATCH_SIZE = 32\n",
    "DEVICE = torch.device(\"cuda\" if torch.cuda.is_available() else \"cpu\")\n",
    "\n",
    "# 데이터\n",
    "df = pd.read_csv(CSV_PATH)\n",
    "df[\"label_group\"] = df[\"label_group\"].astype(\"category\").cat.codes\n",
    "\n",
    "from sklearn.model_selection import GroupShuffleSplit\n",
    "gss = GroupShuffleSplit(n_splits=1, test_size=0.4, random_state=42)\n",
    "train_idx, temp_idx = next(gss.split(df, groups=df[\"label_group\"]))\n",
    "train_df = df.iloc[train_idx].reset_index(drop=True)\n",
    "temp_df = df.iloc[temp_idx].reset_index(drop=True)\n",
    "\n",
    "gss2 = GroupShuffleSplit(n_splits=1, test_size=0.5, random_state=42)\n",
    "val_idx, test_idx = next(gss2.split(temp_df, groups=temp_df[\"label_group\"]))\n",
    "val_df = temp_df.iloc[val_idx].reset_index(drop=True)\n",
    "test_df = temp_df.iloc[test_idx].reset_index(drop=True)\n",
    "\n",
    "# Dataset\n",
    "class ShopeeDataset(Dataset):\n",
    "    def __init__(self, df, img_dir, processor):\n",
    "        self.df = df\n",
    "        self.img_dir = img_dir\n",
    "        self.processor = processor\n",
    "\n",
    "    def __len__(self):\n",
    "        return len(self.df)\n",
    "\n",
    "    def __getitem__(self, idx):\n",
    "        row = self.df.iloc[idx]\n",
    "        image = Image.open(os.path.join(self.img_dir, row[\"image\"])).convert(\"RGB\")\n",
    "        return self.processor(images=image, return_tensors=\"pt\", padding=True, truncation=True)\n",
    "\n",
    "def collate_fn(batch):\n",
    "    pixel_values = torch.cat([item[\"pixel_values\"] for item in batch], dim=0)\n",
    "    return {\"pixel_values\": pixel_values}\n",
    "\n",
    "# 모델 불러오기\n",
    "clip_model = CLIPModel.from_pretrained(\"openai/clip-vit-base-patch32\").to(DEVICE)\n",
    "clip_processor = CLIPProcessor.from_pretrained(\"openai/clip-vit-base-patch32\")\n",
    "text_model = SentenceTransformer(\"sentence-transformers/paraphrase-multilingual-MiniLM-L12-v2\")\n",
    "\n",
    "# 텍스트 임베딩\n",
    "def get_text_embeddings(df):\n",
    "    texts = df[\"title\"].tolist()\n",
    "    return torch.tensor(text_model.encode(texts, batch_size=64, show_progress_bar=True, convert_to_numpy=True))\n",
    "\n",
    "# 이미지 임베딩\n",
    "def get_image_embeddings(model, processor, df):\n",
    "    dataset = ShopeeDataset(df, IMG_DIR, processor)\n",
    "    loader = DataLoader(dataset, batch_size=BATCH_SIZE, shuffle=False, collate_fn=collate_fn)\n",
    "    all_embeddings = []\n",
    "\n",
    "    model.eval()\n",
    "    with torch.no_grad():\n",
    "        for batch in tqdm(loader, desc=\"Image Embedding\"):\n",
    "            pixel_values = batch[\"pixel_values\"].to(DEVICE)\n",
    "            image_features = model.get_image_features(pixel_values=pixel_values)\n",
    "            all_embeddings.append(image_features.cpu())\n",
    "    return torch.cat(all_embeddings, dim=0)\n",
    "\n",
    "# 전체 posting_id 리스트와 매핑 딕셔너리 생성\n",
    "all_posting_ids = test_df[\"posting_id\"].tolist()\n",
    "posting_id_to_idx = {pid: idx for idx, pid in enumerate(all_posting_ids)}\n",
    "\n",
    "# posting_id 리스트를 0/1 벡터로 변환하는 함수\n",
    "def ids_to_binary_vector(ids):\n",
    "    vec = np.zeros(len(all_posting_ids), dtype=int)\n",
    "    for id_ in ids:\n",
    "        if id_ in posting_id_to_idx:\n",
    "            vec[posting_id_to_idx[id_]] = 1\n",
    "    return vec\n",
    "\n",
    "# 평가 함수 (row-wise F1) - 수정됨\n",
    "def compute_row_wise_f1(embeds, df, top_k=5):\n",
    "    sim = cosine_similarity(embeds)\n",
    "    np.fill_diagonal(sim, -1)\n",
    "    \n",
    "    preds = []\n",
    "    targets = []\n",
    "\n",
    "    for i, row in df.iterrows():\n",
    "        true_ids = df[df[\"label_group\"] == row[\"label_group\"]][\"posting_id\"].tolist()\n",
    "        top_idx = np.argsort(sim[i])[::-1][:top_k]\n",
    "        pred_ids = df.iloc[top_idx][\"posting_id\"].tolist()\n",
    "\n",
    "        preds.append(set(pred_ids))\n",
    "        targets.append(set(true_ids))\n",
    "\n",
    "    row_f1 = []\n",
    "    for pred_set, true_set in zip(preds, targets):\n",
    "        y_pred = ids_to_binary_vector(pred_set)\n",
    "        y_true = ids_to_binary_vector(true_set)\n",
    "        row_f1.append(f1_score(y_true, y_pred, average='macro'))\n",
    "\n",
    "    return np.mean(row_f1)\n",
    "\n",
    "# 임베딩 추출 및 평가 실행\n",
    "print(\"🔹 텍스트 임베딩 중...\")\n",
    "text_embeds = get_text_embeddings(test_df)\n",
    "\n",
    "print(\"🔹 이미지 임베딩 중...\")\n",
    "image_embeds = get_image_embeddings(clip_model, clip_processor, test_df)\n",
    "\n",
    "combined_embeds = torch.cat([text_embeds, image_embeds], dim=1).numpy()\n",
    "\n",
    "f1 = compute_row_wise_f1(combined_embeds, test_df)\n",
    "print(f\"\\n📊 Mean Row-wise F1 (no fine-tuning): {f1:.4f}\")"
   ]
  },
  {
   "cell_type": "code",
   "execution_count": null,
   "id": "378c3225-e210-4b65-aa83-226ca7845ec9",
   "metadata": {},
   "outputs": [],
   "source": []
  },
  {
   "cell_type": "code",
   "execution_count": null,
   "id": "22e266a4-084b-4d98-a906-e4caa2dad11b",
   "metadata": {},
   "outputs": [],
   "source": []
  },
  {
   "cell_type": "code",
   "execution_count": null,
   "id": "a15540fc-1dae-4726-bdcb-93575d17fcd1",
   "metadata": {},
   "outputs": [],
   "source": []
  },
  {
   "cell_type": "code",
   "execution_count": null,
   "id": "e9607ee5-b806-458b-a279-25d51e7c361b",
   "metadata": {},
   "outputs": [],
   "source": []
  }
 ],
 "metadata": {
  "kernelspec": {
   "display_name": "Python 3 (ipykernel)",
   "language": "python",
   "name": "python3"
  },
  "language_info": {
   "codemirror_mode": {
    "name": "ipython",
    "version": 3
   },
   "file_extension": ".py",
   "mimetype": "text/x-python",
   "name": "python",
   "nbconvert_exporter": "python",
   "pygments_lexer": "ipython3",
   "version": "3.11.9"
  }
 },
 "nbformat": 4,
 "nbformat_minor": 5
}
