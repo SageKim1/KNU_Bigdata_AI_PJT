{
 "cells": [
  {
   "cell_type": "code",
   "execution_count": null,
   "id": "428fa351-e3c9-48ac-a4c8-3e6e032ccafb",
   "metadata": {},
   "outputs": [],
   "source": []
  },
  {
   "cell_type": "code",
   "execution_count": 1,
   "id": "3148c0dc-9b8f-4e51-a023-3205c0b50fe9",
   "metadata": {},
   "outputs": [
    {
     "name": "stdout",
     "output_type": "stream",
     "text": [
      "Label Group: 258047\n",
      "Images: ['1d7aadc7503b2b4539cc9a5fe41979dd.jpg', '3301b8aaccea93d1098995ffbc537335.jpg', 'eec692257e74fcbc6cb63cb76d0f20e7.jpg']\n",
      "Titles: ['Sarung celana wadimor original 100% dewasa dan anak hitam dan putih polos', 'SARUNG CELANA WADIMOR DEWASA HITAM POLOS SARCEL', 'WARNA RANDOM ACAK Sarung Celana Wadimor MURAH Celana Sarung WADIMOR']\n",
      "\n",
      "Label Group: 297977\n",
      "Images: ['3977f4e7a47c73568c5e9fcb61723b4b.jpg', '5d075d7eaa258052ab125c75c06293d6.jpg']\n",
      "Titles: ['Wall Sticker / WallSticker -  Submarine Measure - SK9222', 'RELIZA WALL STICKER PENGUKUR TINGGI BADAN JERAPAH STIKER DINDING XL8337']\n",
      "\n",
      "Label Group: 645628\n",
      "Images: ['58167b1c1bf3b33226ad342f9bbc3bc9.jpg', '70fe1461e4115c3ba79bbc176ae7a118.jpg', '726574cf844c5dac0669f926d09c8931.jpg', '757c82b2781305c17d9384c48f76bb3a.jpg', '8364a3398f498979f62065bb280b0c7c.jpg', '8bcd5a841b439f6dbf614ad15ce39248.jpg', '96f576b30ec40414cc2eadb2be8e2d91.jpg', 'a3e83f94822e26ecf236c80d922d6794.jpg', 'b19a6f887d8efd3c0bf2aa9845b03c23.jpg', 'd173d12f8d2767512db31a01414047e4.jpg', 'e8413084d912100ffa7c09d94bd24f34.jpg', 'f08a8ff40c0d43a9f17626ca76bbe051.jpg']\n",
      "Titles: ['GROSIR LVN COLLAGEN / COLAGEN STROBERI PEMUTIH KULIT 1 BOX ISI 10 SACHET', 'DISTRIBUTOR LVN COLLAGEN STROBERI / COLAGEN 1 BOX (10 sachet)', 'TERMURAH LVN COLLAGEN STROBERI 1 BOX 10 SACHET', 'LVN COLLAGEN - ORIGINAL TERMURAH - LVN STROBERI - GARANSI UANG KEMBALI', 'LV.N COLLAGEN 1 BOX \"BELI ECER HARGA GROSIR\" ORIGINAL 100% BERGARANSI murah isi 10 Pc kolagen bpom', 'LVN STRAWBERRY (isi 10 Bgks)', '[ORIGINAL] LVN COLLAGEN / POMEGLOW COLLAGEN 1 BOX ISI 10 SACHET / GLOWING/ PEMUTIH WAJAH BADAN', 'LVN Collagen / Stroberi eco 1box (10 sachet)', 'LVN COLLAGEN / STROBERI', 'LVN COLLAGEN / STROBERI', 'Lvn Collagen / Lvn Strawberry Original BPOM RI Isi 1 Box 10 Sachet', 'LVN COLLAGEN LVN STROBERI ORIGINAL 100% 1BOX ISI 10 SACHET']\n",
      "\n",
      "Grouped data saved to D:\\Project\\PJT_10\\shopee-product-matching\\grouped_label_data.csv\n"
     ]
    }
   ],
   "source": [
    "import os\n",
    "import pandas as pd\n",
    "\n",
    "DATA_DIR = r\"D:\\Project\\PJT_10\\shopee-product-matching\"\n",
    "CSV_PATH = os.path.join(DATA_DIR, \"train.csv\")\n",
    "\n",
    "df = pd.read_csv(CSV_PATH)\n",
    "\n",
    "# label_group별로 이미지명, 텍스트(title) 리스트 묶기\n",
    "grouped = df.groupby(\"label_group\").agg({\n",
    "    \"image\": list,\n",
    "    \"title\": list\n",
    "}).reset_index()\n",
    "\n",
    "# 예: 첫 3개 그룹 내용 확인\n",
    "for idx, row in grouped.head(3).iterrows():\n",
    "    print(f\"Label Group: {row['label_group']}\")\n",
    "    print(f\"Images: {row['image']}\")\n",
    "    print(f\"Titles: {row['title']}\\n\")\n",
    "\n",
    "# 저장 - csv로 저장시 리스트는 문자열로 저장됨\n",
    "SAVE_PATH = os.path.join(DATA_DIR, \"grouped_label_data.csv\")\n",
    "grouped.to_csv(SAVE_PATH, index=False)\n",
    "\n",
    "print(f\"Grouped data saved to {SAVE_PATH}\")"
   ]
  },
  {
   "cell_type": "code",
   "execution_count": null,
   "id": "333354e4-385d-432f-b514-d91d9acf640a",
   "metadata": {},
   "outputs": [],
   "source": []
  },
  {
   "cell_type": "code",
   "execution_count": null,
   "id": "f8cd8faf-bb64-49b3-81b0-e35c2e8beefd",
   "metadata": {},
   "outputs": [],
   "source": []
  },
  {
   "cell_type": "code",
   "execution_count": 2,
   "id": "ca735549-e49a-411a-82df-6907e0d376f1",
   "metadata": {},
   "outputs": [
    {
     "name": "stdout",
     "output_type": "stream",
     "text": [
      "label_group 별 이미지 및 정보 파일 저장 완료. 경로: D:\\Project\\PJT_10\\shopee-product-matching\\train_images_by_label\n"
     ]
    }
   ],
   "source": [
    "import os\n",
    "import shutil\n",
    "import pandas as pd\n",
    "\n",
    "DATA_DIR = r\"D:\\Project\\PJT_10\\shopee-product-matching\"\n",
    "CSV_PATH = os.path.join(DATA_DIR, \"train.csv\")\n",
    "IMAGE_DIR = os.path.join(DATA_DIR, \"train_images\")\n",
    "OUTPUT_DIR = os.path.join(DATA_DIR, \"train_images_by_label\")\n",
    "\n",
    "df = pd.read_csv(CSV_PATH)\n",
    "\n",
    "# label_group별로 이미지 리스트 및 정보 묶기\n",
    "grouped = df.groupby(\"label_group\")\n",
    "\n",
    "os.makedirs(OUTPUT_DIR, exist_ok=True)\n",
    "\n",
    "for label_group, group_df in grouped:\n",
    "    label_group_str = str(label_group)\n",
    "    group_folder = os.path.join(OUTPUT_DIR, label_group_str)\n",
    "    os.makedirs(group_folder, exist_ok=True)\n",
    "\n",
    "    # 이미지 복사\n",
    "    for _, row in group_df.iterrows():\n",
    "        img_name = row['image']\n",
    "        src_path = os.path.join(IMAGE_DIR, img_name)\n",
    "        dst_path = os.path.join(group_folder, img_name)\n",
    "        if os.path.exists(src_path):\n",
    "            shutil.copy2(src_path, dst_path)\n",
    "        else:\n",
    "            print(f\"[Warning] 이미지 파일 없음: {src_path}\")\n",
    "\n",
    "    # 이미지별 정보 txt 저장 (탭으로 구분된 텍스트 파일)\n",
    "    info_txt_path = os.path.join(group_folder, f\"{label_group_str}_info.txt\")\n",
    "    with open(info_txt_path, \"w\", encoding=\"utf-8\") as f:\n",
    "        # 헤더 작성\n",
    "        f.write(\"posting_id\\timage\\timage_phash\\ttitle\\tlabel_group\\n\")\n",
    "        # 각 행을 탭으로 구분하여 기록\n",
    "        for _, row in group_df.iterrows():\n",
    "            line = f\"{row['posting_id']}\\t{row['image']}\\t{row['image_phash']}\\t{row['title']}\\t{row['label_group']}\\n\"\n",
    "            f.write(line)\n",
    "\n",
    "print(f\"label_group 별 이미지 및 정보 파일 저장 완료. 경로: {OUTPUT_DIR}\")"
   ]
  },
  {
   "cell_type": "code",
   "execution_count": null,
   "id": "5358934e-4912-435b-9ecd-b800edeca25b",
   "metadata": {},
   "outputs": [],
   "source": []
  },
  {
   "cell_type": "code",
   "execution_count": null,
   "id": "3d3ccf1f-8fd7-4736-995f-3888da3652a7",
   "metadata": {},
   "outputs": [],
   "source": []
  }
 ],
 "metadata": {
  "kernelspec": {
   "display_name": "Python 3 (ipykernel)",
   "language": "python",
   "name": "python3"
  },
  "language_info": {
   "codemirror_mode": {
    "name": "ipython",
    "version": 3
   },
   "file_extension": ".py",
   "mimetype": "text/x-python",
   "name": "python",
   "nbconvert_exporter": "python",
   "pygments_lexer": "ipython3",
   "version": "3.11.9"
  }
 },
 "nbformat": 4,
 "nbformat_minor": 5
}
