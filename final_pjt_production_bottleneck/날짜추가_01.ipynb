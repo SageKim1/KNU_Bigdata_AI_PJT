{
 "cells": [
  {
   "cell_type": "code",
   "execution_count": null,
   "id": "88ffb1a9-e02a-46f6-a908-dc9761e1b721",
   "metadata": {},
   "outputs": [],
   "source": []
  },
  {
   "cell_type": "code",
   "execution_count": null,
   "id": "da23ea20-0f68-4b8a-bc26-a8fb9cc0ad70",
   "metadata": {},
   "outputs": [],
   "source": [
    "# -*- coding: utf-8 -*-\n",
    "\"\"\"\n",
    "원본 CSV의 행 개수(N)를 기준으로,\n",
    "끝 날짜를 2025-06-30로 고정하고 과거로 거슬러 올라간 N개의 '일자'를 생성하여\n",
    "Time_Now 컬럼에 주입하고, 별도 CSV로 저장합니다.\n",
    "- 예: N=34면 2025-06-30, 2025-06-29, ..., (총 34일) → 오름차순으로 채워 저장\n",
    "\"\"\"\n",
    "\n",
    "import pandas as pd\n",
    "\n",
    "# ===== 경로 설정 =====\n",
    "SRC = \"./Final Results Extended.csv\"  # 원본 CSV 경로\n",
    "OUT = \"./FinalResults_fill_until_2025-06-30.csv\"  # 저장 파일 경로\n",
    "\n",
    "# ===== 로드 =====\n",
    "df = pd.read_csv(SRC, low_memory=False)\n",
    "n = len(df)\n",
    "if n == 0:\n",
    "    raise ValueError(\"원본 CSV에 행이 없습니다.\")\n",
    "\n",
    "# ===== 날짜 생성 (끝=2025-06-30, 길이=n, 일 단위) =====\n",
    "end_date = pd.Timestamp(\"2025-06-30\")\n",
    "start_date = end_date - pd.Timedelta(days=n - 1)\n",
    "dates = pd.date_range(start=start_date, end=end_date, freq=\"D\")  # 길이 n\n",
    "\n",
    "# 오름차순(과거 → 최근)으로 Time_Now 채움\n",
    "df[\"Time_Now\"] = pd.to_datetime(dates).astype(\"datetime64[ns]\")\n",
    "\n",
    "# ===== 저장 (Excel 한글 깨짐 방지) =====\n",
    "df.to_csv(OUT, index=False, encoding=\"utf-8-sig\")\n",
    "\n",
    "print(f\"[완료] 저장됨: {OUT}\")\n",
    "print(f\"행 개수: {len(df):,} | 날짜 범위: {df['Time_Now'].min().date()} ~ {df['Time_Now'].max().date()}\")"
   ]
  },
  {
   "cell_type": "code",
   "execution_count": null,
   "id": "946267e8-44cf-4e8e-bbc9-b1effa9e7d09",
   "metadata": {},
   "outputs": [],
   "source": []
  },
  {
   "cell_type": "code",
   "execution_count": null,
   "id": "12594284-5f6b-4efa-ad6e-3f2ed1d6d953",
   "metadata": {},
   "outputs": [],
   "source": []
  }
 ],
 "metadata": {
  "kernelspec": {
   "display_name": "Python 3 (ipykernel)",
   "language": "python",
   "name": "python3"
  },
  "language_info": {
   "codemirror_mode": {
    "name": "ipython",
    "version": 3
   },
   "file_extension": ".py",
   "mimetype": "text/x-python",
   "name": "python",
   "nbconvert_exporter": "python",
   "pygments_lexer": "ipython3",
   "version": "3.11.9"
  }
 },
 "nbformat": 4,
 "nbformat_minor": 5
}
