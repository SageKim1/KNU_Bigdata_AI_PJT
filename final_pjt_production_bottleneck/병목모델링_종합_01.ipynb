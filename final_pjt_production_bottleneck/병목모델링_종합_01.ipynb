{
 "cells": [
  {
   "cell_type": "code",
   "execution_count": null,
   "id": "25f90048-1997-4fae-8b04-802c7cac2cf5",
   "metadata": {},
   "outputs": [],
   "source": []
  },
  {
   "cell_type": "markdown",
   "id": "99902839-b5f5-468d-9001-eb6da6f63cc1",
   "metadata": {},
   "source": [
    "# 파일 불러오기\n",
    "- 날짜 없는 원본 파일 사용"
   ]
  },
  {
   "cell_type": "code",
   "execution_count": 1,
   "id": "cabc4285-a175-4e58-af80-963485adf376",
   "metadata": {
    "scrolled": true
   },
   "outputs": [
    {
     "data": {
      "text/html": [
       "<div>\n",
       "<style scoped>\n",
       "    .dataframe tbody tr th:only-of-type {\n",
       "        vertical-align: middle;\n",
       "    }\n",
       "\n",
       "    .dataframe tbody tr th {\n",
       "        vertical-align: top;\n",
       "    }\n",
       "\n",
       "    .dataframe thead th {\n",
       "        text-align: right;\n",
       "    }\n",
       "</style>\n",
       "<table border=\"1\" class=\"dataframe\">\n",
       "  <thead>\n",
       "    <tr style=\"text-align: right;\">\n",
       "      <th></th>\n",
       "      <th>Time_Now</th>\n",
       "      <th>Blanking_Util</th>\n",
       "      <th>Blanking_SKU1_Queue</th>\n",
       "      <th>Blanking_SKU2_Queue</th>\n",
       "      <th>Blanking_SKU3_Queue</th>\n",
       "      <th>Blanking_SKU4_Queue</th>\n",
       "      <th>Press1_Util</th>\n",
       "      <th>Press2_Util</th>\n",
       "      <th>Press3_Util</th>\n",
       "      <th>Press4_Util</th>\n",
       "      <th>...</th>\n",
       "      <th>SKU3_NVA_Time</th>\n",
       "      <th>SKU3_Transport_Time</th>\n",
       "      <th>SKU3_Wait_Time</th>\n",
       "      <th>SKU3_Other_Time</th>\n",
       "      <th>SKU4_VA_Time</th>\n",
       "      <th>SKU4_NVA_Time</th>\n",
       "      <th>SKU4_Transport_Time</th>\n",
       "      <th>SKU4_Wait_Time</th>\n",
       "      <th>SKU4_Other_Time</th>\n",
       "      <th>Blanking_Queue</th>\n",
       "    </tr>\n",
       "  </thead>\n",
       "  <tbody>\n",
       "    <tr>\n",
       "      <th>0</th>\n",
       "      <td>24</td>\n",
       "      <td>0.846367</td>\n",
       "      <td>0.045715</td>\n",
       "      <td>0.056373</td>\n",
       "      <td>0.055737</td>\n",
       "      <td>0.035849</td>\n",
       "      <td>0.410297</td>\n",
       "      <td>0.434561</td>\n",
       "      <td>0.481388</td>\n",
       "      <td>0.399992</td>\n",
       "      <td>...</td>\n",
       "      <td>0.0</td>\n",
       "      <td>0.537617</td>\n",
       "      <td>0.453650</td>\n",
       "      <td>0.0</td>\n",
       "      <td>1.523338</td>\n",
       "      <td>0.0</td>\n",
       "      <td>0.536243</td>\n",
       "      <td>0.473453</td>\n",
       "      <td>0.0</td>\n",
       "      <td>58.361452</td>\n",
       "    </tr>\n",
       "    <tr>\n",
       "      <th>1</th>\n",
       "      <td>24</td>\n",
       "      <td>0.851097</td>\n",
       "      <td>0.051937</td>\n",
       "      <td>0.052934</td>\n",
       "      <td>0.038512</td>\n",
       "      <td>0.042248</td>\n",
       "      <td>0.455471</td>\n",
       "      <td>0.454445</td>\n",
       "      <td>0.387975</td>\n",
       "      <td>0.442986</td>\n",
       "      <td>...</td>\n",
       "      <td>0.0</td>\n",
       "      <td>0.536764</td>\n",
       "      <td>0.473677</td>\n",
       "      <td>0.0</td>\n",
       "      <td>1.523344</td>\n",
       "      <td>0.0</td>\n",
       "      <td>0.534992</td>\n",
       "      <td>0.464380</td>\n",
       "      <td>0.0</td>\n",
       "      <td>62.830599</td>\n",
       "    </tr>\n",
       "    <tr>\n",
       "      <th>2</th>\n",
       "      <td>24</td>\n",
       "      <td>0.846115</td>\n",
       "      <td>0.052210</td>\n",
       "      <td>0.047499</td>\n",
       "      <td>0.043181</td>\n",
       "      <td>0.040979</td>\n",
       "      <td>0.496717</td>\n",
       "      <td>0.450816</td>\n",
       "      <td>0.417308</td>\n",
       "      <td>0.352829</td>\n",
       "      <td>...</td>\n",
       "      <td>0.0</td>\n",
       "      <td>0.535925</td>\n",
       "      <td>0.424090</td>\n",
       "      <td>0.0</td>\n",
       "      <td>1.523403</td>\n",
       "      <td>0.0</td>\n",
       "      <td>0.535077</td>\n",
       "      <td>0.475330</td>\n",
       "      <td>0.0</td>\n",
       "      <td>59.365867</td>\n",
       "    </tr>\n",
       "    <tr>\n",
       "      <th>3</th>\n",
       "      <td>24</td>\n",
       "      <td>0.841306</td>\n",
       "      <td>0.051769</td>\n",
       "      <td>0.035436</td>\n",
       "      <td>0.046788</td>\n",
       "      <td>0.052362</td>\n",
       "      <td>0.433749</td>\n",
       "      <td>0.363004</td>\n",
       "      <td>0.443909</td>\n",
       "      <td>0.456036</td>\n",
       "      <td>...</td>\n",
       "      <td>0.0</td>\n",
       "      <td>0.535232</td>\n",
       "      <td>0.430992</td>\n",
       "      <td>0.0</td>\n",
       "      <td>1.523381</td>\n",
       "      <td>0.0</td>\n",
       "      <td>0.533233</td>\n",
       "      <td>0.463801</td>\n",
       "      <td>0.0</td>\n",
       "      <td>56.698528</td>\n",
       "    </tr>\n",
       "    <tr>\n",
       "      <th>4</th>\n",
       "      <td>24</td>\n",
       "      <td>0.859599</td>\n",
       "      <td>0.045874</td>\n",
       "      <td>0.046802</td>\n",
       "      <td>0.044507</td>\n",
       "      <td>0.057210</td>\n",
       "      <td>0.418329</td>\n",
       "      <td>0.396826</td>\n",
       "      <td>0.499273</td>\n",
       "      <td>0.472454</td>\n",
       "      <td>...</td>\n",
       "      <td>0.0</td>\n",
       "      <td>0.538142</td>\n",
       "      <td>0.502614</td>\n",
       "      <td>0.0</td>\n",
       "      <td>1.523363</td>\n",
       "      <td>0.0</td>\n",
       "      <td>0.537223</td>\n",
       "      <td>0.449320</td>\n",
       "      <td>0.0</td>\n",
       "      <td>65.784631</td>\n",
       "    </tr>\n",
       "  </tbody>\n",
       "</table>\n",
       "<p>5 rows × 78 columns</p>\n",
       "</div>"
      ],
      "text/plain": [
       "   Time_Now  Blanking_Util  Blanking_SKU1_Queue  Blanking_SKU2_Queue  \\\n",
       "0        24       0.846367             0.045715             0.056373   \n",
       "1        24       0.851097             0.051937             0.052934   \n",
       "2        24       0.846115             0.052210             0.047499   \n",
       "3        24       0.841306             0.051769             0.035436   \n",
       "4        24       0.859599             0.045874             0.046802   \n",
       "\n",
       "   Blanking_SKU3_Queue  Blanking_SKU4_Queue  Press1_Util  Press2_Util  \\\n",
       "0             0.055737             0.035849     0.410297     0.434561   \n",
       "1             0.038512             0.042248     0.455471     0.454445   \n",
       "2             0.043181             0.040979     0.496717     0.450816   \n",
       "3             0.046788             0.052362     0.433749     0.363004   \n",
       "4             0.044507             0.057210     0.418329     0.396826   \n",
       "\n",
       "   Press3_Util  Press4_Util  ...  SKU3_NVA_Time  SKU3_Transport_Time  \\\n",
       "0     0.481388     0.399992  ...            0.0             0.537617   \n",
       "1     0.387975     0.442986  ...            0.0             0.536764   \n",
       "2     0.417308     0.352829  ...            0.0             0.535925   \n",
       "3     0.443909     0.456036  ...            0.0             0.535232   \n",
       "4     0.499273     0.472454  ...            0.0             0.538142   \n",
       "\n",
       "   SKU3_Wait_Time  SKU3_Other_Time  SKU4_VA_Time  SKU4_NVA_Time  \\\n",
       "0        0.453650              0.0      1.523338            0.0   \n",
       "1        0.473677              0.0      1.523344            0.0   \n",
       "2        0.424090              0.0      1.523403            0.0   \n",
       "3        0.430992              0.0      1.523381            0.0   \n",
       "4        0.502614              0.0      1.523363            0.0   \n",
       "\n",
       "   SKU4_Transport_Time  SKU4_Wait_Time  SKU4_Other_Time  Blanking_Queue  \n",
       "0             0.536243        0.473453              0.0       58.361452  \n",
       "1             0.534992        0.464380              0.0       62.830599  \n",
       "2             0.535077        0.475330              0.0       59.365867  \n",
       "3             0.533233        0.463801              0.0       56.698528  \n",
       "4             0.537223        0.449320              0.0       65.784631  \n",
       "\n",
       "[5 rows x 78 columns]"
      ]
     },
     "execution_count": 1,
     "metadata": {},
     "output_type": "execute_result"
    }
   ],
   "source": [
    "import pandas as pd\n",
    "\n",
    "# Load the CSV file\n",
    "file_path = \"./Final Results Extended.csv\"\n",
    "df = pd.read_csv(file_path)\n",
    "df.head()"
   ]
  },
  {
   "cell_type": "code",
   "execution_count": null,
   "id": "ccb967fc-51e3-4e5d-88d6-5fd6eae2e2ac",
   "metadata": {},
   "outputs": [],
   "source": []
  },
  {
   "cell_type": "markdown",
   "id": "a21236e6-bd74-4190-8f77-73451e7069fe",
   "metadata": {},
   "source": [
    "# 데이터 전처리"
   ]
  },
  {
   "cell_type": "markdown",
   "id": "26583c78-b2d2-41d7-89ad-0a1c4202bb93",
   "metadata": {},
   "source": [
    "## 상수컬럼 및 전부 0인 컬럼 제거\n",
    "- Time_Now에 동일한 24 값 -> 제거\n",
    "- 결과적으로 22개 컬럼 제거\n",
    "- Queue 변수 중 제거된 거 : 'Paint1_Queue', 'Paint2_Queue', 'Cell1_Queue', 'Cell2_Queue', 'Cell3_Queue', 'Cell4_Queue'\n",
    "- Cell별 SKU 생산량 변수 중 제거된 거 : 'c_Cell1_SKU3', 'c_Cell2_SKU1', 'c_Cell2_SKU3', 'c_Cell3_SKU1', 'c_Cell3_SKU4', 'c_Cell4_SKU1', 'c_Cell4_SKU2'"
   ]
  },
  {
   "cell_type": "code",
   "execution_count": 2,
   "id": "fc04b5d6-3f56-43a8-8d5b-5a959b8c52eb",
   "metadata": {},
   "outputs": [
    {
     "name": "stdout",
     "output_type": "stream",
     "text": [
      "🗑 제거 대상 컬럼 수: 22개\n",
      "['Paint2_Queue', 'SKU2_NVA_Time', 'SKU1_Other_Time', 'c_Cell2__SKU1', 'SKU4_NVA_Time', 'c_Cell4__SKU1', 'c_Cell3__SKU1', 'Cell1_Queue', 'Paint1_Queue', 'Cell4_Queue', 'c_Cell4__SKU2', 'c_Cell1__SKU3', 'SKU2_Other_Time', 'Cell2_Queue', 'SKU3_Other_Time', 'c_Cell3__SKU4', 'c_Cell2__SKU3', 'Time_Now', 'SKU1_NVA_Time', 'Cell3_Queue', 'SKU4_Other_Time', 'SKU3_NVA_Time']\n",
      "✅ 제거 후 컬럼 수: 56\n"
     ]
    }
   ],
   "source": [
    "# =========================\n",
    "# 1. 상수컬럼 및 전부 0인 컬럼 제거\n",
    "# =========================\n",
    "\n",
    "# (1) 상수컬럼: 데이터가 모두 같은 값인 컬럼\n",
    "const_cols = [col for col in df.columns if df[col].nunique() == 1]\n",
    "\n",
    "# (2) 전부 0인 컬럼\n",
    "zero_cols = [col for col in df.columns if (df[col] == 0).all()]\n",
    "\n",
    "# 합치기 (중복 제거)\n",
    "drop_cols = list(set(const_cols + zero_cols))\n",
    "\n",
    "print(f\"🗑 제거 대상 컬럼 수: {len(drop_cols)}개\")\n",
    "print(drop_cols)\n",
    "\n",
    "# 실제 제거\n",
    "df = df.drop(columns=drop_cols)\n",
    "\n",
    "print(f\"✅ 제거 후 컬럼 수: {df.shape[1]}\")"
   ]
  },
  {
   "cell_type": "markdown",
   "id": "7bea35f3-73f7-4d62-a594-5bdd912ae28a",
   "metadata": {},
   "source": [
    "## 결측치 확인 -> 1~3개씩 존재 => 해당 행 drop (행 3개 제거)"
   ]
  },
  {
   "cell_type": "code",
   "execution_count": 3,
   "id": "48c20fe5-bb9b-4ed3-ac8b-9b291bb04cbc",
   "metadata": {},
   "outputs": [
    {
     "name": "stdout",
     "output_type": "stream",
     "text": [
      "⚠️ 결측치 요약:\n",
      "Blanking_SKU4_Queue        1\n",
      "Press1_Util                1\n",
      "Press2_Util                1\n",
      "Press3_Util                1\n",
      "Press4_Util                1\n",
      "Press1_Queue               1\n",
      "Press2_Queue               1\n",
      "Press3_Queue               1\n",
      "Press4_Queue               1\n",
      "Cell1_Util                 1\n",
      "Cell2_Util                 1\n",
      "Cell3_Util                 1\n",
      "Cell4_Util                 1\n",
      "Warehouse1_Queue           1\n",
      "Warehouse_2_Queue          1\n",
      "Warehouse_3_Queue          1\n",
      "Warehouse_4_Queue          1\n",
      "c_Cycle1                   1\n",
      "c_Cycle2                   1\n",
      "c_Cycle3                   1\n",
      "c_Cycle4                   1\n",
      "c_Cell1_SKU1               1\n",
      "c_Cell1__SKU2              1\n",
      "c_Cell1__SKU4              1\n",
      "c_Cell2__SKU2              1\n",
      "c_Cell2__SKU4              1\n",
      "c_Cell3__SKU2              1\n",
      "c_Cell3__SKU3              1\n",
      "c_Cell4__SKU3              1\n",
      "c_Cell4__SKU4              1\n",
      "Paint1_Util                1\n",
      "Paint2_Util                1\n",
      "Quality_Util               1\n",
      "Quality_Queue              1\n",
      "Forklift_Util              1\n",
      "Forklift_Blanking_Queue    1\n",
      "Forklift_Press_Queue       1\n",
      "Forklift_Assembly_Queue    1\n",
      "c_TotalProducts            1\n",
      "SKU1_VA_Time               1\n",
      "SKU1_Transport_Time        2\n",
      "SKU1_Wait_Time             3\n",
      "SKU2_VA_Time               3\n",
      "SKU2_Transport_Time        3\n",
      "SKU2_Wait_Time             3\n",
      "SKU3_VA_Time               3\n",
      "SKU3_Transport_Time        3\n",
      "SKU3_Wait_Time             3\n",
      "SKU4_VA_Time               3\n",
      "SKU4_Transport_Time        3\n",
      "SKU4_Wait_Time             3\n",
      "Blanking_Queue             3\n",
      "dtype: int64\n"
     ]
    }
   ],
   "source": [
    "# =========================\n",
    "# 2. 결측치 확인\n",
    "# =========================\n",
    "missing_summary = df.isnull().sum()\n",
    "missing_summary = missing_summary[missing_summary > 0]\n",
    "\n",
    "if missing_summary.empty:\n",
    "    print(\"✅ 결측치 없음\")\n",
    "else:\n",
    "    print(\"⚠️ 결측치 요약:\")\n",
    "    print(missing_summary)"
   ]
  },
  {
   "cell_type": "code",
   "execution_count": 4,
   "id": "26e9eba4-cafd-4a07-a6f6-fd352b574dd2",
   "metadata": {},
   "outputs": [
    {
     "name": "stdout",
     "output_type": "stream",
     "text": [
      "✅ 결측치가 있는 행 3개 제거 완료 (남은 행: 132673)\n",
      "\n",
      "Series([], dtype: int64)\n"
     ]
    }
   ],
   "source": [
    "# =========================\n",
    "# 3. 결측치 제거\n",
    "# =========================\n",
    "if not missing_summary.empty:\n",
    "    before = df.shape[0]\n",
    "    df = df.dropna()  # 결측치가 하나라도 있는 행 제거\n",
    "    after = df.shape[0]\n",
    "    print(f\"✅ 결측치가 있는 행 {before - after}개 제거 완료 (남은 행: {after})\")\n",
    "\n",
    "print()\n",
    "missing_summary2 = df.isnull().sum()\n",
    "missing_summary2 = missing_summary2[missing_summary2 > 0]\n",
    "print(missing_summary2)"
   ]
  },
  {
   "cell_type": "code",
   "execution_count": null,
   "id": "57289df3-3796-4915-8864-56d95db7cf45",
   "metadata": {},
   "outputs": [],
   "source": []
  },
  {
   "cell_type": "markdown",
   "id": "e79615a1-baf7-4108-bb56-28bbf12efcf2",
   "metadata": {},
   "source": [
    "# Warehouse Queue -> 네이밍을 Cell Queue 로 변경 (with 넘버링 매핑)\n",
    "- 이름 변경 매핑: {'Warehouse1_Queue': 'Cell1_Queue', 'Warehouse_2_Queue': 'Cell2_Queue', 'Warehouse_3_Queue': 'Cell3_Queue', 'Warehouse_4_Queue': 'Cell4_Queue'}"
   ]
  },
  {
   "cell_type": "code",
   "execution_count": 5,
   "id": "095d67f7-7159-459a-88f0-b6ef0385b8c5",
   "metadata": {},
   "outputs": [
    {
     "name": "stdout",
     "output_type": "stream",
     "text": [
      "Warehouse Queue cols: ['Warehouse1_Queue', 'Warehouse_2_Queue', 'Warehouse_3_Queue', 'Warehouse_4_Queue']\n",
      "✅ 이름 변경 매핑: {'Warehouse1_Queue': 'Cell1_Queue', 'Warehouse_2_Queue': 'Cell2_Queue', 'Warehouse_3_Queue': 'Cell3_Queue', 'Warehouse_4_Queue': 'Cell4_Queue'}\n",
      "변경 후 Queue 관련 컬럼: ['Blanking_SKU1_Queue', 'Blanking_SKU2_Queue', 'Blanking_SKU3_Queue', 'Blanking_SKU4_Queue', 'Press1_Queue', 'Press2_Queue', 'Press3_Queue', 'Press4_Queue', 'Cell1_Queue', 'Cell2_Queue', 'Cell3_Queue', 'Cell4_Queue', 'Quality_Queue', 'Forklift_Blanking_Queue', 'Forklift_Press_Queue', 'Forklift_Assembly_Queue', 'Blanking_Queue']\n"
     ]
    }
   ],
   "source": [
    "# =========================\n",
    "# 1) Warehouse Queue 컬럼 찾기\n",
    "# =========================\n",
    "warehouse_cols = [c for c in df.columns if \"warehouse\" in c.lower() and \"queue\" in c.lower()]\n",
    "print(\"Warehouse Queue cols:\", warehouse_cols)\n",
    "\n",
    "# =========================\n",
    "# 2) Warehouse 번호 → Cell 번호로 변환\n",
    "# =========================\n",
    "rename_map = {}\n",
    "for w in warehouse_cols:\n",
    "    # 숫자 추출 (예: Warehouse1_Queue → 1)\n",
    "    num = ''.join(filter(str.isdigit, w))\n",
    "    if num:\n",
    "        new_name = f\"Cell{num}_Queue\"\n",
    "        rename_map[w] = new_name\n",
    "\n",
    "# =========================\n",
    "# 3) 컬럼명 변경\n",
    "# =========================\n",
    "df = df.rename(columns=rename_map)\n",
    "\n",
    "print(\"✅ 이름 변경 매핑:\", rename_map)\n",
    "print(\"변경 후 Queue 관련 컬럼:\", [c for c in df.columns if \"queue\" in c.lower()])"
   ]
  },
  {
   "cell_type": "code",
   "execution_count": null,
   "id": "bd543ca4-2604-4edf-80e9-5d1122e0d354",
   "metadata": {},
   "outputs": [],
   "source": []
  },
  {
   "cell_type": "markdown",
   "id": "7641e6e2-21fd-4d74-80a1-a0a157b83625",
   "metadata": {},
   "source": [
    "# Target 컬럼 생성"
   ]
  },
  {
   "cell_type": "markdown",
   "id": "e6f03179-0f0e-403e-92fc-97162f8a0dda",
   "metadata": {},
   "source": [
    "## 전체 기준 병목 파악 -> 새 컬럼에 추가 (Bottleneck_actual , Bottleneck_actual_val)"
   ]
  },
  {
   "cell_type": "code",
   "execution_count": 6,
   "id": "1d963b2a-8d65-43ea-b2e6-dc278222745c",
   "metadata": {},
   "outputs": [
    {
     "name": "stdout",
     "output_type": "stream",
     "text": [
      "Queue 관련 컬럼 수: 17\n",
      "['Blanking_SKU1_Queue', 'Blanking_SKU2_Queue', 'Blanking_SKU3_Queue', 'Blanking_SKU4_Queue', 'Press1_Queue', 'Press2_Queue', 'Press3_Queue', 'Press4_Queue', 'Cell1_Queue', 'Cell2_Queue']\n",
      "              Bottleneck_actual  Bottleneck_val\n",
      "132670  Forklift_Blanking_Queue      153.012984\n",
      "132671              Cell1_Queue      185.031493\n",
      "132672              Cell1_Queue      302.349198\n",
      "132673              Cell1_Queue      295.667368\n",
      "132674              Cell1_Queue      166.628981\n"
     ]
    }
   ],
   "source": [
    "# =========================\n",
    "# 1) Queue 컬럼 찾기 (대소문자 무시)\n",
    "# =========================\n",
    "queue_cols = [col for col in df.columns if \"queue\" in col.lower()]\n",
    "\n",
    "print(f\"Queue 관련 컬럼 수: {len(queue_cols)}\")\n",
    "print(queue_cols[:10])  # 앞 10개만 확인\n",
    "\n",
    "# =========================\n",
    "# 2) 병목 공정 컬럼 생성\n",
    "# =========================\n",
    "# 각 행에서 queue 값이 가장 큰 컬럼명\n",
    "df[\"Bottleneck_actual\"] = df[queue_cols].idxmax(axis=1)\n",
    "\n",
    "# 해당 queue의 실제 최대값도 같이 기록하고 싶다면\n",
    "df[\"Bottleneck_val\"] = df[queue_cols].max(axis=1)\n",
    "\n",
    "# =========================\n",
    "# 3) 결과 확인\n",
    "# =========================\n",
    "print(df[[\"Bottleneck_actual\", \"Bottleneck_val\"]].tail())"
   ]
  },
  {
   "cell_type": "code",
   "execution_count": 7,
   "id": "589409bc-252c-4c50-a9d7-5f26eb9f9556",
   "metadata": {},
   "outputs": [
    {
     "data": {
      "text/plain": [
       "Bottleneck_actual\n",
       "Cell1_Queue                77629\n",
       "Forklift_Blanking_Queue    53681\n",
       "Cell3_Queue                 1307\n",
       "Cell4_Queue                   36\n",
       "Forklift_Press_Queue           9\n",
       "Press4_Queue                   6\n",
       "Press2_Queue                   5\n",
       "Name: count, dtype: int64"
      ]
     },
     "execution_count": 7,
     "metadata": {},
     "output_type": "execute_result"
    }
   ],
   "source": [
    "# Bottleneck 컬럼의 빈도 계산\n",
    "bottleneck_counts = df[\"Bottleneck_actual\"].value_counts().head(10)\n",
    "\n",
    "bottleneck_counts"
   ]
  },
  {
   "cell_type": "code",
   "execution_count": null,
   "id": "7426fd05-4efd-4b15-a349-209a14f0181b",
   "metadata": {},
   "outputs": [],
   "source": []
  },
  {
   "cell_type": "markdown",
   "id": "c685ddab-8ac2-4f5d-a11a-317d5298b51f",
   "metadata": {},
   "source": [
    "## 주요 공정 단계(블랭킹, 프레스, 조립셀) 기준 병목 파악 -> 새 컬럼에 추가\n",
    "- Bottleneck_actual_Blanking , Bottleneck_actual_Press , Bottleneck_actual_Cell\n",
    "- Bottleneck_val_Blanking , Bottleneck_val_Press , Bottleneck_val_Cell"
   ]
  },
  {
   "cell_type": "code",
   "execution_count": 8,
   "id": "a117a4aa-9ff0-4e85-b14b-1eaaddda3807",
   "metadata": {
    "scrolled": true
   },
   "outputs": [
    {
     "name": "stdout",
     "output_type": "stream",
     "text": [
      "         Bottleneck_actual  Bottleneck_val Bottleneck_actual_Blanking  \\\n",
      "0  Forklift_Blanking_Queue      157.256741        Blanking_SKU2_Queue   \n",
      "1  Forklift_Blanking_Queue      166.488725        Blanking_SKU2_Queue   \n",
      "2              Cell1_Queue      335.401556        Blanking_SKU1_Queue   \n",
      "3  Forklift_Blanking_Queue      147.448407        Blanking_SKU4_Queue   \n",
      "4  Forklift_Blanking_Queue      150.397600        Blanking_SKU4_Queue   \n",
      "\n",
      "   Bottleneck_val_Blanking Bottleneck_actual_Press  Bottleneck_val_Press  \\\n",
      "0                 0.056373            Press2_Queue             65.273786   \n",
      "1                 0.052934            Press1_Queue             74.772823   \n",
      "2                 0.052210            Press2_Queue             72.901066   \n",
      "3                 0.052362            Press1_Queue             65.091192   \n",
      "4                 0.057210            Press1_Queue             65.075312   \n",
      "\n",
      "  Bottleneck_actual_Cell  Bottleneck_val_Cell  \n",
      "0            Cell1_Queue            98.155568  \n",
      "1            Cell1_Queue           162.632374  \n",
      "2            Cell1_Queue           335.401556  \n",
      "3            Cell1_Queue           112.173074  \n",
      "4            Cell1_Queue           107.982827  \n"
     ]
    }
   ],
   "source": [
    "# ================================\n",
    "# 11. 공정별 실제 병목 레이블 & 값 생성\n",
    "# ================================\n",
    "stage_groups = {\n",
    "    \"Blanking\": [\"Blanking_SKU1_Queue\", \"Blanking_SKU2_Queue\",\n",
    "                 \"Blanking_SKU3_Queue\", \"Blanking_SKU4_Queue\"],\n",
    "    \"Press\":    [\"Press1_Queue\", \"Press2_Queue\", \"Press3_Queue\", \"Press4_Queue\"],\n",
    "    \"Cell\":     [\"Cell1_Queue\", \"Cell2_Queue\", \"Cell3_Queue\", \"Cell4_Queue\"]\n",
    "}\n",
    "\n",
    "for stage, cols in stage_groups.items():\n",
    "    # 병목 컬럼명 (어느 라인/설비가 병목인지)\n",
    "    df[f\"Bottleneck_actual_{stage}\"] = df[cols].idxmax(axis=1)\n",
    "    # 병목 값 (queue 크기)\n",
    "    df[f\"Bottleneck_val_{stage}\"] = df[cols].max(axis=1)\n",
    "\n",
    "# ================================\n",
    "# 12. 결과 확인\n",
    "# ================================\n",
    "check_cols = [c for c in df.columns if c.startswith(\"Bottleneck_\")]\n",
    "print(df[check_cols].head())"
   ]
  },
  {
   "cell_type": "code",
   "execution_count": null,
   "id": "1ad0e538-b06c-4f0c-8af2-54b12664feed",
   "metadata": {},
   "outputs": [],
   "source": []
  },
  {
   "cell_type": "code",
   "execution_count": null,
   "id": "d550760c-34f9-4bc7-a772-6e9362c7580d",
   "metadata": {},
   "outputs": [],
   "source": []
  },
  {
   "cell_type": "markdown",
   "id": "bae1ba67-7dc8-41e2-b4f3-78e37533aa42",
   "metadata": {},
   "source": [
    "## 제품군(SKU) 기준 병목 파악 -> 새 컬럼에 추가\n",
    "- Bottleneck_actual_SKU1 , Bottleneck_actual_SKU2 , Bottleneck_actual_SKU3 , Bottleneck_actual_SKU4\n",
    "- Bottleneck_val_SKU1 , Bottleneck_val_SKU2 , Bottleneck_val_SKU3, Bottleneck_val_SKU4"
   ]
  },
  {
   "cell_type": "markdown",
   "id": "783807f3-4dce-4614-a65e-3ad7f6370c75",
   "metadata": {},
   "source": [
    "### 컬럼명 맞추기"
   ]
  },
  {
   "cell_type": "code",
   "execution_count": 9,
   "id": "646105d1-ea4a-4d17-81c9-0084d51e71ff",
   "metadata": {},
   "outputs": [
    {
     "name": "stdout",
     "output_type": "stream",
     "text": [
      "SKU1 ['c_Cell1_SKU1']\n",
      "SKU2 ['c_Cell1_SKU2', 'c_Cell2_SKU2', 'c_Cell3_SKU2']\n",
      "SKU3 ['c_Cell3_SKU3', 'c_Cell4_SKU3']\n",
      "SKU4 ['c_Cell1_SKU4', 'c_Cell2_SKU4', 'c_Cell4_SKU4']\n"
     ]
    }
   ],
   "source": [
    "# =========================\n",
    "# 컬럼명 정규화: 언더스코어 여러 개 → 1개로 통일\n",
    "# =========================\n",
    "df.columns = df.columns.str.replace(r\"__+\", \"_\", regex=True)\n",
    "\n",
    "# 확인\n",
    "for sku in [\"SKU1\",\"SKU2\",\"SKU3\",\"SKU4\"]:\n",
    "    related_cols = [c for c in df.columns if f\"Cell\" in c and sku in c]\n",
    "    print(sku, related_cols)"
   ]
  },
  {
   "cell_type": "markdown",
   "id": "9ada261e-e478-494c-b62a-85a522958f8d",
   "metadata": {},
   "source": [
    "### 조립셀 Queue 값 -> SKU별로 분배\n",
    "- 각 Cell Queue 전체량을 SKU별 담당 비율에 따라 나눠서, SKU별 Cell Queue를 생성 -> SKU별로 여러 Cell에서 받은 몫을 합쳐 최종 SKU Cell Queue를 계산\n",
    "- 각 행에 대해 동적으로 SKU별 분배 수행"
   ]
  },
  {
   "cell_type": "code",
   "execution_count": 10,
   "id": "cbb147a1-927e-4301-8b31-0594494d3756",
   "metadata": {},
   "outputs": [
    {
     "name": "stdout",
     "output_type": "stream",
     "text": [
      "SKU1 ['c_Cell1_SKU1']\n",
      "SKU2 ['c_Cell1_SKU2', 'c_Cell2_SKU2', 'c_Cell3_SKU2']\n",
      "SKU3 ['c_Cell3_SKU3', 'c_Cell4_SKU3']\n",
      "SKU4 ['c_Cell1_SKU4', 'c_Cell2_SKU4', 'c_Cell4_SKU4']\n"
     ]
    }
   ],
   "source": [
    "for sku in [\"SKU1\",\"SKU2\",\"SKU3\",\"SKU4\"]:\n",
    "    related_cols = [c for c in df.columns if f\"_{sku}\" in c and \"c_Cell\" in c]\n",
    "    print(sku, related_cols)"
   ]
  },
  {
   "cell_type": "code",
   "execution_count": 11,
   "id": "cf64e3f8-c547-4ba7-b3ff-41ba37e33253",
   "metadata": {},
   "outputs": [
    {
     "name": "stdout",
     "output_type": "stream",
     "text": [
      "=== SKU별로 분배된 Cell Queue (앞부분 10행) ===\n",
      "   Cell_SKU1_Queue  Cell_SKU2_Queue  Cell_SKU3_Queue  Cell_SKU4_Queue\n",
      "0     1.370939e+06     1.192535e+06     1.247366e+06     8.856453e+05\n",
      "1     2.451033e+06     1.958747e+06     9.126624e+05     1.182048e+06\n",
      "2     5.568672e+06     3.817909e+06     9.283182e+05     1.242360e+06\n",
      "3     1.647598e+06     1.114051e+06     1.090078e+06     1.048065e+06\n",
      "4     1.553549e+06     1.232362e+06     1.476219e+06     1.102118e+06\n",
      "5     2.101007e+06     1.931448e+06     1.167199e+06     1.028449e+06\n",
      "6     1.851074e+06     1.886183e+06     6.287604e+05     8.966812e+05\n",
      "7     2.972045e+06     2.248654e+06     1.170633e+06     1.487739e+06\n",
      "8     5.720726e+06     4.591313e+06     9.949638e+05     1.545606e+06\n",
      "9     5.471222e+06     3.388148e+06     7.908985e+05     1.160693e+06\n"
     ]
    }
   ],
   "source": [
    "# ================================\n",
    "# 2. SKU 경로 정의\n",
    "# ================================\n",
    "sku_paths = {\n",
    "    \"SKU1\": {\"blanking\": \"Blanking_SKU1_Queue\",\"press\": \"Press1_Queue\"},\n",
    "    \"SKU2\": {\"blanking\": \"Blanking_SKU2_Queue\",\"press\": \"Press2_Queue\"},\n",
    "    \"SKU3\": {\"blanking\": \"Blanking_SKU3_Queue\",\"press\": \"Press3_Queue\"},\n",
    "    \"SKU4\": {\"blanking\": \"Blanking_SKU4_Queue\",\"press\": \"Press4_Queue\"},\n",
    "}\n",
    "\n",
    "# ================================\n",
    "# 3. Cell → SKU 비율 기반 분배\n",
    "# ================================\n",
    "sku_cell_vals = {sku: pd.Series(0, index=df.index) for sku in sku_paths}\n",
    "\n",
    "for cell_num in range(1, 5):  # Cell1 ~ Cell4\n",
    "    cell_col = f\"Cell{cell_num}_Queue\"\n",
    "    \n",
    "    if cell_col not in df.columns:\n",
    "        continue\n",
    "    \n",
    "    # 해당 Cell Queue 값\n",
    "    cell_vals = df[cell_col]\n",
    "    \n",
    "    for sku in sku_paths.keys():\n",
    "        ratio_col = f\"c_Cell{cell_num}_{sku}\"\n",
    "        if ratio_col in df.columns:\n",
    "            # SKU별 Cell Queue = Cell Queue × 비율\n",
    "            sku_cell_vals[sku] += cell_vals * df[ratio_col]\n",
    "\n",
    "# ================================\n",
    "# 4. 결과 DataFrame 구성 (컬럼명 변경)\n",
    "# ================================\n",
    "sku_cell_df = pd.DataFrame({\n",
    "    f\"Cell_{sku}_Queue\": vals for sku, vals in sku_cell_vals.items()\n",
    "})\n",
    "\n",
    "print(\"=== SKU별로 분배된 Cell Queue (앞부분 10행) ===\")\n",
    "print(sku_cell_df.head(10))\n",
    "\n",
    "# 원래 df에 붙이고 싶다면:\n",
    "df = pd.concat([df, sku_cell_df], axis=1)"
   ]
  },
  {
   "cell_type": "code",
   "execution_count": 13,
   "id": "a574f272-8b18-42a1-b34e-693b09b2a537",
   "metadata": {},
   "outputs": [
    {
     "name": "stdout",
     "output_type": "stream",
     "text": [
      "  Bottleneck_actual_Blanking Bottleneck_actual_Press Bottleneck_actual_Cell  \\\n",
      "0        Blanking_SKU2_Queue            Press2_Queue            Cell1_Queue   \n",
      "1        Blanking_SKU2_Queue            Press1_Queue            Cell1_Queue   \n",
      "2        Blanking_SKU1_Queue            Press2_Queue            Cell1_Queue   \n",
      "3        Blanking_SKU4_Queue            Press1_Queue            Cell1_Queue   \n",
      "4        Blanking_SKU4_Queue            Press1_Queue            Cell1_Queue   \n",
      "\n",
      "  Bottleneck_actual_SKU1 Bottleneck_actual_SKU2 Bottleneck_actual_SKU3  \\\n",
      "0                   Cell                   Cell                   Cell   \n",
      "1                   Cell                   Cell                   Cell   \n",
      "2                   Cell                   Cell                   Cell   \n",
      "3                   Cell                   Cell                   Cell   \n",
      "4                   Cell                   Cell                   Cell   \n",
      "\n",
      "  Bottleneck_actual_SKU4  \n",
      "0                   Cell  \n",
      "1                   Cell  \n",
      "2                   Cell  \n",
      "3                   Cell  \n",
      "4                   Cell  \n",
      "   Bottleneck_val_Blanking  Bottleneck_val_Press  Bottleneck_val_Cell  \\\n",
      "0                 0.056373             65.273786            98.155568   \n",
      "1                 0.052934             74.772823           162.632374   \n",
      "2                 0.052210             72.901066           335.401556   \n",
      "3                 0.052362             65.091192           112.173074   \n",
      "4                 0.057210             65.075312           107.982827   \n",
      "\n",
      "   Bottleneck_val_SKU1  Bottleneck_val_SKU2  Bottleneck_val_SKU3  \\\n",
      "0         1.370939e+06         1.192535e+06         1.247366e+06   \n",
      "1         2.451033e+06         1.958747e+06         9.126624e+05   \n",
      "2         5.568672e+06         3.817909e+06         9.283182e+05   \n",
      "3         1.647598e+06         1.114051e+06         1.090078e+06   \n",
      "4         1.553549e+06         1.232362e+06         1.476219e+06   \n",
      "\n",
      "   Bottleneck_val_SKU4  \n",
      "0         8.856453e+05  \n",
      "1         1.182048e+06  \n",
      "2         1.242360e+06  \n",
      "3         1.048065e+06  \n",
      "4         1.102118e+06  \n"
     ]
    }
   ],
   "source": [
    "# ================================\n",
    "# 7. SKU별 병목 공정 예측\n",
    "# ================================\n",
    "sku_paths = {\n",
    "    \"SKU1\": {\"blanking\": \"Blanking_SKU1_Queue\",\"press\": \"Press1_Queue\", \"cell\": \"Cell_SKU1_Queue\"},\n",
    "    \"SKU2\": {\"blanking\": \"Blanking_SKU2_Queue\",\"press\": \"Press2_Queue\", \"cell\": \"Cell_SKU2_Queue\"},\n",
    "    \"SKU3\": {\"blanking\": \"Blanking_SKU3_Queue\",\"press\": \"Press3_Queue\", \"cell\": \"Cell_SKU3_Queue\"},\n",
    "    \"SKU4\": {\"blanking\": \"Blanking_SKU4_Queue\",\"press\": \"Press4_Queue\", \"cell\": \"Cell_SKU4_Queue\"},\n",
    "}\n",
    "\n",
    "for sku, paths in sku_paths.items():\n",
    "    # 각 SKU별 병목 후보 Stage 값 모으기\n",
    "    stage_df = df[[paths[\"blanking\"], paths[\"press\"], paths[\"cell\"]]].copy()\n",
    "    stage_df.columns = [\"Blanking\", \"Press\", \"Cell\"]  # 축 이름 단순화\n",
    "    \n",
    "    # 각 시점별 최대값 컬럼명 → 병목 공정\n",
    "    df[f\"Bottleneck_actual_{sku}\"] = stage_df.idxmax(axis=1)\n",
    "\n",
    "    # 각 시점별 병목 수치 (최대값)\n",
    "    df[f\"Bottleneck_val_{sku}\"] = stage_df.max(axis=1)\n",
    "\n",
    "# ================================\n",
    "# 8. 결과 확인\n",
    "# ================================\n",
    "print(df[[c for c in df.columns if c.startswith(\"Bottleneck_actual_\")]].head())\n",
    "print(df[[c for c in df.columns if c.startswith(\"Bottleneck_val_\")]].head())"
   ]
  },
  {
   "cell_type": "code",
   "execution_count": null,
   "id": "cf8c8c63-485d-45d1-b9c2-21b20184f680",
   "metadata": {},
   "outputs": [],
   "source": []
  },
  {
   "cell_type": "code",
   "execution_count": null,
   "id": "c92cb5e3-28dd-4699-9535-c430564bb08c",
   "metadata": {},
   "outputs": [],
   "source": []
  },
  {
   "cell_type": "markdown",
   "id": "bf0d42b4-fdb4-4259-829d-1c65132e0999",
   "metadata": {},
   "source": [
    "# 랜덤 분할 - Train 70 : Val 15 : Test 15"
   ]
  },
  {
   "cell_type": "code",
   "execution_count": 16,
   "id": "ff1c5fe1-a1eb-4351-be5c-6eac9832e46b",
   "metadata": {},
   "outputs": [
    {
     "name": "stdout",
     "output_type": "stream",
     "text": [
      "Train: (92867, 76), Val: (19905, 76), Test: (19901, 76)\n"
     ]
    }
   ],
   "source": [
    "from sklearn.model_selection import train_test_split\n",
    "\n",
    "train_val_df, test_df = train_test_split(df, test_size=0.15, random_state=42, shuffle=True)\n",
    "train_df, val_df = train_test_split(train_val_df, test_size=0.1765, random_state=42, shuffle=True)\n",
    "# 0.1765 ≈ 15% / 85%\n",
    "\n",
    "print(f\"Train: {train_df.shape}, Val: {val_df.shape}, Test: {test_df.shape}\")"
   ]
  },
  {
   "cell_type": "code",
   "execution_count": 17,
   "id": "0b8de1fc-f4c7-408b-abe3-368a93af523c",
   "metadata": {},
   "outputs": [
    {
     "name": "stdout",
     "output_type": "stream",
     "text": [
      "✅ CSV 저장 완료\n",
      "Train → ./bottleneck_train.csv ((92867, 76))\n",
      "Val   → ./bottleneck_val.csv ((19905, 76))\n",
      "Test  → ./bottleneck_test.csv ((19901, 76))\n"
     ]
    }
   ],
   "source": [
    "# 저장 경로 지정 (원하는 폴더로 바꾸세요)\n",
    "train_path = \"./bottleneck_train.csv\"\n",
    "val_path   = \"./bottleneck_val.csv\"\n",
    "test_path  = \"./bottleneck_test.csv\"\n",
    "\n",
    "# CSV 저장 (인덱스 제외)\n",
    "train_df.to_csv(train_path, index=False, encoding=\"utf-8-sig\")\n",
    "val_df.to_csv(val_path, index=False, encoding=\"utf-8-sig\")\n",
    "test_df.to_csv(test_path, index=False, encoding=\"utf-8-sig\")\n",
    "\n",
    "print(\"✅ CSV 저장 완료\")\n",
    "print(f\"Train → {train_path} ({train_df.shape})\")\n",
    "print(f\"Val   → {val_path} ({val_df.shape})\")\n",
    "print(f\"Test  → {test_path} ({test_df.shape})\")"
   ]
  },
  {
   "cell_type": "code",
   "execution_count": null,
   "id": "b88f8771-f8c9-419b-ba7a-2fd0fefde14f",
   "metadata": {},
   "outputs": [],
   "source": []
  },
  {
   "cell_type": "markdown",
   "id": "1f229ea7-345e-442e-9402-df353732501b",
   "metadata": {},
   "source": [
    "# 독립변수 분리\n",
    "- 전체 기준 병목 예측\n",
    "    - 분류 : Bottleneck_actual\n",
    "    - 회귀 : Bottleneck_actual_val \n",
    "- 공정 단계 기준 병목 예측\n",
    "    - 분류 : Bottleneck_actual_Blanking , Bottleneck_actual_Press , Bottleneck_actual_Cell\n",
    "    - 회귀 : Bottleneck_val_Blanking , Bottleneck_val_Press , Bottleneck_val_Cell \n",
    "- 제품군(SKU) 기준 병목 예측\n",
    "    - 분류 : Bottleneck_actual_SKU1 , Bottleneck_actual_SKU2 , Bottleneck_actual_SKU3 , Bottleneck_actual_SKU4\n",
    "    - 회귀 : Bottleneck_val_SKU1 , Bottleneck_val_SKU2 , Bottleneck_val_SKU3, Bottleneck_val_SKU4"
   ]
  },
  {
   "cell_type": "code",
   "execution_count": 18,
   "id": "e003e859-53b4-4b57-9e05-d0ecf253a2aa",
   "metadata": {},
   "outputs": [
    {
     "name": "stdout",
     "output_type": "stream",
     "text": [
      "✅ 독립변수 컬럼 수: 60\n",
      "예시 컬럼: ['Blanking_Util', 'Blanking_SKU1_Queue', 'Blanking_SKU2_Queue', 'Blanking_SKU3_Queue', 'Blanking_SKU4_Queue', 'Press1_Util', 'Press2_Util', 'Press3_Util', 'Press4_Util', 'Press1_Queue']\n"
     ]
    }
   ],
   "source": [
    "# 타깃 후보 컬럼 전부 정리\n",
    "target_cols = [\n",
    "    # 전체 기준\n",
    "    \"Bottleneck_actual\", \"Bottleneck_val\",\n",
    "    # 공정 단계 기준\n",
    "    \"Bottleneck_actual_Blanking\", \"Bottleneck_actual_Press\", \"Bottleneck_actual_Cell\",\n",
    "    \"Bottleneck_val_Blanking\", \"Bottleneck_val_Press\", \"Bottleneck_val_Cell\",\n",
    "    # SKU 기준\n",
    "    \"Bottleneck_actual_SKU1\", \"Bottleneck_actual_SKU2\", \"Bottleneck_actual_SKU3\", \"Bottleneck_actual_SKU4\",\n",
    "    \"Bottleneck_val_SKU1\", \"Bottleneck_val_SKU2\", \"Bottleneck_val_SKU3\", \"Bottleneck_val_SKU4\"\n",
    "]\n",
    "\n",
    "# 독립변수(X)는 이 타깃 후보들을 제외한 것들만\n",
    "X_train = train_df.drop(columns=[c for c in target_cols if c in train_df.columns])\n",
    "X_val   = val_df.drop(columns=[c for c in target_cols if c in val_df.columns])\n",
    "X_test  = test_df.drop(columns=[c for c in target_cols if c in test_df.columns])\n",
    "\n",
    "print(\"✅ 독립변수 컬럼 수:\", X_train.shape[1])\n",
    "print(\"예시 컬럼:\", X_train.columns[:10].tolist())"
   ]
  },
  {
   "cell_type": "code",
   "execution_count": null,
   "id": "04073411-c48c-490e-b3ed-6ff5d87340c0",
   "metadata": {},
   "outputs": [],
   "source": []
  },
  {
   "cell_type": "code",
   "execution_count": null,
   "id": "d1d40dcb-1926-488e-acae-90067c6e07f6",
   "metadata": {},
   "outputs": [],
   "source": []
  },
  {
   "cell_type": "markdown",
   "id": "57fc96ce-89ac-42cf-b8ec-4965efa74354",
   "metadata": {},
   "source": [
    "## 추가 전처리 필요한가?"
   ]
  },
  {
   "attachments": {
    "a02d6274-4e47-47ec-9dcf-c6ce35de28d6.png": {
     "image/png": "[encoded data removed]"
    }
   },
   "cell_type": "markdown",
   "id": "c82beabd-3605-4f87-8fa3-54e68a2ac7a3",
   "metadata": {},
   "source": [
    "![image.png](attachment:a02d6274-4e47-47ec-9dcf-c6ce35de28d6.png)"
   ]
  },
  {
   "cell_type": "code",
   "execution_count": null,
   "id": "bdfad498-c8c8-4d50-ada2-b63c1bf2027a",
   "metadata": {},
   "outputs": [],
   "source": []
  },
  {
   "cell_type": "markdown",
   "id": "cd5c128e-c802-4daf-9564-dbb70aefa138",
   "metadata": {},
   "source": [
    "# 전체 기준 병목 예측 모델링\n",
    "- 분류 : Bottleneck_actual\n",
    "- 회귀 : Bottleneck_actual_val "
   ]
  },
  {
   "cell_type": "markdown",
   "id": "f58eca6d-e29e-41af-87db-9c0b7fe4832c",
   "metadata": {},
   "source": [
    "### 추가 처리\n",
    "- 트리 기반 모델(RandomForest, XGB) → 그대로 둠 (스케일링 불필요)\n",
    "- Logistic / Ridge / MLP → StandardScaler 적용\n",
    "- MLP → PyTorch 기반 GPU 학습"
   ]
  },
  {
   "cell_type": "code",
   "execution_count": 23,
   "id": "54802d30-20bc-4897-993b-e869c2fdc9ce",
   "metadata": {},
   "outputs": [
    {
     "name": "stdout",
     "output_type": "stream",
     "text": [
      "✅ Using device: cuda\n",
      "\n",
      "=== Classification Results (Bottleneck_actual) ===\n"
     ]
    },
    {
     "name": "stderr",
     "output_type": "stream",
     "text": [
      "D:\\Project\\Python_Source\\Test01\\.venv\\Lib\\site-packages\\sklearn\\metrics\\_classification.py:2524: UserWarning: y_pred contains classes not in y_true\n",
      "  warnings.warn(\"y_pred contains classes not in y_true\")\n"
     ]
    },
    {
     "name": "stdout",
     "output_type": "stream",
     "text": [
      "Logistic     | Acc=0.996 | F1=0.540 | BalAcc=0.658\n"
     ]
    },
    {
     "name": "stderr",
     "output_type": "stream",
     "text": [
      "[Parallel(n_jobs=1)]: Done  49 tasks      | elapsed:   48.2s\n",
      "[Parallel(n_jobs=1)]: Done 199 tasks      | elapsed:  3.3min\n",
      "[Parallel(n_jobs=1)]: Done 300 out of 300 | elapsed:  4.8min finished\n",
      "[Parallel(n_jobs=1)]: Done  49 tasks      | elapsed:    0.0s\n",
      "[Parallel(n_jobs=1)]: Done 199 tasks      | elapsed:    0.3s\n",
      "[Parallel(n_jobs=1)]: Done 300 out of 300 | elapsed:    0.5s finished\n",
      "D:\\Project\\Python_Source\\Test01\\.venv\\Lib\\site-packages\\sklearn\\metrics\\_classification.py:1565: UndefinedMetricWarning: F-score is ill-defined and being set to 0.0 in labels with no true nor predicted samples. Use `zero_division` parameter to control this behavior.\n",
      "  _warn_prf(average, modifier, f\"{metric.capitalize()} is\", len(result))\n"
     ]
    },
    {
     "name": "stdout",
     "output_type": "stream",
     "text": [
      "RandomForest | Acc=0.986 | F1=0.460 | BalAcc=0.509\n"
     ]
    },
    {
     "name": "stderr",
     "output_type": "stream",
     "text": [
      "D:\\Project\\Python_Source\\Test01\\.venv\\Lib\\site-packages\\xgboost\\training.py:183: UserWarning: [22:46:48] WARNING: C:\\actions-runner\\_work\\xgboost\\xgboost\\src\\learner.cc:738: \n",
      "Parameters: { \"verbose\" } are not used.\n",
      "\n",
      "  bst.update(dtrain, iteration=i, fobj=obj)\n",
      "D:\\Project\\Python_Source\\Test01\\.venv\\Lib\\site-packages\\sklearn\\metrics\\_classification.py:1565: UndefinedMetricWarning: F-score is ill-defined and being set to 0.0 in labels with no true nor predicted samples. Use `zero_division` parameter to control this behavior.\n",
      "  _warn_prf(average, modifier, f\"{metric.capitalize()} is\", len(result))\n"
     ]
    },
    {
     "name": "stdout",
     "output_type": "stream",
     "text": [
      "XGBoost      | Acc=0.997 | F1=0.526 | BalAcc=0.590\n",
      "[Epoch 2/20] Train Loss=1.8081, Val Loss=1.7397\n",
      "[Epoch 4/20] Train Loss=1.6753, Val Loss=1.6067\n",
      "[Epoch 6/20] Train Loss=1.5427, Val Loss=1.4715\n",
      "[Epoch 8/20] Train Loss=1.4067, Val Loss=1.3334\n",
      "[Epoch 10/20] Train Loss=1.2700, Val Loss=1.1937\n",
      "[Epoch 12/20] Train Loss=1.1322, Val Loss=1.0564\n",
      "[Epoch 14/20] Train Loss=1.0004, Val Loss=0.9271\n",
      "[Epoch 16/20] Train Loss=0.8804, Val Loss=0.8115\n",
      "[Epoch 18/20] Train Loss=0.7741, Val Loss=0.7133\n",
      "[Epoch 20/20] Train Loss=0.6864, Val Loss=0.6338\n",
      "TorchMLP     | Acc=0.837 | F1=0.239 | BalAcc=0.282\n",
      "✅ Best Classification Model Saved: XGBoost\n",
      "✅ Classification results saved to classification_results.csv\n"
     ]
    },
    {
     "name": "stderr",
     "output_type": "stream",
     "text": [
      "D:\\Project\\Python_Source\\Test01\\.venv\\Lib\\site-packages\\sklearn\\metrics\\_classification.py:1565: UndefinedMetricWarning: F-score is ill-defined and being set to 0.0 in labels with no true nor predicted samples. Use `zero_division` parameter to control this behavior.\n",
      "  _warn_prf(average, modifier, f\"{metric.capitalize()} is\", len(result))\n"
     ]
    }
   ],
   "source": [
    "# =========================\n",
    "# 분류: Bottleneck_actual\n",
    "# =========================\n",
    "import numpy as np\n",
    "import torch\n",
    "import torch.nn as nn\n",
    "import torch.optim as optim\n",
    "import joblib\n",
    "import pandas as pd\n",
    "from sklearn.pipeline import make_pipeline\n",
    "from sklearn.preprocessing import StandardScaler, LabelEncoder\n",
    "from sklearn.linear_model import LogisticRegression\n",
    "from sklearn.ensemble import RandomForestClassifier\n",
    "from xgboost import XGBClassifier\n",
    "from sklearn.metrics import accuracy_score, f1_score, balanced_accuracy_score\n",
    "from tqdm import tqdm\n",
    "\n",
    "device = torch.device(\"cuda\" if torch.cuda.is_available() else \"cpu\")\n",
    "print(\"✅ Using device:\", device)\n",
    "\n",
    "# ----- 타깃 준비 -----\n",
    "y_train_cls = train_df[\"Bottleneck_actual\"]\n",
    "y_val_cls   = val_df[\"Bottleneck_actual\"]\n",
    "y_test_cls  = test_df[\"Bottleneck_actual\"]\n",
    "\n",
    "# 라벨 인코딩\n",
    "le = LabelEncoder()\n",
    "y_train_cls = le.fit_transform(y_train_cls)\n",
    "y_val_cls   = le.transform(y_val_cls)\n",
    "y_test_cls  = le.transform(y_test_cls)\n",
    "\n",
    "# ----- Torch MLP 정의 -----\n",
    "class TorchMLPClassifier(nn.Module):\n",
    "    def __init__(self, input_dim, hidden_dim=128, num_classes=None):\n",
    "        super().__init__()\n",
    "        self.fc1 = nn.Linear(input_dim, hidden_dim)\n",
    "        self.fc2 = nn.Linear(hidden_dim, hidden_dim // 2)\n",
    "        self.out = nn.Linear(hidden_dim // 2, num_classes)\n",
    "        self.relu = nn.ReLU()\n",
    "        self.dropout = nn.Dropout(0.3)\n",
    "\n",
    "    def forward(self, x):\n",
    "        x = self.relu(self.fc1(x))\n",
    "        x = self.dropout(self.relu(self.fc2(x)))\n",
    "        return self.out(x)\n",
    "\n",
    "def train_torch_mlp_cls(X_train, y_train, X_val, y_val, num_classes, epochs=20, lr=1e-3):\n",
    "    model = TorchMLPClassifier(X_train.shape[1], num_classes=num_classes).to(device)\n",
    "    criterion = nn.CrossEntropyLoss()\n",
    "    optimizer = optim.Adam(model.parameters(), lr=lr)\n",
    "\n",
    "    X_train_t = torch.tensor(X_train, dtype=torch.float32).to(device)\n",
    "    y_train_t = torch.tensor(y_train, dtype=torch.long).to(device)\n",
    "    X_val_t   = torch.tensor(X_val, dtype=torch.float32).to(device)\n",
    "    y_val_t   = torch.tensor(y_val, dtype=torch.long).to(device)\n",
    "\n",
    "    for epoch in range(1, epochs + 1):\n",
    "        model.train()\n",
    "        optimizer.zero_grad()\n",
    "        out = model(X_train_t)\n",
    "        loss = criterion(out, y_train_t)\n",
    "        loss.backward()\n",
    "        optimizer.step()\n",
    "\n",
    "        # 진행률 + 손실 출력\n",
    "        if epoch % 2 == 0 or epoch == epochs:\n",
    "            model.eval()\n",
    "            with torch.no_grad():\n",
    "                val_out = model(X_val_t)\n",
    "                val_loss = criterion(val_out, y_val_t)\n",
    "            print(f\"[Epoch {epoch}/{epochs}] Train Loss={loss.item():.4f}, Val Loss={val_loss.item():.4f}\")\n",
    "    return model\n",
    "\n",
    "# ----- 모델 정의 -----\n",
    "cls_models = {\n",
    "    \"Logistic\": make_pipeline(StandardScaler(), LogisticRegression(max_iter=1000)),\n",
    "    \"RandomForest\": RandomForestClassifier(n_estimators=300, random_state=42, verbose=1),\n",
    "    \"XGBoost\": XGBClassifier(n_estimators=500, learning_rate=0.1,\n",
    "                             random_state=42, tree_method=\"hist\", verbose=1),\n",
    "    \"TorchMLP\": \"pytorch\"\n",
    "}\n",
    "\n",
    "# ----- 실행 + 결과 저장 -----\n",
    "results_cls = []\n",
    "\n",
    "print(\"\\n=== Classification Results (Bottleneck_actual) ===\")\n",
    "for name, model in cls_models.items():\n",
    "    if name == \"TorchMLP\":\n",
    "        scaler = StandardScaler()\n",
    "        X_train_scaled = scaler.fit_transform(X_train)\n",
    "        X_val_scaled   = scaler.transform(X_val)\n",
    "        X_test_scaled  = scaler.transform(X_test)\n",
    "\n",
    "        torch_mlp = train_torch_mlp_cls(\n",
    "            X_train_scaled, y_train_cls, X_val_scaled, y_val_cls,\n",
    "            num_classes=len(np.unique(y_train_cls)), epochs=20\n",
    "        )\n",
    "\n",
    "        torch_mlp.eval()\n",
    "        with torch.no_grad():\n",
    "            X_test_t = torch.tensor(X_test_scaled, dtype=torch.float32).to(device)\n",
    "            logits = torch_mlp(X_test_t)\n",
    "            y_pred = torch.argmax(logits, axis=1).cpu().numpy()\n",
    "\n",
    "        acc = accuracy_score(y_test_cls, y_pred)\n",
    "        f1 = f1_score(y_test_cls, y_pred, average=\"macro\", labels=range(len(le.classes_)))\n",
    "        bal_acc = balanced_accuracy_score(y_test_cls, y_pred)\n",
    "        print(f\"{name:12s} | Acc={acc:.3f} | F1={f1:.3f} | BalAcc={bal_acc:.3f}\")\n",
    "\n",
    "        results_cls.append({\"name\": name, \"Acc\": acc, \"F1\": f1, \"BalAcc\": bal_acc,\n",
    "                            \"model\": torch_mlp, \"scaler\": scaler})\n",
    "    else:\n",
    "        model.fit(X_train, y_train_cls)\n",
    "        y_pred = model.predict(X_test)\n",
    "        acc = accuracy_score(y_test_cls, y_pred)\n",
    "        f1 = f1_score(y_test_cls, y_pred, average=\"macro\", labels=range(len(le.classes_)))\n",
    "        bal_acc = balanced_accuracy_score(y_test_cls, y_pred)\n",
    "        print(f\"{name:12s} | Acc={acc:.3f} | F1={f1:.3f} | BalAcc={bal_acc:.3f}\")\n",
    "\n",
    "        results_cls.append({\"name\": name, \"Acc\": acc, \"F1\": f1, \"BalAcc\": bal_acc,\n",
    "                            \"model\": model})\n",
    "\n",
    "# ----- Best Model 저장 -----\n",
    "best_cls = max(results_cls, key=lambda x: x[\"Acc\"])\n",
    "if best_cls[\"name\"] == \"TorchMLP\":\n",
    "    torch.save(best_cls[\"model\"].state_dict(), \"best_model_cls_TorchMLP.pth\")\n",
    "    joblib.dump(best_cls[\"scaler\"], \"best_model_cls_TorchMLP_scaler.pkl\")\n",
    "else:\n",
    "    joblib.dump(best_cls[\"model\"], f\"best_model_cls_{best_cls['name']}.pkl\")\n",
    "\n",
    "print(f\"✅ Best Classification Model Saved: {best_cls['name']}\")\n",
    "\n",
    "# ----- 성능 지표 CSV 저장 -----\n",
    "results_df = pd.DataFrame([{k: v for k, v in r.items() if k not in [\"model\", \"scaler\"]}\n",
    "                           for r in results_cls])\n",
    "results_df.to_csv(\"classification_results.csv\", index=False, encoding=\"utf-8-sig\")\n",
    "print(\"✅ Classification results saved to classification_results.csv\")"
   ]
  },
  {
   "cell_type": "code",
   "execution_count": null,
   "id": "08d51cd2-a3eb-4af3-8d15-b54e0b19ace6",
   "metadata": {},
   "outputs": [],
   "source": []
  },
  {
   "cell_type": "code",
   "execution_count": 25,
   "id": "44a8f252-a01d-41c6-80d0-29c28df82a53",
   "metadata": {},
   "outputs": [
    {
     "name": "stdout",
     "output_type": "stream",
     "text": [
      "✅ Using device: cuda\n",
      "\n",
      "=== Regression Results (Bottleneck_val) ===\n"
     ]
    },
    {
     "name": "stderr",
     "output_type": "stream",
     "text": [
      "Training Regressors:  25%|████████████████████████████████████                                                                                                            | 1/4 [00:00<00:02,  1.33it/s]"
     ]
    },
    {
     "name": "stdout",
     "output_type": "stream",
     "text": [
      "Ridge        | MAE=7.830 | RMSE=10.484 | R2=0.985\n"
     ]
    },
    {
     "name": "stderr",
     "output_type": "stream",
     "text": [
      "[Parallel(n_jobs=1)]: Done  49 tasks      | elapsed:  4.3min\n",
      "[Parallel(n_jobs=1)]: Done 199 tasks      | elapsed: 19.1min\n",
      "[Parallel(n_jobs=1)]: Done 300 out of 300 | elapsed: 28.2min finished\n",
      "[Parallel(n_jobs=1)]: Done  49 tasks      | elapsed:    0.2s\n",
      "[Parallel(n_jobs=1)]: Done 199 tasks      | elapsed:    1.1s\n",
      "[Parallel(n_jobs=1)]: Done 300 out of 300 | elapsed:    1.7s finished\n",
      "Training Regressors:  50%|███████████████████████████████████████████████████████████████████████▌                                                                       | 2/4 [28:12<33:10, 995.38s/it]D:\\Project\\Python_Source\\Test01\\.venv\\Lib\\site-packages\\xgboost\\training.py:183: UserWarning: [23:18:18] WARNING: C:\\actions-runner\\_work\\xgboost\\xgboost\\src\\learner.cc:738: \n",
      "Parameters: { \"verbose\" } are not used.\n",
      "\n",
      "  bst.update(dtrain, iteration=i, fobj=obj)\n"
     ]
    },
    {
     "name": "stdout",
     "output_type": "stream",
     "text": [
      "RandomForest | MAE=0.058 | RMSE=1.140 | R2=1.000\n"
     ]
    },
    {
     "name": "stderr",
     "output_type": "stream",
     "text": [
      "Training Regressors:  75%|███████████████████████████████████████████████████████████████████████████████████████████████████████████▎                                   | 3/4 [28:14<09:02, 542.05s/it]"
     ]
    },
    {
     "name": "stdout",
     "output_type": "stream",
     "text": [
      "XGBoost      | MAE=0.953 | RMSE=7.607 | R2=0.992\n"
     ]
    },
    {
     "name": "stderr",
     "output_type": "stream",
     "text": [
      "Training Regressors: 100%|███████████████████████████████████████████████████████████████████████████████████████████████████████████████████████████████████████████████| 4/4 [28:15<00:00, 423.91s/it]"
     ]
    },
    {
     "name": "stdout",
     "output_type": "stream",
     "text": [
      "[Epoch 2/20] Train Loss=48343.4609, Val Loss=48264.0977\n",
      "[Epoch 4/20] Train Loss=48270.3555, Val Loss=48189.8867\n",
      "[Epoch 6/20] Train Loss=48193.3906, Val Loss=48110.5117\n",
      "[Epoch 8/20] Train Loss=48109.7266, Val Loss=48022.4062\n",
      "[Epoch 10/20] Train Loss=48015.7461, Val Loss=47922.1055\n",
      "[Epoch 12/20] Train Loss=47907.0977, Val Loss=47806.6172\n",
      "[Epoch 14/20] Train Loss=47782.4180, Val Loss=47673.2070\n",
      "[Epoch 16/20] Train Loss=47638.1797, Val Loss=47519.0312\n",
      "[Epoch 18/20] Train Loss=47471.3398, Val Loss=47340.9219\n",
      "[Epoch 20/20] Train Loss=47280.0859, Val Loss=47135.4258\n",
      "TorchMLP     | MAE=200.562 | RMSE=217.467 | R2=-5.626\n"
     ]
    },
    {
     "name": "stderr",
     "output_type": "stream",
     "text": [
      "\n"
     ]
    },
    {
     "name": "stdout",
     "output_type": "stream",
     "text": [
      "✅ Best Regression Model Saved: RandomForest\n",
      "✅ Regression results saved to regression_results.csv\n"
     ]
    }
   ],
   "source": [
    "# =========================\n",
    "# 회귀: Bottleneck_val\n",
    "# =========================\n",
    "import numpy as np\n",
    "import torch\n",
    "import torch.nn as nn\n",
    "import torch.optim as optim\n",
    "import joblib\n",
    "import pandas as pd\n",
    "from sklearn.pipeline import make_pipeline\n",
    "from sklearn.preprocessing import StandardScaler\n",
    "from sklearn.linear_model import RidgeCV\n",
    "from sklearn.ensemble import RandomForestRegressor\n",
    "from xgboost import XGBRegressor\n",
    "from sklearn.metrics import mean_absolute_error, mean_squared_error, r2_score\n",
    "from tqdm import tqdm\n",
    "\n",
    "device = torch.device(\"cuda\" if torch.cuda.is_available() else \"cpu\")\n",
    "print(\"✅ Using device:\", device)\n",
    "\n",
    "# ----- Torch MLP 정의 -----\n",
    "class TorchMLPRegressor(nn.Module):\n",
    "    def __init__(self, input_dim, hidden_dim=128):\n",
    "        super().__init__()\n",
    "        self.fc1 = nn.Linear(input_dim, hidden_dim)\n",
    "        self.fc2 = nn.Linear(hidden_dim, hidden_dim // 2)\n",
    "        self.out = nn.Linear(hidden_dim // 2, 1)\n",
    "        self.relu = nn.ReLU()\n",
    "        self.dropout = nn.Dropout(0.3)\n",
    "\n",
    "    def forward(self, x):\n",
    "        x = self.relu(self.fc1(x))\n",
    "        x = self.dropout(self.relu(self.fc2(x)))\n",
    "        return self.out(x)\n",
    "\n",
    "def train_torch_mlp_reg(X_train, y_train, X_val, y_val, epochs=20, lr=1e-3):\n",
    "    model = TorchMLPRegressor(X_train.shape[1]).to(device)\n",
    "    criterion = nn.MSELoss()\n",
    "    optimizer = optim.Adam(model.parameters(), lr=lr)\n",
    "\n",
    "    X_train_t = torch.tensor(X_train, dtype=torch.float32).to(device)\n",
    "    y_train_t = torch.tensor(y_train, dtype=torch.float32).view(-1,1).to(device)\n",
    "    X_val_t   = torch.tensor(X_val, dtype=torch.float32).to(device)\n",
    "    y_val_t   = torch.tensor(y_val, dtype=torch.float32).view(-1,1).to(device)\n",
    "\n",
    "    for epoch in range(1, epochs+1):\n",
    "        model.train()\n",
    "        optimizer.zero_grad()\n",
    "        out = model(X_train_t)\n",
    "        loss = criterion(out, y_train_t)\n",
    "        loss.backward()\n",
    "        optimizer.step()\n",
    "\n",
    "        if epoch % 2 == 0 or epoch == epochs:\n",
    "            model.eval()\n",
    "            with torch.no_grad():\n",
    "                val_out = model(X_val_t)\n",
    "                val_loss = criterion(val_out, y_val_t)\n",
    "            print(f\"[Epoch {epoch}/{epochs}] Train Loss={loss.item():.4f}, Val Loss={val_loss.item():.4f}\")\n",
    "    return model\n",
    "\n",
    "# ----- 타깃 준비 -----\n",
    "y_train_reg = train_df[\"Bottleneck_val\"]\n",
    "y_val_reg   = val_df[\"Bottleneck_val\"]\n",
    "y_test_reg  = test_df[\"Bottleneck_val\"]\n",
    "\n",
    "# ----- 모델 정의 -----\n",
    "reg_models = {\n",
    "    \"Ridge\": make_pipeline(StandardScaler(), RidgeCV(alphas=np.logspace(-3,3,20))),\n",
    "    \"RandomForest\": RandomForestRegressor(n_estimators=300, random_state=42, verbose=1),\n",
    "    \"XGBoost\": XGBRegressor(n_estimators=500, learning_rate=0.1,\n",
    "                             random_state=42, tree_method=\"hist\", verbose=1),\n",
    "    \"TorchMLP\": \"pytorch\"\n",
    "}\n",
    "\n",
    "# ----- 실행 + 결과 저장 -----\n",
    "results_reg = []\n",
    "\n",
    "print(\"\\n=== Regression Results (Bottleneck_val) ===\")\n",
    "for name, model in tqdm(reg_models.items(), desc=\"Training Regressors\"):\n",
    "    if name == \"TorchMLP\":\n",
    "        scaler = StandardScaler()\n",
    "        X_train_scaled = scaler.fit_transform(X_train)\n",
    "        X_val_scaled   = scaler.transform(X_val)\n",
    "        X_test_scaled  = scaler.transform(X_test)\n",
    "\n",
    "        torch_mlp_reg = train_torch_mlp_reg(\n",
    "            X_train_scaled, y_train_reg.values,\n",
    "            X_val_scaled, y_val_reg.values, epochs=20\n",
    "        )\n",
    "\n",
    "        torch_mlp_reg.eval()\n",
    "        with torch.no_grad():\n",
    "            X_test_t = torch.tensor(X_test_scaled, dtype=torch.float32).to(device)\n",
    "            preds = torch_mlp_reg(X_test_t).cpu().numpy().ravel()\n",
    "\n",
    "        mae = mean_absolute_error(y_test_reg, preds)\n",
    "        rmse = np.sqrt(mean_squared_error(y_test_reg, preds))\n",
    "        r2 = r2_score(y_test_reg, preds)\n",
    "        print(f\"{name:12s} | MAE={mae:.3f} | RMSE={rmse:.3f} | R2={r2:.3f}\")\n",
    "\n",
    "        results_reg.append({\"name\": name, \"MAE\": mae, \"RMSE\": rmse, \"R2\": r2,\n",
    "                            \"model\": torch_mlp_reg, \"scaler\": scaler})\n",
    "    else:\n",
    "        model.fit(X_train, y_train_reg)\n",
    "        y_pred = model.predict(X_test)\n",
    "        mae = mean_absolute_error(y_test_reg, y_pred)\n",
    "        rmse = np.sqrt(mean_squared_error(y_test_reg, y_pred))\n",
    "        r2 = r2_score(y_test_reg, y_pred)\n",
    "        print(f\"{name:12s} | MAE={mae:.3f} | RMSE={rmse:.3f} | R2={r2:.3f}\")\n",
    "\n",
    "        results_reg.append({\"name\": name, \"MAE\": mae, \"RMSE\": rmse, \"R2\": r2,\n",
    "                            \"model\": model})\n",
    "\n",
    "# ----- Best Model 저장 -----\n",
    "best_reg = max(results_reg, key=lambda x: x[\"R2\"])\n",
    "if best_reg[\"name\"] == \"TorchMLP\":\n",
    "    torch.save(best_reg[\"model\"].state_dict(), \"best_model_reg_TorchMLP.pth\")\n",
    "    joblib.dump(best_reg[\"scaler\"], \"best_model_reg_TorchMLP_scaler.pkl\")\n",
    "else:\n",
    "    joblib.dump(best_reg[\"model\"], f\"best_model_reg_{best_reg['name']}.pkl\")\n",
    "\n",
    "print(f\"✅ Best Regression Model Saved: {best_reg['name']}\")\n",
    "\n",
    "# ----- 성능 지표 CSV 저장 -----\n",
    "results_df = pd.DataFrame([{k: v for k, v in r.items() if k not in [\"model\",\"scaler\"]}\n",
    "                           for r in results_reg])\n",
    "results_df.to_csv(\"regression_results.csv\", index=False, encoding=\"utf-8-sig\")\n",
    "print(\"✅ Regression results saved to regression_results.csv\")"
   ]
  },
  {
   "cell_type": "code",
   "execution_count": null,
   "id": "7f9526ce-bc06-4b1c-96c6-dc55123ea56a",
   "metadata": {},
   "outputs": [],
   "source": []
  },
  {
   "cell_type": "code",
   "execution_count": null,
   "id": "41ab7297-8c50-408f-a358-6f588165ce26",
   "metadata": {},
   "outputs": [],
   "source": []
  },
  {
   "cell_type": "markdown",
   "id": "24bf66a7-1d6e-49c9-b6aa-efd27648a698",
   "metadata": {},
   "source": [
    "# 공정 단계 기준 병목 예측 모델링\n",
    "- 분류 : Bottleneck_actual_Blanking , Bottleneck_actual_Press , Bottleneck_actual_Cell\n",
    "- 회귀 : Bottleneck_val_Blanking , Bottleneck_val_Press , Bottleneck_val_Cell"
   ]
  },
  {
   "cell_type": "code",
   "execution_count": 26,
   "id": "c839bc1d-e47d-43a7-878f-7f341a2a71be",
   "metadata": {},
   "outputs": [
    {
     "name": "stdout",
     "output_type": "stream",
     "text": [
      "✅ Using device: cuda\n",
      "\n",
      "=== Classification for Bottleneck_actual_Blanking ===\n"
     ]
    },
    {
     "name": "stderr",
     "output_type": "stream",
     "text": [
      "Training Bottleneck_actual_Blanking:  25%|████████████████████████████████                                                                                                | 1/4 [00:00<00:02,  1.27it/s]"
     ]
    },
    {
     "name": "stdout",
     "output_type": "stream",
     "text": [
      "Logistic     | Acc=0.997 | F1=0.997 | BalAcc=0.997\n"
     ]
    },
    {
     "name": "stderr",
     "output_type": "stream",
     "text": [
      "Training Bottleneck_actual_Blanking:  50%|███████████████████████████████████████████████████████████████▌                                                               | 2/4 [02:55<03:26, 103.28s/it]"
     ]
    },
    {
     "name": "stdout",
     "output_type": "stream",
     "text": [
      "RandomForest | Acc=0.973 | F1=0.973 | BalAcc=0.973\n"
     ]
    },
    {
     "name": "stderr",
     "output_type": "stream",
     "text": [
      "D:\\Project\\Python_Source\\Test01\\.venv\\Lib\\site-packages\\xgboost\\training.py:183: UserWarning: [23:21:47] WARNING: C:\\actions-runner\\_work\\xgboost\\xgboost\\src\\learner.cc:738: \n",
      "Parameters: { \"verbose\" } are not used.\n",
      "\n",
      "  bst.update(dtrain, iteration=i, fobj=obj)\n",
      "Training Bottleneck_actual_Blanking:  75%|████████████████████████████████████████████████████████████████████████████████████████████████                                | 3/4 [03:09<01:02, 62.31s/it]"
     ]
    },
    {
     "name": "stdout",
     "output_type": "stream",
     "text": [
      "XGBoost      | Acc=0.994 | F1=0.994 | BalAcc=0.994\n"
     ]
    },
    {
     "name": "stderr",
     "output_type": "stream",
     "text": [
      "Training Bottleneck_actual_Blanking: 100%|████████████████████████████████████████████████████████████████████████████████████████████████████████████████████████████████| 4/4 [03:10<00:00, 47.51s/it]"
     ]
    },
    {
     "name": "stdout",
     "output_type": "stream",
     "text": [
      "[Epoch 2/20] Train Loss=1.3695, Val Loss=1.3454\n",
      "[Epoch 4/20] Train Loss=1.3223, Val Loss=1.2985\n",
      "[Epoch 6/20] Train Loss=1.2766, Val Loss=1.2521\n",
      "[Epoch 8/20] Train Loss=1.2297, Val Loss=1.2048\n",
      "[Epoch 10/20] Train Loss=1.1834, Val Loss=1.1566\n",
      "[Epoch 12/20] Train Loss=1.1361, Val Loss=1.1081\n",
      "[Epoch 14/20] Train Loss=1.0890, Val Loss=1.0609\n",
      "[Epoch 16/20] Train Loss=1.0449, Val Loss=1.0166\n",
      "[Epoch 18/20] Train Loss=1.0060, Val Loss=0.9770\n",
      "[Epoch 20/20] Train Loss=0.9707, Val Loss=0.9430\n",
      "TorchMLP     | Acc=0.630 | F1=0.630 | BalAcc=0.630\n"
     ]
    },
    {
     "name": "stderr",
     "output_type": "stream",
     "text": [
      "\n"
     ]
    },
    {
     "name": "stdout",
     "output_type": "stream",
     "text": [
      "\n",
      "=== Classification for Bottleneck_actual_Press ===\n"
     ]
    },
    {
     "name": "stderr",
     "output_type": "stream",
     "text": [
      "Training Bottleneck_actual_Press:  25%|████████████████████████████████▊                                                                                                  | 1/4 [00:01<00:05,  1.77s/it]"
     ]
    },
    {
     "name": "stdout",
     "output_type": "stream",
     "text": [
      "Logistic     | Acc=0.997 | F1=0.996 | BalAcc=0.996\n"
     ]
    },
    {
     "name": "stderr",
     "output_type": "stream",
     "text": [
      "Training Bottleneck_actual_Press:  50%|█████████████████████████████████████████████████████████████████                                                                 | 2/4 [03:00<03:31, 105.70s/it]"
     ]
    },
    {
     "name": "stdout",
     "output_type": "stream",
     "text": [
      "RandomForest | Acc=0.954 | F1=0.938 | BalAcc=0.929\n"
     ]
    },
    {
     "name": "stderr",
     "output_type": "stream",
     "text": [
      "D:\\Project\\Python_Source\\Test01\\.venv\\Lib\\site-packages\\xgboost\\training.py:183: UserWarning: [23:25:01] WARNING: C:\\actions-runner\\_work\\xgboost\\xgboost\\src\\learner.cc:738: \n",
      "Parameters: { \"verbose\" } are not used.\n",
      "\n",
      "  bst.update(dtrain, iteration=i, fobj=obj)\n",
      "Training Bottleneck_actual_Press:  75%|██████████████████████████████████████████████████████████████████████████████████████████████████▎                                | 3/4 [03:13<01:03, 63.39s/it]"
     ]
    },
    {
     "name": "stdout",
     "output_type": "stream",
     "text": [
      "XGBoost      | Acc=0.993 | F1=0.991 | BalAcc=0.990\n",
      "[Epoch 2/20] Train Loss=1.3488, Val Loss=1.3066\n",
      "[Epoch 4/20] Train Loss=1.2711, Val Loss=1.2308\n",
      "[Epoch 6/20] Train Loss=1.1976, Val Loss=1.1570\n",
      "[Epoch 8/20] Train Loss=1.1252, Val Loss=1.0826\n",
      "[Epoch 10/20] Train Loss=1.0526, Val Loss=1.0076\n",
      "[Epoch 12/20] Train Loss=0.9806, Val Loss=0.9336\n",
      "[Epoch 14/20] Train Loss=0.9096, Val Loss=0.8633\n",
      "[Epoch 16/20] Train Loss=0.8447, Val Loss=0.7988\n",
      "[Epoch 18/20] Train Loss=0.7862, Val Loss=0.7414\n",
      "[Epoch 20/20] Train Loss=0.7354, Val Loss=0.6912\n",
      "TorchMLP     | Acc=0.766 | F1=0.544 | BalAcc=0.547\n"
     ]
    },
    {
     "name": "stderr",
     "output_type": "stream",
     "text": [
      "Training Bottleneck_actual_Press: 100%|███████████████████████████████████████████████████████████████████████████████████████████████████████████████████████████████████| 4/4 [03:13<00:00, 48.47s/it]\n"
     ]
    },
    {
     "name": "stdout",
     "output_type": "stream",
     "text": [
      "\n",
      "=== Classification for Bottleneck_actual_Cell ===\n"
     ]
    },
    {
     "name": "stderr",
     "output_type": "stream",
     "text": [
      "Training Bottleneck_actual_Cell:  25%|█████████████████████████████████                                                                                                   | 1/4 [00:01<00:04,  1.34s/it]"
     ]
    },
    {
     "name": "stdout",
     "output_type": "stream",
     "text": [
      "Logistic     | Acc=0.998 | F1=0.962 | BalAcc=0.964\n"
     ]
    },
    {
     "name": "stderr",
     "output_type": "stream",
     "text": [
      "Training Bottleneck_actual_Cell:  50%|██████████████████████████████████████████████████████████████████                                                                  | 2/4 [02:29<02:55, 87.54s/it]"
     ]
    },
    {
     "name": "stdout",
     "output_type": "stream",
     "text": [
      "RandomForest | Acc=0.992 | F1=0.803 | BalAcc=0.740\n"
     ]
    },
    {
     "name": "stderr",
     "output_type": "stream",
     "text": [
      "D:\\Project\\Python_Source\\Test01\\.venv\\Lib\\site-packages\\xgboost\\training.py:183: UserWarning: [23:27:44] WARNING: C:\\actions-runner\\_work\\xgboost\\xgboost\\src\\learner.cc:738: \n",
      "Parameters: { \"verbose\" } are not used.\n",
      "\n",
      "  bst.update(dtrain, iteration=i, fobj=obj)\n",
      "Training Bottleneck_actual_Cell:  75%|███████████████████████████████████████████████████████████████████████████████████████████████████                                 | 3/4 [02:38<00:51, 51.70s/it]"
     ]
    },
    {
     "name": "stdout",
     "output_type": "stream",
     "text": [
      "XGBoost      | Acc=0.997 | F1=0.950 | BalAcc=0.925\n"
     ]
    },
    {
     "name": "stderr",
     "output_type": "stream",
     "text": [
      "Training Bottleneck_actual_Cell: 100%|████████████████████████████████████████████████████████████████████████████████████████████████████████████████████████████████████| 4/4 [02:38<00:00, 39.72s/it]"
     ]
    },
    {
     "name": "stdout",
     "output_type": "stream",
     "text": [
      "[Epoch 2/20] Train Loss=0.9454, Val Loss=0.8914\n",
      "[Epoch 4/20] Train Loss=0.8406, Val Loss=0.7899\n",
      "[Epoch 6/20] Train Loss=0.7422, Val Loss=0.6931\n",
      "[Epoch 8/20] Train Loss=0.6485, Val Loss=0.6006\n",
      "[Epoch 10/20] Train Loss=0.5595, Val Loss=0.5136\n",
      "[Epoch 12/20] Train Loss=0.4775, Val Loss=0.4352\n",
      "[Epoch 14/20] Train Loss=0.4054, Val Loss=0.3683\n",
      "[Epoch 16/20] Train Loss=0.3453, Val Loss=0.3147\n",
      "[Epoch 18/20] Train Loss=0.2988, Val Loss=0.2744\n",
      "[Epoch 20/20] Train Loss=0.2646, Val Loss=0.2454\n",
      "TorchMLP     | Acc=0.954 | F1=0.325 | BalAcc=0.333\n",
      "✅ Stage Classification results saved to stage_classification_results.csv\n"
     ]
    },
    {
     "name": "stderr",
     "output_type": "stream",
     "text": [
      "\n"
     ]
    }
   ],
   "source": [
    "# =========================\n",
    "# 분류: 공정 단계 기준 병목 예측\n",
    "# =========================\n",
    "import numpy as np\n",
    "import torch\n",
    "import torch.nn as nn\n",
    "import torch.optim as optim\n",
    "import joblib\n",
    "import pandas as pd\n",
    "from sklearn.pipeline import make_pipeline\n",
    "from sklearn.preprocessing import StandardScaler, LabelEncoder\n",
    "from sklearn.linear_model import LogisticRegression\n",
    "from sklearn.ensemble import RandomForestClassifier\n",
    "from xgboost import XGBClassifier\n",
    "from sklearn.metrics import accuracy_score, f1_score, balanced_accuracy_score\n",
    "from tqdm import tqdm\n",
    "\n",
    "device = torch.device(\"cuda\" if torch.cuda.is_available() else \"cpu\")\n",
    "print(\"✅ Using device:\", device)\n",
    "\n",
    "# ----- Torch MLP 정의 -----\n",
    "class TorchMLPClassifier(nn.Module):\n",
    "    def __init__(self, input_dim, hidden_dim=128, num_classes=None):\n",
    "        super().__init__()\n",
    "        self.fc1 = nn.Linear(input_dim, hidden_dim)\n",
    "        self.fc2 = nn.Linear(hidden_dim, hidden_dim // 2)\n",
    "        self.out = nn.Linear(hidden_dim // 2, num_classes)\n",
    "        self.relu = nn.ReLU()\n",
    "        self.dropout = nn.Dropout(0.3)\n",
    "\n",
    "    def forward(self, x):\n",
    "        x = self.relu(self.fc1(x))\n",
    "        x = self.dropout(self.relu(self.fc2(x)))\n",
    "        return self.out(x)\n",
    "\n",
    "def train_torch_mlp_cls(X_train, y_train, X_val, y_val, num_classes, epochs=20, lr=1e-3):\n",
    "    model = TorchMLPClassifier(X_train.shape[1], num_classes=num_classes).to(device)\n",
    "    criterion = nn.CrossEntropyLoss()\n",
    "    optimizer = optim.Adam(model.parameters(), lr=lr)\n",
    "\n",
    "    X_train_t = torch.tensor(X_train, dtype=torch.float32).to(device)\n",
    "    y_train_t = torch.tensor(y_train, dtype=torch.long).to(device)\n",
    "    X_val_t   = torch.tensor(X_val, dtype=torch.float32).to(device)\n",
    "    y_val_t   = torch.tensor(y_val, dtype=torch.long).to(device)\n",
    "\n",
    "    for epoch in range(1, epochs+1):\n",
    "        model.train()\n",
    "        optimizer.zero_grad()\n",
    "        out = model(X_train_t)\n",
    "        loss = criterion(out, y_train_t)\n",
    "        loss.backward()\n",
    "        optimizer.step()\n",
    "\n",
    "        if epoch % 2 == 0 or epoch == epochs:\n",
    "            model.eval()\n",
    "            with torch.no_grad():\n",
    "                val_out = model(X_val_t)\n",
    "                val_loss = criterion(val_out, y_val_t)\n",
    "            print(f\"[Epoch {epoch}/{epochs}] Train Loss={loss.item():.4f}, Val Loss={val_loss.item():.4f}\")\n",
    "    return model\n",
    "\n",
    "# ----- 실행 -----\n",
    "stage_targets_cls = [\n",
    "    \"Bottleneck_actual_Blanking\",\n",
    "    \"Bottleneck_actual_Press\",\n",
    "    \"Bottleneck_actual_Cell\"\n",
    "]\n",
    "\n",
    "results_stage_cls = []\n",
    "\n",
    "for target in stage_targets_cls:\n",
    "    print(f\"\\n=== Classification for {target} ===\")\n",
    "\n",
    "    # 타깃 준비\n",
    "    y_train = LabelEncoder().fit_transform(train_df[target])\n",
    "    y_val   = LabelEncoder().fit_transform(val_df[target])\n",
    "    y_test  = LabelEncoder().fit_transform(test_df[target])\n",
    "\n",
    "    cls_models = {\n",
    "        \"Logistic\": make_pipeline(StandardScaler(), LogisticRegression(max_iter=1000)),\n",
    "        \"RandomForest\": RandomForestClassifier(n_estimators=300, random_state=42, verbose=0),\n",
    "        \"XGBoost\": XGBClassifier(n_estimators=500, learning_rate=0.1, random_state=42, tree_method=\"hist\", verbose=0),\n",
    "        \"TorchMLP\": \"pytorch\"\n",
    "    }\n",
    "\n",
    "    for name, model in tqdm(cls_models.items(), desc=f\"Training {target}\"):\n",
    "        if name == \"TorchMLP\":\n",
    "            scaler = StandardScaler()\n",
    "            X_train_scaled = scaler.fit_transform(X_train)\n",
    "            X_val_scaled   = scaler.transform(X_val)\n",
    "            X_test_scaled  = scaler.transform(X_test)\n",
    "\n",
    "            torch_mlp = train_torch_mlp_cls(\n",
    "                X_train_scaled, y_train, X_val_scaled, y_val,\n",
    "                num_classes=len(np.unique(y_train)), epochs=20\n",
    "            )\n",
    "\n",
    "            torch_mlp.eval()\n",
    "            with torch.no_grad():\n",
    "                X_test_t = torch.tensor(X_test_scaled, dtype=torch.float32).to(device)\n",
    "                logits = torch_mlp(X_test_t)\n",
    "                y_pred = torch.argmax(logits, axis=1).cpu().numpy()\n",
    "        else:\n",
    "            model.fit(X_train, y_train)\n",
    "            y_pred = model.predict(X_test)\n",
    "\n",
    "        acc = accuracy_score(y_test, y_pred)\n",
    "        f1 = f1_score(y_test, y_pred, average=\"macro\")\n",
    "        bal_acc = balanced_accuracy_score(y_test, y_pred)\n",
    "        print(f\"{name:12s} | Acc={acc:.3f} | F1={f1:.3f} | BalAcc={bal_acc:.3f}\")\n",
    "\n",
    "        results_stage_cls.append({\"target\": target, \"name\": name,\n",
    "                                  \"Acc\": acc, \"F1\": f1, \"BalAcc\": bal_acc})\n",
    "\n",
    "# ----- 성능 저장 -----\n",
    "results_stage_cls_df = pd.DataFrame(results_stage_cls)\n",
    "results_stage_cls_df.to_csv(\"stage_classification_results.csv\", index=False, encoding=\"utf-8-sig\")\n",
    "print(\"✅ Stage Classification results saved to stage_classification_results.csv\")"
   ]
  },
  {
   "cell_type": "code",
   "execution_count": null,
   "id": "3aa05830-9bb4-4368-a887-158d5f05c46d",
   "metadata": {},
   "outputs": [],
   "source": []
  },
  {
   "cell_type": "code",
   "execution_count": 27,
   "id": "1847c6d0-5d05-48e1-ade1-bfccb3c4077b",
   "metadata": {},
   "outputs": [
    {
     "name": "stdout",
     "output_type": "stream",
     "text": [
      "\n",
      "=== Regression for Bottleneck_val_Blanking ===\n"
     ]
    },
    {
     "name": "stderr",
     "output_type": "stream",
     "text": [
      "Training Bottleneck_val_Blanking:  25%|████████████████████████████████▊                                                                                                  | 1/4 [00:00<00:02,  1.21it/s]"
     ]
    },
    {
     "name": "stdout",
     "output_type": "stream",
     "text": [
      "Ridge        | MAE=0.003 | RMSE=0.004 | R2=0.199\n"
     ]
    },
    {
     "name": "stderr",
     "output_type": "stream",
     "text": [
      "Training Bottleneck_val_Blanking:  50%|█████████████████████████████████████████████████████████████████                                                                 | 2/4 [26:38<31:20, 940.38s/it]"
     ]
    },
    {
     "name": "stdout",
     "output_type": "stream",
     "text": [
      "RandomForest | MAE=0.000 | RMSE=0.000 | R2=1.000\n"
     ]
    },
    {
     "name": "stderr",
     "output_type": "stream",
     "text": [
      "D:\\Project\\Python_Source\\Test01\\.venv\\Lib\\site-packages\\xgboost\\training.py:183: UserWarning: [23:55:09] WARNING: C:\\actions-runner\\_work\\xgboost\\xgboost\\src\\learner.cc:738: \n",
      "Parameters: { \"verbose\" } are not used.\n",
      "\n",
      "  bst.update(dtrain, iteration=i, fobj=obj)\n",
      "Training Bottleneck_val_Blanking:  75%|█████████████████████████████████████████████████████████████████████████████████████████████████▌                                | 3/4 [26:40<08:31, 511.64s/it]"
     ]
    },
    {
     "name": "stdout",
     "output_type": "stream",
     "text": [
      "XGBoost      | MAE=0.000 | RMSE=0.000 | R2=0.993\n",
      "[Epoch 2/20] Train Loss=0.0190, Val Loss=0.0073\n"
     ]
    },
    {
     "name": "stderr",
     "output_type": "stream",
     "text": [
      "Training Bottleneck_val_Blanking: 100%|██████████████████████████████████████████████████████████████████████████████████████████████████████████████████████████████████| 4/4 [26:41<00:00, 400.26s/it]\n"
     ]
    },
    {
     "name": "stdout",
     "output_type": "stream",
     "text": [
      "[Epoch 4/20] Train Loss=0.0137, Val Loss=0.0102\n",
      "[Epoch 6/20] Train Loss=0.0143, Val Loss=0.0073\n",
      "[Epoch 8/20] Train Loss=0.0090, Val Loss=0.0041\n",
      "[Epoch 10/20] Train Loss=0.0068, Val Loss=0.0041\n",
      "[Epoch 12/20] Train Loss=0.0068, Val Loss=0.0044\n",
      "[Epoch 14/20] Train Loss=0.0063, Val Loss=0.0038\n",
      "[Epoch 16/20] Train Loss=0.0052, Val Loss=0.0028\n",
      "[Epoch 18/20] Train Loss=0.0043, Val Loss=0.0022\n",
      "[Epoch 20/20] Train Loss=0.0040, Val Loss=0.0020\n",
      "TorchMLP     | MAE=0.036 | RMSE=0.045 | R2=-115.098\n",
      "\n",
      "=== Regression for Bottleneck_val_Press ===\n"
     ]
    },
    {
     "name": "stderr",
     "output_type": "stream",
     "text": [
      "Training Bottleneck_val_Press:  25%|█████████████████████████████████▌                                                                                                    | 1/4 [00:00<00:02,  1.30it/s]"
     ]
    },
    {
     "name": "stdout",
     "output_type": "stream",
     "text": [
      "Ridge        | MAE=5.150 | RMSE=6.735 | R2=0.764\n"
     ]
    },
    {
     "name": "stderr",
     "output_type": "stream",
     "text": [
      "Training Bottleneck_val_Press:  50%|██████████████████████████████████████████████████████████████████                                                                  | 2/4 [28:57<34:03, 1021.79s/it]"
     ]
    },
    {
     "name": "stdout",
     "output_type": "stream",
     "text": [
      "RandomForest | MAE=0.040 | RMSE=0.445 | R2=0.999\n"
     ]
    },
    {
     "name": "stderr",
     "output_type": "stream",
     "text": [
      "D:\\Project\\Python_Source\\Test01\\.venv\\Lib\\site-packages\\xgboost\\training.py:183: UserWarning: [00:24:09] WARNING: C:\\actions-runner\\_work\\xgboost\\xgboost\\src\\learner.cc:738: \n",
      "Parameters: { \"verbose\" } are not used.\n",
      "\n",
      "  bst.update(dtrain, iteration=i, fobj=obj)\n",
      "Training Bottleneck_val_Press:  75%|███████████████████████████████████████████████████████████████████████████████████████████████████▊                                 | 3/4 [28:59<09:16, 556.44s/it]"
     ]
    },
    {
     "name": "stdout",
     "output_type": "stream",
     "text": [
      "XGBoost      | MAE=0.410 | RMSE=1.385 | R2=0.990\n",
      "[Epoch 2/20] Train Loss=6595.5957, Val Loss=6571.0122\n",
      "[Epoch 4/20] Train Loss=6570.4580, Val Loss=6546.0215\n",
      "[Epoch 6/20] Train Loss=6545.0322, Val Loss=6520.2197\n",
      "[Epoch 8/20] Train Loss=6518.3457, Val Loss=6492.4824\n",
      "[Epoch 10/20] Train Loss=6489.0654, Val Loss=6461.8120\n",
      "[Epoch 12/20] Train Loss=6456.5518, Val Loss=6427.2417\n",
      "[Epoch 14/20] Train Loss=6419.2236, Val Loss=6387.8462\n",
      "[Epoch 16/20] Train Loss=6377.0142, Val Loss=6342.7593\n",
      "[Epoch 18/20] Train Loss=6328.8379, Val Loss=6291.1582\n"
     ]
    },
    {
     "name": "stderr",
     "output_type": "stream",
     "text": [
      "Training Bottleneck_val_Press: 100%|█████████████████████████████████████████████████████████████████████████████████████████████████████████████████████████████████████| 4/4 [29:00<00:00, 435.14s/it]\n"
     ]
    },
    {
     "name": "stdout",
     "output_type": "stream",
     "text": [
      "[Epoch 20/20] Train Loss=6273.1021, Val Loss=6232.2090\n",
      "TorchMLP     | MAE=77.680 | RMSE=78.822 | R2=-31.367\n",
      "\n",
      "=== Regression for Bottleneck_val_Cell ===\n"
     ]
    },
    {
     "name": "stderr",
     "output_type": "stream",
     "text": [
      "Training Bottleneck_val_Cell:  25%|█████████████████████████████████▊                                                                                                     | 1/4 [00:00<00:02,  1.36it/s]"
     ]
    },
    {
     "name": "stdout",
     "output_type": "stream",
     "text": [
      "Ridge        | MAE=3.594 | RMSE=6.737 | R2=0.995\n"
     ]
    },
    {
     "name": "stderr",
     "output_type": "stream",
     "text": [
      "Training Bottleneck_val_Cell:  50%|███████████████████████████████████████████████████████████████████                                                                   | 2/4 [24:30<28:49, 864.88s/it]"
     ]
    },
    {
     "name": "stdout",
     "output_type": "stream",
     "text": [
      "RandomForest | MAE=0.080 | RMSE=1.322 | R2=1.000\n"
     ]
    },
    {
     "name": "stderr",
     "output_type": "stream",
     "text": [
      "D:\\Project\\Python_Source\\Test01\\.venv\\Lib\\site-packages\\xgboost\\training.py:183: UserWarning: [00:48:43] WARNING: C:\\actions-runner\\_work\\xgboost\\xgboost\\src\\learner.cc:738: \n",
      "Parameters: { \"verbose\" } are not used.\n",
      "\n",
      "  bst.update(dtrain, iteration=i, fobj=obj)\n",
      "Training Bottleneck_val_Cell:  75%|████████████████████████████████████████████████████████████████████████████████████████████████████▌                                 | 3/4 [24:33<07:51, 471.36s/it]"
     ]
    },
    {
     "name": "stdout",
     "output_type": "stream",
     "text": [
      "XGBoost      | MAE=1.026 | RMSE=7.895 | R2=0.993\n",
      "[Epoch 2/20] Train Loss=45351.4258, Val Loss=45261.2617\n",
      "[Epoch 4/20] Train Loss=45286.8516, Val Loss=45197.2773\n",
      "[Epoch 6/20] Train Loss=45221.9102, Val Loss=45131.4883\n",
      "[Epoch 8/20] Train Loss=45153.1055, Val Loss=45059.1094\n",
      "[Epoch 10/20] Train Loss=45075.3477, Val Loss=44976.3047\n",
      "[Epoch 12/20] Train Loss=44986.3984, Val Loss=44880.2969\n",
      "[Epoch 14/20] Train Loss=44881.8164, Val Loss=44768.6445\n",
      "[Epoch 16/20] Train Loss=44760.9102, Val Loss=44638.8203\n",
      "[Epoch 18/20] Train Loss=44620.0781, Val Loss=44488.0469\n",
      "[Epoch 20/20] Train Loss=44457.4102, Val Loss=44313.1875\n",
      "TorchMLP     | MAE=189.603 | RMSE=210.816 | R2=-4.152\n"
     ]
    },
    {
     "name": "stderr",
     "output_type": "stream",
     "text": [
      "Training Bottleneck_val_Cell: 100%|██████████████████████████████████████████████████████████████████████████████████████████████████████████████████████████████████████| 4/4 [24:34<00:00, 368.55s/it]"
     ]
    },
    {
     "name": "stdout",
     "output_type": "stream",
     "text": [
      "✅ Stage Regression results saved to stage_regression_results.csv\n"
     ]
    },
    {
     "name": "stderr",
     "output_type": "stream",
     "text": [
      "\n"
     ]
    }
   ],
   "source": [
    "# =========================\n",
    "# 회귀: 공정 단계 기준 병목 예측\n",
    "# =========================\n",
    "import numpy as np\n",
    "import torch\n",
    "import torch.nn as nn\n",
    "import torch.optim as optim\n",
    "import joblib\n",
    "import pandas as pd\n",
    "from sklearn.pipeline import make_pipeline\n",
    "from sklearn.preprocessing import StandardScaler\n",
    "from sklearn.linear_model import RidgeCV\n",
    "from sklearn.ensemble import RandomForestRegressor\n",
    "from xgboost import XGBRegressor\n",
    "from sklearn.metrics import mean_absolute_error, mean_squared_error, r2_score\n",
    "from tqdm import tqdm\n",
    "\n",
    "# ----- Torch MLP 정의 -----\n",
    "class TorchMLPRegressor(nn.Module):\n",
    "    def __init__(self, input_dim, hidden_dim=128):\n",
    "        super().__init__()\n",
    "        self.fc1 = nn.Linear(input_dim, hidden_dim)\n",
    "        self.fc2 = nn.Linear(hidden_dim, hidden_dim // 2)\n",
    "        self.out = nn.Linear(hidden_dim // 2, 1)\n",
    "        self.relu = nn.ReLU()\n",
    "        self.dropout = nn.Dropout(0.3)\n",
    "\n",
    "    def forward(self, x):\n",
    "        x = self.relu(self.fc1(x))\n",
    "        x = self.dropout(self.relu(self.fc2(x)))\n",
    "        return self.out(x)\n",
    "\n",
    "def train_torch_mlp_reg(X_train, y_train, X_val, y_val, epochs=20, lr=1e-3):\n",
    "    model = TorchMLPRegressor(X_train.shape[1]).to(device)\n",
    "    criterion = nn.MSELoss()\n",
    "    optimizer = optim.Adam(model.parameters(), lr=lr)\n",
    "\n",
    "    X_train_t = torch.tensor(X_train, dtype=torch.float32).to(device)\n",
    "    y_train_t = torch.tensor(y_train, dtype=torch.float32).view(-1,1).to(device)\n",
    "    X_val_t   = torch.tensor(X_val, dtype=torch.float32).to(device)\n",
    "    y_val_t   = torch.tensor(y_val, dtype=torch.float32).view(-1,1).to(device)\n",
    "\n",
    "    for epoch in range(1, epochs+1):\n",
    "        model.train()\n",
    "        optimizer.zero_grad()\n",
    "        out = model(X_train_t)\n",
    "        loss = criterion(out, y_train_t)\n",
    "        loss.backward()\n",
    "        optimizer.step()\n",
    "\n",
    "        if epoch % 2 == 0 or epoch == epochs:\n",
    "            model.eval()\n",
    "            with torch.no_grad():\n",
    "                val_out = model(X_val_t)\n",
    "                val_loss = criterion(val_out, y_val_t)\n",
    "            print(f\"[Epoch {epoch}/{epochs}] Train Loss={loss.item():.4f}, Val Loss={val_loss.item():.4f}\")\n",
    "    return model\n",
    "\n",
    "# ----- 실행 -----\n",
    "stage_targets_reg = [\n",
    "    \"Bottleneck_val_Blanking\",\n",
    "    \"Bottleneck_val_Press\",\n",
    "    \"Bottleneck_val_Cell\"\n",
    "]\n",
    "\n",
    "results_stage_reg = []\n",
    "\n",
    "for target in stage_targets_reg:\n",
    "    print(f\"\\n=== Regression for {target} ===\")\n",
    "\n",
    "    y_train = train_df[target]\n",
    "    y_val   = val_df[target]\n",
    "    y_test  = test_df[target]\n",
    "\n",
    "    reg_models = {\n",
    "        \"Ridge\": make_pipeline(StandardScaler(), RidgeCV(alphas=np.logspace(-3,3,20))),\n",
    "        \"RandomForest\": RandomForestRegressor(n_estimators=300, random_state=42, verbose=0),\n",
    "        \"XGBoost\": XGBRegressor(n_estimators=500, learning_rate=0.1, random_state=42, tree_method=\"hist\", verbose=0),\n",
    "        \"TorchMLP\": \"pytorch\"\n",
    "    }\n",
    "\n",
    "    for name, model in tqdm(reg_models.items(), desc=f\"Training {target}\"):\n",
    "        if name == \"TorchMLP\":\n",
    "            scaler = StandardScaler()\n",
    "            X_train_scaled = scaler.fit_transform(X_train)\n",
    "            X_val_scaled   = scaler.transform(X_val)\n",
    "            X_test_scaled  = scaler.transform(X_test)\n",
    "\n",
    "            torch_mlp_reg = train_torch_mlp_reg(\n",
    "                X_train_scaled, y_train.values,\n",
    "                X_val_scaled, y_val.values, epochs=20\n",
    "            )\n",
    "\n",
    "            torch_mlp_reg.eval()\n",
    "            with torch.no_grad():\n",
    "                X_test_t = torch.tensor(X_test_scaled, dtype=torch.float32).to(device)\n",
    "                preds = torch_mlp_reg(X_test_t).cpu().numpy().ravel()\n",
    "        else:\n",
    "            model.fit(X_train, y_train)\n",
    "            preds = model.predict(X_test)\n",
    "\n",
    "        mae = mean_absolute_error(y_test, preds)\n",
    "        rmse = np.sqrt(mean_squared_error(y_test, preds))\n",
    "        r2 = r2_score(y_test, preds)\n",
    "        print(f\"{name:12s} | MAE={mae:.3f} | RMSE={rmse:.3f} | R2={r2:.3f}\")\n",
    "\n",
    "        results_stage_reg.append({\"target\": target, \"name\": name,\n",
    "                                  \"MAE\": mae, \"RMSE\": rmse, \"R2\": r2})\n",
    "\n",
    "# ----- 성능 저장 -----\n",
    "results_stage_reg_df = pd.DataFrame(results_stage_reg)\n",
    "results_stage_reg_df.to_csv(\"stage_regression_results.csv\", index=False, encoding=\"utf-8-sig\")\n",
    "print(\"✅ Stage Regression results saved to stage_regression_results.csv\")"
   ]
  },
  {
   "cell_type": "code",
   "execution_count": null,
   "id": "b232a7e6-5a14-42a6-89ac-6da5a9c9f0c3",
   "metadata": {},
   "outputs": [],
   "source": []
  },
  {
   "cell_type": "markdown",
   "id": "a95d0a41-cb82-4bea-9207-0d10af44ecdb",
   "metadata": {},
   "source": [
    "# 제품군(SKU) 기준 병목 예측 모델링\n",
    "- 분류 : Bottleneck_actual_SKU1 , Bottleneck_actual_SKU2 , Bottleneck_actual_SKU3 , Bottleneck_actual_SKU4\n",
    "- 회귀 : Bottleneck_val_SKU1 , Bottleneck_val_SKU2 , Bottleneck_val_SKU3, Bottleneck_val_SKU4"
   ]
  },
  {
   "cell_type": "code",
   "execution_count": 30,
   "id": "dfa9d2cc-5c0c-44a0-a582-f81ed5c72a58",
   "metadata": {},
   "outputs": [
    {
     "name": "stdout",
     "output_type": "stream",
     "text": [
      "\n",
      "[Bottleneck_actual_SKU1]\n",
      " - 고유값 개수: 1\n",
      " - 값 종류: ['Cell']\n",
      "\n",
      "[Bottleneck_actual_SKU2]\n",
      " - 고유값 개수: 1\n",
      " - 값 종류: ['Cell']\n",
      "\n",
      "[Bottleneck_actual_SKU3]\n",
      " - 고유값 개수: 1\n",
      " - 값 종류: ['Cell']\n",
      "\n",
      "[Bottleneck_actual_SKU4]\n",
      " - 고유값 개수: 1\n",
      " - 값 종류: ['Cell']\n"
     ]
    }
   ],
   "source": [
    "cols = [\n",
    "    \"Bottleneck_actual_SKU1\",\n",
    "    \"Bottleneck_actual_SKU2\",\n",
    "    \"Bottleneck_actual_SKU3\",\n",
    "    \"Bottleneck_actual_SKU4\"\n",
    "]\n",
    "\n",
    "for col in cols:\n",
    "    unique_vals = df[col].unique()\n",
    "    print(f\"\\n[{col}]\")\n",
    "    print(f\" - 고유값 개수: {len(unique_vals)}\")\n",
    "    print(f\" - 값 종류: {unique_vals.tolist()}\")"
   ]
  },
  {
   "cell_type": "markdown",
   "id": "a0e04d45-76da-4e44-9d55-799984afb6bd",
   "metadata": {},
   "source": [
    "## 분류 : target 종류가 1개여서 다른 것들처럼은 학습 불가능\n",
    "### \"UI용_병목데이터통합_02\" (주피터노트북) 파일에서처럼 시계열 기반 롤링 학습 후 예측만 그럴듯해보임"
   ]
  },
  {
   "cell_type": "code",
   "execution_count": 31,
   "id": "f9e14868-b098-4e50-bc34-3f78d5f1785f",
   "metadata": {},
   "outputs": [],
   "source": [
    "# # =========================\n",
    "# # 분류: SKU 기준 병목 예측\n",
    "# # =========================\n",
    "# import numpy as np\n",
    "# import torch\n",
    "# import torch.nn as nn\n",
    "# import torch.optim as optim\n",
    "# import joblib\n",
    "# import pandas as pd\n",
    "# from sklearn.pipeline import make_pipeline\n",
    "# from sklearn.preprocessing import StandardScaler, LabelEncoder\n",
    "# from sklearn.linear_model import LogisticRegression\n",
    "# from sklearn.ensemble import RandomForestClassifier\n",
    "# from xgboost import XGBClassifier\n",
    "# from sklearn.metrics import accuracy_score, f1_score, balanced_accuracy_score\n",
    "# from tqdm import tqdm\n",
    "\n",
    "# device = torch.device(\"cuda\" if torch.cuda.is_available() else \"cpu\")\n",
    "# print(\"✅ Using device:\", device)\n",
    "\n",
    "# # ----- Torch MLP 정의 -----\n",
    "# class TorchMLPClassifier(nn.Module):\n",
    "#     def __init__(self, input_dim, hidden_dim=128, num_classes=None):\n",
    "#         super().__init__()\n",
    "#         self.fc1 = nn.Linear(input_dim, hidden_dim)\n",
    "#         self.fc2 = nn.Linear(hidden_dim, hidden_dim // 2)\n",
    "#         self.out = nn.Linear(hidden_dim // 2, num_classes)\n",
    "#         self.relu = nn.ReLU()\n",
    "#         self.dropout = nn.Dropout(0.3)\n",
    "\n",
    "#     def forward(self, x):\n",
    "#         x = self.relu(self.fc1(x))\n",
    "#         x = self.dropout(self.relu(self.fc2(x)))\n",
    "#         return self.out(x)\n",
    "\n",
    "# def train_torch_mlp_cls(X_train, y_train, X_val, y_val, num_classes, epochs=20, lr=1e-3):\n",
    "#     model = TorchMLPClassifier(X_train.shape[1], num_classes=num_classes).to(device)\n",
    "#     criterion = nn.CrossEntropyLoss()\n",
    "#     optimizer = optim.Adam(model.parameters(), lr=lr)\n",
    "\n",
    "#     X_train_t = torch.tensor(X_train, dtype=torch.float32).to(device)\n",
    "#     y_train_t = torch.tensor(y_train, dtype=torch.long).to(device)\n",
    "#     X_val_t   = torch.tensor(X_val, dtype=torch.float32).to(device)\n",
    "#     y_val_t   = torch.tensor(y_val, dtype=torch.long).to(device)\n",
    "\n",
    "#     for epoch in range(1, epochs+1):\n",
    "#         model.train()\n",
    "#         optimizer.zero_grad()\n",
    "#         out = model(X_train_t)\n",
    "#         loss = criterion(out, y_train_t)\n",
    "#         loss.backward()\n",
    "#         optimizer.step()\n",
    "\n",
    "#         if epoch % 2 == 0 or epoch == epochs:\n",
    "#             model.eval()\n",
    "#             with torch.no_grad():\n",
    "#                 val_out = model(X_val_t)\n",
    "#                 val_loss = criterion(val_out, y_val_t)\n",
    "#             print(f\"[Epoch {epoch}/{epochs}] Train Loss={loss.item():.4f}, Val Loss={val_loss.item():.4f}\")\n",
    "#     return model\n",
    "\n",
    "\n",
    "# # ----- 실행 -----\n",
    "# sku_targets_cls = [\n",
    "#     \"Bottleneck_actual_SKU1\",\n",
    "#     \"Bottleneck_actual_SKU2\",\n",
    "#     \"Bottleneck_actual_SKU3\",\n",
    "#     \"Bottleneck_actual_SKU4\"\n",
    "# ]\n",
    "\n",
    "# results_sku_cls = []\n",
    "\n",
    "# for target in sku_targets_cls:\n",
    "#     print(f\"\\n=== Classification for {target} ===\")\n",
    "\n",
    "#     # 라벨 인코딩\n",
    "#     le = LabelEncoder()\n",
    "#     y_train = le.fit_transform(train_df[target])\n",
    "#     y_val   = le.transform(val_df[target])\n",
    "#     y_test  = le.transform(test_df[target])\n",
    "\n",
    "#     cls_models = {\n",
    "#         \"Logistic\": make_pipeline(StandardScaler(), LogisticRegression(max_iter=1000)),\n",
    "#         \"RandomForest\": RandomForestClassifier(n_estimators=300, random_state=42, verbose=0),\n",
    "#         \"XGBoost\": XGBClassifier(n_estimators=500, learning_rate=0.1, random_state=42, tree_method=\"hist\", verbose=0),\n",
    "#         \"TorchMLP\": \"pytorch\"\n",
    "#     }\n",
    "\n",
    "#     for name, model in tqdm(cls_models.items(), desc=f\"Training {target}\"):\n",
    "#         if name == \"TorchMLP\":\n",
    "#             scaler = StandardScaler()\n",
    "#             X_train_scaled = scaler.fit_transform(X_train)\n",
    "#             X_val_scaled   = scaler.transform(X_val)\n",
    "#             X_test_scaled  = scaler.transform(X_test)\n",
    "\n",
    "#             torch_mlp = train_torch_mlp_cls(\n",
    "#                 X_train_scaled, y_train, X_val_scaled, y_val,\n",
    "#                 num_classes=len(np.unique(y_train)), epochs=20\n",
    "#             )\n",
    "\n",
    "#             torch_mlp.eval()\n",
    "#             with torch.no_grad():\n",
    "#                 X_test_t = torch.tensor(X_test_scaled, dtype=torch.float32).to(device)\n",
    "#                 logits = torch_mlp(X_test_t)\n",
    "#                 y_pred = torch.argmax(logits, axis=1).cpu().numpy()\n",
    "#         else:\n",
    "#             model.fit(X_train, y_train)\n",
    "#             y_pred = model.predict(X_test)\n",
    "\n",
    "#         acc = accuracy_score(y_test, y_pred)\n",
    "#         f1 = f1_score(y_test, y_pred, average=\"macro\")\n",
    "#         bal_acc = balanced_accuracy_score(y_test, y_pred)\n",
    "#         print(f\"{name:12s} | Acc={acc:.3f} | F1={f1:.3f} | BalAcc={bal_acc:.3f}\")\n",
    "\n",
    "#         results_sku_cls.append({\"target\": target, \"name\": name,\n",
    "#                                 \"Acc\": acc, \"F1\": f1, \"BalAcc\": bal_acc})\n",
    "\n",
    "# # ----- 성능 저장 -----\n",
    "# results_sku_cls_df = pd.DataFrame(results_sku_cls)\n",
    "# results_sku_cls_df.to_csv(\"sku_classification_results.csv\", index=False, encoding=\"utf-8-sig\")\n",
    "# print(\"✅ SKU Classification results saved to sku_classification_results.csv\")"
   ]
  },
  {
   "cell_type": "code",
   "execution_count": 32,
   "id": "0db25e2a-3211-4070-bc89-b1c60f799c9c",
   "metadata": {},
   "outputs": [
    {
     "name": "stdout",
     "output_type": "stream",
     "text": [
      "\n",
      "=== Regression for Bottleneck_val_SKU1 ===\n"
     ]
    },
    {
     "name": "stderr",
     "output_type": "stream",
     "text": [
      "Training Bottleneck_val_SKU1:  25%|█████████████████████████████████▊                                                                                                     | 1/4 [00:00<00:02,  1.38it/s]"
     ]
    },
    {
     "name": "stdout",
     "output_type": "stream",
     "text": [
      "Ridge        | MAE=4.641 | RMSE=5.905 | R2=1.000\n"
     ]
    },
    {
     "name": "stderr",
     "output_type": "stream",
     "text": [
      "Training Bottleneck_val_SKU1:  50%|███████████████████████████████████████████████████████████████████                                                                   | 2/4 [20:30<24:07, 723.56s/it]"
     ]
    },
    {
     "name": "stdout",
     "output_type": "stream",
     "text": [
      "RandomForest | MAE=348.619 | RMSE=9751.489 | R2=1.000\n"
     ]
    },
    {
     "name": "stderr",
     "output_type": "stream",
     "text": [
      "D:\\Project\\Python_Source\\Test01\\.venv\\Lib\\site-packages\\xgboost\\training.py:183: UserWarning: [01:20:28] WARNING: C:\\actions-runner\\_work\\xgboost\\xgboost\\src\\learner.cc:738: \n",
      "Parameters: { \"verbose\" } are not used.\n",
      "\n",
      "  bst.update(dtrain, iteration=i, fobj=obj)\n",
      "Training Bottleneck_val_SKU1:  75%|████████████████████████████████████████████████████████████████████████████████████████████████████▌                                 | 3/4 [20:32<06:34, 394.22s/it]"
     ]
    },
    {
     "name": "stdout",
     "output_type": "stream",
     "text": [
      "XGBoost      | MAE=15375.668 | RMSE=137113.696 | R2=0.994\n"
     ]
    },
    {
     "name": "stderr",
     "output_type": "stream",
     "text": [
      "Training Bottleneck_val_SKU1: 100%|██████████████████████████████████████████████████████████████████████████████████████████████████████████████████████████████████████| 4/4 [20:33<00:00, 308.28s/it]"
     ]
    },
    {
     "name": "stdout",
     "output_type": "stream",
     "text": [
      "[Epoch 2/20] Train Loss=11460095770624.0000, Val Loss=11488958873600.0000\n",
      "[Epoch 4/20] Train Loss=11460094722048.0000, Val Loss=11488956776448.0000\n",
      "[Epoch 6/20] Train Loss=11460093673472.0000, Val Loss=11488955727872.0000\n",
      "[Epoch 8/20] Train Loss=11460093673472.0000, Val Loss=11488955727872.0000\n",
      "[Epoch 10/20] Train Loss=11460091576320.0000, Val Loss=11488954679296.0000\n",
      "[Epoch 12/20] Train Loss=11460090527744.0000, Val Loss=11488952582144.0000\n",
      "[Epoch 14/20] Train Loss=11460088430592.0000, Val Loss=11488951533568.0000\n",
      "[Epoch 16/20] Train Loss=11460087382016.0000, Val Loss=11488948387840.0000\n",
      "[Epoch 18/20] Train Loss=11460086333440.0000, Val Loss=11488946290688.0000\n",
      "[Epoch 20/20] Train Loss=11460083187712.0000, Val Loss=11488944193536.0000\n",
      "TorchMLP     | MAE=2903356.142 | RMSE=3394124.394 | R2=-2.727\n",
      "\n",
      "=== Regression for Bottleneck_val_SKU2 ===\n"
     ]
    },
    {
     "name": "stderr",
     "output_type": "stream",
     "text": [
      "\n",
      "Training Bottleneck_val_SKU2:  25%|█████████████████████████████████▊                                                                                                     | 1/4 [00:00<00:02,  1.34it/s]"
     ]
    },
    {
     "name": "stdout",
     "output_type": "stream",
     "text": [
      "Ridge        | MAE=2.938 | RMSE=3.751 | R2=1.000\n"
     ]
    },
    {
     "name": "stderr",
     "output_type": "stream",
     "text": [
      "Training Bottleneck_val_SKU2:  50%|███████████████████████████████████████████████████████████████████                                                                   | 2/4 [20:12<23:45, 712.88s/it]"
     ]
    },
    {
     "name": "stdout",
     "output_type": "stream",
     "text": [
      "RandomForest | MAE=150.879 | RMSE=2982.883 | R2=1.000\n"
     ]
    },
    {
     "name": "stderr",
     "output_type": "stream",
     "text": [
      "D:\\Project\\Python_Source\\Test01\\.venv\\Lib\\site-packages\\xgboost\\training.py:183: UserWarning: [01:40:43] WARNING: C:\\actions-runner\\_work\\xgboost\\xgboost\\src\\learner.cc:738: \n",
      "Parameters: { \"verbose\" } are not used.\n",
      "\n",
      "  bst.update(dtrain, iteration=i, fobj=obj)\n",
      "Training Bottleneck_val_SKU2:  75%|████████████████████████████████████████████████████████████████████████████████████████████████████▌                                 | 3/4 [20:14<06:28, 388.42s/it]"
     ]
    },
    {
     "name": "stdout",
     "output_type": "stream",
     "text": [
      "XGBoost      | MAE=9745.460 | RMSE=82651.024 | R2=0.994\n",
      "[Epoch 2/20] Train Loss=6035350749184.0000, Val Loss=5999507800064.0000\n"
     ]
    },
    {
     "name": "stderr",
     "output_type": "stream",
     "text": [
      "Training Bottleneck_val_SKU2: 100%|██████████████████████████████████████████████████████████████████████████████████████████████████████████████████████████████████████| 4/4 [20:15<00:00, 303.97s/it]\n"
     ]
    },
    {
     "name": "stdout",
     "output_type": "stream",
     "text": [
      "[Epoch 4/20] Train Loss=6035349700608.0000, Val Loss=5999507275776.0000\n",
      "[Epoch 6/20] Train Loss=6035349176320.0000, Val Loss=5999506227200.0000\n",
      "[Epoch 8/20] Train Loss=6035348127744.0000, Val Loss=5999505178624.0000\n",
      "[Epoch 10/20] Train Loss=6035347079168.0000, Val Loss=5999504654336.0000\n",
      "[Epoch 12/20] Train Loss=6035346030592.0000, Val Loss=5999503605760.0000\n",
      "[Epoch 14/20] Train Loss=6035344457728.0000, Val Loss=5999502032896.0000\n",
      "[Epoch 16/20] Train Loss=6035343409152.0000, Val Loss=5999499935744.0000\n",
      "[Epoch 18/20] Train Loss=6035341312000.0000, Val Loss=5999498362880.0000\n",
      "[Epoch 20/20] Train Loss=6035339214848.0000, Val Loss=5999495741440.0000\n",
      "TorchMLP     | MAE=2214310.212 | RMSE=2456615.948 | R2=-4.332\n",
      "\n",
      "=== Regression for Bottleneck_val_SKU3 ===\n"
     ]
    },
    {
     "name": "stderr",
     "output_type": "stream",
     "text": [
      "Training Bottleneck_val_SKU3:  25%|█████████████████████████████████▊                                                                                                     | 1/4 [00:00<00:02,  1.39it/s]"
     ]
    },
    {
     "name": "stdout",
     "output_type": "stream",
     "text": [
      "Ridge        | MAE=1.229 | RMSE=1.579 | R2=1.000\n"
     ]
    },
    {
     "name": "stderr",
     "output_type": "stream",
     "text": [
      "Training Bottleneck_val_SKU3:  50%|███████████████████████████████████████████████████████████████████                                                                   | 2/4 [19:56<23:27, 703.58s/it]"
     ]
    },
    {
     "name": "stdout",
     "output_type": "stream",
     "text": [
      "RandomForest | MAE=42.878 | RMSE=1759.919 | R2=1.000\n"
     ]
    },
    {
     "name": "stderr",
     "output_type": "stream",
     "text": [
      "D:\\Project\\Python_Source\\Test01\\.venv\\Lib\\site-packages\\xgboost\\training.py:183: UserWarning: [02:00:43] WARNING: C:\\actions-runner\\_work\\xgboost\\xgboost\\src\\learner.cc:738: \n",
      "Parameters: { \"verbose\" } are not used.\n",
      "\n",
      "  bst.update(dtrain, iteration=i, fobj=obj)\n",
      "Training Bottleneck_val_SKU3:  75%|████████████████████████████████████████████████████████████████████████████████████████████████████▌                                 | 3/4 [19:58<06:23, 383.39s/it]"
     ]
    },
    {
     "name": "stdout",
     "output_type": "stream",
     "text": [
      "XGBoost      | MAE=2853.393 | RMSE=22272.793 | R2=0.995\n",
      "[Epoch 2/20] Train Loss=1402826522624.0000, Val Loss=1393804836864.0000\n",
      "[Epoch 4/20] Train Loss=1402826129408.0000, Val Loss=1393804574720.0000\n"
     ]
    },
    {
     "name": "stderr",
     "output_type": "stream",
     "text": [
      "Training Bottleneck_val_SKU3: 100%|██████████████████████████████████████████████████████████████████████████████████████████████████████████████████████████████████████| 4/4 [20:00<00:00, 300.02s/it]\n"
     ]
    },
    {
     "name": "stdout",
     "output_type": "stream",
     "text": [
      "[Epoch 6/20] Train Loss=1402825605120.0000, Val Loss=1393804181504.0000\n",
      "[Epoch 8/20] Train Loss=1402825211904.0000, Val Loss=1393803526144.0000\n",
      "[Epoch 10/20] Train Loss=1402824687616.0000, Val Loss=1393803001856.0000\n",
      "[Epoch 12/20] Train Loss=1402824163328.0000, Val Loss=1393802346496.0000\n",
      "[Epoch 14/20] Train Loss=1402823376896.0000, Val Loss=1393801691136.0000\n",
      "[Epoch 16/20] Train Loss=1402822459392.0000, Val Loss=1393800642560.0000\n",
      "[Epoch 18/20] Train Loss=1402821541888.0000, Val Loss=1393799725056.0000\n",
      "[Epoch 20/20] Train Loss=1402820493312.0000, Val Loss=1393798545408.0000\n",
      "TorchMLP     | MAE=1134146.202 | RMSE=1181416.158 | R2=-11.752\n",
      "\n",
      "=== Regression for Bottleneck_val_SKU4 ===\n"
     ]
    },
    {
     "name": "stderr",
     "output_type": "stream",
     "text": [
      "Training Bottleneck_val_SKU4:  25%|█████████████████████████████████▊                                                                                                     | 1/4 [00:00<00:02,  1.40it/s]"
     ]
    },
    {
     "name": "stdout",
     "output_type": "stream",
     "text": [
      "Ridge        | MAE=0.619 | RMSE=0.780 | R2=1.000\n"
     ]
    },
    {
     "name": "stderr",
     "output_type": "stream",
     "text": [
      "Training Bottleneck_val_SKU4:  50%|███████████████████████████████████████████████████████████████████                                                                   | 2/4 [20:00<23:31, 705.93s/it]"
     ]
    },
    {
     "name": "stdout",
     "output_type": "stream",
     "text": [
      "RandomForest | MAE=34.258 | RMSE=612.827 | R2=1.000\n"
     ]
    },
    {
     "name": "stderr",
     "output_type": "stream",
     "text": [
      "D:\\Project\\Python_Source\\Test01\\.venv\\Lib\\site-packages\\xgboost\\training.py:183: UserWarning: [02:20:48] WARNING: C:\\actions-runner\\_work\\xgboost\\xgboost\\src\\learner.cc:738: \n",
      "Parameters: { \"verbose\" } are not used.\n",
      "\n",
      "  bst.update(dtrain, iteration=i, fobj=obj)\n",
      "Training Bottleneck_val_SKU4:  75%|████████████████████████████████████████████████████████████████████████████████████████████████████▌                                 | 3/4 [20:02<06:24, 384.67s/it]"
     ]
    },
    {
     "name": "stdout",
     "output_type": "stream",
     "text": [
      "XGBoost      | MAE=2564.688 | RMSE=13830.368 | R2=0.998\n",
      "[Epoch 2/20] Train Loss=1688818548736.0000, Val Loss=1684575879168.0000\n"
     ]
    },
    {
     "name": "stderr",
     "output_type": "stream",
     "text": [
      "Training Bottleneck_val_SKU4: 100%|██████████████████████████████████████████████████████████████████████████████████████████████████████████████████████████████████████| 4/4 [20:04<00:00, 301.02s/it]"
     ]
    },
    {
     "name": "stdout",
     "output_type": "stream",
     "text": [
      "[Epoch 4/20] Train Loss=1688818155520.0000, Val Loss=1684575485952.0000\n",
      "[Epoch 6/20] Train Loss=1688817762304.0000, Val Loss=1684574961664.0000\n",
      "[Epoch 8/20] Train Loss=1688817369088.0000, Val Loss=1684574568448.0000\n",
      "[Epoch 10/20] Train Loss=1688816844800.0000, Val Loss=1684574175232.0000\n",
      "[Epoch 12/20] Train Loss=1688816320512.0000, Val Loss=1684573650944.0000\n",
      "[Epoch 14/20] Train Loss=1688815796224.0000, Val Loss=1684573126656.0000\n",
      "[Epoch 16/20] Train Loss=1688815271936.0000, Val Loss=1684572209152.0000\n",
      "[Epoch 18/20] Train Loss=1688814354432.0000, Val Loss=1684571291648.0000\n",
      "[Epoch 20/20] Train Loss=1688813305856.0000, Val Loss=1684570374144.0000\n",
      "TorchMLP     | MAE=1259639.080 | RMSE=1298778.435 | R2=-15.846\n",
      "✅ SKU Regression results saved to sku_regression_results.csv\n"
     ]
    },
    {
     "name": "stderr",
     "output_type": "stream",
     "text": [
      "\n"
     ]
    }
   ],
   "source": [
    "# =========================\n",
    "# 회귀: SKU 기준 병목 예측\n",
    "# =========================\n",
    "import numpy as np\n",
    "import torch\n",
    "import torch.nn as nn\n",
    "import torch.optim as optim\n",
    "import joblib\n",
    "import pandas as pd\n",
    "from sklearn.pipeline import make_pipeline\n",
    "from sklearn.preprocessing import StandardScaler\n",
    "from sklearn.linear_model import RidgeCV\n",
    "from sklearn.ensemble import RandomForestRegressor\n",
    "from xgboost import XGBRegressor\n",
    "from sklearn.metrics import mean_absolute_error, mean_squared_error, r2_score\n",
    "from tqdm import tqdm\n",
    "\n",
    "# ----- Torch MLP 정의 -----\n",
    "class TorchMLPRegressor(nn.Module):\n",
    "    def __init__(self, input_dim, hidden_dim=128):\n",
    "        super().__init__()\n",
    "        self.fc1 = nn.Linear(input_dim, hidden_dim)\n",
    "        self.fc2 = nn.Linear(hidden_dim, hidden_dim // 2)\n",
    "        self.out = nn.Linear(hidden_dim // 2, 1)\n",
    "        self.relu = nn.ReLU()\n",
    "        self.dropout = nn.Dropout(0.3)\n",
    "\n",
    "    def forward(self, x):\n",
    "        x = self.relu(self.fc1(x))\n",
    "        x = self.dropout(self.relu(self.fc2(x)))\n",
    "        return self.out(x)\n",
    "\n",
    "def train_torch_mlp_reg(X_train, y_train, X_val, y_val, epochs=20, lr=1e-3):\n",
    "    model = TorchMLPRegressor(X_train.shape[1]).to(device)\n",
    "    criterion = nn.MSELoss()\n",
    "    optimizer = optim.Adam(model.parameters(), lr=lr)\n",
    "\n",
    "    X_train_t = torch.tensor(X_train, dtype=torch.float32).to(device)\n",
    "    y_train_t = torch.tensor(y_train, dtype=torch.float32).view(-1,1).to(device)\n",
    "    X_val_t   = torch.tensor(X_val, dtype=torch.float32).to(device)\n",
    "    y_val_t   = torch.tensor(y_val, dtype=torch.float32).view(-1,1).to(device)\n",
    "\n",
    "    for epoch in range(1, epochs+1):\n",
    "        model.train()\n",
    "        optimizer.zero_grad()\n",
    "        out = model(X_train_t)\n",
    "        loss = criterion(out, y_train_t)\n",
    "        loss.backward()\n",
    "        optimizer.step()\n",
    "\n",
    "        if epoch % 2 == 0 or epoch == epochs:\n",
    "            model.eval()\n",
    "            with torch.no_grad():\n",
    "                val_out = model(X_val_t)\n",
    "                val_loss = criterion(val_out, y_val_t)\n",
    "            print(f\"[Epoch {epoch}/{epochs}] Train Loss={loss.item():.4f}, Val Loss={val_loss.item():.4f}\")\n",
    "    return model\n",
    "\n",
    "\n",
    "# ----- 실행 -----\n",
    "sku_targets_reg = [\n",
    "    \"Bottleneck_val_SKU1\",\n",
    "    \"Bottleneck_val_SKU2\",\n",
    "    \"Bottleneck_val_SKU3\",\n",
    "    \"Bottleneck_val_SKU4\"\n",
    "]\n",
    "\n",
    "results_sku_reg = []\n",
    "\n",
    "for target in sku_targets_reg:\n",
    "    print(f\"\\n=== Regression for {target} ===\")\n",
    "\n",
    "    y_train = train_df[target]\n",
    "    y_val   = val_df[target]\n",
    "    y_test  = test_df[target]\n",
    "\n",
    "    reg_models = {\n",
    "        \"Ridge\": make_pipeline(StandardScaler(), RidgeCV(alphas=np.logspace(-3,3,20))),\n",
    "        \"RandomForest\": RandomForestRegressor(n_estimators=300, random_state=42, verbose=0),\n",
    "        \"XGBoost\": XGBRegressor(n_estimators=500, learning_rate=0.1, random_state=42, tree_method=\"hist\", verbose=0),\n",
    "        \"TorchMLP\": \"pytorch\"\n",
    "    }\n",
    "\n",
    "    for name, model in tqdm(reg_models.items(), desc=f\"Training {target}\"):\n",
    "        if name == \"TorchMLP\":\n",
    "            scaler = StandardScaler()\n",
    "            X_train_scaled = scaler.fit_transform(X_train)\n",
    "            X_val_scaled   = scaler.transform(X_val)\n",
    "            X_test_scaled  = scaler.transform(X_test)\n",
    "\n",
    "            torch_mlp_reg = train_torch_mlp_reg(\n",
    "                X_train_scaled, y_train.values,\n",
    "                X_val_scaled, y_val.values, epochs=20\n",
    "            )\n",
    "\n",
    "            torch_mlp_reg.eval()\n",
    "            with torch.no_grad():\n",
    "                X_test_t = torch.tensor(X_test_scaled, dtype=torch.float32).to(device)\n",
    "                preds = torch_mlp_reg(X_test_t).cpu().numpy().ravel()\n",
    "        else:\n",
    "            model.fit(X_train, y_train)\n",
    "            preds = model.predict(X_test)\n",
    "\n",
    "        mae = mean_absolute_error(y_test, preds)\n",
    "        rmse = np.sqrt(mean_squared_error(y_test, preds))\n",
    "        r2 = r2_score(y_test, preds)\n",
    "        print(f\"{name:12s} | MAE={mae:.3f} | RMSE={rmse:.3f} | R2={r2:.3f}\")\n",
    "\n",
    "        results_sku_reg.append({\"target\": target, \"name\": name,\n",
    "                                \"MAE\": mae, \"RMSE\": rmse, \"R2\": r2})\n",
    "\n",
    "# ----- 성능 저장 -----\n",
    "results_sku_reg_df = pd.DataFrame(results_sku_reg)\n",
    "results_sku_reg_df.to_csv(\"sku_regression_results.csv\", index=False, encoding=\"utf-8-sig\")\n",
    "print(\"✅ SKU Regression results saved to sku_regression_results.csv\")"
   ]
  },
  {
   "cell_type": "code",
   "execution_count": null,
   "id": "ffc5a125-7338-46ed-ab7e-c5af45db0e70",
   "metadata": {},
   "outputs": [],
   "source": []
  },
  {
   "cell_type": "code",
   "execution_count": null,
   "id": "ceea206f-8b0b-4fc9-b401-cbfa2ab76003",
   "metadata": {},
   "outputs": [],
   "source": []
  },
  {
   "cell_type": "code",
   "execution_count": null,
   "id": "455b10ef-3d01-48e8-a3b5-4c99bbeed5aa",
   "metadata": {},
   "outputs": [],
   "source": []
  }
 ],
 "metadata": {
  "kernelspec": {
   "display_name": "Python 3 (ipykernel)",
   "language": "python",
   "name": "python3"
  },
  "language_info": {
   "codemirror_mode": {
    "name": "ipython",
    "version": 3
   },
   "file_extension": ".py",
   "mimetype": "text/x-python",
   "name": "python",
   "nbconvert_exporter": "python",
   "pygments_lexer": "ipython3",
   "version": "3.11.9"
  }
 },
 "nbformat": 4,
 "nbformat_minor": 5
}
