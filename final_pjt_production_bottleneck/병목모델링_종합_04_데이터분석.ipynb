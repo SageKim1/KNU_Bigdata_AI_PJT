{
 "cells": [
  {
   "cell_type": "code",
   "execution_count": 1,
   "id": "a7335898-4a86-40eb-bede-725e8456febf",
   "metadata": {},
   "outputs": [
    {
     "name": "stderr",
     "output_type": "stream",
     "text": [
      "C:\\Users\\KDT6\\AppData\\Local\\Temp\\ipykernel_31772\\4284841679.py:5: DtypeWarning: Columns (24) have mixed types. Specify dtype option on import or set low_memory=False.\n",
      "  df = pd.read_csv(file_path)\n"
     ]
    },
    {
     "data": {
      "text/html": [
       "<div>\n",
       "<style scoped>\n",
       "    .dataframe tbody tr th:only-of-type {\n",
       "        vertical-align: middle;\n",
       "    }\n",
       "\n",
       "    .dataframe tbody tr th {\n",
       "        vertical-align: top;\n",
       "    }\n",
       "\n",
       "    .dataframe thead th {\n",
       "        text-align: right;\n",
       "    }\n",
       "</style>\n",
       "<table border=\"1\" class=\"dataframe\">\n",
       "  <thead>\n",
       "    <tr style=\"text-align: right;\">\n",
       "      <th></th>\n",
       "      <th>Time_Now</th>\n",
       "      <th>Blanking_Util</th>\n",
       "      <th>Blanking_SKU1_Queue</th>\n",
       "      <th>Blanking_SKU2_Queue</th>\n",
       "      <th>Blanking_SKU3_Queue</th>\n",
       "      <th>Blanking_SKU4_Queue</th>\n",
       "      <th>Press1_Util</th>\n",
       "      <th>Press2_Util</th>\n",
       "      <th>Press3_Util</th>\n",
       "      <th>Press4_Util</th>\n",
       "      <th>...</th>\n",
       "      <th>SKU3_NVA_Time</th>\n",
       "      <th>SKU3_Transport_Time</th>\n",
       "      <th>SKU3_Wait_Time</th>\n",
       "      <th>SKU3_Other_Time</th>\n",
       "      <th>SKU4_VA_Time</th>\n",
       "      <th>SKU4_NVA_Time</th>\n",
       "      <th>SKU4_Transport_Time</th>\n",
       "      <th>SKU4_Wait_Time</th>\n",
       "      <th>SKU4_Other_Time</th>\n",
       "      <th>Blanking_Queue</th>\n",
       "    </tr>\n",
       "  </thead>\n",
       "  <tbody>\n",
       "    <tr>\n",
       "      <th>0</th>\n",
       "      <td>24</td>\n",
       "      <td>0.846367</td>\n",
       "      <td>0.045715</td>\n",
       "      <td>0.056373</td>\n",
       "      <td>0.055737</td>\n",
       "      <td>0.035849</td>\n",
       "      <td>0.410297</td>\n",
       "      <td>0.434561</td>\n",
       "      <td>0.481388</td>\n",
       "      <td>0.399992</td>\n",
       "      <td>...</td>\n",
       "      <td>0.0</td>\n",
       "      <td>0.537617</td>\n",
       "      <td>0.453650</td>\n",
       "      <td>0.0</td>\n",
       "      <td>1.523338</td>\n",
       "      <td>0.0</td>\n",
       "      <td>0.536243</td>\n",
       "      <td>0.473453</td>\n",
       "      <td>0.0</td>\n",
       "      <td>58.361452</td>\n",
       "    </tr>\n",
       "    <tr>\n",
       "      <th>1</th>\n",
       "      <td>24</td>\n",
       "      <td>0.851097</td>\n",
       "      <td>0.051937</td>\n",
       "      <td>0.052934</td>\n",
       "      <td>0.038512</td>\n",
       "      <td>0.042248</td>\n",
       "      <td>0.455471</td>\n",
       "      <td>0.454445</td>\n",
       "      <td>0.387975</td>\n",
       "      <td>0.442986</td>\n",
       "      <td>...</td>\n",
       "      <td>0.0</td>\n",
       "      <td>0.536764</td>\n",
       "      <td>0.473677</td>\n",
       "      <td>0.0</td>\n",
       "      <td>1.523344</td>\n",
       "      <td>0.0</td>\n",
       "      <td>0.534992</td>\n",
       "      <td>0.464380</td>\n",
       "      <td>0.0</td>\n",
       "      <td>62.830599</td>\n",
       "    </tr>\n",
       "    <tr>\n",
       "      <th>2</th>\n",
       "      <td>24</td>\n",
       "      <td>0.846115</td>\n",
       "      <td>0.052210</td>\n",
       "      <td>0.047499</td>\n",
       "      <td>0.043181</td>\n",
       "      <td>0.040979</td>\n",
       "      <td>0.496717</td>\n",
       "      <td>0.450816</td>\n",
       "      <td>0.417308</td>\n",
       "      <td>0.352829</td>\n",
       "      <td>...</td>\n",
       "      <td>0.0</td>\n",
       "      <td>0.535925</td>\n",
       "      <td>0.424090</td>\n",
       "      <td>0.0</td>\n",
       "      <td>1.523403</td>\n",
       "      <td>0.0</td>\n",
       "      <td>0.535077</td>\n",
       "      <td>0.475330</td>\n",
       "      <td>0.0</td>\n",
       "      <td>59.365867</td>\n",
       "    </tr>\n",
       "    <tr>\n",
       "      <th>3</th>\n",
       "      <td>24</td>\n",
       "      <td>0.841306</td>\n",
       "      <td>0.051769</td>\n",
       "      <td>0.035436</td>\n",
       "      <td>0.046788</td>\n",
       "      <td>0.052362</td>\n",
       "      <td>0.433749</td>\n",
       "      <td>0.363004</td>\n",
       "      <td>0.443909</td>\n",
       "      <td>0.456036</td>\n",
       "      <td>...</td>\n",
       "      <td>0.0</td>\n",
       "      <td>0.535232</td>\n",
       "      <td>0.430992</td>\n",
       "      <td>0.0</td>\n",
       "      <td>1.523381</td>\n",
       "      <td>0.0</td>\n",
       "      <td>0.533233</td>\n",
       "      <td>0.463801</td>\n",
       "      <td>0.0</td>\n",
       "      <td>56.698528</td>\n",
       "    </tr>\n",
       "    <tr>\n",
       "      <th>4</th>\n",
       "      <td>24</td>\n",
       "      <td>0.859599</td>\n",
       "      <td>0.045874</td>\n",
       "      <td>0.046802</td>\n",
       "      <td>0.044507</td>\n",
       "      <td>0.057210</td>\n",
       "      <td>0.418329</td>\n",
       "      <td>0.396826</td>\n",
       "      <td>0.499273</td>\n",
       "      <td>0.472454</td>\n",
       "      <td>...</td>\n",
       "      <td>0.0</td>\n",
       "      <td>0.538142</td>\n",
       "      <td>0.502614</td>\n",
       "      <td>0.0</td>\n",
       "      <td>1.523363</td>\n",
       "      <td>0.0</td>\n",
       "      <td>0.537223</td>\n",
       "      <td>0.449320</td>\n",
       "      <td>0.0</td>\n",
       "      <td>65.784631</td>\n",
       "    </tr>\n",
       "  </tbody>\n",
       "</table>\n",
       "<p>5 rows × 78 columns</p>\n",
       "</div>"
      ],
      "text/plain": [
       "   Time_Now  Blanking_Util  Blanking_SKU1_Queue  Blanking_SKU2_Queue  \\\n",
       "0        24       0.846367             0.045715             0.056373   \n",
       "1        24       0.851097             0.051937             0.052934   \n",
       "2        24       0.846115             0.052210             0.047499   \n",
       "3        24       0.841306             0.051769             0.035436   \n",
       "4        24       0.859599             0.045874             0.046802   \n",
       "\n",
       "   Blanking_SKU3_Queue  Blanking_SKU4_Queue  Press1_Util  Press2_Util  \\\n",
       "0             0.055737             0.035849     0.410297     0.434561   \n",
       "1             0.038512             0.042248     0.455471     0.454445   \n",
       "2             0.043181             0.040979     0.496717     0.450816   \n",
       "3             0.046788             0.052362     0.433749     0.363004   \n",
       "4             0.044507             0.057210     0.418329     0.396826   \n",
       "\n",
       "   Press3_Util  Press4_Util  ...  SKU3_NVA_Time  SKU3_Transport_Time  \\\n",
       "0     0.481388     0.399992  ...            0.0             0.537617   \n",
       "1     0.387975     0.442986  ...            0.0             0.536764   \n",
       "2     0.417308     0.352829  ...            0.0             0.535925   \n",
       "3     0.443909     0.456036  ...            0.0             0.535232   \n",
       "4     0.499273     0.472454  ...            0.0             0.538142   \n",
       "\n",
       "   SKU3_Wait_Time  SKU3_Other_Time  SKU4_VA_Time  SKU4_NVA_Time  \\\n",
       "0        0.453650              0.0      1.523338            0.0   \n",
       "1        0.473677              0.0      1.523344            0.0   \n",
       "2        0.424090              0.0      1.523403            0.0   \n",
       "3        0.430992              0.0      1.523381            0.0   \n",
       "4        0.502614              0.0      1.523363            0.0   \n",
       "\n",
       "   SKU4_Transport_Time  SKU4_Wait_Time  SKU4_Other_Time  Blanking_Queue  \n",
       "0             0.536243        0.473453              0.0       58.361452  \n",
       "1             0.534992        0.464380              0.0       62.830599  \n",
       "2             0.535077        0.475330              0.0       59.365867  \n",
       "3             0.533233        0.463801              0.0       56.698528  \n",
       "4             0.537223        0.449320              0.0       65.784631  \n",
       "\n",
       "[5 rows x 78 columns]"
      ]
     },
     "execution_count": 1,
     "metadata": {},
     "output_type": "execute_result"
    }
   ],
   "source": [
    "import pandas as pd\n",
    "\n",
    "# Load the CSV file\n",
    "file_path = \"./Final Results Extended big.csv\"\n",
    "df = pd.read_csv(file_path)\n",
    "df.head()"
   ]
  },
  {
   "cell_type": "code",
   "execution_count": 2,
   "id": "5e099efd-40c6-42f0-8fe3-7d408ac6a6d8",
   "metadata": {},
   "outputs": [
    {
     "name": "stdout",
     "output_type": "stream",
     "text": [
      "🗑 제거 대상 컬럼 수: 15개\n",
      "['SKU3_Other_Time', 'SKU2_Other_Time', 'Cell2_Queue', 'Cell4_Queue', 'Time_Now', 'SKU2_NVA_Time', 'c_Cell3__SKU1', 'Cell3_Queue', 'SKU1_NVA_Time', 'Cell1_Queue', 'SKU3_NVA_Time', 'SKU4_Other_Time', 'SKU4_NVA_Time', 'SKU1_Other_Time', 'c_Cell2__SKU3']\n",
      "✅ 제거 후 컬럼 수: 63\n"
     ]
    }
   ],
   "source": [
    "# =========================\n",
    "# 1. 상수컬럼 및 전부 0인 컬럼 제거\n",
    "# =========================\n",
    "\n",
    "# (1) 상수컬럼: 데이터가 모두 같은 값인 컬럼\n",
    "const_cols = [col for col in df.columns if df[col].nunique() == 1]\n",
    "\n",
    "# (2) 전부 0인 컬럼\n",
    "zero_cols = [col for col in df.columns if (df[col] == 0).all()]\n",
    "\n",
    "# 합치기 (중복 제거)\n",
    "drop_cols = list(set(const_cols + zero_cols))\n",
    "\n",
    "print(f\"🗑 제거 대상 컬럼 수: {len(drop_cols)}개\")\n",
    "print(drop_cols)\n",
    "\n",
    "# 실제 제거\n",
    "df = df.drop(columns=drop_cols)\n",
    "\n",
    "print(f\"✅ 제거 후 컬럼 수: {df.shape[1]}\")"
   ]
  },
  {
   "cell_type": "code",
   "execution_count": 3,
   "id": "84be1479-6a3c-4123-b208-a669f9dd02cd",
   "metadata": {},
   "outputs": [
    {
     "name": "stdout",
     "output_type": "stream",
     "text": [
      "⚠️ 결측치 요약:\n",
      "SKU1_Transport_Time    1\n",
      "SKU1_Wait_Time         2\n",
      "SKU2_VA_Time           2\n",
      "SKU2_Transport_Time    2\n",
      "SKU2_Wait_Time         2\n",
      "SKU3_VA_Time           2\n",
      "SKU3_Transport_Time    2\n",
      "SKU3_Wait_Time         2\n",
      "SKU4_VA_Time           2\n",
      "SKU4_Transport_Time    3\n",
      "SKU4_Wait_Time         3\n",
      "Blanking_Queue         3\n",
      "dtype: int64\n"
     ]
    }
   ],
   "source": [
    "# =========================\n",
    "# 2. 결측치 확인\n",
    "# =========================\n",
    "missing_summary = df.isnull().sum()\n",
    "missing_summary = missing_summary[missing_summary > 0]\n",
    "\n",
    "if missing_summary.empty:\n",
    "    print(\"✅ 결측치 없음\")\n",
    "else:\n",
    "    print(\"⚠️ 결측치 요약:\")\n",
    "    print(missing_summary)"
   ]
  },
  {
   "cell_type": "code",
   "execution_count": 4,
   "id": "9857eded-a18e-49aa-8593-e1e5b1461c33",
   "metadata": {},
   "outputs": [
    {
     "name": "stdout",
     "output_type": "stream",
     "text": [
      "✅ 결측치가 있는 행 3개 제거 완료 (남은 행: 730493)\n",
      "\n",
      "Series([], dtype: int64)\n"
     ]
    }
   ],
   "source": [
    "# =========================\n",
    "# 3. 결측치 제거\n",
    "# =========================\n",
    "if not missing_summary.empty:\n",
    "    before = df.shape[0]\n",
    "    df = df.dropna()  # 결측치가 하나라도 있는 행 제거\n",
    "    after = df.shape[0]\n",
    "    print(f\"✅ 결측치가 있는 행 {before - after}개 제거 완료 (남은 행: {after})\")\n",
    "\n",
    "print()\n",
    "missing_summary2 = df.isnull().sum()\n",
    "missing_summary2 = missing_summary2[missing_summary2 > 0]\n",
    "print(missing_summary2)"
   ]
  },
  {
   "cell_type": "code",
   "execution_count": 5,
   "id": "f49c6f44-3126-47f2-9bf4-fb28f1813774",
   "metadata": {},
   "outputs": [
    {
     "name": "stdout",
     "output_type": "stream",
     "text": [
      "Warehouse Queue cols: ['Warehouse1_Queue', 'Warehouse_2_Queue', 'Warehouse_3_Queue', 'Warehouse_4_Queue']\n",
      "✅ 이름 변경 매핑: {'Warehouse1_Queue': 'Cell1_Queue', 'Warehouse_2_Queue': 'Cell2_Queue', 'Warehouse_3_Queue': 'Cell3_Queue', 'Warehouse_4_Queue': 'Cell4_Queue'}\n",
      "변경 후 Queue 관련 컬럼: ['Blanking_SKU1_Queue', 'Blanking_SKU2_Queue', 'Blanking_SKU3_Queue', 'Blanking_SKU4_Queue', 'Press1_Queue', 'Press2_Queue', 'Press3_Queue', 'Press4_Queue', 'Cell1_Queue', 'Cell2_Queue', 'Cell3_Queue', 'Cell4_Queue', 'Paint1_Queue', 'Paint2_Queue', 'Quality_Queue', 'Forklift_Blanking_Queue', 'Forklift_Press_Queue', 'Forklift_Assembly_Queue', 'Blanking_Queue']\n"
     ]
    }
   ],
   "source": [
    "# =========================\n",
    "# 1) Warehouse Queue 컬럼 찾기\n",
    "# =========================\n",
    "warehouse_cols = [c for c in df.columns if \"warehouse\" in c.lower() and \"queue\" in c.lower()]\n",
    "print(\"Warehouse Queue cols:\", warehouse_cols)\n",
    "\n",
    "# =========================\n",
    "# 2) Warehouse 번호 → Cell 번호로 변환\n",
    "# =========================\n",
    "rename_map = {}\n",
    "for w in warehouse_cols:\n",
    "    # 숫자 추출 (예: Warehouse1_Queue → 1)\n",
    "    num = ''.join(filter(str.isdigit, w))\n",
    "    if num:\n",
    "        new_name = f\"Cell{num}_Queue\"\n",
    "        rename_map[w] = new_name\n",
    "\n",
    "# =========================\n",
    "# 3) 컬럼명 변경\n",
    "# =========================\n",
    "df = df.rename(columns=rename_map)\n",
    "\n",
    "print(\"✅ 이름 변경 매핑:\", rename_map)\n",
    "print(\"변경 후 Queue 관련 컬럼:\", [c for c in df.columns if \"queue\" in c.lower()])"
   ]
  },
  {
   "cell_type": "code",
   "execution_count": 7,
   "id": "85e59011-5afa-4224-a447-13b269af46e0",
   "metadata": {},
   "outputs": [
    {
     "name": "stdout",
     "output_type": "stream",
     "text": [
      "Queue 관련 컬럼 수: 19\n",
      "['Blanking_SKU1_Queue', 'Blanking_SKU2_Queue', 'Blanking_SKU3_Queue', 'Blanking_SKU4_Queue', 'Press1_Queue', 'Press2_Queue', 'Press3_Queue', 'Press4_Queue', 'Cell1_Queue', 'Cell2_Queue']\n",
      "              Bottleneck_actual  Bottleneck_val\n",
      "730491              Cell1_Queue      351.987571\n",
      "730492  Forklift_Blanking_Queue      159.652449\n",
      "730493  Forklift_Blanking_Queue      149.186449\n",
      "730494  Forklift_Blanking_Queue      144.347610\n",
      "730495  Forklift_Blanking_Queue      142.087445\n"
     ]
    }
   ],
   "source": [
    "# =========================\n",
    "# 1) Queue 컬럼 찾기 (대소문자 무시)\n",
    "# =========================\n",
    "queue_cols = [c for c in df.columns if \"queue\" in c.lower()]\n",
    "\n",
    "# Queue 컬럼들을 전부 숫자형으로 변환 (변환 안 되는 건 NaN 처리)\n",
    "df[queue_cols] = df[queue_cols].apply(pd.to_numeric, errors=\"coerce\")\n",
    "\n",
    "print(f\"Queue 관련 컬럼 수: {len(queue_cols)}\")\n",
    "print(queue_cols[:10])  # 앞 10개만 확인\n",
    "\n",
    "# =========================\n",
    "# 2) 병목 공정 컬럼 생성\n",
    "# =========================\n",
    "df[\"Bottleneck_actual\"] = df[queue_cols].idxmax(axis=1)\n",
    "df[\"Bottleneck_val\"] = df[queue_cols].max(axis=1)\n",
    "\n",
    "# =========================\n",
    "# 3) 결과 확인\n",
    "# =========================\n",
    "print(df[[\"Bottleneck_actual\", \"Bottleneck_val\"]].tail())"
   ]
  },
  {
   "cell_type": "code",
   "execution_count": null,
   "id": "35eace67-a47b-42ba-ae93-1936416e5ad4",
   "metadata": {},
   "outputs": [],
   "source": []
  },
  {
   "cell_type": "code",
   "execution_count": null,
   "id": "b40c8ff8-f4a9-44b6-9126-fc24b087904e",
   "metadata": {},
   "outputs": [],
   "source": []
  },
  {
   "cell_type": "code",
   "execution_count": 8,
   "id": "d6ce943e-d94b-43b7-9666-b16aae9a8b3c",
   "metadata": {},
   "outputs": [
    {
     "data": {
      "text/plain": [
       "Bottleneck_actual\n",
       "Forklift_Blanking_Queue    362514\n",
       "Cell1_Queue                361290\n",
       "Cell3_Queue                  6424\n",
       "Cell4_Queue                   128\n",
       "Forklift_Assembly_Queue        43\n",
       "Press2_Queue                   38\n",
       "Forklift_Press_Queue           30\n",
       "Press4_Queue                   26\n",
       "Name: count, dtype: int64"
      ]
     },
     "execution_count": 8,
     "metadata": {},
     "output_type": "execute_result"
    }
   ],
   "source": [
    "# Bottleneck 컬럼의 빈도 계산\n",
    "bottleneck_counts = df[\"Bottleneck_actual\"].value_counts().head(10)\n",
    "\n",
    "bottleneck_counts"
   ]
  },
  {
   "cell_type": "code",
   "execution_count": null,
   "id": "f0a08eb6-2cb5-478c-ac1e-e33737fde26f",
   "metadata": {},
   "outputs": [],
   "source": []
  },
  {
   "cell_type": "code",
   "execution_count": null,
   "id": "7c0bfbb4-b236-4ec0-92ca-8df92c8e9a42",
   "metadata": {},
   "outputs": [],
   "source": []
  },
  {
   "cell_type": "code",
   "execution_count": 9,
   "id": "705a369e-2759-49c5-be25-1898160224ad",
   "metadata": {},
   "outputs": [
    {
     "name": "stdout",
     "output_type": "stream",
     "text": [
      "         Bottleneck_actual  Bottleneck_val Bottleneck_actual_Blanking  \\\n",
      "0  Forklift_Blanking_Queue      157.256741        Blanking_SKU2_Queue   \n",
      "1  Forklift_Blanking_Queue      166.488725        Blanking_SKU2_Queue   \n",
      "2              Cell1_Queue      335.401556        Blanking_SKU1_Queue   \n",
      "3  Forklift_Blanking_Queue      147.448407        Blanking_SKU4_Queue   \n",
      "4  Forklift_Blanking_Queue      150.397600        Blanking_SKU4_Queue   \n",
      "\n",
      "   Bottleneck_val_Blanking Bottleneck_actual_Press  Bottleneck_val_Press  \\\n",
      "0                 0.056373            Press2_Queue             65.273786   \n",
      "1                 0.052934            Press1_Queue             74.772823   \n",
      "2                 0.052210            Press2_Queue             72.901066   \n",
      "3                 0.052362            Press1_Queue             65.091192   \n",
      "4                 0.057210            Press1_Queue             65.075312   \n",
      "\n",
      "  Bottleneck_actual_Cell  Bottleneck_val_Cell  \n",
      "0            Cell1_Queue            98.155568  \n",
      "1            Cell1_Queue           162.632374  \n",
      "2            Cell1_Queue           335.401556  \n",
      "3            Cell1_Queue           112.173074  \n",
      "4            Cell1_Queue           107.982827  \n"
     ]
    }
   ],
   "source": [
    "# ================================\n",
    "# 11. 공정별 실제 병목 레이블 & 값 생성\n",
    "# ================================\n",
    "stage_groups = {\n",
    "    \"Blanking\": [\"Blanking_SKU1_Queue\", \"Blanking_SKU2_Queue\",\n",
    "                 \"Blanking_SKU3_Queue\", \"Blanking_SKU4_Queue\"],\n",
    "    \"Press\":    [\"Press1_Queue\", \"Press2_Queue\", \"Press3_Queue\", \"Press4_Queue\"],\n",
    "    \"Cell\":     [\"Cell1_Queue\", \"Cell2_Queue\", \"Cell3_Queue\", \"Cell4_Queue\"]\n",
    "}\n",
    "\n",
    "for stage, cols in stage_groups.items():\n",
    "    # 병목 컬럼명 (어느 라인/설비가 병목인지)\n",
    "    df[f\"Bottleneck_actual_{stage}\"] = df[cols].idxmax(axis=1)\n",
    "    # 병목 값 (queue 크기)\n",
    "    df[f\"Bottleneck_val_{stage}\"] = df[cols].max(axis=1)\n",
    "\n",
    "# ================================\n",
    "# 12. 결과 확인\n",
    "# ================================\n",
    "check_cols = [c for c in df.columns if c.startswith(\"Bottleneck_\")]\n",
    "print(df[check_cols].head())"
   ]
  },
  {
   "cell_type": "code",
   "execution_count": 10,
   "id": "a949c206-bc9f-4fac-8930-e44e4c438390",
   "metadata": {},
   "outputs": [
    {
     "name": "stdout",
     "output_type": "stream",
     "text": [
      "\n",
      "[ Blanking 병목 빈도수 / 비율 ]\n",
      "빈도수:\n",
      " Bottleneck_actual_Blanking\n",
      "Blanking_SKU1_Queue    183270\n",
      "Blanking_SKU3_Queue    182790\n",
      "Blanking_SKU2_Queue    182225\n",
      "Blanking_SKU4_Queue    182208\n",
      "Name: count, dtype: int64\n",
      "비율(%):\n",
      " Bottleneck_actual_Blanking\n",
      "Blanking_SKU1_Queue    25.09\n",
      "Blanking_SKU3_Queue    25.02\n",
      "Blanking_SKU2_Queue    24.95\n",
      "Blanking_SKU4_Queue    24.94\n",
      "Name: proportion, dtype: float64\n",
      "\n",
      "[ Press 병목 빈도수 / 비율 ]\n",
      "빈도수:\n",
      " Bottleneck_actual_Press\n",
      "Press1_Queue    370161\n",
      "Press2_Queue    192794\n",
      "Press3_Queue     91451\n",
      "Press4_Queue     76087\n",
      "Name: count, dtype: int64\n",
      "비율(%):\n",
      " Bottleneck_actual_Press\n",
      "Press1_Queue    50.67\n",
      "Press2_Queue    26.39\n",
      "Press3_Queue    12.52\n",
      "Press4_Queue    10.42\n",
      "Name: proportion, dtype: float64\n",
      "\n",
      "[ Cell 병목 빈도수 / 비율 ]\n",
      "빈도수:\n",
      " Bottleneck_actual_Cell\n",
      "Cell1_Queue    654376\n",
      "Cell3_Queue     61488\n",
      "Cell4_Queue     10386\n",
      "Cell2_Queue      4243\n",
      "Name: count, dtype: int64\n",
      "비율(%):\n",
      " Bottleneck_actual_Cell\n",
      "Cell1_Queue    89.58\n",
      "Cell3_Queue     8.42\n",
      "Cell4_Queue     1.42\n",
      "Cell2_Queue     0.58\n",
      "Name: proportion, dtype: float64\n"
     ]
    }
   ],
   "source": [
    "# ================================\n",
    "# 13. 병목 빈도수 & 비율 확인\n",
    "# ================================\n",
    "for stage in stage_groups.keys():\n",
    "    col = f\"Bottleneck_actual_{stage}\"\n",
    "    print(f\"\\n[ {stage} 병목 빈도수 / 비율 ]\")\n",
    "    \n",
    "    # 빈도수\n",
    "    counts = df[col].value_counts()\n",
    "    print(\"빈도수:\\n\", counts)\n",
    "    \n",
    "    # 비율 (%)\n",
    "    ratios = df[col].value_counts(normalize=True) * 100\n",
    "    print(\"비율(%):\\n\", ratios.round(2))"
   ]
  },
  {
   "cell_type": "code",
   "execution_count": null,
   "id": "9c6048ac-ff3e-44a0-80ca-a8ab8a4aad4b",
   "metadata": {},
   "outputs": [],
   "source": []
  },
  {
   "cell_type": "code",
   "execution_count": null,
   "id": "72afa59d-2ae7-4f8c-83ed-1fec5bfc9f88",
   "metadata": {},
   "outputs": [],
   "source": []
  },
  {
   "cell_type": "code",
   "execution_count": 11,
   "id": "abfc8605-d380-471d-83a7-92d6f5aa778e",
   "metadata": {},
   "outputs": [
    {
     "name": "stdout",
     "output_type": "stream",
     "text": [
      "SKU1 ['c_Cell1_SKU1', 'c_Cell2_SKU1', 'c_Cell4_SKU1']\n",
      "SKU2 ['c_Cell1_SKU2', 'c_Cell2_SKU2', 'c_Cell3_SKU2', 'c_Cell4_SKU2']\n",
      "SKU3 ['c_Cell1_SKU3', 'c_Cell3_SKU3', 'c_Cell4_SKU3']\n",
      "SKU4 ['c_Cell1_SKU4', 'c_Cell2_SKU4', 'c_Cell3_SKU4', 'c_Cell4_SKU4']\n"
     ]
    }
   ],
   "source": [
    "# =========================\n",
    "# 컬럼명 정규화: 언더스코어 여러 개 → 1개로 통일\n",
    "# =========================\n",
    "df.columns = df.columns.str.replace(r\"__+\", \"_\", regex=True)\n",
    "\n",
    "# 확인\n",
    "for sku in [\"SKU1\",\"SKU2\",\"SKU3\",\"SKU4\"]:\n",
    "    related_cols = [c for c in df.columns if f\"Cell\" in c and sku in c]\n",
    "    print(sku, related_cols)"
   ]
  },
  {
   "cell_type": "code",
   "execution_count": 12,
   "id": "cdf92b30-081c-4c29-98ba-eec8746b10da",
   "metadata": {},
   "outputs": [
    {
     "name": "stdout",
     "output_type": "stream",
     "text": [
      "SKU1 ['c_Cell1_SKU1', 'c_Cell2_SKU1', 'c_Cell4_SKU1']\n",
      "SKU2 ['c_Cell1_SKU2', 'c_Cell2_SKU2', 'c_Cell3_SKU2', 'c_Cell4_SKU2']\n",
      "SKU3 ['c_Cell1_SKU3', 'c_Cell3_SKU3', 'c_Cell4_SKU3']\n",
      "SKU4 ['c_Cell1_SKU4', 'c_Cell2_SKU4', 'c_Cell3_SKU4', 'c_Cell4_SKU4']\n"
     ]
    }
   ],
   "source": [
    "for sku in [\"SKU1\",\"SKU2\",\"SKU3\",\"SKU4\"]:\n",
    "    related_cols = [c for c in df.columns if f\"_{sku}\" in c and \"c_Cell\" in c]\n",
    "    print(sku, related_cols)"
   ]
  },
  {
   "cell_type": "code",
   "execution_count": 13,
   "id": "71bc70a5-f064-4633-ad06-5c81f22ef4a7",
   "metadata": {},
   "outputs": [
    {
     "name": "stdout",
     "output_type": "stream",
     "text": [
      "=== SKU별로 분배된 Cell Queue (앞부분 10행) ===\n",
      "   Cell_SKU1_Queue  Cell_SKU2_Queue  Cell_SKU3_Queue  Cell_SKU4_Queue\n",
      "0     1.370939e+06     1.192535e+06     1.247366e+06     8.856453e+05\n",
      "1     2.451033e+06     1.958747e+06     9.126624e+05     1.182048e+06\n",
      "2     5.568672e+06     3.817909e+06     9.283182e+05     1.242360e+06\n",
      "3     1.647598e+06     1.114051e+06     1.090078e+06     1.048065e+06\n",
      "4     1.553549e+06     1.232362e+06     1.476219e+06     1.102118e+06\n",
      "5     2.101007e+06     1.931448e+06     1.167199e+06     1.028449e+06\n",
      "6     1.851074e+06     1.886183e+06     6.287604e+05     8.966812e+05\n",
      "7     2.972045e+06     2.248654e+06     1.170633e+06     1.487739e+06\n",
      "8     5.720726e+06     4.591313e+06     9.949638e+05     1.545606e+06\n",
      "9     5.471222e+06     3.388148e+06     7.908985e+05     1.160693e+06\n"
     ]
    }
   ],
   "source": [
    "# ================================\n",
    "# 2. SKU 경로 정의\n",
    "# ================================\n",
    "sku_paths = {\n",
    "    \"SKU1\": {\"blanking\": \"Blanking_SKU1_Queue\",\"press\": \"Press1_Queue\"},\n",
    "    \"SKU2\": {\"blanking\": \"Blanking_SKU2_Queue\",\"press\": \"Press2_Queue\"},\n",
    "    \"SKU3\": {\"blanking\": \"Blanking_SKU3_Queue\",\"press\": \"Press3_Queue\"},\n",
    "    \"SKU4\": {\"blanking\": \"Blanking_SKU4_Queue\",\"press\": \"Press4_Queue\"},\n",
    "}\n",
    "\n",
    "# ================================\n",
    "# 3. Cell → SKU 비율 기반 분배\n",
    "# ================================\n",
    "sku_cell_vals = {sku: pd.Series(0, index=df.index) for sku in sku_paths}\n",
    "\n",
    "for cell_num in range(1, 5):  # Cell1 ~ Cell4\n",
    "    cell_col = f\"Cell{cell_num}_Queue\"\n",
    "    \n",
    "    if cell_col not in df.columns:\n",
    "        continue\n",
    "    \n",
    "    # 해당 Cell Queue 값\n",
    "    cell_vals = df[cell_col]\n",
    "    \n",
    "    for sku in sku_paths.keys():\n",
    "        ratio_col = f\"c_Cell{cell_num}_{sku}\"\n",
    "        if ratio_col in df.columns:\n",
    "            # SKU별 Cell Queue = Cell Queue × 비율\n",
    "            sku_cell_vals[sku] += cell_vals * df[ratio_col]\n",
    "\n",
    "# ================================\n",
    "# 4. 결과 DataFrame 구성 (컬럼명 변경)\n",
    "# ================================\n",
    "sku_cell_df = pd.DataFrame({\n",
    "    f\"Cell_{sku}_Queue\": vals for sku, vals in sku_cell_vals.items()\n",
    "})\n",
    "\n",
    "print(\"=== SKU별로 분배된 Cell Queue (앞부분 10행) ===\")\n",
    "print(sku_cell_df.head(10))\n",
    "\n",
    "# 원래 df에 붙이고 싶다면:\n",
    "df = pd.concat([df, sku_cell_df], axis=1)"
   ]
  },
  {
   "cell_type": "code",
   "execution_count": 14,
   "id": "08c0d82c-efae-45c8-8df8-5c97795d8d09",
   "metadata": {},
   "outputs": [
    {
     "name": "stdout",
     "output_type": "stream",
     "text": [
      "  Bottleneck_actual_Blanking Bottleneck_actual_Press Bottleneck_actual_Cell  \\\n",
      "0        Blanking_SKU2_Queue            Press2_Queue            Cell1_Queue   \n",
      "1        Blanking_SKU2_Queue            Press1_Queue            Cell1_Queue   \n",
      "2        Blanking_SKU1_Queue            Press2_Queue            Cell1_Queue   \n",
      "3        Blanking_SKU4_Queue            Press1_Queue            Cell1_Queue   \n",
      "4        Blanking_SKU4_Queue            Press1_Queue            Cell1_Queue   \n",
      "\n",
      "  Bottleneck_actual_SKU1 Bottleneck_actual_SKU2 Bottleneck_actual_SKU3  \\\n",
      "0                   Cell                   Cell                   Cell   \n",
      "1                   Cell                   Cell                   Cell   \n",
      "2                   Cell                   Cell                   Cell   \n",
      "3                   Cell                   Cell                   Cell   \n",
      "4                   Cell                   Cell                   Cell   \n",
      "\n",
      "  Bottleneck_actual_SKU4  \n",
      "0                   Cell  \n",
      "1                   Cell  \n",
      "2                   Cell  \n",
      "3                   Cell  \n",
      "4                   Cell  \n",
      "   Bottleneck_val_Blanking  Bottleneck_val_Press  Bottleneck_val_Cell  \\\n",
      "0                 0.056373             65.273786            98.155568   \n",
      "1                 0.052934             74.772823           162.632374   \n",
      "2                 0.052210             72.901066           335.401556   \n",
      "3                 0.052362             65.091192           112.173074   \n",
      "4                 0.057210             65.075312           107.982827   \n",
      "\n",
      "   Bottleneck_val_SKU1  Bottleneck_val_SKU2  Bottleneck_val_SKU3  \\\n",
      "0         1.370939e+06         1.192535e+06         1.247366e+06   \n",
      "1         2.451033e+06         1.958747e+06         9.126624e+05   \n",
      "2         5.568672e+06         3.817909e+06         9.283182e+05   \n",
      "3         1.647598e+06         1.114051e+06         1.090078e+06   \n",
      "4         1.553549e+06         1.232362e+06         1.476219e+06   \n",
      "\n",
      "   Bottleneck_val_SKU4  \n",
      "0         8.856453e+05  \n",
      "1         1.182048e+06  \n",
      "2         1.242360e+06  \n",
      "3         1.048065e+06  \n",
      "4         1.102118e+06  \n"
     ]
    }
   ],
   "source": [
    "# ================================\n",
    "# 7. SKU별 병목 공정 예측\n",
    "# ================================\n",
    "sku_paths = {\n",
    "    \"SKU1\": {\"blanking\": \"Blanking_SKU1_Queue\",\"press\": \"Press1_Queue\", \"cell\": \"Cell_SKU1_Queue\"},\n",
    "    \"SKU2\": {\"blanking\": \"Blanking_SKU2_Queue\",\"press\": \"Press2_Queue\", \"cell\": \"Cell_SKU2_Queue\"},\n",
    "    \"SKU3\": {\"blanking\": \"Blanking_SKU3_Queue\",\"press\": \"Press3_Queue\", \"cell\": \"Cell_SKU3_Queue\"},\n",
    "    \"SKU4\": {\"blanking\": \"Blanking_SKU4_Queue\",\"press\": \"Press4_Queue\", \"cell\": \"Cell_SKU4_Queue\"},\n",
    "}\n",
    "\n",
    "for sku, paths in sku_paths.items():\n",
    "    # 각 SKU별 병목 후보 Stage 값 모으기\n",
    "    stage_df = df[[paths[\"blanking\"], paths[\"press\"], paths[\"cell\"]]].copy()\n",
    "    stage_df.columns = [\"Blanking\", \"Press\", \"Cell\"]  # 축 이름 단순화\n",
    "    \n",
    "    # 각 시점별 최대값 컬럼명 → 병목 공정\n",
    "    df[f\"Bottleneck_actual_{sku}\"] = stage_df.idxmax(axis=1)\n",
    "\n",
    "    # 각 시점별 병목 수치 (최대값)\n",
    "    df[f\"Bottleneck_val_{sku}\"] = stage_df.max(axis=1)\n",
    "\n",
    "# ================================\n",
    "# 8. 결과 확인\n",
    "# ================================\n",
    "print(df[[c for c in df.columns if c.startswith(\"Bottleneck_actual_\")]].head())\n",
    "print(df[[c for c in df.columns if c.startswith(\"Bottleneck_val_\")]].head())"
   ]
  },
  {
   "cell_type": "code",
   "execution_count": 15,
   "id": "14fde2c0-19bc-4d62-886b-71d2fe99ffed",
   "metadata": {},
   "outputs": [
    {
     "name": "stdout",
     "output_type": "stream",
     "text": [
      "\n",
      "[ SKU1 병목 공정 분포 ]\n",
      "빈도수:\n",
      " Bottleneck_actual_SKU1\n",
      "Cell    730493\n",
      "Name: count, dtype: int64\n",
      "비율(%):\n",
      " Bottleneck_actual_SKU1\n",
      "Cell    100.0\n",
      "Name: proportion, dtype: float64\n",
      "\n",
      "[ SKU2 병목 공정 분포 ]\n",
      "빈도수:\n",
      " Bottleneck_actual_SKU2\n",
      "Cell    730493\n",
      "Name: count, dtype: int64\n",
      "비율(%):\n",
      " Bottleneck_actual_SKU2\n",
      "Cell    100.0\n",
      "Name: proportion, dtype: float64\n",
      "\n",
      "[ SKU3 병목 공정 분포 ]\n",
      "빈도수:\n",
      " Bottleneck_actual_SKU3\n",
      "Cell    730493\n",
      "Name: count, dtype: int64\n",
      "비율(%):\n",
      " Bottleneck_actual_SKU3\n",
      "Cell    100.0\n",
      "Name: proportion, dtype: float64\n",
      "\n",
      "[ SKU4 병목 공정 분포 ]\n",
      "빈도수:\n",
      " Bottleneck_actual_SKU4\n",
      "Cell    730493\n",
      "Name: count, dtype: int64\n",
      "비율(%):\n",
      " Bottleneck_actual_SKU4\n",
      "Cell    100.0\n",
      "Name: proportion, dtype: float64\n"
     ]
    }
   ],
   "source": [
    "# ================================\n",
    "# 9. SKU별 병목 빈도수 & 비율 확인\n",
    "# ================================\n",
    "for sku in sku_paths.keys():\n",
    "    col = f\"Bottleneck_actual_{sku}\"\n",
    "    print(f\"\\n[ {sku} 병목 공정 분포 ]\")\n",
    "    \n",
    "    # 빈도수\n",
    "    counts = df[col].value_counts()\n",
    "    print(\"빈도수:\\n\", counts)\n",
    "    \n",
    "    # 비율 (%)\n",
    "    ratios = df[col].value_counts(normalize=True) * 100\n",
    "    print(\"비율(%):\\n\", ratios.round(2))"
   ]
  },
  {
   "cell_type": "code",
   "execution_count": null,
   "id": "11497391-0f57-4dd7-a451-6377138f3843",
   "metadata": {},
   "outputs": [],
   "source": []
  },
  {
   "cell_type": "code",
   "execution_count": null,
   "id": "b8042917-1ab4-43da-9acd-1ea6ab671523",
   "metadata": {},
   "outputs": [],
   "source": []
  },
  {
   "cell_type": "code",
   "execution_count": 18,
   "id": "2dba3bf4-ddca-4dea-9da2-5a8fa41399a7",
   "metadata": {},
   "outputs": [],
   "source": [
    "import matplotlib.pyplot as plt\n",
    "\n",
    "# 한글 폰트 설정 (Windows)\n",
    "plt.rcParams['font.family'] = 'Malgun Gothic'  # 또는 'Gulim'\n",
    "plt.rcParams['axes.unicode_minus'] = False  # 마이너스 깨짐 방지"
   ]
  },
  {
   "cell_type": "code",
   "execution_count": 19,
   "id": "59b24204-0d80-41aa-81dc-457283742ec2",
   "metadata": {},
   "outputs": [
    {
     "data": {
      "image/png": "[encoded data removed]",
      "text/plain": [
       "<Figure size 600x400 with 1 Axes>"
      ]
     },
     "metadata": {},
     "output_type": "display_data"
    }
   ],
   "source": [
    "import matplotlib.pyplot as plt\n",
    "\n",
    "# SKU별 병목을 전부 Cell로 고정\n",
    "skus = [\"SKU1\", \"SKU2\", \"SKU3\", \"SKU4\"]\n",
    "values = [100, 100, 100, 100]  # 모두 100%\n",
    "\n",
    "fig, ax = plt.subplots(figsize=(6,4))\n",
    "bars = ax.bar(skus, values, color=\"#ffca00\", edgecolor=\"black\")\n",
    "\n",
    "# 퍼센트 라벨\n",
    "for bar, val in zip(bars, values):\n",
    "    ax.text(bar.get_x() + bar.get_width()/2, bar.get_height()/2,\n",
    "            f\"{val}%\", ha=\"center\", va=\"center\", fontsize=12, fontweight=\"bold\")\n",
    "\n",
    "ax.set_ylim(0, 120)\n",
    "ax.set_ylabel(\"Cell 병목 비율 (%)\", fontsize=12)\n",
    "ax.set_title(\"SKU별 실제 병목 (100% Cell)\", fontsize=14, fontweight=\"bold\")\n",
    "\n",
    "plt.tight_layout()\n",
    "plt.show()"
   ]
  },
  {
   "cell_type": "code",
   "execution_count": null,
   "id": "efa8fe3f-7fd5-4b25-9289-8ad038b616c2",
   "metadata": {},
   "outputs": [],
   "source": []
  },
  {
   "cell_type": "code",
   "execution_count": 51,
   "id": "1f1a9d5b-acd8-4afb-af30-eeb34153d551",
   "metadata": {},
   "outputs": [
    {
     "data": {
      "image/png": "[encoded data removed]",
      "text/plain": [
       "<Figure size 250x600 with 1 Axes>"
      ]
     },
     "metadata": {},
     "output_type": "display_data"
    }
   ],
   "source": [
    "import matplotlib.pyplot as plt\n",
    "\n",
    "fig, ax = plt.subplots(figsize=(2.5,6), constrained_layout=True)\n",
    "ax.bar(\"SKU1~4\", 1.0, color=\"#ffca00\", edgecolor=\"black\")  # 🔹 값은 1.0 (100%)\n",
    "\n",
    "# 라벨 (조립셀 100%로 표기)\n",
    "ax.text(0, 0.5, \"(SKU1~4)\\n\\n조립셀\\n100%\", ha=\"center\", va=\"center\",\n",
    "        fontsize=14, fontweight=\"bold\")\n",
    "\n",
    "# 🔹 축 범위 (0~1.05로 약간 여유)\n",
    "ax.set_ylim(0, 1.02)\n",
    "\n",
    "ax.set_ylabel(\"병목 비율\", fontsize=12)\n",
    "ax.set_title(\"SKU별 실제 병목 비율\", fontsize=14, fontweight=\"bold\")\n",
    "\n",
    "plt.show()"
   ]
  },
  {
   "cell_type": "code",
   "execution_count": null,
   "id": "d4a6bfcb-9e5b-4b31-bce2-4ae31a058169",
   "metadata": {},
   "outputs": [],
   "source": []
  },
  {
   "cell_type": "code",
   "execution_count": 57,
   "id": "6e62f225-7684-4d02-b385-5353fa47cf3d",
   "metadata": {},
   "outputs": [
    {
     "name": "stderr",
     "output_type": "stream",
     "text": [
      "C:\\Users\\KDT6\\AppData\\Local\\Temp\\ipykernel_31772\\2886575730.py:17: UserWarning: set_ticklabels() should only be used with a fixed number of ticks, i.e. after set_ticks() or using a FixedLocator.\n",
      "  ax.set_xticklabels(ax.get_xticklabels(), fontsize=12, fontweight=\"bold\")\n",
      "C:\\Users\\KDT6\\AppData\\Local\\Temp\\ipykernel_31772\\2886575730.py:20: UserWarning: set_ticklabels() should only be used with a fixed number of ticks, i.e. after set_ticks() or using a FixedLocator.\n",
      "  ax.set_yticklabels([f\"{tick:.1f}\" for tick in ax.get_yticks()],\n"
     ]
    },
    {
     "data": {
      "image/png": "[encoded data removed]",
      "text/plain": [
       "<Figure size 250x600 with 1 Axes>"
      ]
     },
     "metadata": {},
     "output_type": "display_data"
    }
   ],
   "source": [
    "import matplotlib.pyplot as plt\n",
    "\n",
    "fig, ax = plt.subplots(figsize=(2.5,6), constrained_layout=True)\n",
    "ax.bar(\"SKU1~4\", 1.0, color=\"#ffca00\", edgecolor=\"black\")  # 🔹 값은 1.0 (100%)\n",
    "\n",
    "# 라벨 (조립셀 100%로 표기)\n",
    "ax.text(0, 0.5, \"조립셀\\n100%\", ha=\"center\", va=\"center\",\n",
    "        fontsize=14, fontweight=\"bold\")\n",
    "\n",
    "# 🔹 축 범위 (0~1.05로 약간 여유)\n",
    "ax.set_ylim(0, 1.02)\n",
    "\n",
    "ax.set_ylabel(\"병목 비율\", fontsize=12)\n",
    "ax.set_title(\"SKU별 실제 병목 비율\", fontsize=14, fontweight=\"bold\")\n",
    "\n",
    "# ✅ x축 이름 bold\n",
    "ax.set_xticklabels(ax.get_xticklabels(), fontsize=12, fontweight=\"bold\")\n",
    "\n",
    "# ✅ y축 숫자 bold\n",
    "ax.set_yticklabels([f\"{tick:.1f}\" for tick in ax.get_yticks()],\n",
    "                   fontsize=11, fontweight=\"bold\")\n",
    "\n",
    "plt.show()"
   ]
  },
  {
   "cell_type": "code",
   "execution_count": null,
   "id": "1e558a7c-8985-4c89-8e19-3b4e329f358f",
   "metadata": {},
   "outputs": [],
   "source": []
  },
  {
   "cell_type": "code",
   "execution_count": 58,
   "id": "a212bb73-0a70-4d9c-8160-19f83b00c425",
   "metadata": {},
   "outputs": [
    {
     "name": "stderr",
     "output_type": "stream",
     "text": [
      "C:\\Users\\KDT6\\AppData\\Local\\Temp\\ipykernel_31772\\1967601773.py:14: UserWarning: set_ticklabels() should only be used with a fixed number of ticks, i.e. after set_ticks() or using a FixedLocator.\n",
      "  ax.set_xticklabels(ax.get_xticklabels(), fontsize=12, fontweight=\"bold\")\n",
      "C:\\Users\\KDT6\\AppData\\Local\\Temp\\ipykernel_31772\\1967601773.py:17: UserWarning: set_ticklabels() should only be used with a fixed number of ticks, i.e. after set_ticks() or using a FixedLocator.\n",
      "  ax.set_yticklabels([f\"{tick:.1f}\" for tick in ax.get_yticks()],\n"
     ]
    },
    {
     "data": {
      "image/png": "[encoded data removed]",
      "text/plain": [
       "<Figure size 250x600 with 1 Axes>"
      ]
     },
     "metadata": {},
     "output_type": "display_data"
    }
   ],
   "source": [
    "import matplotlib.pyplot as plt\n",
    "\n",
    "fig, ax = plt.subplots(figsize=(2.5,6), constrained_layout=True)\n",
    "ax.bar(\"SKU1~4\", 1.0, color=\"#ffca00\", edgecolor=\"black\")  # 🔹 값은 1.0 (100%)\n",
    "\n",
    "# 라벨 (조립셀 100%로 표기)\n",
    "ax.text(0, 0.5, \"조립셀\\n100%\", ha=\"center\", va=\"center\",\n",
    "        fontsize=14, fontweight=\"bold\")\n",
    "\n",
    "# 🔹 축 범위 (0~1.05로 약간 여유)\n",
    "ax.set_ylim(0, 1.02)\n",
    "\n",
    "# ✅ x축 이름 bold\n",
    "ax.set_xticklabels(ax.get_xticklabels(), fontsize=12, fontweight=\"bold\")\n",
    "\n",
    "# ✅ y축 숫자 bold\n",
    "ax.set_yticklabels([f\"{tick:.1f}\" for tick in ax.get_yticks()],\n",
    "                   fontsize=11, fontweight=\"bold\")\n",
    "\n",
    "# (필요시 라벨/제목 다시 살리기 가능)\n",
    "# ax.set_ylabel(\"병목 비율\", fontsize=12, fontweight=\"bold\")\n",
    "# ax.set_title(\"실제 병목: Cell (SKU1~4 전부)\", fontsize=14, fontweight=\"bold\")\n",
    "\n",
    "plt.show()"
   ]
  },
  {
   "cell_type": "code",
   "execution_count": null,
   "id": "d6e26787-685a-4d04-822f-e49636a4c9ef",
   "metadata": {},
   "outputs": [],
   "source": []
  },
  {
   "cell_type": "code",
   "execution_count": null,
   "id": "072e3f84-919b-42f8-8c0b-4db4e45f85c7",
   "metadata": {},
   "outputs": [],
   "source": []
  },
  {
   "cell_type": "code",
   "execution_count": null,
   "id": "4bddfd69-4bb7-4562-ba7b-c707f69eb57d",
   "metadata": {},
   "outputs": [],
   "source": []
  },
  {
   "cell_type": "code",
   "execution_count": 59,
   "id": "3e978502-fa89-4510-a923-39fbd24da926",
   "metadata": {},
   "outputs": [
    {
     "data": {
      "image/png": "[encoded data removed]",
      "text/plain": [
       "<Figure size 500x500 with 1 Axes>"
      ]
     },
     "metadata": {},
     "output_type": "display_data"
    }
   ],
   "source": [
    "fig, ax = plt.subplots(figsize=(5,5))\n",
    "ax.pie([1], labels=[\"Cell (100%)\"], colors=[\"#ffca00\"], startangle=90,\n",
    "       textprops={\"fontsize\":12, \"weight\":\"bold\"})\n",
    "ax.set_title(\"SKU1~4 실제 병목\", fontsize=14, fontweight=\"bold\")\n",
    "plt.show()"
   ]
  },
  {
   "cell_type": "code",
   "execution_count": null,
   "id": "1e2c92d9-b85c-42d6-839e-2a27cc2e4880",
   "metadata": {},
   "outputs": [],
   "source": []
  },
  {
   "cell_type": "code",
   "execution_count": null,
   "id": "aa315218-178c-43c3-8bc8-8868ebd8a27a",
   "metadata": {},
   "outputs": [],
   "source": []
  },
  {
   "cell_type": "code",
   "execution_count": null,
   "id": "45d61f33-a4a3-4f18-bbee-53aacffecc43",
   "metadata": {},
   "outputs": [],
   "source": []
  }
 ],
 "metadata": {
  "kernelspec": {
   "display_name": "Python 3 (ipykernel)",
   "language": "python",
   "name": "python3"
  },
  "language_info": {
   "codemirror_mode": {
    "name": "ipython",
    "version": 3
   },
   "file_extension": ".py",
   "mimetype": "text/x-python",
   "name": "python",
   "nbconvert_exporter": "python",
   "pygments_lexer": "ipython3",
   "version": "3.11.9"
  }
 },
 "nbformat": 4,
 "nbformat_minor": 5
}
