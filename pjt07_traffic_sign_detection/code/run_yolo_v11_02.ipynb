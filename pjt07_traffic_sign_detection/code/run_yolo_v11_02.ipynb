{
 "cells": [
  {
   "cell_type": "code",
   "execution_count": 1,
   "id": "5ab5f421-5dc2-44c0-8670-f65c60a5a2ef",
   "metadata": {},
   "outputs": [],
   "source": [
    "# 📌 [기본 패키지 임포트]\n",
    "import os\n",
    "import shutil\n",
    "import torch\n",
    "import ultralytics\n",
    "from ultralytics import YOLO\n",
    "import time\n",
    "import pandas as pd\n",
    "import cv2\n",
    "import matplotlib.pyplot as plt\n",
    "import numpy as np\n",
    "import json\n",
    "from glob import glob\n",
    "from collections import Counter\n",
    "import threading"
   ]
  },
  {
   "cell_type": "code",
   "execution_count": 2,
   "id": "7b25ddcb-21fe-4ed4-b066-f09ce8a8f9be",
   "metadata": {},
   "outputs": [
    {
     "name": "stdout",
     "output_type": "stream",
     "text": [
      "Ultralytics 8.3.156  Python-3.11.9 torch-2.7.1+cu128 CUDA:0 (NVIDIA GeForce RTX 4070 Laptop GPU, 8188MiB)\n",
      "Setup complete  (24 CPUs, 31.7 GB RAM, 24.8/735.1 GB disk)\n"
     ]
    }
   ],
   "source": [
    "# 📌 [1] GPU 및 환경 체크\n",
    "print(\"✅ CUDA 사용 가능:\", torch.cuda.is_available())\n",
    "print(\"✅ PyTorch 버전:\", torch.__version__)\n",
    "ultralytics.checks()"
   ]
  },
  {
   "cell_type": "code",
   "execution_count": 3,
   "id": "0b1c52e5-434e-410f-b6f0-151dd2e3af32",
   "metadata": {},
   "outputs": [
    {
     "name": "stdout",
     "output_type": "stream",
     "text": [
      "🧹 삭제 대상: ../code/runs/detect\\val\n"
     ]
    }
   ],
   "source": [
    "# 📌 [2] 실패한 이전 runs 삭제\n",
    "def clean_incomplete_runs(base_dir='../code/runs/detect'):\n",
    "    if not os.path.exists(base_dir):\n",
    "        print(f\"📂 '{base_dir}' 폴더가 없어 삭제 생략\")\n",
    "        return\n",
    "\n",
    "    deleted = False\n",
    "    for folder in os.listdir(base_dir):\n",
    "        path = os.path.join(base_dir, folder)\n",
    "        best_model = os.path.join(path, 'weights', 'best.pt')\n",
    "        if not os.path.exists(best_model):\n",
    "            print(f\"🧹 삭제 대상: {path}\")\n",
    "            shutil.rmtree(path)\n",
    "            deleted = True\n",
    "\n",
    "    if not deleted:\n",
    "        print(\"✅ 삭제할 미완성 run 없음. 모든 run이 best.pt 포함.\")\n",
    "\n",
    "clean_incomplete_runs()"
   ]
  },
  {
   "cell_type": "code",
   "execution_count": 4,
   "id": "aeb14c7a-9d16-4749-818a-d7e43b6656c4",
   "metadata": {},
   "outputs": [
    {
     "name": "stdout",
     "output_type": "stream",
     "text": [
      "📄 마지막 훈련 결과 파일: runs/detect\\yolov11n_custom_001\\results.csv\n",
      "🔁 마지막 훈련 결과 (마지막 5줄):\n",
      "    epoch      time  train/box_loss  train/cls_loss  train/dfl_loss  \\\n",
      "25     26   9220.28         0.52503         0.44206         0.93175   \n",
      "26     27   9437.84         0.52544         0.44100         0.93322   \n",
      "27     28   9664.14         0.51527         0.43273         0.92348   \n",
      "28     29   9890.46         0.51541         0.41596         0.92183   \n",
      "29     30  10113.50         0.50541         0.41221         0.91931   \n",
      "\n",
      "    metrics/precision(B)  metrics/recall(B)  metrics/mAP50(B)  \\\n",
      "25               0.94460            0.85920           0.93757   \n",
      "26               0.94754            0.86024           0.93899   \n",
      "27               0.96725            0.84840           0.94335   \n",
      "28               0.94289            0.87677           0.94540   \n",
      "29               0.95539            0.87270           0.94552   \n",
      "\n",
      "    metrics/mAP50-95(B)  val/box_loss  val/cls_loss  val/dfl_loss    lr/pg0  \\\n",
      "25              0.80491       0.58395       0.42124       0.95261  0.000092   \n",
      "26              0.80909       0.58281       0.41475       0.95017  0.000075   \n",
      "27              0.81435       0.57604       0.39903       0.94811  0.000057   \n",
      "28              0.81500       0.57621       0.40008       0.94915  0.000040   \n",
      "29              0.81616       0.57329       0.39926       0.94961  0.000023   \n",
      "\n",
      "      lr/pg1    lr/pg2  \n",
      "25  0.000092  0.000092  \n",
      "26  0.000075  0.000075  \n",
      "27  0.000057  0.000057  \n",
      "28  0.000040  0.000040  \n",
      "29  0.000023  0.000023  \n"
     ]
    }
   ],
   "source": [
    "# 📌 [3] 가장 최근 run 결과 요약 출력\n",
    "def get_last_run_csv():\n",
    "    runs = sorted(glob('runs/detect/*/results.csv'), key=os.path.getmtime, reverse=True)\n",
    "    if runs:\n",
    "        print(f\"📄 마지막 훈련 결과 파일: {runs[0]}\")\n",
    "        df = pd.read_csv(runs[0])\n",
    "        print(\"🔁 마지막 훈련 결과 (마지막 5줄):\")\n",
    "        print(df.tail())\n",
    "    else:\n",
    "        print(\"ℹ️ 이전 훈련 결과 없음.\")\n",
    "\n",
    "get_last_run_csv()"
   ]
  },
  {
   "cell_type": "code",
   "execution_count": 5,
   "id": "87ef416e-3708-43d3-8a53-316b88f7eb56",
   "metadata": {},
   "outputs": [
    {
     "name": "stdout",
     "output_type": "stream",
     "text": [
      "🚀 새 훈련 run 이름: yolov11n_custom_002\n"
     ]
    }
   ],
   "source": [
    "# 📌 [4] 자동 넘버링 run 이름 생성\n",
    "def get_next_run_name(base_dir='runs/detect', prefix='yolov11n_custom'):\n",
    "    i = 1\n",
    "    while os.path.exists(os.path.join(base_dir, f'{prefix}_{i:03d}')):\n",
    "        i += 1\n",
    "    return f'{prefix}_{i:03d}'\n",
    "\n",
    "run_name = get_next_run_name()\n",
    "print(f\"🚀 새 훈련 run 이름: {run_name}\")"
   ]
  },
  {
   "cell_type": "code",
   "execution_count": 6,
   "id": "743708d1-328f-4d4e-94b1-42db57f9a377",
   "metadata": {},
   "outputs": [
    {
     "name": "stdout",
     "output_type": "stream",
     "text": [
      "\n",
      "📁 이미지 경로: ../train/images\n",
      "🖼️ 이미지 개수: 3530\n",
      "💾 이미지 용량: 67.55 MB\n",
      "📄 라벨 경로: ../train/labels\n",
      "📝 라벨 개수: 3530\n",
      "💾 라벨 용량: 319.50 KB\n",
      "\n",
      "📊 클래스별 라벨 개수 (../train/labels):\n",
      "  0 (Green Light): 542\n",
      "  1 (Red Light): 585\n",
      "  2 (Speed Limit 10): 19\n",
      "  3 (Speed Limit 100): 267\n",
      "  4 (Speed Limit 110): 101\n",
      "  5 (Speed Limit 120): 252\n",
      "  6 (Speed Limit 20): 285\n",
      "  7 (Speed Limit 30): 334\n",
      "  8 (Speed Limit 40): 235\n",
      "  9 (Speed Limit 50): 283\n",
      "  10 (Speed Limit 60): 301\n",
      "  11 (Speed Limit 70): 318\n",
      "  12 (Speed Limit 80): 323\n",
      "  13 (Speed Limit 90): 168\n",
      "  14 (Stop): 285\n",
      "\n",
      "📁 이미지 경로: ../valid/images\n",
      "🖼️ 이미지 개수: 801\n",
      "💾 이미지 용량: 15.38 MB\n",
      "📄 라벨 경로: ../valid/labels\n",
      "📝 라벨 개수: 801\n",
      "💾 라벨 용량: 69.86 KB\n",
      "\n",
      "📊 클래스별 라벨 개수 (../valid/labels):\n",
      "  0 (Green Light): 122\n",
      "  1 (Red Light): 108\n",
      "  3 (Speed Limit 100): 52\n",
      "  4 (Speed Limit 110): 17\n",
      "  5 (Speed Limit 120): 60\n",
      "  6 (Speed Limit 20): 56\n",
      "  7 (Speed Limit 30): 74\n",
      "  8 (Speed Limit 40): 55\n",
      "  9 (Speed Limit 50): 71\n",
      "  10 (Speed Limit 60): 76\n",
      "  11 (Speed Limit 70): 78\n",
      "  12 (Speed Limit 80): 56\n",
      "  13 (Speed Limit 90): 38\n",
      "  14 (Stop): 81\n"
     ]
    }
   ],
   "source": [
    "# 📌 [5] 입력 데이터 정보 출력 및 클래스별 레이블 개수 확인 함수 추가\n",
    "def get_dataset_info(img_dir, label_dir, class_names=None):\n",
    "    img_files = glob(os.path.join(img_dir, '*.jpg'))\n",
    "    label_files = glob(os.path.join(label_dir, '*.txt'))\n",
    "\n",
    "    total_img_size = sum(os.path.getsize(f) for f in img_files)\n",
    "    total_label_size = sum(os.path.getsize(f) for f in label_files)\n",
    "\n",
    "    print(f\"\\n📁 이미지 경로: {img_dir}\")\n",
    "    print(f\"🖼️ 이미지 개수: {len(img_files)}\")\n",
    "    print(f\"💾 이미지 용량: {total_img_size / 1024 / 1024:.2f} MB\")\n",
    "    print(f\"📄 라벨 경로: {label_dir}\")\n",
    "    print(f\"📝 라벨 개수: {len(label_files)}\")\n",
    "    print(f\"💾 라벨 용량: {total_label_size / 1024:.2f} KB\")\n",
    "\n",
    "    # 클래스별 라벨 개수 집계\n",
    "    classes = []\n",
    "    for f in label_files:\n",
    "        with open(f, 'r') as file:\n",
    "            lines = file.readlines()\n",
    "            classes += [int(line.split()[0]) for line in lines if line.strip()]\n",
    "    counter = Counter(classes)\n",
    "    print(f\"\\n📊 클래스별 라벨 개수 ({label_dir}):\")\n",
    "    if class_names:\n",
    "        for cls_idx, count in sorted(counter.items()):\n",
    "            print(f\"  {cls_idx} ({class_names[cls_idx]}): {count}\")\n",
    "    else:\n",
    "        print(counter)\n",
    "\n",
    "# 예시로 data.yaml에서 클래스명 읽어오기\n",
    "import yaml\n",
    "with open('data.yaml', 'r') as f:\n",
    "    data_cfg = yaml.safe_load(f)\n",
    "class_names = data_cfg.get('names', None)\n",
    "\n",
    "get_dataset_info('../train/images', '../train/labels', class_names)\n",
    "get_dataset_info('../valid/images', '../valid/labels', class_names)"
   ]
  },
  {
   "cell_type": "code",
   "execution_count": 7,
   "id": "32041e59-06d3-412a-be41-3bf651c546a6",
   "metadata": {},
   "outputs": [],
   "source": [
    "# 📌 캐시 파일 삭제 함수\n",
    "# def safe_delete_cache(path: str):\n",
    "#     if not os.path.exists(path):\n",
    "#         print(f\"🟢 캐시 파일 없음 (삭제 불필요): {path}\")\n",
    "#         return\n",
    "\n",
    "#     file_size = os.path.getsize(path)\n",
    "#     last_modified = os.path.getmtime(path)\n",
    "#     now = time.time()\n",
    "\n",
    "#     should_delete = (\n",
    "#         file_size < 1024 or  # 1KB 이하\n",
    "#         (now - last_modified > 3600)  # 1시간 이상 경과\n",
    "#     )\n",
    "\n",
    "#     if should_delete:\n",
    "#         try:\n",
    "#             os.remove(path)\n",
    "#             print(f\"✅ 캐시 삭제 완료: {path}\")\n",
    "#         except Exception as e:\n",
    "#             print(f\"❌ 캐시 삭제 실패: {path} → {e}\")\n",
    "#     else:\n",
    "#         print(f\"🔒 캐시 유지: {path} (조건 미충족)\")\n",
    "\n",
    "# safe_delete_cache(r\"D:\\Project\\PJT_07\\train\\labels.cache\")\n",
    "# safe_delete_cache(r\"D:\\Project\\PJT_07\\valid\\labels.cache\")"
   ]
  },
  {
   "cell_type": "code",
   "execution_count": 8,
   "id": "717cf9c2-cc7d-4aaf-8b7a-6c0d42eaffcf",
   "metadata": {
    "scrolled": true
   },
   "outputs": [
    {
     "name": "stdout",
     "output_type": "stream",
     "text": [
      "[GPU 모니터] 메모리 할당: 0.0MB, 예약: 0.0MB\n",
      "Ultralytics 8.3.156  Python-3.11.9 torch-2.7.1+cu128 CUDA:0 (NVIDIA GeForce RTX 4070 Laptop GPU, 8188MiB)\n",
      "\u001b[34m\u001b[1mengine\\trainer: \u001b[0magnostic_nms=False, amp=True, augment=False, auto_augment=randaugment, batch=8, bgr=0.0, box=7.5, cache=False, cfg=None, classes=None, close_mosaic=10, cls=0.5, conf=None, copy_paste=0.0, copy_paste_mode=flip, cos_lr=False, cutmix=0.0, data=data.yaml, degrees=0.0, deterministic=True, device=0, dfl=1.5, dnn=False, dropout=0.0, dynamic=False, embed=None, epochs=30, erasing=0.4, exist_ok=False, fliplr=0.5, flipud=0.0, format=torchscript, fraction=1.0, freeze=None, half=False, hsv_h=0.015, hsv_s=0.7, hsv_v=0.4, imgsz=640, int8=False, iou=0.7, keras=False, kobj=1.0, line_width=None, lr0=0.001, lrf=0.01, mask_ratio=4, max_det=300, mixup=0.0, mode=train, model=yolo11n.pt, momentum=0.9, mosaic=1.0, multi_scale=False, name=yolov11n_custom_002, nbs=64, nms=False, opset=None, optimize=False, optimizer=SGD, overlap_mask=True, patience=100, perspective=0.0, plots=True, pose=12.0, pretrained=True, profile=False, project=None, rect=False, resume=False, retina_masks=False, save=True, save_conf=False, save_crop=False, save_dir=runs\\detect\\yolov11n_custom_002, save_frames=False, save_json=False, save_period=-1, save_txt=False, scale=0.5, seed=0, shear=0.0, show=False, show_boxes=True, show_conf=True, show_labels=True, simplify=True, single_cls=False, source=None, split=val, stream_buffer=False, task=detect, time=None, tracker=botsort.yaml, translate=0.1, val=True, verbose=True, vid_stride=1, visualize=False, warmup_bias_lr=0.1, warmup_epochs=3.0, warmup_momentum=0.8, weight_decay=0.0005, workers=0, workspace=None\n",
      "Overriding model.yaml nc=80 with nc=15\n",
      "\n",
      "                   from  n    params  module                                       arguments                     \n",
      "  0                  -1  1       464  ultralytics.nn.modules.conv.Conv             [3, 16, 3, 2]                 \n",
      "  1                  -1  1      4672  ultralytics.nn.modules.conv.Conv             [16, 32, 3, 2]                \n",
      "  2                  -1  1      6640  ultralytics.nn.modules.block.C3k2            [32, 64, 1, False, 0.25]      \n",
      "  3                  -1  1     36992  ultralytics.nn.modules.conv.Conv             [64, 64, 3, 2]                \n",
      "  4                  -1  1     26080  ultralytics.nn.modules.block.C3k2            [64, 128, 1, False, 0.25]     \n",
      "  5                  -1  1    147712  ultralytics.nn.modules.conv.Conv             [128, 128, 3, 2]              \n",
      "  6                  -1  1     87040  ultralytics.nn.modules.block.C3k2            [128, 128, 1, True]           \n",
      "  7                  -1  1    295424  ultralytics.nn.modules.conv.Conv             [128, 256, 3, 2]              \n",
      "  8                  -1  1    346112  ultralytics.nn.modules.block.C3k2            [256, 256, 1, True]           \n",
      "  9                  -1  1    164608  ultralytics.nn.modules.block.SPPF            [256, 256, 5]                 \n",
      " 10                  -1  1    249728  ultralytics.nn.modules.block.C2PSA           [256, 256, 1]                 \n",
      " 11                  -1  1         0  torch.nn.modules.upsampling.Upsample         [None, 2, 'nearest']          \n",
      " 12             [-1, 6]  1         0  ultralytics.nn.modules.conv.Concat           [1]                           \n",
      " 13                  -1  1    111296  ultralytics.nn.modules.block.C3k2            [384, 128, 1, False]          \n",
      " 14                  -1  1         0  torch.nn.modules.upsampling.Upsample         [None, 2, 'nearest']          \n",
      " 15             [-1, 4]  1         0  ultralytics.nn.modules.conv.Concat           [1]                           \n",
      " 16                  -1  1     32096  ultralytics.nn.modules.block.C3k2            [256, 64, 1, False]           \n",
      " 17                  -1  1     36992  ultralytics.nn.modules.conv.Conv             [64, 64, 3, 2]                \n",
      " 18            [-1, 13]  1         0  ultralytics.nn.modules.conv.Concat           [1]                           \n",
      " 19                  -1  1     86720  ultralytics.nn.modules.block.C3k2            [192, 128, 1, False]          \n",
      " 20                  -1  1    147712  ultralytics.nn.modules.conv.Conv             [128, 128, 3, 2]              \n",
      " 21            [-1, 10]  1         0  ultralytics.nn.modules.conv.Concat           [1]                           \n",
      " 22                  -1  1    378880  ultralytics.nn.modules.block.C3k2            [384, 256, 1, True]           \n",
      " 23        [16, 19, 22]  1    433597  ultralytics.nn.modules.head.Detect           [15, [64, 128, 256]]          \n",
      "YOLO11n summary: 181 layers, 2,592,765 parameters, 2,592,749 gradients, 6.5 GFLOPs\n",
      "\n",
      "Transferred 448/499 items from pretrained weights\n",
      "Freezing layer 'model.23.dfl.conv.weight'\n",
      "\u001b[34m\u001b[1mAMP: \u001b[0mrunning Automatic Mixed Precision (AMP) checks...\n",
      "\u001b[34m\u001b[1mAMP: \u001b[0mchecks passed \n",
      "\u001b[34m\u001b[1mtrain: \u001b[0mFast image access  (ping: 0.20.0 ms, read: 53.210.3 MB/s, size: 24.1 KB)\n"
     ]
    },
    {
     "name": "stderr",
     "output_type": "stream",
     "text": [
      "\u001b[34m\u001b[1mtrain: \u001b[0mScanning D:\\Project\\PJT_07\\train\\labels.cache... 3530 images, 3 backgrounds, 0 corrupt: 100%|██████████| 3530\u001b[0m\n"
     ]
    },
    {
     "name": "stdout",
     "output_type": "stream",
     "text": [
      "\u001b[34m\u001b[1mval: \u001b[0mFast image access  (ping: 0.20.0 ms, read: 44.528.0 MB/s, size: 20.7 KB)\n"
     ]
    },
    {
     "name": "stderr",
     "output_type": "stream",
     "text": [
      "\u001b[34m\u001b[1mval: \u001b[0mScanning D:\\Project\\PJT_07\\valid\\labels.cache... 801 images, 0 backgrounds, 0 corrupt: 100%|██████████| 801/801\u001b[0m\n"
     ]
    },
    {
     "name": "stdout",
     "output_type": "stream",
     "text": [
      "Plotting labels to runs\\detect\\yolov11n_custom_002\\labels.jpg... \n",
      "\u001b[34m\u001b[1moptimizer:\u001b[0m SGD(lr=0.001, momentum=0.9) with parameter groups 81 weight(decay=0.0), 88 weight(decay=0.0005), 87 bias(decay=0.0)\n",
      "Image sizes 640 train, 640 val\n",
      "Using 0 dataloader workers\n",
      "Logging results to \u001b[1mruns\\detect\\yolov11n_custom_002\u001b[0m\n",
      "Starting training for 30 epochs...\n",
      "\n",
      "      Epoch    GPU_mem   box_loss   cls_loss   dfl_loss  Instances       Size\n"
     ]
    },
    {
     "name": "stderr",
     "output_type": "stream",
     "text": [
      "       1/30      1.23G      1.176      4.503       1.44         18        640:  18%|█▊        | 78/442 [00:43<03:16,"
     ]
    },
    {
     "name": "stdout",
     "output_type": "stream",
     "text": [
      "[GPU 모니터] 메모리 할당: 169.5MB, 예약: 1260.0MB\n"
     ]
    },
    {
     "name": "stderr",
     "output_type": "stream",
     "text": [
      "       1/30      1.24G      1.025      4.312      1.341         26        640:  45%|████▍     | 197/442 [01:43<02:07"
     ]
    },
    {
     "name": "stdout",
     "output_type": "stream",
     "text": [
      "[GPU 모니터] 메모리 할당: 132.0MB, 예약: 1268.0MB\n"
     ]
    },
    {
     "name": "stderr",
     "output_type": "stream",
     "text": [
      "       1/30      1.24G     0.9668      4.225      1.293         24        640:  71%|███████   | 314/442 [02:42<01:02"
     ]
    },
    {
     "name": "stdout",
     "output_type": "stream",
     "text": [
      "[GPU 모니터] 메모리 할당: 1011.9MB, 예약: 1268.0MB\n"
     ]
    },
    {
     "name": "stderr",
     "output_type": "stream",
     "text": [
      "       1/30      1.24G     0.9205      4.138      1.254         21        640:  98%|█████████▊| 434/442 [03:43<00:03"
     ]
    },
    {
     "name": "stdout",
     "output_type": "stream",
     "text": [
      "[GPU 모니터] 메모리 할당: 179.6MB, 예약: 1268.0MB\n"
     ]
    },
    {
     "name": "stderr",
     "output_type": "stream",
     "text": [
      "       1/30      1.25G     0.9173       4.13      1.253          4        640: 100%|██████████| 442/442 [03:47<00:00\n",
      "                 Class     Images  Instances      Box(P          R      mAP50  mAP50-95): 100%|██████████| 51/51 [00\n"
     ]
    },
    {
     "name": "stdout",
     "output_type": "stream",
     "text": [
      "                   all        801        944      0.163      0.205     0.0853     0.0699\n",
      "\n",
      "      Epoch    GPU_mem   box_loss   cls_loss   dfl_loss  Instances       Size\n"
     ]
    },
    {
     "name": "stderr",
     "output_type": "stream",
     "text": [
      "       2/30      1.41G     0.8064      3.717      1.137         17        640:  15%|█▍        | 66/442 [00:32<02:55,"
     ]
    },
    {
     "name": "stdout",
     "output_type": "stream",
     "text": [
      "[GPU 모니터] 메모리 할당: 653.9MB, 예약: 1448.0MB\n"
     ]
    },
    {
     "name": "stderr",
     "output_type": "stream",
     "text": [
      "       2/30      1.41G     0.7739      3.616      1.135         18        640:  43%|████▎     | 189/442 [01:33<02:02"
     ]
    },
    {
     "name": "stdout",
     "output_type": "stream",
     "text": [
      "[GPU 모니터] 메모리 할당: 880.2MB, 예약: 1448.0MB\n"
     ]
    },
    {
     "name": "stderr",
     "output_type": "stream",
     "text": [
      "       2/30      1.41G     0.7815      3.537      1.143         19        640:  70%|███████   | 311/442 [02:33<01:05"
     ]
    },
    {
     "name": "stdout",
     "output_type": "stream",
     "text": [
      "[GPU 모니터] 메모리 할당: 1010.7MB, 예약: 1448.0MB\n"
     ]
    },
    {
     "name": "stderr",
     "output_type": "stream",
     "text": [
      "       2/30      1.41G     0.7854      3.481      1.137         15        640:  98%|█████████▊| 431/442 [03:32<00:05"
     ]
    },
    {
     "name": "stdout",
     "output_type": "stream",
     "text": [
      "[GPU 모니터] 메모리 할당: 152.4MB, 예약: 1448.0MB\n"
     ]
    },
    {
     "name": "stderr",
     "output_type": "stream",
     "text": [
      "       2/30      1.43G     0.7843      3.471      1.138          2        640: 100%|██████████| 442/442 [03:38<00:00\n",
      "                 Class     Images  Instances      Box(P          R      mAP50  mAP50-95): 100%|██████████| 51/51 [00\n"
     ]
    },
    {
     "name": "stdout",
     "output_type": "stream",
     "text": [
      "                   all        801        944       0.16      0.335      0.167      0.134\n",
      "\n",
      "      Epoch    GPU_mem   box_loss   cls_loss   dfl_loss  Instances       Size\n"
     ]
    },
    {
     "name": "stderr",
     "output_type": "stream",
     "text": [
      "       3/30      1.43G     0.7586      3.163      1.138         25        640:  14%|█▍        | 64/442 [00:31<03:09,"
     ]
    },
    {
     "name": "stdout",
     "output_type": "stream",
     "text": [
      "[GPU 모니터] 메모리 할당: 179.8MB, 예약: 1462.0MB\n"
     ]
    },
    {
     "name": "stderr",
     "output_type": "stream",
     "text": [
      "       3/30      1.43G     0.7593      3.043      1.122         24        640:  43%|████▎     | 188/442 [01:31<02:00"
     ]
    },
    {
     "name": "stdout",
     "output_type": "stream",
     "text": [
      "[GPU 모니터] 메모리 할당: 189.9MB, 예약: 1462.0MB\n"
     ]
    },
    {
     "name": "stderr",
     "output_type": "stream",
     "text": [
      "       3/30      1.43G     0.7682      3.009       1.12         14        640:  70%|███████   | 310/442 [02:31<01:06"
     ]
    },
    {
     "name": "stdout",
     "output_type": "stream",
     "text": [
      "[GPU 모니터] 메모리 할당: 189.9MB, 예약: 1462.0MB\n"
     ]
    },
    {
     "name": "stderr",
     "output_type": "stream",
     "text": [
      "       3/30      1.43G     0.7503      2.955      1.113         14        640:  98%|█████████▊| 434/442 [03:31<00:03"
     ]
    },
    {
     "name": "stdout",
     "output_type": "stream",
     "text": [
      "[GPU 모니터] 메모리 할당: 1105.4MB, 예약: 1462.0MB\n"
     ]
    },
    {
     "name": "stderr",
     "output_type": "stream",
     "text": [
      "       3/30      1.43G     0.7495      2.954       1.11          2        640: 100%|██████████| 442/442 [03:35<00:00\n",
      "                 Class     Images  Instances      Box(P          R      mAP50  mAP50-95): 100%|██████████| 51/51 [00\n"
     ]
    },
    {
     "name": "stdout",
     "output_type": "stream",
     "text": [
      "                   all        801        944      0.228      0.427      0.246      0.205\n",
      "\n",
      "      Epoch    GPU_mem   box_loss   cls_loss   dfl_loss  Instances       Size\n"
     ]
    },
    {
     "name": "stderr",
     "output_type": "stream",
     "text": [
      "       4/30      1.43G     0.6995      2.727       1.09         24        640:  16%|█▌        | 69/442 [00:33<03:01,"
     ]
    },
    {
     "name": "stdout",
     "output_type": "stream",
     "text": [
      "[GPU 모니터] 메모리 할당: 863.5MB, 예약: 1462.0MB\n"
     ]
    },
    {
     "name": "stderr",
     "output_type": "stream",
     "text": [
      "       4/30      1.43G     0.7099      2.718      1.092         23        640:  44%|████▍     | 194/442 [01:33<01:59"
     ]
    },
    {
     "name": "stdout",
     "output_type": "stream",
     "text": [
      "[GPU 모니터] 메모리 할당: 990.2MB, 예약: 1462.0MB\n"
     ]
    },
    {
     "name": "stderr",
     "output_type": "stream",
     "text": [
      "       4/30      1.43G      0.711      2.687      1.084         20        640:  72%|███████▏  | 318/442 [02:33<01:00"
     ]
    },
    {
     "name": "stdout",
     "output_type": "stream",
     "text": [
      "[GPU 모니터] 메모리 할당: 1065.0MB, 예약: 1462.0MB\n"
     ]
    },
    {
     "name": "stderr",
     "output_type": "stream",
     "text": [
      "       4/30      1.43G     0.7118      2.664       1.08          5        640: 100%|██████████| 442/442 [03:33<00:00\n"
     ]
    },
    {
     "name": "stdout",
     "output_type": "stream",
     "text": [
      "[GPU 모니터] 메모리 할당: 389.9MB, 예약: 1462.0MB\n"
     ]
    },
    {
     "name": "stderr",
     "output_type": "stream",
     "text": [
      "                 Class     Images  Instances      Box(P          R      mAP50  mAP50-95): 100%|██████████| 51/51 [00\n"
     ]
    },
    {
     "name": "stdout",
     "output_type": "stream",
     "text": [
      "                   all        801        944      0.317        0.4      0.314       0.26\n",
      "\n",
      "      Epoch    GPU_mem   box_loss   cls_loss   dfl_loss  Instances       Size\n"
     ]
    },
    {
     "name": "stderr",
     "output_type": "stream",
     "text": [
      "       5/30      1.43G     0.6778      2.518      1.063         16        640:  17%|█▋        | 76/442 [00:37<03:00,"
     ]
    },
    {
     "name": "stdout",
     "output_type": "stream",
     "text": [
      "[GPU 모니터] 메모리 할당: 1065.0MB, 예약: 1462.0MB\n"
     ]
    },
    {
     "name": "stderr",
     "output_type": "stream",
     "text": [
      "       5/30      1.43G     0.6893      2.495      1.072         14        640:  45%|████▌     | 199/442 [01:37<01:54"
     ]
    },
    {
     "name": "stdout",
     "output_type": "stream",
     "text": [
      "[GPU 모니터] 메모리 할당: 152.3MB, 예약: 1462.0MB\n"
     ]
    },
    {
     "name": "stderr",
     "output_type": "stream",
     "text": [
      "       5/30      1.43G     0.6913      2.514       1.07         21        640:  73%|███████▎  | 322/442 [02:37<00:58"
     ]
    },
    {
     "name": "stdout",
     "output_type": "stream",
     "text": [
      "[GPU 모니터] 메모리 할당: 1099.0MB, 예약: 1462.0MB\n"
     ]
    },
    {
     "name": "stderr",
     "output_type": "stream",
     "text": [
      "       5/30      1.43G     0.6891      2.488      1.064          5        640: 100%|██████████| 442/442 [03:34<00:00\n",
      "                 Class     Images  Instances      Box(P          R      mAP50  mAP50-95):  12%|█▏        | 6/51 [00:"
     ]
    },
    {
     "name": "stdout",
     "output_type": "stream",
     "text": [
      "[GPU 모니터] 메모리 할당: 199.0MB, 예약: 1462.0MB\n"
     ]
    },
    {
     "name": "stderr",
     "output_type": "stream",
     "text": [
      "                 Class     Images  Instances      Box(P          R      mAP50  mAP50-95): 100%|██████████| 51/51 [00\n"
     ]
    },
    {
     "name": "stdout",
     "output_type": "stream",
     "text": [
      "                   all        801        944      0.328      0.495      0.359      0.295\n",
      "\n",
      "      Epoch    GPU_mem   box_loss   cls_loss   dfl_loss  Instances       Size\n"
     ]
    },
    {
     "name": "stderr",
     "output_type": "stream",
     "text": [
      "       6/30      1.43G     0.6485      2.402      1.039         12        640:  21%|██        | 93/442 [00:41<02:29,"
     ]
    },
    {
     "name": "stdout",
     "output_type": "stream",
     "text": [
      "[GPU 모니터] 메모리 할당: 152.3MB, 예약: 1462.0MB\n"
     ]
    },
    {
     "name": "stderr",
     "output_type": "stream",
     "text": [
      "       6/30      1.43G     0.6697       2.37      1.043         17        640:  52%|█████▏    | 228/442 [01:41<01:35"
     ]
    },
    {
     "name": "stdout",
     "output_type": "stream",
     "text": [
      "[GPU 모니터] 메모리 할당: 190.3MB, 예약: 1462.0MB\n"
     ]
    },
    {
     "name": "stderr",
     "output_type": "stream",
     "text": [
      "       6/30      1.43G     0.6683      2.351      1.047         21        640:  82%|████████▏ | 364/442 [02:41<00:35"
     ]
    },
    {
     "name": "stdout",
     "output_type": "stream",
     "text": [
      "[GPU 모니터] 메모리 할당: 190.3MB, 예약: 1462.0MB\n"
     ]
    },
    {
     "name": "stderr",
     "output_type": "stream",
     "text": [
      "       6/30      1.43G     0.6656       2.34      1.046          4        640: 100%|██████████| 442/442 [03:16<00:00\n",
      "                 Class     Images  Instances      Box(P          R      mAP50  mAP50-95): 100%|██████████| 51/51 [00\n"
     ]
    },
    {
     "name": "stdout",
     "output_type": "stream",
     "text": [
      "                   all        801        944      0.422      0.552      0.458      0.382\n",
      "\n",
      "      Epoch    GPU_mem   box_loss   cls_loss   dfl_loss  Instances       Size\n"
     ]
    },
    {
     "name": "stderr",
     "output_type": "stream",
     "text": [
      "       7/30      1.43G     0.6885      2.301      1.053         20        640:   2%|▏         | 10/442 [00:04<03:09,"
     ]
    },
    {
     "name": "stdout",
     "output_type": "stream",
     "text": [
      "[GPU 모니터] 메모리 할당: 1071.5MB, 예약: 1462.0MB\n"
     ]
    },
    {
     "name": "stderr",
     "output_type": "stream",
     "text": [
      "       7/30      1.43G     0.6738      2.304      1.063         19        640:  33%|███▎      | 144/442 [01:04<02:17"
     ]
    },
    {
     "name": "stdout",
     "output_type": "stream",
     "text": [
      "[GPU 모니터] 메모리 할당: 1079.9MB, 예약: 1462.0MB\n"
     ]
    },
    {
     "name": "stderr",
     "output_type": "stream",
     "text": [
      "       7/30      1.43G     0.6753      2.293      1.052         10        640:  63%|██████▎   | 279/442 [02:04<01:14"
     ]
    },
    {
     "name": "stdout",
     "output_type": "stream",
     "text": [
      "[GPU 모니터] 메모리 할당: 142.1MB, 예약: 1462.0MB\n"
     ]
    },
    {
     "name": "stderr",
     "output_type": "stream",
     "text": [
      "       7/30      1.43G     0.6696      2.254       1.05         13        640:  94%|█████████▎| 414/442 [03:04<00:12"
     ]
    },
    {
     "name": "stdout",
     "output_type": "stream",
     "text": [
      "[GPU 모니터] 메모리 할당: 180.1MB, 예약: 1462.0MB\n"
     ]
    },
    {
     "name": "stderr",
     "output_type": "stream",
     "text": [
      "       7/30      1.43G     0.6683       2.25       1.05          4        640: 100%|██████████| 442/442 [03:16<00:00\n",
      "                 Class     Images  Instances      Box(P          R      mAP50  mAP50-95): 100%|██████████| 51/51 [00\n"
     ]
    },
    {
     "name": "stdout",
     "output_type": "stream",
     "text": [
      "                   all        801        944      0.524      0.535       0.54      0.456\n",
      "\n",
      "      Epoch    GPU_mem   box_loss   cls_loss   dfl_loss  Instances       Size\n"
     ]
    },
    {
     "name": "stderr",
     "output_type": "stream",
     "text": [
      "       8/30      1.43G     0.6744      2.154      1.057         20        640:  14%|█▎        | 60/442 [00:26<02:41,"
     ]
    },
    {
     "name": "stdout",
     "output_type": "stream",
     "text": [
      "[GPU 모니터] 메모리 할당: 190.3MB, 예약: 1462.0MB\n"
     ]
    },
    {
     "name": "stderr",
     "output_type": "stream",
     "text": [
      "       8/30      1.43G     0.6617      2.144      1.048         17        640:  44%|████▍     | 194/442 [01:26<01:47"
     ]
    },
    {
     "name": "stdout",
     "output_type": "stream",
     "text": [
      "[GPU 모니터] 메모리 할당: 190.3MB, 예약: 1462.0MB\n"
     ]
    },
    {
     "name": "stderr",
     "output_type": "stream",
     "text": [
      "       8/30      1.43G     0.6548      2.134      1.039         18        640:  74%|███████▍  | 329/442 [02:26<00:53"
     ]
    },
    {
     "name": "stdout",
     "output_type": "stream",
     "text": [
      "[GPU 모니터] 메모리 할당: 152.3MB, 예약: 1462.0MB\n"
     ]
    },
    {
     "name": "stderr",
     "output_type": "stream",
     "text": [
      "       8/30      1.43G     0.6536      2.128      1.039         15        640:  79%|███████▊  | 348/442 [02:34<00:39"
     ]
    },
    {
     "name": "stdout",
     "output_type": "stream",
     "text": [
      "[GPU 모니터] 메모리 할당: 190.3MB, 예약: 1462.0MB\n"
     ]
    },
    {
     "name": "stderr",
     "output_type": "stream",
     "text": [
      "       8/30      1.43G     0.6487      2.135      1.039          2        640: 100%|██████████| 442/442 [08:10<00:00\n",
      "                 Class     Images  Instances      Box(P          R      mAP50  mAP50-95):  84%|████████▍ | 43/51 [00"
     ]
    },
    {
     "name": "stdout",
     "output_type": "stream",
     "text": [
      "[GPU 모니터] 메모리 할당: 251.4MB, 예약: 1462.0MB\n"
     ]
    },
    {
     "name": "stderr",
     "output_type": "stream",
     "text": [
      "                 Class     Images  Instances      Box(P          R      mAP50  mAP50-95): 100%|██████████| 51/51 [00\n"
     ]
    },
    {
     "name": "stdout",
     "output_type": "stream",
     "text": [
      "                   all        801        944      0.608      0.561       0.62      0.535\n",
      "\n",
      "      Epoch    GPU_mem   box_loss   cls_loss   dfl_loss  Instances       Size\n"
     ]
    },
    {
     "name": "stderr",
     "output_type": "stream",
     "text": [
      "       9/30      1.43G     0.6614      2.071      1.036         15        640:  26%|██▌       | 114/442 [00:55<02:43"
     ]
    },
    {
     "name": "stdout",
     "output_type": "stream",
     "text": [
      "[GPU 모니터] 메모리 할당: 190.3MB, 예약: 1462.0MB\n"
     ]
    },
    {
     "name": "stderr",
     "output_type": "stream",
     "text": [
      "       9/30      1.43G       0.66      2.065      1.038         13        640:  54%|█████▍    | 239/442 [01:55<01:32"
     ]
    },
    {
     "name": "stdout",
     "output_type": "stream",
     "text": [
      "[GPU 모니터] 메모리 할당: 152.3MB, 예약: 1462.0MB\n"
     ]
    },
    {
     "name": "stderr",
     "output_type": "stream",
     "text": [
      "       9/30      1.43G     0.6464      2.038       1.03         11        640:  82%|████████▏ | 361/442 [02:55<00:40"
     ]
    },
    {
     "name": "stdout",
     "output_type": "stream",
     "text": [
      "[GPU 모니터] 메모리 할당: 152.3MB, 예약: 1462.0MB\n"
     ]
    },
    {
     "name": "stderr",
     "output_type": "stream",
     "text": [
      "       9/30      1.43G     0.6444      2.023      1.031          4        640: 100%|██████████| 442/442 [03:32<00:00\n",
      "                 Class     Images  Instances      Box(P          R      mAP50  mAP50-95): 100%|██████████| 51/51 [00\n"
     ]
    },
    {
     "name": "stdout",
     "output_type": "stream",
     "text": [
      "                   all        801        944      0.674       0.58      0.675      0.581\n",
      "\n",
      "      Epoch    GPU_mem   box_loss   cls_loss   dfl_loss  Instances       Size\n"
     ]
    },
    {
     "name": "stderr",
     "output_type": "stream",
     "text": [
      "      10/30      1.43G     0.6421      1.852      1.018         20        640:   1%|          | 4/442 [00:02<03:38, "
     ]
    },
    {
     "name": "stdout",
     "output_type": "stream",
     "text": [
      "[GPU 모니터] 메모리 할당: 667.4MB, 예약: 1462.0MB\n"
     ]
    },
    {
     "name": "stderr",
     "output_type": "stream",
     "text": [
      "      10/30      1.43G     0.6305      1.934      1.043         18        640:  31%|███       | 135/442 [01:02<02:22"
     ]
    },
    {
     "name": "stdout",
     "output_type": "stream",
     "text": [
      "[GPU 모니터] 메모리 할당: 1036.9MB, 예약: 1462.0MB\n"
     ]
    },
    {
     "name": "stderr",
     "output_type": "stream",
     "text": [
      "      10/30      1.43G     0.6246      1.941       1.03         19        640:  60%|█████▉    | 263/442 [02:01<01:19"
     ]
    },
    {
     "name": "stdout",
     "output_type": "stream",
     "text": [
      "[GPU 모니터] 메모리 할당: 152.3MB, 예약: 1462.0MB\n"
     ]
    },
    {
     "name": "stderr",
     "output_type": "stream",
     "text": [
      "      10/30      1.43G     0.6259      1.951      1.025         13        640:  88%|████████▊ | 388/442 [03:01<00:26"
     ]
    },
    {
     "name": "stdout",
     "output_type": "stream",
     "text": [
      "[GPU 모니터] 메모리 할당: 190.3MB, 예약: 1462.0MB\n"
     ]
    },
    {
     "name": "stderr",
     "output_type": "stream",
     "text": [
      "      10/30      1.43G     0.6261      1.941      1.024          7        640: 100%|██████████| 442/442 [03:29<00:00\n",
      "                 Class     Images  Instances      Box(P          R      mAP50  mAP50-95): 100%|██████████| 51/51 [00\n"
     ]
    },
    {
     "name": "stdout",
     "output_type": "stream",
     "text": [
      "                   all        801        944      0.674      0.642      0.704      0.606\n",
      "\n",
      "      Epoch    GPU_mem   box_loss   cls_loss   dfl_loss  Instances       Size\n"
     ]
    },
    {
     "name": "stderr",
     "output_type": "stream",
     "text": [
      "      11/30      1.43G      0.674      1.895      1.057         15        640:   5%|▍         | 21/442 [00:10<03:36,"
     ]
    },
    {
     "name": "stdout",
     "output_type": "stream",
     "text": [
      "[GPU 모니터] 메모리 할당: 152.3MB, 예약: 1462.0MB\n"
     ]
    },
    {
     "name": "stderr",
     "output_type": "stream",
     "text": [
      "      11/30      1.43G     0.6156      1.888      1.021         25        640:  32%|███▏      | 142/442 [01:10<02:15"
     ]
    },
    {
     "name": "stdout",
     "output_type": "stream",
     "text": [
      "[GPU 모니터] 메모리 할당: 190.3MB, 예약: 1462.0MB\n"
     ]
    },
    {
     "name": "stderr",
     "output_type": "stream",
     "text": [
      "      11/30      1.43G      0.625      1.897      1.025         18        640:  61%|██████    | 268/442 [02:10<01:24"
     ]
    },
    {
     "name": "stdout",
     "output_type": "stream",
     "text": [
      "[GPU 모니터] 메모리 할당: 372.3MB, 예약: 1462.0MB\n"
     ]
    },
    {
     "name": "stderr",
     "output_type": "stream",
     "text": [
      "      11/30      1.43G     0.6315      1.884      1.021         22        640:  88%|████████▊ | 389/442 [03:10<00:25"
     ]
    },
    {
     "name": "stdout",
     "output_type": "stream",
     "text": [
      "[GPU 모니터] 메모리 할당: 152.3MB, 예약: 1462.0MB\n"
     ]
    },
    {
     "name": "stderr",
     "output_type": "stream",
     "text": [
      "      11/30      1.43G     0.6266      1.874       1.02          2        640: 100%|██████████| 442/442 [03:37<00:00\n",
      "                 Class     Images  Instances      Box(P          R      mAP50  mAP50-95): 100%|██████████| 51/51 [00\n"
     ]
    },
    {
     "name": "stdout",
     "output_type": "stream",
     "text": [
      "                   all        801        944      0.763      0.674      0.753      0.653\n",
      "\n",
      "      Epoch    GPU_mem   box_loss   cls_loss   dfl_loss  Instances       Size\n"
     ]
    },
    {
     "name": "stderr",
     "output_type": "stream",
     "text": [
      "      12/30      1.43G     0.6036      1.898      0.999         19        640:   5%|▌         | 24/442 [00:11<03:25,"
     ]
    },
    {
     "name": "stdout",
     "output_type": "stream",
     "text": [
      "[GPU 모니터] 메모리 할당: 190.3MB, 예약: 1462.0MB\n"
     ]
    },
    {
     "name": "stderr",
     "output_type": "stream",
     "text": [
      "      12/30      1.43G     0.5994      1.859     0.9971         21        640:  33%|███▎      | 147/442 [01:11<02:25"
     ]
    },
    {
     "name": "stdout",
     "output_type": "stream",
     "text": [
      "[GPU 모니터] 메모리 할당: 152.3MB, 예약: 1462.0MB\n"
     ]
    },
    {
     "name": "stderr",
     "output_type": "stream",
     "text": [
      "      12/30      1.43G     0.6043      1.875      1.002         21        640:  61%|██████    | 269/442 [02:11<01:24"
     ]
    },
    {
     "name": "stdout",
     "output_type": "stream",
     "text": [
      "[GPU 모니터] 메모리 할당: 142.3MB, 예약: 1462.0MB\n"
     ]
    },
    {
     "name": "stderr",
     "output_type": "stream",
     "text": [
      "      12/30      1.43G     0.6142      1.853      1.008         12        640:  88%|████████▊ | 387/442 [03:11<00:28"
     ]
    },
    {
     "name": "stdout",
     "output_type": "stream",
     "text": [
      "[GPU 모니터] 메모리 할당: 152.3MB, 예약: 1462.0MB\n"
     ]
    },
    {
     "name": "stderr",
     "output_type": "stream",
     "text": [
      "      12/30      1.43G     0.6191      1.838      1.012          9        640: 100%|██████████| 442/442 [03:39<00:00\n",
      "                 Class     Images  Instances      Box(P          R      mAP50  mAP50-95): 100%|██████████| 51/51 [00\n"
     ]
    },
    {
     "name": "stdout",
     "output_type": "stream",
     "text": [
      "                   all        801        944      0.815      0.683      0.764      0.661\n",
      "\n",
      "      Epoch    GPU_mem   box_loss   cls_loss   dfl_loss  Instances       Size\n"
     ]
    },
    {
     "name": "stderr",
     "output_type": "stream",
     "text": [
      "      13/30      1.43G     0.5631      1.733      1.014         12        640:   4%|▍         | 18/442 [00:09<03:38,"
     ]
    },
    {
     "name": "stdout",
     "output_type": "stream",
     "text": [
      "[GPU 모니터] 메모리 할당: 190.3MB, 예약: 1462.0MB\n"
     ]
    },
    {
     "name": "stderr",
     "output_type": "stream",
     "text": [
      "      13/30      1.43G     0.5954      1.767      1.007         21        640:  31%|███       | 136/442 [01:09<02:21"
     ]
    },
    {
     "name": "stdout",
     "output_type": "stream",
     "text": [
      "[GPU 모니터] 메모리 할당: 190.3MB, 예약: 1462.0MB\n"
     ]
    },
    {
     "name": "stderr",
     "output_type": "stream",
     "text": [
      "      13/30      1.43G     0.6066      1.782      1.008         16        640:  60%|█████▉    | 263/442 [02:09<01:22"
     ]
    },
    {
     "name": "stdout",
     "output_type": "stream",
     "text": [
      "[GPU 모니터] 메모리 할당: 988.2MB, 예약: 1462.0MB\n"
     ]
    },
    {
     "name": "stderr",
     "output_type": "stream",
     "text": [
      "      13/30      1.43G     0.6139      1.757      1.014         15        640:  88%|████████▊ | 390/442 [03:09<00:24"
     ]
    },
    {
     "name": "stdout",
     "output_type": "stream",
     "text": [
      "[GPU 모니터] 메모리 할당: 190.3MB, 예약: 1462.0MB\n"
     ]
    },
    {
     "name": "stderr",
     "output_type": "stream",
     "text": [
      "      13/30      1.43G     0.6106      1.765      1.014          3        640: 100%|██████████| 442/442 [03:33<00:00\n",
      "                 Class     Images  Instances      Box(P          R      mAP50  mAP50-95): 100%|██████████| 51/51 [00\n"
     ]
    },
    {
     "name": "stdout",
     "output_type": "stream",
     "text": [
      "                   all        801        944      0.808      0.687      0.782      0.678\n",
      "\n",
      "      Epoch    GPU_mem   box_loss   cls_loss   dfl_loss  Instances       Size\n"
     ]
    },
    {
     "name": "stderr",
     "output_type": "stream",
     "text": [
      "      14/30      1.43G     0.6107      1.659      1.028         16        640:   7%|▋         | 29/442 [00:13<03:14,"
     ]
    },
    {
     "name": "stdout",
     "output_type": "stream",
     "text": [
      "[GPU 모니터] 메모리 할당: 1049.5MB, 예약: 1462.0MB\n"
     ]
    },
    {
     "name": "stderr",
     "output_type": "stream",
     "text": [
      "      14/30      1.43G     0.5903      1.687      1.012         19        640:  36%|███▌      | 158/442 [01:13<02:13"
     ]
    },
    {
     "name": "stdout",
     "output_type": "stream",
     "text": [
      "[GPU 모니터] 메모리 할당: 190.3MB, 예약: 1462.0MB\n"
     ]
    },
    {
     "name": "stderr",
     "output_type": "stream",
     "text": [
      "      14/30      1.43G     0.5952      1.685      1.008         19        640:  64%|██████▍   | 285/442 [02:13<01:07"
     ]
    },
    {
     "name": "stdout",
     "output_type": "stream",
     "text": [
      "[GPU 모니터] 메모리 할당: 152.3MB, 예약: 1462.0MB\n"
     ]
    },
    {
     "name": "stderr",
     "output_type": "stream",
     "text": [
      "      14/30      1.43G     0.6007      1.701       1.01         21        640:  93%|█████████▎| 410/442 [03:13<00:16"
     ]
    },
    {
     "name": "stdout",
     "output_type": "stream",
     "text": [
      "[GPU 모니터] 메모리 할당: 189.8MB, 예약: 1462.0MB\n"
     ]
    },
    {
     "name": "stderr",
     "output_type": "stream",
     "text": [
      "      14/30      1.43G     0.6032      1.698      1.011          2        640: 100%|██████████| 442/442 [03:28<00:00\n",
      "                 Class     Images  Instances      Box(P          R      mAP50  mAP50-95): 100%|██████████| 51/51 [00\n"
     ]
    },
    {
     "name": "stdout",
     "output_type": "stream",
     "text": [
      "                   all        801        944      0.852      0.714      0.816      0.709\n",
      "\n",
      "      Epoch    GPU_mem   box_loss   cls_loss   dfl_loss  Instances       Size\n"
     ]
    },
    {
     "name": "stderr",
     "output_type": "stream",
     "text": [
      "      15/30      1.43G     0.5712      1.675     0.9948         15        640:  11%|█         | 47/442 [00:22<03:16,"
     ]
    },
    {
     "name": "stdout",
     "output_type": "stream",
     "text": [
      "[GPU 모니터] 메모리 할당: 142.3MB, 예약: 1462.0MB\n"
     ]
    },
    {
     "name": "stderr",
     "output_type": "stream",
     "text": [
      "      15/30      1.43G     0.5814      1.647       1.01          7        640:  39%|███▉      | 174/442 [01:22<02:04"
     ]
    },
    {
     "name": "stdout",
     "output_type": "stream",
     "text": [
      "[GPU 모니터] 메모리 할당: 644.1MB, 예약: 1462.0MB\n"
     ]
    },
    {
     "name": "stderr",
     "output_type": "stream",
     "text": [
      "      15/30      1.43G     0.5835      1.647      1.006         22        640:  68%|██████▊   | 301/442 [02:22<01:03"
     ]
    },
    {
     "name": "stdout",
     "output_type": "stream",
     "text": [
      "[GPU 모니터] 메모리 할당: 717.7MB, 예약: 1462.0MB\n"
     ]
    },
    {
     "name": "stderr",
     "output_type": "stream",
     "text": [
      "      15/30      1.43G     0.5852      1.634      1.007          6        640: 100%|██████████| 442/442 [03:21<00:00\n",
      "                 Class     Images  Instances      Box(P          R      mAP50  mAP50-95):   6%|▌         | 3/51 [00:"
     ]
    },
    {
     "name": "stdout",
     "output_type": "stream",
     "text": [
      "[GPU 모니터] 메모리 할당: 199.0MB, 예약: 1462.0MB\n"
     ]
    },
    {
     "name": "stderr",
     "output_type": "stream",
     "text": [
      "                 Class     Images  Instances      Box(P          R      mAP50  mAP50-95): 100%|██████████| 51/51 [00\n"
     ]
    },
    {
     "name": "stdout",
     "output_type": "stream",
     "text": [
      "                   all        801        944      0.851      0.741      0.821      0.713\n",
      "\n",
      "      Epoch    GPU_mem   box_loss   cls_loss   dfl_loss  Instances       Size\n"
     ]
    },
    {
     "name": "stderr",
     "output_type": "stream",
     "text": [
      "      16/30      1.43G      0.605      1.598      1.009         16        640:  18%|█▊        | 78/442 [00:38<03:01,"
     ]
    },
    {
     "name": "stdout",
     "output_type": "stream",
     "text": [
      "[GPU 모니터] 메모리 할당: 1065.0MB, 예약: 1462.0MB\n"
     ]
    },
    {
     "name": "stderr",
     "output_type": "stream",
     "text": [
      "      16/30      1.43G     0.6014      1.628      1.001         12        640:  45%|████▌     | 199/442 [01:38<01:55"
     ]
    },
    {
     "name": "stdout",
     "output_type": "stream",
     "text": [
      "[GPU 모니터] 메모리 할당: 152.3MB, 예약: 1462.0MB\n"
     ]
    },
    {
     "name": "stderr",
     "output_type": "stream",
     "text": [
      "      16/30      1.43G     0.6029      1.613      1.001         16        640:  73%|███████▎  | 323/442 [02:38<00:57"
     ]
    },
    {
     "name": "stdout",
     "output_type": "stream",
     "text": [
      "[GPU 모니터] 메모리 할당: 902.3MB, 예약: 1462.0MB\n"
     ]
    },
    {
     "name": "stderr",
     "output_type": "stream",
     "text": [
      "      16/30      1.43G      0.597        1.6      1.002          6        640: 100%|██████████| 442/442 [03:38<00:00\n",
      "                 Class     Images  Instances      Box(P          R      mAP50  mAP50-95):   2%|▏         | 1/51 [00:"
     ]
    },
    {
     "name": "stdout",
     "output_type": "stream",
     "text": [
      "[GPU 모니터] 메모리 할당: 229.2MB, 예약: 1462.0MB\n"
     ]
    },
    {
     "name": "stderr",
     "output_type": "stream",
     "text": [
      "                 Class     Images  Instances      Box(P          R      mAP50  mAP50-95): 100%|██████████| 51/51 [00\n"
     ]
    },
    {
     "name": "stdout",
     "output_type": "stream",
     "text": [
      "                   all        801        944      0.865      0.771      0.834      0.727\n",
      "\n",
      "      Epoch    GPU_mem   box_loss   cls_loss   dfl_loss  Instances       Size\n"
     ]
    },
    {
     "name": "stderr",
     "output_type": "stream",
     "text": [
      "      17/30      1.43G     0.5975      1.615      1.004         23        640:  18%|█▊        | 80/442 [00:37<02:48,"
     ]
    },
    {
     "name": "stdout",
     "output_type": "stream",
     "text": [
      "[GPU 모니터] 메모리 할당: 190.3MB, 예약: 1462.0MB\n"
     ]
    },
    {
     "name": "stderr",
     "output_type": "stream",
     "text": [
      "      17/30      1.43G      0.598      1.583      1.003         15        640:  47%|████▋     | 209/442 [01:37<01:44"
     ]
    },
    {
     "name": "stdout",
     "output_type": "stream",
     "text": [
      "[GPU 모니터] 메모리 할당: 152.3MB, 예약: 1462.0MB\n"
     ]
    },
    {
     "name": "stderr",
     "output_type": "stream",
     "text": [
      "      17/30      1.43G     0.5957       1.58          1         20        640:  76%|███████▋  | 338/442 [02:37<00:47"
     ]
    },
    {
     "name": "stdout",
     "output_type": "stream",
     "text": [
      "[GPU 모니터] 메모리 할당: 190.3MB, 예약: 1462.0MB\n"
     ]
    },
    {
     "name": "stderr",
     "output_type": "stream",
     "text": [
      "      17/30      1.43G     0.5989       1.58     0.9997          3        640: 100%|██████████| 442/442 [03:26<00:00\n",
      "                 Class     Images  Instances      Box(P          R      mAP50  mAP50-95):  49%|████▉     | 25/51 [00"
     ]
    },
    {
     "name": "stdout",
     "output_type": "stream",
     "text": [
      "[GPU 모니터] 메모리 할당: 199.0MB, 예약: 1462.0MB\n"
     ]
    },
    {
     "name": "stderr",
     "output_type": "stream",
     "text": [
      "                 Class     Images  Instances      Box(P          R      mAP50  mAP50-95): 100%|██████████| 51/51 [00\n"
     ]
    },
    {
     "name": "stdout",
     "output_type": "stream",
     "text": [
      "                   all        801        944      0.917      0.758       0.85      0.736\n",
      "\n",
      "      Epoch    GPU_mem   box_loss   cls_loss   dfl_loss  Instances       Size\n"
     ]
    },
    {
     "name": "stderr",
     "output_type": "stream",
     "text": [
      "      18/30      1.43G     0.5947      1.526      1.019         25        640:  23%|██▎       | 101/442 [00:47<02:38"
     ]
    },
    {
     "name": "stdout",
     "output_type": "stream",
     "text": [
      "[GPU 모니터] 메모리 할당: 142.1MB, 예약: 1462.0MB\n"
     ]
    },
    {
     "name": "stderr",
     "output_type": "stream",
     "text": [
      "      18/30      1.43G     0.5964      1.553      1.012         22        640:  51%|█████     | 226/442 [01:47<01:45"
     ]
    },
    {
     "name": "stdout",
     "output_type": "stream",
     "text": [
      "[GPU 모니터] 메모리 할당: 555.1MB, 예약: 1462.0MB\n"
     ]
    },
    {
     "name": "stderr",
     "output_type": "stream",
     "text": [
      "      18/30      1.43G     0.5898      1.555      1.006         15        640:  80%|████████  | 355/442 [02:48<00:41"
     ]
    },
    {
     "name": "stdout",
     "output_type": "stream",
     "text": [
      "[GPU 모니터] 메모리 할당: 142.1MB, 예약: 1462.0MB\n"
     ]
    },
    {
     "name": "stderr",
     "output_type": "stream",
     "text": [
      "      18/30      1.43G     0.5908      1.544      1.006          5        640: 100%|██████████| 442/442 [03:28<00:00\n",
      "                 Class     Images  Instances      Box(P          R      mAP50  mAP50-95):  92%|█████████▏| 47/51 [00"
     ]
    },
    {
     "name": "stdout",
     "output_type": "stream",
     "text": [
      "[GPU 모니터] 메모리 할당: 219.2MB, 예약: 1462.0MB\n"
     ]
    },
    {
     "name": "stderr",
     "output_type": "stream",
     "text": [
      "                 Class     Images  Instances      Box(P          R      mAP50  mAP50-95): 100%|██████████| 51/51 [00\n"
     ]
    },
    {
     "name": "stdout",
     "output_type": "stream",
     "text": [
      "                   all        801        944      0.892      0.781      0.854      0.743\n",
      "\n",
      "      Epoch    GPU_mem   box_loss   cls_loss   dfl_loss  Instances       Size\n"
     ]
    },
    {
     "name": "stderr",
     "output_type": "stream",
     "text": [
      "      19/30      1.43G     0.5927      1.501     0.9989         21        640:  28%|██▊       | 123/442 [00:57<02:31"
     ]
    },
    {
     "name": "stdout",
     "output_type": "stream",
     "text": [
      "[GPU 모니터] 메모리 할당: 152.3MB, 예약: 1462.0MB\n"
     ]
    },
    {
     "name": "stderr",
     "output_type": "stream",
     "text": [
      "      19/30      1.43G      0.586       1.52     0.9924         16        640:  57%|█████▋    | 251/442 [01:57<01:29"
     ]
    },
    {
     "name": "stdout",
     "output_type": "stream",
     "text": [
      "[GPU 모니터] 메모리 할당: 190.3MB, 예약: 1462.0MB\n"
     ]
    },
    {
     "name": "stderr",
     "output_type": "stream",
     "text": [
      "      19/30      1.43G     0.5923      1.535     0.9981         19        640:  86%|████████▌ | 380/442 [02:57<00:29"
     ]
    },
    {
     "name": "stdout",
     "output_type": "stream",
     "text": [
      "[GPU 모니터] 메모리 할당: 1099.2MB, 예약: 1462.0MB\n"
     ]
    },
    {
     "name": "stderr",
     "output_type": "stream",
     "text": [
      "      19/30      1.43G     0.5917       1.53     0.9981          4        640: 100%|██████████| 442/442 [03:26<00:00\n",
      "                 Class     Images  Instances      Box(P          R      mAP50  mAP50-95): 100%|██████████| 51/51 [00\n"
     ]
    },
    {
     "name": "stdout",
     "output_type": "stream",
     "text": [
      "                   all        801        944      0.911      0.779      0.856      0.747\n",
      "\n",
      "      Epoch    GPU_mem   box_loss   cls_loss   dfl_loss  Instances       Size\n"
     ]
    },
    {
     "name": "stderr",
     "output_type": "stream",
     "text": [
      "      20/30      1.43G     0.5428      1.458      0.987         20        640:   4%|▍         | 18/442 [00:08<03:27,"
     ]
    },
    {
     "name": "stdout",
     "output_type": "stream",
     "text": [
      "[GPU 모니터] 메모리 할당: 200.4MB, 예약: 1462.0MB\n"
     ]
    },
    {
     "name": "stderr",
     "output_type": "stream",
     "text": [
      "      20/30      1.43G     0.5785      1.451     0.9958         16        640:  33%|███▎      | 145/442 [01:08<02:19"
     ]
    },
    {
     "name": "stdout",
     "output_type": "stream",
     "text": [
      "[GPU 모니터] 메모리 할당: 162.4MB, 예약: 1462.0MB\n"
     ]
    },
    {
     "name": "stderr",
     "output_type": "stream",
     "text": [
      "      20/30      1.43G     0.5758      1.463     0.9907         19        640:  61%|██████▏   | 271/442 [02:08<01:21"
     ]
    },
    {
     "name": "stdout",
     "output_type": "stream",
     "text": [
      "[GPU 모니터] 메모리 할당: 162.4MB, 예약: 1462.0MB\n"
     ]
    },
    {
     "name": "stderr",
     "output_type": "stream",
     "text": [
      "      20/30      1.43G     0.5828      1.476     0.9961         14        640:  89%|████████▉ | 395/442 [03:08<00:22"
     ]
    },
    {
     "name": "stdout",
     "output_type": "stream",
     "text": [
      "[GPU 모니터] 메모리 할당: 162.4MB, 예약: 1462.0MB\n"
     ]
    },
    {
     "name": "stderr",
     "output_type": "stream",
     "text": [
      "      20/30      1.44G      0.586      1.483     0.9954          5        640: 100%|██████████| 442/442 [03:31<00:00\n",
      "                 Class     Images  Instances      Box(P          R      mAP50  mAP50-95): 100%|██████████| 51/51 [00\n"
     ]
    },
    {
     "name": "stdout",
     "output_type": "stream",
     "text": [
      "                   all        801        944      0.927      0.766      0.862      0.747\n",
      "Closing dataloader mosaic\n",
      "\n",
      "      Epoch    GPU_mem   box_loss   cls_loss   dfl_loss  Instances       Size\n"
     ]
    },
    {
     "name": "stderr",
     "output_type": "stream",
     "text": [
      "      21/30      1.44G     0.5959      1.645      1.008          8        640:   7%|▋         | 32/442 [00:14<03:02,"
     ]
    },
    {
     "name": "stdout",
     "output_type": "stream",
     "text": [
      "[GPU 모니터] 메모리 할당: 210.6MB, 예약: 1472.0MB\n"
     ]
    },
    {
     "name": "stderr",
     "output_type": "stream",
     "text": [
      "      21/30      1.44G     0.5973      1.659     0.9749          9        640:  37%|███▋      | 162/442 [01:14<02:11"
     ]
    },
    {
     "name": "stdout",
     "output_type": "stream",
     "text": [
      "[GPU 모니터] 메모리 할당: 210.6MB, 예약: 1472.0MB\n"
     ]
    },
    {
     "name": "stderr",
     "output_type": "stream",
     "text": [
      "      21/30      1.44G     0.5856      1.651     0.9661          9        640:  66%|██████▌   | 290/442 [02:14<01:10"
     ]
    },
    {
     "name": "stdout",
     "output_type": "stream",
     "text": [
      "[GPU 모니터] 메모리 할당: 515.0MB, 예약: 1472.0MB\n"
     ]
    },
    {
     "name": "stderr",
     "output_type": "stream",
     "text": [
      "      21/30      1.44G     0.5746       1.63     0.9679          9        640:  95%|█████████▌| 420/442 [03:14<00:09"
     ]
    },
    {
     "name": "stdout",
     "output_type": "stream",
     "text": [
      "[GPU 모니터] 메모리 할당: 210.1MB, 예약: 1472.0MB\n"
     ]
    },
    {
     "name": "stderr",
     "output_type": "stream",
     "text": [
      "      21/30      1.45G     0.5756      1.627      0.969          2        640: 100%|██████████| 442/442 [03:24<00:00\n",
      "                 Class     Images  Instances      Box(P          R      mAP50  mAP50-95): 100%|██████████| 51/51 [00\n"
     ]
    },
    {
     "name": "stdout",
     "output_type": "stream",
     "text": [
      "                   all        801        944      0.923       0.77      0.859      0.748\n",
      "\n",
      "      Epoch    GPU_mem   box_loss   cls_loss   dfl_loss  Instances       Size\n"
     ]
    },
    {
     "name": "stderr",
     "output_type": "stream",
     "text": [
      "      22/30      1.45G     0.5621      1.534     0.9581          9        640:  14%|█▎        | 60/442 [00:27<02:55,"
     ]
    },
    {
     "name": "stdout",
     "output_type": "stream",
     "text": [
      "[GPU 모니터] 메모리 할당: 894.4MB, 예약: 1482.0MB\n"
     ]
    },
    {
     "name": "stderr",
     "output_type": "stream",
     "text": [
      "      22/30      1.45G     0.5717      1.559     0.9709          8        640:  42%|████▏     | 187/442 [01:27<01:57"
     ]
    },
    {
     "name": "stdout",
     "output_type": "stream",
     "text": [
      "[GPU 모니터] 메모리 할당: 1097.7MB, 예약: 1482.0MB\n"
     ]
    },
    {
     "name": "stderr",
     "output_type": "stream",
     "text": [
      "      22/30      1.45G     0.5636      1.553     0.9623          8        640:  72%|███████▏  | 317/442 [02:27<00:53"
     ]
    },
    {
     "name": "stdout",
     "output_type": "stream",
     "text": [
      "[GPU 모니터] 메모리 할당: 182.8MB, 예약: 1482.0MB\n"
     ]
    },
    {
     "name": "stderr",
     "output_type": "stream",
     "text": [
      "      22/30      1.45G     0.5633      1.546     0.9581          2        640: 100%|██████████| 442/442 [03:23<00:00\n",
      "                 Class     Images  Instances      Box(P          R      mAP50  mAP50-95):  20%|█▉        | 10/51 [00"
     ]
    },
    {
     "name": "stdout",
     "output_type": "stream",
     "text": [
      "[GPU 모니터] 메모리 할당: 229.9MB, 예약: 1484.0MB\n"
     ]
    },
    {
     "name": "stderr",
     "output_type": "stream",
     "text": [
      "                 Class     Images  Instances      Box(P          R      mAP50  mAP50-95): 100%|██████████| 51/51 [00\n"
     ]
    },
    {
     "name": "stdout",
     "output_type": "stream",
     "text": [
      "                   all        801        944      0.924      0.782      0.864      0.754\n",
      "\n",
      "      Epoch    GPU_mem   box_loss   cls_loss   dfl_loss  Instances       Size\n"
     ]
    },
    {
     "name": "stderr",
     "output_type": "stream",
     "text": [
      "      23/30      1.45G     0.5789      1.533     0.9606          9        640:  20%|██        | 89/442 [00:41<02:46,"
     ]
    },
    {
     "name": "stdout",
     "output_type": "stream",
     "text": [
      "[GPU 모니터] 메모리 할당: 193.0MB, 예약: 1488.0MB\n"
     ]
    },
    {
     "name": "stderr",
     "output_type": "stream",
     "text": [
      "      23/30      1.45G     0.5689       1.53       0.96          9        640:  49%|████▉     | 218/442 [01:41<01:43"
     ]
    },
    {
     "name": "stdout",
     "output_type": "stream",
     "text": [
      "[GPU 모니터] 메모리 할당: 231.0MB, 예약: 1488.0MB\n"
     ]
    },
    {
     "name": "stderr",
     "output_type": "stream",
     "text": [
      "      23/30      1.45G     0.5639      1.515      0.962         11        640:  79%|███████▉  | 349/442 [02:41<00:42"
     ]
    },
    {
     "name": "stdout",
     "output_type": "stream",
     "text": [
      "[GPU 모니터] 메모리 할당: 193.0MB, 예약: 1488.0MB\n"
     ]
    },
    {
     "name": "stderr",
     "output_type": "stream",
     "text": [
      "      23/30      1.47G      0.564      1.524     0.9618          6        640: 100%|██████████| 442/442 [03:22<00:00\n",
      "                 Class     Images  Instances      Box(P          R      mAP50  mAP50-95):  84%|████████▍ | 43/51 [00"
     ]
    },
    {
     "name": "stdout",
     "output_type": "stream",
     "text": [
      "[GPU 모니터] 메모리 할당: 239.7MB, 예약: 1502.0MB\n"
     ]
    },
    {
     "name": "stderr",
     "output_type": "stream",
     "text": [
      "                 Class     Images  Instances      Box(P          R      mAP50  mAP50-95): 100%|██████████| 51/51 [00\n"
     ]
    },
    {
     "name": "stdout",
     "output_type": "stream",
     "text": [
      "                   all        801        944      0.913      0.786       0.87      0.753\n",
      "\n",
      "      Epoch    GPU_mem   box_loss   cls_loss   dfl_loss  Instances       Size\n"
     ]
    },
    {
     "name": "stderr",
     "output_type": "stream",
     "text": [
      "      24/30      1.47G     0.5578      1.465     0.9677         10        640:  27%|██▋       | 121/442 [00:56<02:21"
     ]
    },
    {
     "name": "stdout",
     "output_type": "stream",
     "text": [
      "[GPU 모니터] 메모리 할당: 674.5MB, 예약: 1502.0MB\n"
     ]
    },
    {
     "name": "stderr",
     "output_type": "stream",
     "text": [
      "      24/30      1.47G     0.5537      1.462     0.9655          8        640:  57%|█████▋    | 250/442 [01:56<01:24"
     ]
    },
    {
     "name": "stdout",
     "output_type": "stream",
     "text": [
      "[GPU 모니터] 메모리 할당: 1138.3MB, 예약: 1502.0MB\n"
     ]
    },
    {
     "name": "stderr",
     "output_type": "stream",
     "text": [
      "      24/30      1.47G     0.5605      1.466     0.9639         10        640:  85%|████████▌ | 377/442 [02:55<00:29"
     ]
    },
    {
     "name": "stdout",
     "output_type": "stream",
     "text": [
      "[GPU 모니터] 메모리 할당: 203.1MB, 예약: 1502.0MB\n"
     ]
    },
    {
     "name": "stderr",
     "output_type": "stream",
     "text": [
      "      24/30      1.48G     0.5592      1.477      0.961          2        640: 100%|██████████| 442/442 [03:26<00:00\n",
      "                 Class     Images  Instances      Box(P          R      mAP50  mAP50-95): 100%|██████████| 51/51 [00\n"
     ]
    },
    {
     "name": "stdout",
     "output_type": "stream",
     "text": [
      "                   all        801        944      0.909      0.801      0.877      0.761\n",
      "\n",
      "      Epoch    GPU_mem   box_loss   cls_loss   dfl_loss  Instances       Size\n"
     ]
    },
    {
     "name": "stderr",
     "output_type": "stream",
     "text": [
      "      25/30      1.48G     0.4902      1.394     0.9469          8        640:   3%|▎         | 15/442 [00:06<03:15,"
     ]
    },
    {
     "name": "stdout",
     "output_type": "stream",
     "text": [
      "[GPU 모니터] 메모리 할당: 213.3MB, 예약: 1512.0MB\n"
     ]
    },
    {
     "name": "stderr",
     "output_type": "stream",
     "text": [
      "      25/30      1.48G     0.5408      1.431     0.9477         11        640:  32%|███▏      | 143/442 [01:07<02:18"
     ]
    },
    {
     "name": "stdout",
     "output_type": "stream",
     "text": [
      "[GPU 모니터] 메모리 할당: 1085.8MB, 예약: 1512.0MB\n"
     ]
    },
    {
     "name": "stderr",
     "output_type": "stream",
     "text": [
      "      25/30      1.48G      0.554      1.461     0.9499          9        640:  61%|██████    | 270/442 [02:07<01:22"
     ]
    },
    {
     "name": "stdout",
     "output_type": "stream",
     "text": [
      "[GPU 모니터] 메모리 할당: 728.0MB, 예약: 1512.0MB\n"
     ]
    },
    {
     "name": "stderr",
     "output_type": "stream",
     "text": [
      "      25/30      1.48G     0.5514      1.463     0.9557          9        640:  90%|████████▉ | 396/442 [03:07<00:22"
     ]
    },
    {
     "name": "stdout",
     "output_type": "stream",
     "text": [
      "[GPU 모니터] 메모리 할당: 1076.5MB, 예약: 1512.0MB\n"
     ]
    },
    {
     "name": "stderr",
     "output_type": "stream",
     "text": [
      "      25/30      1.48G     0.5535      1.467     0.9551          3        640: 100%|██████████| 442/442 [03:28<00:00\n",
      "                 Class     Images  Instances      Box(P          R      mAP50  mAP50-95): 100%|██████████| 51/51 [00\n"
     ]
    },
    {
     "name": "stdout",
     "output_type": "stream",
     "text": [
      "                   all        801        944      0.917      0.792      0.877      0.762\n",
      "\n",
      "      Epoch    GPU_mem   box_loss   cls_loss   dfl_loss  Instances       Size\n"
     ]
    },
    {
     "name": "stderr",
     "output_type": "stream",
     "text": [
      "      26/30      1.48G     0.5387      1.395     0.9597          9        640:   8%|▊         | 34/442 [00:15<03:07,"
     ]
    },
    {
     "name": "stdout",
     "output_type": "stream",
     "text": [
      "[GPU 모니터] 메모리 할당: 189.8MB, 예약: 1512.0MB\n"
     ]
    },
    {
     "name": "stderr",
     "output_type": "stream",
     "text": [
      "      26/30      1.48G     0.5467      1.452     0.9525          9        640:  38%|███▊      | 168/442 [01:16<02:07"
     ]
    },
    {
     "name": "stdout",
     "output_type": "stream",
     "text": [
      "[GPU 모니터] 메모리 할당: 1100.0MB, 예약: 1512.0MB\n"
     ]
    },
    {
     "name": "stderr",
     "output_type": "stream",
     "text": [
      "      26/30      1.48G     0.5447      1.439     0.9497         10        640:  67%|██████▋   | 297/442 [02:15<01:10"
     ]
    },
    {
     "name": "stdout",
     "output_type": "stream",
     "text": [
      "[GPU 모니터] 메모리 할당: 142.3MB, 예약: 1512.0MB\n"
     ]
    },
    {
     "name": "stderr",
     "output_type": "stream",
     "text": [
      "      26/30      1.48G     0.5468      1.426     0.9516         12        640:  96%|█████████▌| 425/442 [03:15<00:08"
     ]
    },
    {
     "name": "stdout",
     "output_type": "stream",
     "text": [
      "[GPU 모니터] 메모리 할당: 142.3MB, 예약: 1512.0MB\n"
     ]
    },
    {
     "name": "stderr",
     "output_type": "stream",
     "text": [
      "      26/30      1.48G     0.5449      1.426     0.9498          2        640: 100%|██████████| 442/442 [03:23<00:00\n",
      "                 Class     Images  Instances      Box(P          R      mAP50  mAP50-95): 100%|██████████| 51/51 [00\n"
     ]
    },
    {
     "name": "stdout",
     "output_type": "stream",
     "text": [
      "                   all        801        944      0.918      0.793      0.878      0.764\n",
      "\n",
      "      Epoch    GPU_mem   box_loss   cls_loss   dfl_loss  Instances       Size\n"
     ]
    },
    {
     "name": "stderr",
     "output_type": "stream",
     "text": [
      "      27/30      1.48G     0.5407      1.394     0.9516         13        640:  15%|█▍        | 66/442 [00:30<03:00,"
     ]
    },
    {
     "name": "stdout",
     "output_type": "stream",
     "text": [
      "[GPU 모니터] 메모리 할당: 1098.8MB, 예약: 1512.0MB\n"
     ]
    },
    {
     "name": "stderr",
     "output_type": "stream",
     "text": [
      "      27/30      1.48G     0.5421      1.409     0.9544         11        640:  45%|████▍     | 197/442 [01:29<01:56"
     ]
    },
    {
     "name": "stdout",
     "output_type": "stream",
     "text": [
      "[GPU 모니터] 메모리 할당: 152.3MB, 예약: 1512.0MB\n"
     ]
    },
    {
     "name": "stderr",
     "output_type": "stream",
     "text": [
      "      27/30      1.48G     0.5442      1.412     0.9564         10        640:  74%|███████▍  | 328/442 [02:29<00:51"
     ]
    },
    {
     "name": "stdout",
     "output_type": "stream",
     "text": [
      "[GPU 모니터] 메모리 할당: 189.8MB, 예약: 1512.0MB\n"
     ]
    },
    {
     "name": "stderr",
     "output_type": "stream",
     "text": [
      "      27/30      1.48G     0.5513      1.423     0.9556          5        640: 100%|██████████| 442/442 [03:21<00:00\n",
      "                 Class     Images  Instances      Box(P          R      mAP50  mAP50-95):  37%|███▋      | 19/51 [00"
     ]
    },
    {
     "name": "stdout",
     "output_type": "stream",
     "text": [
      "[GPU 모니터] 메모리 할당: 199.0MB, 예약: 1512.0MB\n"
     ]
    },
    {
     "name": "stderr",
     "output_type": "stream",
     "text": [
      "                 Class     Images  Instances      Box(P          R      mAP50  mAP50-95): 100%|██████████| 51/51 [00\n"
     ]
    },
    {
     "name": "stdout",
     "output_type": "stream",
     "text": [
      "                   all        801        944      0.918      0.802       0.88      0.766\n",
      "\n",
      "      Epoch    GPU_mem   box_loss   cls_loss   dfl_loss  Instances       Size\n"
     ]
    },
    {
     "name": "stderr",
     "output_type": "stream",
     "text": [
      "      28/30      1.48G     0.5351       1.42     0.9382          8        640:  22%|██▏       | 98/442 [00:45<02:33,"
     ]
    },
    {
     "name": "stdout",
     "output_type": "stream",
     "text": [
      "[GPU 모니터] 메모리 할당: 190.3MB, 예약: 1512.0MB\n"
     ]
    },
    {
     "name": "stderr",
     "output_type": "stream",
     "text": [
      "      28/30      1.48G     0.5374      1.399     0.9386          9        640:  51%|█████     | 226/442 [01:45<01:39"
     ]
    },
    {
     "name": "stdout",
     "output_type": "stream",
     "text": [
      "[GPU 모니터] 메모리 할당: 190.3MB, 예약: 1512.0MB\n"
     ]
    },
    {
     "name": "stderr",
     "output_type": "stream",
     "text": [
      "      28/30      1.48G     0.5379      1.398     0.9412         10        640:  80%|████████  | 354/442 [02:45<00:41"
     ]
    },
    {
     "name": "stdout",
     "output_type": "stream",
     "text": [
      "[GPU 모니터] 메모리 할당: 599.7MB, 예약: 1512.0MB\n"
     ]
    },
    {
     "name": "stderr",
     "output_type": "stream",
     "text": [
      "      28/30      1.48G     0.5369      1.397     0.9442          2        640: 100%|██████████| 442/442 [03:26<00:00\n",
      "                 Class     Images  Instances      Box(P          R      mAP50  mAP50-95):  84%|████████▍ | 43/51 [00"
     ]
    },
    {
     "name": "stdout",
     "output_type": "stream",
     "text": [
      "[GPU 모니터] 메모리 할당: 199.0MB, 예약: 1512.0MB\n"
     ]
    },
    {
     "name": "stderr",
     "output_type": "stream",
     "text": [
      "                 Class     Images  Instances      Box(P          R      mAP50  mAP50-95): 100%|██████████| 51/51 [00\n"
     ]
    },
    {
     "name": "stdout",
     "output_type": "stream",
     "text": [
      "                   all        801        944      0.922      0.807      0.884      0.772\n",
      "\n",
      "      Epoch    GPU_mem   box_loss   cls_loss   dfl_loss  Instances       Size\n"
     ]
    },
    {
     "name": "stderr",
     "output_type": "stream",
     "text": [
      "      29/30      1.48G     0.5628      1.418     0.9439          9        640:  27%|██▋       | 121/442 [00:56<02:26"
     ]
    },
    {
     "name": "stdout",
     "output_type": "stream",
     "text": [
      "[GPU 모니터] 메모리 할당: 1036.9MB, 예약: 1512.0MB\n"
     ]
    },
    {
     "name": "stderr",
     "output_type": "stream",
     "text": [
      "      29/30      1.48G     0.5607      1.407     0.9481         12        640:  56%|█████▌    | 246/442 [01:55<01:32"
     ]
    },
    {
     "name": "stdout",
     "output_type": "stream",
     "text": [
      "[GPU 모니터] 메모리 할당: 568.4MB, 예약: 1512.0MB\n"
     ]
    },
    {
     "name": "stderr",
     "output_type": "stream",
     "text": [
      "      29/30      1.48G     0.5529      1.404     0.9436          8        640:  85%|████████▍ | 374/442 [02:55<00:30"
     ]
    },
    {
     "name": "stdout",
     "output_type": "stream",
     "text": [
      "[GPU 모니터] 메모리 할당: 190.3MB, 예약: 1512.0MB\n"
     ]
    },
    {
     "name": "stderr",
     "output_type": "stream",
     "text": [
      "      29/30      1.48G     0.5454      1.392     0.9452          2        640: 100%|██████████| 442/442 [03:27<00:00\n",
      "                 Class     Images  Instances      Box(P          R      mAP50  mAP50-95): 100%|██████████| 51/51 [00\n"
     ]
    },
    {
     "name": "stdout",
     "output_type": "stream",
     "text": [
      "                   all        801        944      0.911      0.809      0.884      0.773\n",
      "\n",
      "      Epoch    GPU_mem   box_loss   cls_loss   dfl_loss  Instances       Size\n"
     ]
    },
    {
     "name": "stderr",
     "output_type": "stream",
     "text": [
      "      30/30      1.48G     0.5194      1.321     0.9384         13        640:   3%|▎         | 13/442 [00:06<03:22,"
     ]
    },
    {
     "name": "stdout",
     "output_type": "stream",
     "text": [
      "[GPU 모니터] 메모리 할당: 162.4MB, 예약: 1512.0MB\n"
     ]
    },
    {
     "name": "stderr",
     "output_type": "stream",
     "text": [
      "      30/30      1.48G     0.5401      1.382     0.9504          8        640:  32%|███▏      | 142/442 [01:06<02:18"
     ]
    },
    {
     "name": "stdout",
     "output_type": "stream",
     "text": [
      "[GPU 모니터] 메모리 할당: 897.4MB, 예약: 1512.0MB\n"
     ]
    },
    {
     "name": "stderr",
     "output_type": "stream",
     "text": [
      "      30/30      1.48G     0.5377       1.39     0.9459         12        640:  61%|██████    | 270/442 [02:06<01:18"
     ]
    },
    {
     "name": "stdout",
     "output_type": "stream",
     "text": [
      "[GPU 모니터] 메모리 할당: 190.3MB, 예약: 1512.0MB\n"
     ]
    },
    {
     "name": "stderr",
     "output_type": "stream",
     "text": [
      "      30/30      1.48G     0.5411      1.391     0.9464         10        640:  90%|████████▉ | 397/442 [03:06<00:20"
     ]
    },
    {
     "name": "stdout",
     "output_type": "stream",
     "text": [
      "[GPU 모니터] 메모리 할당: 1049.0MB, 예약: 1512.0MB\n"
     ]
    },
    {
     "name": "stderr",
     "output_type": "stream",
     "text": [
      "      30/30      1.48G     0.5409      1.389     0.9467          2        640: 100%|██████████| 442/442 [03:27<00:00\n",
      "                 Class     Images  Instances      Box(P          R      mAP50  mAP50-95): 100%|██████████| 51/51 [00\n"
     ]
    },
    {
     "name": "stdout",
     "output_type": "stream",
     "text": [
      "                   all        801        944      0.921      0.813      0.884      0.771\n",
      "\n",
      "30 epochs completed in 2.008 hours.\n",
      "Optimizer stripped from runs\\detect\\yolov11n_custom_002\\weights\\last.pt, 5.5MB\n",
      "Optimizer stripped from runs\\detect\\yolov11n_custom_002\\weights\\best.pt, 5.5MB\n",
      "\n",
      "Validating runs\\detect\\yolov11n_custom_002\\weights\\best.pt...\n",
      "Ultralytics 8.3.156  Python-3.11.9 torch-2.7.1+cu128 CUDA:0 (NVIDIA GeForce RTX 4070 Laptop GPU, 8188MiB)\n",
      "YOLO11n summary (fused): 100 layers, 2,585,077 parameters, 0 gradients, 6.3 GFLOPs\n"
     ]
    },
    {
     "name": "stderr",
     "output_type": "stream",
     "text": [
      "                 Class     Images  Instances      Box(P          R      mAP50  mAP50-95):  67%|██████▋   | 34/51 [00"
     ]
    },
    {
     "name": "stdout",
     "output_type": "stream",
     "text": [
      "[GPU 모니터] 메모리 할당: 209.4MB, 예약: 1512.0MB\n"
     ]
    },
    {
     "name": "stderr",
     "output_type": "stream",
     "text": [
      "                 Class     Images  Instances      Box(P          R      mAP50  mAP50-95): 100%|██████████| 51/51 [00\n"
     ]
    },
    {
     "name": "stdout",
     "output_type": "stream",
     "text": [
      "                   all        801        944       0.91      0.805      0.884      0.773\n",
      "           Green Light         87        122      0.798      0.672      0.741      0.438\n",
      "             Red Light         74        108      0.759      0.648      0.732      0.449\n",
      "       Speed Limit 100         52         52      0.938      0.885      0.933      0.848\n",
      "       Speed Limit 110         17         17      0.888      0.706      0.894      0.829\n",
      "       Speed Limit 120         60         60      0.862      0.867      0.948      0.874\n",
      "        Speed Limit 20         56         56      0.949      0.893       0.96      0.839\n",
      "        Speed Limit 30         71         74      0.945       0.93      0.943      0.891\n",
      "        Speed Limit 40         53         55      0.943      0.855      0.933      0.825\n",
      "        Speed Limit 50         68         71      0.921      0.746      0.881      0.802\n",
      "        Speed Limit 60         76         76      0.941      0.838      0.892      0.824\n",
      "        Speed Limit 70         78         78      0.973      0.935      0.958      0.869\n",
      "        Speed Limit 80         56         56      0.964      0.821      0.911      0.816\n",
      "        Speed Limit 90         38         38      0.858      0.553      0.661      0.604\n",
      "                  Stop         81         81          1      0.927      0.988      0.911\n",
      "Speed: 0.5ms preprocess, 4.1ms inference, 0.0ms loss, 4.4ms postprocess per image\n",
      "Results saved to \u001b[1mruns\\detect\\yolov11n_custom_002\u001b[0m\n",
      "✅ 훈련 소요 시간: 7275.45초\n",
      "[GPU 모니터] 메모리 할당: 124.3MB, 예약: 292.0MB\n",
      "[GPU 모니터] 메모리 할당: 124.3MB, 예약: 292.0MB\n",
      "[GPU 모니터] 메모리 할당: 124.3MB, 예약: 292.0MB\n",
      "[GPU 모니터] 메모리 할당: 124.2MB, 예약: 880.0MB\n",
      "[GPU 모니터] 메모리 할당: 74.6MB, 예약: 880.0MB\n",
      "[GPU 모니터] 메모리 할당: 74.6MB, 예약: 880.0MB\n",
      "[GPU 모니터] 메모리 할당: 74.6MB, 예약: 880.0MB\n",
      "[GPU 모니터] 메모리 할당: 74.6MB, 예약: 880.0MB\n",
      "[GPU 모니터] 메모리 할당: 74.6MB, 예약: 880.0MB\n",
      "[GPU 모니터] 메모리 할당: 74.6MB, 예약: 880.0MB\n",
      "[GPU 모니터] 메모리 할당: 74.6MB, 예약: 880.0MB\n",
      "[GPU 모니터] 메모리 할당: 74.6MB, 예약: 880.0MB\n",
      "[GPU 모니터] 메모리 할당: 74.6MB, 예약: 880.0MB\n",
      "[GPU 모니터] 메모리 할당: 74.6MB, 예약: 880.0MB\n",
      "[GPU 모니터] 메모리 할당: 74.6MB, 예약: 880.0MB\n",
      "[GPU 모니터] 메모리 할당: 74.6MB, 예약: 880.0MB\n",
      "[GPU 모니터] 메모리 할당: 74.6MB, 예약: 880.0MB\n",
      "[GPU 모니터] 메모리 할당: 74.6MB, 예약: 880.0MB\n",
      "[GPU 모니터] 메모리 할당: 74.6MB, 예약: 880.0MB\n",
      "[GPU 모니터] 메모리 할당: 74.6MB, 예약: 880.0MB\n",
      "[GPU 모니터] 메모리 할당: 74.6MB, 예약: 880.0MB\n",
      "[GPU 모니터] 메모리 할당: 74.6MB, 예약: 880.0MB\n",
      "[GPU 모니터] 메모리 할당: 74.6MB, 예약: 880.0MB\n",
      "[GPU 모니터] 메모리 할당: 74.6MB, 예약: 880.0MB\n",
      "[GPU 모니터] 메모리 할당: 74.6MB, 예약: 880.0MB\n",
      "[GPU 모니터] 메모리 할당: 74.6MB, 예약: 880.0MB\n",
      "[GPU 모니터] 메모리 할당: 74.6MB, 예약: 880.0MB\n",
      "[GPU 모니터] 메모리 할당: 74.6MB, 예약: 880.0MB\n",
      "[GPU 모니터] 메모리 할당: 74.6MB, 예약: 880.0MB\n",
      "[GPU 모니터] 메모리 할당: 74.6MB, 예약: 880.0MB\n",
      "[GPU 모니터] 메모리 할당: 74.6MB, 예약: 880.0MB\n",
      "[GPU 모니터] 메모리 할당: 74.6MB, 예약: 880.0MB\n"
     ]
    }
   ],
   "source": [
    "os.environ[\"CUDA_VISIBLE_DEVICES\"] = \"0\"\n",
    "\n",
    "# GPU 메모리 사용량 주기적으로 출력 (간격 60초로 조정)\n",
    "def gpu_monitor():\n",
    "    while True:\n",
    "        if torch.cuda.is_available():\n",
    "            mem_alloc = torch.cuda.memory_allocated() / 1024**2\n",
    "            mem_reserved = torch.cuda.memory_reserved() / 1024**2\n",
    "            print(f\"[GPU 모니터] 메모리 할당: {mem_alloc:.1f}MB, 예약: {mem_reserved:.1f}MB\")\n",
    "        time.sleep(60)  # 60초 간격\n",
    "\n",
    "monitor_thread = threading.Thread(target=gpu_monitor, daemon=True)\n",
    "monitor_thread.start()\n",
    "\n",
    "# 모델 로드\n",
    "model = YOLO('yolo11n.pt')\n",
    "# model = YOLO('runs/detect/yolov11n_custom_001/weights/best.pt')  # 기존 모델에서 이어서 학습 시\n",
    "\n",
    "# 하이퍼파라미터 튜닝 포함한 train 함수 호출\n",
    "start_time = time.time()\n",
    "\n",
    "model.train(\n",
    "    data='data.yaml',\n",
    "    epochs=30,\n",
    "    imgsz=640,\n",
    "    batch=8,\n",
    "    name=run_name,\n",
    "    device='0',\n",
    "    workers=0,\n",
    "    verbose=True,\n",
    "    lr0=0.001,           # 초기 학습률\n",
    "    momentum=0.9,\n",
    "    weight_decay=0.0005,\n",
    "    optimizer='SGD'\n",
    ")\n",
    "\n",
    "train_duration = time.time() - start_time\n",
    "print(f\"✅ 훈련 소요 시간: {train_duration:.2f}초\")"
   ]
  },
  {
   "cell_type": "code",
   "execution_count": 9,
   "id": "60c0b627-b4cd-49b0-850c-16cf9be24ff7",
   "metadata": {},
   "outputs": [
    {
     "name": "stdout",
     "output_type": "stream",
     "text": [
      "Ultralytics 8.3.156  Python-3.11.9 torch-2.7.1+cu128 CUDA:0 (NVIDIA GeForce RTX 4070 Laptop GPU, 8188MiB)\n",
      "YOLO11n summary (fused): 100 layers, 2,585,077 parameters, 0 gradients, 6.3 GFLOPs\n",
      "\u001b[34m\u001b[1mval: \u001b[0mFast image access  (ping: 0.20.2 ms, read: 69.135.5 MB/s, size: 20.5 KB)\n"
     ]
    },
    {
     "name": "stderr",
     "output_type": "stream",
     "text": [
      "\u001b[34m\u001b[1mval: \u001b[0mScanning D:\\Project\\PJT_07\\valid\\labels.cache... 801 images, 0 backgrounds, 0 corrupt: 100%|██████████| 801/801\u001b[0m\n",
      "                 Class     Images  Instances      Box(P          R      mAP50  mAP50-95): 100%|██████████| 51/51 [00\n"
     ]
    },
    {
     "name": "stdout",
     "output_type": "stream",
     "text": [
      "                   all        801        944       0.91      0.808      0.883      0.773\n",
      "           Green Light         87        122      0.781      0.673       0.73      0.441\n",
      "             Red Light         74        108      0.756      0.648      0.729      0.451\n",
      "       Speed Limit 100         52         52      0.937      0.885      0.933      0.847\n",
      "       Speed Limit 110         17         17      0.926       0.74      0.898      0.832\n",
      "       Speed Limit 120         60         60      0.861      0.867      0.948      0.871\n",
      "        Speed Limit 20         56         56      0.948      0.893       0.96       0.84\n",
      "        Speed Limit 30         71         74      0.945      0.932      0.943      0.894\n",
      "        Speed Limit 40         53         55      0.942      0.855      0.933      0.826\n",
      "        Speed Limit 50         68         71      0.916      0.746      0.881        0.8\n",
      "        Speed Limit 60         76         76      0.941      0.839      0.892      0.823\n",
      "        Speed Limit 70         78         78      0.969      0.936      0.958       0.87\n",
      "        Speed Limit 80         56         56      0.962      0.821      0.912      0.816\n",
      "        Speed Limit 90         38         38      0.851      0.553      0.661      0.605\n",
      "                  Stop         81         81          1      0.927      0.988      0.911\n",
      "Speed: 0.5ms preprocess, 4.0ms inference, 0.0ms loss, 2.8ms postprocess per image\n",
      "Results saved to \u001b[1mruns\\detect\\val\u001b[0m\n",
      "✅ 검증 소요 시간: 222.66초\n",
      "mAP50: 0.8833, mAP50-95: 0.7734\n"
     ]
    }
   ],
   "source": [
    "# 📌 [7] 검증 수행\n",
    "# start_val = time.time()\n",
    "\n",
    "# model = YOLO(f'runs/detect/{run_name}/weights/best.pt')\n",
    "# results = model.val()\n",
    "# val_duration = time.time() - start_val\n",
    "# print(f\"✅ 검증 소요 시간: {val_duration:.2f}초\")\n",
    "# print(f\"mAP50: {results.box.map50:.4f}, mAP50-95: {results.box.map:.4f}\")\n",
    "\n",
    "# # PR Curve 시각화 (val 결과 내 PR curve 있으면)\n",
    "# if hasattr(results, 'plots') and 'pr_curve' in results.plots:\n",
    "#     plt.figure(figsize=(8,6))\n",
    "#     plt.imshow(results.plots['pr_curve'])\n",
    "#     plt.axis('off')\n",
    "#     plt.title(\"PR Curve\")\n",
    "#     plt.show()"
   ]
  },
  {
   "cell_type": "code",
   "execution_count": 10,
   "id": "015f7fc0-8690-492d-884e-547e6cbbf1d2",
   "metadata": {},
   "outputs": [
    {
     "name": "stdout",
     "output_type": "stream",
     "text": [
      "\n",
      "image 1/1 D:\\Project\\PJT_07\\code\\..\\test\\images\\00014_00004_00020_png.rf.e3b35f3ca153fde99af4db4a67d2a564.jpg: 640x640 1 Stop, 22.2ms\n",
      "Speed: 6.5ms preprocess, 22.2ms inference, 5.3ms postprocess per image at shape (1, 3, 640, 640)\n",
      "Results saved to \u001b[1mruns\\predict\\custom_test\u001b[0m\n"
     ]
    }
   ],
   "source": [
    "# 📌 [8] 예측 실행 및 저장\n",
    "test_img = '../test/images/00014_00004_00020_png.rf.e3b35f3ca153fde99af4db4a67d2a564.jpg'\n",
    "pred = model.predict(\n",
    "    source=test_img,\n",
    "    conf=0.25,\n",
    "    save=True,\n",
    "    project='runs/predict',\n",
    "    name='custom_test',\n",
    "    exist_ok=True\n",
    ")"
   ]
  },
  {
   "cell_type": "code",
   "execution_count": 11,
   "id": "243b0c34-06a6-42c7-8e19-c27bbbffe94b",
   "metadata": {},
   "outputs": [
    {
     "data": {
      "text/plain": [
       "<Figure size 1200x1200 with 1 Axes>"
      ]
     },
     "metadata": {},
     "output_type": "display_data"
    }
   ],
   "source": [
    "# 📌 [9] 예측 결과 시각화 및 GT bbox와 비교 함수 추가\n",
    "def draw_boxes_with_gt(image_path, pred_results, gt_label_path, class_names):\n",
    "    img = cv2.imread(image_path)\n",
    "    ih, iw = img.shape[:2]\n",
    "\n",
    "    # GT 박스 (파란색)\n",
    "    with open(gt_label_path, 'r') as f:\n",
    "        gt_lines = f.readlines()\n",
    "\n",
    "    for line in gt_lines:\n",
    "        cls, x, y, w, h = map(float, line.strip().split())\n",
    "        x1 = int((x - w/2) * iw)\n",
    "        y1 = int((y - h/2) * ih)\n",
    "        x2 = int((x + w/2) * iw)\n",
    "        y2 = int((y + h/2) * ih)\n",
    "        cv2.rectangle(img, (x1,y1), (x2,y2), (255,0,0), 2)\n",
    "        cv2.putText(img, f\"GT: {class_names[int(cls)]}\", (x1, y1-5),\n",
    "                    cv2.FONT_HERSHEY_SIMPLEX, 0.5, (255,0,0), 2)\n",
    "\n",
    "    # 예측 박스 (초록색)\n",
    "    for r in pred_results:\n",
    "        boxes = r.boxes.xyxy.cpu().numpy().astype(int)\n",
    "        scores = r.boxes.conf.cpu().numpy()\n",
    "        classes = r.boxes.cls.cpu().numpy().astype(int)\n",
    "        for (x1,y1,x2,y2), conf, cls in zip(boxes, scores, classes):\n",
    "            label = f\"{class_names[cls]} {conf:.2f}\"\n",
    "            cv2.rectangle(img, (x1,y1), (x2,y2), (0,255,0), 2)\n",
    "            (tw, th), _ = cv2.getTextSize(label, cv2.FONT_HERSHEY_SIMPLEX, 0.5, 1)\n",
    "            cv2.rectangle(img, (x1, y1 - th - 5), (x1 + tw, y1), (0,255,0), -1)\n",
    "            cv2.putText(img, label, (x1, y1 - 5), cv2.FONT_HERSHEY_SIMPLEX, 0.5, (0,0,0), 1)\n",
    "\n",
    "    plt.figure(figsize=(12,12))\n",
    "    plt.imshow(cv2.cvtColor(img, cv2.COLOR_BGR2RGB))\n",
    "    plt.axis('off')\n",
    "    plt.title(\"예측 박스 (초록) 와 GT 박스 (파랑) 비교\")\n",
    "    plt.show()\n",
    "\n",
    "gt_label_for_test_img = '../test/labels/00014_00004_00020_png.rf.e3b35f3ca153fde99af4db4a67d2a564.txt'\n",
    "draw_boxes_with_gt(test_img, pred, gt_label_for_test_img, class_names)"
   ]
  },
  {
   "cell_type": "code",
   "execution_count": 12,
   "id": "b69592a2-63fd-4d85-b00d-0b89a4dc2214",
   "metadata": {},
   "outputs": [
    {
     "name": "stdout",
     "output_type": "stream",
     "text": [
      "Ultralytics 8.3.156  Python-3.11.9 torch-2.7.1+cu128 CPU (13th Gen Intel Core(TM) i7-13700HX)\n",
      "\n",
      "\u001b[34m\u001b[1mPyTorch:\u001b[0m starting from 'runs\\detect\\yolov11n_custom_002\\weights\\best.pt' with input shape (1, 3, 640, 640) BCHW and output shape(s) (1, 19, 8400) (5.2 MB)\n",
      "\n",
      "\u001b[34m\u001b[1mONNX:\u001b[0m starting export with onnx 1.17.0 opset 19...\n",
      "\u001b[34m\u001b[1mONNX:\u001b[0m slimming with onnxslim 0.1.57...\n",
      "\u001b[34m\u001b[1mONNX:\u001b[0m export success  4.3s, saved as 'runs\\detect\\yolov11n_custom_002\\weights\\best.onnx' (10.1 MB)\n",
      "\n",
      "Export complete (5.4s)\n",
      "Results saved to \u001b[1mD:\\Project\\PJT_07\\code\\runs\\detect\\yolov11n_custom_002\\weights\u001b[0m\n",
      "Predict:         yolo predict task=detect model=runs\\detect\\yolov11n_custom_002\\weights\\best.onnx imgsz=640  \n",
      "Validate:        yolo val task=detect model=runs\\detect\\yolov11n_custom_002\\weights\\best.onnx imgsz=640 data=data.yaml  \n",
      "Visualize:       https://netron.app\n",
      "🧠 ONNX 모델 저장 경로: runs\\detect\\yolov11n_custom_002\\weights\\best.onnx\n"
     ]
    }
   ],
   "source": [
    "# 📌 [10] ONNX 모델로 내보내기\n",
    "export_path = model.export(format='onnx')\n",
    "print(f\"🧠 ONNX 모델 저장 경로: {export_path}\")"
   ]
  },
  {
   "cell_type": "code",
   "execution_count": 13,
   "id": "adc611e0-7cff-4e02-bd20-ffb8719167f1",
   "metadata": {},
   "outputs": [
    {
     "name": "stdout",
     "output_type": "stream",
     "text": [
      "Loading runs\\detect\\yolov11n_custom_002\\weights\\best.onnx for ONNX Runtime inference...\n",
      "Using ONNX Runtime CUDAExecutionProvider\n",
      "\n",
      "0: 640x640 1 Stop, 33.8ms\n",
      "Speed: 5.2ms preprocess, 33.8ms inference, 4.2ms postprocess per image at shape (1, 3, 640, 640)\n"
     ]
    },
    {
     "data": {
      "text/plain": [
       "<Figure size 1200x1200 with 1 Axes>"
      ]
     },
     "metadata": {},
     "output_type": "display_data"
    }
   ],
   "source": [
    "# 📌 [11] ONNX 모델 기반 예측 시각화 (기존 코드 유지)\n",
    "onnx_model = YOLO(os.path.join('runs/detect', run_name, 'weights', 'best.onnx'))\n",
    "\n",
    "image = cv2.imread(test_img)\n",
    "image = cv2.cvtColor(image, cv2.COLOR_BGR2RGB)\n",
    "resized_image = cv2.resize(image, (640, 640))\n",
    "\n",
    "results_onnx = onnx_model(resized_image, imgsz=640)\n",
    "\n",
    "for result in results_onnx:\n",
    "    boxes = result.boxes\n",
    "    names = result.names\n",
    "    for box in boxes:\n",
    "        x1, y1, x2, y2 = map(int, box.xyxy[0])\n",
    "        conf = box.conf[0]\n",
    "        cls = int(box.cls[0])\n",
    "        label = f\"{names[cls]} {conf:.2f}\"\n",
    "\n",
    "        cv2.rectangle(image, (x1, y1), (x2, y2), (0, 255, 0), 2)\n",
    "        (text_width, text_height), _ = cv2.getTextSize(label, cv2.FONT_HERSHEY_SIMPLEX, 0.5, 1)\n",
    "        cv2.rectangle(image, (x1, y1 - text_height - 5), (x1 + text_width, y1), (0, 255, 0), -1)\n",
    "        cv2.putText(image, label, (x1, y1 - 5), cv2.FONT_HERSHEY_SIMPLEX, 0.5, (0, 0, 0), 1)\n",
    "\n",
    "plt.figure(figsize=(12, 12))\n",
    "plt.imshow(image)\n",
    "plt.axis('off')\n",
    "plt.title(\"🔍 ONNX 예측 결과\")\n",
    "plt.show()"
   ]
  },
  {
   "cell_type": "code",
   "execution_count": 15,
   "id": "0d0cb133-6f32-40bc-ab8e-3b85ab06bbe4",
   "metadata": {},
   "outputs": [
    {
     "name": "stdout",
     "output_type": "stream",
     "text": [
      "Index(['epoch', 'time', 'train/box_loss', 'train/cls_loss', 'train/dfl_loss',\n",
      "       'metrics/precision(B)', 'metrics/recall(B)', 'metrics/mAP50(B)',\n",
      "       'metrics/mAP50-95(B)', 'val/box_loss', 'val/cls_loss', 'val/dfl_loss',\n",
      "       'lr/pg0', 'lr/pg1', 'lr/pg2'],\n",
      "      dtype='object')\n"
     ]
    }
   ],
   "source": [
    "# print(df.columns)"
   ]
  },
  {
   "cell_type": "code",
   "execution_count": 16,
   "id": "43de50a5-fe8e-47a9-aa63-d47d7b44788d",
   "metadata": {},
   "outputs": [
    {
     "name": "stdout",
     "output_type": "stream",
     "text": [
      "📈 훈련 결과 요약 (Epoch별 mAP):\n",
      "    metrics/mAP50(B)  metrics/mAP50-95(B)\n",
      "25           0.87818              0.76407\n",
      "26           0.88047              0.76579\n",
      "27           0.88419              0.77204\n",
      "28           0.88437              0.77348\n",
      "29           0.88409              0.77089\n"
     ]
    },
    {
     "data": {
      "text/plain": [
       "<Figure size 600x400 with 1 Axes>"
      ]
     },
     "metadata": {},
     "output_type": "display_data"
    },
    {
     "data": {
      "text/plain": [
       "<Figure size 1000x600 with 1 Axes>"
      ]
     },
     "metadata": {},
     "output_type": "display_data"
    },
    {
     "data": {
      "text/plain": [
       "<Figure size 1000x600 with 1 Axes>"
      ]
     },
     "metadata": {},
     "output_type": "display_data"
    },
    {
     "name": "stdout",
     "output_type": "stream",
     "text": [
      "🎯 최고 성능 Epoch:\n",
      "epoch                  29.00000\n",
      "metrics/mAP50(B)        0.88437\n",
      "metrics/mAP50-95(B)     0.77348\n",
      "Name: 28, dtype: float64\n"
     ]
    }
   ],
   "source": [
    "# 📌 [12] 훈련 결과 시각화 (mAP/Loss 등)\n",
    "results_csv = f'runs/detect/{run_name}/results.csv'\n",
    "\n",
    "if os.path.exists(results_csv):\n",
    "    df = pd.read_csv(results_csv)\n",
    "    print(f\"📈 훈련 결과 요약 (Epoch별 mAP):\\n{df[['metrics/mAP50(B)', 'metrics/mAP50-95(B)']].tail()}\")\n",
    "\n",
    "    # Box Loss 그래프\n",
    "    df[['train/box_loss', 'val/box_loss']].plot(title='Box Loss', figsize=(6, 4))\n",
    "    plt.savefig(f'runs/detect/{run_name}/box_loss.png')\n",
    "    plt.show()\n",
    "\n",
    "    # ✅ 수정: train/valid 전체 손실 시각화 (box, cls, dfl)\n",
    "    df[['train/box_loss', 'train/cls_loss', 'train/dfl_loss',\n",
    "        'val/box_loss', 'val/cls_loss', 'val/dfl_loss']].plot(figsize=(10,6))\n",
    "    plt.title('Train & Valid Losses (Box, Class, DFL)')\n",
    "    plt.savefig(f'runs/detect/{run_name}/losses.png')\n",
    "    plt.show()\n",
    "\n",
    "    # mAP, Precision, Recall 시각화\n",
    "    df[['metrics/mAP50(B)', 'metrics/precision(B)', 'metrics/recall(B)']].plot(figsize=(10,6))\n",
    "    plt.title('Metrics: mAP50, Precision, Recall')\n",
    "    plt.savefig(f'runs/detect/{run_name}/metrics.png')\n",
    "    plt.show()\n",
    "\n",
    "    best_idx = df['metrics/mAP50-95(B)'].idxmax()\n",
    "    print(\"🎯 최고 성능 Epoch:\")\n",
    "    print(df.loc[best_idx, ['epoch', 'metrics/mAP50(B)', 'metrics/mAP50-95(B)']])\n",
    "else:\n",
    "    print(\"📛 results.csv 없음 (훈련 실패?)\")"
   ]
  },
  {
   "cell_type": "code",
   "execution_count": 17,
   "id": "e5083cdc-633a-4e9b-92e2-e6940d5917a4",
   "metadata": {},
   "outputs": [
    {
     "name": "stdout",
     "output_type": "stream",
     "text": [
      "📦 결과 JSON 저장 완료: runs/detect/yolov11n_custom_002/results_summary.json\n"
     ]
    }
   ],
   "source": [
    "# 📌 [13] 결과를 JSON으로 저장\n",
    "def save_results_to_json(csv_path, json_path):\n",
    "    if os.path.exists(csv_path):\n",
    "        df = pd.read_csv(csv_path)\n",
    "        result_data = df.to_dict(orient='records')\n",
    "        with open(json_path, 'w') as f:\n",
    "            json.dump(result_data, f, indent=4)\n",
    "        print(f\"📦 결과 JSON 저장 완료: {json_path}\")\n",
    "\n",
    "save_results_to_json(\n",
    "    csv_path=f'runs/detect/{run_name}/results.csv',\n",
    "    json_path=f'runs/detect/{run_name}/results_summary.json'\n",
    ")"
   ]
  },
  {
   "cell_type": "code",
   "execution_count": null,
   "id": "d1237b8a-ff9b-4d44-9dce-66fa1c9ee5ba",
   "metadata": {},
   "outputs": [],
   "source": []
  },
  {
   "cell_type": "code",
   "execution_count": null,
   "id": "67a21761-1728-4cfb-8694-2853254c5d81",
   "metadata": {},
   "outputs": [],
   "source": []
  },
  {
   "cell_type": "code",
   "execution_count": null,
   "id": "15ac19c0-b5bc-48df-bf85-f275ae55f4e3",
   "metadata": {},
   "outputs": [],
   "source": []
  },
  {
   "cell_type": "code",
   "execution_count": null,
   "id": "37309006-8c9c-4421-816e-31016db0a180",
   "metadata": {},
   "outputs": [],
   "source": []
  }
 ],
 "metadata": {
  "kernelspec": {
   "display_name": "Python 3 (ipykernel)",
   "language": "python",
   "name": "python3"
  },
  "language_info": {
   "codemirror_mode": {
    "name": "ipython",
    "version": 3
   },
   "file_extension": ".py",
   "mimetype": "text/x-python",
   "name": "python",
   "nbconvert_exporter": "python",
   "pygments_lexer": "ipython3",
   "version": "3.11.9"
  }
 },
 "nbformat": 4,
 "nbformat_minor": 5
}
