{
 "cells": [
  {
   "cell_type": "markdown",
   "id": "2cbc0b35-edda-4d7a-bc9a-9fdac3a272e7",
   "metadata": {},
   "source": [
    "# 07에서 추가 학습하기"
   ]
  },
  {
   "cell_type": "code",
   "execution_count": null,
   "id": "74a76868-ae4c-4a51-8beb-2ccfb73db277",
   "metadata": {},
   "outputs": [],
   "source": []
  },
  {
   "cell_type": "markdown",
   "id": "2f43ae97-befc-4763-bd09-4fedcee24754",
   "metadata": {},
   "source": [
    "# 07\n",
    "## 06에서 모델을 11x로 변경해서 돌리기\n",
    "## batch=64 (주피터 창 강제 종료됨)\n",
    "## => batch=32\n",
    "- OutOfMemoryError: CUDA out of memory. Tried to allocate 76.00 MiB. GPU 0 has a total capacity of 8.00 GiB of which 0 bytes is free. Of the allocated memory 22.19 GiB is allocated by PyTorch, and 136.10 MiB is reserved by PyTorch but unallocated. If reserved but unallocated memory is large try setting PYTORCH_CUDA_ALLOC_CONF=expandable_segments:True to avoid fragmentation.\n",
    "## => batch=16 (소요시간 너무 긺)\n",
    "## => batch=8"
   ]
  },
  {
   "cell_type": "code",
   "execution_count": 1,
   "id": "5ab5f421-5dc2-44c0-8670-f65c60a5a2ef",
   "metadata": {},
   "outputs": [],
   "source": [
    "# 📌 [기본 패키지 임포트]\n",
    "import os\n",
    "import shutil\n",
    "import torch\n",
    "import ultralytics\n",
    "from ultralytics import YOLO\n",
    "import time\n",
    "import pandas as pd\n",
    "import cv2\n",
    "import matplotlib.pyplot as plt\n",
    "import numpy as np\n",
    "import json\n",
    "from glob import glob\n",
    "from collections import Counter\n",
    "import threading"
   ]
  },
  {
   "cell_type": "code",
   "execution_count": 2,
   "id": "7b25ddcb-21fe-4ed4-b066-f09ce8a8f9be",
   "metadata": {},
   "outputs": [
    {
     "name": "stdout",
     "output_type": "stream",
     "text": [
      "Ultralytics 8.3.156  Python-3.11.9 torch-2.7.1+cu128 CUDA:0 (NVIDIA GeForce RTX 4070 Laptop GPU, 8188MiB)\n",
      "Setup complete  (24 CPUs, 31.7 GB RAM, 25.5/735.1 GB disk)\n"
     ]
    }
   ],
   "source": [
    "# 📌 [1] GPU 및 환경 체크\n",
    "print(\"✅ CUDA 사용 가능:\", torch.cuda.is_available())\n",
    "print(\"✅ PyTorch 버전:\", torch.__version__)\n",
    "ultralytics.checks()"
   ]
  },
  {
   "cell_type": "code",
   "execution_count": 3,
   "id": "0b1c52e5-434e-410f-b6f0-151dd2e3af32",
   "metadata": {},
   "outputs": [
    {
     "name": "stdout",
     "output_type": "stream",
     "text": [
      "✅ 삭제할 미완성 run 없음. 모든 run이 best.pt 포함.\n"
     ]
    }
   ],
   "source": [
    "# 📌 [2] 실패한 이전 runs 삭제\n",
    "def clean_incomplete_runs(base_dir='../code/runs/detect'):\n",
    "    if not os.path.exists(base_dir):\n",
    "        print(f\"📂 '{base_dir}' 폴더가 없어 삭제 생략\")\n",
    "        return\n",
    "\n",
    "    deleted = False\n",
    "    for folder in os.listdir(base_dir):\n",
    "        path = os.path.join(base_dir, folder)\n",
    "        best_model = os.path.join(path, 'weights', 'best.pt')\n",
    "        if not os.path.exists(best_model):\n",
    "            print(f\"🧹 삭제 대상: {path}\")\n",
    "            shutil.rmtree(path)\n",
    "            deleted = True\n",
    "\n",
    "    if not deleted:\n",
    "        print(\"✅ 삭제할 미완성 run 없음. 모든 run이 best.pt 포함.\")\n",
    "\n",
    "clean_incomplete_runs()"
   ]
  },
  {
   "cell_type": "code",
   "execution_count": 4,
   "id": "aeb14c7a-9d16-4749-818a-d7e43b6656c4",
   "metadata": {},
   "outputs": [
    {
     "name": "stdout",
     "output_type": "stream",
     "text": [
      "📄 마지막 훈련 결과 파일: runs/detect\\yolov11x_custom_001\\results.csv\n",
      "🔁 마지막 훈련 결과 (마지막 5줄):\n",
      "    epoch     time  train/box_loss  train/cls_loss  train/dfl_loss  \\\n",
      "25     26  22523.5         0.53828         0.44147         0.95278   \n",
      "26     27  23074.8         0.53529         0.41576         0.95056   \n",
      "27     28  23978.3         0.52362         0.39257         0.94227   \n",
      "28     29  25021.9         0.51856         0.37470         0.93696   \n",
      "29     30  26101.2         0.50880         0.36424         0.93301   \n",
      "\n",
      "    metrics/precision(B)  metrics/recall(B)  metrics/mAP50(B)  \\\n",
      "25               0.94191            0.87008           0.94760   \n",
      "26               0.93775            0.87999           0.94480   \n",
      "27               0.91825            0.89548           0.95111   \n",
      "28               0.96195            0.89026           0.95894   \n",
      "29               0.93677            0.90895           0.95819   \n",
      "\n",
      "    metrics/mAP50-95(B)  val/box_loss  val/cls_loss  val/dfl_loss    lr/pg0  \\\n",
      "25              0.81856       0.58848       0.41075       0.97305  0.000092   \n",
      "26              0.81553       0.58662       0.38852       0.97191  0.000075   \n",
      "27              0.82222       0.58082       0.37717       0.97048  0.000057   \n",
      "28              0.82940       0.57545       0.36115       0.96575  0.000040   \n",
      "29              0.83192       0.57223       0.35272       0.96414  0.000023   \n",
      "\n",
      "      lr/pg1    lr/pg2  \n",
      "25  0.000092  0.000092  \n",
      "26  0.000075  0.000075  \n",
      "27  0.000057  0.000057  \n",
      "28  0.000040  0.000040  \n",
      "29  0.000023  0.000023  \n"
     ]
    }
   ],
   "source": [
    "# 📌 [3] 가장 최근 run 결과 요약 출력\n",
    "def get_last_run_csv():\n",
    "    runs = sorted(glob('runs/detect/*/results.csv'), key=os.path.getmtime, reverse=True)\n",
    "    if runs:\n",
    "        print(f\"📄 마지막 훈련 결과 파일: {runs[0]}\")\n",
    "        df = pd.read_csv(runs[0])\n",
    "        print(\"🔁 마지막 훈련 결과 (마지막 5줄):\")\n",
    "        print(df.tail())\n",
    "    else:\n",
    "        print(\"ℹ️ 이전 훈련 결과 없음.\")\n",
    "\n",
    "get_last_run_csv()"
   ]
  },
  {
   "cell_type": "code",
   "execution_count": 5,
   "id": "87ef416e-3708-43d3-8a53-316b88f7eb56",
   "metadata": {},
   "outputs": [
    {
     "name": "stdout",
     "output_type": "stream",
     "text": [
      "🚀 새 훈련 run 이름: yolov11x_custom_002\n"
     ]
    }
   ],
   "source": [
    "# 📌 [4] 자동 넘버링 run 이름 생성\n",
    "def get_next_run_name(base_dir='runs/detect', prefix='yolov11x_custom'):\n",
    "    i = 1\n",
    "    while os.path.exists(os.path.join(base_dir, f'{prefix}_{i:03d}')):\n",
    "        i += 1\n",
    "    return f'{prefix}_{i:03d}'\n",
    "\n",
    "run_name = get_next_run_name()\n",
    "print(f\"🚀 새 훈련 run 이름: {run_name}\")"
   ]
  },
  {
   "cell_type": "code",
   "execution_count": 6,
   "id": "743708d1-328f-4d4e-94b1-42db57f9a377",
   "metadata": {},
   "outputs": [
    {
     "name": "stdout",
     "output_type": "stream",
     "text": [
      "\n",
      "📁 이미지 경로: ../train/images\n",
      "🖼️ 이미지 개수: 3530\n",
      "💾 이미지 용량: 67.55 MB\n",
      "📄 라벨 경로: ../train/labels\n",
      "📝 라벨 개수: 3530\n",
      "💾 라벨 용량: 319.50 KB\n",
      "\n",
      "📊 클래스별 라벨 개수 (../train/labels):\n",
      "  0 (Green Light): 542\n",
      "  1 (Red Light): 585\n",
      "  2 (Speed Limit 10): 19\n",
      "  3 (Speed Limit 100): 267\n",
      "  4 (Speed Limit 110): 101\n",
      "  5 (Speed Limit 120): 252\n",
      "  6 (Speed Limit 20): 285\n",
      "  7 (Speed Limit 30): 334\n",
      "  8 (Speed Limit 40): 235\n",
      "  9 (Speed Limit 50): 283\n",
      "  10 (Speed Limit 60): 301\n",
      "  11 (Speed Limit 70): 318\n",
      "  12 (Speed Limit 80): 323\n",
      "  13 (Speed Limit 90): 168\n",
      "  14 (Stop): 285\n",
      "\n",
      "📁 이미지 경로: ../valid/images\n",
      "🖼️ 이미지 개수: 801\n",
      "💾 이미지 용량: 15.38 MB\n",
      "📄 라벨 경로: ../valid/labels\n",
      "📝 라벨 개수: 801\n",
      "💾 라벨 용량: 69.86 KB\n",
      "\n",
      "📊 클래스별 라벨 개수 (../valid/labels):\n",
      "  0 (Green Light): 122\n",
      "  1 (Red Light): 108\n",
      "  3 (Speed Limit 100): 52\n",
      "  4 (Speed Limit 110): 17\n",
      "  5 (Speed Limit 120): 60\n",
      "  6 (Speed Limit 20): 56\n",
      "  7 (Speed Limit 30): 74\n",
      "  8 (Speed Limit 40): 55\n",
      "  9 (Speed Limit 50): 71\n",
      "  10 (Speed Limit 60): 76\n",
      "  11 (Speed Limit 70): 78\n",
      "  12 (Speed Limit 80): 56\n",
      "  13 (Speed Limit 90): 38\n",
      "  14 (Stop): 81\n"
     ]
    }
   ],
   "source": [
    "# 📌 [5] 입력 데이터 정보 출력 및 클래스별 레이블 개수 확인 함수 추가\n",
    "def get_dataset_info(img_dir, label_dir, class_names=None):\n",
    "    img_files = glob(os.path.join(img_dir, '*.jpg'))\n",
    "    label_files = glob(os.path.join(label_dir, '*.txt'))\n",
    "\n",
    "    total_img_size = sum(os.path.getsize(f) for f in img_files)\n",
    "    total_label_size = sum(os.path.getsize(f) for f in label_files)\n",
    "\n",
    "    print(f\"\\n📁 이미지 경로: {img_dir}\")\n",
    "    print(f\"🖼️ 이미지 개수: {len(img_files)}\")\n",
    "    print(f\"💾 이미지 용량: {total_img_size / 1024 / 1024:.2f} MB\")\n",
    "    print(f\"📄 라벨 경로: {label_dir}\")\n",
    "    print(f\"📝 라벨 개수: {len(label_files)}\")\n",
    "    print(f\"💾 라벨 용량: {total_label_size / 1024:.2f} KB\")\n",
    "\n",
    "    # 클래스별 라벨 개수 집계\n",
    "    classes = []\n",
    "    for f in label_files:\n",
    "        with open(f, 'r') as file:\n",
    "            lines = file.readlines()\n",
    "            classes += [int(line.split()[0]) for line in lines if line.strip()]\n",
    "    counter = Counter(classes)\n",
    "    print(f\"\\n📊 클래스별 라벨 개수 ({label_dir}):\")\n",
    "    if class_names:\n",
    "        for cls_idx, count in sorted(counter.items()):\n",
    "            print(f\"  {cls_idx} ({class_names[cls_idx]}): {count}\")\n",
    "    else:\n",
    "        print(counter)\n",
    "\n",
    "# 예시로 data.yaml에서 클래스명 읽어오기\n",
    "import yaml\n",
    "with open('data.yaml', 'r') as f:\n",
    "    data_cfg = yaml.safe_load(f)\n",
    "class_names = data_cfg.get('names', None)\n",
    "\n",
    "get_dataset_info('../train/images', '../train/labels', class_names)\n",
    "get_dataset_info('../valid/images', '../valid/labels', class_names)"
   ]
  },
  {
   "cell_type": "code",
   "execution_count": null,
   "id": "32041e59-06d3-412a-be41-3bf651c546a6",
   "metadata": {},
   "outputs": [],
   "source": [
    "# 📌 캐시 파일 삭제 함수\n",
    "# def safe_delete_cache(path: str):\n",
    "#     if not os.path.exists(path):\n",
    "#         print(f\"🟢 캐시 파일 없음 (삭제 불필요): {path}\")\n",
    "#         return\n",
    "\n",
    "#     file_size = os.path.getsize(path)\n",
    "#     last_modified = os.path.getmtime(path)\n",
    "#     now = time.time()\n",
    "\n",
    "#     should_delete = (\n",
    "#         file_size < 1024 or  # 1KB 이하\n",
    "#         (now - last_modified > 3600)  # 1시간 이상 경과\n",
    "#     )\n",
    "\n",
    "#     if should_delete:\n",
    "#         try:\n",
    "#             os.remove(path)\n",
    "#             print(f\"✅ 캐시 삭제 완료: {path}\")\n",
    "#         except Exception as e:\n",
    "#             print(f\"❌ 캐시 삭제 실패: {path} → {e}\")\n",
    "#     else:\n",
    "#         print(f\"🔒 캐시 유지: {path} (조건 미충족)\")\n",
    "\n",
    "# safe_delete_cache(r\"D:\\Project\\PJT_07\\train\\labels.cache\")\n",
    "# safe_delete_cache(r\"D:\\Project\\PJT_07\\valid\\labels.cache\")"
   ]
  },
  {
   "cell_type": "code",
   "execution_count": 7,
   "id": "977c05ce-f89b-4b82-8ecf-30fe149b7caa",
   "metadata": {},
   "outputs": [
    {
     "name": "stdout",
     "output_type": "stream",
     "text": [
      "yolov11x_custom_002\n"
     ]
    }
   ],
   "source": [
    "print(run_name)"
   ]
  },
  {
   "cell_type": "code",
   "execution_count": 8,
   "id": "658a7012-9428-40ad-a6f9-3468c7b2ce2b",
   "metadata": {},
   "outputs": [
    {
     "name": "stdout",
     "output_type": "stream",
     "text": [
      "[GPU 모니터] 메모리 할당: 0.0MB, 예약: 0.0MB\n",
      "New https://pypi.org/project/ultralytics/8.3.157 available  Update with 'pip install -U ultralytics'\n",
      "Ultralytics 8.3.156  Python-3.11.9 torch-2.7.1+cu128 CUDA:0 (NVIDIA GeForce RTX 4070 Laptop GPU, 8188MiB)\n",
      "\u001b[34m\u001b[1mengine\\trainer: \u001b[0magnostic_nms=False, amp=True, augment=False, auto_augment=randaugment, batch=8, bgr=0.0, box=7.5, cache=False, cfg=None, classes=None, close_mosaic=10, cls=0.5, conf=None, copy_paste=0.0, copy_paste_mode=flip, cos_lr=False, cutmix=0.0, data=data.yaml, degrees=0.0, deterministic=True, device=0, dfl=1.5, dnn=False, dropout=0.0, dynamic=False, embed=None, epochs=30, erasing=0.4, exist_ok=False, fliplr=0.5, flipud=0.0, format=torchscript, fraction=1.0, freeze=None, half=False, hsv_h=0.015, hsv_s=0.7, hsv_v=0.4, imgsz=640, int8=False, iou=0.7, keras=False, kobj=1.0, line_width=None, lr0=0.01, lrf=0.01, mask_ratio=4, max_det=300, mixup=0.0, mode=train, model=runs/detect/yolov11x_custom_001/weights/best.pt, momentum=0.937, mosaic=1.0, multi_scale=False, name=yolov11x_custom_002, nbs=64, nms=False, opset=None, optimize=False, optimizer=auto, overlap_mask=True, patience=10, perspective=0.0, plots=True, pose=12.0, pretrained=True, profile=False, project=None, rect=False, resume=False, retina_masks=False, save=True, save_conf=False, save_crop=False, save_dir=runs\\detect\\yolov11x_custom_002, save_frames=False, save_json=False, save_period=-1, save_txt=False, scale=0.5, seed=0, shear=0.0, show=False, show_boxes=True, show_conf=True, show_labels=True, simplify=True, single_cls=False, source=None, split=val, stream_buffer=False, task=detect, time=None, tracker=botsort.yaml, translate=0.1, val=True, verbose=True, vid_stride=1, visualize=False, warmup_bias_lr=0.1, warmup_epochs=0, warmup_momentum=0.8, weight_decay=0.0005, workers=0, workspace=None\n",
      "\n",
      "                   from  n    params  module                                       arguments                     \n",
      "  0                  -1  1      2784  ultralytics.nn.modules.conv.Conv             [3, 96, 3, 2]                 \n",
      "  1                  -1  1    166272  ultralytics.nn.modules.conv.Conv             [96, 192, 3, 2]               \n",
      "  2                  -1  2    389760  ultralytics.nn.modules.block.C3k2            [192, 384, 2, True, 0.25]     \n",
      "  3                  -1  1   1327872  ultralytics.nn.modules.conv.Conv             [384, 384, 3, 2]              \n",
      "  4                  -1  2   1553664  ultralytics.nn.modules.block.C3k2            [384, 768, 2, True, 0.25]     \n",
      "  5                  -1  1   5309952  ultralytics.nn.modules.conv.Conv             [768, 768, 3, 2]              \n",
      "  6                  -1  2   5022720  ultralytics.nn.modules.block.C3k2            [768, 768, 2, True]           \n",
      "  7                  -1  1   5309952  ultralytics.nn.modules.conv.Conv             [768, 768, 3, 2]              \n",
      "  8                  -1  2   5022720  ultralytics.nn.modules.block.C3k2            [768, 768, 2, True]           \n",
      "  9                  -1  1   1476864  ultralytics.nn.modules.block.SPPF            [768, 768, 5]                 \n",
      " 10                  -1  2   3264768  ultralytics.nn.modules.block.C2PSA           [768, 768, 2]                 \n",
      " 11                  -1  1         0  torch.nn.modules.upsampling.Upsample         [None, 2, 'nearest']          \n",
      " 12             [-1, 6]  1         0  ultralytics.nn.modules.conv.Concat           [1]                           \n",
      " 13                  -1  2   5612544  ultralytics.nn.modules.block.C3k2            [1536, 768, 2, True]          \n",
      " 14                  -1  1         0  torch.nn.modules.upsampling.Upsample         [None, 2, 'nearest']          \n",
      " 15             [-1, 4]  1         0  ultralytics.nn.modules.conv.Concat           [1]                           \n",
      " 16                  -1  2   1700352  ultralytics.nn.modules.block.C3k2            [1536, 384, 2, True]          \n",
      " 17                  -1  1   1327872  ultralytics.nn.modules.conv.Conv             [384, 384, 3, 2]              \n",
      " 18            [-1, 13]  1         0  ultralytics.nn.modules.conv.Concat           [1]                           \n",
      " 19                  -1  2   5317632  ultralytics.nn.modules.block.C3k2            [1152, 768, 2, True]          \n",
      " 20                  -1  1   5309952  ultralytics.nn.modules.conv.Conv             [768, 768, 3, 2]              \n",
      " 21            [-1, 10]  1         0  ultralytics.nn.modules.conv.Concat           [1]                           \n",
      " 22                  -1  2   5612544  ultralytics.nn.modules.block.C3k2            [1536, 768, 2, True]          \n",
      " 23        [16, 19, 22]  1   3162877  ultralytics.nn.modules.head.Detect           [15, [384, 768, 768]]         \n",
      "YOLO11x summary: 357 layers, 56,891,101 parameters, 56,891,085 gradients, 195.5 GFLOPs\n",
      "\n",
      "Transferred 1015/1015 items from pretrained weights\n",
      "Freezing layer 'model.23.dfl.conv.weight'\n",
      "\u001b[34m\u001b[1mAMP: \u001b[0mrunning Automatic Mixed Precision (AMP) checks...\n",
      "\u001b[34m\u001b[1mAMP: \u001b[0mchecks passed \n",
      "\u001b[34m\u001b[1mtrain: \u001b[0mFast image access  (ping: 0.10.0 ms, read: 58.523.3 MB/s, size: 24.1 KB)\n"
     ]
    },
    {
     "name": "stderr",
     "output_type": "stream",
     "text": [
      "\u001b[34m\u001b[1mtrain: \u001b[0mScanning D:\\Project\\PJT_07\\train\\labels.cache... 3530 images, 3 backgrounds, 0 corrupt: 100%|██████████| 3530\u001b[0m"
     ]
    },
    {
     "name": "stdout",
     "output_type": "stream",
     "text": [
      "\u001b[34m\u001b[1mval: \u001b[0mFast image access  (ping: 0.10.0 ms, read: 25.710.9 MB/s, size: 20.7 KB)\n"
     ]
    },
    {
     "name": "stderr",
     "output_type": "stream",
     "text": [
      "\n",
      "\u001b[34m\u001b[1mval: \u001b[0mScanning D:\\Project\\PJT_07\\valid\\labels.cache... 801 images, 0 backgrounds, 0 corrupt: 100%|██████████| 801/801\u001b[0m"
     ]
    },
    {
     "name": "stdout",
     "output_type": "stream",
     "text": [
      "Plotting labels to runs\\detect\\yolov11x_custom_002\\labels.jpg... \n"
     ]
    },
    {
     "name": "stderr",
     "output_type": "stream",
     "text": [
      "\n"
     ]
    },
    {
     "name": "stdout",
     "output_type": "stream",
     "text": [
      "\u001b[34m\u001b[1moptimizer:\u001b[0m 'optimizer=auto' found, ignoring 'lr0=0.01' and 'momentum=0.937' and determining best 'optimizer', 'lr0' and 'momentum' automatically... \n",
      "\u001b[34m\u001b[1moptimizer:\u001b[0m AdamW(lr=0.000526, momentum=0.9) with parameter groups 167 weight(decay=0.0), 174 weight(decay=0.0005), 173 bias(decay=0.0)\n",
      "Image sizes 640 train, 640 val\n",
      "Using 0 dataloader workers\n",
      "Logging results to \u001b[1mruns\\detect\\yolov11x_custom_002\u001b[0m\n",
      "Starting training for 30 epochs...\n",
      "\n",
      "      Epoch    GPU_mem   box_loss   cls_loss   dfl_loss  Instances       Size\n"
     ]
    },
    {
     "name": "stderr",
     "output_type": "stream",
     "text": [
      "       1/30      7.98G     0.6145     0.9317      1.022         14        640:  13%|█▎        | 58/442 [00:50<06:53,"
     ]
    },
    {
     "name": "stdout",
     "output_type": "stream",
     "text": [
      "[GPU 모니터] 메모리 할당: 7999.8MB, 예약: 8174.0MB\n"
     ]
    },
    {
     "name": "stderr",
     "output_type": "stream",
     "text": [
      "       1/30      7.98G      0.695      1.099      1.063         17        640:  25%|██▌       | 111/442 [01:51<06:40"
     ]
    },
    {
     "name": "stdout",
     "output_type": "stream",
     "text": [
      "[GPU 모니터] 메모리 할당: 1225.6MB, 예약: 8174.0MB\n"
     ]
    },
    {
     "name": "stderr",
     "output_type": "stream",
     "text": [
      "       1/30      7.98G     0.6966      1.147      1.065         15        640:  37%|███▋      | 164/442 [02:50<05:02"
     ]
    },
    {
     "name": "stdout",
     "output_type": "stream",
     "text": [
      "[GPU 모니터] 메모리 할당: 1225.6MB, 예약: 8174.0MB\n"
     ]
    },
    {
     "name": "stderr",
     "output_type": "stream",
     "text": [
      "       1/30      7.98G     0.6963      1.163      1.068          9        640:  49%|████▉     | 218/442 [03:51<03:53"
     ]
    },
    {
     "name": "stdout",
     "output_type": "stream",
     "text": [
      "[GPU 모니터] 메모리 할당: 7999.8MB, 예약: 8174.0MB\n"
     ]
    },
    {
     "name": "stderr",
     "output_type": "stream",
     "text": [
      "       1/30      7.98G     0.7111       1.17      1.074         19        640:  61%|██████▏   | 271/442 [04:50<03:22"
     ]
    },
    {
     "name": "stdout",
     "output_type": "stream",
     "text": [
      "[GPU 모니터] 메모리 할당: 1263.6MB, 예약: 8174.0MB\n"
     ]
    },
    {
     "name": "stderr",
     "output_type": "stream",
     "text": [
      "       1/30      7.98G     0.7167      1.182      1.077         24        640:  74%|███████▎  | 325/442 [05:51<02:17"
     ]
    },
    {
     "name": "stdout",
     "output_type": "stream",
     "text": [
      "[GPU 모니터] 메모리 할당: 7263.4MB, 예약: 8174.0MB\n"
     ]
    },
    {
     "name": "stderr",
     "output_type": "stream",
     "text": [
      "       1/30      7.98G     0.7173      1.166      1.073         17        640:  86%|████████▌ | 379/442 [06:51<01:10"
     ]
    },
    {
     "name": "stdout",
     "output_type": "stream",
     "text": [
      "[GPU 모니터] 메모리 할당: 1225.6MB, 예약: 8174.0MB\n"
     ]
    },
    {
     "name": "stderr",
     "output_type": "stream",
     "text": [
      "       1/30      7.98G     0.7168      1.163      1.072         20        640:  98%|█████████▊| 433/442 [07:51<00:09"
     ]
    },
    {
     "name": "stdout",
     "output_type": "stream",
     "text": [
      "[GPU 모니터] 메모리 할당: 8038.2MB, 예약: 8174.0MB\n"
     ]
    },
    {
     "name": "stderr",
     "output_type": "stream",
     "text": [
      "       1/30      8.03G     0.7154      1.163      1.072          4        640: 100%|██████████| 442/442 [08:00<00:00\n",
      "                 Class     Images  Instances      Box(P          R      mAP50  mAP50-95): 100%|██████████| 51/51 [00"
     ]
    },
    {
     "name": "stdout",
     "output_type": "stream",
     "text": [
      "                   all        801        944       0.76      0.693      0.794      0.652\n"
     ]
    },
    {
     "name": "stderr",
     "output_type": "stream",
     "text": [
      "\n"
     ]
    },
    {
     "name": "stdout",
     "output_type": "stream",
     "text": [
      "\n",
      "      Epoch    GPU_mem   box_loss   cls_loss   dfl_loss  Instances       Size\n"
     ]
    },
    {
     "name": "stderr",
     "output_type": "stream",
     "text": [
      "       2/30       8.4G     0.7064      1.129      1.047         15        640:   3%|▎         | 15/442 [00:29<12:01,"
     ]
    },
    {
     "name": "stdout",
     "output_type": "stream",
     "text": [
      "[GPU 모니터] 메모리 할당: 1235.2MB, 예약: 8604.0MB\n"
     ]
    },
    {
     "name": "stderr",
     "output_type": "stream",
     "text": [
      "       2/30       8.4G     0.7216      1.129      1.066         21        640:  12%|█▏        | 51/442 [01:27<10:43,"
     ]
    },
    {
     "name": "stdout",
     "output_type": "stream",
     "text": [
      "[GPU 모니터] 메모리 할당: 1273.2MB, 예약: 8606.0MB\n"
     ]
    },
    {
     "name": "stderr",
     "output_type": "stream",
     "text": [
      "       2/30       8.4G       0.71      1.101      1.061         18        640:  20%|█▉        | 88/442 [02:28<09:30,"
     ]
    },
    {
     "name": "stdout",
     "output_type": "stream",
     "text": [
      "[GPU 모니터] 메모리 할당: 1235.2MB, 예약: 8606.0MB\n"
     ]
    },
    {
     "name": "stderr",
     "output_type": "stream",
     "text": [
      "       2/30       8.4G     0.6992      1.105      1.062         18        640:  28%|██▊       | 125/442 [03:28<08:40"
     ]
    },
    {
     "name": "stdout",
     "output_type": "stream",
     "text": [
      "[GPU 모니터] 메모리 할당: 8051.4MB, 예약: 8606.0MB\n"
     ]
    },
    {
     "name": "stderr",
     "output_type": "stream",
     "text": [
      "       2/30       8.4G      0.691      1.098      1.063         23        640:  37%|███▋      | 162/442 [04:29<07:31"
     ]
    },
    {
     "name": "stdout",
     "output_type": "stream",
     "text": [
      "[GPU 모니터] 메모리 할당: 1273.2MB, 예약: 8606.0MB\n"
     ]
    },
    {
     "name": "stderr",
     "output_type": "stream",
     "text": [
      "       2/30       8.4G     0.6917      1.093      1.062         13        640:  45%|████▍     | 198/442 [05:27<06:37"
     ]
    },
    {
     "name": "stdout",
     "output_type": "stream",
     "text": [
      "[GPU 모니터] 메모리 할당: 1235.2MB, 예약: 8606.0MB\n"
     ]
    },
    {
     "name": "stderr",
     "output_type": "stream",
     "text": [
      "       2/30       8.4G     0.6925      1.088      1.063         26        640:  53%|█████▎    | 235/442 [06:28<05:40"
     ]
    },
    {
     "name": "stdout",
     "output_type": "stream",
     "text": [
      "[GPU 모니터] 메모리 할당: 1273.2MB, 예약: 8606.0MB\n"
     ]
    },
    {
     "name": "stderr",
     "output_type": "stream",
     "text": [
      "       2/30       8.4G     0.6945      1.096      1.068         14        640:  62%|██████▏   | 272/442 [07:28<04:34"
     ]
    },
    {
     "name": "stdout",
     "output_type": "stream",
     "text": [
      "[GPU 모니터] 메모리 할당: 8013.9MB, 예약: 8606.0MB\n"
     ]
    },
    {
     "name": "stderr",
     "output_type": "stream",
     "text": [
      "       2/30       8.4G     0.6959       1.09       1.07         14        640:  70%|██████▉   | 309/442 [08:29<03:38"
     ]
    },
    {
     "name": "stdout",
     "output_type": "stream",
     "text": [
      "[GPU 모니터] 메모리 할당: 1235.2MB, 예약: 8606.0MB\n"
     ]
    },
    {
     "name": "stderr",
     "output_type": "stream",
     "text": [
      "       2/30       8.4G     0.6947      1.087      1.069         19        640:  78%|███████▊  | 345/442 [09:27<02:39"
     ]
    },
    {
     "name": "stdout",
     "output_type": "stream",
     "text": [
      "[GPU 모니터] 메모리 할당: 1273.2MB, 예약: 8606.0MB\n"
     ]
    },
    {
     "name": "stderr",
     "output_type": "stream",
     "text": [
      "       2/30       8.4G     0.6979      1.088      1.068         16        640:  86%|████████▋ | 382/442 [10:28<01:37"
     ]
    },
    {
     "name": "stdout",
     "output_type": "stream",
     "text": [
      "[GPU 모니터] 메모리 할당: 7807.0MB, 예약: 8606.0MB\n"
     ]
    },
    {
     "name": "stderr",
     "output_type": "stream",
     "text": [
      "       2/30       8.4G     0.6965      1.079      1.067         23        640:  95%|█████████▍| 419/442 [11:28<00:37"
     ]
    },
    {
     "name": "stdout",
     "output_type": "stream",
     "text": [
      "[GPU 모니터] 메모리 할당: 8051.4MB, 예약: 8606.0MB\n"
     ]
    },
    {
     "name": "stderr",
     "output_type": "stream",
     "text": [
      "       2/30      8.45G     0.6965      1.074      1.067          2        640: 100%|██████████| 442/442 [12:05<00:00\n",
      "                 Class     Images  Instances      Box(P          R      mAP50  mAP50-95): 100%|██████████| 51/51 [00"
     ]
    },
    {
     "name": "stdout",
     "output_type": "stream",
     "text": [
      "                   all        801        944      0.832      0.783      0.861      0.723\n"
     ]
    },
    {
     "name": "stderr",
     "output_type": "stream",
     "text": [
      "\n"
     ]
    },
    {
     "name": "stdout",
     "output_type": "stream",
     "text": [
      "\n",
      "      Epoch    GPU_mem   box_loss   cls_loss   dfl_loss  Instances       Size\n"
     ]
    },
    {
     "name": "stderr",
     "output_type": "stream",
     "text": [
      "       3/30       8.4G     0.6022     0.8644      1.059         19        640:   0%|          | 1/442 [00:02<15:35, "
     ]
    },
    {
     "name": "stdout",
     "output_type": "stream",
     "text": [
      "[GPU 모니터] 메모리 할당: 1272.5MB, 예약: 8608.0MB\n"
     ]
    },
    {
     "name": "stderr",
     "output_type": "stream",
     "text": [
      "       3/30      8.41G      0.644      1.009      1.073         16        640:   6%|▌         | 27/442 [01:03<17:04,"
     ]
    },
    {
     "name": "stdout",
     "output_type": "stream",
     "text": [
      "[GPU 모니터] 메모리 할당: 1237.0MB, 예약: 8608.0MB\n"
     ]
    },
    {
     "name": "stderr",
     "output_type": "stream",
     "text": [
      "       3/30      8.41G     0.6698      1.014      1.078         23        640:  12%|█▏        | 51/442 [02:01<16:04,"
     ]
    },
    {
     "name": "stdout",
     "output_type": "stream",
     "text": [
      "[GPU 모니터] 메모리 할당: 1275.1MB, 예약: 8608.0MB\n"
     ]
    },
    {
     "name": "stderr",
     "output_type": "stream",
     "text": [
      "       3/30      8.41G     0.6913      1.049      1.078         18        640:  17%|█▋        | 76/442 [03:02<14:59,"
     ]
    },
    {
     "name": "stdout",
     "output_type": "stream",
     "text": [
      "[GPU 모니터] 메모리 할당: 1237.0MB, 예약: 8608.0MB\n"
     ]
    },
    {
     "name": "stderr",
     "output_type": "stream",
     "text": [
      "       3/30      8.41G     0.6986      1.035      1.075         19        640:  23%|██▎       | 101/442 [04:02<13:40"
     ]
    },
    {
     "name": "stdout",
     "output_type": "stream",
     "text": [
      "[GPU 모니터] 메모리 할당: 8056.5MB, 예약: 8608.0MB\n"
     ]
    },
    {
     "name": "stderr",
     "output_type": "stream",
     "text": [
      "       3/30      8.41G     0.6951      1.023      1.076         20        640:  28%|██▊       | 125/442 [05:00<12:45"
     ]
    },
    {
     "name": "stdout",
     "output_type": "stream",
     "text": [
      "[GPU 모니터] 메모리 할당: 1275.0MB, 예약: 8608.0MB\n"
     ]
    },
    {
     "name": "stderr",
     "output_type": "stream",
     "text": [
      "       3/30      8.41G     0.7007      1.024       1.07         13        640:  34%|███▍      | 150/442 [06:01<11:35"
     ]
    },
    {
     "name": "stdout",
     "output_type": "stream",
     "text": [
      "[GPU 모니터] 메모리 할당: 1237.0MB, 예약: 8608.0MB\n"
     ]
    },
    {
     "name": "stderr",
     "output_type": "stream",
     "text": [
      "       3/30      8.41G     0.7023      1.023      1.069         19        640:  40%|███▉      | 175/442 [07:02<10:52"
     ]
    },
    {
     "name": "stdout",
     "output_type": "stream",
     "text": [
      "[GPU 모니터] 메모리 할당: 8056.5MB, 예약: 8608.0MB\n"
     ]
    },
    {
     "name": "stderr",
     "output_type": "stream",
     "text": [
      "       3/30      8.41G     0.6961       1.02      1.068         16        640:  45%|████▌     | 200/442 [08:02<09:42"
     ]
    },
    {
     "name": "stdout",
     "output_type": "stream",
     "text": [
      "[GPU 모니터] 메모리 할당: 1275.0MB, 예약: 8608.0MB\n"
     ]
    },
    {
     "name": "stderr",
     "output_type": "stream",
     "text": [
      "       3/30      8.41G     0.6982      1.017      1.068         18        640:  51%|█████     | 224/442 [09:01<08:43"
     ]
    },
    {
     "name": "stdout",
     "output_type": "stream",
     "text": [
      "[GPU 모니터] 메모리 할당: 1237.0MB, 예약: 8608.0MB\n"
     ]
    },
    {
     "name": "stderr",
     "output_type": "stream",
     "text": [
      "       3/30      8.41G     0.7006      1.018      1.068         12        640:  56%|█████▋    | 249/442 [10:02<07:53"
     ]
    },
    {
     "name": "stdout",
     "output_type": "stream",
     "text": [
      "[GPU 모니터] 메모리 할당: 1275.0MB, 예약: 8608.0MB\n"
     ]
    },
    {
     "name": "stderr",
     "output_type": "stream",
     "text": [
      "       3/30      8.41G      0.698      1.014      1.065         19        640:  62%|██████▏   | 274/442 [11:02<06:45"
     ]
    },
    {
     "name": "stdout",
     "output_type": "stream",
     "text": [
      "[GPU 모니터] 메모리 할당: 8019.0MB, 예약: 8608.0MB\n"
     ]
    },
    {
     "name": "stderr",
     "output_type": "stream",
     "text": [
      "       3/30      8.41G     0.6973      1.021      1.062         22        640:  67%|██████▋   | 298/442 [12:00<05:48"
     ]
    },
    {
     "name": "stdout",
     "output_type": "stream",
     "text": [
      "[GPU 모니터] 메모리 할당: 1237.0MB, 예약: 8608.0MB\n"
     ]
    },
    {
     "name": "stderr",
     "output_type": "stream",
     "text": [
      "       3/30      8.41G      0.694      1.021      1.061         15        640:  73%|███████▎  | 323/442 [13:01<04:54"
     ]
    },
    {
     "name": "stdout",
     "output_type": "stream",
     "text": [
      "[GPU 모니터] 메모리 할당: 1275.1MB, 예약: 8608.0MB\n"
     ]
    },
    {
     "name": "stderr",
     "output_type": "stream",
     "text": [
      "       3/30      8.41G     0.6934      1.026       1.06         14        640:  79%|███████▊  | 348/442 [14:02<03:51"
     ]
    },
    {
     "name": "stdout",
     "output_type": "stream",
     "text": [
      "[GPU 모니터] 메모리 할당: 7783.0MB, 예약: 8608.0MB\n"
     ]
    },
    {
     "name": "stderr",
     "output_type": "stream",
     "text": [
      "       3/30      8.41G     0.6945      1.021      1.061         27        640:  84%|████████▍ | 372/442 [15:00<02:52"
     ]
    },
    {
     "name": "stdout",
     "output_type": "stream",
     "text": [
      "[GPU 모니터] 메모리 할당: 1237.0MB, 예약: 8608.0MB\n"
     ]
    },
    {
     "name": "stderr",
     "output_type": "stream",
     "text": [
      "       3/30      8.41G     0.6891      1.017       1.06         13        640:  90%|████████▉ | 397/442 [16:01<01:48"
     ]
    },
    {
     "name": "stdout",
     "output_type": "stream",
     "text": [
      "[GPU 모니터] 메모리 할당: 1275.0MB, 예약: 8608.0MB\n"
     ]
    },
    {
     "name": "stderr",
     "output_type": "stream",
     "text": [
      "       3/30      8.41G     0.6866       1.02       1.06         14        640:  95%|█████████▌| 422/442 [17:02<00:47"
     ]
    },
    {
     "name": "stdout",
     "output_type": "stream",
     "text": [
      "[GPU 모니터] 메모리 할당: 8019.0MB, 예약: 8608.0MB\n"
     ]
    },
    {
     "name": "stderr",
     "output_type": "stream",
     "text": [
      "       3/30      8.45G     0.6835      1.017      1.058          2        640: 100%|██████████| 442/442 [17:49<00:00\n",
      "                 Class     Images  Instances      Box(P          R      mAP50  mAP50-95):  69%|██████▊   | 35/51 [00"
     ]
    },
    {
     "name": "stdout",
     "output_type": "stream",
     "text": [
      "[GPU 모니터] 메모리 할당: 1171.2MB, 예약: 4654.0MB\n"
     ]
    },
    {
     "name": "stderr",
     "output_type": "stream",
     "text": [
      "                 Class     Images  Instances      Box(P          R      mAP50  mAP50-95): 100%|██████████| 51/51 [00"
     ]
    },
    {
     "name": "stdout",
     "output_type": "stream",
     "text": [
      "                   all        801        944      0.877      0.783       0.88       0.74\n"
     ]
    },
    {
     "name": "stderr",
     "output_type": "stream",
     "text": [
      "\n"
     ]
    },
    {
     "name": "stdout",
     "output_type": "stream",
     "text": [
      "\n",
      "      Epoch    GPU_mem   box_loss   cls_loss   dfl_loss  Instances       Size\n"
     ]
    },
    {
     "name": "stderr",
     "output_type": "stream",
     "text": [
      "       4/30      8.38G     0.6437     0.9791      1.056         21        640:   7%|▋         | 31/442 [00:52<11:32,"
     ]
    },
    {
     "name": "stdout",
     "output_type": "stream",
     "text": [
      "[GPU 모니터] 메모리 할당: 1238.4MB, 예약: 8584.0MB\n"
     ]
    },
    {
     "name": "stderr",
     "output_type": "stream",
     "text": [
      "       4/30      8.38G     0.6474     0.9551      1.065         24        640:  15%|█▍        | 66/442 [01:51<10:32,"
     ]
    },
    {
     "name": "stdout",
     "output_type": "stream",
     "text": [
      "[GPU 모니터] 메모리 할당: 1238.4MB, 예약: 8584.0MB\n"
     ]
    },
    {
     "name": "stderr",
     "output_type": "stream",
     "text": [
      "       4/30      8.38G     0.6525      0.961      1.064         15        640:  23%|██▎       | 102/442 [02:51<09:23"
     ]
    },
    {
     "name": "stdout",
     "output_type": "stream",
     "text": [
      "[GPU 모니터] 메모리 할당: 1238.4MB, 예약: 8584.0MB\n"
     ]
    },
    {
     "name": "stderr",
     "output_type": "stream",
     "text": [
      "       4/30      8.38G     0.6626     0.9614      1.064         20        640:  31%|███       | 138/442 [03:52<08:32"
     ]
    },
    {
     "name": "stdout",
     "output_type": "stream",
     "text": [
      "[GPU 모니터] 메모리 할당: 7782.8MB, 예약: 8584.0MB\n"
     ]
    },
    {
     "name": "stderr",
     "output_type": "stream",
     "text": [
      "       4/30      8.38G     0.6625     0.9677      1.062         13        640:  39%|███▉      | 174/442 [04:52<07:25"
     ]
    },
    {
     "name": "stdout",
     "output_type": "stream",
     "text": [
      "[GPU 모니터] 메모리 할당: 1276.4MB, 예약: 8584.0MB\n"
     ]
    },
    {
     "name": "stderr",
     "output_type": "stream",
     "text": [
      "       4/30      8.38G     0.6613     0.9619      1.056         12        640:  47%|████▋     | 209/442 [05:51<06:30"
     ]
    },
    {
     "name": "stdout",
     "output_type": "stream",
     "text": [
      "[GPU 모니터] 메모리 할당: 1276.4MB, 예약: 8584.0MB\n"
     ]
    },
    {
     "name": "stderr",
     "output_type": "stream",
     "text": [
      "       4/30      8.38G     0.6656     0.9742      1.058         12        640:  55%|█████▌    | 245/442 [06:51<05:32"
     ]
    },
    {
     "name": "stdout",
     "output_type": "stream",
     "text": [
      "[GPU 모니터] 메모리 할당: 1276.4MB, 예약: 8584.0MB\n"
     ]
    },
    {
     "name": "stderr",
     "output_type": "stream",
     "text": [
      "       4/30      8.38G     0.6671     0.9774      1.058         18        640:  64%|██████▎   | 281/442 [07:51<04:30"
     ]
    },
    {
     "name": "stdout",
     "output_type": "stream",
     "text": [
      "[GPU 모니터] 메모리 할당: 8058.3MB, 예약: 8584.0MB\n"
     ]
    },
    {
     "name": "stderr",
     "output_type": "stream",
     "text": [
      "       4/30      8.38G     0.6669     0.9742      1.055         21        640:  72%|███████▏  | 317/442 [08:52<03:30"
     ]
    },
    {
     "name": "stdout",
     "output_type": "stream",
     "text": [
      "[GPU 모니터] 메모리 할당: 8058.3MB, 예약: 8584.0MB\n"
     ]
    },
    {
     "name": "stderr",
     "output_type": "stream",
     "text": [
      "       4/30      8.38G     0.6687     0.9743      1.053         23        640:  80%|███████▉  | 353/442 [09:52<02:29"
     ]
    },
    {
     "name": "stdout",
     "output_type": "stream",
     "text": [
      "[GPU 모니터] 메모리 할당: 1238.4MB, 예약: 8584.0MB\n"
     ]
    },
    {
     "name": "stderr",
     "output_type": "stream",
     "text": [
      "       4/30      8.38G     0.6704     0.9753      1.053         16        640:  88%|████████▊ | 388/442 [10:51<01:30"
     ]
    },
    {
     "name": "stdout",
     "output_type": "stream",
     "text": [
      "[GPU 모니터] 메모리 할당: 1238.4MB, 예약: 8584.0MB\n"
     ]
    },
    {
     "name": "stderr",
     "output_type": "stream",
     "text": [
      "       4/30      8.38G     0.6716     0.9745      1.053         17        640:  96%|█████████▌| 424/442 [11:51<00:29"
     ]
    },
    {
     "name": "stdout",
     "output_type": "stream",
     "text": [
      "[GPU 모니터] 메모리 할당: 1238.4MB, 예약: 8584.0MB\n"
     ]
    },
    {
     "name": "stderr",
     "output_type": "stream",
     "text": [
      "       4/30      8.43G      0.672      0.972      1.053          5        640: 100%|██████████| 442/442 [12:21<00:00\n",
      "                 Class     Images  Instances      Box(P          R      mAP50  mAP50-95): 100%|██████████| 51/51 [00"
     ]
    },
    {
     "name": "stdout",
     "output_type": "stream",
     "text": [
      "                   all        801        944      0.897      0.805      0.889      0.735\n"
     ]
    },
    {
     "name": "stderr",
     "output_type": "stream",
     "text": [
      "\n"
     ]
    },
    {
     "name": "stdout",
     "output_type": "stream",
     "text": [
      "\n",
      "      Epoch    GPU_mem   box_loss   cls_loss   dfl_loss  Instances       Size\n"
     ]
    },
    {
     "name": "stderr",
     "output_type": "stream",
     "text": [
      "       5/30      8.48G     0.6774     0.8663      1.069         15        640:   1%|          | 5/442 [00:10<15:44, "
     ]
    },
    {
     "name": "stdout",
     "output_type": "stream",
     "text": [
      "[GPU 모니터] 메모리 할당: 1556.5MB, 예약: 8682.0MB\n"
     ]
    },
    {
     "name": "stderr",
     "output_type": "stream",
     "text": [
      "       5/30      8.48G     0.6801      0.906      1.053         17        640:   7%|▋         | 32/442 [01:09<14:51,"
     ]
    },
    {
     "name": "stdout",
     "output_type": "stream",
     "text": [
      "[GPU 모니터] 메모리 할당: 8100.2MB, 예약: 8686.0MB\n"
     ]
    },
    {
     "name": "stderr",
     "output_type": "stream",
     "text": [
      "       5/30      8.48G     0.6561     0.9018      1.058         13        640:  13%|█▎        | 59/442 [02:09<14:02,"
     ]
    },
    {
     "name": "stdout",
     "output_type": "stream",
     "text": [
      "[GPU 모니터] 메모리 할당: 1601.4MB, 예약: 8686.0MB\n"
     ]
    },
    {
     "name": "stderr",
     "output_type": "stream",
     "text": [
      "       5/30      8.48G     0.6588     0.8981      1.051         21        640:  20%|█▉        | 87/442 [03:10<12:44,"
     ]
    },
    {
     "name": "stdout",
     "output_type": "stream",
     "text": [
      "[GPU 모니터] 메모리 할당: 8371.8MB, 예약: 8686.0MB\n"
     ]
    },
    {
     "name": "stderr",
     "output_type": "stream",
     "text": [
      "       5/30      8.48G     0.6542     0.8967      1.053         16        640:  26%|██▌       | 114/442 [04:09<12:07"
     ]
    },
    {
     "name": "stdout",
     "output_type": "stream",
     "text": [
      "[GPU 모니터] 메모리 할당: 1563.4MB, 예약: 8686.0MB\n"
     ]
    },
    {
     "name": "stderr",
     "output_type": "stream",
     "text": [
      "       5/30      8.48G     0.6569     0.9039      1.055         19        640:  32%|███▏      | 142/442 [05:10<10:47"
     ]
    },
    {
     "name": "stdout",
     "output_type": "stream",
     "text": [
      "[GPU 모니터] 메모리 할당: 8334.3MB, 예약: 8686.0MB\n"
     ]
    },
    {
     "name": "stderr",
     "output_type": "stream",
     "text": [
      "       5/30      8.48G     0.6608     0.9107      1.057         18        640:  38%|███▊      | 169/442 [06:10<10:16"
     ]
    },
    {
     "name": "stdout",
     "output_type": "stream",
     "text": [
      "[GPU 모니터] 메모리 할당: 1601.4MB, 예약: 8686.0MB\n"
     ]
    },
    {
     "name": "stderr",
     "output_type": "stream",
     "text": [
      "       5/30      8.48G     0.6623     0.9154      1.056         17        640:  44%|████▍     | 196/442 [07:09<08:57"
     ]
    },
    {
     "name": "stdout",
     "output_type": "stream",
     "text": [
      "[GPU 모니터] 메모리 할당: 1563.4MB, 예약: 8686.0MB\n"
     ]
    },
    {
     "name": "stderr",
     "output_type": "stream",
     "text": [
      "       5/30      8.48G     0.6613     0.9158      1.056         16        640:  51%|█████     | 224/442 [08:10<07:54"
     ]
    },
    {
     "name": "stdout",
     "output_type": "stream",
     "text": [
      "[GPU 모니터] 메모리 할당: 8100.2MB, 예약: 8686.0MB\n"
     ]
    },
    {
     "name": "stderr",
     "output_type": "stream",
     "text": [
      "       5/30      8.48G     0.6649     0.9243      1.053         18        640:  57%|█████▋    | 251/442 [09:09<07:00"
     ]
    },
    {
     "name": "stdout",
     "output_type": "stream",
     "text": [
      "[GPU 모니터] 메모리 할당: 1601.4MB, 예약: 8686.0MB\n"
     ]
    },
    {
     "name": "stderr",
     "output_type": "stream",
     "text": [
      "       5/30      8.48G     0.6621     0.9244      1.052         20        640:  63%|██████▎   | 279/442 [10:10<05:51"
     ]
    },
    {
     "name": "stdout",
     "output_type": "stream",
     "text": [
      "[GPU 모니터] 메모리 할당: 8371.8MB, 예약: 8686.0MB\n"
     ]
    },
    {
     "name": "stderr",
     "output_type": "stream",
     "text": [
      "       5/30      8.48G     0.6627     0.9255      1.053         24        640:  69%|██████▉   | 306/442 [11:10<05:01"
     ]
    },
    {
     "name": "stdout",
     "output_type": "stream",
     "text": [
      "[GPU 모니터] 메모리 할당: 1563.4MB, 예약: 8686.0MB\n"
     ]
    },
    {
     "name": "stderr",
     "output_type": "stream",
     "text": [
      "       5/30      8.48G     0.6635     0.9213      1.051         16        640:  75%|███████▌  | 333/442 [12:09<03:57"
     ]
    },
    {
     "name": "stdout",
     "output_type": "stream",
     "text": [
      "[GPU 모니터] 메모리 할당: 1601.4MB, 예약: 8686.0MB\n"
     ]
    },
    {
     "name": "stderr",
     "output_type": "stream",
     "text": [
      "       5/30      8.48G     0.6602     0.9189      1.047         15        640:  81%|████████▏ | 360/442 [13:08<02:59"
     ]
    },
    {
     "name": "stdout",
     "output_type": "stream",
     "text": [
      "[GPU 모니터] 메모리 할당: 1563.4MB, 예약: 8686.0MB\n"
     ]
    },
    {
     "name": "stderr",
     "output_type": "stream",
     "text": [
      "       5/30      8.48G     0.6613     0.9156      1.046         19        640:  88%|████████▊ | 388/442 [14:10<01:58"
     ]
    },
    {
     "name": "stdout",
     "output_type": "stream",
     "text": [
      "[GPU 모니터] 메모리 할당: 8334.3MB, 예약: 8686.0MB\n"
     ]
    },
    {
     "name": "stderr",
     "output_type": "stream",
     "text": [
      "       5/30      8.48G     0.6608     0.9157      1.047         23        640:  94%|█████████▍| 415/442 [15:09<00:58"
     ]
    },
    {
     "name": "stdout",
     "output_type": "stream",
     "text": [
      "[GPU 모니터] 메모리 할당: 1601.4MB, 예약: 8686.0MB\n"
     ]
    },
    {
     "name": "stderr",
     "output_type": "stream",
     "text": [
      "       5/30      8.53G     0.6594      0.916      1.047          5        640: 100%|██████████| 442/442 [16:08<00:00\n",
      "                 Class     Images  Instances      Box(P          R      mAP50  mAP50-95):  12%|█▏        | 6/51 [00:"
     ]
    },
    {
     "name": "stdout",
     "output_type": "stream",
     "text": [
      "[GPU 모니터] 메모리 할당: 1197.2MB, 예약: 5224.0MB\n"
     ]
    },
    {
     "name": "stderr",
     "output_type": "stream",
     "text": [
      "                 Class     Images  Instances      Box(P          R      mAP50  mAP50-95): 100%|██████████| 51/51 [00"
     ]
    },
    {
     "name": "stdout",
     "output_type": "stream",
     "text": [
      "                   all        801        944      0.881      0.837      0.904      0.754\n"
     ]
    },
    {
     "name": "stderr",
     "output_type": "stream",
     "text": [
      "\n"
     ]
    },
    {
     "name": "stdout",
     "output_type": "stream",
     "text": [
      "\n",
      "      Epoch    GPU_mem   box_loss   cls_loss   dfl_loss  Instances       Size\n"
     ]
    },
    {
     "name": "stderr",
     "output_type": "stream",
     "text": [
      "       6/30      8.38G     0.6356     0.8365      1.058         21        640:   3%|▎         | 14/442 [00:39<23:04,"
     ]
    },
    {
     "name": "stdout",
     "output_type": "stream",
     "text": [
      "[GPU 모니터] 메모리 할당: 1236.3MB, 예약: 8580.0MB\n"
     ]
    },
    {
     "name": "stderr",
     "output_type": "stream",
     "text": [
      "       6/30      8.38G     0.6046     0.8753      1.038         19        640:   7%|▋         | 33/442 [01:40<21:55,"
     ]
    },
    {
     "name": "stdout",
     "output_type": "stream",
     "text": [
      "[GPU 모니터] 메모리 할당: 8047.6MB, 예약: 8580.0MB\n"
     ]
    },
    {
     "name": "stderr",
     "output_type": "stream",
     "text": [
      "       6/30      8.38G     0.6016     0.8641      1.027         15        640:  12%|█▏        | 52/442 [02:41<21:19,"
     ]
    },
    {
     "name": "stdout",
     "output_type": "stream",
     "text": [
      "[GPU 모니터] 메모리 할당: 8010.1MB, 예약: 8580.0MB\n"
     ]
    },
    {
     "name": "stderr",
     "output_type": "stream",
     "text": [
      "       6/30      8.38G     0.6189     0.8839      1.033         18        640:  16%|█▌        | 71/442 [03:41<19:16,"
     ]
    },
    {
     "name": "stdout",
     "output_type": "stream",
     "text": [
      "[GPU 모니터] 메모리 할당: 1236.3MB, 예약: 8580.0MB\n"
     ]
    },
    {
     "name": "stderr",
     "output_type": "stream",
     "text": [
      "       6/30      8.38G     0.6255     0.8766      1.032         10        640:  20%|██        | 89/442 [04:39<18:46,"
     ]
    },
    {
     "name": "stdout",
     "output_type": "stream",
     "text": [
      "[GPU 모니터] 메모리 할당: 1274.3MB, 예약: 8580.0MB\n"
     ]
    },
    {
     "name": "stderr",
     "output_type": "stream",
     "text": [
      "       6/30      8.38G     0.6285     0.8704      1.033         12        640:  24%|██▍       | 108/442 [05:41<18:27"
     ]
    },
    {
     "name": "stdout",
     "output_type": "stream",
     "text": [
      "[GPU 모니터] 메모리 할당: 8010.1MB, 예약: 8580.0MB\n"
     ]
    },
    {
     "name": "stderr",
     "output_type": "stream",
     "text": [
      "       6/30      8.38G     0.6258      0.863      1.037         13        640:  29%|██▊       | 126/442 [06:39<17:24"
     ]
    },
    {
     "name": "stdout",
     "output_type": "stream",
     "text": [
      "[GPU 모니터] 메모리 할당: 1236.3MB, 예약: 8580.0MB\n"
     ]
    },
    {
     "name": "stderr",
     "output_type": "stream",
     "text": [
      "       6/30      8.38G      0.623     0.8629      1.035         17        640:  33%|███▎      | 145/442 [07:40<15:51"
     ]
    },
    {
     "name": "stdout",
     "output_type": "stream",
     "text": [
      "[GPU 모니터] 메모리 할당: 1274.3MB, 예약: 8580.0MB\n"
     ]
    },
    {
     "name": "stderr",
     "output_type": "stream",
     "text": [
      "       6/30      8.38G     0.6316     0.8774      1.037         18        640:  37%|███▋      | 164/442 [08:41<15:05"
     ]
    },
    {
     "name": "stdout",
     "output_type": "stream",
     "text": [
      "[GPU 모니터] 메모리 할당: 8010.1MB, 예약: 8580.0MB\n"
     ]
    },
    {
     "name": "stderr",
     "output_type": "stream",
     "text": [
      "       6/30      8.38G     0.6344     0.8813      1.033         11        640:  41%|████▏     | 183/442 [09:41<13:14"
     ]
    },
    {
     "name": "stdout",
     "output_type": "stream",
     "text": [
      "[GPU 모니터] 메모리 할당: 8047.6MB, 예약: 8580.0MB\n"
     ]
    },
    {
     "name": "stderr",
     "output_type": "stream",
     "text": [
      "       6/30      8.38G     0.6392      0.886      1.034         22        640:  45%|████▌     | 201/442 [10:39<12:48"
     ]
    },
    {
     "name": "stdout",
     "output_type": "stream",
     "text": [
      "[GPU 모니터] 메모리 할당: 1274.3MB, 예약: 8580.0MB\n"
     ]
    },
    {
     "name": "stderr",
     "output_type": "stream",
     "text": [
      "       6/30      8.38G     0.6426     0.8814      1.034         12        640:  50%|████▉     | 220/442 [11:40<12:13"
     ]
    },
    {
     "name": "stdout",
     "output_type": "stream",
     "text": [
      "[GPU 모니터] 메모리 할당: 1236.3MB, 예약: 8580.0MB\n"
     ]
    },
    {
     "name": "stderr",
     "output_type": "stream",
     "text": [
      "       6/30      8.38G     0.6438     0.8801      1.034         21        640:  54%|█████▍    | 239/442 [12:40<10:19"
     ]
    },
    {
     "name": "stdout",
     "output_type": "stream",
     "text": [
      "[GPU 모니터] 메모리 할당: 8047.6MB, 예약: 8580.0MB\n"
     ]
    },
    {
     "name": "stderr",
     "output_type": "stream",
     "text": [
      "       6/30      8.38G     0.6389     0.8839      1.033         28        640:  58%|█████▊    | 258/442 [13:41<09:42"
     ]
    },
    {
     "name": "stdout",
     "output_type": "stream",
     "text": [
      "[GPU 모니터] 메모리 할당: 8010.1MB, 예약: 8580.0MB\n"
     ]
    },
    {
     "name": "stderr",
     "output_type": "stream",
     "text": [
      "       6/30      8.38G     0.6377     0.8846      1.035         12        640:  62%|██████▏   | 276/442 [14:39<09:10"
     ]
    },
    {
     "name": "stdout",
     "output_type": "stream",
     "text": [
      "[GPU 모니터] 메모리 할당: 1236.3MB, 예약: 8580.0MB\n"
     ]
    },
    {
     "name": "stderr",
     "output_type": "stream",
     "text": [
      "       6/30      8.38G     0.6409     0.8833      1.036         20        640:  67%|██████▋   | 295/442 [15:39<07:40"
     ]
    },
    {
     "name": "stdout",
     "output_type": "stream",
     "text": [
      "[GPU 모니터] 메모리 할당: 1274.3MB, 예약: 8580.0MB\n"
     ]
    },
    {
     "name": "stderr",
     "output_type": "stream",
     "text": [
      "       6/30      8.38G     0.6421     0.8817      1.037         18        640:  71%|███████   | 314/442 [16:41<06:56"
     ]
    },
    {
     "name": "stdout",
     "output_type": "stream",
     "text": [
      "[GPU 모니터] 메모리 할당: 8010.1MB, 예약: 8580.0MB\n"
     ]
    },
    {
     "name": "stderr",
     "output_type": "stream",
     "text": [
      "       6/30      8.38G     0.6438     0.8812      1.037         11        640:  75%|███████▌  | 332/442 [17:39<06:03"
     ]
    },
    {
     "name": "stdout",
     "output_type": "stream",
     "text": [
      "[GPU 모니터] 메모리 할당: 1236.3MB, 예약: 8580.0MB\n"
     ]
    },
    {
     "name": "stderr",
     "output_type": "stream",
     "text": [
      "       6/30      8.38G     0.6456     0.8887      1.038         23        640:  79%|███████▉  | 351/442 [18:39<04:44"
     ]
    },
    {
     "name": "stdout",
     "output_type": "stream",
     "text": [
      "[GPU 모니터] 메모리 할당: 1274.3MB, 예약: 8580.0MB\n"
     ]
    },
    {
     "name": "stderr",
     "output_type": "stream",
     "text": [
      "       6/30      8.38G     0.6463     0.8856      1.037         12        640:  84%|████████▎ | 370/442 [19:40<03:53"
     ]
    },
    {
     "name": "stdout",
     "output_type": "stream",
     "text": [
      "[GPU 모니터] 메모리 할당: 1236.3MB, 예약: 8580.0MB\n"
     ]
    },
    {
     "name": "stderr",
     "output_type": "stream",
     "text": [
      "       6/30      8.38G     0.6449     0.8871      1.037         18        640:  88%|████████▊ | 389/442 [20:40<02:44"
     ]
    },
    {
     "name": "stdout",
     "output_type": "stream",
     "text": [
      "[GPU 모니터] 메모리 할당: 8047.6MB, 예약: 8580.0MB\n"
     ]
    },
    {
     "name": "stderr",
     "output_type": "stream",
     "text": [
      "       6/30      8.38G      0.646     0.8881      1.037         17        640:  92%|█████████▏| 407/442 [21:38<01:47"
     ]
    },
    {
     "name": "stdout",
     "output_type": "stream",
     "text": [
      "[GPU 모니터] 메모리 할당: 1274.3MB, 예약: 8580.0MB\n"
     ]
    },
    {
     "name": "stderr",
     "output_type": "stream",
     "text": [
      "       6/30      8.38G      0.646     0.8887      1.037         16        640:  96%|█████████▋| 426/442 [22:39<00:51"
     ]
    },
    {
     "name": "stdout",
     "output_type": "stream",
     "text": [
      "[GPU 모니터] 메모리 할당: 1236.3MB, 예약: 8580.0MB\n"
     ]
    },
    {
     "name": "stderr",
     "output_type": "stream",
     "text": [
      "       6/30       8.4G     0.6448     0.8853      1.036          4        640: 100%|██████████| 442/442 [23:28<00:00\n",
      "                 Class     Images  Instances      Box(P          R      mAP50  mAP50-95):  71%|███████   | 36/51 [00"
     ]
    },
    {
     "name": "stdout",
     "output_type": "stream",
     "text": [
      "[GPU 모니터] 메모리 할당: 1170.1MB, 예약: 4414.0MB\n"
     ]
    },
    {
     "name": "stderr",
     "output_type": "stream",
     "text": [
      "                 Class     Images  Instances      Box(P          R      mAP50  mAP50-95): 100%|██████████| 51/51 [00"
     ]
    },
    {
     "name": "stdout",
     "output_type": "stream",
     "text": [
      "                   all        801        944       0.88       0.83      0.905      0.763\n"
     ]
    },
    {
     "name": "stderr",
     "output_type": "stream",
     "text": [
      "\n"
     ]
    },
    {
     "name": "stdout",
     "output_type": "stream",
     "text": [
      "\n",
      "      Epoch    GPU_mem   box_loss   cls_loss   dfl_loss  Instances       Size\n"
     ]
    },
    {
     "name": "stderr",
     "output_type": "stream",
     "text": [
      "       7/30      8.38G     0.6389     0.8695      1.038         13        640:   5%|▌         | 23/442 [00:52<16:46,"
     ]
    },
    {
     "name": "stdout",
     "output_type": "stream",
     "text": [
      "[GPU 모니터] 메모리 할당: 8053.5MB, 예약: 8576.0MB\n"
     ]
    },
    {
     "name": "stderr",
     "output_type": "stream",
     "text": [
      "       7/30      8.38G     0.6331      0.866      1.027         12        640:  11%|█         | 48/442 [01:50<15:01,"
     ]
    },
    {
     "name": "stdout",
     "output_type": "stream",
     "text": [
      "[GPU 모니터] 메모리 할당: 1238.4MB, 예약: 8576.0MB\n"
     ]
    },
    {
     "name": "stderr",
     "output_type": "stream",
     "text": [
      "       7/30      8.38G      0.649     0.8626      1.034         17        640:  17%|█▋        | 74/442 [02:51<13:54,"
     ]
    },
    {
     "name": "stdout",
     "output_type": "stream",
     "text": [
      "[GPU 모니터] 메모리 할당: 8016.3MB, 예약: 8576.0MB\n"
     ]
    },
    {
     "name": "stderr",
     "output_type": "stream",
     "text": [
      "       7/30      8.38G     0.6469     0.8616      1.038         13        640:  23%|██▎       | 100/442 [03:52<12:58"
     ]
    },
    {
     "name": "stdout",
     "output_type": "stream",
     "text": [
      "[GPU 모니터] 메모리 할당: 1041.5MB, 예약: 8576.0MB\n"
     ]
    },
    {
     "name": "stderr",
     "output_type": "stream",
     "text": [
      "       7/30      8.38G     0.6355     0.8613      1.034         11        640:  28%|██▊       | 125/442 [04:51<13:02"
     ]
    },
    {
     "name": "stdout",
     "output_type": "stream",
     "text": [
      "[GPU 모니터] 메모리 할당: 8053.5MB, 예약: 8576.0MB\n"
     ]
    },
    {
     "name": "stderr",
     "output_type": "stream",
     "text": [
      "       7/30      8.38G     0.6354     0.8562      1.037         18        640:  34%|███▍      | 151/442 [05:52<11:40"
     ]
    },
    {
     "name": "stdout",
     "output_type": "stream",
     "text": [
      "[GPU 모니터] 메모리 할당: 1238.4MB, 예약: 8576.0MB\n"
     ]
    },
    {
     "name": "stderr",
     "output_type": "stream",
     "text": [
      "       7/30      8.38G     0.6354     0.8638      1.036         15        640:  40%|███▉      | 176/442 [06:50<10:08"
     ]
    },
    {
     "name": "stdout",
     "output_type": "stream",
     "text": [
      "[GPU 모니터] 메모리 할당: 1238.4MB, 예약: 8576.0MB\n"
     ]
    },
    {
     "name": "stderr",
     "output_type": "stream",
     "text": [
      "       7/30      8.38G     0.6387     0.8683      1.036         12        640:  46%|████▌     | 202/442 [07:51<09:03"
     ]
    },
    {
     "name": "stdout",
     "output_type": "stream",
     "text": [
      "[GPU 모니터] 메모리 할당: 8016.2MB, 예약: 8576.0MB\n"
     ]
    },
    {
     "name": "stderr",
     "output_type": "stream",
     "text": [
      "       7/30      8.38G     0.6422     0.8709      1.038         21        640:  52%|█████▏    | 228/442 [08:52<08:07"
     ]
    },
    {
     "name": "stdout",
     "output_type": "stream",
     "text": [
      "[GPU 모니터] 메모리 할당: 1276.4MB, 예약: 8578.0MB\n"
     ]
    },
    {
     "name": "stderr",
     "output_type": "stream",
     "text": [
      "       7/30      8.38G     0.6462      0.865      1.038         14        640:  57%|█████▋    | 253/442 [09:52<07:46"
     ]
    },
    {
     "name": "stdout",
     "output_type": "stream",
     "text": [
      "[GPU 모니터] 메모리 할당: 8053.5MB, 예약: 8578.0MB\n"
     ]
    },
    {
     "name": "stderr",
     "output_type": "stream",
     "text": [
      "       7/30      8.38G      0.645     0.8634      1.038         10        640:  63%|██████▎   | 279/442 [10:52<06:31"
     ]
    },
    {
     "name": "stdout",
     "output_type": "stream",
     "text": [
      "[GPU 모니터] 메모리 할당: 1238.4MB, 예약: 8578.0MB\n"
     ]
    },
    {
     "name": "stderr",
     "output_type": "stream",
     "text": [
      "       7/30      8.38G     0.6454     0.8608      1.036         19        640:  69%|██████▉   | 304/442 [11:51<05:15"
     ]
    },
    {
     "name": "stdout",
     "output_type": "stream",
     "text": [
      "[GPU 모니터] 메모리 할당: 1238.4MB, 예약: 8578.0MB\n"
     ]
    },
    {
     "name": "stderr",
     "output_type": "stream",
     "text": [
      "       7/30      8.38G     0.6458     0.8604      1.036         17        640:  75%|███████▍  | 330/442 [12:52<04:14"
     ]
    },
    {
     "name": "stdout",
     "output_type": "stream",
     "text": [
      "[GPU 모니터] 메모리 할당: 8016.2MB, 예약: 8578.0MB\n"
     ]
    },
    {
     "name": "stderr",
     "output_type": "stream",
     "text": [
      "       7/30      8.38G     0.6481     0.8591      1.038         14        640:  80%|████████  | 355/442 [13:52<03:25"
     ]
    },
    {
     "name": "stdout",
     "output_type": "stream",
     "text": [
      "[GPU 모니터] 메모리 할당: 1276.4MB, 예약: 8578.0MB\n"
     ]
    },
    {
     "name": "stderr",
     "output_type": "stream",
     "text": [
      "       7/30      8.38G     0.6428     0.8555      1.036         25        640:  86%|████████▌ | 381/442 [14:52<02:30"
     ]
    },
    {
     "name": "stdout",
     "output_type": "stream",
     "text": [
      "[GPU 모니터] 메모리 할당: 8053.5MB, 예약: 8578.0MB\n"
     ]
    },
    {
     "name": "stderr",
     "output_type": "stream",
     "text": [
      "       7/30      8.38G     0.6419     0.8548      1.037         22        640:  92%|█████████▏| 406/442 [15:50<01:24"
     ]
    },
    {
     "name": "stdout",
     "output_type": "stream",
     "text": [
      "[GPU 모니터] 메모리 할당: 1238.4MB, 예약: 8578.0MB\n"
     ]
    },
    {
     "name": "stderr",
     "output_type": "stream",
     "text": [
      "       7/30      8.38G     0.6416     0.8593      1.038         18        640:  98%|█████████▊| 432/442 [16:51<00:22"
     ]
    },
    {
     "name": "stdout",
     "output_type": "stream",
     "text": [
      "[GPU 모니터] 메모리 할당: 1238.4MB, 예약: 8578.0MB\n"
     ]
    },
    {
     "name": "stderr",
     "output_type": "stream",
     "text": [
      "       7/30      8.42G     0.6402     0.8586      1.037          4        640: 100%|██████████| 442/442 [17:13<00:00\n",
      "                 Class     Images  Instances      Box(P          R      mAP50  mAP50-95): 100%|██████████| 51/51 [00"
     ]
    },
    {
     "name": "stdout",
     "output_type": "stream",
     "text": [
      "                   all        801        944      0.899      0.818      0.913      0.776\n"
     ]
    },
    {
     "name": "stderr",
     "output_type": "stream",
     "text": [
      "\n"
     ]
    },
    {
     "name": "stdout",
     "output_type": "stream",
     "text": [
      "\n",
      "      Epoch    GPU_mem   box_loss   cls_loss   dfl_loss  Instances       Size\n"
     ]
    },
    {
     "name": "stderr",
     "output_type": "stream",
     "text": [
      "       8/30      8.38G     0.7071     0.8656      1.069         19        640:   2%|▏         | 9/442 [00:18<15:05, "
     ]
    },
    {
     "name": "stdout",
     "output_type": "stream",
     "text": [
      "[GPU 모니터] 메모리 할당: 1241.1MB, 예약: 8580.0MB\n"
     ]
    },
    {
     "name": "stderr",
     "output_type": "stream",
     "text": [
      "       8/30      8.38G     0.6391     0.7935      1.031         24        640:   9%|▊         | 38/442 [01:17<13:33,"
     ]
    },
    {
     "name": "stdout",
     "output_type": "stream",
     "text": [
      "[GPU 모니터] 메모리 할당: 1241.1MB, 예약: 8580.0MB\n"
     ]
    },
    {
     "name": "stderr",
     "output_type": "stream",
     "text": [
      "       8/30      8.38G     0.6341     0.8277      1.042         17        640:  15%|█▌        | 67/442 [02:17<12:47,"
     ]
    },
    {
     "name": "stdout",
     "output_type": "stream",
     "text": [
      "[GPU 모니터] 메모리 할당: 1279.1MB, 예약: 8580.0MB\n"
     ]
    },
    {
     "name": "stderr",
     "output_type": "stream",
     "text": [
      "       8/30      8.38G     0.6413     0.8267      1.035         23        640:  22%|██▏       | 97/442 [03:18<12:00,"
     ]
    },
    {
     "name": "stdout",
     "output_type": "stream",
     "text": [
      "[GPU 모니터] 메모리 할당: 1241.1MB, 예약: 8580.0MB\n"
     ]
    },
    {
     "name": "stderr",
     "output_type": "stream",
     "text": [
      "       8/30      8.38G     0.6354     0.8192      1.033         16        640:  29%|██▊       | 126/442 [04:17<10:37"
     ]
    },
    {
     "name": "stdout",
     "output_type": "stream",
     "text": [
      "[GPU 모니터] 메모리 할당: 8019.8MB, 예약: 8580.0MB\n"
     ]
    },
    {
     "name": "stderr",
     "output_type": "stream",
     "text": [
      "       8/30      8.38G     0.6359     0.8175      1.036         18        640:  35%|███▌      | 155/442 [05:17<09:45"
     ]
    },
    {
     "name": "stdout",
     "output_type": "stream",
     "text": [
      "[GPU 모니터] 메모리 할당: 1279.1MB, 예약: 8580.0MB\n"
     ]
    },
    {
     "name": "stderr",
     "output_type": "stream",
     "text": [
      "       8/30      8.38G     0.6368     0.8301      1.038         17        640:  42%|████▏     | 185/442 [06:18<08:56"
     ]
    },
    {
     "name": "stdout",
     "output_type": "stream",
     "text": [
      "[GPU 모니터] 메모리 할당: 1241.1MB, 예약: 8580.0MB\n"
     ]
    },
    {
     "name": "stderr",
     "output_type": "stream",
     "text": [
      "       8/30      8.38G     0.6354     0.8343      1.038         14        640:  48%|████▊     | 214/442 [07:17<07:39"
     ]
    },
    {
     "name": "stdout",
     "output_type": "stream",
     "text": [
      "[GPU 모니터] 메모리 할당: 1241.1MB, 예약: 8580.0MB\n"
     ]
    },
    {
     "name": "stderr",
     "output_type": "stream",
     "text": [
      "       8/30      8.38G     0.6335     0.8299      1.037         15        640:  55%|█████▍    | 243/442 [08:17<06:45"
     ]
    },
    {
     "name": "stdout",
     "output_type": "stream",
     "text": [
      "[GPU 모니터] 메모리 할당: 1279.1MB, 예약: 8580.0MB\n"
     ]
    },
    {
     "name": "stderr",
     "output_type": "stream",
     "text": [
      "       8/30      8.38G     0.6339     0.8336      1.033         20        640:  62%|██████▏   | 273/442 [09:18<05:52"
     ]
    },
    {
     "name": "stdout",
     "output_type": "stream",
     "text": [
      "[GPU 모니터] 메모리 할당: 8056.6MB, 예약: 8580.0MB\n"
     ]
    },
    {
     "name": "stderr",
     "output_type": "stream",
     "text": [
      "       8/30      8.38G     0.6326     0.8325      1.032         15        640:  68%|██████▊   | 302/442 [10:17<04:41"
     ]
    },
    {
     "name": "stdout",
     "output_type": "stream",
     "text": [
      "[GPU 모니터] 메모리 할당: 1241.1MB, 예약: 8580.0MB\n"
     ]
    },
    {
     "name": "stderr",
     "output_type": "stream",
     "text": [
      "       8/30      8.38G     0.6341     0.8309      1.032         11        640:  75%|███████▌  | 332/442 [11:18<03:39"
     ]
    },
    {
     "name": "stdout",
     "output_type": "stream",
     "text": [
      "[GPU 모니터] 메모리 할당: 1279.1MB, 예약: 8580.0MB\n"
     ]
    },
    {
     "name": "stderr",
     "output_type": "stream",
     "text": [
      "       8/30      8.38G     0.6309     0.8282      1.032         10        640:  82%|████████▏ | 361/442 [12:18<02:48"
     ]
    },
    {
     "name": "stdout",
     "output_type": "stream",
     "text": [
      "[GPU 모니터] 메모리 할당: 8056.6MB, 예약: 8580.0MB\n"
     ]
    },
    {
     "name": "stderr",
     "output_type": "stream",
     "text": [
      "       8/30      8.38G     0.6322     0.8322      1.034         25        640:  88%|████████▊ | 390/442 [13:17<01:44"
     ]
    },
    {
     "name": "stdout",
     "output_type": "stream",
     "text": [
      "[GPU 모니터] 메모리 할당: 1241.1MB, 예약: 8580.0MB\n"
     ]
    },
    {
     "name": "stderr",
     "output_type": "stream",
     "text": [
      "       8/30      8.38G     0.6321     0.8324      1.035         17        640:  95%|█████████▌| 420/442 [14:18<00:44"
     ]
    },
    {
     "name": "stdout",
     "output_type": "stream",
     "text": [
      "[GPU 모니터] 메모리 할당: 1279.1MB, 예약: 8580.0MB\n"
     ]
    },
    {
     "name": "stderr",
     "output_type": "stream",
     "text": [
      "       8/30      8.42G     0.6323     0.8354      1.033          2        640: 100%|██████████| 442/442 [15:02<00:00\n",
      "                 Class     Images  Instances      Box(P          R      mAP50  mAP50-95):  82%|████████▏ | 42/51 [00"
     ]
    },
    {
     "name": "stdout",
     "output_type": "stream",
     "text": [
      "[GPU 모니터] 메모리 할당: 966.2MB, 예약: 3920.0MB\n"
     ]
    },
    {
     "name": "stderr",
     "output_type": "stream",
     "text": [
      "                 Class     Images  Instances      Box(P          R      mAP50  mAP50-95): 100%|██████████| 51/51 [00"
     ]
    },
    {
     "name": "stdout",
     "output_type": "stream",
     "text": [
      "                   all        801        944      0.923      0.864      0.925      0.781\n"
     ]
    },
    {
     "name": "stderr",
     "output_type": "stream",
     "text": [
      "\n"
     ]
    },
    {
     "name": "stdout",
     "output_type": "stream",
     "text": [
      "\n",
      "      Epoch    GPU_mem   box_loss   cls_loss   dfl_loss  Instances       Size\n"
     ]
    },
    {
     "name": "stderr",
     "output_type": "stream",
     "text": [
      "       9/30      8.48G     0.6746     0.8298      1.044         17        640:   5%|▍         | 20/442 [00:54<19:11,"
     ]
    },
    {
     "name": "stdout",
     "output_type": "stream",
     "text": [
      "[GPU 모니터] 메모리 할당: 8331.9MB, 예약: 8686.0MB\n"
     ]
    },
    {
     "name": "stderr",
     "output_type": "stream",
     "text": [
      "       9/30      8.48G     0.6455     0.8052       1.03         22        640:  10%|▉         | 42/442 [01:54<17:34,"
     ]
    },
    {
     "name": "stdout",
     "output_type": "stream",
     "text": [
      "[GPU 모니터] 메모리 할당: 1564.4MB, 예약: 8686.0MB\n"
     ]
    },
    {
     "name": "stderr",
     "output_type": "stream",
     "text": [
      "       9/30      8.48G     0.6537      0.837      1.038         17        640:  14%|█▍        | 64/442 [02:55<17:50,"
     ]
    },
    {
     "name": "stdout",
     "output_type": "stream",
     "text": [
      "[GPU 모니터] 메모리 할당: 8100.6MB, 예약: 8686.0MB\n"
     ]
    },
    {
     "name": "stderr",
     "output_type": "stream",
     "text": [
      "       9/30      8.48G     0.6571     0.8384      1.037         14        640:  19%|█▉        | 86/442 [03:54<16:27,"
     ]
    },
    {
     "name": "stdout",
     "output_type": "stream",
     "text": [
      "[GPU 모니터] 메모리 할당: 8331.9MB, 예약: 8686.0MB\n"
     ]
    },
    {
     "name": "stderr",
     "output_type": "stream",
     "text": [
      "       9/30      8.48G     0.6457     0.8283       1.03         23        640:  24%|██▍       | 108/442 [04:54<15:11"
     ]
    },
    {
     "name": "stdout",
     "output_type": "stream",
     "text": [
      "[GPU 모니터] 메모리 할당: 1564.4MB, 예약: 8686.0MB\n"
     ]
    },
    {
     "name": "stderr",
     "output_type": "stream",
     "text": [
      "       9/30      8.48G     0.6477     0.8231      1.032         16        640:  29%|██▉       | 130/442 [05:53<13:43"
     ]
    },
    {
     "name": "stdout",
     "output_type": "stream",
     "text": [
      "[GPU 모니터] 메모리 할당: 1564.4MB, 예약: 8686.0MB\n"
     ]
    },
    {
     "name": "stderr",
     "output_type": "stream",
     "text": [
      "       9/30      8.48G     0.6458     0.8285      1.032         17        640:  34%|███▍      | 152/442 [06:54<13:41"
     ]
    },
    {
     "name": "stdout",
     "output_type": "stream",
     "text": [
      "[GPU 모니터] 메모리 할당: 8100.6MB, 예약: 8686.0MB\n"
     ]
    },
    {
     "name": "stderr",
     "output_type": "stream",
     "text": [
      "       9/30      8.48G     0.6442     0.8398      1.036         15        640:  39%|███▉      | 174/442 [07:54<12:23"
     ]
    },
    {
     "name": "stdout",
     "output_type": "stream",
     "text": [
      "[GPU 모니터] 메모리 할당: 1564.4MB, 예약: 8686.0MB\n"
     ]
    },
    {
     "name": "stderr",
     "output_type": "stream",
     "text": [
      "       9/30      8.48G     0.6455     0.8401      1.038         22        640:  44%|████▍     | 196/442 [08:53<11:11"
     ]
    },
    {
     "name": "stdout",
     "output_type": "stream",
     "text": [
      "[GPU 모니터] 메모리 할당: 1564.4MB, 예약: 8686.0MB\n"
     ]
    },
    {
     "name": "stderr",
     "output_type": "stream",
     "text": [
      "       9/30      8.48G     0.6473     0.8362      1.036         16        640:  49%|████▉     | 218/442 [09:53<09:49"
     ]
    },
    {
     "name": "stdout",
     "output_type": "stream",
     "text": [
      "[GPU 모니터] 메모리 할당: 1564.4MB, 예약: 8686.0MB\n"
     ]
    },
    {
     "name": "stderr",
     "output_type": "stream",
     "text": [
      "       9/30      8.48G     0.6544     0.8376      1.039         19        640:  54%|█████▍    | 240/442 [10:53<09:32"
     ]
    },
    {
     "name": "stdout",
     "output_type": "stream",
     "text": [
      "[GPU 모니터] 메모리 할당: 1564.4MB, 예약: 8686.0MB\n"
     ]
    },
    {
     "name": "stderr",
     "output_type": "stream",
     "text": [
      "       9/30      8.48G     0.6468     0.8329      1.035         22        640:  59%|█████▉    | 262/442 [11:53<08:18"
     ]
    },
    {
     "name": "stdout",
     "output_type": "stream",
     "text": [
      "[GPU 모니터] 메모리 할당: 1564.4MB, 예약: 8686.0MB\n"
     ]
    },
    {
     "name": "stderr",
     "output_type": "stream",
     "text": [
      "       9/30      8.48G     0.6438     0.8331      1.034         16        640:  64%|██████▍   | 284/442 [12:52<07:11"
     ]
    },
    {
     "name": "stdout",
     "output_type": "stream",
     "text": [
      "[GPU 모니터] 메모리 할당: 1564.4MB, 예약: 8686.0MB\n"
     ]
    },
    {
     "name": "stderr",
     "output_type": "stream",
     "text": [
      "       9/30      8.48G     0.6417     0.8327      1.032         21        640:  69%|██████▉   | 307/442 [13:55<06:02"
     ]
    },
    {
     "name": "stdout",
     "output_type": "stream",
     "text": [
      "[GPU 모니터] 메모리 할당: 1564.4MB, 예약: 8686.0MB\n"
     ]
    },
    {
     "name": "stderr",
     "output_type": "stream",
     "text": [
      "       9/30      8.48G      0.638     0.8295      1.031         21        640:  74%|███████▍  | 329/442 [14:55<04:48"
     ]
    },
    {
     "name": "stdout",
     "output_type": "stream",
     "text": [
      "[GPU 모니터] 메모리 할당: 8369.2MB, 예약: 8686.0MB\n"
     ]
    },
    {
     "name": "stderr",
     "output_type": "stream",
     "text": [
      "       9/30      8.48G     0.6383     0.8265      1.032         14        640:  79%|███████▉  | 351/442 [15:55<04:13"
     ]
    },
    {
     "name": "stdout",
     "output_type": "stream",
     "text": [
      "[GPU 모니터] 메모리 할당: 1564.4MB, 예약: 8686.0MB\n"
     ]
    },
    {
     "name": "stderr",
     "output_type": "stream",
     "text": [
      "       9/30      8.48G     0.6368     0.8261      1.031         19        640:  84%|████████▍ | 373/442 [16:55<03:10"
     ]
    },
    {
     "name": "stdout",
     "output_type": "stream",
     "text": [
      "[GPU 모니터] 메모리 할당: 8369.2MB, 예약: 8686.0MB\n"
     ]
    },
    {
     "name": "stderr",
     "output_type": "stream",
     "text": [
      "       9/30      8.48G      0.636     0.8237      1.032         17        640:  89%|████████▉ | 395/442 [17:54<02:06"
     ]
    },
    {
     "name": "stdout",
     "output_type": "stream",
     "text": [
      "[GPU 모니터] 메모리 할당: 8369.2MB, 예약: 8686.0MB\n"
     ]
    },
    {
     "name": "stderr",
     "output_type": "stream",
     "text": [
      "       9/30      8.48G     0.6365     0.8245      1.032         26        640:  94%|█████████▍| 417/442 [18:54<01:03"
     ]
    },
    {
     "name": "stdout",
     "output_type": "stream",
     "text": [
      "[GPU 모니터] 메모리 할당: 1602.4MB, 예약: 8686.0MB\n"
     ]
    },
    {
     "name": "stderr",
     "output_type": "stream",
     "text": [
      "       9/30      8.48G     0.6359     0.8252      1.031         12        640:  99%|█████████▉| 439/442 [19:54<00:08"
     ]
    },
    {
     "name": "stdout",
     "output_type": "stream",
     "text": [
      "[GPU 모니터] 메모리 할당: 8369.2MB, 예약: 8686.0MB\n"
     ]
    },
    {
     "name": "stderr",
     "output_type": "stream",
     "text": [
      "       9/30      8.53G     0.6365     0.8253      1.032          4        640: 100%|██████████| 442/442 [20:00<00:00\n",
      "                 Class     Images  Instances      Box(P          R      mAP50  mAP50-95): 100%|██████████| 51/51 [00"
     ]
    },
    {
     "name": "stdout",
     "output_type": "stream",
     "text": [
      "                   all        801        944      0.901      0.852      0.925      0.779\n"
     ]
    },
    {
     "name": "stderr",
     "output_type": "stream",
     "text": [
      "\n"
     ]
    },
    {
     "name": "stdout",
     "output_type": "stream",
     "text": [
      "\n",
      "      Epoch    GPU_mem   box_loss   cls_loss   dfl_loss  Instances       Size\n"
     ]
    },
    {
     "name": "stderr",
     "output_type": "stream",
     "text": [
      "      10/30      8.39G     0.6498     0.7884      1.056         19        640:   2%|▏         | 10/442 [00:32<21:33,"
     ]
    },
    {
     "name": "stdout",
     "output_type": "stream",
     "text": [
      "[GPU 모니터] 메모리 할당: 1234.6MB, 예약: 8588.0MB\n"
     ]
    },
    {
     "name": "stderr",
     "output_type": "stream",
     "text": [
      "      10/30      8.39G     0.6199     0.7412      1.029         25        640:   7%|▋         | 31/442 [01:33<20:14,"
     ]
    },
    {
     "name": "stdout",
     "output_type": "stream",
     "text": [
      "[GPU 모니터] 메모리 할당: 8043.4MB, 예약: 8588.0MB\n"
     ]
    },
    {
     "name": "stderr",
     "output_type": "stream",
     "text": [
      "      10/30      8.39G     0.6235      0.761      1.039         20        640:  12%|█▏        | 52/442 [02:33<18:27,"
     ]
    },
    {
     "name": "stdout",
     "output_type": "stream",
     "text": [
      "[GPU 모니터] 메모리 할당: 8005.9MB, 예약: 8588.0MB\n"
     ]
    },
    {
     "name": "stderr",
     "output_type": "stream",
     "text": [
      "      10/30      8.39G     0.6277     0.8005      1.042         23        640:  17%|█▋        | 73/442 [03:33<17:42,"
     ]
    },
    {
     "name": "stdout",
     "output_type": "stream",
     "text": [
      "[GPU 모니터] 메모리 할당: 8043.4MB, 예약: 8588.0MB\n"
     ]
    },
    {
     "name": "stderr",
     "output_type": "stream",
     "text": [
      "      10/30      8.39G     0.6189     0.8043       1.04         17        640:  21%|██▏       | 94/442 [04:33<16:28,"
     ]
    },
    {
     "name": "stdout",
     "output_type": "stream",
     "text": [
      "[GPU 모니터] 메모리 할당: 7776.5MB, 예약: 8588.0MB\n"
     ]
    },
    {
     "name": "stderr",
     "output_type": "stream",
     "text": [
      "      10/30      8.39G     0.6143     0.7898      1.032         23        640:  26%|██▌       | 115/442 [05:34<15:37"
     ]
    },
    {
     "name": "stdout",
     "output_type": "stream",
     "text": [
      "[GPU 모니터] 메모리 할당: 8043.4MB, 예약: 8588.0MB\n"
     ]
    },
    {
     "name": "stderr",
     "output_type": "stream",
     "text": [
      "      10/30      8.39G     0.6145     0.7828      1.029         18        640:  31%|███       | 135/442 [06:31<15:05"
     ]
    },
    {
     "name": "stdout",
     "output_type": "stream",
     "text": [
      "[GPU 모니터] 메모리 할당: 1272.6MB, 예약: 8588.0MB\n"
     ]
    },
    {
     "name": "stderr",
     "output_type": "stream",
     "text": [
      "      10/30      8.39G     0.6152     0.7774      1.025         20        640:  35%|███▌      | 156/442 [07:34<13:20"
     ]
    },
    {
     "name": "stdout",
     "output_type": "stream",
     "text": [
      "[GPU 모니터] 메모리 할당: 1234.6MB, 예약: 8588.0MB\n"
     ]
    },
    {
     "name": "stderr",
     "output_type": "stream",
     "text": [
      "      10/30      8.39G     0.6086      0.773      1.024         17        640:  40%|████      | 177/442 [08:31<12:42"
     ]
    },
    {
     "name": "stdout",
     "output_type": "stream",
     "text": [
      "[GPU 모니터] 메모리 할당: 1272.6MB, 예약: 8588.0MB\n"
     ]
    },
    {
     "name": "stderr",
     "output_type": "stream",
     "text": [
      "      10/30      8.39G     0.6048     0.7831      1.021         27        640:  45%|████▍     | 198/442 [09:31<11:32"
     ]
    },
    {
     "name": "stdout",
     "output_type": "stream",
     "text": [
      "[GPU 모니터] 메모리 할당: 1234.6MB, 예약: 8588.0MB\n"
     ]
    },
    {
     "name": "stderr",
     "output_type": "stream",
     "text": [
      "      10/30      8.39G     0.6062     0.7861       1.02         15        640:  50%|████▉     | 219/442 [10:32<10:37"
     ]
    },
    {
     "name": "stdout",
     "output_type": "stream",
     "text": [
      "[GPU 모니터] 메모리 할당: 1272.6MB, 예약: 8588.0MB\n"
     ]
    },
    {
     "name": "stderr",
     "output_type": "stream",
     "text": [
      "      10/30      8.39G     0.6064     0.7957      1.022         17        640:  54%|█████▍    | 240/442 [11:32<09:45"
     ]
    },
    {
     "name": "stdout",
     "output_type": "stream",
     "text": [
      "[GPU 모니터] 메모리 할당: 7829.3MB, 예약: 8588.0MB\n"
     ]
    },
    {
     "name": "stderr",
     "output_type": "stream",
     "text": [
      "      10/30      8.39G     0.6063     0.7971      1.022         17        640:  59%|█████▉    | 261/442 [12:32<08:34"
     ]
    },
    {
     "name": "stdout",
     "output_type": "stream",
     "text": [
      "[GPU 모니터] 메모리 할당: 8043.5MB, 예약: 8588.0MB\n"
     ]
    },
    {
     "name": "stderr",
     "output_type": "stream",
     "text": [
      "      10/30      8.39G     0.6127     0.7992      1.024         16        640:  64%|██████▍   | 282/442 [13:33<07:34"
     ]
    },
    {
     "name": "stdout",
     "output_type": "stream",
     "text": [
      "[GPU 모니터] 메모리 할당: 8005.9MB, 예약: 8588.0MB\n"
     ]
    },
    {
     "name": "stderr",
     "output_type": "stream",
     "text": [
      "      10/30      8.39G     0.6139     0.8004      1.025         15        640:  69%|██████▊   | 303/442 [14:33<06:48"
     ]
    },
    {
     "name": "stdout",
     "output_type": "stream",
     "text": [
      "[GPU 모니터] 메모리 할당: 8043.4MB, 예약: 8588.0MB\n"
     ]
    },
    {
     "name": "stderr",
     "output_type": "stream",
     "text": [
      "      10/30      8.39G     0.6144     0.7979      1.025         15        640:  73%|███████▎  | 324/442 [15:33<05:35"
     ]
    },
    {
     "name": "stdout",
     "output_type": "stream",
     "text": [
      "[GPU 모니터] 메모리 할당: 8005.9MB, 예약: 8588.0MB\n"
     ]
    },
    {
     "name": "stderr",
     "output_type": "stream",
     "text": [
      "      10/30      8.39G     0.6151     0.7953      1.024         18        640:  78%|███████▊  | 345/442 [16:33<04:39"
     ]
    },
    {
     "name": "stdout",
     "output_type": "stream",
     "text": [
      "[GPU 모니터] 메모리 할당: 8043.4MB, 예약: 8588.0MB\n"
     ]
    },
    {
     "name": "stderr",
     "output_type": "stream",
     "text": [
      "      10/30      8.39G     0.6149     0.7913      1.023         24        640:  83%|████████▎ | 366/442 [17:33<03:35"
     ]
    },
    {
     "name": "stdout",
     "output_type": "stream",
     "text": [
      "[GPU 모니터] 메모리 할당: 7776.5MB, 예약: 8588.0MB\n"
     ]
    },
    {
     "name": "stderr",
     "output_type": "stream",
     "text": [
      "      10/30      8.39G     0.6131     0.7871      1.022         18        640:  88%|████████▊ | 387/442 [18:33<02:38"
     ]
    },
    {
     "name": "stdout",
     "output_type": "stream",
     "text": [
      "[GPU 모니터] 메모리 할당: 8043.4MB, 예약: 8588.0MB\n"
     ]
    },
    {
     "name": "stderr",
     "output_type": "stream",
     "text": [
      "      10/30      8.39G     0.6109     0.7831      1.021         16        640:  92%|█████████▏| 408/442 [19:34<01:38"
     ]
    },
    {
     "name": "stdout",
     "output_type": "stream",
     "text": [
      "[GPU 모니터] 메모리 할당: 8005.9MB, 예약: 8588.0MB\n"
     ]
    },
    {
     "name": "stderr",
     "output_type": "stream",
     "text": [
      "      10/30      8.39G     0.6121     0.7834       1.02         15        640:  97%|█████████▋| 429/442 [20:33<00:36"
     ]
    },
    {
     "name": "stdout",
     "output_type": "stream",
     "text": [
      "[GPU 모니터] 메모리 할당: 8043.4MB, 예약: 8588.0MB\n"
     ]
    },
    {
     "name": "stderr",
     "output_type": "stream",
     "text": [
      "      10/30      8.41G     0.6141     0.7817      1.021          7        640: 100%|██████████| 442/442 [21:09<00:00\n",
      "                 Class     Images  Instances      Box(P          R      mAP50  mAP50-95): 100%|██████████| 51/51 [00"
     ]
    },
    {
     "name": "stdout",
     "output_type": "stream",
     "text": [
      "                   all        801        944      0.907      0.855      0.929      0.788\n"
     ]
    },
    {
     "name": "stderr",
     "output_type": "stream",
     "text": [
      "\n"
     ]
    },
    {
     "name": "stdout",
     "output_type": "stream",
     "text": [
      "\n",
      "      Epoch    GPU_mem   box_loss   cls_loss   dfl_loss  Instances       Size\n"
     ]
    },
    {
     "name": "stderr",
     "output_type": "stream",
     "text": [
      "      11/30      8.37G     0.7363     0.8105      1.028         20        640:   0%|          | 1/442 [00:02<15:40, "
     ]
    },
    {
     "name": "stdout",
     "output_type": "stream",
     "text": [
      "[GPU 모니터] 메모리 할당: 1270.9MB, 예약: 8568.0MB\n"
     ]
    },
    {
     "name": "stderr",
     "output_type": "stream",
     "text": [
      "      11/30      8.37G     0.6339     0.8997      1.048         14        640:   5%|▍         | 22/442 [01:02<19:44,"
     ]
    },
    {
     "name": "stdout",
     "output_type": "stream",
     "text": [
      "[GPU 모니터] 메모리 할당: 1235.6MB, 예약: 8572.0MB\n"
     ]
    },
    {
     "name": "stderr",
     "output_type": "stream",
     "text": [
      "      11/30      8.37G     0.6251     0.8614      1.039         24        640:  10%|▉         | 43/442 [02:01<19:00,"
     ]
    },
    {
     "name": "stdout",
     "output_type": "stream",
     "text": [
      "[GPU 모니터] 메모리 할당: 1273.6MB, 예약: 8572.0MB\n"
     ]
    },
    {
     "name": "stderr",
     "output_type": "stream",
     "text": [
      "      11/30      8.37G     0.5991     0.8369      1.024         21        640:  14%|█▍        | 64/442 [03:01<17:33,"
     ]
    },
    {
     "name": "stdout",
     "output_type": "stream",
     "text": [
      "[GPU 모니터] 메모리 할당: 1235.6MB, 예약: 8572.0MB\n"
     ]
    },
    {
     "name": "stderr",
     "output_type": "stream",
     "text": [
      "      11/30      8.37G     0.6004     0.8149      1.027         24        640:  19%|█▉        | 85/442 [04:01<17:24,"
     ]
    },
    {
     "name": "stdout",
     "output_type": "stream",
     "text": [
      "[GPU 모니터] 메모리 할당: 1273.6MB, 예약: 8572.0MB\n"
     ]
    },
    {
     "name": "stderr",
     "output_type": "stream",
     "text": [
      "      11/30      8.37G     0.5932     0.7961      1.021         12        640:  24%|██▍       | 107/442 [05:03<15:57"
     ]
    },
    {
     "name": "stdout",
     "output_type": "stream",
     "text": [
      "[GPU 모니터] 메모리 할당: 1235.6MB, 예약: 8572.0MB\n"
     ]
    },
    {
     "name": "stderr",
     "output_type": "stream",
     "text": [
      "      11/30      8.37G     0.5908     0.7941      1.018         14        640:  29%|██▉       | 128/442 [06:03<14:34"
     ]
    },
    {
     "name": "stdout",
     "output_type": "stream",
     "text": [
      "[GPU 모니터] 메모리 할당: 8012.8MB, 예약: 8572.0MB\n"
     ]
    },
    {
     "name": "stderr",
     "output_type": "stream",
     "text": [
      "      11/30      8.37G     0.5922     0.7797      1.015         22        640:  34%|███▎      | 149/442 [07:03<14:17"
     ]
    },
    {
     "name": "stdout",
     "output_type": "stream",
     "text": [
      "[GPU 모니터] 메모리 할당: 8050.3MB, 예약: 8572.0MB\n"
     ]
    },
    {
     "name": "stderr",
     "output_type": "stream",
     "text": [
      "      11/30      8.37G     0.5919     0.7714      1.014         19        640:  38%|███▊      | 170/442 [08:02<12:35"
     ]
    },
    {
     "name": "stdout",
     "output_type": "stream",
     "text": [
      "[GPU 모니터] 메모리 할당: 8012.8MB, 예약: 8572.0MB\n"
     ]
    },
    {
     "name": "stderr",
     "output_type": "stream",
     "text": [
      "      11/30      8.37G     0.6006     0.7786      1.016         13        640:  43%|████▎     | 191/442 [09:02<12:04"
     ]
    },
    {
     "name": "stdout",
     "output_type": "stream",
     "text": [
      "[GPU 모니터] 메모리 할당: 8050.3MB, 예약: 8572.0MB\n"
     ]
    },
    {
     "name": "stderr",
     "output_type": "stream",
     "text": [
      "      11/30      8.37G     0.6056     0.7824      1.015         18        640:  48%|████▊     | 212/442 [10:01<10:46"
     ]
    },
    {
     "name": "stdout",
     "output_type": "stream",
     "text": [
      "[GPU 모니터] 메모리 할당: 1235.6MB, 예약: 8572.0MB\n"
     ]
    },
    {
     "name": "stderr",
     "output_type": "stream",
     "text": [
      "      11/30      8.37G      0.605     0.7767      1.016         17        640:  53%|█████▎    | 233/442 [11:01<09:58"
     ]
    },
    {
     "name": "stdout",
     "output_type": "stream",
     "text": [
      "[GPU 모니터] 메모리 할당: 1273.6MB, 예약: 8572.0MB\n"
     ]
    },
    {
     "name": "stderr",
     "output_type": "stream",
     "text": [
      "      11/30      8.37G      0.607     0.7714      1.017         17        640:  57%|█████▋    | 254/442 [12:01<08:49"
     ]
    },
    {
     "name": "stdout",
     "output_type": "stream",
     "text": [
      "[GPU 모니터] 메모리 할당: 1235.6MB, 예약: 8572.0MB\n"
     ]
    },
    {
     "name": "stderr",
     "output_type": "stream",
     "text": [
      "      11/30      8.37G     0.6079     0.7704      1.018         15        640:  62%|██████▏   | 275/442 [13:01<07:56"
     ]
    },
    {
     "name": "stdout",
     "output_type": "stream",
     "text": [
      "[GPU 모니터] 메모리 할당: 1273.6MB, 예약: 8572.0MB\n"
     ]
    },
    {
     "name": "stderr",
     "output_type": "stream",
     "text": [
      "      11/30      8.37G      0.608     0.7702      1.016         17        640:  67%|██████▋   | 296/442 [14:00<06:47"
     ]
    },
    {
     "name": "stdout",
     "output_type": "stream",
     "text": [
      "[GPU 모니터] 메모리 할당: 1235.6MB, 예약: 8572.0MB\n"
     ]
    },
    {
     "name": "stderr",
     "output_type": "stream",
     "text": [
      "      11/30      8.37G     0.6098     0.7694      1.017         17        640:  72%|███████▏  | 318/442 [15:03<05:49"
     ]
    },
    {
     "name": "stdout",
     "output_type": "stream",
     "text": [
      "[GPU 모니터] 메모리 할당: 8012.8MB, 예약: 8572.0MB\n"
     ]
    },
    {
     "name": "stderr",
     "output_type": "stream",
     "text": [
      "      11/30      8.37G     0.6131     0.7723      1.016         16        640:  77%|███████▋  | 339/442 [16:03<04:54"
     ]
    },
    {
     "name": "stdout",
     "output_type": "stream",
     "text": [
      "[GPU 모니터] 메모리 할당: 8050.3MB, 예약: 8572.0MB\n"
     ]
    },
    {
     "name": "stderr",
     "output_type": "stream",
     "text": [
      "      11/30      8.37G     0.6129       0.77      1.016         16        640:  81%|████████▏ | 360/442 [17:02<03:49"
     ]
    },
    {
     "name": "stdout",
     "output_type": "stream",
     "text": [
      "[GPU 모니터] 메모리 할당: 8012.8MB, 예약: 8572.0MB\n"
     ]
    },
    {
     "name": "stderr",
     "output_type": "stream",
     "text": [
      "      11/30      8.37G     0.6134     0.7658      1.017         19        640:  86%|████████▌ | 381/442 [18:02<02:58"
     ]
    },
    {
     "name": "stdout",
     "output_type": "stream",
     "text": [
      "[GPU 모니터] 메모리 할당: 8050.3MB, 예약: 8572.0MB\n"
     ]
    },
    {
     "name": "stderr",
     "output_type": "stream",
     "text": [
      "      11/30      8.37G      0.616     0.7644      1.018         24        640:  91%|█████████ | 402/442 [19:01<01:51"
     ]
    },
    {
     "name": "stdout",
     "output_type": "stream",
     "text": [
      "[GPU 모니터] 메모리 할당: 1235.6MB, 예약: 8572.0MB\n"
     ]
    },
    {
     "name": "stderr",
     "output_type": "stream",
     "text": [
      "      11/30      8.37G     0.6134     0.7602      1.017         14        640:  96%|█████████▌| 423/442 [20:01<00:54"
     ]
    },
    {
     "name": "stdout",
     "output_type": "stream",
     "text": [
      "[GPU 모니터] 메모리 할당: 1273.6MB, 예약: 8572.0MB\n"
     ]
    },
    {
     "name": "stderr",
     "output_type": "stream",
     "text": [
      "      11/30      8.42G     0.6108     0.7607      1.017          2        640: 100%|██████████| 442/442 [20:53<00:00\n",
      "                 Class     Images  Instances      Box(P          R      mAP50  mAP50-95):  49%|████▉     | 25/51 [00"
     ]
    },
    {
     "name": "stdout",
     "output_type": "stream",
     "text": [
      "[GPU 모니터] 메모리 할당: 1198.9MB, 예약: 4528.0MB\n"
     ]
    },
    {
     "name": "stderr",
     "output_type": "stream",
     "text": [
      "                 Class     Images  Instances      Box(P          R      mAP50  mAP50-95): 100%|██████████| 51/51 [00"
     ]
    },
    {
     "name": "stdout",
     "output_type": "stream",
     "text": [
      "                   all        801        944       0.91      0.865      0.931      0.795\n"
     ]
    },
    {
     "name": "stderr",
     "output_type": "stream",
     "text": [
      "\n"
     ]
    },
    {
     "name": "stdout",
     "output_type": "stream",
     "text": [
      "\n",
      "      Epoch    GPU_mem   box_loss   cls_loss   dfl_loss  Instances       Size\n"
     ]
    },
    {
     "name": "stderr",
     "output_type": "stream",
     "text": [
      "      12/30      8.38G     0.5753     0.7511     0.9841         21        640:   7%|▋         | 33/442 [00:48<09:34,"
     ]
    },
    {
     "name": "stdout",
     "output_type": "stream",
     "text": [
      "[GPU 모니터] 메모리 할당: 1236.6MB, 예약: 8576.0MB\n"
     ]
    },
    {
     "name": "stderr",
     "output_type": "stream",
     "text": [
      "      12/30      8.38G     0.5856     0.7439     0.9882         20        640:  17%|█▋        | 74/442 [01:47<08:37,"
     ]
    },
    {
     "name": "stdout",
     "output_type": "stream",
     "text": [
      "[GPU 모니터] 메모리 할당: 1236.6MB, 예약: 8576.0MB\n"
     ]
    },
    {
     "name": "stderr",
     "output_type": "stream",
     "text": [
      "      12/30      8.38G      0.577     0.7376     0.9886         19        640:  26%|██▌       | 116/442 [02:47<07:55"
     ]
    },
    {
     "name": "stdout",
     "output_type": "stream",
     "text": [
      "[GPU 모니터] 메모리 할당: 1236.6MB, 예약: 8576.0MB\n"
     ]
    },
    {
     "name": "stderr",
     "output_type": "stream",
     "text": [
      "      12/30      8.38G     0.5832     0.7586     0.9933         18        640:  36%|███▌      | 158/442 [03:47<06:40"
     ]
    },
    {
     "name": "stdout",
     "output_type": "stream",
     "text": [
      "[GPU 모니터] 메모리 할당: 1236.6MB, 예약: 8576.0MB\n"
     ]
    },
    {
     "name": "stderr",
     "output_type": "stream",
     "text": [
      "      12/30      8.38G     0.5832     0.7498     0.9947         15        640:  45%|████▌     | 200/442 [04:47<05:37"
     ]
    },
    {
     "name": "stdout",
     "output_type": "stream",
     "text": [
      "[GPU 모니터] 메모리 할당: 1236.6MB, 예약: 8576.0MB\n"
     ]
    },
    {
     "name": "stderr",
     "output_type": "stream",
     "text": [
      "      12/30      8.38G     0.5829     0.7538     0.9949         15        640:  55%|█████▍    | 242/442 [05:48<04:40"
     ]
    },
    {
     "name": "stdout",
     "output_type": "stream",
     "text": [
      "[GPU 모니터] 메모리 할당: 7781.8MB, 예약: 8576.0MB\n"
     ]
    },
    {
     "name": "stderr",
     "output_type": "stream",
     "text": [
      "      12/30      8.38G     0.5827     0.7526     0.9978         19        640:  64%|██████▍   | 284/442 [06:48<03:49"
     ]
    },
    {
     "name": "stdout",
     "output_type": "stream",
     "text": [
      "[GPU 모니터] 메모리 할당: 8017.5MB, 예약: 8576.0MB\n"
     ]
    },
    {
     "name": "stderr",
     "output_type": "stream",
     "text": [
      "      12/30      8.38G     0.5862     0.7468     0.9985         26        640:  74%|███████▍  | 326/442 [07:48<02:44"
     ]
    },
    {
     "name": "stdout",
     "output_type": "stream",
     "text": [
      "[GPU 모니터] 메모리 할당: 8017.5MB, 예약: 8576.0MB\n"
     ]
    },
    {
     "name": "stderr",
     "output_type": "stream",
     "text": [
      "      12/30      8.38G     0.5903     0.7498          1         15        640:  83%|████████▎ | 368/442 [08:48<01:42"
     ]
    },
    {
     "name": "stdout",
     "output_type": "stream",
     "text": [
      "[GPU 모니터] 메모리 할당: 7028.4MB, 예약: 8576.0MB\n"
     ]
    },
    {
     "name": "stderr",
     "output_type": "stream",
     "text": [
      "      12/30      8.38G     0.6007     0.7513      1.005         20        640:  93%|█████████▎| 410/442 [09:48<00:44"
     ]
    },
    {
     "name": "stdout",
     "output_type": "stream",
     "text": [
      "[GPU 모니터] 메모리 할당: 1274.6MB, 예약: 8576.0MB\n"
     ]
    },
    {
     "name": "stderr",
     "output_type": "stream",
     "text": [
      "      12/30      8.42G     0.6008     0.7511      1.006          9        640: 100%|██████████| 442/442 [10:34<00:00\n",
      "                 Class     Images  Instances      Box(P          R      mAP50  mAP50-95):  75%|███████▍  | 38/51 [00"
     ]
    },
    {
     "name": "stdout",
     "output_type": "stream",
     "text": [
      "[GPU 모니터] 메모리 할당: 965.7MB, 예약: 3910.0MB\n"
     ]
    },
    {
     "name": "stderr",
     "output_type": "stream",
     "text": [
      "                 Class     Images  Instances      Box(P          R      mAP50  mAP50-95): 100%|██████████| 51/51 [00"
     ]
    },
    {
     "name": "stdout",
     "output_type": "stream",
     "text": [
      "                   all        801        944      0.915       0.84      0.923      0.786\n"
     ]
    },
    {
     "name": "stderr",
     "output_type": "stream",
     "text": [
      "\n"
     ]
    },
    {
     "name": "stdout",
     "output_type": "stream",
     "text": [
      "\n",
      "      Epoch    GPU_mem   box_loss   cls_loss   dfl_loss  Instances       Size\n"
     ]
    },
    {
     "name": "stderr",
     "output_type": "stream",
     "text": [
      "      13/30      8.55G     0.5723      0.699      1.012         14        640:   5%|▌         | 23/442 [00:53<16:46,"
     ]
    },
    {
     "name": "stdout",
     "output_type": "stream",
     "text": [
      "[GPU 모니터] 메모리 할당: 8371.9MB, 예약: 8760.0MB\n"
     ]
    },
    {
     "name": "stderr",
     "output_type": "stream",
     "text": [
      "      13/30      8.55G     0.5607     0.6993      1.008         16        640:  11%|█         | 48/442 [01:53<16:07,"
     ]
    },
    {
     "name": "stdout",
     "output_type": "stream",
     "text": [
      "[GPU 모니터] 메모리 할당: 8103.2MB, 예약: 8760.0MB\n"
     ]
    },
    {
     "name": "stderr",
     "output_type": "stream",
     "text": [
      "      13/30      8.55G     0.5663     0.7026      1.001         12        640:  17%|█▋        | 73/442 [02:52<14:25,"
     ]
    },
    {
     "name": "stdout",
     "output_type": "stream",
     "text": [
      "[GPU 모니터] 메모리 할당: 1601.2MB, 예약: 8760.0MB\n"
     ]
    },
    {
     "name": "stderr",
     "output_type": "stream",
     "text": [
      "      13/30      8.55G     0.5824     0.7165      1.008         16        640:  22%|██▏       | 98/442 [03:53<13:38,"
     ]
    },
    {
     "name": "stdout",
     "output_type": "stream",
     "text": [
      "[GPU 모니터] 메모리 할당: 1563.2MB, 예약: 8760.0MB\n"
     ]
    },
    {
     "name": "stderr",
     "output_type": "stream",
     "text": [
      "      13/30      8.55G     0.5836     0.7326      1.006         16        640:  28%|██▊       | 123/442 [04:52<12:38"
     ]
    },
    {
     "name": "stdout",
     "output_type": "stream",
     "text": [
      "[GPU 모니터] 메모리 할당: 1601.2MB, 예약: 8760.0MB\n"
     ]
    },
    {
     "name": "stderr",
     "output_type": "stream",
     "text": [
      "      13/30      8.55G     0.5891     0.7344      1.005         17        640:  33%|███▎      | 148/442 [05:52<11:46"
     ]
    },
    {
     "name": "stdout",
     "output_type": "stream",
     "text": [
      "[GPU 모니터] 메모리 할당: 1563.2MB, 예약: 8760.0MB\n"
     ]
    },
    {
     "name": "stderr",
     "output_type": "stream",
     "text": [
      "      13/30      8.55G     0.5917     0.7437      1.001         16        640:  39%|███▉      | 173/442 [06:52<10:44"
     ]
    },
    {
     "name": "stdout",
     "output_type": "stream",
     "text": [
      "[GPU 모니터] 메모리 할당: 1601.2MB, 예약: 8760.0MB\n"
     ]
    },
    {
     "name": "stderr",
     "output_type": "stream",
     "text": [
      "      13/30      8.55G     0.5914     0.7364      1.001         14        640:  45%|████▍     | 198/442 [07:52<09:48"
     ]
    },
    {
     "name": "stdout",
     "output_type": "stream",
     "text": [
      "[GPU 모니터] 메모리 할당: 1563.2MB, 예약: 8760.0MB\n"
     ]
    },
    {
     "name": "stderr",
     "output_type": "stream",
     "text": [
      "      13/30      8.55G     0.5975     0.7419      1.004         21        640:  50%|█████     | 223/442 [08:52<08:48"
     ]
    },
    {
     "name": "stdout",
     "output_type": "stream",
     "text": [
      "[GPU 모니터] 메모리 할당: 1601.2MB, 예약: 8760.0MB\n"
     ]
    },
    {
     "name": "stderr",
     "output_type": "stream",
     "text": [
      "      13/30      8.55G     0.5961     0.7457      1.004          7        640:  56%|█████▌    | 248/442 [09:52<07:55"
     ]
    },
    {
     "name": "stdout",
     "output_type": "stream",
     "text": [
      "[GPU 모니터] 메모리 할당: 1563.2MB, 예약: 8760.0MB\n"
     ]
    },
    {
     "name": "stderr",
     "output_type": "stream",
     "text": [
      "      13/30      8.55G     0.5917       0.74      1.004         22        640:  62%|██████▏   | 273/442 [10:52<06:35"
     ]
    },
    {
     "name": "stdout",
     "output_type": "stream",
     "text": [
      "[GPU 모니터] 메모리 할당: 1601.2MB, 예약: 8760.0MB\n"
     ]
    },
    {
     "name": "stderr",
     "output_type": "stream",
     "text": [
      "      13/30      8.55G     0.5899     0.7348      1.004         18        640:  67%|██████▋   | 298/442 [11:52<05:41"
     ]
    },
    {
     "name": "stdout",
     "output_type": "stream",
     "text": [
      "[GPU 모니터] 메모리 할당: 1563.2MB, 예약: 8760.0MB\n"
     ]
    },
    {
     "name": "stderr",
     "output_type": "stream",
     "text": [
      "      13/30      8.55G     0.5933     0.7352      1.007         17        640:  73%|███████▎  | 323/442 [12:52<04:43"
     ]
    },
    {
     "name": "stdout",
     "output_type": "stream",
     "text": [
      "[GPU 모니터] 메모리 할당: 1601.2MB, 예약: 8760.0MB\n"
     ]
    },
    {
     "name": "stderr",
     "output_type": "stream",
     "text": [
      "      13/30      8.55G     0.5969     0.7398      1.009         20        640:  79%|███████▊  | 348/442 [13:52<03:45"
     ]
    },
    {
     "name": "stdout",
     "output_type": "stream",
     "text": [
      "[GPU 모니터] 메모리 할당: 1563.2MB, 예약: 8760.0MB\n"
     ]
    },
    {
     "name": "stderr",
     "output_type": "stream",
     "text": [
      "      13/30      8.55G     0.5962     0.7371      1.009         18        640:  84%|████████▍ | 373/442 [14:52<02:45"
     ]
    },
    {
     "name": "stdout",
     "output_type": "stream",
     "text": [
      "[GPU 모니터] 메모리 할당: 1601.2MB, 예약: 8760.0MB\n"
     ]
    },
    {
     "name": "stderr",
     "output_type": "stream",
     "text": [
      "      13/30      8.55G     0.5988     0.7393       1.01         17        640:  90%|█████████ | 398/442 [15:51<01:45"
     ]
    },
    {
     "name": "stdout",
     "output_type": "stream",
     "text": [
      "[GPU 모니터] 메모리 할당: 1563.2MB, 예약: 8760.0MB\n"
     ]
    },
    {
     "name": "stderr",
     "output_type": "stream",
     "text": [
      "      13/30      8.55G     0.5977     0.7392       1.01         12        640:  96%|█████████▌| 423/442 [16:51<00:45"
     ]
    },
    {
     "name": "stdout",
     "output_type": "stream",
     "text": [
      "[GPU 모니터] 메모리 할당: 1601.2MB, 예약: 8760.0MB\n"
     ]
    },
    {
     "name": "stderr",
     "output_type": "stream",
     "text": [
      "      13/30       8.6G     0.5967     0.7432       1.01          3        640: 100%|██████████| 442/442 [17:36<00:00\n",
      "                 Class     Images  Instances      Box(P          R      mAP50  mAP50-95):  92%|█████████▏| 47/51 [00"
     ]
    },
    {
     "name": "stdout",
     "output_type": "stream",
     "text": [
      "[GPU 모니터] 메모리 할당: 1218.6MB, 예약: 5058.0MB\n"
     ]
    },
    {
     "name": "stderr",
     "output_type": "stream",
     "text": [
      "                 Class     Images  Instances      Box(P          R      mAP50  mAP50-95): 100%|██████████| 51/51 [00"
     ]
    },
    {
     "name": "stdout",
     "output_type": "stream",
     "text": [
      "                   all        801        944      0.935      0.869      0.936      0.793\n"
     ]
    },
    {
     "name": "stderr",
     "output_type": "stream",
     "text": [
      "\n"
     ]
    },
    {
     "name": "stdout",
     "output_type": "stream",
     "text": [
      "\n",
      "      Epoch    GPU_mem   box_loss   cls_loss   dfl_loss  Instances       Size\n"
     ]
    },
    {
     "name": "stderr",
     "output_type": "stream",
     "text": [
      "      14/30      8.39G     0.5828     0.7711      1.017         15        640:   9%|▉         | 41/442 [00:56<08:10,"
     ]
    },
    {
     "name": "stdout",
     "output_type": "stream",
     "text": [
      "[GPU 모니터] 메모리 할당: 8043.6MB, 예약: 8588.0MB\n"
     ]
    },
    {
     "name": "stderr",
     "output_type": "stream",
     "text": [
      "      14/30      8.39G     0.5633      0.756      1.004         13        640:  20%|██        | 90/442 [01:56<07:05,"
     ]
    },
    {
     "name": "stdout",
     "output_type": "stream",
     "text": [
      "[GPU 모니터] 메모리 할당: 8029.9MB, 예약: 8588.0MB\n"
     ]
    },
    {
     "name": "stderr",
     "output_type": "stream",
     "text": [
      "      14/30      8.39G     0.5722     0.7449      1.001         15        640:  31%|███▏      | 139/442 [02:56<06:14"
     ]
    },
    {
     "name": "stdout",
     "output_type": "stream",
     "text": [
      "[GPU 모니터] 메모리 할당: 6467.8MB, 예약: 8588.0MB\n"
     ]
    },
    {
     "name": "stderr",
     "output_type": "stream",
     "text": [
      "      14/30      8.39G     0.5817     0.7378      1.004         12        640:  43%|████▎     | 188/442 [03:56<05:09"
     ]
    },
    {
     "name": "stdout",
     "output_type": "stream",
     "text": [
      "[GPU 모니터] 메모리 할당: 1234.9MB, 예약: 8588.0MB\n"
     ]
    },
    {
     "name": "stderr",
     "output_type": "stream",
     "text": [
      "      14/30      8.39G      0.576     0.7327      1.005         15        640:  54%|█████▎    | 237/442 [04:56<04:18"
     ]
    },
    {
     "name": "stdout",
     "output_type": "stream",
     "text": [
      "[GPU 모니터] 메모리 할당: 1272.9MB, 예약: 8588.0MB\n"
     ]
    },
    {
     "name": "stderr",
     "output_type": "stream",
     "text": [
      "      14/30      8.39G     0.5824     0.7308      1.006         23        640:  65%|██████▍   | 286/442 [05:57<03:16"
     ]
    },
    {
     "name": "stdout",
     "output_type": "stream",
     "text": [
      "[GPU 모니터] 메모리 할당: 7772.2MB, 예약: 8588.0MB\n"
     ]
    },
    {
     "name": "stderr",
     "output_type": "stream",
     "text": [
      "      14/30      8.39G     0.5887     0.7297      1.011         19        640:  76%|███████▌  | 335/442 [06:56<02:06"
     ]
    },
    {
     "name": "stdout",
     "output_type": "stream",
     "text": [
      "[GPU 모니터] 메모리 할당: 8043.6MB, 예약: 8588.0MB\n"
     ]
    },
    {
     "name": "stderr",
     "output_type": "stream",
     "text": [
      "      14/30      8.39G     0.5912     0.7349       1.01         14        640:  87%|████████▋ | 384/442 [07:56<01:08"
     ]
    },
    {
     "name": "stdout",
     "output_type": "stream",
     "text": [
      "[GPU 모니터] 메모리 할당: 8006.1MB, 예약: 8588.0MB\n"
     ]
    },
    {
     "name": "stderr",
     "output_type": "stream",
     "text": [
      "      14/30      8.39G     0.5922     0.7334      1.009         13        640:  98%|█████████▊| 433/442 [08:56<00:10"
     ]
    },
    {
     "name": "stdout",
     "output_type": "stream",
     "text": [
      "[GPU 모니터] 메모리 할당: 8043.6MB, 예약: 8588.0MB\n"
     ]
    },
    {
     "name": "stderr",
     "output_type": "stream",
     "text": [
      "      14/30      8.41G     0.5935     0.7315       1.01          2        640: 100%|██████████| 442/442 [09:06<00:00\n",
      "                 Class     Images  Instances      Box(P          R      mAP50  mAP50-95): 100%|██████████| 51/51 [00"
     ]
    },
    {
     "name": "stdout",
     "output_type": "stream",
     "text": [
      "                   all        801        944      0.928      0.865      0.942      0.798\n"
     ]
    },
    {
     "name": "stderr",
     "output_type": "stream",
     "text": [
      "\n"
     ]
    },
    {
     "name": "stdout",
     "output_type": "stream",
     "text": [
      "\n",
      "      Epoch    GPU_mem   box_loss   cls_loss   dfl_loss  Instances       Size\n"
     ]
    },
    {
     "name": "stderr",
     "output_type": "stream",
     "text": [
      "      15/30      8.37G     0.5847     0.7559     0.9957         19        640:   2%|▏         | 9/442 [00:27<25:28, "
     ]
    },
    {
     "name": "stdout",
     "output_type": "stream",
     "text": [
      "[GPU 모니터] 메모리 할당: 1276.5MB, 예약: 8570.0MB\n"
     ]
    },
    {
     "name": "stderr",
     "output_type": "stream",
     "text": [
      "      15/30      8.37G     0.5741     0.7541      1.016         19        640:   6%|▌         | 25/442 [01:28<25:59,"
     ]
    },
    {
     "name": "stdout",
     "output_type": "stream",
     "text": [
      "[GPU 모니터] 메모리 할당: 8052.5MB, 예약: 8572.0MB\n"
     ]
    },
    {
     "name": "stderr",
     "output_type": "stream",
     "text": [
      "      15/30      8.37G     0.5719      0.719      1.012         19        640:   9%|▉         | 40/442 [02:26<25:23,"
     ]
    },
    {
     "name": "stdout",
     "output_type": "stream",
     "text": [
      "[GPU 모니터] 메모리 할당: 1238.5MB, 예약: 8572.0MB\n"
     ]
    },
    {
     "name": "stderr",
     "output_type": "stream",
     "text": [
      "      15/30      8.37G      0.563     0.6991      1.004         19        640:  13%|█▎        | 56/442 [03:27<24:21,"
     ]
    },
    {
     "name": "stdout",
     "output_type": "stream",
     "text": [
      "[GPU 모니터] 메모리 할당: 1238.5MB, 예약: 8572.0MB\n"
     ]
    },
    {
     "name": "stderr",
     "output_type": "stream",
     "text": [
      "      15/30      8.37G     0.5719     0.6963      1.013         27        640:  16%|█▋        | 72/442 [04:28<23:20,"
     ]
    },
    {
     "name": "stdout",
     "output_type": "stream",
     "text": [
      "[GPU 모니터] 메모리 할당: 8014.5MB, 예약: 8572.0MB\n"
     ]
    },
    {
     "name": "stderr",
     "output_type": "stream",
     "text": [
      "      15/30      8.37G     0.5682     0.6949      1.009         20        640:  20%|█▉        | 87/442 [05:25<22:51,"
     ]
    },
    {
     "name": "stdout",
     "output_type": "stream",
     "text": [
      "[GPU 모니터] 메모리 할당: 1276.5MB, 예약: 8572.0MB\n"
     ]
    },
    {
     "name": "stderr",
     "output_type": "stream",
     "text": [
      "      15/30      8.37G     0.5671     0.6938      1.005         17        640:  23%|██▎       | 103/442 [06:26<21:49"
     ]
    },
    {
     "name": "stdout",
     "output_type": "stream",
     "text": [
      "[GPU 모니터] 메모리 할당: 1276.5MB, 예약: 8572.0MB\n"
     ]
    },
    {
     "name": "stderr",
     "output_type": "stream",
     "text": [
      "      15/30      8.37G     0.5636     0.6904          1         23        640:  27%|██▋       | 119/442 [07:28<20:48"
     ]
    },
    {
     "name": "stdout",
     "output_type": "stream",
     "text": [
      "[GPU 모니터] 메모리 할당: 1276.5MB, 예약: 8572.0MB\n"
     ]
    },
    {
     "name": "stderr",
     "output_type": "stream",
     "text": [
      "      15/30      8.37G     0.5665        0.7      1.004         17        640:  31%|███       | 135/442 [08:29<19:46"
     ]
    },
    {
     "name": "stdout",
     "output_type": "stream",
     "text": [
      "[GPU 모니터] 메모리 할당: 8052.5MB, 예약: 8572.0MB\n"
     ]
    },
    {
     "name": "stderr",
     "output_type": "stream",
     "text": [
      "      15/30      8.37G     0.5585     0.6943     0.9996         26        640:  34%|███▍      | 150/442 [09:26<19:18"
     ]
    },
    {
     "name": "stdout",
     "output_type": "stream",
     "text": [
      "[GPU 모니터] 메모리 할당: 1238.5MB, 예약: 8572.0MB\n"
     ]
    },
    {
     "name": "stderr",
     "output_type": "stream",
     "text": [
      "      15/30      8.37G     0.5649     0.6906      1.003         20        640:  38%|███▊      | 166/442 [10:27<18:16"
     ]
    },
    {
     "name": "stdout",
     "output_type": "stream",
     "text": [
      "[GPU 모니터] 메모리 할당: 1238.5MB, 예약: 8572.0MB\n"
     ]
    },
    {
     "name": "stderr",
     "output_type": "stream",
     "text": [
      "      15/30      8.37G     0.5633     0.6819      1.003         18        640:  41%|████      | 182/442 [11:28<17:13"
     ]
    },
    {
     "name": "stdout",
     "output_type": "stream",
     "text": [
      "[GPU 모니터] 메모리 할당: 8014.5MB, 예약: 8572.0MB\n"
     ]
    },
    {
     "name": "stderr",
     "output_type": "stream",
     "text": [
      "      15/30      8.37G     0.5611     0.6794      1.004          9        640:  45%|████▍     | 197/442 [12:26<16:50"
     ]
    },
    {
     "name": "stdout",
     "output_type": "stream",
     "text": [
      "[GPU 모니터] 메모리 할당: 1276.5MB, 예약: 8572.0MB\n"
     ]
    },
    {
     "name": "stderr",
     "output_type": "stream",
     "text": [
      "      15/30      8.37G     0.5614     0.6812      1.004         20        640:  48%|████▊     | 213/442 [13:27<15:43"
     ]
    },
    {
     "name": "stdout",
     "output_type": "stream",
     "text": [
      "[GPU 모니터] 메모리 할당: 1276.5MB, 예약: 8572.0MB\n"
     ]
    },
    {
     "name": "stderr",
     "output_type": "stream",
     "text": [
      "      15/30      8.37G     0.5633     0.6849      1.005         19        640:  52%|█████▏    | 229/442 [14:28<14:38"
     ]
    },
    {
     "name": "stdout",
     "output_type": "stream",
     "text": [
      "[GPU 모니터] 메모리 할당: 8052.5MB, 예약: 8572.0MB\n"
     ]
    },
    {
     "name": "stderr",
     "output_type": "stream",
     "text": [
      "      15/30      8.37G     0.5618     0.6828      1.003         12        640:  55%|█████▌    | 245/442 [15:29<13:32"
     ]
    },
    {
     "name": "stdout",
     "output_type": "stream",
     "text": [
      "[GPU 모니터] 메모리 할당: 1238.5MB, 예약: 8572.0MB\n"
     ]
    },
    {
     "name": "stderr",
     "output_type": "stream",
     "text": [
      "      15/30      8.37G     0.5641     0.6853      1.004         12        640:  59%|█████▉    | 260/442 [16:25<11:11"
     ]
    },
    {
     "name": "stdout",
     "output_type": "stream",
     "text": [
      "[GPU 모니터] 메모리 할당: 1238.5MB, 예약: 8572.0MB\n"
     ]
    },
    {
     "name": "stderr",
     "output_type": "stream",
     "text": [
      "      15/30      8.37G     0.5657     0.6882      1.004         16        640:  62%|██████▏   | 276/442 [17:26<10:11"
     ]
    },
    {
     "name": "stdout",
     "output_type": "stream",
     "text": [
      "[GPU 모니터] 메모리 할당: 1238.5MB, 예약: 8572.0MB\n"
     ]
    },
    {
     "name": "stderr",
     "output_type": "stream",
     "text": [
      "      15/30      8.37G      0.569     0.6905      1.004         21        640:  66%|██████▌   | 292/442 [18:27<09:12"
     ]
    },
    {
     "name": "stdout",
     "output_type": "stream",
     "text": [
      "[GPU 모니터] 메모리 할당: 1238.5MB, 예약: 8572.0MB\n"
     ]
    },
    {
     "name": "stderr",
     "output_type": "stream",
     "text": [
      "      15/30      8.37G     0.5684       0.69      1.004         17        640:  70%|██████▉   | 308/442 [19:28<08:13"
     ]
    },
    {
     "name": "stdout",
     "output_type": "stream",
     "text": [
      "[GPU 모니터] 메모리 할당: 7778.7MB, 예약: 8572.0MB\n"
     ]
    },
    {
     "name": "stderr",
     "output_type": "stream",
     "text": [
      "      15/30      8.37G     0.5674     0.6881      1.005         24        640:  73%|███████▎  | 323/442 [20:25<07:16"
     ]
    },
    {
     "name": "stdout",
     "output_type": "stream",
     "text": [
      "[GPU 모니터] 메모리 할당: 1276.5MB, 예약: 8572.0MB\n"
     ]
    },
    {
     "name": "stderr",
     "output_type": "stream",
     "text": [
      "      15/30      8.37G     0.5675     0.6913      1.006         18        640:  77%|███████▋  | 339/442 [21:27<06:18"
     ]
    },
    {
     "name": "stdout",
     "output_type": "stream",
     "text": [
      "[GPU 모니터] 메모리 할당: 1276.5MB, 예약: 8572.0MB\n"
     ]
    },
    {
     "name": "stderr",
     "output_type": "stream",
     "text": [
      "      15/30      8.37G      0.569     0.6943      1.007         15        640:  80%|████████  | 355/442 [22:28<05:19"
     ]
    },
    {
     "name": "stdout",
     "output_type": "stream",
     "text": [
      "[GPU 모니터] 메모리 할당: 5240.0MB, 예약: 8572.0MB\n"
     ]
    },
    {
     "name": "stderr",
     "output_type": "stream",
     "text": [
      "      15/30      8.37G       0.57     0.6973      1.006         17        640:  84%|████████▍ | 371/442 [23:29<04:21"
     ]
    },
    {
     "name": "stdout",
     "output_type": "stream",
     "text": [
      "[GPU 모니터] 메모리 할당: 1238.5MB, 예약: 8572.0MB\n"
     ]
    },
    {
     "name": "stderr",
     "output_type": "stream",
     "text": [
      "      15/30      8.37G       0.57      0.697      1.006         19        640:  87%|████████▋ | 386/442 [24:26<03:27"
     ]
    },
    {
     "name": "stdout",
     "output_type": "stream",
     "text": [
      "[GPU 모니터] 메모리 할당: 1238.5MB, 예약: 8572.0MB\n"
     ]
    },
    {
     "name": "stderr",
     "output_type": "stream",
     "text": [
      "      15/30      8.37G      0.569     0.6961      1.005         13        640:  91%|█████████ | 402/442 [25:27<02:28"
     ]
    },
    {
     "name": "stdout",
     "output_type": "stream",
     "text": [
      "[GPU 모니터] 메모리 할당: 1238.5MB, 예약: 8572.0MB\n"
     ]
    },
    {
     "name": "stderr",
     "output_type": "stream",
     "text": [
      "      15/30      8.37G     0.5697     0.6976      1.006         17        640:  95%|█████████▍| 418/442 [26:28<01:28"
     ]
    },
    {
     "name": "stdout",
     "output_type": "stream",
     "text": [
      "[GPU 모니터] 메모리 할당: 8014.5MB, 예약: 8572.0MB\n"
     ]
    },
    {
     "name": "stderr",
     "output_type": "stream",
     "text": [
      "      15/30      8.37G     0.5718     0.6964      1.006         17        640:  98%|█████████▊| 433/442 [27:26<00:33"
     ]
    },
    {
     "name": "stdout",
     "output_type": "stream",
     "text": [
      "[GPU 모니터] 메모리 할당: 1276.5MB, 예약: 8572.0MB\n"
     ]
    },
    {
     "name": "stderr",
     "output_type": "stream",
     "text": [
      "      15/30      8.42G     0.5705     0.6923      1.006          6        640: 100%|██████████| 442/442 [27:57<00:00\n",
      "                 Class     Images  Instances      Box(P          R      mAP50  mAP50-95): 100%|██████████| 51/51 [00"
     ]
    },
    {
     "name": "stdout",
     "output_type": "stream",
     "text": [
      "                   all        801        944      0.934      0.878      0.945      0.809\n"
     ]
    },
    {
     "name": "stderr",
     "output_type": "stream",
     "text": [
      "\n"
     ]
    },
    {
     "name": "stdout",
     "output_type": "stream",
     "text": [
      "\n",
      "      Epoch    GPU_mem   box_loss   cls_loss   dfl_loss  Instances       Size\n"
     ]
    },
    {
     "name": "stderr",
     "output_type": "stream",
     "text": [
      "      16/30      8.37G      0.534     0.7262     0.9845         18        640:   1%|          | 4/442 [00:08<16:52, "
     ]
    },
    {
     "name": "stdout",
     "output_type": "stream",
     "text": [
      "[GPU 모니터] 메모리 할당: 1237.9MB, 예약: 8574.0MB\n"
     ]
    },
    {
     "name": "stderr",
     "output_type": "stream",
     "text": [
      "      16/30      8.37G     0.5979     0.6817       1.03         18        640:   6%|▋         | 28/442 [01:08<17:18,"
     ]
    },
    {
     "name": "stdout",
     "output_type": "stream",
     "text": [
      "[GPU 모니터] 메모리 할당: 1237.9MB, 예약: 8574.0MB\n"
     ]
    },
    {
     "name": "stderr",
     "output_type": "stream",
     "text": [
      "      16/30      8.37G     0.5798     0.6595          1         22        640:  12%|█▏        | 52/442 [02:09<16:17,"
     ]
    },
    {
     "name": "stdout",
     "output_type": "stream",
     "text": [
      "[GPU 모니터] 메모리 할당: 1237.9MB, 예약: 8574.0MB\n"
     ]
    },
    {
     "name": "stderr",
     "output_type": "stream",
     "text": [
      "      16/30      8.37G       0.59      0.661      1.005         14        640:  17%|█▋        | 76/442 [03:09<15:17,"
     ]
    },
    {
     "name": "stdout",
     "output_type": "stream",
     "text": [
      "[GPU 모니터] 메모리 할당: 1237.9MB, 예약: 8574.0MB\n"
     ]
    },
    {
     "name": "stderr",
     "output_type": "stream",
     "text": [
      "      16/30      8.37G     0.5884      0.663     0.9979         14        640:  23%|██▎       | 100/442 [04:09<14:18"
     ]
    },
    {
     "name": "stdout",
     "output_type": "stream",
     "text": [
      "[GPU 모니터] 메모리 할당: 1237.9MB, 예약: 8574.0MB\n"
     ]
    },
    {
     "name": "stderr",
     "output_type": "stream",
     "text": [
      "      16/30      8.37G     0.5838      0.686     0.9976          9        640:  28%|██▊       | 124/442 [05:09<13:18"
     ]
    },
    {
     "name": "stdout",
     "output_type": "stream",
     "text": [
      "[GPU 모니터] 메모리 할당: 1237.9MB, 예약: 8574.0MB\n"
     ]
    },
    {
     "name": "stderr",
     "output_type": "stream",
     "text": [
      "      16/30      8.37G     0.5887     0.6856     0.9975         25        640:  33%|███▎      | 148/442 [06:09<12:16"
     ]
    },
    {
     "name": "stdout",
     "output_type": "stream",
     "text": [
      "[GPU 모니터] 메모리 할당: 8016.5MB, 예약: 8574.0MB\n"
     ]
    },
    {
     "name": "stderr",
     "output_type": "stream",
     "text": [
      "      16/30      8.37G     0.5839     0.6818     0.9985         17        640:  39%|███▉      | 172/442 [07:10<11:17"
     ]
    },
    {
     "name": "stdout",
     "output_type": "stream",
     "text": [
      "[GPU 모니터] 메모리 할당: 8016.5MB, 예약: 8574.0MB\n"
     ]
    },
    {
     "name": "stderr",
     "output_type": "stream",
     "text": [
      "      16/30      8.37G     0.5827      0.677     0.9976         11        640:  44%|████▍     | 196/442 [08:10<10:18"
     ]
    },
    {
     "name": "stdout",
     "output_type": "stream",
     "text": [
      "[GPU 모니터] 메모리 할당: 8016.5MB, 예약: 8574.0MB\n"
     ]
    },
    {
     "name": "stderr",
     "output_type": "stream",
     "text": [
      "      16/30      8.37G     0.5805     0.6753     0.9964         18        640:  50%|████▉     | 220/442 [09:10<09:16"
     ]
    },
    {
     "name": "stdout",
     "output_type": "stream",
     "text": [
      "[GPU 모니터] 메모리 할당: 1275.9MB, 예약: 8574.0MB\n"
     ]
    },
    {
     "name": "stderr",
     "output_type": "stream",
     "text": [
      "      16/30      8.37G     0.5782     0.6784     0.9978         21        640:  55%|█████▌    | 244/442 [10:10<08:15"
     ]
    },
    {
     "name": "stdout",
     "output_type": "stream",
     "text": [
      "[GPU 모니터] 메모리 할당: 1275.9MB, 예약: 8574.0MB\n"
     ]
    },
    {
     "name": "stderr",
     "output_type": "stream",
     "text": [
      "      16/30      8.37G     0.5777     0.6779     0.9981         17        640:  60%|██████    | 267/442 [11:08<07:22"
     ]
    },
    {
     "name": "stdout",
     "output_type": "stream",
     "text": [
      "[GPU 모니터] 메모리 할당: 1275.9MB, 예약: 8574.0MB\n"
     ]
    },
    {
     "name": "stderr",
     "output_type": "stream",
     "text": [
      "      16/30      8.37G     0.5796      0.673     0.9973         21        640:  66%|██████▌   | 291/442 [12:08<06:20"
     ]
    },
    {
     "name": "stdout",
     "output_type": "stream",
     "text": [
      "[GPU 모니터] 메모리 할당: 1275.9MB, 예약: 8574.0MB\n"
     ]
    },
    {
     "name": "stderr",
     "output_type": "stream",
     "text": [
      "      16/30      8.37G      0.582     0.6764     0.9981         15        640:  71%|███████▏  | 315/442 [13:08<05:20"
     ]
    },
    {
     "name": "stdout",
     "output_type": "stream",
     "text": [
      "[GPU 모니터] 메모리 할당: 1275.9MB, 예약: 8574.0MB\n"
     ]
    },
    {
     "name": "stderr",
     "output_type": "stream",
     "text": [
      "      16/30      8.37G     0.5827     0.6769     0.9987         15        640:  77%|███████▋  | 339/442 [14:08<04:20"
     ]
    },
    {
     "name": "stdout",
     "output_type": "stream",
     "text": [
      "[GPU 모니터] 메모리 할당: 1275.9MB, 예약: 8574.0MB\n"
     ]
    },
    {
     "name": "stderr",
     "output_type": "stream",
     "text": [
      "      16/30      8.37G     0.5822     0.6755     0.9969         24        640:  82%|████████▏ | 363/442 [15:08<03:19"
     ]
    },
    {
     "name": "stdout",
     "output_type": "stream",
     "text": [
      "[GPU 모니터] 메모리 할당: 1275.9MB, 예약: 8574.0MB\n"
     ]
    },
    {
     "name": "stderr",
     "output_type": "stream",
     "text": [
      "      16/30      8.37G     0.5781     0.6742     0.9962         19        640:  88%|████████▊ | 387/442 [16:08<02:18"
     ]
    },
    {
     "name": "stdout",
     "output_type": "stream",
     "text": [
      "[GPU 모니터] 메모리 할당: 1275.9MB, 예약: 8574.0MB\n"
     ]
    },
    {
     "name": "stderr",
     "output_type": "stream",
     "text": [
      "      16/30      8.37G     0.5776     0.6743     0.9966         20        640:  93%|█████████▎| 411/442 [17:09<01:18"
     ]
    },
    {
     "name": "stdout",
     "output_type": "stream",
     "text": [
      "[GPU 모니터] 메모리 할당: 1275.9MB, 예약: 8574.0MB\n"
     ]
    },
    {
     "name": "stderr",
     "output_type": "stream",
     "text": [
      "      16/30      8.37G     0.5785     0.6731     0.9979         21        640:  98%|█████████▊| 435/442 [18:09<00:17"
     ]
    },
    {
     "name": "stdout",
     "output_type": "stream",
     "text": [
      "[GPU 모니터] 메모리 할당: 1275.9MB, 예약: 8574.0MB\n"
     ]
    },
    {
     "name": "stderr",
     "output_type": "stream",
     "text": [
      "      16/30      8.42G     0.5782      0.674     0.9978          6        640: 100%|██████████| 442/442 [18:24<00:00\n",
      "                 Class     Images  Instances      Box(P          R      mAP50  mAP50-95): 100%|██████████| 51/51 [00"
     ]
    },
    {
     "name": "stdout",
     "output_type": "stream",
     "text": [
      "                   all        801        944      0.926      0.906       0.95      0.817\n"
     ]
    },
    {
     "name": "stderr",
     "output_type": "stream",
     "text": [
      "\n"
     ]
    },
    {
     "name": "stdout",
     "output_type": "stream",
     "text": [
      "\n",
      "      Epoch    GPU_mem   box_loss   cls_loss   dfl_loss  Instances       Size\n"
     ]
    },
    {
     "name": "stderr",
     "output_type": "stream",
     "text": [
      "      17/30      8.54G     0.5796     0.6304      1.001         16        640:   2%|▏         | 9/442 [00:22<16:35, "
     ]
    },
    {
     "name": "stdout",
     "output_type": "stream",
     "text": [
      "[GPU 모니터] 메모리 할당: 1601.9MB, 예약: 8748.0MB\n"
     ]
    },
    {
     "name": "stderr",
     "output_type": "stream",
     "text": [
      "      17/30      8.54G     0.6077     0.6433     0.9984         16        640:   6%|▌         | 25/442 [01:22<23:22,"
     ]
    },
    {
     "name": "stdout",
     "output_type": "stream",
     "text": [
      "[GPU 모니터] 메모리 할당: 1601.9MB, 예약: 8748.0MB\n"
     ]
    },
    {
     "name": "stderr",
     "output_type": "stream",
     "text": [
      "      17/30      8.54G     0.5842     0.6598     0.9836         23        640:   9%|▉         | 41/442 [02:22<22:31,"
     ]
    },
    {
     "name": "stdout",
     "output_type": "stream",
     "text": [
      "[GPU 모니터] 메모리 할당: 1601.9MB, 예약: 8748.0MB\n"
     ]
    },
    {
     "name": "stderr",
     "output_type": "stream",
     "text": [
      "      17/30      8.54G     0.5861     0.6676     0.9952         27        640:  13%|█▎        | 57/442 [03:22<21:36,"
     ]
    },
    {
     "name": "stdout",
     "output_type": "stream",
     "text": [
      "[GPU 모니터] 메모리 할당: 1601.9MB, 예약: 8748.0MB\n"
     ]
    },
    {
     "name": "stderr",
     "output_type": "stream",
     "text": [
      "      17/30      8.54G      0.577     0.6609     0.9925         24        640:  17%|█▋        | 73/442 [04:22<20:42,"
     ]
    },
    {
     "name": "stdout",
     "output_type": "stream",
     "text": [
      "[GPU 모니터] 메모리 할당: 1601.9MB, 예약: 8748.0MB\n"
     ]
    },
    {
     "name": "stderr",
     "output_type": "stream",
     "text": [
      "      17/30      8.54G     0.5743     0.6561     0.9885         14        640:  20%|██        | 89/442 [05:22<19:48,"
     ]
    },
    {
     "name": "stdout",
     "output_type": "stream",
     "text": [
      "[GPU 모니터] 메모리 할당: 1601.9MB, 예약: 8748.0MB\n"
     ]
    },
    {
     "name": "stderr",
     "output_type": "stream",
     "text": [
      "      17/30      8.54G     0.5728     0.6621     0.9864         13        640:  24%|██▍       | 105/442 [06:22<18:57"
     ]
    },
    {
     "name": "stdout",
     "output_type": "stream",
     "text": [
      "[GPU 모니터] 메모리 할당: 1601.9MB, 예약: 8748.0MB\n"
     ]
    },
    {
     "name": "stderr",
     "output_type": "stream",
     "text": [
      "      17/30      8.54G     0.5768     0.6557      0.988         22        640:  27%|██▋       | 121/442 [07:21<18:00"
     ]
    },
    {
     "name": "stdout",
     "output_type": "stream",
     "text": [
      "[GPU 모니터] 메모리 할당: 1601.9MB, 예약: 8748.0MB\n"
     ]
    },
    {
     "name": "stderr",
     "output_type": "stream",
     "text": [
      "      17/30      8.54G     0.5736     0.6594     0.9888         13        640:  31%|███       | 137/442 [08:21<17:06"
     ]
    },
    {
     "name": "stdout",
     "output_type": "stream",
     "text": [
      "[GPU 모니터] 메모리 할당: 1601.9MB, 예약: 8748.0MB\n"
     ]
    },
    {
     "name": "stderr",
     "output_type": "stream",
     "text": [
      "      17/30      8.54G     0.5706     0.6584      0.988         20        640:  35%|███▍      | 153/442 [09:21<16:14"
     ]
    },
    {
     "name": "stdout",
     "output_type": "stream",
     "text": [
      "[GPU 모니터] 메모리 할당: 1601.9MB, 예약: 8748.0MB\n"
     ]
    },
    {
     "name": "stderr",
     "output_type": "stream",
     "text": [
      "      17/30      8.54G       0.57      0.666     0.9884         21        640:  38%|███▊      | 169/442 [10:21<15:18"
     ]
    },
    {
     "name": "stdout",
     "output_type": "stream",
     "text": [
      "[GPU 모니터] 메모리 할당: 1601.9MB, 예약: 8748.0MB\n"
     ]
    },
    {
     "name": "stderr",
     "output_type": "stream",
     "text": [
      "      17/30      8.54G     0.5713     0.6673     0.9917         14        640:  42%|████▏     | 186/442 [11:25<15:06"
     ]
    },
    {
     "name": "stdout",
     "output_type": "stream",
     "text": [
      "[GPU 모니터] 메모리 할당: 1601.9MB, 예약: 8748.0MB\n"
     ]
    },
    {
     "name": "stderr",
     "output_type": "stream",
     "text": [
      "      17/30      8.54G     0.5736     0.6689     0.9933         24        640:  46%|████▌     | 202/442 [12:25<14:11"
     ]
    },
    {
     "name": "stdout",
     "output_type": "stream",
     "text": [
      "[GPU 모니터] 메모리 할당: 1601.9MB, 예약: 8748.0MB\n"
     ]
    },
    {
     "name": "stderr",
     "output_type": "stream",
     "text": [
      "      17/30      8.54G     0.5722     0.6682     0.9933         24        640:  49%|████▉     | 218/442 [13:25<13:13"
     ]
    },
    {
     "name": "stdout",
     "output_type": "stream",
     "text": [
      "[GPU 모니터] 메모리 할당: 1601.9MB, 예약: 8748.0MB\n"
     ]
    },
    {
     "name": "stderr",
     "output_type": "stream",
     "text": [
      "      17/30      8.54G     0.5725     0.6665     0.9926         11        640:  53%|█████▎    | 234/442 [14:25<12:17"
     ]
    },
    {
     "name": "stdout",
     "output_type": "stream",
     "text": [
      "[GPU 모니터] 메모리 할당: 1601.9MB, 예약: 8748.0MB\n"
     ]
    },
    {
     "name": "stderr",
     "output_type": "stream",
     "text": [
      "      17/30      8.54G     0.5773     0.6698     0.9953         21        640:  57%|█████▋    | 250/442 [15:25<11:19"
     ]
    },
    {
     "name": "stdout",
     "output_type": "stream",
     "text": [
      "[GPU 모니터] 메모리 할당: 8332.1MB, 예약: 8748.0MB\n"
     ]
    },
    {
     "name": "stderr",
     "output_type": "stream",
     "text": [
      "      17/30      8.54G     0.5773     0.6724     0.9951         21        640:  60%|██████    | 266/442 [16:24<10:22"
     ]
    },
    {
     "name": "stdout",
     "output_type": "stream",
     "text": [
      "[GPU 모니터] 메모리 할당: 8332.1MB, 예약: 8748.0MB\n"
     ]
    },
    {
     "name": "stderr",
     "output_type": "stream",
     "text": [
      "      17/30      8.54G     0.5771     0.6716     0.9952         21        640:  64%|██████▍   | 282/442 [17:24<09:26"
     ]
    },
    {
     "name": "stdout",
     "output_type": "stream",
     "text": [
      "[GPU 모니터] 메모리 할당: 8332.1MB, 예약: 8748.0MB\n"
     ]
    },
    {
     "name": "stderr",
     "output_type": "stream",
     "text": [
      "      17/30      8.54G     0.5759     0.6712     0.9936         12        640:  67%|██████▋   | 298/442 [18:24<08:30"
     ]
    },
    {
     "name": "stdout",
     "output_type": "stream",
     "text": [
      "[GPU 모니터] 메모리 할당: 8332.1MB, 예약: 8748.0MB\n"
     ]
    },
    {
     "name": "stderr",
     "output_type": "stream",
     "text": [
      "      17/30      8.54G     0.5743     0.6716     0.9923         17        640:  71%|███████   | 314/442 [19:24<07:32"
     ]
    },
    {
     "name": "stdout",
     "output_type": "stream",
     "text": [
      "[GPU 모니터] 메모리 할당: 8332.1MB, 예약: 8748.0MB\n"
     ]
    },
    {
     "name": "stderr",
     "output_type": "stream",
     "text": [
      "      17/30      8.54G      0.574     0.6702     0.9918         14        640:  75%|███████▍  | 330/442 [20:24<06:37"
     ]
    },
    {
     "name": "stdout",
     "output_type": "stream",
     "text": [
      "[GPU 모니터] 메모리 할당: 8332.1MB, 예약: 8748.0MB\n"
     ]
    },
    {
     "name": "stderr",
     "output_type": "stream",
     "text": [
      "      17/30      8.54G     0.5734     0.6691     0.9912         22        640:  78%|███████▊  | 346/442 [21:24<05:39"
     ]
    },
    {
     "name": "stdout",
     "output_type": "stream",
     "text": [
      "[GPU 모니터] 메모리 할당: 8332.1MB, 예약: 8748.0MB\n"
     ]
    },
    {
     "name": "stderr",
     "output_type": "stream",
     "text": [
      "      17/30      8.54G     0.5771     0.6708     0.9912         16        640:  82%|████████▏ | 362/442 [22:24<04:43"
     ]
    },
    {
     "name": "stdout",
     "output_type": "stream",
     "text": [
      "[GPU 모니터] 메모리 할당: 8332.1MB, 예약: 8748.0MB\n"
     ]
    },
    {
     "name": "stderr",
     "output_type": "stream",
     "text": [
      "      17/30      8.54G     0.5758     0.6729     0.9905         15        640:  86%|████████▌ | 378/442 [23:24<03:46"
     ]
    },
    {
     "name": "stdout",
     "output_type": "stream",
     "text": [
      "[GPU 모니터] 메모리 할당: 8332.1MB, 예약: 8748.0MB\n"
     ]
    },
    {
     "name": "stderr",
     "output_type": "stream",
     "text": [
      "      17/30      8.54G      0.578     0.6727     0.9903         21        640:  89%|████████▉ | 394/442 [24:24<02:50"
     ]
    },
    {
     "name": "stdout",
     "output_type": "stream",
     "text": [
      "[GPU 모니터] 메모리 할당: 8332.1MB, 예약: 8748.0MB\n"
     ]
    },
    {
     "name": "stderr",
     "output_type": "stream",
     "text": [
      "      17/30      8.54G     0.5788     0.6739     0.9914         16        640:  93%|█████████▎| 410/442 [25:24<01:53"
     ]
    },
    {
     "name": "stdout",
     "output_type": "stream",
     "text": [
      "[GPU 모니터] 메모리 할당: 8332.1MB, 예약: 8748.0MB\n"
     ]
    },
    {
     "name": "stderr",
     "output_type": "stream",
     "text": [
      "      17/30      8.54G     0.5783     0.6751     0.9916         15        640:  96%|█████████▋| 426/442 [26:23<00:56"
     ]
    },
    {
     "name": "stdout",
     "output_type": "stream",
     "text": [
      "[GPU 모니터] 메모리 할당: 8332.1MB, 예약: 8748.0MB\n"
     ]
    },
    {
     "name": "stderr",
     "output_type": "stream",
     "text": [
      "      17/30      8.59G     0.5785     0.6778     0.9918          3        640: 100%|██████████| 442/442 [27:20<00:00\n",
      "                 Class     Images  Instances      Box(P          R      mAP50  mAP50-95):  22%|██▏       | 11/51 [00"
     ]
    },
    {
     "name": "stdout",
     "output_type": "stream",
     "text": [
      "[GPU 모니터] 메모리 할당: 1196.0MB, 예약: 5450.0MB\n"
     ]
    },
    {
     "name": "stderr",
     "output_type": "stream",
     "text": [
      "                 Class     Images  Instances      Box(P          R      mAP50  mAP50-95): 100%|██████████| 51/51 [00"
     ]
    },
    {
     "name": "stdout",
     "output_type": "stream",
     "text": [
      "                   all        801        944      0.945      0.882      0.953       0.81\n"
     ]
    },
    {
     "name": "stderr",
     "output_type": "stream",
     "text": [
      "\n"
     ]
    },
    {
     "name": "stdout",
     "output_type": "stream",
     "text": [
      "\n",
      "      Epoch    GPU_mem   box_loss   cls_loss   dfl_loss  Instances       Size\n"
     ]
    },
    {
     "name": "stderr",
     "output_type": "stream",
     "text": [
      "      18/30       8.4G     0.6195     0.7197      1.042         13        640:   2%|▏         | 11/442 [00:40<30:30,"
     ]
    },
    {
     "name": "stdout",
     "output_type": "stream",
     "text": [
      "[GPU 모니터] 메모리 할당: 1274.3MB, 예약: 8598.0MB\n"
     ]
    },
    {
     "name": "stderr",
     "output_type": "stream",
     "text": [
      "      18/30       8.4G     0.5706     0.6562      1.016         11        640:   6%|▌         | 25/442 [01:41<30:14,"
     ]
    },
    {
     "name": "stdout",
     "output_type": "stream",
     "text": [
      "[GPU 모니터] 메모리 할당: 1274.3MB, 예약: 8598.0MB\n"
     ]
    },
    {
     "name": "stderr",
     "output_type": "stream",
     "text": [
      "      18/30       8.4G     0.5852     0.6438      1.011         25        640:   9%|▉         | 39/442 [02:41<27:54,"
     ]
    },
    {
     "name": "stdout",
     "output_type": "stream",
     "text": [
      "[GPU 모니터] 메모리 할당: 1274.3MB, 예약: 8598.0MB\n"
     ]
    },
    {
     "name": "stderr",
     "output_type": "stream",
     "text": [
      "      18/30       8.4G      0.589     0.6293      1.014         19        640:  12%|█▏        | 53/442 [03:43<29:03,"
     ]
    },
    {
     "name": "stdout",
     "output_type": "stream",
     "text": [
      "[GPU 모니터] 메모리 할당: 8046.0MB, 예약: 8598.0MB\n"
     ]
    },
    {
     "name": "stderr",
     "output_type": "stream",
     "text": [
      "      18/30       8.4G     0.5688      0.635      1.012         19        640:  15%|█▌        | 67/442 [04:43<27:45,"
     ]
    },
    {
     "name": "stdout",
     "output_type": "stream",
     "text": [
      "[GPU 모니터] 메모리 할당: 1236.3MB, 예약: 8598.0MB\n"
     ]
    },
    {
     "name": "stderr",
     "output_type": "stream",
     "text": [
      "      18/30       8.4G     0.5675     0.6382      1.011         16        640:  18%|█▊        | 80/442 [05:39<25:10,"
     ]
    },
    {
     "name": "stdout",
     "output_type": "stream",
     "text": [
      "[GPU 모니터] 메모리 할당: 1236.3MB, 예약: 8598.0MB\n"
     ]
    },
    {
     "name": "stderr",
     "output_type": "stream",
     "text": [
      "      18/30       8.4G     0.5732      0.642      1.017         16        640:  21%|██▏       | 94/442 [06:41<25:41,"
     ]
    },
    {
     "name": "stdout",
     "output_type": "stream",
     "text": [
      "[GPU 모니터] 메모리 할당: 1236.3MB, 예약: 8598.0MB\n"
     ]
    },
    {
     "name": "stderr",
     "output_type": "stream",
     "text": [
      "      18/30       8.4G     0.5801      0.638      1.013         14        640:  24%|██▍       | 108/442 [07:41<24:22"
     ]
    },
    {
     "name": "stdout",
     "output_type": "stream",
     "text": [
      "[GPU 모니터] 메모리 할당: 1236.3MB, 예약: 8598.0MB\n"
     ]
    },
    {
     "name": "stderr",
     "output_type": "stream",
     "text": [
      "      18/30       8.4G     0.5718     0.6392      1.008         18        640:  28%|██▊       | 122/442 [08:42<23:01"
     ]
    },
    {
     "name": "stdout",
     "output_type": "stream",
     "text": [
      "[GPU 모니터] 메모리 할당: 1236.3MB, 예약: 8598.0MB\n"
     ]
    },
    {
     "name": "stderr",
     "output_type": "stream",
     "text": [
      "      18/30       8.4G     0.5717     0.6473      1.013         13        640:  31%|███       | 136/442 [09:42<21:17"
     ]
    },
    {
     "name": "stdout",
     "output_type": "stream",
     "text": [
      "[GPU 모니터] 메모리 할당: 8008.5MB, 예약: 8598.0MB\n"
     ]
    },
    {
     "name": "stderr",
     "output_type": "stream",
     "text": [
      "      18/30       8.4G     0.5731     0.6472      1.013         19        640:  34%|███▎      | 149/442 [10:39<21:46"
     ]
    },
    {
     "name": "stdout",
     "output_type": "stream",
     "text": [
      "[GPU 모니터] 메모리 할당: 1274.3MB, 예약: 8598.0MB\n"
     ]
    },
    {
     "name": "stderr",
     "output_type": "stream",
     "text": [
      "      18/30       8.4G     0.5776     0.6499      1.013         15        640:  37%|███▋      | 163/442 [11:40<20:38"
     ]
    },
    {
     "name": "stdout",
     "output_type": "stream",
     "text": [
      "[GPU 모니터] 메모리 할당: 1274.3MB, 예약: 8598.0MB\n"
     ]
    },
    {
     "name": "stderr",
     "output_type": "stream",
     "text": [
      "      18/30       8.4G     0.5816     0.6494      1.012         17        640:  40%|████      | 177/442 [12:40<19:10"
     ]
    },
    {
     "name": "stdout",
     "output_type": "stream",
     "text": [
      "[GPU 모니터] 메모리 할당: 1274.3MB, 예약: 8598.0MB\n"
     ]
    },
    {
     "name": "stderr",
     "output_type": "stream",
     "text": [
      "      18/30       8.4G     0.5794     0.6486      1.012         17        640:  43%|████▎     | 191/442 [13:41<17:22"
     ]
    },
    {
     "name": "stdout",
     "output_type": "stream",
     "text": [
      "[GPU 모니터] 메모리 할당: 1274.3MB, 예약: 8598.0MB\n"
     ]
    },
    {
     "name": "stderr",
     "output_type": "stream",
     "text": [
      "      18/30       8.4G     0.5802     0.6463       1.01         12        640:  46%|████▋     | 205/442 [14:42<17:43"
     ]
    },
    {
     "name": "stdout",
     "output_type": "stream",
     "text": [
      "[GPU 모니터] 메모리 할당: 8046.0MB, 예약: 8598.0MB\n"
     ]
    },
    {
     "name": "stderr",
     "output_type": "stream",
     "text": [
      "      18/30       8.4G     0.5772     0.6447      1.007         18        640:  50%|████▉     | 219/442 [15:43<16:30"
     ]
    },
    {
     "name": "stdout",
     "output_type": "stream",
     "text": [
      "[GPU 모니터] 메모리 할당: 8046.0MB, 예약: 8598.0MB\n"
     ]
    },
    {
     "name": "stderr",
     "output_type": "stream",
     "text": [
      "      18/30       8.4G     0.5774     0.6437      1.006         17        640:  53%|█████▎    | 233/442 [16:43<15:08"
     ]
    },
    {
     "name": "stdout",
     "output_type": "stream",
     "text": [
      "[GPU 모니터] 메모리 할당: 1236.3MB, 예약: 8598.0MB\n"
     ]
    },
    {
     "name": "stderr",
     "output_type": "stream",
     "text": [
      "      18/30       8.4G      0.579     0.6529      1.007         13        640:  56%|█████▌    | 246/442 [17:40<14:28"
     ]
    },
    {
     "name": "stdout",
     "output_type": "stream",
     "text": [
      "[GPU 모니터] 메모리 할당: 1236.3MB, 예약: 8598.0MB\n"
     ]
    },
    {
     "name": "stderr",
     "output_type": "stream",
     "text": [
      "      18/30       8.4G      0.577     0.6508      1.005         19        640:  59%|█████▉    | 260/442 [18:41<13:17"
     ]
    },
    {
     "name": "stdout",
     "output_type": "stream",
     "text": [
      "[GPU 모니터] 메모리 할당: 1236.3MB, 예약: 8598.0MB\n"
     ]
    },
    {
     "name": "stderr",
     "output_type": "stream",
     "text": [
      "      18/30       8.4G     0.5773     0.6534      1.003         22        640:  62%|██████▏   | 274/442 [19:41<12:04"
     ]
    },
    {
     "name": "stdout",
     "output_type": "stream",
     "text": [
      "[GPU 모니터] 메모리 할당: 1236.3MB, 예약: 8598.0MB\n"
     ]
    },
    {
     "name": "stderr",
     "output_type": "stream",
     "text": [
      "      18/30       8.4G     0.5788     0.6546      1.003         15        640:  65%|██████▌   | 288/442 [20:42<10:43"
     ]
    },
    {
     "name": "stdout",
     "output_type": "stream",
     "text": [
      "[GPU 모니터] 메모리 할당: 1236.3MB, 예약: 8598.0MB\n"
     ]
    },
    {
     "name": "stderr",
     "output_type": "stream",
     "text": [
      "      18/30       8.4G     0.5767      0.652      1.003         23        640:  68%|██████▊   | 301/442 [21:40<10:34"
     ]
    },
    {
     "name": "stdout",
     "output_type": "stream",
     "text": [
      "[GPU 모니터] 메모리 할당: 1274.3MB, 예약: 8598.0MB\n"
     ]
    },
    {
     "name": "stderr",
     "output_type": "stream",
     "text": [
      "      18/30       8.4G     0.5761     0.6515      1.001         18        640:  71%|███████▏  | 315/442 [22:40<09:23"
     ]
    },
    {
     "name": "stdout",
     "output_type": "stream",
     "text": [
      "[GPU 모니터] 메모리 할당: 1274.3MB, 예약: 8598.0MB\n"
     ]
    },
    {
     "name": "stderr",
     "output_type": "stream",
     "text": [
      "      18/30       8.4G     0.5743     0.6492      1.001         18        640:  74%|███████▍  | 329/442 [23:41<08:10"
     ]
    },
    {
     "name": "stdout",
     "output_type": "stream",
     "text": [
      "[GPU 모니터] 메모리 할당: 1274.3MB, 예약: 8598.0MB\n"
     ]
    },
    {
     "name": "stderr",
     "output_type": "stream",
     "text": [
      "      18/30       8.4G     0.5745     0.6491      1.001         19        640:  78%|███████▊  | 343/442 [24:41<06:51"
     ]
    },
    {
     "name": "stdout",
     "output_type": "stream",
     "text": [
      "[GPU 모니터] 메모리 할당: 1274.3MB, 예약: 8598.0MB\n"
     ]
    },
    {
     "name": "stderr",
     "output_type": "stream",
     "text": [
      "      18/30       8.4G     0.5731     0.6476      1.001         19        640:  81%|████████  | 357/442 [25:43<06:21"
     ]
    },
    {
     "name": "stdout",
     "output_type": "stream",
     "text": [
      "[GPU 모니터] 메모리 할당: 8046.0MB, 예약: 8598.0MB\n"
     ]
    },
    {
     "name": "stderr",
     "output_type": "stream",
     "text": [
      "      18/30       8.4G     0.5735     0.6491      1.002         15        640:  84%|████████▍ | 371/442 [26:43<05:14"
     ]
    },
    {
     "name": "stdout",
     "output_type": "stream",
     "text": [
      "[GPU 모니터] 메모리 할당: 8046.0MB, 예약: 8598.0MB\n"
     ]
    },
    {
     "name": "stderr",
     "output_type": "stream",
     "text": [
      "      18/30       8.4G     0.5717      0.649      1.001         18        640:  87%|████████▋ | 384/442 [27:39<04:02"
     ]
    },
    {
     "name": "stdout",
     "output_type": "stream",
     "text": [
      "[GPU 모니터] 메모리 할당: 1236.3MB, 예약: 8598.0MB\n"
     ]
    },
    {
     "name": "stderr",
     "output_type": "stream",
     "text": [
      "      18/30       8.4G     0.5707     0.6475      1.001         17        640:  90%|█████████ | 398/442 [28:40<03:15"
     ]
    },
    {
     "name": "stdout",
     "output_type": "stream",
     "text": [
      "[GPU 모니터] 메모리 할당: 1236.3MB, 예약: 8598.0MB\n"
     ]
    },
    {
     "name": "stderr",
     "output_type": "stream",
     "text": [
      "      18/30       8.4G     0.5716     0.6464      1.001         14        640:  93%|█████████▎| 412/442 [29:41<02:11"
     ]
    },
    {
     "name": "stdout",
     "output_type": "stream",
     "text": [
      "[GPU 모니터] 메모리 할당: 1236.3MB, 예약: 8598.0MB\n"
     ]
    },
    {
     "name": "stderr",
     "output_type": "stream",
     "text": [
      "      18/30       8.4G     0.5721     0.6457          1         21        640:  96%|█████████▋| 426/442 [30:41<01:09"
     ]
    },
    {
     "name": "stdout",
     "output_type": "stream",
     "text": [
      "[GPU 모니터] 메모리 할당: 1236.3MB, 예약: 8598.0MB\n"
     ]
    },
    {
     "name": "stderr",
     "output_type": "stream",
     "text": [
      "      18/30       8.4G     0.5718     0.6425     0.9996         22        640: 100%|█████████▉| 440/442 [31:42<00:08"
     ]
    },
    {
     "name": "stdout",
     "output_type": "stream",
     "text": [
      "[GPU 모니터] 메모리 할당: 1236.3MB, 예약: 8598.0MB\n"
     ]
    },
    {
     "name": "stderr",
     "output_type": "stream",
     "text": [
      "      18/30      8.41G     0.5717     0.6416     0.9996          5        640: 100%|██████████| 442/442 [31:48<00:00\n",
      "                 Class     Images  Instances      Box(P          R      mAP50  mAP50-95): 100%|██████████| 51/51 [00"
     ]
    },
    {
     "name": "stdout",
     "output_type": "stream",
     "text": [
      "                   all        801        944      0.945      0.887      0.957      0.821\n"
     ]
    },
    {
     "name": "stderr",
     "output_type": "stream",
     "text": [
      "\n"
     ]
    },
    {
     "name": "stdout",
     "output_type": "stream",
     "text": [
      "\n",
      "      Epoch    GPU_mem   box_loss   cls_loss   dfl_loss  Instances       Size\n"
     ]
    },
    {
     "name": "stderr",
     "output_type": "stream",
     "text": [
      "      19/30      8.37G     0.5522     0.6341     0.9794         16        640:   3%|▎         | 13/442 [00:33<18:02,"
     ]
    },
    {
     "name": "stdout",
     "output_type": "stream",
     "text": [
      "[GPU 모니터] 메모리 할당: 1278.3MB, 예약: 8572.0MB\n"
     ]
    },
    {
     "name": "stderr",
     "output_type": "stream",
     "text": [
      "      19/30      8.37G     0.5602     0.6632     0.9784         18        640:   9%|▊         | 38/442 [01:33<16:12,"
     ]
    },
    {
     "name": "stdout",
     "output_type": "stream",
     "text": [
      "[GPU 모니터] 메모리 할당: 1240.3MB, 예약: 8572.0MB\n"
     ]
    },
    {
     "name": "stderr",
     "output_type": "stream",
     "text": [
      "      19/30      8.37G     0.5554     0.6439     0.9775         16        640:  14%|█▍        | 64/442 [02:35<14:47,"
     ]
    },
    {
     "name": "stdout",
     "output_type": "stream",
     "text": [
      "[GPU 모니터] 메모리 할당: 1278.3MB, 예약: 8572.0MB\n"
     ]
    },
    {
     "name": "stderr",
     "output_type": "stream",
     "text": [
      "      19/30      8.37G     0.5609     0.6468     0.9877         21        640:  20%|██        | 89/442 [03:34<13:58,"
     ]
    },
    {
     "name": "stdout",
     "output_type": "stream",
     "text": [
      "[GPU 모니터] 메모리 할당: 8053.7MB, 예약: 8572.0MB\n"
     ]
    },
    {
     "name": "stderr",
     "output_type": "stream",
     "text": [
      "      19/30      8.37G     0.5609     0.6487     0.9895         20        640:  26%|██▌       | 114/442 [04:33<12:41"
     ]
    },
    {
     "name": "stdout",
     "output_type": "stream",
     "text": [
      "[GPU 모니터] 메모리 할당: 8016.1MB, 예약: 8572.0MB\n"
     ]
    },
    {
     "name": "stderr",
     "output_type": "stream",
     "text": [
      "      19/30      8.37G      0.559     0.6459       0.99         18        640:  31%|███▏      | 139/442 [05:33<11:52"
     ]
    },
    {
     "name": "stdout",
     "output_type": "stream",
     "text": [
      "[GPU 모니터] 메모리 할당: 1278.3MB, 예약: 8572.0MB\n"
     ]
    },
    {
     "name": "stderr",
     "output_type": "stream",
     "text": [
      "      19/30      8.37G      0.561     0.6542       0.99         20        640:  37%|███▋      | 164/442 [06:32<10:48"
     ]
    },
    {
     "name": "stdout",
     "output_type": "stream",
     "text": [
      "[GPU 모니터] 메모리 할당: 1240.3MB, 예약: 8572.0MB\n"
     ]
    },
    {
     "name": "stderr",
     "output_type": "stream",
     "text": [
      "      19/30      8.37G     0.5585      0.651     0.9875         22        640:  43%|████▎     | 189/442 [07:33<10:34"
     ]
    },
    {
     "name": "stdout",
     "output_type": "stream",
     "text": [
      "[GPU 모니터] 메모리 할당: 1278.3MB, 예약: 8572.0MB\n"
     ]
    },
    {
     "name": "stderr",
     "output_type": "stream",
     "text": [
      "      19/30      8.37G     0.5568     0.6488     0.9863         19        640:  49%|████▊     | 215/442 [08:34<09:09"
     ]
    },
    {
     "name": "stdout",
     "output_type": "stream",
     "text": [
      "[GPU 모니터] 메모리 할당: 1240.3MB, 예약: 8572.0MB\n"
     ]
    },
    {
     "name": "stderr",
     "output_type": "stream",
     "text": [
      "      19/30      8.37G     0.5603     0.6485     0.9846         12        640:  54%|█████▍    | 240/442 [09:34<07:55"
     ]
    },
    {
     "name": "stdout",
     "output_type": "stream",
     "text": [
      "[GPU 모니터] 메모리 할당: 8016.1MB, 예약: 8572.0MB\n"
     ]
    },
    {
     "name": "stderr",
     "output_type": "stream",
     "text": [
      "      19/30      8.37G     0.5601     0.6435     0.9849         16        640:  60%|█████▉    | 265/442 [10:34<07:00"
     ]
    },
    {
     "name": "stdout",
     "output_type": "stream",
     "text": [
      "[GPU 모니터] 메모리 할당: 8053.7MB, 예약: 8572.0MB\n"
     ]
    },
    {
     "name": "stderr",
     "output_type": "stream",
     "text": [
      "      19/30      8.37G     0.5594     0.6429     0.9835         22        640:  66%|██████▌   | 290/442 [11:33<05:52"
     ]
    },
    {
     "name": "stdout",
     "output_type": "stream",
     "text": [
      "[GPU 모니터] 메모리 할당: 1240.3MB, 예약: 8572.0MB\n"
     ]
    },
    {
     "name": "stderr",
     "output_type": "stream",
     "text": [
      "      19/30      8.37G     0.5612     0.6447      0.986         20        640:  71%|███████▏  | 315/442 [12:33<04:59"
     ]
    },
    {
     "name": "stdout",
     "output_type": "stream",
     "text": [
      "[GPU 모니터] 메모리 할당: 1278.3MB, 예약: 8572.0MB\n"
     ]
    },
    {
     "name": "stderr",
     "output_type": "stream",
     "text": [
      "      19/30      8.37G     0.5639     0.6443       0.99         12        640:  77%|███████▋  | 340/442 [13:32<03:57"
     ]
    },
    {
     "name": "stdout",
     "output_type": "stream",
     "text": [
      "[GPU 모니터] 메모리 할당: 1240.3MB, 예약: 8572.0MB\n"
     ]
    },
    {
     "name": "stderr",
     "output_type": "stream",
     "text": [
      "      19/30      8.37G      0.565      0.645     0.9902         22        640:  83%|████████▎ | 366/442 [14:34<03:03"
     ]
    },
    {
     "name": "stdout",
     "output_type": "stream",
     "text": [
      "[GPU 모니터] 메모리 할당: 8016.1MB, 예약: 8572.0MB\n"
     ]
    },
    {
     "name": "stderr",
     "output_type": "stream",
     "text": [
      "      19/30      8.37G     0.5658     0.6467     0.9905         17        640:  88%|████████▊ | 391/442 [15:34<02:03"
     ]
    },
    {
     "name": "stdout",
     "output_type": "stream",
     "text": [
      "[GPU 모니터] 메모리 할당: 8053.7MB, 예약: 8572.0MB\n"
     ]
    },
    {
     "name": "stderr",
     "output_type": "stream",
     "text": [
      "      19/30      8.37G     0.5642     0.6437     0.9897         17        640:  94%|█████████▍| 416/442 [16:33<01:01"
     ]
    },
    {
     "name": "stdout",
     "output_type": "stream",
     "text": [
      "[GPU 모니터] 메모리 할당: 1240.3MB, 예약: 8572.0MB\n"
     ]
    },
    {
     "name": "stderr",
     "output_type": "stream",
     "text": [
      "      19/30      8.42G     0.5664     0.6419     0.9901          4        640: 100%|██████████| 442/442 [17:34<00:00\n",
      "                 Class     Images  Instances      Box(P          R      mAP50  mAP50-95):   2%|▏         | 1/51 [00:"
     ]
    },
    {
     "name": "stdout",
     "output_type": "stream",
     "text": [
      "[GPU 모니터] 메모리 할당: 1608.9MB, 예약: 4072.0MB\n"
     ]
    },
    {
     "name": "stderr",
     "output_type": "stream",
     "text": [
      "                 Class     Images  Instances      Box(P          R      mAP50  mAP50-95): 100%|██████████| 51/51 [00"
     ]
    },
    {
     "name": "stdout",
     "output_type": "stream",
     "text": [
      "                   all        801        944       0.93      0.912       0.96      0.822\n"
     ]
    },
    {
     "name": "stderr",
     "output_type": "stream",
     "text": [
      "\n"
     ]
    },
    {
     "name": "stdout",
     "output_type": "stream",
     "text": [
      "\n",
      "      Epoch    GPU_mem   box_loss   cls_loss   dfl_loss  Instances       Size\n"
     ]
    },
    {
     "name": "stderr",
     "output_type": "stream",
     "text": [
      "      20/30      8.36G     0.5202     0.6653     0.9824         22        640:   4%|▍         | 17/442 [00:39<15:42,"
     ]
    },
    {
     "name": "stdout",
     "output_type": "stream",
     "text": [
      "[GPU 모니터] 메모리 할당: 8058.6MB, 예약: 8564.0MB\n"
     ]
    },
    {
     "name": "stderr",
     "output_type": "stream",
     "text": [
      "      20/30      8.36G     0.5324     0.6091     0.9739         15        640:  10%|▉         | 43/442 [01:38<14:58,"
     ]
    },
    {
     "name": "stdout",
     "output_type": "stream",
     "text": [
      "[GPU 모니터] 메모리 할당: 1279.3MB, 예약: 8564.0MB\n"
     ]
    },
    {
     "name": "stderr",
     "output_type": "stream",
     "text": [
      "      20/30      8.36G     0.5485     0.6092     0.9783         12        640:  16%|█▌        | 70/442 [02:39<14:17,"
     ]
    },
    {
     "name": "stdout",
     "output_type": "stream",
     "text": [
      "[GPU 모니터] 메모리 할당: 8020.7MB, 예약: 8564.0MB\n"
     ]
    },
    {
     "name": "stderr",
     "output_type": "stream",
     "text": [
      "      20/30      8.36G     0.5521     0.5954     0.9818         23        640:  22%|██▏       | 96/442 [03:38<13:12,"
     ]
    },
    {
     "name": "stdout",
     "output_type": "stream",
     "text": [
      "[GPU 모니터] 메모리 할당: 1241.3MB, 예약: 8564.0MB\n"
     ]
    },
    {
     "name": "stderr",
     "output_type": "stream",
     "text": [
      "      20/30      8.36G     0.5545     0.6064     0.9826         23        640:  28%|██▊       | 123/442 [04:39<11:57"
     ]
    },
    {
     "name": "stdout",
     "output_type": "stream",
     "text": [
      "[GPU 모니터] 메모리 할당: 8058.6MB, 예약: 8564.0MB\n"
     ]
    },
    {
     "name": "stderr",
     "output_type": "stream",
     "text": [
      "      20/30      8.36G      0.554     0.6159     0.9814         11        640:  34%|███▎      | 149/442 [05:38<10:53"
     ]
    },
    {
     "name": "stdout",
     "output_type": "stream",
     "text": [
      "[GPU 모니터] 메모리 할당: 1279.3MB, 예약: 8564.0MB\n"
     ]
    },
    {
     "name": "stderr",
     "output_type": "stream",
     "text": [
      "      20/30      8.36G      0.548     0.6091     0.9815         25        640:  40%|███▉      | 176/442 [06:39<10:09"
     ]
    },
    {
     "name": "stdout",
     "output_type": "stream",
     "text": [
      "[GPU 모니터] 메모리 할당: 4822.6MB, 예약: 8564.0MB\n"
     ]
    },
    {
     "name": "stderr",
     "output_type": "stream",
     "text": [
      "      20/30      8.36G     0.5497     0.6173     0.9799         23        640:  46%|████▌     | 202/442 [07:38<09:12"
     ]
    },
    {
     "name": "stdout",
     "output_type": "stream",
     "text": [
      "[GPU 모니터] 메모리 할당: 1241.3MB, 예약: 8564.0MB\n"
     ]
    },
    {
     "name": "stderr",
     "output_type": "stream",
     "text": [
      "      20/30      8.36G      0.552     0.6198     0.9784         21        640:  52%|█████▏    | 229/442 [08:39<07:55"
     ]
    },
    {
     "name": "stdout",
     "output_type": "stream",
     "text": [
      "[GPU 모니터] 메모리 할당: 8058.6MB, 예약: 8564.0MB\n"
     ]
    },
    {
     "name": "stderr",
     "output_type": "stream",
     "text": [
      "      20/30      8.36G     0.5506     0.6182     0.9789         16        640:  58%|█████▊    | 255/442 [09:38<06:55"
     ]
    },
    {
     "name": "stdout",
     "output_type": "stream",
     "text": [
      "[GPU 모니터] 메모리 할당: 1279.3MB, 예약: 8564.0MB\n"
     ]
    },
    {
     "name": "stderr",
     "output_type": "stream",
     "text": [
      "      20/30      8.36G       0.55     0.6229     0.9788         10        640:  64%|██████▍   | 282/442 [10:39<06:08"
     ]
    },
    {
     "name": "stdout",
     "output_type": "stream",
     "text": [
      "[GPU 모니터] 메모리 할당: 1039.7MB, 예약: 8564.0MB\n"
     ]
    },
    {
     "name": "stderr",
     "output_type": "stream",
     "text": [
      "      20/30      8.36G     0.5486     0.6264     0.9795         16        640:  70%|██████▉   | 308/442 [11:38<05:10"
     ]
    },
    {
     "name": "stdout",
     "output_type": "stream",
     "text": [
      "[GPU 모니터] 메모리 할당: 1241.3MB, 예약: 8564.0MB\n"
     ]
    },
    {
     "name": "stderr",
     "output_type": "stream",
     "text": [
      "      20/30      8.36G     0.5521     0.6248     0.9812         22        640:  76%|███████▌  | 335/442 [12:39<03:57"
     ]
    },
    {
     "name": "stdout",
     "output_type": "stream",
     "text": [
      "[GPU 모니터] 메모리 할당: 8058.6MB, 예약: 8564.0MB\n"
     ]
    },
    {
     "name": "stderr",
     "output_type": "stream",
     "text": [
      "      20/30      8.36G     0.5535     0.6271     0.9829         19        640:  82%|████████▏ | 361/442 [13:38<02:59"
     ]
    },
    {
     "name": "stdout",
     "output_type": "stream",
     "text": [
      "[GPU 모니터] 메모리 할당: 1279.3MB, 예약: 8564.0MB\n"
     ]
    },
    {
     "name": "stderr",
     "output_type": "stream",
     "text": [
      "      20/30      8.36G     0.5534     0.6288     0.9846         22        640:  88%|████████▊ | 387/442 [14:40<02:03"
     ]
    },
    {
     "name": "stdout",
     "output_type": "stream",
     "text": [
      "[GPU 모니터] 메모리 할당: 1279.3MB, 예약: 8564.0MB\n"
     ]
    },
    {
     "name": "stderr",
     "output_type": "stream",
     "text": [
      "      20/30      8.36G     0.5573     0.6301     0.9857         19        640:  94%|█████████▎| 414/442 [15:38<01:04"
     ]
    },
    {
     "name": "stdout",
     "output_type": "stream",
     "text": [
      "[GPU 모니터] 메모리 할당: 1241.3MB, 예약: 8564.0MB\n"
     ]
    },
    {
     "name": "stderr",
     "output_type": "stream",
     "text": [
      "      20/30      8.36G     0.5567      0.631      0.984         19        640: 100%|█████████▉| 441/442 [16:39<00:02"
     ]
    },
    {
     "name": "stdout",
     "output_type": "stream",
     "text": [
      "[GPU 모니터] 메모리 할당: 3031.5MB, 예약: 8604.0MB\n"
     ]
    },
    {
     "name": "stderr",
     "output_type": "stream",
     "text": [
      "      20/30      8.41G     0.5572     0.6324     0.9839          5        640: 100%|██████████| 442/442 [16:40<00:00\n",
      "                 Class     Images  Instances      Box(P          R      mAP50  mAP50-95): 100%|██████████| 51/51 [00"
     ]
    },
    {
     "name": "stdout",
     "output_type": "stream",
     "text": [
      "                   all        801        944      0.952      0.907      0.961      0.821\n"
     ]
    },
    {
     "name": "stderr",
     "output_type": "stream",
     "text": [
      "\n"
     ]
    },
    {
     "name": "stdout",
     "output_type": "stream",
     "text": [
      "Closing dataloader mosaic\n",
      "\n",
      "      Epoch    GPU_mem   box_loss   cls_loss   dfl_loss  Instances       Size\n"
     ]
    },
    {
     "name": "stderr",
     "output_type": "stream",
     "text": [
      "      21/30      8.48G     0.5553     0.3385     0.9601         10        640:   3%|▎         | 13/442 [00:36<20:41,"
     ]
    },
    {
     "name": "stdout",
     "output_type": "stream",
     "text": [
      "[GPU 모니터] 메모리 할당: 1600.1MB, 예약: 8684.0MB\n"
     ]
    },
    {
     "name": "stderr",
     "output_type": "stream",
     "text": [
      "      21/30      8.48G     0.5378     0.3545     0.9638          8        640:   8%|▊         | 34/442 [01:37<19:30,"
     ]
    },
    {
     "name": "stdout",
     "output_type": "stream",
     "text": [
      "[GPU 모니터] 메모리 할당: 1562.1MB, 예약: 8684.0MB\n"
     ]
    },
    {
     "name": "stderr",
     "output_type": "stream",
     "text": [
      "      21/30      8.48G     0.5517     0.3579     0.9572         12        640:  12%|█▏        | 54/442 [02:35<19:06,"
     ]
    },
    {
     "name": "stdout",
     "output_type": "stream",
     "text": [
      "[GPU 모니터] 메모리 할당: 1562.1MB, 예약: 8684.0MB\n"
     ]
    },
    {
     "name": "stderr",
     "output_type": "stream",
     "text": [
      "      21/30      8.48G     0.5453     0.3643     0.9568          7        640:  17%|█▋        | 75/442 [03:37<17:46,"
     ]
    },
    {
     "name": "stdout",
     "output_type": "stream",
     "text": [
      "[GPU 모니터] 메모리 할당: 1600.1MB, 예약: 8684.0MB\n"
     ]
    },
    {
     "name": "stderr",
     "output_type": "stream",
     "text": [
      "      21/30      8.48G     0.5516     0.3747     0.9527          9        640:  21%|██▏       | 95/442 [04:35<17:12,"
     ]
    },
    {
     "name": "stdout",
     "output_type": "stream",
     "text": [
      "[GPU 모니터] 메모리 할당: 1600.1MB, 예약: 8684.0MB\n"
     ]
    },
    {
     "name": "stderr",
     "output_type": "stream",
     "text": [
      "      21/30      8.48G     0.5516     0.3746     0.9485         12        640:  26%|██▌       | 116/442 [05:37<15:54"
     ]
    },
    {
     "name": "stdout",
     "output_type": "stream",
     "text": [
      "[GPU 모니터] 메모리 할당: 1562.1MB, 예약: 8684.0MB\n"
     ]
    },
    {
     "name": "stderr",
     "output_type": "stream",
     "text": [
      "      21/30      8.48G     0.5459      0.372     0.9446          8        640:  31%|███       | 137/442 [06:38<14:17"
     ]
    },
    {
     "name": "stdout",
     "output_type": "stream",
     "text": [
      "[GPU 모니터] 메모리 할당: 8370.2MB, 예약: 8684.0MB\n"
     ]
    },
    {
     "name": "stderr",
     "output_type": "stream",
     "text": [
      "      21/30      8.48G     0.5476     0.3799     0.9476          9        640:  36%|███▌      | 157/442 [07:37<14:02"
     ]
    },
    {
     "name": "stdout",
     "output_type": "stream",
     "text": [
      "[GPU 모니터] 메모리 할당: 1600.1MB, 예약: 8684.0MB\n"
     ]
    },
    {
     "name": "stderr",
     "output_type": "stream",
     "text": [
      "      21/30      8.48G     0.5466     0.3809     0.9483          9        640:  40%|████      | 178/442 [08:38<12:34"
     ]
    },
    {
     "name": "stdout",
     "output_type": "stream",
     "text": [
      "[GPU 모니터] 메모리 할당: 8332.8MB, 예약: 8684.0MB\n"
     ]
    },
    {
     "name": "stderr",
     "output_type": "stream",
     "text": [
      "      21/30      8.48G     0.5423     0.3776     0.9466          9        640:  45%|████▍     | 198/442 [09:36<12:00"
     ]
    },
    {
     "name": "stdout",
     "output_type": "stream",
     "text": [
      "[GPU 모니터] 메모리 할당: 1562.1MB, 예약: 8686.0MB\n"
     ]
    },
    {
     "name": "stderr",
     "output_type": "stream",
     "text": [
      "      21/30      8.48G     0.5412     0.3776     0.9416          8        640:  50%|████▉     | 219/442 [10:38<10:48"
     ]
    },
    {
     "name": "stdout",
     "output_type": "stream",
     "text": [
      "[GPU 모니터] 메모리 할당: 8370.2MB, 예약: 8686.0MB\n"
     ]
    },
    {
     "name": "stderr",
     "output_type": "stream",
     "text": [
      "      21/30      8.48G     0.5425     0.3808     0.9436         10        640:  54%|█████▍    | 239/442 [11:36<10:03"
     ]
    },
    {
     "name": "stdout",
     "output_type": "stream",
     "text": [
      "[GPU 모니터] 메모리 할당: 1600.1MB, 예약: 8686.0MB\n"
     ]
    },
    {
     "name": "stderr",
     "output_type": "stream",
     "text": [
      "      21/30      8.48G     0.5421      0.379     0.9446         10        640:  59%|█████▉    | 260/442 [12:38<08:51"
     ]
    },
    {
     "name": "stdout",
     "output_type": "stream",
     "text": [
      "[GPU 모니터] 메모리 할당: 8332.8MB, 예약: 8686.0MB\n"
     ]
    },
    {
     "name": "stderr",
     "output_type": "stream",
     "text": [
      "      21/30      8.48G     0.5436     0.3766     0.9444          9        640:  63%|██████▎   | 280/442 [13:36<08:06"
     ]
    },
    {
     "name": "stdout",
     "output_type": "stream",
     "text": [
      "[GPU 모니터] 메모리 할당: 1562.1MB, 예약: 8686.0MB\n"
     ]
    },
    {
     "name": "stderr",
     "output_type": "stream",
     "text": [
      "      21/30      8.48G     0.5422     0.3752     0.9447          8        640:  68%|██████▊   | 301/442 [14:38<06:56"
     ]
    },
    {
     "name": "stdout",
     "output_type": "stream",
     "text": [
      "[GPU 모니터] 메모리 할당: 8370.2MB, 예약: 8686.0MB\n"
     ]
    },
    {
     "name": "stderr",
     "output_type": "stream",
     "text": [
      "      21/30      8.48G     0.5409     0.3743     0.9458          8        640:  73%|███████▎  | 321/442 [15:36<05:40"
     ]
    },
    {
     "name": "stdout",
     "output_type": "stream",
     "text": [
      "[GPU 모니터] 메모리 할당: 1600.1MB, 예약: 8686.0MB\n"
     ]
    },
    {
     "name": "stderr",
     "output_type": "stream",
     "text": [
      "      21/30      8.48G     0.5407     0.3732     0.9461          9        640:  77%|███████▋  | 342/442 [16:37<04:55"
     ]
    },
    {
     "name": "stdout",
     "output_type": "stream",
     "text": [
      "[GPU 모니터] 메모리 할당: 8332.8MB, 예약: 8686.0MB\n"
     ]
    },
    {
     "name": "stderr",
     "output_type": "stream",
     "text": [
      "      21/30      8.48G     0.5413     0.3734     0.9467          9        640:  82%|████████▏ | 362/442 [17:36<03:48"
     ]
    },
    {
     "name": "stdout",
     "output_type": "stream",
     "text": [
      "[GPU 모니터] 메모리 할당: 1562.1MB, 예약: 8686.0MB\n"
     ]
    },
    {
     "name": "stderr",
     "output_type": "stream",
     "text": [
      "      21/30      8.48G     0.5406     0.3723     0.9473         12        640:  87%|████████▋ | 383/442 [18:38<02:55"
     ]
    },
    {
     "name": "stdout",
     "output_type": "stream",
     "text": [
      "[GPU 모니터] 메모리 할당: 8370.2MB, 예약: 8686.0MB\n"
     ]
    },
    {
     "name": "stderr",
     "output_type": "stream",
     "text": [
      "      21/30      8.48G     0.5377     0.3716     0.9488          9        640:  91%|█████████ | 403/442 [19:36<01:53"
     ]
    },
    {
     "name": "stdout",
     "output_type": "stream",
     "text": [
      "[GPU 모니터] 메모리 할당: 1600.1MB, 예약: 8686.0MB\n"
     ]
    },
    {
     "name": "stderr",
     "output_type": "stream",
     "text": [
      "      21/30      8.48G     0.5382     0.3722       0.95         11        640:  96%|█████████▌| 424/442 [20:37<00:53"
     ]
    },
    {
     "name": "stdout",
     "output_type": "stream",
     "text": [
      "[GPU 모니터] 메모리 할당: 8100.9MB, 예약: 8686.0MB\n"
     ]
    },
    {
     "name": "stderr",
     "output_type": "stream",
     "text": [
      "      21/30      8.53G     0.5392     0.3752      0.951          2        640: 100%|██████████| 442/442 [21:27<00:00\n",
      "                 Class     Images  Instances      Box(P          R      mAP50  mAP50-95):  55%|█████▍    | 28/51 [00"
     ]
    },
    {
     "name": "stdout",
     "output_type": "stream",
     "text": [
      "[GPU 모니터] 메모리 할당: 1168.7MB, 예약: 4946.0MB\n"
     ]
    },
    {
     "name": "stderr",
     "output_type": "stream",
     "text": [
      "                 Class     Images  Instances      Box(P          R      mAP50  mAP50-95): 100%|██████████| 51/51 [00"
     ]
    },
    {
     "name": "stdout",
     "output_type": "stream",
     "text": [
      "                   all        801        944      0.916      0.921      0.957      0.815\n"
     ]
    },
    {
     "name": "stderr",
     "output_type": "stream",
     "text": [
      "\n"
     ]
    },
    {
     "name": "stdout",
     "output_type": "stream",
     "text": [
      "\n",
      "      Epoch    GPU_mem   box_loss   cls_loss   dfl_loss  Instances       Size\n"
     ]
    },
    {
     "name": "stderr",
     "output_type": "stream",
     "text": [
      "      22/30      8.39G        0.5     0.3424     0.9285          9        640:   4%|▎         | 16/442 [00:47<22:35,"
     ]
    },
    {
     "name": "stdout",
     "output_type": "stream",
     "text": [
      "[GPU 모니터] 메모리 할당: 1235.9MB, 예약: 8596.0MB\n"
     ]
    },
    {
     "name": "stderr",
     "output_type": "stream",
     "text": [
      "      22/30      8.39G     0.5642     0.3702     0.9408          8        640:   8%|▊         | 35/442 [01:48<21:43,"
     ]
    },
    {
     "name": "stdout",
     "output_type": "stream",
     "text": [
      "[GPU 모니터] 메모리 할당: 1273.9MB, 예약: 8596.0MB\n"
     ]
    },
    {
     "name": "stderr",
     "output_type": "stream",
     "text": [
      "      22/30      8.39G     0.5492     0.3795     0.9437          9        640:  12%|█▏        | 54/442 [02:49<21:07,"
     ]
    },
    {
     "name": "stdout",
     "output_type": "stream",
     "text": [
      "[GPU 모니터] 메모리 할당: 7778.9MB, 예약: 8596.0MB\n"
     ]
    },
    {
     "name": "stderr",
     "output_type": "stream",
     "text": [
      "      22/30      8.39G     0.5487     0.3851     0.9471         10        640:  17%|█▋        | 73/442 [03:50<19:37,"
     ]
    },
    {
     "name": "stdout",
     "output_type": "stream",
     "text": [
      "[GPU 모니터] 메모리 할당: 1235.9MB, 예약: 8596.0MB\n"
     ]
    },
    {
     "name": "stderr",
     "output_type": "stream",
     "text": [
      "      22/30      8.39G     0.5463     0.3931     0.9499          9        640:  21%|██        | 91/442 [04:48<18:44,"
     ]
    },
    {
     "name": "stdout",
     "output_type": "stream",
     "text": [
      "[GPU 모니터] 메모리 할당: 1273.9MB, 예약: 8596.0MB\n"
     ]
    },
    {
     "name": "stderr",
     "output_type": "stream",
     "text": [
      "      22/30      8.39G     0.5427      0.391     0.9534         10        640:  25%|██▍       | 110/442 [05:49<18:05"
     ]
    },
    {
     "name": "stdout",
     "output_type": "stream",
     "text": [
      "[GPU 모니터] 메모리 할당: 7778.9MB, 예약: 8596.0MB\n"
     ]
    },
    {
     "name": "stderr",
     "output_type": "stream",
     "text": [
      "      22/30      8.39G     0.5373     0.3828      0.952          9        640:  29%|██▉       | 129/442 [06:49<16:35"
     ]
    },
    {
     "name": "stdout",
     "output_type": "stream",
     "text": [
      "[GPU 모니터] 메모리 할당: 8045.0MB, 예약: 8596.0MB\n"
     ]
    },
    {
     "name": "stderr",
     "output_type": "stream",
     "text": [
      "      22/30      8.39G     0.5373     0.3841     0.9524          8        640:  33%|███▎      | 147/442 [07:47<15:45"
     ]
    },
    {
     "name": "stdout",
     "output_type": "stream",
     "text": [
      "[GPU 모니터] 메모리 할당: 1273.9MB, 예약: 8596.0MB\n"
     ]
    },
    {
     "name": "stderr",
     "output_type": "stream",
     "text": [
      "      22/30      8.39G     0.5381     0.3831     0.9536         12        640:  38%|███▊      | 166/442 [08:49<15:04"
     ]
    },
    {
     "name": "stdout",
     "output_type": "stream",
     "text": [
      "[GPU 모니터] 메모리 할당: 1235.9MB, 예약: 8596.0MB\n"
     ]
    },
    {
     "name": "stderr",
     "output_type": "stream",
     "text": [
      "      22/30      8.39G      0.538      0.381     0.9527         11        640:  42%|████▏     | 185/442 [09:49<13:37"
     ]
    },
    {
     "name": "stdout",
     "output_type": "stream",
     "text": [
      "[GPU 모니터] 메모리 할당: 8045.0MB, 예약: 8596.0MB\n"
     ]
    },
    {
     "name": "stderr",
     "output_type": "stream",
     "text": [
      "      22/30      8.39G     0.5366     0.3786      0.954          8        640:  46%|████▌     | 203/442 [10:47<12:46"
     ]
    },
    {
     "name": "stdout",
     "output_type": "stream",
     "text": [
      "[GPU 모니터] 메모리 할당: 1273.9MB, 예약: 8596.0MB\n"
     ]
    },
    {
     "name": "stderr",
     "output_type": "stream",
     "text": [
      "      22/30      8.39G     0.5365     0.3737      0.954         11        640:  50%|█████     | 222/442 [11:48<12:00"
     ]
    },
    {
     "name": "stdout",
     "output_type": "stream",
     "text": [
      "[GPU 모니터] 메모리 할당: 1235.9MB, 예약: 8596.0MB\n"
     ]
    },
    {
     "name": "stderr",
     "output_type": "stream",
     "text": [
      "      22/30      8.39G     0.5363     0.3715     0.9501          8        640:  55%|█████▍    | 241/442 [12:49<10:39"
     ]
    },
    {
     "name": "stdout",
     "output_type": "stream",
     "text": [
      "[GPU 모니터] 메모리 할당: 8045.0MB, 예약: 8596.0MB\n"
     ]
    },
    {
     "name": "stderr",
     "output_type": "stream",
     "text": [
      "      22/30      8.39G     0.5337     0.3702     0.9481          8        640:  59%|█████▊    | 259/442 [13:47<09:44"
     ]
    },
    {
     "name": "stdout",
     "output_type": "stream",
     "text": [
      "[GPU 모니터] 메모리 할당: 1273.9MB, 예약: 8596.0MB\n"
     ]
    },
    {
     "name": "stderr",
     "output_type": "stream",
     "text": [
      "      22/30      8.39G     0.5327     0.3699     0.9466         12        640:  63%|██████▎   | 278/442 [14:48<08:56"
     ]
    },
    {
     "name": "stdout",
     "output_type": "stream",
     "text": [
      "[GPU 모니터] 메모리 할당: 1235.9MB, 예약: 8596.0MB\n"
     ]
    },
    {
     "name": "stderr",
     "output_type": "stream",
     "text": [
      "      22/30      8.39G     0.5352     0.3688     0.9456          9        640:  67%|██████▋   | 297/442 [15:49<07:42"
     ]
    },
    {
     "name": "stdout",
     "output_type": "stream",
     "text": [
      "[GPU 모니터] 메모리 할당: 8045.0MB, 예약: 8596.0MB\n"
     ]
    },
    {
     "name": "stderr",
     "output_type": "stream",
     "text": [
      "      22/30      8.39G     0.5344     0.3693     0.9444         11        640:  71%|███████▏  | 316/442 [16:50<06:49"
     ]
    },
    {
     "name": "stdout",
     "output_type": "stream",
     "text": [
      "[GPU 모니터] 메모리 할당: 1273.9MB, 예약: 8596.0MB\n"
     ]
    },
    {
     "name": "stderr",
     "output_type": "stream",
     "text": [
      "      22/30      8.39G      0.536     0.3693     0.9445         12        640:  76%|███████▌  | 334/442 [17:48<05:53"
     ]
    },
    {
     "name": "stdout",
     "output_type": "stream",
     "text": [
      "[GPU 모니터] 메모리 할당: 1235.9MB, 예약: 8596.0MB\n"
     ]
    },
    {
     "name": "stderr",
     "output_type": "stream",
     "text": [
      "      22/30      8.39G     0.5341     0.3674     0.9447          8        640:  80%|███████▉  | 353/442 [18:48<04:42"
     ]
    },
    {
     "name": "stdout",
     "output_type": "stream",
     "text": [
      "[GPU 모니터] 메모리 할당: 1273.9MB, 예약: 8596.0MB\n"
     ]
    },
    {
     "name": "stderr",
     "output_type": "stream",
     "text": [
      "      22/30      8.39G     0.5317     0.3664     0.9438         11        640:  84%|████████▍ | 372/442 [19:49<03:46"
     ]
    },
    {
     "name": "stdout",
     "output_type": "stream",
     "text": [
      "[GPU 모니터] 메모리 할당: 8007.3MB, 예약: 8596.0MB\n"
     ]
    },
    {
     "name": "stderr",
     "output_type": "stream",
     "text": [
      "      22/30      8.39G     0.5331      0.368     0.9436         11        640:  88%|████████▊ | 390/442 [20:47<02:50"
     ]
    },
    {
     "name": "stdout",
     "output_type": "stream",
     "text": [
      "[GPU 모니터] 메모리 할당: 1235.9MB, 예약: 8596.0MB\n"
     ]
    },
    {
     "name": "stderr",
     "output_type": "stream",
     "text": [
      "      22/30      8.39G     0.5316     0.3665      0.942         12        640:  93%|█████████▎| 409/442 [21:48<01:44"
     ]
    },
    {
     "name": "stdout",
     "output_type": "stream",
     "text": [
      "[GPU 모니터] 메모리 할당: 1273.9MB, 예약: 8596.0MB\n"
     ]
    },
    {
     "name": "stderr",
     "output_type": "stream",
     "text": [
      "      22/30      8.39G     0.5335     0.3679     0.9403         12        640:  97%|█████████▋| 428/442 [22:49<00:45"
     ]
    },
    {
     "name": "stdout",
     "output_type": "stream",
     "text": [
      "[GPU 모니터] 메모리 할당: 8007.3MB, 예약: 8596.0MB\n"
     ]
    },
    {
     "name": "stderr",
     "output_type": "stream",
     "text": [
      "      22/30      8.43G     0.5329     0.3682     0.9401          2        640: 100%|██████████| 442/442 [23:31<00:00\n",
      "                 Class     Images  Instances      Box(P          R      mAP50  mAP50-95):  96%|█████████▌| 49/51 [00"
     ]
    },
    {
     "name": "stdout",
     "output_type": "stream",
     "text": [
      "[GPU 모니터] 메모리 할당: 1195.0MB, 예약: 4338.0MB\n"
     ]
    },
    {
     "name": "stderr",
     "output_type": "stream",
     "text": [
      "                 Class     Images  Instances      Box(P          R      mAP50  mAP50-95): 100%|██████████| 51/51 [00"
     ]
    },
    {
     "name": "stdout",
     "output_type": "stream",
     "text": [
      "                   all        801        944       0.95      0.905       0.96      0.827\n"
     ]
    },
    {
     "name": "stderr",
     "output_type": "stream",
     "text": [
      "\n"
     ]
    },
    {
     "name": "stdout",
     "output_type": "stream",
     "text": [
      "\n",
      "      Epoch    GPU_mem   box_loss   cls_loss   dfl_loss  Instances       Size\n"
     ]
    },
    {
     "name": "stderr",
     "output_type": "stream",
     "text": [
      "      23/30      8.37G     0.5394     0.3824      0.938         11        640:   5%|▍         | 22/442 [00:55<18:26,"
     ]
    },
    {
     "name": "stdout",
     "output_type": "stream",
     "text": [
      "[GPU 모니터] 메모리 할당: 1236.8MB, 예약: 8574.0MB\n"
     ]
    },
    {
     "name": "stderr",
     "output_type": "stream",
     "text": [
      "      23/30      8.37G     0.5501     0.3579     0.9515          8        640:  10%|█         | 45/442 [01:56<17:30,"
     ]
    },
    {
     "name": "stdout",
     "output_type": "stream",
     "text": [
      "[GPU 모니터] 메모리 할당: 8054.8MB, 예약: 8574.0MB\n"
     ]
    },
    {
     "name": "stderr",
     "output_type": "stream",
     "text": [
      "      23/30      8.37G     0.5505     0.3535     0.9409         10        640:  15%|█▌        | 68/442 [02:57<16:40,"
     ]
    },
    {
     "name": "stdout",
     "output_type": "stream",
     "text": [
      "[GPU 모니터] 메모리 할당: 1274.8MB, 예약: 8574.0MB\n"
     ]
    },
    {
     "name": "stderr",
     "output_type": "stream",
     "text": [
      "      23/30      8.37G     0.5439     0.3533     0.9416          8        640:  20%|██        | 90/442 [03:55<15:29,"
     ]
    },
    {
     "name": "stdout",
     "output_type": "stream",
     "text": [
      "[GPU 모니터] 메모리 할당: 1236.8MB, 예약: 8574.0MB\n"
     ]
    },
    {
     "name": "stderr",
     "output_type": "stream",
     "text": [
      "      23/30      8.37G     0.5432     0.3546     0.9402         13        640:  26%|██▌       | 113/442 [04:56<14:32"
     ]
    },
    {
     "name": "stdout",
     "output_type": "stream",
     "text": [
      "[GPU 모니터] 메모리 할당: 8054.8MB, 예약: 8574.0MB\n"
     ]
    },
    {
     "name": "stderr",
     "output_type": "stream",
     "text": [
      "      23/30      8.37G     0.5397     0.3538     0.9437          8        640:  31%|███       | 136/442 [05:57<13:27"
     ]
    },
    {
     "name": "stdout",
     "output_type": "stream",
     "text": [
      "[GPU 모니터] 메모리 할당: 1274.8MB, 예약: 8574.0MB\n"
     ]
    },
    {
     "name": "stderr",
     "output_type": "stream",
     "text": [
      "      23/30      8.37G     0.5365     0.3573     0.9413          9        640:  36%|███▌      | 158/442 [06:55<12:27"
     ]
    },
    {
     "name": "stdout",
     "output_type": "stream",
     "text": [
      "[GPU 모니터] 메모리 할당: 1236.8MB, 예약: 8574.0MB\n"
     ]
    },
    {
     "name": "stderr",
     "output_type": "stream",
     "text": [
      "      23/30      8.37G     0.5354     0.3585     0.9416         11        640:  41%|████      | 181/442 [07:56<11:29"
     ]
    },
    {
     "name": "stdout",
     "output_type": "stream",
     "text": [
      "[GPU 모니터] 메모리 할당: 8054.8MB, 예약: 8574.0MB\n"
     ]
    },
    {
     "name": "stderr",
     "output_type": "stream",
     "text": [
      "      23/30      8.37G     0.5359     0.3593     0.9407          8        640:  46%|████▌     | 203/442 [08:55<10:35"
     ]
    },
    {
     "name": "stdout",
     "output_type": "stream",
     "text": [
      "[GPU 모니터] 메모리 할당: 1274.8MB, 예약: 8574.0MB\n"
     ]
    },
    {
     "name": "stderr",
     "output_type": "stream",
     "text": [
      "      23/30      8.37G     0.5353      0.358     0.9412         11        640:  51%|█████     | 226/442 [09:55<09:29"
     ]
    },
    {
     "name": "stdout",
     "output_type": "stream",
     "text": [
      "[GPU 모니터] 메모리 할당: 1236.8MB, 예약: 8574.0MB\n"
     ]
    },
    {
     "name": "stderr",
     "output_type": "stream",
     "text": [
      "      23/30      8.37G     0.5343     0.3614     0.9422          8        640:  56%|█████▋    | 249/442 [10:56<08:32"
     ]
    },
    {
     "name": "stdout",
     "output_type": "stream",
     "text": [
      "[GPU 모니터] 메모리 할당: 8054.8MB, 예약: 8574.0MB\n"
     ]
    },
    {
     "name": "stderr",
     "output_type": "stream",
     "text": [
      "      23/30      8.37G     0.5293     0.3556     0.9417          8        640:  61%|██████▏   | 271/442 [11:55<07:33"
     ]
    },
    {
     "name": "stdout",
     "output_type": "stream",
     "text": [
      "[GPU 모니터] 메모리 할당: 1274.8MB, 예약: 8574.0MB\n"
     ]
    },
    {
     "name": "stderr",
     "output_type": "stream",
     "text": [
      "      23/30      8.37G     0.5298     0.3538     0.9444          9        640:  67%|██████▋   | 294/442 [12:56<06:30"
     ]
    },
    {
     "name": "stdout",
     "output_type": "stream",
     "text": [
      "[GPU 모니터] 메모리 할당: 1236.8MB, 예약: 8574.0MB\n"
     ]
    },
    {
     "name": "stderr",
     "output_type": "stream",
     "text": [
      "      23/30      8.37G     0.5307     0.3537     0.9441          8        640:  72%|███████▏  | 317/442 [13:57<05:30"
     ]
    },
    {
     "name": "stdout",
     "output_type": "stream",
     "text": [
      "[GPU 모니터] 메모리 할당: 8054.8MB, 예약: 8574.0MB\n"
     ]
    },
    {
     "name": "stderr",
     "output_type": "stream",
     "text": [
      "      23/30      8.37G     0.5304      0.354     0.9444          9        640:  77%|███████▋  | 339/442 [14:55<04:33"
     ]
    },
    {
     "name": "stdout",
     "output_type": "stream",
     "text": [
      "[GPU 모니터] 메모리 할당: 1274.8MB, 예약: 8574.0MB\n"
     ]
    },
    {
     "name": "stderr",
     "output_type": "stream",
     "text": [
      "      23/30      8.37G     0.5307     0.3535     0.9437         11        640:  82%|████████▏ | 362/442 [15:56<03:31"
     ]
    },
    {
     "name": "stdout",
     "output_type": "stream",
     "text": [
      "[GPU 모니터] 메모리 할당: 1236.8MB, 예약: 8574.0MB\n"
     ]
    },
    {
     "name": "stderr",
     "output_type": "stream",
     "text": [
      "      23/30      8.37G     0.5284     0.3537     0.9431          8        640:  87%|████████▋ | 385/442 [16:57<02:31"
     ]
    },
    {
     "name": "stdout",
     "output_type": "stream",
     "text": [
      "[GPU 모니터] 메모리 할당: 8054.8MB, 예약: 8574.0MB\n"
     ]
    },
    {
     "name": "stderr",
     "output_type": "stream",
     "text": [
      "      23/30      8.37G     0.5271     0.3545     0.9431         10        640:  92%|█████████▏| 407/442 [17:55<01:32"
     ]
    },
    {
     "name": "stdout",
     "output_type": "stream",
     "text": [
      "[GPU 모니터] 메모리 할당: 1274.8MB, 예약: 8574.0MB\n"
     ]
    },
    {
     "name": "stderr",
     "output_type": "stream",
     "text": [
      "      23/30      8.37G     0.5263     0.3535     0.9431         11        640:  97%|█████████▋| 430/442 [18:56<00:31"
     ]
    },
    {
     "name": "stdout",
     "output_type": "stream",
     "text": [
      "[GPU 모니터] 메모리 할당: 8016.5MB, 예약: 8574.0MB\n"
     ]
    },
    {
     "name": "stderr",
     "output_type": "stream",
     "text": [
      "      23/30      8.42G     0.5277      0.353     0.9429          6        640: 100%|██████████| 442/442 [19:26<00:00\n",
      "                 Class     Images  Instances      Box(P          R      mAP50  mAP50-95): 100%|██████████| 51/51 [00"
     ]
    },
    {
     "name": "stdout",
     "output_type": "stream",
     "text": [
      "                   all        801        944      0.952      0.913      0.962       0.83\n"
     ]
    },
    {
     "name": "stderr",
     "output_type": "stream",
     "text": [
      "\n"
     ]
    },
    {
     "name": "stdout",
     "output_type": "stream",
     "text": [
      "\n",
      "      Epoch    GPU_mem   box_loss   cls_loss   dfl_loss  Instances       Size\n"
     ]
    },
    {
     "name": "stderr",
     "output_type": "stream",
     "text": [
      "      24/30      8.38G     0.5968     0.4053     0.9793         10        640:   1%|          | 4/442 [00:09<17:17, "
     ]
    },
    {
     "name": "stdout",
     "output_type": "stream",
     "text": [
      "[GPU 모니터] 메모리 할당: 1241.3MB, 예약: 8582.0MB\n"
     ]
    },
    {
     "name": "stderr",
     "output_type": "stream",
     "text": [
      "      24/30      8.38G     0.5162     0.3294     0.9835          9        640:   6%|▋         | 28/442 [01:09<16:59,"
     ]
    },
    {
     "name": "stdout",
     "output_type": "stream",
     "text": [
      "[GPU 모니터] 메모리 할당: 8025.3MB, 예약: 8582.0MB\n"
     ]
    },
    {
     "name": "stderr",
     "output_type": "stream",
     "text": [
      "      24/30      8.38G     0.4961     0.3158     0.9537          9        640:  12%|█▏        | 52/442 [02:09<16:02,"
     ]
    },
    {
     "name": "stdout",
     "output_type": "stream",
     "text": [
      "[GPU 모니터] 메모리 할당: 8025.2MB, 예약: 8582.0MB\n"
     ]
    },
    {
     "name": "stderr",
     "output_type": "stream",
     "text": [
      "      24/30      8.38G      0.492     0.3206     0.9476          8        640:  17%|█▋        | 76/442 [03:09<15:01,"
     ]
    },
    {
     "name": "stdout",
     "output_type": "stream",
     "text": [
      "[GPU 모니터] 메모리 할당: 8025.2MB, 예약: 8582.0MB\n"
     ]
    },
    {
     "name": "stderr",
     "output_type": "stream",
     "text": [
      "      24/30      8.38G     0.4984     0.3265     0.9426          8        640:  23%|██▎       | 100/442 [04:09<14:01"
     ]
    },
    {
     "name": "stdout",
     "output_type": "stream",
     "text": [
      "[GPU 모니터] 메모리 할당: 8025.2MB, 예약: 8582.0MB\n"
     ]
    },
    {
     "name": "stderr",
     "output_type": "stream",
     "text": [
      "      24/30      8.38G      0.514     0.3341     0.9458         12        640:  28%|██▊       | 124/442 [05:09<13:04"
     ]
    },
    {
     "name": "stdout",
     "output_type": "stream",
     "text": [
      "[GPU 모니터] 메모리 할당: 8025.2MB, 예약: 8582.0MB\n"
     ]
    },
    {
     "name": "stderr",
     "output_type": "stream",
     "text": [
      "      24/30      8.38G     0.5134     0.3352     0.9456          8        640:  33%|███▎      | 148/442 [06:09<12:05"
     ]
    },
    {
     "name": "stdout",
     "output_type": "stream",
     "text": [
      "[GPU 모니터] 메모리 할당: 8025.2MB, 예약: 8582.0MB\n"
     ]
    },
    {
     "name": "stderr",
     "output_type": "stream",
     "text": [
      "      24/30      8.38G     0.5117      0.336     0.9429         11        640:  39%|███▉      | 172/442 [07:09<11:04"
     ]
    },
    {
     "name": "stdout",
     "output_type": "stream",
     "text": [
      "[GPU 모니터] 메모리 할당: 8025.2MB, 예약: 8582.0MB\n"
     ]
    },
    {
     "name": "stderr",
     "output_type": "stream",
     "text": [
      "      24/30      8.38G     0.5104     0.3356     0.9416         11        640:  44%|████▍     | 196/442 [08:10<10:06"
     ]
    },
    {
     "name": "stdout",
     "output_type": "stream",
     "text": [
      "[GPU 모니터] 메모리 할당: 8025.2MB, 예약: 8582.0MB\n"
     ]
    },
    {
     "name": "stderr",
     "output_type": "stream",
     "text": [
      "      24/30      8.38G     0.5108     0.3351     0.9401          8        640:  50%|████▉     | 220/442 [09:10<09:06"
     ]
    },
    {
     "name": "stdout",
     "output_type": "stream",
     "text": [
      "[GPU 모니터] 메모리 할당: 8025.2MB, 예약: 8582.0MB\n"
     ]
    },
    {
     "name": "stderr",
     "output_type": "stream",
     "text": [
      "      24/30      8.38G     0.5086     0.3345     0.9422          8        640:  55%|█████▌    | 244/442 [10:10<08:07"
     ]
    },
    {
     "name": "stdout",
     "output_type": "stream",
     "text": [
      "[GPU 모니터] 메모리 할당: 7154.5MB, 예약: 8582.0MB\n"
     ]
    },
    {
     "name": "stderr",
     "output_type": "stream",
     "text": [
      "      24/30      8.38G     0.5134     0.3391     0.9421         12        640:  61%|██████    | 268/442 [11:10<07:08"
     ]
    },
    {
     "name": "stdout",
     "output_type": "stream",
     "text": [
      "[GPU 모니터] 메모리 할당: 1279.3MB, 예약: 8582.0MB\n"
     ]
    },
    {
     "name": "stderr",
     "output_type": "stream",
     "text": [
      "      24/30      8.38G     0.5127     0.3364       0.94          8        640:  66%|██████▌   | 292/442 [12:10<06:09"
     ]
    },
    {
     "name": "stdout",
     "output_type": "stream",
     "text": [
      "[GPU 모니터] 메모리 할당: 1279.3MB, 예약: 8582.0MB\n"
     ]
    },
    {
     "name": "stderr",
     "output_type": "stream",
     "text": [
      "      24/30      8.38G      0.511     0.3367     0.9403          8        640:  71%|███████▏  | 316/442 [13:10<05:10"
     ]
    },
    {
     "name": "stdout",
     "output_type": "stream",
     "text": [
      "[GPU 모니터] 메모리 할당: 1279.3MB, 예약: 8582.0MB\n"
     ]
    },
    {
     "name": "stderr",
     "output_type": "stream",
     "text": [
      "      24/30      8.38G     0.5122     0.3364     0.9393          9        640:  77%|███████▋  | 340/442 [14:10<04:12"
     ]
    },
    {
     "name": "stdout",
     "output_type": "stream",
     "text": [
      "[GPU 모니터] 메모리 할당: 1279.3MB, 예약: 8582.0MB\n"
     ]
    },
    {
     "name": "stderr",
     "output_type": "stream",
     "text": [
      "      24/30      8.38G     0.5131     0.3369     0.9392          9        640:  82%|████████▏ | 364/442 [15:10<03:12"
     ]
    },
    {
     "name": "stdout",
     "output_type": "stream",
     "text": [
      "[GPU 모니터] 메모리 할당: 1279.3MB, 예약: 8582.0MB\n"
     ]
    },
    {
     "name": "stderr",
     "output_type": "stream",
     "text": [
      "      24/30      8.38G     0.5166     0.3384     0.9373          8        640:  88%|████████▊ | 388/442 [16:10<02:12"
     ]
    },
    {
     "name": "stdout",
     "output_type": "stream",
     "text": [
      "[GPU 모니터] 메모리 할당: 1279.3MB, 예약: 8582.0MB\n"
     ]
    },
    {
     "name": "stderr",
     "output_type": "stream",
     "text": [
      "      24/30      8.38G     0.5155     0.3399      0.937          8        640:  93%|█████████▎| 411/442 [17:10<01:15"
     ]
    },
    {
     "name": "stdout",
     "output_type": "stream",
     "text": [
      "[GPU 모니터] 메모리 할당: 1279.3MB, 예약: 8582.0MB\n"
     ]
    },
    {
     "name": "stderr",
     "output_type": "stream",
     "text": [
      "      24/30      8.38G     0.5152     0.3386     0.9369          7        640:  99%|█████████▊| 436/442 [18:10<00:14"
     ]
    },
    {
     "name": "stdout",
     "output_type": "stream",
     "text": [
      "[GPU 모니터] 메모리 할당: 1279.3MB, 예약: 8582.0MB\n"
     ]
    },
    {
     "name": "stderr",
     "output_type": "stream",
     "text": [
      "      24/30      8.42G     0.5151     0.3387     0.9375          2        640: 100%|██████████| 442/442 [18:23<00:00\n",
      "                 Class     Images  Instances      Box(P          R      mAP50  mAP50-95): 100%|██████████| 51/51 [00"
     ]
    },
    {
     "name": "stdout",
     "output_type": "stream",
     "text": [
      "                   all        801        944      0.959      0.908      0.966      0.829\n"
     ]
    },
    {
     "name": "stderr",
     "output_type": "stream",
     "text": [
      "\n"
     ]
    },
    {
     "name": "stdout",
     "output_type": "stream",
     "text": [
      "\n",
      "      Epoch    GPU_mem   box_loss   cls_loss   dfl_loss  Instances       Size\n"
     ]
    },
    {
     "name": "stderr",
     "output_type": "stream",
     "text": [
      "      25/30      8.49G     0.4369     0.3312     0.9185          8        640:   2%|▏         | 9/442 [00:23<18:57, "
     ]
    },
    {
     "name": "stdout",
     "output_type": "stream",
     "text": [
      "[GPU 모니터] 메모리 할당: 1602.4MB, 예약: 8696.0MB\n"
     ]
    },
    {
     "name": "stderr",
     "output_type": "stream",
     "text": [
      "      25/30      8.49G     0.4769     0.3161     0.9365         11        640:   7%|▋         | 31/442 [01:25<19:30,"
     ]
    },
    {
     "name": "stdout",
     "output_type": "stream",
     "text": [
      "[GPU 모니터] 메모리 할당: 8371.2MB, 예약: 8696.0MB\n"
     ]
    },
    {
     "name": "stderr",
     "output_type": "stream",
     "text": [
      "      25/30      8.49G     0.4753     0.3196     0.9316          8        640:  12%|█▏        | 52/442 [02:24<18:13,"
     ]
    },
    {
     "name": "stdout",
     "output_type": "stream",
     "text": [
      "[GPU 모니터] 메모리 할당: 1564.4MB, 예약: 8696.0MB\n"
     ]
    },
    {
     "name": "stderr",
     "output_type": "stream",
     "text": [
      "      25/30      8.49G      0.489     0.3249      0.936          8        640:  17%|█▋        | 74/442 [03:25<16:46,"
     ]
    },
    {
     "name": "stdout",
     "output_type": "stream",
     "text": [
      "[GPU 모니터] 메모리 할당: 8333.7MB, 예약: 8696.0MB\n"
     ]
    },
    {
     "name": "stderr",
     "output_type": "stream",
     "text": [
      "      25/30      8.49G     0.4958     0.3229     0.9307          8        640:  21%|██▏       | 95/442 [04:24<16:26,"
     ]
    },
    {
     "name": "stdout",
     "output_type": "stream",
     "text": [
      "[GPU 모니터] 메모리 할당: 1602.4MB, 예약: 8696.0MB\n"
     ]
    },
    {
     "name": "stderr",
     "output_type": "stream",
     "text": [
      "      25/30      8.49G     0.4939     0.3201     0.9319          8        640:  26%|██▋       | 117/442 [05:26<15:16"
     ]
    },
    {
     "name": "stdout",
     "output_type": "stream",
     "text": [
      "[GPU 모니터] 메모리 할당: 1564.4MB, 예약: 8696.0MB\n"
     ]
    },
    {
     "name": "stderr",
     "output_type": "stream",
     "text": [
      "      25/30      8.49G     0.4973     0.3204     0.9338         11        640:  31%|███       | 138/442 [06:24<13:53"
     ]
    },
    {
     "name": "stdout",
     "output_type": "stream",
     "text": [
      "[GPU 모니터] 메모리 할당: 1564.4MB, 예약: 8696.0MB\n"
     ]
    },
    {
     "name": "stderr",
     "output_type": "stream",
     "text": [
      "      25/30      8.49G     0.5031      0.323     0.9321         11        640:  36%|███▌      | 159/442 [07:23<13:26"
     ]
    },
    {
     "name": "stdout",
     "output_type": "stream",
     "text": [
      "[GPU 모니터] 메모리 할당: 1602.4MB, 예약: 8696.0MB\n"
     ]
    },
    {
     "name": "stderr",
     "output_type": "stream",
     "text": [
      "      25/30      8.49G     0.5042     0.3277     0.9325         10        640:  41%|████      | 181/442 [08:25<12:17"
     ]
    },
    {
     "name": "stdout",
     "output_type": "stream",
     "text": [
      "[GPU 모니터] 메모리 할당: 8371.3MB, 예약: 8696.0MB\n"
     ]
    },
    {
     "name": "stderr",
     "output_type": "stream",
     "text": [
      "      25/30      8.49G     0.5039     0.3285     0.9335         10        640:  46%|████▌     | 202/442 [09:23<10:56"
     ]
    },
    {
     "name": "stdout",
     "output_type": "stream",
     "text": [
      "[GPU 모니터] 메모리 할당: 1564.4MB, 예약: 8696.0MB\n"
     ]
    },
    {
     "name": "stderr",
     "output_type": "stream",
     "text": [
      "      25/30      8.49G     0.5109     0.3307      0.934         11        640:  51%|█████     | 224/442 [10:25<10:23"
     ]
    },
    {
     "name": "stdout",
     "output_type": "stream",
     "text": [
      "[GPU 모니터] 메모리 할당: 8102.1MB, 예약: 8696.0MB\n"
     ]
    },
    {
     "name": "stderr",
     "output_type": "stream",
     "text": [
      "      25/30      8.49G     0.5134     0.3363     0.9341         10        640:  55%|█████▌    | 245/442 [11:24<09:16"
     ]
    },
    {
     "name": "stdout",
     "output_type": "stream",
     "text": [
      "[GPU 모니터] 메모리 할당: 1602.4MB, 예약: 8696.0MB\n"
     ]
    },
    {
     "name": "stderr",
     "output_type": "stream",
     "text": [
      "      25/30      8.49G     0.5146     0.3366     0.9333         10        640:  60%|██████    | 267/442 [12:25<08:06"
     ]
    },
    {
     "name": "stdout",
     "output_type": "stream",
     "text": [
      "[GPU 모니터] 메모리 할당: 8371.2MB, 예약: 8696.0MB\n"
     ]
    },
    {
     "name": "stderr",
     "output_type": "stream",
     "text": [
      "      25/30      8.49G     0.5134     0.3344     0.9311          9        640:  65%|██████▌   | 288/442 [13:24<07:20"
     ]
    },
    {
     "name": "stdout",
     "output_type": "stream",
     "text": [
      "[GPU 모니터] 메모리 할당: 1564.9MB, 예약: 8696.0MB\n"
     ]
    },
    {
     "name": "stderr",
     "output_type": "stream",
     "text": [
      "      25/30      8.49G     0.5133      0.334     0.9322          9        640:  70%|███████   | 310/442 [14:26<06:13"
     ]
    },
    {
     "name": "stdout",
     "output_type": "stream",
     "text": [
      "[GPU 모니터] 메모리 할당: 8333.7MB, 예약: 8696.0MB\n"
     ]
    },
    {
     "name": "stderr",
     "output_type": "stream",
     "text": [
      "      25/30      8.49G     0.5114     0.3331     0.9344          8        640:  75%|███████▍  | 331/442 [15:24<05:08"
     ]
    },
    {
     "name": "stdout",
     "output_type": "stream",
     "text": [
      "[GPU 모니터] 메모리 할당: 1602.4MB, 예약: 8696.0MB\n"
     ]
    },
    {
     "name": "stderr",
     "output_type": "stream",
     "text": [
      "      25/30      8.49G     0.5119     0.3327     0.9354         13        640:  80%|███████▉  | 353/442 [16:25<03:59"
     ]
    },
    {
     "name": "stdout",
     "output_type": "stream",
     "text": [
      "[GPU 모니터] 메모리 할당: 8371.2MB, 예약: 8696.0MB\n"
     ]
    },
    {
     "name": "stderr",
     "output_type": "stream",
     "text": [
      "      25/30      8.49G     0.5107     0.3317     0.9343          9        640:  85%|████████▍ | 374/442 [17:25<03:12"
     ]
    },
    {
     "name": "stdout",
     "output_type": "stream",
     "text": [
      "[GPU 모니터] 메모리 할당: 1564.4MB, 예약: 8696.0MB\n"
     ]
    },
    {
     "name": "stderr",
     "output_type": "stream",
     "text": [
      "      25/30      8.49G     0.5122     0.3315     0.9365         11        640:  89%|████████▉ | 395/442 [18:23<02:10"
     ]
    },
    {
     "name": "stdout",
     "output_type": "stream",
     "text": [
      "[GPU 모니터] 메모리 할당: 1602.4MB, 예약: 8696.0MB\n"
     ]
    },
    {
     "name": "stderr",
     "output_type": "stream",
     "text": [
      "      25/30      8.49G     0.5128     0.3317     0.9365          9        640:  94%|█████████▍| 417/442 [19:24<01:07"
     ]
    },
    {
     "name": "stdout",
     "output_type": "stream",
     "text": [
      "[GPU 모니터] 메모리 할당: 1602.4MB, 예약: 8696.0MB\n"
     ]
    },
    {
     "name": "stderr",
     "output_type": "stream",
     "text": [
      "      25/30      8.49G      0.513     0.3328     0.9363          8        640:  99%|█████████▉| 438/442 [20:24<00:11"
     ]
    },
    {
     "name": "stdout",
     "output_type": "stream",
     "text": [
      "[GPU 모니터] 메모리 할당: 1564.4MB, 예약: 8696.0MB\n"
     ]
    },
    {
     "name": "stderr",
     "output_type": "stream",
     "text": [
      "      25/30      8.54G     0.5136     0.3334     0.9358          3        640: 100%|██████████| 442/442 [20:33<00:00\n",
      "                 Class     Images  Instances      Box(P          R      mAP50  mAP50-95): 100%|██████████| 51/51 [00"
     ]
    },
    {
     "name": "stdout",
     "output_type": "stream",
     "text": [
      "                   all        801        944      0.938      0.932      0.968      0.832\n"
     ]
    },
    {
     "name": "stderr",
     "output_type": "stream",
     "text": [
      "\n"
     ]
    },
    {
     "name": "stdout",
     "output_type": "stream",
     "text": [
      "\n",
      "      Epoch    GPU_mem   box_loss   cls_loss   dfl_loss  Instances       Size\n"
     ]
    },
    {
     "name": "stderr",
     "output_type": "stream",
     "text": [
      "      26/30      8.41G     0.4769     0.3137     0.9404          8        640:   3%|▎         | 13/442 [00:31<19:02,"
     ]
    },
    {
     "name": "stdout",
     "output_type": "stream",
     "text": [
      "[GPU 모니터] 메모리 할당: 8045.8MB, 예약: 8608.0MB\n"
     ]
    },
    {
     "name": "stderr",
     "output_type": "stream",
     "text": [
      "      26/30      8.41G     0.4892     0.3151     0.9453          9        640:   8%|▊         | 36/442 [01:29<17:13,"
     ]
    },
    {
     "name": "stdout",
     "output_type": "stream",
     "text": [
      "[GPU 모니터] 메모리 할당: 1236.5MB, 예약: 8608.0MB\n"
     ]
    },
    {
     "name": "stderr",
     "output_type": "stream",
     "text": [
      "      26/30      8.41G     0.5212     0.3296     0.9414         10        640:  14%|█▎        | 60/442 [02:30<16:12,"
     ]
    },
    {
     "name": "stdout",
     "output_type": "stream",
     "text": [
      "[GPU 모니터] 메모리 할당: 1236.5MB, 예약: 8608.0MB\n"
     ]
    },
    {
     "name": "stderr",
     "output_type": "stream",
     "text": [
      "      26/30      8.41G     0.5059      0.323     0.9309          8        640:  19%|█▉        | 84/442 [03:31<15:09,"
     ]
    },
    {
     "name": "stdout",
     "output_type": "stream",
     "text": [
      "[GPU 모니터] 메모리 할당: 8008.3MB, 예약: 8608.0MB\n"
     ]
    },
    {
     "name": "stderr",
     "output_type": "stream",
     "text": [
      "      26/30      8.41G     0.5079     0.3244     0.9237         11        640:  24%|██▍       | 107/442 [04:30<14:45"
     ]
    },
    {
     "name": "stdout",
     "output_type": "stream",
     "text": [
      "[GPU 모니터] 메모리 할당: 1274.5MB, 예약: 8608.0MB\n"
     ]
    },
    {
     "name": "stderr",
     "output_type": "stream",
     "text": [
      "      26/30      8.41G     0.5082     0.3221      0.927          7        640:  30%|██▉       | 131/442 [05:31<13:42"
     ]
    },
    {
     "name": "stdout",
     "output_type": "stream",
     "text": [
      "[GPU 모니터] 메모리 할당: 8045.8MB, 예약: 8608.0MB\n"
     ]
    },
    {
     "name": "stderr",
     "output_type": "stream",
     "text": [
      "      26/30      8.41G     0.4996     0.3188     0.9288         11        640:  35%|███▍      | 154/442 [06:29<11:57"
     ]
    },
    {
     "name": "stdout",
     "output_type": "stream",
     "text": [
      "[GPU 모니터] 메모리 할당: 1236.5MB, 예약: 8608.0MB\n"
     ]
    },
    {
     "name": "stderr",
     "output_type": "stream",
     "text": [
      "      26/30      8.41G        0.5     0.3182     0.9309         13        640:  40%|████      | 178/442 [07:30<10:59"
     ]
    },
    {
     "name": "stdout",
     "output_type": "stream",
     "text": [
      "[GPU 모니터] 메모리 할당: 1236.5MB, 예약: 8608.0MB\n"
     ]
    },
    {
     "name": "stderr",
     "output_type": "stream",
     "text": [
      "      26/30      8.41G     0.5007     0.3159     0.9318         10        640:  46%|████▌     | 202/442 [08:31<09:57"
     ]
    },
    {
     "name": "stdout",
     "output_type": "stream",
     "text": [
      "[GPU 모니터] 메모리 할당: 8008.3MB, 예약: 8608.0MB\n"
     ]
    },
    {
     "name": "stderr",
     "output_type": "stream",
     "text": [
      "      26/30      8.41G     0.5006     0.3159      0.933          8        640:  51%|█████     | 225/442 [09:30<09:17"
     ]
    },
    {
     "name": "stdout",
     "output_type": "stream",
     "text": [
      "[GPU 모니터] 메모리 할당: 1274.5MB, 예약: 8608.0MB\n"
     ]
    },
    {
     "name": "stderr",
     "output_type": "stream",
     "text": [
      "      26/30      8.41G     0.4996     0.3151     0.9322          8        640:  56%|█████▋    | 249/442 [10:31<08:15"
     ]
    },
    {
     "name": "stdout",
     "output_type": "stream",
     "text": [
      "[GPU 모니터] 메모리 할당: 8045.8MB, 예약: 8608.0MB\n"
     ]
    },
    {
     "name": "stderr",
     "output_type": "stream",
     "text": [
      "      26/30      8.41G     0.4995     0.3141     0.9306          8        640:  62%|██████▏   | 272/442 [11:29<06:46"
     ]
    },
    {
     "name": "stdout",
     "output_type": "stream",
     "text": [
      "[GPU 모니터] 메모리 할당: 1236.5MB, 예약: 8608.0MB\n"
     ]
    },
    {
     "name": "stderr",
     "output_type": "stream",
     "text": [
      "      26/30      8.41G     0.5008     0.3165     0.9311         11        640:  67%|██████▋   | 296/442 [12:30<05:48"
     ]
    },
    {
     "name": "stdout",
     "output_type": "stream",
     "text": [
      "[GPU 모니터] 메모리 할당: 1236.5MB, 예약: 8608.0MB\n"
     ]
    },
    {
     "name": "stderr",
     "output_type": "stream",
     "text": [
      "      26/30      8.41G      0.501     0.3161       0.93          9        640:  72%|███████▏  | 320/442 [13:31<04:51"
     ]
    },
    {
     "name": "stdout",
     "output_type": "stream",
     "text": [
      "[GPU 모니터] 메모리 할당: 8008.3MB, 예약: 8608.0MB\n"
     ]
    },
    {
     "name": "stderr",
     "output_type": "stream",
     "text": [
      "      26/30      8.41G      0.499     0.3146     0.9293         10        640:  78%|███████▊  | 343/442 [14:30<04:00"
     ]
    },
    {
     "name": "stdout",
     "output_type": "stream",
     "text": [
      "[GPU 모니터] 메모리 할당: 1274.5MB, 예약: 8608.0MB\n"
     ]
    },
    {
     "name": "stderr",
     "output_type": "stream",
     "text": [
      "      26/30      8.41G     0.5031     0.3156     0.9304         10        640:  83%|████████▎ | 367/442 [15:31<03:01"
     ]
    },
    {
     "name": "stdout",
     "output_type": "stream",
     "text": [
      "[GPU 모니터] 메모리 할당: 8068.6MB, 예약: 8608.0MB\n"
     ]
    },
    {
     "name": "stderr",
     "output_type": "stream",
     "text": [
      "      26/30      8.41G     0.5027     0.3141     0.9306          9        640:  88%|████████▊ | 391/442 [16:32<02:03"
     ]
    },
    {
     "name": "stdout",
     "output_type": "stream",
     "text": [
      "[GPU 모니터] 메모리 할당: 1236.5MB, 예약: 8608.0MB\n"
     ]
    },
    {
     "name": "stderr",
     "output_type": "stream",
     "text": [
      "      26/30      8.41G     0.5034     0.3157      0.932          9        640:  94%|█████████▎| 414/442 [17:31<01:12"
     ]
    },
    {
     "name": "stdout",
     "output_type": "stream",
     "text": [
      "[GPU 모니터] 메모리 할당: 7777.0MB, 예약: 8608.0MB\n"
     ]
    },
    {
     "name": "stderr",
     "output_type": "stream",
     "text": [
      "      26/30      8.41G     0.5028     0.3155     0.9302         14        640:  99%|█████████▉| 438/442 [18:32<00:10"
     ]
    },
    {
     "name": "stdout",
     "output_type": "stream",
     "text": [
      "[GPU 모니터] 메모리 할당: 1042.3MB, 예약: 8608.0MB\n"
     ]
    },
    {
     "name": "stderr",
     "output_type": "stream",
     "text": [
      "      26/30      8.41G     0.5017     0.3155     0.9299          2        640: 100%|██████████| 442/442 [18:40<00:00\n",
      "                 Class     Images  Instances      Box(P          R      mAP50  mAP50-95): 100%|██████████| 51/51 [00"
     ]
    },
    {
     "name": "stdout",
     "output_type": "stream",
     "text": [
      "                   all        801        944      0.954      0.928      0.968      0.834\n"
     ]
    },
    {
     "name": "stderr",
     "output_type": "stream",
     "text": [
      "\n"
     ]
    },
    {
     "name": "stdout",
     "output_type": "stream",
     "text": [
      "\n",
      "      Epoch    GPU_mem   box_loss   cls_loss   dfl_loss  Instances       Size\n"
     ]
    },
    {
     "name": "stderr",
     "output_type": "stream",
     "text": [
      "      27/30      8.38G     0.5078     0.2721     0.9491          9        640:   2%|▏         | 9/442 [00:29<24:46, "
     ]
    },
    {
     "name": "stdout",
     "output_type": "stream",
     "text": [
      "[GPU 모니터] 메모리 할당: 1278.9MB, 예약: 8586.0MB\n"
     ]
    },
    {
     "name": "stderr",
     "output_type": "stream",
     "text": [
      "      27/30      8.38G     0.4585     0.2845     0.9349         11        640:   6%|▌         | 27/442 [01:30<24:01,"
     ]
    },
    {
     "name": "stdout",
     "output_type": "stream",
     "text": [
      "[GPU 모니터] 메모리 할당: 1240.9MB, 예약: 8586.0MB\n"
     ]
    },
    {
     "name": "stderr",
     "output_type": "stream",
     "text": [
      "      27/30      8.38G     0.4771     0.2872     0.9363          9        640:  10%|▉         | 44/442 [02:29<22:40,"
     ]
    },
    {
     "name": "stdout",
     "output_type": "stream",
     "text": [
      "[GPU 모니터] 메모리 할당: 1240.9MB, 예약: 8586.0MB\n"
     ]
    },
    {
     "name": "stderr",
     "output_type": "stream",
     "text": [
      "      27/30      8.38G     0.4851     0.2898     0.9261          8        640:  14%|█▍        | 62/442 [03:30<21:28,"
     ]
    },
    {
     "name": "stdout",
     "output_type": "stream",
     "text": [
      "[GPU 모니터] 메모리 할당: 1278.9MB, 예약: 8586.0MB\n"
     ]
    },
    {
     "name": "stderr",
     "output_type": "stream",
     "text": [
      "      27/30      8.38G     0.4985        0.3     0.9275          8        640:  18%|█▊        | 79/442 [04:29<21:01,"
     ]
    },
    {
     "name": "stdout",
     "output_type": "stream",
     "text": [
      "[GPU 모니터] 메모리 할당: 1278.9MB, 예약: 8586.0MB\n"
     ]
    },
    {
     "name": "stderr",
     "output_type": "stream",
     "text": [
      "      27/30      8.38G     0.5037     0.3032     0.9256          9        640:  22%|██▏       | 96/442 [05:27<19:34,"
     ]
    },
    {
     "name": "stdout",
     "output_type": "stream",
     "text": [
      "[GPU 모니터] 메모리 할당: 1240.9MB, 예약: 8586.0MB\n"
     ]
    },
    {
     "name": "stderr",
     "output_type": "stream",
     "text": [
      "      27/30      8.38G     0.5038      0.302     0.9281          8        640:  26%|██▌       | 114/442 [06:29<18:30"
     ]
    },
    {
     "name": "stdout",
     "output_type": "stream",
     "text": [
      "[GPU 모니터] 메모리 할당: 1240.9MB, 예약: 8586.0MB\n"
     ]
    },
    {
     "name": "stderr",
     "output_type": "stream",
     "text": [
      "      27/30      8.38G     0.4942     0.2995     0.9277          8        640:  30%|██▉       | 131/442 [07:28<18:01"
     ]
    },
    {
     "name": "stdout",
     "output_type": "stream",
     "text": [
      "[GPU 모니터] 메모리 할당: 1278.9MB, 예약: 8586.0MB\n"
     ]
    },
    {
     "name": "stderr",
     "output_type": "stream",
     "text": [
      "      27/30      8.38G     0.4925     0.3013      0.926          8        640:  34%|███▎      | 149/442 [08:29<16:58"
     ]
    },
    {
     "name": "stdout",
     "output_type": "stream",
     "text": [
      "[GPU 모니터] 메모리 할당: 8054.1MB, 예약: 8586.0MB\n"
     ]
    },
    {
     "name": "stderr",
     "output_type": "stream",
     "text": [
      "      27/30      8.38G     0.4916     0.3018     0.9283          8        640:  38%|███▊      | 166/442 [09:28<15:36"
     ]
    },
    {
     "name": "stdout",
     "output_type": "stream",
     "text": [
      "[GPU 모니터] 메모리 할당: 1240.9MB, 예약: 8586.0MB\n"
     ]
    },
    {
     "name": "stderr",
     "output_type": "stream",
     "text": [
      "      27/30      8.38G     0.4874     0.2999     0.9253         10        640:  42%|████▏     | 184/442 [10:29<14:33"
     ]
    },
    {
     "name": "stdout",
     "output_type": "stream",
     "text": [
      "[GPU 모니터] 메모리 할당: 8016.2MB, 예약: 8586.0MB\n"
     ]
    },
    {
     "name": "stderr",
     "output_type": "stream",
     "text": [
      "      27/30      8.38G     0.4886      0.301     0.9241          9        640:  45%|████▌     | 201/442 [11:28<13:56"
     ]
    },
    {
     "name": "stdout",
     "output_type": "stream",
     "text": [
      "[GPU 모니터] 메모리 할당: 1278.9MB, 예약: 8586.0MB\n"
     ]
    },
    {
     "name": "stderr",
     "output_type": "stream",
     "text": [
      "      27/30      8.38G     0.4886     0.3008     0.9252         11        640:  50%|████▉     | 219/442 [12:30<12:54"
     ]
    },
    {
     "name": "stdout",
     "output_type": "stream",
     "text": [
      "[GPU 모니터] 메모리 할당: 8054.1MB, 예약: 8586.0MB\n"
     ]
    },
    {
     "name": "stderr",
     "output_type": "stream",
     "text": [
      "      27/30      8.38G     0.4881     0.3016     0.9239          9        640:  53%|█████▎    | 236/442 [13:28<11:44"
     ]
    },
    {
     "name": "stdout",
     "output_type": "stream",
     "text": [
      "[GPU 모니터] 메모리 할당: 1240.9MB, 예약: 8586.0MB\n"
     ]
    },
    {
     "name": "stderr",
     "output_type": "stream",
     "text": [
      "      27/30      8.38G     0.4903     0.3041     0.9247          8        640:  57%|█████▋    | 254/442 [14:30<10:38"
     ]
    },
    {
     "name": "stdout",
     "output_type": "stream",
     "text": [
      "[GPU 모니터] 메모리 할당: 8016.2MB, 예약: 8586.0MB\n"
     ]
    },
    {
     "name": "stderr",
     "output_type": "stream",
     "text": [
      "      27/30      8.38G     0.4911     0.3039     0.9254          8        640:  61%|██████▏   | 271/442 [15:29<09:54"
     ]
    },
    {
     "name": "stdout",
     "output_type": "stream",
     "text": [
      "[GPU 모니터] 메모리 할당: 1278.9MB, 예약: 8586.0MB\n"
     ]
    },
    {
     "name": "stderr",
     "output_type": "stream",
     "text": [
      "      27/30      8.38G     0.4929     0.3053     0.9292          8        640:  65%|██████▌   | 289/442 [16:30<08:51"
     ]
    },
    {
     "name": "stdout",
     "output_type": "stream",
     "text": [
      "[GPU 모니터] 메모리 할당: 1240.9MB, 예약: 8586.0MB\n"
     ]
    },
    {
     "name": "stderr",
     "output_type": "stream",
     "text": [
      "      27/30      8.38G     0.4918     0.3032     0.9288         10        640:  69%|██████▉   | 306/442 [17:29<07:41"
     ]
    },
    {
     "name": "stdout",
     "output_type": "stream",
     "text": [
      "[GPU 모니터] 메모리 할당: 1240.9MB, 예약: 8586.0MB\n"
     ]
    },
    {
     "name": "stderr",
     "output_type": "stream",
     "text": [
      "      27/30      8.38G     0.4932     0.3041      0.928         11        640:  73%|███████▎  | 323/442 [18:31<06:53"
     ]
    },
    {
     "name": "stdout",
     "output_type": "stream",
     "text": [
      "[GPU 모니터] 메모리 할당: 1278.9MB, 예약: 8586.0MB\n"
     ]
    },
    {
     "name": "stderr",
     "output_type": "stream",
     "text": [
      "      27/30      8.38G     0.4941     0.3032     0.9275          9        640:  77%|███████▋  | 341/442 [19:29<05:51"
     ]
    },
    {
     "name": "stdout",
     "output_type": "stream",
     "text": [
      "[GPU 모니터] 메모리 할당: 1278.9MB, 예약: 8586.0MB\n"
     ]
    },
    {
     "name": "stderr",
     "output_type": "stream",
     "text": [
      "      27/30      8.39G     0.4956     0.3025     0.9274         10        640:  81%|████████  | 358/442 [20:27<04:44"
     ]
    },
    {
     "name": "stdout",
     "output_type": "stream",
     "text": [
      "[GPU 모니터] 메모리 할당: 1240.9MB, 예약: 8588.0MB\n"
     ]
    },
    {
     "name": "stderr",
     "output_type": "stream",
     "text": [
      "      27/30      8.39G     0.4952     0.3034     0.9261          9        640:  85%|████████▌ | 376/442 [21:29<03:43"
     ]
    },
    {
     "name": "stdout",
     "output_type": "stream",
     "text": [
      "[GPU 모니터] 메모리 할당: 8016.2MB, 예약: 8588.0MB\n"
     ]
    },
    {
     "name": "stderr",
     "output_type": "stream",
     "text": [
      "      27/30      8.39G     0.4968     0.3044     0.9269          9        640:  89%|████████▉ | 393/442 [22:28<02:50"
     ]
    },
    {
     "name": "stdout",
     "output_type": "stream",
     "text": [
      "[GPU 모니터] 메모리 할당: 1278.9MB, 예약: 8588.0MB\n"
     ]
    },
    {
     "name": "stderr",
     "output_type": "stream",
     "text": [
      "      27/30      8.39G      0.495     0.3042     0.9258          8        640:  93%|█████████▎| 411/442 [23:30<01:47"
     ]
    },
    {
     "name": "stdout",
     "output_type": "stream",
     "text": [
      "[GPU 모니터] 메모리 할당: 8054.1MB, 예약: 8588.0MB\n"
     ]
    },
    {
     "name": "stderr",
     "output_type": "stream",
     "text": [
      "      27/30      8.39G     0.4973     0.3058     0.9248         11        640:  97%|█████████▋| 428/442 [24:28<00:47"
     ]
    },
    {
     "name": "stdout",
     "output_type": "stream",
     "text": [
      "[GPU 모니터] 메모리 할당: 1240.9MB, 예약: 8588.0MB\n"
     ]
    },
    {
     "name": "stderr",
     "output_type": "stream",
     "text": [
      "      27/30      8.43G     0.5001     0.3077      0.926          5        640: 100%|██████████| 442/442 [25:14<00:00\n",
      "                 Class     Images  Instances      Box(P          R      mAP50  mAP50-95):  86%|████████▋ | 44/51 [00"
     ]
    },
    {
     "name": "stdout",
     "output_type": "stream",
     "text": [
      "[GPU 모니터] 메모리 할당: 1173.6MB, 예약: 4438.0MB\n"
     ]
    },
    {
     "name": "stderr",
     "output_type": "stream",
     "text": [
      "                 Class     Images  Instances      Box(P          R      mAP50  mAP50-95): 100%|██████████| 51/51 [00"
     ]
    },
    {
     "name": "stdout",
     "output_type": "stream",
     "text": [
      "                   all        801        944      0.956      0.921       0.97      0.838\n"
     ]
    },
    {
     "name": "stderr",
     "output_type": "stream",
     "text": [
      "\n"
     ]
    },
    {
     "name": "stdout",
     "output_type": "stream",
     "text": [
      "\n",
      "      Epoch    GPU_mem   box_loss   cls_loss   dfl_loss  Instances       Size\n"
     ]
    },
    {
     "name": "stderr",
     "output_type": "stream",
     "text": [
      "      28/30      8.38G     0.5181     0.3275     0.9131          8        640:   7%|▋         | 30/442 [00:54<12:20,"
     ]
    },
    {
     "name": "stdout",
     "output_type": "stream",
     "text": [
      "[GPU 모니터] 메모리 할당: 1237.0MB, 예약: 8584.0MB\n"
     ]
    },
    {
     "name": "stderr",
     "output_type": "stream",
     "text": [
      "      28/30      8.38G     0.5188     0.3207     0.9092         11        640:  14%|█▍        | 64/442 [01:55<11:30,"
     ]
    },
    {
     "name": "stdout",
     "output_type": "stream",
     "text": [
      "[GPU 모니터] 메모리 할당: 8017.0MB, 예약: 8584.0MB\n"
     ]
    },
    {
     "name": "stderr",
     "output_type": "stream",
     "text": [
      "      28/30      8.38G     0.4919     0.3157     0.9082         13        640:  22%|██▏       | 97/442 [02:54<10:23,"
     ]
    },
    {
     "name": "stdout",
     "output_type": "stream",
     "text": [
      "[GPU 모니터] 메모리 할당: 1275.0MB, 예약: 8584.0MB\n"
     ]
    },
    {
     "name": "stderr",
     "output_type": "stream",
     "text": [
      "      28/30      8.38G     0.4927     0.3116     0.9069         12        640:  30%|██▉       | 131/442 [03:54<08:52"
     ]
    },
    {
     "name": "stdout",
     "output_type": "stream",
     "text": [
      "[GPU 모니터] 메모리 할당: 1275.0MB, 예약: 8584.0MB\n"
     ]
    },
    {
     "name": "stderr",
     "output_type": "stream",
     "text": [
      "      28/30      8.38G     0.4961     0.3091     0.9061          8        640:  37%|███▋      | 165/442 [04:55<08:09"
     ]
    },
    {
     "name": "stdout",
     "output_type": "stream",
     "text": [
      "[GPU 모니터] 메모리 할당: 8054.5MB, 예약: 8584.0MB\n"
     ]
    },
    {
     "name": "stderr",
     "output_type": "stream",
     "text": [
      "      28/30      8.38G     0.4918     0.3008     0.9096         10        640:  45%|████▍     | 198/442 [05:54<07:18"
     ]
    },
    {
     "name": "stdout",
     "output_type": "stream",
     "text": [
      "[GPU 모니터] 메모리 할당: 1237.0MB, 예약: 8584.0MB\n"
     ]
    },
    {
     "name": "stderr",
     "output_type": "stream",
     "text": [
      "      28/30      8.38G     0.4936     0.3002     0.9154         13        640:  52%|█████▏    | 232/442 [06:54<06:20"
     ]
    },
    {
     "name": "stdout",
     "output_type": "stream",
     "text": [
      "[GPU 모니터] 메모리 할당: 1237.0MB, 예약: 8584.0MB\n"
     ]
    },
    {
     "name": "stderr",
     "output_type": "stream",
     "text": [
      "      28/30      8.38G     0.4933     0.2999     0.9158          9        640:  60%|██████    | 266/442 [07:55<05:27"
     ]
    },
    {
     "name": "stdout",
     "output_type": "stream",
     "text": [
      "[GPU 모니터] 메모리 할당: 1275.0MB, 예약: 8584.0MB\n"
     ]
    },
    {
     "name": "stderr",
     "output_type": "stream",
     "text": [
      "      28/30      8.38G     0.4924     0.2986     0.9177          8        640:  68%|██████▊   | 299/442 [08:54<04:04"
     ]
    },
    {
     "name": "stdout",
     "output_type": "stream",
     "text": [
      "[GPU 모니터] 메모리 할당: 1275.0MB, 예약: 8584.0MB\n"
     ]
    },
    {
     "name": "stderr",
     "output_type": "stream",
     "text": [
      "      28/30      8.38G     0.4922     0.2983     0.9161          8        640:  75%|███████▌  | 333/442 [09:55<03:10"
     ]
    },
    {
     "name": "stdout",
     "output_type": "stream",
     "text": [
      "[GPU 모니터] 메모리 할당: 8054.5MB, 예약: 8584.0MB\n"
     ]
    },
    {
     "name": "stderr",
     "output_type": "stream",
     "text": [
      "      28/30      8.38G     0.4935     0.3006      0.918          8        640:  83%|████████▎ | 367/442 [10:55<02:13"
     ]
    },
    {
     "name": "stdout",
     "output_type": "stream",
     "text": [
      "[GPU 모니터] 메모리 할당: 1237.0MB, 예약: 8584.0MB\n"
     ]
    },
    {
     "name": "stderr",
     "output_type": "stream",
     "text": [
      "      28/30      8.38G     0.4921     0.2997     0.9174          8        640:  90%|█████████ | 400/442 [11:54<01:16"
     ]
    },
    {
     "name": "stdout",
     "output_type": "stream",
     "text": [
      "[GPU 모니터] 메모리 할당: 1237.0MB, 예약: 8584.0MB\n"
     ]
    },
    {
     "name": "stderr",
     "output_type": "stream",
     "text": [
      "      28/30      8.38G     0.4934     0.2987     0.9197          8        640:  98%|█████████▊| 434/442 [12:55<00:14"
     ]
    },
    {
     "name": "stdout",
     "output_type": "stream",
     "text": [
      "[GPU 모니터] 메모리 할당: 7779.9MB, 예약: 8584.0MB\n"
     ]
    },
    {
     "name": "stderr",
     "output_type": "stream",
     "text": [
      "      28/30      8.43G     0.4925     0.2979     0.9195          2        640: 100%|██████████| 442/442 [13:08<00:00\n",
      "                 Class     Images  Instances      Box(P          R      mAP50  mAP50-95): 100%|██████████| 51/51 [00"
     ]
    },
    {
     "name": "stdout",
     "output_type": "stream",
     "text": [
      "                   all        801        944      0.957      0.927      0.972      0.839\n"
     ]
    },
    {
     "name": "stderr",
     "output_type": "stream",
     "text": [
      "\n"
     ]
    },
    {
     "name": "stdout",
     "output_type": "stream",
     "text": [
      "\n",
      "      Epoch    GPU_mem   box_loss   cls_loss   dfl_loss  Instances       Size\n"
     ]
    },
    {
     "name": "stderr",
     "output_type": "stream",
     "text": [
      "      29/30      8.49G      0.504     0.3357     0.9329          9        640:   2%|▏         | 9/442 [00:24<18:44, "
     ]
    },
    {
     "name": "stdout",
     "output_type": "stream",
     "text": [
      "[GPU 모니터] 메모리 할당: 1600.7MB, 예약: 8690.0MB\n"
     ]
    },
    {
     "name": "stderr",
     "output_type": "stream",
     "text": [
      "      29/30      8.49G     0.4843     0.3079     0.9138         11        640:   7%|▋         | 33/442 [01:26<16:33,"
     ]
    },
    {
     "name": "stdout",
     "output_type": "stream",
     "text": [
      "[GPU 모니터] 메모리 할당: 5205.9MB, 예약: 8690.0MB\n"
     ]
    },
    {
     "name": "stderr",
     "output_type": "stream",
     "text": [
      "      29/30      8.49G      0.497     0.3059     0.9123         11        640:  13%|█▎        | 56/442 [02:26<17:10,"
     ]
    },
    {
     "name": "stdout",
     "output_type": "stream",
     "text": [
      "[GPU 모니터] 메모리 할당: 8102.2MB, 예약: 8690.0MB\n"
     ]
    },
    {
     "name": "stderr",
     "output_type": "stream",
     "text": [
      "      29/30      8.49G     0.4985     0.3016     0.9172          8        640:  18%|█▊        | 79/442 [03:25<15:57,"
     ]
    },
    {
     "name": "stdout",
     "output_type": "stream",
     "text": [
      "[GPU 모니터] 메모리 할당: 1600.7MB, 예약: 8690.0MB\n"
     ]
    },
    {
     "name": "stderr",
     "output_type": "stream",
     "text": [
      "      29/30      8.49G       0.51     0.3039      0.924          8        640:  23%|██▎       | 102/442 [04:24<14:53"
     ]
    },
    {
     "name": "stdout",
     "output_type": "stream",
     "text": [
      "[GPU 모니터] 메모리 할당: 1562.7MB, 예약: 8690.0MB\n"
     ]
    },
    {
     "name": "stderr",
     "output_type": "stream",
     "text": [
      "      29/30      8.49G     0.5092     0.3046     0.9219          9        640:  29%|██▊       | 126/442 [05:25<13:49"
     ]
    },
    {
     "name": "stdout",
     "output_type": "stream",
     "text": [
      "[GPU 모니터] 메모리 할당: 8330.7MB, 예약: 8690.0MB\n"
     ]
    },
    {
     "name": "stderr",
     "output_type": "stream",
     "text": [
      "      29/30      8.49G     0.5098     0.3076     0.9258         10        640:  34%|███▎      | 149/442 [06:25<12:45"
     ]
    },
    {
     "name": "stdout",
     "output_type": "stream",
     "text": [
      "[GPU 모니터] 메모리 할당: 1600.7MB, 예약: 8690.0MB\n"
     ]
    },
    {
     "name": "stderr",
     "output_type": "stream",
     "text": [
      "      29/30      8.49G     0.5088     0.3049     0.9228         10        640:  39%|███▉      | 172/442 [07:24<11:38"
     ]
    },
    {
     "name": "stdout",
     "output_type": "stream",
     "text": [
      "[GPU 모니터] 메모리 할당: 1562.7MB, 예약: 8690.0MB\n"
     ]
    },
    {
     "name": "stderr",
     "output_type": "stream",
     "text": [
      "      29/30      8.49G     0.5071     0.3081     0.9231          9        640:  44%|████▍     | 196/442 [08:26<10:35"
     ]
    },
    {
     "name": "stdout",
     "output_type": "stream",
     "text": [
      "[GPU 모니터] 메모리 할당: 8330.7MB, 예약: 8690.0MB\n"
     ]
    },
    {
     "name": "stderr",
     "output_type": "stream",
     "text": [
      "      29/30      8.49G     0.5045     0.3053     0.9235          9        640:  50%|████▉     | 219/442 [09:25<09:27"
     ]
    },
    {
     "name": "stdout",
     "output_type": "stream",
     "text": [
      "[GPU 모니터] 메모리 할당: 1600.7MB, 예약: 8690.0MB\n"
     ]
    },
    {
     "name": "stderr",
     "output_type": "stream",
     "text": [
      "      29/30      8.49G     0.5058     0.3036     0.9243          9        640:  55%|█████▍    | 242/442 [10:24<08:18"
     ]
    },
    {
     "name": "stdout",
     "output_type": "stream",
     "text": [
      "[GPU 모니터] 메모리 할당: 1562.7MB, 예약: 8690.0MB\n"
     ]
    },
    {
     "name": "stderr",
     "output_type": "stream",
     "text": [
      "      29/30      8.49G     0.5014      0.303     0.9212         10        640:  60%|██████    | 266/442 [11:26<07:19"
     ]
    },
    {
     "name": "stdout",
     "output_type": "stream",
     "text": [
      "[GPU 모니터] 메모리 할당: 8330.7MB, 예약: 8690.0MB\n"
     ]
    },
    {
     "name": "stderr",
     "output_type": "stream",
     "text": [
      "      29/30      8.49G     0.5016      0.307     0.9192          7        640:  65%|██████▌   | 289/442 [12:25<06:11"
     ]
    },
    {
     "name": "stdout",
     "output_type": "stream",
     "text": [
      "[GPU 모니터] 메모리 할당: 1600.7MB, 예약: 8690.0MB\n"
     ]
    },
    {
     "name": "stderr",
     "output_type": "stream",
     "text": [
      "      29/30      8.49G     0.5011     0.3051     0.9187         10        640:  71%|███████   | 312/442 [13:25<05:46"
     ]
    },
    {
     "name": "stdout",
     "output_type": "stream",
     "text": [
      "[GPU 모니터] 메모리 할당: 1562.7MB, 예약: 8690.0MB\n"
     ]
    },
    {
     "name": "stderr",
     "output_type": "stream",
     "text": [
      "      29/30      8.49G     0.4987     0.3029     0.9171         10        640:  76%|███████▌  | 335/442 [14:24<04:42"
     ]
    },
    {
     "name": "stdout",
     "output_type": "stream",
     "text": [
      "[GPU 모니터] 메모리 할당: 1600.7MB, 예약: 8690.0MB\n"
     ]
    },
    {
     "name": "stderr",
     "output_type": "stream",
     "text": [
      "      29/30      8.49G     0.4972     0.3028     0.9167         10        640:  81%|████████  | 359/442 [15:26<03:40"
     ]
    },
    {
     "name": "stdout",
     "output_type": "stream",
     "text": [
      "[GPU 모니터] 메모리 할당: 1562.7MB, 예약: 8690.0MB\n"
     ]
    },
    {
     "name": "stderr",
     "output_type": "stream",
     "text": [
      "      29/30      8.49G      0.495     0.3006     0.9173         10        640:  86%|████████▋ | 382/442 [16:25<02:38"
     ]
    },
    {
     "name": "stdout",
     "output_type": "stream",
     "text": [
      "[GPU 모니터] 메모리 할당: 8330.7MB, 예약: 8690.0MB\n"
     ]
    },
    {
     "name": "stderr",
     "output_type": "stream",
     "text": [
      "      29/30      8.49G     0.4926     0.2985     0.9166          8        640:  92%|█████████▏| 405/442 [17:24<01:36"
     ]
    },
    {
     "name": "stdout",
     "output_type": "stream",
     "text": [
      "[GPU 모니터] 메모리 할당: 1600.7MB, 예약: 8690.0MB\n"
     ]
    },
    {
     "name": "stderr",
     "output_type": "stream",
     "text": [
      "      29/30      8.49G     0.4912     0.2965     0.9173         11        640:  97%|█████████▋| 428/442 [18:24<00:36"
     ]
    },
    {
     "name": "stdout",
     "output_type": "stream",
     "text": [
      "[GPU 모니터] 메모리 할당: 1562.7MB, 예약: 8690.0MB\n"
     ]
    },
    {
     "name": "stderr",
     "output_type": "stream",
     "text": [
      "      29/30      8.53G     0.4907     0.2971     0.9182          2        640: 100%|██████████| 442/442 [18:57<00:00\n",
      "                 Class     Images  Instances      Box(P          R      mAP50  mAP50-95): 100%|██████████| 51/51 [00"
     ]
    },
    {
     "name": "stdout",
     "output_type": "stream",
     "text": [
      "                   all        801        944      0.958       0.93      0.974      0.844\n"
     ]
    },
    {
     "name": "stderr",
     "output_type": "stream",
     "text": [
      "\n"
     ]
    },
    {
     "name": "stdout",
     "output_type": "stream",
     "text": [
      "\n",
      "      Epoch    GPU_mem   box_loss   cls_loss   dfl_loss  Instances       Size\n"
     ]
    },
    {
     "name": "stderr",
     "output_type": "stream",
     "text": [
      "      30/30      8.39G     0.4592     0.3145      0.963          8        640:   1%|          | 3/442 [00:06<17:44, "
     ]
    },
    {
     "name": "stdout",
     "output_type": "stream",
     "text": [
      "[GPU 모니터] 메모리 할당: 8036.4MB, 예약: 8594.0MB\n"
     ]
    },
    {
     "name": "stderr",
     "output_type": "stream",
     "text": [
      "      30/30      8.39G     0.4918     0.2822     0.9177         10        640:   4%|▍         | 18/442 [01:03<29:07,"
     ]
    },
    {
     "name": "stdout",
     "output_type": "stream",
     "text": [
      "[GPU 모니터] 메모리 할당: 1229.2MB, 예약: 8594.0MB\n"
     ]
    },
    {
     "name": "stderr",
     "output_type": "stream",
     "text": [
      "      30/30      8.39G     0.4651       0.28     0.9235          8        640:   7%|▋         | 33/442 [02:05<27:38,"
     ]
    },
    {
     "name": "stdout",
     "output_type": "stream",
     "text": [
      "[GPU 모니터] 메모리 할당: 1267.2MB, 예약: 8594.0MB\n"
     ]
    },
    {
     "name": "stderr",
     "output_type": "stream",
     "text": [
      "      30/30      8.39G     0.4719     0.2747     0.9229         12        640:  11%|█         | 48/442 [03:06<26:54,"
     ]
    },
    {
     "name": "stdout",
     "output_type": "stream",
     "text": [
      "[GPU 모니터] 메모리 할당: 8002.7MB, 예약: 8594.0MB\n"
     ]
    },
    {
     "name": "stderr",
     "output_type": "stream",
     "text": [
      "      30/30      8.39G     0.4709     0.2771     0.9201          9        640:  14%|█▍        | 62/442 [04:04<26:26,"
     ]
    },
    {
     "name": "stdout",
     "output_type": "stream",
     "text": [
      "[GPU 모니터] 메모리 할당: 1229.2MB, 예약: 8594.0MB\n"
     ]
    },
    {
     "name": "stderr",
     "output_type": "stream",
     "text": [
      "      30/30      8.39G     0.4622     0.2742     0.9165         11        640:  17%|█▋        | 77/442 [05:05<24:51,"
     ]
    },
    {
     "name": "stdout",
     "output_type": "stream",
     "text": [
      "[GPU 모니터] 메모리 할당: 1267.2MB, 예약: 8594.0MB\n"
     ]
    },
    {
     "name": "stderr",
     "output_type": "stream",
     "text": [
      "      30/30      8.39G     0.4694     0.2768     0.9177          8        640:  21%|██        | 92/442 [06:06<24:01,"
     ]
    },
    {
     "name": "stdout",
     "output_type": "stream",
     "text": [
      "[GPU 모니터] 메모리 할당: 8002.7MB, 예약: 8594.0MB\n"
     ]
    },
    {
     "name": "stderr",
     "output_type": "stream",
     "text": [
      "      30/30      8.39G     0.4631     0.2732     0.9184          9        640:  24%|██▍       | 106/442 [07:04<23:09"
     ]
    },
    {
     "name": "stdout",
     "output_type": "stream",
     "text": [
      "[GPU 모니터] 메모리 할당: 1229.2MB, 예약: 8594.0MB\n"
     ]
    },
    {
     "name": "stderr",
     "output_type": "stream",
     "text": [
      "      30/30      8.39G     0.4696     0.2766     0.9203          9        640:  27%|██▋       | 121/442 [08:05<21:40"
     ]
    },
    {
     "name": "stdout",
     "output_type": "stream",
     "text": [
      "[GPU 모니터] 메모리 할당: 1267.2MB, 예약: 8594.0MB\n"
     ]
    },
    {
     "name": "stderr",
     "output_type": "stream",
     "text": [
      "      30/30      8.39G       0.48     0.2786     0.9201         10        640:  31%|███       | 136/442 [09:07<20:54"
     ]
    },
    {
     "name": "stdout",
     "output_type": "stream",
     "text": [
      "[GPU 모니터] 메모리 할당: 8002.7MB, 예약: 8594.0MB\n"
     ]
    },
    {
     "name": "stderr",
     "output_type": "stream",
     "text": [
      "      30/30      8.39G       0.48     0.2786     0.9167         11        640:  34%|███▍      | 150/442 [10:04<20:19"
     ]
    },
    {
     "name": "stdout",
     "output_type": "stream",
     "text": [
      "[GPU 모니터] 메모리 할당: 1229.2MB, 예약: 8594.0MB\n"
     ]
    },
    {
     "name": "stderr",
     "output_type": "stream",
     "text": [
      "      30/30      8.39G      0.479     0.2775     0.9189          8        640:  37%|███▋      | 165/442 [11:05<18:49"
     ]
    },
    {
     "name": "stdout",
     "output_type": "stream",
     "text": [
      "[GPU 모니터] 메모리 할당: 8040.0MB, 예약: 8594.0MB\n"
     ]
    },
    {
     "name": "stderr",
     "output_type": "stream",
     "text": [
      "      30/30      8.39G     0.4807     0.2797     0.9192         10        640:  41%|████      | 180/442 [12:07<18:07"
     ]
    },
    {
     "name": "stdout",
     "output_type": "stream",
     "text": [
      "[GPU 모니터] 메모리 할당: 1267.2MB, 예약: 8594.0MB\n"
     ]
    },
    {
     "name": "stderr",
     "output_type": "stream",
     "text": [
      "      30/30      8.39G     0.4822     0.2794     0.9179         10        640:  44%|████▍     | 194/442 [13:04<17:04"
     ]
    },
    {
     "name": "stdout",
     "output_type": "stream",
     "text": [
      "[GPU 모니터] 메모리 할당: 1229.2MB, 예약: 8594.0MB\n"
     ]
    },
    {
     "name": "stderr",
     "output_type": "stream",
     "text": [
      "      30/30      8.39G     0.4816     0.2798     0.9178          9        640:  47%|████▋     | 209/442 [14:05<15:43"
     ]
    },
    {
     "name": "stdout",
     "output_type": "stream",
     "text": [
      "[GPU 모니터] 메모리 할당: 8040.0MB, 예약: 8594.0MB\n"
     ]
    },
    {
     "name": "stderr",
     "output_type": "stream",
     "text": [
      "      30/30      8.39G     0.4816     0.2811     0.9175          9        640:  50%|█████     | 223/442 [15:03<14:35"
     ]
    },
    {
     "name": "stdout",
     "output_type": "stream",
     "text": [
      "[GPU 모니터] 메모리 할당: 1267.2MB, 예약: 8594.0MB\n"
     ]
    },
    {
     "name": "stderr",
     "output_type": "stream",
     "text": [
      "      30/30      8.39G     0.4796     0.2811     0.9165          9        640:  54%|█████▍    | 238/442 [16:05<14:11"
     ]
    },
    {
     "name": "stdout",
     "output_type": "stream",
     "text": [
      "[GPU 모니터] 메모리 할당: 1229.2MB, 예약: 8594.0MB\n"
     ]
    },
    {
     "name": "stderr",
     "output_type": "stream",
     "text": [
      "      30/30      8.39G     0.4815      0.284     0.9163         12        640:  57%|█████▋    | 253/442 [17:06<12:51"
     ]
    },
    {
     "name": "stdout",
     "output_type": "stream",
     "text": [
      "[GPU 모니터] 메모리 할당: 8040.0MB, 예약: 8594.0MB\n"
     ]
    },
    {
     "name": "stderr",
     "output_type": "stream",
     "text": [
      "      30/30      8.39G     0.4814     0.2841     0.9144          8        640:  60%|██████    | 267/442 [18:03<11:51"
     ]
    },
    {
     "name": "stdout",
     "output_type": "stream",
     "text": [
      "[GPU 모니터] 메모리 할당: 1267.2MB, 예약: 8594.0MB\n"
     ]
    },
    {
     "name": "stderr",
     "output_type": "stream",
     "text": [
      "      30/30      8.39G     0.4819     0.2833     0.9142          8        640:  64%|██████▍   | 282/442 [19:05<11:00"
     ]
    },
    {
     "name": "stdout",
     "output_type": "stream",
     "text": [
      "[GPU 모니터] 메모리 할당: 1229.2MB, 예약: 8594.0MB\n"
     ]
    },
    {
     "name": "stderr",
     "output_type": "stream",
     "text": [
      "      30/30      8.39G     0.4802     0.2826     0.9142          8        640:  67%|██████▋   | 297/442 [20:06<09:44"
     ]
    },
    {
     "name": "stdout",
     "output_type": "stream",
     "text": [
      "[GPU 모니터] 메모리 할당: 8040.0MB, 예약: 8594.0MB\n"
     ]
    },
    {
     "name": "stderr",
     "output_type": "stream",
     "text": [
      "      30/30      8.39G      0.482     0.2824     0.9152         10        640:  71%|███████   | 312/442 [21:07<08:50"
     ]
    },
    {
     "name": "stdout",
     "output_type": "stream",
     "text": [
      "[GPU 모니터] 메모리 할당: 1267.2MB, 예약: 8594.0MB\n"
     ]
    },
    {
     "name": "stderr",
     "output_type": "stream",
     "text": [
      "      30/30      8.39G     0.4823     0.2838     0.9154         10        640:  74%|███████▍  | 326/442 [22:04<08:02"
     ]
    },
    {
     "name": "stdout",
     "output_type": "stream",
     "text": [
      "[GPU 모니터] 메모리 할당: 1229.2MB, 예약: 8594.0MB\n"
     ]
    },
    {
     "name": "stderr",
     "output_type": "stream",
     "text": [
      "      30/30      8.39G     0.4839     0.2856     0.9162          9        640:  77%|███████▋  | 341/442 [23:05<06:51"
     ]
    },
    {
     "name": "stdout",
     "output_type": "stream",
     "text": [
      "[GPU 모니터] 메모리 할당: 1267.2MB, 예약: 8594.0MB\n"
     ]
    },
    {
     "name": "stderr",
     "output_type": "stream",
     "text": [
      "      30/30      8.39G     0.4857     0.2861     0.9168          8        640:  81%|████████  | 356/442 [24:07<05:57"
     ]
    },
    {
     "name": "stdout",
     "output_type": "stream",
     "text": [
      "[GPU 모니터] 메모리 할당: 1267.2MB, 예약: 8594.0MB\n"
     ]
    },
    {
     "name": "stderr",
     "output_type": "stream",
     "text": [
      "      30/30      8.39G     0.4867      0.287     0.9171         10        640:  84%|████████▎ | 370/442 [25:04<04:57"
     ]
    },
    {
     "name": "stdout",
     "output_type": "stream",
     "text": [
      "[GPU 모니터] 메모리 할당: 1229.2MB, 예약: 8594.0MB\n"
     ]
    },
    {
     "name": "stderr",
     "output_type": "stream",
     "text": [
      "      30/30      8.39G     0.4867     0.2885     0.9163          8        640:  87%|████████▋ | 385/442 [26:05<03:50"
     ]
    },
    {
     "name": "stdout",
     "output_type": "stream",
     "text": [
      "[GPU 모니터] 메모리 할당: 8040.0MB, 예약: 8594.0MB\n"
     ]
    },
    {
     "name": "stderr",
     "output_type": "stream",
     "text": [
      "      30/30      8.39G     0.4861     0.2882     0.9163         10        640:  90%|█████████ | 400/442 [27:07<02:52"
     ]
    },
    {
     "name": "stdout",
     "output_type": "stream",
     "text": [
      "[GPU 모니터] 메모리 할당: 1267.2MB, 예약: 8594.0MB\n"
     ]
    },
    {
     "name": "stderr",
     "output_type": "stream",
     "text": [
      "      30/30      8.39G     0.4855     0.2878     0.9163         12        640:  94%|█████████▎| 414/442 [28:05<01:56"
     ]
    },
    {
     "name": "stdout",
     "output_type": "stream",
     "text": [
      "[GPU 모니터] 메모리 할당: 1229.2MB, 예약: 8594.0MB\n"
     ]
    },
    {
     "name": "stderr",
     "output_type": "stream",
     "text": [
      "      30/30      8.39G      0.486      0.289     0.9157         14        640:  97%|█████████▋| 429/442 [29:06<00:52"
     ]
    },
    {
     "name": "stdout",
     "output_type": "stream",
     "text": [
      "[GPU 모니터] 메모리 할당: 8040.0MB, 예약: 8594.0MB\n"
     ]
    },
    {
     "name": "stderr",
     "output_type": "stream",
     "text": [
      "      30/30       8.4G     0.4842     0.2885     0.9154          2        640: 100%|██████████| 442/442 [29:55<00:00\n",
      "                 Class     Images  Instances      Box(P          R      mAP50  mAP50-95):  59%|█████▉    | 30/51 [00"
     ]
    },
    {
     "name": "stdout",
     "output_type": "stream",
     "text": [
      "[GPU 모니터] 메모리 할당: 1418.4MB, 예약: 4812.0MB\n"
     ]
    },
    {
     "name": "stderr",
     "output_type": "stream",
     "text": [
      "                 Class     Images  Instances      Box(P          R      mAP50  mAP50-95): 100%|██████████| 51/51 [00"
     ]
    },
    {
     "name": "stdout",
     "output_type": "stream",
     "text": [
      "                   all        801        944      0.946      0.939      0.972      0.847\n"
     ]
    },
    {
     "name": "stderr",
     "output_type": "stream",
     "text": [
      "\n"
     ]
    },
    {
     "name": "stdout",
     "output_type": "stream",
     "text": [
      "\n",
      "30 epochs completed in 9.684 hours.\n",
      "Optimizer stripped from runs\\detect\\yolov11x_custom_002\\weights\\last.pt, 114.4MB\n",
      "Optimizer stripped from runs\\detect\\yolov11x_custom_002\\weights\\best.pt, 114.4MB\n",
      "\n",
      "Validating runs\\detect\\yolov11x_custom_002\\weights\\best.pt...\n",
      "Ultralytics 8.3.156  Python-3.11.9 torch-2.7.1+cu128 CUDA:0 (NVIDIA GeForce RTX 4070 Laptop GPU, 8188MiB)\n",
      "YOLO11x summary (fused): 190 layers, 56,844,349 parameters, 0 gradients, 194.5 GFLOPs\n"
     ]
    },
    {
     "name": "stderr",
     "output_type": "stream",
     "text": [
      "                 Class     Images  Instances      Box(P          R      mAP50  mAP50-95): 100%|██████████| 51/51 [00\n"
     ]
    },
    {
     "name": "stdout",
     "output_type": "stream",
     "text": [
      "                   all        801        944      0.946      0.939      0.972      0.847\n",
      "           Green Light         87        122      0.863      0.777      0.892       0.55\n",
      "             Red Light         74        108      0.865      0.796      0.855      0.545\n",
      "       Speed Limit 100         52         52       0.98      0.981      0.992      0.918\n",
      "       Speed Limit 110         17         17      0.891      0.941       0.99      0.906\n",
      "       Speed Limit 120         60         60      0.984      0.983      0.994      0.924\n",
      "        Speed Limit 20         56         56      0.948      0.982      0.987       0.87\n",
      "        Speed Limit 30         71         74      0.918      0.973      0.991      0.935\n",
      "        Speed Limit 40         53         55      0.986      0.945      0.989      0.883\n",
      "        Speed Limit 50         68         71      0.971       0.95      0.988      0.884\n",
      "        Speed Limit 60         76         76      0.961      0.962      0.986      0.887\n",
      "        Speed Limit 70         78         78      0.977      0.974      0.986      0.914\n",
      "        Speed Limit 80         56         56      0.937      0.982      0.993      0.885\n",
      "        Speed Limit 90         38         38          1      0.899       0.97      0.819\n",
      "                  Stop         81         81      0.964      0.994      0.995      0.933\n",
      "Speed: 0.2ms preprocess, 15.7ms inference, 0.0ms loss, 1.0ms postprocess per image\n",
      "Results saved to \u001b[1mruns\\detect\\yolov11x_custom_002\u001b[0m\n",
      "✅ 훈련 소요 시간: 34891.26초\n",
      "[GPU 모니터] 메모리 할당: 1194.0MB, 예약: 3216.0MB\n",
      "[GPU 모니터] 메모리 할당: 1194.0MB, 예약: 3216.0MB\n",
      "[GPU 모니터] 메모리 할당: 1194.0MB, 예약: 3216.0MB\n",
      "[GPU 모니터] 메모리 할당: 1194.0MB, 예약: 3216.0MB\n",
      "[GPU 모니터] 메모리 할당: 1194.0MB, 예약: 3216.0MB\n",
      "[GPU 모니터] 메모리 할당: 1194.0MB, 예약: 3216.0MB\n",
      "[GPU 모니터] 메모리 할당: 1194.0MB, 예약: 3216.0MB\n",
      "[GPU 모니터] 메모리 할당: 1194.0MB, 예약: 3216.0MB\n",
      "[GPU 모니터] 메모리 할당: 1194.0MB, 예약: 3216.0MB\n",
      "[GPU 모니터] 메모리 할당: 1194.0MB, 예약: 3216.0MB\n",
      "[GPU 모니터] 메모리 할당: 1194.0MB, 예약: 3216.0MB\n",
      "[GPU 모니터] 메모리 할당: 1194.0MB, 예약: 3216.0MB\n",
      "[GPU 모니터] 메모리 할당: 1194.0MB, 예약: 3216.0MB\n",
      "[GPU 모니터] 메모리 할당: 1194.0MB, 예약: 3216.0MB\n",
      "[GPU 모니터] 메모리 할당: 1194.0MB, 예약: 3216.0MB\n",
      "[GPU 모니터] 메모리 할당: 1194.0MB, 예약: 3216.0MB\n",
      "[GPU 모니터] 메모리 할당: 1194.0MB, 예약: 3216.0MB\n",
      "[GPU 모니터] 메모리 할당: 1194.0MB, 예약: 3216.0MB\n",
      "[GPU 모니터] 메모리 할당: 1194.0MB, 예약: 3216.0MB\n",
      "[GPU 모니터] 메모리 할당: 1194.0MB, 예약: 3216.0MB\n",
      "[GPU 모니터] 메모리 할당: 1194.0MB, 예약: 3216.0MB\n",
      "[GPU 모니터] 메모리 할당: 1194.0MB, 예약: 3216.0MB\n",
      "[GPU 모니터] 메모리 할당: 1194.0MB, 예약: 3216.0MB\n",
      "[GPU 모니터] 메모리 할당: 1194.0MB, 예약: 3216.0MB\n",
      "[GPU 모니터] 메모리 할당: 1194.0MB, 예약: 3216.0MB\n",
      "[GPU 모니터] 메모리 할당: 1194.0MB, 예약: 3216.0MB\n",
      "[GPU 모니터] 메모리 할당: 1194.0MB, 예약: 3216.0MB\n",
      "[GPU 모니터] 메모리 할당: 1194.0MB, 예약: 3216.0MB\n",
      "[GPU 모니터] 메모리 할당: 1194.0MB, 예약: 3216.0MB\n",
      "[GPU 모니터] 메모리 할당: 1194.0MB, 예약: 3216.0MB\n",
      "[GPU 모니터] 메모리 할당: 1194.0MB, 예약: 3216.0MB\n",
      "[GPU 모니터] 메모리 할당: 1194.0MB, 예약: 3216.0MB\n",
      "[GPU 모니터] 메모리 할당: 1194.0MB, 예약: 3216.0MB\n",
      "[GPU 모니터] 메모리 할당: 1194.0MB, 예약: 3216.0MB\n",
      "[GPU 모니터] 메모리 할당: 1194.0MB, 예약: 3216.0MB\n",
      "[GPU 모니터] 메모리 할당: 1194.0MB, 예약: 3216.0MB\n",
      "[GPU 모니터] 메모리 할당: 1194.0MB, 예약: 3216.0MB\n",
      "[GPU 모니터] 메모리 할당: 1194.0MB, 예약: 3216.0MB\n",
      "[GPU 모니터] 메모리 할당: 1194.0MB, 예약: 3216.0MB\n",
      "[GPU 모니터] 메모리 할당: 1194.0MB, 예약: 3216.0MB\n",
      "[GPU 모니터] 메모리 할당: 1194.0MB, 예약: 3216.0MB\n",
      "[GPU 모니터] 메모리 할당: 1194.0MB, 예약: 3216.0MB\n",
      "[GPU 모니터] 메모리 할당: 1194.0MB, 예약: 3216.0MB\n",
      "[GPU 모니터] 메모리 할당: 1194.0MB, 예약: 3216.0MB\n",
      "[GPU 모니터] 메모리 할당: 1194.0MB, 예약: 3216.0MB\n",
      "[GPU 모니터] 메모리 할당: 1194.0MB, 예약: 3216.0MB\n",
      "[GPU 모니터] 메모리 할당: 1194.0MB, 예약: 3216.0MB\n",
      "[GPU 모니터] 메모리 할당: 1194.0MB, 예약: 3216.0MB\n",
      "[GPU 모니터] 메모리 할당: 1194.0MB, 예약: 3216.0MB\n",
      "[GPU 모니터] 메모리 할당: 1194.0MB, 예약: 3216.0MB\n",
      "[GPU 모니터] 메모리 할당: 1194.0MB, 예약: 3216.0MB\n",
      "[GPU 모니터] 메모리 할당: 1194.0MB, 예약: 3216.0MB\n",
      "[GPU 모니터] 메모리 할당: 1194.0MB, 예약: 3216.0MB\n",
      "[GPU 모니터] 메모리 할당: 1194.0MB, 예약: 3216.0MB\n",
      "[GPU 모니터] 메모리 할당: 1194.0MB, 예약: 3216.0MB\n",
      "[GPU 모니터] 메모리 할당: 1194.0MB, 예약: 3216.0MB\n",
      "[GPU 모니터] 메모리 할당: 1194.0MB, 예약: 3216.0MB\n",
      "[GPU 모니터] 메모리 할당: 1194.0MB, 예약: 3216.0MB\n",
      "[GPU 모니터] 메모리 할당: 1194.0MB, 예약: 3216.0MB\n",
      "[GPU 모니터] 메모리 할당: 1194.0MB, 예약: 3216.0MB\n",
      "[GPU 모니터] 메모리 할당: 1194.0MB, 예약: 3216.0MB\n",
      "[GPU 모니터] 메모리 할당: 1194.0MB, 예약: 3216.0MB\n",
      "[GPU 모니터] 메모리 할당: 1194.0MB, 예약: 3216.0MB\n",
      "[GPU 모니터] 메모리 할당: 1194.0MB, 예약: 3216.0MB\n",
      "[GPU 모니터] 메모리 할당: 1194.0MB, 예약: 3216.0MB\n",
      "[GPU 모니터] 메모리 할당: 1194.0MB, 예약: 3216.0MB\n",
      "[GPU 모니터] 메모리 할당: 1194.0MB, 예약: 3216.0MB\n",
      "[GPU 모니터] 메모리 할당: 1194.0MB, 예약: 3216.0MB\n",
      "[GPU 모니터] 메모리 할당: 1194.0MB, 예약: 3216.0MB\n",
      "[GPU 모니터] 메모리 할당: 1194.0MB, 예약: 3216.0MB\n",
      "[GPU 모니터] 메모리 할당: 1194.0MB, 예약: 3216.0MB\n",
      "[GPU 모니터] 메모리 할당: 1194.0MB, 예약: 3216.0MB\n",
      "[GPU 모니터] 메모리 할당: 1194.0MB, 예약: 3216.0MB\n",
      "[GPU 모니터] 메모리 할당: 1194.0MB, 예약: 3216.0MB\n",
      "[GPU 모니터] 메모리 할당: 1194.0MB, 예약: 3216.0MB\n",
      "[GPU 모니터] 메모리 할당: 1194.0MB, 예약: 3216.0MB\n",
      "[GPU 모니터] 메모리 할당: 1194.0MB, 예약: 3216.0MB\n",
      "[GPU 모니터] 메모리 할당: 1194.0MB, 예약: 3216.0MB\n",
      "[GPU 모니터] 메모리 할당: 1194.0MB, 예약: 3216.0MB\n",
      "[GPU 모니터] 메모리 할당: 1194.0MB, 예약: 3216.0MB\n",
      "[GPU 모니터] 메모리 할당: 1194.0MB, 예약: 3216.0MB\n",
      "[GPU 모니터] 메모리 할당: 1194.0MB, 예약: 3216.0MB\n",
      "[GPU 모니터] 메모리 할당: 1194.0MB, 예약: 3216.0MB\n",
      "[GPU 모니터] 메모리 할당: 1194.0MB, 예약: 3216.0MB\n",
      "[GPU 모니터] 메모리 할당: 1194.0MB, 예약: 3216.0MB\n",
      "[GPU 모니터] 메모리 할당: 1194.0MB, 예약: 3216.0MB\n",
      "[GPU 모니터] 메모리 할당: 1194.0MB, 예약: 3216.0MB\n",
      "[GPU 모니터] 메모리 할당: 1194.0MB, 예약: 3216.0MB\n",
      "[GPU 모니터] 메모리 할당: 1194.0MB, 예약: 3216.0MB\n",
      "[GPU 모니터] 메모리 할당: 1194.0MB, 예약: 3216.0MB\n",
      "[GPU 모니터] 메모리 할당: 1194.0MB, 예약: 3216.0MB\n",
      "[GPU 모니터] 메모리 할당: 1194.0MB, 예약: 3216.0MB\n",
      "[GPU 모니터] 메모리 할당: 1194.0MB, 예약: 3216.0MB\n",
      "[GPU 모니터] 메모리 할당: 1194.0MB, 예약: 3216.0MB\n",
      "[GPU 모니터] 메모리 할당: 1194.0MB, 예약: 3216.0MB\n",
      "[GPU 모니터] 메모리 할당: 1194.0MB, 예약: 3216.0MB\n",
      "[GPU 모니터] 메모리 할당: 1194.0MB, 예약: 3216.0MB\n",
      "[GPU 모니터] 메모리 할당: 1194.0MB, 예약: 3216.0MB\n",
      "[GPU 모니터] 메모리 할당: 1194.0MB, 예약: 3216.0MB\n",
      "[GPU 모니터] 메모리 할당: 1194.0MB, 예약: 3216.0MB\n",
      "[GPU 모니터] 메모리 할당: 1194.0MB, 예약: 3216.0MB\n",
      "[GPU 모니터] 메모리 할당: 1194.0MB, 예약: 3216.0MB\n",
      "[GPU 모니터] 메모리 할당: 1194.0MB, 예약: 3216.0MB\n",
      "[GPU 모니터] 메모리 할당: 1194.0MB, 예약: 3216.0MB\n",
      "[GPU 모니터] 메모리 할당: 1194.0MB, 예약: 3216.0MB\n",
      "[GPU 모니터] 메모리 할당: 1194.0MB, 예약: 3216.0MB\n",
      "[GPU 모니터] 메모리 할당: 1194.0MB, 예약: 3216.0MB\n",
      "[GPU 모니터] 메모리 할당: 1194.0MB, 예약: 3216.0MB\n",
      "[GPU 모니터] 메모리 할당: 1194.0MB, 예약: 3216.0MB\n",
      "[GPU 모니터] 메모리 할당: 1194.0MB, 예약: 3216.0MB\n",
      "[GPU 모니터] 메모리 할당: 1194.0MB, 예약: 3216.0MB\n",
      "[GPU 모니터] 메모리 할당: 1194.0MB, 예약: 3216.0MB\n",
      "[GPU 모니터] 메모리 할당: 1194.0MB, 예약: 3216.0MB\n",
      "[GPU 모니터] 메모리 할당: 1194.0MB, 예약: 3216.0MB\n",
      "[GPU 모니터] 메모리 할당: 1194.0MB, 예약: 3216.0MB\n",
      "[GPU 모니터] 메모리 할당: 1194.0MB, 예약: 3216.0MB\n",
      "[GPU 모니터] 메모리 할당: 1194.0MB, 예약: 3216.0MB\n",
      "[GPU 모니터] 메모리 할당: 1194.0MB, 예약: 3216.0MB\n",
      "[GPU 모니터] 메모리 할당: 1194.0MB, 예약: 3216.0MB\n",
      "[GPU 모니터] 메모리 할당: 1194.0MB, 예약: 3216.0MB\n",
      "[GPU 모니터] 메모리 할당: 1194.0MB, 예약: 3216.0MB\n",
      "[GPU 모니터] 메모리 할당: 1194.0MB, 예약: 3216.0MB\n",
      "[GPU 모니터] 메모리 할당: 1194.0MB, 예약: 3216.0MB\n",
      "[GPU 모니터] 메모리 할당: 1194.0MB, 예약: 3216.0MB\n",
      "[GPU 모니터] 메모리 할당: 1194.0MB, 예약: 3216.0MB\n",
      "[GPU 모니터] 메모리 할당: 1194.0MB, 예약: 3216.0MB\n",
      "[GPU 모니터] 메모리 할당: 1194.0MB, 예약: 3216.0MB\n",
      "[GPU 모니터] 메모리 할당: 1194.0MB, 예약: 3216.0MB\n",
      "[GPU 모니터] 메모리 할당: 1194.0MB, 예약: 3216.0MB\n",
      "[GPU 모니터] 메모리 할당: 1194.0MB, 예약: 3216.0MB\n",
      "[GPU 모니터] 메모리 할당: 1194.0MB, 예약: 3216.0MB\n",
      "[GPU 모니터] 메모리 할당: 1194.0MB, 예약: 3216.0MB\n",
      "[GPU 모니터] 메모리 할당: 1194.0MB, 예약: 3216.0MB\n",
      "[GPU 모니터] 메모리 할당: 1194.0MB, 예약: 3216.0MB\n",
      "[GPU 모니터] 메모리 할당: 1194.0MB, 예약: 3216.0MB\n",
      "[GPU 모니터] 메모리 할당: 1194.0MB, 예약: 3216.0MB\n",
      "[GPU 모니터] 메모리 할당: 1194.0MB, 예약: 3216.0MB\n",
      "[GPU 모니터] 메모리 할당: 1194.0MB, 예약: 3216.0MB\n",
      "[GPU 모니터] 메모리 할당: 1194.0MB, 예약: 3216.0MB\n",
      "[GPU 모니터] 메모리 할당: 1194.0MB, 예약: 3216.0MB\n",
      "[GPU 모니터] 메모리 할당: 1194.0MB, 예약: 3216.0MB\n",
      "[GPU 모니터] 메모리 할당: 1194.0MB, 예약: 3216.0MB\n",
      "[GPU 모니터] 메모리 할당: 1194.0MB, 예약: 3216.0MB\n",
      "[GPU 모니터] 메모리 할당: 1194.0MB, 예약: 3216.0MB\n",
      "[GPU 모니터] 메모리 할당: 1194.0MB, 예약: 3216.0MB\n",
      "[GPU 모니터] 메모리 할당: 1194.0MB, 예약: 3216.0MB\n",
      "[GPU 모니터] 메모리 할당: 1194.0MB, 예약: 3216.0MB\n",
      "[GPU 모니터] 메모리 할당: 1194.0MB, 예약: 3216.0MB\n",
      "[GPU 모니터] 메모리 할당: 1194.0MB, 예약: 3216.0MB\n",
      "[GPU 모니터] 메모리 할당: 1194.0MB, 예약: 3216.0MB\n",
      "[GPU 모니터] 메모리 할당: 1194.0MB, 예약: 3216.0MB\n",
      "[GPU 모니터] 메모리 할당: 1194.0MB, 예약: 3216.0MB\n",
      "[GPU 모니터] 메모리 할당: 1194.0MB, 예약: 3216.0MB\n",
      "[GPU 모니터] 메모리 할당: 1194.0MB, 예약: 3216.0MB\n",
      "[GPU 모니터] 메모리 할당: 1194.0MB, 예약: 3216.0MB\n",
      "[GPU 모니터] 메모리 할당: 1194.0MB, 예약: 3216.0MB\n",
      "[GPU 모니터] 메모리 할당: 1194.0MB, 예약: 3216.0MB\n",
      "[GPU 모니터] 메모리 할당: 1194.0MB, 예약: 3216.0MB\n",
      "[GPU 모니터] 메모리 할당: 1194.0MB, 예약: 3216.0MB\n",
      "[GPU 모니터] 메모리 할당: 1194.0MB, 예약: 3216.0MB\n",
      "[GPU 모니터] 메모리 할당: 1194.0MB, 예약: 3216.0MB\n",
      "[GPU 모니터] 메모리 할당: 1194.0MB, 예약: 3216.0MB\n",
      "[GPU 모니터] 메모리 할당: 1194.0MB, 예약: 3216.0MB\n",
      "[GPU 모니터] 메모리 할당: 1194.0MB, 예약: 3216.0MB\n",
      "[GPU 모니터] 메모리 할당: 1194.0MB, 예약: 3216.0MB\n",
      "[GPU 모니터] 메모리 할당: 1194.0MB, 예약: 3216.0MB\n",
      "[GPU 모니터] 메모리 할당: 1194.0MB, 예약: 3216.0MB\n",
      "[GPU 모니터] 메모리 할당: 1194.0MB, 예약: 3216.0MB\n",
      "[GPU 모니터] 메모리 할당: 1194.0MB, 예약: 3216.0MB\n",
      "[GPU 모니터] 메모리 할당: 1194.0MB, 예약: 3216.0MB\n",
      "[GPU 모니터] 메모리 할당: 1194.0MB, 예약: 3216.0MB\n",
      "[GPU 모니터] 메모리 할당: 1194.0MB, 예약: 3216.0MB\n",
      "[GPU 모니터] 메모리 할당: 1194.0MB, 예약: 3216.0MB\n",
      "[GPU 모니터] 메모리 할당: 1194.0MB, 예약: 3216.0MB\n",
      "[GPU 모니터] 메모리 할당: 1194.0MB, 예약: 3216.0MB\n",
      "[GPU 모니터] 메모리 할당: 1194.0MB, 예약: 3216.0MB\n",
      "[GPU 모니터] 메모리 할당: 1194.0MB, 예약: 3216.0MB\n",
      "[GPU 모니터] 메모리 할당: 1194.0MB, 예약: 3216.0MB\n",
      "[GPU 모니터] 메모리 할당: 1194.0MB, 예약: 3216.0MB\n",
      "[GPU 모니터] 메모리 할당: 1194.0MB, 예약: 3216.0MB\n",
      "[GPU 모니터] 메모리 할당: 1194.0MB, 예약: 3216.0MB\n",
      "[GPU 모니터] 메모리 할당: 1194.0MB, 예약: 3216.0MB\n",
      "[GPU 모니터] 메모리 할당: 1194.0MB, 예약: 3216.0MB\n",
      "[GPU 모니터] 메모리 할당: 1194.0MB, 예약: 3216.0MB\n",
      "[GPU 모니터] 메모리 할당: 1194.0MB, 예약: 3216.0MB\n",
      "[GPU 모니터] 메모리 할당: 1194.0MB, 예약: 3216.0MB\n",
      "[GPU 모니터] 메모리 할당: 1194.0MB, 예약: 3216.0MB\n",
      "[GPU 모니터] 메모리 할당: 1194.0MB, 예약: 3216.0MB\n",
      "[GPU 모니터] 메모리 할당: 1194.0MB, 예약: 3216.0MB\n",
      "[GPU 모니터] 메모리 할당: 1194.0MB, 예약: 3216.0MB\n",
      "[GPU 모니터] 메모리 할당: 1194.0MB, 예약: 3216.0MB\n",
      "[GPU 모니터] 메모리 할당: 1194.0MB, 예약: 3216.0MB\n",
      "[GPU 모니터] 메모리 할당: 1194.0MB, 예약: 3216.0MB\n",
      "[GPU 모니터] 메모리 할당: 1194.0MB, 예약: 3216.0MB\n",
      "[GPU 모니터] 메모리 할당: 1194.0MB, 예약: 3216.0MB\n",
      "[GPU 모니터] 메모리 할당: 1194.0MB, 예약: 3216.0MB\n",
      "[GPU 모니터] 메모리 할당: 1194.0MB, 예약: 3216.0MB\n",
      "[GPU 모니터] 메모리 할당: 1194.0MB, 예약: 3216.0MB\n",
      "[GPU 모니터] 메모리 할당: 1194.0MB, 예약: 3216.0MB\n",
      "[GPU 모니터] 메모리 할당: 1194.0MB, 예약: 3216.0MB\n",
      "[GPU 모니터] 메모리 할당: 1194.0MB, 예약: 3216.0MB\n",
      "[GPU 모니터] 메모리 할당: 1194.0MB, 예약: 3216.0MB\n",
      "[GPU 모니터] 메모리 할당: 1194.0MB, 예약: 3216.0MB\n",
      "[GPU 모니터] 메모리 할당: 1194.0MB, 예약: 3216.0MB\n",
      "[GPU 모니터] 메모리 할당: 1194.0MB, 예약: 3216.0MB\n",
      "[GPU 모니터] 메모리 할당: 1194.0MB, 예약: 3216.0MB\n",
      "[GPU 모니터] 메모리 할당: 1194.0MB, 예약: 3216.0MB\n",
      "[GPU 모니터] 메모리 할당: 1194.0MB, 예약: 3216.0MB\n",
      "[GPU 모니터] 메모리 할당: 1194.0MB, 예약: 3216.0MB\n",
      "[GPU 모니터] 메모리 할당: 1194.0MB, 예약: 3216.0MB\n",
      "[GPU 모니터] 메모리 할당: 1194.0MB, 예약: 3216.0MB\n",
      "[GPU 모니터] 메모리 할당: 1194.0MB, 예약: 3216.0MB\n",
      "[GPU 모니터] 메모리 할당: 1194.0MB, 예약: 3216.0MB\n",
      "[GPU 모니터] 메모리 할당: 1194.0MB, 예약: 3216.0MB\n",
      "[GPU 모니터] 메모리 할당: 1194.0MB, 예약: 3216.0MB\n",
      "[GPU 모니터] 메모리 할당: 1194.0MB, 예약: 3216.0MB\n",
      "[GPU 모니터] 메모리 할당: 1194.0MB, 예약: 3216.0MB\n",
      "[GPU 모니터] 메모리 할당: 1194.0MB, 예약: 3216.0MB\n",
      "[GPU 모니터] 메모리 할당: 1194.0MB, 예약: 3216.0MB\n",
      "[GPU 모니터] 메모리 할당: 1194.0MB, 예약: 3216.0MB\n",
      "[GPU 모니터] 메모리 할당: 1194.0MB, 예약: 3216.0MB\n",
      "[GPU 모니터] 메모리 할당: 1194.0MB, 예약: 3216.0MB\n",
      "[GPU 모니터] 메모리 할당: 1194.0MB, 예약: 3216.0MB\n",
      "[GPU 모니터] 메모리 할당: 1194.0MB, 예약: 3216.0MB\n",
      "[GPU 모니터] 메모리 할당: 1194.0MB, 예약: 3216.0MB\n",
      "[GPU 모니터] 메모리 할당: 1194.0MB, 예약: 3216.0MB\n",
      "[GPU 모니터] 메모리 할당: 1194.0MB, 예약: 3216.0MB\n",
      "[GPU 모니터] 메모리 할당: 1194.0MB, 예약: 3216.0MB\n",
      "[GPU 모니터] 메모리 할당: 1194.0MB, 예약: 3216.0MB\n",
      "[GPU 모니터] 메모리 할당: 1194.0MB, 예약: 3216.0MB\n",
      "[GPU 모니터] 메모리 할당: 1194.0MB, 예약: 3216.0MB\n",
      "[GPU 모니터] 메모리 할당: 1194.0MB, 예약: 3216.0MB\n",
      "[GPU 모니터] 메모리 할당: 1194.0MB, 예약: 3216.0MB\n",
      "[GPU 모니터] 메모리 할당: 1194.0MB, 예약: 3216.0MB\n",
      "[GPU 모니터] 메모리 할당: 1194.0MB, 예약: 3216.0MB\n",
      "[GPU 모니터] 메모리 할당: 1194.0MB, 예약: 3216.0MB\n",
      "[GPU 모니터] 메모리 할당: 1194.0MB, 예약: 3216.0MB\n",
      "[GPU 모니터] 메모리 할당: 1194.0MB, 예약: 3216.0MB\n",
      "[GPU 모니터] 메모리 할당: 1194.0MB, 예약: 3216.0MB\n",
      "[GPU 모니터] 메모리 할당: 1194.0MB, 예약: 3216.0MB\n",
      "[GPU 모니터] 메모리 할당: 1194.0MB, 예약: 3216.0MB\n",
      "[GPU 모니터] 메모리 할당: 1194.0MB, 예약: 3216.0MB\n",
      "[GPU 모니터] 메모리 할당: 1194.0MB, 예약: 3216.0MB\n",
      "[GPU 모니터] 메모리 할당: 1194.0MB, 예약: 3216.0MB\n",
      "[GPU 모니터] 메모리 할당: 1194.0MB, 예약: 3216.0MB\n",
      "[GPU 모니터] 메모리 할당: 1194.0MB, 예약: 3216.0MB\n",
      "[GPU 모니터] 메모리 할당: 1194.0MB, 예약: 3216.0MB\n",
      "[GPU 모니터] 메모리 할당: 1194.0MB, 예약: 3216.0MB\n",
      "[GPU 모니터] 메모리 할당: 1194.0MB, 예약: 3216.0MB\n",
      "[GPU 모니터] 메모리 할당: 1194.0MB, 예약: 3216.0MB\n",
      "[GPU 모니터] 메모리 할당: 1194.0MB, 예약: 3216.0MB\n",
      "[GPU 모니터] 메모리 할당: 1194.0MB, 예약: 3216.0MB\n",
      "[GPU 모니터] 메모리 할당: 1194.0MB, 예약: 3216.0MB\n"
     ]
    }
   ],
   "source": [
    "os.environ[\"CUDA_VISIBLE_DEVICES\"] = \"0\"\n",
    "\n",
    "# GPU 메모리 사용량 주기적으로 출력 (간격 60초로 조정)\n",
    "def gpu_monitor():\n",
    "    while True:\n",
    "        if torch.cuda.is_available():\n",
    "            mem_alloc = torch.cuda.memory_allocated() / 1024**2\n",
    "            mem_reserved = torch.cuda.memory_reserved() / 1024**2\n",
    "            print(f\"[GPU 모니터] 메모리 할당: {mem_alloc:.1f}MB, 예약: {mem_reserved:.1f}MB\")\n",
    "        time.sleep(60)  # 60초 간격\n",
    "\n",
    "monitor_thread = threading.Thread(target=gpu_monitor, daemon=True)\n",
    "monitor_thread.start()\n",
    "\n",
    "# 모델 로드\n",
    "#model = YOLO('yolo11x.pt')\n",
    "model = YOLO('runs/detect/yolov11x_custom_001/weights/best.pt')  # 기존 모델에서 이어서 학습 시\n",
    "\n",
    "# 하이퍼파라미터 튜닝 포함한 train 함수 호출\n",
    "start_time = time.time()\n",
    "\n",
    "model.train(\n",
    "    data='data.yaml',\n",
    "    epochs=30,\n",
    "    imgsz=640,\n",
    "    name=run_name,\n",
    "    device='0',\n",
    "    workers=0,\n",
    "    verbose=True,  # 더 자세한 로그 출력\n",
    "\n",
    "    batch=8,\n",
    "    patience=10,\n",
    "    warmup_epochs=0  # 웜업 비활성화\n",
    ")\n",
    "\n",
    "train_duration = time.time() - start_time\n",
    "print(f\"✅ 훈련 소요 시간: {train_duration:.2f}초\")"
   ]
  },
  {
   "cell_type": "code",
   "execution_count": null,
   "id": "60c0b627-b4cd-49b0-850c-16cf9be24ff7",
   "metadata": {},
   "outputs": [],
   "source": [
    "# 📌 [7] 검증 수행\n",
    "# start_val = time.time()\n",
    "\n",
    "# model = YOLO(f'runs/detect/{run_name}/weights/best.pt')\n",
    "# results = model.val()\n",
    "# val_duration = time.time() - start_val\n",
    "# print(f\"✅ 검증 소요 시간: {val_duration:.2f}초\")\n",
    "# print(f\"mAP50: {results.box.map50:.4f}, mAP50-95: {results.box.map:.4f}\")\n",
    "\n",
    "# # PR Curve 시각화 (val 결과 내 PR curve 있으면)\n",
    "# if hasattr(results, 'plots') and 'pr_curve' in results.plots:\n",
    "#     plt.figure(figsize=(8,6))\n",
    "#     plt.imshow(results.plots['pr_curve'])\n",
    "#     plt.axis('off')\n",
    "#     plt.title(\"PR Curve\")\n",
    "#     plt.show()"
   ]
  },
  {
   "cell_type": "code",
   "execution_count": null,
   "id": "1c2bc45d-0953-48f7-84e2-1b654387cedd",
   "metadata": {},
   "outputs": [],
   "source": []
  },
  {
   "cell_type": "code",
   "execution_count": null,
   "id": "b2c1a8b2-97e9-4c09-8f7b-79247534a245",
   "metadata": {},
   "outputs": [],
   "source": []
  },
  {
   "cell_type": "code",
   "execution_count": 9,
   "id": "d97140da-804d-4837-9713-a4c79560ecc8",
   "metadata": {},
   "outputs": [
    {
     "name": "stdout",
     "output_type": "stream",
     "text": [
      "yolov11x_custom_002\n"
     ]
    }
   ],
   "source": [
    "# 'yolov11x_custom_001'\n",
    "print(run_name)"
   ]
  },
  {
   "cell_type": "code",
   "execution_count": 10,
   "id": "015f7fc0-8690-492d-884e-547e6cbbf1d2",
   "metadata": {},
   "outputs": [
    {
     "name": "stdout",
     "output_type": "stream",
     "text": [
      "\n",
      "image 1/1 D:\\Project\\PJT_07\\code\\..\\test\\images\\00014_00004_00020_png.rf.e3b35f3ca153fde99af4db4a67d2a564.jpg: 640x640 1 Stop, 22.7ms\n",
      "Speed: 2.4ms preprocess, 22.7ms inference, 1.7ms postprocess per image at shape (1, 3, 640, 640)\n",
      "Results saved to \u001b[1mruns\\predict\\custom_test\\yolov11x_custom_002\u001b[0m\n"
     ]
    }
   ],
   "source": [
    "# 📌 [8] 예측 실행 및 저장\n",
    "test_img = '../test/images/00014_00004_00020_png.rf.e3b35f3ca153fde99af4db4a67d2a564.jpg'\n",
    "pred = model.predict(\n",
    "    source=test_img,\n",
    "    conf=0.25,\n",
    "    save=True,\n",
    "    project='runs/predict/custom_test',\n",
    "    name=run_name,\n",
    "    exist_ok=True\n",
    ")"
   ]
  },
  {
   "cell_type": "code",
   "execution_count": 11,
   "id": "243b0c34-06a6-42c7-8e19-c27bbbffe94b",
   "metadata": {},
   "outputs": [
    {
     "data": {
      "text/plain": [
       "<Figure size 1200x1200 with 1 Axes>"
      ]
     },
     "metadata": {},
     "output_type": "display_data"
    }
   ],
   "source": [
    "# 📌 [9] 예측 결과 시각화 및 GT bbox와 비교 함수 추가\n",
    "def draw_boxes_with_gt(image_path, pred_results, gt_label_path, class_names):\n",
    "    img = cv2.imread(image_path)\n",
    "    ih, iw = img.shape[:2]\n",
    "\n",
    "    # GT 박스 (파란색)\n",
    "    with open(gt_label_path, 'r') as f:\n",
    "        gt_lines = f.readlines()\n",
    "\n",
    "    for line in gt_lines:\n",
    "        cls, x, y, w, h = map(float, line.strip().split())\n",
    "        x1 = int((x - w/2) * iw)\n",
    "        y1 = int((y - h/2) * ih)\n",
    "        x2 = int((x + w/2) * iw)\n",
    "        y2 = int((y + h/2) * ih)\n",
    "        cv2.rectangle(img, (x1,y1), (x2,y2), (255,0,0), 2)\n",
    "        cv2.putText(img, f\"GT: {class_names[int(cls)]}\", (x1, y1-5),\n",
    "                    cv2.FONT_HERSHEY_SIMPLEX, 0.5, (255,0,0), 2)\n",
    "\n",
    "    # 예측 박스 (초록색)\n",
    "    for r in pred_results:\n",
    "        boxes = r.boxes.xyxy.cpu().numpy().astype(int)\n",
    "        scores = r.boxes.conf.cpu().numpy()\n",
    "        classes = r.boxes.cls.cpu().numpy().astype(int)\n",
    "        for (x1,y1,x2,y2), conf, cls in zip(boxes, scores, classes):\n",
    "            label = f\"{class_names[cls]} {conf:.2f}\"\n",
    "            cv2.rectangle(img, (x1,y1), (x2,y2), (0,255,0), 2)\n",
    "            (tw, th), _ = cv2.getTextSize(label, cv2.FONT_HERSHEY_SIMPLEX, 0.5, 1)\n",
    "            cv2.rectangle(img, (x1, y1 - th - 5), (x1 + tw, y1), (0,255,0), -1)\n",
    "            cv2.putText(img, label, (x1, y1 - 5), cv2.FONT_HERSHEY_SIMPLEX, 0.5, (0,0,0), 1)\n",
    "\n",
    "    plt.figure(figsize=(12,12))\n",
    "    plt.imshow(cv2.cvtColor(img, cv2.COLOR_BGR2RGB))\n",
    "    plt.axis('off')\n",
    "    plt.title(\"예측 박스 (초록) 와 GT 박스 (파랑) 비교\")\n",
    "    plt.show()\n",
    "\n",
    "gt_label_for_test_img = '../test/labels/00014_00004_00020_png.rf.e3b35f3ca153fde99af4db4a67d2a564.txt'\n",
    "draw_boxes_with_gt(test_img, pred, gt_label_for_test_img, class_names)"
   ]
  },
  {
   "cell_type": "code",
   "execution_count": 12,
   "id": "b69592a2-63fd-4d85-b00d-0b89a4dc2214",
   "metadata": {},
   "outputs": [
    {
     "name": "stdout",
     "output_type": "stream",
     "text": [
      "Ultralytics 8.3.156  Python-3.11.9 torch-2.7.1+cu128 CPU (13th Gen Intel Core(TM) i7-13700HX)\n",
      "\n",
      "\u001b[34m\u001b[1mPyTorch:\u001b[0m starting from 'runs\\detect\\yolov11x_custom_002\\weights\\best.pt' with input shape (1, 3, 640, 640) BCHW and output shape(s) (1, 19, 8400) (109.1 MB)\n",
      "\n",
      "\u001b[34m\u001b[1mONNX:\u001b[0m starting export with onnx 1.17.0 opset 19...\n",
      "\u001b[34m\u001b[1mONNX:\u001b[0m slimming with onnxslim 0.1.57...\n",
      "\u001b[34m\u001b[1mONNX:\u001b[0m export success  7.3s, saved as 'runs\\detect\\yolov11x_custom_002\\weights\\best.onnx' (217.2 MB)\n",
      "\n",
      "Export complete (9.0s)\n",
      "Results saved to \u001b[1mD:\\Project\\PJT_07\\code\\runs\\detect\\yolov11x_custom_002\\weights\u001b[0m\n",
      "Predict:         yolo predict task=detect model=runs\\detect\\yolov11x_custom_002\\weights\\best.onnx imgsz=640  \n",
      "Validate:        yolo val task=detect model=runs\\detect\\yolov11x_custom_002\\weights\\best.onnx imgsz=640 data=data.yaml  \n",
      "Visualize:       https://netron.app\n",
      "🧠 ONNX 모델 저장 경로: runs\\detect\\yolov11x_custom_002\\weights\\best.onnx\n"
     ]
    }
   ],
   "source": [
    "# 📌 [10] ONNX 모델로 내보내기\n",
    "export_path = model.export(format='onnx')\n",
    "print(f\"🧠 ONNX 모델 저장 경로: {export_path}\")"
   ]
  },
  {
   "cell_type": "code",
   "execution_count": 13,
   "id": "adc611e0-7cff-4e02-bd20-ffb8719167f1",
   "metadata": {},
   "outputs": [
    {
     "name": "stdout",
     "output_type": "stream",
     "text": [
      "Loading runs\\detect\\yolov11x_custom_002\\weights\\best.onnx for ONNX Runtime inference...\n",
      "Using ONNX Runtime CUDAExecutionProvider\n",
      "\n",
      "0: 640x640 1 Stop, 170.4ms\n",
      "Speed: 2.4ms preprocess, 170.4ms inference, 2.9ms postprocess per image at shape (1, 3, 640, 640)\n"
     ]
    },
    {
     "data": {
      "text/plain": [
       "<Figure size 1200x1200 with 1 Axes>"
      ]
     },
     "metadata": {},
     "output_type": "display_data"
    }
   ],
   "source": [
    "# 📌 [11] ONNX 모델 기반 예측 시각화 (기존 코드 유지)\n",
    "onnx_model = YOLO(os.path.join('runs/detect', run_name, 'weights', 'best.onnx'))\n",
    "\n",
    "image = cv2.imread(test_img)\n",
    "image = cv2.cvtColor(image, cv2.COLOR_BGR2RGB)\n",
    "resized_image = cv2.resize(image, (640, 640))\n",
    "\n",
    "results_onnx = onnx_model(resized_image, imgsz=640)\n",
    "\n",
    "for result in results_onnx:\n",
    "    boxes = result.boxes\n",
    "    names = result.names\n",
    "    for box in boxes:\n",
    "        x1, y1, x2, y2 = map(int, box.xyxy[0])\n",
    "        conf = box.conf[0]\n",
    "        cls = int(box.cls[0])\n",
    "        label = f\"{names[cls]} {conf:.2f}\"\n",
    "\n",
    "        cv2.rectangle(image, (x1, y1), (x2, y2), (0, 255, 0), 2)\n",
    "        (text_width, text_height), _ = cv2.getTextSize(label, cv2.FONT_HERSHEY_SIMPLEX, 0.5, 1)\n",
    "        cv2.rectangle(image, (x1, y1 - text_height - 5), (x1 + text_width, y1), (0, 255, 0), -1)\n",
    "        cv2.putText(image, label, (x1, y1 - 5), cv2.FONT_HERSHEY_SIMPLEX, 0.5, (0, 0, 0), 1)\n",
    "\n",
    "plt.figure(figsize=(12, 12))\n",
    "plt.imshow(image)\n",
    "plt.axis('off')\n",
    "plt.title(\"🔍 ONNX 예측 결과\")\n",
    "plt.show()"
   ]
  },
  {
   "cell_type": "code",
   "execution_count": null,
   "id": "0d0cb133-6f32-40bc-ab8e-3b85ab06bbe4",
   "metadata": {},
   "outputs": [],
   "source": [
    "# print(df.columns)"
   ]
  },
  {
   "cell_type": "code",
   "execution_count": 14,
   "id": "43de50a5-fe8e-47a9-aa63-d47d7b44788d",
   "metadata": {},
   "outputs": [
    {
     "name": "stdout",
     "output_type": "stream",
     "text": [
      "📈 훈련 결과 요약 (Epoch별 mAP):\n",
      "    metrics/mAP50(B)  metrics/mAP50-95(B)\n",
      "25           0.96780              0.83444\n",
      "26           0.97017              0.83821\n",
      "27           0.97174              0.83894\n",
      "28           0.97370              0.84421\n",
      "29           0.97186              0.84689\n"
     ]
    },
    {
     "data": {
      "text/plain": [
       "<Figure size 600x400 with 1 Axes>"
      ]
     },
     "metadata": {},
     "output_type": "display_data"
    },
    {
     "data": {
      "text/plain": [
       "<Figure size 1000x600 with 1 Axes>"
      ]
     },
     "metadata": {},
     "output_type": "display_data"
    },
    {
     "data": {
      "text/plain": [
       "<Figure size 1000x600 with 1 Axes>"
      ]
     },
     "metadata": {},
     "output_type": "display_data"
    },
    {
     "name": "stdout",
     "output_type": "stream",
     "text": [
      "🎯 최고 성능 Epoch:\n",
      "epoch                  30.00000\n",
      "metrics/mAP50(B)        0.97186\n",
      "metrics/mAP50-95(B)     0.84689\n",
      "Name: 29, dtype: float64\n"
     ]
    }
   ],
   "source": [
    "# 📌 [12] 훈련 결과 시각화 (mAP/Loss 등)\n",
    "results_csv = f'runs/detect/{run_name}/results.csv'\n",
    "\n",
    "if os.path.exists(results_csv):\n",
    "    df = pd.read_csv(results_csv)\n",
    "    print(f\"📈 훈련 결과 요약 (Epoch별 mAP):\\n{df[['metrics/mAP50(B)', 'metrics/mAP50-95(B)']].tail()}\")\n",
    "\n",
    "    # Box Loss 그래프\n",
    "    df[['train/box_loss', 'val/box_loss']].plot(title='Box Loss', figsize=(6, 4))\n",
    "    plt.savefig(f'runs/detect/{run_name}/box_loss.png')\n",
    "    plt.show()\n",
    "\n",
    "    # ✅ 수정: train/valid 전체 손실 시각화 (box, cls, dfl)\n",
    "    df[['train/box_loss', 'train/cls_loss', 'train/dfl_loss',\n",
    "        'val/box_loss', 'val/cls_loss', 'val/dfl_loss']].plot(figsize=(10,6))\n",
    "    plt.title('Train & Valid Losses (Box, Class, DFL)')\n",
    "    plt.savefig(f'runs/detect/{run_name}/losses.png')\n",
    "    plt.show()\n",
    "\n",
    "    # mAP, Precision, Recall 시각화\n",
    "    df[['metrics/mAP50(B)', 'metrics/precision(B)', 'metrics/recall(B)']].plot(figsize=(10,6))\n",
    "    plt.title('Metrics: mAP50, Precision, Recall')\n",
    "    plt.savefig(f'runs/detect/{run_name}/metrics.png')\n",
    "    plt.show()\n",
    "\n",
    "    best_idx = df['metrics/mAP50-95(B)'].idxmax()\n",
    "    print(\"🎯 최고 성능 Epoch:\")\n",
    "    print(df.loc[best_idx, ['epoch', 'metrics/mAP50(B)', 'metrics/mAP50-95(B)']])\n",
    "else:\n",
    "    print(\"📛 results.csv 없음 (훈련 실패?)\")"
   ]
  },
  {
   "cell_type": "code",
   "execution_count": 15,
   "id": "e5083cdc-633a-4e9b-92e2-e6940d5917a4",
   "metadata": {},
   "outputs": [
    {
     "name": "stdout",
     "output_type": "stream",
     "text": [
      "📦 결과 JSON 저장 완료: runs/detect/yolov11x_custom_002/results_summary.json\n"
     ]
    }
   ],
   "source": [
    "# 📌 [13] 결과를 JSON으로 저장\n",
    "def save_results_to_json(csv_path, json_path):\n",
    "    if os.path.exists(csv_path):\n",
    "        df = pd.read_csv(csv_path)\n",
    "        result_data = df.to_dict(orient='records')\n",
    "        with open(json_path, 'w') as f:\n",
    "            json.dump(result_data, f, indent=4)\n",
    "        print(f\"📦 결과 JSON 저장 완료: {json_path}\")\n",
    "\n",
    "save_results_to_json(\n",
    "    csv_path=f'runs/detect/{run_name}/results.csv',\n",
    "    json_path=f'runs/detect/{run_name}/results_summary.json'\n",
    ")"
   ]
  },
  {
   "cell_type": "code",
   "execution_count": null,
   "id": "d1237b8a-ff9b-4d44-9dce-66fa1c9ee5ba",
   "metadata": {},
   "outputs": [],
   "source": []
  },
  {
   "cell_type": "code",
   "execution_count": null,
   "id": "67a21761-1728-4cfb-8694-2853254c5d81",
   "metadata": {},
   "outputs": [],
   "source": []
  },
  {
   "cell_type": "code",
   "execution_count": null,
   "id": "15ac19c0-b5bc-48df-bf85-f275ae55f4e3",
   "metadata": {},
   "outputs": [],
   "source": []
  },
  {
   "cell_type": "code",
   "execution_count": null,
   "id": "37309006-8c9c-4421-816e-31016db0a180",
   "metadata": {},
   "outputs": [],
   "source": []
  },
  {
   "cell_type": "code",
   "execution_count": null,
   "id": "d552a7f1-da31-4f73-8614-4a984f92a319",
   "metadata": {},
   "outputs": [],
   "source": []
  },
  {
   "cell_type": "code",
   "execution_count": null,
   "id": "0d78448a-572c-4f85-a3e5-a4e6edb9f826",
   "metadata": {},
   "outputs": [],
   "source": []
  }
 ],
 "metadata": {
  "kernelspec": {
   "display_name": "Python 3 (ipykernel)",
   "language": "python",
   "name": "python3"
  },
  "language_info": {
   "codemirror_mode": {
    "name": "ipython",
    "version": 3
   },
   "file_extension": ".py",
   "mimetype": "text/x-python",
   "name": "python",
   "nbconvert_exporter": "python",
   "pygments_lexer": "ipython3",
   "version": "3.11.9"
  }
 },
 "nbformat": 4,
 "nbformat_minor": 5
}
