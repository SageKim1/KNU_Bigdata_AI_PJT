{
 "cells": [
  {
   "cell_type": "markdown",
   "id": "2cbc0b35-edda-4d7a-bc9a-9fdac3a272e7",
   "metadata": {},
   "source": [
    "# 07에서 추가 학습-> 08에서 추가 학습"
   ]
  },
  {
   "cell_type": "code",
   "execution_count": null,
   "id": "74a76868-ae4c-4a51-8beb-2ccfb73db277",
   "metadata": {},
   "outputs": [],
   "source": []
  },
  {
   "cell_type": "markdown",
   "id": "2f43ae97-befc-4763-bd09-4fedcee24754",
   "metadata": {},
   "source": [
    "# 07\n",
    "## 06에서 모델을 11x로 변경해서 돌리기\n",
    "## batch=64 (주피터 창 강제 종료됨)\n",
    "## => batch=32\n",
    "- OutOfMemoryError: CUDA out of memory. Tried to allocate 76.00 MiB. GPU 0 has a total capacity of 8.00 GiB of which 0 bytes is free. Of the allocated memory 22.19 GiB is allocated by PyTorch, and 136.10 MiB is reserved by PyTorch but unallocated. If reserved but unallocated memory is large try setting PYTORCH_CUDA_ALLOC_CONF=expandable_segments:True to avoid fragmentation.\n",
    "## => batch=16 (소요시간 너무 긺)\n",
    "## => batch=8"
   ]
  },
  {
   "cell_type": "code",
   "execution_count": 1,
   "id": "5ab5f421-5dc2-44c0-8670-f65c60a5a2ef",
   "metadata": {},
   "outputs": [],
   "source": [
    "# 📌 [기본 패키지 임포트]\n",
    "import os\n",
    "import shutil\n",
    "import torch\n",
    "import ultralytics\n",
    "from ultralytics import YOLO\n",
    "import time\n",
    "import pandas as pd\n",
    "import cv2\n",
    "import matplotlib.pyplot as plt\n",
    "import numpy as np\n",
    "import json\n",
    "from glob import glob\n",
    "from collections import Counter\n",
    "import threading"
   ]
  },
  {
   "cell_type": "code",
   "execution_count": 2,
   "id": "7b25ddcb-21fe-4ed4-b066-f09ce8a8f9be",
   "metadata": {},
   "outputs": [
    {
     "name": "stdout",
     "output_type": "stream",
     "text": [
      "Ultralytics 8.3.156  Python-3.11.9 torch-2.7.1+cu128 CUDA:0 (NVIDIA GeForce RTX 4070 Laptop GPU, 8188MiB)\n",
      "Setup complete  (24 CPUs, 31.7 GB RAM, 26.0/735.1 GB disk)\n"
     ]
    }
   ],
   "source": [
    "# 📌 [1] GPU 및 환경 체크\n",
    "print(\"✅ CUDA 사용 가능:\", torch.cuda.is_available())\n",
    "print(\"✅ PyTorch 버전:\", torch.__version__)\n",
    "ultralytics.checks()"
   ]
  },
  {
   "cell_type": "code",
   "execution_count": 3,
   "id": "0b1c52e5-434e-410f-b6f0-151dd2e3af32",
   "metadata": {},
   "outputs": [
    {
     "name": "stdout",
     "output_type": "stream",
     "text": [
      "✅ 삭제할 미완성 run 없음. 모든 run이 best.pt 포함.\n"
     ]
    }
   ],
   "source": [
    "# 📌 [2] 실패한 이전 runs 삭제\n",
    "def clean_incomplete_runs(base_dir='../code/runs/detect'):\n",
    "    if not os.path.exists(base_dir):\n",
    "        print(f\"📂 '{base_dir}' 폴더가 없어 삭제 생략\")\n",
    "        return\n",
    "\n",
    "    deleted = False\n",
    "    for folder in os.listdir(base_dir):\n",
    "        path = os.path.join(base_dir, folder)\n",
    "        best_model = os.path.join(path, 'weights', 'best.pt')\n",
    "        if not os.path.exists(best_model):\n",
    "            print(f\"🧹 삭제 대상: {path}\")\n",
    "            shutil.rmtree(path)\n",
    "            deleted = True\n",
    "\n",
    "    if not deleted:\n",
    "        print(\"✅ 삭제할 미완성 run 없음. 모든 run이 best.pt 포함.\")\n",
    "\n",
    "clean_incomplete_runs()"
   ]
  },
  {
   "cell_type": "code",
   "execution_count": 4,
   "id": "aeb14c7a-9d16-4749-818a-d7e43b6656c4",
   "metadata": {},
   "outputs": [
    {
     "name": "stdout",
     "output_type": "stream",
     "text": [
      "📄 마지막 훈련 결과 파일: runs/detect\\yolov11x_custom_002\\results.csv\n",
      "🔁 마지막 훈련 결과 (마지막 5줄):\n",
      "    epoch     time  train/box_loss  train/cls_loss  train/dfl_loss  \\\n",
      "25     26  29539.0         0.50174         0.31550         0.92990   \n",
      "26     27  31074.2         0.50015         0.30775         0.92601   \n",
      "27     28  31883.9         0.49246         0.29794         0.91952   \n",
      "28     29  33042.7         0.49071         0.29708         0.91819   \n",
      "29     30  34859.4         0.48418         0.28852         0.91538   \n",
      "\n",
      "    metrics/precision(B)  metrics/recall(B)  metrics/mAP50(B)  \\\n",
      "25               0.95406            0.92760           0.96780   \n",
      "26               0.95618            0.92145           0.97017   \n",
      "27               0.95742            0.92731           0.97174   \n",
      "28               0.95809            0.93003           0.97370   \n",
      "29               0.94601            0.93872           0.97186   \n",
      "\n",
      "    metrics/mAP50-95(B)  val/box_loss  val/cls_loss  val/dfl_loss    lr/pg0  \\\n",
      "25              0.83444       0.57296       0.33012       0.96081  0.000092   \n",
      "26              0.83821       0.56865       0.31244       0.95678  0.000075   \n",
      "27              0.83894       0.56530       0.30737       0.95707  0.000057   \n",
      "28              0.84421       0.56168       0.30040       0.95290  0.000040   \n",
      "29              0.84689       0.56006       0.29887       0.95160  0.000023   \n",
      "\n",
      "      lr/pg1    lr/pg2  \n",
      "25  0.000092  0.000092  \n",
      "26  0.000075  0.000075  \n",
      "27  0.000057  0.000057  \n",
      "28  0.000040  0.000040  \n",
      "29  0.000023  0.000023  \n"
     ]
    }
   ],
   "source": [
    "# 📌 [3] 가장 최근 run 결과 요약 출력\n",
    "def get_last_run_csv():\n",
    "    runs = sorted(glob('runs/detect/*/results.csv'), key=os.path.getmtime, reverse=True)\n",
    "    if runs:\n",
    "        print(f\"📄 마지막 훈련 결과 파일: {runs[0]}\")\n",
    "        df = pd.read_csv(runs[0])\n",
    "        print(\"🔁 마지막 훈련 결과 (마지막 5줄):\")\n",
    "        print(df.tail())\n",
    "    else:\n",
    "        print(\"ℹ️ 이전 훈련 결과 없음.\")\n",
    "\n",
    "get_last_run_csv()"
   ]
  },
  {
   "cell_type": "code",
   "execution_count": 5,
   "id": "87ef416e-3708-43d3-8a53-316b88f7eb56",
   "metadata": {},
   "outputs": [
    {
     "name": "stdout",
     "output_type": "stream",
     "text": [
      "🚀 새 훈련 run 이름: yolov11x_custom_003\n"
     ]
    }
   ],
   "source": [
    "# 📌 [4] 자동 넘버링 run 이름 생성\n",
    "def get_next_run_name(base_dir='runs/detect', prefix='yolov11x_custom'):\n",
    "    i = 1\n",
    "    while os.path.exists(os.path.join(base_dir, f'{prefix}_{i:03d}')):\n",
    "        i += 1\n",
    "    return f'{prefix}_{i:03d}'\n",
    "\n",
    "run_name = get_next_run_name()\n",
    "print(f\"🚀 새 훈련 run 이름: {run_name}\")"
   ]
  },
  {
   "cell_type": "code",
   "execution_count": 6,
   "id": "743708d1-328f-4d4e-94b1-42db57f9a377",
   "metadata": {},
   "outputs": [
    {
     "name": "stdout",
     "output_type": "stream",
     "text": [
      "\n",
      "📁 이미지 경로: ../train/images\n",
      "🖼️ 이미지 개수: 3530\n",
      "💾 이미지 용량: 67.55 MB\n",
      "📄 라벨 경로: ../train/labels\n",
      "📝 라벨 개수: 3530\n",
      "💾 라벨 용량: 319.50 KB\n",
      "\n",
      "📊 클래스별 라벨 개수 (../train/labels):\n",
      "  0 (Green Light): 542\n",
      "  1 (Red Light): 585\n",
      "  2 (Speed Limit 10): 19\n",
      "  3 (Speed Limit 100): 267\n",
      "  4 (Speed Limit 110): 101\n",
      "  5 (Speed Limit 120): 252\n",
      "  6 (Speed Limit 20): 285\n",
      "  7 (Speed Limit 30): 334\n",
      "  8 (Speed Limit 40): 235\n",
      "  9 (Speed Limit 50): 283\n",
      "  10 (Speed Limit 60): 301\n",
      "  11 (Speed Limit 70): 318\n",
      "  12 (Speed Limit 80): 323\n",
      "  13 (Speed Limit 90): 168\n",
      "  14 (Stop): 285\n",
      "\n",
      "📁 이미지 경로: ../valid/images\n",
      "🖼️ 이미지 개수: 801\n",
      "💾 이미지 용량: 15.38 MB\n",
      "📄 라벨 경로: ../valid/labels\n",
      "📝 라벨 개수: 801\n",
      "💾 라벨 용량: 69.86 KB\n",
      "\n",
      "📊 클래스별 라벨 개수 (../valid/labels):\n",
      "  0 (Green Light): 122\n",
      "  1 (Red Light): 108\n",
      "  3 (Speed Limit 100): 52\n",
      "  4 (Speed Limit 110): 17\n",
      "  5 (Speed Limit 120): 60\n",
      "  6 (Speed Limit 20): 56\n",
      "  7 (Speed Limit 30): 74\n",
      "  8 (Speed Limit 40): 55\n",
      "  9 (Speed Limit 50): 71\n",
      "  10 (Speed Limit 60): 76\n",
      "  11 (Speed Limit 70): 78\n",
      "  12 (Speed Limit 80): 56\n",
      "  13 (Speed Limit 90): 38\n",
      "  14 (Stop): 81\n"
     ]
    }
   ],
   "source": [
    "# 📌 [5] 입력 데이터 정보 출력 및 클래스별 레이블 개수 확인 함수 추가\n",
    "def get_dataset_info(img_dir, label_dir, class_names=None):\n",
    "    img_files = glob(os.path.join(img_dir, '*.jpg'))\n",
    "    label_files = glob(os.path.join(label_dir, '*.txt'))\n",
    "\n",
    "    total_img_size = sum(os.path.getsize(f) for f in img_files)\n",
    "    total_label_size = sum(os.path.getsize(f) for f in label_files)\n",
    "\n",
    "    print(f\"\\n📁 이미지 경로: {img_dir}\")\n",
    "    print(f\"🖼️ 이미지 개수: {len(img_files)}\")\n",
    "    print(f\"💾 이미지 용량: {total_img_size / 1024 / 1024:.2f} MB\")\n",
    "    print(f\"📄 라벨 경로: {label_dir}\")\n",
    "    print(f\"📝 라벨 개수: {len(label_files)}\")\n",
    "    print(f\"💾 라벨 용량: {total_label_size / 1024:.2f} KB\")\n",
    "\n",
    "    # 클래스별 라벨 개수 집계\n",
    "    classes = []\n",
    "    for f in label_files:\n",
    "        with open(f, 'r') as file:\n",
    "            lines = file.readlines()\n",
    "            classes += [int(line.split()[0]) for line in lines if line.strip()]\n",
    "    counter = Counter(classes)\n",
    "    print(f\"\\n📊 클래스별 라벨 개수 ({label_dir}):\")\n",
    "    if class_names:\n",
    "        for cls_idx, count in sorted(counter.items()):\n",
    "            print(f\"  {cls_idx} ({class_names[cls_idx]}): {count}\")\n",
    "    else:\n",
    "        print(counter)\n",
    "\n",
    "# 예시로 data.yaml에서 클래스명 읽어오기\n",
    "import yaml\n",
    "with open('data.yaml', 'r') as f:\n",
    "    data_cfg = yaml.safe_load(f)\n",
    "class_names = data_cfg.get('names', None)\n",
    "\n",
    "get_dataset_info('../train/images', '../train/labels', class_names)\n",
    "get_dataset_info('../valid/images', '../valid/labels', class_names)"
   ]
  },
  {
   "cell_type": "code",
   "execution_count": null,
   "id": "32041e59-06d3-412a-be41-3bf651c546a6",
   "metadata": {},
   "outputs": [],
   "source": [
    "# 📌 캐시 파일 삭제 함수\n",
    "# def safe_delete_cache(path: str):\n",
    "#     if not os.path.exists(path):\n",
    "#         print(f\"🟢 캐시 파일 없음 (삭제 불필요): {path}\")\n",
    "#         return\n",
    "\n",
    "#     file_size = os.path.getsize(path)\n",
    "#     last_modified = os.path.getmtime(path)\n",
    "#     now = time.time()\n",
    "\n",
    "#     should_delete = (\n",
    "#         file_size < 1024 or  # 1KB 이하\n",
    "#         (now - last_modified > 3600)  # 1시간 이상 경과\n",
    "#     )\n",
    "\n",
    "#     if should_delete:\n",
    "#         try:\n",
    "#             os.remove(path)\n",
    "#             print(f\"✅ 캐시 삭제 완료: {path}\")\n",
    "#         except Exception as e:\n",
    "#             print(f\"❌ 캐시 삭제 실패: {path} → {e}\")\n",
    "#     else:\n",
    "#         print(f\"🔒 캐시 유지: {path} (조건 미충족)\")\n",
    "\n",
    "# safe_delete_cache(r\"D:\\Project\\PJT_07\\train\\labels.cache\")\n",
    "# safe_delete_cache(r\"D:\\Project\\PJT_07\\valid\\labels.cache\")"
   ]
  },
  {
   "cell_type": "code",
   "execution_count": 7,
   "id": "977c05ce-f89b-4b82-8ecf-30fe149b7caa",
   "metadata": {},
   "outputs": [
    {
     "name": "stdout",
     "output_type": "stream",
     "text": [
      "yolov11x_custom_003\n"
     ]
    }
   ],
   "source": [
    "print(run_name)"
   ]
  },
  {
   "cell_type": "code",
   "execution_count": 8,
   "id": "658a7012-9428-40ad-a6f9-3468c7b2ce2b",
   "metadata": {},
   "outputs": [
    {
     "name": "stdout",
     "output_type": "stream",
     "text": [
      "[GPU 모니터] 메모리 할당: 0.0MB, 예약: 0.0MB\n",
      "New https://pypi.org/project/ultralytics/8.3.157 available  Update with 'pip install -U ultralytics'\n",
      "Ultralytics 8.3.156  Python-3.11.9 torch-2.7.1+cu128 CUDA:0 (NVIDIA GeForce RTX 4070 Laptop GPU, 8188MiB)\n",
      "\u001b[34m\u001b[1mengine\\trainer: \u001b[0magnostic_nms=False, amp=True, augment=False, auto_augment=randaugment, batch=8, bgr=0.0, box=7.5, cache=False, cfg=None, classes=None, close_mosaic=10, cls=0.5, conf=None, copy_paste=0.0, copy_paste_mode=flip, cos_lr=False, cutmix=0.0, data=data.yaml, degrees=0.0, deterministic=True, device=0, dfl=1.5, dnn=False, dropout=0.0, dynamic=False, embed=None, epochs=10, erasing=0.4, exist_ok=False, fliplr=0.5, flipud=0.0, format=torchscript, fraction=1.0, freeze=None, half=False, hsv_h=0.015, hsv_s=0.7, hsv_v=0.4, imgsz=640, int8=False, iou=0.7, keras=False, kobj=1.0, line_width=None, lr0=0.01, lrf=0.01, mask_ratio=4, max_det=300, mixup=0.0, mode=train, model=runs/detect/yolov11x_custom_002/weights/best.pt, momentum=0.937, mosaic=1.0, multi_scale=False, name=yolov11x_custom_003, nbs=64, nms=False, opset=None, optimize=False, optimizer=auto, overlap_mask=True, patience=5, perspective=0.0, plots=True, pose=12.0, pretrained=True, profile=False, project=None, rect=False, resume=False, retina_masks=False, save=True, save_conf=False, save_crop=False, save_dir=runs\\detect\\yolov11x_custom_003, save_frames=False, save_json=False, save_period=-1, save_txt=False, scale=0.5, seed=0, shear=0.0, show=False, show_boxes=True, show_conf=True, show_labels=True, simplify=True, single_cls=False, source=None, split=val, stream_buffer=False, task=detect, time=None, tracker=botsort.yaml, translate=0.1, val=True, verbose=True, vid_stride=1, visualize=False, warmup_bias_lr=0.1, warmup_epochs=0, warmup_momentum=0.8, weight_decay=0.0005, workers=0, workspace=None\n",
      "\n",
      "                   from  n    params  module                                       arguments                     \n",
      "  0                  -1  1      2784  ultralytics.nn.modules.conv.Conv             [3, 96, 3, 2]                 \n",
      "  1                  -1  1    166272  ultralytics.nn.modules.conv.Conv             [96, 192, 3, 2]               \n",
      "  2                  -1  2    389760  ultralytics.nn.modules.block.C3k2            [192, 384, 2, True, 0.25]     \n",
      "  3                  -1  1   1327872  ultralytics.nn.modules.conv.Conv             [384, 384, 3, 2]              \n",
      "  4                  -1  2   1553664  ultralytics.nn.modules.block.C3k2            [384, 768, 2, True, 0.25]     \n",
      "  5                  -1  1   5309952  ultralytics.nn.modules.conv.Conv             [768, 768, 3, 2]              \n",
      "  6                  -1  2   5022720  ultralytics.nn.modules.block.C3k2            [768, 768, 2, True]           \n",
      "  7                  -1  1   5309952  ultralytics.nn.modules.conv.Conv             [768, 768, 3, 2]              \n",
      "  8                  -1  2   5022720  ultralytics.nn.modules.block.C3k2            [768, 768, 2, True]           \n",
      "  9                  -1  1   1476864  ultralytics.nn.modules.block.SPPF            [768, 768, 5]                 \n",
      " 10                  -1  2   3264768  ultralytics.nn.modules.block.C2PSA           [768, 768, 2]                 \n",
      " 11                  -1  1         0  torch.nn.modules.upsampling.Upsample         [None, 2, 'nearest']          \n",
      " 12             [-1, 6]  1         0  ultralytics.nn.modules.conv.Concat           [1]                           \n",
      " 13                  -1  2   5612544  ultralytics.nn.modules.block.C3k2            [1536, 768, 2, True]          \n",
      " 14                  -1  1         0  torch.nn.modules.upsampling.Upsample         [None, 2, 'nearest']          \n",
      " 15             [-1, 4]  1         0  ultralytics.nn.modules.conv.Concat           [1]                           \n",
      " 16                  -1  2   1700352  ultralytics.nn.modules.block.C3k2            [1536, 384, 2, True]          \n",
      " 17                  -1  1   1327872  ultralytics.nn.modules.conv.Conv             [384, 384, 3, 2]              \n",
      " 18            [-1, 13]  1         0  ultralytics.nn.modules.conv.Concat           [1]                           \n",
      " 19                  -1  2   5317632  ultralytics.nn.modules.block.C3k2            [1152, 768, 2, True]          \n",
      " 20                  -1  1   5309952  ultralytics.nn.modules.conv.Conv             [768, 768, 3, 2]              \n",
      " 21            [-1, 10]  1         0  ultralytics.nn.modules.conv.Concat           [1]                           \n",
      " 22                  -1  2   5612544  ultralytics.nn.modules.block.C3k2            [1536, 768, 2, True]          \n",
      " 23        [16, 19, 22]  1   3162877  ultralytics.nn.modules.head.Detect           [15, [384, 768, 768]]         \n",
      "YOLO11x summary: 357 layers, 56,891,101 parameters, 56,891,085 gradients, 195.5 GFLOPs\n",
      "\n",
      "Transferred 1015/1015 items from pretrained weights\n",
      "Freezing layer 'model.23.dfl.conv.weight'\n",
      "\u001b[34m\u001b[1mAMP: \u001b[0mrunning Automatic Mixed Precision (AMP) checks...\n",
      "\u001b[34m\u001b[1mAMP: \u001b[0mchecks passed \n",
      "\u001b[34m\u001b[1mtrain: \u001b[0mFast image access  (ping: 0.10.1 ms, read: 137.050.8 MB/s, size: 24.1 KB)\n"
     ]
    },
    {
     "name": "stderr",
     "output_type": "stream",
     "text": [
      "\u001b[34m\u001b[1mtrain: \u001b[0mScanning D:\\Project\\PJT_07\\train\\labels.cache... 3530 images, 3 backgrounds, 0 corrupt: 100%|██████████| 3530\u001b[0m"
     ]
    },
    {
     "name": "stdout",
     "output_type": "stream",
     "text": [
      "\u001b[34m\u001b[1mval: \u001b[0mFast image access  (ping: 0.00.0 ms, read: 155.380.0 MB/s, size: 20.7 KB)\n"
     ]
    },
    {
     "name": "stderr",
     "output_type": "stream",
     "text": [
      "\n",
      "\u001b[34m\u001b[1mval: \u001b[0mScanning D:\\Project\\PJT_07\\valid\\labels.cache... 801 images, 0 backgrounds, 0 corrupt: 100%|██████████| 801/801\u001b[0m"
     ]
    },
    {
     "name": "stdout",
     "output_type": "stream",
     "text": [
      "Plotting labels to runs\\detect\\yolov11x_custom_003\\labels.jpg... \n"
     ]
    },
    {
     "name": "stderr",
     "output_type": "stream",
     "text": [
      "\n"
     ]
    },
    {
     "name": "stdout",
     "output_type": "stream",
     "text": [
      "\u001b[34m\u001b[1moptimizer:\u001b[0m 'optimizer=auto' found, ignoring 'lr0=0.01' and 'momentum=0.937' and determining best 'optimizer', 'lr0' and 'momentum' automatically... \n",
      "\u001b[34m\u001b[1moptimizer:\u001b[0m AdamW(lr=0.000526, momentum=0.9) with parameter groups 167 weight(decay=0.0), 174 weight(decay=0.0005), 173 bias(decay=0.0)\n",
      "Image sizes 640 train, 640 val\n",
      "Using 0 dataloader workers\n",
      "Logging results to \u001b[1mruns\\detect\\yolov11x_custom_003\u001b[0m\n",
      "Starting training for 10 epochs...\n",
      "Closing dataloader mosaic\n",
      "\n",
      "      Epoch    GPU_mem   box_loss   cls_loss   dfl_loss  Instances       Size\n"
     ]
    },
    {
     "name": "stderr",
     "output_type": "stream",
     "text": [
      "       1/10      7.71G     0.4696     0.2554      0.902         10        640:   2%|▏         | 8/442 [00:53<47:22, "
     ]
    },
    {
     "name": "stdout",
     "output_type": "stream",
     "text": [
      "[GPU 모니터] 메모리 할당: 7327.1MB, 예약: 7890.0MB\n"
     ]
    },
    {
     "name": "stderr",
     "output_type": "stream",
     "text": [
      "       1/10      7.71G     0.4951     0.2717     0.9219         11        640:   4%|▎         | 16/442 [01:48<48:07,"
     ]
    },
    {
     "name": "stdout",
     "output_type": "stream",
     "text": [
      "[GPU 모니터] 메모리 할당: 773.9MB, 예약: 7890.0MB\n"
     ]
    },
    {
     "name": "stderr",
     "output_type": "stream",
     "text": [
      "       1/10      7.71G     0.4987     0.2858     0.9276         10        640:   6%|▌         | 25/442 [02:49<47:58,"
     ]
    },
    {
     "name": "stdout",
     "output_type": "stream",
     "text": [
      "[GPU 모니터] 메모리 할당: 811.9MB, 예약: 7890.0MB\n"
     ]
    },
    {
     "name": "stderr",
     "output_type": "stream",
     "text": [
      "       1/10      7.71G     0.4716     0.2771     0.9131         12        640:   8%|▊         | 34/442 [03:51<46:59,"
     ]
    },
    {
     "name": "stdout",
     "output_type": "stream",
     "text": [
      "[GPU 모니터] 메모리 할당: 773.9MB, 예약: 7890.0MB\n"
     ]
    },
    {
     "name": "stderr",
     "output_type": "stream",
     "text": [
      "       1/10      7.71G     0.4795     0.2756     0.9195          8        640:  10%|▉         | 43/442 [04:52<45:12,"
     ]
    },
    {
     "name": "stdout",
     "output_type": "stream",
     "text": [
      "[GPU 모니터] 메모리 할당: 811.9MB, 예약: 7890.0MB\n"
     ]
    },
    {
     "name": "stderr",
     "output_type": "stream",
     "text": [
      "       1/10      8.25G     0.4731     0.2791     0.9245         10        640:  12%|█▏        | 52/442 [05:53<43:25,"
     ]
    },
    {
     "name": "stdout",
     "output_type": "stream",
     "text": [
      "[GPU 모니터] 메모리 할당: 7995.5MB, 예약: 8452.0MB\n"
     ]
    },
    {
     "name": "stderr",
     "output_type": "stream",
     "text": [
      "       1/10      8.25G     0.4946     0.2949     0.9427         10        640:  14%|█▍        | 61/442 [06:49<38:27,"
     ]
    },
    {
     "name": "stdout",
     "output_type": "stream",
     "text": [
      "[GPU 모니터] 메모리 할당: 1261.2MB, 예약: 8452.0MB\n"
     ]
    },
    {
     "name": "stderr",
     "output_type": "stream",
     "text": [
      "       1/10      8.26G     0.5093     0.3113     0.9439          8        640:  16%|█▌        | 71/442 [07:48<36:39,"
     ]
    },
    {
     "name": "stdout",
     "output_type": "stream",
     "text": [
      "[GPU 모니터] 메모리 할당: 1028.1MB, 예약: 8454.0MB\n"
     ]
    },
    {
     "name": "stderr",
     "output_type": "stream",
     "text": [
      "       1/10      8.26G     0.5278     0.3354     0.9472          8        640:  19%|█▊        | 82/442 [08:54<35:57,"
     ]
    },
    {
     "name": "stdout",
     "output_type": "stream",
     "text": [
      "[GPU 모니터] 메모리 할당: 1261.2MB, 예약: 8454.0MB\n"
     ]
    },
    {
     "name": "stderr",
     "output_type": "stream",
     "text": [
      "       1/10      8.26G      0.538     0.3469      0.954         10        640:  21%|██        | 92/442 [09:54<34:36,"
     ]
    },
    {
     "name": "stdout",
     "output_type": "stream",
     "text": [
      "[GPU 모니터] 메모리 할당: 7998.6MB, 예약: 8454.0MB\n"
     ]
    },
    {
     "name": "stderr",
     "output_type": "stream",
     "text": [
      "       1/10      8.26G     0.5472     0.3583     0.9593          9        640:  23%|██▎       | 102/442 [10:53<33:26"
     ]
    },
    {
     "name": "stdout",
     "output_type": "stream",
     "text": [
      "[GPU 모니터] 메모리 할당: 7998.6MB, 예약: 8454.0MB\n"
     ]
    },
    {
     "name": "stderr",
     "output_type": "stream",
     "text": [
      "       1/10      8.26G     0.5535     0.3774     0.9643          8        640:  25%|██▌       | 112/442 [11:53<32:58"
     ]
    },
    {
     "name": "stdout",
     "output_type": "stream",
     "text": [
      "[GPU 모니터] 메모리 할당: 7767.4MB, 예약: 8454.0MB\n"
     ]
    },
    {
     "name": "stderr",
     "output_type": "stream",
     "text": [
      "       1/10      8.26G     0.5689     0.4024     0.9722          9        640:  28%|██▊       | 122/442 [12:53<31:55"
     ]
    },
    {
     "name": "stdout",
     "output_type": "stream",
     "text": [
      "[GPU 모니터] 메모리 할당: 7998.6MB, 예약: 8454.0MB\n"
     ]
    },
    {
     "name": "stderr",
     "output_type": "stream",
     "text": [
      "       1/10      8.26G     0.5773     0.4139     0.9755         13        640:  30%|██▉       | 132/442 [13:52<30:33"
     ]
    },
    {
     "name": "stdout",
     "output_type": "stream",
     "text": [
      "[GPU 모니터] 메모리 할당: 8021.5MB, 예약: 8454.0MB\n"
     ]
    },
    {
     "name": "stderr",
     "output_type": "stream",
     "text": [
      "       1/10      8.26G      0.584     0.4249     0.9788         12        640:  32%|███▏      | 142/442 [14:52<29:29"
     ]
    },
    {
     "name": "stdout",
     "output_type": "stream",
     "text": [
      "[GPU 모니터] 메모리 할당: 1223.2MB, 예약: 8454.0MB\n"
     ]
    },
    {
     "name": "stderr",
     "output_type": "stream",
     "text": [
      "       1/10      8.26G     0.5883      0.437     0.9785         10        640:  34%|███▍      | 152/442 [15:52<28:59"
     ]
    },
    {
     "name": "stdout",
     "output_type": "stream",
     "text": [
      "[GPU 모니터] 메모리 할당: 1223.2MB, 예약: 8454.0MB\n"
     ]
    },
    {
     "name": "stderr",
     "output_type": "stream",
     "text": [
      "       1/10      8.26G     0.5913     0.4486     0.9822          8        640:  37%|███▋      | 162/442 [16:51<27:58"
     ]
    },
    {
     "name": "stdout",
     "output_type": "stream",
     "text": [
      "[GPU 모니터] 메모리 할당: 1223.2MB, 예약: 8454.0MB\n"
     ]
    },
    {
     "name": "stderr",
     "output_type": "stream",
     "text": [
      "       1/10      8.26G     0.5934     0.4577     0.9815         11        640:  39%|███▉      | 172/442 [17:51<26:41"
     ]
    },
    {
     "name": "stdout",
     "output_type": "stream",
     "text": [
      "[GPU 모니터] 메모리 할당: 1223.2MB, 예약: 8456.0MB\n"
     ]
    },
    {
     "name": "stderr",
     "output_type": "stream",
     "text": [
      "       1/10      8.26G     0.5934      0.463     0.9809          9        640:  41%|████      | 182/442 [18:50<25:33"
     ]
    },
    {
     "name": "stdout",
     "output_type": "stream",
     "text": [
      "[GPU 모니터] 메모리 할당: 1223.2MB, 예약: 8456.0MB\n"
     ]
    },
    {
     "name": "stderr",
     "output_type": "stream",
     "text": [
      "       1/10      8.26G     0.5952     0.4674     0.9814          9        640:  43%|████▎     | 192/442 [19:50<25:00"
     ]
    },
    {
     "name": "stdout",
     "output_type": "stream",
     "text": [
      "[GPU 모니터] 메모리 할당: 1223.2MB, 예약: 8456.0MB\n"
     ]
    },
    {
     "name": "stderr",
     "output_type": "stream",
     "text": [
      "       1/10      8.26G     0.5987     0.4725     0.9821          8        640:  46%|████▌     | 202/442 [20:50<23:58"
     ]
    },
    {
     "name": "stdout",
     "output_type": "stream",
     "text": [
      "[GPU 모니터] 메모리 할당: 1223.2MB, 예약: 8456.0MB\n"
     ]
    },
    {
     "name": "stderr",
     "output_type": "stream",
     "text": [
      "       1/10      8.26G      0.598     0.4745     0.9808         12        640:  48%|████▊     | 212/442 [21:50<22:44"
     ]
    },
    {
     "name": "stdout",
     "output_type": "stream",
     "text": [
      "[GPU 모니터] 메모리 할당: 1223.2MB, 예약: 8456.0MB\n"
     ]
    },
    {
     "name": "stderr",
     "output_type": "stream",
     "text": [
      "       1/10      8.26G     0.5953     0.4791      0.982         10        640:  50%|█████     | 222/442 [22:49<21:38"
     ]
    },
    {
     "name": "stdout",
     "output_type": "stream",
     "text": [
      "[GPU 모니터] 메모리 할당: 1223.2MB, 예약: 8456.0MB\n"
     ]
    },
    {
     "name": "stderr",
     "output_type": "stream",
     "text": [
      "       1/10      8.26G     0.5952     0.4825     0.9818          8        640:  52%|█████▏    | 232/442 [23:49<20:54"
     ]
    },
    {
     "name": "stdout",
     "output_type": "stream",
     "text": [
      "[GPU 모니터] 메모리 할당: 1223.2MB, 예약: 8456.0MB\n"
     ]
    },
    {
     "name": "stderr",
     "output_type": "stream",
     "text": [
      "       1/10      8.26G     0.5944      0.485     0.9811         10        640:  55%|█████▍    | 242/442 [24:48<19:50"
     ]
    },
    {
     "name": "stdout",
     "output_type": "stream",
     "text": [
      "[GPU 모니터] 메모리 할당: 1223.2MB, 예약: 8456.0MB\n"
     ]
    },
    {
     "name": "stderr",
     "output_type": "stream",
     "text": [
      "       1/10      8.26G     0.5959     0.4887     0.9824         12        640:  57%|█████▋    | 253/442 [25:54<18:36"
     ]
    },
    {
     "name": "stdout",
     "output_type": "stream",
     "text": [
      "[GPU 모니터] 메모리 할당: 8036.1MB, 예약: 8456.0MB\n"
     ]
    },
    {
     "name": "stderr",
     "output_type": "stream",
     "text": [
      "       1/10      8.26G     0.5948     0.4883     0.9827          8        640:  60%|█████▉    | 263/442 [26:53<17:33"
     ]
    },
    {
     "name": "stdout",
     "output_type": "stream",
     "text": [
      "[GPU 모니터] 메모리 할당: 8036.1MB, 예약: 8456.0MB\n"
     ]
    },
    {
     "name": "stderr",
     "output_type": "stream",
     "text": [
      "       1/10      8.26G     0.5964     0.4929     0.9839          9        640:  62%|██████▏   | 273/442 [27:52<17:00"
     ]
    },
    {
     "name": "stdout",
     "output_type": "stream",
     "text": [
      "[GPU 모니터] 메모리 할당: 8036.1MB, 예약: 8456.0MB\n"
     ]
    },
    {
     "name": "stderr",
     "output_type": "stream",
     "text": [
      "       1/10      8.26G     0.5977      0.495     0.9844          8        640:  64%|██████▍   | 283/442 [28:52<15:46"
     ]
    },
    {
     "name": "stdout",
     "output_type": "stream",
     "text": [
      "[GPU 모니터] 메모리 할당: 1261.2MB, 예약: 8456.0MB\n"
     ]
    },
    {
     "name": "stderr",
     "output_type": "stream",
     "text": [
      "       1/10      8.26G      0.599     0.4974     0.9849         12        640:  66%|██████▋   | 293/442 [29:51<14:41"
     ]
    },
    {
     "name": "stdout",
     "output_type": "stream",
     "text": [
      "[GPU 모니터] 메모리 할당: 1261.2MB, 예약: 8456.0MB\n"
     ]
    },
    {
     "name": "stderr",
     "output_type": "stream",
     "text": [
      "       1/10      8.26G     0.5997      0.499     0.9854         14        640:  69%|██████▊   | 303/442 [30:50<13:39"
     ]
    },
    {
     "name": "stdout",
     "output_type": "stream",
     "text": [
      "[GPU 모니터] 메모리 할당: 1261.2MB, 예약: 8456.0MB\n"
     ]
    },
    {
     "name": "stderr",
     "output_type": "stream",
     "text": [
      "       1/10      8.26G     0.5988      0.499     0.9855         10        640:  71%|███████   | 313/442 [31:50<12:59"
     ]
    },
    {
     "name": "stdout",
     "output_type": "stream",
     "text": [
      "[GPU 모니터] 메모리 할당: 1261.2MB, 예약: 8456.0MB\n"
     ]
    },
    {
     "name": "stderr",
     "output_type": "stream",
     "text": [
      "       1/10      8.26G     0.5993     0.5014     0.9862          9        640:  73%|███████▎  | 323/442 [32:49<11:48"
     ]
    },
    {
     "name": "stdout",
     "output_type": "stream",
     "text": [
      "[GPU 모니터] 메모리 할당: 1261.2MB, 예약: 8456.0MB\n"
     ]
    },
    {
     "name": "stderr",
     "output_type": "stream",
     "text": [
      "       1/10      8.26G      0.601     0.5031     0.9874          9        640:  76%|███████▌  | 334/442 [33:54<10:34"
     ]
    },
    {
     "name": "stdout",
     "output_type": "stream",
     "text": [
      "[GPU 모니터] 메모리 할당: 1261.2MB, 예약: 8456.0MB\n"
     ]
    },
    {
     "name": "stderr",
     "output_type": "stream",
     "text": [
      "       1/10      8.26G     0.6033     0.5045     0.9877          9        640:  78%|███████▊  | 344/442 [34:54<09:44"
     ]
    },
    {
     "name": "stdout",
     "output_type": "stream",
     "text": [
      "[GPU 모니터] 메모리 할당: 7767.4MB, 예약: 8456.0MB\n"
     ]
    },
    {
     "name": "stderr",
     "output_type": "stream",
     "text": [
      "       1/10      8.26G     0.6014     0.5054     0.9874         11        640:  80%|████████  | 354/442 [35:53<08:44"
     ]
    },
    {
     "name": "stdout",
     "output_type": "stream",
     "text": [
      "[GPU 모니터] 메모리 할당: 7998.6MB, 예약: 8456.0MB\n"
     ]
    },
    {
     "name": "stderr",
     "output_type": "stream",
     "text": [
      "       1/10      8.26G     0.6003     0.5051     0.9865         11        640:  82%|████████▏ | 364/442 [36:52<07:40"
     ]
    },
    {
     "name": "stdout",
     "output_type": "stream",
     "text": [
      "[GPU 모니터] 메모리 할당: 7998.6MB, 예약: 8456.0MB\n"
     ]
    },
    {
     "name": "stderr",
     "output_type": "stream",
     "text": [
      "       1/10      8.26G     0.5978     0.5055     0.9858          8        640:  85%|████████▍ | 374/442 [37:52<06:39"
     ]
    },
    {
     "name": "stdout",
     "output_type": "stream",
     "text": [
      "[GPU 모니터] 메모리 할당: 1223.2MB, 예약: 8456.0MB\n"
     ]
    },
    {
     "name": "stderr",
     "output_type": "stream",
     "text": [
      "       1/10      8.26G     0.5958     0.5042     0.9863          8        640:  87%|████████▋ | 384/442 [38:51<05:46"
     ]
    },
    {
     "name": "stdout",
     "output_type": "stream",
     "text": [
      "[GPU 모니터] 메모리 할당: 1223.2MB, 예약: 8456.0MB\n"
     ]
    },
    {
     "name": "stderr",
     "output_type": "stream",
     "text": [
      "       1/10      8.26G     0.5974     0.5088     0.9884         10        640:  89%|████████▉ | 394/442 [39:51<04:45"
     ]
    },
    {
     "name": "stdout",
     "output_type": "stream",
     "text": [
      "[GPU 모니터] 메모리 할당: 1223.2MB, 예약: 8456.0MB\n"
     ]
    },
    {
     "name": "stderr",
     "output_type": "stream",
     "text": [
      "       1/10      8.26G     0.5987     0.5102     0.9892         13        640:  91%|█████████▏| 404/442 [40:50<03:44"
     ]
    },
    {
     "name": "stdout",
     "output_type": "stream",
     "text": [
      "[GPU 모니터] 메모리 할당: 1223.2MB, 예약: 8456.0MB\n"
     ]
    },
    {
     "name": "stderr",
     "output_type": "stream",
     "text": [
      "       1/10      8.26G     0.5979     0.5091      0.989          9        640:  94%|█████████▎| 414/442 [41:49<02:44"
     ]
    },
    {
     "name": "stdout",
     "output_type": "stream",
     "text": [
      "[GPU 모니터] 메모리 할당: 1223.2MB, 예약: 8456.0MB\n"
     ]
    },
    {
     "name": "stderr",
     "output_type": "stream",
     "text": [
      "       1/10      8.26G     0.6003     0.5118       0.99          8        640:  96%|█████████▌| 424/442 [42:48<01:47"
     ]
    },
    {
     "name": "stdout",
     "output_type": "stream",
     "text": [
      "[GPU 모니터] 메모리 할당: 1223.2MB, 예약: 8456.0MB\n"
     ]
    },
    {
     "name": "stderr",
     "output_type": "stream",
     "text": [
      "       1/10      8.26G     0.6009     0.5135     0.9908         10        640:  98%|█████████▊| 435/442 [43:54<00:41"
     ]
    },
    {
     "name": "stdout",
     "output_type": "stream",
     "text": [
      "[GPU 모니터] 메모리 할당: 8036.1MB, 예약: 8456.0MB\n"
     ]
    },
    {
     "name": "stderr",
     "output_type": "stream",
     "text": [
      "       1/10       8.3G     0.6003     0.5133     0.9908          2        640: 100%|██████████| 442/442 [44:31<00:00\n",
      "                 Class     Images  Instances      Box(P          R      mAP50  mAP50-95):  86%|████████▋ | 44/51 [00"
     ]
    },
    {
     "name": "stdout",
     "output_type": "stream",
     "text": [
      "[GPU 모니터] 메모리 할당: 1194.8MB, 예약: 4210.0MB\n"
     ]
    },
    {
     "name": "stderr",
     "output_type": "stream",
     "text": [
      "                 Class     Images  Instances      Box(P          R      mAP50  mAP50-95): 100%|██████████| 51/51 [00"
     ]
    },
    {
     "name": "stdout",
     "output_type": "stream",
     "text": [
      "                   all        801        944      0.913      0.853      0.932      0.784\n"
     ]
    },
    {
     "name": "stderr",
     "output_type": "stream",
     "text": [
      "\n"
     ]
    },
    {
     "name": "stdout",
     "output_type": "stream",
     "text": [
      "\n",
      "      Epoch    GPU_mem   box_loss   cls_loss   dfl_loss  Instances       Size\n"
     ]
    },
    {
     "name": "stderr",
     "output_type": "stream",
     "text": [
      "       2/10      8.41G     0.5876     0.4932      1.047          9        640:   2%|▏         | 8/442 [00:50<42:52, "
     ]
    },
    {
     "name": "stdout",
     "output_type": "stream",
     "text": [
      "[GPU 모니터] 메모리 할당: 1232.4MB, 예약: 8610.0MB\n"
     ]
    },
    {
     "name": "stderr",
     "output_type": "stream",
     "text": [
      "       2/10      8.41G     0.6009     0.5278      1.014         12        640:   4%|▍         | 19/442 [01:55<41:29,"
     ]
    },
    {
     "name": "stdout",
     "output_type": "stream",
     "text": [
      "[GPU 모니터] 메모리 할당: 8050.9MB, 예약: 8610.0MB\n"
     ]
    },
    {
     "name": "stderr",
     "output_type": "stream",
     "text": [
      "       2/10      8.41G     0.6077     0.5136      1.021          7        640:   7%|▋         | 29/442 [02:54<40:38,"
     ]
    },
    {
     "name": "stdout",
     "output_type": "stream",
     "text": [
      "[GPU 모니터] 메모리 할당: 8050.9MB, 예약: 8610.0MB\n"
     ]
    },
    {
     "name": "stderr",
     "output_type": "stream",
     "text": [
      "       2/10      8.41G     0.5863     0.4999      0.997          8        640:   9%|▉         | 39/442 [03:52<38:29,"
     ]
    },
    {
     "name": "stdout",
     "output_type": "stream",
     "text": [
      "[GPU 모니터] 메모리 할당: 1270.4MB, 예약: 8610.0MB\n"
     ]
    },
    {
     "name": "stderr",
     "output_type": "stream",
     "text": [
      "       2/10      8.41G     0.5954     0.5265     0.9995          9        640:  11%|█         | 49/442 [04:51<38:11,"
     ]
    },
    {
     "name": "stdout",
     "output_type": "stream",
     "text": [
      "[GPU 모니터] 메모리 할당: 1270.4MB, 예약: 8610.0MB\n"
     ]
    },
    {
     "name": "stderr",
     "output_type": "stream",
     "text": [
      "       2/10      8.41G     0.5992     0.5253     0.9917         11        640:  13%|█▎        | 59/442 [05:50<37:32,"
     ]
    },
    {
     "name": "stdout",
     "output_type": "stream",
     "text": [
      "[GPU 모니터] 메모리 할당: 1270.4MB, 예약: 8610.0MB\n"
     ]
    },
    {
     "name": "stderr",
     "output_type": "stream",
     "text": [
      "       2/10      8.41G      0.599     0.5401     0.9906          9        640:  16%|█▌        | 69/442 [06:50<36:42,"
     ]
    },
    {
     "name": "stdout",
     "output_type": "stream",
     "text": [
      "[GPU 모니터] 메모리 할당: 1270.4MB, 예약: 8610.0MB\n"
     ]
    },
    {
     "name": "stderr",
     "output_type": "stream",
     "text": [
      "       2/10      8.41G     0.5975     0.5285      0.991         13        640:  18%|█▊        | 80/442 [07:54<35:19,"
     ]
    },
    {
     "name": "stdout",
     "output_type": "stream",
     "text": [
      "[GPU 모니터] 메모리 할당: 8013.2MB, 예약: 8610.0MB\n"
     ]
    },
    {
     "name": "stderr",
     "output_type": "stream",
     "text": [
      "       2/10      8.41G     0.6102      0.531     0.9862         10        640:  20%|██        | 90/442 [08:53<34:47,"
     ]
    },
    {
     "name": "stdout",
     "output_type": "stream",
     "text": [
      "[GPU 모니터] 메모리 할당: 8043.4MB, 예약: 8610.0MB\n"
     ]
    },
    {
     "name": "stderr",
     "output_type": "stream",
     "text": [
      "       2/10      8.41G     0.6101     0.5223     0.9904         11        640:  23%|██▎       | 100/442 [09:52<34:01"
     ]
    },
    {
     "name": "stdout",
     "output_type": "stream",
     "text": [
      "[GPU 모니터] 메모리 할당: 1232.4MB, 예약: 8610.0MB\n"
     ]
    },
    {
     "name": "stderr",
     "output_type": "stream",
     "text": [
      "       2/10      8.41G     0.6113     0.5251     0.9878          8        640:  25%|██▍       | 110/442 [10:51<33:13"
     ]
    },
    {
     "name": "stdout",
     "output_type": "stream",
     "text": [
      "[GPU 모니터] 메모리 할당: 1232.4MB, 예약: 8610.0MB\n"
     ]
    },
    {
     "name": "stderr",
     "output_type": "stream",
     "text": [
      "       2/10      8.41G     0.6058     0.5273     0.9874         10        640:  27%|██▋       | 120/442 [11:50<31:27"
     ]
    },
    {
     "name": "stdout",
     "output_type": "stream",
     "text": [
      "[GPU 모니터] 메모리 할당: 1232.4MB, 예약: 8610.0MB\n"
     ]
    },
    {
     "name": "stderr",
     "output_type": "stream",
     "text": [
      "       2/10      8.41G        0.6     0.5167     0.9849          9        640:  30%|██▉       | 131/442 [12:54<30:30"
     ]
    },
    {
     "name": "stdout",
     "output_type": "stream",
     "text": [
      "[GPU 모니터] 메모리 할당: 8050.9MB, 예약: 8610.0MB\n"
     ]
    },
    {
     "name": "stderr",
     "output_type": "stream",
     "text": [
      "       2/10      8.41G     0.5996     0.5133     0.9844         11        640:  32%|███▏      | 141/442 [13:54<29:37"
     ]
    },
    {
     "name": "stdout",
     "output_type": "stream",
     "text": [
      "[GPU 모니터] 메모리 할당: 8050.9MB, 예약: 8610.0MB\n"
     ]
    },
    {
     "name": "stderr",
     "output_type": "stream",
     "text": [
      "       2/10      8.41G     0.5968     0.5115     0.9841         10        640:  34%|███▍      | 151/442 [14:52<27:47"
     ]
    },
    {
     "name": "stdout",
     "output_type": "stream",
     "text": [
      "[GPU 모니터] 메모리 할당: 1270.4MB, 예약: 8610.0MB\n"
     ]
    },
    {
     "name": "stderr",
     "output_type": "stream",
     "text": [
      "       2/10      8.41G     0.5986     0.5109     0.9844         10        640:  36%|███▋      | 161/442 [15:51<27:18"
     ]
    },
    {
     "name": "stdout",
     "output_type": "stream",
     "text": [
      "[GPU 모니터] 메모리 할당: 1270.4MB, 예약: 8610.0MB\n"
     ]
    },
    {
     "name": "stderr",
     "output_type": "stream",
     "text": [
      "       2/10      8.41G     0.5972     0.5106     0.9865          8        640:  39%|███▊      | 171/442 [16:50<26:34"
     ]
    },
    {
     "name": "stdout",
     "output_type": "stream",
     "text": [
      "[GPU 모니터] 메모리 할당: 1270.4MB, 예약: 8610.0MB\n"
     ]
    },
    {
     "name": "stderr",
     "output_type": "stream",
     "text": [
      "       2/10      8.41G     0.5988     0.5113     0.9846          8        640:  41%|████      | 182/442 [17:55<26:00"
     ]
    },
    {
     "name": "stdout",
     "output_type": "stream",
     "text": [
      "[GPU 모니터] 메모리 할당: 1270.4MB, 예약: 8610.0MB\n"
     ]
    },
    {
     "name": "stderr",
     "output_type": "stream",
     "text": [
      "       2/10      8.41G     0.6007     0.5115      0.984         10        640:  43%|████▎     | 192/442 [18:54<24:25"
     ]
    },
    {
     "name": "stdout",
     "output_type": "stream",
     "text": [
      "[GPU 모니터] 메모리 할당: 8013.2MB, 예약: 8610.0MB\n"
     ]
    },
    {
     "name": "stderr",
     "output_type": "stream",
     "text": [
      "       2/10      8.41G      0.598      0.508     0.9841          9        640:  46%|████▌     | 202/442 [19:53<23:43"
     ]
    },
    {
     "name": "stdout",
     "output_type": "stream",
     "text": [
      "[GPU 모니터] 메모리 할당: 1232.4MB, 예약: 8610.0MB\n"
     ]
    },
    {
     "name": "stderr",
     "output_type": "stream",
     "text": [
      "       2/10      8.41G     0.6021       0.51     0.9843         12        640:  48%|████▊     | 212/442 [20:52<22:52"
     ]
    },
    {
     "name": "stdout",
     "output_type": "stream",
     "text": [
      "[GPU 모니터] 메모리 할당: 1232.4MB, 예약: 8610.0MB\n"
     ]
    },
    {
     "name": "stderr",
     "output_type": "stream",
     "text": [
      "       2/10      8.41G     0.6011     0.5057     0.9833          9        640:  50%|█████     | 222/442 [21:51<22:00"
     ]
    },
    {
     "name": "stdout",
     "output_type": "stream",
     "text": [
      "[GPU 모니터] 메모리 할당: 1232.4MB, 예약: 8610.0MB\n"
     ]
    },
    {
     "name": "stderr",
     "output_type": "stream",
     "text": [
      "       2/10      8.41G      0.603     0.5062     0.9855         12        640:  53%|█████▎    | 233/442 [22:55<20:18"
     ]
    },
    {
     "name": "stdout",
     "output_type": "stream",
     "text": [
      "[GPU 모니터] 메모리 할당: 8050.9MB, 예약: 8610.0MB\n"
     ]
    },
    {
     "name": "stderr",
     "output_type": "stream",
     "text": [
      "       2/10      8.41G     0.6035     0.5089     0.9843         14        640:  55%|█████▍    | 243/442 [23:54<19:30"
     ]
    },
    {
     "name": "stdout",
     "output_type": "stream",
     "text": [
      "[GPU 모니터] 메모리 할당: 8050.9MB, 예약: 8610.0MB\n"
     ]
    },
    {
     "name": "stderr",
     "output_type": "stream",
     "text": [
      "       2/10      8.41G     0.6041     0.5091     0.9831          8        640:  57%|█████▋    | 253/442 [24:53<18:36"
     ]
    },
    {
     "name": "stdout",
     "output_type": "stream",
     "text": [
      "[GPU 모니터] 메모리 할당: 7310.5MB, 예약: 8610.0MB\n"
     ]
    },
    {
     "name": "stderr",
     "output_type": "stream",
     "text": [
      "       2/10      8.41G     0.6022     0.5103     0.9827          8        640:  60%|█████▉    | 263/442 [25:51<17:05"
     ]
    },
    {
     "name": "stdout",
     "output_type": "stream",
     "text": [
      "[GPU 모니터] 메모리 할당: 1270.4MB, 예약: 8610.0MB\n"
     ]
    },
    {
     "name": "stderr",
     "output_type": "stream",
     "text": [
      "       2/10      8.41G     0.6031     0.5118     0.9827          7        640:  62%|██████▏   | 273/442 [26:51<16:25"
     ]
    },
    {
     "name": "stdout",
     "output_type": "stream",
     "text": [
      "[GPU 모니터] 메모리 할당: 1270.4MB, 예약: 8610.0MB\n"
     ]
    },
    {
     "name": "stderr",
     "output_type": "stream",
     "text": [
      "       2/10      8.41G     0.6013     0.5084     0.9813          8        640:  64%|██████▍   | 283/442 [27:50<15:35"
     ]
    },
    {
     "name": "stdout",
     "output_type": "stream",
     "text": [
      "[GPU 모니터] 메모리 할당: 1270.4MB, 예약: 8610.0MB\n"
     ]
    },
    {
     "name": "stderr",
     "output_type": "stream",
     "text": [
      "       2/10      8.41G     0.5988     0.5072     0.9812          8        640:  67%|██████▋   | 294/442 [28:55<14:48"
     ]
    },
    {
     "name": "stdout",
     "output_type": "stream",
     "text": [
      "[GPU 모니터] 메모리 할당: 7781.1MB, 예약: 8610.0MB\n"
     ]
    },
    {
     "name": "stderr",
     "output_type": "stream",
     "text": [
      "       2/10      8.41G        0.6     0.5087     0.9818          8        640:  69%|██████▉   | 304/442 [29:53<13:27"
     ]
    },
    {
     "name": "stdout",
     "output_type": "stream",
     "text": [
      "[GPU 모니터] 메모리 할당: 8013.2MB, 예약: 8610.0MB\n"
     ]
    },
    {
     "name": "stderr",
     "output_type": "stream",
     "text": [
      "       2/10      8.41G     0.5997     0.5067     0.9819         10        640:  71%|███████   | 314/442 [30:52<12:38"
     ]
    },
    {
     "name": "stdout",
     "output_type": "stream",
     "text": [
      "[GPU 모니터] 메모리 할당: 1232.4MB, 예약: 8610.0MB\n"
     ]
    },
    {
     "name": "stderr",
     "output_type": "stream",
     "text": [
      "       2/10      8.41G     0.6001     0.5065     0.9823         10        640:  73%|███████▎  | 324/442 [31:51<11:44"
     ]
    },
    {
     "name": "stdout",
     "output_type": "stream",
     "text": [
      "[GPU 모니터] 메모리 할당: 1232.4MB, 예약: 8610.0MB\n"
     ]
    },
    {
     "name": "stderr",
     "output_type": "stream",
     "text": [
      "       2/10      8.41G     0.5993     0.5052     0.9827         10        640:  76%|███████▌  | 335/442 [32:55<10:12"
     ]
    },
    {
     "name": "stdout",
     "output_type": "stream",
     "text": [
      "[GPU 모니터] 메모리 할당: 1232.4MB, 예약: 8610.0MB\n"
     ]
    },
    {
     "name": "stderr",
     "output_type": "stream",
     "text": [
      "       2/10      8.41G     0.6013     0.5043     0.9838         11        640:  78%|███████▊  | 345/442 [33:54<09:25"
     ]
    },
    {
     "name": "stdout",
     "output_type": "stream",
     "text": [
      "[GPU 모니터] 메모리 할당: 8050.9MB, 예약: 8610.0MB\n"
     ]
    },
    {
     "name": "stderr",
     "output_type": "stream",
     "text": [
      "       2/10      8.41G      0.601     0.5036     0.9848          9        640:  80%|████████  | 355/442 [34:53<08:31"
     ]
    },
    {
     "name": "stdout",
     "output_type": "stream",
     "text": [
      "[GPU 모니터] 메모리 할당: 8050.9MB, 예약: 8610.0MB\n"
     ]
    },
    {
     "name": "stderr",
     "output_type": "stream",
     "text": [
      "       2/10      8.41G     0.6007     0.5021     0.9848         13        640:  83%|████████▎ | 365/442 [35:52<07:34"
     ]
    },
    {
     "name": "stdout",
     "output_type": "stream",
     "text": [
      "[GPU 모니터] 메모리 할당: 1270.4MB, 예약: 8610.0MB\n"
     ]
    },
    {
     "name": "stderr",
     "output_type": "stream",
     "text": [
      "       2/10      8.41G     0.6024      0.504     0.9857         10        640:  85%|████████▍ | 375/442 [36:51<06:23"
     ]
    },
    {
     "name": "stdout",
     "output_type": "stream",
     "text": [
      "[GPU 모니터] 메모리 할당: 1270.4MB, 예약: 8610.0MB\n"
     ]
    },
    {
     "name": "stderr",
     "output_type": "stream",
     "text": [
      "       2/10      8.41G     0.6023     0.5045     0.9853         11        640:  87%|████████▋ | 385/442 [37:50<05:32"
     ]
    },
    {
     "name": "stdout",
     "output_type": "stream",
     "text": [
      "[GPU 모니터] 메모리 할당: 1270.4MB, 예약: 8610.0MB\n"
     ]
    },
    {
     "name": "stderr",
     "output_type": "stream",
     "text": [
      "       2/10      8.41G      0.602     0.5031     0.9853          8        640:  90%|████████▉ | 396/442 [38:55<04:34"
     ]
    },
    {
     "name": "stdout",
     "output_type": "stream",
     "text": [
      "[GPU 모니터] 메모리 할당: 8013.2MB, 예약: 8610.0MB\n"
     ]
    },
    {
     "name": "stderr",
     "output_type": "stream",
     "text": [
      "       2/10      8.41G     0.6015     0.5029     0.9857          8        640:  92%|█████████▏| 406/442 [39:54<03:36"
     ]
    },
    {
     "name": "stdout",
     "output_type": "stream",
     "text": [
      "[GPU 모니터] 메모리 할당: 7781.1MB, 예약: 8610.0MB\n"
     ]
    },
    {
     "name": "stderr",
     "output_type": "stream",
     "text": [
      "       2/10      8.41G      0.602     0.5035     0.9867         12        640:  94%|█████████▍| 416/442 [40:53<02:32"
     ]
    },
    {
     "name": "stdout",
     "output_type": "stream",
     "text": [
      "[GPU 모니터] 메모리 할당: 1232.4MB, 예약: 8610.0MB\n"
     ]
    },
    {
     "name": "stderr",
     "output_type": "stream",
     "text": [
      "       2/10      8.41G      0.601     0.5028     0.9871         12        640:  96%|█████████▋| 426/442 [41:52<01:34"
     ]
    },
    {
     "name": "stdout",
     "output_type": "stream",
     "text": [
      "[GPU 모니터] 메모리 할당: 1232.4MB, 예약: 8610.0MB\n"
     ]
    },
    {
     "name": "stderr",
     "output_type": "stream",
     "text": [
      "       2/10      8.41G     0.6036     0.5024     0.9873         11        640:  99%|█████████▊| 436/442 [42:51<00:35"
     ]
    },
    {
     "name": "stdout",
     "output_type": "stream",
     "text": [
      "[GPU 모니터] 메모리 할당: 1232.4MB, 예약: 8610.0MB\n"
     ]
    },
    {
     "name": "stderr",
     "output_type": "stream",
     "text": [
      "       2/10      8.45G     0.6022     0.5015     0.9865          2        640: 100%|██████████| 442/442 [43:23<00:00\n",
      "                 Class     Images  Instances      Box(P          R      mAP50  mAP50-95): 100%|██████████| 51/51 [00"
     ]
    },
    {
     "name": "stdout",
     "output_type": "stream",
     "text": [
      "                   all        801        944      0.891      0.879      0.928      0.783\n"
     ]
    },
    {
     "name": "stderr",
     "output_type": "stream",
     "text": [
      "\n"
     ]
    },
    {
     "name": "stdout",
     "output_type": "stream",
     "text": [
      "\n",
      "      Epoch    GPU_mem   box_loss   cls_loss   dfl_loss  Instances       Size\n"
     ]
    },
    {
     "name": "stderr",
     "output_type": "stream",
     "text": [
      "       3/10      8.38G     0.5034     0.4268     0.9676          8        640:   1%|          | 4/442 [00:10<19:29, "
     ]
    },
    {
     "name": "stdout",
     "output_type": "stream",
     "text": [
      "[GPU 모니터] 메모리 할당: 1232.2MB, 예약: 8576.0MB\n"
     ]
    },
    {
     "name": "stderr",
     "output_type": "stream",
     "text": [
      "       3/10      8.38G     0.5234     0.4104     0.9841         11        640:   5%|▍         | 22/442 [01:10<23:08,"
     ]
    },
    {
     "name": "stdout",
     "output_type": "stream",
     "text": [
      "[GPU 모니터] 메모리 할당: 8012.8MB, 예약: 8578.0MB\n"
     ]
    },
    {
     "name": "stderr",
     "output_type": "stream",
     "text": [
      "       3/10      8.38G     0.5365     0.4335     0.9712          8        640:   9%|▉         | 40/442 [02:11<22:39,"
     ]
    },
    {
     "name": "stdout",
     "output_type": "stream",
     "text": [
      "[GPU 모니터] 메모리 할당: 8012.8MB, 예약: 8578.0MB\n"
     ]
    },
    {
     "name": "stderr",
     "output_type": "stream",
     "text": [
      "       3/10      8.38G     0.5463     0.4333     0.9725         13        640:  13%|█▎        | 57/442 [03:09<21:56,"
     ]
    },
    {
     "name": "stdout",
     "output_type": "stream",
     "text": [
      "[GPU 모니터] 메모리 할당: 1270.2MB, 예약: 8578.0MB\n"
     ]
    },
    {
     "name": "stderr",
     "output_type": "stream",
     "text": [
      "       3/10      8.38G     0.5553     0.4435     0.9723         10        640:  17%|█▋        | 75/442 [04:10<21:03,"
     ]
    },
    {
     "name": "stdout",
     "output_type": "stream",
     "text": [
      "[GPU 모니터] 메모리 할당: 8050.3MB, 예약: 8578.0MB\n"
     ]
    },
    {
     "name": "stderr",
     "output_type": "stream",
     "text": [
      "       3/10      8.38G     0.5662     0.4537     0.9706         13        640:  21%|██        | 93/442 [05:10<18:55,"
     ]
    },
    {
     "name": "stdout",
     "output_type": "stream",
     "text": [
      "[GPU 모니터] 메모리 할당: 8050.3MB, 예약: 8578.0MB\n"
     ]
    },
    {
     "name": "stderr",
     "output_type": "stream",
     "text": [
      "       3/10      8.38G     0.5703     0.4602     0.9726          9        640:  25%|██▌       | 111/442 [06:11<18:33"
     ]
    },
    {
     "name": "stdout",
     "output_type": "stream",
     "text": [
      "[GPU 모니터] 메모리 할당: 1232.2MB, 예약: 8578.0MB\n"
     ]
    },
    {
     "name": "stderr",
     "output_type": "stream",
     "text": [
      "       3/10      8.38G     0.5721     0.4602     0.9687         11        640:  29%|██▉       | 128/442 [07:09<17:41"
     ]
    },
    {
     "name": "stdout",
     "output_type": "stream",
     "text": [
      "[GPU 모니터] 메모리 할당: 1232.2MB, 예약: 8578.0MB\n"
     ]
    },
    {
     "name": "stderr",
     "output_type": "stream",
     "text": [
      "       3/10      8.38G     0.5677      0.456     0.9728         11        640:  33%|███▎      | 146/442 [08:10<16:52"
     ]
    },
    {
     "name": "stdout",
     "output_type": "stream",
     "text": [
      "[GPU 모니터] 메모리 할당: 8012.8MB, 예약: 8578.0MB\n"
     ]
    },
    {
     "name": "stderr",
     "output_type": "stream",
     "text": [
      "       3/10      8.38G     0.5766     0.4589     0.9737          9        640:  37%|███▋      | 164/442 [09:11<16:09"
     ]
    },
    {
     "name": "stdout",
     "output_type": "stream",
     "text": [
      "[GPU 모니터] 메모리 할당: 7780.2MB, 예약: 8578.0MB\n"
     ]
    },
    {
     "name": "stderr",
     "output_type": "stream",
     "text": [
      "       3/10      8.38G     0.5806     0.4602     0.9733         10        640:  41%|████      | 181/442 [10:12<14:10"
     ]
    },
    {
     "name": "stdout",
     "output_type": "stream",
     "text": [
      "[GPU 모니터] 메모리 할당: 1270.2MB, 예약: 8578.0MB\n"
     ]
    },
    {
     "name": "stderr",
     "output_type": "stream",
     "text": [
      "       3/10      8.38G     0.5854     0.4645     0.9721          9        640:  45%|████▌     | 199/442 [11:09<13:37"
     ]
    },
    {
     "name": "stdout",
     "output_type": "stream",
     "text": [
      "[GPU 모니터] 메모리 할당: 1270.2MB, 예약: 8578.0MB\n"
     ]
    },
    {
     "name": "stderr",
     "output_type": "stream",
     "text": [
      "       3/10      8.38G     0.5846     0.4619     0.9736         12        640:  49%|████▉     | 217/442 [12:10<12:49"
     ]
    },
    {
     "name": "stdout",
     "output_type": "stream",
     "text": [
      "[GPU 모니터] 메모리 할당: 8050.3MB, 예약: 8578.0MB\n"
     ]
    },
    {
     "name": "stderr",
     "output_type": "stream",
     "text": [
      "       3/10      8.38G     0.5857     0.4618     0.9728          9        640:  53%|█████▎    | 235/442 [13:12<11:53"
     ]
    },
    {
     "name": "stdout",
     "output_type": "stream",
     "text": [
      "[GPU 모니터] 메모리 할당: 1232.2MB, 예약: 8578.0MB\n"
     ]
    },
    {
     "name": "stderr",
     "output_type": "stream",
     "text": [
      "       3/10      8.38G     0.5851     0.4669     0.9743         10        640:  57%|█████▋    | 252/442 [14:09<11:02"
     ]
    },
    {
     "name": "stdout",
     "output_type": "stream",
     "text": [
      "[GPU 모니터] 메모리 할당: 1232.2MB, 예약: 8578.0MB\n"
     ]
    },
    {
     "name": "stderr",
     "output_type": "stream",
     "text": [
      "       3/10      8.38G     0.5854     0.4632     0.9746         10        640:  61%|██████    | 270/442 [15:10<09:29"
     ]
    },
    {
     "name": "stdout",
     "output_type": "stream",
     "text": [
      "[GPU 모니터] 메모리 할당: 8017.5MB, 예약: 8578.0MB\n"
     ]
    },
    {
     "name": "stderr",
     "output_type": "stream",
     "text": [
      "       3/10      8.38G     0.5848     0.4609     0.9743          9        640:  65%|██████▌   | 288/442 [16:11<08:41"
     ]
    },
    {
     "name": "stdout",
     "output_type": "stream",
     "text": [
      "[GPU 모니터] 메모리 할당: 8012.8MB, 예약: 8578.0MB\n"
     ]
    },
    {
     "name": "stderr",
     "output_type": "stream",
     "text": [
      "       3/10      8.38G     0.5859     0.4604     0.9761          8        640:  69%|██████▉   | 305/442 [17:09<07:48"
     ]
    },
    {
     "name": "stdout",
     "output_type": "stream",
     "text": [
      "[GPU 모니터] 메모리 할당: 1270.2MB, 예약: 8578.0MB\n"
     ]
    },
    {
     "name": "stderr",
     "output_type": "stream",
     "text": [
      "       3/10      8.38G     0.5841     0.4561     0.9791          8        640:  73%|███████▎  | 323/442 [18:10<06:50"
     ]
    },
    {
     "name": "stdout",
     "output_type": "stream",
     "text": [
      "[GPU 모니터] 메모리 할당: 1270.2MB, 예약: 8578.0MB\n"
     ]
    },
    {
     "name": "stderr",
     "output_type": "stream",
     "text": [
      "       3/10      8.38G      0.583     0.4547     0.9791         10        640:  77%|███████▋  | 341/442 [19:10<05:29"
     ]
    },
    {
     "name": "stdout",
     "output_type": "stream",
     "text": [
      "[GPU 모니터] 메모리 할당: 8050.3MB, 예약: 8578.0MB\n"
     ]
    },
    {
     "name": "stderr",
     "output_type": "stream",
     "text": [
      "       3/10      8.38G     0.5812     0.4531     0.9786          9        640:  81%|████████  | 359/442 [20:11<04:39"
     ]
    },
    {
     "name": "stdout",
     "output_type": "stream",
     "text": [
      "[GPU 모니터] 메모리 할당: 8050.3MB, 예약: 8578.0MB\n"
     ]
    },
    {
     "name": "stderr",
     "output_type": "stream",
     "text": [
      "       3/10      8.38G     0.5819     0.4548     0.9794         10        640:  85%|████████▌ | 376/442 [21:09<03:43"
     ]
    },
    {
     "name": "stdout",
     "output_type": "stream",
     "text": [
      "[GPU 모니터] 메모리 할당: 1232.2MB, 예약: 8578.0MB\n"
     ]
    },
    {
     "name": "stderr",
     "output_type": "stream",
     "text": [
      "       3/10      8.38G     0.5814     0.4563     0.9781          9        640:  89%|████████▉ | 394/442 [22:10<02:44"
     ]
    },
    {
     "name": "stdout",
     "output_type": "stream",
     "text": [
      "[GPU 모니터] 메모리 할당: 8012.8MB, 예약: 8578.0MB\n"
     ]
    },
    {
     "name": "stderr",
     "output_type": "stream",
     "text": [
      "       3/10      8.38G     0.5813     0.4569     0.9759         12        640:  93%|█████████▎| 412/442 [23:11<01:44"
     ]
    },
    {
     "name": "stdout",
     "output_type": "stream",
     "text": [
      "[GPU 모니터] 메모리 할당: 1037.2MB, 예약: 8578.0MB\n"
     ]
    },
    {
     "name": "stderr",
     "output_type": "stream",
     "text": [
      "       3/10      8.38G     0.5821     0.4582     0.9761          9        640:  97%|█████████▋| 429/442 [24:08<00:42"
     ]
    },
    {
     "name": "stdout",
     "output_type": "stream",
     "text": [
      "[GPU 모니터] 메모리 할당: 1270.2MB, 예약: 8578.0MB\n"
     ]
    },
    {
     "name": "stderr",
     "output_type": "stream",
     "text": [
      "       3/10      8.42G     0.5838     0.4575     0.9766          2        640: 100%|██████████| 442/442 [24:50<00:00\n",
      "                 Class     Images  Instances      Box(P          R      mAP50  mAP50-95): 100%|██████████| 51/51 [00"
     ]
    },
    {
     "name": "stdout",
     "output_type": "stream",
     "text": [
      "                   all        801        944      0.942      0.867      0.938      0.797\n"
     ]
    },
    {
     "name": "stderr",
     "output_type": "stream",
     "text": [
      "\n"
     ]
    },
    {
     "name": "stdout",
     "output_type": "stream",
     "text": [
      "\n",
      "      Epoch    GPU_mem   box_loss   cls_loss   dfl_loss  Instances       Size\n"
     ]
    },
    {
     "name": "stderr",
     "output_type": "stream",
     "text": [
      "  0%|          | 0/442 [00:00<?, ?it/s]"
     ]
    },
    {
     "name": "stdout",
     "output_type": "stream",
     "text": [
      "[GPU 모니터] 메모리 할당: 6912.8MB, 예약: 8276.0MB\n"
     ]
    },
    {
     "name": "stderr",
     "output_type": "stream",
     "text": [
      "       4/10      8.38G     0.5835     0.4329     0.9597         13        640:   8%|▊         | 34/442 [00:59<12:02,"
     ]
    },
    {
     "name": "stdout",
     "output_type": "stream",
     "text": [
      "[GPU 모니터] 메모리 할당: 1235.6MB, 예약: 8578.0MB\n"
     ]
    },
    {
     "name": "stderr",
     "output_type": "stream",
     "text": [
      "       4/10      8.38G     0.5757     0.4395     0.9647          8        640:  16%|█▌        | 69/442 [02:00<10:46,"
     ]
    },
    {
     "name": "stdout",
     "output_type": "stream",
     "text": [
      "[GPU 모니터] 메모리 할당: 7362.7MB, 예약: 8578.0MB\n"
     ]
    },
    {
     "name": "stderr",
     "output_type": "stream",
     "text": [
      "       4/10      8.38G     0.5737     0.4366     0.9556          8        640:  24%|██▎       | 104/442 [03:01<09:36"
     ]
    },
    {
     "name": "stdout",
     "output_type": "stream",
     "text": [
      "[GPU 모니터] 메모리 할당: 1273.6MB, 예약: 8578.0MB\n"
     ]
    },
    {
     "name": "stderr",
     "output_type": "stream",
     "text": [
      "       4/10      8.38G     0.5709     0.4245     0.9583          7        640:  31%|███       | 138/442 [04:00<08:58"
     ]
    },
    {
     "name": "stdout",
     "output_type": "stream",
     "text": [
      "[GPU 모니터] 메모리 할당: 1235.6MB, 예약: 8578.0MB\n"
     ]
    },
    {
     "name": "stderr",
     "output_type": "stream",
     "text": [
      "       4/10      8.38G     0.5648     0.4222     0.9632         11        640:  39%|███▉      | 173/442 [05:00<07:45"
     ]
    },
    {
     "name": "stdout",
     "output_type": "stream",
     "text": [
      "[GPU 모니터] 메모리 할당: 8054.7MB, 예약: 8578.0MB\n"
     ]
    },
    {
     "name": "stderr",
     "output_type": "stream",
     "text": [
      "       4/10      8.38G     0.5645     0.4221     0.9631         15        640:  47%|████▋     | 207/442 [05:59<06:42"
     ]
    },
    {
     "name": "stdout",
     "output_type": "stream",
     "text": [
      "[GPU 모니터] 메모리 할당: 1273.6MB, 예약: 8578.0MB\n"
     ]
    },
    {
     "name": "stderr",
     "output_type": "stream",
     "text": [
      "       4/10      8.38G     0.5618     0.4214     0.9646          8        640:  55%|█████▍    | 242/442 [07:00<05:54"
     ]
    },
    {
     "name": "stdout",
     "output_type": "stream",
     "text": [
      "[GPU 모니터] 메모리 할당: 7780.9MB, 예약: 8578.0MB\n"
     ]
    },
    {
     "name": "stderr",
     "output_type": "stream",
     "text": [
      "       4/10      8.38G     0.5675     0.4254     0.9669         10        640:  63%|██████▎   | 277/442 [08:01<04:45"
     ]
    },
    {
     "name": "stdout",
     "output_type": "stream",
     "text": [
      "[GPU 모니터] 메모리 할당: 1235.6MB, 예약: 8578.0MB\n"
     ]
    },
    {
     "name": "stderr",
     "output_type": "stream",
     "text": [
      "       4/10      8.38G     0.5664     0.4262     0.9668          9        640:  70%|███████   | 311/442 [09:00<03:44"
     ]
    },
    {
     "name": "stdout",
     "output_type": "stream",
     "text": [
      "[GPU 모니터] 메모리 할당: 1273.6MB, 예약: 8578.0MB\n"
     ]
    },
    {
     "name": "stderr",
     "output_type": "stream",
     "text": [
      "       4/10      8.38G     0.5682     0.4291     0.9659          8        640:  78%|███████▊  | 346/442 [10:00<02:50"
     ]
    },
    {
     "name": "stdout",
     "output_type": "stream",
     "text": [
      "[GPU 모니터] 메모리 할당: 7780.9MB, 예약: 8578.0MB\n"
     ]
    },
    {
     "name": "stderr",
     "output_type": "stream",
     "text": [
      "       4/10      8.38G      0.567     0.4314     0.9634          8        640:  86%|████████▌ | 380/442 [11:01<01:48"
     ]
    },
    {
     "name": "stdout",
     "output_type": "stream",
     "text": [
      "[GPU 모니터] 메모리 할당: 1235.6MB, 예약: 8578.0MB\n"
     ]
    },
    {
     "name": "stderr",
     "output_type": "stream",
     "text": [
      "       4/10      8.38G     0.5678     0.4362     0.9652         12        640:  94%|█████████▍| 415/442 [12:00<00:46"
     ]
    },
    {
     "name": "stdout",
     "output_type": "stream",
     "text": [
      "[GPU 모니터] 메모리 할당: 1273.6MB, 예약: 8578.0MB\n"
     ]
    },
    {
     "name": "stderr",
     "output_type": "stream",
     "text": [
      "       4/10      8.42G     0.5684     0.4374     0.9645          3        640: 100%|██████████| 442/442 [12:46<00:00\n",
      "                 Class     Images  Instances      Box(P          R      mAP50  mAP50-95):  78%|███████▊  | 40/51 [00"
     ]
    },
    {
     "name": "stdout",
     "output_type": "stream",
     "text": [
      "[GPU 모니터] 메모리 할당: 964.2MB, 예약: 4026.0MB\n"
     ]
    },
    {
     "name": "stderr",
     "output_type": "stream",
     "text": [
      "                 Class     Images  Instances      Box(P          R      mAP50  mAP50-95): 100%|██████████| 51/51 [00"
     ]
    },
    {
     "name": "stdout",
     "output_type": "stream",
     "text": [
      "                   all        801        944      0.948      0.885      0.946      0.809\n"
     ]
    },
    {
     "name": "stderr",
     "output_type": "stream",
     "text": [
      "\n"
     ]
    },
    {
     "name": "stdout",
     "output_type": "stream",
     "text": [
      "\n",
      "      Epoch    GPU_mem   box_loss   cls_loss   dfl_loss  Instances       Size\n"
     ]
    },
    {
     "name": "stderr",
     "output_type": "stream",
     "text": [
      "       5/10      8.18G     0.5717     0.4306     0.9452         11        640:  10%|█         | 46/442 [00:54<07:04,"
     ]
    },
    {
     "name": "stdout",
     "output_type": "stream",
     "text": [
      "[GPU 모니터] 메모리 할당: 1267.9MB, 예약: 8378.0MB\n"
     ]
    },
    {
     "name": "stderr",
     "output_type": "stream",
     "text": [
      "       5/10      8.18G     0.5761     0.4325     0.9588          9        640:  22%|██▏       | 99/442 [01:53<06:23,"
     ]
    },
    {
     "name": "stdout",
     "output_type": "stream",
     "text": [
      "[GPU 모니터] 메모리 할당: 1267.9MB, 예약: 8378.0MB\n"
     ]
    },
    {
     "name": "stderr",
     "output_type": "stream",
     "text": [
      "       5/10      8.18G     0.5594       0.42     0.9576          9        640:  35%|███▍      | 153/442 [02:54<05:48"
     ]
    },
    {
     "name": "stdout",
     "output_type": "stream",
     "text": [
      "[GPU 모니터] 메모리 할당: 8044.9MB, 예약: 8378.0MB\n"
     ]
    },
    {
     "name": "stderr",
     "output_type": "stream",
     "text": [
      "       5/10      8.18G     0.5624     0.4214     0.9608          8        640:  47%|████▋     | 207/442 [03:53<04:08"
     ]
    },
    {
     "name": "stdout",
     "output_type": "stream",
     "text": [
      "[GPU 모니터] 메모리 할당: 1267.9MB, 예약: 8378.0MB\n"
     ]
    },
    {
     "name": "stderr",
     "output_type": "stream",
     "text": [
      "       5/10      8.18G     0.5654     0.4186     0.9615          9        640:  59%|█████▉    | 261/442 [04:54<03:15"
     ]
    },
    {
     "name": "stdout",
     "output_type": "stream",
     "text": [
      "[GPU 모니터] 메모리 할당: 8044.9MB, 예약: 8378.0MB\n"
     ]
    },
    {
     "name": "stderr",
     "output_type": "stream",
     "text": [
      "       5/10      8.18G     0.5664     0.4128     0.9621         11        640:  71%|███████▏  | 315/442 [05:54<02:22"
     ]
    },
    {
     "name": "stdout",
     "output_type": "stream",
     "text": [
      "[GPU 모니터] 메모리 할당: 8044.9MB, 예약: 8378.0MB\n"
     ]
    },
    {
     "name": "stderr",
     "output_type": "stream",
     "text": [
      "       5/10      8.18G     0.5694      0.416     0.9647          8        640:  83%|████████▎ | 369/442 [06:54<01:28"
     ]
    },
    {
     "name": "stdout",
     "output_type": "stream",
     "text": [
      "[GPU 모니터] 메모리 할당: 1229.9MB, 예약: 8378.0MB\n"
     ]
    },
    {
     "name": "stderr",
     "output_type": "stream",
     "text": [
      "       5/10      8.18G     0.5659     0.4112     0.9643          9        640:  96%|█████████▌| 423/442 [07:54<00:20"
     ]
    },
    {
     "name": "stdout",
     "output_type": "stream",
     "text": [
      "[GPU 모니터] 메모리 할당: 8044.9MB, 예약: 8378.0MB\n"
     ]
    },
    {
     "name": "stderr",
     "output_type": "stream",
     "text": [
      "       5/10      8.23G     0.5653     0.4111     0.9636          3        640: 100%|██████████| 442/442 [08:15<00:00\n",
      "                 Class     Images  Instances      Box(P          R      mAP50  mAP50-95): 100%|██████████| 51/51 [00"
     ]
    },
    {
     "name": "stdout",
     "output_type": "stream",
     "text": [
      "                   all        801        944      0.944      0.904      0.951      0.814\n"
     ]
    },
    {
     "name": "stderr",
     "output_type": "stream",
     "text": [
      "\n"
     ]
    },
    {
     "name": "stdout",
     "output_type": "stream",
     "text": [
      "\n",
      "      Epoch    GPU_mem   box_loss   cls_loss   dfl_loss  Instances       Size\n"
     ]
    },
    {
     "name": "stderr",
     "output_type": "stream",
     "text": [
      "       6/10       8.4G     0.5574     0.4239     0.9504          8        640:   2%|▏         | 11/442 [00:18<11:15,"
     ]
    },
    {
     "name": "stdout",
     "output_type": "stream",
     "text": [
      "[GPU 모니터] 메모리 할당: 8054.6MB, 예약: 8598.0MB\n"
     ]
    },
    {
     "name": "stderr",
     "output_type": "stream",
     "text": [
      "       6/10       8.4G     0.5504     0.3925     0.9563          8        640:  11%|█         | 48/442 [01:18<10:54,"
     ]
    },
    {
     "name": "stdout",
     "output_type": "stream",
     "text": [
      "[GPU 모니터] 메모리 할당: 5602.9MB, 예약: 8598.0MB\n"
     ]
    },
    {
     "name": "stderr",
     "output_type": "stream",
     "text": [
      "       6/10       8.4G     0.5687     0.3886     0.9537          9        640:  19%|█▉        | 85/442 [02:17<09:13,"
     ]
    },
    {
     "name": "stdout",
     "output_type": "stream",
     "text": [
      "[GPU 모니터] 메모리 할당: 1273.9MB, 예약: 8598.0MB\n"
     ]
    },
    {
     "name": "stderr",
     "output_type": "stream",
     "text": [
      "       6/10       8.4G     0.5545     0.3757     0.9521         10        640:  28%|██▊       | 123/442 [03:18<08:19"
     ]
    },
    {
     "name": "stdout",
     "output_type": "stream",
     "text": [
      "[GPU 모니터] 메모리 할당: 1235.9MB, 예약: 8598.0MB\n"
     ]
    },
    {
     "name": "stderr",
     "output_type": "stream",
     "text": [
      "       6/10       8.4G     0.5514     0.3754     0.9525         13        640:  36%|███▌      | 160/442 [04:18<07:48"
     ]
    },
    {
     "name": "stdout",
     "output_type": "stream",
     "text": [
      "[GPU 모니터] 메모리 할당: 1273.9MB, 예약: 8598.0MB\n"
     ]
    },
    {
     "name": "stderr",
     "output_type": "stream",
     "text": [
      "       6/10       8.4G      0.542     0.3702     0.9573          9        640:  45%|████▍     | 197/442 [05:18<06:19"
     ]
    },
    {
     "name": "stdout",
     "output_type": "stream",
     "text": [
      "[GPU 모니터] 메모리 할당: 8054.6MB, 예약: 8598.0MB\n"
     ]
    },
    {
     "name": "stderr",
     "output_type": "stream",
     "text": [
      "       6/10       8.4G      0.547     0.3746     0.9553          9        640:  53%|█████▎    | 234/442 [06:18<05:36"
     ]
    },
    {
     "name": "stdout",
     "output_type": "stream",
     "text": [
      "[GPU 모니터] 메모리 할당: 1235.9MB, 예약: 8598.0MB\n"
     ]
    },
    {
     "name": "stderr",
     "output_type": "stream",
     "text": [
      "       6/10       8.4G     0.5526     0.3786     0.9566         10        640:  61%|██████▏   | 271/442 [07:18<04:42"
     ]
    },
    {
     "name": "stdout",
     "output_type": "stream",
     "text": [
      "[GPU 모니터] 메모리 할당: 1273.9MB, 예약: 8598.0MB\n"
     ]
    },
    {
     "name": "stderr",
     "output_type": "stream",
     "text": [
      "       6/10       8.4G     0.5508     0.3761     0.9571         12        640:  70%|██████▉   | 309/442 [08:18<03:26"
     ]
    },
    {
     "name": "stdout",
     "output_type": "stream",
     "text": [
      "[GPU 모니터] 메모리 할당: 1235.9MB, 예약: 8598.0MB\n"
     ]
    },
    {
     "name": "stderr",
     "output_type": "stream",
     "text": [
      "       6/10       8.4G     0.5519     0.3773     0.9569          8        640:  78%|███████▊  | 346/442 [09:18<02:34"
     ]
    },
    {
     "name": "stdout",
     "output_type": "stream",
     "text": [
      "[GPU 모니터] 메모리 할당: 1273.9MB, 예약: 8598.0MB\n"
     ]
    },
    {
     "name": "stderr",
     "output_type": "stream",
     "text": [
      "       6/10       8.4G     0.5516     0.3765     0.9574         11        640:  87%|████████▋ | 383/442 [10:18<01:37"
     ]
    },
    {
     "name": "stdout",
     "output_type": "stream",
     "text": [
      "[GPU 모니터] 메모리 할당: 8054.6MB, 예약: 8598.0MB\n"
     ]
    },
    {
     "name": "stderr",
     "output_type": "stream",
     "text": [
      "       6/10       8.4G     0.5519     0.3778      0.956         10        640:  95%|█████████▌| 420/442 [11:18<00:35"
     ]
    },
    {
     "name": "stdout",
     "output_type": "stream",
     "text": [
      "[GPU 모니터] 메모리 할당: 1235.9MB, 예약: 8598.0MB\n"
     ]
    },
    {
     "name": "stderr",
     "output_type": "stream",
     "text": [
      "       6/10      8.44G     0.5501     0.3761     0.9556          2        640: 100%|██████████| 442/442 [11:52<00:00\n",
      "                 Class     Images  Instances      Box(P          R      mAP50  mAP50-95): 100%|██████████| 51/51 [00"
     ]
    },
    {
     "name": "stdout",
     "output_type": "stream",
     "text": [
      "                   all        801        944      0.949      0.899      0.954      0.817\n"
     ]
    },
    {
     "name": "stderr",
     "output_type": "stream",
     "text": [
      "\n"
     ]
    },
    {
     "name": "stdout",
     "output_type": "stream",
     "text": [
      "\n",
      "      Epoch    GPU_mem   box_loss   cls_loss   dfl_loss  Instances       Size\n"
     ]
    },
    {
     "name": "stderr",
     "output_type": "stream",
     "text": [
      "       7/10      8.37G     0.5479     0.3055     0.9624         11        640:   0%|          | 2/442 [00:05<18:36, "
     ]
    },
    {
     "name": "stdout",
     "output_type": "stream",
     "text": [
      "[GPU 모니터] 메모리 할당: 8014.8MB, 예약: 8574.0MB\n"
     ]
    },
    {
     "name": "stderr",
     "output_type": "stream",
     "text": [
      "       7/10      8.38G     0.5263     0.3579     0.9468          9        640:   6%|▌         | 27/442 [01:03<16:01,"
     ]
    },
    {
     "name": "stdout",
     "output_type": "stream",
     "text": [
      "[GPU 모니터] 메모리 할당: 1274.0MB, 예약: 8576.0MB\n"
     ]
    },
    {
     "name": "stderr",
     "output_type": "stream",
     "text": [
      "       7/10      8.38G     0.5366     0.3644     0.9465         10        640:  12%|█▏        | 54/442 [02:05<14:49,"
     ]
    },
    {
     "name": "stdout",
     "output_type": "stream",
     "text": [
      "[GPU 모니터] 메모리 할당: 1274.0MB, 예약: 8576.0MB\n"
     ]
    },
    {
     "name": "stderr",
     "output_type": "stream",
     "text": [
      "       7/10      8.38G     0.5426     0.3684      0.948          9        640:  18%|█▊        | 80/442 [03:05<13:50,"
     ]
    },
    {
     "name": "stdout",
     "output_type": "stream",
     "text": [
      "[GPU 모니터] 메모리 할당: 1274.0MB, 예약: 8576.0MB\n"
     ]
    },
    {
     "name": "stderr",
     "output_type": "stream",
     "text": [
      "       7/10      8.38G     0.5368     0.3643     0.9519         12        640:  24%|██▍       | 106/442 [04:05<12:51"
     ]
    },
    {
     "name": "stdout",
     "output_type": "stream",
     "text": [
      "[GPU 모니터] 메모리 할당: 1274.0MB, 예약: 8576.0MB\n"
     ]
    },
    {
     "name": "stderr",
     "output_type": "stream",
     "text": [
      "       7/10      8.38G      0.539     0.3638     0.9549          8        640:  30%|██▉       | 131/442 [05:03<12:00"
     ]
    },
    {
     "name": "stdout",
     "output_type": "stream",
     "text": [
      "[GPU 모니터] 메모리 할당: 1274.0MB, 예약: 8576.0MB\n"
     ]
    },
    {
     "name": "stderr",
     "output_type": "stream",
     "text": [
      "       7/10      8.38G     0.5385     0.3621     0.9565          8        640:  36%|███▌      | 158/442 [06:05<10:50"
     ]
    },
    {
     "name": "stdout",
     "output_type": "stream",
     "text": [
      "[GPU 모니터] 메모리 할당: 1274.0MB, 예약: 8576.0MB\n"
     ]
    },
    {
     "name": "stderr",
     "output_type": "stream",
     "text": [
      "       7/10      8.38G     0.5408     0.3659      0.955         11        640:  41%|████▏     | 183/442 [07:03<09:59"
     ]
    },
    {
     "name": "stdout",
     "output_type": "stream",
     "text": [
      "[GPU 모니터] 메모리 할당: 1274.0MB, 예약: 8576.0MB\n"
     ]
    },
    {
     "name": "stderr",
     "output_type": "stream",
     "text": [
      "       7/10      8.38G     0.5354     0.3603     0.9512         12        640:  47%|████▋     | 209/442 [08:03<08:59"
     ]
    },
    {
     "name": "stdout",
     "output_type": "stream",
     "text": [
      "[GPU 모니터] 메모리 할당: 1274.0MB, 예약: 8576.0MB\n"
     ]
    },
    {
     "name": "stderr",
     "output_type": "stream",
     "text": [
      "       7/10      8.38G      0.533     0.3597     0.9515          8        640:  53%|█████▎    | 235/442 [09:03<07:59"
     ]
    },
    {
     "name": "stdout",
     "output_type": "stream",
     "text": [
      "[GPU 모니터] 메모리 할당: 1274.0MB, 예약: 8576.0MB\n"
     ]
    },
    {
     "name": "stderr",
     "output_type": "stream",
     "text": [
      "       7/10      8.38G     0.5331     0.3614     0.9524         11        640:  59%|█████▉    | 261/442 [10:03<06:57"
     ]
    },
    {
     "name": "stdout",
     "output_type": "stream",
     "text": [
      "[GPU 모니터] 메모리 할당: 1274.0MB, 예약: 8576.0MB\n"
     ]
    },
    {
     "name": "stderr",
     "output_type": "stream",
     "text": [
      "       7/10      8.38G     0.5328     0.3586     0.9508          9        640:  65%|██████▍   | 287/442 [11:03<05:58"
     ]
    },
    {
     "name": "stdout",
     "output_type": "stream",
     "text": [
      "[GPU 모니터] 메모리 할당: 1274.0MB, 예약: 8576.0MB\n"
     ]
    },
    {
     "name": "stderr",
     "output_type": "stream",
     "text": [
      "       7/10      8.38G     0.5309     0.3577      0.949          8        640:  71%|███████   | 313/442 [12:03<04:59"
     ]
    },
    {
     "name": "stdout",
     "output_type": "stream",
     "text": [
      "[GPU 모니터] 메모리 할당: 1274.0MB, 예약: 8576.0MB\n"
     ]
    },
    {
     "name": "stderr",
     "output_type": "stream",
     "text": [
      "       7/10      8.38G      0.531     0.3601     0.9461         10        640:  77%|███████▋  | 339/442 [13:03<03:58"
     ]
    },
    {
     "name": "stdout",
     "output_type": "stream",
     "text": [
      "[GPU 모니터] 메모리 할당: 1274.0MB, 예약: 8576.0MB\n"
     ]
    },
    {
     "name": "stderr",
     "output_type": "stream",
     "text": [
      "       7/10      8.38G     0.5342     0.3624      0.945         10        640:  83%|████████▎ | 365/442 [14:03<02:57"
     ]
    },
    {
     "name": "stdout",
     "output_type": "stream",
     "text": [
      "[GPU 모니터] 메모리 할당: 1274.0MB, 예약: 8576.0MB\n"
     ]
    },
    {
     "name": "stderr",
     "output_type": "stream",
     "text": [
      "       7/10      8.38G     0.5319     0.3613     0.9439         10        640:  88%|████████▊ | 391/442 [15:03<01:58"
     ]
    },
    {
     "name": "stdout",
     "output_type": "stream",
     "text": [
      "[GPU 모니터] 메모리 할당: 1274.0MB, 예약: 8576.0MB\n"
     ]
    },
    {
     "name": "stderr",
     "output_type": "stream",
     "text": [
      "       7/10      8.38G      0.533      0.363     0.9429          8        640:  94%|█████████▍| 417/442 [16:03<00:57"
     ]
    },
    {
     "name": "stdout",
     "output_type": "stream",
     "text": [
      "[GPU 모니터] 메모리 할당: 1274.0MB, 예약: 8576.0MB\n"
     ]
    },
    {
     "name": "stderr",
     "output_type": "stream",
     "text": [
      "       7/10      8.42G     0.5333     0.3628      0.943          5        640: 100%|██████████| 442/442 [16:59<00:00\n",
      "                 Class     Images  Instances      Box(P          R      mAP50  mAP50-95):  29%|██▉       | 15/51 [00"
     ]
    },
    {
     "name": "stdout",
     "output_type": "stream",
     "text": [
      "[GPU 모니터] 메모리 할당: 1196.2MB, 예약: 4680.0MB\n"
     ]
    },
    {
     "name": "stderr",
     "output_type": "stream",
     "text": [
      "                 Class     Images  Instances      Box(P          R      mAP50  mAP50-95): 100%|██████████| 51/51 [00"
     ]
    },
    {
     "name": "stdout",
     "output_type": "stream",
     "text": [
      "                   all        801        944       0.93      0.922       0.96       0.82\n"
     ]
    },
    {
     "name": "stderr",
     "output_type": "stream",
     "text": [
      "\n"
     ]
    },
    {
     "name": "stdout",
     "output_type": "stream",
     "text": [
      "\n",
      "      Epoch    GPU_mem   box_loss   cls_loss   dfl_loss  Instances       Size\n"
     ]
    },
    {
     "name": "stderr",
     "output_type": "stream",
     "text": [
      "       8/10      8.36G      0.561     0.3754     0.9297         11        640:   6%|▌         | 25/442 [00:44<12:03,"
     ]
    },
    {
     "name": "stdout",
     "output_type": "stream",
     "text": [
      "[GPU 모니터] 메모리 할당: 6899.1MB, 예약: 8564.0MB\n"
     ]
    },
    {
     "name": "stderr",
     "output_type": "stream",
     "text": [
      "       8/10      8.36G     0.5364      0.367      0.928          8        640:  13%|█▎        | 58/442 [01:43<11:18,"
     ]
    },
    {
     "name": "stdout",
     "output_type": "stream",
     "text": [
      "[GPU 모니터] 메모리 할당: 1237.6MB, 예약: 8564.0MB\n"
     ]
    },
    {
     "name": "stderr",
     "output_type": "stream",
     "text": [
      "       8/10      8.36G     0.5266     0.3545     0.9331         12        640:  21%|██        | 92/442 [02:44<10:41,"
     ]
    },
    {
     "name": "stdout",
     "output_type": "stream",
     "text": [
      "[GPU 모니터] 메모리 할당: 1237.6MB, 예약: 8564.0MB\n"
     ]
    },
    {
     "name": "stderr",
     "output_type": "stream",
     "text": [
      "       8/10      8.36G     0.5145     0.3474     0.9412          9        640:  29%|██▊       | 126/442 [03:45<09:18"
     ]
    },
    {
     "name": "stdout",
     "output_type": "stream",
     "text": [
      "[GPU 모니터] 메모리 할당: 8019.2MB, 예약: 8564.0MB\n"
     ]
    },
    {
     "name": "stderr",
     "output_type": "stream",
     "text": [
      "       8/10      8.36G     0.5181     0.3455      0.942          8        640:  36%|███▌      | 159/442 [04:44<08:16"
     ]
    },
    {
     "name": "stdout",
     "output_type": "stream",
     "text": [
      "[GPU 모니터] 메모리 할당: 1275.6MB, 예약: 8564.0MB\n"
     ]
    },
    {
     "name": "stderr",
     "output_type": "stream",
     "text": [
      "       8/10      8.36G      0.518     0.3412     0.9387         10        640:  44%|████▎     | 193/442 [05:44<07:10"
     ]
    },
    {
     "name": "stdout",
     "output_type": "stream",
     "text": [
      "[GPU 모니터] 메모리 할당: 1275.6MB, 예약: 8564.0MB\n"
     ]
    },
    {
     "name": "stderr",
     "output_type": "stream",
     "text": [
      "       8/10      8.36G      0.515     0.3373     0.9403         11        640:  51%|█████     | 226/442 [06:43<06:21"
     ]
    },
    {
     "name": "stdout",
     "output_type": "stream",
     "text": [
      "[GPU 모니터] 메모리 할당: 1237.6MB, 예약: 8564.0MB\n"
     ]
    },
    {
     "name": "stderr",
     "output_type": "stream",
     "text": [
      "       8/10      8.36G      0.515      0.337     0.9397         13        640:  59%|█████▉    | 260/442 [07:44<05:33"
     ]
    },
    {
     "name": "stdout",
     "output_type": "stream",
     "text": [
      "[GPU 모니터] 메모리 할당: 1237.6MB, 예약: 8564.0MB\n"
     ]
    },
    {
     "name": "stderr",
     "output_type": "stream",
     "text": [
      "       8/10      8.36G     0.5155      0.335     0.9376         11        640:  67%|██████▋   | 294/442 [08:45<04:22"
     ]
    },
    {
     "name": "stdout",
     "output_type": "stream",
     "text": [
      "[GPU 모니터] 메모리 할당: 8019.2MB, 예약: 8564.0MB\n"
     ]
    },
    {
     "name": "stderr",
     "output_type": "stream",
     "text": [
      "       8/10      8.36G     0.5152     0.3354     0.9376         11        640:  74%|███████▍  | 327/442 [09:44<03:21"
     ]
    },
    {
     "name": "stdout",
     "output_type": "stream",
     "text": [
      "[GPU 모니터] 메모리 할당: 1275.6MB, 예약: 8564.0MB\n"
     ]
    },
    {
     "name": "stderr",
     "output_type": "stream",
     "text": [
      "       8/10      8.36G     0.5194     0.3374     0.9363          7        640:  82%|████████▏ | 361/442 [10:44<02:20"
     ]
    },
    {
     "name": "stdout",
     "output_type": "stream",
     "text": [
      "[GPU 모니터] 메모리 할당: 1275.6MB, 예약: 8564.0MB\n"
     ]
    },
    {
     "name": "stderr",
     "output_type": "stream",
     "text": [
      "       8/10      8.36G     0.5217     0.3397     0.9359          9        640:  89%|████████▉ | 394/442 [11:43<01:24"
     ]
    },
    {
     "name": "stdout",
     "output_type": "stream",
     "text": [
      "[GPU 모니터] 메모리 할당: 1237.6MB, 예약: 8564.0MB\n"
     ]
    },
    {
     "name": "stderr",
     "output_type": "stream",
     "text": [
      "       8/10      8.36G     0.5233     0.3409     0.9367          9        640:  97%|█████████▋| 428/442 [12:44<00:25"
     ]
    },
    {
     "name": "stdout",
     "output_type": "stream",
     "text": [
      "[GPU 모니터] 메모리 할당: 1237.6MB, 예약: 8564.0MB\n"
     ]
    },
    {
     "name": "stderr",
     "output_type": "stream",
     "text": [
      "       8/10      8.41G     0.5241     0.3411     0.9367          2        640: 100%|██████████| 442/442 [13:08<00:00\n",
      "                 Class     Images  Instances      Box(P          R      mAP50  mAP50-95): 100%|██████████| 51/51 [00"
     ]
    },
    {
     "name": "stdout",
     "output_type": "stream",
     "text": [
      "                   all        801        944      0.945      0.923      0.964      0.831\n"
     ]
    },
    {
     "name": "stderr",
     "output_type": "stream",
     "text": [
      "\n"
     ]
    },
    {
     "name": "stdout",
     "output_type": "stream",
     "text": [
      "\n",
      "      Epoch    GPU_mem   box_loss   cls_loss   dfl_loss  Instances       Size\n"
     ]
    },
    {
     "name": "stderr",
     "output_type": "stream",
     "text": [
      "       9/10      8.48G     0.5059     0.2703     0.9727          8        640:   1%|          | 5/442 [00:14<22:33, "
     ]
    },
    {
     "name": "stdout",
     "output_type": "stream",
     "text": [
      "[GPU 모니터] 메모리 할당: 1594.7MB, 예약: 8688.0MB\n"
     ]
    },
    {
     "name": "stderr",
     "output_type": "stream",
     "text": [
      "       9/10      8.48G     0.5031     0.3011     0.9491          8        640:   5%|▍         | 22/442 [01:16<27:19,"
     ]
    },
    {
     "name": "stdout",
     "output_type": "stream",
     "text": [
      "[GPU 모니터] 메모리 할당: 6671.0MB, 예약: 8688.0MB\n"
     ]
    },
    {
     "name": "stderr",
     "output_type": "stream",
     "text": [
      "       9/10      8.48G     0.5064     0.3092     0.9427          8        640:   8%|▊         | 37/442 [02:13<26:23,"
     ]
    },
    {
     "name": "stdout",
     "output_type": "stream",
     "text": [
      "[GPU 모니터] 메모리 할당: 1602.2MB, 예약: 8688.0MB\n"
     ]
    },
    {
     "name": "stderr",
     "output_type": "stream",
     "text": [
      "       9/10      8.48G     0.5237     0.3221     0.9409          8        640:  12%|█▏        | 53/442 [03:14<25:19,"
     ]
    },
    {
     "name": "stdout",
     "output_type": "stream",
     "text": [
      "[GPU 모니터] 메모리 할당: 1602.2MB, 예약: 8688.0MB\n"
     ]
    },
    {
     "name": "stderr",
     "output_type": "stream",
     "text": [
      "       9/10      8.48G     0.5236      0.329     0.9431         12        640:  16%|█▌        | 69/442 [04:15<24:17,"
     ]
    },
    {
     "name": "stdout",
     "output_type": "stream",
     "text": [
      "[GPU 모니터] 메모리 할당: 1602.2MB, 예약: 8688.0MB\n"
     ]
    },
    {
     "name": "stderr",
     "output_type": "stream",
     "text": [
      "       9/10      8.48G     0.5145     0.3256     0.9364         10        640:  19%|█▉        | 85/442 [05:15<23:15,"
     ]
    },
    {
     "name": "stdout",
     "output_type": "stream",
     "text": [
      "[GPU 모니터] 메모리 할당: 8370.2MB, 예약: 8688.0MB\n"
     ]
    },
    {
     "name": "stderr",
     "output_type": "stream",
     "text": [
      "       9/10      8.48G     0.5116     0.3219     0.9367         10        640:  23%|██▎       | 101/442 [06:16<22:12"
     ]
    },
    {
     "name": "stdout",
     "output_type": "stream",
     "text": [
      "[GPU 모니터] 메모리 할당: 8370.2MB, 예약: 8688.0MB\n"
     ]
    },
    {
     "name": "stderr",
     "output_type": "stream",
     "text": [
      "       9/10      8.48G     0.5115     0.3217     0.9362          9        640:  26%|██▌       | 116/442 [07:13<20:40"
     ]
    },
    {
     "name": "stdout",
     "output_type": "stream",
     "text": [
      "[GPU 모니터] 메모리 할당: 1564.2MB, 예약: 8688.0MB\n"
     ]
    },
    {
     "name": "stderr",
     "output_type": "stream",
     "text": [
      "       9/10      8.48G     0.5108     0.3175     0.9368         10        640:  30%|██▉       | 132/442 [08:14<19:39"
     ]
    },
    {
     "name": "stdout",
     "output_type": "stream",
     "text": [
      "[GPU 모니터] 메모리 할당: 1564.2MB, 예약: 8688.0MB\n"
     ]
    },
    {
     "name": "stderr",
     "output_type": "stream",
     "text": [
      "       9/10      8.48G     0.5085     0.3179      0.935          9        640:  33%|███▎      | 148/442 [09:14<18:37"
     ]
    },
    {
     "name": "stdout",
     "output_type": "stream",
     "text": [
      "[GPU 모니터] 메모리 할당: 1564.2MB, 예약: 8688.0MB\n"
     ]
    },
    {
     "name": "stderr",
     "output_type": "stream",
     "text": [
      "       9/10      8.48G     0.5122     0.3188     0.9379         12        640:  37%|███▋      | 164/442 [10:15<17:37"
     ]
    },
    {
     "name": "stdout",
     "output_type": "stream",
     "text": [
      "[GPU 모니터] 메모리 할당: 8333.8MB, 예약: 8688.0MB\n"
     ]
    },
    {
     "name": "stderr",
     "output_type": "stream",
     "text": [
      "       9/10      8.48G     0.5151     0.3208     0.9391         10        640:  41%|████      | 180/442 [11:16<16:35"
     ]
    },
    {
     "name": "stdout",
     "output_type": "stream",
     "text": [
      "[GPU 모니터] 메모리 할당: 8333.8MB, 예약: 8688.0MB\n"
     ]
    },
    {
     "name": "stderr",
     "output_type": "stream",
     "text": [
      "       9/10      8.48G      0.512     0.3169     0.9374          9        640:  44%|████▍     | 196/442 [12:17<15:35"
     ]
    },
    {
     "name": "stdout",
     "output_type": "stream",
     "text": [
      "[GPU 모니터] 메모리 할당: 1602.2MB, 예약: 8688.0MB\n"
     ]
    },
    {
     "name": "stderr",
     "output_type": "stream",
     "text": [
      "       9/10      8.48G     0.5143     0.3173     0.9361         11        640:  48%|████▊     | 211/442 [13:13<14:27"
     ]
    },
    {
     "name": "stdout",
     "output_type": "stream",
     "text": [
      "[GPU 모니터] 메모리 할당: 1602.2MB, 예약: 8688.0MB\n"
     ]
    },
    {
     "name": "stderr",
     "output_type": "stream",
     "text": [
      "       9/10      8.48G     0.5177      0.318     0.9367         12        640:  51%|█████▏    | 227/442 [14:14<13:26"
     ]
    },
    {
     "name": "stdout",
     "output_type": "stream",
     "text": [
      "[GPU 모니터] 메모리 할당: 1602.2MB, 예약: 8688.0MB\n"
     ]
    },
    {
     "name": "stderr",
     "output_type": "stream",
     "text": [
      "       9/10      8.48G     0.5164     0.3169     0.9354          9        640:  55%|█████▍    | 243/442 [15:15<12:26"
     ]
    },
    {
     "name": "stdout",
     "output_type": "stream",
     "text": [
      "[GPU 모니터] 메모리 할당: 1602.2MB, 예약: 8688.0MB\n"
     ]
    },
    {
     "name": "stderr",
     "output_type": "stream",
     "text": [
      "       9/10      8.48G     0.5151     0.3167     0.9337          9        640:  59%|█████▊    | 259/442 [16:16<11:26"
     ]
    },
    {
     "name": "stdout",
     "output_type": "stream",
     "text": [
      "[GPU 모니터] 메모리 할당: 8370.2MB, 예약: 8688.0MB\n"
     ]
    },
    {
     "name": "stderr",
     "output_type": "stream",
     "text": [
      "       9/10      8.48G     0.5153     0.3187     0.9348          8        640:  62%|██████▏   | 275/442 [17:16<10:26"
     ]
    },
    {
     "name": "stdout",
     "output_type": "stream",
     "text": [
      "[GPU 모니터] 메모리 할당: 8370.2MB, 예약: 8688.0MB\n"
     ]
    },
    {
     "name": "stderr",
     "output_type": "stream",
     "text": [
      "       9/10      8.48G     0.5158     0.3194     0.9347         10        640:  66%|██████▌   | 290/442 [18:13<09:04"
     ]
    },
    {
     "name": "stdout",
     "output_type": "stream",
     "text": [
      "[GPU 모니터] 메모리 할당: 1564.2MB, 예약: 8688.0MB\n"
     ]
    },
    {
     "name": "stderr",
     "output_type": "stream",
     "text": [
      "       9/10      8.48G     0.5143     0.3181     0.9341         10        640:  69%|██████▉   | 306/442 [19:14<08:06"
     ]
    },
    {
     "name": "stdout",
     "output_type": "stream",
     "text": [
      "[GPU 모니터] 메모리 할당: 1564.2MB, 예약: 8688.0MB\n"
     ]
    },
    {
     "name": "stderr",
     "output_type": "stream",
     "text": [
      "       9/10      8.48G     0.5151      0.319     0.9344          9        640:  73%|███████▎  | 322/442 [20:14<07:09"
     ]
    },
    {
     "name": "stdout",
     "output_type": "stream",
     "text": [
      "[GPU 모니터] 메모리 할당: 1564.2MB, 예약: 8688.0MB\n"
     ]
    },
    {
     "name": "stderr",
     "output_type": "stream",
     "text": [
      "       9/10      8.48G      0.513     0.3175     0.9332          9        640:  76%|███████▋  | 338/442 [21:15<06:11"
     ]
    },
    {
     "name": "stdout",
     "output_type": "stream",
     "text": [
      "[GPU 모니터] 메모리 할당: 8333.8MB, 예약: 8688.0MB\n"
     ]
    },
    {
     "name": "stderr",
     "output_type": "stream",
     "text": [
      "       9/10      8.48G     0.5108     0.3167     0.9319         10        640:  80%|████████  | 354/442 [22:16<05:14"
     ]
    },
    {
     "name": "stdout",
     "output_type": "stream",
     "text": [
      "[GPU 모니터] 메모리 할당: 8333.8MB, 예약: 8688.0MB\n"
     ]
    },
    {
     "name": "stderr",
     "output_type": "stream",
     "text": [
      "       9/10      8.48G     0.5111     0.3167     0.9317          8        640:  84%|████████▎ | 370/442 [23:16<04:17"
     ]
    },
    {
     "name": "stdout",
     "output_type": "stream",
     "text": [
      "[GPU 모니터] 메모리 할당: 8333.8MB, 예약: 8688.0MB\n"
     ]
    },
    {
     "name": "stderr",
     "output_type": "stream",
     "text": [
      "       9/10      8.48G      0.511      0.317     0.9317         11        640:  87%|████████▋ | 385/442 [24:13<03:15"
     ]
    },
    {
     "name": "stdout",
     "output_type": "stream",
     "text": [
      "[GPU 모니터] 메모리 할당: 1602.2MB, 예약: 8688.0MB\n"
     ]
    },
    {
     "name": "stderr",
     "output_type": "stream",
     "text": [
      "       9/10      8.48G     0.5113     0.3161     0.9328          8        640:  91%|█████████ | 401/442 [25:14<02:20"
     ]
    },
    {
     "name": "stdout",
     "output_type": "stream",
     "text": [
      "[GPU 모니터] 메모리 할당: 1602.2MB, 예약: 8688.0MB\n"
     ]
    },
    {
     "name": "stderr",
     "output_type": "stream",
     "text": [
      "       9/10      8.48G     0.5084     0.3148     0.9316          8        640:  94%|█████████▍| 417/442 [26:15<01:25"
     ]
    },
    {
     "name": "stdout",
     "output_type": "stream",
     "text": [
      "[GPU 모니터] 메모리 할당: 1602.2MB, 예약: 8688.0MB\n"
     ]
    },
    {
     "name": "stderr",
     "output_type": "stream",
     "text": [
      "       9/10      8.48G     0.5071     0.3143     0.9326         12        640:  98%|█████████▊| 433/442 [27:15<00:30"
     ]
    },
    {
     "name": "stdout",
     "output_type": "stream",
     "text": [
      "[GPU 모니터] 메모리 할당: 8370.2MB, 예약: 8688.0MB\n"
     ]
    },
    {
     "name": "stderr",
     "output_type": "stream",
     "text": [
      "       9/10      8.53G     0.5079      0.314     0.9323          2        640: 100%|██████████| 442/442 [27:46<00:00\n",
      "                 Class     Images  Instances      Box(P          R      mAP50  mAP50-95): 100%|██████████| 51/51 [00"
     ]
    },
    {
     "name": "stdout",
     "output_type": "stream",
     "text": [
      "                   all        801        944      0.958      0.913      0.966      0.832\n"
     ]
    },
    {
     "name": "stderr",
     "output_type": "stream",
     "text": [
      "\n"
     ]
    },
    {
     "name": "stdout",
     "output_type": "stream",
     "text": [
      "\n",
      "      Epoch    GPU_mem   box_loss   cls_loss   dfl_loss  Instances       Size\n"
     ]
    },
    {
     "name": "stderr",
     "output_type": "stream",
     "text": [
      "      10/10      8.39G     0.4191     0.2565     0.9782          8        640:   1%|          | 3/442 [00:08<23:06, "
     ]
    },
    {
     "name": "stdout",
     "output_type": "stream",
     "text": [
      "[GPU 모니터] 메모리 할당: 8042.9MB, 예약: 8590.0MB\n"
     ]
    },
    {
     "name": "stderr",
     "output_type": "stream",
     "text": [
      "      10/10      8.39G     0.5395     0.3317     0.9308         10        640:   5%|▍         | 22/442 [01:09<21:37,"
     ]
    },
    {
     "name": "stdout",
     "output_type": "stream",
     "text": [
      "[GPU 모니터] 메모리 할당: 7773.9MB, 예약: 8590.0MB\n"
     ]
    },
    {
     "name": "stderr",
     "output_type": "stream",
     "text": [
      "      10/10      8.39G      0.537     0.3339     0.9282          8        640:   9%|▉         | 41/442 [02:08<20:49,"
     ]
    },
    {
     "name": "stdout",
     "output_type": "stream",
     "text": [
      "[GPU 모니터] 메모리 할당: 1269.9MB, 예약: 8590.0MB\n"
     ]
    },
    {
     "name": "stderr",
     "output_type": "stream",
     "text": [
      "      10/10      8.39G     0.5437     0.3351     0.9236         11        640:  14%|█▍        | 61/442 [03:10<19:20,"
     ]
    },
    {
     "name": "stdout",
     "output_type": "stream",
     "text": [
      "[GPU 모니터] 메모리 할당: 1231.9MB, 예약: 8590.0MB\n"
     ]
    },
    {
     "name": "stderr",
     "output_type": "stream",
     "text": [
      "      10/10      8.39G     0.5284     0.3275      0.924          9        640:  18%|█▊        | 80/442 [04:09<18:59,"
     ]
    },
    {
     "name": "stdout",
     "output_type": "stream",
     "text": [
      "[GPU 모니터] 메모리 할당: 8006.9MB, 예약: 8590.0MB\n"
     ]
    },
    {
     "name": "stderr",
     "output_type": "stream",
     "text": [
      "      10/10      8.39G     0.5269     0.3259     0.9299         11        640:  22%|██▏       | 99/442 [05:08<17:32,"
     ]
    },
    {
     "name": "stdout",
     "output_type": "stream",
     "text": [
      "[GPU 모니터] 메모리 할당: 1269.9MB, 예약: 8590.0MB\n"
     ]
    },
    {
     "name": "stderr",
     "output_type": "stream",
     "text": [
      "      10/10      8.39G     0.5172     0.3196     0.9304          8        640:  27%|██▋       | 118/442 [06:06<16:40"
     ]
    },
    {
     "name": "stdout",
     "output_type": "stream",
     "text": [
      "[GPU 모니터] 메모리 할당: 1231.9MB, 예약: 8590.0MB\n"
     ]
    },
    {
     "name": "stderr",
     "output_type": "stream",
     "text": [
      "      10/10      8.39G      0.512     0.3152     0.9295          9        640:  31%|███       | 138/442 [07:08<15:35"
     ]
    },
    {
     "name": "stdout",
     "output_type": "stream",
     "text": [
      "[GPU 모니터] 메모리 할당: 1231.9MB, 예약: 8590.0MB\n"
     ]
    },
    {
     "name": "stderr",
     "output_type": "stream",
     "text": [
      "      10/10      8.39G      0.509      0.313     0.9292         10        640:  36%|███▌      | 157/442 [08:07<14:29"
     ]
    },
    {
     "name": "stdout",
     "output_type": "stream",
     "text": [
      "[GPU 모니터] 메모리 할당: 1269.9MB, 예약: 8590.0MB\n"
     ]
    },
    {
     "name": "stderr",
     "output_type": "stream",
     "text": [
      "      10/10      8.39G     0.5132     0.3174     0.9296         11        640:  40%|████      | 177/442 [09:09<13:46"
     ]
    },
    {
     "name": "stdout",
     "output_type": "stream",
     "text": [
      "[GPU 모니터] 메모리 할당: 7027.6MB, 예약: 8590.0MB\n"
     ]
    },
    {
     "name": "stderr",
     "output_type": "stream",
     "text": [
      "      10/10      8.39G     0.5117     0.3146     0.9311          8        640:  44%|████▍     | 196/442 [10:08<12:29"
     ]
    },
    {
     "name": "stdout",
     "output_type": "stream",
     "text": [
      "[GPU 모니터] 메모리 할당: 1231.9MB, 예약: 8590.0MB\n"
     ]
    },
    {
     "name": "stderr",
     "output_type": "stream",
     "text": [
      "      10/10      8.39G     0.5123     0.3145     0.9287         10        640:  49%|████▊     | 215/442 [11:07<12:08"
     ]
    },
    {
     "name": "stdout",
     "output_type": "stream",
     "text": [
      "[GPU 모니터] 메모리 할당: 1269.9MB, 예약: 8590.0MB\n"
     ]
    },
    {
     "name": "stderr",
     "output_type": "stream",
     "text": [
      "      10/10      8.39G     0.5096     0.3148     0.9265          9        640:  53%|█████▎    | 235/442 [12:09<10:34"
     ]
    },
    {
     "name": "stdout",
     "output_type": "stream",
     "text": [
      "[GPU 모니터] 메모리 할당: 8043.6MB, 예약: 8590.0MB\n"
     ]
    },
    {
     "name": "stderr",
     "output_type": "stream",
     "text": [
      "      10/10      8.39G     0.5079     0.3116     0.9275         10        640:  57%|█████▋    | 254/442 [13:08<09:40"
     ]
    },
    {
     "name": "stdout",
     "output_type": "stream",
     "text": [
      "[GPU 모니터] 메모리 할당: 7773.9MB, 예약: 8590.0MB\n"
     ]
    },
    {
     "name": "stderr",
     "output_type": "stream",
     "text": [
      "      10/10      8.39G     0.5046     0.3084     0.9275         10        640:  62%|██████▏   | 273/442 [14:07<08:46"
     ]
    },
    {
     "name": "stdout",
     "output_type": "stream",
     "text": [
      "[GPU 모니터] 메모리 할당: 1269.9MB, 예약: 8590.0MB\n"
     ]
    },
    {
     "name": "stderr",
     "output_type": "stream",
     "text": [
      "      10/10      8.39G     0.5071     0.3089     0.9267         10        640:  66%|██████▋   | 293/442 [15:09<07:33"
     ]
    },
    {
     "name": "stdout",
     "output_type": "stream",
     "text": [
      "[GPU 모니터] 메모리 할당: 8043.6MB, 예약: 8590.0MB\n"
     ]
    },
    {
     "name": "stderr",
     "output_type": "stream",
     "text": [
      "      10/10      8.39G     0.5085     0.3093     0.9276         12        640:  71%|███████   | 312/442 [16:08<06:49"
     ]
    },
    {
     "name": "stdout",
     "output_type": "stream",
     "text": [
      "[GPU 모니터] 메모리 할당: 1231.9MB, 예약: 8590.0MB\n"
     ]
    },
    {
     "name": "stderr",
     "output_type": "stream",
     "text": [
      "      10/10      8.39G     0.5058     0.3075     0.9253         12        640:  75%|███████▍  | 331/442 [17:10<05:40"
     ]
    },
    {
     "name": "stdout",
     "output_type": "stream",
     "text": [
      "[GPU 모니터] 메모리 할당: 1269.9MB, 예약: 8590.0MB\n"
     ]
    },
    {
     "name": "stderr",
     "output_type": "stream",
     "text": [
      "      10/10      8.39G     0.5062     0.3067     0.9259         10        640:  79%|███████▉  | 351/442 [18:09<04:52"
     ]
    },
    {
     "name": "stdout",
     "output_type": "stream",
     "text": [
      "[GPU 모니터] 메모리 할당: 8043.6MB, 예약: 8590.0MB\n"
     ]
    },
    {
     "name": "stderr",
     "output_type": "stream",
     "text": [
      "      10/10      8.39G     0.5069     0.3073     0.9255          9        640:  84%|████████▎ | 370/442 [19:08<03:41"
     ]
    },
    {
     "name": "stdout",
     "output_type": "stream",
     "text": [
      "[GPU 모니터] 메모리 할당: 1231.9MB, 예약: 8590.0MB\n"
     ]
    },
    {
     "name": "stderr",
     "output_type": "stream",
     "text": [
      "      10/10      8.39G     0.5055     0.3057     0.9254          8        640:  88%|████████▊ | 390/442 [20:10<02:40"
     ]
    },
    {
     "name": "stdout",
     "output_type": "stream",
     "text": [
      "[GPU 모니터] 메모리 할당: 1038.9MB, 예약: 8590.0MB\n"
     ]
    },
    {
     "name": "stderr",
     "output_type": "stream",
     "text": [
      "      10/10      8.39G     0.5034      0.304     0.9234          8        640:  93%|█████████▎| 409/442 [21:09<01:42"
     ]
    },
    {
     "name": "stdout",
     "output_type": "stream",
     "text": [
      "[GPU 모니터] 메모리 할당: 8043.6MB, 예약: 8590.0MB\n"
     ]
    },
    {
     "name": "stderr",
     "output_type": "stream",
     "text": [
      "      10/10      8.39G     0.5033     0.3042     0.9234          9        640:  97%|█████████▋| 428/442 [22:07<00:42"
     ]
    },
    {
     "name": "stdout",
     "output_type": "stream",
     "text": [
      "[GPU 모니터] 메모리 할당: 1231.9MB, 예약: 8590.0MB\n"
     ]
    },
    {
     "name": "stderr",
     "output_type": "stream",
     "text": [
      "      10/10      8.41G     0.5032      0.303     0.9236          2        640: 100%|██████████| 442/442 [22:49<00:00\n",
      "                 Class     Images  Instances      Box(P          R      mAP50  mAP50-95): 100%|██████████| 51/51 [00"
     ]
    },
    {
     "name": "stdout",
     "output_type": "stream",
     "text": [
      "                   all        801        944      0.958      0.915      0.965      0.838\n"
     ]
    },
    {
     "name": "stderr",
     "output_type": "stream",
     "text": [
      "\n"
     ]
    },
    {
     "name": "stdout",
     "output_type": "stream",
     "text": [
      "\n",
      "10 epochs completed in 3.832 hours.\n",
      "[GPU 모니터] 메모리 할당: 1243.4MB, 예약: 2936.0MB\n",
      "Optimizer stripped from runs\\detect\\yolov11x_custom_003\\weights\\last.pt, 114.4MB\n",
      "Optimizer stripped from runs\\detect\\yolov11x_custom_003\\weights\\best.pt, 114.4MB\n",
      "\n",
      "Validating runs\\detect\\yolov11x_custom_003\\weights\\best.pt...\n",
      "Ultralytics 8.3.156  Python-3.11.9 torch-2.7.1+cu128 CUDA:0 (NVIDIA GeForce RTX 4070 Laptop GPU, 8188MiB)\n",
      "YOLO11x summary (fused): 190 layers, 56,844,349 parameters, 0 gradients, 194.5 GFLOPs\n"
     ]
    },
    {
     "name": "stderr",
     "output_type": "stream",
     "text": [
      "                 Class     Images  Instances      Box(P          R      mAP50  mAP50-95): 100%|██████████| 51/51 [00\n"
     ]
    },
    {
     "name": "stdout",
     "output_type": "stream",
     "text": [
      "                   all        801        944      0.958      0.915      0.965      0.839\n",
      "           Green Light         87        122      0.884      0.684      0.866      0.547\n",
      "             Red Light         74        108      0.886      0.723      0.835      0.505\n",
      "       Speed Limit 100         52         52       0.94      0.981      0.993      0.907\n",
      "       Speed Limit 110         17         17      0.957      0.941      0.951      0.882\n",
      "       Speed Limit 120         60         60      0.963      0.983      0.993      0.929\n",
      "        Speed Limit 20         56         56      0.965      0.978      0.985      0.873\n",
      "        Speed Limit 30         71         74      0.965      0.973      0.993      0.932\n",
      "        Speed Limit 40         53         55      0.985      0.927      0.988      0.884\n",
      "        Speed Limit 50         68         71      0.974       0.93      0.988      0.887\n",
      "        Speed Limit 60         76         76      0.982      0.947      0.985       0.89\n",
      "        Speed Limit 70         78         78      0.996      0.974      0.992      0.904\n",
      "        Speed Limit 80         56         56      0.951      0.982      0.993      0.868\n",
      "        Speed Limit 90         38         38      0.986      0.789       0.96      0.798\n",
      "                  Stop         81         81      0.979          1      0.995      0.936\n",
      "Speed: 0.2ms preprocess, 15.9ms inference, 0.0ms loss, 0.9ms postprocess per image\n",
      "Results saved to \u001b[1mruns\\detect\\yolov11x_custom_003\u001b[0m\n",
      "✅ 훈련 소요 시간: 13820.15초\n",
      "[GPU 모니터] 메모리 할당: 1196.1MB, 예약: 2936.0MB\n",
      "[GPU 모니터] 메모리 할당: 1196.1MB, 예약: 2936.0MB\n",
      "[GPU 모니터] 메모리 할당: 1196.1MB, 예약: 2936.0MB\n",
      "[GPU 모니터] 메모리 할당: 1196.1MB, 예약: 2936.0MB\n",
      "[GPU 모니터] 메모리 할당: 1196.1MB, 예약: 2936.0MB\n",
      "[GPU 모니터] 메모리 할당: 1196.1MB, 예약: 2936.0MB\n",
      "[GPU 모니터] 메모리 할당: 1196.1MB, 예약: 2936.0MB\n",
      "[GPU 모니터] 메모리 할당: 1196.1MB, 예약: 2936.0MB\n",
      "[GPU 모니터] 메모리 할당: 1196.1MB, 예약: 2936.0MB\n",
      "[GPU 모니터] 메모리 할당: 1196.1MB, 예약: 2936.0MB\n",
      "[GPU 모니터] 메모리 할당: 1196.1MB, 예약: 2936.0MB\n",
      "[GPU 모니터] 메모리 할당: 1196.1MB, 예약: 2936.0MB\n",
      "[GPU 모니터] 메모리 할당: 1196.1MB, 예약: 2936.0MB\n",
      "[GPU 모니터] 메모리 할당: 1196.1MB, 예약: 2936.0MB\n",
      "[GPU 모니터] 메모리 할당: 1196.1MB, 예약: 2936.0MB\n",
      "[GPU 모니터] 메모리 할당: 1196.1MB, 예약: 2936.0MB\n",
      "[GPU 모니터] 메모리 할당: 1196.1MB, 예약: 2936.0MB\n",
      "[GPU 모니터] 메모리 할당: 1196.1MB, 예약: 2936.0MB\n",
      "[GPU 모니터] 메모리 할당: 1196.1MB, 예약: 2936.0MB\n",
      "[GPU 모니터] 메모리 할당: 1196.1MB, 예약: 2936.0MB\n",
      "[GPU 모니터] 메모리 할당: 1196.1MB, 예약: 2936.0MB\n",
      "[GPU 모니터] 메모리 할당: 1196.1MB, 예약: 2936.0MB\n",
      "[GPU 모니터] 메모리 할당: 1196.1MB, 예약: 2936.0MB\n",
      "[GPU 모니터] 메모리 할당: 1196.1MB, 예약: 2936.0MB\n",
      "[GPU 모니터] 메모리 할당: 1196.1MB, 예약: 2936.0MB\n",
      "[GPU 모니터] 메모리 할당: 1196.1MB, 예약: 2936.0MB\n",
      "[GPU 모니터] 메모리 할당: 1196.1MB, 예약: 2936.0MB\n",
      "[GPU 모니터] 메모리 할당: 1196.1MB, 예약: 2936.0MB\n"
     ]
    }
   ],
   "source": [
    "os.environ[\"CUDA_VISIBLE_DEVICES\"] = \"0\"\n",
    "\n",
    "# GPU 메모리 사용량 주기적으로 출력 (간격 60초로 조정)\n",
    "def gpu_monitor():\n",
    "    while True:\n",
    "        if torch.cuda.is_available():\n",
    "            mem_alloc = torch.cuda.memory_allocated() / 1024**2\n",
    "            mem_reserved = torch.cuda.memory_reserved() / 1024**2\n",
    "            print(f\"[GPU 모니터] 메모리 할당: {mem_alloc:.1f}MB, 예약: {mem_reserved:.1f}MB\")\n",
    "        time.sleep(60)  # 60초 간격\n",
    "\n",
    "monitor_thread = threading.Thread(target=gpu_monitor, daemon=True)\n",
    "monitor_thread.start()\n",
    "\n",
    "# 모델 로드\n",
    "#model = YOLO('yolo11x.pt')\n",
    "model = YOLO('runs/detect/yolov11x_custom_002/weights/best.pt')  # 기존 모델에서 이어서 학습 시\n",
    "\n",
    "# 하이퍼파라미터 튜닝 포함한 train 함수 호출\n",
    "start_time = time.time()\n",
    "\n",
    "model.train(\n",
    "    data='data.yaml',\n",
    "    epochs=10,\n",
    "    imgsz=640,\n",
    "    name=run_name,\n",
    "    device='0',\n",
    "    workers=0,\n",
    "    verbose=True,  # 더 자세한 로그 출력\n",
    "\n",
    "    batch=8,\n",
    "    patience=5,\n",
    "    warmup_epochs=0  # 웜업 비활성화\n",
    ")\n",
    "\n",
    "train_duration = time.time() - start_time\n",
    "print(f\"✅ 훈련 소요 시간: {train_duration:.2f}초\")"
   ]
  },
  {
   "cell_type": "code",
   "execution_count": null,
   "id": "60c0b627-b4cd-49b0-850c-16cf9be24ff7",
   "metadata": {},
   "outputs": [],
   "source": [
    "# 📌 [7] 검증 수행\n",
    "# start_val = time.time()\n",
    "\n",
    "# model = YOLO(f'runs/detect/{run_name}/weights/best.pt')\n",
    "# results = model.val()\n",
    "# val_duration = time.time() - start_val\n",
    "# print(f\"✅ 검증 소요 시간: {val_duration:.2f}초\")\n",
    "# print(f\"mAP50: {results.box.map50:.4f}, mAP50-95: {results.box.map:.4f}\")\n",
    "\n",
    "# # PR Curve 시각화 (val 결과 내 PR curve 있으면)\n",
    "# if hasattr(results, 'plots') and 'pr_curve' in results.plots:\n",
    "#     plt.figure(figsize=(8,6))\n",
    "#     plt.imshow(results.plots['pr_curve'])\n",
    "#     plt.axis('off')\n",
    "#     plt.title(\"PR Curve\")\n",
    "#     plt.show()"
   ]
  },
  {
   "cell_type": "code",
   "execution_count": null,
   "id": "1c2bc45d-0953-48f7-84e2-1b654387cedd",
   "metadata": {},
   "outputs": [],
   "source": []
  },
  {
   "cell_type": "code",
   "execution_count": null,
   "id": "b2c1a8b2-97e9-4c09-8f7b-79247534a245",
   "metadata": {},
   "outputs": [],
   "source": []
  },
  {
   "cell_type": "code",
   "execution_count": 9,
   "id": "d97140da-804d-4837-9713-a4c79560ecc8",
   "metadata": {},
   "outputs": [
    {
     "name": "stdout",
     "output_type": "stream",
     "text": [
      "yolov11x_custom_003\n"
     ]
    }
   ],
   "source": [
    "# 'yolov11x_custom_001'\n",
    "print(run_name)"
   ]
  },
  {
   "cell_type": "code",
   "execution_count": 10,
   "id": "015f7fc0-8690-492d-884e-547e6cbbf1d2",
   "metadata": {},
   "outputs": [
    {
     "name": "stdout",
     "output_type": "stream",
     "text": [
      "\n",
      "image 1/1 D:\\Project\\PJT_07\\code\\..\\test\\images\\00014_00004_00020_png.rf.e3b35f3ca153fde99af4db4a67d2a564.jpg: 640x640 1 Stop, 22.5ms\n",
      "Speed: 2.4ms preprocess, 22.5ms inference, 1.5ms postprocess per image at shape (1, 3, 640, 640)\n",
      "Results saved to \u001b[1mruns\\predict\\custom_test\\yolov11x_custom_003\u001b[0m\n"
     ]
    }
   ],
   "source": [
    "# 📌 [8] 예측 실행 및 저장\n",
    "test_img = '../test/images/00014_00004_00020_png.rf.e3b35f3ca153fde99af4db4a67d2a564.jpg'\n",
    "pred = model.predict(\n",
    "    source=test_img,\n",
    "    conf=0.25,\n",
    "    save=True,\n",
    "    project='runs/predict/custom_test',\n",
    "    name=run_name,\n",
    "    exist_ok=True\n",
    ")"
   ]
  },
  {
   "cell_type": "code",
   "execution_count": 11,
   "id": "243b0c34-06a6-42c7-8e19-c27bbbffe94b",
   "metadata": {},
   "outputs": [
    {
     "data": {
      "text/plain": [
       "<Figure size 1200x1200 with 1 Axes>"
      ]
     },
     "metadata": {},
     "output_type": "display_data"
    }
   ],
   "source": [
    "# 📌 [9] 예측 결과 시각화 및 GT bbox와 비교 함수 추가\n",
    "def draw_boxes_with_gt(image_path, pred_results, gt_label_path, class_names):\n",
    "    img = cv2.imread(image_path)\n",
    "    ih, iw = img.shape[:2]\n",
    "\n",
    "    # GT 박스 (파란색)\n",
    "    with open(gt_label_path, 'r') as f:\n",
    "        gt_lines = f.readlines()\n",
    "\n",
    "    for line in gt_lines:\n",
    "        cls, x, y, w, h = map(float, line.strip().split())\n",
    "        x1 = int((x - w/2) * iw)\n",
    "        y1 = int((y - h/2) * ih)\n",
    "        x2 = int((x + w/2) * iw)\n",
    "        y2 = int((y + h/2) * ih)\n",
    "        cv2.rectangle(img, (x1,y1), (x2,y2), (255,0,0), 2)\n",
    "        cv2.putText(img, f\"GT: {class_names[int(cls)]}\", (x1, y1-5),\n",
    "                    cv2.FONT_HERSHEY_SIMPLEX, 0.5, (255,0,0), 2)\n",
    "\n",
    "    # 예측 박스 (초록색)\n",
    "    for r in pred_results:\n",
    "        boxes = r.boxes.xyxy.cpu().numpy().astype(int)\n",
    "        scores = r.boxes.conf.cpu().numpy()\n",
    "        classes = r.boxes.cls.cpu().numpy().astype(int)\n",
    "        for (x1,y1,x2,y2), conf, cls in zip(boxes, scores, classes):\n",
    "            label = f\"{class_names[cls]} {conf:.2f}\"\n",
    "            cv2.rectangle(img, (x1,y1), (x2,y2), (0,255,0), 2)\n",
    "            (tw, th), _ = cv2.getTextSize(label, cv2.FONT_HERSHEY_SIMPLEX, 0.5, 1)\n",
    "            cv2.rectangle(img, (x1, y1 - th - 5), (x1 + tw, y1), (0,255,0), -1)\n",
    "            cv2.putText(img, label, (x1, y1 - 5), cv2.FONT_HERSHEY_SIMPLEX, 0.5, (0,0,0), 1)\n",
    "\n",
    "    plt.figure(figsize=(12,12))\n",
    "    plt.imshow(cv2.cvtColor(img, cv2.COLOR_BGR2RGB))\n",
    "    plt.axis('off')\n",
    "    plt.title(\"예측 박스 (초록) 와 GT 박스 (파랑) 비교\")\n",
    "    plt.show()\n",
    "\n",
    "gt_label_for_test_img = '../test/labels/00014_00004_00020_png.rf.e3b35f3ca153fde99af4db4a67d2a564.txt'\n",
    "draw_boxes_with_gt(test_img, pred, gt_label_for_test_img, class_names)"
   ]
  },
  {
   "cell_type": "code",
   "execution_count": 12,
   "id": "b69592a2-63fd-4d85-b00d-0b89a4dc2214",
   "metadata": {},
   "outputs": [
    {
     "name": "stdout",
     "output_type": "stream",
     "text": [
      "Ultralytics 8.3.156  Python-3.11.9 torch-2.7.1+cu128 CPU (13th Gen Intel Core(TM) i7-13700HX)\n",
      "\n",
      "\u001b[34m\u001b[1mPyTorch:\u001b[0m starting from 'runs\\detect\\yolov11x_custom_003\\weights\\best.pt' with input shape (1, 3, 640, 640) BCHW and output shape(s) (1, 19, 8400) (109.1 MB)\n",
      "\n",
      "\u001b[34m\u001b[1mONNX:\u001b[0m starting export with onnx 1.17.0 opset 19...\n",
      "\u001b[34m\u001b[1mONNX:\u001b[0m slimming with onnxslim 0.1.57...\n",
      "\u001b[34m\u001b[1mONNX:\u001b[0m export success  5.8s, saved as 'runs\\detect\\yolov11x_custom_003\\weights\\best.onnx' (217.2 MB)\n",
      "\n",
      "Export complete (6.7s)\n",
      "Results saved to \u001b[1mD:\\Project\\PJT_07\\code\\runs\\detect\\yolov11x_custom_003\\weights\u001b[0m\n",
      "Predict:         yolo predict task=detect model=runs\\detect\\yolov11x_custom_003\\weights\\best.onnx imgsz=640  \n",
      "Validate:        yolo val task=detect model=runs\\detect\\yolov11x_custom_003\\weights\\best.onnx imgsz=640 data=data.yaml  \n",
      "Visualize:       https://netron.app\n",
      "🧠 ONNX 모델 저장 경로: runs\\detect\\yolov11x_custom_003\\weights\\best.onnx\n"
     ]
    }
   ],
   "source": [
    "# 📌 [10] ONNX 모델로 내보내기\n",
    "export_path = model.export(format='onnx')\n",
    "print(f\"🧠 ONNX 모델 저장 경로: {export_path}\")"
   ]
  },
  {
   "cell_type": "code",
   "execution_count": 13,
   "id": "adc611e0-7cff-4e02-bd20-ffb8719167f1",
   "metadata": {},
   "outputs": [
    {
     "name": "stdout",
     "output_type": "stream",
     "text": [
      "Loading runs\\detect\\yolov11x_custom_003\\weights\\best.onnx for ONNX Runtime inference...\n",
      "Using ONNX Runtime CUDAExecutionProvider\n",
      "\n",
      "0: 640x640 1 Stop, 166.4ms\n",
      "Speed: 2.2ms preprocess, 166.4ms inference, 2.0ms postprocess per image at shape (1, 3, 640, 640)\n"
     ]
    },
    {
     "data": {
      "text/plain": [
       "<Figure size 1200x1200 with 1 Axes>"
      ]
     },
     "metadata": {},
     "output_type": "display_data"
    }
   ],
   "source": [
    "# 📌 [11] ONNX 모델 기반 예측 시각화 (기존 코드 유지)\n",
    "onnx_model = YOLO(os.path.join('runs/detect', run_name, 'weights', 'best.onnx'))\n",
    "\n",
    "image = cv2.imread(test_img)\n",
    "image = cv2.cvtColor(image, cv2.COLOR_BGR2RGB)\n",
    "resized_image = cv2.resize(image, (640, 640))\n",
    "\n",
    "results_onnx = onnx_model(resized_image, imgsz=640)\n",
    "\n",
    "for result in results_onnx:\n",
    "    boxes = result.boxes\n",
    "    names = result.names\n",
    "    for box in boxes:\n",
    "        x1, y1, x2, y2 = map(int, box.xyxy[0])\n",
    "        conf = box.conf[0]\n",
    "        cls = int(box.cls[0])\n",
    "        label = f\"{names[cls]} {conf:.2f}\"\n",
    "\n",
    "        cv2.rectangle(image, (x1, y1), (x2, y2), (0, 255, 0), 2)\n",
    "        (text_width, text_height), _ = cv2.getTextSize(label, cv2.FONT_HERSHEY_SIMPLEX, 0.5, 1)\n",
    "        cv2.rectangle(image, (x1, y1 - text_height - 5), (x1 + text_width, y1), (0, 255, 0), -1)\n",
    "        cv2.putText(image, label, (x1, y1 - 5), cv2.FONT_HERSHEY_SIMPLEX, 0.5, (0, 0, 0), 1)\n",
    "\n",
    "plt.figure(figsize=(12, 12))\n",
    "plt.imshow(image)\n",
    "plt.axis('off')\n",
    "plt.title(\"🔍 ONNX 예측 결과\")\n",
    "plt.show()"
   ]
  },
  {
   "cell_type": "code",
   "execution_count": null,
   "id": "0d0cb133-6f32-40bc-ab8e-3b85ab06bbe4",
   "metadata": {},
   "outputs": [],
   "source": [
    "# print(df.columns)"
   ]
  },
  {
   "cell_type": "code",
   "execution_count": 14,
   "id": "43de50a5-fe8e-47a9-aa63-d47d7b44788d",
   "metadata": {},
   "outputs": [
    {
     "name": "stdout",
     "output_type": "stream",
     "text": [
      "📈 훈련 결과 요약 (Epoch별 mAP):\n",
      "   metrics/mAP50(B)  metrics/mAP50-95(B)\n",
      "5           0.95384              0.81661\n",
      "6           0.96019              0.82026\n",
      "7           0.96435              0.83069\n",
      "8           0.96642              0.83188\n",
      "9           0.96541              0.83848\n"
     ]
    },
    {
     "data": {
      "text/plain": [
       "<Figure size 600x400 with 1 Axes>"
      ]
     },
     "metadata": {},
     "output_type": "display_data"
    },
    {
     "data": {
      "text/plain": [
       "<Figure size 1000x600 with 1 Axes>"
      ]
     },
     "metadata": {},
     "output_type": "display_data"
    },
    {
     "data": {
      "text/plain": [
       "<Figure size 1000x600 with 1 Axes>"
      ]
     },
     "metadata": {},
     "output_type": "display_data"
    },
    {
     "name": "stdout",
     "output_type": "stream",
     "text": [
      "🎯 최고 성능 Epoch:\n",
      "epoch                  10.00000\n",
      "metrics/mAP50(B)        0.96541\n",
      "metrics/mAP50-95(B)     0.83848\n",
      "Name: 9, dtype: float64\n"
     ]
    }
   ],
   "source": [
    "# 📌 [12] 훈련 결과 시각화 (mAP/Loss 등)\n",
    "results_csv = f'runs/detect/{run_name}/results.csv'\n",
    "\n",
    "if os.path.exists(results_csv):\n",
    "    df = pd.read_csv(results_csv)\n",
    "    print(f\"📈 훈련 결과 요약 (Epoch별 mAP):\\n{df[['metrics/mAP50(B)', 'metrics/mAP50-95(B)']].tail()}\")\n",
    "\n",
    "    # Box Loss 그래프\n",
    "    df[['train/box_loss', 'val/box_loss']].plot(title='Box Loss', figsize=(6, 4))\n",
    "    plt.savefig(f'runs/detect/{run_name}/box_loss.png')\n",
    "    plt.show()\n",
    "\n",
    "    # ✅ 수정: train/valid 전체 손실 시각화 (box, cls, dfl)\n",
    "    df[['train/box_loss', 'train/cls_loss', 'train/dfl_loss',\n",
    "        'val/box_loss', 'val/cls_loss', 'val/dfl_loss']].plot(figsize=(10,6))\n",
    "    plt.title('Train & Valid Losses (Box, Class, DFL)')\n",
    "    plt.savefig(f'runs/detect/{run_name}/losses.png')\n",
    "    plt.show()\n",
    "\n",
    "    # mAP, Precision, Recall 시각화\n",
    "    df[['metrics/mAP50(B)', 'metrics/precision(B)', 'metrics/recall(B)']].plot(figsize=(10,6))\n",
    "    plt.title('Metrics: mAP50, Precision, Recall')\n",
    "    plt.savefig(f'runs/detect/{run_name}/metrics.png')\n",
    "    plt.show()\n",
    "\n",
    "    best_idx = df['metrics/mAP50-95(B)'].idxmax()\n",
    "    print(\"🎯 최고 성능 Epoch:\")\n",
    "    print(df.loc[best_idx, ['epoch', 'metrics/mAP50(B)', 'metrics/mAP50-95(B)']])\n",
    "else:\n",
    "    print(\"📛 results.csv 없음 (훈련 실패?)\")"
   ]
  },
  {
   "cell_type": "code",
   "execution_count": 15,
   "id": "e5083cdc-633a-4e9b-92e2-e6940d5917a4",
   "metadata": {},
   "outputs": [
    {
     "name": "stdout",
     "output_type": "stream",
     "text": [
      "📦 결과 JSON 저장 완료: runs/detect/yolov11x_custom_003/results_summary.json\n"
     ]
    }
   ],
   "source": [
    "# 📌 [13] 결과를 JSON으로 저장\n",
    "def save_results_to_json(csv_path, json_path):\n",
    "    if os.path.exists(csv_path):\n",
    "        df = pd.read_csv(csv_path)\n",
    "        result_data = df.to_dict(orient='records')\n",
    "        with open(json_path, 'w') as f:\n",
    "            json.dump(result_data, f, indent=4)\n",
    "        print(f\"📦 결과 JSON 저장 완료: {json_path}\")\n",
    "\n",
    "save_results_to_json(\n",
    "    csv_path=f'runs/detect/{run_name}/results.csv',\n",
    "    json_path=f'runs/detect/{run_name}/results_summary.json'\n",
    ")"
   ]
  },
  {
   "cell_type": "code",
   "execution_count": null,
   "id": "d1237b8a-ff9b-4d44-9dce-66fa1c9ee5ba",
   "metadata": {},
   "outputs": [],
   "source": []
  },
  {
   "cell_type": "code",
   "execution_count": null,
   "id": "67a21761-1728-4cfb-8694-2853254c5d81",
   "metadata": {},
   "outputs": [],
   "source": []
  },
  {
   "cell_type": "code",
   "execution_count": null,
   "id": "15ac19c0-b5bc-48df-bf85-f275ae55f4e3",
   "metadata": {},
   "outputs": [],
   "source": []
  },
  {
   "cell_type": "code",
   "execution_count": null,
   "id": "37309006-8c9c-4421-816e-31016db0a180",
   "metadata": {},
   "outputs": [],
   "source": []
  },
  {
   "cell_type": "code",
   "execution_count": null,
   "id": "d552a7f1-da31-4f73-8614-4a984f92a319",
   "metadata": {},
   "outputs": [],
   "source": []
  },
  {
   "cell_type": "code",
   "execution_count": null,
   "id": "0d78448a-572c-4f85-a3e5-a4e6edb9f826",
   "metadata": {},
   "outputs": [],
   "source": []
  }
 ],
 "metadata": {
  "kernelspec": {
   "display_name": "Python 3 (ipykernel)",
   "language": "python",
   "name": "python3"
  },
  "language_info": {
   "codemirror_mode": {
    "name": "ipython",
    "version": 3
   },
   "file_extension": ".py",
   "mimetype": "text/x-python",
   "name": "python",
   "nbconvert_exporter": "python",
   "pygments_lexer": "ipython3",
   "version": "3.11.9"
  }
 },
 "nbformat": 4,
 "nbformat_minor": 5
}
