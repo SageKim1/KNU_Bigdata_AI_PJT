{
 "cells": [
  {
   "cell_type": "code",
   "execution_count": 1,
   "id": "e01ba7bf-c39d-4e59-a42a-978a5912b79d",
   "metadata": {},
   "outputs": [],
   "source": [
    "# 📌 [기본 패키지 임포트]\n",
    "import os\n",
    "import shutil\n",
    "import torch\n",
    "import ultralytics\n",
    "from ultralytics import YOLO\n",
    "import time\n",
    "import pandas as pd\n",
    "import cv2\n",
    "import matplotlib.pyplot as plt\n",
    "import numpy as np\n",
    "import json\n",
    "from glob import glob"
   ]
  },
  {
   "cell_type": "code",
   "execution_count": 2,
   "id": "a7cc747d-9083-4800-a6eb-49112ae7589f",
   "metadata": {},
   "outputs": [
    {
     "name": "stdout",
     "output_type": "stream",
     "text": [
      "Ultralytics 8.3.156  Python-3.11.9 torch-2.7.1+cu128 CUDA:0 (NVIDIA GeForce RTX 4070 Laptop GPU, 8188MiB)\n",
      "Setup complete  (24 CPUs, 31.7 GB RAM, 24.4/735.1 GB disk)\n"
     ]
    }
   ],
   "source": [
    "# 📌 [1] GPU 및 환경 체크\n",
    "print(\"✅ CUDA 사용 가능:\", torch.cuda.is_available())\n",
    "print(\"✅ PyTorch 버전:\", torch.__version__)\n",
    "ultralytics.checks()"
   ]
  },
  {
   "cell_type": "markdown",
   "id": "1d5093c1-e1cc-4f6c-a329-dbebc2e970ee",
   "metadata": {},
   "source": [
    "- Ultralytics 8.3.156  Python-3.11.9 torch-2.7.1+cu128 CUDA:0 (NVIDIA GeForce RTX 4070 Laptop GPU, 8188MiB)\n",
    "- Setup complete  (24 CPUs, 31.7 GB RAM, 196.5/217.8 GB disk)"
   ]
  },
  {
   "cell_type": "code",
   "execution_count": 3,
   "id": "889614c7-078c-42dd-9a1e-c5feb11c1843",
   "metadata": {},
   "outputs": [
    {
     "name": "stdout",
     "output_type": "stream",
     "text": [
      "📂 '../code/runs/detect' 폴더가 없어 삭제 생략\n"
     ]
    }
   ],
   "source": [
    "# 📌 [2] 실패한 이전 runs 삭제\n",
    "def clean_incomplete_runs(base_dir='../code/runs/detect'):\n",
    "    if not os.path.exists(base_dir):\n",
    "        print(f\"📂 '{base_dir}' 폴더가 없어 삭제 생략\")\n",
    "        return\n",
    "\n",
    "    deleted = False\n",
    "    for folder in os.listdir(base_dir):\n",
    "        path = os.path.join(base_dir, folder)\n",
    "        best_model = os.path.join(path, 'weights', 'best.pt')\n",
    "        if not os.path.exists(best_model):\n",
    "            print(f\"🧹 삭제 대상: {path}\")\n",
    "            shutil.rmtree(path)\n",
    "            deleted = True\n",
    "\n",
    "    if not deleted:\n",
    "        print(\"✅ 삭제할 미완성 run 없음. 모든 run이 best.pt 포함.\")\n",
    "\n",
    "clean_incomplete_runs()"
   ]
  },
  {
   "cell_type": "code",
   "execution_count": 4,
   "id": "816cafb1-b394-4e80-a876-f5e2b787e336",
   "metadata": {},
   "outputs": [
    {
     "name": "stdout",
     "output_type": "stream",
     "text": [
      "ℹ️ 이전 훈련 결과 없음.\n"
     ]
    }
   ],
   "source": [
    "# 📌 [3] 가장 최근 run 결과 요약 출력\n",
    "def get_last_run_csv():\n",
    "    runs = sorted(glob('runs/detect/*/results.csv'), key=os.path.getmtime, reverse=True)\n",
    "    if runs:\n",
    "        print(f\"📄 마지막 훈련 결과 파일: {runs[0]}\")\n",
    "        df = pd.read_csv(runs[0])\n",
    "        print(\"🔁 마지막 훈련 결과 (마지막 5줄):\")\n",
    "        print(df.tail())\n",
    "    else:\n",
    "        print(\"ℹ️ 이전 훈련 결과 없음.\")\n",
    "\n",
    "get_last_run_csv()"
   ]
  },
  {
   "cell_type": "code",
   "execution_count": 5,
   "id": "668f314f-6144-446c-acee-0c2e4e8a82c4",
   "metadata": {},
   "outputs": [
    {
     "name": "stdout",
     "output_type": "stream",
     "text": [
      "🚀 새 훈련 run 이름: yolov11n_custom_001\n"
     ]
    }
   ],
   "source": [
    "# 📌 [4] 자동 넘버링 run 이름 생성\n",
    "def get_next_run_name(base_dir='runs/detect', prefix='yolov11n_custom'):\n",
    "    i = 1\n",
    "    while os.path.exists(os.path.join(base_dir, f'{prefix}_{i:03d}')):\n",
    "        i += 1\n",
    "    return f'{prefix}_{i:03d}'\n",
    "\n",
    "run_name = get_next_run_name()\n",
    "print(f\"🚀 새 훈련 run 이름: {run_name}\")"
   ]
  },
  {
   "cell_type": "code",
   "execution_count": 6,
   "id": "152ccf85-a0aa-4c4a-9157-97824b0a765c",
   "metadata": {},
   "outputs": [
    {
     "name": "stdout",
     "output_type": "stream",
     "text": [
      "\n",
      "📁 이미지 경로: ../train/images\n",
      "🖼️ 이미지 개수: 3530\n",
      "💾 이미지 용량: 67.55 MB\n",
      "📄 라벨 경로: ../train/labels\n",
      "📝 라벨 개수: 3530\n",
      "💾 라벨 용량: 319.50 KB\n",
      "\n",
      "📁 이미지 경로: ../valid/images\n",
      "🖼️ 이미지 개수: 801\n",
      "💾 이미지 용량: 15.38 MB\n",
      "📄 라벨 경로: ../valid/labels\n",
      "📝 라벨 개수: 801\n",
      "💾 라벨 용량: 69.86 KB\n"
     ]
    }
   ],
   "source": [
    "# 📌 [5] 입력 데이터 정보 출력\n",
    "def get_dataset_info(img_dir, label_dir):\n",
    "    img_files = glob(os.path.join(img_dir, '*.jpg'))\n",
    "    label_files = glob(os.path.join(label_dir, '*.txt'))\n",
    "\n",
    "    total_img_size = sum(os.path.getsize(f) for f in img_files)\n",
    "    total_label_size = sum(os.path.getsize(f) for f in label_files)\n",
    "\n",
    "    print(f\"\\n📁 이미지 경로: {img_dir}\")\n",
    "    print(f\"🖼️ 이미지 개수: {len(img_files)}\")\n",
    "    print(f\"💾 이미지 용량: {total_img_size / 1024 / 1024:.2f} MB\")\n",
    "    print(f\"📄 라벨 경로: {label_dir}\")\n",
    "    print(f\"📝 라벨 개수: {len(label_files)}\")\n",
    "    print(f\"💾 라벨 용량: {total_label_size / 1024:.2f} KB\")\n",
    "\n",
    "get_dataset_info('../train/images', '../train/labels')\n",
    "get_dataset_info('../valid/images', '../valid/labels')"
   ]
  },
  {
   "cell_type": "markdown",
   "id": "e1e15034-d5c3-402d-96d0-2e5390259446",
   "metadata": {},
   "source": [
    "train\n",
    "- 📁 이미지 경로: ../train/images\n",
    "- 🖼️ 이미지 개수: 3530\n",
    "- 💾 이미지 용량: 67.55 MB\n",
    "- 📄 라벨 경로: ../train/labels\n",
    "- 📝 라벨 개수: 3530\n",
    "- 💾 라벨 용량: 319.50 KB\n",
    "\n",
    "\n",
    "valid\n",
    "- 📁 이미지 경로: ../valid/images\n",
    "- 🖼️ 이미지 개수: 801\n",
    "- 💾 이미지 용량: 15.38 MB\n",
    "- 📄 라벨 경로: ../valid/labels\n",
    "- 📝 라벨 개수: 801\n",
    "- 💾 라벨 용량: 69.86 KB"
   ]
  },
  {
   "cell_type": "markdown",
   "id": "36acca4d-da75-4b00-9923-9345051009df",
   "metadata": {},
   "source": [
    "## YOLO 모델 로드 및 학습"
   ]
  },
  {
   "cell_type": "code",
   "execution_count": 7,
   "id": "2907ea9c-4991-4e10-9b16-3007426fa1e5",
   "metadata": {},
   "outputs": [
    {
     "name": "stdout",
     "output_type": "stream",
     "text": [
      "🔒 캐시 유지: D:\\Project\\PJT_07\\train\\labels.cache (조건 미충족)\n",
      "🔒 캐시 유지: D:\\Project\\PJT_07\\valid\\labels.cache (조건 미충족)\n"
     ]
    }
   ],
   "source": [
    "import os\n",
    "\n",
    "def safe_delete_cache(path: str):\n",
    "    \"\"\"\n",
    "    조건에 따라 .cache 파일을 삭제:\n",
    "    - 파일이 존재하고\n",
    "    - 용량이 1KB 이하이거나\n",
    "    - 생성된 지 1시간 이상 되었거나\n",
    "    - 'force_delete_cache=True'로 설정 시\n",
    "    삭제를 수행함.\n",
    "    \"\"\"\n",
    "    if not os.path.exists(path):\n",
    "        print(f\"🟢 캐시 파일 없음 (삭제 불필요): {path}\")\n",
    "        return\n",
    "\n",
    "    file_size = os.path.getsize(path)\n",
    "    last_modified = os.path.getmtime(path)\n",
    "    now = os.path.getmtime(__file__) if '__file__' in globals() else None\n",
    "\n",
    "    # 사용자 조건: 파일이 너무 작거나 오래되었을 때만 삭제\n",
    "    should_delete = (\n",
    "        file_size < 1024 or  # 너무 작으면 손상 가능성\n",
    "        (now and (now - last_modified > 3600))  # 1시간 이상 경과 시\n",
    "    )\n",
    "\n",
    "    if should_delete:\n",
    "        try:\n",
    "            os.remove(path)\n",
    "            print(f\"✅ 캐시 삭제 완료: {path}\")\n",
    "        except Exception as e:\n",
    "            print(f\"❌ 캐시 삭제 실패: {path} → {e}\")\n",
    "    else:\n",
    "        print(f\"🔒 캐시 유지: {path} (조건 미충족)\")\n",
    "\n",
    "# 삭제 시도\n",
    "safe_delete_cache(r\"D:\\Project\\PJT_07\\train\\labels.cache\")\n",
    "safe_delete_cache(r\"D:\\Project\\PJT_07\\valid\\labels.cache\")"
   ]
  },
  {
   "cell_type": "code",
   "execution_count": 8,
   "id": "830064b1-d0c3-4b4c-875d-bf2c2c3f7825",
   "metadata": {},
   "outputs": [],
   "source": [
    "import os\n",
    "os.environ[\"CUDA_VISIBLE_DEVICES\"] = \"0\""
   ]
  },
  {
   "cell_type": "code",
   "execution_count": 10,
   "id": "e4e78a4a-59be-46fb-b332-b1beef3d59bc",
   "metadata": {},
   "outputs": [
    {
     "name": "stdout",
     "output_type": "stream",
     "text": [
      "[GPU 모니터] 메모리 할당: 0.0MB, 예약: 0.0MB\n",
      "Ultralytics 8.3.156  Python-3.11.9 torch-2.7.1+cu128 CUDA:0 (NVIDIA GeForce RTX 4070 Laptop GPU, 8188MiB)\n",
      "\u001b[34m\u001b[1mengine\\trainer: \u001b[0magnostic_nms=False, amp=True, augment=False, auto_augment=randaugment, batch=8, bgr=0.0, box=7.5, cache=False, cfg=None, classes=None, close_mosaic=10, cls=0.5, conf=None, copy_paste=0.0, copy_paste_mode=flip, cos_lr=False, cutmix=0.0, data=data.yaml, degrees=0.0, deterministic=True, device=0, dfl=1.5, dnn=False, dropout=0.0, dynamic=False, embed=None, epochs=30, erasing=0.4, exist_ok=False, fliplr=0.5, flipud=0.0, format=torchscript, fraction=1.0, freeze=None, half=False, hsv_h=0.015, hsv_s=0.7, hsv_v=0.4, imgsz=640, int8=False, iou=0.7, keras=False, kobj=1.0, line_width=None, lr0=0.01, lrf=0.01, mask_ratio=4, max_det=300, mixup=0.0, mode=train, model=yolo11n.pt, momentum=0.937, mosaic=1.0, multi_scale=False, name=yolov11n_custom_001, nbs=64, nms=False, opset=None, optimize=False, optimizer=auto, overlap_mask=True, patience=100, perspective=0.0, plots=True, pose=12.0, pretrained=True, profile=False, project=None, rect=False, resume=False, retina_masks=False, save=True, save_conf=False, save_crop=False, save_dir=runs\\detect\\yolov11n_custom_001, save_frames=False, save_json=False, save_period=-1, save_txt=False, scale=0.5, seed=0, shear=0.0, show=False, show_boxes=True, show_conf=True, show_labels=True, simplify=True, single_cls=False, source=None, split=val, stream_buffer=False, task=detect, time=None, tracker=botsort.yaml, translate=0.1, val=True, verbose=True, vid_stride=1, visualize=False, warmup_bias_lr=0.1, warmup_epochs=3.0, warmup_momentum=0.8, weight_decay=0.0005, workers=0, workspace=None\n",
      "Overriding model.yaml nc=80 with nc=15\n",
      "\n",
      "                   from  n    params  module                                       arguments                     \n",
      "  0                  -1  1       464  ultralytics.nn.modules.conv.Conv             [3, 16, 3, 2]                 \n",
      "  1                  -1  1      4672  ultralytics.nn.modules.conv.Conv             [16, 32, 3, 2]                \n",
      "  2                  -1  1      6640  ultralytics.nn.modules.block.C3k2            [32, 64, 1, False, 0.25]      \n",
      "  3                  -1  1     36992  ultralytics.nn.modules.conv.Conv             [64, 64, 3, 2]                \n",
      "  4                  -1  1     26080  ultralytics.nn.modules.block.C3k2            [64, 128, 1, False, 0.25]     \n",
      "  5                  -1  1    147712  ultralytics.nn.modules.conv.Conv             [128, 128, 3, 2]              \n",
      "  6                  -1  1     87040  ultralytics.nn.modules.block.C3k2            [128, 128, 1, True]           \n",
      "  7                  -1  1    295424  ultralytics.nn.modules.conv.Conv             [128, 256, 3, 2]              \n",
      "  8                  -1  1    346112  ultralytics.nn.modules.block.C3k2            [256, 256, 1, True]           \n",
      "  9                  -1  1    164608  ultralytics.nn.modules.block.SPPF            [256, 256, 5]                 \n",
      " 10                  -1  1    249728  ultralytics.nn.modules.block.C2PSA           [256, 256, 1]                 \n",
      " 11                  -1  1         0  torch.nn.modules.upsampling.Upsample         [None, 2, 'nearest']          \n",
      " 12             [-1, 6]  1         0  ultralytics.nn.modules.conv.Concat           [1]                           \n",
      " 13                  -1  1    111296  ultralytics.nn.modules.block.C3k2            [384, 128, 1, False]          \n",
      " 14                  -1  1         0  torch.nn.modules.upsampling.Upsample         [None, 2, 'nearest']          \n",
      " 15             [-1, 4]  1         0  ultralytics.nn.modules.conv.Concat           [1]                           \n",
      " 16                  -1  1     32096  ultralytics.nn.modules.block.C3k2            [256, 64, 1, False]           \n",
      " 17                  -1  1     36992  ultralytics.nn.modules.conv.Conv             [64, 64, 3, 2]                \n",
      " 18            [-1, 13]  1         0  ultralytics.nn.modules.conv.Concat           [1]                           \n",
      " 19                  -1  1     86720  ultralytics.nn.modules.block.C3k2            [192, 128, 1, False]          \n",
      " 20                  -1  1    147712  ultralytics.nn.modules.conv.Conv             [128, 128, 3, 2]              \n",
      " 21            [-1, 10]  1         0  ultralytics.nn.modules.conv.Concat           [1]                           \n",
      " 22                  -1  1    378880  ultralytics.nn.modules.block.C3k2            [384, 256, 1, True]           \n",
      " 23        [16, 19, 22]  1    433597  ultralytics.nn.modules.head.Detect           [15, [64, 128, 256]]          \n",
      "YOLO11n summary: 181 layers, 2,592,765 parameters, 2,592,749 gradients, 6.5 GFLOPs\n",
      "\n",
      "Transferred 448/499 items from pretrained weights\n",
      "Freezing layer 'model.23.dfl.conv.weight'\n",
      "\u001b[34m\u001b[1mAMP: \u001b[0mrunning Automatic Mixed Precision (AMP) checks...\n",
      "[GPU 모니터] 메모리 할당: 52.1MB, 예약: 72.0MB\n",
      "\u001b[34m\u001b[1mAMP: \u001b[0mchecks passed \n",
      "\u001b[34m\u001b[1mtrain: \u001b[0mFast image access  (ping: 0.10.0 ms, read: 71.614.4 MB/s, size: 24.1 KB)\n"
     ]
    },
    {
     "name": "stderr",
     "output_type": "stream",
     "text": [
      "\u001b[34m\u001b[1mtrain: \u001b[0mScanning D:\\Project\\PJT_07\\train\\labels... 3530 images, 3 backgrounds, 0 corrupt: 100%|██████████| 3530/3530 \u001b[0m\n"
     ]
    },
    {
     "name": "stdout",
     "output_type": "stream",
     "text": [
      "\u001b[34m\u001b[1mtrain: \u001b[0mNew cache created: D:\\Project\\PJT_07\\train\\labels.cache\n",
      "\u001b[34m\u001b[1mval: \u001b[0mFast image access  (ping: 0.20.0 ms, read: 47.926.6 MB/s, size: 20.7 KB)\n"
     ]
    },
    {
     "name": "stderr",
     "output_type": "stream",
     "text": [
      "\u001b[34m\u001b[1mval: \u001b[0mScanning D:\\Project\\PJT_07\\valid\\labels...:   0%|          | 0/801 [00:00<?, ?it/s]\u001b[0m"
     ]
    },
    {
     "name": "stdout",
     "output_type": "stream",
     "text": [
      "[GPU 모니터] 메모리 할당: 52.1MB, 예약: 98.0MB\n"
     ]
    },
    {
     "name": "stderr",
     "output_type": "stream",
     "text": [
      "\u001b[34m\u001b[1mval: \u001b[0mScanning D:\\Project\\PJT_07\\valid\\labels... 801 images, 0 backgrounds, 0 corrupt: 100%|██████████| 801/801 [00:0\u001b[0m\n"
     ]
    },
    {
     "name": "stdout",
     "output_type": "stream",
     "text": [
      "\u001b[34m\u001b[1mval: \u001b[0mNew cache created: D:\\Project\\PJT_07\\valid\\labels.cache\n",
      "Plotting labels to runs\\detect\\yolov11n_custom_001\\labels.jpg... \n",
      "[GPU 모니터] 메모리 할당: 62.1MB, 예약: 100.0MB\n",
      "\u001b[34m\u001b[1moptimizer:\u001b[0m 'optimizer=auto' found, ignoring 'lr0=0.01' and 'momentum=0.937' and determining best 'optimizer', 'lr0' and 'momentum' automatically... \n",
      "\u001b[34m\u001b[1moptimizer:\u001b[0m AdamW(lr=0.000526, momentum=0.9) with parameter groups 81 weight(decay=0.0), 88 weight(decay=0.0005), 87 bias(decay=0.0)\n",
      "Image sizes 640 train, 640 val\n",
      "Using 0 dataloader workers\n",
      "Logging results to \u001b[1mruns\\detect\\yolov11n_custom_001\u001b[0m\n",
      "Starting training for 30 epochs...\n",
      "\n",
      "      Epoch    GPU_mem   box_loss   cls_loss   dfl_loss  Instances       Size\n"
     ]
    },
    {
     "name": "stderr",
     "output_type": "stream",
     "text": [
      "       1/30      1.23G      1.232      4.658       1.39         17        640:   1%|          | 4/442 [00:03<05:19, "
     ]
    },
    {
     "name": "stdout",
     "output_type": "stream",
     "text": [
      "[GPU 모니터] 메모리 할당: 169.6MB, 예약: 1258.0MB\n"
     ]
    },
    {
     "name": "stderr",
     "output_type": "stream",
     "text": [
      "       1/30      1.25G      1.306      4.592      1.482         18        640:   5%|▌         | 23/442 [00:13<03:46,"
     ]
    },
    {
     "name": "stdout",
     "output_type": "stream",
     "text": [
      "[GPU 모니터] 메모리 할당: 1041.1MB, 예약: 1278.0MB\n"
     ]
    },
    {
     "name": "stderr",
     "output_type": "stream",
     "text": [
      "       1/30      1.25G      1.199      4.524       1.47         15        640:   9%|▉         | 41/442 [00:23<03:36,"
     ]
    },
    {
     "name": "stdout",
     "output_type": "stream",
     "text": [
      "[GPU 모니터] 메모리 할당: 152.0MB, 예약: 1278.0MB\n"
     ]
    },
    {
     "name": "stderr",
     "output_type": "stream",
     "text": [
      "       1/30      1.25G       1.12      4.456      1.409         20        640:  13%|█▎        | 59/442 [00:33<03:41,"
     ]
    },
    {
     "name": "stdout",
     "output_type": "stream",
     "text": [
      "[GPU 모니터] 메모리 할당: 152.0MB, 예약: 1278.0MB\n"
     ]
    },
    {
     "name": "stderr",
     "output_type": "stream",
     "text": [
      "       1/30      1.25G      1.068      4.428      1.369         12        640:  17%|█▋        | 77/442 [00:43<03:24,"
     ]
    },
    {
     "name": "stdout",
     "output_type": "stream",
     "text": [
      "[GPU 모니터] 메모리 할당: 628.3MB, 예약: 1278.0MB\n"
     ]
    },
    {
     "name": "stderr",
     "output_type": "stream",
     "text": [
      "       1/30      1.25G      1.031      4.367      1.338         16        640:  21%|██▏       | 95/442 [00:53<03:17,"
     ]
    },
    {
     "name": "stdout",
     "output_type": "stream",
     "text": [
      "[GPU 모니터] 메모리 할당: 152.0MB, 예약: 1278.0MB\n"
     ]
    },
    {
     "name": "stderr",
     "output_type": "stream",
     "text": [
      "       1/30      1.26G      0.996      4.294      1.319         20        640:  26%|██▌       | 115/442 [01:03<02:26"
     ]
    },
    {
     "name": "stdout",
     "output_type": "stream",
     "text": [
      "[GPU 모니터] 메모리 할당: 152.0MB, 예약: 1286.0MB\n"
     ]
    },
    {
     "name": "stderr",
     "output_type": "stream",
     "text": [
      "       1/30      1.26G     0.9607      4.211      1.293         20        640:  31%|███       | 135/442 [01:13<02:36"
     ]
    },
    {
     "name": "stdout",
     "output_type": "stream",
     "text": [
      "[GPU 모니터] 메모리 할당: 152.0MB, 예약: 1286.0MB\n"
     ]
    },
    {
     "name": "stderr",
     "output_type": "stream",
     "text": [
      "       1/30      1.26G     0.9364      4.139       1.27         20        640:  35%|███▌      | 155/442 [01:23<02:25"
     ]
    },
    {
     "name": "stdout",
     "output_type": "stream",
     "text": [
      "[GPU 모니터] 메모리 할당: 152.0MB, 예약: 1286.0MB\n"
     ]
    },
    {
     "name": "stderr",
     "output_type": "stream",
     "text": [
      "       1/30      1.26G     0.9167      4.083       1.26         26        640:  39%|███▉      | 174/442 [01:33<02:18"
     ]
    },
    {
     "name": "stdout",
     "output_type": "stream",
     "text": [
      "[GPU 모니터] 메모리 할당: 1105.6MB, 예약: 1286.0MB\n"
     ]
    },
    {
     "name": "stderr",
     "output_type": "stream",
     "text": [
      "       1/30      1.26G     0.9115      4.046      1.253         24        640:  43%|████▎     | 192/442 [01:43<02:13"
     ]
    },
    {
     "name": "stdout",
     "output_type": "stream",
     "text": [
      "[GPU 모니터] 메모리 할당: 200.0MB, 예약: 1286.0MB\n"
     ]
    },
    {
     "name": "stderr",
     "output_type": "stream",
     "text": [
      "       1/30      1.26G     0.8995      3.991       1.24         11        640:  48%|████▊     | 212/442 [01:54<01:59"
     ]
    },
    {
     "name": "stdout",
     "output_type": "stream",
     "text": [
      "[GPU 모니터] 메모리 할당: 687.1MB, 예약: 1286.0MB\n"
     ]
    },
    {
     "name": "stderr",
     "output_type": "stream",
     "text": [
      "       1/30      1.26G     0.8932      3.939      1.234         16        640:  52%|█████▏    | 230/442 [02:03<01:54"
     ]
    },
    {
     "name": "stdout",
     "output_type": "stream",
     "text": [
      "[GPU 모니터] 메모리 할당: 200.0MB, 예약: 1286.0MB\n"
     ]
    },
    {
     "name": "stderr",
     "output_type": "stream",
     "text": [
      "       1/30      1.26G     0.8973       3.91      1.231         30        640:  57%|█████▋    | 250/442 [02:14<01:37"
     ]
    },
    {
     "name": "stdout",
     "output_type": "stream",
     "text": [
      "[GPU 모니터] 메모리 할당: 940.5MB, 예약: 1286.0MB\n"
     ]
    },
    {
     "name": "stderr",
     "output_type": "stream",
     "text": [
      "       1/30      1.26G     0.8986      3.871      1.225         28        640:  61%|██████    | 269/442 [02:23<01:30"
     ]
    },
    {
     "name": "stdout",
     "output_type": "stream",
     "text": [
      "[GPU 모니터] 메모리 할당: 516.2MB, 예약: 1286.0MB\n"
     ]
    },
    {
     "name": "stderr",
     "output_type": "stream",
     "text": [
      "       1/30      1.26G     0.8956      3.828      1.225         24        640:  65%|██████▌   | 288/442 [02:33<01:19"
     ]
    },
    {
     "name": "stdout",
     "output_type": "stream",
     "text": [
      "[GPU 모니터] 메모리 할당: 190.0MB, 예약: 1286.0MB\n"
     ]
    },
    {
     "name": "stderr",
     "output_type": "stream",
     "text": [
      "       1/30      1.26G     0.8925      3.793      1.218         17        640:  70%|██████▉   | 308/442 [02:43<01:05"
     ]
    },
    {
     "name": "stdout",
     "output_type": "stream",
     "text": [
      "[GPU 모니터] 메모리 할당: 200.0MB, 예약: 1286.0MB\n"
     ]
    },
    {
     "name": "stderr",
     "output_type": "stream",
     "text": [
      "       1/30      1.26G     0.8888      3.754      1.217         20        640:  74%|███████▍  | 328/442 [02:53<00:56"
     ]
    },
    {
     "name": "stdout",
     "output_type": "stream",
     "text": [
      "[GPU 모니터] 메모리 할당: 200.0MB, 예약: 1286.0MB\n"
     ]
    },
    {
     "name": "stderr",
     "output_type": "stream",
     "text": [
      "       1/30      1.26G     0.8824      3.718      1.209         17        640:  79%|███████▊  | 348/442 [03:03<00:47"
     ]
    },
    {
     "name": "stdout",
     "output_type": "stream",
     "text": [
      "[GPU 모니터] 메모리 할당: 190.0MB, 예약: 1286.0MB\n"
     ]
    },
    {
     "name": "stderr",
     "output_type": "stream",
     "text": [
      "       1/30      1.26G     0.8795      3.677      1.205         18        640:  83%|████████▎ | 368/442 [03:13<00:37"
     ]
    },
    {
     "name": "stdout",
     "output_type": "stream",
     "text": [
      "[GPU 모니터] 메모리 할당: 200.0MB, 예약: 1286.0MB\n"
     ]
    },
    {
     "name": "stderr",
     "output_type": "stream",
     "text": [
      "       1/30      1.26G     0.8744      3.637        1.2         21        640:  88%|████████▊ | 388/442 [03:23<00:26"
     ]
    },
    {
     "name": "stdout",
     "output_type": "stream",
     "text": [
      "[GPU 모니터] 메모리 할당: 200.0MB, 예약: 1286.0MB\n"
     ]
    },
    {
     "name": "stderr",
     "output_type": "stream",
     "text": [
      "       1/30      1.26G     0.8693        3.6      1.195         19        640:  92%|█████████▏| 408/442 [03:33<00:17"
     ]
    },
    {
     "name": "stdout",
     "output_type": "stream",
     "text": [
      "[GPU 모니터] 메모리 할당: 190.0MB, 예약: 1286.0MB\n"
     ]
    },
    {
     "name": "stderr",
     "output_type": "stream",
     "text": [
      "       1/30      1.26G     0.8656      3.571      1.193         16        640:  97%|█████████▋| 428/442 [03:44<00:07"
     ]
    },
    {
     "name": "stdout",
     "output_type": "stream",
     "text": [
      "[GPU 모니터] 메모리 할당: 1085.2MB, 예약: 1286.0MB\n"
     ]
    },
    {
     "name": "stderr",
     "output_type": "stream",
     "text": [
      "       1/30      1.26G      0.862      3.549      1.191          4        640: 100%|██████████| 442/442 [03:51<00:00\n",
      "                 Class     Images  Instances      Box(P          R      mAP50  mAP50-95):  10%|▉         | 5/51 [00:"
     ]
    },
    {
     "name": "stdout",
     "output_type": "stream",
     "text": [
      "[GPU 모니터] 메모리 할당: 209.1MB, 예약: 1460.0MB\n"
     ]
    },
    {
     "name": "stderr",
     "output_type": "stream",
     "text": [
      "                 Class     Images  Instances      Box(P          R      mAP50  mAP50-95):  57%|█████▋    | 29/51 [00"
     ]
    },
    {
     "name": "stdout",
     "output_type": "stream",
     "text": [
      "[GPU 모니터] 메모리 할당: 238.0MB, 예약: 1460.0MB\n"
     ]
    },
    {
     "name": "stderr",
     "output_type": "stream",
     "text": [
      "                 Class     Images  Instances      Box(P          R      mAP50  mAP50-95): 100%|██████████| 51/51 [00"
     ]
    },
    {
     "name": "stdout",
     "output_type": "stream",
     "text": [
      "                   all        801        944      0.202      0.398      0.247      0.196\n"
     ]
    },
    {
     "name": "stderr",
     "output_type": "stream",
     "text": [
      "\n"
     ]
    },
    {
     "name": "stdout",
     "output_type": "stream",
     "text": [
      "[GPU 모니터] 메모리 할당: 187.8MB, 예약: 1460.0MB\n",
      "\n",
      "      Epoch    GPU_mem   box_loss   cls_loss   dfl_loss  Instances       Size\n"
     ]
    },
    {
     "name": "stderr",
     "output_type": "stream",
     "text": [
      "       2/30      1.43G     0.7549      2.889       1.09         24        640:   4%|▍         | 19/442 [00:09<03:26,"
     ]
    },
    {
     "name": "stdout",
     "output_type": "stream",
     "text": [
      "[GPU 모니터] 메모리 할당: 177.3MB, 예약: 1468.0MB\n"
     ]
    },
    {
     "name": "stderr",
     "output_type": "stream",
     "text": [
      "       2/30      1.44G     0.8196      2.833      1.108         17        640:   9%|▉         | 39/442 [00:19<03:16,"
     ]
    },
    {
     "name": "stdout",
     "output_type": "stream",
     "text": [
      "[GPU 모니터] 메모리 할당: 986.9MB, 예약: 1470.0MB\n"
     ]
    },
    {
     "name": "stderr",
     "output_type": "stream",
     "text": [
      "       2/30      1.44G     0.8102      2.845      1.104         23        640:  13%|█▎        | 58/442 [00:29<03:18,"
     ]
    },
    {
     "name": "stdout",
     "output_type": "stream",
     "text": [
      "[GPU 모니터] 메모리 할당: 215.3MB, 예약: 1470.0MB\n"
     ]
    },
    {
     "name": "stderr",
     "output_type": "stream",
     "text": [
      "       2/30      1.44G     0.8174      2.841      1.113         12        640:  18%|█▊        | 78/442 [00:39<03:01,"
     ]
    },
    {
     "name": "stdout",
     "output_type": "stream",
     "text": [
      "[GPU 모니터] 메모리 할당: 215.3MB, 예약: 1470.0MB\n"
     ]
    },
    {
     "name": "stderr",
     "output_type": "stream",
     "text": [
      "       2/30      1.44G     0.8178      2.822      1.121         18        640:  22%|██▏       | 98/442 [00:49<02:56,"
     ]
    },
    {
     "name": "stdout",
     "output_type": "stream",
     "text": [
      "[GPU 모니터] 메모리 할당: 1083.6MB, 예약: 1470.0MB\n"
     ]
    },
    {
     "name": "stderr",
     "output_type": "stream",
     "text": [
      "       2/30      1.44G     0.8119      2.803      1.119         21        640:  27%|██▋       | 118/442 [00:59<02:39"
     ]
    },
    {
     "name": "stdout",
     "output_type": "stream",
     "text": [
      "[GPU 모니터] 메모리 할당: 1124.5MB, 예약: 1470.0MB\n"
     ]
    },
    {
     "name": "stderr",
     "output_type": "stream",
     "text": [
      "       2/30      1.44G     0.7983      2.791      1.116         14        640:  31%|███       | 138/442 [01:09<02:30"
     ]
    },
    {
     "name": "stdout",
     "output_type": "stream",
     "text": [
      "[GPU 모니터] 메모리 할당: 559.8MB, 예약: 1470.0MB\n"
     ]
    },
    {
     "name": "stderr",
     "output_type": "stream",
     "text": [
      "       2/30      1.44G     0.7909       2.77      1.115         19        640:  36%|███▌      | 158/442 [01:19<02:23"
     ]
    },
    {
     "name": "stdout",
     "output_type": "stream",
     "text": [
      "[GPU 모니터] 메모리 할당: 215.3MB, 예약: 1470.0MB\n"
     ]
    },
    {
     "name": "stderr",
     "output_type": "stream",
     "text": [
      "       2/30      1.44G     0.7883      2.748       1.11         19        640:  40%|████      | 178/442 [01:29<02:13"
     ]
    },
    {
     "name": "stdout",
     "output_type": "stream",
     "text": [
      "[GPU 모니터] 메모리 할당: 727.1MB, 예약: 1470.0MB\n"
     ]
    },
    {
     "name": "stderr",
     "output_type": "stream",
     "text": [
      "       2/30      1.44G     0.7893      2.736      1.109         13        640:  45%|████▍     | 198/442 [01:39<02:01"
     ]
    },
    {
     "name": "stdout",
     "output_type": "stream",
     "text": [
      "[GPU 모니터] 메모리 할당: 215.3MB, 예약: 1470.0MB\n"
     ]
    },
    {
     "name": "stderr",
     "output_type": "stream",
     "text": [
      "       2/30      1.44G     0.7894      2.731       1.11         16        640:  49%|████▉     | 218/442 [01:49<01:53"
     ]
    },
    {
     "name": "stdout",
     "output_type": "stream",
     "text": [
      "[GPU 모니터] 메모리 할당: 907.2MB, 예약: 1470.0MB\n"
     ]
    },
    {
     "name": "stderr",
     "output_type": "stream",
     "text": [
      "       2/30      1.44G     0.7888      2.716      1.107         24        640:  54%|█████▍    | 238/442 [01:59<01:48"
     ]
    },
    {
     "name": "stdout",
     "output_type": "stream",
     "text": [
      "[GPU 모니터] 메모리 할당: 1125.2MB, 예약: 1470.0MB\n"
     ]
    },
    {
     "name": "stderr",
     "output_type": "stream",
     "text": [
      "       2/30      1.44G     0.7895      2.701      1.109         16        640:  58%|█████▊    | 257/442 [02:09<01:34"
     ]
    },
    {
     "name": "stdout",
     "output_type": "stream",
     "text": [
      "[GPU 모니터] 메모리 할당: 1066.5MB, 예약: 1470.0MB\n"
     ]
    },
    {
     "name": "stderr",
     "output_type": "stream",
     "text": [
      "       2/30      1.44G     0.7886      2.684      1.111         20        640:  62%|██████▏   | 276/442 [02:19<01:23"
     ]
    },
    {
     "name": "stdout",
     "output_type": "stream",
     "text": [
      "[GPU 모니터] 메모리 할당: 215.3MB, 예약: 1470.0MB\n"
     ]
    },
    {
     "name": "stderr",
     "output_type": "stream",
     "text": [
      "       2/30      1.44G     0.7925      2.674      1.113         22        640:  67%|██████▋   | 296/442 [02:29<01:14"
     ]
    },
    {
     "name": "stdout",
     "output_type": "stream",
     "text": [
      "[GPU 모니터] 메모리 할당: 215.3MB, 예약: 1470.0MB\n"
     ]
    },
    {
     "name": "stderr",
     "output_type": "stream",
     "text": [
      "       2/30      1.44G     0.7911      2.663      1.114         17        640:  71%|███████▏  | 316/442 [02:39<01:03"
     ]
    },
    {
     "name": "stdout",
     "output_type": "stream",
     "text": [
      "[GPU 모니터] 메모리 할당: 215.3MB, 예약: 1470.0MB\n"
     ]
    },
    {
     "name": "stderr",
     "output_type": "stream",
     "text": [
      "       2/30      1.44G     0.7919      2.656      1.113         10        640:  76%|███████▌  | 336/442 [02:49<00:54"
     ]
    },
    {
     "name": "stdout",
     "output_type": "stream",
     "text": [
      "[GPU 모니터] 메모리 할당: 215.3MB, 예약: 1470.0MB\n"
     ]
    },
    {
     "name": "stderr",
     "output_type": "stream",
     "text": [
      "       2/30      1.44G     0.7929      2.662      1.113         12        640:  81%|████████  | 356/442 [02:59<00:41"
     ]
    },
    {
     "name": "stdout",
     "output_type": "stream",
     "text": [
      "[GPU 모니터] 메모리 할당: 215.3MB, 예약: 1470.0MB\n"
     ]
    },
    {
     "name": "stderr",
     "output_type": "stream",
     "text": [
      "       2/30      1.44G     0.7963      2.657      1.113         19        640:  85%|████████▌ | 377/442 [03:09<00:32"
     ]
    },
    {
     "name": "stdout",
     "output_type": "stream",
     "text": [
      "[GPU 모니터] 메모리 할당: 986.9MB, 예약: 1470.0MB\n"
     ]
    },
    {
     "name": "stderr",
     "output_type": "stream",
     "text": [
      "       2/30      1.44G     0.7964       2.65      1.114         14        640:  90%|████████▉ | 397/442 [03:19<00:22"
     ]
    },
    {
     "name": "stdout",
     "output_type": "stream",
     "text": [
      "[GPU 모니터] 메모리 할당: 177.3MB, 예약: 1470.0MB\n"
     ]
    },
    {
     "name": "stderr",
     "output_type": "stream",
     "text": [
      "       2/30      1.44G     0.7952      2.636      1.113         21        640:  94%|█████████▍| 417/442 [03:29<00:12"
     ]
    },
    {
     "name": "stdout",
     "output_type": "stream",
     "text": [
      "[GPU 모니터] 메모리 할당: 177.3MB, 예약: 1470.0MB\n"
     ]
    },
    {
     "name": "stderr",
     "output_type": "stream",
     "text": [
      "       2/30      1.44G      0.798      2.625      1.113         11        640:  99%|█████████▉| 437/442 [03:39<00:02"
     ]
    },
    {
     "name": "stdout",
     "output_type": "stream",
     "text": [
      "[GPU 모니터] 메모리 할당: 177.3MB, 예약: 1470.0MB\n"
     ]
    },
    {
     "name": "stderr",
     "output_type": "stream",
     "text": [
      "       2/30      1.45G     0.7975      2.622      1.114          2        640: 100%|██████████| 442/442 [03:41<00:00\n",
      "                 Class     Images  Instances      Box(P          R      mAP50  mAP50-95):  35%|███▌      | 18/51 [00"
     ]
    },
    {
     "name": "stdout",
     "output_type": "stream",
     "text": [
      "[GPU 모니터] 메모리 할당: 224.0MB, 예약: 1484.0MB\n"
     ]
    },
    {
     "name": "stderr",
     "output_type": "stream",
     "text": [
      "                 Class     Images  Instances      Box(P          R      mAP50  mAP50-95):  80%|████████  | 41/51 [00"
     ]
    },
    {
     "name": "stdout",
     "output_type": "stream",
     "text": [
      "[GPU 모니터] 메모리 할당: 224.0MB, 예약: 1484.0MB\n"
     ]
    },
    {
     "name": "stderr",
     "output_type": "stream",
     "text": [
      "                 Class     Images  Instances      Box(P          R      mAP50  mAP50-95): 100%|██████████| 51/51 [00\n"
     ]
    },
    {
     "name": "stdout",
     "output_type": "stream",
     "text": [
      "                   all        801        944      0.331      0.462      0.376      0.297\n",
      "\n",
      "      Epoch    GPU_mem   box_loss   cls_loss   dfl_loss  Instances       Size\n"
     ]
    },
    {
     "name": "stderr",
     "output_type": "stream",
     "text": [
      "       3/30      1.45G     0.6579      2.272      1.088         15        640:   2%|▏         | 10/442 [00:04<03:35,"
     ]
    },
    {
     "name": "stdout",
     "output_type": "stream",
     "text": [
      "[GPU 모니터] 메모리 할당: 220.4MB, 예약: 1484.0MB\n"
     ]
    },
    {
     "name": "stderr",
     "output_type": "stream",
     "text": [
      "       3/30      1.45G     0.7275      2.398      1.113         22        640:   7%|▋         | 30/442 [00:14<03:26,"
     ]
    },
    {
     "name": "stdout",
     "output_type": "stream",
     "text": [
      "[GPU 모니터] 메모리 할당: 230.5MB, 예약: 1484.0MB\n"
     ]
    },
    {
     "name": "stderr",
     "output_type": "stream",
     "text": [
      "       3/30      1.45G     0.7613      2.411      1.121         23        640:  12%|█▏        | 51/442 [00:25<03:13,"
     ]
    },
    {
     "name": "stdout",
     "output_type": "stream",
     "text": [
      "[GPU 모니터] 메모리 할당: 1024.2MB, 예약: 1484.0MB\n"
     ]
    },
    {
     "name": "stderr",
     "output_type": "stream",
     "text": [
      "       3/30      1.45G     0.7845      2.439      1.121         18        640:  16%|█▌        | 70/442 [00:34<03:09,"
     ]
    },
    {
     "name": "stdout",
     "output_type": "stream",
     "text": [
      "[GPU 모니터] 메모리 할당: 220.4MB, 예약: 1484.0MB\n"
     ]
    },
    {
     "name": "stderr",
     "output_type": "stream",
     "text": [
      "       3/30      1.45G     0.7781      2.394      1.118         20        640:  21%|██        | 91/442 [00:45<02:52,"
     ]
    },
    {
     "name": "stdout",
     "output_type": "stream",
     "text": [
      "[GPU 모니터] 메모리 할당: 840.6MB, 예약: 1484.0MB\n"
     ]
    },
    {
     "name": "stderr",
     "output_type": "stream",
     "text": [
      "       3/30      1.45G     0.7853      2.353      1.116         24        640:  25%|██▌       | 111/442 [00:55<02:47"
     ]
    },
    {
     "name": "stdout",
     "output_type": "stream",
     "text": [
      "[GPU 모니터] 메모리 할당: 895.2MB, 예약: 1484.0MB\n"
     ]
    },
    {
     "name": "stderr",
     "output_type": "stream",
     "text": [
      "       3/30      1.45G     0.7839      2.325      1.117         14        640:  30%|██▉       | 131/442 [01:05<02:33"
     ]
    },
    {
     "name": "stdout",
     "output_type": "stream",
     "text": [
      "[GPU 모니터] 메모리 할당: 192.5MB, 예약: 1484.0MB\n"
     ]
    },
    {
     "name": "stderr",
     "output_type": "stream",
     "text": [
      "       3/30      1.45G     0.7923      2.307      1.117         25        640:  34%|███▍      | 151/442 [01:14<02:22"
     ]
    },
    {
     "name": "stdout",
     "output_type": "stream",
     "text": [
      "[GPU 모니터] 메모리 할당: 192.5MB, 예약: 1484.0MB\n"
     ]
    },
    {
     "name": "stderr",
     "output_type": "stream",
     "text": [
      "       3/30      1.45G     0.7876      2.296      1.113         25        640:  39%|███▊      | 171/442 [01:24<02:11"
     ]
    },
    {
     "name": "stdout",
     "output_type": "stream",
     "text": [
      "[GPU 모니터] 메모리 할당: 192.5MB, 예약: 1484.0MB\n"
     ]
    },
    {
     "name": "stderr",
     "output_type": "stream",
     "text": [
      "       3/30      1.45G     0.7873      2.305      1.118         19        640:  43%|████▎     | 191/442 [01:34<02:06"
     ]
    },
    {
     "name": "stdout",
     "output_type": "stream",
     "text": [
      "[GPU 모니터] 메모리 할당: 192.5MB, 예약: 1484.0MB\n"
     ]
    },
    {
     "name": "stderr",
     "output_type": "stream",
     "text": [
      "       3/30      1.45G     0.7851      2.299      1.115         20        640:  48%|████▊     | 211/442 [01:44<01:55"
     ]
    },
    {
     "name": "stdout",
     "output_type": "stream",
     "text": [
      "[GPU 모니터] 메모리 할당: 192.5MB, 예약: 1484.0MB\n"
     ]
    },
    {
     "name": "stderr",
     "output_type": "stream",
     "text": [
      "       3/30      1.45G     0.7897      2.297      1.113         18        640:  52%|█████▏    | 231/442 [01:54<01:47"
     ]
    },
    {
     "name": "stdout",
     "output_type": "stream",
     "text": [
      "[GPU 모니터] 메모리 할당: 182.4MB, 예약: 1484.0MB\n"
     ]
    },
    {
     "name": "stderr",
     "output_type": "stream",
     "text": [
      "       3/30      1.45G     0.7956      2.298      1.116         17        640:  57%|█████▋    | 251/442 [02:04<01:34"
     ]
    },
    {
     "name": "stdout",
     "output_type": "stream",
     "text": [
      "[GPU 모니터] 메모리 할당: 192.5MB, 예약: 1484.0MB\n"
     ]
    },
    {
     "name": "stderr",
     "output_type": "stream",
     "text": [
      "       3/30      1.45G     0.7938      2.293      1.116         14        640:  61%|██████▏   | 271/442 [02:14<01:22"
     ]
    },
    {
     "name": "stdout",
     "output_type": "stream",
     "text": [
      "[GPU 모니터] 메모리 할당: 192.5MB, 예약: 1484.0MB\n"
     ]
    },
    {
     "name": "stderr",
     "output_type": "stream",
     "text": [
      "       3/30      1.45G     0.7967      2.288      1.113         22        640:  66%|██████▌   | 291/442 [02:25<01:16"
     ]
    },
    {
     "name": "stdout",
     "output_type": "stream",
     "text": [
      "[GPU 모니터] 메모리 할당: 192.5MB, 예약: 1484.0MB\n"
     ]
    },
    {
     "name": "stderr",
     "output_type": "stream",
     "text": [
      "       3/30      1.45G     0.7954      2.287      1.113         15        640:  70%|███████   | 311/442 [02:35<01:05"
     ]
    },
    {
     "name": "stdout",
     "output_type": "stream",
     "text": [
      "[GPU 모니터] 메모리 할당: 614.9MB, 예약: 1484.0MB\n"
     ]
    },
    {
     "name": "stderr",
     "output_type": "stream",
     "text": [
      "       3/30      1.45G     0.7958      2.287      1.113         23        640:  75%|███████▍  | 330/442 [02:44<00:58"
     ]
    },
    {
     "name": "stdout",
     "output_type": "stream",
     "text": [
      "[GPU 모니터] 메모리 할당: 859.5MB, 예약: 1484.0MB\n"
     ]
    },
    {
     "name": "stderr",
     "output_type": "stream",
     "text": [
      "       3/30      1.45G     0.7934      2.279      1.111         16        640:  79%|███████▉  | 350/442 [02:54<00:45"
     ]
    },
    {
     "name": "stdout",
     "output_type": "stream",
     "text": [
      "[GPU 모니터] 메모리 할당: 230.5MB, 예약: 1484.0MB\n"
     ]
    },
    {
     "name": "stderr",
     "output_type": "stream",
     "text": [
      "       3/30      1.45G     0.7943      2.269      1.111         23        640:  84%|████████▎ | 370/442 [03:04<00:36"
     ]
    },
    {
     "name": "stdout",
     "output_type": "stream",
     "text": [
      "[GPU 모니터] 메모리 할당: 230.5MB, 예약: 1484.0MB\n"
     ]
    },
    {
     "name": "stderr",
     "output_type": "stream",
     "text": [
      "       3/30      1.45G     0.7887      2.255      1.109         15        640:  88%|████████▊ | 390/442 [03:14<00:25"
     ]
    },
    {
     "name": "stdout",
     "output_type": "stream",
     "text": [
      "[GPU 모니터] 메모리 할당: 230.5MB, 예약: 1484.0MB\n"
     ]
    },
    {
     "name": "stderr",
     "output_type": "stream",
     "text": [
      "       3/30      1.45G      0.786       2.25       1.11         22        640:  93%|█████████▎| 410/442 [03:24<00:15"
     ]
    },
    {
     "name": "stdout",
     "output_type": "stream",
     "text": [
      "[GPU 모니터] 메모리 할당: 230.5MB, 예약: 1484.0MB\n"
     ]
    },
    {
     "name": "stderr",
     "output_type": "stream",
     "text": [
      "       3/30      1.45G     0.7835      2.244      1.108         11        640:  97%|█████████▋| 430/442 [03:34<00:05"
     ]
    },
    {
     "name": "stdout",
     "output_type": "stream",
     "text": [
      "[GPU 모니터] 메모리 할당: 600.8MB, 예약: 1484.0MB\n"
     ]
    },
    {
     "name": "stderr",
     "output_type": "stream",
     "text": [
      "       3/30      1.46G     0.7815      2.239      1.106          2        640: 100%|██████████| 442/442 [03:40<00:00\n",
      "                 Class     Images  Instances      Box(P          R      mAP50  mAP50-95):  20%|█▉        | 10/51 [00"
     ]
    },
    {
     "name": "stdout",
     "output_type": "stream",
     "text": [
      "[GPU 모니터] 메모리 할당: 239.1MB, 예약: 1500.0MB\n"
     ]
    },
    {
     "name": "stderr",
     "output_type": "stream",
     "text": [
      "                 Class     Images  Instances      Box(P          R      mAP50  mAP50-95):  65%|██████▍   | 33/51 [00"
     ]
    },
    {
     "name": "stdout",
     "output_type": "stream",
     "text": [
      "[GPU 모니터] 메모리 할당: 239.1MB, 예약: 1500.0MB\n"
     ]
    },
    {
     "name": "stderr",
     "output_type": "stream",
     "text": [
      "                 Class     Images  Instances      Box(P          R      mAP50  mAP50-95): 100%|██████████| 51/51 [00\n"
     ]
    },
    {
     "name": "stdout",
     "output_type": "stream",
     "text": [
      "                   all        801        944      0.545      0.535      0.514      0.423\n",
      "\n",
      "      Epoch    GPU_mem   box_loss   cls_loss   dfl_loss  Instances       Size\n"
     ]
    },
    {
     "name": "stderr",
     "output_type": "stream",
     "text": [
      "       4/30      1.46G     0.6346       1.83      1.047         18        640:   1%|          | 3/442 [00:01<03:40, "
     ]
    },
    {
     "name": "stdout",
     "output_type": "stream",
     "text": [
      "[GPU 모니터] 메모리 할당: 207.7MB, 예약: 1500.0MB\n"
     ]
    },
    {
     "name": "stderr",
     "output_type": "stream",
     "text": [
      "       4/30      1.46G     0.7285      2.068      1.095         21        640:   5%|▌         | 23/442 [00:11<03:36,"
     ]
    },
    {
     "name": "stdout",
     "output_type": "stream",
     "text": [
      "[GPU 모니터] 메모리 할당: 207.7MB, 예약: 1500.0MB\n"
     ]
    },
    {
     "name": "stderr",
     "output_type": "stream",
     "text": [
      "       4/30      1.46G     0.7569      2.034       1.12         16        640:  10%|▉         | 43/442 [00:21<03:16,"
     ]
    },
    {
     "name": "stdout",
     "output_type": "stream",
     "text": [
      "[GPU 모니터] 메모리 할당: 207.7MB, 예약: 1500.0MB\n"
     ]
    },
    {
     "name": "stderr",
     "output_type": "stream",
     "text": [
      "       4/30      1.46G     0.7465       2.03      1.104         23        640:  14%|█▍        | 63/442 [00:31<03:13,"
     ]
    },
    {
     "name": "stdout",
     "output_type": "stream",
     "text": [
      "[GPU 모니터] 메모리 할당: 207.7MB, 예약: 1500.0MB\n"
     ]
    },
    {
     "name": "stderr",
     "output_type": "stream",
     "text": [
      "       4/30      1.46G      0.745      2.029      1.108         12        640:  19%|█▉        | 83/442 [00:41<02:55,"
     ]
    },
    {
     "name": "stdout",
     "output_type": "stream",
     "text": [
      "[GPU 모니터] 메모리 할당: 207.7MB, 예약: 1500.0MB\n"
     ]
    },
    {
     "name": "stderr",
     "output_type": "stream",
     "text": [
      "       4/30      1.46G     0.7528      2.019      1.111         17        640:  24%|██▎       | 104/442 [00:51<02:41"
     ]
    },
    {
     "name": "stdout",
     "output_type": "stream",
     "text": [
      "[GPU 모니터] 메모리 할당: 763.0MB, 예약: 1500.0MB\n"
     ]
    },
    {
     "name": "stderr",
     "output_type": "stream",
     "text": [
      "       4/30      1.46G     0.7498      2.025      1.109         13        640:  28%|██▊       | 124/442 [01:01<02:38"
     ]
    },
    {
     "name": "stdout",
     "output_type": "stream",
     "text": [
      "[GPU 모니터] 메모리 할당: 245.7MB, 예약: 1500.0MB\n"
     ]
    },
    {
     "name": "stderr",
     "output_type": "stream",
     "text": [
      "       4/30      1.46G     0.7496      2.028      1.105         16        640:  33%|███▎      | 144/442 [01:11<02:28"
     ]
    },
    {
     "name": "stdout",
     "output_type": "stream",
     "text": [
      "[GPU 모니터] 메모리 할당: 245.7MB, 예약: 1500.0MB\n"
     ]
    },
    {
     "name": "stderr",
     "output_type": "stream",
     "text": [
      "       4/30      1.46G     0.7447      2.019      1.101         14        640:  37%|███▋      | 164/442 [01:21<02:18"
     ]
    },
    {
     "name": "stdout",
     "output_type": "stream",
     "text": [
      "[GPU 모니터] 메모리 할당: 245.7MB, 예약: 1500.0MB\n"
     ]
    },
    {
     "name": "stderr",
     "output_type": "stream",
     "text": [
      "       4/30      1.46G     0.7403      2.007      1.099         15        640:  42%|████▏     | 184/442 [01:31<02:05"
     ]
    },
    {
     "name": "stdout",
     "output_type": "stream",
     "text": [
      "[GPU 모니터] 메모리 할당: 245.7MB, 예약: 1500.0MB\n"
     ]
    },
    {
     "name": "stderr",
     "output_type": "stream",
     "text": [
      "       4/30      1.46G     0.7445      2.001      1.098         16        640:  46%|████▌     | 204/442 [01:41<01:59"
     ]
    },
    {
     "name": "stdout",
     "output_type": "stream",
     "text": [
      "[GPU 모니터] 메모리 할당: 245.7MB, 예약: 1500.0MB\n"
     ]
    },
    {
     "name": "stderr",
     "output_type": "stream",
     "text": [
      "       4/30      1.46G     0.7493      2.004      1.096         15        640:  51%|█████     | 224/442 [01:51<01:49"
     ]
    },
    {
     "name": "stdout",
     "output_type": "stream",
     "text": [
      "[GPU 모니터] 메모리 할당: 748.8MB, 예약: 1500.0MB\n"
     ]
    },
    {
     "name": "stderr",
     "output_type": "stream",
     "text": [
      "       4/30      1.46G     0.7448      1.992      1.095         13        640:  55%|█████▌    | 244/442 [02:01<01:35"
     ]
    },
    {
     "name": "stdout",
     "output_type": "stream",
     "text": [
      "[GPU 모니터] 메모리 할당: 245.7MB, 예약: 1500.0MB\n"
     ]
    },
    {
     "name": "stderr",
     "output_type": "stream",
     "text": [
      "       4/30      1.46G     0.7426       1.99      1.093         19        640:  60%|█████▉    | 264/442 [02:11<01:26"
     ]
    },
    {
     "name": "stdout",
     "output_type": "stream",
     "text": [
      "[GPU 모니터] 메모리 할당: 245.7MB, 예약: 1500.0MB\n"
     ]
    },
    {
     "name": "stderr",
     "output_type": "stream",
     "text": [
      "       4/30      1.46G     0.7447      1.986      1.092         19        640:  64%|██████▍   | 284/442 [02:21<01:16"
     ]
    },
    {
     "name": "stdout",
     "output_type": "stream",
     "text": [
      "[GPU 모니터] 메모리 할당: 245.7MB, 예약: 1500.0MB\n"
     ]
    },
    {
     "name": "stderr",
     "output_type": "stream",
     "text": [
      "       4/30      1.46G      0.743      1.976      1.089         16        640:  69%|██████▉   | 304/442 [02:31<01:08"
     ]
    },
    {
     "name": "stdout",
     "output_type": "stream",
     "text": [
      "[GPU 모니터] 메모리 할당: 925.2MB, 예약: 1500.0MB\n"
     ]
    },
    {
     "name": "stderr",
     "output_type": "stream",
     "text": [
      "       4/30      1.46G     0.7445      1.971      1.089         16        640:  73%|███████▎  | 324/442 [02:41<00:59"
     ]
    },
    {
     "name": "stdout",
     "output_type": "stream",
     "text": [
      "[GPU 모니터] 메모리 할당: 785.6MB, 예약: 1500.0MB\n"
     ]
    },
    {
     "name": "stderr",
     "output_type": "stream",
     "text": [
      "       4/30      1.46G     0.7458      1.964      1.088         20        640:  78%|███████▊  | 344/442 [02:51<00:48"
     ]
    },
    {
     "name": "stdout",
     "output_type": "stream",
     "text": [
      "[GPU 모니터] 메모리 할당: 245.7MB, 예약: 1500.0MB\n"
     ]
    },
    {
     "name": "stderr",
     "output_type": "stream",
     "text": [
      "       4/30      1.46G     0.7443      1.961      1.086         15        640:  83%|████████▎ | 365/442 [03:01<00:38"
     ]
    },
    {
     "name": "stdout",
     "output_type": "stream",
     "text": [
      "[GPU 모니터] 메모리 할당: 197.6MB, 예약: 1500.0MB\n"
     ]
    },
    {
     "name": "stderr",
     "output_type": "stream",
     "text": [
      "       4/30      1.46G     0.7465      1.954      1.087         22        640:  87%|████████▋ | 385/442 [03:11<00:27"
     ]
    },
    {
     "name": "stdout",
     "output_type": "stream",
     "text": [
      "[GPU 모니터] 메모리 할당: 207.7MB, 예약: 1500.0MB\n"
     ]
    },
    {
     "name": "stderr",
     "output_type": "stream",
     "text": [
      "       4/30      1.46G     0.7466      1.948      1.085         16        640:  92%|█████████▏| 405/442 [03:21<00:18"
     ]
    },
    {
     "name": "stdout",
     "output_type": "stream",
     "text": [
      "[GPU 모니터] 메모리 할당: 197.6MB, 예약: 1500.0MB\n"
     ]
    },
    {
     "name": "stderr",
     "output_type": "stream",
     "text": [
      "       4/30      1.46G     0.7472      1.946      1.084         18        640:  96%|█████████▌| 425/442 [03:32<00:08"
     ]
    },
    {
     "name": "stdout",
     "output_type": "stream",
     "text": [
      "[GPU 모니터] 메모리 할당: 741.2MB, 예약: 1500.0MB\n"
     ]
    },
    {
     "name": "stderr",
     "output_type": "stream",
     "text": [
      "       4/30      1.48G     0.7461      1.938      1.084          5        640: 100%|██████████| 442/442 [03:39<00:00\n",
      "                 Class     Images  Instances      Box(P          R      mAP50  mAP50-95):  10%|▉         | 5/51 [00:"
     ]
    },
    {
     "name": "stdout",
     "output_type": "stream",
     "text": [
      "[GPU 모니터] 메모리 할당: 284.4MB, 예약: 1514.0MB\n"
     ]
    },
    {
     "name": "stderr",
     "output_type": "stream",
     "text": [
      "                 Class     Images  Instances      Box(P          R      mAP50  mAP50-95):  55%|█████▍    | 28/51 [00"
     ]
    },
    {
     "name": "stdout",
     "output_type": "stream",
     "text": [
      "[GPU 모니터] 메모리 할당: 254.3MB, 예약: 1514.0MB\n"
     ]
    },
    {
     "name": "stderr",
     "output_type": "stream",
     "text": [
      "                 Class     Images  Instances      Box(P          R      mAP50  mAP50-95): 100%|██████████| 51/51 [00\n"
     ]
    },
    {
     "name": "stdout",
     "output_type": "stream",
     "text": [
      "                   all        801        944      0.601      0.562      0.585      0.477\n",
      "[GPU 모니터] 메모리 할당: 223.2MB, 예약: 1514.0MB\n",
      "\n",
      "      Epoch    GPU_mem   box_loss   cls_loss   dfl_loss  Instances       Size\n"
     ]
    },
    {
     "name": "stderr",
     "output_type": "stream",
     "text": [
      "       5/30      1.48G     0.7121      1.765      1.066         20        640:   4%|▍         | 19/442 [00:09<03:32,"
     ]
    },
    {
     "name": "stdout",
     "output_type": "stream",
     "text": [
      "[GPU 모니터] 메모리 할당: 227.1MB, 예약: 1514.0MB\n"
     ]
    },
    {
     "name": "stderr",
     "output_type": "stream",
     "text": [
      "       5/30      1.48G     0.7409      1.743       1.08         16        640:   9%|▉         | 39/442 [00:19<03:25,"
     ]
    },
    {
     "name": "stdout",
     "output_type": "stream",
     "text": [
      "[GPU 모니터] 메모리 할당: 1120.1MB, 예약: 1514.0MB\n"
     ]
    },
    {
     "name": "stderr",
     "output_type": "stream",
     "text": [
      "       5/30      1.48G     0.7191      1.733      1.077         13        640:  13%|█▎        | 59/442 [00:29<03:17,"
     ]
    },
    {
     "name": "stdout",
     "output_type": "stream",
     "text": [
      "[GPU 모니터] 메모리 할당: 754.1MB, 예약: 1516.0MB\n"
     ]
    },
    {
     "name": "stderr",
     "output_type": "stream",
     "text": [
      "       5/30      1.48G     0.7301      1.729      1.077         19        640:  18%|█▊        | 79/442 [00:39<03:02,"
     ]
    },
    {
     "name": "stdout",
     "output_type": "stream",
     "text": [
      "[GPU 모니터] 메모리 할당: 1108.0MB, 예약: 1516.0MB\n"
     ]
    },
    {
     "name": "stderr",
     "output_type": "stream",
     "text": [
      "       5/30      1.48G     0.7186      1.707      1.071         23        640:  22%|██▏       | 99/442 [00:49<02:53,"
     ]
    },
    {
     "name": "stdout",
     "output_type": "stream",
     "text": [
      "[GPU 모니터] 메모리 할당: 212.8MB, 예약: 1516.0MB\n"
     ]
    },
    {
     "name": "stderr",
     "output_type": "stream",
     "text": [
      "       5/30      1.48G     0.7255      1.703      1.076         14        640:  27%|██▋       | 119/442 [00:59<02:40"
     ]
    },
    {
     "name": "stdout",
     "output_type": "stream",
     "text": [
      "[GPU 모니터] 메모리 할당: 222.8MB, 예약: 1516.0MB\n"
     ]
    },
    {
     "name": "stderr",
     "output_type": "stream",
     "text": [
      "       5/30      1.48G     0.7247      1.694      1.078         17        640:  31%|███▏      | 139/442 [01:09<02:38"
     ]
    },
    {
     "name": "stdout",
     "output_type": "stream",
     "text": [
      "[GPU 모니터] 메모리 할당: 212.8MB, 예약: 1516.0MB\n"
     ]
    },
    {
     "name": "stderr",
     "output_type": "stream",
     "text": [
      "       5/30      1.48G     0.7272      1.686      1.082         23        640:  36%|███▌      | 159/442 [01:19<02:19"
     ]
    },
    {
     "name": "stdout",
     "output_type": "stream",
     "text": [
      "[GPU 모니터] 메모리 할당: 222.8MB, 예약: 1516.0MB\n"
     ]
    },
    {
     "name": "stderr",
     "output_type": "stream",
     "text": [
      "       5/30      1.48G      0.727      1.684      1.078         25        640:  40%|████      | 179/442 [01:29<02:15"
     ]
    },
    {
     "name": "stdout",
     "output_type": "stream",
     "text": [
      "[GPU 모니터] 메모리 할당: 212.8MB, 예약: 1516.0MB\n"
     ]
    },
    {
     "name": "stderr",
     "output_type": "stream",
     "text": [
      "       5/30      1.48G       0.73      1.689       1.08         21        640:  45%|████▌     | 200/442 [01:39<01:58"
     ]
    },
    {
     "name": "stdout",
     "output_type": "stream",
     "text": [
      "[GPU 모니터] 메모리 할당: 1170.8MB, 예약: 1516.0MB\n"
     ]
    },
    {
     "name": "stderr",
     "output_type": "stream",
     "text": [
      "       5/30      1.48G     0.7271      1.695       1.08         17        640:  50%|████▉     | 219/442 [01:49<01:56"
     ]
    },
    {
     "name": "stdout",
     "output_type": "stream",
     "text": [
      "[GPU 모니터] 메모리 할당: 629.1MB, 예약: 1516.0MB\n"
     ]
    },
    {
     "name": "stderr",
     "output_type": "stream",
     "text": [
      "       5/30      1.48G     0.7315      1.698      1.078         17        640:  54%|█████▍    | 239/442 [01:59<01:40"
     ]
    },
    {
     "name": "stdout",
     "output_type": "stream",
     "text": [
      "[GPU 모니터] 메모리 할당: 222.8MB, 예약: 1516.0MB\n"
     ]
    },
    {
     "name": "stderr",
     "output_type": "stream",
     "text": [
      "       5/30      1.48G     0.7334      1.715      1.078         18        640:  59%|█████▊    | 259/442 [02:09<01:34"
     ]
    },
    {
     "name": "stdout",
     "output_type": "stream",
     "text": [
      "[GPU 모니터] 메모리 할당: 212.8MB, 예약: 1516.0MB\n"
     ]
    },
    {
     "name": "stderr",
     "output_type": "stream",
     "text": [
      "       5/30      1.48G     0.7315      1.714      1.076          9        640:  63%|██████▎   | 280/442 [02:19<01:17"
     ]
    },
    {
     "name": "stdout",
     "output_type": "stream",
     "text": [
      "[GPU 모니터] 메모리 할당: 1146.0MB, 예약: 1516.0MB\n"
     ]
    },
    {
     "name": "stderr",
     "output_type": "stream",
     "text": [
      "       5/30      1.48G     0.7329      1.719      1.078         16        640:  68%|██████▊   | 300/442 [02:29<01:07"
     ]
    },
    {
     "name": "stdout",
     "output_type": "stream",
     "text": [
      "[GPU 모니터] 메모리 할당: 260.8MB, 예약: 1516.0MB\n"
     ]
    },
    {
     "name": "stderr",
     "output_type": "stream",
     "text": [
      "       5/30      1.48G     0.7323      1.715      1.079         22        640:  73%|███████▎  | 321/442 [02:39<00:57"
     ]
    },
    {
     "name": "stdout",
     "output_type": "stream",
     "text": [
      "[GPU 모니터] 메모리 할당: 1108.0MB, 예약: 1516.0MB\n"
     ]
    },
    {
     "name": "stderr",
     "output_type": "stream",
     "text": [
      "       5/30      1.48G     0.7332      1.711      1.074         25        640:  77%|███████▋  | 341/442 [02:49<00:50"
     ]
    },
    {
     "name": "stdout",
     "output_type": "stream",
     "text": [
      "[GPU 모니터] 메모리 할당: 222.8MB, 예약: 1516.0MB\n"
     ]
    },
    {
     "name": "stderr",
     "output_type": "stream",
     "text": [
      "       5/30      1.48G     0.7299      1.712      1.072         10        640:  82%|████████▏ | 361/442 [02:59<00:40"
     ]
    },
    {
     "name": "stdout",
     "output_type": "stream",
     "text": [
      "[GPU 모니터] 메모리 할당: 222.8MB, 예약: 1516.0MB\n"
     ]
    },
    {
     "name": "stderr",
     "output_type": "stream",
     "text": [
      "       5/30      1.48G     0.7334      1.709      1.072         14        640:  86%|████████▋ | 382/442 [03:09<00:28"
     ]
    },
    {
     "name": "stdout",
     "output_type": "stream",
     "text": [
      "[GPU 모니터] 메모리 할당: 260.8MB, 예약: 1516.0MB\n"
     ]
    },
    {
     "name": "stderr",
     "output_type": "stream",
     "text": [
      "       5/30      1.48G     0.7316      1.699      1.072         22        640:  91%|█████████ | 402/442 [03:19<00:19"
     ]
    },
    {
     "name": "stdout",
     "output_type": "stream",
     "text": [
      "[GPU 모니터] 메모리 할당: 260.8MB, 예약: 1516.0MB\n"
     ]
    },
    {
     "name": "stderr",
     "output_type": "stream",
     "text": [
      "       5/30      1.48G     0.7299      1.698      1.071         13        640:  96%|█████████▌| 423/442 [03:29<00:09"
     ]
    },
    {
     "name": "stdout",
     "output_type": "stream",
     "text": [
      "[GPU 모니터] 메모리 할당: 930.6MB, 예약: 1516.0MB\n"
     ]
    },
    {
     "name": "stderr",
     "output_type": "stream",
     "text": [
      "       5/30      1.49G     0.7282      1.698      1.071          5        640: 100%|██████████| 442/442 [03:38<00:00\n",
      "                 Class     Images  Instances      Box(P          R      mAP50  mAP50-95):   4%|▍         | 2/51 [00:"
     ]
    },
    {
     "name": "stdout",
     "output_type": "stream",
     "text": [
      "[GPU 모니터] 메모리 할당: 299.5MB, 예약: 1530.0MB\n"
     ]
    },
    {
     "name": "stderr",
     "output_type": "stream",
     "text": [
      "                 Class     Images  Instances      Box(P          R      mAP50  mAP50-95):  49%|████▉     | 25/51 [00"
     ]
    },
    {
     "name": "stdout",
     "output_type": "stream",
     "text": [
      "[GPU 모니터] 메모리 할당: 269.5MB, 예약: 1530.0MB\n"
     ]
    },
    {
     "name": "stderr",
     "output_type": "stream",
     "text": [
      "                 Class     Images  Instances      Box(P          R      mAP50  mAP50-95):  94%|█████████▍| 48/51 [00"
     ]
    },
    {
     "name": "stdout",
     "output_type": "stream",
     "text": [
      "[GPU 모니터] 메모리 할당: 269.5MB, 예약: 1530.0MB\n"
     ]
    },
    {
     "name": "stderr",
     "output_type": "stream",
     "text": [
      "                 Class     Images  Instances      Box(P          R      mAP50  mAP50-95): 100%|██████████| 51/51 [00"
     ]
    },
    {
     "name": "stdout",
     "output_type": "stream",
     "text": [
      "                   all        801        944      0.647      0.579      0.668       0.55\n"
     ]
    },
    {
     "name": "stderr",
     "output_type": "stream",
     "text": [
      "\n"
     ]
    },
    {
     "name": "stdout",
     "output_type": "stream",
     "text": [
      "\n",
      "      Epoch    GPU_mem   box_loss   cls_loss   dfl_loss  Instances       Size\n"
     ]
    },
    {
     "name": "stderr",
     "output_type": "stream",
     "text": [
      "       6/30      1.49G     0.6731       1.57      1.064         10        640:   4%|▎         | 16/442 [00:08<03:30,"
     ]
    },
    {
     "name": "stdout",
     "output_type": "stream",
     "text": [
      "[GPU 모니터] 메모리 할당: 276.0MB, 예약: 1530.0MB\n"
     ]
    },
    {
     "name": "stderr",
     "output_type": "stream",
     "text": [
      "       6/30      1.49G      0.643       1.57       1.04         14        640:   8%|▊         | 36/442 [00:17<03:16,"
     ]
    },
    {
     "name": "stdout",
     "output_type": "stream",
     "text": [
      "[GPU 모니터] 메모리 할당: 276.0MB, 예약: 1530.0MB\n"
     ]
    },
    {
     "name": "stderr",
     "output_type": "stream",
     "text": [
      "       6/30      1.49G     0.6531      1.555      1.031         19        640:  13%|█▎        | 56/442 [00:27<03:09,"
     ]
    },
    {
     "name": "stdout",
     "output_type": "stream",
     "text": [
      "[GPU 모니터] 메모리 할당: 276.0MB, 예약: 1530.0MB\n"
     ]
    },
    {
     "name": "stderr",
     "output_type": "stream",
     "text": [
      "       6/30      1.49G     0.6783       1.56      1.041         19        640:  17%|█▋        | 76/442 [00:38<03:05,"
     ]
    },
    {
     "name": "stdout",
     "output_type": "stream",
     "text": [
      "[GPU 모니터] 메모리 할당: 276.0MB, 예약: 1530.0MB\n"
     ]
    },
    {
     "name": "stderr",
     "output_type": "stream",
     "text": [
      "       6/30      1.49G      0.684      1.556      1.043         10        640:  22%|██▏       | 96/442 [00:48<02:50,"
     ]
    },
    {
     "name": "stdout",
     "output_type": "stream",
     "text": [
      "[GPU 모니터] 메모리 할당: 276.0MB, 예약: 1530.0MB\n"
     ]
    },
    {
     "name": "stderr",
     "output_type": "stream",
     "text": [
      "       6/30      1.49G     0.6796      1.535      1.043         20        640:  26%|██▋       | 117/442 [00:58<02:35"
     ]
    },
    {
     "name": "stdout",
     "output_type": "stream",
     "text": [
      "[GPU 모니터] 메모리 할당: 238.0MB, 예약: 1530.0MB\n"
     ]
    },
    {
     "name": "stderr",
     "output_type": "stream",
     "text": [
      "       6/30      1.49G     0.6884      1.529      1.049         22        640:  31%|███       | 138/442 [01:08<02:29"
     ]
    },
    {
     "name": "stdout",
     "output_type": "stream",
     "text": [
      "[GPU 모니터] 메모리 할당: 749.6MB, 예약: 1530.0MB\n"
     ]
    },
    {
     "name": "stderr",
     "output_type": "stream",
     "text": [
      "       6/30      1.49G     0.6889      1.542       1.05         16        640:  36%|███▋      | 161/442 [01:18<01:32"
     ]
    },
    {
     "name": "stdout",
     "output_type": "stream",
     "text": [
      "[GPU 모니터] 메모리 할당: 228.0MB, 예약: 1530.0MB\n"
     ]
    },
    {
     "name": "stderr",
     "output_type": "stream",
     "text": [
      "       6/30      1.49G     0.6947       1.55      1.048         10        640:  42%|████▏     | 184/442 [01:28<01:52"
     ]
    },
    {
     "name": "stdout",
     "output_type": "stream",
     "text": [
      "[GPU 모니터] 메모리 할당: 1182.9MB, 예약: 1530.0MB\n"
     ]
    },
    {
     "name": "stderr",
     "output_type": "stream",
     "text": [
      "       6/30      1.49G      0.698      1.551      1.048         22        640:  47%|████▋     | 206/442 [01:38<01:46"
     ]
    },
    {
     "name": "stdout",
     "output_type": "stream",
     "text": [
      "[GPU 모니터] 메모리 할당: 276.0MB, 예약: 1530.0MB\n"
     ]
    },
    {
     "name": "stderr",
     "output_type": "stream",
     "text": [
      "       6/30      1.49G     0.7019      1.543      1.049         17        640:  52%|█████▏    | 228/442 [01:48<01:38"
     ]
    },
    {
     "name": "stdout",
     "output_type": "stream",
     "text": [
      "[GPU 모니터] 메모리 할당: 1165.1MB, 예약: 1530.0MB\n"
     ]
    },
    {
     "name": "stderr",
     "output_type": "stream",
     "text": [
      "       6/30      1.49G     0.6978      1.538      1.048         14        640:  57%|█████▋    | 250/442 [01:58<01:27"
     ]
    },
    {
     "name": "stdout",
     "output_type": "stream",
     "text": [
      "[GPU 모니터] 메모리 할당: 1181.8MB, 예약: 1530.0MB\n"
     ]
    },
    {
     "name": "stderr",
     "output_type": "stream",
     "text": [
      "       6/30      1.49G        0.7      1.534      1.052         20        640:  62%|██████▏   | 272/442 [02:08<01:13"
     ]
    },
    {
     "name": "stdout",
     "output_type": "stream",
     "text": [
      "[GPU 모니터] 메모리 할당: 276.0MB, 예약: 1530.0MB\n"
     ]
    },
    {
     "name": "stderr",
     "output_type": "stream",
     "text": [
      "       6/30      1.49G     0.7024      1.526      1.053         21        640:  67%|██████▋   | 294/442 [02:18<01:06"
     ]
    },
    {
     "name": "stdout",
     "output_type": "stream",
     "text": [
      "[GPU 모니터] 메모리 할당: 276.0MB, 예약: 1530.0MB\n"
     ]
    },
    {
     "name": "stderr",
     "output_type": "stream",
     "text": [
      "       6/30      1.49G      0.703      1.519      1.054         18        640:  72%|███████▏  | 317/442 [02:28<00:53"
     ]
    },
    {
     "name": "stdout",
     "output_type": "stream",
     "text": [
      "[GPU 모니터] 메모리 할당: 595.1MB, 예약: 1530.0MB\n"
     ]
    },
    {
     "name": "stderr",
     "output_type": "stream",
     "text": [
      "       6/30      1.49G     0.7022      1.518      1.054         18        640:  77%|███████▋  | 339/442 [02:38<00:47"
     ]
    },
    {
     "name": "stdout",
     "output_type": "stream",
     "text": [
      "[GPU 모니터] 메모리 할당: 920.0MB, 예약: 1530.0MB\n"
     ]
    },
    {
     "name": "stderr",
     "output_type": "stream",
     "text": [
      "       6/30      1.49G     0.7042      1.518      1.056         19        640:  82%|████████▏ | 361/442 [02:48<00:37"
     ]
    },
    {
     "name": "stdout",
     "output_type": "stream",
     "text": [
      "[GPU 모니터] 메모리 할당: 228.0MB, 예약: 1530.0MB\n"
     ]
    },
    {
     "name": "stderr",
     "output_type": "stream",
     "text": [
      "       6/30      1.49G     0.7032      1.515      1.055         22        640:  87%|████████▋ | 384/442 [02:58<00:25"
     ]
    },
    {
     "name": "stdout",
     "output_type": "stream",
     "text": [
      "[GPU 모니터] 메모리 할당: 276.0MB, 예약: 1530.0MB\n"
     ]
    },
    {
     "name": "stderr",
     "output_type": "stream",
     "text": [
      "       6/30      1.49G     0.7042      1.512      1.055         17        640:  92%|█████████▏| 406/442 [03:08<00:16"
     ]
    },
    {
     "name": "stdout",
     "output_type": "stream",
     "text": [
      "[GPU 모니터] 메모리 할당: 276.0MB, 예약: 1530.0MB\n"
     ]
    },
    {
     "name": "stderr",
     "output_type": "stream",
     "text": [
      "       6/30      1.49G     0.7038      1.505      1.056         14        640:  97%|█████████▋| 429/442 [03:18<00:05"
     ]
    },
    {
     "name": "stdout",
     "output_type": "stream",
     "text": [
      "[GPU 모니터] 메모리 할당: 238.0MB, 예약: 1530.0MB\n"
     ]
    },
    {
     "name": "stderr",
     "output_type": "stream",
     "text": [
      "       6/30       1.5G     0.7037      1.502      1.055          4        640: 100%|██████████| 442/442 [03:23<00:00\n",
      "                 Class     Images  Instances      Box(P          R      mAP50  mAP50-95):  22%|██▏       | 11/51 [00"
     ]
    },
    {
     "name": "stdout",
     "output_type": "stream",
     "text": [
      "[GPU 모니터] 메모리 할당: 284.9MB, 예약: 1538.0MB\n"
     ]
    },
    {
     "name": "stderr",
     "output_type": "stream",
     "text": [
      "                 Class     Images  Instances      Box(P          R      mAP50  mAP50-95):  71%|███████   | 36/51 [00"
     ]
    },
    {
     "name": "stdout",
     "output_type": "stream",
     "text": [
      "[GPU 모니터] 메모리 할당: 284.9MB, 예약: 1538.0MB\n"
     ]
    },
    {
     "name": "stderr",
     "output_type": "stream",
     "text": [
      "                 Class     Images  Instances      Box(P          R      mAP50  mAP50-95): 100%|██████████| 51/51 [00"
     ]
    },
    {
     "name": "stdout",
     "output_type": "stream",
     "text": [
      "                   all        801        944       0.73      0.709      0.784       0.66\n"
     ]
    },
    {
     "name": "stderr",
     "output_type": "stream",
     "text": [
      "\n"
     ]
    },
    {
     "name": "stdout",
     "output_type": "stream",
     "text": [
      "\n",
      "      Epoch    GPU_mem   box_loss   cls_loss   dfl_loss  Instances       Size\n"
     ]
    },
    {
     "name": "stderr",
     "output_type": "stream",
     "text": [
      "       7/30      1.51G     0.6936      1.387      1.056         16        640:   2%|▏         | 8/442 [00:03<03:10, "
     ]
    },
    {
     "name": "stdout",
     "output_type": "stream",
     "text": [
      "[GPU 모니터] 메모리 할당: 1170.3MB, 예약: 1546.0MB\n"
     ]
    },
    {
     "name": "stderr",
     "output_type": "stream",
     "text": [
      "       7/30      1.51G     0.6814      1.387      1.048         10        640:   7%|▋         | 30/442 [00:13<02:56,"
     ]
    },
    {
     "name": "stdout",
     "output_type": "stream",
     "text": [
      "[GPU 모니터] 메모리 할당: 498.2MB, 예약: 1546.0MB\n"
     ]
    },
    {
     "name": "stderr",
     "output_type": "stream",
     "text": [
      "       7/30      1.51G     0.6997      1.414       1.04         16        640:  12%|█▏        | 52/442 [00:23<02:55,"
     ]
    },
    {
     "name": "stdout",
     "output_type": "stream",
     "text": [
      "[GPU 모니터] 메모리 할당: 291.2MB, 예약: 1546.0MB\n"
     ]
    },
    {
     "name": "stderr",
     "output_type": "stream",
     "text": [
      "       7/30      1.51G     0.7068      1.399      1.056         17        640:  17%|█▋        | 74/442 [00:33<02:42,"
     ]
    },
    {
     "name": "stdout",
     "output_type": "stream",
     "text": [
      "[GPU 모니터] 메모리 할당: 291.2MB, 예약: 1546.0MB\n"
     ]
    },
    {
     "name": "stderr",
     "output_type": "stream",
     "text": [
      "       7/30      1.51G     0.7107      1.395      1.059         17        640:  22%|██▏       | 96/442 [00:43<02:41,"
     ]
    },
    {
     "name": "stdout",
     "output_type": "stream",
     "text": [
      "[GPU 모니터] 메모리 할당: 291.2MB, 예약: 1546.0MB\n"
     ]
    },
    {
     "name": "stderr",
     "output_type": "stream",
     "text": [
      "       7/30      1.51G     0.6979      1.397      1.055         15        640:  27%|██▋       | 118/442 [00:53<02:25"
     ]
    },
    {
     "name": "stdout",
     "output_type": "stream",
     "text": [
      "[GPU 모니터] 메모리 할당: 953.5MB, 예약: 1546.0MB\n"
     ]
    },
    {
     "name": "stderr",
     "output_type": "stream",
     "text": [
      "       7/30      1.51G     0.7018      1.407      1.064         20        640:  32%|███▏      | 140/442 [01:03<02:10"
     ]
    },
    {
     "name": "stdout",
     "output_type": "stream",
     "text": [
      "[GPU 모니터] 메모리 할당: 291.2MB, 예약: 1546.0MB\n"
     ]
    },
    {
     "name": "stderr",
     "output_type": "stream",
     "text": [
      "       7/30      1.51G     0.6944      1.388      1.057         23        640:  37%|███▋      | 162/442 [01:13<02:03"
     ]
    },
    {
     "name": "stdout",
     "output_type": "stream",
     "text": [
      "[GPU 모니터] 메모리 할당: 291.2MB, 예약: 1546.0MB\n"
     ]
    },
    {
     "name": "stderr",
     "output_type": "stream",
     "text": [
      "       7/30      1.51G     0.7023      1.397      1.059         17        640:  42%|████▏     | 184/442 [01:23<02:01"
     ]
    },
    {
     "name": "stdout",
     "output_type": "stream",
     "text": [
      "[GPU 모니터] 메모리 할당: 291.2MB, 예약: 1546.0MB\n"
     ]
    },
    {
     "name": "stderr",
     "output_type": "stream",
     "text": [
      "       7/30      1.51G     0.6986      1.401      1.054         13        640:  47%|████▋     | 206/442 [01:33<01:47"
     ]
    },
    {
     "name": "stdout",
     "output_type": "stream",
     "text": [
      "[GPU 모니터] 메모리 할당: 1138.3MB, 예약: 1546.0MB\n"
     ]
    },
    {
     "name": "stderr",
     "output_type": "stream",
     "text": [
      "       7/30      1.51G     0.6999      1.398      1.057         21        640:  52%|█████▏    | 228/442 [01:43<01:35"
     ]
    },
    {
     "name": "stdout",
     "output_type": "stream",
     "text": [
      "[GPU 모니터] 메모리 할당: 291.2MB, 예약: 1546.0MB\n"
     ]
    },
    {
     "name": "stderr",
     "output_type": "stream",
     "text": [
      "       7/30      1.51G     0.7031      1.394      1.056         21        640:  57%|█████▋    | 250/442 [01:53<01:33"
     ]
    },
    {
     "name": "stdout",
     "output_type": "stream",
     "text": [
      "[GPU 모니터] 메모리 할당: 1216.4MB, 예약: 1546.0MB\n"
     ]
    },
    {
     "name": "stderr",
     "output_type": "stream",
     "text": [
      "       7/30      1.51G     0.7023      1.391      1.054         13        640:  62%|██████▏   | 272/442 [02:03<01:16"
     ]
    },
    {
     "name": "stdout",
     "output_type": "stream",
     "text": [
      "[GPU 모니터] 메모리 할당: 976.2MB, 예약: 1546.0MB\n"
     ]
    },
    {
     "name": "stderr",
     "output_type": "stream",
     "text": [
      "       7/30      1.51G     0.7007      1.388      1.054         16        640:  67%|██████▋   | 294/442 [02:13<01:03"
     ]
    },
    {
     "name": "stdout",
     "output_type": "stream",
     "text": [
      "[GPU 모니터] 메모리 할당: 291.2MB, 예약: 1546.0MB\n"
     ]
    },
    {
     "name": "stderr",
     "output_type": "stream",
     "text": [
      "       7/30      1.51G     0.7001      1.383      1.052         17        640:  71%|███████▏  | 316/442 [02:23<00:57"
     ]
    },
    {
     "name": "stdout",
     "output_type": "stream",
     "text": [
      "[GPU 모니터] 메모리 할당: 291.2MB, 예약: 1546.0MB\n"
     ]
    },
    {
     "name": "stderr",
     "output_type": "stream",
     "text": [
      "       7/30      1.51G     0.6975      1.374      1.052          9        640:  77%|███████▋  | 339/442 [02:33<00:45"
     ]
    },
    {
     "name": "stdout",
     "output_type": "stream",
     "text": [
      "[GPU 모니터] 메모리 할당: 1138.3MB, 예약: 1546.0MB\n"
     ]
    },
    {
     "name": "stderr",
     "output_type": "stream",
     "text": [
      "       7/30      1.51G     0.7001      1.373      1.053         12        640:  82%|████████▏ | 361/442 [02:43<00:36"
     ]
    },
    {
     "name": "stdout",
     "output_type": "stream",
     "text": [
      "[GPU 모니터] 메모리 할당: 1162.4MB, 예약: 1546.0MB\n"
     ]
    },
    {
     "name": "stderr",
     "output_type": "stream",
     "text": [
      "       7/30      1.51G     0.6975      1.369      1.052         19        640:  87%|████████▋ | 383/442 [02:53<00:27"
     ]
    },
    {
     "name": "stdout",
     "output_type": "stream",
     "text": [
      "[GPU 모니터] 메모리 할당: 243.1MB, 예약: 1546.0MB\n"
     ]
    },
    {
     "name": "stderr",
     "output_type": "stream",
     "text": [
      "       7/30      1.51G     0.6958      1.365      1.052         22        640:  92%|█████████▏| 405/442 [03:03<00:16"
     ]
    },
    {
     "name": "stdout",
     "output_type": "stream",
     "text": [
      "[GPU 모니터] 메모리 할당: 253.2MB, 예약: 1546.0MB\n"
     ]
    },
    {
     "name": "stderr",
     "output_type": "stream",
     "text": [
      "       7/30      1.51G     0.6968      1.369      1.052         22        640:  97%|█████████▋| 428/442 [03:13<00:06"
     ]
    },
    {
     "name": "stdout",
     "output_type": "stream",
     "text": [
      "[GPU 모니터] 메모리 할당: 253.2MB, 예약: 1546.0MB\n"
     ]
    },
    {
     "name": "stderr",
     "output_type": "stream",
     "text": [
      "       7/30      1.52G     0.6954      1.367      1.053          4        640: 100%|██████████| 442/442 [03:19<00:00\n",
      "                 Class     Images  Instances      Box(P          R      mAP50  mAP50-95):  20%|█▉        | 10/51 [00"
     ]
    },
    {
     "name": "stdout",
     "output_type": "stream",
     "text": [
      "[GPU 모니터] 메모리 할당: 366.3MB, 예약: 1560.0MB\n"
     ]
    },
    {
     "name": "stderr",
     "output_type": "stream",
     "text": [
      "                 Class     Images  Instances      Box(P          R      mAP50  mAP50-95):  69%|██████▊   | 35/51 [00"
     ]
    },
    {
     "name": "stdout",
     "output_type": "stream",
     "text": [
      "[GPU 모니터] 메모리 할당: 299.8MB, 예약: 1560.0MB\n"
     ]
    },
    {
     "name": "stderr",
     "output_type": "stream",
     "text": [
      "                 Class     Images  Instances      Box(P          R      mAP50  mAP50-95): 100%|██████████| 51/51 [00"
     ]
    },
    {
     "name": "stdout",
     "output_type": "stream",
     "text": [
      "                   all        801        944      0.856      0.661      0.781      0.648\n"
     ]
    },
    {
     "name": "stderr",
     "output_type": "stream",
     "text": [
      "\n"
     ]
    },
    {
     "name": "stdout",
     "output_type": "stream",
     "text": [
      "\n",
      "      Epoch    GPU_mem   box_loss   cls_loss   dfl_loss  Instances       Size\n"
     ]
    },
    {
     "name": "stderr",
     "output_type": "stream",
     "text": [
      "       8/30      1.52G     0.7548      1.322      1.069         24        640:   2%|▏         | 7/442 [00:03<03:17, "
     ]
    },
    {
     "name": "stdout",
     "output_type": "stream",
     "text": [
      "[GPU 모니터] 메모리 할당: 268.4MB, 예약: 1560.0MB\n"
     ]
    },
    {
     "name": "stderr",
     "output_type": "stream",
     "text": [
      "       8/30      1.52G     0.7452      1.297      1.065         20        640:   7%|▋         | 29/442 [00:13<03:15,"
     ]
    },
    {
     "name": "stdout",
     "output_type": "stream",
     "text": [
      "[GPU 모니터] 메모리 할당: 258.3MB, 예약: 1560.0MB\n"
     ]
    },
    {
     "name": "stderr",
     "output_type": "stream",
     "text": [
      "       8/30      1.52G     0.7195      1.313      1.068         12        640:  12%|█▏        | 51/442 [00:23<02:52,"
     ]
    },
    {
     "name": "stdout",
     "output_type": "stream",
     "text": [
      "[GPU 모니터] 메모리 할당: 268.4MB, 예약: 1560.0MB\n"
     ]
    },
    {
     "name": "stderr",
     "output_type": "stream",
     "text": [
      "       8/30      1.52G     0.7014      1.304      1.057         16        640:  17%|█▋        | 73/442 [00:33<02:44,"
     ]
    },
    {
     "name": "stdout",
     "output_type": "stream",
     "text": [
      "[GPU 모니터] 메모리 할당: 268.4MB, 예약: 1560.0MB\n"
     ]
    },
    {
     "name": "stderr",
     "output_type": "stream",
     "text": [
      "       8/30      1.52G     0.7033      1.291      1.047         16        640:  21%|██▏       | 95/442 [00:43<02:37,"
     ]
    },
    {
     "name": "stdout",
     "output_type": "stream",
     "text": [
      "[GPU 모니터] 메모리 할당: 268.4MB, 예약: 1560.0MB\n"
     ]
    },
    {
     "name": "stderr",
     "output_type": "stream",
     "text": [
      "       8/30      1.52G     0.7017      1.287      1.045         15        640:  26%|██▋       | 117/442 [00:53<02:37"
     ]
    },
    {
     "name": "stdout",
     "output_type": "stream",
     "text": [
      "[GPU 모니터] 메모리 할당: 258.3MB, 예약: 1560.0MB\n"
     ]
    },
    {
     "name": "stderr",
     "output_type": "stream",
     "text": [
      "       8/30      1.52G     0.6913      1.271      1.047         14        640:  31%|███▏      | 139/442 [01:03<02:15"
     ]
    },
    {
     "name": "stdout",
     "output_type": "stream",
     "text": [
      "[GPU 모니터] 메모리 할당: 268.4MB, 예약: 1560.0MB\n"
     ]
    },
    {
     "name": "stderr",
     "output_type": "stream",
     "text": [
      "       8/30      1.52G     0.6917      1.265      1.046         19        640:  36%|███▋      | 161/442 [01:13<02:03"
     ]
    },
    {
     "name": "stdout",
     "output_type": "stream",
     "text": [
      "[GPU 모니터] 메모리 할당: 268.4MB, 예약: 1560.0MB\n"
     ]
    },
    {
     "name": "stderr",
     "output_type": "stream",
     "text": [
      "       8/30      1.52G     0.6896      1.278      1.048         10        640:  41%|████▏     | 183/442 [01:23<01:56"
     ]
    },
    {
     "name": "stdout",
     "output_type": "stream",
     "text": [
      "[GPU 모니터] 메모리 할당: 268.4MB, 예약: 1560.0MB\n"
     ]
    },
    {
     "name": "stderr",
     "output_type": "stream",
     "text": [
      "       8/30      1.52G     0.6909      1.283      1.052         18        640:  46%|████▋     | 205/442 [01:33<01:48"
     ]
    },
    {
     "name": "stdout",
     "output_type": "stream",
     "text": [
      "[GPU 모니터] 메모리 할당: 258.3MB, 예약: 1560.0MB\n"
     ]
    },
    {
     "name": "stderr",
     "output_type": "stream",
     "text": [
      "       8/30      1.52G     0.6852      1.274      1.048         28        640:  52%|█████▏    | 228/442 [01:43<01:35"
     ]
    },
    {
     "name": "stdout",
     "output_type": "stream",
     "text": [
      "[GPU 모니터] 메모리 할당: 1233.7MB, 예약: 1560.0MB\n"
     ]
    },
    {
     "name": "stderr",
     "output_type": "stream",
     "text": [
      "       8/30      1.52G     0.6804      1.269      1.047         20        640:  57%|█████▋    | 250/442 [01:53<01:25"
     ]
    },
    {
     "name": "stdout",
     "output_type": "stream",
     "text": [
      "[GPU 모니터] 메모리 할당: 306.4MB, 예약: 1560.0MB\n"
     ]
    },
    {
     "name": "stderr",
     "output_type": "stream",
     "text": [
      "       8/30      1.52G     0.6808      1.279      1.045         22        640:  62%|██████▏   | 272/442 [02:03<01:18"
     ]
    },
    {
     "name": "stdout",
     "output_type": "stream",
     "text": [
      "[GPU 모니터] 메모리 할당: 970.2MB, 예약: 1560.0MB\n"
     ]
    },
    {
     "name": "stderr",
     "output_type": "stream",
     "text": [
      "       8/30      1.52G     0.6818      1.278      1.044         14        640:  67%|██████▋   | 294/442 [02:13<01:08"
     ]
    },
    {
     "name": "stdout",
     "output_type": "stream",
     "text": [
      "[GPU 모니터] 메모리 할당: 571.6MB, 예약: 1560.0MB\n"
     ]
    },
    {
     "name": "stderr",
     "output_type": "stream",
     "text": [
      "       8/30      1.52G      0.681      1.275      1.043         14        640:  71%|███████▏  | 316/442 [02:23<00:55"
     ]
    },
    {
     "name": "stdout",
     "output_type": "stream",
     "text": [
      "[GPU 모니터] 메모리 할당: 306.4MB, 예약: 1560.0MB\n"
     ]
    },
    {
     "name": "stderr",
     "output_type": "stream",
     "text": [
      "       8/30      1.52G     0.6814      1.271      1.044         29        640:  76%|███████▋  | 338/442 [02:33<00:45"
     ]
    },
    {
     "name": "stdout",
     "output_type": "stream",
     "text": [
      "[GPU 모니터] 메모리 할당: 306.4MB, 예약: 1560.0MB\n"
     ]
    },
    {
     "name": "stderr",
     "output_type": "stream",
     "text": [
      "       8/30      1.52G     0.6783      1.266      1.043         10        640:  82%|████████▏ | 361/442 [02:43<00:36"
     ]
    },
    {
     "name": "stdout",
     "output_type": "stream",
     "text": [
      "[GPU 모니터] 메모리 할당: 1137.2MB, 예약: 1560.0MB\n"
     ]
    },
    {
     "name": "stderr",
     "output_type": "stream",
     "text": [
      "       8/30      1.52G     0.6769      1.262      1.044         18        640:  87%|████████▋ | 383/442 [02:53<00:26"
     ]
    },
    {
     "name": "stdout",
     "output_type": "stream",
     "text": [
      "[GPU 모니터] 메모리 할당: 895.1MB, 예약: 1560.0MB\n"
     ]
    },
    {
     "name": "stderr",
     "output_type": "stream",
     "text": [
      "       8/30      1.52G     0.6784      1.264      1.046         16        640:  92%|█████████▏| 405/442 [03:03<00:16"
     ]
    },
    {
     "name": "stdout",
     "output_type": "stream",
     "text": [
      "[GPU 모니터] 메모리 할당: 258.3MB, 예약: 1560.0MB\n"
     ]
    },
    {
     "name": "stderr",
     "output_type": "stream",
     "text": [
      "       8/30      1.52G     0.6781      1.269      1.045         21        640:  97%|█████████▋| 427/442 [03:13<00:07"
     ]
    },
    {
     "name": "stdout",
     "output_type": "stream",
     "text": [
      "[GPU 모니터] 메모리 할당: 268.4MB, 예약: 1560.0MB\n"
     ]
    },
    {
     "name": "stderr",
     "output_type": "stream",
     "text": [
      "       8/30      1.54G     0.6773       1.27      1.045          2        640: 100%|██████████| 442/442 [03:19<00:00\n",
      "                 Class     Images  Instances      Box(P          R      mAP50  mAP50-95):  18%|█▊        | 9/51 [00:"
     ]
    },
    {
     "name": "stdout",
     "output_type": "stream",
     "text": [
      "[GPU 모니터] 메모리 할당: 315.0MB, 예약: 1576.0MB\n"
     ]
    },
    {
     "name": "stderr",
     "output_type": "stream",
     "text": [
      "                 Class     Images  Instances      Box(P          R      mAP50  mAP50-95):  67%|██████▋   | 34/51 [00"
     ]
    },
    {
     "name": "stdout",
     "output_type": "stream",
     "text": [
      "[GPU 모니터] 메모리 할당: 315.0MB, 예약: 1576.0MB\n"
     ]
    },
    {
     "name": "stderr",
     "output_type": "stream",
     "text": [
      "                 Class     Images  Instances      Box(P          R      mAP50  mAP50-95): 100%|██████████| 51/51 [00"
     ]
    },
    {
     "name": "stdout",
     "output_type": "stream",
     "text": [
      "                   all        801        944      0.823        0.7      0.811      0.691\n"
     ]
    },
    {
     "name": "stderr",
     "output_type": "stream",
     "text": [
      "\n"
     ]
    },
    {
     "name": "stdout",
     "output_type": "stream",
     "text": [
      "\n",
      "      Epoch    GPU_mem   box_loss   cls_loss   dfl_loss  Instances       Size\n"
     ]
    },
    {
     "name": "stderr",
     "output_type": "stream",
     "text": [
      "       9/30      1.54G     0.8224      1.283       1.11         15        640:   1%|▏         | 6/442 [00:02<03:08, "
     ]
    },
    {
     "name": "stdout",
     "output_type": "stream",
     "text": [
      "[GPU 모니터] 메모리 할당: 321.5MB, 예약: 1576.0MB\n"
     ]
    },
    {
     "name": "stderr",
     "output_type": "stream",
     "text": [
      "       9/30      1.54G      0.706      1.221      1.061         19        640:   6%|▌         | 26/442 [00:11<03:10,"
     ]
    },
    {
     "name": "stdout",
     "output_type": "stream",
     "text": [
      "[GPU 모니터] 메모리 할당: 1034.0MB, 예약: 1576.0MB\n"
     ]
    },
    {
     "name": "stderr",
     "output_type": "stream",
     "text": [
      "       9/30      1.54G     0.6975       1.21      1.056         17        640:   6%|▋         | 28/442 [05:28<7:41:0"
     ]
    },
    {
     "name": "stdout",
     "output_type": "stream",
     "text": [
      "[GPU 모니터] 메모리 할당: 321.5MB, 예약: 1576.0MB\n"
     ]
    },
    {
     "name": "stderr",
     "output_type": "stream",
     "text": [
      "       9/30      1.54G     0.6862      1.209      1.048         18        640:  12%|█▏        | 55/442 [54:27<03:41,"
     ]
    },
    {
     "name": "stdout",
     "output_type": "stream",
     "text": [
      "[GPU 모니터] 메모리 할당: 1199.2MB, 예약: 1576.0MB\n"
     ]
    },
    {
     "name": "stderr",
     "output_type": "stream",
     "text": [
      "       9/30      1.54G     0.6936      1.207      1.053         14        640:  17%|█▋        | 75/442 [54:36<03:03,"
     ]
    },
    {
     "name": "stdout",
     "output_type": "stream",
     "text": [
      "[GPU 모니터] 메모리 할당: 273.5MB, 예약: 1576.0MB\n"
     ]
    },
    {
     "name": "stderr",
     "output_type": "stream",
     "text": [
      "       9/30      1.54G     0.6896      1.223      1.044         19        640:  22%|██▏       | 96/442 [54:46<02:43,"
     ]
    },
    {
     "name": "stdout",
     "output_type": "stream",
     "text": [
      "[GPU 모니터] 메모리 할당: 321.5MB, 예약: 1576.0MB\n"
     ]
    },
    {
     "name": "stderr",
     "output_type": "stream",
     "text": [
      "       9/30      1.54G     0.6887      1.218      1.045         16        640:  26%|██▌       | 115/442 [54:56<02:50"
     ]
    },
    {
     "name": "stdout",
     "output_type": "stream",
     "text": [
      "[GPU 모니터] 메모리 할당: 273.5MB, 예약: 1576.0MB\n"
     ]
    },
    {
     "name": "stderr",
     "output_type": "stream",
     "text": [
      "       9/30      1.54G     0.6909      1.224      1.046         20        640:  31%|███       | 135/442 [55:06<02:31"
     ]
    },
    {
     "name": "stdout",
     "output_type": "stream",
     "text": [
      "[GPU 모니터] 메모리 할당: 283.5MB, 예약: 1576.0MB\n"
     ]
    },
    {
     "name": "stderr",
     "output_type": "stream",
     "text": [
      "       9/30      1.54G     0.6895      1.216      1.046         23        640:  35%|███▌      | 155/442 [55:16<02:25"
     ]
    },
    {
     "name": "stdout",
     "output_type": "stream",
     "text": [
      "[GPU 모니터] 메모리 할당: 273.5MB, 예약: 1576.0MB\n"
     ]
    },
    {
     "name": "stderr",
     "output_type": "stream",
     "text": [
      "       9/30      1.54G     0.6856      1.214      1.049         14        640:  40%|███▉      | 176/442 [55:27<02:11"
     ]
    },
    {
     "name": "stdout",
     "output_type": "stream",
     "text": [
      "[GPU 모니터] 메모리 할당: 1230.8MB, 예약: 1576.0MB\n"
     ]
    },
    {
     "name": "stderr",
     "output_type": "stream",
     "text": [
      "       9/30      1.54G     0.6846      1.203      1.049         22        640:  44%|████▍     | 195/442 [55:36<02:10"
     ]
    },
    {
     "name": "stdout",
     "output_type": "stream",
     "text": [
      "[GPU 모니터] 메모리 할당: 273.5MB, 예약: 1576.0MB\n"
     ]
    },
    {
     "name": "stderr",
     "output_type": "stream",
     "text": [
      "       9/30      1.54G     0.6871        1.2      1.047         17        640:  49%|████▉     | 216/442 [55:47<01:50"
     ]
    },
    {
     "name": "stdout",
     "output_type": "stream",
     "text": [
      "[GPU 모니터] 메모리 할당: 779.9MB, 예약: 1576.0MB\n"
     ]
    },
    {
     "name": "stderr",
     "output_type": "stream",
     "text": [
      "       9/30      1.54G     0.6934      1.198      1.048         16        640:  53%|█████▎    | 235/442 [55:56<01:44"
     ]
    },
    {
     "name": "stdout",
     "output_type": "stream",
     "text": [
      "[GPU 모니터] 메모리 할당: 273.5MB, 예약: 1576.0MB\n"
     ]
    },
    {
     "name": "stderr",
     "output_type": "stream",
     "text": [
      "       9/30      1.54G     0.6883      1.195      1.046         23        640:  58%|█████▊    | 256/442 [56:07<01:31"
     ]
    },
    {
     "name": "stdout",
     "output_type": "stream",
     "text": [
      "[GPU 모니터] 메모리 할당: 1099.8MB, 예약: 1576.0MB\n"
     ]
    },
    {
     "name": "stderr",
     "output_type": "stream",
     "text": [
      "       9/30      1.54G     0.6844      1.195      1.044         12        640:  62%|██████▏   | 275/442 [56:16<01:25"
     ]
    },
    {
     "name": "stdout",
     "output_type": "stream",
     "text": [
      "[GPU 모니터] 메모리 할당: 768.7MB, 예약: 1576.0MB\n"
     ]
    },
    {
     "name": "stderr",
     "output_type": "stream",
     "text": [
      "       9/30      1.54G     0.6857        1.2      1.045         19        640:  67%|██████▋   | 295/442 [56:26<01:15"
     ]
    },
    {
     "name": "stdout",
     "output_type": "stream",
     "text": [
      "[GPU 모니터] 메모리 할당: 283.5MB, 예약: 1576.0MB\n"
     ]
    },
    {
     "name": "stderr",
     "output_type": "stream",
     "text": [
      "       9/30      1.54G     0.6851      1.199      1.043         26        640:  71%|███████▏  | 315/442 [56:36<01:05"
     ]
    },
    {
     "name": "stdout",
     "output_type": "stream",
     "text": [
      "[GPU 모니터] 메모리 할당: 273.5MB, 예약: 1576.0MB\n"
     ]
    },
    {
     "name": "stderr",
     "output_type": "stream",
     "text": [
      "       9/30      1.54G     0.6812      1.193      1.044         21        640:  76%|███████▌  | 334/442 [56:46<00:55"
     ]
    },
    {
     "name": "stdout",
     "output_type": "stream",
     "text": [
      "[GPU 모니터] 메모리 할당: 581.1MB, 예약: 1576.0MB\n"
     ]
    },
    {
     "name": "stderr",
     "output_type": "stream",
     "text": [
      "       9/30      1.54G     0.6826      1.191      1.043         23        640:  80%|████████  | 354/442 [56:56<00:43"
     ]
    },
    {
     "name": "stdout",
     "output_type": "stream",
     "text": [
      "[GPU 모니터] 메모리 할당: 762.4MB, 예약: 1576.0MB\n"
     ]
    },
    {
     "name": "stderr",
     "output_type": "stream",
     "text": [
      "       9/30      1.54G     0.6805      1.192      1.042         19        640:  84%|████████▍ | 373/442 [57:06<00:35"
     ]
    },
    {
     "name": "stdout",
     "output_type": "stream",
     "text": [
      "[GPU 모니터] 메모리 할당: 283.5MB, 예약: 1576.0MB\n"
     ]
    },
    {
     "name": "stderr",
     "output_type": "stream",
     "text": [
      "       9/30      1.54G     0.6795      1.192      1.043         23        640:  89%|████████▉ | 393/442 [57:17<00:25"
     ]
    },
    {
     "name": "stdout",
     "output_type": "stream",
     "text": [
      "[GPU 모니터] 메모리 할당: 1152.8MB, 예약: 1576.0MB\n"
     ]
    },
    {
     "name": "stderr",
     "output_type": "stream",
     "text": [
      "       9/30      1.54G     0.6786       1.19      1.042         15        640:  93%|█████████▎| 412/442 [57:27<00:15"
     ]
    },
    {
     "name": "stdout",
     "output_type": "stream",
     "text": [
      "[GPU 모니터] 메모리 할당: 1196.6MB, 예약: 1576.0MB\n"
     ]
    },
    {
     "name": "stderr",
     "output_type": "stream",
     "text": [
      "       9/30      1.54G     0.6775      1.188      1.042         14        640:  98%|█████████▊| 431/442 [57:37<00:05"
     ]
    },
    {
     "name": "stdout",
     "output_type": "stream",
     "text": [
      "[GPU 모니터] 메모리 할당: 1159.0MB, 예약: 1576.0MB\n"
     ]
    },
    {
     "name": "stderr",
     "output_type": "stream",
     "text": [
      "       9/30      1.55G     0.6788      1.186      1.043          4        640: 100%|██████████| 442/442 [57:42<00:00\n",
      "                 Class     Images  Instances      Box(P          R      mAP50  mAP50-95):  20%|█▉        | 10/51 [00"
     ]
    },
    {
     "name": "stdout",
     "output_type": "stream",
     "text": [
      "[GPU 모니터] 메모리 할당: 330.2MB, 예약: 1592.0MB\n"
     ]
    },
    {
     "name": "stderr",
     "output_type": "stream",
     "text": [
      "                 Class     Images  Instances      Box(P          R      mAP50  mAP50-95):  65%|██████▍   | 33/51 [00"
     ]
    },
    {
     "name": "stdout",
     "output_type": "stream",
     "text": [
      "[GPU 모니터] 메모리 할당: 364.6MB, 예약: 1592.0MB\n"
     ]
    },
    {
     "name": "stderr",
     "output_type": "stream",
     "text": [
      "                 Class     Images  Instances      Box(P          R      mAP50  mAP50-95): 100%|██████████| 51/51 [00"
     ]
    },
    {
     "name": "stdout",
     "output_type": "stream",
     "text": [
      "                   all        801        944      0.896      0.764      0.852      0.728\n"
     ]
    },
    {
     "name": "stderr",
     "output_type": "stream",
     "text": [
      "\n"
     ]
    },
    {
     "name": "stdout",
     "output_type": "stream",
     "text": [
      "\n",
      "      Epoch    GPU_mem   box_loss   cls_loss   dfl_loss  Instances       Size\n"
     ]
    },
    {
     "name": "stderr",
     "output_type": "stream",
     "text": [
      "      10/30      1.55G     0.6519      1.145       1.07         12        640:   1%|          | 3/442 [00:01<04:01, "
     ]
    },
    {
     "name": "stdout",
     "output_type": "stream",
     "text": [
      "[GPU 모니터] 메모리 할당: 298.7MB, 예약: 1592.0MB\n"
     ]
    },
    {
     "name": "stderr",
     "output_type": "stream",
     "text": [
      "      10/30      1.55G      0.657      1.103      1.058         23        640:   5%|▌         | 23/442 [00:11<03:27,"
     ]
    },
    {
     "name": "stdout",
     "output_type": "stream",
     "text": [
      "[GPU 모니터] 메모리 할당: 298.7MB, 예약: 1592.0MB\n"
     ]
    },
    {
     "name": "stderr",
     "output_type": "stream",
     "text": [
      "      10/30      1.55G     0.6527      1.089      1.051         19        640:  10%|▉         | 42/442 [00:21<03:29,"
     ]
    },
    {
     "name": "stdout",
     "output_type": "stream",
     "text": [
      "[GPU 모니터] 메모리 할당: 336.7MB, 예약: 1592.0MB\n"
     ]
    },
    {
     "name": "stderr",
     "output_type": "stream",
     "text": [
      "      10/30      1.55G     0.6607      1.103      1.049         22        640:  14%|█▍        | 61/442 [00:31<03:14,"
     ]
    },
    {
     "name": "stdout",
     "output_type": "stream",
     "text": [
      "[GPU 모니터] 메모리 할당: 298.7MB, 예약: 1592.0MB\n"
     ]
    },
    {
     "name": "stderr",
     "output_type": "stream",
     "text": [
      "      10/30      1.55G      0.654      1.112      1.052         22        640:  18%|█▊        | 80/442 [00:41<03:05,"
     ]
    },
    {
     "name": "stdout",
     "output_type": "stream",
     "text": [
      "[GPU 모니터] 메모리 할당: 795.8MB, 예약: 1592.0MB\n"
     ]
    },
    {
     "name": "stderr",
     "output_type": "stream",
     "text": [
      "      10/30      1.55G     0.6515      1.099      1.048         15        640:  23%|██▎       | 100/442 [00:51<02:56"
     ]
    },
    {
     "name": "stdout",
     "output_type": "stream",
     "text": [
      "[GPU 모니터] 메모리 할당: 336.7MB, 예약: 1592.0MB\n"
     ]
    },
    {
     "name": "stderr",
     "output_type": "stream",
     "text": [
      "      10/30      1.55G     0.6464      1.096      1.039         20        640:  27%|██▋       | 119/442 [01:01<02:45"
     ]
    },
    {
     "name": "stdout",
     "output_type": "stream",
     "text": [
      "[GPU 모니터] 메모리 할당: 298.7MB, 예약: 1592.0MB\n"
     ]
    },
    {
     "name": "stderr",
     "output_type": "stream",
     "text": [
      "      10/30      1.55G     0.6511      1.093      1.038         22        640:  31%|███       | 138/442 [01:11<02:41"
     ]
    },
    {
     "name": "stdout",
     "output_type": "stream",
     "text": [
      "[GPU 모니터] 메모리 할당: 395.5MB, 예약: 1592.0MB\n"
     ]
    },
    {
     "name": "stderr",
     "output_type": "stream",
     "text": [
      "      10/30      1.55G     0.6507      1.093      1.036         15        640:  36%|███▌      | 158/442 [01:21<02:23"
     ]
    },
    {
     "name": "stdout",
     "output_type": "stream",
     "text": [
      "[GPU 모니터] 메모리 할당: 336.7MB, 예약: 1592.0MB\n"
     ]
    },
    {
     "name": "stderr",
     "output_type": "stream",
     "text": [
      "      10/30      1.55G     0.6452      1.093      1.032         15        640:  40%|████      | 178/442 [01:31<02:14"
     ]
    },
    {
     "name": "stdout",
     "output_type": "stream",
     "text": [
      "[GPU 모니터] 메모리 할당: 996.0MB, 예약: 1592.0MB\n"
     ]
    },
    {
     "name": "stderr",
     "output_type": "stream",
     "text": [
      "      10/30      1.55G     0.6446      1.103       1.03         27        640:  45%|████▍     | 198/442 [01:41<02:00"
     ]
    },
    {
     "name": "stdout",
     "output_type": "stream",
     "text": [
      "[GPU 모니터] 메모리 할당: 1182.0MB, 예약: 1592.0MB\n"
     ]
    },
    {
     "name": "stderr",
     "output_type": "stream",
     "text": [
      "      10/30      1.55G     0.6463       1.11      1.029         15        640:  49%|████▉     | 218/442 [01:51<01:49"
     ]
    },
    {
     "name": "stdout",
     "output_type": "stream",
     "text": [
      "[GPU 모니터] 메모리 할당: 336.7MB, 예약: 1592.0MB\n"
     ]
    },
    {
     "name": "stderr",
     "output_type": "stream",
     "text": [
      "      10/30      1.55G     0.6472      1.119      1.031         20        640:  54%|█████▍    | 238/442 [02:01<01:40"
     ]
    },
    {
     "name": "stdout",
     "output_type": "stream",
     "text": [
      "[GPU 모니터] 메모리 할당: 336.7MB, 예약: 1592.0MB\n"
     ]
    },
    {
     "name": "stderr",
     "output_type": "stream",
     "text": [
      "      10/30      1.55G     0.6468      1.122       1.03         20        640:  58%|█████▊    | 258/442 [02:11<01:31"
     ]
    },
    {
     "name": "stdout",
     "output_type": "stream",
     "text": [
      "[GPU 모니터] 메모리 할당: 711.6MB, 예약: 1592.0MB\n"
     ]
    },
    {
     "name": "stderr",
     "output_type": "stream",
     "text": [
      "      10/30      1.55G       0.65      1.121      1.031         18        640:  63%|██████▎   | 277/442 [02:22<01:23"
     ]
    },
    {
     "name": "stdout",
     "output_type": "stream",
     "text": [
      "[GPU 모니터] 메모리 할당: 760.4MB, 예약: 1592.0MB\n"
     ]
    },
    {
     "name": "stderr",
     "output_type": "stream",
     "text": [
      "      10/30      1.55G     0.6524      1.125      1.033         23        640:  67%|██████▋   | 297/442 [02:31<01:14"
     ]
    },
    {
     "name": "stdout",
     "output_type": "stream",
     "text": [
      "[GPU 모니터] 메모리 할당: 288.7MB, 예약: 1592.0MB\n"
     ]
    },
    {
     "name": "stderr",
     "output_type": "stream",
     "text": [
      "      10/30      1.55G     0.6511      1.118       1.03         11        640:  76%|███████▌  | 337/442 [02:42<00:23"
     ]
    },
    {
     "name": "stdout",
     "output_type": "stream",
     "text": [
      "[GPU 모니터] 메모리 할당: 336.7MB, 예약: 1592.0MB\n"
     ]
    },
    {
     "name": "stderr",
     "output_type": "stream",
     "text": [
      "      10/30      1.55G     0.6495      1.116      1.028         12        640:  87%|████████▋ | 386/442 [02:52<00:11"
     ]
    },
    {
     "name": "stdout",
     "output_type": "stream",
     "text": [
      "[GPU 모니터] 메모리 할당: 288.7MB, 예약: 1592.0MB\n"
     ]
    },
    {
     "name": "stderr",
     "output_type": "stream",
     "text": [
      "      10/30      1.55G     0.6499      1.108      1.027         21        640:  98%|█████████▊| 434/442 [03:01<00:01"
     ]
    },
    {
     "name": "stdout",
     "output_type": "stream",
     "text": [
      "[GPU 모니터] 메모리 할당: 336.7MB, 예약: 1592.0MB\n"
     ]
    },
    {
     "name": "stderr",
     "output_type": "stream",
     "text": [
      "      10/30      1.56G     0.6497      1.105      1.027          7        640: 100%|██████████| 442/442 [03:03<00:00\n",
      "                 Class     Images  Instances      Box(P          R      mAP50  mAP50-95):  88%|████████▊ | 45/51 [00"
     ]
    },
    {
     "name": "stdout",
     "output_type": "stream",
     "text": [
      "[GPU 모니터] 메모리 할당: 345.6MB, 예약: 1598.0MB\n"
     ]
    },
    {
     "name": "stderr",
     "output_type": "stream",
     "text": [
      "                 Class     Images  Instances      Box(P          R      mAP50  mAP50-95): 100%|██████████| 51/51 [00"
     ]
    },
    {
     "name": "stdout",
     "output_type": "stream",
     "text": [
      "                   all        801        944      0.872      0.746      0.845      0.721\n"
     ]
    },
    {
     "name": "stderr",
     "output_type": "stream",
     "text": [
      "\n"
     ]
    },
    {
     "name": "stdout",
     "output_type": "stream",
     "text": [
      "\n",
      "      Epoch    GPU_mem   box_loss   cls_loss   dfl_loss  Instances       Size\n"
     ]
    },
    {
     "name": "stderr",
     "output_type": "stream",
     "text": [
      "      11/30      1.57G     0.6825      1.134      1.052         13        640:   9%|▉         | 41/442 [00:08<01:25,"
     ]
    },
    {
     "name": "stdout",
     "output_type": "stream",
     "text": [
      "[GPU 모니터] 메모리 할당: 313.9MB, 예약: 1606.0MB\n"
     ]
    },
    {
     "name": "stderr",
     "output_type": "stream",
     "text": [
      "      11/30      1.57G     0.6415      1.073      1.033         17        640:  20%|██        | 90/442 [00:18<01:13,"
     ]
    },
    {
     "name": "stdout",
     "output_type": "stream",
     "text": [
      "[GPU 모니터] 메모리 할당: 351.9MB, 예약: 1606.0MB\n"
     ]
    },
    {
     "name": "stderr",
     "output_type": "stream",
     "text": [
      "      11/30      1.57G     0.6367      1.084      1.032         13        640:  29%|██▉       | 130/442 [00:28<02:24"
     ]
    },
    {
     "name": "stdout",
     "output_type": "stream",
     "text": [
      "[GPU 모니터] 메모리 할당: 351.9MB, 예약: 1606.0MB\n"
     ]
    },
    {
     "name": "stderr",
     "output_type": "stream",
     "text": [
      "      11/30      1.57G     0.6381      1.081      1.029         15        640:  34%|███▍      | 151/442 [00:38<02:31"
     ]
    },
    {
     "name": "stdout",
     "output_type": "stream",
     "text": [
      "[GPU 모니터] 메모리 할당: 313.9MB, 예약: 1606.0MB\n"
     ]
    },
    {
     "name": "stderr",
     "output_type": "stream",
     "text": [
      "      11/30      1.57G      0.638      1.074      1.028         16        640:  39%|███▊      | 171/442 [00:48<02:10"
     ]
    },
    {
     "name": "stdout",
     "output_type": "stream",
     "text": [
      "[GPU 모니터] 메모리 할당: 313.9MB, 예약: 1606.0MB\n"
     ]
    },
    {
     "name": "stderr",
     "output_type": "stream",
     "text": [
      "      11/30      1.57G     0.6449      1.081      1.029         18        640:  48%|████▊     | 212/442 [00:58<00:42"
     ]
    },
    {
     "name": "stdout",
     "output_type": "stream",
     "text": [
      "[GPU 모니터] 메모리 할당: 1267.5MB, 예약: 1606.0MB\n"
     ]
    },
    {
     "name": "stderr",
     "output_type": "stream",
     "text": [
      "      11/30      1.57G     0.6427      1.078      1.029         15        640:  55%|█████▍    | 241/442 [01:08<01:36"
     ]
    },
    {
     "name": "stdout",
     "output_type": "stream",
     "text": [
      "[GPU 모니터] 메모리 할당: 1183.1MB, 예약: 1606.0MB\n"
     ]
    },
    {
     "name": "stderr",
     "output_type": "stream",
     "text": [
      "      11/30      1.57G     0.6434      1.073       1.03         15        640:  59%|█████▉    | 261/442 [01:18<01:30"
     ]
    },
    {
     "name": "stdout",
     "output_type": "stream",
     "text": [
      "[GPU 모니터] 메모리 할당: 1224.1MB, 예약: 1606.0MB\n"
     ]
    },
    {
     "name": "stderr",
     "output_type": "stream",
     "text": [
      "      11/30      1.57G     0.6447      1.074      1.029         17        640:  64%|██████▎   | 281/442 [01:28<01:20"
     ]
    },
    {
     "name": "stdout",
     "output_type": "stream",
     "text": [
      "[GPU 모니터] 메모리 할당: 857.8MB, 예약: 1606.0MB\n"
     ]
    },
    {
     "name": "stderr",
     "output_type": "stream",
     "text": [
      "      11/30      1.57G     0.6497       1.08      1.029         12        640:  68%|██████▊   | 301/442 [01:38<01:10"
     ]
    },
    {
     "name": "stdout",
     "output_type": "stream",
     "text": [
      "[GPU 모니터] 메모리 할당: 882.2MB, 예약: 1606.0MB\n"
     ]
    },
    {
     "name": "stderr",
     "output_type": "stream",
     "text": [
      "      11/30      1.57G     0.6515      1.077      1.029         15        640:  73%|███████▎  | 321/442 [01:48<01:01"
     ]
    },
    {
     "name": "stdout",
     "output_type": "stream",
     "text": [
      "[GPU 모니터] 메모리 할당: 1153.6MB, 예약: 1606.0MB\n"
     ]
    },
    {
     "name": "stderr",
     "output_type": "stream",
     "text": [
      "      11/30      1.57G     0.6555      1.084      1.029         13        640:  77%|███████▋  | 340/442 [01:58<00:51"
     ]
    },
    {
     "name": "stdout",
     "output_type": "stream",
     "text": [
      "[GPU 모니터] 메모리 할당: 351.9MB, 예약: 1606.0MB\n"
     ]
    },
    {
     "name": "stderr",
     "output_type": "stream",
     "text": [
      "      11/30      1.57G     0.6556      1.082      1.028         14        640:  82%|████████▏ | 361/442 [02:08<00:40"
     ]
    },
    {
     "name": "stdout",
     "output_type": "stream",
     "text": [
      "[GPU 모니터] 메모리 할당: 1199.0MB, 예약: 1606.0MB\n"
     ]
    },
    {
     "name": "stderr",
     "output_type": "stream",
     "text": [
      "      11/30      1.57G      0.654      1.077      1.028         19        640:  86%|████████▌ | 381/442 [02:18<00:29"
     ]
    },
    {
     "name": "stdout",
     "output_type": "stream",
     "text": [
      "[GPU 모니터] 메모리 할당: 313.9MB, 예약: 1606.0MB\n"
     ]
    },
    {
     "name": "stderr",
     "output_type": "stream",
     "text": [
      "      11/30      1.57G     0.6558      1.074      1.027         24        640:  91%|█████████ | 402/442 [02:28<00:19"
     ]
    },
    {
     "name": "stdout",
     "output_type": "stream",
     "text": [
      "[GPU 모니터] 메모리 할당: 1194.7MB, 예약: 1606.0MB\n"
     ]
    },
    {
     "name": "stderr",
     "output_type": "stream",
     "text": [
      "      11/30      1.57G     0.6519      1.065      1.026         15        640:  95%|█████████▌| 422/442 [02:38<00:09"
     ]
    },
    {
     "name": "stdout",
     "output_type": "stream",
     "text": [
      "[GPU 모니터] 메모리 할당: 1244.0MB, 예약: 1606.0MB\n"
     ]
    },
    {
     "name": "stderr",
     "output_type": "stream",
     "text": [
      "      11/30      1.58G     0.6501      1.065      1.026          2        640: 100%|██████████| 442/442 [02:48<00:00\n",
      "                 Class     Images  Instances      Box(P          R      mAP50  mAP50-95):   2%|▏         | 1/51 [00:"
     ]
    },
    {
     "name": "stdout",
     "output_type": "stream",
     "text": [
      "[GPU 모니터] 메모리 할당: 360.5MB, 예약: 1622.0MB\n"
     ]
    },
    {
     "name": "stderr",
     "output_type": "stream",
     "text": [
      "                 Class     Images  Instances      Box(P          R      mAP50  mAP50-95):  47%|████▋     | 24/51 [00"
     ]
    },
    {
     "name": "stdout",
     "output_type": "stream",
     "text": [
      "[GPU 모니터] 메모리 할당: 428.3MB, 예약: 1622.0MB\n"
     ]
    },
    {
     "name": "stderr",
     "output_type": "stream",
     "text": [
      "                 Class     Images  Instances      Box(P          R      mAP50  mAP50-95):  90%|█████████ | 46/51 [00"
     ]
    },
    {
     "name": "stdout",
     "output_type": "stream",
     "text": [
      "[GPU 모니터] 메모리 할당: 412.3MB, 예약: 1622.0MB\n"
     ]
    },
    {
     "name": "stderr",
     "output_type": "stream",
     "text": [
      "                 Class     Images  Instances      Box(P          R      mAP50  mAP50-95): 100%|██████████| 51/51 [00"
     ]
    },
    {
     "name": "stdout",
     "output_type": "stream",
     "text": [
      "                   all        801        944      0.875      0.775      0.864      0.734\n"
     ]
    },
    {
     "name": "stderr",
     "output_type": "stream",
     "text": [
      "\n"
     ]
    },
    {
     "name": "stdout",
     "output_type": "stream",
     "text": [
      "\n",
      "      Epoch    GPU_mem   box_loss   cls_loss   dfl_loss  Instances       Size\n"
     ]
    },
    {
     "name": "stderr",
     "output_type": "stream",
     "text": [
      "      12/30      1.58G     0.6205      1.112     0.9962         21        640:   3%|▎         | 15/442 [00:07<03:31,"
     ]
    },
    {
     "name": "stdout",
     "output_type": "stream",
     "text": [
      "[GPU 모니터] 메모리 할당: 329.1MB, 예약: 1622.0MB\n"
     ]
    },
    {
     "name": "stderr",
     "output_type": "stream",
     "text": [
      "      12/30      1.58G     0.6289      1.061     0.9998         14        640:   8%|▊         | 37/442 [00:17<03:18,"
     ]
    },
    {
     "name": "stdout",
     "output_type": "stream",
     "text": [
      "[GPU 모니터] 메모리 할당: 319.0MB, 예약: 1622.0MB\n"
     ]
    },
    {
     "name": "stderr",
     "output_type": "stream",
     "text": [
      "      12/30      1.58G     0.6283      1.042     0.9972         14        640:  13%|█▎        | 57/442 [00:27<03:14,"
     ]
    },
    {
     "name": "stdout",
     "output_type": "stream",
     "text": [
      "[GPU 모니터] 메모리 할당: 329.1MB, 예약: 1622.0MB\n"
     ]
    },
    {
     "name": "stderr",
     "output_type": "stream",
     "text": [
      "      12/30      1.58G     0.6426      1.056      1.006         20        640:  17%|█▋        | 77/442 [00:37<03:10,"
     ]
    },
    {
     "name": "stdout",
     "output_type": "stream",
     "text": [
      "[GPU 모니터] 메모리 할당: 319.0MB, 예약: 1622.0MB\n"
     ]
    },
    {
     "name": "stderr",
     "output_type": "stream",
     "text": [
      "      12/30      1.58G     0.6399      1.067      1.008         17        640:  22%|██▏       | 97/442 [00:47<02:54,"
     ]
    },
    {
     "name": "stdout",
     "output_type": "stream",
     "text": [
      "[GPU 모니터] 메모리 할당: 548.6MB, 예약: 1622.0MB\n"
     ]
    },
    {
     "name": "stderr",
     "output_type": "stream",
     "text": [
      "      12/30      1.58G     0.6322      1.047      1.008         22        640:  26%|██▋       | 117/442 [00:57<02:51"
     ]
    },
    {
     "name": "stdout",
     "output_type": "stream",
     "text": [
      "[GPU 모니터] 메모리 할당: 992.8MB, 예약: 1622.0MB\n"
     ]
    },
    {
     "name": "stderr",
     "output_type": "stream",
     "text": [
      "      12/30      1.58G     0.6261      1.049      1.006         16        640:  31%|███       | 136/442 [01:07<02:31"
     ]
    },
    {
     "name": "stdout",
     "output_type": "stream",
     "text": [
      "[GPU 모니터] 메모리 할당: 367.1MB, 예약: 1622.0MB\n"
     ]
    },
    {
     "name": "stderr",
     "output_type": "stream",
     "text": [
      "      12/30      1.58G     0.6289      1.052      1.009         10        640:  35%|███▌      | 156/442 [01:17<02:20"
     ]
    },
    {
     "name": "stdout",
     "output_type": "stream",
     "text": [
      "[GPU 모니터] 메모리 할당: 367.1MB, 예약: 1622.0MB\n"
     ]
    },
    {
     "name": "stderr",
     "output_type": "stream",
     "text": [
      "      12/30      1.58G     0.6275      1.049      1.008         13        640:  40%|███▉      | 176/442 [01:27<02:14"
     ]
    },
    {
     "name": "stdout",
     "output_type": "stream",
     "text": [
      "[GPU 모니터] 메모리 할당: 833.7MB, 예약: 1622.0MB\n"
     ]
    },
    {
     "name": "stderr",
     "output_type": "stream",
     "text": [
      "      12/30      1.58G     0.6277      1.036      1.009         15        640:  44%|████▍     | 196/442 [01:37<02:00"
     ]
    },
    {
     "name": "stdout",
     "output_type": "stream",
     "text": [
      "[GPU 모니터] 메모리 할당: 367.1MB, 예약: 1622.0MB\n"
     ]
    },
    {
     "name": "stderr",
     "output_type": "stream",
     "text": [
      "      12/30      1.58G     0.6273      1.031      1.009         17        640:  49%|████▉     | 216/442 [01:47<01:54"
     ]
    },
    {
     "name": "stdout",
     "output_type": "stream",
     "text": [
      "[GPU 모니터] 메모리 할당: 1252.2MB, 예약: 1622.0MB\n"
     ]
    },
    {
     "name": "stderr",
     "output_type": "stream",
     "text": [
      "      12/30      1.58G     0.6303      1.042       1.01         15        640:  53%|█████▎    | 235/442 [01:57<01:48"
     ]
    },
    {
     "name": "stdout",
     "output_type": "stream",
     "text": [
      "[GPU 모니터] 메모리 할당: 329.1MB, 예약: 1622.0MB\n"
     ]
    },
    {
     "name": "stderr",
     "output_type": "stream",
     "text": [
      "      12/30      1.58G      0.628      1.042      1.008         15        640:  58%|█████▊    | 255/442 [02:07<01:33"
     ]
    },
    {
     "name": "stdout",
     "output_type": "stream",
     "text": [
      "[GPU 모니터] 메모리 할당: 329.1MB, 예약: 1622.0MB\n"
     ]
    },
    {
     "name": "stderr",
     "output_type": "stream",
     "text": [
      "      12/30      1.58G     0.6285      1.043      1.011         16        640:  62%|██████▏   | 276/442 [02:17<01:23"
     ]
    },
    {
     "name": "stdout",
     "output_type": "stream",
     "text": [
      "[GPU 모니터] 메모리 할당: 1276.1MB, 예약: 1622.0MB\n"
     ]
    },
    {
     "name": "stderr",
     "output_type": "stream",
     "text": [
      "      12/30      1.58G      0.629      1.036      1.011         13        640:  67%|██████▋   | 296/442 [02:27<01:12"
     ]
    },
    {
     "name": "stdout",
     "output_type": "stream",
     "text": [
      "[GPU 모니터] 메모리 할당: 907.0MB, 예약: 1622.0MB\n"
     ]
    },
    {
     "name": "stderr",
     "output_type": "stream",
     "text": [
      "      12/30      1.58G     0.6277      1.034       1.01         17        640:  71%|███████▏  | 316/442 [02:37<01:02"
     ]
    },
    {
     "name": "stdout",
     "output_type": "stream",
     "text": [
      "[GPU 모니터] 메모리 할당: 1052.1MB, 예약: 1622.0MB\n"
     ]
    },
    {
     "name": "stderr",
     "output_type": "stream",
     "text": [
      "      12/30      1.58G     0.6299       1.03       1.01         15        640:  76%|███████▌  | 335/442 [02:47<00:54"
     ]
    },
    {
     "name": "stdout",
     "output_type": "stream",
     "text": [
      "[GPU 모니터] 메모리 할당: 329.1MB, 예약: 1622.0MB\n"
     ]
    },
    {
     "name": "stderr",
     "output_type": "stream",
     "text": [
      "      12/30      1.58G      0.629      1.032       1.01         22        640:  80%|████████  | 354/442 [02:57<00:44"
     ]
    },
    {
     "name": "stdout",
     "output_type": "stream",
     "text": [
      "[GPU 모니터] 메모리 할당: 367.1MB, 예약: 1622.0MB\n"
     ]
    },
    {
     "name": "stderr",
     "output_type": "stream",
     "text": [
      "      12/30      1.58G       0.63       1.03       1.01         21        640:  85%|████████▍ | 374/442 [03:07<00:33"
     ]
    },
    {
     "name": "stdout",
     "output_type": "stream",
     "text": [
      "[GPU 모니터] 메모리 할당: 367.1MB, 예약: 1622.0MB\n"
     ]
    },
    {
     "name": "stderr",
     "output_type": "stream",
     "text": [
      "      12/30      1.58G     0.6338      1.031      1.013         16        640:  89%|████████▉ | 394/442 [03:17<00:24"
     ]
    },
    {
     "name": "stdout",
     "output_type": "stream",
     "text": [
      "[GPU 모니터] 메모리 할당: 852.4MB, 예약: 1622.0MB\n"
     ]
    },
    {
     "name": "stderr",
     "output_type": "stream",
     "text": [
      "      12/30      1.58G     0.6358      1.027      1.014         18        640:  94%|█████████▎| 414/442 [03:27<00:13"
     ]
    },
    {
     "name": "stdout",
     "output_type": "stream",
     "text": [
      "[GPU 모니터] 메모리 할당: 367.1MB, 예약: 1622.0MB\n"
     ]
    },
    {
     "name": "stderr",
     "output_type": "stream",
     "text": [
      "      12/30      1.58G     0.6367      1.023      1.016         17        640:  98%|█████████▊| 434/442 [03:37<00:03"
     ]
    },
    {
     "name": "stdout",
     "output_type": "stream",
     "text": [
      "[GPU 모니터] 메모리 할당: 367.1MB, 예약: 1622.0MB\n"
     ]
    },
    {
     "name": "stderr",
     "output_type": "stream",
     "text": [
      "      12/30       1.6G     0.6363      1.022      1.016          9        640: 100%|██████████| 442/442 [03:41<00:00\n",
      "                 Class     Images  Instances      Box(P          R      mAP50  mAP50-95):  29%|██▉       | 15/51 [00"
     ]
    },
    {
     "name": "stdout",
     "output_type": "stream",
     "text": [
      "[GPU 모니터] 메모리 할당: 405.7MB, 예약: 1636.0MB\n"
     ]
    },
    {
     "name": "stderr",
     "output_type": "stream",
     "text": [
      "                 Class     Images  Instances      Box(P          R      mAP50  mAP50-95):  75%|███████▍  | 38/51 [00"
     ]
    },
    {
     "name": "stdout",
     "output_type": "stream",
     "text": [
      "[GPU 모니터] 메모리 할당: 438.0MB, 예약: 1636.0MB\n"
     ]
    },
    {
     "name": "stderr",
     "output_type": "stream",
     "text": [
      "                 Class     Images  Instances      Box(P          R      mAP50  mAP50-95): 100%|██████████| 51/51 [00"
     ]
    },
    {
     "name": "stdout",
     "output_type": "stream",
     "text": [
      "                   all        801        944      0.885      0.794      0.877      0.747\n"
     ]
    },
    {
     "name": "stderr",
     "output_type": "stream",
     "text": [
      "\n"
     ]
    },
    {
     "name": "stdout",
     "output_type": "stream",
     "text": [
      "\n",
      "      Epoch    GPU_mem   box_loss   cls_loss   dfl_loss  Instances       Size\n"
     ]
    },
    {
     "name": "stderr",
     "output_type": "stream",
     "text": [
      "      13/30       1.6G     0.5843      1.109      1.022         16        640:   2%|▏         | 7/442 [00:03<03:38, "
     ]
    },
    {
     "name": "stdout",
     "output_type": "stream",
     "text": [
      "[GPU 모니터] 메모리 할당: 344.2MB, 예약: 1636.0MB\n"
     ]
    },
    {
     "name": "stderr",
     "output_type": "stream",
     "text": [
      "      13/30       1.6G     0.5654      0.924      1.003         15        640:   6%|▌         | 27/442 [00:13<03:35,"
     ]
    },
    {
     "name": "stdout",
     "output_type": "stream",
     "text": [
      "[GPU 모니터] 메모리 할당: 776.1MB, 예약: 1636.0MB\n"
     ]
    },
    {
     "name": "stderr",
     "output_type": "stream",
     "text": [
      "      13/30       1.6G     0.5825     0.9207      1.011         16        640:  11%|█         | 48/442 [00:23<03:00,"
     ]
    },
    {
     "name": "stdout",
     "output_type": "stream",
     "text": [
      "[GPU 모니터] 메모리 할당: 1242.3MB, 예약: 1636.0MB\n"
     ]
    },
    {
     "name": "stderr",
     "output_type": "stream",
     "text": [
      "      13/30       1.6G     0.5955     0.9158      1.011         15        640:  16%|█▌        | 69/442 [00:33<02:56,"
     ]
    },
    {
     "name": "stdout",
     "output_type": "stream",
     "text": [
      "[GPU 모니터] 메모리 할당: 344.2MB, 예약: 1636.0MB\n"
     ]
    },
    {
     "name": "stderr",
     "output_type": "stream",
     "text": [
      "      13/30       1.6G     0.6059     0.9327      1.012         17        640:  21%|██        | 91/442 [00:43<02:44,"
     ]
    },
    {
     "name": "stdout",
     "output_type": "stream",
     "text": [
      "[GPU 모니터] 메모리 할당: 1233.4MB, 예약: 1636.0MB\n"
     ]
    },
    {
     "name": "stderr",
     "output_type": "stream",
     "text": [
      "      13/30       1.6G     0.6176     0.9382      1.016         14        640:  25%|██▌       | 111/442 [00:53<02:52"
     ]
    },
    {
     "name": "stdout",
     "output_type": "stream",
     "text": [
      "[GPU 모니터] 메모리 할당: 344.2MB, 예약: 1636.0MB\n"
     ]
    },
    {
     "name": "stderr",
     "output_type": "stream",
     "text": [
      "      13/30       1.6G     0.6146      0.966      1.012         20        640:  30%|██▉       | 132/442 [01:03<02:32"
     ]
    },
    {
     "name": "stdout",
     "output_type": "stream",
     "text": [
      "[GPU 모니터] 메모리 할당: 382.2MB, 예약: 1636.0MB\n"
     ]
    },
    {
     "name": "stderr",
     "output_type": "stream",
     "text": [
      "      13/30       1.6G     0.6204     0.9703      1.014         19        640:  34%|███▍      | 152/442 [01:13<02:19"
     ]
    },
    {
     "name": "stdout",
     "output_type": "stream",
     "text": [
      "[GPU 모니터] 메모리 할당: 382.2MB, 예약: 1636.0MB\n"
     ]
    },
    {
     "name": "stderr",
     "output_type": "stream",
     "text": [
      "      13/30       1.6G     0.6247     0.9727      1.012         16        640:  39%|███▉      | 173/442 [01:23<02:12"
     ]
    },
    {
     "name": "stdout",
     "output_type": "stream",
     "text": [
      "[GPU 모니터] 메모리 할당: 344.2MB, 예약: 1636.0MB\n"
     ]
    },
    {
     "name": "stderr",
     "output_type": "stream",
     "text": [
      "      13/30       1.6G     0.6247     0.9722      1.012         16        640:  44%|████▍     | 194/442 [01:33<02:00"
     ]
    },
    {
     "name": "stdout",
     "output_type": "stream",
     "text": [
      "[GPU 모니터] 메모리 할당: 382.2MB, 예약: 1636.0MB\n"
     ]
    },
    {
     "name": "stderr",
     "output_type": "stream",
     "text": [
      "      13/30       1.6G     0.6319       0.98      1.014         11        640:  49%|████▉     | 216/442 [01:43<01:37"
     ]
    },
    {
     "name": "stdout",
     "output_type": "stream",
     "text": [
      "[GPU 모니터] 메모리 할당: 1267.3MB, 예약: 1636.0MB\n"
     ]
    },
    {
     "name": "stderr",
     "output_type": "stream",
     "text": [
      "      13/30       1.6G     0.6274     0.9778      1.013         21        640:  53%|█████▎    | 236/442 [01:53<01:38"
     ]
    },
    {
     "name": "stdout",
     "output_type": "stream",
     "text": [
      "[GPU 모니터] 메모리 할당: 757.3MB, 예약: 1636.0MB\n"
     ]
    },
    {
     "name": "stderr",
     "output_type": "stream",
     "text": [
      "      13/30       1.6G      0.625     0.9778      1.012         12        640:  58%|█████▊    | 258/442 [02:03<01:25"
     ]
    },
    {
     "name": "stdout",
     "output_type": "stream",
     "text": [
      "[GPU 모니터] 메모리 할당: 382.2MB, 예약: 1636.0MB\n"
     ]
    },
    {
     "name": "stderr",
     "output_type": "stream",
     "text": [
      "      13/30       1.6G     0.6248     0.9764      1.015         12        640:  63%|██████▎   | 279/442 [02:13<01:13"
     ]
    },
    {
     "name": "stdout",
     "output_type": "stream",
     "text": [
      "[GPU 모니터] 메모리 할당: 344.2MB, 예약: 1636.0MB\n"
     ]
    },
    {
     "name": "stderr",
     "output_type": "stream",
     "text": [
      "      13/30       1.6G     0.6229     0.9767      1.015         22        640:  68%|██████▊   | 300/442 [02:23<01:11"
     ]
    },
    {
     "name": "stdout",
     "output_type": "stream",
     "text": [
      "[GPU 모니터] 메모리 할당: 382.2MB, 예약: 1636.0MB\n"
     ]
    },
    {
     "name": "stderr",
     "output_type": "stream",
     "text": [
      "      13/30       1.6G     0.6264     0.9742      1.017         21        640:  73%|███████▎  | 322/442 [02:33<00:57"
     ]
    },
    {
     "name": "stdout",
     "output_type": "stream",
     "text": [
      "[GPU 모니터] 메모리 할당: 821.2MB, 예약: 1636.0MB\n"
     ]
    },
    {
     "name": "stderr",
     "output_type": "stream",
     "text": [
      "      13/30       1.6G     0.6285      0.976      1.018         13        640:  77%|███████▋  | 342/442 [02:43<00:46"
     ]
    },
    {
     "name": "stdout",
     "output_type": "stream",
     "text": [
      "[GPU 모니터] 메모리 할당: 389.0MB, 예약: 1636.0MB\n"
     ]
    },
    {
     "name": "stderr",
     "output_type": "stream",
     "text": [
      "      13/30       1.6G      0.629     0.9731      1.018         13        640:  82%|████████▏ | 364/442 [02:53<00:38"
     ]
    },
    {
     "name": "stdout",
     "output_type": "stream",
     "text": [
      "[GPU 모니터] 메모리 할당: 852.3MB, 예약: 1636.0MB\n"
     ]
    },
    {
     "name": "stderr",
     "output_type": "stream",
     "text": [
      "      13/30       1.6G     0.6313     0.9709      1.019         15        640:  87%|████████▋ | 385/442 [03:03<00:27"
     ]
    },
    {
     "name": "stdout",
     "output_type": "stream",
     "text": [
      "[GPU 모니터] 메모리 할당: 344.2MB, 예약: 1636.0MB\n"
     ]
    },
    {
     "name": "stderr",
     "output_type": "stream",
     "text": [
      "      13/30       1.6G      0.633     0.9722       1.02         20        640:  92%|█████████▏| 408/442 [03:13<00:14"
     ]
    },
    {
     "name": "stdout",
     "output_type": "stream",
     "text": [
      "[GPU 모니터] 메모리 할당: 1267.4MB, 예약: 1636.0MB\n"
     ]
    },
    {
     "name": "stderr",
     "output_type": "stream",
     "text": [
      "      13/30       1.6G     0.6317     0.9712      1.019         18        640:  97%|█████████▋| 430/442 [03:23<00:05"
     ]
    },
    {
     "name": "stdout",
     "output_type": "stream",
     "text": [
      "[GPU 모니터] 메모리 할당: 382.2MB, 예약: 1636.0MB\n"
     ]
    },
    {
     "name": "stderr",
     "output_type": "stream",
     "text": [
      "      13/30      1.61G     0.6301     0.9739       1.02          3        640: 100%|██████████| 442/442 [03:28<00:00\n",
      "                 Class     Images  Instances      Box(P          R      mAP50  mAP50-95):  25%|██▌       | 13/51 [00"
     ]
    },
    {
     "name": "stdout",
     "output_type": "stream",
     "text": [
      "[GPU 모니터] 메모리 할당: 456.0MB, 예약: 1652.0MB\n"
     ]
    },
    {
     "name": "stderr",
     "output_type": "stream",
     "text": [
      "                 Class     Images  Instances      Box(P          R      mAP50  mAP50-95):  75%|███████▍  | 38/51 [00"
     ]
    },
    {
     "name": "stdout",
     "output_type": "stream",
     "text": [
      "[GPU 모니터] 메모리 할당: 420.9MB, 예약: 1652.0MB\n"
     ]
    },
    {
     "name": "stderr",
     "output_type": "stream",
     "text": [
      "                 Class     Images  Instances      Box(P          R      mAP50  mAP50-95): 100%|██████████| 51/51 [00"
     ]
    },
    {
     "name": "stdout",
     "output_type": "stream",
     "text": [
      "                   all        801        944      0.929      0.771      0.888      0.746\n"
     ]
    },
    {
     "name": "stderr",
     "output_type": "stream",
     "text": [
      "\n"
     ]
    },
    {
     "name": "stdout",
     "output_type": "stream",
     "text": [
      "\n",
      "      Epoch    GPU_mem   box_loss   cls_loss   dfl_loss  Instances       Size\n"
     ]
    },
    {
     "name": "stderr",
     "output_type": "stream",
     "text": [
      "      14/30      1.61G     0.6695      1.057      1.035         19        640:   2%|▏         | 9/442 [00:04<03:30, "
     ]
    },
    {
     "name": "stdout",
     "output_type": "stream",
     "text": [
      "[GPU 모니터] 메모리 할당: 349.4MB, 예약: 1652.0MB\n"
     ]
    },
    {
     "name": "stderr",
     "output_type": "stream",
     "text": [
      "      14/30      1.61G     0.6405     0.9278      1.037         15        640:   7%|▋         | 30/442 [00:14<03:14,"
     ]
    },
    {
     "name": "stdout",
     "output_type": "stream",
     "text": [
      "[GPU 모니터] 메모리 할당: 1033.2MB, 예약: 1652.0MB\n"
     ]
    },
    {
     "name": "stderr",
     "output_type": "stream",
     "text": [
      "      14/30      1.61G     0.6268     0.9484      1.029         22        640:  12%|█▏        | 52/442 [00:24<02:56,"
     ]
    },
    {
     "name": "stdout",
     "output_type": "stream",
     "text": [
      "[GPU 모니터] 메모리 할당: 961.8MB, 예약: 1652.0MB\n"
     ]
    },
    {
     "name": "stderr",
     "output_type": "stream",
     "text": [
      "      14/30      1.61G     0.6217     0.9532      1.025         18        640:  17%|█▋        | 73/442 [00:34<02:55,"
     ]
    },
    {
     "name": "stdout",
     "output_type": "stream",
     "text": [
      "[GPU 모니터] 메모리 할당: 349.4MB, 예약: 1652.0MB\n"
     ]
    },
    {
     "name": "stderr",
     "output_type": "stream",
     "text": [
      "      14/30      1.61G     0.6137     0.9512      1.022         21        640:  21%|██▏       | 94/442 [00:44<02:42,"
     ]
    },
    {
     "name": "stdout",
     "output_type": "stream",
     "text": [
      "[GPU 모니터] 메모리 할당: 397.4MB, 예약: 1652.0MB\n"
     ]
    },
    {
     "name": "stderr",
     "output_type": "stream",
     "text": [
      "      14/30      1.61G     0.6113      0.939      1.017         18        640:  26%|██▌       | 115/442 [00:54<02:32"
     ]
    },
    {
     "name": "stdout",
     "output_type": "stream",
     "text": [
      "[GPU 모니터] 메모리 할당: 359.4MB, 예약: 1652.0MB\n"
     ]
    },
    {
     "name": "stderr",
     "output_type": "stream",
     "text": [
      "      14/30      1.61G      0.618     0.9479      1.016         17        640:  31%|███       | 137/442 [01:04<02:24"
     ]
    },
    {
     "name": "stdout",
     "output_type": "stream",
     "text": [
      "[GPU 모니터] 메모리 할당: 349.4MB, 예약: 1652.0MB\n"
     ]
    },
    {
     "name": "stderr",
     "output_type": "stream",
     "text": [
      "      14/30      1.61G     0.6198     0.9537      1.021         19        640:  36%|███▌      | 158/442 [01:14<02:10"
     ]
    },
    {
     "name": "stdout",
     "output_type": "stream",
     "text": [
      "[GPU 모니터] 메모리 할당: 397.4MB, 예약: 1652.0MB\n"
     ]
    },
    {
     "name": "stderr",
     "output_type": "stream",
     "text": [
      "      14/30      1.61G     0.6251      0.953      1.019         21        640:  40%|████      | 179/442 [01:24<02:01"
     ]
    },
    {
     "name": "stdout",
     "output_type": "stream",
     "text": [
      "[GPU 모니터] 메모리 할당: 359.4MB, 예약: 1652.0MB\n"
     ]
    },
    {
     "name": "stderr",
     "output_type": "stream",
     "text": [
      "      14/30      1.61G     0.6217     0.9534      1.018         21        640:  45%|████▌     | 201/442 [01:34<01:55"
     ]
    },
    {
     "name": "stdout",
     "output_type": "stream",
     "text": [
      "[GPU 모니터] 메모리 할당: 349.4MB, 예약: 1652.0MB\n"
     ]
    },
    {
     "name": "stderr",
     "output_type": "stream",
     "text": [
      "      14/30      1.61G     0.6168     0.9506      1.017         18        640:  50%|█████     | 222/442 [01:44<01:47"
     ]
    },
    {
     "name": "stdout",
     "output_type": "stream",
     "text": [
      "[GPU 모니터] 메모리 할당: 397.4MB, 예약: 1652.0MB\n"
     ]
    },
    {
     "name": "stderr",
     "output_type": "stream",
     "text": [
      "      14/30      1.61G     0.6185     0.9476      1.016         23        640:  55%|█████▍    | 243/442 [01:54<01:31"
     ]
    },
    {
     "name": "stdout",
     "output_type": "stream",
     "text": [
      "[GPU 모니터] 메모리 할당: 359.4MB, 예약: 1652.0MB\n"
     ]
    },
    {
     "name": "stderr",
     "output_type": "stream",
     "text": [
      "      14/30      1.61G     0.6155     0.9455      1.014         21        640:  60%|█████▉    | 264/442 [02:04<01:21"
     ]
    },
    {
     "name": "stdout",
     "output_type": "stream",
     "text": [
      "[GPU 모니터] 메모리 할당: 780.7MB, 예약: 1652.0MB\n"
     ]
    },
    {
     "name": "stderr",
     "output_type": "stream",
     "text": [
      "      14/30      1.61G     0.6216     0.9487      1.015         19        640:  64%|██████▍   | 285/442 [02:14<01:15"
     ]
    },
    {
     "name": "stdout",
     "output_type": "stream",
     "text": [
      "[GPU 모니터] 메모리 할당: 359.4MB, 예약: 1652.0MB\n"
     ]
    },
    {
     "name": "stderr",
     "output_type": "stream",
     "text": [
      "      14/30      1.61G      0.622     0.9444      1.016         19        640:  69%|██████▉   | 307/442 [02:24<01:02"
     ]
    },
    {
     "name": "stdout",
     "output_type": "stream",
     "text": [
      "[GPU 모니터] 메모리 할당: 359.4MB, 예약: 1652.0MB\n"
     ]
    },
    {
     "name": "stderr",
     "output_type": "stream",
     "text": [
      "      14/30      1.61G     0.6257     0.9493      1.017         11        640:  74%|███████▍  | 328/442 [02:34<00:55"
     ]
    },
    {
     "name": "stdout",
     "output_type": "stream",
     "text": [
      "[GPU 모니터] 메모리 할당: 397.4MB, 예약: 1652.0MB\n"
     ]
    },
    {
     "name": "stderr",
     "output_type": "stream",
     "text": [
      "      14/30      1.61G     0.6269     0.9495      1.017         19        640:  79%|███████▉  | 350/442 [02:44<00:42"
     ]
    },
    {
     "name": "stdout",
     "output_type": "stream",
     "text": [
      "[GPU 모니터] 메모리 할당: 1240.2MB, 예약: 1652.0MB\n"
     ]
    },
    {
     "name": "stderr",
     "output_type": "stream",
     "text": [
      "      14/30      1.61G     0.6281     0.9488      1.017         18        640:  84%|████████▍ | 372/442 [02:54<00:31"
     ]
    },
    {
     "name": "stdout",
     "output_type": "stream",
     "text": [
      "[GPU 모니터] 메모리 할당: 1294.6MB, 예약: 1652.0MB\n"
     ]
    },
    {
     "name": "stderr",
     "output_type": "stream",
     "text": [
      "      14/30      1.61G     0.6246      0.949      1.016         20        640:  89%|████████▉ | 393/442 [03:04<00:23"
     ]
    },
    {
     "name": "stdout",
     "output_type": "stream",
     "text": [
      "[GPU 모니터] 메모리 할당: 349.4MB, 예약: 1652.0MB\n"
     ]
    },
    {
     "name": "stderr",
     "output_type": "stream",
     "text": [
      "      14/30      1.61G     0.6231     0.9452      1.014         15        640:  94%|█████████▎| 414/442 [03:14<00:13"
     ]
    },
    {
     "name": "stdout",
     "output_type": "stream",
     "text": [
      "[GPU 모니터] 메모리 할당: 397.4MB, 예약: 1652.0MB\n"
     ]
    },
    {
     "name": "stderr",
     "output_type": "stream",
     "text": [
      "      14/30      1.61G     0.6239     0.9434      1.014         22        640:  99%|█████████▊| 436/442 [03:24<00:02"
     ]
    },
    {
     "name": "stdout",
     "output_type": "stream",
     "text": [
      "[GPU 모니터] 메모리 할당: 397.4MB, 예약: 1652.0MB\n"
     ]
    },
    {
     "name": "stderr",
     "output_type": "stream",
     "text": [
      "      14/30      1.62G     0.6233      0.942      1.014          2        640: 100%|██████████| 442/442 [03:26<00:00\n",
      "                 Class     Images  Instances      Box(P          R      mAP50  mAP50-95):  37%|███▋      | 19/51 [00"
     ]
    },
    {
     "name": "stdout",
     "output_type": "stream",
     "text": [
      "[GPU 모니터] 메모리 할당: 435.0MB, 예약: 1658.0MB\n"
     ]
    },
    {
     "name": "stderr",
     "output_type": "stream",
     "text": [
      "                 Class     Images  Instances      Box(P          R      mAP50  mAP50-95):  88%|████████▊ | 45/51 [00"
     ]
    },
    {
     "name": "stdout",
     "output_type": "stream",
     "text": [
      "[GPU 모니터] 메모리 할당: 406.3MB, 예약: 1658.0MB\n"
     ]
    },
    {
     "name": "stderr",
     "output_type": "stream",
     "text": [
      "                 Class     Images  Instances      Box(P          R      mAP50  mAP50-95): 100%|██████████| 51/51 [00"
     ]
    },
    {
     "name": "stdout",
     "output_type": "stream",
     "text": [
      "                   all        801        944      0.904      0.805      0.894       0.76\n"
     ]
    },
    {
     "name": "stderr",
     "output_type": "stream",
     "text": [
      "\n"
     ]
    },
    {
     "name": "stdout",
     "output_type": "stream",
     "text": [
      "\n",
      "      Epoch    GPU_mem   box_loss   cls_loss   dfl_loss  Instances       Size\n"
     ]
    },
    {
     "name": "stderr",
     "output_type": "stream",
     "text": [
      "      15/30      1.62G     0.5902     0.8993      1.017         18        640:   3%|▎         | 15/442 [00:07<03:15,"
     ]
    },
    {
     "name": "stdout",
     "output_type": "stream",
     "text": [
      "[GPU 모니터] 메모리 할당: 802.5MB, 예약: 1664.0MB\n"
     ]
    },
    {
     "name": "stderr",
     "output_type": "stream",
     "text": [
      "      15/30      1.63G     0.6011        0.9      1.007         16        640:   8%|▊         | 36/442 [00:16<03:03,"
     ]
    },
    {
     "name": "stdout",
     "output_type": "stream",
     "text": [
      "[GPU 모니터] 메모리 할당: 412.6MB, 예약: 1668.0MB\n"
     ]
    },
    {
     "name": "stderr",
     "output_type": "stream",
     "text": [
      "      15/30      1.63G      0.585     0.8593     0.9953         14        640:  13%|█▎        | 58/442 [00:27<03:02,"
     ]
    },
    {
     "name": "stdout",
     "output_type": "stream",
     "text": [
      "[GPU 모니터] 메모리 할당: 1285.2MB, 예약: 1668.0MB\n"
     ]
    },
    {
     "name": "stderr",
     "output_type": "stream",
     "text": [
      "      15/30      1.63G     0.5989     0.8608      1.006         16        640:  18%|█▊        | 79/442 [00:36<02:53,"
     ]
    },
    {
     "name": "stdout",
     "output_type": "stream",
     "text": [
      "[GPU 모니터] 메모리 할당: 364.5MB, 예약: 1668.0MB\n"
     ]
    },
    {
     "name": "stderr",
     "output_type": "stream",
     "text": [
      "      15/30      1.63G     0.5974     0.8742      1.007         20        640:  23%|██▎       | 101/442 [00:46<02:29"
     ]
    },
    {
     "name": "stdout",
     "output_type": "stream",
     "text": [
      "[GPU 모니터] 메모리 할당: 374.6MB, 예약: 1668.0MB\n"
     ]
    },
    {
     "name": "stderr",
     "output_type": "stream",
     "text": [
      "      15/30      1.63G     0.6017     0.8796      1.004         19        640:  28%|██▊       | 122/442 [00:56<02:28"
     ]
    },
    {
     "name": "stdout",
     "output_type": "stream",
     "text": [
      "[GPU 모니터] 메모리 할당: 412.6MB, 예약: 1668.0MB\n"
     ]
    },
    {
     "name": "stderr",
     "output_type": "stream",
     "text": [
      "      15/30      1.63G     0.5938     0.8844      1.003         16        640:  33%|███▎      | 144/442 [01:07<02:15"
     ]
    },
    {
     "name": "stdout",
     "output_type": "stream",
     "text": [
      "[GPU 모니터] 메모리 할당: 1311.8MB, 예약: 1668.0MB\n"
     ]
    },
    {
     "name": "stderr",
     "output_type": "stream",
     "text": [
      "      15/30      1.63G     0.6007     0.8801      1.008         12        640:  37%|███▋      | 165/442 [01:17<02:08"
     ]
    },
    {
     "name": "stdout",
     "output_type": "stream",
     "text": [
      "[GPU 모니터] 메모리 할당: 374.6MB, 예약: 1668.0MB\n"
     ]
    },
    {
     "name": "stderr",
     "output_type": "stream",
     "text": [
      "      15/30      1.63G     0.5968     0.8708      1.006         13        640:  42%|████▏     | 186/442 [01:27<02:03"
     ]
    },
    {
     "name": "stdout",
     "output_type": "stream",
     "text": [
      "[GPU 모니터] 메모리 할당: 412.6MB, 예약: 1668.0MB\n"
     ]
    },
    {
     "name": "stderr",
     "output_type": "stream",
     "text": [
      "      15/30      1.63G     0.5956     0.8715      1.006         21        640:  47%|████▋     | 208/442 [01:37<01:46"
     ]
    },
    {
     "name": "stdout",
     "output_type": "stream",
     "text": [
      "[GPU 모니터] 메모리 할당: 1312.1MB, 예약: 1668.0MB\n"
     ]
    },
    {
     "name": "stderr",
     "output_type": "stream",
     "text": [
      "      15/30      1.63G     0.5943     0.8695      1.007         19        640:  52%|█████▏    | 229/442 [01:46<01:39"
     ]
    },
    {
     "name": "stdout",
     "output_type": "stream",
     "text": [
      "[GPU 모니터] 메모리 할당: 374.6MB, 예약: 1668.0MB\n"
     ]
    },
    {
     "name": "stderr",
     "output_type": "stream",
     "text": [
      "      15/30      1.63G     0.5921     0.8675      1.005         18        640:  57%|█████▋    | 251/442 [01:57<01:30"
     ]
    },
    {
     "name": "stdout",
     "output_type": "stream",
     "text": [
      "[GPU 모니터] 메모리 할당: 887.4MB, 예약: 1668.0MB\n"
     ]
    },
    {
     "name": "stderr",
     "output_type": "stream",
     "text": [
      "      15/30      1.63G     0.5977     0.8785      1.007         15        640:  62%|██████▏   | 272/442 [02:06<01:19"
     ]
    },
    {
     "name": "stdout",
     "output_type": "stream",
     "text": [
      "[GPU 모니터] 메모리 할당: 412.6MB, 예약: 1668.0MB\n"
     ]
    },
    {
     "name": "stderr",
     "output_type": "stream",
     "text": [
      "      15/30      1.63G     0.6009     0.8834      1.006         21        640:  66%|██████▌   | 292/442 [02:17<01:08"
     ]
    },
    {
     "name": "stdout",
     "output_type": "stream",
     "text": [
      "[GPU 모니터] 메모리 할당: 722.7MB, 예약: 1668.0MB\n"
     ]
    },
    {
     "name": "stderr",
     "output_type": "stream",
     "text": [
      "      15/30      1.63G     0.5997     0.8837      1.005         15        640:  71%|███████   | 313/442 [02:26<01:00"
     ]
    },
    {
     "name": "stdout",
     "output_type": "stream",
     "text": [
      "[GPU 모니터] 메모리 할당: 374.6MB, 예약: 1668.0MB\n"
     ]
    },
    {
     "name": "stderr",
     "output_type": "stream",
     "text": [
      "      15/30      1.63G     0.5995     0.8824      1.007         13        640:  76%|███████▌  | 334/442 [02:37<00:51"
     ]
    },
    {
     "name": "stdout",
     "output_type": "stream",
     "text": [
      "[GPU 모니터] 메모리 할당: 1259.7MB, 예약: 1668.0MB\n"
     ]
    },
    {
     "name": "stderr",
     "output_type": "stream",
     "text": [
      "      15/30      1.63G     0.6017     0.8866      1.008         24        640:  81%|████████  | 356/442 [02:46<00:39"
     ]
    },
    {
     "name": "stdout",
     "output_type": "stream",
     "text": [
      "[GPU 모니터] 메모리 할당: 412.6MB, 예약: 1668.0MB\n"
     ]
    },
    {
     "name": "stderr",
     "output_type": "stream",
     "text": [
      "      15/30      1.63G     0.6035     0.8889      1.007         16        640:  85%|████████▌ | 377/442 [02:56<00:29"
     ]
    },
    {
     "name": "stdout",
     "output_type": "stream",
     "text": [
      "[GPU 모니터] 메모리 할당: 374.6MB, 예약: 1668.0MB\n"
     ]
    },
    {
     "name": "stderr",
     "output_type": "stream",
     "text": [
      "      15/30      1.63G      0.602     0.8882      1.008         15        640:  90%|█████████ | 399/442 [03:06<00:20"
     ]
    },
    {
     "name": "stdout",
     "output_type": "stream",
     "text": [
      "[GPU 모니터] 메모리 할당: 364.5MB, 예약: 1668.0MB\n"
     ]
    },
    {
     "name": "stderr",
     "output_type": "stream",
     "text": [
      "      15/30      1.63G     0.6019     0.8857      1.007         22        640:  95%|█████████▌| 421/442 [03:17<00:09"
     ]
    },
    {
     "name": "stdout",
     "output_type": "stream",
     "text": [
      "[GPU 모니터] 메모리 할당: 374.6MB, 예약: 1668.0MB\n"
     ]
    },
    {
     "name": "stderr",
     "output_type": "stream",
     "text": [
      "      15/30      1.64G     0.6023     0.8813      1.008          6        640: 100%|██████████| 442/442 [03:26<00:00\n",
      "                 Class     Images  Instances      Box(P          R      mAP50  mAP50-95):   2%|▏         | 1/51 [00:"
     ]
    },
    {
     "name": "stdout",
     "output_type": "stream",
     "text": [
      "[GPU 모니터] 메모리 할당: 421.2MB, 예약: 1682.0MB\n"
     ]
    },
    {
     "name": "stderr",
     "output_type": "stream",
     "text": [
      "                 Class     Images  Instances      Box(P          R      mAP50  mAP50-95):  53%|█████▎    | 27/51 [00"
     ]
    },
    {
     "name": "stdout",
     "output_type": "stream",
     "text": [
      "[GPU 모니터] 메모리 할당: 450.5MB, 예약: 1682.0MB\n"
     ]
    },
    {
     "name": "stderr",
     "output_type": "stream",
     "text": [
      "                 Class     Images  Instances      Box(P          R      mAP50  mAP50-95): 100%|██████████| 51/51 [00"
     ]
    },
    {
     "name": "stdout",
     "output_type": "stream",
     "text": [
      "                   all        801        944       0.92       0.83      0.906      0.774\n"
     ]
    },
    {
     "name": "stderr",
     "output_type": "stream",
     "text": [
      "\n"
     ]
    },
    {
     "name": "stdout",
     "output_type": "stream",
     "text": [
      "[GPU 모니터] 메모리 할당: 400.0MB, 예약: 1682.0MB\n",
      "\n",
      "      Epoch    GPU_mem   box_loss   cls_loss   dfl_loss  Instances       Size\n"
     ]
    },
    {
     "name": "stderr",
     "output_type": "stream",
     "text": [
      "      16/30      1.64G     0.6456     0.9246      1.033         19        640:   5%|▍         | 21/442 [00:09<03:27,"
     ]
    },
    {
     "name": "stdout",
     "output_type": "stream",
     "text": [
      "[GPU 모니터] 메모리 할당: 379.7MB, 예약: 1682.0MB\n"
     ]
    },
    {
     "name": "stderr",
     "output_type": "stream",
     "text": [
      "      16/30      1.64G     0.6161     0.8555      1.016         19        640:  10%|▉         | 42/442 [00:19<03:12,"
     ]
    },
    {
     "name": "stdout",
     "output_type": "stream",
     "text": [
      "[GPU 모니터] 메모리 할당: 427.8MB, 예약: 1682.0MB\n"
     ]
    },
    {
     "name": "stderr",
     "output_type": "stream",
     "text": [
      "      16/30      1.64G     0.6185     0.8539      1.007         22        640:  14%|█▍        | 64/442 [00:30<02:55,"
     ]
    },
    {
     "name": "stdout",
     "output_type": "stream",
     "text": [
      "[GPU 모니터] 메모리 할당: 1297.0MB, 예약: 1682.0MB\n"
     ]
    },
    {
     "name": "stderr",
     "output_type": "stream",
     "text": [
      "      16/30      1.64G     0.6162     0.8442      1.005         22        640:  19%|█▉        | 85/442 [00:40<02:58,"
     ]
    },
    {
     "name": "stdout",
     "output_type": "stream",
     "text": [
      "[GPU 모니터] 메모리 할당: 389.8MB, 예약: 1682.0MB\n"
     ]
    },
    {
     "name": "stderr",
     "output_type": "stream",
     "text": [
      "      16/30      1.64G     0.6131     0.8527     0.9997          8        640:  24%|██▍       | 106/442 [00:49<02:35"
     ]
    },
    {
     "name": "stdout",
     "output_type": "stream",
     "text": [
      "[GPU 모니터] 메모리 할당: 427.8MB, 예약: 1682.0MB\n"
     ]
    },
    {
     "name": "stderr",
     "output_type": "stream",
     "text": [
      "      16/30      1.64G     0.6083     0.8644     0.9962         21        640:  29%|██▉       | 128/442 [01:00<02:22"
     ]
    },
    {
     "name": "stdout",
     "output_type": "stream",
     "text": [
      "[GPU 모니터] 메모리 할당: 1325.0MB, 예약: 1682.0MB\n"
     ]
    },
    {
     "name": "stderr",
     "output_type": "stream",
     "text": [
      "      16/30      1.64G     0.6181     0.8696     0.9975         10        640:  34%|███▎      | 149/442 [01:10<02:24"
     ]
    },
    {
     "name": "stdout",
     "output_type": "stream",
     "text": [
      "[GPU 모니터] 메모리 할당: 1278.9MB, 예약: 1682.0MB\n"
     ]
    },
    {
     "name": "stderr",
     "output_type": "stream",
     "text": [
      "      16/30      1.64G     0.6145     0.8644      0.997         20        640:  38%|███▊      | 170/442 [01:19<01:57"
     ]
    },
    {
     "name": "stdout",
     "output_type": "stream",
     "text": [
      "[GPU 모니터] 메모리 할당: 427.8MB, 예약: 1682.0MB\n"
     ]
    },
    {
     "name": "stderr",
     "output_type": "stream",
     "text": [
      "      16/30      1.64G     0.6099      0.859     0.9957         12        640:  43%|████▎     | 191/442 [01:29<02:01"
     ]
    },
    {
     "name": "stdout",
     "output_type": "stream",
     "text": [
      "[GPU 모니터] 메모리 할당: 389.8MB, 예약: 1682.0MB\n"
     ]
    },
    {
     "name": "stderr",
     "output_type": "stream",
     "text": [
      "      16/30      1.64G     0.6134     0.8671     0.9973         22        640:  48%|████▊     | 212/442 [01:39<01:45"
     ]
    },
    {
     "name": "stdout",
     "output_type": "stream",
     "text": [
      "[GPU 모니터] 메모리 할당: 427.8MB, 예약: 1682.0MB\n"
     ]
    },
    {
     "name": "stderr",
     "output_type": "stream",
     "text": [
      "      16/30      1.64G     0.6091     0.8642     0.9968         18        640:  53%|█████▎    | 233/442 [01:49<01:40"
     ]
    },
    {
     "name": "stdout",
     "output_type": "stream",
     "text": [
      "[GPU 모니터] 메모리 할당: 389.8MB, 예약: 1682.0MB\n"
     ]
    },
    {
     "name": "stderr",
     "output_type": "stream",
     "text": [
      "      16/30      1.64G     0.6083     0.8635     0.9979         19        640:  58%|█████▊    | 255/442 [01:59<01:25"
     ]
    },
    {
     "name": "stdout",
     "output_type": "stream",
     "text": [
      "[GPU 모니터] 메모리 할당: 389.8MB, 예약: 1682.0MB\n"
     ]
    },
    {
     "name": "stderr",
     "output_type": "stream",
     "text": [
      "      16/30      1.64G       0.61     0.8623     0.9997         20        640:  62%|██████▏   | 276/442 [02:09<01:14"
     ]
    },
    {
     "name": "stdout",
     "output_type": "stream",
     "text": [
      "[GPU 모니터] 메모리 할당: 1234.1MB, 예약: 1682.0MB\n"
     ]
    },
    {
     "name": "stderr",
     "output_type": "stream",
     "text": [
      "      16/30      1.64G     0.6096     0.8532     0.9988         15        640:  67%|██████▋   | 298/442 [02:19<01:09"
     ]
    },
    {
     "name": "stdout",
     "output_type": "stream",
     "text": [
      "[GPU 모니터] 메모리 할당: 427.8MB, 예약: 1682.0MB\n"
     ]
    },
    {
     "name": "stderr",
     "output_type": "stream",
     "text": [
      "      16/30      1.64G     0.6122     0.8583      0.999         20        640:  72%|███████▏  | 319/442 [02:29<00:57"
     ]
    },
    {
     "name": "stdout",
     "output_type": "stream",
     "text": [
      "[GPU 모니터] 메모리 할당: 793.6MB, 예약: 1682.0MB\n"
     ]
    },
    {
     "name": "stderr",
     "output_type": "stream",
     "text": [
      "      16/30      1.64G     0.6105     0.8565     0.9993         16        640:  77%|███████▋  | 341/442 [02:40<00:46"
     ]
    },
    {
     "name": "stdout",
     "output_type": "stream",
     "text": [
      "[GPU 모니터] 메모리 할당: 1174.3MB, 예약: 1682.0MB\n"
     ]
    },
    {
     "name": "stderr",
     "output_type": "stream",
     "text": [
      "      16/30      1.64G     0.6103     0.8558     0.9978         24        640:  82%|████████▏ | 363/442 [02:50<00:37"
     ]
    },
    {
     "name": "stdout",
     "output_type": "stream",
     "text": [
      "[GPU 모니터] 메모리 할당: 1289.4MB, 예약: 1682.0MB\n"
     ]
    },
    {
     "name": "stderr",
     "output_type": "stream",
     "text": [
      "      16/30      1.64G     0.6064     0.8542     0.9976         25        640:  87%|████████▋ | 384/442 [03:00<00:25"
     ]
    },
    {
     "name": "stdout",
     "output_type": "stream",
     "text": [
      "[GPU 모니터] 메모리 할당: 587.4MB, 예약: 1682.0MB\n"
     ]
    },
    {
     "name": "stderr",
     "output_type": "stream",
     "text": [
      "      16/30      1.64G     0.6044     0.8541     0.9979         18        640:  92%|█████████▏| 405/442 [03:09<00:18"
     ]
    },
    {
     "name": "stdout",
     "output_type": "stream",
     "text": [
      "[GPU 모니터] 메모리 할당: 379.7MB, 예약: 1682.0MB\n"
     ]
    },
    {
     "name": "stderr",
     "output_type": "stream",
     "text": [
      "      16/30      1.64G     0.6038     0.8542      0.998         15        640:  96%|█████████▋| 426/442 [03:19<00:07"
     ]
    },
    {
     "name": "stdout",
     "output_type": "stream",
     "text": [
      "[GPU 모니터] 메모리 할당: 427.8MB, 예약: 1682.0MB\n"
     ]
    },
    {
     "name": "stderr",
     "output_type": "stream",
     "text": [
      "      16/30      1.66G     0.6056     0.8527     0.9991          6        640: 100%|██████████| 442/442 [03:27<00:00\n",
      "                 Class     Images  Instances      Box(P          R      mAP50  mAP50-95):  14%|█▎        | 7/51 [00:"
     ]
    },
    {
     "name": "stdout",
     "output_type": "stream",
     "text": [
      "[GPU 모니터] 메모리 할당: 436.4MB, 예약: 1696.0MB\n"
     ]
    },
    {
     "name": "stderr",
     "output_type": "stream",
     "text": [
      "                 Class     Images  Instances      Box(P          R      mAP50  mAP50-95):  63%|██████▎   | 32/51 [00"
     ]
    },
    {
     "name": "stdout",
     "output_type": "stream",
     "text": [
      "[GPU 모니터] 메모리 할당: 465.1MB, 예약: 1696.0MB\n"
     ]
    },
    {
     "name": "stderr",
     "output_type": "stream",
     "text": [
      "                 Class     Images  Instances      Box(P          R      mAP50  mAP50-95): 100%|██████████| 51/51 [00"
     ]
    },
    {
     "name": "stdout",
     "output_type": "stream",
     "text": [
      "                   all        801        944      0.932      0.822        0.9      0.768\n"
     ]
    },
    {
     "name": "stderr",
     "output_type": "stream",
     "text": [
      "\n"
     ]
    },
    {
     "name": "stdout",
     "output_type": "stream",
     "text": [
      "\n",
      "      Epoch    GPU_mem   box_loss   cls_loss   dfl_loss  Instances       Size\n"
     ]
    },
    {
     "name": "stderr",
     "output_type": "stream",
     "text": [
      "      17/30      1.66G     0.6204      0.871     0.9724         16        640:   1%|          | 4/442 [00:01<03:34, "
     ]
    },
    {
     "name": "stdout",
     "output_type": "stream",
     "text": [
      "[GPU 모니터] 메모리 할당: 442.9MB, 예약: 1696.0MB\n"
     ]
    },
    {
     "name": "stderr",
     "output_type": "stream",
     "text": [
      "      17/30      1.66G      0.639     0.8517      1.006         21        640:   6%|▌         | 26/442 [00:12<03:12,"
     ]
    },
    {
     "name": "stdout",
     "output_type": "stream",
     "text": [
      "[GPU 모니터] 메모리 할당: 896.5MB, 예약: 1698.0MB\n"
     ]
    },
    {
     "name": "stderr",
     "output_type": "stream",
     "text": [
      "      17/30      1.66G      0.617     0.8655     0.9983         18        640:  11%|█         | 47/442 [00:22<03:09,"
     ]
    },
    {
     "name": "stdout",
     "output_type": "stream",
     "text": [
      "[GPU 모니터] 메모리 할당: 1279.9MB, 예약: 1698.0MB\n"
     ]
    },
    {
     "name": "stderr",
     "output_type": "stream",
     "text": [
      "      17/30      1.66G     0.6139     0.8691      1.003         19        640:  15%|█▌        | 67/442 [00:31<02:59,"
     ]
    },
    {
     "name": "stdout",
     "output_type": "stream",
     "text": [
      "[GPU 모니터] 메모리 할당: 394.9MB, 예약: 1698.0MB\n"
     ]
    },
    {
     "name": "stderr",
     "output_type": "stream",
     "text": [
      "      17/30      1.66G     0.6008     0.8472     0.9931         19        640:  20%|█▉        | 87/442 [00:41<02:53,"
     ]
    },
    {
     "name": "stdout",
     "output_type": "stream",
     "text": [
      "[GPU 모니터] 메모리 할당: 404.9MB, 예약: 1698.0MB\n"
     ]
    },
    {
     "name": "stderr",
     "output_type": "stream",
     "text": [
      "      17/30      1.66G     0.6047     0.8522      0.996         17        640:  24%|██▍       | 107/442 [00:52<03:02"
     ]
    },
    {
     "name": "stdout",
     "output_type": "stream",
     "text": [
      "[GPU 모니터] 메모리 할당: 394.9MB, 예약: 1698.0MB\n"
     ]
    },
    {
     "name": "stderr",
     "output_type": "stream",
     "text": [
      "      17/30      1.66G     0.6091     0.8419     0.9966         17        640:  29%|██▊       | 127/442 [01:02<02:37"
     ]
    },
    {
     "name": "stdout",
     "output_type": "stream",
     "text": [
      "[GPU 모니터] 메모리 할당: 404.9MB, 예약: 1698.0MB\n"
     ]
    },
    {
     "name": "stderr",
     "output_type": "stream",
     "text": [
      "      17/30      1.66G     0.6016      0.845     0.9937         20        640:  33%|███▎      | 147/442 [01:12<02:29"
     ]
    },
    {
     "name": "stdout",
     "output_type": "stream",
     "text": [
      "[GPU 모니터] 메모리 할당: 394.9MB, 예약: 1698.0MB\n"
     ]
    },
    {
     "name": "stderr",
     "output_type": "stream",
     "text": [
      "      17/30      1.66G     0.6039     0.8518     0.9938         14        640:  38%|███▊      | 167/442 [01:21<02:09"
     ]
    },
    {
     "name": "stdout",
     "output_type": "stream",
     "text": [
      "[GPU 모니터] 메모리 할당: 404.9MB, 예약: 1698.0MB\n"
     ]
    },
    {
     "name": "stderr",
     "output_type": "stream",
     "text": [
      "      17/30      1.66G     0.6044     0.8491     0.9975         15        640:  43%|████▎     | 188/442 [01:32<02:03"
     ]
    },
    {
     "name": "stdout",
     "output_type": "stream",
     "text": [
      "[GPU 모니터] 메모리 할당: 1330.1MB, 예약: 1698.0MB\n"
     ]
    },
    {
     "name": "stderr",
     "output_type": "stream",
     "text": [
      "      17/30      1.66G     0.6034     0.8421     0.9985         15        640:  47%|████▋     | 209/442 [01:42<01:54"
     ]
    },
    {
     "name": "stdout",
     "output_type": "stream",
     "text": [
      "[GPU 모니터] 메모리 할당: 576.7MB, 예약: 1698.0MB\n"
     ]
    },
    {
     "name": "stderr",
     "output_type": "stream",
     "text": [
      "      17/30      1.66G     0.6014     0.8474     0.9968         24        640:  52%|█████▏    | 229/442 [01:52<01:46"
     ]
    },
    {
     "name": "stdout",
     "output_type": "stream",
     "text": [
      "[GPU 모니터] 메모리 할당: 1313.8MB, 예약: 1698.0MB\n"
     ]
    },
    {
     "name": "stderr",
     "output_type": "stream",
     "text": [
      "      17/30      1.66G     0.6038     0.8453     0.9979         14        640:  56%|█████▋    | 249/442 [02:02<01:35"
     ]
    },
    {
     "name": "stdout",
     "output_type": "stream",
     "text": [
      "[GPU 모니터] 메모리 할당: 404.9MB, 예약: 1698.0MB\n"
     ]
    },
    {
     "name": "stderr",
     "output_type": "stream",
     "text": [
      "      17/30      1.66G      0.602     0.8448     0.9977         17        640:  61%|██████    | 270/442 [02:12<01:24"
     ]
    },
    {
     "name": "stdout",
     "output_type": "stream",
     "text": [
      "[GPU 모니터] 메모리 할당: 1224.7MB, 예약: 1698.0MB\n"
     ]
    },
    {
     "name": "stderr",
     "output_type": "stream",
     "text": [
      "      17/30      1.66G     0.6035     0.8413     0.9973         19        640:  66%|██████▌   | 290/442 [02:22<01:18"
     ]
    },
    {
     "name": "stdout",
     "output_type": "stream",
     "text": [
      "[GPU 모니터] 메모리 할당: 873.2MB, 예약: 1698.0MB\n"
     ]
    },
    {
     "name": "stderr",
     "output_type": "stream",
     "text": [
      "      17/30      1.66G     0.6022     0.8418     0.9963         12        640:  70%|███████   | 310/442 [02:31<01:04"
     ]
    },
    {
     "name": "stdout",
     "output_type": "stream",
     "text": [
      "[GPU 모니터] 메모리 할당: 442.9MB, 예약: 1698.0MB\n"
     ]
    },
    {
     "name": "stderr",
     "output_type": "stream",
     "text": [
      "      17/30      1.66G     0.6016     0.8409     0.9953         14        640:  75%|███████▍  | 330/442 [02:41<00:56"
     ]
    },
    {
     "name": "stdout",
     "output_type": "stream",
     "text": [
      "[GPU 모니터] 메모리 할당: 442.9MB, 예약: 1698.0MB\n"
     ]
    },
    {
     "name": "stderr",
     "output_type": "stream",
     "text": [
      "      17/30      1.66G     0.6026     0.8426     0.9949         20        640:  79%|███████▉  | 350/442 [02:52<00:46"
     ]
    },
    {
     "name": "stdout",
     "output_type": "stream",
     "text": [
      "[GPU 모니터] 메모리 할당: 442.9MB, 예약: 1698.0MB\n"
     ]
    },
    {
     "name": "stderr",
     "output_type": "stream",
     "text": [
      "      17/30      1.66G     0.6048     0.8445     0.9953         19        640:  84%|████████▍ | 371/442 [03:02<00:35"
     ]
    },
    {
     "name": "stdout",
     "output_type": "stream",
     "text": [
      "[GPU 모니터] 메모리 할당: 1294.1MB, 예약: 1698.0MB\n"
     ]
    },
    {
     "name": "stderr",
     "output_type": "stream",
     "text": [
      "      17/30      1.66G     0.6052     0.8455     0.9945         18        640:  88%|████████▊ | 391/442 [03:12<00:24"
     ]
    },
    {
     "name": "stdout",
     "output_type": "stream",
     "text": [
      "[GPU 모니터] 메모리 할당: 404.9MB, 예약: 1698.0MB\n"
     ]
    },
    {
     "name": "stderr",
     "output_type": "stream",
     "text": [
      "      17/30      1.66G     0.6072     0.8506     0.9954         16        640:  93%|█████████▎| 413/442 [03:22<00:13"
     ]
    },
    {
     "name": "stdout",
     "output_type": "stream",
     "text": [
      "[GPU 모니터] 메모리 할당: 1249.3MB, 예약: 1698.0MB\n"
     ]
    },
    {
     "name": "stderr",
     "output_type": "stream",
     "text": [
      "      17/30      1.66G     0.6074      0.852     0.9961         22        640:  98%|█████████▊| 433/442 [03:32<00:04"
     ]
    },
    {
     "name": "stdout",
     "output_type": "stream",
     "text": [
      "[GPU 모니터] 메모리 할당: 404.9MB, 예약: 1698.0MB\n"
     ]
    },
    {
     "name": "stderr",
     "output_type": "stream",
     "text": [
      "      17/30      1.67G     0.6072     0.8532     0.9961          3        640: 100%|██████████| 442/442 [03:36<00:00\n",
      "                 Class     Images  Instances      Box(P          R      mAP50  mAP50-95):  27%|██▋       | 14/51 [00"
     ]
    },
    {
     "name": "stdout",
     "output_type": "stream",
     "text": [
      "[GPU 모니터] 메모리 할당: 481.6MB, 예약: 1712.0MB\n"
     ]
    },
    {
     "name": "stderr",
     "output_type": "stream",
     "text": [
      "                 Class     Images  Instances      Box(P          R      mAP50  mAP50-95):  75%|███████▍  | 38/51 [00"
     ]
    },
    {
     "name": "stdout",
     "output_type": "stream",
     "text": [
      "[GPU 모니터] 메모리 할당: 451.6MB, 예약: 1712.0MB\n"
     ]
    },
    {
     "name": "stderr",
     "output_type": "stream",
     "text": [
      "                 Class     Images  Instances      Box(P          R      mAP50  mAP50-95): 100%|██████████| 51/51 [00"
     ]
    },
    {
     "name": "stdout",
     "output_type": "stream",
     "text": [
      "                   all        801        944      0.949      0.826      0.909      0.776\n"
     ]
    },
    {
     "name": "stderr",
     "output_type": "stream",
     "text": [
      "\n"
     ]
    },
    {
     "name": "stdout",
     "output_type": "stream",
     "text": [
      "\n",
      "      Epoch    GPU_mem   box_loss   cls_loss   dfl_loss  Instances       Size\n"
     ]
    },
    {
     "name": "stderr",
     "output_type": "stream",
     "text": [
      "      18/30      1.67G     0.6724     0.8288      1.081         15        640:   2%|▏         | 8/442 [00:03<03:26, "
     ]
    },
    {
     "name": "stdout",
     "output_type": "stream",
     "text": [
      "[GPU 모니터] 메모리 할당: 458.1MB, 예약: 1712.0MB\n"
     ]
    },
    {
     "name": "stderr",
     "output_type": "stream",
     "text": [
      "      18/30      1.67G     0.6096     0.7786      1.031         17        640:   7%|▋         | 29/442 [00:14<03:17,"
     ]
    },
    {
     "name": "stdout",
     "output_type": "stream",
     "text": [
      "[GPU 모니터] 메모리 할당: 420.1MB, 예약: 1712.0MB\n"
     ]
    },
    {
     "name": "stderr",
     "output_type": "stream",
     "text": [
      "      18/30      1.67G     0.6299     0.8146      1.019         17        640:  11%|█         | 49/442 [00:23<03:15,"
     ]
    },
    {
     "name": "stdout",
     "output_type": "stream",
     "text": [
      "[GPU 모니터] 메모리 할당: 410.1MB, 예약: 1712.0MB\n"
     ]
    },
    {
     "name": "stderr",
     "output_type": "stream",
     "text": [
      "      18/30      1.67G     0.5998     0.7929       1.02         21        640:  16%|█▌        | 70/442 [00:34<03:05,"
     ]
    },
    {
     "name": "stdout",
     "output_type": "stream",
     "text": [
      "[GPU 모니터] 메모리 할당: 943.4MB, 예약: 1712.0MB\n"
     ]
    },
    {
     "name": "stderr",
     "output_type": "stream",
     "text": [
      "      18/30      1.67G      0.602     0.7993       1.02         17        640:  20%|██        | 90/442 [00:44<02:56,"
     ]
    },
    {
     "name": "stdout",
     "output_type": "stream",
     "text": [
      "[GPU 모니터] 메모리 할당: 458.1MB, 예약: 1712.0MB\n"
     ]
    },
    {
     "name": "stderr",
     "output_type": "stream",
     "text": [
      "      18/30      1.67G     0.6119     0.8042      1.018         16        640:  25%|██▍       | 110/442 [00:53<02:40"
     ]
    },
    {
     "name": "stdout",
     "output_type": "stream",
     "text": [
      "[GPU 모니터] 메모리 할당: 458.1MB, 예약: 1712.0MB\n"
     ]
    },
    {
     "name": "stderr",
     "output_type": "stream",
     "text": [
      "      18/30      1.67G     0.6088      0.818      1.018         12        640:  29%|██▉       | 130/442 [01:03<02:38"
     ]
    },
    {
     "name": "stdout",
     "output_type": "stream",
     "text": [
      "[GPU 모니터] 메모리 할당: 458.1MB, 예약: 1712.0MB\n"
     ]
    },
    {
     "name": "stderr",
     "output_type": "stream",
     "text": [
      "      18/30      1.67G     0.6086     0.8177      1.019         17        640:  34%|███▍      | 151/442 [01:14<02:20"
     ]
    },
    {
     "name": "stdout",
     "output_type": "stream",
     "text": [
      "[GPU 모니터] 메모리 할당: 420.1MB, 예약: 1712.0MB\n"
     ]
    },
    {
     "name": "stderr",
     "output_type": "stream",
     "text": [
      "      18/30      1.67G     0.6178     0.8279      1.019         16        640:  39%|███▊      | 171/442 [01:23<02:17"
     ]
    },
    {
     "name": "stdout",
     "output_type": "stream",
     "text": [
      "[GPU 모니터] 메모리 할당: 420.1MB, 예약: 1712.0MB\n"
     ]
    },
    {
     "name": "stderr",
     "output_type": "stream",
     "text": [
      "      18/30      1.67G     0.6136     0.8292      1.017         13        640:  43%|████▎     | 192/442 [01:34<02:01"
     ]
    },
    {
     "name": "stdout",
     "output_type": "stream",
     "text": [
      "[GPU 모니터] 메모리 할당: 1343.3MB, 예약: 1712.0MB\n"
     ]
    },
    {
     "name": "stderr",
     "output_type": "stream",
     "text": [
      "      18/30      1.67G      0.609     0.8229      1.012         17        640:  48%|████▊     | 212/442 [01:44<01:55"
     ]
    },
    {
     "name": "stdout",
     "output_type": "stream",
     "text": [
      "[GPU 모니터] 메모리 할당: 892.7MB, 예약: 1712.0MB\n"
     ]
    },
    {
     "name": "stderr",
     "output_type": "stream",
     "text": [
      "      18/30      1.67G     0.6079     0.8206       1.01         23        640:  52%|█████▏    | 232/442 [01:53<01:36"
     ]
    },
    {
     "name": "stdout",
     "output_type": "stream",
     "text": [
      "[GPU 모니터] 메모리 할당: 458.1MB, 예약: 1712.0MB\n"
     ]
    },
    {
     "name": "stderr",
     "output_type": "stream",
     "text": [
      "      18/30      1.67G     0.6076     0.8195      1.009         17        640:  57%|█████▋    | 252/442 [02:03<01:37"
     ]
    },
    {
     "name": "stdout",
     "output_type": "stream",
     "text": [
      "[GPU 모니터] 메모리 할당: 458.1MB, 예약: 1712.0MB\n"
     ]
    },
    {
     "name": "stderr",
     "output_type": "stream",
     "text": [
      "      18/30      1.67G     0.6056     0.8226      1.008         22        640:  62%|██████▏   | 272/442 [02:13<01:21"
     ]
    },
    {
     "name": "stdout",
     "output_type": "stream",
     "text": [
      "[GPU 모니터] 메모리 할당: 1329.1MB, 예약: 1712.0MB\n"
     ]
    },
    {
     "name": "stderr",
     "output_type": "stream",
     "text": [
      "      18/30      1.67G     0.6052     0.8198      1.008         16        640:  66%|██████▋   | 293/442 [02:24<01:14"
     ]
    },
    {
     "name": "stdout",
     "output_type": "stream",
     "text": [
      "[GPU 모니터] 메모리 할당: 1327.8MB, 예약: 1712.0MB\n"
     ]
    },
    {
     "name": "stderr",
     "output_type": "stream",
     "text": [
      "      18/30      1.67G     0.6024     0.8201      1.005         15        640:  71%|███████   | 313/442 [02:34<01:01"
     ]
    },
    {
     "name": "stdout",
     "output_type": "stream",
     "text": [
      "[GPU 모니터] 메모리 할당: 410.1MB, 예약: 1712.0MB\n"
     ]
    },
    {
     "name": "stderr",
     "output_type": "stream",
     "text": [
      "      18/30      1.67G     0.6006     0.8204      1.005         12        640:  76%|███████▌  | 334/442 [02:44<00:51"
     ]
    },
    {
     "name": "stdout",
     "output_type": "stream",
     "text": [
      "[GPU 모니터] 메모리 할당: 1109.5MB, 예약: 1712.0MB\n"
     ]
    },
    {
     "name": "stderr",
     "output_type": "stream",
     "text": [
      "      18/30      1.67G     0.5983     0.8167      1.004         22        640:  80%|███████▉  | 353/442 [02:54<00:45"
     ]
    },
    {
     "name": "stdout",
     "output_type": "stream",
     "text": [
      "[GPU 모니터] 메모리 할당: 410.1MB, 예약: 1712.0MB\n"
     ]
    },
    {
     "name": "stderr",
     "output_type": "stream",
     "text": [
      "      18/30      1.67G     0.5989     0.8162      1.005         15        640:  84%|████████▍ | 373/442 [03:03<00:34"
     ]
    },
    {
     "name": "stdout",
     "output_type": "stream",
     "text": [
      "[GPU 모니터] 메모리 할당: 420.1MB, 예약: 1712.0MB\n"
     ]
    },
    {
     "name": "stderr",
     "output_type": "stream",
     "text": [
      "      18/30      1.67G     0.5963     0.8133      1.004         17        640:  89%|████████▉ | 393/442 [03:14<00:24"
     ]
    },
    {
     "name": "stdout",
     "output_type": "stream",
     "text": [
      "[GPU 모니터] 메모리 할당: 410.1MB, 예약: 1712.0MB\n"
     ]
    },
    {
     "name": "stderr",
     "output_type": "stream",
     "text": [
      "      18/30      1.67G     0.5979     0.8125      1.004         14        640:  94%|█████████▎| 414/442 [03:24<00:13"
     ]
    },
    {
     "name": "stdout",
     "output_type": "stream",
     "text": [
      "[GPU 모니터] 메모리 할당: 458.1MB, 예약: 1712.0MB\n"
     ]
    },
    {
     "name": "stderr",
     "output_type": "stream",
     "text": [
      "      18/30      1.67G     0.5991     0.8087      1.004          8        640:  98%|█████████▊| 435/442 [03:34<00:03"
     ]
    },
    {
     "name": "stdout",
     "output_type": "stream",
     "text": [
      "[GPU 모니터] 메모리 할당: 1326.4MB, 예약: 1712.0MB\n"
     ]
    },
    {
     "name": "stderr",
     "output_type": "stream",
     "text": [
      "      18/30      1.68G     0.5985     0.8064      1.003          5        640: 100%|██████████| 442/442 [03:37<00:00\n",
      "                 Class     Images  Instances      Box(P          R      mAP50  mAP50-95):  31%|███▏      | 16/51 [00"
     ]
    },
    {
     "name": "stdout",
     "output_type": "stream",
     "text": [
      "[GPU 모니터] 메모리 할당: 467.0MB, 예약: 1720.0MB\n"
     ]
    },
    {
     "name": "stderr",
     "output_type": "stream",
     "text": [
      "                 Class     Images  Instances      Box(P          R      mAP50  mAP50-95):  78%|███████▊  | 40/51 [00"
     ]
    },
    {
     "name": "stdout",
     "output_type": "stream",
     "text": [
      "[GPU 모니터] 메모리 할당: 467.0MB, 예약: 1720.0MB\n"
     ]
    },
    {
     "name": "stderr",
     "output_type": "stream",
     "text": [
      "                 Class     Images  Instances      Box(P          R      mAP50  mAP50-95): 100%|██████████| 51/51 [00"
     ]
    },
    {
     "name": "stdout",
     "output_type": "stream",
     "text": [
      "                   all        801        944      0.918      0.854      0.913      0.783\n"
     ]
    },
    {
     "name": "stderr",
     "output_type": "stream",
     "text": [
      "\n"
     ]
    },
    {
     "name": "stdout",
     "output_type": "stream",
     "text": [
      "\n",
      "      Epoch    GPU_mem   box_loss   cls_loss   dfl_loss  Instances       Size\n"
     ]
    },
    {
     "name": "stderr",
     "output_type": "stream",
     "text": [
      "      19/30      1.69G     0.5728     0.7497     0.9839         13        640:   2%|▏         | 10/442 [00:04<03:27,"
     ]
    },
    {
     "name": "stdout",
     "output_type": "stream",
     "text": [
      "[GPU 모니터] 메모리 할당: 1229.0MB, 예약: 1728.0MB\n"
     ]
    },
    {
     "name": "stderr",
     "output_type": "stream",
     "text": [
      "      19/30      1.69G     0.5928     0.7525     0.9874         19        640:   7%|▋         | 31/442 [00:15<03:23,"
     ]
    },
    {
     "name": "stdout",
     "output_type": "stream",
     "text": [
      "[GPU 모니터] 메모리 할당: 1080.3MB, 예약: 1728.0MB\n"
     ]
    },
    {
     "name": "stderr",
     "output_type": "stream",
     "text": [
      "      19/30      1.69G      0.593     0.7774     0.9769         21        640:  12%|█▏        | 52/442 [00:24<03:05,"
     ]
    },
    {
     "name": "stdout",
     "output_type": "stream",
     "text": [
      "[GPU 모니터] 메모리 할당: 473.3MB, 예약: 1728.0MB\n"
     ]
    },
    {
     "name": "stderr",
     "output_type": "stream",
     "text": [
      "      19/30      1.69G        0.6     0.7758      0.992         18        640:  16%|█▋        | 72/442 [00:35<03:05,"
     ]
    },
    {
     "name": "stdout",
     "output_type": "stream",
     "text": [
      "[GPU 모니터] 메모리 할당: 1360.5MB, 예약: 1728.0MB\n"
     ]
    },
    {
     "name": "stderr",
     "output_type": "stream",
     "text": [
      "      19/30      1.69G     0.6042       0.78     0.9942         24        640:  21%|██        | 92/442 [00:44<02:50,"
     ]
    },
    {
     "name": "stdout",
     "output_type": "stream",
     "text": [
      "[GPU 모니터] 메모리 할당: 473.3MB, 예약: 1728.0MB\n"
     ]
    },
    {
     "name": "stderr",
     "output_type": "stream",
     "text": [
      "      19/30      1.69G     0.5969     0.7788     0.9938         22        640:  25%|██▌       | 112/442 [00:54<02:45"
     ]
    },
    {
     "name": "stdout",
     "output_type": "stream",
     "text": [
      "[GPU 모니터] 메모리 할당: 958.0MB, 예약: 1728.0MB\n"
     ]
    },
    {
     "name": "stderr",
     "output_type": "stream",
     "text": [
      "      19/30      1.69G     0.5958     0.7813     0.9924         13        640:  30%|███       | 133/442 [01:05<02:28"
     ]
    },
    {
     "name": "stdout",
     "output_type": "stream",
     "text": [
      "[GPU 모니터] 메모리 할당: 1308.3MB, 예약: 1728.0MB\n"
     ]
    },
    {
     "name": "stderr",
     "output_type": "stream",
     "text": [
      "      19/30      1.69G     0.5951     0.7844     0.9942         20        640:  35%|███▍      | 153/442 [01:14<02:23"
     ]
    },
    {
     "name": "stdout",
     "output_type": "stream",
     "text": [
      "[GPU 모니터] 메모리 할당: 435.3MB, 예약: 1728.0MB\n"
     ]
    },
    {
     "name": "stderr",
     "output_type": "stream",
     "text": [
      "      19/30      1.69G     0.5983     0.7889     0.9926         19        640:  39%|███▉      | 174/442 [01:24<02:11"
     ]
    },
    {
     "name": "stdout",
     "output_type": "stream",
     "text": [
      "[GPU 모니터] 메모리 할당: 473.3MB, 예약: 1728.0MB\n"
     ]
    },
    {
     "name": "stderr",
     "output_type": "stream",
     "text": [
      "      19/30      1.69G     0.5938     0.7927     0.9911         22        640:  44%|████▍     | 194/442 [01:34<02:00"
     ]
    },
    {
     "name": "stdout",
     "output_type": "stream",
     "text": [
      "[GPU 모니터] 메모리 할당: 473.3MB, 예약: 1728.0MB\n"
     ]
    },
    {
     "name": "stderr",
     "output_type": "stream",
     "text": [
      "      19/30      1.69G     0.5923     0.7912     0.9898         19        640:  49%|████▊     | 215/442 [01:44<01:51"
     ]
    },
    {
     "name": "stdout",
     "output_type": "stream",
     "text": [
      "[GPU 모니터] 메모리 할당: 425.2MB, 예약: 1728.0MB\n"
     ]
    },
    {
     "name": "stderr",
     "output_type": "stream",
     "text": [
      "      19/30      1.69G     0.5931     0.7917     0.9873         14        640:  53%|█████▎    | 235/442 [01:54<01:33"
     ]
    },
    {
     "name": "stdout",
     "output_type": "stream",
     "text": [
      "[GPU 모니터] 메모리 할당: 435.3MB, 예약: 1728.0MB\n"
     ]
    },
    {
     "name": "stderr",
     "output_type": "stream",
     "text": [
      "      19/30      1.69G     0.5914     0.7867     0.9856         18        640:  58%|█████▊    | 256/442 [02:04<01:32"
     ]
    },
    {
     "name": "stdout",
     "output_type": "stream",
     "text": [
      "[GPU 모니터] 메모리 할당: 473.3MB, 예약: 1728.0MB\n"
     ]
    },
    {
     "name": "stderr",
     "output_type": "stream",
     "text": [
      "      19/30      1.69G     0.5921     0.7888     0.9868         18        640:  62%|██████▏   | 276/442 [02:14<01:20"
     ]
    },
    {
     "name": "stdout",
     "output_type": "stream",
     "text": [
      "[GPU 모니터] 메모리 할당: 856.6MB, 예약: 1728.0MB\n"
     ]
    },
    {
     "name": "stderr",
     "output_type": "stream",
     "text": [
      "      19/30      1.69G     0.5923     0.7914     0.9858         22        640:  67%|██████▋   | 297/442 [02:24<01:11"
     ]
    },
    {
     "name": "stdout",
     "output_type": "stream",
     "text": [
      "[GPU 모니터] 메모리 할당: 435.3MB, 예약: 1728.0MB\n"
     ]
    },
    {
     "name": "stderr",
     "output_type": "stream",
     "text": [
      "      19/30      1.69G     0.5919     0.7931     0.9879         18        640:  72%|███████▏  | 318/442 [02:34<00:59"
     ]
    },
    {
     "name": "stdout",
     "output_type": "stream",
     "text": [
      "[GPU 모니터] 메모리 할당: 473.3MB, 예약: 1728.0MB\n"
     ]
    },
    {
     "name": "stderr",
     "output_type": "stream",
     "text": [
      "      19/30      1.69G     0.5927      0.791     0.9904         19        640:  76%|███████▋  | 338/442 [02:44<00:51"
     ]
    },
    {
     "name": "stdout",
     "output_type": "stream",
     "text": [
      "[GPU 모니터] 메모리 할당: 473.3MB, 예약: 1728.0MB\n"
     ]
    },
    {
     "name": "stderr",
     "output_type": "stream",
     "text": [
      "      19/30      1.69G     0.5975     0.7936     0.9937         17        640:  81%|████████  | 358/442 [02:54<00:42"
     ]
    },
    {
     "name": "stdout",
     "output_type": "stream",
     "text": [
      "[GPU 모니터] 메모리 할당: 473.3MB, 예약: 1728.0MB\n"
     ]
    },
    {
     "name": "stderr",
     "output_type": "stream",
     "text": [
      "      19/30      1.69G     0.5964     0.7944     0.9924         22        640:  86%|████████▌ | 378/442 [03:04<00:31"
     ]
    },
    {
     "name": "stdout",
     "output_type": "stream",
     "text": [
      "[GPU 모니터] 메모리 할당: 473.3MB, 예약: 1728.0MB\n"
     ]
    },
    {
     "name": "stderr",
     "output_type": "stream",
     "text": [
      "      19/30      1.69G     0.5978     0.7947     0.9937         35        640:  90%|█████████ | 398/442 [03:14<00:21"
     ]
    },
    {
     "name": "stdout",
     "output_type": "stream",
     "text": [
      "[GPU 모니터] 메모리 할당: 1007.6MB, 예약: 1728.0MB\n"
     ]
    },
    {
     "name": "stderr",
     "output_type": "stream",
     "text": [
      "      19/30      1.69G     0.5945     0.7889     0.9927         18        640:  95%|█████████▍| 419/442 [03:24<00:11"
     ]
    },
    {
     "name": "stdout",
     "output_type": "stream",
     "text": [
      "[GPU 모니터] 메모리 할당: 435.3MB, 예약: 1728.0MB\n"
     ]
    },
    {
     "name": "stderr",
     "output_type": "stream",
     "text": [
      "      19/30      1.69G     0.5953     0.7892     0.9928         15        640: 100%|█████████▉| 440/442 [03:35<00:00"
     ]
    },
    {
     "name": "stdout",
     "output_type": "stream",
     "text": [
      "[GPU 모니터] 메모리 할당: 1036.0MB, 예약: 1728.0MB\n"
     ]
    },
    {
     "name": "stderr",
     "output_type": "stream",
     "text": [
      "      19/30       1.7G     0.5971     0.7895     0.9933          4        640: 100%|██████████| 442/442 [03:35<00:00\n",
      "                 Class     Images  Instances      Box(P          R      mAP50  mAP50-95):  43%|████▎     | 22/51 [00"
     ]
    },
    {
     "name": "stdout",
     "output_type": "stream",
     "text": [
      "[GPU 모니터] 메모리 할당: 481.9MB, 예약: 1742.0MB\n"
     ]
    },
    {
     "name": "stderr",
     "output_type": "stream",
     "text": [
      "                 Class     Images  Instances      Box(P          R      mAP50  mAP50-95):  90%|█████████ | 46/51 [00"
     ]
    },
    {
     "name": "stdout",
     "output_type": "stream",
     "text": [
      "[GPU 모니터] 메모리 할당: 481.9MB, 예약: 1742.0MB\n"
     ]
    },
    {
     "name": "stderr",
     "output_type": "stream",
     "text": [
      "                 Class     Images  Instances      Box(P          R      mAP50  mAP50-95): 100%|██████████| 51/51 [00"
     ]
    },
    {
     "name": "stdout",
     "output_type": "stream",
     "text": [
      "                   all        801        944      0.959      0.837      0.917      0.785\n"
     ]
    },
    {
     "name": "stderr",
     "output_type": "stream",
     "text": [
      "\n"
     ]
    },
    {
     "name": "stdout",
     "output_type": "stream",
     "text": [
      "\n",
      "      Epoch    GPU_mem   box_loss   cls_loss   dfl_loss  Instances       Size\n"
     ]
    },
    {
     "name": "stderr",
     "output_type": "stream",
     "text": [
      "      20/30       1.7G     0.5202     0.7338     0.9754         13        640:   3%|▎         | 15/442 [00:07<03:35,"
     ]
    },
    {
     "name": "stdout",
     "output_type": "stream",
     "text": [
      "[GPU 모니터] 메모리 할당: 450.5MB, 예약: 1744.0MB\n"
     ]
    },
    {
     "name": "stderr",
     "output_type": "stream",
     "text": [
      "      20/30       1.7G     0.5677     0.7329     0.9772         11        640:   8%|▊         | 36/442 [00:17<03:06,"
     ]
    },
    {
     "name": "stdout",
     "output_type": "stream",
     "text": [
      "[GPU 모니터] 메모리 할당: 488.5MB, 예약: 1744.0MB\n"
     ]
    },
    {
     "name": "stderr",
     "output_type": "stream",
     "text": [
      "      20/30       1.7G     0.5684     0.7292     0.9846         23        640:  13%|█▎        | 56/442 [00:27<03:08,"
     ]
    },
    {
     "name": "stdout",
     "output_type": "stream",
     "text": [
      "[GPU 모니터] 메모리 할당: 488.5MB, 예약: 1744.0MB\n"
     ]
    },
    {
     "name": "stderr",
     "output_type": "stream",
     "text": [
      "      20/30       1.7G     0.5751     0.7354     0.9874         23        640:  17%|█▋        | 76/442 [00:37<03:08,"
     ]
    },
    {
     "name": "stdout",
     "output_type": "stream",
     "text": [
      "[GPU 모니터] 메모리 할당: 488.5MB, 예약: 1744.0MB\n"
     ]
    },
    {
     "name": "stderr",
     "output_type": "stream",
     "text": [
      "      20/30       1.7G     0.5811     0.7221     0.9903         11        640:  22%|██▏       | 97/442 [00:47<02:48,"
     ]
    },
    {
     "name": "stdout",
     "output_type": "stream",
     "text": [
      "[GPU 모니터] 메모리 할당: 450.5MB, 예약: 1744.0MB\n"
     ]
    },
    {
     "name": "stderr",
     "output_type": "stream",
     "text": [
      "      20/30       1.7G     0.5797     0.7266     0.9893         10        640:  26%|██▋       | 117/442 [00:57<02:43"
     ]
    },
    {
     "name": "stdout",
     "output_type": "stream",
     "text": [
      "[GPU 모니터] 메모리 할당: 679.2MB, 예약: 1744.0MB\n"
     ]
    },
    {
     "name": "stderr",
     "output_type": "stream",
     "text": [
      "      20/30       1.7G      0.576     0.7373     0.9864         19        640:  31%|███       | 138/442 [01:07<02:21"
     ]
    },
    {
     "name": "stdout",
     "output_type": "stream",
     "text": [
      "[GPU 모니터] 메모리 할당: 488.5MB, 예약: 1744.0MB\n"
     ]
    },
    {
     "name": "stderr",
     "output_type": "stream",
     "text": [
      "      20/30       1.7G      0.577     0.7408     0.9864         20        640:  36%|███▌      | 159/442 [01:17<02:10"
     ]
    },
    {
     "name": "stdout",
     "output_type": "stream",
     "text": [
      "[GPU 모니터] 메모리 할당: 1123.0MB, 예약: 1744.0MB\n"
     ]
    },
    {
     "name": "stderr",
     "output_type": "stream",
     "text": [
      "      20/30       1.7G     0.5757     0.7409     0.9871         19        640:  40%|████      | 179/442 [01:27<02:06"
     ]
    },
    {
     "name": "stdout",
     "output_type": "stream",
     "text": [
      "[GPU 모니터] 메모리 할당: 450.5MB, 예약: 1744.0MB\n"
     ]
    },
    {
     "name": "stderr",
     "output_type": "stream",
     "text": [
      "      20/30       1.7G     0.5762     0.7532     0.9847         15        640:  45%|████▌     | 200/442 [01:37<01:56"
     ]
    },
    {
     "name": "stdout",
     "output_type": "stream",
     "text": [
      "[GPU 모니터] 메모리 할당: 1373.6MB, 예약: 1744.0MB\n"
     ]
    },
    {
     "name": "stderr",
     "output_type": "stream",
     "text": [
      "      20/30       1.7G     0.5765     0.7533     0.9816         27        640:  50%|████▉     | 220/442 [01:47<01:51"
     ]
    },
    {
     "name": "stdout",
     "output_type": "stream",
     "text": [
      "[GPU 모니터] 메모리 할당: 488.5MB, 예약: 1744.0MB\n"
     ]
    },
    {
     "name": "stderr",
     "output_type": "stream",
     "text": [
      "      20/30       1.7G     0.5788      0.758      0.982         16        640:  54%|█████▍    | 240/442 [01:57<01:35"
     ]
    },
    {
     "name": "stdout",
     "output_type": "stream",
     "text": [
      "[GPU 모니터] 메모리 할당: 488.5MB, 예약: 1744.0MB\n"
     ]
    },
    {
     "name": "stderr",
     "output_type": "stream",
     "text": [
      "      20/30       1.7G     0.5744     0.7565     0.9809         15        640:  59%|█████▉    | 260/442 [02:07<01:25"
     ]
    },
    {
     "name": "stdout",
     "output_type": "stream",
     "text": [
      "[GPU 모니터] 메모리 할당: 907.7MB, 예약: 1744.0MB\n"
     ]
    },
    {
     "name": "stderr",
     "output_type": "stream",
     "text": [
      "      20/30       1.7G     0.5743     0.7587     0.9809         20        640:  64%|██████▎   | 281/442 [02:17<01:22"
     ]
    },
    {
     "name": "stdout",
     "output_type": "stream",
     "text": [
      "[GPU 모니터] 메모리 할당: 450.5MB, 예약: 1744.0MB\n"
     ]
    },
    {
     "name": "stderr",
     "output_type": "stream",
     "text": [
      "      20/30       1.7G     0.5728      0.759     0.9816         18        640:  68%|██████▊   | 301/442 [02:27<01:09"
     ]
    },
    {
     "name": "stdout",
     "output_type": "stream",
     "text": [
      "[GPU 모니터] 메모리 할당: 440.4MB, 예약: 1744.0MB\n"
     ]
    },
    {
     "name": "stderr",
     "output_type": "stream",
     "text": [
      "      20/30       1.7G     0.5751     0.7552     0.9819         14        640:  73%|███████▎  | 321/442 [02:37<00:59"
     ]
    },
    {
     "name": "stdout",
     "output_type": "stream",
     "text": [
      "[GPU 모니터] 메모리 할당: 450.5MB, 예약: 1744.0MB\n"
     ]
    },
    {
     "name": "stderr",
     "output_type": "stream",
     "text": [
      "      20/30       1.7G     0.5788     0.7574     0.9839         19        640:  77%|███████▋  | 342/442 [02:47<00:49"
     ]
    },
    {
     "name": "stdout",
     "output_type": "stream",
     "text": [
      "[GPU 모니터] 메모리 할당: 488.5MB, 예약: 1744.0MB\n"
     ]
    },
    {
     "name": "stderr",
     "output_type": "stream",
     "text": [
      "      20/30       1.7G     0.5789     0.7576     0.9848         15        640:  82%|████████▏ | 363/442 [02:57<00:36"
     ]
    },
    {
     "name": "stdout",
     "output_type": "stream",
     "text": [
      "[GPU 모니터] 메모리 할당: 648.1MB, 예약: 1744.0MB\n"
     ]
    },
    {
     "name": "stderr",
     "output_type": "stream",
     "text": [
      "      20/30       1.7G     0.5784     0.7623      0.986         14        640:  87%|████████▋ | 383/442 [03:07<00:30"
     ]
    },
    {
     "name": "stdout",
     "output_type": "stream",
     "text": [
      "[GPU 모니터] 메모리 할당: 1360.1MB, 예약: 1744.0MB\n"
     ]
    },
    {
     "name": "stderr",
     "output_type": "stream",
     "text": [
      "      20/30       1.7G      0.579     0.7652     0.9868         17        640:  91%|█████████▏| 404/442 [03:17<00:17"
     ]
    },
    {
     "name": "stdout",
     "output_type": "stream",
     "text": [
      "[GPU 모니터] 메모리 할당: 1405.3MB, 예약: 1744.0MB\n"
     ]
    },
    {
     "name": "stderr",
     "output_type": "stream",
     "text": [
      "      20/30       1.7G     0.5827     0.7713     0.9871         16        640:  96%|█████████▌| 424/442 [03:27<00:08"
     ]
    },
    {
     "name": "stdout",
     "output_type": "stream",
     "text": [
      "[GPU 모니터] 메모리 할당: 488.5MB, 예약: 1744.0MB\n"
     ]
    },
    {
     "name": "stderr",
     "output_type": "stream",
     "text": [
      "      20/30      1.72G     0.5819     0.7715     0.9862          5        640: 100%|██████████| 442/442 [03:35<00:00\n",
      "                 Class     Images  Instances      Box(P          R      mAP50  mAP50-95):   8%|▊         | 4/51 [00:"
     ]
    },
    {
     "name": "stdout",
     "output_type": "stream",
     "text": [
      "[GPU 모니터] 메모리 할당: 497.1MB, 예약: 1758.0MB\n"
     ]
    },
    {
     "name": "stderr",
     "output_type": "stream",
     "text": [
      "                 Class     Images  Instances      Box(P          R      mAP50  mAP50-95):  57%|█████▋    | 29/51 [00"
     ]
    },
    {
     "name": "stdout",
     "output_type": "stream",
     "text": [
      "[GPU 모니터] 메모리 할당: 527.1MB, 예약: 1758.0MB\n"
     ]
    },
    {
     "name": "stderr",
     "output_type": "stream",
     "text": [
      "                 Class     Images  Instances      Box(P          R      mAP50  mAP50-95): 100%|██████████| 51/51 [00"
     ]
    },
    {
     "name": "stdout",
     "output_type": "stream",
     "text": [
      "                   all        801        944       0.94      0.847      0.924      0.788\n"
     ]
    },
    {
     "name": "stderr",
     "output_type": "stream",
     "text": [
      "\n"
     ]
    },
    {
     "name": "stdout",
     "output_type": "stream",
     "text": [
      "Closing dataloader mosaic\n",
      "\n",
      "      Epoch    GPU_mem   box_loss   cls_loss   dfl_loss  Instances       Size\n"
     ]
    },
    {
     "name": "stderr",
     "output_type": "stream",
     "text": [
      "      21/30      1.72G     0.4806     0.3772     0.9683          9        640:   0%|          | 1/442 [00:00<03:47, "
     ]
    },
    {
     "name": "stdout",
     "output_type": "stream",
     "text": [
      "[GPU 모니터] 메모리 할당: 465.7MB, 예약: 1758.0MB\n"
     ]
    },
    {
     "name": "stderr",
     "output_type": "stream",
     "text": [
      "      21/30      1.72G     0.5726     0.5196      0.974         11        640:   5%|▌         | 23/442 [00:10<03:02,"
     ]
    },
    {
     "name": "stdout",
     "output_type": "stream",
     "text": [
      "[GPU 모니터] 메모리 할당: 465.7MB, 예약: 1758.0MB\n"
     ]
    },
    {
     "name": "stderr",
     "output_type": "stream",
     "text": [
      "      21/30      1.72G     0.5655     0.5143     0.9655          8        640:  10%|▉         | 44/442 [00:20<03:04,"
     ]
    },
    {
     "name": "stdout",
     "output_type": "stream",
     "text": [
      "[GPU 모니터] 메모리 할당: 503.7MB, 예약: 1758.0MB\n"
     ]
    },
    {
     "name": "stderr",
     "output_type": "stream",
     "text": [
      "      21/30      1.72G     0.5693      0.532     0.9674          9        640:  15%|█▍        | 66/442 [00:30<02:52,"
     ]
    },
    {
     "name": "stdout",
     "output_type": "stream",
     "text": [
      "[GPU 모니터] 메모리 할당: 503.7MB, 예약: 1758.0MB\n"
     ]
    },
    {
     "name": "stderr",
     "output_type": "stream",
     "text": [
      "      21/30      1.72G     0.5638      0.544     0.9557         12        640:  20%|█▉        | 88/442 [00:40<02:45,"
     ]
    },
    {
     "name": "stdout",
     "output_type": "stream",
     "text": [
      "[GPU 모니터] 메모리 할당: 1021.0MB, 예약: 1758.0MB\n"
     ]
    },
    {
     "name": "stderr",
     "output_type": "stream",
     "text": [
      "      21/30      1.72G     0.5817     0.5475     0.9563         12        640:  25%|██▍       | 109/442 [00:50<02:35"
     ]
    },
    {
     "name": "stdout",
     "output_type": "stream",
     "text": [
      "[GPU 모니터] 메모리 할당: 1372.5MB, 예약: 1758.0MB\n"
     ]
    },
    {
     "name": "stderr",
     "output_type": "stream",
     "text": [
      "      21/30      1.72G     0.5734     0.5507     0.9506         10        640:  29%|██▉       | 130/442 [01:00<02:29"
     ]
    },
    {
     "name": "stdout",
     "output_type": "stream",
     "text": [
      "[GPU 모니터] 메모리 할당: 1392.7MB, 예약: 1758.0MB\n"
     ]
    },
    {
     "name": "stderr",
     "output_type": "stream",
     "text": [
      "      21/30      1.72G     0.5761     0.5529     0.9533          9        640:  34%|███▍      | 151/442 [01:10<02:11"
     ]
    },
    {
     "name": "stdout",
     "output_type": "stream",
     "text": [
      "[GPU 모니터] 메모리 할당: 465.7MB, 예약: 1758.0MB\n"
     ]
    },
    {
     "name": "stderr",
     "output_type": "stream",
     "text": [
      "      21/30      1.72G     0.5804     0.5595     0.9565          9        640:  39%|███▉      | 173/442 [01:20<02:03"
     ]
    },
    {
     "name": "stdout",
     "output_type": "stream",
     "text": [
      "[GPU 모니터] 메모리 할당: 1372.5MB, 예약: 1758.0MB\n"
     ]
    },
    {
     "name": "stderr",
     "output_type": "stream",
     "text": [
      "      21/30      1.72G     0.5774     0.5573     0.9561          9        640:  44%|████▍     | 194/442 [01:30<01:51"
     ]
    },
    {
     "name": "stdout",
     "output_type": "stream",
     "text": [
      "[GPU 모니터] 메모리 할당: 980.5MB, 예약: 1758.0MB\n"
     ]
    },
    {
     "name": "stderr",
     "output_type": "stream",
     "text": [
      "      21/30      1.72G     0.5797     0.5591     0.9536         11        640:  49%|████▉     | 216/442 [01:40<01:41"
     ]
    },
    {
     "name": "stdout",
     "output_type": "stream",
     "text": [
      "[GPU 모니터] 메모리 할당: 503.7MB, 예약: 1760.0MB\n"
     ]
    },
    {
     "name": "stderr",
     "output_type": "stream",
     "text": [
      "      21/30      1.72G     0.5805     0.5653     0.9549          6        640:  54%|█████▎    | 237/442 [01:50<01:32"
     ]
    },
    {
     "name": "stdout",
     "output_type": "stream",
     "text": [
      "[GPU 모니터] 메모리 할당: 465.7MB, 예약: 1760.0MB\n"
     ]
    },
    {
     "name": "stderr",
     "output_type": "stream",
     "text": [
      "      21/30      1.72G     0.5788     0.5648     0.9553         10        640:  59%|█████▉    | 260/442 [02:00<01:23"
     ]
    },
    {
     "name": "stdout",
     "output_type": "stream",
     "text": [
      "[GPU 모니터] 메모리 할당: 1175.6MB, 예약: 1760.0MB\n"
     ]
    },
    {
     "name": "stderr",
     "output_type": "stream",
     "text": [
      "      21/30      1.72G     0.5777     0.5624      0.952         10        640:  64%|██████▎   | 281/442 [02:10<01:14"
     ]
    },
    {
     "name": "stdout",
     "output_type": "stream",
     "text": [
      "[GPU 모니터] 메모리 할당: 465.7MB, 예약: 1760.0MB\n"
     ]
    },
    {
     "name": "stderr",
     "output_type": "stream",
     "text": [
      "      21/30      1.72G     0.5762     0.5617      0.951         10        640:  69%|██████▊   | 303/442 [02:20<01:03"
     ]
    },
    {
     "name": "stdout",
     "output_type": "stream",
     "text": [
      "[GPU 모니터] 메모리 할당: 465.7MB, 예약: 1760.0MB\n"
     ]
    },
    {
     "name": "stderr",
     "output_type": "stream",
     "text": [
      "      21/30      1.72G     0.5748       0.56     0.9515         12        640:  73%|███████▎  | 324/442 [02:30<00:57"
     ]
    },
    {
     "name": "stdout",
     "output_type": "stream",
     "text": [
      "[GPU 모니터] 메모리 할당: 503.7MB, 예약: 1760.0MB\n"
     ]
    },
    {
     "name": "stderr",
     "output_type": "stream",
     "text": [
      "      21/30      1.72G     0.5734       0.56     0.9509          9        640:  78%|███████▊  | 346/442 [02:40<00:43"
     ]
    },
    {
     "name": "stdout",
     "output_type": "stream",
     "text": [
      "[GPU 모니터] 메모리 할당: 503.7MB, 예약: 1760.0MB\n"
     ]
    },
    {
     "name": "stderr",
     "output_type": "stream",
     "text": [
      "      21/30      1.72G      0.574     0.5572      0.952         13        640:  83%|████████▎ | 368/442 [02:50<00:35"
     ]
    },
    {
     "name": "stdout",
     "output_type": "stream",
     "text": [
      "[GPU 모니터] 메모리 할당: 1254.1MB, 예약: 1760.0MB\n"
     ]
    },
    {
     "name": "stderr",
     "output_type": "stream",
     "text": [
      "      21/30      1.72G     0.5719     0.5533     0.9533          8        640:  88%|████████▊ | 389/442 [03:00<00:24"
     ]
    },
    {
     "name": "stdout",
     "output_type": "stream",
     "text": [
      "[GPU 모니터] 메모리 할당: 465.7MB, 예약: 1760.0MB\n"
     ]
    },
    {
     "name": "stderr",
     "output_type": "stream",
     "text": [
      "      21/30      1.72G       0.57     0.5487     0.9554          8        640:  93%|█████████▎| 411/442 [03:10<00:15"
     ]
    },
    {
     "name": "stdout",
     "output_type": "stream",
     "text": [
      "[GPU 모니터] 메모리 할당: 475.5MB, 예약: 1760.0MB\n"
     ]
    },
    {
     "name": "stderr",
     "output_type": "stream",
     "text": [
      "      21/30      1.72G     0.5697     0.5486     0.9552          9        640:  98%|█████████▊| 432/442 [03:20<00:04"
     ]
    },
    {
     "name": "stdout",
     "output_type": "stream",
     "text": [
      "[GPU 모니터] 메모리 할당: 503.7MB, 예약: 1760.0MB\n"
     ]
    },
    {
     "name": "stderr",
     "output_type": "stream",
     "text": [
      "      21/30      1.73G     0.5697     0.5473     0.9558          2        640: 100%|██████████| 442/442 [03:24<00:00\n",
      "                 Class     Images  Instances      Box(P          R      mAP50  mAP50-95):  27%|██▋       | 14/51 [00"
     ]
    },
    {
     "name": "stdout",
     "output_type": "stream",
     "text": [
      "[GPU 모니터] 메모리 할당: 512.3MB, 예약: 1772.0MB\n"
     ]
    },
    {
     "name": "stderr",
     "output_type": "stream",
     "text": [
      "                 Class     Images  Instances      Box(P          R      mAP50  mAP50-95):  75%|███████▍  | 38/51 [00"
     ]
    },
    {
     "name": "stdout",
     "output_type": "stream",
     "text": [
      "[GPU 모니터] 메모리 할당: 542.3MB, 예약: 1772.0MB\n"
     ]
    },
    {
     "name": "stderr",
     "output_type": "stream",
     "text": [
      "                 Class     Images  Instances      Box(P          R      mAP50  mAP50-95): 100%|██████████| 51/51 [00"
     ]
    },
    {
     "name": "stdout",
     "output_type": "stream",
     "text": [
      "                   all        801        944      0.953      0.842      0.922      0.785\n"
     ]
    },
    {
     "name": "stderr",
     "output_type": "stream",
     "text": [
      "\n"
     ]
    },
    {
     "name": "stdout",
     "output_type": "stream",
     "text": [
      "\n",
      "      Epoch    GPU_mem   box_loss   cls_loss   dfl_loss  Instances       Size\n"
     ]
    },
    {
     "name": "stderr",
     "output_type": "stream",
     "text": [
      "      22/30      1.73G     0.5575     0.5116     0.9377         11        640:   2%|▏         | 9/442 [00:04<03:14, "
     ]
    },
    {
     "name": "stdout",
     "output_type": "stream",
     "text": [
      "[GPU 모니터] 메모리 할당: 470.8MB, 예약: 1774.0MB\n"
     ]
    },
    {
     "name": "stderr",
     "output_type": "stream",
     "text": [
      "      22/30      1.73G      0.588     0.5358     0.9611         10        640:   7%|▋         | 30/442 [00:13<03:08,"
     ]
    },
    {
     "name": "stdout",
     "output_type": "stream",
     "text": [
      "[GPU 모니터] 메모리 할당: 518.8MB, 예약: 1774.0MB\n"
     ]
    },
    {
     "name": "stderr",
     "output_type": "stream",
     "text": [
      "      22/30      1.73G     0.5787     0.5303     0.9522          9        640:  12%|█▏        | 52/442 [00:24<02:54,"
     ]
    },
    {
     "name": "stdout",
     "output_type": "stream",
     "text": [
      "[GPU 모니터] 메모리 할당: 518.8MB, 예약: 1774.0MB\n"
     ]
    },
    {
     "name": "stderr",
     "output_type": "stream",
     "text": [
      "      22/30      1.73G     0.5768     0.5391     0.9564         11        640:  17%|█▋        | 74/442 [00:33<02:50,"
     ]
    },
    {
     "name": "stdout",
     "output_type": "stream",
     "text": [
      "[GPU 모니터] 메모리 할당: 518.8MB, 예약: 1774.0MB\n"
     ]
    },
    {
     "name": "stderr",
     "output_type": "stream",
     "text": [
      "      22/30      1.73G     0.5723     0.5382     0.9564         10        640:  22%|██▏       | 97/442 [00:44<02:44,"
     ]
    },
    {
     "name": "stdout",
     "output_type": "stream",
     "text": [
      "[GPU 모니터] 메모리 할당: 1378.0MB, 예약: 1774.0MB\n"
     ]
    },
    {
     "name": "stderr",
     "output_type": "stream",
     "text": [
      "      22/30      1.73G     0.5685     0.5344     0.9573         10        640:  27%|██▋       | 118/442 [00:54<02:33"
     ]
    },
    {
     "name": "stdout",
     "output_type": "stream",
     "text": [
      "[GPU 모니터] 메모리 할당: 518.8MB, 예약: 1774.0MB\n"
     ]
    },
    {
     "name": "stderr",
     "output_type": "stream",
     "text": [
      "      22/30      1.73G     0.5701     0.5361     0.9585         10        640:  31%|███▏      | 139/442 [01:04<02:24"
     ]
    },
    {
     "name": "stdout",
     "output_type": "stream",
     "text": [
      "[GPU 모니터] 메모리 할당: 480.8MB, 예약: 1774.0MB\n"
     ]
    },
    {
     "name": "stderr",
     "output_type": "stream",
     "text": [
      "      22/30      1.73G     0.5631     0.5264     0.9579         11        640:  36%|███▌      | 160/442 [01:13<02:12"
     ]
    },
    {
     "name": "stdout",
     "output_type": "stream",
     "text": [
      "[GPU 모니터] 메모리 할당: 1322.1MB, 예약: 1774.0MB\n"
     ]
    },
    {
     "name": "stderr",
     "output_type": "stream",
     "text": [
      "      22/30      1.73G     0.5668     0.5313     0.9594         10        640:  41%|████      | 182/442 [01:24<02:05"
     ]
    },
    {
     "name": "stdout",
     "output_type": "stream",
     "text": [
      "[GPU 모니터] 메모리 할당: 1434.4MB, 예약: 1774.0MB\n"
     ]
    },
    {
     "name": "stderr",
     "output_type": "stream",
     "text": [
      "      22/30      1.73G     0.5619     0.5295     0.9562          8        640:  46%|████▌     | 203/442 [01:33<01:51"
     ]
    },
    {
     "name": "stdout",
     "output_type": "stream",
     "text": [
      "[GPU 모니터] 메모리 할당: 480.8MB, 예약: 1774.0MB\n"
     ]
    },
    {
     "name": "stderr",
     "output_type": "stream",
     "text": [
      "      22/30      1.73G     0.5614     0.5227     0.9559         12        640:  51%|█████     | 225/442 [01:43<01:42"
     ]
    },
    {
     "name": "stdout",
     "output_type": "stream",
     "text": [
      "[GPU 모니터] 메모리 할당: 470.8MB, 예약: 1774.0MB\n"
     ]
    },
    {
     "name": "stderr",
     "output_type": "stream",
     "text": [
      "      22/30      1.73G     0.5629     0.5249     0.9527         10        640:  56%|█████▌    | 247/442 [01:54<01:32"
     ]
    },
    {
     "name": "stdout",
     "output_type": "stream",
     "text": [
      "[GPU 모니터] 메모리 할당: 480.8MB, 예약: 1774.0MB\n"
     ]
    },
    {
     "name": "stderr",
     "output_type": "stream",
     "text": [
      "      22/30      1.73G     0.5621     0.5263     0.9524         12        640:  61%|██████    | 268/442 [02:03<01:19"
     ]
    },
    {
     "name": "stdout",
     "output_type": "stream",
     "text": [
      "[GPU 모니터] 메모리 할당: 518.8MB, 예약: 1774.0MB\n"
     ]
    },
    {
     "name": "stderr",
     "output_type": "stream",
     "text": [
      "      22/30      1.73G     0.5617     0.5275     0.9518         10        640:  66%|██████▌   | 290/442 [02:14<01:10"
     ]
    },
    {
     "name": "stdout",
     "output_type": "stream",
     "text": [
      "[GPU 모니터] 메모리 할당: 518.8MB, 예약: 1774.0MB\n"
     ]
    },
    {
     "name": "stderr",
     "output_type": "stream",
     "text": [
      "      22/30      1.73G      0.562     0.5253     0.9497         10        640:  71%|███████   | 312/442 [02:24<01:01"
     ]
    },
    {
     "name": "stdout",
     "output_type": "stream",
     "text": [
      "[GPU 모니터] 메모리 할당: 1404.0MB, 예약: 1774.0MB\n"
     ]
    },
    {
     "name": "stderr",
     "output_type": "stream",
     "text": [
      "      22/30      1.73G     0.5629     0.5282     0.9495         10        640:  75%|███████▌  | 333/442 [02:33<00:49"
     ]
    },
    {
     "name": "stdout",
     "output_type": "stream",
     "text": [
      "[GPU 모니터] 메모리 할당: 710.2MB, 예약: 1774.0MB\n"
     ]
    },
    {
     "name": "stderr",
     "output_type": "stream",
     "text": [
      "      22/30      1.73G     0.5606      0.525     0.9495          8        640:  80%|████████  | 355/442 [02:44<00:40"
     ]
    },
    {
     "name": "stdout",
     "output_type": "stream",
     "text": [
      "[GPU 모니터] 메모리 할당: 480.8MB, 예약: 1774.0MB\n"
     ]
    },
    {
     "name": "stderr",
     "output_type": "stream",
     "text": [
      "      22/30      1.73G     0.5571     0.5229      0.948          8        640:  85%|████████▌ | 377/442 [02:54<00:30"
     ]
    },
    {
     "name": "stdout",
     "output_type": "stream",
     "text": [
      "[GPU 모니터] 메모리 할당: 480.9MB, 예약: 1774.0MB\n"
     ]
    },
    {
     "name": "stderr",
     "output_type": "stream",
     "text": [
      "      22/30      1.73G     0.5576     0.5215     0.9485          7        640:  90%|█████████ | 399/442 [03:04<00:19"
     ]
    },
    {
     "name": "stdout",
     "output_type": "stream",
     "text": [
      "[GPU 모니터] 메모리 할당: 1141.6MB, 예약: 1774.0MB\n"
     ]
    },
    {
     "name": "stderr",
     "output_type": "stream",
     "text": [
      "      22/30      1.73G     0.5579     0.5239     0.9459          9        640:  95%|█████████▌| 420/442 [03:14<00:10"
     ]
    },
    {
     "name": "stdout",
     "output_type": "stream",
     "text": [
      "[GPU 모니터] 메모리 할당: 810.1MB, 예약: 1774.0MB\n"
     ]
    },
    {
     "name": "stderr",
     "output_type": "stream",
     "text": [
      "      22/30      1.73G     0.5579     0.5252     0.9458         11        640: 100%|█████████▉| 441/442 [03:24<00:00"
     ]
    },
    {
     "name": "stdout",
     "output_type": "stream",
     "text": [
      "[GPU 모니터] 메모리 할당: 960.4MB, 예약: 1774.0MB\n"
     ]
    },
    {
     "name": "stderr",
     "output_type": "stream",
     "text": [
      "      22/30      1.74G     0.5583     0.5265     0.9456          2        640: 100%|██████████| 442/442 [03:24<00:00\n",
      "                 Class     Images  Instances      Box(P          R      mAP50  mAP50-95):  45%|████▌     | 23/51 [00"
     ]
    },
    {
     "name": "stdout",
     "output_type": "stream",
     "text": [
      "[GPU 모니터] 메모리 할당: 527.7MB, 예약: 1780.0MB\n"
     ]
    },
    {
     "name": "stderr",
     "output_type": "stream",
     "text": [
      "                 Class     Images  Instances      Box(P          R      mAP50  mAP50-95):  92%|█████████▏| 47/51 [00"
     ]
    },
    {
     "name": "stdout",
     "output_type": "stream",
     "text": [
      "[GPU 모니터] 메모리 할당: 610.8MB, 예약: 1780.0MB\n"
     ]
    },
    {
     "name": "stderr",
     "output_type": "stream",
     "text": [
      "                 Class     Images  Instances      Box(P          R      mAP50  mAP50-95): 100%|██████████| 51/51 [00"
     ]
    },
    {
     "name": "stdout",
     "output_type": "stream",
     "text": [
      "                   all        801        944      0.956      0.842      0.922      0.792\n"
     ]
    },
    {
     "name": "stderr",
     "output_type": "stream",
     "text": [
      "\n"
     ]
    },
    {
     "name": "stdout",
     "output_type": "stream",
     "text": [
      "\n",
      "      Epoch    GPU_mem   box_loss   cls_loss   dfl_loss  Instances       Size\n"
     ]
    },
    {
     "name": "stderr",
     "output_type": "stream",
     "text": [
      "      23/30      1.75G     0.6029     0.5519      0.957          8        640:   4%|▍         | 17/442 [00:08<03:29,"
     ]
    },
    {
     "name": "stdout",
     "output_type": "stream",
     "text": [
      "[GPU 모니터] 메모리 할당: 1208.4MB, 예약: 1788.0MB\n"
     ]
    },
    {
     "name": "stderr",
     "output_type": "stream",
     "text": [
      "      23/30      1.75G     0.5794     0.5085     0.9412          8        640:   9%|▊         | 38/442 [00:17<03:02,"
     ]
    },
    {
     "name": "stdout",
     "output_type": "stream",
     "text": [
      "[GPU 모니터] 메모리 할당: 1193.5MB, 예약: 1788.0MB\n"
     ]
    },
    {
     "name": "stderr",
     "output_type": "stream",
     "text": [
      "      23/30      1.75G     0.5678     0.5021     0.9414          8        640:  14%|█▎        | 60/442 [00:27<02:54,"
     ]
    },
    {
     "name": "stdout",
     "output_type": "stream",
     "text": [
      "[GPU 모니터] 메모리 할당: 534.0MB, 예약: 1788.0MB\n"
     ]
    },
    {
     "name": "stderr",
     "output_type": "stream",
     "text": [
      "      23/30      1.75G     0.5693     0.5056      0.949          8        640:  19%|█▊        | 82/442 [00:37<02:41,"
     ]
    },
    {
     "name": "stdout",
     "output_type": "stream",
     "text": [
      "[GPU 모니터] 메모리 할당: 534.0MB, 예약: 1788.0MB\n"
     ]
    },
    {
     "name": "stderr",
     "output_type": "stream",
     "text": [
      "      23/30      1.75G     0.5672     0.5114     0.9531          8        640:  24%|██▍       | 105/442 [00:48<02:29"
     ]
    },
    {
     "name": "stdout",
     "output_type": "stream",
     "text": [
      "[GPU 모니터] 메모리 할당: 1402.1MB, 예약: 1788.0MB\n"
     ]
    },
    {
     "name": "stderr",
     "output_type": "stream",
     "text": [
      "      23/30      1.75G     0.5709     0.5168     0.9538          8        640:  29%|██▊       | 127/442 [00:58<02:34"
     ]
    },
    {
     "name": "stdout",
     "output_type": "stream",
     "text": [
      "[GPU 모니터] 메모리 할당: 1274.3MB, 예약: 1788.0MB\n"
     ]
    },
    {
     "name": "stderr",
     "output_type": "stream",
     "text": [
      "      23/30      1.75G     0.5662     0.5156     0.9514          9        640:  33%|███▎      | 148/442 [01:07<02:10"
     ]
    },
    {
     "name": "stdout",
     "output_type": "stream",
     "text": [
      "[GPU 모니터] 메모리 할당: 534.0MB, 예약: 1788.0MB\n"
     ]
    },
    {
     "name": "stderr",
     "output_type": "stream",
     "text": [
      "      23/30      1.75G     0.5618      0.508     0.9509          9        640:  38%|███▊      | 170/442 [01:18<02:02"
     ]
    },
    {
     "name": "stdout",
     "output_type": "stream",
     "text": [
      "[GPU 모니터] 메모리 할당: 1228.5MB, 예약: 1788.0MB\n"
     ]
    },
    {
     "name": "stderr",
     "output_type": "stream",
     "text": [
      "      23/30      1.75G     0.5693     0.5129     0.9495         13        640:  43%|████▎     | 191/442 [01:28<02:04"
     ]
    },
    {
     "name": "stdout",
     "output_type": "stream",
     "text": [
      "[GPU 모니터] 메모리 할당: 923.1MB, 예약: 1788.0MB\n"
     ]
    },
    {
     "name": "stderr",
     "output_type": "stream",
     "text": [
      "      23/30      1.75G     0.5652     0.5099     0.9495          9        640:  48%|████▊     | 212/442 [01:38<01:51"
     ]
    },
    {
     "name": "stdout",
     "output_type": "stream",
     "text": [
      "[GPU 모니터] 메모리 할당: 1114.9MB, 예약: 1788.0MB\n"
     ]
    },
    {
     "name": "stderr",
     "output_type": "stream",
     "text": [
      "      23/30      1.75G     0.5606     0.5065     0.9487         10        640:  53%|█████▎    | 233/442 [01:47<01:36"
     ]
    },
    {
     "name": "stdout",
     "output_type": "stream",
     "text": [
      "[GPU 모니터] 메모리 할당: 496.0MB, 예약: 1788.0MB\n"
     ]
    },
    {
     "name": "stderr",
     "output_type": "stream",
     "text": [
      "      23/30      1.75G      0.563       0.51     0.9494          8        640:  58%|█████▊    | 255/442 [01:57<01:26"
     ]
    },
    {
     "name": "stdout",
     "output_type": "stream",
     "text": [
      "[GPU 모니터] 메모리 할당: 486.0MB, 예약: 1788.0MB\n"
     ]
    },
    {
     "name": "stderr",
     "output_type": "stream",
     "text": [
      "      23/30      1.75G      0.554     0.5002     0.9462         12        640:  63%|██████▎   | 277/442 [02:07<01:17"
     ]
    },
    {
     "name": "stdout",
     "output_type": "stream",
     "text": [
      "[GPU 모니터] 메모리 할당: 496.0MB, 예약: 1788.0MB\n"
     ]
    },
    {
     "name": "stderr",
     "output_type": "stream",
     "text": [
      "      23/30      1.75G      0.555     0.4994     0.9487         14        640:  68%|██████▊   | 299/442 [02:18<01:03"
     ]
    },
    {
     "name": "stdout",
     "output_type": "stream",
     "text": [
      "[GPU 모니터] 메모리 할당: 1371.0MB, 예약: 1788.0MB\n"
     ]
    },
    {
     "name": "stderr",
     "output_type": "stream",
     "text": [
      "      23/30      1.75G     0.5569     0.4987     0.9489         11        640:  72%|███████▏  | 320/442 [02:27<00:56"
     ]
    },
    {
     "name": "stdout",
     "output_type": "stream",
     "text": [
      "[GPU 모니터] 메모리 할당: 534.0MB, 예약: 1788.0MB\n"
     ]
    },
    {
     "name": "stderr",
     "output_type": "stream",
     "text": [
      "      23/30      1.75G     0.5564     0.4983       0.95          9        640:  77%|███████▋  | 342/442 [02:37<00:44"
     ]
    },
    {
     "name": "stdout",
     "output_type": "stream",
     "text": [
      "[GPU 모니터] 메모리 할당: 534.0MB, 예약: 1788.0MB\n"
     ]
    },
    {
     "name": "stderr",
     "output_type": "stream",
     "text": [
      "      23/30      1.75G     0.5574     0.5024     0.9492          9        640:  82%|████████▏ | 364/442 [02:47<00:35"
     ]
    },
    {
     "name": "stdout",
     "output_type": "stream",
     "text": [
      "[GPU 모니터] 메모리 할당: 534.0MB, 예약: 1788.0MB\n"
     ]
    },
    {
     "name": "stderr",
     "output_type": "stream",
     "text": [
      "      23/30      1.75G      0.555     0.5009     0.9497          9        640:  87%|████████▋ | 386/442 [02:58<00:27"
     ]
    },
    {
     "name": "stdout",
     "output_type": "stream",
     "text": [
      "[GPU 모니터] 메모리 할당: 534.0MB, 예약: 1788.0MB\n"
     ]
    },
    {
     "name": "stderr",
     "output_type": "stream",
     "text": [
      "      23/30      1.75G     0.5533     0.5025     0.9493         10        640:  92%|█████████▏| 407/442 [03:07<00:17"
     ]
    },
    {
     "name": "stdout",
     "output_type": "stream",
     "text": [
      "[GPU 모니터] 메모리 할당: 486.0MB, 예약: 1788.0MB\n"
     ]
    },
    {
     "name": "stderr",
     "output_type": "stream",
     "text": [
      "      23/30      1.75G     0.5533     0.5031     0.9499         10        640:  97%|█████████▋| 429/442 [03:17<00:05"
     ]
    },
    {
     "name": "stdout",
     "output_type": "stream",
     "text": [
      "[GPU 모니터] 메모리 할당: 496.0MB, 예약: 1788.0MB\n"
     ]
    },
    {
     "name": "stderr",
     "output_type": "stream",
     "text": [
      "      23/30      1.76G     0.5544     0.5025     0.9496          6        640: 100%|██████████| 442/442 [03:24<00:00\n",
      "                 Class     Images  Instances      Box(P          R      mAP50  mAP50-95):  18%|█▊        | 9/51 [00:"
     ]
    },
    {
     "name": "stdout",
     "output_type": "stream",
     "text": [
      "[GPU 모니터] 메모리 할당: 592.6MB, 예약: 1804.0MB\n"
     ]
    },
    {
     "name": "stderr",
     "output_type": "stream",
     "text": [
      "                 Class     Images  Instances      Box(P          R      mAP50  mAP50-95):  65%|██████▍   | 33/51 [00"
     ]
    },
    {
     "name": "stdout",
     "output_type": "stream",
     "text": [
      "[GPU 모니터] 메모리 할당: 664.4MB, 예약: 1804.0MB\n"
     ]
    },
    {
     "name": "stderr",
     "output_type": "stream",
     "text": [
      "                 Class     Images  Instances      Box(P          R      mAP50  mAP50-95): 100%|██████████| 51/51 [00"
     ]
    },
    {
     "name": "stdout",
     "output_type": "stream",
     "text": [
      "                   all        801        944      0.917      0.861      0.928      0.799\n"
     ]
    },
    {
     "name": "stderr",
     "output_type": "stream",
     "text": [
      "\n"
     ]
    },
    {
     "name": "stdout",
     "output_type": "stream",
     "text": [
      "\n",
      "      Epoch    GPU_mem   box_loss   cls_loss   dfl_loss  Instances       Size\n"
     ]
    },
    {
     "name": "stderr",
     "output_type": "stream",
     "text": [
      "      24/30      1.76G     0.6429     0.5773      0.976         10        640:   1%|          | 5/442 [00:02<03:20, "
     ]
    },
    {
     "name": "stdout",
     "output_type": "stream",
     "text": [
      "[GPU 모니터] 메모리 할당: 501.1MB, 예약: 1804.0MB\n"
     ]
    },
    {
     "name": "stderr",
     "output_type": "stream",
     "text": [
      "      24/30      1.76G     0.5598     0.5143     0.9953          8        640:   6%|▌         | 27/442 [00:12<03:11,"
     ]
    },
    {
     "name": "stdout",
     "output_type": "stream",
     "text": [
      "[GPU 모니터] 메모리 할당: 1385.0MB, 예약: 1804.0MB\n"
     ]
    },
    {
     "name": "stderr",
     "output_type": "stream",
     "text": [
      "      24/30      1.76G     0.5416     0.4741     0.9593          9        640:  11%|█         | 48/442 [00:22<03:05,"
     ]
    },
    {
     "name": "stdout",
     "output_type": "stream",
     "text": [
      "[GPU 모니터] 메모리 할당: 549.2MB, 예약: 1804.0MB\n"
     ]
    },
    {
     "name": "stderr",
     "output_type": "stream",
     "text": [
      "      24/30      1.76G     0.5316     0.4628     0.9542         11        640:  16%|█▌        | 70/442 [00:32<02:53,"
     ]
    },
    {
     "name": "stdout",
     "output_type": "stream",
     "text": [
      "[GPU 모니터] 메모리 할당: 1213.8MB, 예약: 1804.0MB\n"
     ]
    },
    {
     "name": "stderr",
     "output_type": "stream",
     "text": [
      "      24/30      1.76G     0.5413     0.4833     0.9538         11        640:  21%|██        | 92/442 [00:42<02:37,"
     ]
    },
    {
     "name": "stdout",
     "output_type": "stream",
     "text": [
      "[GPU 모니터] 메모리 할당: 1007.2MB, 예약: 1804.0MB\n"
     ]
    },
    {
     "name": "stderr",
     "output_type": "stream",
     "text": [
      "      24/30      1.76G     0.5432     0.4798     0.9507          8        640:  26%|██▌       | 113/442 [00:52<02:36"
     ]
    },
    {
     "name": "stdout",
     "output_type": "stream",
     "text": [
      "[GPU 모니터] 메모리 할당: 511.2MB, 예약: 1804.0MB\n"
     ]
    },
    {
     "name": "stderr",
     "output_type": "stream",
     "text": [
      "      24/30      1.76G     0.5546      0.484     0.9536          8        640:  31%|███       | 135/442 [01:02<02:19"
     ]
    },
    {
     "name": "stdout",
     "output_type": "stream",
     "text": [
      "[GPU 모니터] 메모리 할당: 511.2MB, 예약: 1804.0MB\n"
     ]
    },
    {
     "name": "stderr",
     "output_type": "stream",
     "text": [
      "      24/30      1.76G     0.5492     0.4803       0.95          9        640:  36%|███▌      | 157/442 [01:12<02:25"
     ]
    },
    {
     "name": "stdout",
     "output_type": "stream",
     "text": [
      "[GPU 모니터] 메모리 할당: 501.1MB, 예약: 1804.0MB\n"
     ]
    },
    {
     "name": "stderr",
     "output_type": "stream",
     "text": [
      "      24/30      1.76G     0.5445     0.4772     0.9495          8        640:  40%|████      | 178/442 [01:22<01:59"
     ]
    },
    {
     "name": "stdout",
     "output_type": "stream",
     "text": [
      "[GPU 모니터] 메모리 할당: 549.2MB, 예약: 1804.0MB\n"
     ]
    },
    {
     "name": "stderr",
     "output_type": "stream",
     "text": [
      "      24/30      1.76G     0.5414     0.4798     0.9476          9        640:  45%|████▌     | 199/442 [01:32<01:53"
     ]
    },
    {
     "name": "stdout",
     "output_type": "stream",
     "text": [
      "[GPU 모니터] 메모리 할당: 728.1MB, 예약: 1804.0MB\n"
     ]
    },
    {
     "name": "stderr",
     "output_type": "stream",
     "text": [
      "      24/30      1.76G     0.5426     0.4832     0.9463          8        640:  50%|█████     | 221/442 [01:42<01:49"
     ]
    },
    {
     "name": "stdout",
     "output_type": "stream",
     "text": [
      "[GPU 모니터] 메모리 할당: 501.2MB, 예약: 1804.0MB\n"
     ]
    },
    {
     "name": "stderr",
     "output_type": "stream",
     "text": [
      "      24/30      1.76G     0.5386     0.4777     0.9486          8        640:  55%|█████▍    | 242/442 [01:52<01:33"
     ]
    },
    {
     "name": "stdout",
     "output_type": "stream",
     "text": [
      "[GPU 모니터] 메모리 할당: 549.2MB, 예약: 1804.0MB\n"
     ]
    },
    {
     "name": "stderr",
     "output_type": "stream",
     "text": [
      "      24/30      1.76G     0.5402     0.4765      0.948          8        640:  60%|█████▉    | 263/442 [02:02<01:22"
     ]
    },
    {
     "name": "stdout",
     "output_type": "stream",
     "text": [
      "[GPU 모니터] 메모리 할당: 511.2MB, 예약: 1804.0MB\n"
     ]
    },
    {
     "name": "stderr",
     "output_type": "stream",
     "text": [
      "      24/30      1.76G      0.542     0.4768     0.9461          9        640:  64%|██████▍   | 285/442 [02:12<01:14"
     ]
    },
    {
     "name": "stdout",
     "output_type": "stream",
     "text": [
      "[GPU 모니터] 메모리 할당: 501.1MB, 예약: 1804.0MB\n"
     ]
    },
    {
     "name": "stderr",
     "output_type": "stream",
     "text": [
      "      24/30      1.76G     0.5418     0.4769     0.9467          9        640:  69%|██████▉   | 306/442 [02:22<01:02"
     ]
    },
    {
     "name": "stdout",
     "output_type": "stream",
     "text": [
      "[GPU 모니터] 메모리 할당: 549.2MB, 예약: 1804.0MB\n"
     ]
    },
    {
     "name": "stderr",
     "output_type": "stream",
     "text": [
      "      24/30      1.76G      0.541     0.4749     0.9462          9        640:  74%|███████▍  | 327/442 [02:32<00:54"
     ]
    },
    {
     "name": "stdout",
     "output_type": "stream",
     "text": [
      "[GPU 모니터] 메모리 할당: 511.2MB, 예약: 1804.0MB\n"
     ]
    },
    {
     "name": "stderr",
     "output_type": "stream",
     "text": [
      "      24/30      1.76G     0.5411      0.475     0.9451          8        640:  79%|███████▉  | 349/442 [02:42<00:42"
     ]
    },
    {
     "name": "stdout",
     "output_type": "stream",
     "text": [
      "[GPU 모니터] 메모리 할당: 1417.2MB, 예약: 1804.0MB\n"
     ]
    },
    {
     "name": "stderr",
     "output_type": "stream",
     "text": [
      "      24/30      1.76G     0.5446     0.4779     0.9442          9        640:  84%|████████▍ | 371/442 [02:52<00:31"
     ]
    },
    {
     "name": "stdout",
     "output_type": "stream",
     "text": [
      "[GPU 모니터] 메모리 할당: 858.2MB, 예약: 1804.0MB\n"
     ]
    },
    {
     "name": "stderr",
     "output_type": "stream",
     "text": [
      "      24/30      1.76G     0.5461       0.48     0.9424          8        640:  89%|████████▉ | 393/442 [03:02<00:23"
     ]
    },
    {
     "name": "stdout",
     "output_type": "stream",
     "text": [
      "[GPU 모니터] 메모리 할당: 1336.7MB, 예약: 1804.0MB\n"
     ]
    },
    {
     "name": "stderr",
     "output_type": "stream",
     "text": [
      "      24/30      1.76G      0.547     0.4819     0.9421          7        640:  94%|█████████▎| 414/442 [03:12<00:13"
     ]
    },
    {
     "name": "stdout",
     "output_type": "stream",
     "text": [
      "[GPU 모니터] 메모리 할당: 549.2MB, 예약: 1804.0MB\n"
     ]
    },
    {
     "name": "stderr",
     "output_type": "stream",
     "text": [
      "      24/30      1.76G     0.5476     0.4819     0.9424          7        640:  99%|█████████▊| 436/442 [03:22<00:02"
     ]
    },
    {
     "name": "stdout",
     "output_type": "stream",
     "text": [
      "[GPU 모니터] 메모리 할당: 1219.3MB, 예약: 1804.0MB\n"
     ]
    },
    {
     "name": "stderr",
     "output_type": "stream",
     "text": [
      "      24/30      1.78G     0.5475     0.4814     0.9432          2        640: 100%|██████████| 442/442 [03:25<00:00\n",
      "                 Class     Images  Instances      Box(P          R      mAP50  mAP50-95):  33%|███▎      | 17/51 [00"
     ]
    },
    {
     "name": "stdout",
     "output_type": "stream",
     "text": [
      "[GPU 모니터] 메모리 할당: 601.0MB, 예약: 1818.0MB\n"
     ]
    },
    {
     "name": "stderr",
     "output_type": "stream",
     "text": [
      "                 Class     Images  Instances      Box(P          R      mAP50  mAP50-95):  80%|████████  | 41/51 [00"
     ]
    },
    {
     "name": "stdout",
     "output_type": "stream",
     "text": [
      "[GPU 모니터] 메모리 할당: 557.8MB, 예약: 1818.0MB\n"
     ]
    },
    {
     "name": "stderr",
     "output_type": "stream",
     "text": [
      "                 Class     Images  Instances      Box(P          R      mAP50  mAP50-95): 100%|██████████| 51/51 [00"
     ]
    },
    {
     "name": "stdout",
     "output_type": "stream",
     "text": [
      "                   all        801        944      0.963      0.847      0.931      0.801\n"
     ]
    },
    {
     "name": "stderr",
     "output_type": "stream",
     "text": [
      "\n"
     ]
    },
    {
     "name": "stdout",
     "output_type": "stream",
     "text": [
      "\n",
      "      Epoch    GPU_mem   box_loss   cls_loss   dfl_loss  Instances       Size\n"
     ]
    },
    {
     "name": "stderr",
     "output_type": "stream",
     "text": [
      "      25/30      1.78G     0.4627     0.4101     0.9388         10        640:   2%|▏         | 10/442 [00:04<03:24,"
     ]
    },
    {
     "name": "stdout",
     "output_type": "stream",
     "text": [
      "[GPU 모니터] 메모리 할당: 1397.3MB, 예약: 1818.0MB\n"
     ]
    },
    {
     "name": "stderr",
     "output_type": "stream",
     "text": [
      "      25/30      1.78G     0.4993     0.4401     0.9364          8        640:   7%|▋         | 32/442 [00:15<03:13,"
     ]
    },
    {
     "name": "stdout",
     "output_type": "stream",
     "text": [
      "[GPU 모니터] 메모리 할당: 1029.5MB, 예약: 1818.0MB\n"
     ]
    },
    {
     "name": "stderr",
     "output_type": "stream",
     "text": [
      "      25/30      1.78G     0.5127     0.4471      0.931         10        640:  12%|█▏        | 55/442 [00:25<02:35,"
     ]
    },
    {
     "name": "stdout",
     "output_type": "stream",
     "text": [
      "[GPU 모니터] 메모리 할당: 526.4MB, 예약: 1818.0MB\n"
     ]
    },
    {
     "name": "stderr",
     "output_type": "stream",
     "text": [
      "      25/30      1.78G     0.5193     0.4615     0.9317         10        640:  18%|█▊        | 78/442 [00:35<02:47,"
     ]
    },
    {
     "name": "stdout",
     "output_type": "stream",
     "text": [
      "[GPU 모니터] 메모리 할당: 1453.4MB, 예약: 1818.0MB\n"
     ]
    },
    {
     "name": "stderr",
     "output_type": "stream",
     "text": [
      "      25/30      1.78G     0.5292     0.4584     0.9303         11        640:  22%|██▏       | 99/442 [00:45<02:46,"
     ]
    },
    {
     "name": "stdout",
     "output_type": "stream",
     "text": [
      "[GPU 모니터] 메모리 할당: 516.3MB, 예약: 1818.0MB\n"
     ]
    },
    {
     "name": "stderr",
     "output_type": "stream",
     "text": [
      "      25/30      1.78G     0.5296     0.4547     0.9336          9        640:  27%|██▋       | 121/442 [00:55<02:24"
     ]
    },
    {
     "name": "stdout",
     "output_type": "stream",
     "text": [
      "[GPU 모니터] 메모리 할당: 526.4MB, 예약: 1818.0MB\n"
     ]
    },
    {
     "name": "stderr",
     "output_type": "stream",
     "text": [
      "      25/30      1.78G     0.5302     0.4534     0.9349         11        640:  32%|███▏      | 143/442 [01:05<02:17"
     ]
    },
    {
     "name": "stdout",
     "output_type": "stream",
     "text": [
      "[GPU 모니터] 메모리 할당: 526.4MB, 예약: 1818.0MB\n"
     ]
    },
    {
     "name": "stderr",
     "output_type": "stream",
     "text": [
      "      25/30      1.78G     0.5293      0.451     0.9337         10        640:  37%|███▋      | 165/442 [01:15<02:04"
     ]
    },
    {
     "name": "stdout",
     "output_type": "stream",
     "text": [
      "[GPU 모니터] 메모리 할당: 1205.2MB, 예약: 1818.0MB\n"
     ]
    },
    {
     "name": "stderr",
     "output_type": "stream",
     "text": [
      "      25/30      1.78G     0.5334     0.4573      0.936          8        640:  42%|████▏     | 187/442 [01:25<01:59"
     ]
    },
    {
     "name": "stdout",
     "output_type": "stream",
     "text": [
      "[GPU 모니터] 메모리 할당: 1423.6MB, 예약: 1818.0MB\n"
     ]
    },
    {
     "name": "stderr",
     "output_type": "stream",
     "text": [
      "      25/30      1.78G     0.5326     0.4602     0.9353          9        640:  47%|████▋     | 208/442 [01:35<01:53"
     ]
    },
    {
     "name": "stdout",
     "output_type": "stream",
     "text": [
      "[GPU 모니터] 메모리 할당: 564.4MB, 예약: 1818.0MB\n"
     ]
    },
    {
     "name": "stderr",
     "output_type": "stream",
     "text": [
      "      25/30      1.78G      0.539     0.4627     0.9371          9        640:  52%|█████▏    | 230/442 [01:45<01:38"
     ]
    },
    {
     "name": "stdout",
     "output_type": "stream",
     "text": [
      "[GPU 모니터] 메모리 할당: 1461.6MB, 예약: 1818.0MB\n"
     ]
    },
    {
     "name": "stderr",
     "output_type": "stream",
     "text": [
      "      25/30      1.78G     0.5391     0.4647     0.9347          9        640:  57%|█████▋    | 251/442 [01:55<01:32"
     ]
    },
    {
     "name": "stdout",
     "output_type": "stream",
     "text": [
      "[GPU 모니터] 메모리 할당: 516.3MB, 예약: 1818.0MB\n"
     ]
    },
    {
     "name": "stderr",
     "output_type": "stream",
     "text": [
      "      25/30      1.78G     0.5413     0.4674     0.9351         11        640:  62%|██████▏   | 272/442 [02:05<01:18"
     ]
    },
    {
     "name": "stdout",
     "output_type": "stream",
     "text": [
      "[GPU 모니터] 메모리 할당: 564.4MB, 예약: 1818.0MB\n"
     ]
    },
    {
     "name": "stderr",
     "output_type": "stream",
     "text": [
      "      25/30      1.78G     0.5399     0.4636     0.9348         11        640:  66%|██████▋   | 293/442 [02:15<01:09"
     ]
    },
    {
     "name": "stdout",
     "output_type": "stream",
     "text": [
      "[GPU 모니터] 메모리 할당: 897.3MB, 예약: 1818.0MB\n"
     ]
    },
    {
     "name": "stderr",
     "output_type": "stream",
     "text": [
      "      25/30      1.78G     0.5408     0.4663     0.9377          9        640:  71%|███████▏  | 315/442 [02:25<01:00"
     ]
    },
    {
     "name": "stdout",
     "output_type": "stream",
     "text": [
      "[GPU 모니터] 메모리 할당: 516.3MB, 예약: 1818.0MB\n"
     ]
    },
    {
     "name": "stderr",
     "output_type": "stream",
     "text": [
      "      25/30      1.78G     0.5395     0.4636     0.9386          9        640:  76%|███████▌  | 337/442 [02:35<00:47"
     ]
    },
    {
     "name": "stdout",
     "output_type": "stream",
     "text": [
      "[GPU 모니터] 메모리 할당: 1026.1MB, 예약: 1818.0MB\n"
     ]
    },
    {
     "name": "stderr",
     "output_type": "stream",
     "text": [
      "      25/30      1.78G     0.5403     0.4642     0.9389         12        640:  81%|████████  | 358/442 [02:45<00:39"
     ]
    },
    {
     "name": "stdout",
     "output_type": "stream",
     "text": [
      "[GPU 모니터] 메모리 할당: 1143.2MB, 예약: 1820.0MB\n"
     ]
    },
    {
     "name": "stderr",
     "output_type": "stream",
     "text": [
      "      25/30      1.78G     0.5394     0.4636       0.94         10        640:  86%|████████▌ | 380/442 [02:55<00:30"
     ]
    },
    {
     "name": "stdout",
     "output_type": "stream",
     "text": [
      "[GPU 모니터] 메모리 할당: 1469.9MB, 예약: 1820.0MB\n"
     ]
    },
    {
     "name": "stderr",
     "output_type": "stream",
     "text": [
      "      25/30      1.78G     0.5408      0.465     0.9413         12        640:  91%|█████████ | 402/442 [03:05<00:18"
     ]
    },
    {
     "name": "stdout",
     "output_type": "stream",
     "text": [
      "[GPU 모니터] 메모리 할당: 1319.5MB, 예약: 1820.0MB\n"
     ]
    },
    {
     "name": "stderr",
     "output_type": "stream",
     "text": [
      "      25/30      1.78G     0.5428     0.4657      0.942          8        640:  96%|█████████▌| 423/442 [03:15<00:08"
     ]
    },
    {
     "name": "stdout",
     "output_type": "stream",
     "text": [
      "[GPU 모니터] 메모리 할당: 526.4MB, 예약: 1820.0MB\n"
     ]
    },
    {
     "name": "stderr",
     "output_type": "stream",
     "text": [
      "      25/30      1.79G     0.5413     0.4665      0.941          3        640: 100%|██████████| 442/442 [03:23<00:00\n",
      "                 Class     Images  Instances      Box(P          R      mAP50  mAP50-95):   8%|▊         | 4/51 [00:"
     ]
    },
    {
     "name": "stdout",
     "output_type": "stream",
     "text": [
      "[GPU 모니터] 메모리 할당: 624.8MB, 예약: 1834.0MB\n"
     ]
    },
    {
     "name": "stderr",
     "output_type": "stream",
     "text": [
      "                 Class     Images  Instances      Box(P          R      mAP50  mAP50-95):  57%|█████▋    | 29/51 [00"
     ]
    },
    {
     "name": "stdout",
     "output_type": "stream",
     "text": [
      "[GPU 모니터] 메모리 할당: 635.7MB, 예약: 1834.0MB\n"
     ]
    },
    {
     "name": "stderr",
     "output_type": "stream",
     "text": [
      "                 Class     Images  Instances      Box(P          R      mAP50  mAP50-95): 100%|██████████| 51/51 [00"
     ]
    },
    {
     "name": "stdout",
     "output_type": "stream",
     "text": [
      "                   all        801        944      0.954      0.848      0.933      0.806\n"
     ]
    },
    {
     "name": "stderr",
     "output_type": "stream",
     "text": [
      "\n"
     ]
    },
    {
     "name": "stdout",
     "output_type": "stream",
     "text": [
      "\n",
      "      Epoch    GPU_mem   box_loss   cls_loss   dfl_loss  Instances       Size\n"
     ]
    },
    {
     "name": "stderr",
     "output_type": "stream",
     "text": [
      "  0%|          | 0/442 [00:00<?, ?it/s]"
     ]
    },
    {
     "name": "stdout",
     "output_type": "stream",
     "text": [
      "[GPU 모니터] 메모리 할당: 513.8MB, 예약: 1834.0MB\n"
     ]
    },
    {
     "name": "stderr",
     "output_type": "stream",
     "text": [
      "      26/30      1.79G     0.5083     0.4215     0.9307          9        640:   5%|▌         | 23/442 [00:10<02:52,"
     ]
    },
    {
     "name": "stdout",
     "output_type": "stream",
     "text": [
      "[GPU 모니터] 메모리 할당: 541.5MB, 예약: 1834.0MB\n"
     ]
    },
    {
     "name": "stderr",
     "output_type": "stream",
     "text": [
      "      26/30      1.79G      0.528     0.4347     0.9385         11        640:  10%|█         | 46/442 [00:20<02:55,"
     ]
    },
    {
     "name": "stdout",
     "output_type": "stream",
     "text": [
      "[GPU 모니터] 메모리 할당: 998.1MB, 예약: 1834.0MB\n"
     ]
    },
    {
     "name": "stderr",
     "output_type": "stream",
     "text": [
      "      26/30      1.79G     0.5397     0.4443     0.9433          8        640:  15%|█▌        | 67/442 [00:30<02:53,"
     ]
    },
    {
     "name": "stdout",
     "output_type": "stream",
     "text": [
      "[GPU 모니터] 메모리 할당: 541.5MB, 예약: 1834.0MB\n"
     ]
    },
    {
     "name": "stderr",
     "output_type": "stream",
     "text": [
      "      26/30      1.79G     0.5284     0.4487     0.9333         10        640:  20%|█▉        | 88/442 [00:39<02:43,"
     ]
    },
    {
     "name": "stdout",
     "output_type": "stream",
     "text": [
      "[GPU 모니터] 메모리 할당: 1196.0MB, 예약: 1834.0MB\n"
     ]
    },
    {
     "name": "stderr",
     "output_type": "stream",
     "text": [
      "      26/30      1.79G     0.5317     0.4538     0.9303          9        640:  25%|██▌       | 111/442 [00:50<02:23"
     ]
    },
    {
     "name": "stdout",
     "output_type": "stream",
     "text": [
      "[GPU 모니터] 메모리 할당: 1284.2MB, 예약: 1834.0MB\n"
     ]
    },
    {
     "name": "stderr",
     "output_type": "stream",
     "text": [
      "      26/30      1.79G     0.5319     0.4577     0.9313          9        640:  30%|██▉       | 132/442 [01:00<02:26"
     ]
    },
    {
     "name": "stdout",
     "output_type": "stream",
     "text": [
      "[GPU 모니터] 메모리 할당: 579.5MB, 예약: 1834.0MB\n"
     ]
    },
    {
     "name": "stderr",
     "output_type": "stream",
     "text": [
      "      26/30      1.79G     0.5232     0.4557     0.9339         13        640:  35%|███▌      | 155/442 [01:10<02:15"
     ]
    },
    {
     "name": "stdout",
     "output_type": "stream",
     "text": [
      "[GPU 모니터] 메모리 할당: 1244.3MB, 예약: 1834.0MB\n"
     ]
    },
    {
     "name": "stderr",
     "output_type": "stream",
     "text": [
      "      26/30      1.79G     0.5226     0.4521     0.9348          8        640:  40%|████      | 177/442 [01:20<02:04"
     ]
    },
    {
     "name": "stdout",
     "output_type": "stream",
     "text": [
      "[GPU 모니터] 메모리 할당: 531.5MB, 예약: 1834.0MB\n"
     ]
    },
    {
     "name": "stderr",
     "output_type": "stream",
     "text": [
      "      26/30      1.79G      0.527     0.4511     0.9343          8        640:  45%|████▌     | 199/442 [01:30<01:48"
     ]
    },
    {
     "name": "stdout",
     "output_type": "stream",
     "text": [
      "[GPU 모니터] 메모리 할당: 541.5MB, 예약: 1834.0MB\n"
     ]
    },
    {
     "name": "stderr",
     "output_type": "stream",
     "text": [
      "      26/30      1.79G      0.526     0.4517     0.9357          8        640:  50%|█████     | 221/442 [01:39<01:39"
     ]
    },
    {
     "name": "stdout",
     "output_type": "stream",
     "text": [
      "[GPU 모니터] 메모리 할당: 541.5MB, 예약: 1834.0MB\n"
     ]
    },
    {
     "name": "stderr",
     "output_type": "stream",
     "text": [
      "      26/30      1.79G      0.523     0.4475     0.9354          9        640:  55%|█████▍    | 243/442 [01:50<01:32"
     ]
    },
    {
     "name": "stdout",
     "output_type": "stream",
     "text": [
      "[GPU 모니터] 메모리 할당: 541.5MB, 예약: 1834.0MB\n"
     ]
    },
    {
     "name": "stderr",
     "output_type": "stream",
     "text": [
      "      26/30      1.79G     0.5244     0.4492     0.9343          8        640:  60%|█████▉    | 265/442 [02:00<01:22"
     ]
    },
    {
     "name": "stdout",
     "output_type": "stream",
     "text": [
      "[GPU 모니터] 메모리 할당: 531.5MB, 예약: 1834.0MB\n"
     ]
    },
    {
     "name": "stderr",
     "output_type": "stream",
     "text": [
      "      26/30      1.79G     0.5245     0.4468     0.9335          8        640:  65%|██████▍   | 287/442 [02:10<01:10"
     ]
    },
    {
     "name": "stdout",
     "output_type": "stream",
     "text": [
      "[GPU 모니터] 메모리 할당: 541.5MB, 예약: 1834.0MB\n"
     ]
    },
    {
     "name": "stderr",
     "output_type": "stream",
     "text": [
      "      26/30      1.79G     0.5253     0.4483     0.9322         10        640:  70%|██████▉   | 309/442 [02:20<00:59"
     ]
    },
    {
     "name": "stdout",
     "output_type": "stream",
     "text": [
      "[GPU 모니터] 메모리 할당: 1306.8MB, 예약: 1834.0MB\n"
     ]
    },
    {
     "name": "stderr",
     "output_type": "stream",
     "text": [
      "      26/30      1.79G     0.5246     0.4477     0.9313          8        640:  75%|███████▍  | 330/442 [02:30<00:51"
     ]
    },
    {
     "name": "stdout",
     "output_type": "stream",
     "text": [
      "[GPU 모니터] 메모리 할당: 579.5MB, 예약: 1834.0MB\n"
     ]
    },
    {
     "name": "stderr",
     "output_type": "stream",
     "text": [
      "      26/30      1.79G     0.5227     0.4444      0.931          9        640:  80%|███████▉  | 353/442 [02:40<00:38"
     ]
    },
    {
     "name": "stdout",
     "output_type": "stream",
     "text": [
      "[GPU 모니터] 메모리 할당: 1313.6MB, 예약: 1834.0MB\n"
     ]
    },
    {
     "name": "stderr",
     "output_type": "stream",
     "text": [
      "      26/30      1.79G     0.5263     0.4439     0.9327         12        640:  85%|████████▌ | 376/442 [02:50<00:28"
     ]
    },
    {
     "name": "stdout",
     "output_type": "stream",
     "text": [
      "[GPU 모니터] 메모리 할당: 579.5MB, 예약: 1834.0MB\n"
     ]
    },
    {
     "name": "stderr",
     "output_type": "stream",
     "text": [
      "      26/30      1.79G      0.528     0.4461     0.9341          9        640:  90%|█████████ | 399/442 [03:00<00:19"
     ]
    },
    {
     "name": "stdout",
     "output_type": "stream",
     "text": [
      "[GPU 모니터] 메모리 할당: 1241.0MB, 예약: 1834.0MB\n"
     ]
    },
    {
     "name": "stderr",
     "output_type": "stream",
     "text": [
      "      26/30      1.79G     0.5257     0.4438      0.933          8        640:  95%|█████████▌| 420/442 [03:10<00:09"
     ]
    },
    {
     "name": "stdout",
     "output_type": "stream",
     "text": [
      "[GPU 모니터] 메모리 할당: 579.5MB, 예약: 1834.0MB\n"
     ]
    },
    {
     "name": "stderr",
     "output_type": "stream",
     "text": [
      "      26/30       1.8G      0.525     0.4421     0.9318          2        640: 100%|██████████| 442/442 [03:19<00:00\n",
      "                 Class     Images  Instances      Box(P          R      mAP50  mAP50-95):   2%|▏         | 1/51 [00:"
     ]
    },
    {
     "name": "stdout",
     "output_type": "stream",
     "text": [
      "[GPU 모니터] 메모리 할당: 588.4MB, 예약: 1840.0MB\n"
     ]
    },
    {
     "name": "stderr",
     "output_type": "stream",
     "text": [
      "                 Class     Images  Instances      Box(P          R      mAP50  mAP50-95):  49%|████▉     | 25/51 [00"
     ]
    },
    {
     "name": "stdout",
     "output_type": "stream",
     "text": [
      "[GPU 모니터] 메모리 할당: 639.5MB, 예약: 1840.0MB\n"
     ]
    },
    {
     "name": "stderr",
     "output_type": "stream",
     "text": [
      "                 Class     Images  Instances      Box(P          R      mAP50  mAP50-95):  96%|█████████▌| 49/51 [00"
     ]
    },
    {
     "name": "stdout",
     "output_type": "stream",
     "text": [
      "[GPU 모니터] 메모리 할당: 588.4MB, 예약: 1840.0MB\n"
     ]
    },
    {
     "name": "stderr",
     "output_type": "stream",
     "text": [
      "                 Class     Images  Instances      Box(P          R      mAP50  mAP50-95): 100%|██████████| 51/51 [00"
     ]
    },
    {
     "name": "stdout",
     "output_type": "stream",
     "text": [
      "                   all        801        944      0.945      0.859      0.938      0.805\n"
     ]
    },
    {
     "name": "stderr",
     "output_type": "stream",
     "text": [
      "\n"
     ]
    },
    {
     "name": "stdout",
     "output_type": "stream",
     "text": [
      "\n",
      "      Epoch    GPU_mem   box_loss   cls_loss   dfl_loss  Instances       Size\n"
     ]
    },
    {
     "name": "stderr",
     "output_type": "stream",
     "text": [
      "      27/30      1.81G     0.5096      0.411     0.9414         12        640:   4%|▍         | 18/442 [00:08<03:12,"
     ]
    },
    {
     "name": "stdout",
     "output_type": "stream",
     "text": [
      "[GPU 모니터] 메모리 할당: 594.7MB, 예약: 1850.0MB\n"
     ]
    },
    {
     "name": "stderr",
     "output_type": "stream",
     "text": [
      "      27/30      1.81G     0.5042     0.4102     0.9372          9        640:   9%|▉         | 40/442 [00:18<03:01,"
     ]
    },
    {
     "name": "stdout",
     "output_type": "stream",
     "text": [
      "[GPU 모니터] 메모리 할당: 594.7MB, 예약: 1850.0MB\n"
     ]
    },
    {
     "name": "stderr",
     "output_type": "stream",
     "text": [
      "      27/30      1.81G     0.5084     0.4047     0.9273          9        640:  14%|█▍        | 63/442 [00:28<02:44,"
     ]
    },
    {
     "name": "stdout",
     "output_type": "stream",
     "text": [
      "[GPU 모니터] 메모리 할당: 1273.7MB, 예약: 1850.0MB\n"
     ]
    },
    {
     "name": "stderr",
     "output_type": "stream",
     "text": [
      "      27/30      1.81G     0.5244      0.424      0.928          9        640:  19%|█▉        | 85/442 [00:38<02:38,"
     ]
    },
    {
     "name": "stdout",
     "output_type": "stream",
     "text": [
      "[GPU 모니터] 메모리 할당: 556.7MB, 예약: 1850.0MB\n"
     ]
    },
    {
     "name": "stderr",
     "output_type": "stream",
     "text": [
      "      27/30      1.81G     0.5277     0.4361     0.9293          8        640:  24%|██▍       | 107/442 [00:48<02:37"
     ]
    },
    {
     "name": "stdout",
     "output_type": "stream",
     "text": [
      "[GPU 모니터] 메모리 할당: 556.7MB, 예약: 1850.0MB\n"
     ]
    },
    {
     "name": "stderr",
     "output_type": "stream",
     "text": [
      "      27/30      1.81G     0.5134     0.4241     0.9307          8        640:  30%|██▉       | 131/442 [00:58<02:08"
     ]
    },
    {
     "name": "stdout",
     "output_type": "stream",
     "text": [
      "[GPU 모니터] 메모리 할당: 556.7MB, 예약: 1850.0MB\n"
     ]
    },
    {
     "name": "stderr",
     "output_type": "stream",
     "text": [
      "      27/30      1.81G     0.5123     0.4214     0.9298         10        640:  35%|███▍      | 154/442 [01:08<02:10"
     ]
    },
    {
     "name": "stdout",
     "output_type": "stream",
     "text": [
      "[GPU 모니터] 메모리 할당: 1067.7MB, 예약: 1850.0MB\n"
     ]
    },
    {
     "name": "stderr",
     "output_type": "stream",
     "text": [
      "      27/30      1.81G     0.5095     0.4236     0.9292          9        640:  40%|███▉      | 176/442 [01:18<01:59"
     ]
    },
    {
     "name": "stdout",
     "output_type": "stream",
     "text": [
      "[GPU 모니터] 메모리 할당: 594.7MB, 예약: 1850.0MB\n"
     ]
    },
    {
     "name": "stderr",
     "output_type": "stream",
     "text": [
      "      27/30      1.81G      0.506     0.4242     0.9298          9        640:  45%|████▌     | 199/442 [01:28<01:39"
     ]
    },
    {
     "name": "stdout",
     "output_type": "stream",
     "text": [
      "[GPU 모니터] 메모리 할당: 546.7MB, 예약: 1850.0MB\n"
     ]
    },
    {
     "name": "stderr",
     "output_type": "stream",
     "text": [
      "      27/30      1.81G     0.5078     0.4269     0.9292         10        640:  50%|█████     | 222/442 [01:38<01:36"
     ]
    },
    {
     "name": "stdout",
     "output_type": "stream",
     "text": [
      "[GPU 모니터] 메모리 할당: 594.7MB, 예약: 1850.0MB\n"
     ]
    },
    {
     "name": "stderr",
     "output_type": "stream",
     "text": [
      "      27/30      1.81G     0.5087     0.4278     0.9303         10        640:  55%|█████▌    | 244/442 [01:48<01:30"
     ]
    },
    {
     "name": "stdout",
     "output_type": "stream",
     "text": [
      "[GPU 모니터] 메모리 할당: 594.7MB, 예약: 1850.0MB\n"
     ]
    },
    {
     "name": "stderr",
     "output_type": "stream",
     "text": [
      "      27/30      1.81G     0.5124     0.4311     0.9309         10        640:  61%|██████    | 268/442 [01:58<01:13"
     ]
    },
    {
     "name": "stdout",
     "output_type": "stream",
     "text": [
      "[GPU 모니터] 메모리 할당: 1266.3MB, 예약: 1850.0MB\n"
     ]
    },
    {
     "name": "stderr",
     "output_type": "stream",
     "text": [
      "      27/30      1.81G     0.5162     0.4322     0.9357          8        640:  65%|██████▌   | 289/442 [02:08<01:11"
     ]
    },
    {
     "name": "stdout",
     "output_type": "stream",
     "text": [
      "[GPU 모니터] 메모리 할당: 556.7MB, 예약: 1850.0MB\n"
     ]
    },
    {
     "name": "stderr",
     "output_type": "stream",
     "text": [
      "      27/30      1.81G     0.5162     0.4313     0.9351         10        640:  71%|███████   | 314/442 [02:18<00:51"
     ]
    },
    {
     "name": "stdout",
     "output_type": "stream",
     "text": [
      "[GPU 모니터] 메모리 할당: 1479.9MB, 예약: 1850.0MB\n"
     ]
    },
    {
     "name": "stderr",
     "output_type": "stream",
     "text": [
      "      27/30      1.81G     0.5163     0.4317     0.9336         10        640:  77%|███████▋  | 339/442 [02:28<00:43"
     ]
    },
    {
     "name": "stdout",
     "output_type": "stream",
     "text": [
      "[GPU 모니터] 메모리 할당: 556.7MB, 예약: 1850.0MB\n"
     ]
    },
    {
     "name": "stderr",
     "output_type": "stream",
     "text": [
      "      27/30      1.81G     0.5179     0.4317      0.934         12        640:  82%|████████▏ | 361/442 [02:38<00:37"
     ]
    },
    {
     "name": "stdout",
     "output_type": "stream",
     "text": [
      "[GPU 모니터] 메모리 할당: 556.7MB, 예약: 1850.0MB\n"
     ]
    },
    {
     "name": "stderr",
     "output_type": "stream",
     "text": [
      "      27/30      1.81G     0.5188     0.4332     0.9325         11        640:  87%|████████▋ | 383/442 [02:48<00:26"
     ]
    },
    {
     "name": "stdout",
     "output_type": "stream",
     "text": [
      "[GPU 모니터] 메모리 할당: 546.7MB, 예약: 1850.0MB\n"
     ]
    },
    {
     "name": "stderr",
     "output_type": "stream",
     "text": [
      "      27/30      1.81G     0.5193     0.4357     0.9328          8        640:  92%|█████████▏| 405/442 [02:58<00:16"
     ]
    },
    {
     "name": "stdout",
     "output_type": "stream",
     "text": [
      "[GPU 모니터] 메모리 할당: 556.7MB, 예약: 1850.0MB\n"
     ]
    },
    {
     "name": "stderr",
     "output_type": "stream",
     "text": [
      "      27/30      1.81G      0.521     0.4383     0.9318         12        640:  97%|█████████▋| 427/442 [03:08<00:06"
     ]
    },
    {
     "name": "stdout",
     "output_type": "stream",
     "text": [
      "[GPU 모니터] 메모리 할당: 1435.5MB, 예약: 1850.0MB\n"
     ]
    },
    {
     "name": "stderr",
     "output_type": "stream",
     "text": [
      "      27/30      1.82G     0.5254      0.441     0.9332          5        640: 100%|██████████| 442/442 [03:15<00:00\n",
      "                 Class     Images  Instances      Box(P          R      mAP50  mAP50-95):  14%|█▎        | 7/51 [00:"
     ]
    },
    {
     "name": "stdout",
     "output_type": "stream",
     "text": [
      "[GPU 모니터] 메모리 할당: 603.3MB, 예약: 1864.0MB\n"
     ]
    },
    {
     "name": "stderr",
     "output_type": "stream",
     "text": [
      "                 Class     Images  Instances      Box(P          R      mAP50  mAP50-95):  61%|██████    | 31/51 [00"
     ]
    },
    {
     "name": "stdout",
     "output_type": "stream",
     "text": [
      "[GPU 모니터] 메모리 할당: 603.3MB, 예약: 1864.0MB\n"
     ]
    },
    {
     "name": "stderr",
     "output_type": "stream",
     "text": [
      "                 Class     Images  Instances      Box(P          R      mAP50  mAP50-95): 100%|██████████| 51/51 [00"
     ]
    },
    {
     "name": "stdout",
     "output_type": "stream",
     "text": [
      "                   all        801        944      0.948       0.86      0.939      0.809\n"
     ]
    },
    {
     "name": "stderr",
     "output_type": "stream",
     "text": [
      "\n"
     ]
    },
    {
     "name": "stdout",
     "output_type": "stream",
     "text": [
      "\n",
      "      Epoch    GPU_mem   box_loss   cls_loss   dfl_loss  Instances       Size\n"
     ]
    },
    {
     "name": "stderr",
     "output_type": "stream",
     "text": [
      "      28/30      1.82G     0.6302      0.526     0.9512          8        640:   0%|          | 2/442 [00:01<03:50, "
     ]
    },
    {
     "name": "stdout",
     "output_type": "stream",
     "text": [
      "[GPU 모니터] 메모리 할당: 609.9MB, 예약: 1864.0MB\n"
     ]
    },
    {
     "name": "stderr",
     "output_type": "stream",
     "text": [
      "      28/30      1.82G     0.5452     0.4312     0.9418          8        640:   5%|▌         | 24/442 [00:11<03:13,"
     ]
    },
    {
     "name": "stdout",
     "output_type": "stream",
     "text": [
      "[GPU 모니터] 메모리 할당: 609.9MB, 예약: 1864.0MB\n"
     ]
    },
    {
     "name": "stderr",
     "output_type": "stream",
     "text": [
      "      28/30      1.82G     0.5516     0.4738     0.9312         10        640:  11%|█         | 47/442 [00:21<02:56,"
     ]
    },
    {
     "name": "stdout",
     "output_type": "stream",
     "text": [
      "[GPU 모니터] 메모리 할당: 668.6MB, 예약: 1864.0MB\n"
     ]
    },
    {
     "name": "stderr",
     "output_type": "stream",
     "text": [
      "      28/30      1.82G     0.5524     0.4764     0.9272         14        640:  15%|█▌        | 68/442 [00:31<02:49,"
     ]
    },
    {
     "name": "stdout",
     "output_type": "stream",
     "text": [
      "[GPU 모니터] 메모리 할당: 609.9MB, 예약: 1864.0MB\n"
     ]
    },
    {
     "name": "stderr",
     "output_type": "stream",
     "text": [
      "      28/30      1.82G     0.5303     0.4633     0.9258          9        640:  20%|██        | 89/442 [00:41<02:48,"
     ]
    },
    {
     "name": "stdout",
     "output_type": "stream",
     "text": [
      "[GPU 모니터] 메모리 할당: 571.9MB, 예약: 1864.0MB\n"
     ]
    },
    {
     "name": "stderr",
     "output_type": "stream",
     "text": [
      "      28/30      1.82G      0.516     0.4568     0.9225          8        640:  25%|██▍       | 110/442 [00:50<02:35"
     ]
    },
    {
     "name": "stdout",
     "output_type": "stream",
     "text": [
      "[GPU 모니터] 메모리 할당: 571.9MB, 예약: 1864.0MB\n"
     ]
    },
    {
     "name": "stderr",
     "output_type": "stream",
     "text": [
      "      28/30      1.82G     0.5195     0.4603     0.9156         10        640:  30%|██▉       | 132/442 [01:01<02:21"
     ]
    },
    {
     "name": "stdout",
     "output_type": "stream",
     "text": [
      "[GPU 모니터] 메모리 할당: 609.9MB, 예약: 1864.0MB\n"
     ]
    },
    {
     "name": "stderr",
     "output_type": "stream",
     "text": [
      "      28/30      1.82G     0.5159     0.4553     0.9122         10        640:  35%|███▍      | 154/442 [01:11<02:06"
     ]
    },
    {
     "name": "stdout",
     "output_type": "stream",
     "text": [
      "[GPU 모니터] 메모리 할당: 609.9MB, 예약: 1864.0MB\n"
     ]
    },
    {
     "name": "stderr",
     "output_type": "stream",
     "text": [
      "      28/30      1.82G     0.5221     0.4525     0.9146          9        640:  40%|███▉      | 176/442 [01:21<02:02"
     ]
    },
    {
     "name": "stdout",
     "output_type": "stream",
     "text": [
      "[GPU 모니터] 메모리 할당: 1495.0MB, 예약: 1864.0MB\n"
     ]
    },
    {
     "name": "stderr",
     "output_type": "stream",
     "text": [
      "      28/30      1.82G     0.5155       0.44      0.915          9        640:  45%|████▍     | 197/442 [01:31<01:58"
     ]
    },
    {
     "name": "stdout",
     "output_type": "stream",
     "text": [
      "[GPU 모니터] 메모리 할당: 561.8MB, 예약: 1864.0MB\n"
     ]
    },
    {
     "name": "stderr",
     "output_type": "stream",
     "text": [
      "      28/30      1.82G     0.5152     0.4354     0.9195         10        640:  50%|████▉     | 219/442 [01:41<01:43"
     ]
    },
    {
     "name": "stdout",
     "output_type": "stream",
     "text": [
      "[GPU 모니터] 메모리 할당: 571.9MB, 예약: 1866.0MB\n"
     ]
    },
    {
     "name": "stderr",
     "output_type": "stream",
     "text": [
      "      28/30      1.82G     0.5166     0.4336     0.9206          8        640:  54%|█████▍    | 240/442 [01:51<01:38"
     ]
    },
    {
     "name": "stdout",
     "output_type": "stream",
     "text": [
      "[GPU 모니터] 메모리 할당: 609.9MB, 예약: 1866.0MB\n"
     ]
    },
    {
     "name": "stderr",
     "output_type": "stream",
     "text": [
      "      28/30      1.82G      0.518     0.4329     0.9215          9        640:  59%|█████▉    | 262/442 [02:01<01:23"
     ]
    },
    {
     "name": "stdout",
     "output_type": "stream",
     "text": [
      "[GPU 모니터] 메모리 할당: 609.9MB, 예약: 1866.0MB\n"
     ]
    },
    {
     "name": "stderr",
     "output_type": "stream",
     "text": [
      "      28/30      1.82G     0.5168     0.4323     0.9214          9        640:  64%|██████▍   | 284/442 [02:11<01:10"
     ]
    },
    {
     "name": "stdout",
     "output_type": "stream",
     "text": [
      "[GPU 모니터] 메모리 할당: 609.9MB, 예약: 1866.0MB\n"
     ]
    },
    {
     "name": "stderr",
     "output_type": "stream",
     "text": [
      "      28/30      1.82G     0.5173     0.4352     0.9223         10        640:  69%|██████▉   | 306/442 [02:21<01:01"
     ]
    },
    {
     "name": "stdout",
     "output_type": "stream",
     "text": [
      "[GPU 모니터] 메모리 할당: 609.9MB, 예약: 1866.0MB\n"
     ]
    },
    {
     "name": "stderr",
     "output_type": "stream",
     "text": [
      "      28/30      1.82G     0.5155     0.4335     0.9203          8        640:  74%|███████▍  | 327/442 [02:31<00:53"
     ]
    },
    {
     "name": "stdout",
     "output_type": "stream",
     "text": [
      "[GPU 모니터] 메모리 할당: 571.9MB, 예약: 1866.0MB\n"
     ]
    },
    {
     "name": "stderr",
     "output_type": "stream",
     "text": [
      "      28/30      1.82G     0.5149     0.4371     0.9208          8        640:  79%|███████▉  | 349/442 [02:41<00:43"
     ]
    },
    {
     "name": "stdout",
     "output_type": "stream",
     "text": [
      "[GPU 모니터] 메모리 할당: 561.8MB, 예약: 1866.0MB\n"
     ]
    },
    {
     "name": "stderr",
     "output_type": "stream",
     "text": [
      "      28/30      1.82G     0.5156     0.4361     0.9221         10        640:  84%|████████▎ | 370/442 [02:51<00:33"
     ]
    },
    {
     "name": "stdout",
     "output_type": "stream",
     "text": [
      "[GPU 모니터] 메모리 할당: 609.9MB, 예약: 1866.0MB\n"
     ]
    },
    {
     "name": "stderr",
     "output_type": "stream",
     "text": [
      "      28/30      1.82G     0.5175      0.436      0.922         12        640:  88%|████████▊ | 391/442 [03:01<00:23"
     ]
    },
    {
     "name": "stdout",
     "output_type": "stream",
     "text": [
      "[GPU 모니터] 메모리 할당: 571.9MB, 예약: 1866.0MB\n"
     ]
    },
    {
     "name": "stderr",
     "output_type": "stream",
     "text": [
      "      28/30      1.82G     0.5154     0.4341      0.923         11        640:  93%|█████████▎| 413/442 [03:11<00:13"
     ]
    },
    {
     "name": "stdout",
     "output_type": "stream",
     "text": [
      "[GPU 모니터] 메모리 할당: 561.8MB, 예약: 1866.0MB\n"
     ]
    },
    {
     "name": "stderr",
     "output_type": "stream",
     "text": [
      "      28/30      1.82G     0.5166     0.4337     0.9237         12        640:  98%|█████████▊| 435/442 [03:21<00:02"
     ]
    },
    {
     "name": "stdout",
     "output_type": "stream",
     "text": [
      "[GPU 모니터] 메모리 할당: 571.9MB, 예약: 1866.0MB\n"
     ]
    },
    {
     "name": "stderr",
     "output_type": "stream",
     "text": [
      "      28/30      1.84G     0.5153     0.4327     0.9235          2        640: 100%|██████████| 442/442 [03:24<00:00\n",
      "                 Class     Images  Instances      Box(P          R      mAP50  mAP50-95):  31%|███▏      | 16/51 [00"
     ]
    },
    {
     "name": "stdout",
     "output_type": "stream",
     "text": [
      "[GPU 모니터] 메모리 할당: 618.5MB, 예약: 1880.0MB\n"
     ]
    },
    {
     "name": "stderr",
     "output_type": "stream",
     "text": [
      "                 Class     Images  Instances      Box(P          R      mAP50  mAP50-95):  78%|███████▊  | 40/51 [00"
     ]
    },
    {
     "name": "stdout",
     "output_type": "stream",
     "text": [
      "[GPU 모니터] 메모리 할당: 618.5MB, 예약: 1880.0MB\n"
     ]
    },
    {
     "name": "stderr",
     "output_type": "stream",
     "text": [
      "                 Class     Images  Instances      Box(P          R      mAP50  mAP50-95): 100%|██████████| 51/51 [00"
     ]
    },
    {
     "name": "stdout",
     "output_type": "stream",
     "text": [
      "                   all        801        944      0.967      0.848      0.943      0.814\n"
     ]
    },
    {
     "name": "stderr",
     "output_type": "stream",
     "text": [
      "\n"
     ]
    },
    {
     "name": "stdout",
     "output_type": "stream",
     "text": [
      "\n",
      "      Epoch    GPU_mem   box_loss   cls_loss   dfl_loss  Instances       Size\n"
     ]
    },
    {
     "name": "stderr",
     "output_type": "stream",
     "text": [
      "      29/30      1.84G     0.5426     0.4573     0.9194         10        640:   2%|▏         | 10/442 [00:04<03:18,"
     ]
    },
    {
     "name": "stdout",
     "output_type": "stream",
     "text": [
      "[GPU 모니터] 메모리 할당: 625.1MB, 예약: 1880.0MB\n"
     ]
    },
    {
     "name": "stderr",
     "output_type": "stream",
     "text": [
      "      29/30      1.84G     0.4947     0.4167     0.9021         10        640:   7%|▋         | 32/442 [00:15<03:12,"
     ]
    },
    {
     "name": "stdout",
     "output_type": "stream",
     "text": [
      "[GPU 모니터] 메모리 할당: 625.1MB, 예약: 1880.0MB\n"
     ]
    },
    {
     "name": "stderr",
     "output_type": "stream",
     "text": [
      "      29/30      1.84G     0.5029     0.4081     0.9025          8        640:  12%|█▏        | 53/442 [00:24<02:58,"
     ]
    },
    {
     "name": "stdout",
     "output_type": "stream",
     "text": [
      "[GPU 모니터] 메모리 할당: 587.1MB, 예약: 1880.0MB\n"
     ]
    },
    {
     "name": "stderr",
     "output_type": "stream",
     "text": [
      "      29/30      1.84G      0.527     0.4217     0.9186          9        640:  17%|█▋        | 75/442 [00:34<02:56,"
     ]
    },
    {
     "name": "stdout",
     "output_type": "stream",
     "text": [
      "[GPU 모니터] 메모리 할당: 577.0MB, 예약: 1880.0MB\n"
     ]
    },
    {
     "name": "stderr",
     "output_type": "stream",
     "text": [
      "      29/30      1.84G     0.5309     0.4186     0.9284         10        640:  22%|██▏       | 96/442 [00:44<02:41,"
     ]
    },
    {
     "name": "stdout",
     "output_type": "stream",
     "text": [
      "[GPU 모니터] 메모리 할당: 625.1MB, 예약: 1880.0MB\n"
     ]
    },
    {
     "name": "stderr",
     "output_type": "stream",
     "text": [
      "      29/30      1.84G     0.5415     0.4302     0.9256         12        640:  26%|██▋       | 117/442 [00:54<02:28"
     ]
    },
    {
     "name": "stdout",
     "output_type": "stream",
     "text": [
      "[GPU 모니터] 메모리 할당: 587.1MB, 예약: 1880.0MB\n"
     ]
    },
    {
     "name": "stderr",
     "output_type": "stream",
     "text": [
      "      29/30      1.84G     0.5352     0.4277     0.9271          9        640:  31%|███▏      | 139/442 [01:05<02:28"
     ]
    },
    {
     "name": "stdout",
     "output_type": "stream",
     "text": [
      "[GPU 모니터] 메모리 할당: 1284.3MB, 예약: 1880.0MB\n"
     ]
    },
    {
     "name": "stderr",
     "output_type": "stream",
     "text": [
      "      29/30      1.84G      0.534     0.4276     0.9275          9        640:  36%|███▌      | 160/442 [01:15<02:12"
     ]
    },
    {
     "name": "stdout",
     "output_type": "stream",
     "text": [
      "[GPU 모니터] 메모리 할당: 1256.0MB, 예약: 1880.0MB\n"
     ]
    },
    {
     "name": "stderr",
     "output_type": "stream",
     "text": [
      "      29/30      1.84G     0.5309     0.4276     0.9255          7        640:  41%|████      | 181/442 [01:24<02:02"
     ]
    },
    {
     "name": "stdout",
     "output_type": "stream",
     "text": [
      "[GPU 모니터] 메모리 할당: 587.1MB, 예약: 1880.0MB\n"
     ]
    },
    {
     "name": "stderr",
     "output_type": "stream",
     "text": [
      "      29/30      1.84G     0.5309     0.4265     0.9245          8        640:  46%|████▌     | 203/442 [01:35<01:48"
     ]
    },
    {
     "name": "stdout",
     "output_type": "stream",
     "text": [
      "[GPU 모니터] 메모리 할당: 1283.4MB, 예약: 1880.0MB\n"
     ]
    },
    {
     "name": "stderr",
     "output_type": "stream",
     "text": [
      "      29/30      1.84G     0.5304     0.4258     0.9248         10        640:  51%|█████     | 224/442 [01:44<01:39"
     ]
    },
    {
     "name": "stdout",
     "output_type": "stream",
     "text": [
      "[GPU 모니터] 메모리 할당: 1167.9MB, 예약: 1880.0MB\n"
     ]
    },
    {
     "name": "stderr",
     "output_type": "stream",
     "text": [
      "      29/30      1.84G     0.5308     0.4243     0.9264         12        640:  56%|█████▌    | 246/442 [01:55<01:31"
     ]
    },
    {
     "name": "stdout",
     "output_type": "stream",
     "text": [
      "[GPU 모니터] 메모리 할당: 669.8MB, 예약: 1880.0MB\n"
     ]
    },
    {
     "name": "stderr",
     "output_type": "stream",
     "text": [
      "      29/30      1.84G     0.5243     0.4229     0.9228          9        640:  61%|██████    | 268/442 [02:05<01:13"
     ]
    },
    {
     "name": "stdout",
     "output_type": "stream",
     "text": [
      "[GPU 모니터] 메모리 할당: 625.1MB, 예약: 1880.0MB\n"
     ]
    },
    {
     "name": "stderr",
     "output_type": "stream",
     "text": [
      "      29/30      1.84G      0.525      0.429     0.9212         10        640:  66%|██████▌   | 290/442 [02:14<01:06"
     ]
    },
    {
     "name": "stdout",
     "output_type": "stream",
     "text": [
      "[GPU 모니터] 메모리 할당: 625.1MB, 예약: 1880.0MB\n"
     ]
    },
    {
     "name": "stderr",
     "output_type": "stream",
     "text": [
      "      29/30      1.84G     0.5238     0.4255     0.9213          9        640:  71%|███████   | 313/442 [02:25<00:57"
     ]
    },
    {
     "name": "stdout",
     "output_type": "stream",
     "text": [
      "[GPU 모니터] 메모리 할당: 1454.5MB, 예약: 1880.0MB\n"
     ]
    },
    {
     "name": "stderr",
     "output_type": "stream",
     "text": [
      "      29/30      1.84G     0.5216     0.4226     0.9212         10        640:  76%|███████▌  | 335/442 [02:35<00:44"
     ]
    },
    {
     "name": "stdout",
     "output_type": "stream",
     "text": [
      "[GPU 모니터] 메모리 할당: 587.1MB, 예약: 1880.0MB\n"
     ]
    },
    {
     "name": "stderr",
     "output_type": "stream",
     "text": [
      "      29/30      1.84G     0.5211     0.4207      0.921          9        640:  81%|████████  | 357/442 [02:45<00:39"
     ]
    },
    {
     "name": "stdout",
     "output_type": "stream",
     "text": [
      "[GPU 모니터] 메모리 할당: 587.1MB, 예약: 1880.0MB\n"
     ]
    },
    {
     "name": "stderr",
     "output_type": "stream",
     "text": [
      "      29/30      1.84G     0.5193     0.4197     0.9208         10        640:  86%|████████▌ | 379/442 [02:55<00:30"
     ]
    },
    {
     "name": "stdout",
     "output_type": "stream",
     "text": [
      "[GPU 모니터] 메모리 할당: 577.0MB, 예약: 1880.0MB\n"
     ]
    },
    {
     "name": "stderr",
     "output_type": "stream",
     "text": [
      "      29/30      1.84G     0.5177     0.4176     0.9205          8        640:  90%|█████████ | 400/442 [03:04<00:19"
     ]
    },
    {
     "name": "stdout",
     "output_type": "stream",
     "text": [
      "[GPU 모니터] 메모리 할당: 625.1MB, 예약: 1880.0MB\n"
     ]
    },
    {
     "name": "stderr",
     "output_type": "stream",
     "text": [
      "      29/30      1.84G     0.5163     0.4162     0.9218          8        640:  95%|█████████▌| 422/442 [03:14<00:09"
     ]
    },
    {
     "name": "stdout",
     "output_type": "stream",
     "text": [
      "[GPU 모니터] 메모리 할당: 625.1MB, 예약: 1880.0MB\n"
     ]
    },
    {
     "name": "stderr",
     "output_type": "stream",
     "text": [
      "      29/30      1.85G     0.5154      0.416     0.9218          2        640: 100%|██████████| 442/442 [03:24<00:00\n",
      "                 Class     Images  Instances      Box(P          R      mAP50  mAP50-95):   4%|▍         | 2/51 [00:"
     ]
    },
    {
     "name": "stdout",
     "output_type": "stream",
     "text": [
      "[GPU 모니터] 메모리 할당: 633.7MB, 예약: 1894.0MB\n"
     ]
    },
    {
     "name": "stderr",
     "output_type": "stream",
     "text": [
      "                 Class     Images  Instances      Box(P          R      mAP50  mAP50-95):  49%|████▉     | 25/51 [00"
     ]
    },
    {
     "name": "stdout",
     "output_type": "stream",
     "text": [
      "[GPU 모니터] 메모리 할당: 633.7MB, 예약: 1894.0MB\n"
     ]
    },
    {
     "name": "stderr",
     "output_type": "stream",
     "text": [
      "                 Class     Images  Instances      Box(P          R      mAP50  mAP50-95):  96%|█████████▌| 49/51 [00"
     ]
    },
    {
     "name": "stdout",
     "output_type": "stream",
     "text": [
      "[GPU 모니터] 메모리 할당: 633.7MB, 예약: 1894.0MB\n"
     ]
    },
    {
     "name": "stderr",
     "output_type": "stream",
     "text": [
      "                 Class     Images  Instances      Box(P          R      mAP50  mAP50-95): 100%|██████████| 51/51 [00"
     ]
    },
    {
     "name": "stdout",
     "output_type": "stream",
     "text": [
      "                   all        801        944      0.943      0.877      0.945      0.815\n"
     ]
    },
    {
     "name": "stderr",
     "output_type": "stream",
     "text": [
      "\n"
     ]
    },
    {
     "name": "stdout",
     "output_type": "stream",
     "text": [
      "\n",
      "      Epoch    GPU_mem   box_loss   cls_loss   dfl_loss  Instances       Size\n"
     ]
    },
    {
     "name": "stderr",
     "output_type": "stream",
     "text": [
      "      30/30      1.85G     0.5064     0.3869     0.9251         10        640:   4%|▍         | 18/442 [00:08<03:27,"
     ]
    },
    {
     "name": "stdout",
     "output_type": "stream",
     "text": [
      "[GPU 모니터] 메모리 할당: 640.2MB, 예약: 1894.0MB\n"
     ]
    },
    {
     "name": "stderr",
     "output_type": "stream",
     "text": [
      "      30/30      1.85G     0.4973     0.3932     0.9325         11        640:   9%|▉         | 40/442 [00:18<02:52,"
     ]
    },
    {
     "name": "stdout",
     "output_type": "stream",
     "text": [
      "[GPU 모니터] 메모리 할당: 1487.3MB, 예약: 1894.0MB\n"
     ]
    },
    {
     "name": "stderr",
     "output_type": "stream",
     "text": [
      "      30/30      1.85G      0.496     0.4035     0.9228          8        640:  14%|█▍        | 63/442 [00:28<02:52,"
     ]
    },
    {
     "name": "stdout",
     "output_type": "stream",
     "text": [
      "[GPU 모니터] 메모리 할당: 602.2MB, 예약: 1894.0MB\n"
     ]
    },
    {
     "name": "stderr",
     "output_type": "stream",
     "text": [
      "      30/30      1.85G     0.4983     0.4059     0.9218          8        640:  19%|█▉        | 85/442 [00:38<02:42,"
     ]
    },
    {
     "name": "stdout",
     "output_type": "stream",
     "text": [
      "[GPU 모니터] 메모리 할당: 602.2MB, 예약: 1894.0MB\n"
     ]
    },
    {
     "name": "stderr",
     "output_type": "stream",
     "text": [
      "      30/30      1.85G     0.4903     0.4004     0.9254          8        640:  24%|██▍       | 108/442 [00:48<02:29"
     ]
    },
    {
     "name": "stdout",
     "output_type": "stream",
     "text": [
      "[GPU 모니터] 메모리 할당: 1117.4MB, 예약: 1894.0MB\n"
     ]
    },
    {
     "name": "stderr",
     "output_type": "stream",
     "text": [
      "      30/30      1.85G     0.5035     0.4098     0.9254          9        640:  29%|██▉       | 129/442 [00:58<02:33"
     ]
    },
    {
     "name": "stdout",
     "output_type": "stream",
     "text": [
      "[GPU 모니터] 메모리 할당: 592.2MB, 예약: 1894.0MB\n"
     ]
    },
    {
     "name": "stderr",
     "output_type": "stream",
     "text": [
      "      30/30      1.85G     0.5036     0.4071     0.9217         10        640:  34%|███▍      | 150/442 [01:08<02:13"
     ]
    },
    {
     "name": "stdout",
     "output_type": "stream",
     "text": [
      "[GPU 모니터] 메모리 할당: 640.2MB, 예약: 1894.0MB\n"
     ]
    },
    {
     "name": "stderr",
     "output_type": "stream",
     "text": [
      "      30/30      1.85G     0.4984     0.3998     0.9214          8        640:  39%|███▉      | 172/442 [01:18<02:09"
     ]
    },
    {
     "name": "stdout",
     "output_type": "stream",
     "text": [
      "[GPU 모니터] 메모리 할당: 990.4MB, 예약: 1894.0MB\n"
     ]
    },
    {
     "name": "stderr",
     "output_type": "stream",
     "text": [
      "      30/30      1.85G     0.5046     0.4024     0.9209         10        640:  44%|████▍     | 194/442 [01:28<01:55"
     ]
    },
    {
     "name": "stdout",
     "output_type": "stream",
     "text": [
      "[GPU 모니터] 메모리 할당: 640.2MB, 예약: 1894.0MB\n"
     ]
    },
    {
     "name": "stderr",
     "output_type": "stream",
     "text": [
      "      30/30      1.85G      0.505     0.4032     0.9218         12        640:  49%|████▉     | 216/442 [01:38<01:47"
     ]
    },
    {
     "name": "stdout",
     "output_type": "stream",
     "text": [
      "[GPU 모니터] 메모리 할당: 1111.6MB, 예약: 1894.0MB\n"
     ]
    },
    {
     "name": "stderr",
     "output_type": "stream",
     "text": [
      "      30/30      1.85G     0.5017     0.4047     0.9198          9        640:  54%|█████▍    | 238/442 [01:48<01:31"
     ]
    },
    {
     "name": "stdout",
     "output_type": "stream",
     "text": [
      "[GPU 모니터] 메모리 할당: 640.2MB, 예약: 1894.0MB\n"
     ]
    },
    {
     "name": "stderr",
     "output_type": "stream",
     "text": [
      "      30/30      1.85G      0.502     0.4075     0.9173         10        640:  59%|█████▉    | 260/442 [01:58<01:22"
     ]
    },
    {
     "name": "stdout",
     "output_type": "stream",
     "text": [
      "[GPU 모니터] 메모리 할당: 1106.9MB, 예약: 1894.0MB\n"
     ]
    },
    {
     "name": "stderr",
     "output_type": "stream",
     "text": [
      "      30/30      1.85G     0.5022     0.4061     0.9176          8        640:  64%|██████▍   | 282/442 [02:08<01:16"
     ]
    },
    {
     "name": "stdout",
     "output_type": "stream",
     "text": [
      "[GPU 모니터] 메모리 할당: 640.2MB, 예약: 1894.0MB\n"
     ]
    },
    {
     "name": "stderr",
     "output_type": "stream",
     "text": [
      "      30/30      1.85G      0.503     0.4067     0.9191          8        640:  69%|██████▉   | 304/442 [02:18<01:00"
     ]
    },
    {
     "name": "stdout",
     "output_type": "stream",
     "text": [
      "[GPU 모니터] 메모리 할당: 640.2MB, 예약: 1894.0MB\n"
     ]
    },
    {
     "name": "stderr",
     "output_type": "stream",
     "text": [
      "      30/30      1.85G      0.502     0.4071     0.9189         10        640:  74%|███████▍  | 326/442 [02:28<00:55"
     ]
    },
    {
     "name": "stdout",
     "output_type": "stream",
     "text": [
      "[GPU 모니터] 메모리 할당: 799.5MB, 예약: 1894.0MB\n"
     ]
    },
    {
     "name": "stderr",
     "output_type": "stream",
     "text": [
      "      30/30      1.85G     0.5053      0.408     0.9207          8        640:  79%|███████▉  | 349/442 [02:38<00:38"
     ]
    },
    {
     "name": "stdout",
     "output_type": "stream",
     "text": [
      "[GPU 모니터] 메모리 할당: 1018.4MB, 예약: 1894.0MB\n"
     ]
    },
    {
     "name": "stderr",
     "output_type": "stream",
     "text": [
      "      30/30      1.85G     0.5066     0.4106       0.92         12        640:  84%|████████▍ | 371/442 [02:48<00:31"
     ]
    },
    {
     "name": "stdout",
     "output_type": "stream",
     "text": [
      "[GPU 모니터] 메모리 할당: 602.2MB, 예약: 1894.0MB\n"
     ]
    },
    {
     "name": "stderr",
     "output_type": "stream",
     "text": [
      "      30/30      1.85G     0.5066     0.4105     0.9198         10        640:  89%|████████▉ | 393/442 [02:58<00:23"
     ]
    },
    {
     "name": "stdout",
     "output_type": "stream",
     "text": [
      "[GPU 모니터] 메모리 할당: 592.2MB, 예약: 1894.0MB\n"
     ]
    },
    {
     "name": "stderr",
     "output_type": "stream",
     "text": [
      "      30/30      1.85G      0.506     0.4093     0.9198         10        640:  94%|█████████▍| 415/442 [03:08<00:12"
     ]
    },
    {
     "name": "stdout",
     "output_type": "stream",
     "text": [
      "[GPU 모니터] 메모리 할당: 602.2MB, 예약: 1894.0MB\n"
     ]
    },
    {
     "name": "stderr",
     "output_type": "stream",
     "text": [
      "      30/30      1.85G     0.5066     0.4127     0.9196          8        640:  99%|█████████▊| 436/442 [03:18<00:02"
     ]
    },
    {
     "name": "stdout",
     "output_type": "stream",
     "text": [
      "[GPU 모니터] 메모리 할당: 640.2MB, 예약: 1894.0MB\n"
     ]
    },
    {
     "name": "stderr",
     "output_type": "stream",
     "text": [
      "      30/30      1.86G     0.5054     0.4122     0.9193          2        640: 100%|██████████| 442/442 [03:21<00:00\n",
      "                 Class     Images  Instances      Box(P          R      mAP50  mAP50-95):  35%|███▌      | 18/51 [00"
     ]
    },
    {
     "name": "stdout",
     "output_type": "stream",
     "text": [
      "[GPU 모니터] 메모리 할당: 649.1MB, 예약: 1902.0MB\n"
     ]
    },
    {
     "name": "stderr",
     "output_type": "stream",
     "text": [
      "                 Class     Images  Instances      Box(P          R      mAP50  mAP50-95):  82%|████████▏ | 42/51 [00"
     ]
    },
    {
     "name": "stdout",
     "output_type": "stream",
     "text": [
      "[GPU 모니터] 메모리 할당: 649.1MB, 예약: 1902.0MB\n"
     ]
    },
    {
     "name": "stderr",
     "output_type": "stream",
     "text": [
      "                 Class     Images  Instances      Box(P          R      mAP50  mAP50-95): 100%|██████████| 51/51 [00"
     ]
    },
    {
     "name": "stdout",
     "output_type": "stream",
     "text": [
      "                   all        801        944      0.955      0.873      0.946      0.816\n"
     ]
    },
    {
     "name": "stderr",
     "output_type": "stream",
     "text": [
      "\n"
     ]
    },
    {
     "name": "stdout",
     "output_type": "stream",
     "text": [
      "\n",
      "30 epochs completed in 2.810 hours.\n",
      "Optimizer stripped from runs\\detect\\yolov11n_custom_001\\weights\\last.pt, 5.5MB\n",
      "Optimizer stripped from runs\\detect\\yolov11n_custom_001\\weights\\best.pt, 5.5MB\n",
      "\n",
      "Validating runs\\detect\\yolov11n_custom_001\\weights\\best.pt...\n",
      "Ultralytics 8.3.156  Python-3.11.9 torch-2.7.1+cu128 CUDA:0 (NVIDIA GeForce RTX 4070 Laptop GPU, 8188MiB)\n",
      "YOLO11n summary (fused): 100 layers, 2,585,077 parameters, 0 gradients, 6.3 GFLOPs\n"
     ]
    },
    {
     "name": "stderr",
     "output_type": "stream",
     "text": [
      "                 Class     Images  Instances      Box(P          R      mAP50  mAP50-95):  16%|█▌        | 8/51 [00:"
     ]
    },
    {
     "name": "stdout",
     "output_type": "stream",
     "text": [
      "[GPU 모니터] 메모리 할당: 713.5MB, 예약: 1902.0MB\n"
     ]
    },
    {
     "name": "stderr",
     "output_type": "stream",
     "text": [
      "                 Class     Images  Instances      Box(P          R      mAP50  mAP50-95):  65%|██████▍   | 33/51 [00"
     ]
    },
    {
     "name": "stdout",
     "output_type": "stream",
     "text": [
      "[GPU 모니터] 메모리 할당: 684.2MB, 예약: 1902.0MB\n"
     ]
    },
    {
     "name": "stderr",
     "output_type": "stream",
     "text": [
      "                 Class     Images  Instances      Box(P          R      mAP50  mAP50-95): 100%|██████████| 51/51 [00\n"
     ]
    },
    {
     "name": "stdout",
     "output_type": "stream",
     "text": [
      "[GPU 모니터] 메모리 할당: 645.4MB, 예약: 1902.0MB\n",
      "                   all        801        944      0.955      0.873      0.946      0.816\n",
      "           Green Light         87        122      0.826      0.739      0.826      0.473\n",
      "             Red Light         74        108      0.901      0.713      0.831      0.506\n",
      "       Speed Limit 100         52         52      0.924      0.923      0.973       0.87\n",
      "       Speed Limit 110         17         17          1      0.882      0.962       0.89\n",
      "       Speed Limit 120         60         60      0.982        0.9      0.976      0.891\n",
      "        Speed Limit 20         56         56      0.982      0.893      0.979      0.859\n",
      "        Speed Limit 30         71         74      0.951      0.959      0.982      0.914\n",
      "        Speed Limit 40         53         55      0.981      0.926      0.983      0.867\n",
      "        Speed Limit 50         68         71      0.924      0.853      0.953      0.844\n",
      "        Speed Limit 60         76         76      0.969      0.908      0.948      0.869\n",
      "        Speed Limit 70         78         78      0.982      0.962      0.979        0.9\n",
      "        Speed Limit 80         56         56      0.964      0.893      0.963      0.852\n",
      "        Speed Limit 90         38         38          1       0.68      0.888      0.755\n",
      "                  Stop         81         81       0.99      0.988      0.993      0.931\n",
      "Speed: 0.4ms preprocess, 4.6ms inference, 0.0ms loss, 3.4ms postprocess per image\n",
      "Results saved to \u001b[1mruns\\detect\\yolov11n_custom_001\u001b[0m\n",
      "✅ 훈련 소요 시간: 10180.21초\n",
      "[GPU 모니터] 메모리 할당: 114.4MB, 예약: 538.0MB\n",
      "[GPU 모니터] 메모리 할당: 114.4MB, 예약: 538.0MB\n",
      "[GPU 모니터] 메모리 할당: 114.4MB, 예약: 538.0MB\n",
      "[GPU 모니터] 메모리 할당: 114.4MB, 예약: 538.0MB\n",
      "[GPU 모니터] 메모리 할당: 114.4MB, 예약: 538.0MB\n",
      "[GPU 모니터] 메모리 할당: 114.4MB, 예약: 538.0MB\n",
      "[GPU 모니터] 메모리 할당: 114.4MB, 예약: 538.0MB\n",
      "[GPU 모니터] 메모리 할당: 114.4MB, 예약: 538.0MB\n",
      "[GPU 모니터] 메모리 할당: 114.4MB, 예약: 538.0MB\n",
      "[GPU 모니터] 메모리 할당: 114.4MB, 예약: 538.0MB\n",
      "[GPU 모니터] 메모리 할당: 114.4MB, 예약: 538.0MB\n",
      "[GPU 모니터] 메모리 할당: 114.4MB, 예약: 538.0MB\n",
      "[GPU 모니터] 메모리 할당: 114.4MB, 예약: 538.0MB\n",
      "[GPU 모니터] 메모리 할당: 114.4MB, 예약: 538.0MB\n",
      "[GPU 모니터] 메모리 할당: 114.4MB, 예약: 538.0MB\n",
      "[GPU 모니터] 메모리 할당: 114.4MB, 예약: 538.0MB\n",
      "[GPU 모니터] 메모리 할당: 114.4MB, 예약: 538.0MB\n",
      "[GPU 모니터] 메모리 할당: 114.4MB, 예약: 538.0MB\n",
      "[GPU 모니터] 메모리 할당: 114.4MB, 예약: 538.0MB\n",
      "[GPU 모니터] 메모리 할당: 114.4MB, 예약: 538.0MB\n",
      "[GPU 모니터] 메모리 할당: 114.4MB, 예약: 538.0MB\n",
      "[GPU 모니터] 메모리 할당: 114.4MB, 예약: 538.0MB\n",
      "[GPU 모니터] 메모리 할당: 114.4MB, 예약: 538.0MB\n",
      "[GPU 모니터] 메모리 할당: 114.4MB, 예약: 538.0MB\n",
      "[GPU 모니터] 메모리 할당: 114.4MB, 예약: 538.0MB\n",
      "[GPU 모니터] 메모리 할당: 114.4MB, 예약: 538.0MB\n",
      "[GPU 모니터] 메모리 할당: 114.4MB, 예약: 538.0MB\n",
      "[GPU 모니터] 메모리 할당: 114.4MB, 예약: 538.0MB\n",
      "[GPU 모니터] 메모리 할당: 114.4MB, 예약: 538.0MB\n",
      "[GPU 모니터] 메모리 할당: 114.4MB, 예약: 538.0MB\n",
      "[GPU 모니터] 메모리 할당: 114.4MB, 예약: 538.0MB\n",
      "[GPU 모니터] 메모리 할당: 114.4MB, 예약: 538.0MB\n",
      "[GPU 모니터] 메모리 할당: 114.4MB, 예약: 538.0MB\n",
      "[GPU 모니터] 메모리 할당: 114.4MB, 예약: 538.0MB\n",
      "[GPU 모니터] 메모리 할당: 114.4MB, 예약: 538.0MB\n",
      "[GPU 모니터] 메모리 할당: 114.4MB, 예약: 538.0MB\n",
      "[GPU 모니터] 메모리 할당: 114.4MB, 예약: 538.0MB\n",
      "[GPU 모니터] 메모리 할당: 114.4MB, 예약: 538.0MB\n",
      "[GPU 모니터] 메모리 할당: 114.4MB, 예약: 538.0MB\n",
      "[GPU 모니터] 메모리 할당: 114.4MB, 예약: 538.0MB\n",
      "[GPU 모니터] 메모리 할당: 114.4MB, 예약: 538.0MB\n",
      "[GPU 모니터] 메모리 할당: 114.4MB, 예약: 538.0MB\n",
      "[GPU 모니터] 메모리 할당: 114.4MB, 예약: 538.0MB\n",
      "[GPU 모니터] 메모리 할당: 114.4MB, 예약: 538.0MB\n",
      "[GPU 모니터] 메모리 할당: 114.4MB, 예약: 538.0MB\n",
      "[GPU 모니터] 메모리 할당: 114.4MB, 예약: 538.0MB\n",
      "[GPU 모니터] 메모리 할당: 114.4MB, 예약: 538.0MB\n",
      "[GPU 모니터] 메모리 할당: 114.4MB, 예약: 538.0MB\n",
      "[GPU 모니터] 메모리 할당: 114.4MB, 예약: 538.0MB\n",
      "[GPU 모니터] 메모리 할당: 114.4MB, 예약: 538.0MB\n",
      "[GPU 모니터] 메모리 할당: 114.4MB, 예약: 538.0MB\n",
      "[GPU 모니터] 메모리 할당: 114.4MB, 예약: 538.0MB\n",
      "[GPU 모니터] 메모리 할당: 114.4MB, 예약: 538.0MB\n",
      "[GPU 모니터] 메모리 할당: 114.4MB, 예약: 538.0MB\n",
      "[GPU 모니터] 메모리 할당: 114.4MB, 예약: 538.0MB\n",
      "[GPU 모니터] 메모리 할당: 114.4MB, 예약: 538.0MB\n",
      "[GPU 모니터] 메모리 할당: 114.4MB, 예약: 538.0MB\n",
      "[GPU 모니터] 메모리 할당: 114.4MB, 예약: 538.0MB\n",
      "[GPU 모니터] 메모리 할당: 114.4MB, 예약: 538.0MB\n",
      "[GPU 모니터] 메모리 할당: 114.4MB, 예약: 538.0MB\n",
      "[GPU 모니터] 메모리 할당: 114.4MB, 예약: 538.0MB\n",
      "[GPU 모니터] 메모리 할당: 114.4MB, 예약: 538.0MB\n",
      "[GPU 모니터] 메모리 할당: 114.4MB, 예약: 538.0MB\n",
      "[GPU 모니터] 메모리 할당: 114.4MB, 예약: 538.0MB\n",
      "[GPU 모니터] 메모리 할당: 114.4MB, 예약: 538.0MB\n",
      "[GPU 모니터] 메모리 할당: 114.4MB, 예약: 538.0MB\n",
      "[GPU 모니터] 메모리 할당: 114.4MB, 예약: 538.0MB\n",
      "[GPU 모니터] 메모리 할당: 114.4MB, 예약: 538.0MB\n",
      "[GPU 모니터] 메모리 할당: 114.4MB, 예약: 538.0MB\n",
      "[GPU 모니터] 메모리 할당: 114.4MB, 예약: 538.0MB\n",
      "[GPU 모니터] 메모리 할당: 114.4MB, 예약: 538.0MB\n",
      "[GPU 모니터] 메모리 할당: 114.4MB, 예약: 538.0MB\n",
      "[GPU 모니터] 메모리 할당: 114.4MB, 예약: 538.0MB\n",
      "[GPU 모니터] 메모리 할당: 114.4MB, 예약: 538.0MB\n",
      "[GPU 모니터] 메모리 할당: 114.4MB, 예약: 538.0MB\n",
      "[GPU 모니터] 메모리 할당: 114.4MB, 예약: 538.0MB\n",
      "[GPU 모니터] 메모리 할당: 114.4MB, 예약: 538.0MB\n",
      "[GPU 모니터] 메모리 할당: 114.4MB, 예약: 538.0MB\n",
      "[GPU 모니터] 메모리 할당: 114.4MB, 예약: 538.0MB\n",
      "[GPU 모니터] 메모리 할당: 114.4MB, 예약: 538.0MB\n",
      "[GPU 모니터] 메모리 할당: 114.4MB, 예약: 538.0MB\n",
      "[GPU 모니터] 메모리 할당: 114.4MB, 예약: 538.0MB\n",
      "[GPU 모니터] 메모리 할당: 114.4MB, 예약: 538.0MB\n",
      "[GPU 모니터] 메모리 할당: 114.4MB, 예약: 538.0MB\n",
      "[GPU 모니터] 메모리 할당: 114.4MB, 예약: 538.0MB\n",
      "[GPU 모니터] 메모리 할당: 114.4MB, 예약: 538.0MB\n",
      "[GPU 모니터] 메모리 할당: 114.4MB, 예약: 538.0MB\n",
      "[GPU 모니터] 메모리 할당: 114.4MB, 예약: 538.0MB\n",
      "[GPU 모니터] 메모리 할당: 114.4MB, 예약: 538.0MB\n",
      "[GPU 모니터] 메모리 할당: 114.4MB, 예약: 538.0MB\n",
      "[GPU 모니터] 메모리 할당: 114.4MB, 예약: 538.0MB\n",
      "[GPU 모니터] 메모리 할당: 114.4MB, 예약: 538.0MB\n",
      "[GPU 모니터] 메모리 할당: 114.4MB, 예약: 538.0MB\n",
      "[GPU 모니터] 메모리 할당: 114.4MB, 예약: 538.0MB\n",
      "[GPU 모니터] 메모리 할당: 114.4MB, 예약: 538.0MB\n",
      "[GPU 모니터] 메모리 할당: 114.4MB, 예약: 538.0MB\n",
      "[GPU 모니터] 메모리 할당: 195.5MB, 예약: 734.0MB\n",
      "[GPU 모니터] 메모리 할당: 195.5MB, 예약: 734.0MB\n",
      "[GPU 모니터] 메모리 할당: 124.4MB, 예약: 734.0MB\n",
      "[GPU 모니터] 메모리 할당: 124.4MB, 예약: 734.0MB\n",
      "[GPU 모니터] 메모리 할당: 124.4MB, 예약: 734.0MB\n",
      "[GPU 모니터] 메모리 할당: 124.4MB, 예약: 734.0MB\n",
      "[GPU 모니터] 메모리 할당: 124.4MB, 예약: 734.0MB\n",
      "[GPU 모니터] 메모리 할당: 124.4MB, 예약: 734.0MB\n",
      "[GPU 모니터] 메모리 할당: 124.4MB, 예약: 734.0MB\n",
      "[GPU 모니터] 메모리 할당: 124.4MB, 예약: 734.0MB\n",
      "[GPU 모니터] 메모리 할당: 124.4MB, 예약: 734.0MB\n",
      "[GPU 모니터] 메모리 할당: 144.2MB, 예약: 734.0MB\n",
      "[GPU 모니터] 메모리 할당: 144.2MB, 예약: 734.0MB\n",
      "[GPU 모니터] 메모리 할당: 144.2MB, 예약: 734.0MB\n",
      "[GPU 모니터] 메모리 할당: 144.2MB, 예약: 734.0MB\n",
      "[GPU 모니터] 메모리 할당: 144.2MB, 예약: 734.0MB\n",
      "[GPU 모니터] 메모리 할당: 144.2MB, 예약: 734.0MB\n",
      "[GPU 모니터] 메모리 할당: 144.2MB, 예약: 734.0MB\n",
      "[GPU 모니터] 메모리 할당: 144.2MB, 예약: 734.0MB\n",
      "[GPU 모니터] 메모리 할당: 144.2MB, 예약: 734.0MB\n",
      "[GPU 모니터] 메모리 할당: 144.2MB, 예약: 734.0MB\n",
      "[GPU 모니터] 메모리 할당: 144.2MB, 예약: 734.0MB\n",
      "[GPU 모니터] 메모리 할당: 144.2MB, 예약: 734.0MB\n",
      "[GPU 모니터] 메모리 할당: 144.2MB, 예약: 734.0MB\n",
      "[GPU 모니터] 메모리 할당: 144.2MB, 예약: 734.0MB\n",
      "[GPU 모니터] 메모리 할당: 144.2MB, 예약: 734.0MB\n",
      "[GPU 모니터] 메모리 할당: 144.2MB, 예약: 734.0MB\n",
      "[GPU 모니터] 메모리 할당: 144.2MB, 예약: 734.0MB\n",
      "[GPU 모니터] 메모리 할당: 144.2MB, 예약: 734.0MB\n",
      "[GPU 모니터] 메모리 할당: 144.2MB, 예약: 734.0MB\n",
      "[GPU 모니터] 메모리 할당: 149.3MB, 예약: 1126.0MB\n",
      "[GPU 모니터] 메모리 할당: 144.2MB, 예약: 1126.0MB\n",
      "[GPU 모니터] 메모리 할당: 144.2MB, 예약: 1126.0MB\n",
      "[GPU 모니터] 메모리 할당: 144.2MB, 예약: 1126.0MB\n",
      "[GPU 모니터] 메모리 할당: 144.2MB, 예약: 1126.0MB\n",
      "[GPU 모니터] 메모리 할당: 144.2MB, 예약: 1126.0MB\n",
      "[GPU 모니터] 메모리 할당: 144.2MB, 예약: 1126.0MB\n",
      "[GPU 모니터] 메모리 할당: 144.2MB, 예약: 1126.0MB\n",
      "[GPU 모니터] 메모리 할당: 144.2MB, 예약: 1126.0MB\n",
      "[GPU 모니터] 메모리 할당: 144.2MB, 예약: 1126.0MB\n",
      "[GPU 모니터] 메모리 할당: 144.2MB, 예약: 1126.0MB\n",
      "[GPU 모니터] 메모리 할당: 144.2MB, 예약: 1126.0MB\n",
      "[GPU 모니터] 메모리 할당: 144.2MB, 예약: 1126.0MB\n",
      "[GPU 모니터] 메모리 할당: 144.2MB, 예약: 1126.0MB\n",
      "[GPU 모니터] 메모리 할당: 144.2MB, 예약: 1126.0MB\n",
      "[GPU 모니터] 메모리 할당: 144.2MB, 예약: 1126.0MB\n",
      "[GPU 모니터] 메모리 할당: 144.2MB, 예약: 1126.0MB\n",
      "[GPU 모니터] 메모리 할당: 144.2MB, 예약: 1126.0MB\n",
      "[GPU 모니터] 메모리 할당: 144.2MB, 예약: 1126.0MB\n",
      "[GPU 모니터] 메모리 할당: 144.2MB, 예약: 1126.0MB\n",
      "[GPU 모니터] 메모리 할당: 144.2MB, 예약: 1126.0MB\n",
      "[GPU 모니터] 메모리 할당: 144.2MB, 예약: 1126.0MB\n",
      "[GPU 모니터] 메모리 할당: 144.2MB, 예약: 1126.0MB\n",
      "[GPU 모니터] 메모리 할당: 144.2MB, 예약: 1126.0MB\n",
      "[GPU 모니터] 메모리 할당: 144.2MB, 예약: 1126.0MB\n",
      "[GPU 모니터] 메모리 할당: 144.2MB, 예약: 1126.0MB\n",
      "[GPU 모니터] 메모리 할당: 144.2MB, 예약: 1126.0MB\n",
      "[GPU 모니터] 메모리 할당: 144.2MB, 예약: 1126.0MB\n",
      "[GPU 모니터] 메모리 할당: 144.2MB, 예약: 1126.0MB\n",
      "[GPU 모니터] 메모리 할당: 144.2MB, 예약: 1126.0MB\n",
      "[GPU 모니터] 메모리 할당: 144.2MB, 예약: 1126.0MB\n",
      "[GPU 모니터] 메모리 할당: 144.2MB, 예약: 1126.0MB\n",
      "[GPU 모니터] 메모리 할당: 74.0MB, 예약: 1126.0MB\n",
      "[GPU 모니터] 메모리 할당: 74.0MB, 예약: 1126.0MB\n",
      "[GPU 모니터] 메모리 할당: 74.0MB, 예약: 1126.0MB\n",
      "[GPU 모니터] 메모리 할당: 74.0MB, 예약: 1126.0MB\n",
      "[GPU 모니터] 메모리 할당: 74.0MB, 예약: 1126.0MB\n",
      "[GPU 모니터] 메모리 할당: 74.0MB, 예약: 1126.0MB\n",
      "[GPU 모니터] 메모리 할당: 74.0MB, 예약: 1126.0MB\n",
      "[GPU 모니터] 메모리 할당: 74.0MB, 예약: 1126.0MB\n",
      "[GPU 모니터] 메모리 할당: 74.0MB, 예약: 1126.0MB\n",
      "[GPU 모니터] 메모리 할당: 74.0MB, 예약: 1126.0MB\n",
      "[GPU 모니터] 메모리 할당: 74.6MB, 예약: 1126.0MB\n",
      "[GPU 모니터] 메모리 할당: 74.6MB, 예약: 1126.0MB\n",
      "[GPU 모니터] 메모리 할당: 74.6MB, 예약: 1126.0MB\n",
      "[GPU 모니터] 메모리 할당: 74.6MB, 예약: 1126.0MB\n",
      "[GPU 모니터] 메모리 할당: 74.6MB, 예약: 1126.0MB\n",
      "[GPU 모니터] 메모리 할당: 74.6MB, 예약: 1126.0MB\n",
      "[GPU 모니터] 메모리 할당: 74.6MB, 예약: 1126.0MB\n",
      "[GPU 모니터] 메모리 할당: 74.6MB, 예약: 1126.0MB\n",
      "[GPU 모니터] 메모리 할당: 74.6MB, 예약: 1126.0MB\n",
      "[GPU 모니터] 메모리 할당: 74.6MB, 예약: 1126.0MB\n",
      "[GPU 모니터] 메모리 할당: 74.6MB, 예약: 1126.0MB\n",
      "[GPU 모니터] 메모리 할당: 74.6MB, 예약: 1126.0MB\n",
      "[GPU 모니터] 메모리 할당: 74.6MB, 예약: 1126.0MB\n",
      "[GPU 모니터] 메모리 할당: 74.6MB, 예약: 1126.0MB\n",
      "[GPU 모니터] 메모리 할당: 74.6MB, 예약: 1126.0MB\n",
      "[GPU 모니터] 메모리 할당: 74.6MB, 예약: 1126.0MB\n",
      "[GPU 모니터] 메모리 할당: 74.6MB, 예약: 1126.0MB\n",
      "[GPU 모니터] 메모리 할당: 74.6MB, 예약: 1126.0MB\n",
      "[GPU 모니터] 메모리 할당: 74.6MB, 예약: 1126.0MB\n",
      "[GPU 모니터] 메모리 할당: 74.6MB, 예약: 1126.0MB\n",
      "[GPU 모니터] 메모리 할당: 74.6MB, 예약: 1126.0MB\n",
      "[GPU 모니터] 메모리 할당: 74.6MB, 예약: 1126.0MB\n",
      "[GPU 모니터] 메모리 할당: 74.6MB, 예약: 1126.0MB\n",
      "[GPU 모니터] 메모리 할당: 74.6MB, 예약: 1126.0MB\n",
      "[GPU 모니터] 메모리 할당: 74.6MB, 예약: 1126.0MB\n",
      "[GPU 모니터] 메모리 할당: 74.6MB, 예약: 1126.0MB\n",
      "[GPU 모니터] 메모리 할당: 74.6MB, 예약: 1126.0MB\n",
      "[GPU 모니터] 메모리 할당: 74.6MB, 예약: 1126.0MB\n",
      "[GPU 모니터] 메모리 할당: 74.6MB, 예약: 1126.0MB\n",
      "[GPU 모니터] 메모리 할당: 74.6MB, 예약: 1126.0MB\n",
      "[GPU 모니터] 메모리 할당: 74.6MB, 예약: 1126.0MB\n",
      "[GPU 모니터] 메모리 할당: 74.6MB, 예약: 1126.0MB\n",
      "[GPU 모니터] 메모리 할당: 74.6MB, 예약: 1126.0MB\n",
      "[GPU 모니터] 메모리 할당: 74.6MB, 예약: 1126.0MB\n",
      "[GPU 모니터] 메모리 할당: 74.6MB, 예약: 1126.0MB\n",
      "[GPU 모니터] 메모리 할당: 74.6MB, 예약: 1126.0MB\n",
      "[GPU 모니터] 메모리 할당: 74.6MB, 예약: 1126.0MB\n",
      "[GPU 모니터] 메모리 할당: 74.6MB, 예약: 1126.0MB\n",
      "[GPU 모니터] 메모리 할당: 74.6MB, 예약: 1126.0MB\n",
      "[GPU 모니터] 메모리 할당: 74.6MB, 예약: 1126.0MB\n",
      "[GPU 모니터] 메모리 할당: 74.6MB, 예약: 1126.0MB\n",
      "[GPU 모니터] 메모리 할당: 74.6MB, 예약: 1126.0MB\n",
      "[GPU 모니터] 메모리 할당: 74.6MB, 예약: 1126.0MB\n",
      "[GPU 모니터] 메모리 할당: 74.6MB, 예약: 1126.0MB\n",
      "[GPU 모니터] 메모리 할당: 74.6MB, 예약: 1126.0MB\n",
      "[GPU 모니터] 메모리 할당: 74.6MB, 예약: 1126.0MB\n",
      "[GPU 모니터] 메모리 할당: 74.6MB, 예약: 1126.0MB\n",
      "[GPU 모니터] 메모리 할당: 74.6MB, 예약: 1126.0MB\n",
      "[GPU 모니터] 메모리 할당: 74.6MB, 예약: 1126.0MB\n",
      "[GPU 모니터] 메모리 할당: 74.6MB, 예약: 1126.0MB\n",
      "[GPU 모니터] 메모리 할당: 74.6MB, 예약: 1126.0MB\n",
      "[GPU 모니터] 메모리 할당: 74.6MB, 예약: 1126.0MB\n",
      "[GPU 모니터] 메모리 할당: 74.6MB, 예약: 1126.0MB\n",
      "[GPU 모니터] 메모리 할당: 74.6MB, 예약: 1126.0MB\n",
      "[GPU 모니터] 메모리 할당: 74.6MB, 예약: 1126.0MB\n",
      "[GPU 모니터] 메모리 할당: 74.6MB, 예약: 1126.0MB\n",
      "[GPU 모니터] 메모리 할당: 74.6MB, 예약: 1126.0MB\n",
      "[GPU 모니터] 메모리 할당: 74.6MB, 예약: 1126.0MB\n",
      "[GPU 모니터] 메모리 할당: 74.6MB, 예약: 1126.0MB\n",
      "[GPU 모니터] 메모리 할당: 74.6MB, 예약: 1126.0MB\n",
      "[GPU 모니터] 메모리 할당: 74.6MB, 예약: 1126.0MB\n",
      "[GPU 모니터] 메모리 할당: 74.6MB, 예약: 1126.0MB\n",
      "[GPU 모니터] 메모리 할당: 74.6MB, 예약: 1126.0MB\n",
      "[GPU 모니터] 메모리 할당: 74.6MB, 예약: 1126.0MB\n",
      "[GPU 모니터] 메모리 할당: 74.6MB, 예약: 1126.0MB\n",
      "[GPU 모니터] 메모리 할당: 74.6MB, 예약: 1126.0MB\n",
      "[GPU 모니터] 메모리 할당: 74.6MB, 예약: 1126.0MB\n",
      "[GPU 모니터] 메모리 할당: 74.6MB, 예약: 1126.0MB\n",
      "[GPU 모니터] 메모리 할당: 74.6MB, 예약: 1126.0MB\n",
      "[GPU 모니터] 메모리 할당: 74.6MB, 예약: 1126.0MB\n",
      "[GPU 모니터] 메모리 할당: 74.6MB, 예약: 1126.0MB\n",
      "[GPU 모니터] 메모리 할당: 74.6MB, 예약: 1126.0MB\n",
      "[GPU 모니터] 메모리 할당: 74.6MB, 예약: 1126.0MB\n",
      "[GPU 모니터] 메모리 할당: 74.6MB, 예약: 1126.0MB\n",
      "[GPU 모니터] 메모리 할당: 74.6MB, 예약: 1126.0MB\n",
      "[GPU 모니터] 메모리 할당: 74.6MB, 예약: 1126.0MB\n",
      "[GPU 모니터] 메모리 할당: 74.6MB, 예약: 1126.0MB\n",
      "[GPU 모니터] 메모리 할당: 74.6MB, 예약: 1126.0MB\n",
      "[GPU 모니터] 메모리 할당: 74.6MB, 예약: 1126.0MB\n",
      "[GPU 모니터] 메모리 할당: 74.6MB, 예약: 1126.0MB\n"
     ]
    }
   ],
   "source": [
    "import torch\n",
    "import time\n",
    "import threading\n",
    "from ultralytics import YOLO\n",
    "\n",
    "# GPU 메모리 사용량 주기적으로 출력하는 함수\n",
    "def gpu_monitor():\n",
    "    while True:\n",
    "        if torch.cuda.is_available():\n",
    "            mem_alloc = torch.cuda.memory_allocated() / 1024**2\n",
    "            mem_reserved = torch.cuda.memory_reserved() / 1024**2\n",
    "            print(f\"[GPU 모니터] 메모리 할당: {mem_alloc:.1f}MB, 예약: {mem_reserved:.1f}MB\")\n",
    "        time.sleep(10)  # 10초마다 출력\n",
    "\n",
    "# GPU 모니터 스레드 시작 (데몬 스레드라 메인 종료 시 같이 종료됨)\n",
    "monitor_thread = threading.Thread(target=gpu_monitor, daemon=True)\n",
    "monitor_thread.start()\n",
    "\n",
    "# 모델 로드\n",
    "model = YOLO('yolo11n.pt')\n",
    "# 이전 학습 모델에서 시작하려면 아래처럼 경로 지정\n",
    "# model = YOLO('runs/detect/yolov11n_custom_001/weights/best.pt')\n",
    "\n",
    "run_name = \"yolov11n_custom_001\"  # 예시로 이름 지정\n",
    "\n",
    "start_time = time.time()\n",
    "\n",
    "model.train(\n",
    "    data='data.yaml',\n",
    "    epochs=30,\n",
    "    imgsz=640,\n",
    "    batch=8,\n",
    "    name=run_name,\n",
    "    device='0',\n",
    "    workers=0,\n",
    "    verbose=True  # 더 자세한 로그 출력\n",
    ")\n",
    "\n",
    "train_duration = time.time() - start_time\n",
    "print(f\"✅ 훈련 소요 시간: {train_duration:.2f}초\")"
   ]
  },
  {
   "cell_type": "markdown",
   "id": "a208af0c-6a55-487e-99ef-8dce5c703357",
   "metadata": {},
   "source": [
    "## 검증 (val)"
   ]
  },
  {
   "cell_type": "code",
   "execution_count": 12,
   "id": "51983dcf-7b96-4574-84e7-6a640ce323e1",
   "metadata": {},
   "outputs": [
    {
     "name": "stdout",
     "output_type": "stream",
     "text": [
      "Ultralytics 8.3.156  Python-3.11.9 torch-2.7.1+cu128 CUDA:0 (NVIDIA GeForce RTX 4070 Laptop GPU, 8188MiB)\n",
      "YOLO11n summary (fused): 100 layers, 2,585,077 parameters, 0 gradients, 6.3 GFLOPs\n",
      "\u001b[34m\u001b[1mval: \u001b[0mFast image access  (ping: 0.10.0 ms, read: 68.633.3 MB/s, size: 18.1 KB)\n"
     ]
    },
    {
     "name": "stderr",
     "output_type": "stream",
     "text": [
      "\u001b[34m\u001b[1mval: \u001b[0mScanning D:\\Project\\PJT_07\\valid\\labels.cache... 801 images, 0 backgrounds, 0 corrupt: 100%|██████████| 801/801\u001b[0m\n",
      "                 Class     Images  Instances      Box(P          R      mAP50  mAP50-95): 100%|██████████| 51/51 [00\n"
     ]
    },
    {
     "name": "stdout",
     "output_type": "stream",
     "text": [
      "                   all        801        944       0.95      0.874      0.945      0.817\n",
      "           Green Light         87        122      0.834      0.746      0.822      0.474\n",
      "             Red Light         74        108      0.896      0.714      0.832      0.509\n",
      "       Speed Limit 100         52         52      0.923      0.923      0.974       0.87\n",
      "       Speed Limit 110         17         17      0.938       0.89      0.962       0.89\n",
      "       Speed Limit 120         60         60      0.979        0.9      0.976      0.894\n",
      "        Speed Limit 20         56         56      0.981      0.893      0.979       0.86\n",
      "        Speed Limit 30         71         74       0.95      0.959      0.982      0.914\n",
      "        Speed Limit 40         53         55       0.98      0.927      0.983      0.869\n",
      "        Speed Limit 50         68         71      0.924      0.857      0.953      0.844\n",
      "        Speed Limit 60         76         76      0.966      0.908      0.949      0.869\n",
      "        Speed Limit 70         78         78      0.981      0.962      0.979      0.901\n",
      "        Speed Limit 80         56         56      0.963      0.893      0.964      0.849\n",
      "        Speed Limit 90         38         38          1      0.681       0.89      0.758\n",
      "                  Stop         81         81       0.99      0.988      0.993      0.931\n",
      "Speed: 0.4ms preprocess, 2.6ms inference, 0.0ms loss, 1.4ms postprocess per image\n",
      "Results saved to \u001b[1mruns\\detect\\val\u001b[0m\n",
      "✅ 검증 소요 시간: 199.64초\n",
      "mAP50: 0.9455, mAP50-95: 0.8166\n"
     ]
    }
   ],
   "source": [
    "# 📌 [7] 훈련된 모델에 대해 별도 검증 수행\n",
    "start_val = time.time()\n",
    "\n",
    "# 가장 성능이 좋았던 가중치 불러오기\n",
    "model = YOLO(f'runs/detect/{run_name}/weights/best.pt')\n",
    "\n",
    "# 검증 수행 (data.yaml에서 val 경로 사용)\n",
    "results = model.val()\n",
    "val_duration = time.time() - start_val\n",
    "print(f\"✅ 검증 소요 시간: {val_duration:.2f}초\")\n",
    "\n",
    "# 선택 출력: 주요 지표\n",
    "print(f\"mAP50: {results.box.map50:.4f}, mAP50-95: {results.box.map:.4f}\")"
   ]
  },
  {
   "cell_type": "markdown",
   "id": "f930445a-24d6-4afc-a40d-74eb984300db",
   "metadata": {},
   "source": [
    "## 테스트 이미지 예측"
   ]
  },
  {
   "cell_type": "code",
   "execution_count": 16,
   "id": "0303156d-cf0c-42e1-8094-8b170e548fc3",
   "metadata": {},
   "outputs": [
    {
     "name": "stdout",
     "output_type": "stream",
     "text": [
      "\n",
      "image 1/1 D:\\Project\\PJT_07\\code\\..\\test\\images\\00014_00004_00020_png.rf.e3b35f3ca153fde99af4db4a67d2a564.jpg: 640x640 1 Stop, 28.1ms\n",
      "Speed: 9.1ms preprocess, 28.1ms inference, 6.7ms postprocess per image at shape (1, 3, 640, 640)\n",
      "Results saved to \u001b[1mruns\\predict\\custom_test\u001b[0m\n"
     ]
    }
   ],
   "source": [
    "# 📌 [8] 예측 실행\n",
    "test_img = '../test/images/00014_00004_00020_png.rf.e3b35f3ca153fde99af4db4a67d2a564.jpg'\n",
    "\n",
    "# ✅ 예측 이미지 저장\n",
    "pred = model.predict(\n",
    "    source=test_img,\n",
    "    conf=0.25,\n",
    "    save=True,                            # 예측 이미지 저장 활성화\n",
    "    project='runs/predict',               # 저장할 상위 폴더 (디폴트: 'runs/predict')\n",
    "    name='custom_test',                   # 하위 폴더명 (ex. runs/predict/custom_test)\n",
    "    exist_ok=True                         # 이미 존재하는 폴더에 덮어쓰기 허용\n",
    ")"
   ]
  },
  {
   "cell_type": "code",
   "execution_count": 17,
   "id": "6ce5d351-ec92-4eee-97f7-15b04fde48fc",
   "metadata": {},
   "outputs": [
    {
     "name": "stdout",
     "output_type": "stream",
     "text": [
      "🎯 예측된 클래스 목록: {0: 'Green Light', 1: 'Red Light', 2: 'Speed Limit 10', 3: 'Speed Limit 100', 4: 'Speed Limit 110', 5: 'Speed Limit 120', 6: 'Speed Limit 20', 7: 'Speed Limit 30', 8: 'Speed Limit 40', 9: 'Speed Limit 50', 10: 'Speed Limit 60', 11: 'Speed Limit 70', 12: 'Speed Limit 80', 13: 'Speed Limit 90', 14: 'Stop'}\n"
     ]
    }
   ],
   "source": [
    "# 📌 [9] 예측 결과 시각화\n",
    "for r in pred:\n",
    "    print(\"🎯 예측된 클래스 목록:\", r.names)\n",
    "    r.show()"
   ]
  },
  {
   "cell_type": "markdown",
   "id": "00c74c5f-acb2-476b-b23e-ca4be79f234e",
   "metadata": {},
   "source": [
    "## ONNX 모델로 내보내기"
   ]
  },
  {
   "cell_type": "code",
   "execution_count": 18,
   "id": "b7cff84c-17bb-4b14-8a30-520419db7040",
   "metadata": {},
   "outputs": [
    {
     "name": "stdout",
     "output_type": "stream",
     "text": [
      "Ultralytics 8.3.156  Python-3.11.9 torch-2.7.1+cu128 CPU (13th Gen Intel Core(TM) i7-13700HX)\n",
      "\n",
      "\u001b[34m\u001b[1mPyTorch:\u001b[0m starting from 'runs\\detect\\yolov11n_custom_001\\weights\\best.pt' with input shape (1, 3, 640, 640) BCHW and output shape(s) (1, 19, 8400) (5.2 MB)\n",
      "\u001b[31m\u001b[1mrequirements:\u001b[0m Ultralytics requirements ['onnx>=1.12.0,<1.18.0', 'onnxslim>=0.1.56', 'onnxruntime-gpu'] not found, attempting AutoUpdate...\n",
      "Collecting onnx<1.18.0,>=1.12.0\n",
      "  Downloading onnx-1.17.0-cp311-cp311-win_amd64.whl.metadata (16 kB)\n",
      "Collecting onnxslim>=0.1.56\n",
      "  Downloading onnxslim-0.1.57-py3-none-any.whl.metadata (5.5 kB)\n",
      "Collecting onnxruntime-gpu\n",
      "  Downloading onnxruntime_gpu-1.22.0-cp311-cp311-win_amd64.whl.metadata (5.1 kB)\n",
      "Requirement already satisfied: numpy>=1.20 in d:\\project\\pjt_07\\.venv\\lib\\site-packages (from onnx<1.18.0,>=1.12.0) (1.26.4)\n",
      "Requirement already satisfied: protobuf>=3.20.2 in d:\\project\\pjt_07\\.venv\\lib\\site-packages (from onnx<1.18.0,>=1.12.0) (4.25.8)\n",
      "Requirement already satisfied: sympy in d:\\project\\pjt_07\\.venv\\lib\\site-packages (from onnxslim>=0.1.56) (1.13.3)\n",
      "Requirement already satisfied: packaging in d:\\project\\pjt_07\\.venv\\lib\\site-packages (from onnxslim>=0.1.56) (25.0)\n",
      "Collecting coloredlogs (from onnxruntime-gpu)\n",
      "  Downloading coloredlogs-15.0.1-py2.py3-none-any.whl.metadata (12 kB)\n",
      "Requirement already satisfied: flatbuffers in d:\\project\\pjt_07\\.venv\\lib\\site-packages (from onnxruntime-gpu) (25.2.10)\n",
      "Collecting humanfriendly>=9.1 (from coloredlogs->onnxruntime-gpu)\n",
      "  Downloading humanfriendly-10.0-py2.py3-none-any.whl.metadata (9.2 kB)\n",
      "Collecting pyreadline3 (from humanfriendly>=9.1->coloredlogs->onnxruntime-gpu)\n",
      "  Downloading pyreadline3-3.5.4-py3-none-any.whl.metadata (4.7 kB)\n",
      "Requirement already satisfied: mpmath<1.4,>=1.1.0 in d:\\project\\pjt_07\\.venv\\lib\\site-packages (from sympy->onnxslim>=0.1.56) (1.3.0)\n",
      "Downloading onnx-1.17.0-cp311-cp311-win_amd64.whl (14.5 MB)\n",
      "   ---------------------------------------- 14.5/14.5 MB 41.5 MB/s eta 0:00:00\n",
      "Downloading onnxslim-0.1.57-py3-none-any.whl (154 kB)\n",
      "Downloading onnxruntime_gpu-1.22.0-cp311-cp311-win_amd64.whl (214.9 MB)\n",
      "   ---------------------------------------- 214.9/214.9 MB 38.6 MB/s eta 0:00:00\n",
      "Downloading coloredlogs-15.0.1-py2.py3-none-any.whl (46 kB)\n",
      "Downloading humanfriendly-10.0-py2.py3-none-any.whl (86 kB)\n",
      "Downloading pyreadline3-3.5.4-py3-none-any.whl (83 kB)\n",
      "Installing collected packages: pyreadline3, onnx, onnxslim, humanfriendly, coloredlogs, onnxruntime-gpu\n",
      "   ---------------------------------------- 6/6 [onnxruntime-gpu]\n",
      "Successfully installed coloredlogs-15.0.1 humanfriendly-10.0 onnx-1.17.0 onnxruntime-gpu-1.22.0 onnxslim-0.1.57 pyreadline3-3.5.4\n",
      "\n",
      "\u001b[31m\u001b[1mrequirements:\u001b[0m AutoUpdate success  42.1s\n",
      "WARNING \u001b[31m\u001b[1mrequirements:\u001b[0m \u001b[1mRestart runtime or rerun command for updates to take effect\u001b[0m\n",
      "\n",
      "\n",
      "\u001b[34m\u001b[1mONNX:\u001b[0m starting export with onnx 1.17.0 opset 19...\n",
      "\u001b[34m\u001b[1mONNX:\u001b[0m slimming with onnxslim 0.1.57...\n",
      "\u001b[34m\u001b[1mONNX:\u001b[0m export success  47.0s, saved as 'runs\\detect\\yolov11n_custom_001\\weights\\best.onnx' (10.1 MB)\n",
      "\n",
      "Export complete (48.0s)\n",
      "Results saved to \u001b[1mD:\\Project\\PJT_07\\code\\runs\\detect\\yolov11n_custom_001\\weights\u001b[0m\n",
      "Predict:         yolo predict task=detect model=runs\\detect\\yolov11n_custom_001\\weights\\best.onnx imgsz=640  \n",
      "Validate:        yolo val task=detect model=runs\\detect\\yolov11n_custom_001\\weights\\best.onnx imgsz=640 data=data.yaml  \n",
      "Visualize:       https://netron.app\n",
      "🧠 ONNX 모델 저장 경로: runs\\detect\\yolov11n_custom_001\\weights\\best.onnx\n"
     ]
    }
   ],
   "source": [
    "# 📌 [10] ONNX 모델로 내보내기\n",
    "export_path = model.export(format='onnx')\n",
    "print(f\"🧠 ONNX 모델 저장 경로: {export_path}\")"
   ]
  },
  {
   "cell_type": "markdown",
   "id": "c5511cec-24ae-4ec9-b1cd-888ba3f02f19",
   "metadata": {},
   "source": [
    "## ONNX 모델을 통한 시각화 예측 (cv2 기반)"
   ]
  },
  {
   "cell_type": "code",
   "execution_count": 19,
   "id": "6eb0a114-fe9e-46fe-9f21-4e86c5b31a0a",
   "metadata": {},
   "outputs": [
    {
     "name": "stdout",
     "output_type": "stream",
     "text": [
      "Loading runs\\detect\\yolov11n_custom_001\\weights\\best.onnx for ONNX Runtime inference...\n",
      "Using ONNX Runtime CUDAExecutionProvider\n",
      "\n",
      "0: 640x640 1 Stop, 33.0ms\n",
      "Speed: 8.8ms preprocess, 33.0ms inference, 5.2ms postprocess per image at shape (1, 3, 640, 640)\n"
     ]
    },
    {
     "data": {
      "text/plain": [
       "<Figure size 1200x1200 with 1 Axes>"
      ]
     },
     "metadata": {},
     "output_type": "display_data"
    }
   ],
   "source": [
    "# 📌 [11] ONNX 모델 기반 예측 시각화\n",
    "onnx_model = YOLO(os.path.join('runs/detect', run_name, 'weights', 'best.onnx'))\n",
    "\n",
    "image = cv2.imread(test_img)\n",
    "image = cv2.cvtColor(image, cv2.COLOR_BGR2RGB)\n",
    "resized_image = cv2.resize(image, (640, 640))\n",
    "\n",
    "results = onnx_model(resized_image, imgsz=640)\n",
    "\n",
    "for result in results:\n",
    "    boxes = result.boxes\n",
    "    names = result.names\n",
    "    for box in boxes:\n",
    "        x1, y1, x2, y2 = map(int, box.xyxy[0])\n",
    "        conf = box.conf[0]\n",
    "        cls = int(box.cls[0])\n",
    "        label = f\"{names[cls]} {conf:.2f}\"\n",
    "\n",
    "        cv2.rectangle(image, (x1, y1), (x2, y2), (0, 255, 0), 2)\n",
    "        (text_width, text_height), _ = cv2.getTextSize(label, cv2.FONT_HERSHEY_SIMPLEX, 0.5, 1)\n",
    "        cv2.rectangle(image, (x1, y1 - text_height - 5), (x1 + text_width, y1), (0, 255, 0), -1)\n",
    "        cv2.putText(image, label, (x1, y1 - 5), cv2.FONT_HERSHEY_SIMPLEX, 0.5, (0, 0, 0), 1)\n",
    "\n",
    "plt.figure(figsize=(12, 12))\n",
    "plt.imshow(image)\n",
    "plt.axis('off')\n",
    "plt.title(\"🔍 ONNX 예측 결과\")\n",
    "plt.show()"
   ]
  },
  {
   "cell_type": "code",
   "execution_count": null,
   "id": "653304b4-9b8c-4d4c-a8f2-14cc4d046e63",
   "metadata": {},
   "outputs": [],
   "source": []
  },
  {
   "cell_type": "code",
   "execution_count": 21,
   "id": "bee3b1eb-4a9b-48ec-bbd9-be6e6aa3cfef",
   "metadata": {},
   "outputs": [
    {
     "name": "stdout",
     "output_type": "stream",
     "text": [
      "📋 CSV 컬럼 목록:\n",
      "Index(['epoch', 'time', 'train/box_loss', 'train/cls_loss', 'train/dfl_loss',\n",
      "       'metrics/precision(B)', 'metrics/recall(B)', 'metrics/mAP50(B)',\n",
      "       'metrics/mAP50-95(B)', 'val/box_loss', 'val/cls_loss', 'val/dfl_loss',\n",
      "       'lr/pg0', 'lr/pg1', 'lr/pg2'],\n",
      "      dtype='object')\n"
     ]
    }
   ],
   "source": [
    "# import pandas as pd\n",
    "\n",
    "# results_csv = f'runs/detect/{run_name}/results.csv'\n",
    "# df = pd.read_csv(results_csv)\n",
    "# print(\"📋 CSV 컬럼 목록:\")\n",
    "# print(df.columns)"
   ]
  },
  {
   "cell_type": "code",
   "execution_count": null,
   "id": "6d6c4b53-cee3-4418-ab97-f31794c85969",
   "metadata": {},
   "outputs": [],
   "source": []
  },
  {
   "cell_type": "code",
   "execution_count": 22,
   "id": "320313db-5373-4333-83ca-d20da8f2061d",
   "metadata": {},
   "outputs": [
    {
     "name": "stdout",
     "output_type": "stream",
     "text": [
      "📈 훈련 결과 요약 (Epoch별 mAP):\n",
      "    metrics/mAP50(B)  metrics/mAP50-95(B)\n",
      "25           0.93757              0.80491\n",
      "26           0.93899              0.80909\n",
      "27           0.94335              0.81435\n",
      "28           0.94540              0.81500\n",
      "29           0.94552              0.81616\n"
     ]
    }
   ],
   "source": [
    "# 📌 [12] 훈련 결과 시각화 (mAP/Loss 등)\n",
    "results_csv = f'runs/detect/{run_name}/results.csv'\n",
    "\n",
    "if os.path.exists(results_csv):\n",
    "    df = pd.read_csv(results_csv)\n",
    "    print(f\"📈 훈련 결과 요약 (Epoch별 mAP):\\n{df[['metrics/mAP50(B)', 'metrics/mAP50-95(B)']].tail()}\")\n",
    "\n",
    "    # Box Loss 그래프\n",
    "    df[['train/box_loss', 'val/box_loss']].plot(title='Box Loss', figsize=(6, 4))\n",
    "    plt.savefig(f'runs/detect/{run_name}/box_loss.png')\n",
    "    plt.close()\n",
    "\n",
    "    # mAP 그래프\n",
    "    df[['metrics/mAP50(B)', 'metrics/mAP50-95(B)']].plot(title='mAP', figsize=(6, 4))\n",
    "    plt.savefig(f'runs/detect/{run_name}/map.png')\n",
    "    plt.close()\n",
    "\n",
    "else:\n",
    "    print(\"📛 results.csv 없음 (훈련 실패?)\")"
   ]
  },
  {
   "cell_type": "code",
   "execution_count": 23,
   "id": "fd63e462-4adc-4413-88ff-f65006a89c55",
   "metadata": {},
   "outputs": [
    {
     "name": "stdout",
     "output_type": "stream",
     "text": [
      "🎯 최고 성능 Epoch:\n",
      "epoch                  30.00000\n",
      "metrics/mAP50(B)        0.94552\n",
      "metrics/mAP50-95(B)     0.81616\n",
      "Name: 29, dtype: float64\n"
     ]
    }
   ],
   "source": [
    "best_idx = df['metrics/mAP50-95(B)'].idxmax()\n",
    "print(\"🎯 최고 성능 Epoch:\")\n",
    "print(df.loc[best_idx, ['epoch', 'metrics/mAP50(B)', 'metrics/mAP50-95(B)']])"
   ]
  },
  {
   "cell_type": "code",
   "execution_count": 24,
   "id": "a015243c-4228-4df5-bf6c-21217263c7d9",
   "metadata": {},
   "outputs": [
    {
     "name": "stdout",
     "output_type": "stream",
     "text": [
      "📦 결과 JSON 저장 완료: runs/detect/yolov11n_custom_001/results_summary.json\n"
     ]
    }
   ],
   "source": [
    "# 📌 [13] 결과를 JSON으로 저장\n",
    "def save_results_to_json(csv_path, json_path):\n",
    "    if os.path.exists(csv_path):\n",
    "        df = pd.read_csv(csv_path)\n",
    "        result_data = df.to_dict(orient='records')\n",
    "        with open(json_path, 'w') as f:\n",
    "            json.dump(result_data, f, indent=4)\n",
    "        print(f\"📦 결과 JSON 저장 완료: {json_path}\")\n",
    "\n",
    "save_results_to_json(\n",
    "    csv_path=f'runs/detect/{run_name}/results.csv',\n",
    "    json_path=f'runs/detect/{run_name}/results_summary.json'\n",
    ")"
   ]
  },
  {
   "cell_type": "code",
   "execution_count": null,
   "id": "5ab5f421-5dc2-44c0-8670-f65c60a5a2ef",
   "metadata": {},
   "outputs": [],
   "source": []
  },
  {
   "cell_type": "code",
   "execution_count": null,
   "id": "15ac19c0-b5bc-48df-bf85-f275ae55f4e3",
   "metadata": {},
   "outputs": [],
   "source": []
  },
  {
   "cell_type": "code",
   "execution_count": null,
   "id": "37309006-8c9c-4421-816e-31016db0a180",
   "metadata": {},
   "outputs": [],
   "source": []
  }
 ],
 "metadata": {
  "kernelspec": {
   "display_name": "Python 3 (ipykernel)",
   "language": "python",
   "name": "python3"
  },
  "language_info": {
   "codemirror_mode": {
    "name": "ipython",
    "version": 3
   },
   "file_extension": ".py",
   "mimetype": "text/x-python",
   "name": "python",
   "nbconvert_exporter": "python",
   "pygments_lexer": "ipython3",
   "version": "3.11.9"
  }
 },
 "nbformat": 4,
 "nbformat_minor": 5
}
