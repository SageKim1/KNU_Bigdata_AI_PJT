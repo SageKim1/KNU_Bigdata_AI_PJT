{
 "cells": [
  {
   "cell_type": "markdown",
   "id": "38bf0c13-be18-4d61-8a4b-520b61926909",
   "metadata": {},
   "source": [
    "# 03에서 이어서 학습"
   ]
  },
  {
   "cell_type": "code",
   "execution_count": 1,
   "id": "5ab5f421-5dc2-44c0-8670-f65c60a5a2ef",
   "metadata": {},
   "outputs": [],
   "source": [
    "# 📌 [기본 패키지 임포트]\n",
    "import os\n",
    "import shutil\n",
    "import torch\n",
    "import ultralytics\n",
    "from ultralytics import YOLO\n",
    "import time\n",
    "import pandas as pd\n",
    "import cv2\n",
    "import matplotlib.pyplot as plt\n",
    "import numpy as np\n",
    "import json\n",
    "from glob import glob\n",
    "from collections import Counter\n",
    "import threading"
   ]
  },
  {
   "cell_type": "code",
   "execution_count": 2,
   "id": "7b25ddcb-21fe-4ed4-b066-f09ce8a8f9be",
   "metadata": {},
   "outputs": [
    {
     "name": "stdout",
     "output_type": "stream",
     "text": [
      "Ultralytics 8.3.156  Python-3.11.9 torch-2.7.1+cu128 CUDA:0 (NVIDIA GeForce RTX 4070 Laptop GPU, 8188MiB)\n",
      "Setup complete  (24 CPUs, 31.7 GB RAM, 24.9/735.1 GB disk)\n"
     ]
    }
   ],
   "source": [
    "# 📌 [1] GPU 및 환경 체크\n",
    "print(\"✅ CUDA 사용 가능:\", torch.cuda.is_available())\n",
    "print(\"✅ PyTorch 버전:\", torch.__version__)\n",
    "ultralytics.checks()"
   ]
  },
  {
   "cell_type": "code",
   "execution_count": 3,
   "id": "0b1c52e5-434e-410f-b6f0-151dd2e3af32",
   "metadata": {},
   "outputs": [
    {
     "name": "stdout",
     "output_type": "stream",
     "text": [
      "✅ 삭제할 미완성 run 없음. 모든 run이 best.pt 포함.\n"
     ]
    }
   ],
   "source": [
    "# 📌 [2] 실패한 이전 runs 삭제\n",
    "def clean_incomplete_runs(base_dir='../code/runs/detect'):\n",
    "    if not os.path.exists(base_dir):\n",
    "        print(f\"📂 '{base_dir}' 폴더가 없어 삭제 생략\")\n",
    "        return\n",
    "\n",
    "    deleted = False\n",
    "    for folder in os.listdir(base_dir):\n",
    "        path = os.path.join(base_dir, folder)\n",
    "        best_model = os.path.join(path, 'weights', 'best.pt')\n",
    "        if not os.path.exists(best_model):\n",
    "            print(f\"🧹 삭제 대상: {path}\")\n",
    "            shutil.rmtree(path)\n",
    "            deleted = True\n",
    "\n",
    "    if not deleted:\n",
    "        print(\"✅ 삭제할 미완성 run 없음. 모든 run이 best.pt 포함.\")\n",
    "\n",
    "clean_incomplete_runs()"
   ]
  },
  {
   "cell_type": "code",
   "execution_count": 6,
   "id": "aeb14c7a-9d16-4749-818a-d7e43b6656c4",
   "metadata": {},
   "outputs": [
    {
     "name": "stdout",
     "output_type": "stream",
     "text": [
      "📄 지정된 훈련 결과 파일: runs/detect\\yolov11n_custom_003\\results.csv\n",
      "🔁 지정된 훈련 결과 (마지막 5줄):\n",
      "    epoch     time  train/box_loss  train/cls_loss  train/dfl_loss  \\\n",
      "25     26  2639.22         0.52503         0.44206         0.93175   \n",
      "26     27  3299.47         0.52544         0.44100         0.93322   \n",
      "27     28  3385.89         0.51527         0.43273         0.92348   \n",
      "28     29  3472.51         0.51541         0.41596         0.92183   \n",
      "29     30  3558.09         0.50541         0.41221         0.91931   \n",
      "\n",
      "    metrics/precision(B)  metrics/recall(B)  metrics/mAP50(B)  \\\n",
      "25               0.94460            0.85920           0.93757   \n",
      "26               0.94754            0.86024           0.93899   \n",
      "27               0.96725            0.84840           0.94335   \n",
      "28               0.94289            0.87677           0.94540   \n",
      "29               0.95539            0.87270           0.94552   \n",
      "\n",
      "    metrics/mAP50-95(B)  val/box_loss  val/cls_loss  val/dfl_loss    lr/pg0  \\\n",
      "25              0.80491       0.58395       0.42124       0.95261  0.000092   \n",
      "26              0.80909       0.58281       0.41475       0.95017  0.000075   \n",
      "27              0.81435       0.57604       0.39903       0.94811  0.000057   \n",
      "28              0.81500       0.57621       0.40008       0.94915  0.000040   \n",
      "29              0.81616       0.57329       0.39926       0.94961  0.000023   \n",
      "\n",
      "      lr/pg1    lr/pg2  \n",
      "25  0.000092  0.000092  \n",
      "26  0.000075  0.000075  \n",
      "27  0.000057  0.000057  \n",
      "28  0.000040  0.000040  \n",
      "29  0.000023  0.000023  \n"
     ]
    }
   ],
   "source": [
    "# 📌 [3-2] 특정 run 이름의 결과 요약 출력\n",
    "def get_specific_run_csv(run_name_best):\n",
    "    results_csv = os.path.join('runs/detect', run_name_best, 'results.csv')\n",
    "    if os.path.exists(results_csv):\n",
    "        print(f\"📄 지정된 훈련 결과 파일: {results_csv}\")\n",
    "        df = pd.read_csv(results_csv)\n",
    "        print(\"🔁 지정된 훈련 결과 (마지막 5줄):\")\n",
    "        print(df.tail())\n",
    "    else:\n",
    "        print(f\"📛 결과 파일 없음: {results_csv}\")\n",
    "\n",
    "# 예시 실행\n",
    "get_specific_run_csv('yolov11n_custom_003')"
   ]
  },
  {
   "cell_type": "code",
   "execution_count": 5,
   "id": "87ef416e-3708-43d3-8a53-316b88f7eb56",
   "metadata": {},
   "outputs": [
    {
     "name": "stdout",
     "output_type": "stream",
     "text": [
      "🚀 새 훈련 run 이름: yolov11n_custom_005\n"
     ]
    }
   ],
   "source": [
    "# 📌 [4] 자동 넘버링 run 이름 생성\n",
    "def get_next_run_name(base_dir='runs/detect', prefix='yolov11n_custom'):\n",
    "    i = 1\n",
    "    while os.path.exists(os.path.join(base_dir, f'{prefix}_{i:03d}')):\n",
    "        i += 1\n",
    "    return f'{prefix}_{i:03d}'\n",
    "\n",
    "run_name = get_next_run_name()\n",
    "print(f\"🚀 새 훈련 run 이름: {run_name}\")"
   ]
  },
  {
   "cell_type": "code",
   "execution_count": 7,
   "id": "743708d1-328f-4d4e-94b1-42db57f9a377",
   "metadata": {
    "scrolled": true
   },
   "outputs": [
    {
     "name": "stdout",
     "output_type": "stream",
     "text": [
      "\n",
      "📁 이미지 경로: ../train/images\n",
      "🖼️ 이미지 개수: 3530\n",
      "💾 이미지 용량: 67.55 MB\n",
      "📄 라벨 경로: ../train/labels\n",
      "📝 라벨 개수: 3530\n",
      "💾 라벨 용량: 319.50 KB\n",
      "\n",
      "📊 클래스별 라벨 개수 (../train/labels):\n",
      "  0 (Green Light): 542\n",
      "  1 (Red Light): 585\n",
      "  2 (Speed Limit 10): 19\n",
      "  3 (Speed Limit 100): 267\n",
      "  4 (Speed Limit 110): 101\n",
      "  5 (Speed Limit 120): 252\n",
      "  6 (Speed Limit 20): 285\n",
      "  7 (Speed Limit 30): 334\n",
      "  8 (Speed Limit 40): 235\n",
      "  9 (Speed Limit 50): 283\n",
      "  10 (Speed Limit 60): 301\n",
      "  11 (Speed Limit 70): 318\n",
      "  12 (Speed Limit 80): 323\n",
      "  13 (Speed Limit 90): 168\n",
      "  14 (Stop): 285\n",
      "\n",
      "📁 이미지 경로: ../valid/images\n",
      "🖼️ 이미지 개수: 801\n",
      "💾 이미지 용량: 15.38 MB\n",
      "📄 라벨 경로: ../valid/labels\n",
      "📝 라벨 개수: 801\n",
      "💾 라벨 용량: 69.86 KB\n",
      "\n",
      "📊 클래스별 라벨 개수 (../valid/labels):\n",
      "  0 (Green Light): 122\n",
      "  1 (Red Light): 108\n",
      "  3 (Speed Limit 100): 52\n",
      "  4 (Speed Limit 110): 17\n",
      "  5 (Speed Limit 120): 60\n",
      "  6 (Speed Limit 20): 56\n",
      "  7 (Speed Limit 30): 74\n",
      "  8 (Speed Limit 40): 55\n",
      "  9 (Speed Limit 50): 71\n",
      "  10 (Speed Limit 60): 76\n",
      "  11 (Speed Limit 70): 78\n",
      "  12 (Speed Limit 80): 56\n",
      "  13 (Speed Limit 90): 38\n",
      "  14 (Stop): 81\n"
     ]
    }
   ],
   "source": [
    "# 📌 [5] 입력 데이터 정보 출력 및 클래스별 레이블 개수 확인 함수 추가\n",
    "def get_dataset_info(img_dir, label_dir, class_names=None):\n",
    "    img_files = glob(os.path.join(img_dir, '*.jpg'))\n",
    "    label_files = glob(os.path.join(label_dir, '*.txt'))\n",
    "\n",
    "    total_img_size = sum(os.path.getsize(f) for f in img_files)\n",
    "    total_label_size = sum(os.path.getsize(f) for f in label_files)\n",
    "\n",
    "    print(f\"\\n📁 이미지 경로: {img_dir}\")\n",
    "    print(f\"🖼️ 이미지 개수: {len(img_files)}\")\n",
    "    print(f\"💾 이미지 용량: {total_img_size / 1024 / 1024:.2f} MB\")\n",
    "    print(f\"📄 라벨 경로: {label_dir}\")\n",
    "    print(f\"📝 라벨 개수: {len(label_files)}\")\n",
    "    print(f\"💾 라벨 용량: {total_label_size / 1024:.2f} KB\")\n",
    "\n",
    "    # 클래스별 라벨 개수 집계\n",
    "    classes = []\n",
    "    for f in label_files:\n",
    "        with open(f, 'r') as file:\n",
    "            lines = file.readlines()\n",
    "            classes += [int(line.split()[0]) for line in lines if line.strip()]\n",
    "    counter = Counter(classes)\n",
    "    print(f\"\\n📊 클래스별 라벨 개수 ({label_dir}):\")\n",
    "    if class_names:\n",
    "        for cls_idx, count in sorted(counter.items()):\n",
    "            print(f\"  {cls_idx} ({class_names[cls_idx]}): {count}\")\n",
    "    else:\n",
    "        print(counter)\n",
    "\n",
    "# 예시로 data.yaml에서 클래스명 읽어오기\n",
    "import yaml\n",
    "with open('data.yaml', 'r') as f:\n",
    "    data_cfg = yaml.safe_load(f)\n",
    "class_names = data_cfg.get('names', None)\n",
    "\n",
    "get_dataset_info('../train/images', '../train/labels', class_names)\n",
    "get_dataset_info('../valid/images', '../valid/labels', class_names)"
   ]
  },
  {
   "cell_type": "code",
   "execution_count": null,
   "id": "32041e59-06d3-412a-be41-3bf651c546a6",
   "metadata": {},
   "outputs": [],
   "source": [
    "# 📌 캐시 파일 삭제 함수\n",
    "# def safe_delete_cache(path: str):\n",
    "#     if not os.path.exists(path):\n",
    "#         print(f\"🟢 캐시 파일 없음 (삭제 불필요): {path}\")\n",
    "#         return\n",
    "\n",
    "#     file_size = os.path.getsize(path)\n",
    "#     last_modified = os.path.getmtime(path)\n",
    "#     now = time.time()\n",
    "\n",
    "#     should_delete = (\n",
    "#         file_size < 1024 or  # 1KB 이하\n",
    "#         (now - last_modified > 3600)  # 1시간 이상 경과\n",
    "#     )\n",
    "\n",
    "#     if should_delete:\n",
    "#         try:\n",
    "#             os.remove(path)\n",
    "#             print(f\"✅ 캐시 삭제 완료: {path}\")\n",
    "#         except Exception as e:\n",
    "#             print(f\"❌ 캐시 삭제 실패: {path} → {e}\")\n",
    "#     else:\n",
    "#         print(f\"🔒 캐시 유지: {path} (조건 미충족)\")\n",
    "\n",
    "# safe_delete_cache(r\"D:\\Project\\PJT_07\\train\\labels.cache\")\n",
    "# safe_delete_cache(r\"D:\\Project\\PJT_07\\valid\\labels.cache\")"
   ]
  },
  {
   "cell_type": "code",
   "execution_count": 13,
   "id": "c33b965e-2b0c-4726-a2a5-9fdc13cc01f0",
   "metadata": {},
   "outputs": [
    {
     "name": "stdout",
     "output_type": "stream",
     "text": [
      "yolov11n_custom_005\n"
     ]
    }
   ],
   "source": [
    "print(run_name)"
   ]
  },
  {
   "cell_type": "markdown",
   "id": "ac842faf-cd06-46c8-b3b8-87ce65812e0e",
   "metadata": {},
   "source": [
    "# 과적합 예방 전략\n",
    "- Early Stopping : patience=10,\n",
    "- Weight Decay (L2 정규화) : weight_decay=0.001,\n",
    "- Label Smoothing : label_smoothing=0.1,\n",
    "- Cosine Learning Rate Schedule : cos_lr=True,"
   ]
  },
  {
   "cell_type": "code",
   "execution_count": 15,
   "id": "717cf9c2-cc7d-4aaf-8b7a-6c0d42eaffcf",
   "metadata": {
    "scrolled": true
   },
   "outputs": [
    {
     "name": "stdout",
     "output_type": "stream",
     "text": [
      "[GPU 모니터] 메모리 할당: 1040.5MB, 예약: 9054.0MB\n",
      "Ultralytics 8.3.156  Python-3.11.9 torch-2.7.1+cu128 CUDA:0 (NVIDIA GeForce RTX 4070 Laptop GPU, 8188MiB)\n",
      "\u001b[34m\u001b[1mengine\\trainer: \u001b[0magnostic_nms=False, amp=True, augment=False, auto_augment=randaugment, batch=128, bgr=0.0, box=7.5, cache=False, cfg=None, classes=None, close_mosaic=10, cls=0.5, conf=None, copy_paste=0.0, copy_paste_mode=flip, cos_lr=False, cutmix=0.0, data=data.yaml, degrees=0.0, deterministic=True, device=0, dfl=1.5, dnn=False, dropout=0.0, dynamic=False, embed=None, epochs=30, erasing=0.4, exist_ok=False, fliplr=0.5, flipud=0.0, format=torchscript, fraction=1.0, freeze=None, half=False, hsv_h=0.015, hsv_s=0.7, hsv_v=0.4, imgsz=640, int8=False, iou=0.7, keras=False, kobj=1.0, line_width=None, lr0=0.01, lrf=0.01, mask_ratio=4, max_det=300, mixup=0.0, mode=train, model=runs/detect/yolov11n_custom_003/weights/best.pt, momentum=0.937, mosaic=1.0, multi_scale=False, name=yolov11n_custom_005, nbs=64, nms=False, opset=None, optimize=False, optimizer=auto, overlap_mask=True, patience=5, perspective=0.0, plots=True, pose=12.0, pretrained=True, profile=False, project=None, rect=False, resume=False, retina_masks=False, save=True, save_conf=False, save_crop=False, save_dir=runs\\detect\\yolov11n_custom_005, save_frames=False, save_json=False, save_period=-1, save_txt=False, scale=0.5, seed=0, shear=0.0, show=False, show_boxes=True, show_conf=True, show_labels=True, simplify=True, single_cls=False, source=None, split=val, stream_buffer=False, task=detect, time=None, tracker=botsort.yaml, translate=0.1, val=True, verbose=True, vid_stride=1, visualize=False, warmup_bias_lr=0.1, warmup_epochs=3.0, warmup_momentum=0.8, weight_decay=0.0005, workers=0, workspace=None\n",
      "\n",
      "                   from  n    params  module                                       arguments                     \n",
      "  0                  -1  1       464  ultralytics.nn.modules.conv.Conv             [3, 16, 3, 2]                 \n",
      "  1                  -1  1      4672  ultralytics.nn.modules.conv.Conv             [16, 32, 3, 2]                \n",
      "  2                  -1  1      6640  ultralytics.nn.modules.block.C3k2            [32, 64, 1, False, 0.25]      \n",
      "  3                  -1  1     36992  ultralytics.nn.modules.conv.Conv             [64, 64, 3, 2]                \n",
      "  4                  -1  1     26080  ultralytics.nn.modules.block.C3k2            [64, 128, 1, False, 0.25]     \n",
      "  5                  -1  1    147712  ultralytics.nn.modules.conv.Conv             [128, 128, 3, 2]              \n",
      "  6                  -1  1     87040  ultralytics.nn.modules.block.C3k2            [128, 128, 1, True]           \n",
      "  7                  -1  1    295424  ultralytics.nn.modules.conv.Conv             [128, 256, 3, 2]              \n",
      "  8                  -1  1    346112  ultralytics.nn.modules.block.C3k2            [256, 256, 1, True]           \n",
      "  9                  -1  1    164608  ultralytics.nn.modules.block.SPPF            [256, 256, 5]                 \n",
      " 10                  -1  1    249728  ultralytics.nn.modules.block.C2PSA           [256, 256, 1]                 \n",
      " 11                  -1  1         0  torch.nn.modules.upsampling.Upsample         [None, 2, 'nearest']          \n",
      " 12             [-1, 6]  1         0  ultralytics.nn.modules.conv.Concat           [1]                           \n",
      " 13                  -1  1    111296  ultralytics.nn.modules.block.C3k2            [384, 128, 1, False]          \n",
      " 14                  -1  1         0  torch.nn.modules.upsampling.Upsample         [None, 2, 'nearest']          \n",
      " 15             [-1, 4]  1         0  ultralytics.nn.modules.conv.Concat           [1]                           \n",
      " 16                  -1  1     32096  ultralytics.nn.modules.block.C3k2            [256, 64, 1, False]           \n",
      " 17                  -1  1     36992  ultralytics.nn.modules.conv.Conv             [64, 64, 3, 2]                \n",
      " 18            [-1, 13]  1         0  ultralytics.nn.modules.conv.Concat           [1]                           \n",
      " 19                  -1  1     86720  ultralytics.nn.modules.block.C3k2            [192, 128, 1, False]          \n",
      " 20                  -1  1    147712  ultralytics.nn.modules.conv.Conv             [128, 128, 3, 2]              \n",
      " 21            [-1, 10]  1         0  ultralytics.nn.modules.conv.Concat           [1]                           \n",
      " 22                  -1  1    378880  ultralytics.nn.modules.block.C3k2            [384, 256, 1, True]           \n",
      " 23        [16, 19, 22]  1    433597  ultralytics.nn.modules.head.Detect           [15, [64, 128, 256]]          \n",
      "YOLO11n summary: 181 layers, 2,592,765 parameters, 2,592,749 gradients, 6.5 GFLOPs\n",
      "\n",
      "Transferred 499/499 items from pretrained weights\n",
      "Freezing layer 'model.23.dfl.conv.weight'\n",
      "\u001b[34m\u001b[1mAMP: \u001b[0mrunning Automatic Mixed Precision (AMP) checks...\n",
      "\u001b[34m\u001b[1mAMP: \u001b[0mchecks passed \n",
      "\u001b[34m\u001b[1mtrain: \u001b[0mFast image access  (ping: 0.10.1 ms, read: 190.458.7 MB/s, size: 24.1 KB)\n"
     ]
    },
    {
     "name": "stderr",
     "output_type": "stream",
     "text": [
      "\u001b[34m\u001b[1mtrain: \u001b[0mScanning D:\\Project\\PJT_07\\train\\labels.cache... 3530 images, 3 backgrounds, 0 corrupt: 100%|██████████| 3530\u001b[0m"
     ]
    },
    {
     "name": "stdout",
     "output_type": "stream",
     "text": [
      "\u001b[34m\u001b[1mval: \u001b[0mFast image access  (ping: 0.10.0 ms, read: 159.191.7 MB/s, size: 20.7 KB)\n"
     ]
    },
    {
     "name": "stderr",
     "output_type": "stream",
     "text": [
      "\n",
      "\u001b[34m\u001b[1mval: \u001b[0mScanning D:\\Project\\PJT_07\\valid\\labels.cache... 801 images, 0 backgrounds, 0 corrupt: 100%|██████████| 801/801\u001b[0m"
     ]
    },
    {
     "name": "stdout",
     "output_type": "stream",
     "text": [
      "Plotting labels to runs\\detect\\yolov11n_custom_005\\labels.jpg... \n"
     ]
    },
    {
     "name": "stderr",
     "output_type": "stream",
     "text": [
      "\n"
     ]
    },
    {
     "name": "stdout",
     "output_type": "stream",
     "text": [
      "\u001b[34m\u001b[1moptimizer:\u001b[0m 'optimizer=auto' found, ignoring 'lr0=0.01' and 'momentum=0.937' and determining best 'optimizer', 'lr0' and 'momentum' automatically... \n",
      "\u001b[34m\u001b[1moptimizer:\u001b[0m AdamW(lr=0.000526, momentum=0.9) with parameter groups 81 weight(decay=0.0), 88 weight(decay=0.001), 87 bias(decay=0.0)\n",
      "Image sizes 640 train, 640 val\n",
      "Using 0 dataloader workers\n",
      "Logging results to \u001b[1mruns\\detect\\yolov11n_custom_005\u001b[0m\n",
      "Starting training for 30 epochs...\n",
      "\n",
      "      Epoch    GPU_mem   box_loss   cls_loss   dfl_loss  Instances       Size\n"
     ]
    },
    {
     "name": "stderr",
     "output_type": "stream",
     "text": [
      "       1/30      18.7G     0.5386     0.6139     0.9567        275        640:   7%|▋         | 2/28 [00:55<11:45, 2"
     ]
    },
    {
     "name": "stdout",
     "output_type": "stream",
     "text": [
      "[GPU 모니터] 메모리 할당: 1939.9MB, 예약: 19156.0MB\n"
     ]
    },
    {
     "name": "stderr",
     "output_type": "stream",
     "text": [
      "       1/30      18.7G     0.5388      0.629     0.9656        294        640:  14%|█▍        | 4/28 [01:44<10:09, 2"
     ]
    },
    {
     "name": "stdout",
     "output_type": "stream",
     "text": [
      "[GPU 모니터] 메모리 할당: 15745.2MB, 예약: 19156.0MB\n"
     ]
    },
    {
     "name": "stderr",
     "output_type": "stream",
     "text": [
      "       1/30      18.7G     0.5423     0.6396     0.9657        284        640:  25%|██▌       | 7/28 [02:55<08:29, 2"
     ]
    },
    {
     "name": "stdout",
     "output_type": "stream",
     "text": [
      "[GPU 모니터] 메모리 할당: 1359.7MB, 예약: 19156.0MB\n"
     ]
    },
    {
     "name": "stderr",
     "output_type": "stream",
     "text": [
      "       1/30      18.7G     0.5363      0.643     0.9643        319        640:  32%|███▏      | 9/28 [03:43<07:38, 2"
     ]
    },
    {
     "name": "stdout",
     "output_type": "stream",
     "text": [
      "[GPU 모니터] 메모리 할당: 1970.0MB, 예약: 19156.0MB\n"
     ]
    },
    {
     "name": "stderr",
     "output_type": "stream",
     "text": [
      "       1/30      18.7G     0.5285     0.6411     0.9618        315        640:  43%|████▎     | 12/28 [04:55<06:24, "
     ]
    },
    {
     "name": "stdout",
     "output_type": "stream",
     "text": [
      "[GPU 모니터] 메모리 할당: 1959.7MB, 예약: 19156.0MB\n"
     ]
    },
    {
     "name": "stderr",
     "output_type": "stream",
     "text": [
      "       1/30      18.7G     0.5283     0.6279     0.9614        286        640:  50%|█████     | 14/28 [05:43<05:36, "
     ]
    },
    {
     "name": "stdout",
     "output_type": "stream",
     "text": [
      "[GPU 모니터] 메모리 할당: 1370.0MB, 예약: 19156.0MB\n"
     ]
    },
    {
     "name": "stderr",
     "output_type": "stream",
     "text": [
      "       1/30      18.7G     0.5272     0.6271     0.9604        316        640:  61%|██████    | 17/28 [06:56<04:24, "
     ]
    },
    {
     "name": "stdout",
     "output_type": "stream",
     "text": [
      "[GPU 모니터] 메모리 할당: 1370.0MB, 예약: 19156.0MB\n"
     ]
    },
    {
     "name": "stderr",
     "output_type": "stream",
     "text": [
      "       1/30      18.7G     0.5274     0.6267     0.9609        291        640:  68%|██████▊   | 19/28 [07:43<03:35, "
     ]
    },
    {
     "name": "stdout",
     "output_type": "stream",
     "text": [
      "[GPU 모니터] 메모리 할당: 1970.0MB, 예약: 19156.0MB\n"
     ]
    },
    {
     "name": "stderr",
     "output_type": "stream",
     "text": [
      "       1/30      18.7G     0.5255     0.6304      0.959        262        640:  79%|███████▊  | 22/28 [08:55<02:23, "
     ]
    },
    {
     "name": "stdout",
     "output_type": "stream",
     "text": [
      "[GPU 모니터] 메모리 할당: 1959.7MB, 예약: 19156.0MB\n"
     ]
    },
    {
     "name": "stderr",
     "output_type": "stream",
     "text": [
      "       1/30      18.7G     0.5204     0.6283     0.9584        295        640:  86%|████████▌ | 24/28 [09:43<01:35, "
     ]
    },
    {
     "name": "stdout",
     "output_type": "stream",
     "text": [
      "[GPU 모니터] 메모리 할당: 1370.0MB, 예약: 19156.0MB\n"
     ]
    },
    {
     "name": "stderr",
     "output_type": "stream",
     "text": [
      "       1/30      18.7G     0.5231     0.6317     0.9592        273        640:  96%|█████████▋| 27/28 [10:55<00:23, "
     ]
    },
    {
     "name": "stdout",
     "output_type": "stream",
     "text": [
      "[GPU 모니터] 메모리 할당: 1359.7MB, 예약: 19156.0MB\n"
     ]
    },
    {
     "name": "stderr",
     "output_type": "stream",
     "text": [
      "       1/30      18.7G     0.5218     0.6311     0.9581        146        640: 100%|██████████| 28/28 [11:07<00:00, \n",
      "                 Class     Images  Instances      Box(P          R      mAP50  mAP50-95): 100%|██████████| 4/4 [00:2"
     ]
    },
    {
     "name": "stdout",
     "output_type": "stream",
     "text": [
      "                   all        801        944      0.939      0.881      0.947      0.816\n"
     ]
    },
    {
     "name": "stderr",
     "output_type": "stream",
     "text": [
      "\n"
     ]
    },
    {
     "name": "stdout",
     "output_type": "stream",
     "text": [
      "\n",
      "      Epoch    GPU_mem   box_loss   cls_loss   dfl_loss  Instances       Size\n"
     ]
    },
    {
     "name": "stderr",
     "output_type": "stream",
     "text": [
      "  0%|          | 0/28 [00:00<?, ?it/s]"
     ]
    },
    {
     "name": "stdout",
     "output_type": "stream",
     "text": [
      "[GPU 모니터] 메모리 할당: 1364.3MB, 예약: 17582.0MB\n"
     ]
    },
    {
     "name": "stderr",
     "output_type": "stream",
     "text": [
      "       2/30      17.2G     0.5439     0.6602     0.9607        283        640:  11%|█         | 3/28 [01:11<09:47, 2"
     ]
    },
    {
     "name": "stdout",
     "output_type": "stream",
     "text": [
      "[GPU 모니터] 메모리 할당: 1964.3MB, 예약: 17582.0MB\n"
     ]
    },
    {
     "name": "stderr",
     "output_type": "stream",
     "text": [
      "       2/30      17.2G     0.5442     0.6464     0.9615        279        640:  21%|██▏       | 6/28 [02:18<08:15, 2"
     ]
    },
    {
     "name": "stdout",
     "output_type": "stream",
     "text": [
      "[GPU 모니터] 메모리 할당: 15286.3MB, 예약: 17582.0MB\n"
     ]
    },
    {
     "name": "stderr",
     "output_type": "stream",
     "text": [
      "       2/30      17.2G     0.5326     0.6376     0.9582        275        640:  29%|██▊       | 8/28 [03:03<07:28, 2"
     ]
    },
    {
     "name": "stdout",
     "output_type": "stream",
     "text": [
      "[GPU 모니터] 메모리 할당: 1364.3MB, 예약: 17582.0MB\n"
     ]
    },
    {
     "name": "stderr",
     "output_type": "stream",
     "text": [
      "       2/30      17.2G     0.5265     0.6369     0.9576        261        640:  39%|███▉      | 11/28 [04:11<06:24, "
     ]
    },
    {
     "name": "stdout",
     "output_type": "stream",
     "text": [
      "[GPU 모니터] 메모리 할당: 1964.3MB, 예약: 17582.0MB\n"
     ]
    },
    {
     "name": "stderr",
     "output_type": "stream",
     "text": [
      "       2/30      17.2G      0.525     0.6383     0.9576        294        640:  50%|█████     | 14/28 [05:18<05:14, "
     ]
    },
    {
     "name": "stdout",
     "output_type": "stream",
     "text": [
      "[GPU 모니터] 메모리 할당: 15286.3MB, 예약: 17582.0MB\n"
     ]
    },
    {
     "name": "stderr",
     "output_type": "stream",
     "text": [
      "       2/30      17.2G     0.5227     0.6378     0.9569        270        640:  57%|█████▋    | 16/28 [06:03<04:30, "
     ]
    },
    {
     "name": "stdout",
     "output_type": "stream",
     "text": [
      "[GPU 모니터] 메모리 할당: 1364.3MB, 예약: 17582.0MB\n"
     ]
    },
    {
     "name": "stderr",
     "output_type": "stream",
     "text": [
      "       2/30      17.2G     0.5206     0.6344     0.9588        267        640:  68%|██████▊   | 19/28 [07:11<03:22, "
     ]
    },
    {
     "name": "stdout",
     "output_type": "stream",
     "text": [
      "[GPU 모니터] 메모리 할당: 1964.3MB, 예약: 17582.0MB\n"
     ]
    },
    {
     "name": "stderr",
     "output_type": "stream",
     "text": [
      "       2/30      17.2G     0.5239     0.6329     0.9581        311        640:  79%|███████▊  | 22/28 [08:19<02:15, "
     ]
    },
    {
     "name": "stdout",
     "output_type": "stream",
     "text": [
      "[GPU 모니터] 메모리 할당: 15286.3MB, 예약: 17582.0MB\n"
     ]
    },
    {
     "name": "stderr",
     "output_type": "stream",
     "text": [
      "       2/30      17.2G      0.527     0.6369     0.9587        283        640:  86%|████████▌ | 24/28 [09:03<01:29, "
     ]
    },
    {
     "name": "stdout",
     "output_type": "stream",
     "text": [
      "[GPU 모니터] 메모리 할당: 1364.3MB, 예약: 17582.0MB\n"
     ]
    },
    {
     "name": "stderr",
     "output_type": "stream",
     "text": [
      "       2/30      17.2G     0.5276     0.6347     0.9583        296        640:  96%|█████████▋| 27/28 [10:11<00:22, "
     ]
    },
    {
     "name": "stdout",
     "output_type": "stream",
     "text": [
      "[GPU 모니터] 메모리 할당: 1711.1MB, 예약: 17582.0MB\n"
     ]
    },
    {
     "name": "stderr",
     "output_type": "stream",
     "text": [
      "       2/30      17.2G     0.5302     0.6371     0.9594        171        640: 100%|██████████| 28/28 [10:25<00:00, \n",
      "                 Class     Images  Instances      Box(P          R      mAP50  mAP50-95): 100%|██████████| 4/4 [00:1"
     ]
    },
    {
     "name": "stdout",
     "output_type": "stream",
     "text": [
      "                   all        801        944      0.957      0.856       0.94      0.808\n"
     ]
    },
    {
     "name": "stderr",
     "output_type": "stream",
     "text": [
      "\n"
     ]
    },
    {
     "name": "stdout",
     "output_type": "stream",
     "text": [
      "\n",
      "      Epoch    GPU_mem   box_loss   cls_loss   dfl_loss  Instances       Size\n"
     ]
    },
    {
     "name": "stderr",
     "output_type": "stream",
     "text": [
      "       3/30      17.2G     0.5558     0.6718     0.9877        252        640:   4%|▎         | 1/28 [00:25<11:21, 2"
     ]
    },
    {
     "name": "stdout",
     "output_type": "stream",
     "text": [
      "[GPU 모니터] 메모리 할당: 1964.3MB, 예약: 17598.0MB\n"
     ]
    },
    {
     "name": "stderr",
     "output_type": "stream",
     "text": [
      "       3/30      17.2G     0.5548     0.6597     0.9738        298        640:  14%|█▍        | 4/28 [01:27<08:30, 2"
     ]
    },
    {
     "name": "stdout",
     "output_type": "stream",
     "text": [
      "[GPU 모니터] 메모리 할당: 15287.0MB, 예약: 17598.0MB\n"
     ]
    },
    {
     "name": "stderr",
     "output_type": "stream",
     "text": [
      "       3/30      17.2G     0.5506     0.6719     0.9729        297        640:  25%|██▌       | 7/28 [02:29<07:16, 2"
     ]
    },
    {
     "name": "stdout",
     "output_type": "stream",
     "text": [
      "[GPU 모니터] 메모리 할당: 15887.0MB, 예약: 17598.0MB\n"
     ]
    },
    {
     "name": "stderr",
     "output_type": "stream",
     "text": [
      "       3/30      17.2G     0.5486      0.661     0.9745        305        640:  36%|███▌      | 10/28 [03:30<06:09, "
     ]
    },
    {
     "name": "stdout",
     "output_type": "stream",
     "text": [
      "[GPU 모니터] 메모리 할당: 15287.0MB, 예약: 17598.0MB\n"
     ]
    },
    {
     "name": "stderr",
     "output_type": "stream",
     "text": [
      "       3/30      17.2G     0.5494     0.6537     0.9747        287        640:  46%|████▋     | 13/28 [04:32<05:06, "
     ]
    },
    {
     "name": "stdout",
     "output_type": "stream",
     "text": [
      "[GPU 모니터] 메모리 할당: 15887.0MB, 예약: 17598.0MB\n"
     ]
    },
    {
     "name": "stderr",
     "output_type": "stream",
     "text": [
      "       3/30      17.2G     0.5548     0.6585     0.9737        287        640:  57%|█████▋    | 16/28 [05:31<04:01, "
     ]
    },
    {
     "name": "stdout",
     "output_type": "stream",
     "text": [
      "[GPU 모니터] 메모리 할당: 15287.0MB, 예약: 17598.0MB\n"
     ]
    },
    {
     "name": "stderr",
     "output_type": "stream",
     "text": [
      "       3/30      17.2G     0.5532     0.6607     0.9724        283        640:  68%|██████▊   | 19/28 [06:33<03:03, "
     ]
    },
    {
     "name": "stdout",
     "output_type": "stream",
     "text": [
      "[GPU 모니터] 메모리 할당: 1354.3MB, 예약: 17598.0MB\n"
     ]
    },
    {
     "name": "stderr",
     "output_type": "stream",
     "text": [
      "       3/30      17.2G     0.5526     0.6636      0.972        276        640:  79%|███████▊  | 22/28 [07:34<02:02, "
     ]
    },
    {
     "name": "stdout",
     "output_type": "stream",
     "text": [
      "[GPU 모니터] 메모리 할당: 1954.3MB, 예약: 17598.0MB\n"
     ]
    },
    {
     "name": "stderr",
     "output_type": "stream",
     "text": [
      "       3/30      17.2G     0.5518     0.6646      0.973        284        640:  89%|████████▉ | 25/28 [08:36<01:01, "
     ]
    },
    {
     "name": "stdout",
     "output_type": "stream",
     "text": [
      "[GPU 모니터] 메모리 할당: 1354.3MB, 예약: 17598.0MB\n"
     ]
    },
    {
     "name": "stderr",
     "output_type": "stream",
     "text": [
      "       3/30      17.2G     0.5487     0.6625     0.9702        165        640: 100%|██████████| 28/28 [09:30<00:00, \n",
      "                 Class     Images  Instances      Box(P          R      mAP50  mAP50-95):   0%|          | 0/4 [00:0"
     ]
    },
    {
     "name": "stdout",
     "output_type": "stream",
     "text": [
      "[GPU 모니터] 메모리 할당: 2358.4MB, 예약: 7132.0MB\n"
     ]
    },
    {
     "name": "stderr",
     "output_type": "stream",
     "text": [
      "                 Class     Images  Instances      Box(P          R      mAP50  mAP50-95): 100%|██████████| 4/4 [00:1"
     ]
    },
    {
     "name": "stdout",
     "output_type": "stream",
     "text": [
      "                   all        801        944      0.918      0.853       0.92      0.787\n"
     ]
    },
    {
     "name": "stderr",
     "output_type": "stream",
     "text": [
      "\n"
     ]
    },
    {
     "name": "stdout",
     "output_type": "stream",
     "text": [
      "\n",
      "      Epoch    GPU_mem   box_loss   cls_loss   dfl_loss  Instances       Size\n"
     ]
    },
    {
     "name": "stderr",
     "output_type": "stream",
     "text": [
      "       4/30      17.2G      0.507     0.6912     0.9629        286        640:   4%|▎         | 1/28 [00:24<11:05, 2"
     ]
    },
    {
     "name": "stdout",
     "output_type": "stream",
     "text": [
      "[GPU 모니터] 메모리 할당: 1964.3MB, 예약: 17598.0MB\n"
     ]
    },
    {
     "name": "stderr",
     "output_type": "stream",
     "text": [
      "       4/30      17.2G     0.5351     0.6581     0.9626        312        640:  14%|█▍        | 4/28 [01:26<08:23, 2"
     ]
    },
    {
     "name": "stdout",
     "output_type": "stream",
     "text": [
      "[GPU 모니터] 메모리 할당: 1364.3MB, 예약: 17598.0MB\n"
     ]
    },
    {
     "name": "stderr",
     "output_type": "stream",
     "text": [
      "       4/30      17.2G     0.5393     0.6721     0.9693        268        640:  25%|██▌       | 7/28 [02:26<07:04, 2"
     ]
    },
    {
     "name": "stdout",
     "output_type": "stream",
     "text": [
      "[GPU 모니터] 메모리 할당: 1964.3MB, 예약: 17598.0MB\n"
     ]
    },
    {
     "name": "stderr",
     "output_type": "stream",
     "text": [
      "       4/30      17.2G     0.5382     0.6637     0.9698        259        640:  36%|███▌      | 10/28 [03:25<05:58, "
     ]
    },
    {
     "name": "stdout",
     "output_type": "stream",
     "text": [
      "[GPU 모니터] 메모리 할당: 1364.3MB, 예약: 17598.0MB\n"
     ]
    },
    {
     "name": "stderr",
     "output_type": "stream",
     "text": [
      "       4/30      17.2G     0.5452       0.67     0.9738        282        640:  46%|████▋     | 13/28 [04:25<05:00, "
     ]
    },
    {
     "name": "stdout",
     "output_type": "stream",
     "text": [
      "[GPU 모니터] 메모리 할당: 1964.3MB, 예약: 17598.0MB\n"
     ]
    },
    {
     "name": "stderr",
     "output_type": "stream",
     "text": [
      "       4/30      17.2G     0.5478     0.6763     0.9753        284        640:  57%|█████▋    | 16/28 [05:25<03:59, "
     ]
    },
    {
     "name": "stdout",
     "output_type": "stream",
     "text": [
      "[GPU 모니터] 메모리 할당: 1364.3MB, 예약: 17598.0MB\n"
     ]
    },
    {
     "name": "stderr",
     "output_type": "stream",
     "text": [
      "       4/30      17.2G     0.5536     0.6796     0.9749        318        640:  68%|██████▊   | 19/28 [06:25<02:59, "
     ]
    },
    {
     "name": "stdout",
     "output_type": "stream",
     "text": [
      "[GPU 모니터] 메모리 할당: 1964.3MB, 예약: 17598.0MB\n"
     ]
    },
    {
     "name": "stderr",
     "output_type": "stream",
     "text": [
      "       4/30      17.2G     0.5555     0.6778     0.9729        277        640:  79%|███████▊  | 22/28 [07:25<01:59, "
     ]
    },
    {
     "name": "stdout",
     "output_type": "stream",
     "text": [
      "[GPU 모니터] 메모리 할당: 1364.3MB, 예약: 17598.0MB\n"
     ]
    },
    {
     "name": "stderr",
     "output_type": "stream",
     "text": [
      "       4/30      17.2G     0.5595     0.6843      0.974        279        640:  89%|████████▉ | 25/28 [08:25<01:00, "
     ]
    },
    {
     "name": "stdout",
     "output_type": "stream",
     "text": [
      "[GPU 모니터] 메모리 할당: 1964.3MB, 예약: 17598.0MB\n"
     ]
    },
    {
     "name": "stderr",
     "output_type": "stream",
     "text": [
      "       4/30      17.2G     0.5612     0.6858     0.9735        171        640: 100%|██████████| 28/28 [09:18<00:00, \n",
      "                 Class     Images  Instances      Box(P          R      mAP50  mAP50-95): 100%|██████████| 4/4 [00:1"
     ]
    },
    {
     "name": "stdout",
     "output_type": "stream",
     "text": [
      "                   all        801        944      0.926      0.822      0.914      0.778\n"
     ]
    },
    {
     "name": "stderr",
     "output_type": "stream",
     "text": [
      "\n"
     ]
    },
    {
     "name": "stdout",
     "output_type": "stream",
     "text": [
      "\n",
      "      Epoch    GPU_mem   box_loss   cls_loss   dfl_loss  Instances       Size\n"
     ]
    },
    {
     "name": "stderr",
     "output_type": "stream",
     "text": [
      "  0%|          | 0/28 [00:00<?, ?it/s]"
     ]
    },
    {
     "name": "stdout",
     "output_type": "stream",
     "text": [
      "[GPU 모니터] 메모리 할당: 15286.1MB, 예약: 15626.0MB\n"
     ]
    },
    {
     "name": "stderr",
     "output_type": "stream",
     "text": [
      "       5/30      17.2G     0.5675     0.7179     0.9821        282        640:   7%|▋         | 2/28 [00:46<09:55, 2"
     ]
    },
    {
     "name": "stdout",
     "output_type": "stream",
     "text": [
      "[GPU 모니터] 메모리 할당: 1364.3MB, 예약: 17566.0MB\n"
     ]
    },
    {
     "name": "stderr",
     "output_type": "stream",
     "text": [
      "       5/30      17.2G     0.5562     0.6879     0.9764        255        640:  18%|█▊        | 5/28 [01:48<08:05, 2"
     ]
    },
    {
     "name": "stdout",
     "output_type": "stream",
     "text": [
      "[GPU 모니터] 메모리 할당: 1964.3MB, 예약: 17566.0MB\n"
     ]
    },
    {
     "name": "stderr",
     "output_type": "stream",
     "text": [
      "       5/30      17.2G     0.5578      0.678     0.9763        281        640:  29%|██▊       | 8/28 [02:49<06:54, 2"
     ]
    },
    {
     "name": "stdout",
     "output_type": "stream",
     "text": [
      "[GPU 모니터] 메모리 할당: 1364.3MB, 예약: 17566.0MB\n"
     ]
    },
    {
     "name": "stderr",
     "output_type": "stream",
     "text": [
      "       5/30      17.2G     0.5614      0.695     0.9782        291        640:  39%|███▉      | 11/28 [03:51<05:52, "
     ]
    },
    {
     "name": "stdout",
     "output_type": "stream",
     "text": [
      "[GPU 모니터] 메모리 할당: 1964.3MB, 예약: 17566.0MB\n"
     ]
    },
    {
     "name": "stderr",
     "output_type": "stream",
     "text": [
      "       5/30      17.2G     0.5655     0.6973     0.9791        297        640:  50%|█████     | 14/28 [04:53<04:49, "
     ]
    },
    {
     "name": "stdout",
     "output_type": "stream",
     "text": [
      "[GPU 모니터] 메모리 할당: 1364.3MB, 예약: 17566.0MB\n"
     ]
    },
    {
     "name": "stderr",
     "output_type": "stream",
     "text": [
      "       5/30      17.2G     0.5653     0.7014     0.9787        280        640:  61%|██████    | 17/28 [05:56<03:48, "
     ]
    },
    {
     "name": "stdout",
     "output_type": "stream",
     "text": [
      "[GPU 모니터] 메모리 할당: 16317.8MB, 예약: 17566.0MB\n"
     ]
    },
    {
     "name": "stderr",
     "output_type": "stream",
     "text": [
      "       5/30      17.2G     0.5645     0.7073     0.9776        272        640:  71%|███████▏  | 20/28 [06:57<02:44, "
     ]
    },
    {
     "name": "stdout",
     "output_type": "stream",
     "text": [
      "[GPU 모니터] 메모리 할당: 15286.3MB, 예약: 17566.0MB\n"
     ]
    },
    {
     "name": "stderr",
     "output_type": "stream",
     "text": [
      "       5/30      17.2G     0.5633     0.7045     0.9761        280        640:  82%|████████▏ | 23/28 [07:59<01:43, "
     ]
    },
    {
     "name": "stdout",
     "output_type": "stream",
     "text": [
      "[GPU 모니터] 메모리 할당: 15886.3MB, 예약: 17566.0MB\n"
     ]
    },
    {
     "name": "stderr",
     "output_type": "stream",
     "text": [
      "       5/30      17.2G     0.5646     0.7002     0.9761        311        640:  93%|█████████▎| 26/28 [09:01<00:41, "
     ]
    },
    {
     "name": "stdout",
     "output_type": "stream",
     "text": [
      "[GPU 모니터] 메모리 할당: 15286.3MB, 예약: 17566.0MB\n"
     ]
    },
    {
     "name": "stderr",
     "output_type": "stream",
     "text": [
      "       5/30      17.2G      0.564     0.7007     0.9765        153        640: 100%|██████████| 28/28 [09:34<00:00, \n",
      "                 Class     Images  Instances      Box(P          R      mAP50  mAP50-95): 100%|██████████| 4/4 [00:1"
     ]
    },
    {
     "name": "stdout",
     "output_type": "stream",
     "text": [
      "                   all        801        944      0.914        0.8      0.902      0.762\n"
     ]
    },
    {
     "name": "stderr",
     "output_type": "stream",
     "text": [
      "\n"
     ]
    },
    {
     "name": "stdout",
     "output_type": "stream",
     "text": [
      "\n",
      "      Epoch    GPU_mem   box_loss   cls_loss   dfl_loss  Instances       Size\n"
     ]
    },
    {
     "name": "stderr",
     "output_type": "stream",
     "text": [
      "  0%|          | 0/28 [00:00<?, ?it/s]"
     ]
    },
    {
     "name": "stdout",
     "output_type": "stream",
     "text": [
      "[GPU 모니터] 메모리 할당: 14592.8MB, 예약: 16792.0MB\n"
     ]
    },
    {
     "name": "stderr",
     "output_type": "stream",
     "text": [
      "       6/30      17.2G     0.5573     0.7118      0.974        289        640:  11%|█         | 3/28 [01:07<09:11, 2"
     ]
    },
    {
     "name": "stdout",
     "output_type": "stream",
     "text": [
      "[GPU 모니터] 메모리 할당: 15886.3MB, 예약: 17592.0MB\n"
     ]
    },
    {
     "name": "stderr",
     "output_type": "stream",
     "text": [
      "       6/30      17.2G     0.5678     0.7226     0.9742        284        640:  21%|██▏       | 6/28 [02:10<07:46, 2"
     ]
    },
    {
     "name": "stdout",
     "output_type": "stream",
     "text": [
      "[GPU 모니터] 메모리 할당: 1954.3MB, 예약: 17592.0MB\n"
     ]
    },
    {
     "name": "stderr",
     "output_type": "stream",
     "text": [
      "       6/30      17.2G     0.5642     0.7033      0.972        298        640:  29%|██▊       | 8/28 [02:51<06:59, 2"
     ]
    },
    {
     "name": "stdout",
     "output_type": "stream",
     "text": [
      "[GPU 모니터] 메모리 할당: 1364.3MB, 예약: 17592.0MB\n"
     ]
    },
    {
     "name": "stderr",
     "output_type": "stream",
     "text": [
      "       6/30      17.2G     0.5589     0.7038     0.9732        272        640:  39%|███▉      | 11/28 [03:54<05:53, "
     ]
    },
    {
     "name": "stdout",
     "output_type": "stream",
     "text": [
      "[GPU 모니터] 메모리 할당: 1964.3MB, 예약: 17592.0MB\n"
     ]
    },
    {
     "name": "stderr",
     "output_type": "stream",
     "text": [
      "       6/30      17.2G     0.5618     0.7025      0.972        309        640:  50%|█████     | 14/28 [04:57<04:53, "
     ]
    },
    {
     "name": "stdout",
     "output_type": "stream",
     "text": [
      "[GPU 모니터] 메모리 할당: 1364.3MB, 예약: 17592.0MB\n"
     ]
    },
    {
     "name": "stderr",
     "output_type": "stream",
     "text": [
      "       6/30      17.2G     0.5648     0.7039     0.9727        275        640:  61%|██████    | 17/28 [05:59<03:48, "
     ]
    },
    {
     "name": "stdout",
     "output_type": "stream",
     "text": [
      "[GPU 모니터] 메모리 할당: 1964.3MB, 예약: 17592.0MB\n"
     ]
    },
    {
     "name": "stderr",
     "output_type": "stream",
     "text": [
      "       6/30      17.2G     0.5695     0.6976     0.9742        286        640:  71%|███████▏  | 20/28 [07:02<02:46, "
     ]
    },
    {
     "name": "stdout",
     "output_type": "stream",
     "text": [
      "[GPU 모니터] 메모리 할당: 1364.3MB, 예약: 17592.0MB\n"
     ]
    },
    {
     "name": "stderr",
     "output_type": "stream",
     "text": [
      "       6/30      17.2G     0.5689     0.6952     0.9753        331        640:  82%|████████▏ | 23/28 [08:04<01:44, "
     ]
    },
    {
     "name": "stdout",
     "output_type": "stream",
     "text": [
      "[GPU 모니터] 메모리 할당: 15886.3MB, 예약: 17592.0MB\n"
     ]
    },
    {
     "name": "stderr",
     "output_type": "stream",
     "text": [
      "       6/30      17.2G     0.5717     0.6937     0.9758        265        640:  93%|█████████▎| 26/28 [09:06<00:41, "
     ]
    },
    {
     "name": "stdout",
     "output_type": "stream",
     "text": [
      "[GPU 모니터] 메모리 할당: 15286.3MB, 예약: 17592.0MB\n"
     ]
    },
    {
     "name": "stderr",
     "output_type": "stream",
     "text": [
      "       6/30      17.2G     0.5716     0.6945     0.9768        175        640: 100%|██████████| 28/28 [09:39<00:00, \n",
      "                 Class     Images  Instances      Box(P          R      mAP50  mAP50-95): 100%|██████████| 4/4 [00:1"
     ]
    },
    {
     "name": "stdout",
     "output_type": "stream",
     "text": [
      "                   all        801        944      0.946      0.832      0.922      0.778\n",
      "\u001b[34m\u001b[1mEarlyStopping: \u001b[0mTraining stopped early as no improvement observed in last 5 epochs. Best results observed at epoch 1, best model saved as best.pt.\n",
      "To update EarlyStopping(patience=5) pass a new patience value, i.e. `patience=300` or use `patience=0` to disable EarlyStopping.\n"
     ]
    },
    {
     "name": "stderr",
     "output_type": "stream",
     "text": [
      "\n"
     ]
    },
    {
     "name": "stdout",
     "output_type": "stream",
     "text": [
      "\n",
      "6 epochs completed in 1.029 hours.\n",
      "Optimizer stripped from runs\\detect\\yolov11n_custom_005\\weights\\last.pt, 5.5MB\n",
      "Optimizer stripped from runs\\detect\\yolov11n_custom_005\\weights\\best.pt, 5.5MB\n",
      "\n",
      "Validating runs\\detect\\yolov11n_custom_005\\weights\\best.pt...\n",
      "Ultralytics 8.3.156  Python-3.11.9 torch-2.7.1+cu128 CUDA:0 (NVIDIA GeForce RTX 4070 Laptop GPU, 8188MiB)\n",
      "YOLO11n summary (fused): 100 layers, 2,585,077 parameters, 0 gradients, 6.3 GFLOPs\n"
     ]
    },
    {
     "name": "stderr",
     "output_type": "stream",
     "text": [
      "                 Class     Images  Instances      Box(P          R      mAP50  mAP50-95):  25%|██▌       | 1/4 [00:0"
     ]
    },
    {
     "name": "stdout",
     "output_type": "stream",
     "text": [
      "[GPU 모니터] 메모리 할당: 2378.2MB, 예약: 6030.0MB\n"
     ]
    },
    {
     "name": "stderr",
     "output_type": "stream",
     "text": [
      "                 Class     Images  Instances      Box(P          R      mAP50  mAP50-95): 100%|██████████| 4/4 [00:2\n"
     ]
    },
    {
     "name": "stdout",
     "output_type": "stream",
     "text": [
      "                   all        801        944      0.939      0.881      0.947      0.815\n",
      "           Green Light         87        122      0.806      0.781      0.835      0.474\n",
      "             Red Light         74        108      0.881      0.731      0.846      0.515\n",
      "       Speed Limit 100         52         52       0.93      0.904      0.969      0.882\n",
      "       Speed Limit 110         17         17          1      0.874      0.966       0.89\n",
      "       Speed Limit 120         60         60       0.95        0.9      0.973      0.888\n",
      "        Speed Limit 20         56         56          1       0.92       0.98      0.864\n",
      "        Speed Limit 30         71         74      0.987      0.959      0.985      0.922\n",
      "        Speed Limit 40         53         55      0.963      0.935      0.981      0.857\n",
      "        Speed Limit 50         68         71      0.909      0.887      0.955      0.852\n",
      "        Speed Limit 60         76         76       0.92      0.921       0.96      0.871\n",
      "        Speed Limit 70         78         78      0.972      0.962       0.98      0.889\n",
      "        Speed Limit 80         56         56      0.983      0.893      0.959      0.848\n",
      "        Speed Limit 90         38         38       0.86      0.684      0.879      0.727\n",
      "                  Stop         81         81       0.99      0.988      0.994      0.936\n",
      "Speed: 0.8ms preprocess, 1.9ms inference, 0.0ms loss, 2.7ms postprocess per image\n",
      "Results saved to \u001b[1mruns\\detect\\yolov11n_custom_005\u001b[0m\n",
      "✅ 훈련 소요 시간: 3737.06초\n",
      "[GPU 모니터] 메모리 할당: 764.9MB, 예약: 1948.0MB\n",
      "[GPU 모니터] 메모리 할당: 764.9MB, 예약: 1948.0MB\n",
      "[GPU 모니터] 메모리 할당: 764.9MB, 예약: 1948.0MB\n",
      "[GPU 모니터] 메모리 할당: 764.9MB, 예약: 1948.0MB\n",
      "[GPU 모니터] 메모리 할당: 764.9MB, 예약: 1948.0MB\n",
      "[GPU 모니터] 메모리 할당: 764.9MB, 예약: 1948.0MB\n",
      "[GPU 모니터] 메모리 할당: 764.9MB, 예약: 1948.0MB\n",
      "[GPU 모니터] 메모리 할당: 764.9MB, 예약: 1948.0MB\n",
      "[GPU 모니터] 메모리 할당: 764.9MB, 예약: 1948.0MB\n",
      "[GPU 모니터] 메모리 할당: 764.9MB, 예약: 1948.0MB\n",
      "[GPU 모니터] 메모리 할당: 764.9MB, 예약: 1948.0MB\n",
      "[GPU 모니터] 메모리 할당: 764.9MB, 예약: 1948.0MB\n",
      "[GPU 모니터] 메모리 할당: 764.9MB, 예약: 1948.0MB\n",
      "[GPU 모니터] 메모리 할당: 764.9MB, 예약: 1948.0MB\n",
      "[GPU 모니터] 메모리 할당: 764.9MB, 예약: 1948.0MB\n",
      "[GPU 모니터] 메모리 할당: 764.9MB, 예약: 1948.0MB\n",
      "[GPU 모니터] 메모리 할당: 764.9MB, 예약: 1948.0MB\n",
      "[GPU 모니터] 메모리 할당: 764.9MB, 예약: 1948.0MB\n",
      "[GPU 모니터] 메모리 할당: 764.9MB, 예약: 1948.0MB\n",
      "[GPU 모니터] 메모리 할당: 764.9MB, 예약: 1948.0MB\n",
      "[GPU 모니터] 메모리 할당: 764.9MB, 예약: 1948.0MB\n",
      "[GPU 모니터] 메모리 할당: 764.9MB, 예약: 1948.0MB\n",
      "[GPU 모니터] 메모리 할당: 764.9MB, 예약: 1948.0MB\n",
      "[GPU 모니터] 메모리 할당: 764.9MB, 예약: 1948.0MB\n",
      "[GPU 모니터] 메모리 할당: 764.9MB, 예약: 1948.0MB\n",
      "[GPU 모니터] 메모리 할당: 764.9MB, 예약: 1948.0MB\n",
      "[GPU 모니터] 메모리 할당: 764.9MB, 예약: 1948.0MB\n",
      "[GPU 모니터] 메모리 할당: 764.9MB, 예약: 1948.0MB\n",
      "[GPU 모니터] 메모리 할당: 764.9MB, 예약: 1948.0MB\n",
      "[GPU 모니터] 메모리 할당: 764.9MB, 예약: 1948.0MB\n",
      "[GPU 모니터] 메모리 할당: 764.9MB, 예약: 1948.0MB\n",
      "[GPU 모니터] 메모리 할당: 764.9MB, 예약: 1948.0MB\n",
      "[GPU 모니터] 메모리 할당: 764.9MB, 예약: 1948.0MB\n",
      "[GPU 모니터] 메모리 할당: 764.9MB, 예약: 1948.0MB\n",
      "[GPU 모니터] 메모리 할당: 764.9MB, 예약: 1948.0MB\n",
      "[GPU 모니터] 메모리 할당: 764.9MB, 예약: 1948.0MB\n",
      "[GPU 모니터] 메모리 할당: 764.9MB, 예약: 1948.0MB\n",
      "[GPU 모니터] 메모리 할당: 764.9MB, 예약: 1948.0MB\n",
      "[GPU 모니터] 메모리 할당: 764.9MB, 예약: 1948.0MB\n",
      "[GPU 모니터] 메모리 할당: 764.9MB, 예약: 1948.0MB\n",
      "[GPU 모니터] 메모리 할당: 764.9MB, 예약: 1948.0MB\n",
      "[GPU 모니터] 메모리 할당: 764.9MB, 예약: 1948.0MB\n",
      "[GPU 모니터] 메모리 할당: 764.9MB, 예약: 1948.0MB\n",
      "[GPU 모니터] 메모리 할당: 764.9MB, 예약: 1948.0MB\n",
      "[GPU 모니터] 메모리 할당: 764.9MB, 예약: 1948.0MB\n",
      "[GPU 모니터] 메모리 할당: 764.9MB, 예약: 1948.0MB\n",
      "[GPU 모니터] 메모리 할당: 764.9MB, 예약: 1948.0MB\n",
      "[GPU 모니터] 메모리 할당: 764.9MB, 예약: 1948.0MB\n",
      "[GPU 모니터] 메모리 할당: 764.9MB, 예약: 1948.0MB\n",
      "[GPU 모니터] 메모리 할당: 764.9MB, 예약: 1948.0MB\n",
      "[GPU 모니터] 메모리 할당: 764.9MB, 예약: 1948.0MB\n",
      "[GPU 모니터] 메모리 할당: 764.9MB, 예약: 1948.0MB\n",
      "[GPU 모니터] 메모리 할당: 764.9MB, 예약: 1948.0MB\n",
      "[GPU 모니터] 메모리 할당: 764.9MB, 예약: 1948.0MB\n",
      "[GPU 모니터] 메모리 할당: 764.9MB, 예약: 1948.0MB\n",
      "[GPU 모니터] 메모리 할당: 764.9MB, 예약: 1948.0MB\n",
      "[GPU 모니터] 메모리 할당: 764.9MB, 예약: 1948.0MB\n",
      "[GPU 모니터] 메모리 할당: 764.9MB, 예약: 1948.0MB\n",
      "[GPU 모니터] 메모리 할당: 764.9MB, 예약: 1948.0MB\n",
      "[GPU 모니터] 메모리 할당: 764.9MB, 예약: 1948.0MB\n",
      "[GPU 모니터] 메모리 할당: 764.9MB, 예약: 1948.0MB\n",
      "[GPU 모니터] 메모리 할당: 764.9MB, 예약: 1948.0MB\n",
      "[GPU 모니터] 메모리 할당: 764.9MB, 예약: 1948.0MB\n",
      "[GPU 모니터] 메모리 할당: 764.9MB, 예약: 1948.0MB\n",
      "[GPU 모니터] 메모리 할당: 764.9MB, 예약: 1948.0MB\n",
      "[GPU 모니터] 메모리 할당: 764.9MB, 예약: 1948.0MB\n",
      "[GPU 모니터] 메모리 할당: 764.9MB, 예약: 1948.0MB\n",
      "[GPU 모니터] 메모리 할당: 764.9MB, 예약: 1948.0MB\n",
      "[GPU 모니터] 메모리 할당: 764.9MB, 예약: 1948.0MB\n",
      "[GPU 모니터] 메모리 할당: 764.9MB, 예약: 1948.0MB\n",
      "[GPU 모니터] 메모리 할당: 764.9MB, 예약: 1948.0MB\n",
      "[GPU 모니터] 메모리 할당: 764.9MB, 예약: 1948.0MB\n",
      "[GPU 모니터] 메모리 할당: 764.9MB, 예약: 1948.0MB\n",
      "[GPU 모니터] 메모리 할당: 764.9MB, 예약: 1948.0MB\n",
      "[GPU 모니터] 메모리 할당: 764.9MB, 예약: 1948.0MB\n",
      "[GPU 모니터] 메모리 할당: 764.9MB, 예약: 1948.0MB\n",
      "[GPU 모니터] 메모리 할당: 764.9MB, 예약: 1948.0MB\n",
      "[GPU 모니터] 메모리 할당: 764.9MB, 예약: 1948.0MB\n",
      "[GPU 모니터] 메모리 할당: 764.9MB, 예약: 1948.0MB\n",
      "[GPU 모니터] 메모리 할당: 764.9MB, 예약: 1948.0MB\n",
      "[GPU 모니터] 메모리 할당: 764.9MB, 예약: 1948.0MB\n",
      "[GPU 모니터] 메모리 할당: 764.9MB, 예약: 1948.0MB\n",
      "[GPU 모니터] 메모리 할당: 764.9MB, 예약: 1948.0MB\n",
      "[GPU 모니터] 메모리 할당: 764.9MB, 예약: 1948.0MB\n",
      "[GPU 모니터] 메모리 할당: 764.9MB, 예약: 1948.0MB\n",
      "[GPU 모니터] 메모리 할당: 764.9MB, 예약: 1948.0MB\n",
      "[GPU 모니터] 메모리 할당: 764.9MB, 예약: 1948.0MB\n",
      "[GPU 모니터] 메모리 할당: 764.9MB, 예약: 1948.0MB\n",
      "[GPU 모니터] 메모리 할당: 764.9MB, 예약: 1948.0MB\n",
      "[GPU 모니터] 메모리 할당: 764.9MB, 예약: 1948.0MB\n",
      "[GPU 모니터] 메모리 할당: 764.9MB, 예약: 1948.0MB\n",
      "[GPU 모니터] 메모리 할당: 764.9MB, 예약: 1948.0MB\n",
      "[GPU 모니터] 메모리 할당: 764.9MB, 예약: 1948.0MB\n",
      "[GPU 모니터] 메모리 할당: 764.9MB, 예약: 1948.0MB\n",
      "[GPU 모니터] 메모리 할당: 764.9MB, 예약: 1948.0MB\n",
      "[GPU 모니터] 메모리 할당: 764.9MB, 예약: 1948.0MB\n",
      "[GPU 모니터] 메모리 할당: 764.9MB, 예약: 1948.0MB\n",
      "[GPU 모니터] 메모리 할당: 764.9MB, 예약: 1948.0MB\n",
      "[GPU 모니터] 메모리 할당: 764.9MB, 예약: 1948.0MB\n",
      "[GPU 모니터] 메모리 할당: 764.9MB, 예약: 1948.0MB\n",
      "[GPU 모니터] 메모리 할당: 764.9MB, 예약: 1948.0MB\n",
      "[GPU 모니터] 메모리 할당: 764.9MB, 예약: 1948.0MB\n",
      "[GPU 모니터] 메모리 할당: 764.9MB, 예약: 1948.0MB\n",
      "[GPU 모니터] 메모리 할당: 764.9MB, 예약: 1948.0MB\n",
      "[GPU 모니터] 메모리 할당: 764.9MB, 예약: 1948.0MB\n",
      "[GPU 모니터] 메모리 할당: 764.9MB, 예약: 1948.0MB\n",
      "[GPU 모니터] 메모리 할당: 764.9MB, 예약: 1948.0MB\n",
      "[GPU 모니터] 메모리 할당: 764.9MB, 예약: 1948.0MB\n",
      "[GPU 모니터] 메모리 할당: 764.9MB, 예약: 1948.0MB\n",
      "[GPU 모니터] 메모리 할당: 764.9MB, 예약: 1948.0MB\n",
      "[GPU 모니터] 메모리 할당: 764.9MB, 예약: 1948.0MB\n",
      "[GPU 모니터] 메모리 할당: 764.9MB, 예약: 1948.0MB\n",
      "[GPU 모니터] 메모리 할당: 764.9MB, 예약: 1948.0MB\n",
      "[GPU 모니터] 메모리 할당: 764.9MB, 예약: 1948.0MB\n",
      "[GPU 모니터] 메모리 할당: 764.9MB, 예약: 1948.0MB\n",
      "[GPU 모니터] 메모리 할당: 764.9MB, 예약: 1948.0MB\n",
      "[GPU 모니터] 메모리 할당: 764.9MB, 예약: 1948.0MB\n",
      "[GPU 모니터] 메모리 할당: 764.9MB, 예약: 1948.0MB\n",
      "[GPU 모니터] 메모리 할당: 764.9MB, 예약: 1948.0MB\n",
      "[GPU 모니터] 메모리 할당: 764.9MB, 예약: 1948.0MB\n",
      "[GPU 모니터] 메모리 할당: 764.9MB, 예약: 1948.0MB\n",
      "[GPU 모니터] 메모리 할당: 764.9MB, 예약: 1948.0MB\n",
      "[GPU 모니터] 메모리 할당: 764.9MB, 예약: 1948.0MB\n",
      "[GPU 모니터] 메모리 할당: 764.9MB, 예약: 1948.0MB\n",
      "[GPU 모니터] 메모리 할당: 764.9MB, 예약: 1948.0MB\n",
      "[GPU 모니터] 메모리 할당: 764.9MB, 예약: 1948.0MB\n",
      "[GPU 모니터] 메모리 할당: 764.9MB, 예약: 1948.0MB\n",
      "[GPU 모니터] 메모리 할당: 764.9MB, 예약: 1948.0MB\n",
      "[GPU 모니터] 메모리 할당: 764.9MB, 예약: 1948.0MB\n",
      "[GPU 모니터] 메모리 할당: 764.9MB, 예약: 1948.0MB\n",
      "[GPU 모니터] 메모리 할당: 764.9MB, 예약: 1948.0MB\n",
      "[GPU 모니터] 메모리 할당: 764.9MB, 예약: 1948.0MB\n",
      "[GPU 모니터] 메모리 할당: 764.9MB, 예약: 1948.0MB\n",
      "[GPU 모니터] 메모리 할당: 764.9MB, 예약: 1948.0MB\n",
      "[GPU 모니터] 메모리 할당: 764.9MB, 예약: 1948.0MB\n",
      "[GPU 모니터] 메모리 할당: 764.9MB, 예약: 1948.0MB\n",
      "[GPU 모니터] 메모리 할당: 764.9MB, 예약: 1948.0MB\n",
      "[GPU 모니터] 메모리 할당: 764.9MB, 예약: 1948.0MB\n",
      "[GPU 모니터] 메모리 할당: 764.9MB, 예약: 1948.0MB\n",
      "[GPU 모니터] 메모리 할당: 764.9MB, 예약: 1948.0MB\n",
      "[GPU 모니터] 메모리 할당: 764.9MB, 예약: 1948.0MB\n",
      "[GPU 모니터] 메모리 할당: 764.9MB, 예약: 1948.0MB\n",
      "[GPU 모니터] 메모리 할당: 764.9MB, 예약: 1948.0MB\n",
      "[GPU 모니터] 메모리 할당: 764.9MB, 예약: 1948.0MB\n",
      "[GPU 모니터] 메모리 할당: 764.9MB, 예약: 1948.0MB\n",
      "[GPU 모니터] 메모리 할당: 764.9MB, 예약: 1948.0MB\n",
      "[GPU 모니터] 메모리 할당: 764.9MB, 예약: 1948.0MB\n",
      "[GPU 모니터] 메모리 할당: 764.9MB, 예약: 1948.0MB\n",
      "[GPU 모니터] 메모리 할당: 764.9MB, 예약: 1948.0MB\n",
      "[GPU 모니터] 메모리 할당: 764.9MB, 예약: 1948.0MB\n",
      "[GPU 모니터] 메모리 할당: 764.9MB, 예약: 1948.0MB\n",
      "[GPU 모니터] 메모리 할당: 764.9MB, 예약: 1948.0MB\n",
      "[GPU 모니터] 메모리 할당: 764.9MB, 예약: 1948.0MB\n",
      "[GPU 모니터] 메모리 할당: 764.9MB, 예약: 1948.0MB\n",
      "[GPU 모니터] 메모리 할당: 764.9MB, 예약: 1948.0MB\n",
      "[GPU 모니터] 메모리 할당: 764.9MB, 예약: 1948.0MB\n",
      "[GPU 모니터] 메모리 할당: 764.9MB, 예약: 1948.0MB\n",
      "[GPU 모니터] 메모리 할당: 764.9MB, 예약: 1948.0MB\n",
      "[GPU 모니터] 메모리 할당: 764.9MB, 예약: 1948.0MB\n",
      "[GPU 모니터] 메모리 할당: 764.9MB, 예약: 1948.0MB\n",
      "[GPU 모니터] 메모리 할당: 764.9MB, 예약: 1948.0MB\n",
      "[GPU 모니터] 메모리 할당: 764.9MB, 예약: 1948.0MB\n",
      "[GPU 모니터] 메모리 할당: 764.9MB, 예약: 1948.0MB\n",
      "[GPU 모니터] 메모리 할당: 764.9MB, 예약: 1948.0MB\n",
      "[GPU 모니터] 메모리 할당: 764.9MB, 예약: 1948.0MB\n",
      "[GPU 모니터] 메모리 할당: 764.9MB, 예약: 1948.0MB\n",
      "[GPU 모니터] 메모리 할당: 764.9MB, 예약: 1948.0MB\n",
      "[GPU 모니터] 메모리 할당: 764.9MB, 예약: 1948.0MB\n",
      "[GPU 모니터] 메모리 할당: 764.9MB, 예약: 1948.0MB\n",
      "[GPU 모니터] 메모리 할당: 764.9MB, 예약: 1948.0MB\n",
      "[GPU 모니터] 메모리 할당: 764.9MB, 예약: 1948.0MB\n",
      "[GPU 모니터] 메모리 할당: 764.9MB, 예약: 1948.0MB\n",
      "[GPU 모니터] 메모리 할당: 764.9MB, 예약: 1948.0MB\n",
      "[GPU 모니터] 메모리 할당: 764.9MB, 예약: 1948.0MB\n",
      "[GPU 모니터] 메모리 할당: 764.9MB, 예약: 1948.0MB\n",
      "[GPU 모니터] 메모리 할당: 764.9MB, 예약: 1948.0MB\n",
      "[GPU 모니터] 메모리 할당: 764.9MB, 예약: 1948.0MB\n",
      "[GPU 모니터] 메모리 할당: 764.9MB, 예약: 1948.0MB\n",
      "[GPU 모니터] 메모리 할당: 764.9MB, 예약: 1948.0MB\n",
      "[GPU 모니터] 메모리 할당: 764.9MB, 예약: 1948.0MB\n",
      "[GPU 모니터] 메모리 할당: 764.9MB, 예약: 1948.0MB\n",
      "[GPU 모니터] 메모리 할당: 764.9MB, 예약: 1948.0MB\n",
      "[GPU 모니터] 메모리 할당: 764.9MB, 예약: 1948.0MB\n",
      "[GPU 모니터] 메모리 할당: 764.9MB, 예약: 1948.0MB\n",
      "[GPU 모니터] 메모리 할당: 764.9MB, 예약: 1948.0MB\n",
      "[GPU 모니터] 메모리 할당: 764.9MB, 예약: 1948.0MB\n",
      "[GPU 모니터] 메모리 할당: 764.9MB, 예약: 1948.0MB\n",
      "[GPU 모니터] 메모리 할당: 764.9MB, 예약: 1948.0MB\n",
      "[GPU 모니터] 메모리 할당: 764.9MB, 예약: 1948.0MB\n",
      "[GPU 모니터] 메모리 할당: 764.9MB, 예약: 1948.0MB\n",
      "[GPU 모니터] 메모리 할당: 764.9MB, 예약: 1948.0MB\n",
      "[GPU 모니터] 메모리 할당: 764.9MB, 예약: 1948.0MB\n",
      "[GPU 모니터] 메모리 할당: 764.9MB, 예약: 1948.0MB\n",
      "[GPU 모니터] 메모리 할당: 764.9MB, 예약: 1948.0MB\n",
      "[GPU 모니터] 메모리 할당: 764.9MB, 예약: 1948.0MB\n",
      "[GPU 모니터] 메모리 할당: 764.9MB, 예약: 1948.0MB\n",
      "[GPU 모니터] 메모리 할당: 764.9MB, 예약: 1948.0MB\n",
      "[GPU 모니터] 메모리 할당: 764.9MB, 예약: 1948.0MB\n",
      "[GPU 모니터] 메모리 할당: 764.9MB, 예약: 1948.0MB\n",
      "[GPU 모니터] 메모리 할당: 764.9MB, 예약: 1948.0MB\n",
      "[GPU 모니터] 메모리 할당: 764.9MB, 예약: 1948.0MB\n",
      "[GPU 모니터] 메모리 할당: 764.9MB, 예약: 1948.0MB\n",
      "[GPU 모니터] 메모리 할당: 764.9MB, 예약: 1948.0MB\n",
      "[GPU 모니터] 메모리 할당: 764.9MB, 예약: 1948.0MB\n",
      "[GPU 모니터] 메모리 할당: 764.9MB, 예약: 1948.0MB\n",
      "[GPU 모니터] 메모리 할당: 764.9MB, 예약: 1948.0MB\n",
      "[GPU 모니터] 메모리 할당: 764.9MB, 예약: 1948.0MB\n",
      "[GPU 모니터] 메모리 할당: 764.9MB, 예약: 1948.0MB\n",
      "[GPU 모니터] 메모리 할당: 764.9MB, 예약: 1948.0MB\n",
      "[GPU 모니터] 메모리 할당: 764.9MB, 예약: 1948.0MB\n",
      "[GPU 모니터] 메모리 할당: 764.9MB, 예약: 1948.0MB\n",
      "[GPU 모니터] 메모리 할당: 764.9MB, 예약: 1948.0MB\n",
      "[GPU 모니터] 메모리 할당: 764.9MB, 예약: 1948.0MB\n",
      "[GPU 모니터] 메모리 할당: 764.9MB, 예약: 1948.0MB\n",
      "[GPU 모니터] 메모리 할당: 764.9MB, 예약: 1948.0MB\n",
      "[GPU 모니터] 메모리 할당: 764.9MB, 예약: 1948.0MB\n",
      "[GPU 모니터] 메모리 할당: 764.9MB, 예약: 1948.0MB\n",
      "[GPU 모니터] 메모리 할당: 764.9MB, 예약: 1948.0MB\n",
      "[GPU 모니터] 메모리 할당: 764.9MB, 예약: 1948.0MB\n",
      "[GPU 모니터] 메모리 할당: 764.9MB, 예약: 1948.0MB\n",
      "[GPU 모니터] 메모리 할당: 764.9MB, 예약: 1948.0MB\n",
      "[GPU 모니터] 메모리 할당: 764.9MB, 예약: 1948.0MB\n",
      "[GPU 모니터] 메모리 할당: 764.9MB, 예약: 1948.0MB\n",
      "[GPU 모니터] 메모리 할당: 764.9MB, 예약: 1948.0MB\n",
      "[GPU 모니터] 메모리 할당: 764.9MB, 예약: 1948.0MB\n",
      "[GPU 모니터] 메모리 할당: 764.9MB, 예약: 1948.0MB\n",
      "[GPU 모니터] 메모리 할당: 764.9MB, 예약: 1948.0MB\n",
      "[GPU 모니터] 메모리 할당: 764.9MB, 예약: 1948.0MB\n",
      "[GPU 모니터] 메모리 할당: 764.9MB, 예약: 1948.0MB\n",
      "[GPU 모니터] 메모리 할당: 764.9MB, 예약: 1948.0MB\n",
      "[GPU 모니터] 메모리 할당: 764.9MB, 예약: 1948.0MB\n",
      "[GPU 모니터] 메모리 할당: 764.9MB, 예약: 1948.0MB\n",
      "[GPU 모니터] 메모리 할당: 764.9MB, 예약: 1948.0MB\n",
      "[GPU 모니터] 메모리 할당: 764.9MB, 예약: 1948.0MB\n",
      "[GPU 모니터] 메모리 할당: 764.9MB, 예약: 1948.0MB\n",
      "[GPU 모니터] 메모리 할당: 764.9MB, 예약: 1948.0MB\n",
      "[GPU 모니터] 메모리 할당: 764.9MB, 예약: 1948.0MB\n",
      "[GPU 모니터] 메모리 할당: 764.9MB, 예약: 1948.0MB\n",
      "[GPU 모니터] 메모리 할당: 764.9MB, 예약: 1948.0MB\n",
      "[GPU 모니터] 메모리 할당: 764.9MB, 예약: 1948.0MB\n",
      "[GPU 모니터] 메모리 할당: 764.9MB, 예약: 1948.0MB\n",
      "[GPU 모니터] 메모리 할당: 764.9MB, 예약: 1948.0MB\n",
      "[GPU 모니터] 메모리 할당: 764.9MB, 예약: 1948.0MB\n",
      "[GPU 모니터] 메모리 할당: 764.9MB, 예약: 1948.0MB\n",
      "[GPU 모니터] 메모리 할당: 764.9MB, 예약: 1948.0MB\n",
      "[GPU 모니터] 메모리 할당: 764.9MB, 예약: 1948.0MB\n",
      "[GPU 모니터] 메모리 할당: 764.9MB, 예약: 1948.0MB\n",
      "[GPU 모니터] 메모리 할당: 764.9MB, 예약: 1948.0MB\n",
      "[GPU 모니터] 메모리 할당: 764.9MB, 예약: 1948.0MB\n",
      "[GPU 모니터] 메모리 할당: 764.9MB, 예약: 1948.0MB\n",
      "[GPU 모니터] 메모리 할당: 764.9MB, 예약: 1948.0MB\n",
      "[GPU 모니터] 메모리 할당: 764.9MB, 예약: 1948.0MB\n",
      "[GPU 모니터] 메모리 할당: 764.9MB, 예약: 1948.0MB\n",
      "[GPU 모니터] 메모리 할당: 764.9MB, 예약: 1948.0MB\n",
      "[GPU 모니터] 메모리 할당: 764.9MB, 예약: 1948.0MB\n",
      "[GPU 모니터] 메모리 할당: 764.9MB, 예약: 1948.0MB\n",
      "[GPU 모니터] 메모리 할당: 764.9MB, 예약: 1948.0MB\n",
      "[GPU 모니터] 메모리 할당: 764.9MB, 예약: 1948.0MB\n",
      "[GPU 모니터] 메모리 할당: 764.9MB, 예약: 1948.0MB\n",
      "[GPU 모니터] 메모리 할당: 764.9MB, 예약: 1948.0MB\n",
      "[GPU 모니터] 메모리 할당: 764.9MB, 예약: 1948.0MB\n",
      "[GPU 모니터] 메모리 할당: 764.9MB, 예약: 1948.0MB\n",
      "[GPU 모니터] 메모리 할당: 764.9MB, 예약: 1948.0MB\n",
      "[GPU 모니터] 메모리 할당: 764.9MB, 예약: 1948.0MB\n",
      "[GPU 모니터] 메모리 할당: 764.9MB, 예약: 1948.0MB\n",
      "[GPU 모니터] 메모리 할당: 764.9MB, 예약: 1948.0MB\n",
      "[GPU 모니터] 메모리 할당: 764.9MB, 예약: 1948.0MB\n",
      "[GPU 모니터] 메모리 할당: 764.9MB, 예약: 1948.0MB\n",
      "[GPU 모니터] 메모리 할당: 764.9MB, 예약: 1948.0MB\n",
      "[GPU 모니터] 메모리 할당: 764.9MB, 예약: 1948.0MB\n",
      "[GPU 모니터] 메모리 할당: 764.9MB, 예약: 1948.0MB\n",
      "[GPU 모니터] 메모리 할당: 764.9MB, 예약: 1948.0MB\n",
      "[GPU 모니터] 메모리 할당: 764.9MB, 예약: 1948.0MB\n",
      "[GPU 모니터] 메모리 할당: 764.9MB, 예약: 1948.0MB\n",
      "[GPU 모니터] 메모리 할당: 764.9MB, 예약: 1948.0MB\n",
      "[GPU 모니터] 메모리 할당: 764.9MB, 예약: 1948.0MB\n",
      "[GPU 모니터] 메모리 할당: 764.9MB, 예약: 1948.0MB\n",
      "[GPU 모니터] 메모리 할당: 764.9MB, 예약: 1948.0MB\n",
      "[GPU 모니터] 메모리 할당: 764.9MB, 예약: 1948.0MB\n",
      "[GPU 모니터] 메모리 할당: 764.9MB, 예약: 1948.0MB\n",
      "[GPU 모니터] 메모리 할당: 764.9MB, 예약: 1948.0MB\n",
      "[GPU 모니터] 메모리 할당: 764.9MB, 예약: 1948.0MB\n",
      "[GPU 모니터] 메모리 할당: 764.9MB, 예약: 1948.0MB\n",
      "[GPU 모니터] 메모리 할당: 764.9MB, 예약: 1948.0MB\n",
      "[GPU 모니터] 메모리 할당: 764.9MB, 예약: 1948.0MB\n",
      "[GPU 모니터] 메모리 할당: 764.9MB, 예약: 1948.0MB\n",
      "[GPU 모니터] 메모리 할당: 764.9MB, 예약: 1948.0MB\n",
      "[GPU 모니터] 메모리 할당: 764.9MB, 예약: 1948.0MB\n",
      "[GPU 모니터] 메모리 할당: 764.9MB, 예약: 1948.0MB\n",
      "[GPU 모니터] 메모리 할당: 764.9MB, 예약: 1948.0MB\n",
      "[GPU 모니터] 메모리 할당: 764.9MB, 예약: 1948.0MB\n",
      "[GPU 모니터] 메모리 할당: 764.9MB, 예약: 1948.0MB\n",
      "[GPU 모니터] 메모리 할당: 764.9MB, 예약: 1948.0MB\n",
      "[GPU 모니터] 메모리 할당: 764.9MB, 예약: 1948.0MB\n",
      "[GPU 모니터] 메모리 할당: 764.9MB, 예약: 1948.0MB\n",
      "[GPU 모니터] 메모리 할당: 764.9MB, 예약: 1948.0MB\n",
      "[GPU 모니터] 메모리 할당: 764.9MB, 예약: 1948.0MB\n",
      "[GPU 모니터] 메모리 할당: 764.9MB, 예약: 1948.0MB\n",
      "[GPU 모니터] 메모리 할당: 764.9MB, 예약: 1948.0MB\n",
      "[GPU 모니터] 메모리 할당: 764.9MB, 예약: 1948.0MB\n",
      "[GPU 모니터] 메모리 할당: 764.9MB, 예약: 1948.0MB\n",
      "[GPU 모니터] 메모리 할당: 764.9MB, 예약: 1948.0MB\n",
      "[GPU 모니터] 메모리 할당: 764.9MB, 예약: 1948.0MB\n",
      "[GPU 모니터] 메모리 할당: 764.9MB, 예약: 1948.0MB\n",
      "[GPU 모니터] 메모리 할당: 764.9MB, 예약: 1948.0MB\n",
      "[GPU 모니터] 메모리 할당: 764.9MB, 예약: 1948.0MB\n",
      "[GPU 모니터] 메모리 할당: 764.9MB, 예약: 1948.0MB\n",
      "[GPU 모니터] 메모리 할당: 764.9MB, 예약: 1948.0MB\n",
      "[GPU 모니터] 메모리 할당: 764.9MB, 예약: 1948.0MB\n",
      "[GPU 모니터] 메모리 할당: 764.9MB, 예약: 1948.0MB\n",
      "[GPU 모니터] 메모리 할당: 764.9MB, 예약: 1948.0MB\n",
      "[GPU 모니터] 메모리 할당: 764.9MB, 예약: 1948.0MB\n",
      "[GPU 모니터] 메모리 할당: 764.9MB, 예약: 1948.0MB\n",
      "[GPU 모니터] 메모리 할당: 764.9MB, 예약: 1948.0MB\n",
      "[GPU 모니터] 메모리 할당: 764.9MB, 예약: 1948.0MB\n",
      "[GPU 모니터] 메모리 할당: 764.9MB, 예약: 1948.0MB\n",
      "[GPU 모니터] 메모리 할당: 764.9MB, 예약: 1948.0MB\n",
      "[GPU 모니터] 메모리 할당: 764.9MB, 예약: 1948.0MB\n",
      "[GPU 모니터] 메모리 할당: 764.9MB, 예약: 1948.0MB\n",
      "[GPU 모니터] 메모리 할당: 764.9MB, 예약: 1948.0MB\n",
      "[GPU 모니터] 메모리 할당: 764.9MB, 예약: 1948.0MB\n",
      "[GPU 모니터] 메모리 할당: 764.9MB, 예약: 1948.0MB\n",
      "[GPU 모니터] 메모리 할당: 764.9MB, 예약: 1948.0MB\n",
      "[GPU 모니터] 메모리 할당: 764.9MB, 예약: 1948.0MB\n",
      "[GPU 모니터] 메모리 할당: 764.9MB, 예약: 1948.0MB\n",
      "[GPU 모니터] 메모리 할당: 764.9MB, 예약: 1948.0MB\n",
      "[GPU 모니터] 메모리 할당: 764.9MB, 예약: 1948.0MB\n",
      "[GPU 모니터] 메모리 할당: 764.9MB, 예약: 1948.0MB\n",
      "[GPU 모니터] 메모리 할당: 764.9MB, 예약: 1948.0MB\n",
      "[GPU 모니터] 메모리 할당: 764.9MB, 예약: 1948.0MB\n",
      "[GPU 모니터] 메모리 할당: 764.9MB, 예약: 1948.0MB\n",
      "[GPU 모니터] 메모리 할당: 764.9MB, 예약: 1948.0MB\n",
      "[GPU 모니터] 메모리 할당: 764.9MB, 예약: 1948.0MB\n",
      "[GPU 모니터] 메모리 할당: 764.9MB, 예약: 1948.0MB\n",
      "[GPU 모니터] 메모리 할당: 764.9MB, 예약: 1948.0MB\n",
      "[GPU 모니터] 메모리 할당: 764.9MB, 예약: 1948.0MB\n",
      "[GPU 모니터] 메모리 할당: 764.9MB, 예약: 1948.0MB\n",
      "[GPU 모니터] 메모리 할당: 764.9MB, 예약: 1948.0MB\n",
      "[GPU 모니터] 메모리 할당: 764.9MB, 예약: 1948.0MB\n",
      "[GPU 모니터] 메모리 할당: 764.9MB, 예약: 1948.0MB\n",
      "[GPU 모니터] 메모리 할당: 764.9MB, 예약: 1948.0MB\n",
      "[GPU 모니터] 메모리 할당: 764.9MB, 예약: 1948.0MB\n",
      "[GPU 모니터] 메모리 할당: 764.9MB, 예약: 1948.0MB\n",
      "[GPU 모니터] 메모리 할당: 764.9MB, 예약: 1948.0MB\n",
      "[GPU 모니터] 메모리 할당: 764.9MB, 예약: 1948.0MB\n",
      "[GPU 모니터] 메모리 할당: 764.9MB, 예약: 1948.0MB\n",
      "[GPU 모니터] 메모리 할당: 764.9MB, 예약: 1948.0MB\n",
      "[GPU 모니터] 메모리 할당: 764.9MB, 예약: 1948.0MB\n",
      "[GPU 모니터] 메모리 할당: 764.9MB, 예약: 1948.0MB\n",
      "[GPU 모니터] 메모리 할당: 764.9MB, 예약: 1948.0MB\n",
      "[GPU 모니터] 메모리 할당: 764.9MB, 예약: 1948.0MB\n",
      "[GPU 모니터] 메모리 할당: 764.9MB, 예약: 1948.0MB\n",
      "[GPU 모니터] 메모리 할당: 764.9MB, 예약: 1948.0MB\n",
      "[GPU 모니터] 메모리 할당: 764.9MB, 예약: 1948.0MB\n",
      "[GPU 모니터] 메모리 할당: 764.9MB, 예약: 1948.0MB\n",
      "[GPU 모니터] 메모리 할당: 764.9MB, 예약: 1948.0MB\n",
      "[GPU 모니터] 메모리 할당: 764.9MB, 예약: 1948.0MB\n",
      "[GPU 모니터] 메모리 할당: 764.9MB, 예약: 1948.0MB\n",
      "[GPU 모니터] 메모리 할당: 764.9MB, 예약: 1948.0MB\n",
      "[GPU 모니터] 메모리 할당: 764.9MB, 예약: 1948.0MB\n",
      "[GPU 모니터] 메모리 할당: 764.9MB, 예약: 1948.0MB\n",
      "[GPU 모니터] 메모리 할당: 764.9MB, 예약: 1948.0MB\n",
      "[GPU 모니터] 메모리 할당: 764.9MB, 예약: 1948.0MB\n",
      "[GPU 모니터] 메모리 할당: 764.9MB, 예약: 1948.0MB\n",
      "[GPU 모니터] 메모리 할당: 764.9MB, 예약: 1948.0MB\n",
      "[GPU 모니터] 메모리 할당: 764.9MB, 예약: 1948.0MB\n",
      "[GPU 모니터] 메모리 할당: 764.9MB, 예약: 1948.0MB\n",
      "[GPU 모니터] 메모리 할당: 764.9MB, 예약: 1948.0MB\n",
      "[GPU 모니터] 메모리 할당: 764.9MB, 예약: 1948.0MB\n",
      "[GPU 모니터] 메모리 할당: 764.9MB, 예약: 1948.0MB\n",
      "[GPU 모니터] 메모리 할당: 764.9MB, 예약: 1948.0MB\n",
      "[GPU 모니터] 메모리 할당: 764.9MB, 예약: 1948.0MB\n",
      "[GPU 모니터] 메모리 할당: 764.9MB, 예약: 1948.0MB\n",
      "[GPU 모니터] 메모리 할당: 764.9MB, 예약: 1948.0MB\n",
      "[GPU 모니터] 메모리 할당: 764.9MB, 예약: 1948.0MB\n",
      "[GPU 모니터] 메모리 할당: 764.9MB, 예약: 1948.0MB\n",
      "[GPU 모니터] 메모리 할당: 764.9MB, 예약: 1948.0MB\n",
      "[GPU 모니터] 메모리 할당: 764.9MB, 예약: 1948.0MB\n",
      "[GPU 모니터] 메모리 할당: 764.9MB, 예약: 1948.0MB\n",
      "[GPU 모니터] 메모리 할당: 764.9MB, 예약: 1948.0MB\n",
      "[GPU 모니터] 메모리 할당: 764.9MB, 예약: 1948.0MB\n",
      "[GPU 모니터] 메모리 할당: 764.9MB, 예약: 1948.0MB\n",
      "[GPU 모니터] 메모리 할당: 764.9MB, 예약: 1948.0MB\n",
      "[GPU 모니터] 메모리 할당: 764.9MB, 예약: 1948.0MB\n",
      "[GPU 모니터] 메모리 할당: 764.9MB, 예약: 1948.0MB\n",
      "[GPU 모니터] 메모리 할당: 764.9MB, 예약: 1948.0MB\n",
      "[GPU 모니터] 메모리 할당: 764.9MB, 예약: 1948.0MB\n",
      "[GPU 모니터] 메모리 할당: 764.9MB, 예약: 1948.0MB\n",
      "[GPU 모니터] 메모리 할당: 764.9MB, 예약: 1948.0MB\n",
      "[GPU 모니터] 메모리 할당: 764.9MB, 예약: 1948.0MB\n",
      "[GPU 모니터] 메모리 할당: 764.9MB, 예약: 1948.0MB\n",
      "[GPU 모니터] 메모리 할당: 764.9MB, 예약: 1948.0MB\n",
      "[GPU 모니터] 메모리 할당: 764.9MB, 예약: 1948.0MB\n",
      "[GPU 모니터] 메모리 할당: 764.9MB, 예약: 1948.0MB\n",
      "[GPU 모니터] 메모리 할당: 764.9MB, 예약: 1948.0MB\n",
      "[GPU 모니터] 메모리 할당: 764.9MB, 예약: 1948.0MB\n",
      "[GPU 모니터] 메모리 할당: 764.9MB, 예약: 1948.0MB\n",
      "[GPU 모니터] 메모리 할당: 764.9MB, 예약: 1948.0MB\n",
      "[GPU 모니터] 메모리 할당: 764.9MB, 예약: 1948.0MB\n",
      "[GPU 모니터] 메모리 할당: 764.9MB, 예약: 1948.0MB\n",
      "[GPU 모니터] 메모리 할당: 764.9MB, 예약: 1948.0MB\n",
      "[GPU 모니터] 메모리 할당: 764.9MB, 예약: 1948.0MB\n",
      "[GPU 모니터] 메모리 할당: 764.9MB, 예약: 1948.0MB\n",
      "[GPU 모니터] 메모리 할당: 764.9MB, 예약: 1948.0MB\n",
      "[GPU 모니터] 메모리 할당: 764.9MB, 예약: 1948.0MB\n",
      "[GPU 모니터] 메모리 할당: 764.9MB, 예약: 1948.0MB\n",
      "[GPU 모니터] 메모리 할당: 764.9MB, 예약: 1948.0MB\n",
      "[GPU 모니터] 메모리 할당: 764.9MB, 예약: 1948.0MB\n",
      "[GPU 모니터] 메모리 할당: 764.9MB, 예약: 1948.0MB\n",
      "[GPU 모니터] 메모리 할당: 764.9MB, 예약: 1948.0MB\n",
      "[GPU 모니터] 메모리 할당: 764.9MB, 예약: 1948.0MB\n",
      "[GPU 모니터] 메모리 할당: 764.9MB, 예약: 1948.0MB\n",
      "[GPU 모니터] 메모리 할당: 764.9MB, 예약: 1948.0MB\n",
      "[GPU 모니터] 메모리 할당: 764.9MB, 예약: 1948.0MB\n",
      "[GPU 모니터] 메모리 할당: 764.9MB, 예약: 1948.0MB\n",
      "[GPU 모니터] 메모리 할당: 764.9MB, 예약: 1948.0MB\n",
      "[GPU 모니터] 메모리 할당: 764.9MB, 예약: 1948.0MB\n",
      "[GPU 모니터] 메모리 할당: 764.9MB, 예약: 1948.0MB\n",
      "[GPU 모니터] 메모리 할당: 764.9MB, 예약: 1948.0MB\n",
      "[GPU 모니터] 메모리 할당: 764.9MB, 예약: 1948.0MB\n",
      "[GPU 모니터] 메모리 할당: 764.9MB, 예약: 1948.0MB\n",
      "[GPU 모니터] 메모리 할당: 764.9MB, 예약: 1948.0MB\n",
      "[GPU 모니터] 메모리 할당: 764.9MB, 예약: 1948.0MB\n",
      "[GPU 모니터] 메모리 할당: 764.9MB, 예약: 1948.0MB\n",
      "[GPU 모니터] 메모리 할당: 764.9MB, 예약: 1948.0MB\n",
      "[GPU 모니터] 메모리 할당: 764.9MB, 예약: 1948.0MB\n",
      "[GPU 모니터] 메모리 할당: 764.9MB, 예약: 1948.0MB\n",
      "[GPU 모니터] 메모리 할당: 764.9MB, 예약: 1948.0MB\n",
      "[GPU 모니터] 메모리 할당: 764.9MB, 예약: 1948.0MB\n",
      "[GPU 모니터] 메모리 할당: 764.9MB, 예약: 1948.0MB\n",
      "[GPU 모니터] 메모리 할당: 764.9MB, 예약: 1948.0MB\n",
      "[GPU 모니터] 메모리 할당: 764.9MB, 예약: 1948.0MB\n",
      "[GPU 모니터] 메모리 할당: 764.9MB, 예약: 1948.0MB\n",
      "[GPU 모니터] 메모리 할당: 764.9MB, 예약: 1948.0MB\n",
      "[GPU 모니터] 메모리 할당: 764.9MB, 예약: 1948.0MB\n",
      "[GPU 모니터] 메모리 할당: 764.9MB, 예약: 1948.0MB\n",
      "[GPU 모니터] 메모리 할당: 764.9MB, 예약: 1948.0MB\n",
      "[GPU 모니터] 메모리 할당: 764.9MB, 예약: 1948.0MB\n",
      "[GPU 모니터] 메모리 할당: 764.9MB, 예약: 1948.0MB\n",
      "[GPU 모니터] 메모리 할당: 764.9MB, 예약: 1948.0MB\n",
      "[GPU 모니터] 메모리 할당: 764.9MB, 예약: 1948.0MB\n",
      "[GPU 모니터] 메모리 할당: 764.9MB, 예약: 1948.0MB\n",
      "[GPU 모니터] 메모리 할당: 764.9MB, 예약: 1948.0MB\n",
      "[GPU 모니터] 메모리 할당: 764.9MB, 예약: 1948.0MB\n",
      "[GPU 모니터] 메모리 할당: 764.9MB, 예약: 1948.0MB\n",
      "[GPU 모니터] 메모리 할당: 764.9MB, 예약: 1948.0MB\n",
      "[GPU 모니터] 메모리 할당: 764.9MB, 예약: 1948.0MB\n",
      "[GPU 모니터] 메모리 할당: 764.9MB, 예약: 1948.0MB\n",
      "[GPU 모니터] 메모리 할당: 764.9MB, 예약: 1948.0MB\n",
      "[GPU 모니터] 메모리 할당: 764.9MB, 예약: 1948.0MB\n",
      "[GPU 모니터] 메모리 할당: 764.9MB, 예약: 1948.0MB\n",
      "[GPU 모니터] 메모리 할당: 764.9MB, 예약: 1948.0MB\n",
      "[GPU 모니터] 메모리 할당: 764.9MB, 예약: 1948.0MB\n",
      "[GPU 모니터] 메모리 할당: 764.9MB, 예약: 1948.0MB\n",
      "[GPU 모니터] 메모리 할당: 764.9MB, 예약: 1948.0MB\n",
      "[GPU 모니터] 메모리 할당: 764.9MB, 예약: 1948.0MB\n",
      "[GPU 모니터] 메모리 할당: 764.9MB, 예약: 1948.0MB\n",
      "[GPU 모니터] 메모리 할당: 764.9MB, 예약: 1948.0MB\n",
      "[GPU 모니터] 메모리 할당: 764.9MB, 예약: 1948.0MB\n",
      "[GPU 모니터] 메모리 할당: 764.9MB, 예약: 1948.0MB\n",
      "[GPU 모니터] 메모리 할당: 764.9MB, 예약: 1948.0MB\n",
      "[GPU 모니터] 메모리 할당: 764.9MB, 예약: 1948.0MB\n",
      "[GPU 모니터] 메모리 할당: 764.9MB, 예약: 1948.0MB\n",
      "[GPU 모니터] 메모리 할당: 764.9MB, 예약: 1948.0MB\n",
      "[GPU 모니터] 메모리 할당: 764.9MB, 예약: 1948.0MB\n",
      "[GPU 모니터] 메모리 할당: 764.9MB, 예약: 1948.0MB\n",
      "[GPU 모니터] 메모리 할당: 764.9MB, 예약: 1948.0MB\n",
      "[GPU 모니터] 메모리 할당: 764.9MB, 예약: 1948.0MB\n",
      "[GPU 모니터] 메모리 할당: 764.9MB, 예약: 1948.0MB\n",
      "[GPU 모니터] 메모리 할당: 764.9MB, 예약: 1948.0MB\n",
      "[GPU 모니터] 메모리 할당: 764.9MB, 예약: 1948.0MB\n",
      "[GPU 모니터] 메모리 할당: 764.9MB, 예약: 1948.0MB\n",
      "[GPU 모니터] 메모리 할당: 764.9MB, 예약: 1948.0MB\n",
      "[GPU 모니터] 메모리 할당: 764.9MB, 예약: 1948.0MB\n",
      "[GPU 모니터] 메모리 할당: 764.9MB, 예약: 1948.0MB\n",
      "[GPU 모니터] 메모리 할당: 764.9MB, 예약: 1948.0MB\n",
      "[GPU 모니터] 메모리 할당: 764.9MB, 예약: 1948.0MB\n",
      "[GPU 모니터] 메모리 할당: 764.9MB, 예약: 1948.0MB\n",
      "[GPU 모니터] 메모리 할당: 764.9MB, 예약: 1948.0MB\n",
      "[GPU 모니터] 메모리 할당: 764.9MB, 예약: 1948.0MB\n",
      "[GPU 모니터] 메모리 할당: 764.9MB, 예약: 1948.0MB\n",
      "[GPU 모니터] 메모리 할당: 764.9MB, 예약: 1948.0MB\n",
      "[GPU 모니터] 메모리 할당: 764.9MB, 예약: 1948.0MB\n",
      "[GPU 모니터] 메모리 할당: 764.9MB, 예약: 1948.0MB\n",
      "[GPU 모니터] 메모리 할당: 764.9MB, 예약: 1948.0MB\n",
      "[GPU 모니터] 메모리 할당: 764.9MB, 예약: 1948.0MB\n",
      "[GPU 모니터] 메모리 할당: 764.9MB, 예약: 1948.0MB\n",
      "[GPU 모니터] 메모리 할당: 764.9MB, 예약: 1948.0MB\n",
      "[GPU 모니터] 메모리 할당: 764.9MB, 예약: 1948.0MB\n",
      "[GPU 모니터] 메모리 할당: 764.9MB, 예약: 1948.0MB\n",
      "[GPU 모니터] 메모리 할당: 764.9MB, 예약: 1948.0MB\n",
      "[GPU 모니터] 메모리 할당: 764.9MB, 예약: 1948.0MB\n",
      "[GPU 모니터] 메모리 할당: 764.9MB, 예약: 1948.0MB\n",
      "[GPU 모니터] 메모리 할당: 764.9MB, 예약: 1948.0MB\n",
      "[GPU 모니터] 메모리 할당: 764.9MB, 예약: 1948.0MB\n",
      "[GPU 모니터] 메모리 할당: 764.9MB, 예약: 1948.0MB\n",
      "[GPU 모니터] 메모리 할당: 764.9MB, 예약: 1948.0MB\n",
      "[GPU 모니터] 메모리 할당: 764.9MB, 예약: 1948.0MB\n",
      "[GPU 모니터] 메모리 할당: 764.9MB, 예약: 1948.0MB\n",
      "[GPU 모니터] 메모리 할당: 764.9MB, 예약: 1948.0MB\n",
      "[GPU 모니터] 메모리 할당: 764.9MB, 예약: 1948.0MB\n",
      "[GPU 모니터] 메모리 할당: 764.9MB, 예약: 1948.0MB\n",
      "[GPU 모니터] 메모리 할당: 764.9MB, 예약: 1948.0MB\n",
      "[GPU 모니터] 메모리 할당: 764.9MB, 예약: 1948.0MB\n",
      "[GPU 모니터] 메모리 할당: 764.9MB, 예약: 1948.0MB\n",
      "[GPU 모니터] 메모리 할당: 764.9MB, 예약: 1948.0MB\n",
      "[GPU 모니터] 메모리 할당: 764.9MB, 예약: 1948.0MB\n",
      "[GPU 모니터] 메모리 할당: 764.9MB, 예약: 1948.0MB\n",
      "[GPU 모니터] 메모리 할당: 764.9MB, 예약: 1948.0MB\n",
      "[GPU 모니터] 메모리 할당: 764.9MB, 예약: 1948.0MB\n",
      "[GPU 모니터] 메모리 할당: 764.9MB, 예약: 1948.0MB\n",
      "[GPU 모니터] 메모리 할당: 764.9MB, 예약: 1948.0MB\n",
      "[GPU 모니터] 메모리 할당: 764.9MB, 예약: 1948.0MB\n",
      "[GPU 모니터] 메모리 할당: 764.9MB, 예약: 1948.0MB\n",
      "[GPU 모니터] 메모리 할당: 764.9MB, 예약: 1948.0MB\n",
      "[GPU 모니터] 메모리 할당: 764.9MB, 예약: 1948.0MB\n",
      "[GPU 모니터] 메모리 할당: 764.9MB, 예약: 1948.0MB\n",
      "[GPU 모니터] 메모리 할당: 764.9MB, 예약: 1948.0MB\n",
      "[GPU 모니터] 메모리 할당: 764.9MB, 예약: 1948.0MB\n",
      "[GPU 모니터] 메모리 할당: 764.9MB, 예약: 1948.0MB\n",
      "[GPU 모니터] 메모리 할당: 764.9MB, 예약: 1948.0MB\n",
      "[GPU 모니터] 메모리 할당: 764.9MB, 예약: 1948.0MB\n",
      "[GPU 모니터] 메모리 할당: 764.9MB, 예약: 1948.0MB\n",
      "[GPU 모니터] 메모리 할당: 764.9MB, 예약: 1948.0MB\n",
      "[GPU 모니터] 메모리 할당: 764.9MB, 예약: 1948.0MB\n",
      "[GPU 모니터] 메모리 할당: 764.9MB, 예약: 1948.0MB\n",
      "[GPU 모니터] 메모리 할당: 764.9MB, 예약: 1948.0MB\n",
      "[GPU 모니터] 메모리 할당: 764.9MB, 예약: 1948.0MB\n",
      "[GPU 모니터] 메모리 할당: 764.9MB, 예약: 1948.0MB\n",
      "[GPU 모니터] 메모리 할당: 764.9MB, 예약: 1948.0MB\n",
      "[GPU 모니터] 메모리 할당: 764.9MB, 예약: 1948.0MB\n",
      "[GPU 모니터] 메모리 할당: 764.9MB, 예약: 1948.0MB\n",
      "[GPU 모니터] 메모리 할당: 764.9MB, 예약: 1948.0MB\n",
      "[GPU 모니터] 메모리 할당: 764.9MB, 예약: 1948.0MB\n",
      "[GPU 모니터] 메모리 할당: 764.9MB, 예약: 1948.0MB\n",
      "[GPU 모니터] 메모리 할당: 764.9MB, 예약: 1948.0MB\n",
      "[GPU 모니터] 메모리 할당: 764.9MB, 예약: 1948.0MB\n",
      "[GPU 모니터] 메모리 할당: 764.9MB, 예약: 1948.0MB\n",
      "[GPU 모니터] 메모리 할당: 764.9MB, 예약: 1948.0MB\n",
      "[GPU 모니터] 메모리 할당: 764.9MB, 예약: 1948.0MB\n",
      "[GPU 모니터] 메모리 할당: 764.9MB, 예약: 1948.0MB\n",
      "[GPU 모니터] 메모리 할당: 764.9MB, 예약: 1948.0MB\n",
      "[GPU 모니터] 메모리 할당: 764.9MB, 예약: 1948.0MB\n",
      "[GPU 모니터] 메모리 할당: 764.9MB, 예약: 1948.0MB\n",
      "[GPU 모니터] 메모리 할당: 764.9MB, 예약: 1948.0MB\n",
      "[GPU 모니터] 메모리 할당: 764.9MB, 예약: 1948.0MB\n",
      "[GPU 모니터] 메모리 할당: 764.9MB, 예약: 1948.0MB\n"
     ]
    }
   ],
   "source": [
    "os.environ[\"CUDA_VISIBLE_DEVICES\"] = \"0\"\n",
    "\n",
    "# GPU 메모리 사용량 주기적으로 출력 (간격 60초로 조정)\n",
    "def gpu_monitor():\n",
    "    while True:\n",
    "        if torch.cuda.is_available():\n",
    "            mem_alloc = torch.cuda.memory_allocated() / 1024**2\n",
    "            mem_reserved = torch.cuda.memory_reserved() / 1024**2\n",
    "            print(f\"[GPU 모니터] 메모리 할당: {mem_alloc:.1f}MB, 예약: {mem_reserved:.1f}MB\")\n",
    "        time.sleep(60)  # 60초 간격\n",
    "\n",
    "monitor_thread = threading.Thread(target=gpu_monitor, daemon=True)\n",
    "monitor_thread.start()\n",
    "\n",
    "# 모델 로드\n",
    "#model = YOLO('yolo11n.pt')\n",
    "model = YOLO('runs/detect/yolov11n_custom_003/weights/best.pt')  # 기존 모델에서 이어서 학습 시\n",
    "\n",
    "# 하이퍼파라미터 튜닝 포함한 train 함수 호출\n",
    "start_time = time.time()\n",
    "\n",
    "model.train(\n",
    "    data='data.yaml',\n",
    "    epochs=30,\n",
    "    imgsz=640,\n",
    "    name=run_name,\n",
    "    device='0',\n",
    "    workers=0,\n",
    "    verbose=True,\n",
    "\n",
    "    batch=128,\n",
    "    patience=5,   # 5 epoch 동안 개선 없으면 중단 (Early Stopping)\n",
    "    #weight_decay=0.001, # 모델 복잡도 억제 (L2 패널티 효과)\n",
    "    #label_smoothing=0.1, # 모델의 과신(overconfidence) 억제\n",
    "    #cos_lr=True,  # 코사인 방식 학습률 스케줄링 활성화 (부드러운 학습률 감소, 안정적 수렴)\n",
    ")\n",
    "\n",
    "train_duration = time.time() - start_time\n",
    "print(f\"✅ 훈련 소요 시간: {train_duration:.2f}초\")"
   ]
  },
  {
   "cell_type": "code",
   "execution_count": null,
   "id": "60c0b627-b4cd-49b0-850c-16cf9be24ff7",
   "metadata": {},
   "outputs": [],
   "source": [
    "# 📌 [7] 검증 수행\n",
    "# start_val = time.time()\n",
    "\n",
    "# model = YOLO(f'runs/detect/{run_name}/weights/best.pt')\n",
    "# results = model.val()\n",
    "# val_duration = time.time() - start_val\n",
    "# print(f\"✅ 검증 소요 시간: {val_duration:.2f}초\")\n",
    "# print(f\"mAP50: {results.box.map50:.4f}, mAP50-95: {results.box.map:.4f}\")\n",
    "\n",
    "# # PR Curve 시각화 (val 결과 내 PR curve 있으면)\n",
    "# if hasattr(results, 'plots') and 'pr_curve' in results.plots:\n",
    "#     plt.figure(figsize=(8,6))\n",
    "#     plt.imshow(results.plots['pr_curve'])\n",
    "#     plt.axis('off')\n",
    "#     plt.title(\"PR Curve\")\n",
    "#     plt.show()"
   ]
  },
  {
   "cell_type": "code",
   "execution_count": null,
   "id": "1c2bc45d-0953-48f7-84e2-1b654387cedd",
   "metadata": {},
   "outputs": [],
   "source": []
  },
  {
   "cell_type": "code",
   "execution_count": null,
   "id": "b2c1a8b2-97e9-4c09-8f7b-79247534a245",
   "metadata": {},
   "outputs": [],
   "source": []
  },
  {
   "cell_type": "code",
   "execution_count": 16,
   "id": "d97140da-804d-4837-9713-a4c79560ecc8",
   "metadata": {},
   "outputs": [
    {
     "name": "stdout",
     "output_type": "stream",
     "text": [
      "yolov11n_custom_005\n"
     ]
    }
   ],
   "source": [
    "print(run_name)"
   ]
  },
  {
   "cell_type": "code",
   "execution_count": 17,
   "id": "015f7fc0-8690-492d-884e-547e6cbbf1d2",
   "metadata": {},
   "outputs": [
    {
     "name": "stdout",
     "output_type": "stream",
     "text": [
      "\n",
      "image 1/1 D:\\Project\\PJT_07\\code\\..\\test\\images\\00014_00004_00020_png.rf.e3b35f3ca153fde99af4db4a67d2a564.jpg: 640x640 1 Stop, 22.1ms\n",
      "Speed: 9.1ms preprocess, 22.1ms inference, 5.4ms postprocess per image at shape (1, 3, 640, 640)\n",
      "Results saved to \u001b[1mruns\\predict\\custom_test\\yolov11n_custom_005\u001b[0m\n"
     ]
    }
   ],
   "source": [
    "# 📌 [8] 예측 실행 및 저장\n",
    "test_img = '../test/images/00014_00004_00020_png.rf.e3b35f3ca153fde99af4db4a67d2a564.jpg'\n",
    "pred = model.predict(\n",
    "    source=test_img,\n",
    "    conf=0.25,\n",
    "    save=True,\n",
    "    project='runs/predict/custom_test',\n",
    "    name=run_name,\n",
    "    exist_ok=True\n",
    ")"
   ]
  },
  {
   "cell_type": "code",
   "execution_count": 18,
   "id": "243b0c34-06a6-42c7-8e19-c27bbbffe94b",
   "metadata": {},
   "outputs": [
    {
     "data": {
      "text/plain": [
       "<Figure size 1200x1200 with 1 Axes>"
      ]
     },
     "metadata": {},
     "output_type": "display_data"
    }
   ],
   "source": [
    "# 📌 [9] 예측 결과 시각화 및 GT bbox와 비교 함수 추가\n",
    "def draw_boxes_with_gt(image_path, pred_results, gt_label_path, class_names):\n",
    "    img = cv2.imread(image_path)\n",
    "    ih, iw = img.shape[:2]\n",
    "\n",
    "    # GT 박스 (파란색)\n",
    "    with open(gt_label_path, 'r') as f:\n",
    "        gt_lines = f.readlines()\n",
    "\n",
    "    for line in gt_lines:\n",
    "        cls, x, y, w, h = map(float, line.strip().split())\n",
    "        x1 = int((x - w/2) * iw)\n",
    "        y1 = int((y - h/2) * ih)\n",
    "        x2 = int((x + w/2) * iw)\n",
    "        y2 = int((y + h/2) * ih)\n",
    "        cv2.rectangle(img, (x1,y1), (x2,y2), (255,0,0), 2)\n",
    "        cv2.putText(img, f\"GT: {class_names[int(cls)]}\", (x1, y1-5),\n",
    "                    cv2.FONT_HERSHEY_SIMPLEX, 0.5, (255,0,0), 2)\n",
    "\n",
    "    # 예측 박스 (초록색)\n",
    "    for r in pred_results:\n",
    "        boxes = r.boxes.xyxy.cpu().numpy().astype(int)\n",
    "        scores = r.boxes.conf.cpu().numpy()\n",
    "        classes = r.boxes.cls.cpu().numpy().astype(int)\n",
    "        for (x1,y1,x2,y2), conf, cls in zip(boxes, scores, classes):\n",
    "            label = f\"{class_names[cls]} {conf:.2f}\"\n",
    "            cv2.rectangle(img, (x1,y1), (x2,y2), (0,255,0), 2)\n",
    "            (tw, th), _ = cv2.getTextSize(label, cv2.FONT_HERSHEY_SIMPLEX, 0.5, 1)\n",
    "            cv2.rectangle(img, (x1, y1 - th - 5), (x1 + tw, y1), (0,255,0), -1)\n",
    "            cv2.putText(img, label, (x1, y1 - 5), cv2.FONT_HERSHEY_SIMPLEX, 0.5, (0,0,0), 1)\n",
    "\n",
    "    plt.figure(figsize=(12,12))\n",
    "    plt.imshow(cv2.cvtColor(img, cv2.COLOR_BGR2RGB))\n",
    "    plt.axis('off')\n",
    "    plt.title(\"예측 박스 (초록) 와 GT 박스 (파랑) 비교\")\n",
    "    plt.show()\n",
    "\n",
    "gt_label_for_test_img = '../test/labels/00014_00004_00020_png.rf.e3b35f3ca153fde99af4db4a67d2a564.txt'\n",
    "draw_boxes_with_gt(test_img, pred, gt_label_for_test_img, class_names)"
   ]
  },
  {
   "cell_type": "code",
   "execution_count": 19,
   "id": "b69592a2-63fd-4d85-b00d-0b89a4dc2214",
   "metadata": {},
   "outputs": [
    {
     "name": "stdout",
     "output_type": "stream",
     "text": [
      "Ultralytics 8.3.156  Python-3.11.9 torch-2.7.1+cu128 CPU (13th Gen Intel Core(TM) i7-13700HX)\n",
      "\n",
      "\u001b[34m\u001b[1mPyTorch:\u001b[0m starting from 'runs\\detect\\yolov11n_custom_005\\weights\\best.pt' with input shape (1, 3, 640, 640) BCHW and output shape(s) (1, 19, 8400) (5.2 MB)\n",
      "\n",
      "\u001b[34m\u001b[1mONNX:\u001b[0m starting export with onnx 1.17.0 opset 19...\n",
      "\u001b[34m\u001b[1mONNX:\u001b[0m slimming with onnxslim 0.1.57...\n",
      "\u001b[34m\u001b[1mONNX:\u001b[0m export success  3.7s, saved as 'runs\\detect\\yolov11n_custom_005\\weights\\best.onnx' (10.1 MB)\n",
      "\n",
      "Export complete (4.8s)\n",
      "Results saved to \u001b[1mD:\\Project\\PJT_07\\code\\runs\\detect\\yolov11n_custom_005\\weights\u001b[0m\n",
      "Predict:         yolo predict task=detect model=runs\\detect\\yolov11n_custom_005\\weights\\best.onnx imgsz=640  \n",
      "Validate:        yolo val task=detect model=runs\\detect\\yolov11n_custom_005\\weights\\best.onnx imgsz=640 data=data.yaml  \n",
      "Visualize:       https://netron.app\n",
      "🧠 ONNX 모델 저장 경로: runs\\detect\\yolov11n_custom_005\\weights\\best.onnx\n"
     ]
    }
   ],
   "source": [
    "# 📌 [10] ONNX 모델로 내보내기\n",
    "export_path = model.export(format='onnx')\n",
    "print(f\"🧠 ONNX 모델 저장 경로: {export_path}\")"
   ]
  },
  {
   "cell_type": "code",
   "execution_count": 20,
   "id": "adc611e0-7cff-4e02-bd20-ffb8719167f1",
   "metadata": {},
   "outputs": [
    {
     "name": "stdout",
     "output_type": "stream",
     "text": [
      "Loading runs\\detect\\yolov11n_custom_005\\weights\\best.onnx for ONNX Runtime inference...\n",
      "Using ONNX Runtime CUDAExecutionProvider\n",
      "\n",
      "0: 640x640 1 Stop, 43.4ms\n",
      "Speed: 9.3ms preprocess, 43.4ms inference, 9.5ms postprocess per image at shape (1, 3, 640, 640)\n"
     ]
    },
    {
     "data": {
      "text/plain": [
       "<Figure size 1200x1200 with 1 Axes>"
      ]
     },
     "metadata": {},
     "output_type": "display_data"
    }
   ],
   "source": [
    "# 📌 [11] ONNX 모델 기반 예측 시각화 (기존 코드 유지)\n",
    "onnx_model = YOLO(os.path.join('runs/detect', run_name, 'weights', 'best.onnx'))\n",
    "\n",
    "image = cv2.imread(test_img)\n",
    "image = cv2.cvtColor(image, cv2.COLOR_BGR2RGB)\n",
    "resized_image = cv2.resize(image, (640, 640))\n",
    "\n",
    "results_onnx = onnx_model(resized_image, imgsz=640)\n",
    "\n",
    "for result in results_onnx:\n",
    "    boxes = result.boxes\n",
    "    names = result.names\n",
    "    for box in boxes:\n",
    "        x1, y1, x2, y2 = map(int, box.xyxy[0])\n",
    "        conf = box.conf[0]\n",
    "        cls = int(box.cls[0])\n",
    "        label = f\"{names[cls]} {conf:.2f}\"\n",
    "\n",
    "        cv2.rectangle(image, (x1, y1), (x2, y2), (0, 255, 0), 2)\n",
    "        (text_width, text_height), _ = cv2.getTextSize(label, cv2.FONT_HERSHEY_SIMPLEX, 0.5, 1)\n",
    "        cv2.rectangle(image, (x1, y1 - text_height - 5), (x1 + text_width, y1), (0, 255, 0), -1)\n",
    "        cv2.putText(image, label, (x1, y1 - 5), cv2.FONT_HERSHEY_SIMPLEX, 0.5, (0, 0, 0), 1)\n",
    "\n",
    "plt.figure(figsize=(12, 12))\n",
    "plt.imshow(image)\n",
    "plt.axis('off')\n",
    "plt.title(\"🔍 ONNX 예측 결과\")\n",
    "plt.show()"
   ]
  },
  {
   "cell_type": "code",
   "execution_count": 21,
   "id": "0d0cb133-6f32-40bc-ab8e-3b85ab06bbe4",
   "metadata": {},
   "outputs": [],
   "source": [
    "# print(df.columns)"
   ]
  },
  {
   "cell_type": "code",
   "execution_count": 22,
   "id": "43de50a5-fe8e-47a9-aa63-d47d7b44788d",
   "metadata": {},
   "outputs": [
    {
     "name": "stdout",
     "output_type": "stream",
     "text": [
      "📈 훈련 결과 요약 (Epoch별 mAP):\n",
      "   metrics/mAP50(B)  metrics/mAP50-95(B)\n",
      "1           0.93969              0.80788\n",
      "2           0.92049              0.78693\n",
      "3           0.91371              0.77808\n",
      "4           0.90174              0.76211\n",
      "5           0.92218              0.77775\n"
     ]
    },
    {
     "data": {
      "text/plain": [
       "<Figure size 600x400 with 1 Axes>"
      ]
     },
     "metadata": {},
     "output_type": "display_data"
    },
    {
     "data": {
      "text/plain": [
       "<Figure size 1000x600 with 1 Axes>"
      ]
     },
     "metadata": {},
     "output_type": "display_data"
    },
    {
     "data": {
      "text/plain": [
       "<Figure size 1000x600 with 1 Axes>"
      ]
     },
     "metadata": {},
     "output_type": "display_data"
    },
    {
     "name": "stdout",
     "output_type": "stream",
     "text": [
      "🎯 최고 성능 Epoch:\n",
      "epoch                  1.00000\n",
      "metrics/mAP50(B)       0.94740\n",
      "metrics/mAP50-95(B)    0.81557\n",
      "Name: 0, dtype: float64\n"
     ]
    }
   ],
   "source": [
    "# 📌 [12] 훈련 결과 시각화 (mAP/Loss 등)\n",
    "results_csv = f'runs/detect/{run_name}/results.csv'\n",
    "\n",
    "if os.path.exists(results_csv):\n",
    "    df = pd.read_csv(results_csv)\n",
    "    print(f\"📈 훈련 결과 요약 (Epoch별 mAP):\\n{df[['metrics/mAP50(B)', 'metrics/mAP50-95(B)']].tail()}\")\n",
    "\n",
    "    # Box Loss 그래프\n",
    "    df[['train/box_loss', 'val/box_loss']].plot(title='Box Loss', figsize=(6, 4))\n",
    "    plt.savefig(f'runs/detect/{run_name}/box_loss.png')\n",
    "    plt.show()\n",
    "\n",
    "    # ✅ 수정: train/valid 전체 손실 시각화 (box, cls, dfl)\n",
    "    df[['train/box_loss', 'train/cls_loss', 'train/dfl_loss',\n",
    "        'val/box_loss', 'val/cls_loss', 'val/dfl_loss']].plot(figsize=(10,6))\n",
    "    plt.title('Train & Valid Losses (Box, Class, DFL)')\n",
    "    plt.savefig(f'runs/detect/{run_name}/losses.png')\n",
    "    plt.show()\n",
    "\n",
    "    # mAP, Precision, Recall 시각화\n",
    "    df[['metrics/mAP50(B)', 'metrics/precision(B)', 'metrics/recall(B)']].plot(figsize=(10,6))\n",
    "    plt.title('Metrics: mAP50, Precision, Recall')\n",
    "    plt.savefig(f'runs/detect/{run_name}/metrics.png')\n",
    "    plt.show()\n",
    "\n",
    "    best_idx = df['metrics/mAP50-95(B)'].idxmax()\n",
    "    print(\"🎯 최고 성능 Epoch:\")\n",
    "    print(df.loc[best_idx, ['epoch', 'metrics/mAP50(B)', 'metrics/mAP50-95(B)']])\n",
    "else:\n",
    "    print(\"📛 results.csv 없음 (훈련 실패?)\")"
   ]
  },
  {
   "cell_type": "code",
   "execution_count": 23,
   "id": "e5083cdc-633a-4e9b-92e2-e6940d5917a4",
   "metadata": {},
   "outputs": [
    {
     "name": "stdout",
     "output_type": "stream",
     "text": [
      "📦 결과 JSON 저장 완료: runs/detect/yolov11n_custom_005/results_summary.json\n"
     ]
    }
   ],
   "source": [
    "# 📌 [13] 결과를 JSON으로 저장\n",
    "def save_results_to_json(csv_path, json_path):\n",
    "    if os.path.exists(csv_path):\n",
    "        df = pd.read_csv(csv_path)\n",
    "        result_data = df.to_dict(orient='records')\n",
    "        with open(json_path, 'w') as f:\n",
    "            json.dump(result_data, f, indent=4)\n",
    "        print(f\"📦 결과 JSON 저장 완료: {json_path}\")\n",
    "\n",
    "save_results_to_json(\n",
    "    csv_path=f'runs/detect/{run_name}/results.csv',\n",
    "    json_path=f'runs/detect/{run_name}/results_summary.json'\n",
    ")"
   ]
  },
  {
   "cell_type": "code",
   "execution_count": null,
   "id": "d1237b8a-ff9b-4d44-9dce-66fa1c9ee5ba",
   "metadata": {},
   "outputs": [],
   "source": []
  },
  {
   "cell_type": "code",
   "execution_count": null,
   "id": "67a21761-1728-4cfb-8694-2853254c5d81",
   "metadata": {},
   "outputs": [],
   "source": []
  },
  {
   "cell_type": "code",
   "execution_count": null,
   "id": "15ac19c0-b5bc-48df-bf85-f275ae55f4e3",
   "metadata": {},
   "outputs": [],
   "source": []
  },
  {
   "cell_type": "code",
   "execution_count": null,
   "id": "37309006-8c9c-4421-816e-31016db0a180",
   "metadata": {},
   "outputs": [],
   "source": []
  },
  {
   "cell_type": "code",
   "execution_count": null,
   "id": "d552a7f1-da31-4f73-8614-4a984f92a319",
   "metadata": {},
   "outputs": [],
   "source": []
  }
 ],
 "metadata": {
  "kernelspec": {
   "display_name": "Python 3 (ipykernel)",
   "language": "python",
   "name": "python3"
  },
  "language_info": {
   "codemirror_mode": {
    "name": "ipython",
    "version": 3
   },
   "file_extension": ".py",
   "mimetype": "text/x-python",
   "name": "python",
   "nbconvert_exporter": "python",
   "pygments_lexer": "ipython3",
   "version": "3.11.9"
  }
 },
 "nbformat": 4,
 "nbformat_minor": 5
}
