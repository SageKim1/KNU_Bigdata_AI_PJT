{
 "cells": [
  {
   "cell_type": "markdown",
   "id": "2f43ae97-befc-4763-bd09-4fedcee24754",
   "metadata": {},
   "source": [
    "# 03에서 배치 사이즈만 변경해서 돌리기"
   ]
  },
  {
   "cell_type": "code",
   "execution_count": 1,
   "id": "5ab5f421-5dc2-44c0-8670-f65c60a5a2ef",
   "metadata": {},
   "outputs": [],
   "source": [
    "# 📌 [기본 패키지 임포트]\n",
    "import os\n",
    "import shutil\n",
    "import torch\n",
    "import ultralytics\n",
    "from ultralytics import YOLO\n",
    "import time\n",
    "import pandas as pd\n",
    "import cv2\n",
    "import matplotlib.pyplot as plt\n",
    "import numpy as np\n",
    "import json\n",
    "from glob import glob\n",
    "from collections import Counter\n",
    "import threading"
   ]
  },
  {
   "cell_type": "code",
   "execution_count": 2,
   "id": "7b25ddcb-21fe-4ed4-b066-f09ce8a8f9be",
   "metadata": {},
   "outputs": [
    {
     "name": "stdout",
     "output_type": "stream",
     "text": [
      "Ultralytics 8.3.156  Python-3.11.9 torch-2.7.1+cu128 CUDA:0 (NVIDIA GeForce RTX 4070 Laptop GPU, 8188MiB)\n",
      "Setup complete  (24 CPUs, 31.7 GB RAM, 25.0/735.1 GB disk)\n"
     ]
    }
   ],
   "source": [
    "# 📌 [1] GPU 및 환경 체크\n",
    "print(\"✅ CUDA 사용 가능:\", torch.cuda.is_available())\n",
    "print(\"✅ PyTorch 버전:\", torch.__version__)\n",
    "ultralytics.checks()"
   ]
  },
  {
   "cell_type": "code",
   "execution_count": 3,
   "id": "0b1c52e5-434e-410f-b6f0-151dd2e3af32",
   "metadata": {},
   "outputs": [
    {
     "name": "stdout",
     "output_type": "stream",
     "text": [
      "✅ 삭제할 미완성 run 없음. 모든 run이 best.pt 포함.\n"
     ]
    }
   ],
   "source": [
    "# 📌 [2] 실패한 이전 runs 삭제\n",
    "def clean_incomplete_runs(base_dir='../code/runs/detect'):\n",
    "    if not os.path.exists(base_dir):\n",
    "        print(f\"📂 '{base_dir}' 폴더가 없어 삭제 생략\")\n",
    "        return\n",
    "\n",
    "    deleted = False\n",
    "    for folder in os.listdir(base_dir):\n",
    "        path = os.path.join(base_dir, folder)\n",
    "        best_model = os.path.join(path, 'weights', 'best.pt')\n",
    "        if not os.path.exists(best_model):\n",
    "            print(f\"🧹 삭제 대상: {path}\")\n",
    "            shutil.rmtree(path)\n",
    "            deleted = True\n",
    "\n",
    "    if not deleted:\n",
    "        print(\"✅ 삭제할 미완성 run 없음. 모든 run이 best.pt 포함.\")\n",
    "\n",
    "clean_incomplete_runs()"
   ]
  },
  {
   "cell_type": "code",
   "execution_count": 4,
   "id": "aeb14c7a-9d16-4749-818a-d7e43b6656c4",
   "metadata": {},
   "outputs": [
    {
     "name": "stdout",
     "output_type": "stream",
     "text": [
      "📄 마지막 훈련 결과 파일: runs/detect\\yolov11n_custom_005\\results.csv\n",
      "🔁 마지막 훈련 결과 (마지막 5줄):\n",
      "   epoch     time  train/box_loss  train/cls_loss  train/dfl_loss  \\\n",
      "1      2  1337.76         0.53016         0.63712         0.95943   \n",
      "2      3  1929.85         0.54868         0.66247         0.97022   \n",
      "3      4  2508.98         0.56117         0.68583         0.97354   \n",
      "4      5  3102.63         0.56399         0.70069         0.97646   \n",
      "5      6  3702.78         0.57159         0.69448         0.97682   \n",
      "\n",
      "   metrics/precision(B)  metrics/recall(B)  metrics/mAP50(B)  \\\n",
      "1               0.95723            0.85611           0.93969   \n",
      "2               0.91829            0.85326           0.92049   \n",
      "3               0.92576            0.82240           0.91371   \n",
      "4               0.91389            0.80027           0.90174   \n",
      "5               0.94636            0.83165           0.92218   \n",
      "\n",
      "   metrics/mAP50-95(B)  val/box_loss  val/cls_loss  val/dfl_loss    lr/pg0  \\\n",
      "1              0.80788       0.51894       0.37182       0.94825  0.000280   \n",
      "2              0.78693       0.52970       0.43947       0.95691  0.000408   \n",
      "3              0.77808       0.56221       0.51611       0.98579  0.000474   \n",
      "4              0.76211       0.56310       0.52719       0.97595  0.000457   \n",
      "5              0.77775       0.54862       0.48672       0.97304  0.000439   \n",
      "\n",
      "     lr/pg1    lr/pg2  \n",
      "1  0.000280  0.000280  \n",
      "2  0.000408  0.000408  \n",
      "3  0.000474  0.000474  \n",
      "4  0.000457  0.000457  \n",
      "5  0.000439  0.000439  \n"
     ]
    }
   ],
   "source": [
    "# 📌 [3] 가장 최근 run 결과 요약 출력\n",
    "def get_last_run_csv():\n",
    "    runs = sorted(glob('runs/detect/*/results.csv'), key=os.path.getmtime, reverse=True)\n",
    "    if runs:\n",
    "        print(f\"📄 마지막 훈련 결과 파일: {runs[0]}\")\n",
    "        df = pd.read_csv(runs[0])\n",
    "        print(\"🔁 마지막 훈련 결과 (마지막 5줄):\")\n",
    "        print(df.tail())\n",
    "    else:\n",
    "        print(\"ℹ️ 이전 훈련 결과 없음.\")\n",
    "\n",
    "get_last_run_csv()"
   ]
  },
  {
   "cell_type": "code",
   "execution_count": 5,
   "id": "87ef416e-3708-43d3-8a53-316b88f7eb56",
   "metadata": {},
   "outputs": [
    {
     "name": "stdout",
     "output_type": "stream",
     "text": [
      "🚀 새 훈련 run 이름: yolov11n_custom_006\n"
     ]
    }
   ],
   "source": [
    "# 📌 [4] 자동 넘버링 run 이름 생성\n",
    "def get_next_run_name(base_dir='runs/detect', prefix='yolov11n_custom'):\n",
    "    i = 1\n",
    "    while os.path.exists(os.path.join(base_dir, f'{prefix}_{i:03d}')):\n",
    "        i += 1\n",
    "    return f'{prefix}_{i:03d}'\n",
    "\n",
    "run_name = get_next_run_name()\n",
    "print(f\"🚀 새 훈련 run 이름: {run_name}\")"
   ]
  },
  {
   "cell_type": "code",
   "execution_count": 6,
   "id": "743708d1-328f-4d4e-94b1-42db57f9a377",
   "metadata": {},
   "outputs": [
    {
     "name": "stdout",
     "output_type": "stream",
     "text": [
      "\n",
      "📁 이미지 경로: ../train/images\n",
      "🖼️ 이미지 개수: 3530\n",
      "💾 이미지 용량: 67.55 MB\n",
      "📄 라벨 경로: ../train/labels\n",
      "📝 라벨 개수: 3530\n",
      "💾 라벨 용량: 319.50 KB\n",
      "\n",
      "📊 클래스별 라벨 개수 (../train/labels):\n",
      "  0 (Green Light): 542\n",
      "  1 (Red Light): 585\n",
      "  2 (Speed Limit 10): 19\n",
      "  3 (Speed Limit 100): 267\n",
      "  4 (Speed Limit 110): 101\n",
      "  5 (Speed Limit 120): 252\n",
      "  6 (Speed Limit 20): 285\n",
      "  7 (Speed Limit 30): 334\n",
      "  8 (Speed Limit 40): 235\n",
      "  9 (Speed Limit 50): 283\n",
      "  10 (Speed Limit 60): 301\n",
      "  11 (Speed Limit 70): 318\n",
      "  12 (Speed Limit 80): 323\n",
      "  13 (Speed Limit 90): 168\n",
      "  14 (Stop): 285\n",
      "\n",
      "📁 이미지 경로: ../valid/images\n",
      "🖼️ 이미지 개수: 801\n",
      "💾 이미지 용량: 15.38 MB\n",
      "📄 라벨 경로: ../valid/labels\n",
      "📝 라벨 개수: 801\n",
      "💾 라벨 용량: 69.86 KB\n",
      "\n",
      "📊 클래스별 라벨 개수 (../valid/labels):\n",
      "  0 (Green Light): 122\n",
      "  1 (Red Light): 108\n",
      "  3 (Speed Limit 100): 52\n",
      "  4 (Speed Limit 110): 17\n",
      "  5 (Speed Limit 120): 60\n",
      "  6 (Speed Limit 20): 56\n",
      "  7 (Speed Limit 30): 74\n",
      "  8 (Speed Limit 40): 55\n",
      "  9 (Speed Limit 50): 71\n",
      "  10 (Speed Limit 60): 76\n",
      "  11 (Speed Limit 70): 78\n",
      "  12 (Speed Limit 80): 56\n",
      "  13 (Speed Limit 90): 38\n",
      "  14 (Stop): 81\n"
     ]
    }
   ],
   "source": [
    "# 📌 [5] 입력 데이터 정보 출력 및 클래스별 레이블 개수 확인 함수 추가\n",
    "def get_dataset_info(img_dir, label_dir, class_names=None):\n",
    "    img_files = glob(os.path.join(img_dir, '*.jpg'))\n",
    "    label_files = glob(os.path.join(label_dir, '*.txt'))\n",
    "\n",
    "    total_img_size = sum(os.path.getsize(f) for f in img_files)\n",
    "    total_label_size = sum(os.path.getsize(f) for f in label_files)\n",
    "\n",
    "    print(f\"\\n📁 이미지 경로: {img_dir}\")\n",
    "    print(f\"🖼️ 이미지 개수: {len(img_files)}\")\n",
    "    print(f\"💾 이미지 용량: {total_img_size / 1024 / 1024:.2f} MB\")\n",
    "    print(f\"📄 라벨 경로: {label_dir}\")\n",
    "    print(f\"📝 라벨 개수: {len(label_files)}\")\n",
    "    print(f\"💾 라벨 용량: {total_label_size / 1024:.2f} KB\")\n",
    "\n",
    "    # 클래스별 라벨 개수 집계\n",
    "    classes = []\n",
    "    for f in label_files:\n",
    "        with open(f, 'r') as file:\n",
    "            lines = file.readlines()\n",
    "            classes += [int(line.split()[0]) for line in lines if line.strip()]\n",
    "    counter = Counter(classes)\n",
    "    print(f\"\\n📊 클래스별 라벨 개수 ({label_dir}):\")\n",
    "    if class_names:\n",
    "        for cls_idx, count in sorted(counter.items()):\n",
    "            print(f\"  {cls_idx} ({class_names[cls_idx]}): {count}\")\n",
    "    else:\n",
    "        print(counter)\n",
    "\n",
    "# 예시로 data.yaml에서 클래스명 읽어오기\n",
    "import yaml\n",
    "with open('data.yaml', 'r') as f:\n",
    "    data_cfg = yaml.safe_load(f)\n",
    "class_names = data_cfg.get('names', None)\n",
    "\n",
    "get_dataset_info('../train/images', '../train/labels', class_names)\n",
    "get_dataset_info('../valid/images', '../valid/labels', class_names)"
   ]
  },
  {
   "cell_type": "code",
   "execution_count": null,
   "id": "32041e59-06d3-412a-be41-3bf651c546a6",
   "metadata": {},
   "outputs": [],
   "source": [
    "# 📌 캐시 파일 삭제 함수\n",
    "# def safe_delete_cache(path: str):\n",
    "#     if not os.path.exists(path):\n",
    "#         print(f\"🟢 캐시 파일 없음 (삭제 불필요): {path}\")\n",
    "#         return\n",
    "\n",
    "#     file_size = os.path.getsize(path)\n",
    "#     last_modified = os.path.getmtime(path)\n",
    "#     now = time.time()\n",
    "\n",
    "#     should_delete = (\n",
    "#         file_size < 1024 or  # 1KB 이하\n",
    "#         (now - last_modified > 3600)  # 1시간 이상 경과\n",
    "#     )\n",
    "\n",
    "#     if should_delete:\n",
    "#         try:\n",
    "#             os.remove(path)\n",
    "#             print(f\"✅ 캐시 삭제 완료: {path}\")\n",
    "#         except Exception as e:\n",
    "#             print(f\"❌ 캐시 삭제 실패: {path} → {e}\")\n",
    "#     else:\n",
    "#         print(f\"🔒 캐시 유지: {path} (조건 미충족)\")\n",
    "\n",
    "# safe_delete_cache(r\"D:\\Project\\PJT_07\\train\\labels.cache\")\n",
    "# safe_delete_cache(r\"D:\\Project\\PJT_07\\valid\\labels.cache\")"
   ]
  },
  {
   "cell_type": "code",
   "execution_count": 8,
   "id": "717cf9c2-cc7d-4aaf-8b7a-6c0d42eaffcf",
   "metadata": {},
   "outputs": [
    {
     "name": "stdout",
     "output_type": "stream",
     "text": [
      "[GPU 모니터] 메모리 할당: 0.0MB, 예약: 0.0MB\n",
      "Ultralytics 8.3.156  Python-3.11.9 torch-2.7.1+cu128 CUDA:0 (NVIDIA GeForce RTX 4070 Laptop GPU, 8188MiB)\n",
      "\u001b[34m\u001b[1mengine\\trainer: \u001b[0magnostic_nms=False, amp=True, augment=False, auto_augment=randaugment, batch=64, bgr=0.0, box=7.5, cache=False, cfg=None, classes=None, close_mosaic=10, cls=0.5, conf=None, copy_paste=0.0, copy_paste_mode=flip, cos_lr=False, cutmix=0.0, data=data.yaml, degrees=0.0, deterministic=True, device=0, dfl=1.5, dnn=False, dropout=0.0, dynamic=False, embed=None, epochs=30, erasing=0.4, exist_ok=False, fliplr=0.5, flipud=0.0, format=torchscript, fraction=1.0, freeze=None, half=False, hsv_h=0.015, hsv_s=0.7, hsv_v=0.4, imgsz=640, int8=False, iou=0.7, keras=False, kobj=1.0, line_width=None, lr0=0.01, lrf=0.01, mask_ratio=4, max_det=300, mixup=0.0, mode=train, model=yolo11n.pt, momentum=0.937, mosaic=1.0, multi_scale=False, name=yolov11n_custom_006, nbs=64, nms=False, opset=None, optimize=False, optimizer=auto, overlap_mask=True, patience=100, perspective=0.0, plots=True, pose=12.0, pretrained=True, profile=False, project=None, rect=False, resume=False, retina_masks=False, save=True, save_conf=False, save_crop=False, save_dir=runs\\detect\\yolov11n_custom_006, save_frames=False, save_json=False, save_period=-1, save_txt=False, scale=0.5, seed=0, shear=0.0, show=False, show_boxes=True, show_conf=True, show_labels=True, simplify=True, single_cls=False, source=None, split=val, stream_buffer=False, task=detect, time=None, tracker=botsort.yaml, translate=0.1, val=True, verbose=True, vid_stride=1, visualize=False, warmup_bias_lr=0.1, warmup_epochs=3.0, warmup_momentum=0.8, weight_decay=0.0005, workers=0, workspace=None\n",
      "Overriding model.yaml nc=80 with nc=15\n",
      "\n",
      "                   from  n    params  module                                       arguments                     \n",
      "  0                  -1  1       464  ultralytics.nn.modules.conv.Conv             [3, 16, 3, 2]                 \n",
      "  1                  -1  1      4672  ultralytics.nn.modules.conv.Conv             [16, 32, 3, 2]                \n",
      "  2                  -1  1      6640  ultralytics.nn.modules.block.C3k2            [32, 64, 1, False, 0.25]      \n",
      "  3                  -1  1     36992  ultralytics.nn.modules.conv.Conv             [64, 64, 3, 2]                \n",
      "  4                  -1  1     26080  ultralytics.nn.modules.block.C3k2            [64, 128, 1, False, 0.25]     \n",
      "  5                  -1  1    147712  ultralytics.nn.modules.conv.Conv             [128, 128, 3, 2]              \n",
      "  6                  -1  1     87040  ultralytics.nn.modules.block.C3k2            [128, 128, 1, True]           \n",
      "  7                  -1  1    295424  ultralytics.nn.modules.conv.Conv             [128, 256, 3, 2]              \n",
      "  8                  -1  1    346112  ultralytics.nn.modules.block.C3k2            [256, 256, 1, True]           \n",
      "  9                  -1  1    164608  ultralytics.nn.modules.block.SPPF            [256, 256, 5]                 \n",
      " 10                  -1  1    249728  ultralytics.nn.modules.block.C2PSA           [256, 256, 1]                 \n",
      " 11                  -1  1         0  torch.nn.modules.upsampling.Upsample         [None, 2, 'nearest']          \n",
      " 12             [-1, 6]  1         0  ultralytics.nn.modules.conv.Concat           [1]                           \n",
      " 13                  -1  1    111296  ultralytics.nn.modules.block.C3k2            [384, 128, 1, False]          \n",
      " 14                  -1  1         0  torch.nn.modules.upsampling.Upsample         [None, 2, 'nearest']          \n",
      " 15             [-1, 4]  1         0  ultralytics.nn.modules.conv.Concat           [1]                           \n",
      " 16                  -1  1     32096  ultralytics.nn.modules.block.C3k2            [256, 64, 1, False]           \n",
      " 17                  -1  1     36992  ultralytics.nn.modules.conv.Conv             [64, 64, 3, 2]                \n",
      " 18            [-1, 13]  1         0  ultralytics.nn.modules.conv.Concat           [1]                           \n",
      " 19                  -1  1     86720  ultralytics.nn.modules.block.C3k2            [192, 128, 1, False]          \n",
      " 20                  -1  1    147712  ultralytics.nn.modules.conv.Conv             [128, 128, 3, 2]              \n",
      " 21            [-1, 10]  1         0  ultralytics.nn.modules.conv.Concat           [1]                           \n",
      " 22                  -1  1    378880  ultralytics.nn.modules.block.C3k2            [384, 256, 1, True]           \n",
      " 23        [16, 19, 22]  1    433597  ultralytics.nn.modules.head.Detect           [15, [64, 128, 256]]          \n",
      "YOLO11n summary: 181 layers, 2,592,765 parameters, 2,592,749 gradients, 6.5 GFLOPs\n",
      "\n",
      "Transferred 448/499 items from pretrained weights\n",
      "Freezing layer 'model.23.dfl.conv.weight'\n",
      "\u001b[34m\u001b[1mAMP: \u001b[0mrunning Automatic Mixed Precision (AMP) checks...\n",
      "\u001b[34m\u001b[1mAMP: \u001b[0mchecks passed \n",
      "\u001b[34m\u001b[1mtrain: \u001b[0mFast image access  (ping: 0.10.0 ms, read: 147.541.6 MB/s, size: 24.1 KB)\n"
     ]
    },
    {
     "name": "stderr",
     "output_type": "stream",
     "text": [
      "\u001b[34m\u001b[1mtrain: \u001b[0mScanning D:\\Project\\PJT_07\\train\\labels.cache... 3530 images, 3 backgrounds, 0 corrupt: 100%|██████████| 3530\u001b[0m"
     ]
    },
    {
     "name": "stdout",
     "output_type": "stream",
     "text": [
      "\u001b[34m\u001b[1mval: \u001b[0mFast image access  (ping: 0.10.0 ms, read: 85.855.3 MB/s, size: 20.7 KB)\n"
     ]
    },
    {
     "name": "stderr",
     "output_type": "stream",
     "text": [
      "\n",
      "\u001b[34m\u001b[1mval: \u001b[0mScanning D:\\Project\\PJT_07\\valid\\labels.cache... 801 images, 0 backgrounds, 0 corrupt: 100%|██████████| 801/801\u001b[0m"
     ]
    },
    {
     "name": "stdout",
     "output_type": "stream",
     "text": [
      "Plotting labels to runs\\detect\\yolov11n_custom_006\\labels.jpg... \n"
     ]
    },
    {
     "name": "stderr",
     "output_type": "stream",
     "text": [
      "\n"
     ]
    },
    {
     "name": "stdout",
     "output_type": "stream",
     "text": [
      "\u001b[34m\u001b[1moptimizer:\u001b[0m 'optimizer=auto' found, ignoring 'lr0=0.01' and 'momentum=0.937' and determining best 'optimizer', 'lr0' and 'momentum' automatically... \n",
      "\u001b[34m\u001b[1moptimizer:\u001b[0m AdamW(lr=0.000526, momentum=0.9) with parameter groups 81 weight(decay=0.0), 88 weight(decay=0.0005), 87 bias(decay=0.0)\n",
      "Image sizes 640 train, 640 val\n",
      "Using 0 dataloader workers\n",
      "Logging results to \u001b[1mruns\\detect\\yolov11n_custom_006\u001b[0m\n",
      "Starting training for 30 epochs...\n",
      "\n",
      "      Epoch    GPU_mem   box_loss   cls_loss   dfl_loss  Instances       Size\n"
     ]
    },
    {
     "name": "stderr",
     "output_type": "stream",
     "text": [
      "       1/30      8.34G       1.03      4.293      1.325        170        640:  45%|████▍     | 25/56 [00:51<01:01, "
     ]
    },
    {
     "name": "stdout",
     "output_type": "stream",
     "text": [
      "[GPU 모니터] 메모리 할당: 7928.3MB, 예약: 8538.0MB\n"
     ]
    },
    {
     "name": "stderr",
     "output_type": "stream",
     "text": [
      "       1/30      8.34G     0.8901      3.911      1.221        146        640:  96%|█████████▋| 54/56 [01:51<00:04, "
     ]
    },
    {
     "name": "stdout",
     "output_type": "stream",
     "text": [
      "[GPU 모니터] 메모리 할당: 414.3MB, 예약: 8538.0MB\n"
     ]
    },
    {
     "name": "stderr",
     "output_type": "stream",
     "text": [
      "       1/30       8.4G     0.8888      3.889       1.22         16        640: 100%|██████████| 56/56 [01:53<00:00, \n",
      "                 Class     Images  Instances      Box(P          R      mAP50  mAP50-95): 100%|██████████| 7/7 [00:0"
     ]
    },
    {
     "name": "stdout",
     "output_type": "stream",
     "text": [
      "                   all        801        944     0.0447      0.759      0.171       0.15\n"
     ]
    },
    {
     "name": "stderr",
     "output_type": "stream",
     "text": [
      "\n"
     ]
    },
    {
     "name": "stdout",
     "output_type": "stream",
     "text": [
      "\n",
      "      Epoch    GPU_mem   box_loss   cls_loss   dfl_loss  Instances       Size\n"
     ]
    },
    {
     "name": "stderr",
     "output_type": "stream",
     "text": [
      "       2/30      8.37G     0.7833      2.998      1.123        137        640:  29%|██▊       | 16/56 [00:50<02:09, "
     ]
    },
    {
     "name": "stdout",
     "output_type": "stream",
     "text": [
      "[GPU 모니터] 메모리 할당: 719.3MB, 예약: 8570.0MB\n"
     ]
    },
    {
     "name": "stderr",
     "output_type": "stream",
     "text": [
      "       2/30      8.37G     0.7534      2.844      1.107        151        640:  61%|██████    | 34/56 [01:49<01:12, "
     ]
    },
    {
     "name": "stdout",
     "output_type": "stream",
     "text": [
      "[GPU 모니터] 메모리 할당: 7582.2MB, 예약: 8570.0MB\n"
     ]
    },
    {
     "name": "stderr",
     "output_type": "stream",
     "text": [
      "       2/30      8.37G     0.7549      2.755      1.104        147        640:  93%|█████████▎| 52/56 [02:49<00:13, "
     ]
    },
    {
     "name": "stdout",
     "output_type": "stream",
     "text": [
      "[GPU 모니터] 메모리 할당: 7394.5MB, 예약: 8570.0MB\n"
     ]
    },
    {
     "name": "stderr",
     "output_type": "stream",
     "text": [
      "       2/30      8.42G     0.7561      2.737      1.104         17        640: 100%|██████████| 56/56 [03:00<00:00, \n",
      "                 Class     Images  Instances      Box(P          R      mAP50  mAP50-95): 100%|██████████| 7/7 [00:0"
     ]
    },
    {
     "name": "stdout",
     "output_type": "stream",
     "text": [
      "                   all        801        944      0.288      0.445      0.239        0.2\n"
     ]
    },
    {
     "name": "stderr",
     "output_type": "stream",
     "text": [
      "\n"
     ]
    },
    {
     "name": "stdout",
     "output_type": "stream",
     "text": [
      "\n",
      "      Epoch    GPU_mem   box_loss   cls_loss   dfl_loss  Instances       Size\n"
     ]
    },
    {
     "name": "stderr",
     "output_type": "stream",
     "text": [
      "       3/30      8.37G      0.746      2.384      1.088        145        640:  23%|██▎       | 13/56 [00:41<02:22, "
     ]
    },
    {
     "name": "stdout",
     "output_type": "stream",
     "text": [
      "[GPU 모니터] 메모리 할당: 7695.3MB, 예약: 8568.0MB\n"
     ]
    },
    {
     "name": "stderr",
     "output_type": "stream",
     "text": [
      "       3/30      8.37G     0.7467      2.303      1.093        154        640:  55%|█████▌    | 31/56 [01:42<01:25, "
     ]
    },
    {
     "name": "stdout",
     "output_type": "stream",
     "text": [
      "[GPU 모니터] 메모리 할당: 419.3MB, 예약: 8568.0MB\n"
     ]
    },
    {
     "name": "stderr",
     "output_type": "stream",
     "text": [
      "       3/30      8.37G      0.746      2.288      1.086        143        640:  88%|████████▊ | 49/56 [02:42<00:23, "
     ]
    },
    {
     "name": "stdout",
     "output_type": "stream",
     "text": [
      "[GPU 모니터] 메모리 할당: 419.3MB, 예약: 8568.0MB\n"
     ]
    },
    {
     "name": "stderr",
     "output_type": "stream",
     "text": [
      "       3/30      8.42G     0.7439      2.268      1.086         16        640: 100%|██████████| 56/56 [03:01<00:00, \n",
      "                 Class     Images  Instances      Box(P          R      mAP50  mAP50-95): 100%|██████████| 7/7 [00:0"
     ]
    },
    {
     "name": "stdout",
     "output_type": "stream",
     "text": [
      "                   all        801        944      0.347       0.45      0.337      0.269\n"
     ]
    },
    {
     "name": "stderr",
     "output_type": "stream",
     "text": [
      "\n"
     ]
    },
    {
     "name": "stdout",
     "output_type": "stream",
     "text": [
      "\n",
      "      Epoch    GPU_mem   box_loss   cls_loss   dfl_loss  Instances       Size\n"
     ]
    },
    {
     "name": "stderr",
     "output_type": "stream",
     "text": [
      "       4/30      8.37G     0.7412      2.058      1.081        130        640:  18%|█▊        | 10/56 [00:32<02:55, "
     ]
    },
    {
     "name": "stdout",
     "output_type": "stream",
     "text": [
      "[GPU 모니터] 메모리 할당: 719.3MB, 예약: 8568.0MB\n"
     ]
    },
    {
     "name": "stderr",
     "output_type": "stream",
     "text": [
      "       4/30      8.37G     0.7451      2.062      1.087        129        640:  39%|███▉      | 22/56 [01:29<02:40, "
     ]
    },
    {
     "name": "stdout",
     "output_type": "stream",
     "text": [
      "[GPU 모니터] 메모리 할당: 7394.6MB, 예약: 8568.0MB\n"
     ]
    },
    {
     "name": "stderr",
     "output_type": "stream",
     "text": [
      "       4/30      8.37G     0.7452      2.026      1.084        128        640:  62%|██████▎   | 35/56 [02:30<01:36, "
     ]
    },
    {
     "name": "stdout",
     "output_type": "stream",
     "text": [
      "[GPU 모니터] 메모리 할당: 6223.9MB, 예약: 8568.0MB\n"
     ]
    },
    {
     "name": "stderr",
     "output_type": "stream",
     "text": [
      "       4/30      8.37G     0.7382      1.972      1.078        121        640:  86%|████████▌ | 48/56 [03:31<00:38, "
     ]
    },
    {
     "name": "stdout",
     "output_type": "stream",
     "text": [
      "[GPU 모니터] 메모리 할당: 719.3MB, 예약: 8568.0MB\n"
     ]
    },
    {
     "name": "stderr",
     "output_type": "stream",
     "text": [
      "       4/30      8.42G     0.7352      1.944      1.076         28        640: 100%|██████████| 56/56 [04:05<00:00, \n",
      "                 Class     Images  Instances      Box(P          R      mAP50  mAP50-95): 100%|██████████| 7/7 [00:1"
     ]
    },
    {
     "name": "stdout",
     "output_type": "stream",
     "text": [
      "                   all        801        944       0.53       0.57      0.596      0.457\n"
     ]
    },
    {
     "name": "stderr",
     "output_type": "stream",
     "text": [
      "\n"
     ]
    },
    {
     "name": "stdout",
     "output_type": "stream",
     "text": [
      "\n",
      "      Epoch    GPU_mem   box_loss   cls_loss   dfl_loss  Instances       Size\n"
     ]
    },
    {
     "name": "stderr",
     "output_type": "stream",
     "text": [
      "       5/30      8.39G     0.6639      1.786      1.031        136        640:   2%|▏         | 1/56 [00:03<03:07,  "
     ]
    },
    {
     "name": "stdout",
     "output_type": "stream",
     "text": [
      "[GPU 모니터] 메모리 할당: 729.6MB, 예약: 8592.0MB\n"
     ]
    },
    {
     "name": "stderr",
     "output_type": "stream",
     "text": [
      "       5/30      8.39G     0.7071       1.72      1.061        172        640:  25%|██▌       | 14/56 [01:05<03:22, "
     ]
    },
    {
     "name": "stdout",
     "output_type": "stream",
     "text": [
      "[GPU 모니터] 메모리 할당: 719.3MB, 예약: 8592.0MB\n"
     ]
    },
    {
     "name": "stderr",
     "output_type": "stream",
     "text": [
      "       5/30      8.39G     0.7082      1.694      1.065        135        640:  46%|████▋     | 26/56 [02:03<02:23, "
     ]
    },
    {
     "name": "stdout",
     "output_type": "stream",
     "text": [
      "[GPU 모니터] 메모리 할당: 7395.7MB, 예약: 8592.0MB\n"
     ]
    },
    {
     "name": "stderr",
     "output_type": "stream",
     "text": [
      "       5/30      8.39G     0.7061      1.681      1.063        145        640:  70%|██████▉   | 39/56 [03:06<01:19, "
     ]
    },
    {
     "name": "stdout",
     "output_type": "stream",
     "text": [
      "[GPU 모니터] 메모리 할당: 419.3MB, 예약: 8592.0MB\n"
     ]
    },
    {
     "name": "stderr",
     "output_type": "stream",
     "text": [
      "       5/30      8.39G      0.703      1.645      1.058        161        640:  93%|█████████▎| 52/56 [04:06<00:19, "
     ]
    },
    {
     "name": "stdout",
     "output_type": "stream",
     "text": [
      "[GPU 모니터] 메모리 할당: 719.3MB, 예약: 8592.0MB\n"
     ]
    },
    {
     "name": "stderr",
     "output_type": "stream",
     "text": [
      "       5/30      8.45G     0.7042      1.635      1.058         25        640: 100%|██████████| 56/56 [04:22<00:00, \n",
      "                 Class     Images  Instances      Box(P          R      mAP50  mAP50-95): 100%|██████████| 7/7 [00:1"
     ]
    },
    {
     "name": "stdout",
     "output_type": "stream",
     "text": [
      "                   all        801        944      0.654      0.569      0.647      0.516\n"
     ]
    },
    {
     "name": "stderr",
     "output_type": "stream",
     "text": [
      "\n"
     ]
    },
    {
     "name": "stdout",
     "output_type": "stream",
     "text": [
      "\n",
      "      Epoch    GPU_mem   box_loss   cls_loss   dfl_loss  Instances       Size\n"
     ]
    },
    {
     "name": "stderr",
     "output_type": "stream",
     "text": [
      "       6/30      8.38G       0.66      1.504      1.053        147        640:   9%|▉         | 5/56 [00:22<03:58,  "
     ]
    },
    {
     "name": "stdout",
     "output_type": "stream",
     "text": [
      "[GPU 모니터] 메모리 할당: 7695.3MB, 예약: 8576.0MB\n"
     ]
    },
    {
     "name": "stderr",
     "output_type": "stream",
     "text": [
      "       6/30      8.38G      0.654      1.442      1.034        151        640:  32%|███▏      | 18/56 [01:24<03:01, "
     ]
    },
    {
     "name": "stdout",
     "output_type": "stream",
     "text": [
      "[GPU 모니터] 메모리 할당: 719.3MB, 예약: 8576.0MB\n"
     ]
    },
    {
     "name": "stderr",
     "output_type": "stream",
     "text": [
      "       6/30      8.38G     0.6574      1.416      1.032        133        640:  54%|█████▎    | 30/56 [02:21<02:04, "
     ]
    },
    {
     "name": "stdout",
     "output_type": "stream",
     "text": [
      "[GPU 모니터] 메모리 할당: 429.6MB, 예약: 8576.0MB\n"
     ]
    },
    {
     "name": "stderr",
     "output_type": "stream",
     "text": [
      "       6/30      8.38G     0.6669      1.397      1.038        133        640:  77%|███████▋  | 43/56 [03:23<01:01, "
     ]
    },
    {
     "name": "stdout",
     "output_type": "stream",
     "text": [
      "[GPU 모니터] 메모리 할당: 419.3MB, 예약: 8576.0MB\n"
     ]
    },
    {
     "name": "stderr",
     "output_type": "stream",
     "text": [
      "       6/30      8.43G     0.6707      1.391       1.04         27        640: 100%|██████████| 56/56 [04:22<00:00, \n",
      "                 Class     Images  Instances      Box(P          R      mAP50  mAP50-95):   0%|          | 0/7 [00:0"
     ]
    },
    {
     "name": "stdout",
     "output_type": "stream",
     "text": [
      "[GPU 모니터] 메모리 할당: 1282.2MB, 예약: 3174.0MB\n"
     ]
    },
    {
     "name": "stderr",
     "output_type": "stream",
     "text": [
      "                 Class     Images  Instances      Box(P          R      mAP50  mAP50-95): 100%|██████████| 7/7 [00:1"
     ]
    },
    {
     "name": "stdout",
     "output_type": "stream",
     "text": [
      "                   all        801        944      0.699       0.65      0.714      0.597\n"
     ]
    },
    {
     "name": "stderr",
     "output_type": "stream",
     "text": [
      "\n"
     ]
    },
    {
     "name": "stdout",
     "output_type": "stream",
     "text": [
      "\n",
      "      Epoch    GPU_mem   box_loss   cls_loss   dfl_loss  Instances       Size\n"
     ]
    },
    {
     "name": "stderr",
     "output_type": "stream",
     "text": [
      "       7/30      8.37G     0.6739      1.313      1.059        123        640:  16%|█▌        | 9/56 [00:40<03:38,  "
     ]
    },
    {
     "name": "stdout",
     "output_type": "stream",
     "text": [
      "[GPU 모니터] 메모리 할당: 7695.3MB, 예약: 8568.0MB\n"
     ]
    },
    {
     "name": "stderr",
     "output_type": "stream",
     "text": [
      "       7/30      8.37G     0.6674      1.301      1.052        134        640:  39%|███▉      | 22/56 [01:41<02:39, "
     ]
    },
    {
     "name": "stdout",
     "output_type": "stream",
     "text": [
      "[GPU 모니터] 메모리 할당: 719.3MB, 예약: 8568.0MB\n"
     ]
    },
    {
     "name": "stderr",
     "output_type": "stream",
     "text": [
      "       7/30      8.37G     0.6658      1.293      1.045        124        640:  62%|██████▎   | 35/56 [02:42<01:40, "
     ]
    },
    {
     "name": "stdout",
     "output_type": "stream",
     "text": [
      "[GPU 모니터] 메모리 할당: 419.3MB, 예약: 8568.0MB\n"
     ]
    },
    {
     "name": "stderr",
     "output_type": "stream",
     "text": [
      "       7/30      8.37G     0.6623      1.281      1.039        125        640:  84%|████████▍ | 47/56 [03:38<00:41, "
     ]
    },
    {
     "name": "stdout",
     "output_type": "stream",
     "text": [
      "[GPU 모니터] 메모리 할당: 729.6MB, 예약: 8568.0MB\n"
     ]
    },
    {
     "name": "stderr",
     "output_type": "stream",
     "text": [
      "       7/30      8.42G     0.6604      1.274      1.038         23        640: 100%|██████████| 56/56 [04:16<00:00, \n",
      "                 Class     Images  Instances      Box(P          R      mAP50  mAP50-95): 100%|██████████| 7/7 [00:1"
     ]
    },
    {
     "name": "stdout",
     "output_type": "stream",
     "text": [
      "                   all        801        944      0.758      0.652      0.759      0.636\n"
     ]
    },
    {
     "name": "stderr",
     "output_type": "stream",
     "text": [
      "\n"
     ]
    },
    {
     "name": "stdout",
     "output_type": "stream",
     "text": [
      "\n",
      "      Epoch    GPU_mem   box_loss   cls_loss   dfl_loss  Instances       Size\n"
     ]
    },
    {
     "name": "stderr",
     "output_type": "stream",
     "text": [
      "       8/30      8.36G     0.6777      1.257      1.035        149        640:   2%|▏         | 1/56 [00:03<03:01,  "
     ]
    },
    {
     "name": "stdout",
     "output_type": "stream",
     "text": [
      "[GPU 모니터] 메모리 할당: 729.6MB, 예약: 8558.0MB\n"
     ]
    },
    {
     "name": "stderr",
     "output_type": "stream",
     "text": [
      "       8/30      8.36G     0.6575      1.212      1.022        160        640:  25%|██▌       | 14/56 [01:02<03:11, "
     ]
    },
    {
     "name": "stdout",
     "output_type": "stream",
     "text": [
      "[GPU 모니터] 메모리 할당: 429.6MB, 예약: 8558.0MB\n"
     ]
    },
    {
     "name": "stderr",
     "output_type": "stream",
     "text": [
      "       8/30      8.36G     0.6484      1.184      1.033        136        640:  48%|████▊     | 27/56 [02:02<02:12, "
     ]
    },
    {
     "name": "stdout",
     "output_type": "stream",
     "text": [
      "[GPU 모니터] 메모리 할당: 729.6MB, 예약: 8558.0MB\n"
     ]
    },
    {
     "name": "stderr",
     "output_type": "stream",
     "text": [
      "       8/30      8.36G     0.6532      1.185      1.028        141        640:  73%|███████▎  | 41/56 [03:06<01:07, "
     ]
    },
    {
     "name": "stdout",
     "output_type": "stream",
     "text": [
      "[GPU 모니터] 메모리 할당: 419.3MB, 예약: 8558.0MB\n"
     ]
    },
    {
     "name": "stderr",
     "output_type": "stream",
     "text": [
      "       8/30      8.36G     0.6478       1.18      1.027        135        640:  95%|█████████▍| 53/56 [04:02<00:13, "
     ]
    },
    {
     "name": "stdout",
     "output_type": "stream",
     "text": [
      "[GPU 모니터] 메모리 할당: 729.6MB, 예약: 8558.0MB\n"
     ]
    },
    {
     "name": "stderr",
     "output_type": "stream",
     "text": [
      "       8/30      8.41G     0.6446      1.174      1.026         21        640: 100%|██████████| 56/56 [04:13<00:00, \n",
      "                 Class     Images  Instances      Box(P          R      mAP50  mAP50-95): 100%|██████████| 7/7 [00:1"
     ]
    },
    {
     "name": "stdout",
     "output_type": "stream",
     "text": [
      "                   all        801        944      0.872      0.739      0.835        0.7\n"
     ]
    },
    {
     "name": "stderr",
     "output_type": "stream",
     "text": [
      "\n"
     ]
    },
    {
     "name": "stdout",
     "output_type": "stream",
     "text": [
      "\n",
      "      Epoch    GPU_mem   box_loss   cls_loss   dfl_loss  Instances       Size\n"
     ]
    },
    {
     "name": "stderr",
     "output_type": "stream",
     "text": [
      "       9/30      8.38G     0.6528      1.135      1.017        160        640:  12%|█▎        | 7/56 [00:31<03:49,  "
     ]
    },
    {
     "name": "stdout",
     "output_type": "stream",
     "text": [
      "[GPU 모니터] 메모리 할당: 419.3MB, 예약: 8576.0MB\n"
     ]
    },
    {
     "name": "stderr",
     "output_type": "stream",
     "text": [
      "       9/30      8.38G     0.6343      1.101      1.014        151        640:  36%|███▌      | 20/56 [01:33<02:49, "
     ]
    },
    {
     "name": "stdout",
     "output_type": "stream",
     "text": [
      "[GPU 모니터] 메모리 할당: 719.3MB, 예약: 8576.0MB\n"
     ]
    },
    {
     "name": "stderr",
     "output_type": "stream",
     "text": [
      "       9/30      8.38G     0.6372      1.099      1.015        149        640:  59%|█████▉    | 33/56 [02:34<01:49, "
     ]
    },
    {
     "name": "stdout",
     "output_type": "stream",
     "text": [
      "[GPU 모니터] 메모리 할당: 429.6MB, 예약: 8576.0MB\n"
     ]
    },
    {
     "name": "stderr",
     "output_type": "stream",
     "text": [
      "       9/30      8.38G     0.6304      1.085      1.015        140        640:  80%|████████  | 45/56 [03:30<00:52, "
     ]
    },
    {
     "name": "stdout",
     "output_type": "stream",
     "text": [
      "[GPU 모니터] 메모리 할당: 729.6MB, 예약: 8576.0MB\n"
     ]
    },
    {
     "name": "stderr",
     "output_type": "stream",
     "text": [
      "       9/30      8.43G     0.6286      1.078      1.013         31        640: 100%|██████████| 56/56 [04:18<00:00, \n",
      "                 Class     Images  Instances      Box(P          R      mAP50  mAP50-95):  71%|███████▏  | 5/7 [00:1"
     ]
    },
    {
     "name": "stdout",
     "output_type": "stream",
     "text": [
      "[GPU 모니터] 메모리 할당: 776.8MB, 예약: 3178.0MB\n"
     ]
    },
    {
     "name": "stderr",
     "output_type": "stream",
     "text": [
      "                 Class     Images  Instances      Box(P          R      mAP50  mAP50-95): 100%|██████████| 7/7 [00:1"
     ]
    },
    {
     "name": "stdout",
     "output_type": "stream",
     "text": [
      "                   all        801        944      0.861      0.751      0.845      0.715\n"
     ]
    },
    {
     "name": "stderr",
     "output_type": "stream",
     "text": [
      "\n"
     ]
    },
    {
     "name": "stdout",
     "output_type": "stream",
     "text": [
      "\n",
      "      Epoch    GPU_mem   box_loss   cls_loss   dfl_loss  Instances       Size\n"
     ]
    },
    {
     "name": "stderr",
     "output_type": "stream",
     "text": [
      "      10/30      8.38G     0.6544      1.023      1.032        156        640:  21%|██▏       | 12/56 [00:56<03:32, "
     ]
    },
    {
     "name": "stdout",
     "output_type": "stream",
     "text": [
      "[GPU 모니터] 메모리 할당: 719.3MB, 예약: 8576.0MB\n"
     ]
    },
    {
     "name": "stderr",
     "output_type": "stream",
     "text": [
      "      10/30      8.38G     0.6381       1.03      1.019        148        640:  43%|████▎     | 24/56 [01:54<02:33, "
     ]
    },
    {
     "name": "stdout",
     "output_type": "stream",
     "text": [
      "[GPU 모니터] 메모리 할당: 719.3MB, 예약: 8576.0MB\n"
     ]
    },
    {
     "name": "stderr",
     "output_type": "stream",
     "text": [
      "      10/30      8.38G     0.6318      1.031      1.016        151        640:  66%|██████▌   | 37/56 [02:55<01:30, "
     ]
    },
    {
     "name": "stdout",
     "output_type": "stream",
     "text": [
      "[GPU 모니터] 메모리 할당: 419.3MB, 예약: 8576.0MB\n"
     ]
    },
    {
     "name": "stderr",
     "output_type": "stream",
     "text": [
      "      10/30      8.38G     0.6274      1.021      1.014        139        640:  88%|████████▊ | 49/56 [03:52<00:33, "
     ]
    },
    {
     "name": "stdout",
     "output_type": "stream",
     "text": [
      "[GPU 모니터] 메모리 할당: 729.6MB, 예약: 8576.0MB\n"
     ]
    },
    {
     "name": "stderr",
     "output_type": "stream",
     "text": [
      "      10/30      8.43G     0.6289      1.016      1.017         22        640: 100%|██████████| 56/56 [04:21<00:00, \n",
      "                 Class     Images  Instances      Box(P          R      mAP50  mAP50-95): 100%|██████████| 7/7 [00:1"
     ]
    },
    {
     "name": "stdout",
     "output_type": "stream",
     "text": [
      "                   all        801        944      0.844       0.74      0.841      0.709\n"
     ]
    },
    {
     "name": "stderr",
     "output_type": "stream",
     "text": [
      "\n"
     ]
    },
    {
     "name": "stdout",
     "output_type": "stream",
     "text": [
      "\n",
      "      Epoch    GPU_mem   box_loss   cls_loss   dfl_loss  Instances       Size\n"
     ]
    },
    {
     "name": "stderr",
     "output_type": "stream",
     "text": [
      "      11/30      8.37G     0.6551     0.9945      1.037        127        640:   5%|▌         | 3/56 [00:12<03:55,  "
     ]
    },
    {
     "name": "stdout",
     "output_type": "stream",
     "text": [
      "[GPU 모니터] 메모리 할당: 7695.3MB, 예약: 8568.0MB\n"
     ]
    },
    {
     "name": "stderr",
     "output_type": "stream",
     "text": [
      "      11/30      8.37G     0.6269      0.976      1.022        134        640:  29%|██▊       | 16/56 [01:13<03:09, "
     ]
    },
    {
     "name": "stdout",
     "output_type": "stream",
     "text": [
      "[GPU 모니터] 메모리 할당: 7394.5MB, 예약: 8568.0MB\n"
     ]
    },
    {
     "name": "stderr",
     "output_type": "stream",
     "text": [
      "      11/30      8.37G     0.6207     0.9611      1.009        160        640:  52%|█████▏    | 29/56 [02:14<02:06, "
     ]
    },
    {
     "name": "stdout",
     "output_type": "stream",
     "text": [
      "[GPU 모니터] 메모리 할당: 419.3MB, 예약: 8568.0MB\n"
     ]
    },
    {
     "name": "stderr",
     "output_type": "stream",
     "text": [
      "      11/30      8.37G     0.6214     0.9588      1.012        150        640:  75%|███████▌  | 42/56 [03:15<01:06, "
     ]
    },
    {
     "name": "stdout",
     "output_type": "stream",
     "text": [
      "[GPU 모니터] 메모리 할당: 719.3MB, 예약: 8568.0MB\n"
     ]
    },
    {
     "name": "stderr",
     "output_type": "stream",
     "text": [
      "      11/30      8.37G     0.6226     0.9509      1.011        131        640:  96%|█████████▋| 54/56 [04:12<00:09, "
     ]
    },
    {
     "name": "stdout",
     "output_type": "stream",
     "text": [
      "[GPU 모니터] 메모리 할당: 429.6MB, 예약: 8568.0MB\n"
     ]
    },
    {
     "name": "stderr",
     "output_type": "stream",
     "text": [
      "      11/30      8.43G     0.6202     0.9559       1.01         17        640: 100%|██████████| 56/56 [04:18<00:00, \n",
      "                 Class     Images  Instances      Box(P          R      mAP50  mAP50-95): 100%|██████████| 7/7 [00:1"
     ]
    },
    {
     "name": "stdout",
     "output_type": "stream",
     "text": [
      "                   all        801        944      0.863      0.784      0.876      0.737\n"
     ]
    },
    {
     "name": "stderr",
     "output_type": "stream",
     "text": [
      "\n"
     ]
    },
    {
     "name": "stdout",
     "output_type": "stream",
     "text": [
      "\n",
      "      Epoch    GPU_mem   box_loss   cls_loss   dfl_loss  Instances       Size\n"
     ]
    },
    {
     "name": "stderr",
     "output_type": "stream",
     "text": [
      "      12/30      8.38G       0.57     0.9073     0.9929        119        640:  14%|█▍        | 8/56 [00:36<03:44,  "
     ]
    },
    {
     "name": "stdout",
     "output_type": "stream",
     "text": [
      "[GPU 모니터] 메모리 할당: 7394.5MB, 예약: 8576.0MB\n"
     ]
    },
    {
     "name": "stderr",
     "output_type": "stream",
     "text": [
      "      12/30      8.38G     0.5993      0.932          1        131        640:  38%|███▊      | 21/56 [01:37<02:45, "
     ]
    },
    {
     "name": "stdout",
     "output_type": "stream",
     "text": [
      "[GPU 모니터] 메모리 할당: 419.3MB, 예약: 8576.0MB\n"
     ]
    },
    {
     "name": "stderr",
     "output_type": "stream",
     "text": [
      "      12/30      8.38G     0.6097     0.9414      1.002        152        640:  59%|█████▉    | 33/56 [02:35<01:50, "
     ]
    },
    {
     "name": "stdout",
     "output_type": "stream",
     "text": [
      "[GPU 모니터] 메모리 할당: 729.6MB, 예약: 8576.0MB\n"
     ]
    },
    {
     "name": "stderr",
     "output_type": "stream",
     "text": [
      "      12/30      8.38G     0.6156      0.943      1.003        146        640:  82%|████████▏ | 46/56 [03:37<00:47, "
     ]
    },
    {
     "name": "stdout",
     "output_type": "stream",
     "text": [
      "[GPU 모니터] 메모리 할당: 719.3MB, 예약: 8576.0MB\n"
     ]
    },
    {
     "name": "stderr",
     "output_type": "stream",
     "text": [
      "      12/30      8.43G     0.6166     0.9386      1.005         24        640: 100%|██████████| 56/56 [04:21<00:00, \n",
      "                 Class     Images  Instances      Box(P          R      mAP50  mAP50-95):  86%|████████▌ | 6/7 [00:1"
     ]
    },
    {
     "name": "stdout",
     "output_type": "stream",
     "text": [
      "[GPU 모니터] 메모리 할당: 776.8MB, 예약: 3174.0MB\n"
     ]
    },
    {
     "name": "stderr",
     "output_type": "stream",
     "text": [
      "                 Class     Images  Instances      Box(P          R      mAP50  mAP50-95): 100%|██████████| 7/7 [00:1"
     ]
    },
    {
     "name": "stdout",
     "output_type": "stream",
     "text": [
      "                   all        801        944      0.898      0.782      0.872      0.739\n"
     ]
    },
    {
     "name": "stderr",
     "output_type": "stream",
     "text": [
      "\n"
     ]
    },
    {
     "name": "stdout",
     "output_type": "stream",
     "text": [
      "\n",
      "      Epoch    GPU_mem   box_loss   cls_loss   dfl_loss  Instances       Size\n"
     ]
    },
    {
     "name": "stderr",
     "output_type": "stream",
     "text": [
      "      13/30      8.37G     0.6155     0.8854      1.015        121        640:  21%|██▏       | 12/56 [00:55<03:26, "
     ]
    },
    {
     "name": "stdout",
     "output_type": "stream",
     "text": [
      "[GPU 모니터] 메모리 할당: 7394.5MB, 예약: 8568.0MB\n"
     ]
    },
    {
     "name": "stderr",
     "output_type": "stream",
     "text": [
      "      13/30      8.37G     0.6115     0.9088      1.003        140        640:  45%|████▍     | 25/56 [01:57<02:27, "
     ]
    },
    {
     "name": "stdout",
     "output_type": "stream",
     "text": [
      "[GPU 모니터] 메모리 할당: 419.3MB, 예약: 8568.0MB\n"
     ]
    },
    {
     "name": "stderr",
     "output_type": "stream",
     "text": [
      "      13/30      8.37G      0.599     0.8986      1.002        136        640:  66%|██████▌   | 37/56 [02:54<01:30, "
     ]
    },
    {
     "name": "stdout",
     "output_type": "stream",
     "text": [
      "[GPU 모니터] 메모리 할당: 729.6MB, 예약: 8568.0MB\n"
     ]
    },
    {
     "name": "stderr",
     "output_type": "stream",
     "text": [
      "      13/30      8.37G     0.5991     0.8905      1.003        110        640:  89%|████████▉ | 50/56 [03:55<00:28, "
     ]
    },
    {
     "name": "stdout",
     "output_type": "stream",
     "text": [
      "[GPU 모니터] 메모리 할당: 3822.8MB, 예약: 8568.0MB\n"
     ]
    },
    {
     "name": "stderr",
     "output_type": "stream",
     "text": [
      "      13/30      8.43G     0.5979     0.8863      1.003         16        640: 100%|██████████| 56/56 [04:19<00:00, \n",
      "                 Class     Images  Instances      Box(P          R      mAP50  mAP50-95): 100%|██████████| 7/7 [00:1"
     ]
    },
    {
     "name": "stdout",
     "output_type": "stream",
     "text": [
      "                   all        801        944      0.905      0.791      0.882       0.75\n"
     ]
    },
    {
     "name": "stderr",
     "output_type": "stream",
     "text": [
      "\n"
     ]
    },
    {
     "name": "stdout",
     "output_type": "stream",
     "text": [
      "\n",
      "      Epoch    GPU_mem   box_loss   cls_loss   dfl_loss  Instances       Size\n"
     ]
    },
    {
     "name": "stderr",
     "output_type": "stream",
     "text": [
      "      14/30      8.38G     0.5801     0.7979     0.9959        131        640:   7%|▋         | 4/56 [00:18<04:09,  "
     ]
    },
    {
     "name": "stdout",
     "output_type": "stream",
     "text": [
      "[GPU 모니터] 메모리 할당: 7394.5MB, 예약: 8576.0MB\n"
     ]
    },
    {
     "name": "stderr",
     "output_type": "stream",
     "text": [
      "      14/30      8.38G     0.5858     0.8343     0.9932        149        640:  29%|██▊       | 16/56 [01:20<03:27, "
     ]
    },
    {
     "name": "stdout",
     "output_type": "stream",
     "text": [
      "[GPU 모니터] 메모리 할당: 719.3MB, 예약: 8576.0MB\n"
     ]
    },
    {
     "name": "stderr",
     "output_type": "stream",
     "text": [
      "      14/30      8.38G     0.5889     0.8559     0.9937        119        640:  48%|████▊     | 27/56 [02:16<02:28, "
     ]
    },
    {
     "name": "stdout",
     "output_type": "stream",
     "text": [
      "[GPU 모니터] 메모리 할당: 729.6MB, 예약: 8576.0MB\n"
     ]
    },
    {
     "name": "stderr",
     "output_type": "stream",
     "text": [
      "      14/30      8.38G     0.5928     0.8614     0.9962        145        640:  70%|██████▉   | 39/56 [03:17<01:25, "
     ]
    },
    {
     "name": "stdout",
     "output_type": "stream",
     "text": [
      "[GPU 모니터] 메모리 할당: 729.6MB, 예약: 8576.0MB\n"
     ]
    },
    {
     "name": "stderr",
     "output_type": "stream",
     "text": [
      "      14/30      8.38G     0.5954      0.861     0.9955        139        640:  91%|█████████ | 51/56 [04:19<00:26, "
     ]
    },
    {
     "name": "stdout",
     "output_type": "stream",
     "text": [
      "[GPU 모니터] 메모리 할당: 419.3MB, 예약: 8576.0MB\n"
     ]
    },
    {
     "name": "stderr",
     "output_type": "stream",
     "text": [
      "      14/30      8.43G     0.5953     0.8608     0.9955         22        640: 100%|██████████| 56/56 [04:40<00:00, \n",
      "                 Class     Images  Instances      Box(P          R      mAP50  mAP50-95): 100%|██████████| 7/7 [00:1"
     ]
    },
    {
     "name": "stdout",
     "output_type": "stream",
     "text": [
      "                   all        801        944      0.917      0.812      0.895      0.757\n"
     ]
    },
    {
     "name": "stderr",
     "output_type": "stream",
     "text": [
      "\n"
     ]
    },
    {
     "name": "stdout",
     "output_type": "stream",
     "text": [
      "\n",
      "      Epoch    GPU_mem   box_loss   cls_loss   dfl_loss  Instances       Size\n"
     ]
    },
    {
     "name": "stderr",
     "output_type": "stream",
     "text": [
      "      15/30      8.36G     0.6021      0.791      1.006        140        640:   7%|▋         | 4/56 [00:18<04:07,  "
     ]
    },
    {
     "name": "stdout",
     "output_type": "stream",
     "text": [
      "[GPU 모니터] 메모리 할당: 719.3MB, 예약: 8558.0MB\n"
     ]
    },
    {
     "name": "stderr",
     "output_type": "stream",
     "text": [
      "      15/30      8.36G     0.5877     0.7787     0.9951        159        640:  29%|██▊       | 16/56 [01:17<03:17, "
     ]
    },
    {
     "name": "stdout",
     "output_type": "stream",
     "text": [
      "[GPU 모니터] 메모리 할당: 7396.0MB, 예약: 8558.0MB\n"
     ]
    },
    {
     "name": "stderr",
     "output_type": "stream",
     "text": [
      "      15/30      8.36G     0.5804     0.8041     0.9966        130        640:  50%|█████     | 28/56 [02:16<02:17, "
     ]
    },
    {
     "name": "stdout",
     "output_type": "stream",
     "text": [
      "[GPU 모니터] 메모리 할당: 429.6MB, 예약: 8558.0MB\n"
     ]
    },
    {
     "name": "stderr",
     "output_type": "stream",
     "text": [
      "      15/30      8.36G     0.5843      0.799     0.9964        139        640:  73%|███████▎  | 41/56 [03:20<01:15, "
     ]
    },
    {
     "name": "stdout",
     "output_type": "stream",
     "text": [
      "[GPU 모니터] 메모리 할당: 429.6MB, 예약: 8558.0MB\n"
     ]
    },
    {
     "name": "stderr",
     "output_type": "stream",
     "text": [
      "      15/30      8.36G     0.5883     0.8047     0.9962        145        640:  93%|█████████▎| 52/56 [04:16<00:20, "
     ]
    },
    {
     "name": "stdout",
     "output_type": "stream",
     "text": [
      "[GPU 모니터] 메모리 할당: 429.6MB, 예약: 8558.0MB\n"
     ]
    },
    {
     "name": "stderr",
     "output_type": "stream",
     "text": [
      "      15/30      8.41G     0.5876      0.801      0.994         25        640: 100%|██████████| 56/56 [04:32<00:00, \n",
      "                 Class     Images  Instances      Box(P          R      mAP50  mAP50-95): 100%|██████████| 7/7 [00:1"
     ]
    },
    {
     "name": "stdout",
     "output_type": "stream",
     "text": [
      "                   all        801        944      0.899      0.828      0.906      0.775\n"
     ]
    },
    {
     "name": "stderr",
     "output_type": "stream",
     "text": [
      "\n"
     ]
    },
    {
     "name": "stdout",
     "output_type": "stream",
     "text": [
      "\n",
      "      Epoch    GPU_mem   box_loss   cls_loss   dfl_loss  Instances       Size\n"
     ]
    },
    {
     "name": "stderr",
     "output_type": "stream",
     "text": [
      "      16/30      8.37G     0.6097     0.8126      1.002        146        640:   9%|▉         | 5/56 [00:24<04:21,  "
     ]
    },
    {
     "name": "stdout",
     "output_type": "stream",
     "text": [
      "[GPU 모니터] 메모리 할당: 729.6MB, 예약: 8568.0MB\n"
     ]
    },
    {
     "name": "stderr",
     "output_type": "stream",
     "text": [
      "      16/30      8.37G     0.5807     0.7857      0.984        125        640:  30%|███       | 17/56 [01:24<03:15, "
     ]
    },
    {
     "name": "stdout",
     "output_type": "stream",
     "text": [
      "[GPU 모니터] 메모리 할당: 7695.3MB, 예약: 8568.0MB\n"
     ]
    },
    {
     "name": "stderr",
     "output_type": "stream",
     "text": [
      "      16/30      8.37G       0.59     0.7963     0.9841        151        640:  52%|█████▏    | 29/56 [02:27<02:21, "
     ]
    },
    {
     "name": "stdout",
     "output_type": "stream",
     "text": [
      "[GPU 모니터] 메모리 할당: 419.3MB, 예약: 8568.0MB\n"
     ]
    },
    {
     "name": "stderr",
     "output_type": "stream",
     "text": [
      "      16/30      8.37G     0.5877      0.792     0.9869        138        640:  73%|███████▎  | 41/56 [03:27<01:14, "
     ]
    },
    {
     "name": "stdout",
     "output_type": "stream",
     "text": [
      "[GPU 모니터] 메모리 할당: 419.3MB, 예약: 8568.0MB\n"
     ]
    },
    {
     "name": "stderr",
     "output_type": "stream",
     "text": [
      "      16/30      8.37G     0.5868     0.7893     0.9858        132        640:  95%|█████████▍| 53/56 [04:27<00:14, "
     ]
    },
    {
     "name": "stdout",
     "output_type": "stream",
     "text": [
      "[GPU 모니터] 메모리 할당: 419.3MB, 예약: 8568.0MB\n"
     ]
    },
    {
     "name": "stderr",
     "output_type": "stream",
     "text": [
      "      16/30      8.42G      0.583     0.7897     0.9857         26        640: 100%|██████████| 56/56 [04:37<00:00, \n",
      "                 Class     Images  Instances      Box(P          R      mAP50  mAP50-95): 100%|██████████| 7/7 [00:1"
     ]
    },
    {
     "name": "stdout",
     "output_type": "stream",
     "text": [
      "                   all        801        944       0.94      0.823      0.917      0.786\n"
     ]
    },
    {
     "name": "stderr",
     "output_type": "stream",
     "text": [
      "\n"
     ]
    },
    {
     "name": "stdout",
     "output_type": "stream",
     "text": [
      "\n",
      "      Epoch    GPU_mem   box_loss   cls_loss   dfl_loss  Instances       Size\n"
     ]
    },
    {
     "name": "stderr",
     "output_type": "stream",
     "text": [
      "      17/30      8.38G     0.5585     0.7196     0.9804        142        640:  11%|█         | 6/56 [00:27<03:55,  "
     ]
    },
    {
     "name": "stdout",
     "output_type": "stream",
     "text": [
      "[GPU 모니터] 메모리 할당: 429.6MB, 예약: 8576.0MB\n"
     ]
    },
    {
     "name": "stderr",
     "output_type": "stream",
     "text": [
      "      17/30      8.38G     0.5592       0.74     0.9761        137        640:  32%|███▏      | 18/56 [01:26<03:09, "
     ]
    },
    {
     "name": "stdout",
     "output_type": "stream",
     "text": [
      "[GPU 모니터] 메모리 할당: 429.6MB, 예약: 8576.0MB\n"
     ]
    },
    {
     "name": "stderr",
     "output_type": "stream",
     "text": [
      "      17/30      8.38G      0.558     0.7417     0.9765        139        640:  54%|█████▎    | 30/56 [02:27<02:10, "
     ]
    },
    {
     "name": "stdout",
     "output_type": "stream",
     "text": [
      "[GPU 모니터] 메모리 할당: 429.6MB, 예약: 8576.0MB\n"
     ]
    },
    {
     "name": "stderr",
     "output_type": "stream",
     "text": [
      "      17/30      8.38G     0.5571     0.7391     0.9795        142        640:  75%|███████▌  | 42/56 [03:27<01:09, "
     ]
    },
    {
     "name": "stdout",
     "output_type": "stream",
     "text": [
      "[GPU 모니터] 메모리 할당: 429.6MB, 예약: 8576.0MB\n"
     ]
    },
    {
     "name": "stderr",
     "output_type": "stream",
     "text": [
      "      17/30      8.38G     0.5629     0.7433     0.9816        130        640:  96%|█████████▋| 54/56 [04:26<00:09, "
     ]
    },
    {
     "name": "stdout",
     "output_type": "stream",
     "text": [
      "[GPU 모니터] 메모리 할당: 429.6MB, 예약: 8576.0MB\n"
     ]
    },
    {
     "name": "stderr",
     "output_type": "stream",
     "text": [
      "      17/30      8.43G      0.564     0.7448     0.9839         23        640: 100%|██████████| 56/56 [04:31<00:00, \n",
      "                 Class     Images  Instances      Box(P          R      mAP50  mAP50-95): 100%|██████████| 7/7 [00:1"
     ]
    },
    {
     "name": "stdout",
     "output_type": "stream",
     "text": [
      "                   all        801        944      0.907      0.846      0.917      0.783\n"
     ]
    },
    {
     "name": "stderr",
     "output_type": "stream",
     "text": [
      "\n"
     ]
    },
    {
     "name": "stdout",
     "output_type": "stream",
     "text": [
      "\n",
      "      Epoch    GPU_mem   box_loss   cls_loss   dfl_loss  Instances       Size\n"
     ]
    },
    {
     "name": "stderr",
     "output_type": "stream",
     "text": [
      "      18/30      8.37G     0.5933     0.7424      1.001        134        640:  14%|█▍        | 8/56 [00:37<03:50,  "
     ]
    },
    {
     "name": "stdout",
     "output_type": "stream",
     "text": [
      "[GPU 모니터] 메모리 할당: 429.6MB, 예약: 8568.0MB\n"
     ]
    },
    {
     "name": "stderr",
     "output_type": "stream",
     "text": [
      "      18/30      8.37G     0.5784     0.7416     0.9959        135        640:  36%|███▌      | 20/56 [01:36<03:00, "
     ]
    },
    {
     "name": "stdout",
     "output_type": "stream",
     "text": [
      "[GPU 모니터] 메모리 할당: 429.6MB, 예약: 8568.0MB\n"
     ]
    },
    {
     "name": "stderr",
     "output_type": "stream",
     "text": [
      "      18/30      8.37G     0.5766     0.7545     0.9887        124        640:  59%|█████▉    | 33/56 [02:40<01:51, "
     ]
    },
    {
     "name": "stdout",
     "output_type": "stream",
     "text": [
      "[GPU 모니터] 메모리 할당: 429.6MB, 예약: 8568.0MB\n"
     ]
    },
    {
     "name": "stderr",
     "output_type": "stream",
     "text": [
      "      18/30      8.37G     0.5778     0.7477     0.9885        126        640:  79%|███████▊  | 44/56 [03:36<01:01, "
     ]
    },
    {
     "name": "stdout",
     "output_type": "stream",
     "text": [
      "[GPU 모니터] 메모리 할당: 429.6MB, 예약: 8568.0MB\n"
     ]
    },
    {
     "name": "stderr",
     "output_type": "stream",
     "text": [
      "      18/30      8.42G     0.5696      0.744     0.9867         25        640: 100%|██████████| 56/56 [04:31<00:00, \n",
      "                 Class     Images  Instances      Box(P          R      mAP50  mAP50-95):  29%|██▊       | 2/7 [00:0"
     ]
    },
    {
     "name": "stdout",
     "output_type": "stream",
     "text": [
      "[GPU 모니터] 메모리 할당: 776.8MB, 예약: 3176.0MB\n"
     ]
    },
    {
     "name": "stderr",
     "output_type": "stream",
     "text": [
      "                 Class     Images  Instances      Box(P          R      mAP50  mAP50-95): 100%|██████████| 7/7 [00:1"
     ]
    },
    {
     "name": "stdout",
     "output_type": "stream",
     "text": [
      "                   all        801        944      0.937      0.836      0.917      0.784\n"
     ]
    },
    {
     "name": "stderr",
     "output_type": "stream",
     "text": [
      "\n"
     ]
    },
    {
     "name": "stdout",
     "output_type": "stream",
     "text": [
      "\n",
      "      Epoch    GPU_mem   box_loss   cls_loss   dfl_loss  Instances       Size\n"
     ]
    },
    {
     "name": "stderr",
     "output_type": "stream",
     "text": [
      "      19/30      8.37G     0.5563     0.6906      0.966        160        640:  18%|█▊        | 10/56 [00:49<03:52, "
     ]
    },
    {
     "name": "stdout",
     "output_type": "stream",
     "text": [
      "[GPU 모니터] 메모리 할당: 719.3MB, 예약: 8568.0MB\n"
     ]
    },
    {
     "name": "stderr",
     "output_type": "stream",
     "text": [
      "      19/30      8.37G     0.5599     0.6993     0.9726        146        640:  38%|███▊      | 21/56 [01:45<02:58, "
     ]
    },
    {
     "name": "stdout",
     "output_type": "stream",
     "text": [
      "[GPU 모니터] 메모리 할당: 729.6MB, 예약: 8568.0MB\n"
     ]
    },
    {
     "name": "stderr",
     "output_type": "stream",
     "text": [
      "      19/30      8.37G     0.5614     0.7131     0.9724        145        640:  59%|█████▉    | 33/56 [02:46<02:00, "
     ]
    },
    {
     "name": "stdout",
     "output_type": "stream",
     "text": [
      "[GPU 모니터] 메모리 할당: 6084.6MB, 예약: 8568.0MB\n"
     ]
    },
    {
     "name": "stderr",
     "output_type": "stream",
     "text": [
      "      19/30      8.37G     0.5643     0.7215     0.9745        140        640:  80%|████████  | 45/56 [03:46<00:54, "
     ]
    },
    {
     "name": "stdout",
     "output_type": "stream",
     "text": [
      "[GPU 모니터] 메모리 할당: 729.6MB, 예약: 8568.0MB\n"
     ]
    },
    {
     "name": "stderr",
     "output_type": "stream",
     "text": [
      "      19/30      8.43G     0.5736     0.7205      0.979         14        640: 100%|██████████| 56/56 [04:35<00:00, \n",
      "                 Class     Images  Instances      Box(P          R      mAP50  mAP50-95):  57%|█████▋    | 4/7 [00:1"
     ]
    },
    {
     "name": "stdout",
     "output_type": "stream",
     "text": [
      "[GPU 모니터] 메모리 할당: 776.8MB, 예약: 3174.0MB\n"
     ]
    },
    {
     "name": "stderr",
     "output_type": "stream",
     "text": [
      "                 Class     Images  Instances      Box(P          R      mAP50  mAP50-95): 100%|██████████| 7/7 [00:1"
     ]
    },
    {
     "name": "stdout",
     "output_type": "stream",
     "text": [
      "                   all        801        944      0.942      0.858      0.935        0.8\n"
     ]
    },
    {
     "name": "stderr",
     "output_type": "stream",
     "text": [
      "\n"
     ]
    },
    {
     "name": "stdout",
     "output_type": "stream",
     "text": [
      "\n",
      "      Epoch    GPU_mem   box_loss   cls_loss   dfl_loss  Instances       Size\n"
     ]
    },
    {
     "name": "stderr",
     "output_type": "stream",
     "text": [
      "      20/30      8.38G     0.5577     0.6714     0.9783        140        640:  20%|█▉        | 11/56 [00:52<03:48, "
     ]
    },
    {
     "name": "stdout",
     "output_type": "stream",
     "text": [
      "[GPU 모니터] 메모리 할당: 419.3MB, 예약: 8576.0MB\n"
     ]
    },
    {
     "name": "stderr",
     "output_type": "stream",
     "text": [
      "      20/30      8.38G     0.5542     0.6814     0.9773        153        640:  39%|███▉      | 22/56 [01:50<02:59, "
     ]
    },
    {
     "name": "stdout",
     "output_type": "stream",
     "text": [
      "[GPU 모니터] 메모리 할당: 429.6MB, 예약: 8576.0MB\n"
     ]
    },
    {
     "name": "stderr",
     "output_type": "stream",
     "text": [
      "      20/30      8.38G     0.5598     0.6955     0.9745        155        640:  61%|██████    | 34/56 [02:53<01:55, "
     ]
    },
    {
     "name": "stdout",
     "output_type": "stream",
     "text": [
      "[GPU 모니터] 메모리 할당: 719.3MB, 예약: 8576.0MB\n"
     ]
    },
    {
     "name": "stderr",
     "output_type": "stream",
     "text": [
      "      20/30      8.38G     0.5556     0.7001     0.9751        137        640:  80%|████████  | 45/56 [03:51<00:58, "
     ]
    },
    {
     "name": "stdout",
     "output_type": "stream",
     "text": [
      "[GPU 모니터] 메모리 할당: 729.6MB, 예약: 8576.0MB\n"
     ]
    },
    {
     "name": "stderr",
     "output_type": "stream",
     "text": [
      "      20/30      8.43G     0.5589     0.7097     0.9757         26        640: 100%|██████████| 56/56 [04:43<00:00, \n",
      "                 Class     Images  Instances      Box(P          R      mAP50  mAP50-95):  57%|█████▋    | 4/7 [00:1"
     ]
    },
    {
     "name": "stdout",
     "output_type": "stream",
     "text": [
      "[GPU 모니터] 메모리 할당: 776.8MB, 예약: 3172.0MB\n"
     ]
    },
    {
     "name": "stderr",
     "output_type": "stream",
     "text": [
      "                 Class     Images  Instances      Box(P          R      mAP50  mAP50-95): 100%|██████████| 7/7 [00:1"
     ]
    },
    {
     "name": "stdout",
     "output_type": "stream",
     "text": [
      "                   all        801        944      0.937       0.85      0.936      0.804\n"
     ]
    },
    {
     "name": "stderr",
     "output_type": "stream",
     "text": [
      "\n"
     ]
    },
    {
     "name": "stdout",
     "output_type": "stream",
     "text": [
      "Closing dataloader mosaic\n",
      "\n",
      "      Epoch    GPU_mem   box_loss   cls_loss   dfl_loss  Instances       Size\n"
     ]
    },
    {
     "name": "stderr",
     "output_type": "stream",
     "text": [
      "      21/30      8.33G     0.5502     0.5564       0.95         69        640:  18%|█▊        | 10/56 [00:47<03:47, "
     ]
    },
    {
     "name": "stdout",
     "output_type": "stream",
     "text": [
      "[GPU 모니터] 메모리 할당: 429.6MB, 예약: 8526.0MB\n"
     ]
    },
    {
     "name": "stderr",
     "output_type": "stream",
     "text": [
      "      21/30      8.33G      0.562     0.5538     0.9502         74        640:  41%|████      | 23/56 [01:52<02:44, "
     ]
    },
    {
     "name": "stdout",
     "output_type": "stream",
     "text": [
      "[GPU 모니터] 메모리 할당: 419.3MB, 예약: 8526.0MB\n"
     ]
    },
    {
     "name": "stderr",
     "output_type": "stream",
     "text": [
      "      21/30      8.33G     0.5609      0.548     0.9465         81        640:  62%|██████▎   | 35/56 [02:52<01:45, "
     ]
    },
    {
     "name": "stdout",
     "output_type": "stream",
     "text": [
      "[GPU 모니터] 메모리 할당: 419.3MB, 예약: 8526.0MB\n"
     ]
    },
    {
     "name": "stderr",
     "output_type": "stream",
     "text": [
      "      21/30      8.33G     0.5549     0.5376     0.9462         73        640:  84%|████████▍ | 47/56 [03:51<00:44, "
     ]
    },
    {
     "name": "stdout",
     "output_type": "stream",
     "text": [
      "[GPU 모니터] 메모리 할당: 419.3MB, 예약: 8526.0MB\n"
     ]
    },
    {
     "name": "stderr",
     "output_type": "stream",
     "text": [
      "      21/30      8.38G     0.5565     0.5338     0.9512         15        640: 100%|██████████| 56/56 [04:32<00:00, \n",
      "                 Class     Images  Instances      Box(P          R      mAP50  mAP50-95): 100%|██████████| 7/7 [00:1"
     ]
    },
    {
     "name": "stdout",
     "output_type": "stream",
     "text": [
      "                   all        801        944      0.945      0.845      0.931      0.793\n"
     ]
    },
    {
     "name": "stderr",
     "output_type": "stream",
     "text": [
      "\n"
     ]
    },
    {
     "name": "stdout",
     "output_type": "stream",
     "text": [
      "\n",
      "      Epoch    GPU_mem   box_loss   cls_loss   dfl_loss  Instances       Size\n"
     ]
    },
    {
     "name": "stderr",
     "output_type": "stream",
     "text": [
      "  0%|          | 0/56 [00:00<?, ?it/s]"
     ]
    },
    {
     "name": "stdout",
     "output_type": "stream",
     "text": [
      "[GPU 모니터] 메모리 할당: 166.1MB, 예약: 3180.0MB\n"
     ]
    },
    {
     "name": "stderr",
     "output_type": "stream",
     "text": [
      "      22/30      8.36G     0.5588      0.515     0.9516         75        640:  21%|██▏       | 12/56 [00:59<03:41, "
     ]
    },
    {
     "name": "stdout",
     "output_type": "stream",
     "text": [
      "[GPU 모니터] 메모리 할당: 719.3MB, 예약: 8558.0MB\n"
     ]
    },
    {
     "name": "stderr",
     "output_type": "stream",
     "text": [
      "      22/30      8.36G     0.5503     0.5022     0.9529         71        640:  43%|████▎     | 24/56 [02:00<02:44, "
     ]
    },
    {
     "name": "stdout",
     "output_type": "stream",
     "text": [
      "[GPU 모니터] 메모리 할당: 719.3MB, 예약: 8560.0MB\n"
     ]
    },
    {
     "name": "stderr",
     "output_type": "stream",
     "text": [
      "      22/30      8.36G     0.5446     0.5013     0.9425         85        640:  62%|██████▎   | 35/56 [02:56<01:46, "
     ]
    },
    {
     "name": "stdout",
     "output_type": "stream",
     "text": [
      "[GPU 모니터] 메모리 할당: 729.6MB, 예약: 8560.0MB\n"
     ]
    },
    {
     "name": "stderr",
     "output_type": "stream",
     "text": [
      "      22/30      8.36G      0.541     0.4934     0.9398         73        640:  84%|████████▍ | 47/56 [03:58<00:45, "
     ]
    },
    {
     "name": "stdout",
     "output_type": "stream",
     "text": [
      "[GPU 모니터] 메모리 할당: 7696.1MB, 예약: 8560.0MB\n"
     ]
    },
    {
     "name": "stderr",
     "output_type": "stream",
     "text": [
      "      22/30      8.41G     0.5441     0.5012     0.9367         13        640: 100%|██████████| 56/56 [04:39<00:00, \n",
      "                 Class     Images  Instances      Box(P          R      mAP50  mAP50-95): 100%|██████████| 7/7 [00:1"
     ]
    },
    {
     "name": "stdout",
     "output_type": "stream",
     "text": [
      "                   all        801        944      0.958       0.83      0.935      0.801\n"
     ]
    },
    {
     "name": "stderr",
     "output_type": "stream",
     "text": [
      "\n"
     ]
    },
    {
     "name": "stdout",
     "output_type": "stream",
     "text": [
      "\n",
      "      Epoch    GPU_mem   box_loss   cls_loss   dfl_loss  Instances       Size\n"
     ]
    },
    {
     "name": "stderr",
     "output_type": "stream",
     "text": [
      "      23/30      8.37G     0.6283     0.5501     0.9674         86        640:   2%|▏         | 1/56 [00:03<03:00,  "
     ]
    },
    {
     "name": "stdout",
     "output_type": "stream",
     "text": [
      "[GPU 모니터] 메모리 할당: 419.3MB, 예약: 8568.0MB\n"
     ]
    },
    {
     "name": "stderr",
     "output_type": "stream",
     "text": [
      "      23/30      8.37G     0.5549     0.4725     0.9403         76        640:  23%|██▎       | 13/56 [00:59<03:21, "
     ]
    },
    {
     "name": "stdout",
     "output_type": "stream",
     "text": [
      "[GPU 모니터] 메모리 할당: 729.6MB, 예약: 8568.0MB\n"
     ]
    },
    {
     "name": "stderr",
     "output_type": "stream",
     "text": [
      "      23/30      8.37G     0.5478     0.4724     0.9365         74        640:  46%|████▋     | 26/56 [02:00<02:21, "
     ]
    },
    {
     "name": "stdout",
     "output_type": "stream",
     "text": [
      "[GPU 모니터] 메모리 할당: 429.6MB, 예약: 8568.0MB\n"
     ]
    },
    {
     "name": "stderr",
     "output_type": "stream",
     "text": [
      "      23/30      8.37G     0.5406     0.4665     0.9381         72        640:  70%|██████▉   | 39/56 [03:01<01:19, "
     ]
    },
    {
     "name": "stdout",
     "output_type": "stream",
     "text": [
      "[GPU 모니터] 메모리 할당: 7695.3MB, 예약: 8568.0MB\n"
     ]
    },
    {
     "name": "stderr",
     "output_type": "stream",
     "text": [
      "      23/30      8.37G     0.5396     0.4734     0.9379         74        640:  93%|█████████▎| 52/56 [04:01<00:18, "
     ]
    },
    {
     "name": "stdout",
     "output_type": "stream",
     "text": [
      "[GPU 모니터] 메모리 할당: 7394.5MB, 예약: 8568.0MB\n"
     ]
    },
    {
     "name": "stderr",
     "output_type": "stream",
     "text": [
      "      23/30      8.42G     0.5422     0.4737     0.9381         15        640: 100%|██████████| 56/56 [04:16<00:00, \n",
      "                 Class     Images  Instances      Box(P          R      mAP50  mAP50-95): 100%|██████████| 7/7 [00:1"
     ]
    },
    {
     "name": "stdout",
     "output_type": "stream",
     "text": [
      "                   all        801        944      0.939      0.858      0.937      0.803\n"
     ]
    },
    {
     "name": "stderr",
     "output_type": "stream",
     "text": [
      "\n"
     ]
    },
    {
     "name": "stdout",
     "output_type": "stream",
     "text": [
      "\n",
      "      Epoch    GPU_mem   box_loss   cls_loss   dfl_loss  Instances       Size\n"
     ]
    },
    {
     "name": "stderr",
     "output_type": "stream",
     "text": [
      "      24/30      8.33G     0.5257     0.4475     0.9463         74        640:  11%|█         | 6/56 [00:26<03:49,  "
     ]
    },
    {
     "name": "stdout",
     "output_type": "stream",
     "text": [
      "[GPU 모니터] 메모리 할당: 429.6MB, 예약: 8526.0MB\n"
     ]
    },
    {
     "name": "stderr",
     "output_type": "stream",
     "text": [
      "      24/30      8.33G     0.5395     0.4684     0.9432         71        640:  34%|███▍      | 19/56 [01:27<02:54, "
     ]
    },
    {
     "name": "stdout",
     "output_type": "stream",
     "text": [
      "[GPU 모니터] 메모리 할당: 419.3MB, 예약: 8528.0MB\n"
     ]
    },
    {
     "name": "stderr",
     "output_type": "stream",
     "text": [
      "      24/30      8.33G     0.5314     0.4541     0.9403         78        640:  57%|█████▋    | 32/56 [02:27<01:51, "
     ]
    },
    {
     "name": "stdout",
     "output_type": "stream",
     "text": [
      "[GPU 모니터] 메모리 할당: 7394.5MB, 예약: 8528.0MB\n"
     ]
    },
    {
     "name": "stderr",
     "output_type": "stream",
     "text": [
      "      24/30      8.33G     0.5278     0.4554      0.937         76        640:  79%|███████▊  | 44/56 [03:25<00:58, "
     ]
    },
    {
     "name": "stdout",
     "output_type": "stream",
     "text": [
      "[GPU 모니터] 메모리 할당: 429.6MB, 예약: 8528.0MB\n"
     ]
    },
    {
     "name": "stderr",
     "output_type": "stream",
     "text": [
      "      24/30      8.38G       0.53     0.4615     0.9357         10        640: 100%|██████████| 56/56 [04:18<00:00, \n",
      "                 Class     Images  Instances      Box(P          R      mAP50  mAP50-95): 100%|██████████| 7/7 [00:0"
     ]
    },
    {
     "name": "stdout",
     "output_type": "stream",
     "text": [
      "                   all        801        944      0.921      0.885      0.937      0.808\n"
     ]
    },
    {
     "name": "stderr",
     "output_type": "stream",
     "text": [
      "\n"
     ]
    },
    {
     "name": "stdout",
     "output_type": "stream",
     "text": [
      "[GPU 모니터] 메모리 할당: 466.1MB, 예약: 3180.0MB\n",
      "\n",
      "      Epoch    GPU_mem   box_loss   cls_loss   dfl_loss  Instances       Size\n"
     ]
    },
    {
     "name": "stderr",
     "output_type": "stream",
     "text": [
      "      25/30      8.33G     0.5023     0.4118     0.9165         72        640:  23%|██▎       | 13/56 [00:57<03:07, "
     ]
    },
    {
     "name": "stdout",
     "output_type": "stream",
     "text": [
      "[GPU 모니터] 메모리 할당: 729.6MB, 예약: 8526.0MB\n"
     ]
    },
    {
     "name": "stderr",
     "output_type": "stream",
     "text": [
      "      25/30      8.33G     0.5157     0.4318     0.9246         74        640:  48%|████▊     | 27/56 [01:58<02:07, "
     ]
    },
    {
     "name": "stdout",
     "output_type": "stream",
     "text": [
      "[GPU 모니터] 메모리 할당: 419.3MB, 예약: 8528.0MB\n"
     ]
    },
    {
     "name": "stderr",
     "output_type": "stream",
     "text": [
      "      25/30      8.33G     0.5208     0.4336     0.9274         71        640:  73%|███████▎  | 41/56 [02:59<01:02, "
     ]
    },
    {
     "name": "stdout",
     "output_type": "stream",
     "text": [
      "[GPU 모니터] 메모리 할당: 419.3MB, 예약: 8528.0MB\n"
     ]
    },
    {
     "name": "stderr",
     "output_type": "stream",
     "text": [
      "      25/30      8.33G      0.523      0.434     0.9299         77        640:  96%|█████████▋| 54/56 [03:56<00:08, "
     ]
    },
    {
     "name": "stdout",
     "output_type": "stream",
     "text": [
      "[GPU 모니터] 메모리 할당: 429.6MB, 예약: 8528.0MB\n"
     ]
    },
    {
     "name": "stderr",
     "output_type": "stream",
     "text": [
      "      25/30      8.38G     0.5249      0.438     0.9284         15        640: 100%|██████████| 56/56 [04:01<00:00, \n",
      "                 Class     Images  Instances      Box(P          R      mAP50  mAP50-95): 100%|██████████| 7/7 [00:1"
     ]
    },
    {
     "name": "stdout",
     "output_type": "stream",
     "text": [
      "                   all        801        944      0.932      0.888      0.944      0.814\n"
     ]
    },
    {
     "name": "stderr",
     "output_type": "stream",
     "text": [
      "\n"
     ]
    },
    {
     "name": "stdout",
     "output_type": "stream",
     "text": [
      "\n",
      "      Epoch    GPU_mem   box_loss   cls_loss   dfl_loss  Instances       Size\n"
     ]
    },
    {
     "name": "stderr",
     "output_type": "stream",
     "text": [
      "      26/30      8.33G     0.5278     0.4296     0.9258         74        640:  14%|█▍        | 8/56 [00:38<03:53,  "
     ]
    },
    {
     "name": "stdout",
     "output_type": "stream",
     "text": [
      "[GPU 모니터] 메모리 할당: 719.3MB, 예약: 8526.0MB\n"
     ]
    },
    {
     "name": "stderr",
     "output_type": "stream",
     "text": [
      "      26/30      8.33G     0.5124     0.4285     0.9225         75        640:  36%|███▌      | 20/56 [01:37<02:53, "
     ]
    },
    {
     "name": "stdout",
     "output_type": "stream",
     "text": [
      "[GPU 모니터] 메모리 할당: 719.3MB, 예약: 8526.0MB\n"
     ]
    },
    {
     "name": "stderr",
     "output_type": "stream",
     "text": [
      "      26/30      8.33G     0.5106     0.4253     0.9223         79        640:  57%|█████▋    | 32/56 [02:38<02:01, "
     ]
    },
    {
     "name": "stdout",
     "output_type": "stream",
     "text": [
      "[GPU 모니터] 메모리 할당: 719.3MB, 예약: 8526.0MB\n"
     ]
    },
    {
     "name": "stderr",
     "output_type": "stream",
     "text": [
      "      26/30      8.33G     0.5073     0.4178     0.9194         72        640:  79%|███████▊  | 44/56 [03:38<01:01, "
     ]
    },
    {
     "name": "stdout",
     "output_type": "stream",
     "text": [
      "[GPU 모니터] 메모리 할당: 719.3MB, 예약: 8526.0MB\n"
     ]
    },
    {
     "name": "stderr",
     "output_type": "stream",
     "text": [
      "      26/30      8.38G     0.5099     0.4145     0.9201         10        640: 100%|██████████| 56/56 [04:35<00:00, \n",
      "                 Class     Images  Instances      Box(P          R      mAP50  mAP50-95):  14%|█▍        | 1/7 [00:0"
     ]
    },
    {
     "name": "stdout",
     "output_type": "stream",
     "text": [
      "[GPU 모니터] 메모리 할당: 776.8MB, 예약: 3176.0MB\n"
     ]
    },
    {
     "name": "stderr",
     "output_type": "stream",
     "text": [
      "                 Class     Images  Instances      Box(P          R      mAP50  mAP50-95): 100%|██████████| 7/7 [00:1"
     ]
    },
    {
     "name": "stdout",
     "output_type": "stream",
     "text": [
      "                   all        801        944      0.934      0.875       0.94      0.808\n"
     ]
    },
    {
     "name": "stderr",
     "output_type": "stream",
     "text": [
      "\n"
     ]
    },
    {
     "name": "stdout",
     "output_type": "stream",
     "text": [
      "\n",
      "      Epoch    GPU_mem   box_loss   cls_loss   dfl_loss  Instances       Size\n"
     ]
    },
    {
     "name": "stderr",
     "output_type": "stream",
     "text": [
      "      27/30      8.36G     0.5012     0.4003     0.9187         86        640:  16%|█▌        | 9/56 [00:42<03:46,  "
     ]
    },
    {
     "name": "stdout",
     "output_type": "stream",
     "text": [
      "[GPU 모니터] 메모리 할당: 7696.0MB, 예약: 8558.0MB\n"
     ]
    },
    {
     "name": "stderr",
     "output_type": "stream",
     "text": [
      "      27/30      8.36G     0.4982     0.3945      0.919         69        640:  38%|███▊      | 21/56 [01:41<02:55, "
     ]
    },
    {
     "name": "stdout",
     "output_type": "stream",
     "text": [
      "[GPU 모니터] 메모리 할당: 7696.0MB, 예약: 8560.0MB\n"
     ]
    },
    {
     "name": "stderr",
     "output_type": "stream",
     "text": [
      "      27/30      8.36G     0.4991     0.4018     0.9211         76        640:  59%|█████▉    | 33/56 [02:42<01:59, "
     ]
    },
    {
     "name": "stdout",
     "output_type": "stream",
     "text": [
      "[GPU 모니터] 메모리 할당: 419.3MB, 예약: 8560.0MB\n"
     ]
    },
    {
     "name": "stderr",
     "output_type": "stream",
     "text": [
      "      27/30      8.36G     0.5023     0.4019     0.9233         78        640:  80%|████████  | 45/56 [03:42<00:54, "
     ]
    },
    {
     "name": "stdout",
     "output_type": "stream",
     "text": [
      "[GPU 모니터] 메모리 할당: 419.3MB, 예약: 8560.0MB\n"
     ]
    },
    {
     "name": "stderr",
     "output_type": "stream",
     "text": [
      "      27/30      8.41G     0.5091     0.4069     0.9214         18        640: 100%|██████████| 56/56 [04:33<00:00, \n",
      "                 Class     Images  Instances      Box(P          R      mAP50  mAP50-95):  43%|████▎     | 3/7 [00:0"
     ]
    },
    {
     "name": "stdout",
     "output_type": "stream",
     "text": [
      "[GPU 모니터] 메모리 할당: 998.3MB, 예약: 3172.0MB\n"
     ]
    },
    {
     "name": "stderr",
     "output_type": "stream",
     "text": [
      "                 Class     Images  Instances      Box(P          R      mAP50  mAP50-95): 100%|██████████| 7/7 [00:1"
     ]
    },
    {
     "name": "stdout",
     "output_type": "stream",
     "text": [
      "                   all        801        944      0.946      0.874      0.945       0.82\n"
     ]
    },
    {
     "name": "stderr",
     "output_type": "stream",
     "text": [
      "\n"
     ]
    },
    {
     "name": "stdout",
     "output_type": "stream",
     "text": [
      "\n",
      "      Epoch    GPU_mem   box_loss   cls_loss   dfl_loss  Instances       Size\n"
     ]
    },
    {
     "name": "stderr",
     "output_type": "stream",
     "text": [
      "      28/30      8.35G     0.4972       0.41     0.9086         72        640:  21%|██▏       | 12/56 [00:51<03:12, "
     ]
    },
    {
     "name": "stdout",
     "output_type": "stream",
     "text": [
      "[GPU 모니터] 메모리 할당: 719.3MB, 예약: 8548.0MB\n"
     ]
    },
    {
     "name": "stderr",
     "output_type": "stream",
     "text": [
      "      28/30      8.35G     0.4919     0.3956     0.9014         75        640:  45%|████▍     | 25/56 [01:48<02:15, "
     ]
    },
    {
     "name": "stdout",
     "output_type": "stream",
     "text": [
      "[GPU 모니터] 메모리 할당: 729.6MB, 예약: 8548.0MB\n"
     ]
    },
    {
     "name": "stderr",
     "output_type": "stream",
     "text": [
      "      28/30      8.35G     0.4934     0.3922      0.909         81        640:  70%|██████▉   | 39/56 [02:49<01:14, "
     ]
    },
    {
     "name": "stdout",
     "output_type": "stream",
     "text": [
      "[GPU 모니터] 메모리 할당: 419.3MB, 예약: 8548.0MB\n"
     ]
    },
    {
     "name": "stderr",
     "output_type": "stream",
     "text": [
      "      28/30      8.35G     0.4935     0.3912     0.9123         76        640:  95%|█████████▍| 53/56 [03:50<00:12, "
     ]
    },
    {
     "name": "stdout",
     "output_type": "stream",
     "text": [
      "[GPU 모니터] 메모리 할당: 419.3MB, 예약: 8548.0MB\n"
     ]
    },
    {
     "name": "stderr",
     "output_type": "stream",
     "text": [
      "      28/30       8.4G     0.4947     0.3907     0.9121         14        640: 100%|██████████| 56/56 [04:00<00:00, \n",
      "                 Class     Images  Instances      Box(P          R      mAP50  mAP50-95): 100%|██████████| 7/7 [00:1"
     ]
    },
    {
     "name": "stdout",
     "output_type": "stream",
     "text": [
      "                   all        801        944      0.925      0.887      0.947      0.819\n"
     ]
    },
    {
     "name": "stderr",
     "output_type": "stream",
     "text": [
      "\n"
     ]
    },
    {
     "name": "stdout",
     "output_type": "stream",
     "text": [
      "\n",
      "      Epoch    GPU_mem   box_loss   cls_loss   dfl_loss  Instances       Size\n"
     ]
    },
    {
     "name": "stderr",
     "output_type": "stream",
     "text": [
      "      29/30      8.33G     0.4834     0.3766     0.8895         68        640:  11%|█         | 6/56 [00:27<04:04,  "
     ]
    },
    {
     "name": "stdout",
     "output_type": "stream",
     "text": [
      "[GPU 모니터] 메모리 할당: 429.6MB, 예약: 8526.0MB\n"
     ]
    },
    {
     "name": "stderr",
     "output_type": "stream",
     "text": [
      "      29/30      8.33G     0.5103     0.3946     0.9118         77        640:  32%|███▏      | 18/56 [01:28<03:10, "
     ]
    },
    {
     "name": "stdout",
     "output_type": "stream",
     "text": [
      "[GPU 모니터] 메모리 할당: 7394.5MB, 예약: 8526.0MB\n"
     ]
    },
    {
     "name": "stderr",
     "output_type": "stream",
     "text": [
      "      29/30      8.33G      0.508     0.3927     0.9125         87        640:  54%|█████▎    | 30/56 [02:29<02:10, "
     ]
    },
    {
     "name": "stdout",
     "output_type": "stream",
     "text": [
      "[GPU 모니터] 메모리 할당: 7394.5MB, 예약: 8526.0MB\n"
     ]
    },
    {
     "name": "stderr",
     "output_type": "stream",
     "text": [
      "      29/30      8.33G        0.5     0.3897     0.9076         78        640:  75%|███████▌  | 42/56 [03:29<01:10, "
     ]
    },
    {
     "name": "stdout",
     "output_type": "stream",
     "text": [
      "[GPU 모니터] 메모리 할당: 719.3MB, 예약: 8526.0MB\n"
     ]
    },
    {
     "name": "stderr",
     "output_type": "stream",
     "text": [
      "      29/30      8.33G     0.4945     0.3844     0.9075         79        640:  96%|█████████▋| 54/56 [04:29<00:09, "
     ]
    },
    {
     "name": "stdout",
     "output_type": "stream",
     "text": [
      "[GPU 모니터] 메모리 할당: 5928.3MB, 예약: 8526.0MB\n"
     ]
    },
    {
     "name": "stderr",
     "output_type": "stream",
     "text": [
      "      29/30      8.38G     0.4943     0.3853      0.909         10        640: 100%|██████████| 56/56 [04:35<00:00, \n",
      "                 Class     Images  Instances      Box(P          R      mAP50  mAP50-95): 100%|██████████| 7/7 [00:1"
     ]
    },
    {
     "name": "stdout",
     "output_type": "stream",
     "text": [
      "                   all        801        944      0.924      0.899      0.949      0.824\n"
     ]
    },
    {
     "name": "stderr",
     "output_type": "stream",
     "text": [
      "\n"
     ]
    },
    {
     "name": "stdout",
     "output_type": "stream",
     "text": [
      "\n",
      "      Epoch    GPU_mem   box_loss   cls_loss   dfl_loss  Instances       Size\n"
     ]
    },
    {
     "name": "stderr",
     "output_type": "stream",
     "text": [
      "      30/30      8.36G     0.4744     0.3644     0.9072         79        640:  14%|█▍        | 8/56 [00:34<03:34,  "
     ]
    },
    {
     "name": "stdout",
     "output_type": "stream",
     "text": [
      "[GPU 모니터] 메모리 할당: 7396.0MB, 예약: 8558.0MB\n"
     ]
    },
    {
     "name": "stderr",
     "output_type": "stream",
     "text": [
      "      30/30      8.36G     0.4779     0.3667     0.9076         72        640:  38%|███▊      | 21/56 [01:34<02:41, "
     ]
    },
    {
     "name": "stdout",
     "output_type": "stream",
     "text": [
      "[GPU 모니터] 메모리 할당: 7859.1MB, 예약: 8560.0MB\n"
     ]
    },
    {
     "name": "stderr",
     "output_type": "stream",
     "text": [
      "      30/30      8.36G     0.4852     0.3732     0.9064         74        640:  61%|██████    | 34/56 [02:34<01:41, "
     ]
    },
    {
     "name": "stdout",
     "output_type": "stream",
     "text": [
      "[GPU 모니터] 메모리 할당: 429.6MB, 예약: 8560.0MB\n"
     ]
    },
    {
     "name": "stderr",
     "output_type": "stream",
     "text": [
      "      30/30      8.36G     0.4896     0.3771     0.9074         81        640:  86%|████████▌ | 48/56 [03:36<00:36, "
     ]
    },
    {
     "name": "stdout",
     "output_type": "stream",
     "text": [
      "[GPU 모니터] 메모리 할당: 719.3MB, 예약: 8560.0MB\n"
     ]
    },
    {
     "name": "stderr",
     "output_type": "stream",
     "text": [
      "      30/30      8.41G     0.4896     0.3794     0.9073         10        640: 100%|██████████| 56/56 [04:09<00:00, \n",
      "                 Class     Images  Instances      Box(P          R      mAP50  mAP50-95): 100%|██████████| 7/7 [00:1"
     ]
    },
    {
     "name": "stdout",
     "output_type": "stream",
     "text": [
      "                   all        801        944       0.95      0.886      0.953      0.826\n"
     ]
    },
    {
     "name": "stderr",
     "output_type": "stream",
     "text": [
      "\n"
     ]
    },
    {
     "name": "stdout",
     "output_type": "stream",
     "text": [
      "\n",
      "30 epochs completed in 2.262 hours.\n",
      "Optimizer stripped from runs\\detect\\yolov11n_custom_006\\weights\\last.pt, 5.5MB\n",
      "Optimizer stripped from runs\\detect\\yolov11n_custom_006\\weights\\best.pt, 5.5MB\n",
      "\n",
      "Validating runs\\detect\\yolov11n_custom_006\\weights\\best.pt...\n",
      "Ultralytics 8.3.156  Python-3.11.9 torch-2.7.1+cu128 CUDA:0 (NVIDIA GeForce RTX 4070 Laptop GPU, 8188MiB)\n",
      "YOLO11n summary (fused): 100 layers, 2,585,077 parameters, 0 gradients, 6.3 GFLOPs\n"
     ]
    },
    {
     "name": "stderr",
     "output_type": "stream",
     "text": [
      "                 Class     Images  Instances      Box(P          R      mAP50  mAP50-95):  29%|██▊       | 2/7 [00:0"
     ]
    },
    {
     "name": "stdout",
     "output_type": "stream",
     "text": [
      "[GPU 모니터] 메모리 할당: 802.0MB, 예약: 3194.0MB\n"
     ]
    },
    {
     "name": "stderr",
     "output_type": "stream",
     "text": [
      "                 Class     Images  Instances      Box(P          R      mAP50  mAP50-95): 100%|██████████| 7/7 [00:2\n"
     ]
    },
    {
     "name": "stdout",
     "output_type": "stream",
     "text": [
      "                   all        801        944       0.95      0.887      0.953      0.827\n",
      "           Green Light         87        122      0.896      0.697      0.823       0.49\n",
      "             Red Light         74        108      0.906      0.716      0.826      0.504\n",
      "       Speed Limit 100         52         52      0.934      0.942      0.977      0.903\n",
      "       Speed Limit 110         17         17      0.841      0.933       0.97      0.883\n",
      "       Speed Limit 120         60         60       0.97       0.95      0.992      0.919\n",
      "        Speed Limit 20         56         56      0.985      0.964      0.985      0.871\n",
      "        Speed Limit 30         71         74      0.952      0.959      0.983      0.909\n",
      "        Speed Limit 40         53         55      0.985      0.909      0.984      0.876\n",
      "        Speed Limit 50         68         71      0.984      0.876      0.972      0.866\n",
      "        Speed Limit 60         76         76       0.94      0.921      0.963      0.885\n",
      "        Speed Limit 70         78         78      0.991      0.962      0.986      0.911\n",
      "        Speed Limit 80         56         56      0.961      0.911      0.974      0.854\n",
      "        Speed Limit 90         38         38      0.963      0.676      0.912       0.77\n",
      "                  Stop         81         81      0.993          1      0.995      0.931\n",
      "Speed: 0.4ms preprocess, 2.6ms inference, 0.0ms loss, 2.9ms postprocess per image\n",
      "Results saved to \u001b[1mruns\\detect\\yolov11n_custom_006\u001b[0m\n",
      "✅ 훈련 소요 시간: 8181.21초\n",
      "[GPU 모니터] 메모리 할당: 104.1MB, 예약: 522.0MB\n",
      "[GPU 모니터] 메모리 할당: 104.1MB, 예약: 522.0MB\n",
      "[GPU 모니터] 메모리 할당: 104.1MB, 예약: 522.0MB\n",
      "[GPU 모니터] 메모리 할당: 104.1MB, 예약: 522.0MB\n",
      "[GPU 모니터] 메모리 할당: 104.1MB, 예약: 522.0MB\n",
      "[GPU 모니터] 메모리 할당: 114.7MB, 예약: 526.0MB\n",
      "[GPU 모니터] 메모리 할당: 115.3MB, 예약: 528.0MB\n",
      "[GPU 모니터] 메모리 할당: 115.3MB, 예약: 528.0MB\n",
      "[GPU 모니터] 메모리 할당: 115.3MB, 예약: 528.0MB\n",
      "[GPU 모니터] 메모리 할당: 115.3MB, 예약: 528.0MB\n"
     ]
    }
   ],
   "source": [
    "os.environ[\"CUDA_VISIBLE_DEVICES\"] = \"0\"\n",
    "\n",
    "# GPU 메모리 사용량 주기적으로 출력 (간격 60초로 조정)\n",
    "def gpu_monitor():\n",
    "    while True:\n",
    "        if torch.cuda.is_available():\n",
    "            mem_alloc = torch.cuda.memory_allocated() / 1024**2\n",
    "            mem_reserved = torch.cuda.memory_reserved() / 1024**2\n",
    "            print(f\"[GPU 모니터] 메모리 할당: {mem_alloc:.1f}MB, 예약: {mem_reserved:.1f}MB\")\n",
    "        time.sleep(60)  # 60초 간격\n",
    "\n",
    "monitor_thread = threading.Thread(target=gpu_monitor, daemon=True)\n",
    "monitor_thread.start()\n",
    "\n",
    "# 모델 로드\n",
    "model = YOLO('yolo11n.pt')\n",
    "# model = YOLO('runs/detect/yolov11n_custom_001/weights/best.pt')  # 기존 모델에서 이어서 학습 시\n",
    "\n",
    "# 하이퍼파라미터 튜닝 포함한 train 함수 호출\n",
    "start_time = time.time()\n",
    "\n",
    "model.train(\n",
    "    data='data.yaml',\n",
    "    epochs=30,\n",
    "    imgsz=640,\n",
    "    name=run_name,\n",
    "    device='0',\n",
    "    workers=0,\n",
    "    verbose=True,  # 더 자세한 로그 출력\n",
    "\n",
    "    batch=64,\n",
    ")\n",
    "\n",
    "train_duration = time.time() - start_time\n",
    "print(f\"✅ 훈련 소요 시간: {train_duration:.2f}초\")"
   ]
  },
  {
   "cell_type": "code",
   "execution_count": null,
   "id": "60c0b627-b4cd-49b0-850c-16cf9be24ff7",
   "metadata": {},
   "outputs": [],
   "source": [
    "# 📌 [7] 검증 수행\n",
    "# start_val = time.time()\n",
    "\n",
    "# model = YOLO(f'runs/detect/{run_name}/weights/best.pt')\n",
    "# results = model.val()\n",
    "# val_duration = time.time() - start_val\n",
    "# print(f\"✅ 검증 소요 시간: {val_duration:.2f}초\")\n",
    "# print(f\"mAP50: {results.box.map50:.4f}, mAP50-95: {results.box.map:.4f}\")\n",
    "\n",
    "# # PR Curve 시각화 (val 결과 내 PR curve 있으면)\n",
    "# if hasattr(results, 'plots') and 'pr_curve' in results.plots:\n",
    "#     plt.figure(figsize=(8,6))\n",
    "#     plt.imshow(results.plots['pr_curve'])\n",
    "#     plt.axis('off')\n",
    "#     plt.title(\"PR Curve\")\n",
    "#     plt.show()"
   ]
  },
  {
   "cell_type": "code",
   "execution_count": null,
   "id": "1c2bc45d-0953-48f7-84e2-1b654387cedd",
   "metadata": {},
   "outputs": [],
   "source": []
  },
  {
   "cell_type": "code",
   "execution_count": null,
   "id": "b2c1a8b2-97e9-4c09-8f7b-79247534a245",
   "metadata": {},
   "outputs": [],
   "source": []
  },
  {
   "cell_type": "code",
   "execution_count": 17,
   "id": "d97140da-804d-4837-9713-a4c79560ecc8",
   "metadata": {},
   "outputs": [],
   "source": [
    "run_name = 'yolov11n_custom_006'"
   ]
  },
  {
   "cell_type": "code",
   "execution_count": 18,
   "id": "015f7fc0-8690-492d-884e-547e6cbbf1d2",
   "metadata": {},
   "outputs": [
    {
     "name": "stdout",
     "output_type": "stream",
     "text": [
      "\n",
      "image 1/1 D:\\Project\\PJT_07\\code\\..\\test\\images\\00014_00004_00020_png.rf.e3b35f3ca153fde99af4db4a67d2a564.jpg: 640x640 1 Stop, 24.2ms\n",
      "Speed: 9.0ms preprocess, 24.2ms inference, 8.7ms postprocess per image at shape (1, 3, 640, 640)\n",
      "Results saved to \u001b[1mruns\\predict\\custom_test\\yolov11n_custom_006\u001b[0m\n"
     ]
    }
   ],
   "source": [
    "# 📌 [8] 예측 실행 및 저장\n",
    "test_img = '../test/images/00014_00004_00020_png.rf.e3b35f3ca153fde99af4db4a67d2a564.jpg'\n",
    "pred = model.predict(\n",
    "    source=test_img,\n",
    "    conf=0.25,\n",
    "    save=True,\n",
    "    project='runs/predict/custom_test',\n",
    "    name=run_name,\n",
    "    exist_ok=True\n",
    ")"
   ]
  },
  {
   "cell_type": "code",
   "execution_count": 19,
   "id": "243b0c34-06a6-42c7-8e19-c27bbbffe94b",
   "metadata": {},
   "outputs": [
    {
     "data": {
      "text/plain": [
       "<Figure size 1200x1200 with 1 Axes>"
      ]
     },
     "metadata": {},
     "output_type": "display_data"
    }
   ],
   "source": [
    "# 📌 [9] 예측 결과 시각화 및 GT bbox와 비교 함수 추가\n",
    "def draw_boxes_with_gt(image_path, pred_results, gt_label_path, class_names):\n",
    "    img = cv2.imread(image_path)\n",
    "    ih, iw = img.shape[:2]\n",
    "\n",
    "    # GT 박스 (파란색)\n",
    "    with open(gt_label_path, 'r') as f:\n",
    "        gt_lines = f.readlines()\n",
    "\n",
    "    for line in gt_lines:\n",
    "        cls, x, y, w, h = map(float, line.strip().split())\n",
    "        x1 = int((x - w/2) * iw)\n",
    "        y1 = int((y - h/2) * ih)\n",
    "        x2 = int((x + w/2) * iw)\n",
    "        y2 = int((y + h/2) * ih)\n",
    "        cv2.rectangle(img, (x1,y1), (x2,y2), (255,0,0), 2)\n",
    "        cv2.putText(img, f\"GT: {class_names[int(cls)]}\", (x1, y1-5),\n",
    "                    cv2.FONT_HERSHEY_SIMPLEX, 0.5, (255,0,0), 2)\n",
    "\n",
    "    # 예측 박스 (초록색)\n",
    "    for r in pred_results:\n",
    "        boxes = r.boxes.xyxy.cpu().numpy().astype(int)\n",
    "        scores = r.boxes.conf.cpu().numpy()\n",
    "        classes = r.boxes.cls.cpu().numpy().astype(int)\n",
    "        for (x1,y1,x2,y2), conf, cls in zip(boxes, scores, classes):\n",
    "            label = f\"{class_names[cls]} {conf:.2f}\"\n",
    "            cv2.rectangle(img, (x1,y1), (x2,y2), (0,255,0), 2)\n",
    "            (tw, th), _ = cv2.getTextSize(label, cv2.FONT_HERSHEY_SIMPLEX, 0.5, 1)\n",
    "            cv2.rectangle(img, (x1, y1 - th - 5), (x1 + tw, y1), (0,255,0), -1)\n",
    "            cv2.putText(img, label, (x1, y1 - 5), cv2.FONT_HERSHEY_SIMPLEX, 0.5, (0,0,0), 1)\n",
    "\n",
    "    plt.figure(figsize=(12,12))\n",
    "    plt.imshow(cv2.cvtColor(img, cv2.COLOR_BGR2RGB))\n",
    "    plt.axis('off')\n",
    "    plt.title(\"예측 박스 (초록) 와 GT 박스 (파랑) 비교\")\n",
    "    plt.show()\n",
    "\n",
    "gt_label_for_test_img = '../test/labels/00014_00004_00020_png.rf.e3b35f3ca153fde99af4db4a67d2a564.txt'\n",
    "draw_boxes_with_gt(test_img, pred, gt_label_for_test_img, class_names)"
   ]
  },
  {
   "cell_type": "code",
   "execution_count": 20,
   "id": "b69592a2-63fd-4d85-b00d-0b89a4dc2214",
   "metadata": {},
   "outputs": [
    {
     "name": "stdout",
     "output_type": "stream",
     "text": [
      "Ultralytics 8.3.156  Python-3.11.9 torch-2.7.1+cu128 CPU (13th Gen Intel Core(TM) i7-13700HX)\n",
      "\n",
      "\u001b[34m\u001b[1mPyTorch:\u001b[0m starting from 'runs\\detect\\yolov11n_custom_006\\weights\\best.pt' with input shape (1, 3, 640, 640) BCHW and output shape(s) (1, 19, 8400) (5.2 MB)\n",
      "\n",
      "\u001b[34m\u001b[1mONNX:\u001b[0m starting export with onnx 1.17.0 opset 19...\n",
      "\u001b[34m\u001b[1mONNX:\u001b[0m slimming with onnxslim 0.1.57...\n",
      "\u001b[34m\u001b[1mONNX:\u001b[0m export success  2.8s, saved as 'runs\\detect\\yolov11n_custom_006\\weights\\best.onnx' (10.1 MB)\n",
      "\n",
      "Export complete (3.4s)\n",
      "Results saved to \u001b[1mD:\\Project\\PJT_07\\code\\runs\\detect\\yolov11n_custom_006\\weights\u001b[0m\n",
      "Predict:         yolo predict task=detect model=runs\\detect\\yolov11n_custom_006\\weights\\best.onnx imgsz=640  \n",
      "Validate:        yolo val task=detect model=runs\\detect\\yolov11n_custom_006\\weights\\best.onnx imgsz=640 data=data.yaml  \n",
      "Visualize:       https://netron.app\n",
      "🧠 ONNX 모델 저장 경로: runs\\detect\\yolov11n_custom_006\\weights\\best.onnx\n"
     ]
    }
   ],
   "source": [
    "# 📌 [10] ONNX 모델로 내보내기\n",
    "export_path = model.export(format='onnx')\n",
    "print(f\"🧠 ONNX 모델 저장 경로: {export_path}\")"
   ]
  },
  {
   "cell_type": "code",
   "execution_count": 21,
   "id": "adc611e0-7cff-4e02-bd20-ffb8719167f1",
   "metadata": {},
   "outputs": [
    {
     "name": "stdout",
     "output_type": "stream",
     "text": [
      "Loading runs\\detect\\yolov11n_custom_006\\weights\\best.onnx for ONNX Runtime inference...\n",
      "Using ONNX Runtime CUDAExecutionProvider\n",
      "\n",
      "0: 640x640 1 Stop, 35.6ms\n",
      "Speed: 9.2ms preprocess, 35.6ms inference, 6.9ms postprocess per image at shape (1, 3, 640, 640)\n"
     ]
    },
    {
     "data": {
      "text/plain": [
       "<Figure size 1200x1200 with 1 Axes>"
      ]
     },
     "metadata": {},
     "output_type": "display_data"
    }
   ],
   "source": [
    "# 📌 [11] ONNX 모델 기반 예측 시각화 (기존 코드 유지)\n",
    "onnx_model = YOLO(os.path.join('runs/detect', run_name, 'weights', 'best.onnx'))\n",
    "\n",
    "image = cv2.imread(test_img)\n",
    "image = cv2.cvtColor(image, cv2.COLOR_BGR2RGB)\n",
    "resized_image = cv2.resize(image, (640, 640))\n",
    "\n",
    "results_onnx = onnx_model(resized_image, imgsz=640)\n",
    "\n",
    "for result in results_onnx:\n",
    "    boxes = result.boxes\n",
    "    names = result.names\n",
    "    for box in boxes:\n",
    "        x1, y1, x2, y2 = map(int, box.xyxy[0])\n",
    "        conf = box.conf[0]\n",
    "        cls = int(box.cls[0])\n",
    "        label = f\"{names[cls]} {conf:.2f}\"\n",
    "\n",
    "        cv2.rectangle(image, (x1, y1), (x2, y2), (0, 255, 0), 2)\n",
    "        (text_width, text_height), _ = cv2.getTextSize(label, cv2.FONT_HERSHEY_SIMPLEX, 0.5, 1)\n",
    "        cv2.rectangle(image, (x1, y1 - text_height - 5), (x1 + text_width, y1), (0, 255, 0), -1)\n",
    "        cv2.putText(image, label, (x1, y1 - 5), cv2.FONT_HERSHEY_SIMPLEX, 0.5, (0, 0, 0), 1)\n",
    "\n",
    "plt.figure(figsize=(12, 12))\n",
    "plt.imshow(image)\n",
    "plt.axis('off')\n",
    "plt.title(\"🔍 ONNX 예측 결과\")\n",
    "plt.show()"
   ]
  },
  {
   "cell_type": "code",
   "execution_count": 22,
   "id": "0d0cb133-6f32-40bc-ab8e-3b85ab06bbe4",
   "metadata": {},
   "outputs": [],
   "source": [
    "# print(df.columns)"
   ]
  },
  {
   "cell_type": "code",
   "execution_count": 23,
   "id": "43de50a5-fe8e-47a9-aa63-d47d7b44788d",
   "metadata": {},
   "outputs": [
    {
     "name": "stdout",
     "output_type": "stream",
     "text": [
      "📈 훈련 결과 요약 (Epoch별 mAP):\n",
      "    metrics/mAP50(B)  metrics/mAP50-95(B)\n",
      "25           0.94011              0.80817\n",
      "26           0.94478              0.82029\n",
      "27           0.94713              0.81890\n",
      "28           0.94919              0.82441\n",
      "29           0.95288              0.82645\n"
     ]
    },
    {
     "data": {
      "text/plain": [
       "<Figure size 600x400 with 1 Axes>"
      ]
     },
     "metadata": {},
     "output_type": "display_data"
    },
    {
     "data": {
      "text/plain": [
       "<Figure size 1000x600 with 1 Axes>"
      ]
     },
     "metadata": {},
     "output_type": "display_data"
    },
    {
     "data": {
      "text/plain": [
       "<Figure size 1000x600 with 1 Axes>"
      ]
     },
     "metadata": {},
     "output_type": "display_data"
    },
    {
     "name": "stdout",
     "output_type": "stream",
     "text": [
      "🎯 최고 성능 Epoch:\n",
      "epoch                  30.00000\n",
      "metrics/mAP50(B)        0.95288\n",
      "metrics/mAP50-95(B)     0.82645\n",
      "Name: 29, dtype: float64\n"
     ]
    }
   ],
   "source": [
    "# 📌 [12] 훈련 결과 시각화 (mAP/Loss 등)\n",
    "results_csv = f'runs/detect/{run_name}/results.csv'\n",
    "\n",
    "if os.path.exists(results_csv):\n",
    "    df = pd.read_csv(results_csv)\n",
    "    print(f\"📈 훈련 결과 요약 (Epoch별 mAP):\\n{df[['metrics/mAP50(B)', 'metrics/mAP50-95(B)']].tail()}\")\n",
    "\n",
    "    # Box Loss 그래프\n",
    "    df[['train/box_loss', 'val/box_loss']].plot(title='Box Loss', figsize=(6, 4))\n",
    "    plt.savefig(f'runs/detect/{run_name}/box_loss.png')\n",
    "    plt.show()\n",
    "\n",
    "    # ✅ 수정: train/valid 전체 손실 시각화 (box, cls, dfl)\n",
    "    df[['train/box_loss', 'train/cls_loss', 'train/dfl_loss',\n",
    "        'val/box_loss', 'val/cls_loss', 'val/dfl_loss']].plot(figsize=(10,6))\n",
    "    plt.title('Train & Valid Losses (Box, Class, DFL)')\n",
    "    plt.savefig(f'runs/detect/{run_name}/losses.png')\n",
    "    plt.show()\n",
    "\n",
    "    # mAP, Precision, Recall 시각화\n",
    "    df[['metrics/mAP50(B)', 'metrics/precision(B)', 'metrics/recall(B)']].plot(figsize=(10,6))\n",
    "    plt.title('Metrics: mAP50, Precision, Recall')\n",
    "    plt.savefig(f'runs/detect/{run_name}/metrics.png')\n",
    "    plt.show()\n",
    "\n",
    "    best_idx = df['metrics/mAP50-95(B)'].idxmax()\n",
    "    print(\"🎯 최고 성능 Epoch:\")\n",
    "    print(df.loc[best_idx, ['epoch', 'metrics/mAP50(B)', 'metrics/mAP50-95(B)']])\n",
    "else:\n",
    "    print(\"📛 results.csv 없음 (훈련 실패?)\")"
   ]
  },
  {
   "cell_type": "code",
   "execution_count": 24,
   "id": "e5083cdc-633a-4e9b-92e2-e6940d5917a4",
   "metadata": {},
   "outputs": [
    {
     "name": "stdout",
     "output_type": "stream",
     "text": [
      "📦 결과 JSON 저장 완료: runs/detect/yolov11n_custom_006/results_summary.json\n"
     ]
    }
   ],
   "source": [
    "# 📌 [13] 결과를 JSON으로 저장\n",
    "def save_results_to_json(csv_path, json_path):\n",
    "    if os.path.exists(csv_path):\n",
    "        df = pd.read_csv(csv_path)\n",
    "        result_data = df.to_dict(orient='records')\n",
    "        with open(json_path, 'w') as f:\n",
    "            json.dump(result_data, f, indent=4)\n",
    "        print(f\"📦 결과 JSON 저장 완료: {json_path}\")\n",
    "\n",
    "save_results_to_json(\n",
    "    csv_path=f'runs/detect/{run_name}/results.csv',\n",
    "    json_path=f'runs/detect/{run_name}/results_summary.json'\n",
    ")"
   ]
  },
  {
   "cell_type": "code",
   "execution_count": null,
   "id": "d1237b8a-ff9b-4d44-9dce-66fa1c9ee5ba",
   "metadata": {},
   "outputs": [],
   "source": []
  },
  {
   "cell_type": "code",
   "execution_count": null,
   "id": "67a21761-1728-4cfb-8694-2853254c5d81",
   "metadata": {},
   "outputs": [],
   "source": []
  },
  {
   "cell_type": "code",
   "execution_count": null,
   "id": "15ac19c0-b5bc-48df-bf85-f275ae55f4e3",
   "metadata": {},
   "outputs": [],
   "source": []
  },
  {
   "cell_type": "code",
   "execution_count": null,
   "id": "37309006-8c9c-4421-816e-31016db0a180",
   "metadata": {},
   "outputs": [],
   "source": []
  },
  {
   "cell_type": "code",
   "execution_count": null,
   "id": "d552a7f1-da31-4f73-8614-4a984f92a319",
   "metadata": {},
   "outputs": [],
   "source": []
  }
 ],
 "metadata": {
  "kernelspec": {
   "display_name": "Python 3 (ipykernel)",
   "language": "python",
   "name": "python3"
  },
  "language_info": {
   "codemirror_mode": {
    "name": "ipython",
    "version": 3
   },
   "file_extension": ".py",
   "mimetype": "text/x-python",
   "name": "python",
   "nbconvert_exporter": "python",
   "pygments_lexer": "ipython3",
   "version": "3.11.9"
  }
 },
 "nbformat": 4,
 "nbformat_minor": 5
}
